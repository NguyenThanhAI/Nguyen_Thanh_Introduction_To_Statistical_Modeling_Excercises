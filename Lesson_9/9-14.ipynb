{
 "cells": [
  {
   "cell_type": "code",
   "execution_count": 1,
   "metadata": {},
   "outputs": [
    {
     "name": "stderr",
     "output_type": "stream",
     "text": [
      "Warning message:\n",
      "\"package 'statmod' was built under R version 3.6.3\""
     ]
    }
   ],
   "source": [
    "library(GLMsData)\n",
    "library(statmod)\n",
    "library(MASS)\n",
    "library(splines)"
   ]
  },
  {
   "cell_type": "code",
   "execution_count": 2,
   "metadata": {},
   "outputs": [],
   "source": [
    "data(germBin)"
   ]
  },
  {
   "cell_type": "code",
   "execution_count": 3,
   "metadata": {},
   "outputs": [
    {
     "name": "stdout",
     "output_type": "stream",
     "text": [
      "'data.frame':\t831 obs. of  3 variables:\n",
      " $ Extract: Factor w/ 2 levels \"Bean\",\"Cucumber\": 1 1 1 1 1 1 1 1 1 1 ...\n",
      " $ Seeds  : Factor w/ 2 levels \"OA73\",\"OA75\": 2 2 2 2 2 2 2 2 2 2 ...\n",
      " $ Result : Factor w/ 2 levels \"Germ\",\"NotGerm\": 1 1 1 1 1 1 1 1 1 1 ...\n"
     ]
    }
   ],
   "source": [
    "str(germBin)"
   ]
  },
  {
   "cell_type": "code",
   "execution_count": 6,
   "metadata": {},
   "outputs": [],
   "source": [
    "glm.1 <- glm(factor(Result) ~ Seeds + Extract, data=germBin, family = binomial(link=\"logit\"))"
   ]
  },
  {
   "cell_type": "code",
   "execution_count": 7,
   "metadata": {},
   "outputs": [
    {
     "data": {
      "text/html": [
       "<table>\n",
       "<thead><tr><th></th><th scope=col>Estimate</th><th scope=col>Std. Error</th><th scope=col>z value</th><th scope=col>Pr(&gt;|z|)</th></tr></thead>\n",
       "<tbody>\n",
       "\t<tr><th scope=row>(Intercept)</th><td> 0.7004832  </td><td>0.1507214   </td><td> 4.647538   </td><td>3.359209e-06</td></tr>\n",
       "\t<tr><th scope=row>SeedsOA75</th><td>-0.2704511  </td><td>0.1547056   </td><td>-1.748166   </td><td>8.043533e-02</td></tr>\n",
       "\t<tr><th scope=row>ExtractCucumber</th><td>-1.0647498  </td><td>0.1442142   </td><td>-7.383116   </td><td>1.546275e-13</td></tr>\n",
       "</tbody>\n",
       "</table>\n"
      ],
      "text/latex": [
       "\\begin{tabular}{r|llll}\n",
       "  & Estimate & Std. Error & z value & Pr(>\\textbar{}z\\textbar{})\\\\\n",
       "\\hline\n",
       "\t(Intercept) &  0.7004832   & 0.1507214    &  4.647538    & 3.359209e-06\\\\\n",
       "\tSeedsOA75 & -0.2704511   & 0.1547056    & -1.748166    & 8.043533e-02\\\\\n",
       "\tExtractCucumber & -1.0647498   & 0.1442142    & -7.383116    & 1.546275e-13\\\\\n",
       "\\end{tabular}\n"
      ],
      "text/markdown": [
       "\n",
       "| <!--/--> | Estimate | Std. Error | z value | Pr(>|z|) |\n",
       "|---|---|---|---|---|\n",
       "| (Intercept) |  0.7004832   | 0.1507214    |  4.647538    | 3.359209e-06 |\n",
       "| SeedsOA75 | -0.2704511   | 0.1547056    | -1.748166    | 8.043533e-02 |\n",
       "| ExtractCucumber | -1.0647498   | 0.1442142    | -7.383116    | 1.546275e-13 |\n",
       "\n"
      ],
      "text/plain": [
       "                Estimate   Std. Error z value   Pr(>|z|)    \n",
       "(Intercept)      0.7004832 0.1507214   4.647538 3.359209e-06\n",
       "SeedsOA75       -0.2704511 0.1547056  -1.748166 8.043533e-02\n",
       "ExtractCucumber -1.0647498 0.1442142  -7.383116 1.546275e-13"
      ]
     },
     "metadata": {},
     "output_type": "display_data"
    }
   ],
   "source": [
    "coef(summary(glm.1))"
   ]
  },
  {
   "cell_type": "code",
   "execution_count": 9,
   "metadata": {},
   "outputs": [
    {
     "data": {
      "text/html": [
       "1.31960054183704"
      ],
      "text/latex": [
       "1.31960054183704"
      ],
      "text/markdown": [
       "1.31960054183704"
      ],
      "text/plain": [
       "[1] 1.319601"
      ]
     },
     "metadata": {},
     "output_type": "display_data"
    }
   ],
   "source": [
    "deviance(glm.1) / df.residual(glm.1)"
   ]
  }
 ],
 "metadata": {
  "kernelspec": {
   "display_name": "R",
   "language": "R",
   "name": "ir"
  },
  "language_info": {
   "codemirror_mode": "r",
   "file_extension": ".r",
   "mimetype": "text/x-r-source",
   "name": "R",
   "pygments_lexer": "r",
   "version": "3.6.1"
  },
  "orig_nbformat": 4
 },
 "nbformat": 4,
 "nbformat_minor": 2
}
