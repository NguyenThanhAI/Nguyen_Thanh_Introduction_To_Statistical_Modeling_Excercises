{
 "cells": [
  {
   "cell_type": "code",
   "execution_count": 1,
   "metadata": {},
   "outputs": [],
   "source": [
    "beta <- c(-6.949, 0.805, 0.161, 0.332, 0.116)\n",
    "se.beta <- c(0.377, 0.0444, 0.113, 0.0393, 0.0204)"
   ]
  },
  {
   "cell_type": "markdown",
   "metadata": {},
   "source": [
    "$$\\begin{cases} y_i \\sim \\mathrm{Bin}(\\mu_i) \\\\ \\eta = -6.949 + 0.805 \\mathrm{Age} + 0.161 \\mathrm{Sex} + 0.332 \\mathrm{BMI} + 0.116 \\mathrm{AHI} \\end{cases}$$"
   ]
  },
  {
   "cell_type": "code",
   "execution_count": 2,
   "metadata": {},
   "outputs": [],
   "source": [
    "wald.stat <- beta/se.beta"
   ]
  },
  {
   "cell_type": "code",
   "execution_count": 3,
   "metadata": {},
   "outputs": [
    {
     "data": {
      "text/html": [
       "<ol class=list-inline>\n",
       "\t<li>-18.4323607427056</li>\n",
       "\t<li>18.1306306306306</li>\n",
       "\t<li>1.42477876106195</li>\n",
       "\t<li>8.44783715012723</li>\n",
       "\t<li>5.68627450980392</li>\n",
       "</ol>\n"
      ],
      "text/latex": [
       "\\begin{enumerate*}\n",
       "\\item -18.4323607427056\n",
       "\\item 18.1306306306306\n",
       "\\item 1.42477876106195\n",
       "\\item 8.44783715012723\n",
       "\\item 5.68627450980392\n",
       "\\end{enumerate*}\n"
      ],
      "text/markdown": [
       "1. -18.4323607427056\n",
       "2. 18.1306306306306\n",
       "3. 1.42477876106195\n",
       "4. 8.44783715012723\n",
       "5. 5.68627450980392\n",
       "\n",
       "\n"
      ],
      "text/plain": [
       "[1] -18.432361  18.130631   1.424779   8.447837   5.686275"
      ]
     },
     "metadata": {},
     "output_type": "display_data"
    }
   ],
   "source": [
    "wald.stat"
   ]
  },
  {
   "cell_type": "code",
   "execution_count": 4,
   "metadata": {},
   "outputs": [
    {
     "data": {
      "text/html": [
       "<ol class=list-inline>\n",
       "\t<li>7.2259926115375e-76</li>\n",
       "\t<li>1.82652414610212e-73</li>\n",
       "\t<li>0.154221163609714</li>\n",
       "\t<li>2.96748913213239e-17</li>\n",
       "\t<li>1.2984062861332e-08</li>\n",
       "</ol>\n"
      ],
      "text/latex": [
       "\\begin{enumerate*}\n",
       "\\item 7.2259926115375e-76\n",
       "\\item 1.82652414610212e-73\n",
       "\\item 0.154221163609714\n",
       "\\item 2.96748913213239e-17\n",
       "\\item 1.2984062861332e-08\n",
       "\\end{enumerate*}\n"
      ],
      "text/markdown": [
       "1. 7.2259926115375e-76\n",
       "2. 1.82652414610212e-73\n",
       "3. 0.154221163609714\n",
       "4. 2.96748913213239e-17\n",
       "5. 1.2984062861332e-08\n",
       "\n",
       "\n"
      ],
      "text/plain": [
       "[1] 7.225993e-76 1.826524e-73 1.542212e-01 2.967489e-17 1.298406e-08"
      ]
     },
     "metadata": {},
     "output_type": "display_data"
    }
   ],
   "source": [
    "2*pnorm(abs(wald.stat), lower.tail = FALSE)"
   ]
  },
  {
   "cell_type": "code",
   "execution_count": 5,
   "metadata": {},
   "outputs": [],
   "source": [
    "z.star <- qnorm(0.975)\n",
    "ci.lo <- beta - z.star*se.beta\n",
    "ci.hi <- beta + z.star*se.beta"
   ]
  },
  {
   "cell_type": "code",
   "execution_count": 6,
   "metadata": {},
   "outputs": [
    {
     "data": {
      "text/html": [
       "<ol class=list-inline>\n",
       "\t<li>-7.6879064221716</li>\n",
       "\t<li>0.717977599086422</li>\n",
       "\t<li>-0.0604759302530261</li>\n",
       "\t<li>0.254973415407576</li>\n",
       "\t<li>0.0760167347153829</li>\n",
       "</ol>\n"
      ],
      "text/latex": [
       "\\begin{enumerate*}\n",
       "\\item -7.6879064221716\n",
       "\\item 0.717977599086422\n",
       "\\item -0.0604759302530261\n",
       "\\item 0.254973415407576\n",
       "\\item 0.0760167347153829\n",
       "\\end{enumerate*}\n"
      ],
      "text/markdown": [
       "1. -7.6879064221716\n",
       "2. 0.717977599086422\n",
       "3. -0.0604759302530261\n",
       "4. 0.254973415407576\n",
       "5. 0.0760167347153829\n",
       "\n",
       "\n"
      ],
      "text/plain": [
       "[1] -7.68790642  0.71797760 -0.06047593  0.25497342  0.07601673"
      ]
     },
     "metadata": {},
     "output_type": "display_data"
    },
    {
     "data": {
      "text/html": [
       "<ol class=list-inline>\n",
       "\t<li>-6.2100935778284</li>\n",
       "\t<li>0.892022400913578</li>\n",
       "\t<li>0.382475930253026</li>\n",
       "\t<li>0.409026584592424</li>\n",
       "\t<li>0.155983265284617</li>\n",
       "</ol>\n"
      ],
      "text/latex": [
       "\\begin{enumerate*}\n",
       "\\item -6.2100935778284\n",
       "\\item 0.892022400913578\n",
       "\\item 0.382475930253026\n",
       "\\item 0.409026584592424\n",
       "\\item 0.155983265284617\n",
       "\\end{enumerate*}\n"
      ],
      "text/markdown": [
       "1. -6.2100935778284\n",
       "2. 0.892022400913578\n",
       "3. 0.382475930253026\n",
       "4. 0.409026584592424\n",
       "5. 0.155983265284617\n",
       "\n",
       "\n"
      ],
      "text/plain": [
       "[1] -6.2100936  0.8920224  0.3824759  0.4090266  0.1559833"
      ]
     },
     "metadata": {},
     "output_type": "display_data"
    }
   ],
   "source": [
    "ci.lo\n",
    "ci.hi"
   ]
  }
 ],
 "metadata": {
  "kernelspec": {
   "display_name": "R",
   "language": "R",
   "name": "ir"
  },
  "language_info": {
   "codemirror_mode": "r",
   "file_extension": ".r",
   "mimetype": "text/x-r-source",
   "name": "R",
   "pygments_lexer": "r",
   "version": "3.6.1"
  },
  "orig_nbformat": 4
 },
 "nbformat": 4,
 "nbformat_minor": 2
}
