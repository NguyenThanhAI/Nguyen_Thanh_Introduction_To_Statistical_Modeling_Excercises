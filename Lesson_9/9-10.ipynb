{
 "cells": [
  {
   "cell_type": "code",
   "execution_count": 1,
   "metadata": {},
   "outputs": [
    {
     "name": "stderr",
     "output_type": "stream",
     "text": [
      "Warning message:\n",
      "\"package 'statmod' was built under R version 3.6.3\""
     ]
    }
   ],
   "source": [
    "library(GLMsData)\n",
    "library(statmod)\n",
    "library(MASS)\n",
    "library(splines)"
   ]
  },
  {
   "cell_type": "code",
   "execution_count": 2,
   "metadata": {},
   "outputs": [],
   "source": [
    "data(belection)"
   ]
  },
  {
   "cell_type": "code",
   "execution_count": 3,
   "metadata": {},
   "outputs": [
    {
     "name": "stdout",
     "output_type": "stream",
     "text": [
      "'data.frame':\t55 obs. of  4 variables:\n",
      " $ Region : Factor w/ 10 levels \"EastAnglia\",\"EastMidlands\",..: 6 7 3 1 2 8 5 9 10 4 ...\n",
      " $ Party  : Factor w/ 5 levels \"Cons\",\"Green\",..: 1 1 1 1 1 1 1 1 1 1 ...\n",
      " $ Females: int  8 3 8 1 3 2 9 8 3 8 ...\n",
      " $ Males  : int  101 45 76 19 39 36 63 50 51 65 ...\n"
     ]
    }
   ],
   "source": [
    "str(belection)"
   ]
  },
  {
   "cell_type": "code",
   "execution_count": 17,
   "metadata": {},
   "outputs": [
    {
     "data": {
      "text/html": [
       "<table>\n",
       "<thead><tr><th scope=col>Region</th><th scope=col>Party</th><th scope=col>Females</th><th scope=col>Males</th></tr></thead>\n",
       "<tbody>\n",
       "\t<tr><td>SouthEast    </td><td>Cons         </td><td> 8           </td><td>101          </td></tr>\n",
       "\t<tr><td>SouthWest    </td><td>Cons         </td><td> 3           </td><td> 45          </td></tr>\n",
       "\t<tr><td>GreaterLondon</td><td>Cons         </td><td> 8           </td><td> 76          </td></tr>\n",
       "\t<tr><td>EastAnglia   </td><td>Cons         </td><td> 1           </td><td> 19          </td></tr>\n",
       "\t<tr><td>EastMidlands </td><td>Cons         </td><td> 3           </td><td> 39          </td></tr>\n",
       "\t<tr><td>Wales        </td><td>Cons         </td><td> 2           </td><td> 36          </td></tr>\n",
       "\t<tr><td>Scotland     </td><td>Cons         </td><td> 9           </td><td> 63          </td></tr>\n",
       "\t<tr><td>WestMidlands </td><td>Cons         </td><td> 8           </td><td> 50          </td></tr>\n",
       "\t<tr><td>YorksHumbers </td><td>Cons         </td><td> 3           </td><td> 51          </td></tr>\n",
       "\t<tr><td>NorthWest    </td><td>Cons         </td><td> 8           </td><td> 65          </td></tr>\n",
       "\t<tr><td>NorthWest    </td><td>Cons         </td><td> 4           </td><td> 32          </td></tr>\n",
       "\t<tr><td>SouthEast    </td><td>Labour       </td><td>25           </td><td> 84          </td></tr>\n",
       "\t<tr><td>SouthWest    </td><td>Labour       </td><td>12           </td><td> 36          </td></tr>\n",
       "\t<tr><td>GreaterLondon</td><td>Labour       </td><td>27           </td><td> 57          </td></tr>\n",
       "\t<tr><td>EastAnglia   </td><td>Labour       </td><td> 4           </td><td> 16          </td></tr>\n",
       "\t<tr><td>EastMidlands </td><td>Labour       </td><td> 7           </td><td> 35          </td></tr>\n",
       "\t<tr><td>Wales        </td><td>Labour       </td><td> 4           </td><td> 34          </td></tr>\n",
       "\t<tr><td>Scotland     </td><td>Labour       </td><td> 5           </td><td> 67          </td></tr>\n",
       "\t<tr><td>WestMidlands </td><td>Labour       </td><td>15           </td><td> 43          </td></tr>\n",
       "\t<tr><td>YorksHumbers </td><td>Labour       </td><td> 9           </td><td> 45          </td></tr>\n",
       "\t<tr><td>NorthWest    </td><td>Labour       </td><td>16           </td><td> 57          </td></tr>\n",
       "\t<tr><td>NorthWest    </td><td>Labour       </td><td> 2           </td><td> 34          </td></tr>\n",
       "\t<tr><td>SouthEast    </td><td>LibDem       </td><td>28           </td><td> 81          </td></tr>\n",
       "\t<tr><td>SouthWest    </td><td>LibDem       </td><td>13           </td><td> 35          </td></tr>\n",
       "\t<tr><td>GreaterLondon</td><td>LibDem       </td><td>19           </td><td> 63          </td></tr>\n",
       "\t<tr><td>EastAnglia   </td><td>LibDem       </td><td> 4           </td><td> 16          </td></tr>\n",
       "\t<tr><td>EastMidlands </td><td>LibDem       </td><td> 6           </td><td> 36          </td></tr>\n",
       "\t<tr><td>Wales        </td><td>LibDem       </td><td> 8           </td><td> 30          </td></tr>\n",
       "\t<tr><td>Scotland     </td><td>LibDem       </td><td>21           </td><td> 51          </td></tr>\n",
       "\t<tr><td>WestMidlands </td><td>LibDem       </td><td> 9           </td><td> 49          </td></tr>\n",
       "\t<tr><td>YorksHumbers </td><td>LibDem       </td><td>12           </td><td> 42          </td></tr>\n",
       "\t<tr><td>NorthWest    </td><td>LibDem       </td><td>12           </td><td> 61          </td></tr>\n",
       "\t<tr><td>NorthWest    </td><td>LibDem       </td><td> 4           </td><td> 32          </td></tr>\n",
       "\t<tr><td>SouthEast    </td><td>Green        </td><td>15           </td><td> 42          </td></tr>\n",
       "\t<tr><td>SouthWest    </td><td>Green        </td><td> 6           </td><td> 21          </td></tr>\n",
       "\t<tr><td>GreaterLondon</td><td>Green        </td><td>13           </td><td> 37          </td></tr>\n",
       "\t<tr><td>EastAnglia   </td><td>Green        </td><td> 4           </td><td>  6          </td></tr>\n",
       "\t<tr><td>EastMidlands </td><td>Green        </td><td> 3           </td><td>  8          </td></tr>\n",
       "\t<tr><td>Wales        </td><td>Green        </td><td> 0           </td><td>  7          </td></tr>\n",
       "\t<tr><td>Scotland     </td><td>Green        </td><td> 6           </td><td> 14          </td></tr>\n",
       "\t<tr><td>WestMidlands </td><td>Green        </td><td> 4           </td><td> 11          </td></tr>\n",
       "\t<tr><td>YorksHumbers </td><td>Green        </td><td> 3           </td><td> 22          </td></tr>\n",
       "\t<tr><td>NorthWest    </td><td>Green        </td><td> 5           </td><td> 17          </td></tr>\n",
       "\t<tr><td>NorthWest    </td><td>Green        </td><td> 1           </td><td>  7          </td></tr>\n",
       "\t<tr><td>SouthEast    </td><td>Other        </td><td>27           </td><td> 86          </td></tr>\n",
       "\t<tr><td>SouthWest    </td><td>Other        </td><td>11           </td><td> 61          </td></tr>\n",
       "\t<tr><td>GreaterLondon</td><td>Other        </td><td>21           </td><td> 93          </td></tr>\n",
       "\t<tr><td>EastAnglia   </td><td>Other        </td><td> 8           </td><td> 23          </td></tr>\n",
       "\t<tr><td>EastMidlands </td><td>Other        </td><td> 7           </td><td> 19          </td></tr>\n",
       "\t<tr><td>Wales        </td><td>Other        </td><td>10           </td><td> 44          </td></tr>\n",
       "\t<tr><td>Scotland     </td><td>Other        </td><td>17           </td><td> 87          </td></tr>\n",
       "\t<tr><td>WestMidlands </td><td>Other        </td><td> 5           </td><td> 30          </td></tr>\n",
       "\t<tr><td>YorksHumbers </td><td>Other        </td><td> 6           </td><td> 22          </td></tr>\n",
       "\t<tr><td>NorthWest    </td><td>Other        </td><td>20           </td><td> 75          </td></tr>\n",
       "\t<tr><td>NorthWest    </td><td>Other        </td><td> 3           </td><td>  6          </td></tr>\n",
       "</tbody>\n",
       "</table>\n"
      ],
      "text/latex": [
       "\\begin{tabular}{r|llll}\n",
       " Region & Party & Females & Males\\\\\n",
       "\\hline\n",
       "\t SouthEast     & Cons          &  8            & 101          \\\\\n",
       "\t SouthWest     & Cons          &  3            &  45          \\\\\n",
       "\t GreaterLondon & Cons          &  8            &  76          \\\\\n",
       "\t EastAnglia    & Cons          &  1            &  19          \\\\\n",
       "\t EastMidlands  & Cons          &  3            &  39          \\\\\n",
       "\t Wales         & Cons          &  2            &  36          \\\\\n",
       "\t Scotland      & Cons          &  9            &  63          \\\\\n",
       "\t WestMidlands  & Cons          &  8            &  50          \\\\\n",
       "\t YorksHumbers  & Cons          &  3            &  51          \\\\\n",
       "\t NorthWest     & Cons          &  8            &  65          \\\\\n",
       "\t NorthWest     & Cons          &  4            &  32          \\\\\n",
       "\t SouthEast     & Labour        & 25            &  84          \\\\\n",
       "\t SouthWest     & Labour        & 12            &  36          \\\\\n",
       "\t GreaterLondon & Labour        & 27            &  57          \\\\\n",
       "\t EastAnglia    & Labour        &  4            &  16          \\\\\n",
       "\t EastMidlands  & Labour        &  7            &  35          \\\\\n",
       "\t Wales         & Labour        &  4            &  34          \\\\\n",
       "\t Scotland      & Labour        &  5            &  67          \\\\\n",
       "\t WestMidlands  & Labour        & 15            &  43          \\\\\n",
       "\t YorksHumbers  & Labour        &  9            &  45          \\\\\n",
       "\t NorthWest     & Labour        & 16            &  57          \\\\\n",
       "\t NorthWest     & Labour        &  2            &  34          \\\\\n",
       "\t SouthEast     & LibDem        & 28            &  81          \\\\\n",
       "\t SouthWest     & LibDem        & 13            &  35          \\\\\n",
       "\t GreaterLondon & LibDem        & 19            &  63          \\\\\n",
       "\t EastAnglia    & LibDem        &  4            &  16          \\\\\n",
       "\t EastMidlands  & LibDem        &  6            &  36          \\\\\n",
       "\t Wales         & LibDem        &  8            &  30          \\\\\n",
       "\t Scotland      & LibDem        & 21            &  51          \\\\\n",
       "\t WestMidlands  & LibDem        &  9            &  49          \\\\\n",
       "\t YorksHumbers  & LibDem        & 12            &  42          \\\\\n",
       "\t NorthWest     & LibDem        & 12            &  61          \\\\\n",
       "\t NorthWest     & LibDem        &  4            &  32          \\\\\n",
       "\t SouthEast     & Green         & 15            &  42          \\\\\n",
       "\t SouthWest     & Green         &  6            &  21          \\\\\n",
       "\t GreaterLondon & Green         & 13            &  37          \\\\\n",
       "\t EastAnglia    & Green         &  4            &   6          \\\\\n",
       "\t EastMidlands  & Green         &  3            &   8          \\\\\n",
       "\t Wales         & Green         &  0            &   7          \\\\\n",
       "\t Scotland      & Green         &  6            &  14          \\\\\n",
       "\t WestMidlands  & Green         &  4            &  11          \\\\\n",
       "\t YorksHumbers  & Green         &  3            &  22          \\\\\n",
       "\t NorthWest     & Green         &  5            &  17          \\\\\n",
       "\t NorthWest     & Green         &  1            &   7          \\\\\n",
       "\t SouthEast     & Other         & 27            &  86          \\\\\n",
       "\t SouthWest     & Other         & 11            &  61          \\\\\n",
       "\t GreaterLondon & Other         & 21            &  93          \\\\\n",
       "\t EastAnglia    & Other         &  8            &  23          \\\\\n",
       "\t EastMidlands  & Other         &  7            &  19          \\\\\n",
       "\t Wales         & Other         & 10            &  44          \\\\\n",
       "\t Scotland      & Other         & 17            &  87          \\\\\n",
       "\t WestMidlands  & Other         &  5            &  30          \\\\\n",
       "\t YorksHumbers  & Other         &  6            &  22          \\\\\n",
       "\t NorthWest     & Other         & 20            &  75          \\\\\n",
       "\t NorthWest     & Other         &  3            &   6          \\\\\n",
       "\\end{tabular}\n"
      ],
      "text/markdown": [
       "\n",
       "| Region | Party | Females | Males |\n",
       "|---|---|---|---|\n",
       "| SouthEast     | Cons          |  8            | 101           |\n",
       "| SouthWest     | Cons          |  3            |  45           |\n",
       "| GreaterLondon | Cons          |  8            |  76           |\n",
       "| EastAnglia    | Cons          |  1            |  19           |\n",
       "| EastMidlands  | Cons          |  3            |  39           |\n",
       "| Wales         | Cons          |  2            |  36           |\n",
       "| Scotland      | Cons          |  9            |  63           |\n",
       "| WestMidlands  | Cons          |  8            |  50           |\n",
       "| YorksHumbers  | Cons          |  3            |  51           |\n",
       "| NorthWest     | Cons          |  8            |  65           |\n",
       "| NorthWest     | Cons          |  4            |  32           |\n",
       "| SouthEast     | Labour        | 25            |  84           |\n",
       "| SouthWest     | Labour        | 12            |  36           |\n",
       "| GreaterLondon | Labour        | 27            |  57           |\n",
       "| EastAnglia    | Labour        |  4            |  16           |\n",
       "| EastMidlands  | Labour        |  7            |  35           |\n",
       "| Wales         | Labour        |  4            |  34           |\n",
       "| Scotland      | Labour        |  5            |  67           |\n",
       "| WestMidlands  | Labour        | 15            |  43           |\n",
       "| YorksHumbers  | Labour        |  9            |  45           |\n",
       "| NorthWest     | Labour        | 16            |  57           |\n",
       "| NorthWest     | Labour        |  2            |  34           |\n",
       "| SouthEast     | LibDem        | 28            |  81           |\n",
       "| SouthWest     | LibDem        | 13            |  35           |\n",
       "| GreaterLondon | LibDem        | 19            |  63           |\n",
       "| EastAnglia    | LibDem        |  4            |  16           |\n",
       "| EastMidlands  | LibDem        |  6            |  36           |\n",
       "| Wales         | LibDem        |  8            |  30           |\n",
       "| Scotland      | LibDem        | 21            |  51           |\n",
       "| WestMidlands  | LibDem        |  9            |  49           |\n",
       "| YorksHumbers  | LibDem        | 12            |  42           |\n",
       "| NorthWest     | LibDem        | 12            |  61           |\n",
       "| NorthWest     | LibDem        |  4            |  32           |\n",
       "| SouthEast     | Green         | 15            |  42           |\n",
       "| SouthWest     | Green         |  6            |  21           |\n",
       "| GreaterLondon | Green         | 13            |  37           |\n",
       "| EastAnglia    | Green         |  4            |   6           |\n",
       "| EastMidlands  | Green         |  3            |   8           |\n",
       "| Wales         | Green         |  0            |   7           |\n",
       "| Scotland      | Green         |  6            |  14           |\n",
       "| WestMidlands  | Green         |  4            |  11           |\n",
       "| YorksHumbers  | Green         |  3            |  22           |\n",
       "| NorthWest     | Green         |  5            |  17           |\n",
       "| NorthWest     | Green         |  1            |   7           |\n",
       "| SouthEast     | Other         | 27            |  86           |\n",
       "| SouthWest     | Other         | 11            |  61           |\n",
       "| GreaterLondon | Other         | 21            |  93           |\n",
       "| EastAnglia    | Other         |  8            |  23           |\n",
       "| EastMidlands  | Other         |  7            |  19           |\n",
       "| Wales         | Other         | 10            |  44           |\n",
       "| Scotland      | Other         | 17            |  87           |\n",
       "| WestMidlands  | Other         |  5            |  30           |\n",
       "| YorksHumbers  | Other         |  6            |  22           |\n",
       "| NorthWest     | Other         | 20            |  75           |\n",
       "| NorthWest     | Other         |  3            |   6           |\n",
       "\n"
      ],
      "text/plain": [
       "   Region        Party  Females Males\n",
       "1  SouthEast     Cons    8      101  \n",
       "2  SouthWest     Cons    3       45  \n",
       "3  GreaterLondon Cons    8       76  \n",
       "4  EastAnglia    Cons    1       19  \n",
       "5  EastMidlands  Cons    3       39  \n",
       "6  Wales         Cons    2       36  \n",
       "7  Scotland      Cons    9       63  \n",
       "8  WestMidlands  Cons    8       50  \n",
       "9  YorksHumbers  Cons    3       51  \n",
       "10 NorthWest     Cons    8       65  \n",
       "11 NorthWest     Cons    4       32  \n",
       "12 SouthEast     Labour 25       84  \n",
       "13 SouthWest     Labour 12       36  \n",
       "14 GreaterLondon Labour 27       57  \n",
       "15 EastAnglia    Labour  4       16  \n",
       "16 EastMidlands  Labour  7       35  \n",
       "17 Wales         Labour  4       34  \n",
       "18 Scotland      Labour  5       67  \n",
       "19 WestMidlands  Labour 15       43  \n",
       "20 YorksHumbers  Labour  9       45  \n",
       "21 NorthWest     Labour 16       57  \n",
       "22 NorthWest     Labour  2       34  \n",
       "23 SouthEast     LibDem 28       81  \n",
       "24 SouthWest     LibDem 13       35  \n",
       "25 GreaterLondon LibDem 19       63  \n",
       "26 EastAnglia    LibDem  4       16  \n",
       "27 EastMidlands  LibDem  6       36  \n",
       "28 Wales         LibDem  8       30  \n",
       "29 Scotland      LibDem 21       51  \n",
       "30 WestMidlands  LibDem  9       49  \n",
       "31 YorksHumbers  LibDem 12       42  \n",
       "32 NorthWest     LibDem 12       61  \n",
       "33 NorthWest     LibDem  4       32  \n",
       "34 SouthEast     Green  15       42  \n",
       "35 SouthWest     Green   6       21  \n",
       "36 GreaterLondon Green  13       37  \n",
       "37 EastAnglia    Green   4        6  \n",
       "38 EastMidlands  Green   3        8  \n",
       "39 Wales         Green   0        7  \n",
       "40 Scotland      Green   6       14  \n",
       "41 WestMidlands  Green   4       11  \n",
       "42 YorksHumbers  Green   3       22  \n",
       "43 NorthWest     Green   5       17  \n",
       "44 NorthWest     Green   1        7  \n",
       "45 SouthEast     Other  27       86  \n",
       "46 SouthWest     Other  11       61  \n",
       "47 GreaterLondon Other  21       93  \n",
       "48 EastAnglia    Other   8       23  \n",
       "49 EastMidlands  Other   7       19  \n",
       "50 Wales         Other  10       44  \n",
       "51 Scotland      Other  17       87  \n",
       "52 WestMidlands  Other   5       30  \n",
       "53 YorksHumbers  Other   6       22  \n",
       "54 NorthWest     Other  20       75  \n",
       "55 NorthWest     Other   3        6  "
      ]
     },
     "metadata": {},
     "output_type": "display_data"
    }
   ],
   "source": [
    "belection"
   ]
  },
  {
   "cell_type": "code",
   "execution_count": 4,
   "metadata": {},
   "outputs": [
    {
     "data": {
      "image/png": "[encoded data removed]",
      "text/plain": [
       "plot without title"
      ]
     },
     "metadata": {},
     "output_type": "display_data"
    }
   ],
   "source": [
    "plot(Females / (Males + Females) ~ Party, data=belection)"
   ]
  },
  {
   "cell_type": "code",
   "execution_count": 5,
   "metadata": {},
   "outputs": [
    {
     "data": {
      "image/png": "[encoded data removed]",
      "text/plain": [
       "plot without title"
      ]
     },
     "metadata": {},
     "output_type": "display_data"
    }
   ],
   "source": [
    "plot(Females / (Males + Females) ~ Region, data=belection)"
   ]
  },
  {
   "cell_type": "code",
   "execution_count": 9,
   "metadata": {},
   "outputs": [],
   "source": [
    "glm.1 <- glm(cbind(Females, Males) ~ Party * Region, data=belection, family = binomial(link=\"logit\"))"
   ]
  },
  {
   "cell_type": "code",
   "execution_count": 10,
   "metadata": {},
   "outputs": [
    {
     "data": {
      "text/html": [
       "<table>\n",
       "<thead><tr><th></th><th scope=col>Estimate</th><th scope=col>Std. Error</th><th scope=col>z value</th><th scope=col>Pr(&gt;|z|)</th></tr></thead>\n",
       "<tbody>\n",
       "\t<tr><th scope=row>(Intercept)</th><td> -2.94443898</td><td>   1.025978 </td><td>-2.869884119</td><td>0.004106223 </td></tr>\n",
       "\t<tr><th scope=row>PartyGreen</th><td>  2.53897387</td><td>   1.212146 </td><td> 2.094610381</td><td>0.036205642 </td></tr>\n",
       "\t<tr><th scope=row>PartyLabour</th><td>  1.55814462</td><td>   1.168388 </td><td> 1.333584403</td><td>0.182340097 </td></tr>\n",
       "\t<tr><th scope=row>PartyLibDem</th><td>  1.55814462</td><td>   1.168388 </td><td> 1.333584403</td><td>0.182340097 </td></tr>\n",
       "\t<tr><th scope=row>PartyOther</th><td>  1.88838630</td><td>   1.105038 </td><td> 1.708887514</td><td>0.087471788 </td></tr>\n",
       "\t<tr><th scope=row>RegionEastMidlands</th><td>  0.37948962</td><td>   1.188110 </td><td> 0.319406070</td><td>0.749418609 </td></tr>\n",
       "\t<tr><th scope=row>RegionGreaterLondon</th><td>  0.69314718</td><td>   1.091233 </td><td> 0.635196312</td><td>0.525300389 </td></tr>\n",
       "\t<tr><th scope=row>RegionNorthWest</th><td>  0.85463465</td><td>   1.070642 </td><td> 0.798245061</td><td>0.424728293 </td></tr>\n",
       "\t<tr><th scope=row>RegionScotland</th><td>  0.99852883</td><td>   1.086101 </td><td> 0.919370015</td><td>0.357902067 </td></tr>\n",
       "\t<tr><th scope=row>RegionSouthEast</th><td>  0.40876000</td><td>   1.089740 </td><td> 0.375098761</td><td>0.707587018 </td></tr>\n",
       "\t<tr><th scope=row>RegionSouthWest</th><td>  0.23638878</td><td>   1.186671 </td><td> 0.199203365</td><td>0.842103668 </td></tr>\n",
       "\t<tr><th scope=row>RegionWales</th><td>  0.05406722</td><td>   1.257143 </td><td> 0.043008001</td><td>0.965695156 </td></tr>\n",
       "\t<tr><th scope=row>RegionWestMidlands</th><td>  1.11185752</td><td>   1.094364 </td><td> 1.015985516</td><td>0.309636284 </td></tr>\n",
       "\t<tr><th scope=row>RegionYorksHumbers</th><td>  0.11122564</td><td>   1.185569 </td><td> 0.093816284</td><td>0.925255096 </td></tr>\n",
       "\t<tr><th scope=row>PartyGreen:RegionEastMidlands</th><td> -0.95485377</td><td>   1.512153 </td><td>-0.631453249</td><td>0.527744208 </td></tr>\n",
       "\t<tr><th scope=row>PartyLabour:RegionEastMidlands</th><td> -0.60263317</td><td>   1.376784 </td><td>-0.437710724</td><td>0.661595995 </td></tr>\n",
       "\t<tr><th scope=row>PartyLibDem:RegionEastMidlands</th><td> -0.78495473</td><td>   1.385117 </td><td>-0.566706255</td><td>0.570913770 </td></tr>\n",
       "\t<tr><th scope=row>PartyOther:RegionEastMidlands</th><td> -0.32196578</td><td>   1.332506 </td><td>-0.241624215</td><td>0.809071357 </td></tr>\n",
       "\t<tr><th scope=row>PartyGreen:RegionGreaterLondon</th><td> -1.33365063</td><td>   1.308207 </td><td>-1.019449031</td><td>0.307989839 </td></tr>\n",
       "\t<tr><th scope=row>PartyLabour:RegionGreaterLondon</th><td> -0.05406722</td><td>   1.248147 </td><td>-0.043317999</td><td>0.965448043 </td></tr>\n",
       "\t<tr><th scope=row>PartyLibDem:RegionGreaterLondon</th><td> -0.50554857</td><td>   1.253712 </td><td>-0.403241351</td><td>0.686770683 </td></tr>\n",
       "\t<tr><th scope=row>PartyOther:RegionGreaterLondon</th><td> -1.12517156</td><td>   1.190647 </td><td>-0.945008791</td><td>0.344654388 </td></tr>\n",
       "\t<tr><th scope=row>PartyGreen:RegionNorthWest</th><td> -1.83546390</td><td>   1.330892 </td><td>-1.379122839</td><td>0.167856883 </td></tr>\n",
       "\t<tr><th scope=row>PartyLabour:RegionNorthWest</th><td> -1.08882804</td><td>   1.235038 </td><td>-0.881615040</td><td>0.377985019 </td></tr>\n",
       "\t<tr><th scope=row>PartyLibDem:RegionNorthWest</th><td> -1.22835106</td><td>   1.237751 </td><td>-0.992405843</td><td>0.320999590 </td></tr>\n",
       "\t<tr><th scope=row>PartyOther:RegionNorthWest</th><td> -1.05753691</td><td>   1.170716 </td><td>-0.903324757</td><td>0.366353561 </td></tr>\n",
       "\t<tr><th scope=row>PartyGreen:RegionScotland</th><td> -1.44036158</td><td>   1.354392 </td><td>-1.063474691</td><td>0.287566737 </td></tr>\n",
       "\t<tr><th scope=row>PartyLabour:RegionScotland</th><td> -2.20748918</td><td>   1.306538 </td><td>-1.689571583</td><td>0.091109946 </td></tr>\n",
       "\t<tr><th scope=row>PartyLibDem:RegionScotland</th><td> -0.49953766</td><td>   1.248736 </td><td>-0.400034518</td><td>0.689131093 </td></tr>\n",
       "\t<tr><th scope=row>PartyOther:RegionScotland</th><td> -1.57517093</td><td>   1.190971 </td><td>-1.322593940</td><td>0.185970451 </td></tr>\n",
       "\t<tr><th scope=row>PartyGreen:RegionSouthEast</th><td> -1.03291431</td><td>   1.301797 </td><td>-0.793452677</td><td>0.427514131 </td></tr>\n",
       "\t<tr><th scope=row>PartyLabour:RegionSouthEast</th><td> -0.23440662</td><td>   1.245768 </td><td>-0.188162371</td><td>0.850749369 </td></tr>\n",
       "\t<tr><th scope=row>PartyLibDem:RegionSouthEast</th><td> -0.08471029</td><td>   1.244224 </td><td>-0.068082845</td><td>0.945719686 </td></tr>\n",
       "\t<tr><th scope=row>PartyOther:RegionSouthEast</th><td> -0.51121776</td><td>   1.185190 </td><td>-0.431338165</td><td>0.666222504 </td></tr>\n",
       "\t<tr><th scope=row>PartyGreen:RegionSouthWest</th><td> -1.08368664</td><td>   1.427984 </td><td>-0.758892478</td><td>0.447916879 </td></tr>\n",
       "\t<tr><th scope=row>PartyLabour:RegionSouthWest</th><td>  0.05129329</td><td>   1.353439 </td><td> 0.037898478</td><td>0.969768626 </td></tr>\n",
       "\t<tr><th scope=row>PartyLibDem:RegionSouthWest</th><td>  0.15950688</td><td>   1.351363 </td><td> 0.118034083</td><td>0.906040652 </td></tr>\n",
       "\t<tr><th scope=row>PartyOther:RegionSouthWest</th><td> -0.89331470</td><td>   1.297678 </td><td>-0.688394783</td><td>0.491204208 </td></tr>\n",
       "\t<tr><th scope=row>PartyGreen:RegionWales</th><td>-19.45926680</td><td>4593.407129 </td><td>-0.004236347</td><td>0.996619894 </td></tr>\n",
       "\t<tr><th scope=row>PartyLabour:RegionWales</th><td> -0.80783902</td><td>   1.473880 </td><td>-0.548103804</td><td>0.583620629 </td></tr>\n",
       "\t<tr><th scope=row>PartyLibDem:RegionWales</th><td>  0.01047130</td><td>   1.432216 </td><td> 0.007311257</td><td>0.994166513 </td></tr>\n",
       "\t<tr><th scope=row>PartyOther:RegionWales</th><td> -0.47961909</td><td>   1.368070 </td><td>-0.350580869</td><td>0.725902811 </td></tr>\n",
       "\t<tr><th scope=row>PartyGreen:RegionWestMidlands</th><td> -1.71799332</td><td>   1.398287 </td><td>-1.228641163</td><td>0.219206375 </td></tr>\n",
       "\t<tr><th scope=row>PartyLabour:RegionWestMidlands</th><td> -0.77871307</td><td>   1.264932 </td><td>-0.615616335</td><td>0.538147767 </td></tr>\n",
       "\t<tr><th scope=row>PartyLibDem:RegionWestMidlands</th><td> -1.42015888</td><td>   1.281269 </td><td>-1.108400043</td><td>0.267689086 </td></tr>\n",
       "\t<tr><th scope=row>PartyOther:RegionWestMidlands</th><td> -1.84756431</td><td>   1.264691 </td><td>-1.460882064</td><td>0.144047810 </td></tr>\n",
       "\t<tr><th scope=row>PartyGreen:RegionYorksHumbers</th><td> -1.69819069</td><td>   1.483586 </td><td>-1.144652711</td><td>0.252353048 </td></tr>\n",
       "\t<tr><th scope=row>PartyLabour:RegionYorksHumbers</th><td> -0.33436919</td><td>   1.360664 </td><td>-0.245739746</td><td>0.805883703 </td></tr>\n",
       "\t<tr><th scope=row>PartyLibDem:RegionYorksHumbers</th><td>  0.02230576</td><td>   1.351005 </td><td> 0.016510487</td><td>0.986827136 </td></tr>\n",
       "\t<tr><th scope=row>PartyOther:RegionYorksHumbers</th><td> -0.35445594</td><td>   1.336478 </td><td>-0.265216536</td><td>0.790842657 </td></tr>\n",
       "</tbody>\n",
       "</table>\n"
      ],
      "text/latex": [
       "\\begin{tabular}{r|llll}\n",
       "  & Estimate & Std. Error & z value & Pr(>\\textbar{}z\\textbar{})\\\\\n",
       "\\hline\n",
       "\t(Intercept) &  -2.94443898 &    1.025978  & -2.869884119 & 0.004106223 \\\\\n",
       "\tPartyGreen &   2.53897387 &    1.212146  &  2.094610381 & 0.036205642 \\\\\n",
       "\tPartyLabour &   1.55814462 &    1.168388  &  1.333584403 & 0.182340097 \\\\\n",
       "\tPartyLibDem &   1.55814462 &    1.168388  &  1.333584403 & 0.182340097 \\\\\n",
       "\tPartyOther &   1.88838630 &    1.105038  &  1.708887514 & 0.087471788 \\\\\n",
       "\tRegionEastMidlands &   0.37948962 &    1.188110  &  0.319406070 & 0.749418609 \\\\\n",
       "\tRegionGreaterLondon &   0.69314718 &    1.091233  &  0.635196312 & 0.525300389 \\\\\n",
       "\tRegionNorthWest &   0.85463465 &    1.070642  &  0.798245061 & 0.424728293 \\\\\n",
       "\tRegionScotland &   0.99852883 &    1.086101  &  0.919370015 & 0.357902067 \\\\\n",
       "\tRegionSouthEast &   0.40876000 &    1.089740  &  0.375098761 & 0.707587018 \\\\\n",
       "\tRegionSouthWest &   0.23638878 &    1.186671  &  0.199203365 & 0.842103668 \\\\\n",
       "\tRegionWales &   0.05406722 &    1.257143  &  0.043008001 & 0.965695156 \\\\\n",
       "\tRegionWestMidlands &   1.11185752 &    1.094364  &  1.015985516 & 0.309636284 \\\\\n",
       "\tRegionYorksHumbers &   0.11122564 &    1.185569  &  0.093816284 & 0.925255096 \\\\\n",
       "\tPartyGreen:RegionEastMidlands &  -0.95485377 &    1.512153  & -0.631453249 & 0.527744208 \\\\\n",
       "\tPartyLabour:RegionEastMidlands &  -0.60263317 &    1.376784  & -0.437710724 & 0.661595995 \\\\\n",
       "\tPartyLibDem:RegionEastMidlands &  -0.78495473 &    1.385117  & -0.566706255 & 0.570913770 \\\\\n",
       "\tPartyOther:RegionEastMidlands &  -0.32196578 &    1.332506  & -0.241624215 & 0.809071357 \\\\\n",
       "\tPartyGreen:RegionGreaterLondon &  -1.33365063 &    1.308207  & -1.019449031 & 0.307989839 \\\\\n",
       "\tPartyLabour:RegionGreaterLondon &  -0.05406722 &    1.248147  & -0.043317999 & 0.965448043 \\\\\n",
       "\tPartyLibDem:RegionGreaterLondon &  -0.50554857 &    1.253712  & -0.403241351 & 0.686770683 \\\\\n",
       "\tPartyOther:RegionGreaterLondon &  -1.12517156 &    1.190647  & -0.945008791 & 0.344654388 \\\\\n",
       "\tPartyGreen:RegionNorthWest &  -1.83546390 &    1.330892  & -1.379122839 & 0.167856883 \\\\\n",
       "\tPartyLabour:RegionNorthWest &  -1.08882804 &    1.235038  & -0.881615040 & 0.377985019 \\\\\n",
       "\tPartyLibDem:RegionNorthWest &  -1.22835106 &    1.237751  & -0.992405843 & 0.320999590 \\\\\n",
       "\tPartyOther:RegionNorthWest &  -1.05753691 &    1.170716  & -0.903324757 & 0.366353561 \\\\\n",
       "\tPartyGreen:RegionScotland &  -1.44036158 &    1.354392  & -1.063474691 & 0.287566737 \\\\\n",
       "\tPartyLabour:RegionScotland &  -2.20748918 &    1.306538  & -1.689571583 & 0.091109946 \\\\\n",
       "\tPartyLibDem:RegionScotland &  -0.49953766 &    1.248736  & -0.400034518 & 0.689131093 \\\\\n",
       "\tPartyOther:RegionScotland &  -1.57517093 &    1.190971  & -1.322593940 & 0.185970451 \\\\\n",
       "\tPartyGreen:RegionSouthEast &  -1.03291431 &    1.301797  & -0.793452677 & 0.427514131 \\\\\n",
       "\tPartyLabour:RegionSouthEast &  -0.23440662 &    1.245768  & -0.188162371 & 0.850749369 \\\\\n",
       "\tPartyLibDem:RegionSouthEast &  -0.08471029 &    1.244224  & -0.068082845 & 0.945719686 \\\\\n",
       "\tPartyOther:RegionSouthEast &  -0.51121776 &    1.185190  & -0.431338165 & 0.666222504 \\\\\n",
       "\tPartyGreen:RegionSouthWest &  -1.08368664 &    1.427984  & -0.758892478 & 0.447916879 \\\\\n",
       "\tPartyLabour:RegionSouthWest &   0.05129329 &    1.353439  &  0.037898478 & 0.969768626 \\\\\n",
       "\tPartyLibDem:RegionSouthWest &   0.15950688 &    1.351363  &  0.118034083 & 0.906040652 \\\\\n",
       "\tPartyOther:RegionSouthWest &  -0.89331470 &    1.297678  & -0.688394783 & 0.491204208 \\\\\n",
       "\tPartyGreen:RegionWales & -19.45926680 & 4593.407129  & -0.004236347 & 0.996619894 \\\\\n",
       "\tPartyLabour:RegionWales &  -0.80783902 &    1.473880  & -0.548103804 & 0.583620629 \\\\\n",
       "\tPartyLibDem:RegionWales &   0.01047130 &    1.432216  &  0.007311257 & 0.994166513 \\\\\n",
       "\tPartyOther:RegionWales &  -0.47961909 &    1.368070  & -0.350580869 & 0.725902811 \\\\\n",
       "\tPartyGreen:RegionWestMidlands &  -1.71799332 &    1.398287  & -1.228641163 & 0.219206375 \\\\\n",
       "\tPartyLabour:RegionWestMidlands &  -0.77871307 &    1.264932  & -0.615616335 & 0.538147767 \\\\\n",
       "\tPartyLibDem:RegionWestMidlands &  -1.42015888 &    1.281269  & -1.108400043 & 0.267689086 \\\\\n",
       "\tPartyOther:RegionWestMidlands &  -1.84756431 &    1.264691  & -1.460882064 & 0.144047810 \\\\\n",
       "\tPartyGreen:RegionYorksHumbers &  -1.69819069 &    1.483586  & -1.144652711 & 0.252353048 \\\\\n",
       "\tPartyLabour:RegionYorksHumbers &  -0.33436919 &    1.360664  & -0.245739746 & 0.805883703 \\\\\n",
       "\tPartyLibDem:RegionYorksHumbers &   0.02230576 &    1.351005  &  0.016510487 & 0.986827136 \\\\\n",
       "\tPartyOther:RegionYorksHumbers &  -0.35445594 &    1.336478  & -0.265216536 & 0.790842657 \\\\\n",
       "\\end{tabular}\n"
      ],
      "text/markdown": [
       "\n",
       "| <!--/--> | Estimate | Std. Error | z value | Pr(>|z|) |\n",
       "|---|---|---|---|---|\n",
       "| (Intercept) |  -2.94443898 |    1.025978  | -2.869884119 | 0.004106223  |\n",
       "| PartyGreen |   2.53897387 |    1.212146  |  2.094610381 | 0.036205642  |\n",
       "| PartyLabour |   1.55814462 |    1.168388  |  1.333584403 | 0.182340097  |\n",
       "| PartyLibDem |   1.55814462 |    1.168388  |  1.333584403 | 0.182340097  |\n",
       "| PartyOther |   1.88838630 |    1.105038  |  1.708887514 | 0.087471788  |\n",
       "| RegionEastMidlands |   0.37948962 |    1.188110  |  0.319406070 | 0.749418609  |\n",
       "| RegionGreaterLondon |   0.69314718 |    1.091233  |  0.635196312 | 0.525300389  |\n",
       "| RegionNorthWest |   0.85463465 |    1.070642  |  0.798245061 | 0.424728293  |\n",
       "| RegionScotland |   0.99852883 |    1.086101  |  0.919370015 | 0.357902067  |\n",
       "| RegionSouthEast |   0.40876000 |    1.089740  |  0.375098761 | 0.707587018  |\n",
       "| RegionSouthWest |   0.23638878 |    1.186671  |  0.199203365 | 0.842103668  |\n",
       "| RegionWales |   0.05406722 |    1.257143  |  0.043008001 | 0.965695156  |\n",
       "| RegionWestMidlands |   1.11185752 |    1.094364  |  1.015985516 | 0.309636284  |\n",
       "| RegionYorksHumbers |   0.11122564 |    1.185569  |  0.093816284 | 0.925255096  |\n",
       "| PartyGreen:RegionEastMidlands |  -0.95485377 |    1.512153  | -0.631453249 | 0.527744208  |\n",
       "| PartyLabour:RegionEastMidlands |  -0.60263317 |    1.376784  | -0.437710724 | 0.661595995  |\n",
       "| PartyLibDem:RegionEastMidlands |  -0.78495473 |    1.385117  | -0.566706255 | 0.570913770  |\n",
       "| PartyOther:RegionEastMidlands |  -0.32196578 |    1.332506  | -0.241624215 | 0.809071357  |\n",
       "| PartyGreen:RegionGreaterLondon |  -1.33365063 |    1.308207  | -1.019449031 | 0.307989839  |\n",
       "| PartyLabour:RegionGreaterLondon |  -0.05406722 |    1.248147  | -0.043317999 | 0.965448043  |\n",
       "| PartyLibDem:RegionGreaterLondon |  -0.50554857 |    1.253712  | -0.403241351 | 0.686770683  |\n",
       "| PartyOther:RegionGreaterLondon |  -1.12517156 |    1.190647  | -0.945008791 | 0.344654388  |\n",
       "| PartyGreen:RegionNorthWest |  -1.83546390 |    1.330892  | -1.379122839 | 0.167856883  |\n",
       "| PartyLabour:RegionNorthWest |  -1.08882804 |    1.235038  | -0.881615040 | 0.377985019  |\n",
       "| PartyLibDem:RegionNorthWest |  -1.22835106 |    1.237751  | -0.992405843 | 0.320999590  |\n",
       "| PartyOther:RegionNorthWest |  -1.05753691 |    1.170716  | -0.903324757 | 0.366353561  |\n",
       "| PartyGreen:RegionScotland |  -1.44036158 |    1.354392  | -1.063474691 | 0.287566737  |\n",
       "| PartyLabour:RegionScotland |  -2.20748918 |    1.306538  | -1.689571583 | 0.091109946  |\n",
       "| PartyLibDem:RegionScotland |  -0.49953766 |    1.248736  | -0.400034518 | 0.689131093  |\n",
       "| PartyOther:RegionScotland |  -1.57517093 |    1.190971  | -1.322593940 | 0.185970451  |\n",
       "| PartyGreen:RegionSouthEast |  -1.03291431 |    1.301797  | -0.793452677 | 0.427514131  |\n",
       "| PartyLabour:RegionSouthEast |  -0.23440662 |    1.245768  | -0.188162371 | 0.850749369  |\n",
       "| PartyLibDem:RegionSouthEast |  -0.08471029 |    1.244224  | -0.068082845 | 0.945719686  |\n",
       "| PartyOther:RegionSouthEast |  -0.51121776 |    1.185190  | -0.431338165 | 0.666222504  |\n",
       "| PartyGreen:RegionSouthWest |  -1.08368664 |    1.427984  | -0.758892478 | 0.447916879  |\n",
       "| PartyLabour:RegionSouthWest |   0.05129329 |    1.353439  |  0.037898478 | 0.969768626  |\n",
       "| PartyLibDem:RegionSouthWest |   0.15950688 |    1.351363  |  0.118034083 | 0.906040652  |\n",
       "| PartyOther:RegionSouthWest |  -0.89331470 |    1.297678  | -0.688394783 | 0.491204208  |\n",
       "| PartyGreen:RegionWales | -19.45926680 | 4593.407129  | -0.004236347 | 0.996619894  |\n",
       "| PartyLabour:RegionWales |  -0.80783902 |    1.473880  | -0.548103804 | 0.583620629  |\n",
       "| PartyLibDem:RegionWales |   0.01047130 |    1.432216  |  0.007311257 | 0.994166513  |\n",
       "| PartyOther:RegionWales |  -0.47961909 |    1.368070  | -0.350580869 | 0.725902811  |\n",
       "| PartyGreen:RegionWestMidlands |  -1.71799332 |    1.398287  | -1.228641163 | 0.219206375  |\n",
       "| PartyLabour:RegionWestMidlands |  -0.77871307 |    1.264932  | -0.615616335 | 0.538147767  |\n",
       "| PartyLibDem:RegionWestMidlands |  -1.42015888 |    1.281269  | -1.108400043 | 0.267689086  |\n",
       "| PartyOther:RegionWestMidlands |  -1.84756431 |    1.264691  | -1.460882064 | 0.144047810  |\n",
       "| PartyGreen:RegionYorksHumbers |  -1.69819069 |    1.483586  | -1.144652711 | 0.252353048  |\n",
       "| PartyLabour:RegionYorksHumbers |  -0.33436919 |    1.360664  | -0.245739746 | 0.805883703  |\n",
       "| PartyLibDem:RegionYorksHumbers |   0.02230576 |    1.351005  |  0.016510487 | 0.986827136  |\n",
       "| PartyOther:RegionYorksHumbers |  -0.35445594 |    1.336478  | -0.265216536 | 0.790842657  |\n",
       "\n"
      ],
      "text/plain": [
       "                                Estimate     Std. Error  z value     \n",
       "(Intercept)                      -2.94443898    1.025978 -2.869884119\n",
       "PartyGreen                        2.53897387    1.212146  2.094610381\n",
       "PartyLabour                       1.55814462    1.168388  1.333584403\n",
       "PartyLibDem                       1.55814462    1.168388  1.333584403\n",
       "PartyOther                        1.88838630    1.105038  1.708887514\n",
       "RegionEastMidlands                0.37948962    1.188110  0.319406070\n",
       "RegionGreaterLondon               0.69314718    1.091233  0.635196312\n",
       "RegionNorthWest                   0.85463465    1.070642  0.798245061\n",
       "RegionScotland                    0.99852883    1.086101  0.919370015\n",
       "RegionSouthEast                   0.40876000    1.089740  0.375098761\n",
       "RegionSouthWest                   0.23638878    1.186671  0.199203365\n",
       "RegionWales                       0.05406722    1.257143  0.043008001\n",
       "RegionWestMidlands                1.11185752    1.094364  1.015985516\n",
       "RegionYorksHumbers                0.11122564    1.185569  0.093816284\n",
       "PartyGreen:RegionEastMidlands    -0.95485377    1.512153 -0.631453249\n",
       "PartyLabour:RegionEastMidlands   -0.60263317    1.376784 -0.437710724\n",
       "PartyLibDem:RegionEastMidlands   -0.78495473    1.385117 -0.566706255\n",
       "PartyOther:RegionEastMidlands    -0.32196578    1.332506 -0.241624215\n",
       "PartyGreen:RegionGreaterLondon   -1.33365063    1.308207 -1.019449031\n",
       "PartyLabour:RegionGreaterLondon  -0.05406722    1.248147 -0.043317999\n",
       "PartyLibDem:RegionGreaterLondon  -0.50554857    1.253712 -0.403241351\n",
       "PartyOther:RegionGreaterLondon   -1.12517156    1.190647 -0.945008791\n",
       "PartyGreen:RegionNorthWest       -1.83546390    1.330892 -1.379122839\n",
       "PartyLabour:RegionNorthWest      -1.08882804    1.235038 -0.881615040\n",
       "PartyLibDem:RegionNorthWest      -1.22835106    1.237751 -0.992405843\n",
       "PartyOther:RegionNorthWest       -1.05753691    1.170716 -0.903324757\n",
       "PartyGreen:RegionScotland        -1.44036158    1.354392 -1.063474691\n",
       "PartyLabour:RegionScotland       -2.20748918    1.306538 -1.689571583\n",
       "PartyLibDem:RegionScotland       -0.49953766    1.248736 -0.400034518\n",
       "PartyOther:RegionScotland        -1.57517093    1.190971 -1.322593940\n",
       "PartyGreen:RegionSouthEast       -1.03291431    1.301797 -0.793452677\n",
       "PartyLabour:RegionSouthEast      -0.23440662    1.245768 -0.188162371\n",
       "PartyLibDem:RegionSouthEast      -0.08471029    1.244224 -0.068082845\n",
       "PartyOther:RegionSouthEast       -0.51121776    1.185190 -0.431338165\n",
       "PartyGreen:RegionSouthWest       -1.08368664    1.427984 -0.758892478\n",
       "PartyLabour:RegionSouthWest       0.05129329    1.353439  0.037898478\n",
       "PartyLibDem:RegionSouthWest       0.15950688    1.351363  0.118034083\n",
       "PartyOther:RegionSouthWest       -0.89331470    1.297678 -0.688394783\n",
       "PartyGreen:RegionWales          -19.45926680 4593.407129 -0.004236347\n",
       "PartyLabour:RegionWales          -0.80783902    1.473880 -0.548103804\n",
       "PartyLibDem:RegionWales           0.01047130    1.432216  0.007311257\n",
       "PartyOther:RegionWales           -0.47961909    1.368070 -0.350580869\n",
       "PartyGreen:RegionWestMidlands    -1.71799332    1.398287 -1.228641163\n",
       "PartyLabour:RegionWestMidlands   -0.77871307    1.264932 -0.615616335\n",
       "PartyLibDem:RegionWestMidlands   -1.42015888    1.281269 -1.108400043\n",
       "PartyOther:RegionWestMidlands    -1.84756431    1.264691 -1.460882064\n",
       "PartyGreen:RegionYorksHumbers    -1.69819069    1.483586 -1.144652711\n",
       "PartyLabour:RegionYorksHumbers   -0.33436919    1.360664 -0.245739746\n",
       "PartyLibDem:RegionYorksHumbers    0.02230576    1.351005  0.016510487\n",
       "PartyOther:RegionYorksHumbers    -0.35445594    1.336478 -0.265216536\n",
       "                                Pr(>|z|)   \n",
       "(Intercept)                     0.004106223\n",
       "PartyGreen                      0.036205642\n",
       "PartyLabour                     0.182340097\n",
       "PartyLibDem                     0.182340097\n",
       "PartyOther                      0.087471788\n",
       "RegionEastMidlands              0.749418609\n",
       "RegionGreaterLondon             0.525300389\n",
       "RegionNorthWest                 0.424728293\n",
       "RegionScotland                  0.357902067\n",
       "RegionSouthEast                 0.707587018\n",
       "RegionSouthWest                 0.842103668\n",
       "RegionWales                     0.965695156\n",
       "RegionWestMidlands              0.309636284\n",
       "RegionYorksHumbers              0.925255096\n",
       "PartyGreen:RegionEastMidlands   0.527744208\n",
       "PartyLabour:RegionEastMidlands  0.661595995\n",
       "PartyLibDem:RegionEastMidlands  0.570913770\n",
       "PartyOther:RegionEastMidlands   0.809071357\n",
       "PartyGreen:RegionGreaterLondon  0.307989839\n",
       "PartyLabour:RegionGreaterLondon 0.965448043\n",
       "PartyLibDem:RegionGreaterLondon 0.686770683\n",
       "PartyOther:RegionGreaterLondon  0.344654388\n",
       "PartyGreen:RegionNorthWest      0.167856883\n",
       "PartyLabour:RegionNorthWest     0.377985019\n",
       "PartyLibDem:RegionNorthWest     0.320999590\n",
       "PartyOther:RegionNorthWest      0.366353561\n",
       "PartyGreen:RegionScotland       0.287566737\n",
       "PartyLabour:RegionScotland      0.091109946\n",
       "PartyLibDem:RegionScotland      0.689131093\n",
       "PartyOther:RegionScotland       0.185970451\n",
       "PartyGreen:RegionSouthEast      0.427514131\n",
       "PartyLabour:RegionSouthEast     0.850749369\n",
       "PartyLibDem:RegionSouthEast     0.945719686\n",
       "PartyOther:RegionSouthEast      0.666222504\n",
       "PartyGreen:RegionSouthWest      0.447916879\n",
       "PartyLabour:RegionSouthWest     0.969768626\n",
       "PartyLibDem:RegionSouthWest     0.906040652\n",
       "PartyOther:RegionSouthWest      0.491204208\n",
       "PartyGreen:RegionWales          0.996619894\n",
       "PartyLabour:RegionWales         0.583620629\n",
       "PartyLibDem:RegionWales         0.994166513\n",
       "PartyOther:RegionWales          0.725902811\n",
       "PartyGreen:RegionWestMidlands   0.219206375\n",
       "PartyLabour:RegionWestMidlands  0.538147767\n",
       "PartyLibDem:RegionWestMidlands  0.267689086\n",
       "PartyOther:RegionWestMidlands   0.144047810\n",
       "PartyGreen:RegionYorksHumbers   0.252353048\n",
       "PartyLabour:RegionYorksHumbers  0.805883703\n",
       "PartyLibDem:RegionYorksHumbers  0.986827136\n",
       "PartyOther:RegionYorksHumbers   0.790842657"
      ]
     },
     "metadata": {},
     "output_type": "display_data"
    }
   ],
   "source": [
    "coef(summary(glm.1))"
   ]
  },
  {
   "cell_type": "code",
   "execution_count": 11,
   "metadata": {},
   "outputs": [
    {
     "data": {
      "text/html": [
       "<table>\n",
       "<thead><tr><th></th><th scope=col>Df</th><th scope=col>Deviance</th><th scope=col>Resid. Df</th><th scope=col>Resid. Dev</th><th scope=col>Pr(&gt;Chi)</th></tr></thead>\n",
       "<tbody>\n",
       "\t<tr><th scope=row>NULL</th><td>NA          </td><td>       NA   </td><td>54          </td><td>115.315875  </td><td>          NA</td></tr>\n",
       "\t<tr><th scope=row>Party</th><td> 4          </td><td>54.491577   </td><td>50          </td><td> 60.824298  </td><td>4.152008e-11</td></tr>\n",
       "\t<tr><th scope=row>Region</th><td> 9          </td><td> 9.576742   </td><td>41          </td><td> 51.247556  </td><td>3.858232e-01</td></tr>\n",
       "\t<tr><th scope=row>Party:Region</th><td>36          </td><td>44.146700   </td><td> 5          </td><td>  7.100857  </td><td>1.652167e-01</td></tr>\n",
       "</tbody>\n",
       "</table>\n"
      ],
      "text/latex": [
       "\\begin{tabular}{r|lllll}\n",
       "  & Df & Deviance & Resid. Df & Resid. Dev & Pr(>Chi)\\\\\n",
       "\\hline\n",
       "\tNULL & NA           &        NA    & 54           & 115.315875   &           NA\\\\\n",
       "\tParty &  4           & 54.491577    & 50           &  60.824298   & 4.152008e-11\\\\\n",
       "\tRegion &  9           &  9.576742    & 41           &  51.247556   & 3.858232e-01\\\\\n",
       "\tParty:Region & 36           & 44.146700    &  5           &   7.100857   & 1.652167e-01\\\\\n",
       "\\end{tabular}\n"
      ],
      "text/markdown": [
       "\n",
       "| <!--/--> | Df | Deviance | Resid. Df | Resid. Dev | Pr(>Chi) |\n",
       "|---|---|---|---|---|---|\n",
       "| NULL | NA           |        NA    | 54           | 115.315875   |           NA |\n",
       "| Party |  4           | 54.491577    | 50           |  60.824298   | 4.152008e-11 |\n",
       "| Region |  9           |  9.576742    | 41           |  51.247556   | 3.858232e-01 |\n",
       "| Party:Region | 36           | 44.146700    |  5           |   7.100857   | 1.652167e-01 |\n",
       "\n"
      ],
      "text/plain": [
       "             Df Deviance  Resid. Df Resid. Dev Pr(>Chi)    \n",
       "NULL         NA        NA 54        115.315875           NA\n",
       "Party         4 54.491577 50         60.824298 4.152008e-11\n",
       "Region        9  9.576742 41         51.247556 3.858232e-01\n",
       "Party:Region 36 44.146700  5          7.100857 1.652167e-01"
      ]
     },
     "metadata": {},
     "output_type": "display_data"
    }
   ],
   "source": [
    "anova(glm.1, test=\"Chisq\")"
   ]
  },
  {
   "cell_type": "code",
   "execution_count": 12,
   "metadata": {},
   "outputs": [],
   "source": [
    "glm.2 <- glm(cbind(Females, Males) ~ Party, data=belection, family = binomial(link=\"logit\"))"
   ]
  },
  {
   "cell_type": "code",
   "execution_count": 13,
   "metadata": {},
   "outputs": [
    {
     "data": {
      "text/html": [
       "<table>\n",
       "<thead><tr><th></th><th scope=col>Df</th><th scope=col>Deviance</th><th scope=col>Resid. Df</th><th scope=col>Resid. Dev</th><th scope=col>Pr(&gt;Chi)</th></tr></thead>\n",
       "<tbody>\n",
       "\t<tr><th scope=row>NULL</th><td>NA          </td><td>      NA    </td><td>54          </td><td>115.3159    </td><td>          NA</td></tr>\n",
       "\t<tr><th scope=row>Party</th><td> 4          </td><td>54.49158    </td><td>50          </td><td> 60.8243    </td><td>4.152008e-11</td></tr>\n",
       "</tbody>\n",
       "</table>\n"
      ],
      "text/latex": [
       "\\begin{tabular}{r|lllll}\n",
       "  & Df & Deviance & Resid. Df & Resid. Dev & Pr(>Chi)\\\\\n",
       "\\hline\n",
       "\tNULL & NA           &       NA     & 54           & 115.3159     &           NA\\\\\n",
       "\tParty &  4           & 54.49158     & 50           &  60.8243     & 4.152008e-11\\\\\n",
       "\\end{tabular}\n"
      ],
      "text/markdown": [
       "\n",
       "| <!--/--> | Df | Deviance | Resid. Df | Resid. Dev | Pr(>Chi) |\n",
       "|---|---|---|---|---|---|\n",
       "| NULL | NA           |       NA     | 54           | 115.3159     |           NA |\n",
       "| Party |  4           | 54.49158     | 50           |  60.8243     | 4.152008e-11 |\n",
       "\n"
      ],
      "text/plain": [
       "      Df Deviance Resid. Df Resid. Dev Pr(>Chi)    \n",
       "NULL  NA       NA 54        115.3159             NA\n",
       "Party  4 54.49158 50         60.8243   4.152008e-11"
      ]
     },
     "metadata": {},
     "output_type": "display_data"
    }
   ],
   "source": [
    "anova(glm.2, test=\"Chisq\")"
   ]
  },
  {
   "cell_type": "code",
   "execution_count": 14,
   "metadata": {},
   "outputs": [
    {
     "data": {
      "text/html": [
       "1.21648596796277"
      ],
      "text/latex": [
       "1.21648596796277"
      ],
      "text/markdown": [
       "1.21648596796277"
      ],
      "text/plain": [
       "[1] 1.216486"
      ]
     },
     "metadata": {},
     "output_type": "display_data"
    }
   ],
   "source": [
    "deviance(glm.2)/df.residual(glm.2)"
   ]
  },
  {
   "cell_type": "code",
   "execution_count": 15,
   "metadata": {},
   "outputs": [
    {
     "data": {
      "text/html": [
       "<table>\n",
       "<thead><tr><th></th><th scope=col>Estimate</th><th scope=col>Std. Error</th><th scope=col>z value</th><th scope=col>Pr(&gt;|z|)</th></tr></thead>\n",
       "<tbody>\n",
       "\t<tr><th scope=row>(Intercept)</th><td>-2.3147910  </td><td>0.1388415   </td><td>-16.672185  </td><td>2.088199e-62</td></tr>\n",
       "\t<tr><th scope=row>PartyGreen</th><td> 1.1516402  </td><td>0.2028595   </td><td>  5.677035  </td><td>1.370496e-08</td></tr>\n",
       "\t<tr><th scope=row>PartyLabour</th><td> 0.9205915  </td><td>0.1708273   </td><td>  5.389019  </td><td>7.084345e-08</td></tr>\n",
       "\t<tr><th scope=row>PartyLibDem</th><td> 1.0208700  </td><td>0.1692514   </td><td>  6.031679  </td><td>1.622651e-09</td></tr>\n",
       "\t<tr><th scope=row>PartyOther</th><td> 0.9174468  </td><td>0.1688664   </td><td>  5.432974  </td><td>5.542264e-08</td></tr>\n",
       "</tbody>\n",
       "</table>\n"
      ],
      "text/latex": [
       "\\begin{tabular}{r|llll}\n",
       "  & Estimate & Std. Error & z value & Pr(>\\textbar{}z\\textbar{})\\\\\n",
       "\\hline\n",
       "\t(Intercept) & -2.3147910   & 0.1388415    & -16.672185   & 2.088199e-62\\\\\n",
       "\tPartyGreen &  1.1516402   & 0.2028595    &   5.677035   & 1.370496e-08\\\\\n",
       "\tPartyLabour &  0.9205915   & 0.1708273    &   5.389019   & 7.084345e-08\\\\\n",
       "\tPartyLibDem &  1.0208700   & 0.1692514    &   6.031679   & 1.622651e-09\\\\\n",
       "\tPartyOther &  0.9174468   & 0.1688664    &   5.432974   & 5.542264e-08\\\\\n",
       "\\end{tabular}\n"
      ],
      "text/markdown": [
       "\n",
       "| <!--/--> | Estimate | Std. Error | z value | Pr(>|z|) |\n",
       "|---|---|---|---|---|\n",
       "| (Intercept) | -2.3147910   | 0.1388415    | -16.672185   | 2.088199e-62 |\n",
       "| PartyGreen |  1.1516402   | 0.2028595    |   5.677035   | 1.370496e-08 |\n",
       "| PartyLabour |  0.9205915   | 0.1708273    |   5.389019   | 7.084345e-08 |\n",
       "| PartyLibDem |  1.0208700   | 0.1692514    |   6.031679   | 1.622651e-09 |\n",
       "| PartyOther |  0.9174468   | 0.1688664    |   5.432974   | 5.542264e-08 |\n",
       "\n"
      ],
      "text/plain": [
       "            Estimate   Std. Error z value    Pr(>|z|)    \n",
       "(Intercept) -2.3147910 0.1388415  -16.672185 2.088199e-62\n",
       "PartyGreen   1.1516402 0.2028595    5.677035 1.370496e-08\n",
       "PartyLabour  0.9205915 0.1708273    5.389019 7.084345e-08\n",
       "PartyLibDem  1.0208700 0.1692514    6.031679 1.622651e-09\n",
       "PartyOther   0.9174468 0.1688664    5.432974 5.542264e-08"
      ]
     },
     "metadata": {},
     "output_type": "display_data"
    }
   ],
   "source": [
    "coef(summary(glm.2))"
   ]
  },
  {
   "cell_type": "code",
   "execution_count": 16,
   "metadata": {},
   "outputs": [
    {
     "data": {
      "text/html": [
       "2.5107749689197"
      ],
      "text/latex": [
       "2.5107749689197"
      ],
      "text/markdown": [
       "2.5107749689197"
      ],
      "text/plain": [
       "[1] 2.510775"
      ]
     },
     "metadata": {},
     "output_type": "display_data"
    }
   ],
   "source": [
    "exp(coef(summary(glm.2))[3, \"Estimate\"])"
   ]
  },
  {
   "cell_type": "markdown",
   "metadata": {},
   "source": [
    "No saddlepoint appoximation"
   ]
  }
 ],
 "metadata": {
  "kernelspec": {
   "display_name": "R",
   "language": "R",
   "name": "ir"
  },
  "language_info": {
   "codemirror_mode": "r",
   "file_extension": ".r",
   "mimetype": "text/x-r-source",
   "name": "R",
   "pygments_lexer": "r",
   "version": "3.6.1"
  },
  "orig_nbformat": 4
 },
 "nbformat": 4,
 "nbformat_minor": 2
}
