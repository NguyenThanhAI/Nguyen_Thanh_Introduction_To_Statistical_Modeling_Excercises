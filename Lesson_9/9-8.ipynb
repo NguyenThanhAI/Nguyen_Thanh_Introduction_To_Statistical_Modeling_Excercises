{
 "cells": [
  {
   "cell_type": "code",
   "execution_count": 1,
   "metadata": {},
   "outputs": [
    {
     "name": "stderr",
     "output_type": "stream",
     "text": [
      "Warning message:\n",
      "\"package 'statmod' was built under R version 3.6.3\""
     ]
    }
   ],
   "source": [
    "library(GLMsData)\n",
    "library(statmod)\n",
    "library(MASS)\n",
    "library(splines)"
   ]
  },
  {
   "cell_type": "code",
   "execution_count": 2,
   "metadata": {},
   "outputs": [],
   "source": [
    "data(serum)"
   ]
  },
  {
   "cell_type": "code",
   "execution_count": 3,
   "metadata": {},
   "outputs": [
    {
     "name": "stdout",
     "output_type": "stream",
     "text": [
      "'data.frame':\t5 obs. of  3 variables:\n",
      " $ Dose     : num  0.000625 0.00125 0.0025 0.005 0.01\n",
      " $ Survivors: int  7 18 32 35 38\n",
      " $ Number   : int  40 40 40 40 40\n"
     ]
    }
   ],
   "source": [
    "str(serum)"
   ]
  },
  {
   "cell_type": "code",
   "execution_count": 4,
   "metadata": {},
   "outputs": [
    {
     "data": {
      "text/html": [
       "<table>\n",
       "<thead><tr><th scope=col>Dose</th><th scope=col>Survivors</th><th scope=col>Number</th></tr></thead>\n",
       "<tbody>\n",
       "\t<tr><td>0.000625</td><td> 7      </td><td>40      </td></tr>\n",
       "\t<tr><td>0.001250</td><td>18      </td><td>40      </td></tr>\n",
       "\t<tr><td>0.002500</td><td>32      </td><td>40      </td></tr>\n",
       "\t<tr><td>0.005000</td><td>35      </td><td>40      </td></tr>\n",
       "\t<tr><td>0.010000</td><td>38      </td><td>40      </td></tr>\n",
       "</tbody>\n",
       "</table>\n"
      ],
      "text/latex": [
       "\\begin{tabular}{r|lll}\n",
       " Dose & Survivors & Number\\\\\n",
       "\\hline\n",
       "\t 0.000625 &  7       & 40      \\\\\n",
       "\t 0.001250 & 18       & 40      \\\\\n",
       "\t 0.002500 & 32       & 40      \\\\\n",
       "\t 0.005000 & 35       & 40      \\\\\n",
       "\t 0.010000 & 38       & 40      \\\\\n",
       "\\end{tabular}\n"
      ],
      "text/markdown": [
       "\n",
       "| Dose | Survivors | Number |\n",
       "|---|---|---|\n",
       "| 0.000625 |  7       | 40       |\n",
       "| 0.001250 | 18       | 40       |\n",
       "| 0.002500 | 32       | 40       |\n",
       "| 0.005000 | 35       | 40       |\n",
       "| 0.010000 | 38       | 40       |\n",
       "\n"
      ],
      "text/plain": [
       "  Dose     Survivors Number\n",
       "1 0.000625  7        40    \n",
       "2 0.001250 18        40    \n",
       "3 0.002500 32        40    \n",
       "4 0.005000 35        40    \n",
       "5 0.010000 38        40    "
      ]
     },
     "metadata": {},
     "output_type": "display_data"
    }
   ],
   "source": [
    "serum"
   ]
  },
  {
   "cell_type": "code",
   "execution_count": 35,
   "metadata": {},
   "outputs": [],
   "source": [
    "glm.1 <- glm(Survivors/Number ~ log(Dose), data=serum, weights=Number, family = binomial(link=\"logit\"))"
   ]
  },
  {
   "cell_type": "code",
   "execution_count": 36,
   "metadata": {},
   "outputs": [
    {
     "data": {
      "text/html": [
       "<table>\n",
       "<thead><tr><th></th><th scope=col>Estimate</th><th scope=col>Std. Error</th><th scope=col>z value</th><th scope=col>Pr(&gt;|z|)</th></tr></thead>\n",
       "<tbody>\n",
       "\t<tr><th scope=row>(Intercept)</th><td>11.237452   </td><td>1.5659002   </td><td>7.176353    </td><td>7.159576e-13</td></tr>\n",
       "\t<tr><th scope=row>log(Dose)</th><td> 1.709418   </td><td>0.2435208   </td><td>7.019598    </td><td>2.225068e-12</td></tr>\n",
       "</tbody>\n",
       "</table>\n"
      ],
      "text/latex": [
       "\\begin{tabular}{r|llll}\n",
       "  & Estimate & Std. Error & z value & Pr(>\\textbar{}z\\textbar{})\\\\\n",
       "\\hline\n",
       "\t(Intercept) & 11.237452    & 1.5659002    & 7.176353     & 7.159576e-13\\\\\n",
       "\tlog(Dose) &  1.709418    & 0.2435208    & 7.019598     & 2.225068e-12\\\\\n",
       "\\end{tabular}\n"
      ],
      "text/markdown": [
       "\n",
       "| <!--/--> | Estimate | Std. Error | z value | Pr(>|z|) |\n",
       "|---|---|---|---|---|\n",
       "| (Intercept) | 11.237452    | 1.5659002    | 7.176353     | 7.159576e-13 |\n",
       "| log(Dose) |  1.709418    | 0.2435208    | 7.019598     | 2.225068e-12 |\n",
       "\n"
      ],
      "text/plain": [
       "            Estimate  Std. Error z value  Pr(>|z|)    \n",
       "(Intercept) 11.237452 1.5659002  7.176353 7.159576e-13\n",
       "log(Dose)    1.709418 0.2435208  7.019598 2.225068e-12"
      ]
     },
     "metadata": {},
     "output_type": "display_data"
    }
   ],
   "source": [
    "coef(summary(glm.1))"
   ]
  },
  {
   "cell_type": "code",
   "execution_count": 37,
   "metadata": {},
   "outputs": [
    {
     "data": {
      "text/html": [
       "<table>\n",
       "<thead><tr><th></th><th scope=col>Df</th><th scope=col>Deviance</th><th scope=col>Resid. Df</th><th scope=col>Resid. Dev</th><th scope=col>Pr(&gt;Chi)</th></tr></thead>\n",
       "<tbody>\n",
       "\t<tr><th scope=row>NULL</th><td>NA          </td><td>      NA    </td><td>4           </td><td>80.77441    </td><td>          NA</td></tr>\n",
       "\t<tr><th scope=row>log(Dose)</th><td> 1          </td><td>79.00875    </td><td>3           </td><td> 1.76566    </td><td>6.183547e-19</td></tr>\n",
       "</tbody>\n",
       "</table>\n"
      ],
      "text/latex": [
       "\\begin{tabular}{r|lllll}\n",
       "  & Df & Deviance & Resid. Df & Resid. Dev & Pr(>Chi)\\\\\n",
       "\\hline\n",
       "\tNULL & NA           &       NA     & 4            & 80.77441     &           NA\\\\\n",
       "\tlog(Dose) &  1           & 79.00875     & 3            &  1.76566     & 6.183547e-19\\\\\n",
       "\\end{tabular}\n"
      ],
      "text/markdown": [
       "\n",
       "| <!--/--> | Df | Deviance | Resid. Df | Resid. Dev | Pr(>Chi) |\n",
       "|---|---|---|---|---|---|\n",
       "| NULL | NA           |       NA     | 4            | 80.77441     |           NA |\n",
       "| log(Dose) |  1           | 79.00875     | 3            |  1.76566     | 6.183547e-19 |\n",
       "\n"
      ],
      "text/plain": [
       "          Df Deviance Resid. Df Resid. Dev Pr(>Chi)    \n",
       "NULL      NA       NA 4         80.77441             NA\n",
       "log(Dose)  1 79.00875 3          1.76566   6.183547e-19"
      ]
     },
     "metadata": {},
     "output_type": "display_data"
    }
   ],
   "source": [
    "anova(glm.1, test=\"Chisq\")"
   ]
  },
  {
   "cell_type": "code",
   "execution_count": 38,
   "metadata": {},
   "outputs": [
    {
     "data": {
      "text/html": [
       "0.588553207529752"
      ],
      "text/latex": [
       "0.588553207529752"
      ],
      "text/markdown": [
       "0.588553207529752"
      ],
      "text/plain": [
       "[1] 0.5885532"
      ]
     },
     "metadata": {},
     "output_type": "display_data"
    },
    {
     "data": {
      "text/html": [
       "0.584776900262364"
      ],
      "text/latex": [
       "0.584776900262364"
      ],
      "text/markdown": [
       "0.584776900262364"
      ],
      "text/plain": [
       "[1] 0.5847769"
      ]
     },
     "metadata": {},
     "output_type": "display_data"
    }
   ],
   "source": [
    "deviance(glm.1)/df.residual(glm.1)\n",
    "sum(glm.1$weights*glm.1$residuals^2)/df.residual(glm.1)"
   ]
  },
  {
   "cell_type": "code",
   "execution_count": 40,
   "metadata": {},
   "outputs": [
    {
     "data": {
      "text/plain": [
       "\n",
       "\tShapiro-Wilk normality test\n",
       "\n",
       "data:  qresid(glm.1)\n",
       "W = 0.86616, p-value = 0.2512\n"
      ]
     },
     "metadata": {},
     "output_type": "display_data"
    },
    {
     "data": {
      "image/png": "[encoded data removed]",
      "text/plain": [
       "Plot with title \"Normal Q-Q Plot\""
      ]
     },
     "metadata": {},
     "output_type": "display_data"
    }
   ],
   "source": [
    "par(mfrow=c(3, 3))\n",
    "\n",
    "scatter.smooth(qresid(glm.1) ~ fitted(glm.1))\n",
    "#termplot(glm.1, partial.resid = TRUE, las=1)\n",
    "#scatter.smooth(glm.1$linear.predictor + resid(glm.1, type=\"working\") ~ glm.1$linear.predictor)\n",
    "qqnorm(qresid(glm.1))\n",
    "qqline(qresid(glm.1))\n",
    "plot(cooks.distance(glm.1), type=\"h\")\n",
    "shapiro.test(qresid(glm.1))"
   ]
  },
  {
   "cell_type": "code",
   "execution_count": 41,
   "metadata": {},
   "outputs": [
    {
     "data": {
      "image/png": "[encoded data removed]",
      "text/plain": [
       "plot without title"
      ]
     },
     "metadata": {},
     "output_type": "display_data"
    }
   ],
   "source": [
    "newDose = seq(min(serum$Dose), max(serum$Dose), length=100)\n",
    "fit <- predict(glm.1, newdata=data.frame(Dose=newDose), se.fit=TRUE)\n",
    "z.star <- qnorm(0.975)\n",
    "ci.lo <- exp(fit$fit-z.star*fit$se.fit)/(1+exp(fit$fit-z.star*fit$se.fit))\n",
    "ci.hi <- exp(fit$fit+z.star*fit$se.fit)/(1+exp(fit$fit+z.star*fit$se.fit))\n",
    "plot(Survivors/Number~Dose, data=serum)\n",
    "lines(exp(fit$fit)/(1+exp(fit$fit)) ~ newDose, lty=1)\n",
    "lines(ci.lo ~ newDose, lty=2)\n",
    "lines(ci.hi ~ newDose, lty=3)"
   ]
  },
  {
   "cell_type": "code",
   "execution_count": 42,
   "metadata": {},
   "outputs": [
    {
     "data": {
      "text/plain": [
       "              Dose        SE\n",
       "p = 0.5: -6.573845 0.1115851"
      ]
     },
     "metadata": {},
     "output_type": "display_data"
    }
   ],
   "source": [
    "dose.p(glm.1)"
   ]
  },
  {
   "cell_type": "code",
   "execution_count": null,
   "metadata": {},
   "outputs": [],
   "source": []
  }
 ],
 "metadata": {
  "kernelspec": {
   "display_name": "R",
   "language": "R",
   "name": "ir"
  },
  "language_info": {
   "codemirror_mode": "r",
   "file_extension": ".r",
   "mimetype": "text/x-r-source",
   "name": "R",
   "pygments_lexer": "r",
   "version": "3.6.1"
  },
  "orig_nbformat": 4
 },
 "nbformat": 4,
 "nbformat_minor": 2
}
