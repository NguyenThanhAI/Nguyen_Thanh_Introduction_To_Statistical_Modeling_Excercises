{
 "cells": [
  {
   "cell_type": "code",
   "execution_count": 1,
   "metadata": {},
   "outputs": [
    {
     "name": "stderr",
     "output_type": "stream",
     "text": [
      "Warning message:\n",
      "\"package 'statmod' was built under R version 3.6.3\""
     ]
    }
   ],
   "source": [
    "library(GLMsData)\n",
    "library(statmod)\n",
    "library(MASS)\n",
    "library(splines)"
   ]
  },
  {
   "cell_type": "code",
   "execution_count": 2,
   "metadata": {},
   "outputs": [],
   "source": [
    "data(shuttles)"
   ]
  },
  {
   "cell_type": "code",
   "execution_count": 3,
   "metadata": {},
   "outputs": [
    {
     "name": "stdout",
     "output_type": "stream",
     "text": [
      "'data.frame':\t23 obs. of  2 variables:\n",
      " $ Temp   : int  53 57 58 63 66 67 67 67 68 69 ...\n",
      " $ Damaged: int  2 1 1 1 0 0 0 0 0 0 ...\n"
     ]
    }
   ],
   "source": [
    "str(shuttles)"
   ]
  },
  {
   "cell_type": "code",
   "execution_count": 4,
   "metadata": {},
   "outputs": [
    {
     "data": {
      "text/html": [
       "<table>\n",
       "<thead><tr><th scope=col>Temp</th><th scope=col>Damaged</th></tr></thead>\n",
       "<tbody>\n",
       "\t<tr><td>53</td><td>2 </td></tr>\n",
       "\t<tr><td>57</td><td>1 </td></tr>\n",
       "\t<tr><td>58</td><td>1 </td></tr>\n",
       "\t<tr><td>63</td><td>1 </td></tr>\n",
       "\t<tr><td>66</td><td>0 </td></tr>\n",
       "\t<tr><td>67</td><td>0 </td></tr>\n",
       "\t<tr><td>67</td><td>0 </td></tr>\n",
       "\t<tr><td>67</td><td>0 </td></tr>\n",
       "\t<tr><td>68</td><td>0 </td></tr>\n",
       "\t<tr><td>69</td><td>0 </td></tr>\n",
       "\t<tr><td>70</td><td>0 </td></tr>\n",
       "\t<tr><td>70</td><td>0 </td></tr>\n",
       "\t<tr><td>70</td><td>1 </td></tr>\n",
       "\t<tr><td>70</td><td>1 </td></tr>\n",
       "\t<tr><td>72</td><td>0 </td></tr>\n",
       "\t<tr><td>73</td><td>0 </td></tr>\n",
       "\t<tr><td>75</td><td>0 </td></tr>\n",
       "\t<tr><td>75</td><td>2 </td></tr>\n",
       "\t<tr><td>76</td><td>0 </td></tr>\n",
       "\t<tr><td>76</td><td>0 </td></tr>\n",
       "\t<tr><td>78</td><td>0 </td></tr>\n",
       "\t<tr><td>79</td><td>0 </td></tr>\n",
       "\t<tr><td>81</td><td>0 </td></tr>\n",
       "</tbody>\n",
       "</table>\n"
      ],
      "text/latex": [
       "\\begin{tabular}{r|ll}\n",
       " Temp & Damaged\\\\\n",
       "\\hline\n",
       "\t 53 & 2 \\\\\n",
       "\t 57 & 1 \\\\\n",
       "\t 58 & 1 \\\\\n",
       "\t 63 & 1 \\\\\n",
       "\t 66 & 0 \\\\\n",
       "\t 67 & 0 \\\\\n",
       "\t 67 & 0 \\\\\n",
       "\t 67 & 0 \\\\\n",
       "\t 68 & 0 \\\\\n",
       "\t 69 & 0 \\\\\n",
       "\t 70 & 0 \\\\\n",
       "\t 70 & 0 \\\\\n",
       "\t 70 & 1 \\\\\n",
       "\t 70 & 1 \\\\\n",
       "\t 72 & 0 \\\\\n",
       "\t 73 & 0 \\\\\n",
       "\t 75 & 0 \\\\\n",
       "\t 75 & 2 \\\\\n",
       "\t 76 & 0 \\\\\n",
       "\t 76 & 0 \\\\\n",
       "\t 78 & 0 \\\\\n",
       "\t 79 & 0 \\\\\n",
       "\t 81 & 0 \\\\\n",
       "\\end{tabular}\n"
      ],
      "text/markdown": [
       "\n",
       "| Temp | Damaged |\n",
       "|---|---|\n",
       "| 53 | 2  |\n",
       "| 57 | 1  |\n",
       "| 58 | 1  |\n",
       "| 63 | 1  |\n",
       "| 66 | 0  |\n",
       "| 67 | 0  |\n",
       "| 67 | 0  |\n",
       "| 67 | 0  |\n",
       "| 68 | 0  |\n",
       "| 69 | 0  |\n",
       "| 70 | 0  |\n",
       "| 70 | 0  |\n",
       "| 70 | 1  |\n",
       "| 70 | 1  |\n",
       "| 72 | 0  |\n",
       "| 73 | 0  |\n",
       "| 75 | 0  |\n",
       "| 75 | 2  |\n",
       "| 76 | 0  |\n",
       "| 76 | 0  |\n",
       "| 78 | 0  |\n",
       "| 79 | 0  |\n",
       "| 81 | 0  |\n",
       "\n"
      ],
      "text/plain": [
       "   Temp Damaged\n",
       "1  53   2      \n",
       "2  57   1      \n",
       "3  58   1      \n",
       "4  63   1      \n",
       "5  66   0      \n",
       "6  67   0      \n",
       "7  67   0      \n",
       "8  67   0      \n",
       "9  68   0      \n",
       "10 69   0      \n",
       "11 70   0      \n",
       "12 70   0      \n",
       "13 70   1      \n",
       "14 70   1      \n",
       "15 72   0      \n",
       "16 73   0      \n",
       "17 75   0      \n",
       "18 75   2      \n",
       "19 76   0      \n",
       "20 76   0      \n",
       "21 78   0      \n",
       "22 79   0      \n",
       "23 81   0      "
      ]
     },
     "metadata": {},
     "output_type": "display_data"
    }
   ],
   "source": [
    "shuttles"
   ]
  },
  {
   "cell_type": "code",
   "execution_count": 5,
   "metadata": {},
   "outputs": [
    {
     "data": {
      "image/png": "[encoded data removed]",
      "text/plain": [
       "plot without title"
      ]
     },
     "metadata": {},
     "output_type": "display_data"
    }
   ],
   "source": [
    "plot(Damaged ~ Temp, data=shuttles)"
   ]
  },
  {
   "cell_type": "code",
   "execution_count": 6,
   "metadata": {},
   "outputs": [
    {
     "name": "stderr",
     "output_type": "stream",
     "text": [
      "Warning message in eval(family$initialize):\n",
      "\"non-integer #successes in a binomial glm!\""
     ]
    }
   ],
   "source": [
    "glm.1 <- glm(Damaged/6 ~ Temp, data=shuttles, family=binomial(link=\"logit\"))"
   ]
  },
  {
   "cell_type": "code",
   "execution_count": 8,
   "metadata": {},
   "outputs": [
    {
     "data": {
      "text/html": [
       "<table>\n",
       "<thead><tr><th></th><th scope=col>Estimate</th><th scope=col>Std. Error</th><th scope=col>z value</th><th scope=col>Pr(&gt;|z|)</th></tr></thead>\n",
       "<tbody>\n",
       "\t<tr><th scope=row>(Intercept)</th><td> 5.0849772</td><td>7.4770289 </td><td> 0.6800799</td><td>0.4964539 </td></tr>\n",
       "\t<tr><th scope=row>Temp</th><td>-0.1156012</td><td>0.1151844 </td><td>-1.0036185</td><td>0.3155625 </td></tr>\n",
       "</tbody>\n",
       "</table>\n"
      ],
      "text/latex": [
       "\\begin{tabular}{r|llll}\n",
       "  & Estimate & Std. Error & z value & Pr(>\\textbar{}z\\textbar{})\\\\\n",
       "\\hline\n",
       "\t(Intercept) &  5.0849772 & 7.4770289  &  0.6800799 & 0.4964539 \\\\\n",
       "\tTemp & -0.1156012 & 0.1151844  & -1.0036185 & 0.3155625 \\\\\n",
       "\\end{tabular}\n"
      ],
      "text/markdown": [
       "\n",
       "| <!--/--> | Estimate | Std. Error | z value | Pr(>|z|) |\n",
       "|---|---|---|---|---|\n",
       "| (Intercept) |  5.0849772 | 7.4770289  |  0.6800799 | 0.4964539  |\n",
       "| Temp | -0.1156012 | 0.1151844  | -1.0036185 | 0.3155625  |\n",
       "\n"
      ],
      "text/plain": [
       "            Estimate   Std. Error z value    Pr(>|z|) \n",
       "(Intercept)  5.0849772 7.4770289   0.6800799 0.4964539\n",
       "Temp        -0.1156012 0.1151844  -1.0036185 0.3155625"
      ]
     },
     "metadata": {},
     "output_type": "display_data"
    }
   ],
   "source": [
    "coef(summary(glm.1))"
   ]
  },
  {
   "cell_type": "code",
   "execution_count": 9,
   "metadata": {},
   "outputs": [
    {
     "data": {
      "text/html": [
       "<table>\n",
       "<thead><tr><th></th><th scope=col>Df</th><th scope=col>Deviance</th><th scope=col>Resid. Df</th><th scope=col>Resid. Dev</th><th scope=col>Pr(&gt;Chi)</th></tr></thead>\n",
       "<tbody>\n",
       "\t<tr><th scope=row>NULL</th><td>NA       </td><td>      NA </td><td>22       </td><td>4.038394 </td><td>       NA</td></tr>\n",
       "\t<tr><th scope=row>Temp</th><td> 1       </td><td>1.024006 </td><td>21       </td><td>3.014388 </td><td>0.3115707</td></tr>\n",
       "</tbody>\n",
       "</table>\n"
      ],
      "text/latex": [
       "\\begin{tabular}{r|lllll}\n",
       "  & Df & Deviance & Resid. Df & Resid. Dev & Pr(>Chi)\\\\\n",
       "\\hline\n",
       "\tNULL & NA        &       NA  & 22        & 4.038394  &        NA\\\\\n",
       "\tTemp &  1        & 1.024006  & 21        & 3.014388  & 0.3115707\\\\\n",
       "\\end{tabular}\n"
      ],
      "text/markdown": [
       "\n",
       "| <!--/--> | Df | Deviance | Resid. Df | Resid. Dev | Pr(>Chi) |\n",
       "|---|---|---|---|---|---|\n",
       "| NULL | NA        |       NA  | 22        | 4.038394  |        NA |\n",
       "| Temp |  1        | 1.024006  | 21        | 3.014388  | 0.3115707 |\n",
       "\n"
      ],
      "text/plain": [
       "     Df Deviance Resid. Df Resid. Dev Pr(>Chi) \n",
       "NULL NA       NA 22        4.038394          NA\n",
       "Temp  1 1.024006 21        3.014388   0.3115707"
      ]
     },
     "metadata": {},
     "output_type": "display_data"
    }
   ],
   "source": [
    "anova(glm.1, test=\"Chisq\")"
   ]
  },
  {
   "cell_type": "code",
   "execution_count": 10,
   "metadata": {},
   "outputs": [
    {
     "name": "stderr",
     "output_type": "stream",
     "text": [
      "Warning message in eval(family$initialize):\n",
      "\"non-integer #successes in a binomial glm!\""
     ]
    },
    {
     "data": {
      "text/html": [
       "-1.06221039333867"
      ],
      "text/latex": [
       "-1.06221039333867"
      ],
      "text/markdown": [
       "-1.06221039333867"
      ],
      "text/plain": [
       "[1] -1.06221"
      ]
     },
     "metadata": {},
     "output_type": "display_data"
    }
   ],
   "source": [
    "glm.0 <- glm(Damaged/6 ~ 1, data=shuttles, family=binomial(link=\"logit\"))\n",
    "glm.scoretest(glm.0, shuttles$Temp)"
   ]
  },
  {
   "cell_type": "code",
   "execution_count": 15,
   "metadata": {},
   "outputs": [
    {
     "data": {
      "text/plain": [
       "\n",
       "\tShapiro-Wilk normality test\n",
       "\n",
       "data:  qresid(glm.1)\n",
       "W = 0.93118, p-value = 0.116\n"
      ]
     },
     "metadata": {},
     "output_type": "display_data"
    },
    {
     "data": {
      "image/png": "[encoded data removed]",
      "text/plain": [
       "Plot with title \"Normal Q-Q Plot\""
      ]
     },
     "metadata": {},
     "output_type": "display_data"
    }
   ],
   "source": [
    "par(mfrow=c(3, 3))\n",
    "\n",
    "scatter.smooth(qresid(glm.1) ~ fitted(glm.1))\n",
    "scatter.smooth(qresid(glm.1) ~ shuttles$Temp)\n",
    "termplot(glm.1, partial.resid = TRUE, las=1)\n",
    "scatter.smooth(glm.1$linear.predictor + resid(glm.1, type=\"working\") ~ glm.1$linear.predictor)\n",
    "qqnorm(qresid(glm.1))\n",
    "qqline(qresid(glm.1))\n",
    "plot(cooks.distance(glm.1), type=\"h\")\n",
    "shapiro.test(qresid(glm.1))"
   ]
  },
  {
   "cell_type": "code",
   "execution_count": 22,
   "metadata": {},
   "outputs": [
    {
     "data": {
      "text/html": [
       "<dl class=dl-horizontal>\n",
       "\t<dt>dfb.1_</dt>\n",
       "\t\t<dd>0</dd>\n",
       "\t<dt>dfb.Temp</dt>\n",
       "\t\t<dd>0</dd>\n",
       "\t<dt>dffit</dt>\n",
       "\t\t<dd>1</dd>\n",
       "\t<dt>cov.r</dt>\n",
       "\t\t<dd>4</dd>\n",
       "\t<dt>cook.d</dt>\n",
       "\t\t<dd>0</dd>\n",
       "\t<dt>hat</dt>\n",
       "\t\t<dd>1</dd>\n",
       "</dl>\n"
      ],
      "text/latex": [
       "\\begin{description*}\n",
       "\\item[dfb.1\\textbackslash{}\\_] 0\n",
       "\\item[dfb.Temp] 0\n",
       "\\item[dffit] 1\n",
       "\\item[cov.r] 4\n",
       "\\item[cook.d] 0\n",
       "\\item[hat] 1\n",
       "\\end{description*}\n"
      ],
      "text/markdown": [
       "dfb.1_\n",
       ":   0dfb.Temp\n",
       ":   0dffit\n",
       ":   1cov.r\n",
       ":   4cook.d\n",
       ":   0hat\n",
       ":   1\n",
       "\n"
      ],
      "text/plain": [
       "  dfb.1_ dfb.Temp    dffit    cov.r   cook.d      hat \n",
       "       0        0        1        4        0        1 "
      ]
     },
     "metadata": {},
     "output_type": "display_data"
    }
   ],
   "source": [
    "colSums(influence.measures(glm.1)$is.inf)"
   ]
  },
  {
   "cell_type": "code",
   "execution_count": 23,
   "metadata": {},
   "outputs": [
    {
     "data": {
      "text/html": [
       "<dl class=dl-horizontal>\n",
       "\t<dt>1</dt>\n",
       "\t\t<dd>2</dd>\n",
       "\t<dt>2</dt>\n",
       "\t\t<dd>1</dd>\n",
       "\t<dt>3</dt>\n",
       "\t\t<dd>1</dd>\n",
       "\t<dt>4</dt>\n",
       "\t\t<dd>0</dd>\n",
       "\t<dt>5</dt>\n",
       "\t\t<dd>0</dd>\n",
       "\t<dt>6</dt>\n",
       "\t\t<dd>0</dd>\n",
       "\t<dt>7</dt>\n",
       "\t\t<dd>0</dd>\n",
       "\t<dt>8</dt>\n",
       "\t\t<dd>0</dd>\n",
       "\t<dt>9</dt>\n",
       "\t\t<dd>0</dd>\n",
       "\t<dt>10</dt>\n",
       "\t\t<dd>0</dd>\n",
       "\t<dt>11</dt>\n",
       "\t\t<dd>0</dd>\n",
       "\t<dt>12</dt>\n",
       "\t\t<dd>0</dd>\n",
       "\t<dt>13</dt>\n",
       "\t\t<dd>0</dd>\n",
       "\t<dt>14</dt>\n",
       "\t\t<dd>0</dd>\n",
       "\t<dt>15</dt>\n",
       "\t\t<dd>0</dd>\n",
       "\t<dt>16</dt>\n",
       "\t\t<dd>0</dd>\n",
       "\t<dt>17</dt>\n",
       "\t\t<dd>0</dd>\n",
       "\t<dt>18</dt>\n",
       "\t\t<dd>2</dd>\n",
       "\t<dt>19</dt>\n",
       "\t\t<dd>0</dd>\n",
       "\t<dt>20</dt>\n",
       "\t\t<dd>0</dd>\n",
       "\t<dt>21</dt>\n",
       "\t\t<dd>0</dd>\n",
       "\t<dt>22</dt>\n",
       "\t\t<dd>0</dd>\n",
       "\t<dt>23</dt>\n",
       "\t\t<dd>0</dd>\n",
       "</dl>\n"
      ],
      "text/latex": [
       "\\begin{description*}\n",
       "\\item[1] 2\n",
       "\\item[2] 1\n",
       "\\item[3] 1\n",
       "\\item[4] 0\n",
       "\\item[5] 0\n",
       "\\item[6] 0\n",
       "\\item[7] 0\n",
       "\\item[8] 0\n",
       "\\item[9] 0\n",
       "\\item[10] 0\n",
       "\\item[11] 0\n",
       "\\item[12] 0\n",
       "\\item[13] 0\n",
       "\\item[14] 0\n",
       "\\item[15] 0\n",
       "\\item[16] 0\n",
       "\\item[17] 0\n",
       "\\item[18] 2\n",
       "\\item[19] 0\n",
       "\\item[20] 0\n",
       "\\item[21] 0\n",
       "\\item[22] 0\n",
       "\\item[23] 0\n",
       "\\end{description*}\n"
      ],
      "text/markdown": [
       "1\n",
       ":   22\n",
       ":   13\n",
       ":   14\n",
       ":   05\n",
       ":   06\n",
       ":   07\n",
       ":   08\n",
       ":   09\n",
       ":   010\n",
       ":   011\n",
       ":   012\n",
       ":   013\n",
       ":   014\n",
       ":   015\n",
       ":   016\n",
       ":   017\n",
       ":   018\n",
       ":   219\n",
       ":   020\n",
       ":   021\n",
       ":   022\n",
       ":   023\n",
       ":   0\n",
       "\n"
      ],
      "text/plain": [
       " 1  2  3  4  5  6  7  8  9 10 11 12 13 14 15 16 17 18 19 20 21 22 23 \n",
       " 2  1  1  0  0  0  0  0  0  0  0  0  0  0  0  0  0  2  0  0  0  0  0 "
      ]
     },
     "metadata": {},
     "output_type": "display_data"
    }
   ],
   "source": [
    "rowSums(influence.measures(glm.1)$is.inf)"
   ]
  },
  {
   "cell_type": "code",
   "execution_count": 25,
   "metadata": {},
   "outputs": [
    {
     "data": {
      "text/html": [
       "<strong>1:</strong> 4.90664643769314"
      ],
      "text/latex": [
       "\\textbf{1:} 4.90664643769314"
      ],
      "text/markdown": [
       "**1:** 4.90664643769314"
      ],
      "text/plain": [
       "       1 \n",
       "4.906646 "
      ]
     },
     "metadata": {},
     "output_type": "display_data"
    }
   ],
   "source": [
    "predict(glm.1, newdata=data.frame(Temp=31), type=\"response\")*6"
   ]
  },
  {
   "cell_type": "code",
   "execution_count": 26,
   "metadata": {},
   "outputs": [
    {
     "data": {
      "text/plain": [
       "             Dose       SE\n",
       "p = 0.5: 43.98725 21.75392"
      ]
     },
     "metadata": {},
     "output_type": "display_data"
    }
   ],
   "source": [
    "dose.p(glm.1)"
   ]
  }
 ],
 "metadata": {
  "kernelspec": {
   "display_name": "R",
   "language": "R",
   "name": "ir"
  },
  "language_info": {
   "codemirror_mode": "r",
   "file_extension": ".r",
   "mimetype": "text/x-r-source",
   "name": "R",
   "pygments_lexer": "r",
   "version": "3.6.1"
  },
  "orig_nbformat": 4
 },
 "nbformat": 4,
 "nbformat_minor": 2
}
