{
 "cells": [
  {
   "cell_type": "code",
   "execution_count": 1,
   "metadata": {},
   "outputs": [
    {
     "name": "stderr",
     "output_type": "stream",
     "text": [
      "Warning message:\n",
      "\"package 'statmod' was built under R version 3.6.3\""
     ]
    }
   ],
   "source": [
    "library(GLMsData)\n",
    "library(statmod)\n",
    "library(MASS)\n",
    "library(splines)"
   ]
  },
  {
   "cell_type": "code",
   "execution_count": 2,
   "metadata": {},
   "outputs": [],
   "source": [
    "data(turbines)"
   ]
  },
  {
   "cell_type": "code",
   "execution_count": 3,
   "metadata": {},
   "outputs": [
    {
     "name": "stdout",
     "output_type": "stream",
     "text": [
      "'data.frame':\t11 obs. of  3 variables:\n",
      " $ Hours   : int  400 1000 1400 1800 2200 2600 3000 3400 3800 4200 ...\n",
      " $ Turbines: int  39 53 33 73 30 39 42 13 34 40 ...\n",
      " $ Fissures: int  0 4 2 7 5 9 9 6 22 21 ...\n"
     ]
    }
   ],
   "source": [
    "str(turbines)"
   ]
  },
  {
   "cell_type": "code",
   "execution_count": 4,
   "metadata": {},
   "outputs": [
    {
     "data": {
      "text/html": [
       "<table>\n",
       "<thead><tr><th scope=col>Hours</th><th scope=col>Turbines</th><th scope=col>Fissures</th></tr></thead>\n",
       "<tbody>\n",
       "\t<tr><td> 400</td><td>39  </td><td> 0  </td></tr>\n",
       "\t<tr><td>1000</td><td>53  </td><td> 4  </td></tr>\n",
       "\t<tr><td>1400</td><td>33  </td><td> 2  </td></tr>\n",
       "\t<tr><td>1800</td><td>73  </td><td> 7  </td></tr>\n",
       "\t<tr><td>2200</td><td>30  </td><td> 5  </td></tr>\n",
       "\t<tr><td>2600</td><td>39  </td><td> 9  </td></tr>\n",
       "\t<tr><td>3000</td><td>42  </td><td> 9  </td></tr>\n",
       "\t<tr><td>3400</td><td>13  </td><td> 6  </td></tr>\n",
       "\t<tr><td>3800</td><td>34  </td><td>22  </td></tr>\n",
       "\t<tr><td>4200</td><td>40  </td><td>21  </td></tr>\n",
       "\t<tr><td>4600</td><td>36  </td><td>21  </td></tr>\n",
       "</tbody>\n",
       "</table>\n"
      ],
      "text/latex": [
       "\\begin{tabular}{r|lll}\n",
       " Hours & Turbines & Fissures\\\\\n",
       "\\hline\n",
       "\t  400 & 39   &  0  \\\\\n",
       "\t 1000 & 53   &  4  \\\\\n",
       "\t 1400 & 33   &  2  \\\\\n",
       "\t 1800 & 73   &  7  \\\\\n",
       "\t 2200 & 30   &  5  \\\\\n",
       "\t 2600 & 39   &  9  \\\\\n",
       "\t 3000 & 42   &  9  \\\\\n",
       "\t 3400 & 13   &  6  \\\\\n",
       "\t 3800 & 34   & 22  \\\\\n",
       "\t 4200 & 40   & 21  \\\\\n",
       "\t 4600 & 36   & 21  \\\\\n",
       "\\end{tabular}\n"
      ],
      "text/markdown": [
       "\n",
       "| Hours | Turbines | Fissures |\n",
       "|---|---|---|\n",
       "|  400 | 39   |  0   |\n",
       "| 1000 | 53   |  4   |\n",
       "| 1400 | 33   |  2   |\n",
       "| 1800 | 73   |  7   |\n",
       "| 2200 | 30   |  5   |\n",
       "| 2600 | 39   |  9   |\n",
       "| 3000 | 42   |  9   |\n",
       "| 3400 | 13   |  6   |\n",
       "| 3800 | 34   | 22   |\n",
       "| 4200 | 40   | 21   |\n",
       "| 4600 | 36   | 21   |\n",
       "\n"
      ],
      "text/plain": [
       "   Hours Turbines Fissures\n",
       "1   400  39        0      \n",
       "2  1000  53        4      \n",
       "3  1400  33        2      \n",
       "4  1800  73        7      \n",
       "5  2200  30        5      \n",
       "6  2600  39        9      \n",
       "7  3000  42        9      \n",
       "8  3400  13        6      \n",
       "9  3800  34       22      \n",
       "10 4200  40       21      \n",
       "11 4600  36       21      "
      ]
     },
     "metadata": {},
     "output_type": "display_data"
    }
   ],
   "source": [
    "turbines"
   ]
  },
  {
   "cell_type": "code",
   "execution_count": 5,
   "metadata": {},
   "outputs": [],
   "source": [
    "tur.m1 <- glm( Fissures/Turbines ~ Hours, family=binomial,\n",
    "weights=Turbines, data=turbines)"
   ]
  },
  {
   "cell_type": "code",
   "execution_count": 6,
   "metadata": {},
   "outputs": [],
   "source": [
    "tur.m2 <- glm( cbind(Fissures, Turbines-Fissures) ~ Hours,\n",
    "family=binomial, data=turbines)"
   ]
  },
  {
   "cell_type": "code",
   "execution_count": 7,
   "metadata": {},
   "outputs": [
    {
     "data": {
      "text/html": [
       "<dl class=dl-horizontal>\n",
       "\t<dt>(Intercept)</dt>\n",
       "\t\t<dd>-3.92359655506097</dd>\n",
       "\t<dt>Hours</dt>\n",
       "\t\t<dd>0.000999237231007308</dd>\n",
       "</dl>\n"
      ],
      "text/latex": [
       "\\begin{description*}\n",
       "\\item[(Intercept)] -3.92359655506097\n",
       "\\item[Hours] 0.000999237231007308\n",
       "\\end{description*}\n"
      ],
      "text/markdown": [
       "(Intercept)\n",
       ":   -3.92359655506097Hours\n",
       ":   0.000999237231007308\n",
       "\n"
      ],
      "text/plain": [
       "  (Intercept)         Hours \n",
       "-3.9235965551  0.0009992372 "
      ]
     },
     "metadata": {},
     "output_type": "display_data"
    },
    {
     "data": {
      "text/html": [
       "<dl class=dl-horizontal>\n",
       "\t<dt>(Intercept)</dt>\n",
       "\t\t<dd>-3.92359655506097</dd>\n",
       "\t<dt>Hours</dt>\n",
       "\t\t<dd>0.000999237231007308</dd>\n",
       "</dl>\n"
      ],
      "text/latex": [
       "\\begin{description*}\n",
       "\\item[(Intercept)] -3.92359655506097\n",
       "\\item[Hours] 0.000999237231007308\n",
       "\\end{description*}\n"
      ],
      "text/markdown": [
       "(Intercept)\n",
       ":   -3.92359655506097Hours\n",
       ":   0.000999237231007308\n",
       "\n"
      ],
      "text/plain": [
       "  (Intercept)         Hours \n",
       "-3.9235965551  0.0009992372 "
      ]
     },
     "metadata": {},
     "output_type": "display_data"
    }
   ],
   "source": [
    "coef(tur.m1); coef(tur.m2)"
   ]
  },
  {
   "cell_type": "code",
   "execution_count": 15,
   "metadata": {},
   "outputs": [
    {
     "data": {
      "text/html": [
       "<table>\n",
       "<thead><tr><th></th><th scope=col>Intercept</th><th scope=col>Hours</th><th scope=col>Residual dev.</th></tr></thead>\n",
       "<tbody>\n",
       "\t<tr><th scope=row>Logit</th><td>-3.923597   </td><td>0.0009992372</td><td>10.331466   </td></tr>\n",
       "\t<tr><th scope=row>Probit</th><td>-2.275807   </td><td>0.0005783211</td><td> 9.814837   </td></tr>\n",
       "\t<tr><th scope=row>Comp log-log</th><td>-3.603280   </td><td>0.0008104936</td><td>12.227914   </td></tr>\n",
       "</tbody>\n",
       "</table>\n"
      ],
      "text/latex": [
       "\\begin{tabular}{r|lll}\n",
       "  & Intercept & Hours & Residual dev.\\\\\n",
       "\\hline\n",
       "\tLogit & -3.923597    & 0.0009992372 & 10.331466   \\\\\n",
       "\tProbit & -2.275807    & 0.0005783211 &  9.814837   \\\\\n",
       "\tComp log-log & -3.603280    & 0.0008104936 & 12.227914   \\\\\n",
       "\\end{tabular}\n"
      ],
      "text/markdown": [
       "\n",
       "| <!--/--> | Intercept | Hours | Residual dev. |\n",
       "|---|---|---|---|\n",
       "| Logit | -3.923597    | 0.0009992372 | 10.331466    |\n",
       "| Probit | -2.275807    | 0.0005783211 |  9.814837    |\n",
       "| Comp log-log | -3.603280    | 0.0008104936 | 12.227914    |\n",
       "\n"
      ],
      "text/plain": [
       "             Intercept Hours        Residual dev.\n",
       "Logit        -3.923597 0.0009992372 10.331466    \n",
       "Probit       -2.275807 0.0005783211  9.814837    \n",
       "Comp log-log -3.603280 0.0008104936 12.227914    "
      ]
     },
     "metadata": {},
     "output_type": "display_data"
    }
   ],
   "source": [
    "tr.logit <- glm( Fissures/Turbines ~ Hours, data=turbines,\n",
    "family=binomial, weights=Turbines)\n",
    "tr.probit <- update( tr.logit, family=binomial(link=\"probit\") )\n",
    "tr.cll <- update( tr.logit, family=binomial(link=\"cloglog\") )\n",
    "tr.array <- rbind( coef(tr.logit), coef(tr.probit), coef(tr.cll))\n",
    "tr.array <- cbind( tr.array, c(deviance(tr.logit),\n",
    "deviance(tr.probit), deviance(tr.cll)) )\n",
    "colnames(tr.array) <- c(\"Intercept\", \"Hours\",\"Residual dev.\")\n",
    "rownames(tr.array) <- c(\"Logit\",\"Probit\",\"Comp log-log\")\n",
    "tr.array\n"
   ]
  },
  {
   "cell_type": "code",
   "execution_count": 17,
   "metadata": {},
   "outputs": [
    {
     "data": {
      "image/png": "[encoded data removed]",
      "text/plain": [
       "plot without title"
      ]
     },
     "metadata": {},
     "output_type": "display_data"
    }
   ],
   "source": [
    "newHrs <- seq( 0, 5000, length=100)\n",
    "newdf <- data.frame(Hours=newHrs)\n",
    "newP.logit <- predict( tr.logit, newdata=newdf, type=\"response\")\n",
    "newP.probit <- predict( tr.probit, newdata=newdf, type=\"response\")\n",
    "newP.cll <- predict( tr.cll, newdata=newdf, type=\"response\")\n",
    "plot( Fissures/Turbines ~ Hours, data=turbines, pch=19, las=1,\n",
    "xlim=c(0, 5000), ylim=c(0, 0.7),\n",
    "xlab=\"Hours run\", ylab=\"Proportion with fissures\")\n",
    "lines( newP.logit ~ newHrs, lty=1, lwd=2)\n",
    "lines(newP.probit ~ newHrs, lty=2, lwd=2)\n",
    "lines(newP.cll ~ newHrs, lty=4, lwd=2)\n",
    "legend(\"topleft\", lwd=2, lty=c(1, 2, 4),\n",
    "legend=c(\"Logit\",\"Probit\",\"Comp. log-log\"))"
   ]
  },
  {
   "cell_type": "code",
   "execution_count": 18,
   "metadata": {},
   "outputs": [
    {
     "data": {
      "text/html": [
       "<dl class=dl-horizontal>\n",
       "\t<dt>(Intercept)</dt>\n",
       "\t\t<dd>-3.92359655506097</dd>\n",
       "\t<dt>Hours</dt>\n",
       "\t\t<dd>0.000999237231007308</dd>\n",
       "</dl>\n"
      ],
      "text/latex": [
       "\\begin{description*}\n",
       "\\item[(Intercept)] -3.92359655506097\n",
       "\\item[Hours] 0.000999237231007308\n",
       "\\end{description*}\n"
      ],
      "text/markdown": [
       "(Intercept)\n",
       ":   -3.92359655506097Hours\n",
       ":   0.000999237231007308\n",
       "\n"
      ],
      "text/plain": [
       "  (Intercept)         Hours \n",
       "-3.9235965551  0.0009992372 "
      ]
     },
     "metadata": {},
     "output_type": "display_data"
    }
   ],
   "source": [
    "coef(tr.logit)"
   ]
  },
  {
   "cell_type": "code",
   "execution_count": 20,
   "metadata": {},
   "outputs": [
    {
     "data": {
      "text/html": [
       "<dl class=dl-horizontal>\n",
       "\t<dt>1</dt>\n",
       "\t\t<dd>-3.52390166265804</dd>\n",
       "\t<dt>2</dt>\n",
       "\t\t<dd>-2.92435932405366</dd>\n",
       "\t<dt>3</dt>\n",
       "\t\t<dd>-2.52466443165074</dd>\n",
       "\t<dt>4</dt>\n",
       "\t\t<dd>-2.12496953924781</dd>\n",
       "\t<dt>5</dt>\n",
       "\t\t<dd>-1.72527464684489</dd>\n",
       "\t<dt>6</dt>\n",
       "\t\t<dd>-1.32557975444197</dd>\n",
       "\t<dt>7</dt>\n",
       "\t\t<dd>-0.925884862039042</dd>\n",
       "\t<dt>8</dt>\n",
       "\t\t<dd>-0.526189969636119</dd>\n",
       "\t<dt>9</dt>\n",
       "\t\t<dd>-0.126495077233195</dd>\n",
       "\t<dt>10</dt>\n",
       "\t\t<dd>0.273199815169728</dd>\n",
       "\t<dt>11</dt>\n",
       "\t\t<dd>0.672894707572651</dd>\n",
       "</dl>\n"
      ],
      "text/latex": [
       "\\begin{description*}\n",
       "\\item[1] -3.52390166265804\n",
       "\\item[2] -2.92435932405366\n",
       "\\item[3] -2.52466443165074\n",
       "\\item[4] -2.12496953924781\n",
       "\\item[5] -1.72527464684489\n",
       "\\item[6] -1.32557975444197\n",
       "\\item[7] -0.925884862039042\n",
       "\\item[8] -0.526189969636119\n",
       "\\item[9] -0.126495077233195\n",
       "\\item[10] 0.273199815169728\n",
       "\\item[11] 0.672894707572651\n",
       "\\end{description*}\n"
      ],
      "text/markdown": [
       "1\n",
       ":   -3.523901662658042\n",
       ":   -2.924359324053663\n",
       ":   -2.524664431650744\n",
       ":   -2.124969539247815\n",
       ":   -1.725274646844896\n",
       ":   -1.325579754441977\n",
       ":   -0.9258848620390428\n",
       ":   -0.5261899696361199\n",
       ":   -0.12649507723319510\n",
       ":   0.27319981516972811\n",
       ":   0.672894707572651\n",
       "\n"
      ],
      "text/plain": [
       "         1          2          3          4          5          6          7 \n",
       "-3.5239017 -2.9243593 -2.5246644 -2.1249695 -1.7252746 -1.3255798 -0.9258849 \n",
       "         8          9         10         11 \n",
       "-0.5261900 -0.1264951  0.2731998  0.6728947 "
      ]
     },
     "metadata": {},
     "output_type": "display_data"
    }
   ],
   "source": [
    "LogOdds <- predict( tr.logit )\n",
    "LogOdds"
   ]
  },
  {
   "cell_type": "code",
   "execution_count": 21,
   "metadata": {},
   "outputs": [
    {
     "data": {
      "text/html": [
       "<dl class=dl-horizontal>\n",
       "\t<dt>1</dt>\n",
       "\t\t<dd>-3.52390166265804</dd>\n",
       "\t<dt>2</dt>\n",
       "\t\t<dd>-2.92435932405366</dd>\n",
       "\t<dt>3</dt>\n",
       "\t\t<dd>-2.52466443165074</dd>\n",
       "\t<dt>4</dt>\n",
       "\t\t<dd>-2.12496953924781</dd>\n",
       "\t<dt>5</dt>\n",
       "\t\t<dd>-1.72527464684489</dd>\n",
       "\t<dt>6</dt>\n",
       "\t\t<dd>-1.32557975444197</dd>\n",
       "\t<dt>7</dt>\n",
       "\t\t<dd>-0.925884862039042</dd>\n",
       "\t<dt>8</dt>\n",
       "\t\t<dd>-0.526189969636119</dd>\n",
       "\t<dt>9</dt>\n",
       "\t\t<dd>-0.126495077233195</dd>\n",
       "\t<dt>10</dt>\n",
       "\t\t<dd>0.273199815169728</dd>\n",
       "\t<dt>11</dt>\n",
       "\t\t<dd>0.672894707572651</dd>\n",
       "</dl>\n"
      ],
      "text/latex": [
       "\\begin{description*}\n",
       "\\item[1] -3.52390166265804\n",
       "\\item[2] -2.92435932405366\n",
       "\\item[3] -2.52466443165074\n",
       "\\item[4] -2.12496953924781\n",
       "\\item[5] -1.72527464684489\n",
       "\\item[6] -1.32557975444197\n",
       "\\item[7] -0.925884862039042\n",
       "\\item[8] -0.526189969636119\n",
       "\\item[9] -0.126495077233195\n",
       "\\item[10] 0.273199815169728\n",
       "\\item[11] 0.672894707572651\n",
       "\\end{description*}\n"
      ],
      "text/markdown": [
       "1\n",
       ":   -3.523901662658042\n",
       ":   -2.924359324053663\n",
       ":   -2.524664431650744\n",
       ":   -2.124969539247815\n",
       ":   -1.725274646844896\n",
       ":   -1.325579754441977\n",
       ":   -0.9258848620390428\n",
       ":   -0.5261899696361199\n",
       ":   -0.12649507723319510\n",
       ":   0.27319981516972811\n",
       ":   0.672894707572651\n",
       "\n"
      ],
      "text/plain": [
       "         1          2          3          4          5          6          7 \n",
       "-3.5239017 -2.9243593 -2.5246644 -2.1249695 -1.7252746 -1.3255798 -0.9258849 \n",
       "         8          9         10         11 \n",
       "-0.5261900 -0.1264951  0.2731998  0.6728947 "
      ]
     },
     "metadata": {},
     "output_type": "display_data"
    }
   ],
   "source": [
    "tr.logit$linear.predictor"
   ]
  },
  {
   "cell_type": "code",
   "execution_count": 24,
   "metadata": {},
   "outputs": [
    {
     "data": {
      "image/png": "[encoded data removed]",
      "text/plain": [
       "plot without title"
      ]
     },
     "metadata": {},
     "output_type": "display_data"
    },
    {
     "data": {
      "image/png": "[encoded data removed]",
      "text/plain": [
       "plot without title"
      ]
     },
     "metadata": {},
     "output_type": "display_data"
    }
   ],
   "source": [
    "LogOdds <- predict( tr.logit ); odds <- exp( LogOdds )\n",
    "plot( LogOdds ~ turbines$Hours, type=\"l\", las=1,\n",
    "xlim=c(0, 5000), ylim=c(-5, 1),\n",
    "ylab=\"Log-odds\", xlab=\"Run-time (in hours)\" )\n",
    "my <- turbines$Fissures; m <- turbines$Turbines\n",
    "EmpiricalOdds <- (my + 0.5)/(m - my + 0.5) # To avoid log of zeros\n",
    "points( log(EmpiricalOdds) ~ turbines$Hours)\n",
    "#\n",
    "plot( odds ~ turbines$Hours, las=1, xlim=c(0, 5000), ylim=c(0, 2),\n",
    "type=\"l\", ylab=\"Odds\", xlab=\"Run-time (in hours)\")\n",
    "points( EmpiricalOdds ~ turbines$Hours)"
   ]
  },
  {
   "cell_type": "code",
   "execution_count": 25,
   "metadata": {},
   "outputs": [
    {
     "name": "stdout",
     "output_type": "stream",
     "text": [
      "'data.frame':\t21 obs. of  4 variables:\n",
      " $ Germ   : int  10 23 23 26 17 5 53 55 32 46 ...\n",
      " $ Total  : int  39 62 81 51 39 6 74 72 51 79 ...\n",
      " $ Extract: Factor w/ 2 levels \"Bean\",\"Cucumber\": 1 1 1 1 1 2 2 2 2 2 ...\n",
      " $ Seeds  : Factor w/ 2 levels \"OA73\",\"OA75\": 2 2 2 2 2 2 2 2 2 2 ...\n"
     ]
    }
   ],
   "source": [
    "data(germ); str(germ)"
   ]
  },
  {
   "cell_type": "code",
   "execution_count": 26,
   "metadata": {},
   "outputs": [
    {
     "data": {
      "image/png": "[encoded data removed]",
      "text/plain": [
       "plot without title"
      ]
     },
     "metadata": {},
     "output_type": "display_data"
    },
    {
     "data": {
      "image/png": "[encoded data removed]",
      "text/plain": [
       "plot without title"
      ]
     },
     "metadata": {},
     "output_type": "display_data"
    }
   ],
   "source": [
    "plot( Germ/Total ~ Extract, data=germ, las=1, ylim=c(0, 1) )\n",
    "plot( Germ/Total ~ Seeds, data=germ, las=1, ylim=c(0, 1) )"
   ]
  },
  {
   "cell_type": "code",
   "execution_count": 27,
   "metadata": {},
   "outputs": [
    {
     "name": "stdout",
     "output_type": "stream",
     "text": [
      "                Estimate Std. Error z value  Pr(>|z|)    \n",
      "(Intercept)     -0.70048    0.15072 -4.6475 3.359e-06 ***\n",
      "SeedsOA75        0.27045    0.15471  1.7482   0.08044 .  \n",
      "ExtractCucumber  1.06475    0.14421  7.3831 1.546e-13 ***\n",
      "---\n",
      "Signif. codes:  0 '***' 0.001 '**' 0.01 '*' 0.05 '.' 0.1 ' ' 1\n"
     ]
    }
   ],
   "source": [
    "gm.m1 <- glm(Germ/Total ~ Seeds + Extract, family=binomial,\n",
    "data=germ, weights=Total)\n",
    "printCoefmat(coef(summary(gm.m1)))"
   ]
  },
  {
   "cell_type": "code",
   "execution_count": 28,
   "metadata": {},
   "outputs": [
    {
     "data": {
      "text/html": [
       "<dl class=dl-horizontal>\n",
       "\t<dt>(Intercept)</dt>\n",
       "\t\t<dd>0.496345400403319</dd>\n",
       "\t<dt>SeedsOA75</dt>\n",
       "\t\t<dd>1.31055544728693</dd>\n",
       "\t<dt>ExtractCucumber</dt>\n",
       "\t\t<dd>2.90011325964011</dd>\n",
       "</dl>\n"
      ],
      "text/latex": [
       "\\begin{description*}\n",
       "\\item[(Intercept)] 0.496345400403319\n",
       "\\item[SeedsOA75] 1.31055544728693\n",
       "\\item[ExtractCucumber] 2.90011325964011\n",
       "\\end{description*}\n"
      ],
      "text/markdown": [
       "(Intercept)\n",
       ":   0.496345400403319SeedsOA75\n",
       ":   1.31055544728693ExtractCucumber\n",
       ":   2.90011325964011\n",
       "\n"
      ],
      "text/plain": [
       "    (Intercept)       SeedsOA75 ExtractCucumber \n",
       "      0.4963454       1.3105554       2.9001133 "
      ]
     },
     "metadata": {},
     "output_type": "display_data"
    }
   ],
   "source": [
    "exp( coef(gm.m1) )"
   ]
  },
  {
   "cell_type": "code",
   "execution_count": 29,
   "metadata": {},
   "outputs": [],
   "source": [
    "ED50s <- cbind(\"Logit\" = dose.p(tr.logit),\n",
    "\"Probit\" = dose.p(tr.probit),\n",
    "\"C-log-log\" = dose.p(tr.cll))"
   ]
  },
  {
   "cell_type": "code",
   "execution_count": 30,
   "metadata": {},
   "outputs": [
    {
     "data": {
      "text/html": [
       "<table>\n",
       "<thead><tr><th></th><th scope=col>Logit</th><th scope=col>Probit</th><th scope=col>C-log-log</th></tr></thead>\n",
       "<tbody>\n",
       "\t<tr><th scope=row>p = 0.5:</th><td>3926.592</td><td>3935.197</td><td>3993.575</td></tr>\n",
       "</tbody>\n",
       "</table>\n"
      ],
      "text/latex": [
       "\\begin{tabular}{r|lll}\n",
       "  & Logit & Probit & C-log-log\\\\\n",
       "\\hline\n",
       "\tp = 0.5: & 3926.592 & 3935.197 & 3993.575\\\\\n",
       "\\end{tabular}\n"
      ],
      "text/markdown": [
       "\n",
       "| <!--/--> | Logit | Probit | C-log-log |\n",
       "|---|---|---|---|\n",
       "| p = 0.5: | 3926.592 | 3935.197 | 3993.575 |\n",
       "\n"
      ],
      "text/plain": [
       "         Logit    Probit   C-log-log\n",
       "p = 0.5: 3926.592 3935.197 3993.575 "
      ]
     },
     "metadata": {},
     "output_type": "display_data"
    }
   ],
   "source": [
    "ED50s"
   ]
  },
  {
   "cell_type": "code",
   "execution_count": 31,
   "metadata": {},
   "outputs": [
    {
     "data": {
      "text/html": [
       "<table>\n",
       "<thead><tr><th scope=col>N.Cells</th><th scope=col>N.Assays</th><th scope=col>N.Outgrowths</th></tr></thead>\n",
       "<tbody>\n",
       "\t<tr><td> 15</td><td>38 </td><td> 3 </td></tr>\n",
       "\t<tr><td> 40</td><td> 6 </td><td> 6 </td></tr>\n",
       "\t<tr><td> 60</td><td>17 </td><td>13 </td></tr>\n",
       "\t<tr><td> 90</td><td> 8 </td><td> 6 </td></tr>\n",
       "\t<tr><td>125</td><td>12 </td><td> 9 </td></tr>\n",
       "</tbody>\n",
       "</table>\n"
      ],
      "text/latex": [
       "\\begin{tabular}{r|lll}\n",
       " N.Cells & N.Assays & N.Outgrowths\\\\\n",
       "\\hline\n",
       "\t  15 & 38  &  3 \\\\\n",
       "\t  40 &  6  &  6 \\\\\n",
       "\t  60 & 17  & 13 \\\\\n",
       "\t  90 &  8  &  6 \\\\\n",
       "\t 125 & 12  &  9 \\\\\n",
       "\\end{tabular}\n"
      ],
      "text/markdown": [
       "\n",
       "| N.Cells | N.Assays | N.Outgrowths |\n",
       "|---|---|---|\n",
       "|  15 | 38  |  3  |\n",
       "|  40 |  6  |  6  |\n",
       "|  60 | 17  | 13  |\n",
       "|  90 |  8  |  6  |\n",
       "| 125 | 12  |  9  |\n",
       "\n"
      ],
      "text/plain": [
       "  N.Cells N.Assays N.Outgrowths\n",
       "1  15     38        3          \n",
       "2  40      6        6          \n",
       "3  60     17       13          \n",
       "4  90      8        6          \n",
       "5 125     12        9          "
      ]
     },
     "metadata": {},
     "output_type": "display_data"
    }
   ],
   "source": [
    "data(mammary); mammary"
   ]
  },
  {
   "cell_type": "code",
   "execution_count": 32,
   "metadata": {},
   "outputs": [
    {
     "data": {
      "text/html": [
       "<table>\n",
       "<thead><tr><th></th><th scope=col>Estimate</th><th scope=col>Std. Error</th><th scope=col>z value</th><th scope=col>Pr(&gt;|z|)</th></tr></thead>\n",
       "<tbody>\n",
       "\t<tr><th scope=row>(Intercept)</th><td>-4.163625    </td><td>0.1744346    </td><td>-23.86925    </td><td>6.391454e-126</td></tr>\n",
       "</tbody>\n",
       "</table>\n"
      ],
      "text/latex": [
       "\\begin{tabular}{r|llll}\n",
       "  & Estimate & Std. Error & z value & Pr(>\\textbar{}z\\textbar{})\\\\\n",
       "\\hline\n",
       "\t(Intercept) & -4.163625     & 0.1744346     & -23.86925     & 6.391454e-126\\\\\n",
       "\\end{tabular}\n"
      ],
      "text/markdown": [
       "\n",
       "| <!--/--> | Estimate | Std. Error | z value | Pr(>|z|) |\n",
       "|---|---|---|---|---|\n",
       "| (Intercept) | -4.163625     | 0.1744346     | -23.86925     | 6.391454e-126 |\n",
       "\n"
      ],
      "text/plain": [
       "            Estimate  Std. Error z value   Pr(>|z|)     \n",
       "(Intercept) -4.163625 0.1744346  -23.86925 6.391454e-126"
      ]
     },
     "metadata": {},
     "output_type": "display_data"
    }
   ],
   "source": [
    "y <- mammary$N.Outgrowths / mammary$N.Assays\n",
    "fit <- glm(y~offset(log(N.Cells)), family=binomial(link=\"cloglog\"),\n",
    "weights=N.Assays, data=mammary)\n",
    "coef(summary(fit))"
   ]
  },
  {
   "cell_type": "code",
   "execution_count": 33,
   "metadata": {},
   "outputs": [
    {
     "data": {
      "text/html": [
       "<strong>(Intercept):</strong> 64.3041840818891"
      ],
      "text/latex": [
       "\\textbf{(Intercept):} 64.3041840818891"
      ],
      "text/markdown": [
       "**(Intercept):** 64.3041840818891"
      ],
      "text/plain": [
       "(Intercept) \n",
       "   64.30418 "
      ]
     },
     "metadata": {},
     "output_type": "display_data"
    }
   ],
   "source": [
    "frequency <- 1/exp(coef(fit)); frequency"
   ]
  },
  {
   "cell_type": "code",
   "execution_count": 34,
   "metadata": {},
   "outputs": [
    {
     "data": {
      "text/html": [
       "<dl class=dl-horizontal>\n",
       "\t<dt>Lower</dt>\n",
       "\t\t<dd>45.7</dd>\n",
       "\t<dt>Estimate</dt>\n",
       "\t\t<dd>64.3</dd>\n",
       "\t<dt>Upper</dt>\n",
       "\t\t<dd>90.5</dd>\n",
       "</dl>\n"
      ],
      "text/latex": [
       "\\begin{description*}\n",
       "\\item[Lower] 45.7\n",
       "\\item[Estimate] 64.3\n",
       "\\item[Upper] 90.5\n",
       "\\end{description*}\n"
      ],
      "text/markdown": [
       "Lower\n",
       ":   45.7Estimate\n",
       ":   64.3Upper\n",
       ":   90.5\n",
       "\n"
      ],
      "text/plain": [
       "   Lower Estimate    Upper \n",
       "    45.7     64.3     90.5 "
      ]
     },
     "metadata": {},
     "output_type": "display_data"
    }
   ],
   "source": [
    "s <- summary(fit)\n",
    "Estimate <- s$coef[, \"Estimate\"]\n",
    "SE <- s$coef[, \"Std. Error\"]\n",
    "z <- qnorm(0.05/2, lower.tail=FALSE)\n",
    "CI <- c(Lower=Estimate+z*SE, Estimate=Estimate, Upper=Estimate-z*SE)\n",
    "CI <- 1/exp(CI); round(CI, digits=1)"
   ]
  },
  {
   "cell_type": "code",
   "execution_count": 36,
   "metadata": {},
   "outputs": [
    {
     "data": {
      "text/html": [
       "<table>\n",
       "<thead><tr><th scope=col>Resid. Df</th><th scope=col>Resid. Dev</th><th scope=col>Df</th><th scope=col>Deviance</th><th scope=col>Pr(&gt;Chi)</th></tr></thead>\n",
       "<tbody>\n",
       "\t<tr><td>4        </td><td>16.85169 </td><td>NA       </td><td>       NA</td><td>       NA</td></tr>\n",
       "\t<tr><td>3        </td><td>16.20489 </td><td> 1       </td><td>0.6468038</td><td>0.4212577</td></tr>\n",
       "</tbody>\n",
       "</table>\n"
      ],
      "text/latex": [
       "\\begin{tabular}{r|lllll}\n",
       " Resid. Df & Resid. Dev & Df & Deviance & Pr(>Chi)\\\\\n",
       "\\hline\n",
       "\t 4         & 16.85169  & NA        &        NA &        NA\\\\\n",
       "\t 3         & 16.20489  &  1        & 0.6468038 & 0.4212577\\\\\n",
       "\\end{tabular}\n"
      ],
      "text/markdown": [
       "\n",
       "| Resid. Df | Resid. Dev | Df | Deviance | Pr(>Chi) |\n",
       "|---|---|---|---|---|\n",
       "| 4         | 16.85169  | NA        |        NA |        NA |\n",
       "| 3         | 16.20489  |  1        | 0.6468038 | 0.4212577 |\n",
       "\n"
      ],
      "text/plain": [
       "  Resid. Df Resid. Dev Df Deviance  Pr(>Chi) \n",
       "1 4         16.85169   NA        NA        NA\n",
       "2 3         16.20489    1 0.6468038 0.4212577"
      ]
     },
     "metadata": {},
     "output_type": "display_data"
    }
   ],
   "source": [
    "fit1 <- glm(y~log(N.Cells), family=binomial(link=\"cloglog\"),\n",
    "weights=N.Assays, data=mammary)\n",
    "anova(fit, fit1, test=\"Chisq\")"
   ]
  },
  {
   "cell_type": "code",
   "execution_count": 39,
   "metadata": {},
   "outputs": [
    {
     "data": {
      "text/html": [
       "<dl class=dl-horizontal>\n",
       "\t<dt>Df</dt>\n",
       "\t\t<dd>9</dd>\n",
       "\t<dt>Resid.Dev</dt>\n",
       "\t\t<dd>10.3314656594169</dd>\n",
       "\t<dt>Pearson.X2</dt>\n",
       "\t\t<dd>9.25083866566516</dd>\n",
       "</dl>\n"
      ],
      "text/latex": [
       "\\begin{description*}\n",
       "\\item[Df] 9\n",
       "\\item[Resid.Dev] 10.3314656594169\n",
       "\\item[Pearson.X2] 9.25083866566516\n",
       "\\end{description*}\n"
      ],
      "text/markdown": [
       "Df\n",
       ":   9Resid.Dev\n",
       ":   10.3314656594169Pearson.X2\n",
       ":   9.25083866566516\n",
       "\n"
      ],
      "text/plain": [
       "        Df  Resid.Dev Pearson.X2 \n",
       "  9.000000  10.331466   9.250839 "
      ]
     },
     "metadata": {},
     "output_type": "display_data"
    },
    {
     "data": {
      "text/html": [
       "9.25083948830393"
      ],
      "text/latex": [
       "9.25083948830393"
      ],
      "text/markdown": [
       "9.25083948830393"
      ],
      "text/plain": [
       "[1] 9.250839"
      ]
     },
     "metadata": {},
     "output_type": "display_data"
    }
   ],
   "source": [
    "c(Df = df.residual( tr.logit ),\n",
    "Resid.Dev = deviance( tr.logit ),\n",
    "Pearson.X2 = sum( resid(tr.logit, type=\"pearson\")^2 ))\n",
    "sum(tr.logit$weights * tr.logit$residuals^2)"
   ]
  },
  {
   "cell_type": "code",
   "execution_count": 40,
   "metadata": {},
   "outputs": [],
   "source": [
    "gm.m1 <- glm( Germ/Total ~ Extract * Seeds, family=binomial,\n",
    "weights=Total, data=germ )"
   ]
  },
  {
   "cell_type": "code",
   "execution_count": 41,
   "metadata": {},
   "outputs": [
    {
     "data": {
      "text/html": [
       "<table>\n",
       "<thead><tr><th></th><th scope=col>Df</th><th scope=col>Deviance</th><th scope=col>Resid. Df</th><th scope=col>Resid. Dev</th><th scope=col>Pr(&gt;Chi)</th></tr></thead>\n",
       "<tbody>\n",
       "\t<tr><th scope=row>NULL</th><td>NA          </td><td>       NA   </td><td>20          </td><td>98.71946    </td><td>          NA</td></tr>\n",
       "\t<tr><th scope=row>Extract</th><td> 1          </td><td>55.968596   </td><td>19          </td><td>42.75086    </td><td>7.363792e-14</td></tr>\n",
       "\t<tr><th scope=row>Seeds</th><td> 1          </td><td> 3.064972   </td><td>18          </td><td>39.68589    </td><td>7.999655e-02</td></tr>\n",
       "\t<tr><th scope=row>Extract:Seeds</th><td> 1          </td><td> 6.408104   </td><td>17          </td><td>33.27779    </td><td>1.136007e-02</td></tr>\n",
       "</tbody>\n",
       "</table>\n"
      ],
      "text/latex": [
       "\\begin{tabular}{r|lllll}\n",
       "  & Df & Deviance & Resid. Df & Resid. Dev & Pr(>Chi)\\\\\n",
       "\\hline\n",
       "\tNULL & NA           &        NA    & 20           & 98.71946     &           NA\\\\\n",
       "\tExtract &  1           & 55.968596    & 19           & 42.75086     & 7.363792e-14\\\\\n",
       "\tSeeds &  1           &  3.064972    & 18           & 39.68589     & 7.999655e-02\\\\\n",
       "\tExtract:Seeds &  1           &  6.408104    & 17           & 33.27779     & 1.136007e-02\\\\\n",
       "\\end{tabular}\n"
      ],
      "text/markdown": [
       "\n",
       "| <!--/--> | Df | Deviance | Resid. Df | Resid. Dev | Pr(>Chi) |\n",
       "|---|---|---|---|---|---|\n",
       "| NULL | NA           |        NA    | 20           | 98.71946     |           NA |\n",
       "| Extract |  1           | 55.968596    | 19           | 42.75086     | 7.363792e-14 |\n",
       "| Seeds |  1           |  3.064972    | 18           | 39.68589     | 7.999655e-02 |\n",
       "| Extract:Seeds |  1           |  6.408104    | 17           | 33.27779     | 1.136007e-02 |\n",
       "\n"
      ],
      "text/plain": [
       "              Df Deviance  Resid. Df Resid. Dev Pr(>Chi)    \n",
       "NULL          NA        NA 20        98.71946             NA\n",
       "Extract        1 55.968596 19        42.75086   7.363792e-14\n",
       "Seeds          1  3.064972 18        39.68589   7.999655e-02\n",
       "Extract:Seeds  1  6.408104 17        33.27779   1.136007e-02"
      ]
     },
     "metadata": {},
     "output_type": "display_data"
    }
   ],
   "source": [
    "anova(gm.m1, test=\"Chisq\")"
   ]
  },
  {
   "cell_type": "code",
   "execution_count": 42,
   "metadata": {},
   "outputs": [
    {
     "data": {
      "text/html": [
       "17"
      ],
      "text/latex": [
       "17"
      ],
      "text/markdown": [
       "17"
      ],
      "text/plain": [
       "[1] 17"
      ]
     },
     "metadata": {},
     "output_type": "display_data"
    }
   ],
   "source": [
    "df.residual(gm.m1)"
   ]
  },
  {
   "cell_type": "code",
   "execution_count": 43,
   "metadata": {},
   "outputs": [
    {
     "data": {
      "text/html": [
       "<ol class=list-inline>\n",
       "\t<li>33.2777856905217</li>\n",
       "\t<li>17</li>\n",
       "</ol>\n"
      ],
      "text/latex": [
       "\\begin{enumerate*}\n",
       "\\item 33.2777856905217\n",
       "\\item 17\n",
       "\\end{enumerate*}\n"
      ],
      "text/markdown": [
       "1. 33.2777856905217\n",
       "2. 17\n",
       "\n",
       "\n"
      ],
      "text/plain": [
       "[1] 33.27779 17.00000"
      ]
     },
     "metadata": {},
     "output_type": "display_data"
    }
   ],
   "source": [
    "c( deviance(gm.m1), df.residual(gm.m1) )"
   ]
  },
  {
   "cell_type": "code",
   "execution_count": 44,
   "metadata": {},
   "outputs": [
    {
     "data": {
      "text/html": [
       "31.6511449954387"
      ],
      "text/latex": [
       "31.6511449954387"
      ],
      "text/markdown": [
       "31.6511449954387"
      ],
      "text/plain": [
       "[1] 31.65114"
      ]
     },
     "metadata": {},
     "output_type": "display_data"
    }
   ],
   "source": [
    "sum( resid(gm.m1, type=\"pearson\")^2 ) # Pearson.X2"
   ]
  },
  {
   "cell_type": "code",
   "execution_count": 46,
   "metadata": {},
   "outputs": [
    {
     "data": {
      "image/png": "[encoded data removed]",
      "text/plain": [
       "Plot with title \"Normal Q-Q Plot\""
      ]
     },
     "metadata": {},
     "output_type": "display_data"
    },
    {
     "data": {
      "image/png": "[encoded data removed]",
      "text/plain": [
       "Plot with title \"Residuals vs fitted\""
      ]
     },
     "metadata": {},
     "output_type": "display_data"
    }
   ],
   "source": [
    "qres <- qresid(gm.m1); qqnorm(qres, las=1); abline(0, 1)\n",
    "scatter.smooth( qres~fitted(gm.m1), las=1, main=\"Residuals vs fitted\",\n",
    "xlab=\"Fitted value\", ylab=\"Quantile residual\")"
   ]
  },
  {
   "cell_type": "code",
   "execution_count": 47,
   "metadata": {},
   "outputs": [
    {
     "data": {
      "text/html": [
       "<ol class=list-inline>\n",
       "\t<li>0.630579770863297</li>\n",
       "\t<li>-1.45695992831644</li>\n",
       "</ol>\n"
      ],
      "text/latex": [
       "\\begin{enumerate*}\n",
       "\\item 0.630579770863297\n",
       "\\item -1.45695992831644\n",
       "\\end{enumerate*}\n"
      ],
      "text/markdown": [
       "1. 0.630579770863297\n",
       "2. -1.45695992831644\n",
       "\n",
       "\n"
      ],
      "text/plain": [
       "[1]  0.6305798 -1.4569599"
      ]
     },
     "metadata": {},
     "output_type": "display_data"
    }
   ],
   "source": [
    "qres[c(6, 16)]"
   ]
  },
  {
   "cell_type": "code",
   "execution_count": 48,
   "metadata": {},
   "outputs": [
    {
     "data": {
      "text/html": [
       "<table>\n",
       "<thead><tr><th></th><th scope=col>Df</th><th scope=col>Deviance</th><th scope=col>Resid. Df</th><th scope=col>Resid. Dev</th><th scope=col>F</th><th scope=col>Pr(&gt;F)</th></tr></thead>\n",
       "<tbody>\n",
       "\t<tr><th scope=row>NULL</th><td>NA          </td><td>       NA   </td><td>20          </td><td>98.71946    </td><td>       NA   </td><td>          NA</td></tr>\n",
       "\t<tr><th scope=row>Extract</th><td> 1          </td><td>55.968596   </td><td>19          </td><td>42.75086    </td><td>30.061033   </td><td>4.042898e-05</td></tr>\n",
       "\t<tr><th scope=row>Seeds</th><td> 1          </td><td> 3.064972   </td><td>18          </td><td>39.68589    </td><td> 1.646213   </td><td>2.166920e-01</td></tr>\n",
       "\t<tr><th scope=row>Extract:Seeds</th><td> 1          </td><td> 6.408104   </td><td>17          </td><td>33.27779    </td><td> 3.441827   </td><td>8.099068e-02</td></tr>\n",
       "</tbody>\n",
       "</table>\n"
      ],
      "text/latex": [
       "\\begin{tabular}{r|llllll}\n",
       "  & Df & Deviance & Resid. Df & Resid. Dev & F & Pr(>F)\\\\\n",
       "\\hline\n",
       "\tNULL & NA           &        NA    & 20           & 98.71946     &        NA    &           NA\\\\\n",
       "\tExtract &  1           & 55.968596    & 19           & 42.75086     & 30.061033    & 4.042898e-05\\\\\n",
       "\tSeeds &  1           &  3.064972    & 18           & 39.68589     &  1.646213    & 2.166920e-01\\\\\n",
       "\tExtract:Seeds &  1           &  6.408104    & 17           & 33.27779     &  3.441827    & 8.099068e-02\\\\\n",
       "\\end{tabular}\n"
      ],
      "text/markdown": [
       "\n",
       "| <!--/--> | Df | Deviance | Resid. Df | Resid. Dev | F | Pr(>F) |\n",
       "|---|---|---|---|---|---|---|\n",
       "| NULL | NA           |        NA    | 20           | 98.71946     |        NA    |           NA |\n",
       "| Extract |  1           | 55.968596    | 19           | 42.75086     | 30.061033    | 4.042898e-05 |\n",
       "| Seeds |  1           |  3.064972    | 18           | 39.68589     |  1.646213    | 2.166920e-01 |\n",
       "| Extract:Seeds |  1           |  6.408104    | 17           | 33.27779     |  3.441827    | 8.099068e-02 |\n",
       "\n"
      ],
      "text/plain": [
       "              Df Deviance  Resid. Df Resid. Dev F         Pr(>F)      \n",
       "NULL          NA        NA 20        98.71946          NA           NA\n",
       "Extract        1 55.968596 19        42.75086   30.061033 4.042898e-05\n",
       "Seeds          1  3.064972 18        39.68589    1.646213 2.166920e-01\n",
       "Extract:Seeds  1  6.408104 17        33.27779    3.441827 8.099068e-02"
      ]
     },
     "metadata": {},
     "output_type": "display_data"
    }
   ],
   "source": [
    "gm.od <- update(gm.m1, family=quasibinomial)\n",
    "anova(gm.od, test=\"F\")"
   ]
  },
  {
   "cell_type": "code",
   "execution_count": 49,
   "metadata": {},
   "outputs": [
    {
     "data": {
      "text/html": [
       "1.36448966974397"
      ],
      "text/latex": [
       "1.36448966974397"
      ],
      "text/markdown": [
       "1.36448966974397"
      ],
      "text/plain": [
       "[1] 1.36449"
      ]
     },
     "metadata": {},
     "output_type": "display_data"
    }
   ],
   "source": [
    "sqrt(summary(gm.od)$dispersion)"
   ]
  },
  {
   "cell_type": "code",
   "execution_count": 51,
   "metadata": {},
   "outputs": [
    {
     "data": {
      "text/html": [
       "<table>\n",
       "<thead><tr><th></th><th scope=col>Estimate</th><th scope=col>Binom.SE</th><th scope=col>Quasi.SE</th><th scope=col>Ratio</th></tr></thead>\n",
       "<tbody>\n",
       "\t<tr><th scope=row>(Intercept)</th><td>-0.4122448</td><td>0.1841784 </td><td>0.2513095 </td><td>1.36449   </td></tr>\n",
       "\t<tr><th scope=row>ExtractCucumber</th><td> 0.5400782</td><td>0.2498130 </td><td>0.3408672 </td><td>1.36449   </td></tr>\n",
       "\t<tr><th scope=row>SeedsOA75</th><td>-0.1459269</td><td>0.2231659 </td><td>0.3045076 </td><td>1.36449   </td></tr>\n",
       "\t<tr><th scope=row>ExtractCucumber:SeedsOA75</th><td> 0.7781037</td><td>0.3064332 </td><td>0.4181249 </td><td>1.36449   </td></tr>\n",
       "</tbody>\n",
       "</table>\n"
      ],
      "text/latex": [
       "\\begin{tabular}{r|llll}\n",
       "  & Estimate & Binom.SE & Quasi.SE & Ratio\\\\\n",
       "\\hline\n",
       "\t(Intercept) & -0.4122448 & 0.1841784  & 0.2513095  & 1.36449   \\\\\n",
       "\tExtractCucumber &  0.5400782 & 0.2498130  & 0.3408672  & 1.36449   \\\\\n",
       "\tSeedsOA75 & -0.1459269 & 0.2231659  & 0.3045076  & 1.36449   \\\\\n",
       "\tExtractCucumber:SeedsOA75 &  0.7781037 & 0.3064332  & 0.4181249  & 1.36449   \\\\\n",
       "\\end{tabular}\n"
      ],
      "text/markdown": [
       "\n",
       "| <!--/--> | Estimate | Binom.SE | Quasi.SE | Ratio |\n",
       "|---|---|---|---|---|\n",
       "| (Intercept) | -0.4122448 | 0.1841784  | 0.2513095  | 1.36449    |\n",
       "| ExtractCucumber |  0.5400782 | 0.2498130  | 0.3408672  | 1.36449    |\n",
       "| SeedsOA75 | -0.1459269 | 0.2231659  | 0.3045076  | 1.36449    |\n",
       "| ExtractCucumber:SeedsOA75 |  0.7781037 | 0.3064332  | 0.4181249  | 1.36449    |\n",
       "\n"
      ],
      "text/plain": [
       "                          Estimate   Binom.SE  Quasi.SE  Ratio  \n",
       "(Intercept)               -0.4122448 0.1841784 0.2513095 1.36449\n",
       "ExtractCucumber            0.5400782 0.2498130 0.3408672 1.36449\n",
       "SeedsOA75                 -0.1459269 0.2231659 0.3045076 1.36449\n",
       "ExtractCucumber:SeedsOA75  0.7781037 0.3064332 0.4181249 1.36449"
      ]
     },
     "metadata": {},
     "output_type": "display_data"
    }
   ],
   "source": [
    "beta <- coef(summary(gm.m1))[,\"Estimate\"]\n",
    "m1.se <- coef(summary(gm.m1))[,\"Std. Error\"]\n",
    "od.se <- coef(summary(gm.od))[,\"Std. Error\"]\n",
    "data.frame(Estimate=beta, Binom.SE=m1.se,\n",
    "Quasi.SE=od.se, Ratio=od.se/m1.se)"
   ]
  },
  {
   "cell_type": "code",
   "execution_count": 53,
   "metadata": {},
   "outputs": [
    {
     "name": "stdout",
     "output_type": "stream",
     "text": [
      "              Estimate Std. Error z value Pr(>|z|)  \n",
      "(Intercept)   -0.84730    0.48795 -1.7364  0.08249 .\n",
      "Eucs15TRUE    20.41337 3242.45694  0.0063  0.99498  \n",
      "---\n",
      "Signif. codes:  0 '***' 0.001 '**' 0.01 '*' 0.05 '.' 0.1 ' ' 1\n"
     ]
    }
   ],
   "source": [
    "data(nminer); Eucs15 <- nminer$Eucs>15\n",
    "m1 <- glm(Miners ~ Eucs15, data=nminer, family=binomial)\n",
    "printCoefmat(coef(summary(m1)))"
   ]
  },
  {
   "cell_type": "code",
   "execution_count": 54,
   "metadata": {},
   "outputs": [
    {
     "data": {
      "text/html": [
       "<table>\n",
       "<thead><tr><th></th><th scope=col>Df</th><th scope=col>Deviance</th><th scope=col>Resid. Df</th><th scope=col>Resid. Dev</th><th scope=col>Pr(&gt;Chi)</th></tr></thead>\n",
       "<tbody>\n",
       "\t<tr><th scope=row>NULL</th><td>NA          </td><td>      NA    </td><td>30          </td><td>42.68435    </td><td>          NA</td></tr>\n",
       "\t<tr><th scope=row>Eucs15</th><td> 1          </td><td>18.24978    </td><td>29          </td><td>24.43457    </td><td>1.937488e-05</td></tr>\n",
       "</tbody>\n",
       "</table>\n"
      ],
      "text/latex": [
       "\\begin{tabular}{r|lllll}\n",
       "  & Df & Deviance & Resid. Df & Resid. Dev & Pr(>Chi)\\\\\n",
       "\\hline\n",
       "\tNULL & NA           &       NA     & 30           & 42.68435     &           NA\\\\\n",
       "\tEucs15 &  1           & 18.24978     & 29           & 24.43457     & 1.937488e-05\\\\\n",
       "\\end{tabular}\n"
      ],
      "text/markdown": [
       "\n",
       "| <!--/--> | Df | Deviance | Resid. Df | Resid. Dev | Pr(>Chi) |\n",
       "|---|---|---|---|---|---|\n",
       "| NULL | NA           |       NA     | 30           | 42.68435     |           NA |\n",
       "| Eucs15 |  1           | 18.24978     | 29           | 24.43457     | 1.937488e-05 |\n",
       "\n"
      ],
      "text/plain": [
       "       Df Deviance Resid. Df Resid. Dev Pr(>Chi)    \n",
       "NULL   NA       NA 30        42.68435             NA\n",
       "Eucs15  1 18.24978 29        24.43457   1.937488e-05"
      ]
     },
     "metadata": {},
     "output_type": "display_data"
    }
   ],
   "source": [
    "anova(m1, test=\"Chisq\")"
   ]
  },
  {
   "cell_type": "code",
   "execution_count": 55,
   "metadata": {},
   "outputs": [
    {
     "data": {
      "text/html": [
       "<ol class=list-inline>\n",
       "\t<li>3.74717278201066</li>\n",
       "\t<li>0.000178838903714729</li>\n",
       "</ol>\n"
      ],
      "text/latex": [
       "\\begin{enumerate*}\n",
       "\\item 3.74717278201066\n",
       "\\item 0.000178838903714729\n",
       "\\end{enumerate*}\n"
      ],
      "text/markdown": [
       "1. 3.74717278201066\n",
       "2. 0.000178838903714729\n",
       "\n",
       "\n"
      ],
      "text/plain": [
       "[1] 3.7471727820 0.0001788389"
      ]
     },
     "metadata": {},
     "output_type": "display_data"
    }
   ],
   "source": [
    "m0 <- glm(Miners ~ 1, data=nminer, family=binomial)\n",
    "z.score <- glm.scoretest(m0, Eucs15)\n",
    "P.score <- 2*(1-pnorm(abs(z.score))); c(z.score, P.score)"
   ]
  },
  {
   "cell_type": "code",
   "execution_count": 56,
   "metadata": {},
   "outputs": [
    {
     "data": {
      "image/png": "[encoded data removed]",
      "text/plain": [
       "Plot with title \"\""
      ]
     },
     "metadata": {},
     "output_type": "display_data"
    },
    {
     "data": {
      "image/png": "[encoded data removed]",
      "text/plain": [
       "plot without title"
      ]
     },
     "metadata": {},
     "output_type": "display_data"
    }
   ],
   "source": [
    "plot( factor(Miners, labels=c(\"No\",\"Yes\")) ~ factor(Eucs15), las=1,\n",
    "ylab=\"Noisy miners present?\", xlab=\"Eucalypts > 15\", data=nminer)\n",
    "plot( Miners ~ Eucs, pch=ifelse(Eucs15, 1, 19), data=nminer, las=1)\n",
    "abline(v=15.5, col=\"gray\")"
   ]
  },
  {
   "cell_type": "code",
   "execution_count": 57,
   "metadata": {},
   "outputs": [
    {
     "data": {
      "text/html": [
       "<dl class=dl-horizontal>\n",
       "\t<dt>FALSE</dt>\n",
       "\t\t<dd>0.3</dd>\n",
       "\t<dt>TRUE</dt>\n",
       "\t\t<dd>0.999999996818995</dd>\n",
       "</dl>\n"
      ],
      "text/latex": [
       "\\begin{description*}\n",
       "\\item[FALSE] 0.3\n",
       "\\item[TRUE] 0.999999996818995\n",
       "\\end{description*}\n"
      ],
      "text/markdown": [
       "FALSE\n",
       ":   0.3TRUE\n",
       ":   0.999999996818995\n",
       "\n"
      ],
      "text/plain": [
       "FALSE  TRUE \n",
       "  0.3   1.0 "
      ]
     },
     "metadata": {},
     "output_type": "display_data"
    }
   ],
   "source": [
    "tapply(fitted(m1), Eucs15, mean)"
   ]
  },
  {
   "cell_type": "code",
   "execution_count": 58,
   "metadata": {},
   "outputs": [
    {
     "name": "stdout",
     "output_type": "stream",
     "text": [
      "'data.frame':\t18 obs. of  4 variables:\n",
      " $ Killed     : int  3 5 19 19 24 35 2 14 20 27 ...\n",
      " $ Number     : int  50 49 47 38 29 50 50 49 50 50 ...\n",
      " $ Insecticide: Factor w/ 3 levels \"A\",\"B\",\"C\": 1 1 1 1 1 1 2 2 2 2 ...\n",
      " $ Deposit    : num  2 2.64 3.48 4.59 6.06 8 2 2.64 3.48 4.59 ...\n"
     ]
    }
   ],
   "source": [
    "data(deposit); str(deposit)"
   ]
  },
  {
   "cell_type": "code",
   "execution_count": 60,
   "metadata": {},
   "outputs": [],
   "source": [
    "deposit$Prop <- deposit$Killed / deposit$Number"
   ]
  },
  {
   "cell_type": "code",
   "execution_count": 62,
   "metadata": {},
   "outputs": [
    {
     "data": {
      "image/png": "[encoded data removed]",
      "text/plain": [
       "Plot with title \"Proportion of\n",
       "insects killed\""
      ]
     },
     "metadata": {},
     "output_type": "display_data"
    }
   ],
   "source": [
    "plot( Prop ~ Deposit, type=\"n\", las=1, ylim=c(0, 1),\n",
    "data=deposit, main=\"Proportion of\\ninsects killed\",\n",
    "xlab=\"Deposit (in mg)\", ylab=\"Proportion killed\")\n",
    "points( Prop ~ Deposit, pch=\"A\", subset=(Insecticide==\"A\"), data=deposit)\n",
    "points( Prop ~ Deposit, pch=\"B\", subset=(Insecticide==\"B\"), data=deposit)\n",
    "points( Prop ~ Deposit, pch=\"C\", subset=(Insecticide==\"C\"), data=deposit)"
   ]
  },
  {
   "cell_type": "code",
   "execution_count": 63,
   "metadata": {},
   "outputs": [],
   "source": [
    "ins.m1 <- glm(Killed/Number ~ Deposit + Insecticide,\n",
    "family = binomial, weights = Number, data = deposit)"
   ]
  },
  {
   "cell_type": "code",
   "execution_count": 64,
   "metadata": {},
   "outputs": [
    {
     "data": {
      "text/html": [
       "<dl class=dl-horizontal>\n",
       "\t<dt>(Intercept)</dt>\n",
       "\t\t<dd>-3.221363831905</dd>\n",
       "\t<dt>Deposit</dt>\n",
       "\t\t<dd>0.631676157692467</dd>\n",
       "\t<dt>InsecticideB</dt>\n",
       "\t\t<dd>0.369526708068036</dd>\n",
       "\t<dt>InsecticideC</dt>\n",
       "\t\t<dd>2.68801616729073</dd>\n",
       "</dl>\n"
      ],
      "text/latex": [
       "\\begin{description*}\n",
       "\\item[(Intercept)] -3.221363831905\n",
       "\\item[Deposit] 0.631676157692467\n",
       "\\item[InsecticideB] 0.369526708068036\n",
       "\\item[InsecticideC] 2.68801616729073\n",
       "\\end{description*}\n"
      ],
      "text/markdown": [
       "(Intercept)\n",
       ":   -3.221363831905Deposit\n",
       ":   0.631676157692467InsecticideB\n",
       ":   0.369526708068036InsecticideC\n",
       ":   2.68801616729073\n",
       "\n"
      ],
      "text/plain": [
       " (Intercept)      Deposit InsecticideB InsecticideC \n",
       "  -3.2213638    0.6316762    0.3695267    2.6880162 "
      ]
     },
     "metadata": {},
     "output_type": "display_data"
    }
   ],
   "source": [
    "coef(ins.m1)"
   ]
  },
  {
   "cell_type": "code",
   "execution_count": 66,
   "metadata": {},
   "outputs": [
    {
     "ename": "ERROR",
     "evalue": "Error in plot.xy(xy.coords(x, y), type = type, ...): plot.new has not been called yet\n",
     "output_type": "error",
     "traceback": [
      "Error in plot.xy(xy.coords(x, y), type = type, ...): plot.new has not been called yet\nTraceback:\n",
      "1. lines(newProp.logA ~ newD, lty = 1)",
      "2. lines.formula(newProp.logA ~ newD, lty = 1)",
      "3. do.call(\"lines\", c(list(mf[[xn]], y), dots))",
      "4. lines(c(2, 2.06060606060606, 2.12121212121212, 2.18181818181818, \n . 2.24242424242424, 2.3030303030303, 2.36363636363636, 2.42424242424242, \n . 2.48484848484848, 2.54545454545455, 2.60606060606061, 2.66666666666667, \n . 2.72727272727273, 2.78787878787879, 2.84848484848485, 2.90909090909091, \n . 2.96969696969697, 3.03030303030303, 3.09090909090909, 3.15151515151515, \n . 3.21212121212121, 3.27272727272727, 3.33333333333333, 3.39393939393939, \n . 3.45454545454545, 3.51515151515152, 3.57575757575758, 3.63636363636364, \n . 3.6969696969697, 3.75757575757576, 3.81818181818182, 3.87878787878788, \n . 3.93939393939394, 4, 4.06060606060606, 4.12121212121212, 4.18181818181818, \n . 4.24242424242424, 4.3030303030303, 4.36363636363636, 4.42424242424242, \n . 4.48484848484848, 4.54545454545454, 4.60606060606061, 4.66666666666667, \n . 4.72727272727273, 4.78787878787879, 4.84848484848485, 4.90909090909091, \n . 4.96969696969697, 5.03030303030303, 5.09090909090909, 5.15151515151515, \n . 5.21212121212121, 5.27272727272727, 5.33333333333333, 5.39393939393939, \n . 5.45454545454546, 5.51515151515152, 5.57575757575758, 5.63636363636364, \n . 5.6969696969697, 5.75757575757576, 5.81818181818182, 5.87878787878788, \n . 5.93939393939394, 6, 6.06060606060606, 6.12121212121212, 6.18181818181818, \n . 6.24242424242424, 6.3030303030303, 6.36363636363636, 6.42424242424242, \n . 6.48484848484849, 6.54545454545455, 6.60606060606061, 6.66666666666667, \n . 6.72727272727273, 6.78787878787879, 6.84848484848485, 6.90909090909091, \n . 6.96969696969697, 7.03030303030303, 7.09090909090909, 7.15151515151515, \n . 7.21212121212121, 7.27272727272727, 7.33333333333333, 7.39393939393939, \n . 7.45454545454546, 7.51515151515152, 7.57575757575758, 7.63636363636364, \n . 7.6969696969697, 7.75757575757576, 7.81818181818182, 7.87878787878788, \n . 7.93939393939394, 8), c(`1` = 0.12368240826103, `2` = 0.127891888315509, \n . `3` = 0.132223019342685, `4` = 0.136677839296773, `5` = 0.141258317756859, \n . `6` = 0.145966347643087, `7` = 0.150803736645547, `8` = 0.155772198385232, \n . `9` = 0.160873343329932, `10` = 0.166108669491498, `11` = 0.17147955293466, \n . `12` = 0.176987238131363, `13` = 0.182632828198536, `14` = 0.188417275061055, \n . `15` = 0.194341369585643, `16` = 0.20040573173525, `17` = 0.206610800797254, \n . `18` = 0.2129568257424, `19` = 0.21944385577479, `20` = 0.226071731136353, \n . `21` = 0.232840074232011, `22` = 0.239748281144143, `23` = 0.24679551360687, \n . `24` = 0.253980691512091, `25` = 0.261302486020027, `26` = 0.268759313347168, \n . `27` = 0.276349329304031, `28` = 0.28407042465382, `29` = 0.291920221361031, \n . `30` = 0.299896069796135, `31` = 0.307995046958737, `32` = 0.316213955776976, \n . `33` = 0.324549325535507, `34` = 0.332997413478024, `35` = 0.341554207623198, \n . `36` = 0.35021543082494, `37` = 0.358976546099298, `38` = 0.367832763230949, \n . `39` = 0.376779046662452, `40` = 0.385810124659066, `41` = 0.39492049973128, \n . `42` = 0.404104460286329, `43` = 0.413356093468974, `44` = 0.422669299140899, \n . `45` = 0.432037804937358, `46` = 0.441455182329333, `47` = 0.450914863609556, \n . `48` = 0.460410159711557, `49` = 0.46993427876239, `50` = 0.479480345262194, \n . `51` = 0.489041419777191, `52` = 0.498610519027359, `53` = 0.508180636245843, \n . `54` = 0.517744761684284, `55` = 0.527295903136684, `56` = 0.536827106354241, \n . `57` = 0.546331475224745, `58` = 0.555802191592618, `59` = 0.565232534599491, \n . `60` = 0.574615899430263, `61` = 0.583945815355759, `62` = 0.593215962970381, \n . `63` = 0.602420190531348, `64` = 0.611552529315141, `65` = 0.620607207916481, \n . `66` = 0.629578665425408, `67` = 0.638461563428692, `68` = 0.64725079679265, \n . `69` = 0.655941503195477, `70` = 0.664529071388064, `71` = 0.673009148173087, \n . `72` = 0.681377644102525, `73` = 0.689630737903808, `74` = 0.697764879654233, \n . `75` = 0.705776792732156, `76` = 0.713663474581558, `77` = 0.721422196334027, \n . `78` = 0.729050501338675, `79` = 0.736546202656308, `80` = 0.743907379578971, \n . `81` = 0.751132373240008, `82` = 0.758219781382929, `83` = 0.765168452359652, \n . `84` = 0.771977478430238, `85` = 0.778646188436928, `86` = 0.785174139925376, \n . `87` = 0.791561110785283, `88` = 0.797807090481433, `89` = 0.803912270944351, \n . `90` = 0.809877037187512, `91` = 0.815701957715402, `92` = 0.82138777478365, \n . `93` = 0.826935394569199, `94` = 0.832345877304865, `95` = 0.83762042742899, \n . `96` = 0.842760383797002, `97` = 0.847767209997833, `98` = 0.852642484814209, \n . `99` = 0.857387892861919, `100` = 0.862005215439342), lty = 1)",
      "5. lines.default(c(2, 2.06060606060606, 2.12121212121212, 2.18181818181818, \n . 2.24242424242424, 2.3030303030303, 2.36363636363636, 2.42424242424242, \n . 2.48484848484848, 2.54545454545455, 2.60606060606061, 2.66666666666667, \n . 2.72727272727273, 2.78787878787879, 2.84848484848485, 2.90909090909091, \n . 2.96969696969697, 3.03030303030303, 3.09090909090909, 3.15151515151515, \n . 3.21212121212121, 3.27272727272727, 3.33333333333333, 3.39393939393939, \n . 3.45454545454545, 3.51515151515152, 3.57575757575758, 3.63636363636364, \n . 3.6969696969697, 3.75757575757576, 3.81818181818182, 3.87878787878788, \n . 3.93939393939394, 4, 4.06060606060606, 4.12121212121212, 4.18181818181818, \n . 4.24242424242424, 4.3030303030303, 4.36363636363636, 4.42424242424242, \n . 4.48484848484848, 4.54545454545454, 4.60606060606061, 4.66666666666667, \n . 4.72727272727273, 4.78787878787879, 4.84848484848485, 4.90909090909091, \n . 4.96969696969697, 5.03030303030303, 5.09090909090909, 5.15151515151515, \n . 5.21212121212121, 5.27272727272727, 5.33333333333333, 5.39393939393939, \n . 5.45454545454546, 5.51515151515152, 5.57575757575758, 5.63636363636364, \n . 5.6969696969697, 5.75757575757576, 5.81818181818182, 5.87878787878788, \n . 5.93939393939394, 6, 6.06060606060606, 6.12121212121212, 6.18181818181818, \n . 6.24242424242424, 6.3030303030303, 6.36363636363636, 6.42424242424242, \n . 6.48484848484849, 6.54545454545455, 6.60606060606061, 6.66666666666667, \n . 6.72727272727273, 6.78787878787879, 6.84848484848485, 6.90909090909091, \n . 6.96969696969697, 7.03030303030303, 7.09090909090909, 7.15151515151515, \n . 7.21212121212121, 7.27272727272727, 7.33333333333333, 7.39393939393939, \n . 7.45454545454546, 7.51515151515152, 7.57575757575758, 7.63636363636364, \n . 7.6969696969697, 7.75757575757576, 7.81818181818182, 7.87878787878788, \n . 7.93939393939394, 8), c(`1` = 0.12368240826103, `2` = 0.127891888315509, \n . `3` = 0.132223019342685, `4` = 0.136677839296773, `5` = 0.141258317756859, \n . `6` = 0.145966347643087, `7` = 0.150803736645547, `8` = 0.155772198385232, \n . `9` = 0.160873343329932, `10` = 0.166108669491498, `11` = 0.17147955293466, \n . `12` = 0.176987238131363, `13` = 0.182632828198536, `14` = 0.188417275061055, \n . `15` = 0.194341369585643, `16` = 0.20040573173525, `17` = 0.206610800797254, \n . `18` = 0.2129568257424, `19` = 0.21944385577479, `20` = 0.226071731136353, \n . `21` = 0.232840074232011, `22` = 0.239748281144143, `23` = 0.24679551360687, \n . `24` = 0.253980691512091, `25` = 0.261302486020027, `26` = 0.268759313347168, \n . `27` = 0.276349329304031, `28` = 0.28407042465382, `29` = 0.291920221361031, \n . `30` = 0.299896069796135, `31` = 0.307995046958737, `32` = 0.316213955776976, \n . `33` = 0.324549325535507, `34` = 0.332997413478024, `35` = 0.341554207623198, \n . `36` = 0.35021543082494, `37` = 0.358976546099298, `38` = 0.367832763230949, \n . `39` = 0.376779046662452, `40` = 0.385810124659066, `41` = 0.39492049973128, \n . `42` = 0.404104460286329, `43` = 0.413356093468974, `44` = 0.422669299140899, \n . `45` = 0.432037804937358, `46` = 0.441455182329333, `47` = 0.450914863609556, \n . `48` = 0.460410159711557, `49` = 0.46993427876239, `50` = 0.479480345262194, \n . `51` = 0.489041419777191, `52` = 0.498610519027359, `53` = 0.508180636245843, \n . `54` = 0.517744761684284, `55` = 0.527295903136684, `56` = 0.536827106354241, \n . `57` = 0.546331475224745, `58` = 0.555802191592618, `59` = 0.565232534599491, \n . `60` = 0.574615899430263, `61` = 0.583945815355759, `62` = 0.593215962970381, \n . `63` = 0.602420190531348, `64` = 0.611552529315141, `65` = 0.620607207916481, \n . `66` = 0.629578665425408, `67` = 0.638461563428692, `68` = 0.64725079679265, \n . `69` = 0.655941503195477, `70` = 0.664529071388064, `71` = 0.673009148173087, \n . `72` = 0.681377644102525, `73` = 0.689630737903808, `74` = 0.697764879654233, \n . `75` = 0.705776792732156, `76` = 0.713663474581558, `77` = 0.721422196334027, \n . `78` = 0.729050501338675, `79` = 0.736546202656308, `80` = 0.743907379578971, \n . `81` = 0.751132373240008, `82` = 0.758219781382929, `83` = 0.765168452359652, \n . `84` = 0.771977478430238, `85` = 0.778646188436928, `86` = 0.785174139925376, \n . `87` = 0.791561110785283, `88` = 0.797807090481433, `89` = 0.803912270944351, \n . `90` = 0.809877037187512, `91` = 0.815701957715402, `92` = 0.82138777478365, \n . `93` = 0.826935394569199, `94` = 0.832345877304865, `95` = 0.83762042742899, \n . `96` = 0.842760383797002, `97` = 0.847767209997833, `98` = 0.852642484814209, \n . `99` = 0.857387892861919, `100` = 0.862005215439342), lty = 1)",
      "6. plot.xy(xy.coords(x, y), type = type, ...)"
     ]
    }
   ],
   "source": [
    "newD <- seq( min(deposit$Deposit), max(deposit$Deposit), length=100)\n",
    "newProp.logA <- predict(ins.m1, type=\"response\", newdata=data.frame(Deposit=newD, Insecticide=\"A\") )\n",
    "newProp.logB <- predict(ins.m1, type=\"response\", newdata=data.frame(Deposit=newD, Insecticide=\"B\") )\n",
    "newProp.logC <- predict(ins.m1, type=\"response\", newdata=data.frame(Deposit=newD, Insecticide=\"C\") )\n",
    "lines( newProp.logA ~ newD, lty=1);\n",
    "lines( newProp.logB ~ newD, lty=2)\n",
    "lines( newProp.logC ~ newD, lty=3)"
   ]
  },
  {
   "cell_type": "code",
   "execution_count": 67,
   "metadata": {},
   "outputs": [
    {
     "data": {
      "text/plain": [
       "             Dose        SE\n",
       "p = 0.5: 5.099708 0.2468085"
      ]
     },
     "metadata": {},
     "output_type": "display_data"
    }
   ],
   "source": [
    "dose.p(ins.m1, c(1, 2))"
   ]
  },
  {
   "cell_type": "code",
   "execution_count": 68,
   "metadata": {},
   "outputs": [],
   "source": [
    "ins.m1A <- update( ins.m1, .~. - 1) "
   ]
  },
  {
   "cell_type": "code",
   "execution_count": 69,
   "metadata": {},
   "outputs": [
    {
     "data": {
      "text/html": [
       "<dl class=dl-horizontal>\n",
       "\t<dt>Deposit</dt>\n",
       "\t\t<dd>0.631676157692467</dd>\n",
       "\t<dt>InsecticideA</dt>\n",
       "\t\t<dd>-3.221363831905</dd>\n",
       "\t<dt>InsecticideB</dt>\n",
       "\t\t<dd>-2.85183712383696</dd>\n",
       "\t<dt>InsecticideC</dt>\n",
       "\t\t<dd>-0.533347664614264</dd>\n",
       "</dl>\n"
      ],
      "text/latex": [
       "\\begin{description*}\n",
       "\\item[Deposit] 0.631676157692467\n",
       "\\item[InsecticideA] -3.221363831905\n",
       "\\item[InsecticideB] -2.85183712383696\n",
       "\\item[InsecticideC] -0.533347664614264\n",
       "\\end{description*}\n"
      ],
      "text/markdown": [
       "Deposit\n",
       ":   0.631676157692467InsecticideA\n",
       ":   -3.221363831905InsecticideB\n",
       ":   -2.85183712383696InsecticideC\n",
       ":   -0.533347664614264\n",
       "\n"
      ],
      "text/plain": [
       "     Deposit InsecticideA InsecticideB InsecticideC \n",
       "   0.6316762   -3.2213638   -2.8518371   -0.5333477 "
      ]
     },
     "metadata": {},
     "output_type": "display_data"
    }
   ],
   "source": [
    "coef( ins.m1A )"
   ]
  },
  {
   "cell_type": "code",
   "execution_count": 70,
   "metadata": {},
   "outputs": [],
   "source": [
    "ED50s <- cbind( dose.p(ins.m1A, c(2, 1)), dose.p(ins.m1A, c(3, 1)),\n",
    "dose.p(ins.m1A, c(4, 1)) )"
   ]
  },
  {
   "cell_type": "code",
   "execution_count": 71,
   "metadata": {},
   "outputs": [
    {
     "data": {
      "text/html": [
       "<table>\n",
       "<thead><tr><th></th><th scope=col>Insect. A</th><th scope=col>Insect. B</th><th scope=col>Insect. C</th></tr></thead>\n",
       "<tbody>\n",
       "\t<tr><th scope=row>p = 0.5:</th><td>5.099708 </td><td>4.514714 </td><td>0.8443372</td></tr>\n",
       "</tbody>\n",
       "</table>\n"
      ],
      "text/latex": [
       "\\begin{tabular}{r|lll}\n",
       "  & Insect. A & Insect. B & Insect. C\\\\\n",
       "\\hline\n",
       "\tp = 0.5: & 5.099708  & 4.514714  & 0.8443372\\\\\n",
       "\\end{tabular}\n"
      ],
      "text/markdown": [
       "\n",
       "| <!--/--> | Insect. A | Insect. B | Insect. C |\n",
       "|---|---|---|---|\n",
       "| p = 0.5: | 5.099708  | 4.514714  | 0.8443372 |\n",
       "\n"
      ],
      "text/plain": [
       "         Insect. A Insect. B Insect. C\n",
       "p = 0.5: 5.099708  4.514714  0.8443372"
      ]
     },
     "metadata": {},
     "output_type": "display_data"
    }
   ],
   "source": [
    "colnames(ED50s) <- c(\"Insect. A\",\"Insect. B\", \"Insect. C\"); ED50s"
   ]
  },
  {
   "cell_type": "code",
   "execution_count": 72,
   "metadata": {},
   "outputs": [
    {
     "data": {
      "image/png": "[encoded data removed]",
      "text/plain": [
       "Plot with title \"Quantile resids. plotted\n",
       "against fitted values\""
      ]
     },
     "metadata": {},
     "output_type": "display_data"
    }
   ],
   "source": [
    "plot( qresid(ins.m1) ~ fitted(ins.m1), type=\"n\", las=1, ylim=c(-3, 3),\n",
    "main=\"Quantile resids. plotted\\nagainst fitted values\",\n",
    "xlab=\"Fitted values\", ylab=\"Residuals\")\n",
    "abline(h = 0, col=\"grey\")\n",
    "points( qresid(ins.m1) ~ fitted(ins.m1), pch=\"A\", type=\"b\", lty=1,\n",
    "subset=(deposit$Insecticide==\"A\") )\n",
    "points( qresid(ins.m1) ~ fitted(ins.m1), pch=\"B\", type=\"b\", lty=2,\n",
    "subset=(deposit$Insecticide==\"B\") )\n",
    "points( qresid(ins.m1) ~ fitted(ins.m1), pch=\"C\", type=\"b\", lty=3,\n",
    "subset=(deposit$Insecticide==\"C\"))"
   ]
  },
  {
   "cell_type": "code",
   "execution_count": 73,
   "metadata": {},
   "outputs": [
    {
     "data": {
      "image/png": "[encoded data removed]",
      "text/plain": [
       "Plot with title \"Logits plotted\n",
       "against Deposit\""
      ]
     },
     "metadata": {},
     "output_type": "display_data"
    }
   ],
   "source": [
    "LogOdds <- with(deposit, log(Prop/(1-Prop)) )\n",
    "plot( LogOdds ~ Deposit, type=\"n\", xlab=\"Deposit\", data=deposit,\n",
    "main=\"Logits plotted\\nagainst Deposit\", las=1)\n",
    "points( LogOdds ~ Deposit, pch=\"A\", type=\"b\", lty=1,\n",
    "data=deposit, subset=(Insecticide==\"A\") )\n",
    "points( LogOdds ~ Deposit, pch=\"B\", type=\"b\", lty=2,\n",
    "data=deposit, subset=(Insecticide==\"B\") )\n",
    "points( LogOdds ~ Deposit, pch=\"C\", type=\"b\", lty=3,\n",
    "data=deposit, subset=(Insecticide==\"C\") )"
   ]
  },
  {
   "cell_type": "code",
   "execution_count": 74,
   "metadata": {},
   "outputs": [],
   "source": [
    "deposit$logDep <- log( deposit$Deposit )\n",
    "ins.m2 <- glm(Killed/Number ~ logDep + Insecticide - 1,\n",
    "family = binomial, weights = Number, data = deposit)"
   ]
  },
  {
   "cell_type": "code",
   "execution_count": 75,
   "metadata": {},
   "outputs": [],
   "source": [
    "ED50s <- cbind( dose.p(ins.m2, c(2, 1)), dose.p(ins.m2, c(3, 1)),\n",
    "dose.p(ins.m2, c(4, 1)) )"
   ]
  },
  {
   "cell_type": "code",
   "execution_count": 76,
   "metadata": {},
   "outputs": [
    {
     "data": {
      "text/html": [
       "<table>\n",
       "<thead><tr><th></th><th scope=col>Insect. A</th><th scope=col>Insect. B</th><th scope=col>Insect. C</th></tr></thead>\n",
       "<tbody>\n",
       "\t<tr><th scope=row>p = 0.5:</th><td>4.688232</td><td>4.154625</td><td>1.753202</td></tr>\n",
       "</tbody>\n",
       "</table>\n"
      ],
      "text/latex": [
       "\\begin{tabular}{r|lll}\n",
       "  & Insect. A & Insect. B & Insect. C\\\\\n",
       "\\hline\n",
       "\tp = 0.5: & 4.688232 & 4.154625 & 1.753202\\\\\n",
       "\\end{tabular}\n"
      ],
      "text/markdown": [
       "\n",
       "| <!--/--> | Insect. A | Insect. B | Insect. C |\n",
       "|---|---|---|---|\n",
       "| p = 0.5: | 4.688232 | 4.154625 | 1.753202 |\n",
       "\n"
      ],
      "text/plain": [
       "         Insect. A Insect. B Insect. C\n",
       "p = 0.5: 4.688232  4.154625  1.753202 "
      ]
     },
     "metadata": {},
     "output_type": "display_data"
    }
   ],
   "source": [
    "colnames(ED50s) <- c(\"Insect. A\",\"Insect. B\", \"Insect. C\"); exp(ED50s)"
   ]
  },
  {
   "cell_type": "code",
   "execution_count": 77,
   "metadata": {},
   "outputs": [],
   "source": [
    "ins.m3 <- glm(Killed/Number ~ poly(logDep, 2) + Insecticide,\n",
    "family = binomial, weights = Number, data = deposit)"
   ]
  },
  {
   "cell_type": "code",
   "execution_count": 78,
   "metadata": {},
   "outputs": [
    {
     "data": {
      "text/html": [
       "<table>\n",
       "<thead><tr><th scope=col>Resid. Df</th><th scope=col>Resid. Dev</th><th scope=col>Df</th><th scope=col>Deviance</th><th scope=col>Pr(&gt;Chi)</th></tr></thead>\n",
       "<tbody>\n",
       "\t<tr><td>14         </td><td>23.38522   </td><td>NA         </td><td>      NA   </td><td>         NA</td></tr>\n",
       "\t<tr><td>13         </td><td>15.09036   </td><td> 1         </td><td>8.294865   </td><td>0.003975734</td></tr>\n",
       "</tbody>\n",
       "</table>\n"
      ],
      "text/latex": [
       "\\begin{tabular}{r|lllll}\n",
       " Resid. Df & Resid. Dev & Df & Deviance & Pr(>Chi)\\\\\n",
       "\\hline\n",
       "\t 14          & 23.38522    & NA          &       NA    &          NA\\\\\n",
       "\t 13          & 15.09036    &  1          & 8.294865    & 0.003975734\\\\\n",
       "\\end{tabular}\n"
      ],
      "text/markdown": [
       "\n",
       "| Resid. Df | Resid. Dev | Df | Deviance | Pr(>Chi) |\n",
       "|---|---|---|---|---|\n",
       "| 14          | 23.38522    | NA          |       NA    |          NA |\n",
       "| 13          | 15.09036    |  1          | 8.294865    | 0.003975734 |\n",
       "\n"
      ],
      "text/plain": [
       "  Resid. Df Resid. Dev Df Deviance Pr(>Chi)   \n",
       "1 14        23.38522   NA       NA          NA\n",
       "2 13        15.09036    1 8.294865 0.003975734"
      ]
     },
     "metadata": {},
     "output_type": "display_data"
    }
   ],
   "source": [
    "anova( ins.m2, ins.m3, test=\"Chisq\")"
   ]
  },
  {
   "cell_type": "code",
   "execution_count": 79,
   "metadata": {},
   "outputs": [
    {
     "ename": "ERROR",
     "evalue": "Error in plot.xy(xy.coords(x, y), type = type, ...): plot.new has not been called yet\n",
     "output_type": "error",
     "traceback": [
      "Error in plot.xy(xy.coords(x, y), type = type, ...): plot.new has not been called yet\nTraceback:\n",
      "1. lines(newProp4.logA ~ newD, lty = 1)",
      "2. lines.formula(newProp4.logA ~ newD, lty = 1)",
      "3. do.call(\"lines\", c(list(mf[[xn]], y), dots))",
      "4. lines(c(0.693147180559945, 0.700113483882156, 0.707079787204366, \n . 0.714046090526577, 0.721012393848787, 0.727978697170998, 0.734945000493208, \n . 0.741911303815419, 0.748877607137629, 0.75584391045984, 0.76281021378205, \n . 0.769776517104261, 0.776742820426471, 0.783709123748682, 0.790675427070892, \n . 0.797641730393103, 0.804608033715313, 0.811574337037524, 0.818540640359734, \n . 0.825506943681945, 0.832473247004155, 0.839439550326366, 0.846405853648576, \n . 0.853372156970787, 0.860338460292997, 0.867304763615208, 0.874271066937418, \n . 0.881237370259629, 0.888203673581839, 0.89516997690405, 0.90213628022626, \n . 0.909102583548471, 0.916068886870681, 0.923035190192892, 0.930001493515102, \n . 0.936967796837313, 0.943934100159523, 0.950900403481734, 0.957866706803944, \n . 0.964833010126155, 0.971799313448365, 0.978765616770576, 0.985731920092786, \n . 0.992698223414997, 0.999664526737208, 1.00663083005942, 1.01359713338163, \n . 1.02056343670384, 1.02752974002605, 1.03449604334826, 1.04146234667047, \n . 1.04842864999268, 1.05539495331489, 1.0623612566371, 1.06932755995931, \n . 1.07629386328152, 1.08326016660373, 1.09022646992594, 1.09719277324815, \n . 1.10415907657037, 1.11112537989258, 1.11809168321479, 1.125057986537, \n . 1.13202428985921, 1.13899059318142, 1.14595689650363, 1.15292319982584, \n . 1.15988950314805, 1.16685580647026, 1.17382210979247, 1.18078841311468, \n . 1.18775471643689, 1.1947210197591, 1.20168732308131, 1.20865362640352, \n . 1.21561992972573, 1.22258623304794, 1.22955253637015, 1.23651883969236, \n . 1.24348514301458, 1.25045144633679, 1.257417749659, 1.26438405298121, \n . 1.27135035630342, 1.27831665962563, 1.28528296294784, 1.29224926627005, \n . 1.29921556959226, 1.30618187291447, 1.31314817623668, 1.32011447955889, \n . 1.3270807828811, 1.33404708620331, 1.34101338952552, 1.34797969284773, \n . 1.35494599616994, 1.36191229949215, 1.36887860281436, 1.37584490613657, \n . 1.38281120945879, 1.389777512781, 1.39674381610321, 1.40371011942542, \n . 1.41067642274763, 1.41764272606984, 1.42460902939205, 1.43157533271426, \n . 1.43854163603647, 1.44550793935868, 1.45247424268089, 1.4594405460031, \n . 1.46640684932531, 1.47337315264752, 1.48033945596973, 1.48730575929194, \n . 1.49427206261415, 1.50123836593636, 1.50820466925857, 1.51517097258078, \n . 1.522137275903, 1.52910357922521, 1.53606988254742, 1.54303618586963, \n . 1.55000248919184, 1.55696879251405, 1.56393509583626, 1.57090139915847, \n . 1.57786770248068, 1.58483400580289, 1.5918003091251, 1.59876661244731, \n . 1.60573291576952, 1.61269921909173, 1.61966552241394, 1.62663182573615, \n . 1.63359812905836, 1.64056443238057, 1.64753073570278, 1.65449703902499, \n . 1.66146334234721, 1.66842964566942, 1.67539594899163, 1.68236225231384, \n . 1.68932855563605, 1.69629485895826, 1.70326116228047, 1.71022746560268, \n . 1.71719376892489, 1.7241600722471, 1.73112637556931, 1.73809267889152, \n . 1.74505898221373, 1.75202528553594, 1.75899158885815, 1.76595789218036, \n . 1.77292419550257, 1.77989049882478, 1.78685680214699, 1.79382310546921, \n . 1.80078940879142, 1.80775571211363, 1.81472201543584, 1.82168831875805, \n . 1.82865462208026, 1.83562092540247, 1.84258722872468, 1.84955353204689, \n . 1.8565198353691, 1.86348613869131, 1.87045244201352, 1.87741874533573, \n . 1.88438504865794, 1.89135135198015, 1.89831765530236, 1.90528395862457, \n . 1.91225026194678, 1.91921656526899, 1.9261828685912, 1.93314917191341, \n . 1.94011547523563, 1.94708177855784, 1.95404808188005, 1.96101438520226, \n . 1.96798068852447, 1.97494699184668, 1.98191329516889, 1.9888795984911, \n . 1.99584590181331, 2.00281220513552, 2.00977850845773, 2.01674481177994, \n . 2.02371111510215, 2.03067741842436, 2.03764372174657, 2.04461002506878, \n . 2.05157632839099, 2.0585426317132, 2.06550893503541, 2.07247523835763, \n . 2.07944154167984), c(`1` = 0.0522042586832787, `2` = 0.0539027954481404, \n . `3` = 0.0556461763872284, `4` = 0.0574351284534846, `5` = 0.059270369923541, \n . `6` = 0.0611526092753232, `7` = 0.0630825440375946, `8` = 0.0650608596128439, \n . `9` = 0.0670882280750779, `10` = 0.0691653069442329, `11` = 0.0712927379390802, \n . `12` = 0.0734711457106569, `13` = 0.0757011365584146, `14` = 0.0779832971314397, \n . `15` = 0.0803181931172544, `16` = 0.0827063679208671, `17` = 0.0851483413368938, \n . `18` = 0.0876446082177216, `19` = 0.0901956371408322, `20` = 0.0928018690785426, \n . `21` = 0.0954637160735518, `22` = 0.0981815599238094, `23` = 0.100955750880335, \n . `24` = 0.103786606361729, `25` = 0.106674409689199, `26` = 0.109619408846023, \n . `27` = 0.11262181526543, `28` = 0.115681802650934, `29` = 0.118799505833199, \n . `30` = 0.121975019667543, `31` = 0.125208397976175, `32` = 0.128499652539278, \n . `33` = 0.131848752138988, `34` = 0.1352556216603, `35` = 0.138720141252831, \n . `36` = 0.14224214555732, `37` = 0.145821423000596, `38` = 0.149457715162641, \n . `39` = 0.153150716219218, `40` = 0.156900072463353, `41` = 0.160705381908783, \n . `42` = 0.164566193978263, `43` = 0.168482009279394, `44` = 0.172452279470388, \n . `45` = 0.176476407217917, `46` = 0.180553746248908, `47` = 0.184683601497859, \n . `48` = 0.188865229350919, `49` = 0.19309783798766, `50` = 0.197380587821146, \n . `51` = 0.201712592036515, `52` = 0.206092917228006, `53` = 0.21052058413392, \n . `54` = 0.214994568468714, `55` = 0.219513801851024, `56` = 0.224077172826055, \n . `57` = 0.228683527980413, `58` = 0.233331673147118, `59` = 0.238020374698154, \n . `60` = 0.242748360921594, `61` = 0.247514323480004, `62` = 0.252316918946514, \n . `63` = 0.257154770414634, `64` = 0.262026469177624, `65` = 0.266930576472943, \n . `66` = 0.271865625287082, `67` = 0.276830122215825, `68` = 0.281822549374831, \n . `69` = 0.286841366355198, `70` = 0.291885012218574, `71` = 0.296951907526209, \n . `72` = 0.302040456396275, `73` = 0.307149048583696, `74` = 0.312276061576687, \n . `75` = 0.31741986270419, `76` = 0.322578811248403, `77` = 0.327751260556623, \n . `78` = 0.332935560146723, `79` = 0.338130057800624, `80` = 0.343333101640278, \n . `81` = 0.348543042180796, `82` = 0.353758234355515, `83` = 0.358977039507982, \n . `84` = 0.364197827346045, `85` = 0.369418977853431, `86` = 0.374638883154459, \n . `87` = 0.37985594932777, `88` = 0.385068598165201, `89` = 0.390275268872257, \n . `90` = 0.395474419706846, `91` = 0.400664529553297, `92` = 0.40584409942895, \n . `93` = 0.411011653920883, `94` = 0.416165742550707, `95` = 0.421304941065593, \n . `96` = 0.426427852654037, `97` = 0.43153310908517, `98` = 0.436619371770676, \n . `99` = 0.441685332748721, `100` = 0.446729715589531, `101` = 0.451751276222556, \n . `102` = 0.456748803685408, `103` = 0.461721120795022, `104` = 0.46666708474172, \n . `105` = 0.471585587607084, `106` = 0.476475556806782, `107` = 0.481335955459666, \n . `108` = 0.48616578268465, `109` = 0.490964073827084, `110` = 0.495729900616454, \n . `111` = 0.50046237125741, `112` = 0.505160630456251, `113` = 0.5098238593851, \n . `114` = 0.514451275586126, `115` = 0.519042132818226, `116` = 0.523595720848682, \n . `117` = 0.528111365192355, `118` = 0.532588426801016, `119` = 0.537026301705478, \n . `120` = 0.541424420613175, `121` = 0.545782248463882, `122` = 0.550099283946248, \n . `123` = 0.554375058977805, `124` = 0.558609138151114, `125` = 0.562801118148658, \n . `126` = 0.566950627129068, `127` = 0.571057324087224, `128` = 0.575120898190715, \n . `129` = 0.579141068095086, `130` = 0.583117581240251, `131` = 0.587050213130355, \n . `132` = 0.590938766599322, `133` = 0.594783071064237, `134` = 0.59858298176863, \n . `135` = 0.602338379017661, `136` = 0.606049167407092, `137` = 0.609715275047891, \n . `138` = 0.613336652788175, `139` = 0.616913273434155, `140` = 0.620445130971638, \n . `141` = 0.623932239789543, `142` = 0.627374633906838, `143` = 0.630772366204166, \n . `144` = 0.6341255076614, `145` = 0.637434146602233, `146` = 0.640698387946863, \n . `147` = 0.64391835247373, `148` = 0.6470941760912, `149` = 0.650226009120001, \n . `150` = 0.653314015587151, `151` = 0.656358372532051, `152` = 0.659359269325331, \n . `153` = 0.662316907000983, `154` = 0.665231497602261, `155` = 0.668103263541742, \n . `156` = 0.670932436975903, `157` = 0.673719259194517, `158` = 0.6764639800251, \n . `159` = 0.679166857252609, `160` = 0.681828156054541, `161` = 0.684448148451527, \n . `162` = 0.687027112773491, `163` = 0.689565333141392, `164` = 0.692063098964546, \n . `165` = 0.694520704453459, `166` = 0.696938448148123, `167` = 0.699316632461642, \n . `168` = 0.701655563239065, `169` = 0.703955549331275, `170` = 0.706216902183741, \n . `171` = 0.70843993543993, `172` = 0.710624964559185, `173` = 0.712772306448795, \n . `174` = 0.714882279110039, `175` = 0.71695520129792, `176` = 0.718991392194325, \n . `177` = 0.720991171094318, `178` = 0.722954857105271, `179` = 0.724882768858545, \n . `180` = 0.726775224233387, `181` = 0.72863254009276, `182` = 0.730455032030767, \n . `183` = 0.73224301413136, `184` = 0.733996798738009, `185` = 0.735716696234012, \n . `186` = 0.737403014833123, `187` = 0.739056060380168, `188` = 0.740676136161347, \n . `189` = 0.742263542723878, `190` = 0.743818577704698, `191` = 0.745341535667876, \n . `192` = 0.746832707950453, `193` = 0.748292382516395, `194` = 0.749720843818353, \n . `195` = 0.751118372666949, `196` = 0.752485246107274, `197` = 0.75382173730234, \n . `198` = 0.755128115423182, `199` = 0.756404645545352, `200` = 0.757651588551524\n . ), lty = 1)",
      "5. lines.default(c(0.693147180559945, 0.700113483882156, 0.707079787204366, \n . 0.714046090526577, 0.721012393848787, 0.727978697170998, 0.734945000493208, \n . 0.741911303815419, 0.748877607137629, 0.75584391045984, 0.76281021378205, \n . 0.769776517104261, 0.776742820426471, 0.783709123748682, 0.790675427070892, \n . 0.797641730393103, 0.804608033715313, 0.811574337037524, 0.818540640359734, \n . 0.825506943681945, 0.832473247004155, 0.839439550326366, 0.846405853648576, \n . 0.853372156970787, 0.860338460292997, 0.867304763615208, 0.874271066937418, \n . 0.881237370259629, 0.888203673581839, 0.89516997690405, 0.90213628022626, \n . 0.909102583548471, 0.916068886870681, 0.923035190192892, 0.930001493515102, \n . 0.936967796837313, 0.943934100159523, 0.950900403481734, 0.957866706803944, \n . 0.964833010126155, 0.971799313448365, 0.978765616770576, 0.985731920092786, \n . 0.992698223414997, 0.999664526737208, 1.00663083005942, 1.01359713338163, \n . 1.02056343670384, 1.02752974002605, 1.03449604334826, 1.04146234667047, \n . 1.04842864999268, 1.05539495331489, 1.0623612566371, 1.06932755995931, \n . 1.07629386328152, 1.08326016660373, 1.09022646992594, 1.09719277324815, \n . 1.10415907657037, 1.11112537989258, 1.11809168321479, 1.125057986537, \n . 1.13202428985921, 1.13899059318142, 1.14595689650363, 1.15292319982584, \n . 1.15988950314805, 1.16685580647026, 1.17382210979247, 1.18078841311468, \n . 1.18775471643689, 1.1947210197591, 1.20168732308131, 1.20865362640352, \n . 1.21561992972573, 1.22258623304794, 1.22955253637015, 1.23651883969236, \n . 1.24348514301458, 1.25045144633679, 1.257417749659, 1.26438405298121, \n . 1.27135035630342, 1.27831665962563, 1.28528296294784, 1.29224926627005, \n . 1.29921556959226, 1.30618187291447, 1.31314817623668, 1.32011447955889, \n . 1.3270807828811, 1.33404708620331, 1.34101338952552, 1.34797969284773, \n . 1.35494599616994, 1.36191229949215, 1.36887860281436, 1.37584490613657, \n . 1.38281120945879, 1.389777512781, 1.39674381610321, 1.40371011942542, \n . 1.41067642274763, 1.41764272606984, 1.42460902939205, 1.43157533271426, \n . 1.43854163603647, 1.44550793935868, 1.45247424268089, 1.4594405460031, \n . 1.46640684932531, 1.47337315264752, 1.48033945596973, 1.48730575929194, \n . 1.49427206261415, 1.50123836593636, 1.50820466925857, 1.51517097258078, \n . 1.522137275903, 1.52910357922521, 1.53606988254742, 1.54303618586963, \n . 1.55000248919184, 1.55696879251405, 1.56393509583626, 1.57090139915847, \n . 1.57786770248068, 1.58483400580289, 1.5918003091251, 1.59876661244731, \n . 1.60573291576952, 1.61269921909173, 1.61966552241394, 1.62663182573615, \n . 1.63359812905836, 1.64056443238057, 1.64753073570278, 1.65449703902499, \n . 1.66146334234721, 1.66842964566942, 1.67539594899163, 1.68236225231384, \n . 1.68932855563605, 1.69629485895826, 1.70326116228047, 1.71022746560268, \n . 1.71719376892489, 1.7241600722471, 1.73112637556931, 1.73809267889152, \n . 1.74505898221373, 1.75202528553594, 1.75899158885815, 1.76595789218036, \n . 1.77292419550257, 1.77989049882478, 1.78685680214699, 1.79382310546921, \n . 1.80078940879142, 1.80775571211363, 1.81472201543584, 1.82168831875805, \n . 1.82865462208026, 1.83562092540247, 1.84258722872468, 1.84955353204689, \n . 1.8565198353691, 1.86348613869131, 1.87045244201352, 1.87741874533573, \n . 1.88438504865794, 1.89135135198015, 1.89831765530236, 1.90528395862457, \n . 1.91225026194678, 1.91921656526899, 1.9261828685912, 1.93314917191341, \n . 1.94011547523563, 1.94708177855784, 1.95404808188005, 1.96101438520226, \n . 1.96798068852447, 1.97494699184668, 1.98191329516889, 1.9888795984911, \n . 1.99584590181331, 2.00281220513552, 2.00977850845773, 2.01674481177994, \n . 2.02371111510215, 2.03067741842436, 2.03764372174657, 2.04461002506878, \n . 2.05157632839099, 2.0585426317132, 2.06550893503541, 2.07247523835763, \n . 2.07944154167984), c(`1` = 0.0522042586832787, `2` = 0.0539027954481404, \n . `3` = 0.0556461763872284, `4` = 0.0574351284534846, `5` = 0.059270369923541, \n . `6` = 0.0611526092753232, `7` = 0.0630825440375946, `8` = 0.0650608596128439, \n . `9` = 0.0670882280750779, `10` = 0.0691653069442329, `11` = 0.0712927379390802, \n . `12` = 0.0734711457106569, `13` = 0.0757011365584146, `14` = 0.0779832971314397, \n . `15` = 0.0803181931172544, `16` = 0.0827063679208671, `17` = 0.0851483413368938, \n . `18` = 0.0876446082177216, `19` = 0.0901956371408322, `20` = 0.0928018690785426, \n . `21` = 0.0954637160735518, `22` = 0.0981815599238094, `23` = 0.100955750880335, \n . `24` = 0.103786606361729, `25` = 0.106674409689199, `26` = 0.109619408846023, \n . `27` = 0.11262181526543, `28` = 0.115681802650934, `29` = 0.118799505833199, \n . `30` = 0.121975019667543, `31` = 0.125208397976175, `32` = 0.128499652539278, \n . `33` = 0.131848752138988, `34` = 0.1352556216603, `35` = 0.138720141252831, \n . `36` = 0.14224214555732, `37` = 0.145821423000596, `38` = 0.149457715162641, \n . `39` = 0.153150716219218, `40` = 0.156900072463353, `41` = 0.160705381908783, \n . `42` = 0.164566193978263, `43` = 0.168482009279394, `44` = 0.172452279470388, \n . `45` = 0.176476407217917, `46` = 0.180553746248908, `47` = 0.184683601497859, \n . `48` = 0.188865229350919, `49` = 0.19309783798766, `50` = 0.197380587821146, \n . `51` = 0.201712592036515, `52` = 0.206092917228006, `53` = 0.21052058413392, \n . `54` = 0.214994568468714, `55` = 0.219513801851024, `56` = 0.224077172826055, \n . `57` = 0.228683527980413, `58` = 0.233331673147118, `59` = 0.238020374698154, \n . `60` = 0.242748360921594, `61` = 0.247514323480004, `62` = 0.252316918946514, \n . `63` = 0.257154770414634, `64` = 0.262026469177624, `65` = 0.266930576472943, \n . `66` = 0.271865625287082, `67` = 0.276830122215825, `68` = 0.281822549374831, \n . `69` = 0.286841366355198, `70` = 0.291885012218574, `71` = 0.296951907526209, \n . `72` = 0.302040456396275, `73` = 0.307149048583696, `74` = 0.312276061576687, \n . `75` = 0.31741986270419, `76` = 0.322578811248403, `77` = 0.327751260556623, \n . `78` = 0.332935560146723, `79` = 0.338130057800624, `80` = 0.343333101640278, \n . `81` = 0.348543042180796, `82` = 0.353758234355515, `83` = 0.358977039507982, \n . `84` = 0.364197827346045, `85` = 0.369418977853431, `86` = 0.374638883154459, \n . `87` = 0.37985594932777, `88` = 0.385068598165201, `89` = 0.390275268872257, \n . `90` = 0.395474419706846, `91` = 0.400664529553297, `92` = 0.40584409942895, \n . `93` = 0.411011653920883, `94` = 0.416165742550707, `95` = 0.421304941065593, \n . `96` = 0.426427852654037, `97` = 0.43153310908517, `98` = 0.436619371770676, \n . `99` = 0.441685332748721, `100` = 0.446729715589531, `101` = 0.451751276222556, \n . `102` = 0.456748803685408, `103` = 0.461721120795022, `104` = 0.46666708474172, \n . `105` = 0.471585587607084, `106` = 0.476475556806782, `107` = 0.481335955459666, \n . `108` = 0.48616578268465, `109` = 0.490964073827084, `110` = 0.495729900616454, \n . `111` = 0.50046237125741, `112` = 0.505160630456251, `113` = 0.5098238593851, \n . `114` = 0.514451275586126, `115` = 0.519042132818226, `116` = 0.523595720848682, \n . `117` = 0.528111365192355, `118` = 0.532588426801016, `119` = 0.537026301705478, \n . `120` = 0.541424420613175, `121` = 0.545782248463882, `122` = 0.550099283946248, \n . `123` = 0.554375058977805, `124` = 0.558609138151114, `125` = 0.562801118148658, \n . `126` = 0.566950627129068, `127` = 0.571057324087224, `128` = 0.575120898190715, \n . `129` = 0.579141068095086, `130` = 0.583117581240251, `131` = 0.587050213130355, \n . `132` = 0.590938766599322, `133` = 0.594783071064237, `134` = 0.59858298176863, \n . `135` = 0.602338379017661, `136` = 0.606049167407092, `137` = 0.609715275047891, \n . `138` = 0.613336652788175, `139` = 0.616913273434155, `140` = 0.620445130971638, \n . `141` = 0.623932239789543, `142` = 0.627374633906838, `143` = 0.630772366204166, \n . `144` = 0.6341255076614, `145` = 0.637434146602233, `146` = 0.640698387946863, \n . `147` = 0.64391835247373, `148` = 0.6470941760912, `149` = 0.650226009120001, \n . `150` = 0.653314015587151, `151` = 0.656358372532051, `152` = 0.659359269325331, \n . `153` = 0.662316907000983, `154` = 0.665231497602261, `155` = 0.668103263541742, \n . `156` = 0.670932436975903, `157` = 0.673719259194517, `158` = 0.6764639800251, \n . `159` = 0.679166857252609, `160` = 0.681828156054541, `161` = 0.684448148451527, \n . `162` = 0.687027112773491, `163` = 0.689565333141392, `164` = 0.692063098964546, \n . `165` = 0.694520704453459, `166` = 0.696938448148123, `167` = 0.699316632461642, \n . `168` = 0.701655563239065, `169` = 0.703955549331275, `170` = 0.706216902183741, \n . `171` = 0.70843993543993, `172` = 0.710624964559185, `173` = 0.712772306448795, \n . `174` = 0.714882279110039, `175` = 0.71695520129792, `176` = 0.718991392194325, \n . `177` = 0.720991171094318, `178` = 0.722954857105271, `179` = 0.724882768858545, \n . `180` = 0.726775224233387, `181` = 0.72863254009276, `182` = 0.730455032030767, \n . `183` = 0.73224301413136, `184` = 0.733996798738009, `185` = 0.735716696234012, \n . `186` = 0.737403014833123, `187` = 0.739056060380168, `188` = 0.740676136161347, \n . `189` = 0.742263542723878, `190` = 0.743818577704698, `191` = 0.745341535667876, \n . `192` = 0.746832707950453, `193` = 0.748292382516395, `194` = 0.749720843818353, \n . `195` = 0.751118372666949, `196` = 0.752485246107274, `197` = 0.75382173730234, \n . `198` = 0.755128115423182, `199` = 0.756404645545352, `200` = 0.757651588551524\n . ), lty = 1)",
      "6. plot.xy(xy.coords(x, y), type = type, ...)"
     ]
    },
    {
     "ename": "ERROR",
     "evalue": "Error in plot.xy(xy.coords(x, y), type = type, ...): plot.new has not been called yet\n",
     "output_type": "error",
     "traceback": [
      "Error in plot.xy(xy.coords(x, y), type = type, ...): plot.new has not been called yet\nTraceback:\n",
      "1. lines(newProp4.logB ~ newD, lty = 2)",
      "2. lines.formula(newProp4.logB ~ newD, lty = 2)",
      "3. do.call(\"lines\", c(list(mf[[xn]], y), dots))",
      "4. lines(c(0.693147180559945, 0.700113483882156, 0.707079787204366, \n . 0.714046090526577, 0.721012393848787, 0.727978697170998, 0.734945000493208, \n . 0.741911303815419, 0.748877607137629, 0.75584391045984, 0.76281021378205, \n . 0.769776517104261, 0.776742820426471, 0.783709123748682, 0.790675427070892, \n . 0.797641730393103, 0.804608033715313, 0.811574337037524, 0.818540640359734, \n . 0.825506943681945, 0.832473247004155, 0.839439550326366, 0.846405853648576, \n . 0.853372156970787, 0.860338460292997, 0.867304763615208, 0.874271066937418, \n . 0.881237370259629, 0.888203673581839, 0.89516997690405, 0.90213628022626, \n . 0.909102583548471, 0.916068886870681, 0.923035190192892, 0.930001493515102, \n . 0.936967796837313, 0.943934100159523, 0.950900403481734, 0.957866706803944, \n . 0.964833010126155, 0.971799313448365, 0.978765616770576, 0.985731920092786, \n . 0.992698223414997, 0.999664526737208, 1.00663083005942, 1.01359713338163, \n . 1.02056343670384, 1.02752974002605, 1.03449604334826, 1.04146234667047, \n . 1.04842864999268, 1.05539495331489, 1.0623612566371, 1.06932755995931, \n . 1.07629386328152, 1.08326016660373, 1.09022646992594, 1.09719277324815, \n . 1.10415907657037, 1.11112537989258, 1.11809168321479, 1.125057986537, \n . 1.13202428985921, 1.13899059318142, 1.14595689650363, 1.15292319982584, \n . 1.15988950314805, 1.16685580647026, 1.17382210979247, 1.18078841311468, \n . 1.18775471643689, 1.1947210197591, 1.20168732308131, 1.20865362640352, \n . 1.21561992972573, 1.22258623304794, 1.22955253637015, 1.23651883969236, \n . 1.24348514301458, 1.25045144633679, 1.257417749659, 1.26438405298121, \n . 1.27135035630342, 1.27831665962563, 1.28528296294784, 1.29224926627005, \n . 1.29921556959226, 1.30618187291447, 1.31314817623668, 1.32011447955889, \n . 1.3270807828811, 1.33404708620331, 1.34101338952552, 1.34797969284773, \n . 1.35494599616994, 1.36191229949215, 1.36887860281436, 1.37584490613657, \n . 1.38281120945879, 1.389777512781, 1.39674381610321, 1.40371011942542, \n . 1.41067642274763, 1.41764272606984, 1.42460902939205, 1.43157533271426, \n . 1.43854163603647, 1.44550793935868, 1.45247424268089, 1.4594405460031, \n . 1.46640684932531, 1.47337315264752, 1.48033945596973, 1.48730575929194, \n . 1.49427206261415, 1.50123836593636, 1.50820466925857, 1.51517097258078, \n . 1.522137275903, 1.52910357922521, 1.53606988254742, 1.54303618586963, \n . 1.55000248919184, 1.55696879251405, 1.56393509583626, 1.57090139915847, \n . 1.57786770248068, 1.58483400580289, 1.5918003091251, 1.59876661244731, \n . 1.60573291576952, 1.61269921909173, 1.61966552241394, 1.62663182573615, \n . 1.63359812905836, 1.64056443238057, 1.64753073570278, 1.65449703902499, \n . 1.66146334234721, 1.66842964566942, 1.67539594899163, 1.68236225231384, \n . 1.68932855563605, 1.69629485895826, 1.70326116228047, 1.71022746560268, \n . 1.71719376892489, 1.7241600722471, 1.73112637556931, 1.73809267889152, \n . 1.74505898221373, 1.75202528553594, 1.75899158885815, 1.76595789218036, \n . 1.77292419550257, 1.77989049882478, 1.78685680214699, 1.79382310546921, \n . 1.80078940879142, 1.80775571211363, 1.81472201543584, 1.82168831875805, \n . 1.82865462208026, 1.83562092540247, 1.84258722872468, 1.84955353204689, \n . 1.8565198353691, 1.86348613869131, 1.87045244201352, 1.87741874533573, \n . 1.88438504865794, 1.89135135198015, 1.89831765530236, 1.90528395862457, \n . 1.91225026194678, 1.91921656526899, 1.9261828685912, 1.93314917191341, \n . 1.94011547523563, 1.94708177855784, 1.95404808188005, 1.96101438520226, \n . 1.96798068852447, 1.97494699184668, 1.98191329516889, 1.9888795984911, \n . 1.99584590181331, 2.00281220513552, 2.00977850845773, 2.01674481177994, \n . 2.02371111510215, 2.03067741842436, 2.03764372174657, 2.04461002506878, \n . 2.05157632839099, 2.0585426317132, 2.06550893503541, 2.07247523835763, \n . 2.07944154167984), c(`1` = 0.0708337402833497, `2` = 0.0730916689618832, \n . `3` = 0.0754062112065255, `4` = 0.0777781019296839, `5` = 0.0802080541668704, \n . `6` = 0.0826967574273696, `7` = 0.0852448760262504, `8` = 0.0878530474013012, \n . `9` = 0.0905218804187005, `10` = 0.0932519536714578, `11` = 0.0960438137748806, \n . `12` = 0.0988979736635308, `13` = 0.101814910894339, `14` = 0.10479506596073, \n . `15` = 0.107838840622805, `16` = 0.110946596258757, `17` = 0.114118652242891, \n . `18` = 0.117355284355697, `19` = 0.120656723231574, `20` = 0.124023152849866, \n . `21` = 0.127454709074944, `22` = 0.130951478251108, `23` = 0.134513495858097, \n . `24` = 0.138140745232969, `25` = 0.141833156364096, `26` = 0.145590604762916, \n . `27` = 0.149412910419005, `28` = 0.153299836843893, `29` = 0.157251090208867, \n . `30` = 0.161266318581829, `31` = 0.165345111268035, `32` = 0.169486998259281, \n . `33` = 0.173691449795818, `34` = 0.177957876044929, `35` = 0.182285626899801, \n . `36` = 0.186673991901871, `37` = 0.191122200289497, `38` = 0.195629421175302, \n . `39` = 0.200194763854131, `40` = 0.204817278243068, `41` = 0.209495955454454, \n . `42` = 0.214229728502357, `43` = 0.219017473142417, `44` = 0.223858008844438, \n . `45` = 0.228750099896582, `46` = 0.233692456639479, `47` = 0.238683736827992, \n . `48` = 0.24372254711789, `49` = 0.248807444674093, `50` = 0.253936938896692, \n . `51` = 0.259109493260386, `52` = 0.264323527262533, `53` = 0.269577418474518, \n . `54` = 0.274869504690711, `55` = 0.280198086168866, `56` = 0.285561427955438, \n . `57` = 0.29095776228892, `58` = 0.296385291074002, `59` = 0.301842188419077, \n . `60` = 0.307326603229346, `61` = 0.31283666184762, `62` = 0.318370470734707, \n . `63` = 0.323926119181184, `64` = 0.329501682042282, `65` = 0.335095222487546, \n . `66` = 0.340704794756983, `67` = 0.346328446915435, `68` = 0.351964223597021, \n . `69` = 0.357610168731617, `70` = 0.36326432824553, `71` = 0.36892475272871, \n . `72` = 0.374589500061112, `73` = 0.380256637991082, `74` = 0.385924246658955, \n . `75` = 0.391590421059395, `76` = 0.397253273436349, `77` = 0.402910935604899, \n . `78` = 0.40856156119468, `79` = 0.414203327809951, `80` = 0.419834439101852, \n . `81` = 0.425453126748814, `82` = 0.43105765234154, `83` = 0.436646309169433, \n . `84` = 0.442217423905807, `85` = 0.447769358189659, `86` = 0.453300510102244, \n . `87` = 0.458809315537147, `88` = 0.464294249462938, `89` = 0.469753827077995, \n . `90` = 0.475186604857407, `91` = 0.480591181492335, `92` = 0.485966198722541, \n . `93` = 0.491310342063184, `94` = 0.496622341427299, `95` = 0.501900971645725, \n . `96` = 0.507145052886514, `97` = 0.512353450976152, `98` = 0.517525077625178, \n . `99` = 0.522658890560985, `100` = 0.527753893570854, `101` = 0.532809136458389, \n . `102` = 0.537823714916737, `103` = 0.542796770322078, `104` = 0.547727489451017, \n . `105` = 0.552615104125579, `106` = 0.557458890789598, `107` = 0.562258170020341, \n . `108` = 0.567012305979236, `109` = 0.571720705805613, `110` = 0.576382818957321, \n . `111` = 0.580998136502128, `112` = 0.585566190363714, `113` = 0.590086552526076, \n . `114` = 0.594558834200068, `115` = 0.598982684955747, `116` = 0.603357791824107, \n . `117` = 0.607683878371683, `118` = 0.611960703751436, `119` = 0.61618806173318, \n . `120` = 0.620365779716736, `121` = 0.624493717730857, `122` = 0.628571767420849, \n . `123` = 0.632599851027684, `124` = 0.636577920361279, `125` = 0.640505955770471, \n . `126` = 0.644383965112085, `127` = 0.648211982721366, `128` = 0.651990068385918, \n . `129` = 0.655718306325117, `130` = 0.659396804176913, `131` = 0.663025691993707, \n . `132` = 0.666605121248957, `133` = 0.670135263855965, `134` = 0.673616311200227, \n . `135` = 0.677048473186578, `136` = 0.680431977302264, `137` = 0.683767067696958, \n . `138` = 0.687054004280635, `139` = 0.690293061840099, `140` = 0.693484529174881, \n . `141` = 0.696628708253125, `142` = 0.699725913387965, `143` = 0.702776470434862, \n . `144` = 0.705780716010231, `145` = 0.708738996731654, `146` = 0.71165166847988, \n . `147` = 0.714519095682765, `148` = 0.717341650621216, `149` = 0.720119712757165, \n . `150` = 0.722853668083537, `151` = 0.725543908496129, `152` = 0.72819083118725, \n . `153` = 0.730794838060969, `154` = 0.733356335169734, `155` = 0.73587573217211, \n . `156` = 0.738353441811371, `157` = 0.740789879414596, `158` = 0.74318546241196, \n . `159` = 0.745540609875828, `160` = 0.747855742079282, `161` = 0.750131280073663, \n . `162` = 0.752367645284719, `163` = 0.75456525912691, `164` = 0.756724542635434, \n . `165` = 0.758845916115516, `166` = 0.760929798808488, `167` = 0.762976608574209, \n . `168` = 0.764986761589329, `169` = 0.766960672060939, `170` = 0.768898751955129, \n . `171` = 0.770801410739963, `172` = 0.772669055142414, `173` = 0.774502088918774, \n . `174` = 0.776300912638078, `175` = 0.778065923478072, `176` = 0.779797515033269, \n . `177` = 0.781496077134638, `178` = 0.783161995680482, `179` = 0.784795652478059, \n . `180` = 0.786397425095529, `181` = 0.787967686723782, `182` = 0.789506806047755, \n . `183` = 0.791015147126814, `184` = 0.792493069283818, `185` = 0.793940927002469, \n . `186` = 0.795359069832571, `187` = 0.796747842302841, `188` = 0.798107583840897, \n . `189` = 0.799438628700089, `190` = 0.800741305892833, `191` = 0.802015939130108, \n . `192` = 0.803262846766821, `193` = 0.804482341752706, `194` = 0.805674731588477, \n . `195` = 0.806840318286947, `196` = 0.807979398338811, `197` = 0.80909226268286, \n . `198` = 0.810179196680338, `199` = 0.811240480093193, `200` = 0.812276387066005\n . ), lty = 2)",
      "5. lines.default(c(0.693147180559945, 0.700113483882156, 0.707079787204366, \n . 0.714046090526577, 0.721012393848787, 0.727978697170998, 0.734945000493208, \n . 0.741911303815419, 0.748877607137629, 0.75584391045984, 0.76281021378205, \n . 0.769776517104261, 0.776742820426471, 0.783709123748682, 0.790675427070892, \n . 0.797641730393103, 0.804608033715313, 0.811574337037524, 0.818540640359734, \n . 0.825506943681945, 0.832473247004155, 0.839439550326366, 0.846405853648576, \n . 0.853372156970787, 0.860338460292997, 0.867304763615208, 0.874271066937418, \n . 0.881237370259629, 0.888203673581839, 0.89516997690405, 0.90213628022626, \n . 0.909102583548471, 0.916068886870681, 0.923035190192892, 0.930001493515102, \n . 0.936967796837313, 0.943934100159523, 0.950900403481734, 0.957866706803944, \n . 0.964833010126155, 0.971799313448365, 0.978765616770576, 0.985731920092786, \n . 0.992698223414997, 0.999664526737208, 1.00663083005942, 1.01359713338163, \n . 1.02056343670384, 1.02752974002605, 1.03449604334826, 1.04146234667047, \n . 1.04842864999268, 1.05539495331489, 1.0623612566371, 1.06932755995931, \n . 1.07629386328152, 1.08326016660373, 1.09022646992594, 1.09719277324815, \n . 1.10415907657037, 1.11112537989258, 1.11809168321479, 1.125057986537, \n . 1.13202428985921, 1.13899059318142, 1.14595689650363, 1.15292319982584, \n . 1.15988950314805, 1.16685580647026, 1.17382210979247, 1.18078841311468, \n . 1.18775471643689, 1.1947210197591, 1.20168732308131, 1.20865362640352, \n . 1.21561992972573, 1.22258623304794, 1.22955253637015, 1.23651883969236, \n . 1.24348514301458, 1.25045144633679, 1.257417749659, 1.26438405298121, \n . 1.27135035630342, 1.27831665962563, 1.28528296294784, 1.29224926627005, \n . 1.29921556959226, 1.30618187291447, 1.31314817623668, 1.32011447955889, \n . 1.3270807828811, 1.33404708620331, 1.34101338952552, 1.34797969284773, \n . 1.35494599616994, 1.36191229949215, 1.36887860281436, 1.37584490613657, \n . 1.38281120945879, 1.389777512781, 1.39674381610321, 1.40371011942542, \n . 1.41067642274763, 1.41764272606984, 1.42460902939205, 1.43157533271426, \n . 1.43854163603647, 1.44550793935868, 1.45247424268089, 1.4594405460031, \n . 1.46640684932531, 1.47337315264752, 1.48033945596973, 1.48730575929194, \n . 1.49427206261415, 1.50123836593636, 1.50820466925857, 1.51517097258078, \n . 1.522137275903, 1.52910357922521, 1.53606988254742, 1.54303618586963, \n . 1.55000248919184, 1.55696879251405, 1.56393509583626, 1.57090139915847, \n . 1.57786770248068, 1.58483400580289, 1.5918003091251, 1.59876661244731, \n . 1.60573291576952, 1.61269921909173, 1.61966552241394, 1.62663182573615, \n . 1.63359812905836, 1.64056443238057, 1.64753073570278, 1.65449703902499, \n . 1.66146334234721, 1.66842964566942, 1.67539594899163, 1.68236225231384, \n . 1.68932855563605, 1.69629485895826, 1.70326116228047, 1.71022746560268, \n . 1.71719376892489, 1.7241600722471, 1.73112637556931, 1.73809267889152, \n . 1.74505898221373, 1.75202528553594, 1.75899158885815, 1.76595789218036, \n . 1.77292419550257, 1.77989049882478, 1.78685680214699, 1.79382310546921, \n . 1.80078940879142, 1.80775571211363, 1.81472201543584, 1.82168831875805, \n . 1.82865462208026, 1.83562092540247, 1.84258722872468, 1.84955353204689, \n . 1.8565198353691, 1.86348613869131, 1.87045244201352, 1.87741874533573, \n . 1.88438504865794, 1.89135135198015, 1.89831765530236, 1.90528395862457, \n . 1.91225026194678, 1.91921656526899, 1.9261828685912, 1.93314917191341, \n . 1.94011547523563, 1.94708177855784, 1.95404808188005, 1.96101438520226, \n . 1.96798068852447, 1.97494699184668, 1.98191329516889, 1.9888795984911, \n . 1.99584590181331, 2.00281220513552, 2.00977850845773, 2.01674481177994, \n . 2.02371111510215, 2.03067741842436, 2.03764372174657, 2.04461002506878, \n . 2.05157632839099, 2.0585426317132, 2.06550893503541, 2.07247523835763, \n . 2.07944154167984), c(`1` = 0.0708337402833497, `2` = 0.0730916689618832, \n . `3` = 0.0754062112065255, `4` = 0.0777781019296839, `5` = 0.0802080541668704, \n . `6` = 0.0826967574273696, `7` = 0.0852448760262504, `8` = 0.0878530474013012, \n . `9` = 0.0905218804187005, `10` = 0.0932519536714578, `11` = 0.0960438137748806, \n . `12` = 0.0988979736635308, `13` = 0.101814910894339, `14` = 0.10479506596073, \n . `15` = 0.107838840622805, `16` = 0.110946596258757, `17` = 0.114118652242891, \n . `18` = 0.117355284355697, `19` = 0.120656723231574, `20` = 0.124023152849866, \n . `21` = 0.127454709074944, `22` = 0.130951478251108, `23` = 0.134513495858097, \n . `24` = 0.138140745232969, `25` = 0.141833156364096, `26` = 0.145590604762916, \n . `27` = 0.149412910419005, `28` = 0.153299836843893, `29` = 0.157251090208867, \n . `30` = 0.161266318581829, `31` = 0.165345111268035, `32` = 0.169486998259281, \n . `33` = 0.173691449795818, `34` = 0.177957876044929, `35` = 0.182285626899801, \n . `36` = 0.186673991901871, `37` = 0.191122200289497, `38` = 0.195629421175302, \n . `39` = 0.200194763854131, `40` = 0.204817278243068, `41` = 0.209495955454454, \n . `42` = 0.214229728502357, `43` = 0.219017473142417, `44` = 0.223858008844438, \n . `45` = 0.228750099896582, `46` = 0.233692456639479, `47` = 0.238683736827992, \n . `48` = 0.24372254711789, `49` = 0.248807444674093, `50` = 0.253936938896692, \n . `51` = 0.259109493260386, `52` = 0.264323527262533, `53` = 0.269577418474518, \n . `54` = 0.274869504690711, `55` = 0.280198086168866, `56` = 0.285561427955438, \n . `57` = 0.29095776228892, `58` = 0.296385291074002, `59` = 0.301842188419077, \n . `60` = 0.307326603229346, `61` = 0.31283666184762, `62` = 0.318370470734707, \n . `63` = 0.323926119181184, `64` = 0.329501682042282, `65` = 0.335095222487546, \n . `66` = 0.340704794756983, `67` = 0.346328446915435, `68` = 0.351964223597021, \n . `69` = 0.357610168731617, `70` = 0.36326432824553, `71` = 0.36892475272871, \n . `72` = 0.374589500061112, `73` = 0.380256637991082, `74` = 0.385924246658955, \n . `75` = 0.391590421059395, `76` = 0.397253273436349, `77` = 0.402910935604899, \n . `78` = 0.40856156119468, `79` = 0.414203327809951, `80` = 0.419834439101852, \n . `81` = 0.425453126748814, `82` = 0.43105765234154, `83` = 0.436646309169433, \n . `84` = 0.442217423905807, `85` = 0.447769358189659, `86` = 0.453300510102244, \n . `87` = 0.458809315537147, `88` = 0.464294249462938, `89` = 0.469753827077995, \n . `90` = 0.475186604857407, `91` = 0.480591181492335, `92` = 0.485966198722541, \n . `93` = 0.491310342063184, `94` = 0.496622341427299, `95` = 0.501900971645725, \n . `96` = 0.507145052886514, `97` = 0.512353450976152, `98` = 0.517525077625178, \n . `99` = 0.522658890560985, `100` = 0.527753893570854, `101` = 0.532809136458389, \n . `102` = 0.537823714916737, `103` = 0.542796770322078, `104` = 0.547727489451017, \n . `105` = 0.552615104125579, `106` = 0.557458890789598, `107` = 0.562258170020341, \n . `108` = 0.567012305979236, `109` = 0.571720705805613, `110` = 0.576382818957321, \n . `111` = 0.580998136502128, `112` = 0.585566190363714, `113` = 0.590086552526076, \n . `114` = 0.594558834200068, `115` = 0.598982684955747, `116` = 0.603357791824107, \n . `117` = 0.607683878371683, `118` = 0.611960703751436, `119` = 0.61618806173318, \n . `120` = 0.620365779716736, `121` = 0.624493717730857, `122` = 0.628571767420849, \n . `123` = 0.632599851027684, `124` = 0.636577920361279, `125` = 0.640505955770471, \n . `126` = 0.644383965112085, `127` = 0.648211982721366, `128` = 0.651990068385918, \n . `129` = 0.655718306325117, `130` = 0.659396804176913, `131` = 0.663025691993707, \n . `132` = 0.666605121248957, `133` = 0.670135263855965, `134` = 0.673616311200227, \n . `135` = 0.677048473186578, `136` = 0.680431977302264, `137` = 0.683767067696958, \n . `138` = 0.687054004280635, `139` = 0.690293061840099, `140` = 0.693484529174881, \n . `141` = 0.696628708253125, `142` = 0.699725913387965, `143` = 0.702776470434862, \n . `144` = 0.705780716010231, `145` = 0.708738996731654, `146` = 0.71165166847988, \n . `147` = 0.714519095682765, `148` = 0.717341650621216, `149` = 0.720119712757165, \n . `150` = 0.722853668083537, `151` = 0.725543908496129, `152` = 0.72819083118725, \n . `153` = 0.730794838060969, `154` = 0.733356335169734, `155` = 0.73587573217211, \n . `156` = 0.738353441811371, `157` = 0.740789879414596, `158` = 0.74318546241196, \n . `159` = 0.745540609875828, `160` = 0.747855742079282, `161` = 0.750131280073663, \n . `162` = 0.752367645284719, `163` = 0.75456525912691, `164` = 0.756724542635434, \n . `165` = 0.758845916115516, `166` = 0.760929798808488, `167` = 0.762976608574209, \n . `168` = 0.764986761589329, `169` = 0.766960672060939, `170` = 0.768898751955129, \n . `171` = 0.770801410739963, `172` = 0.772669055142414, `173` = 0.774502088918774, \n . `174` = 0.776300912638078, `175` = 0.778065923478072, `176` = 0.779797515033269, \n . `177` = 0.781496077134638, `178` = 0.783161995680482, `179` = 0.784795652478059, \n . `180` = 0.786397425095529, `181` = 0.787967686723782, `182` = 0.789506806047755, \n . `183` = 0.791015147126814, `184` = 0.792493069283818, `185` = 0.793940927002469, \n . `186` = 0.795359069832571, `187` = 0.796747842302841, `188` = 0.798107583840897, \n . `189` = 0.799438628700089, `190` = 0.800741305892833, `191` = 0.802015939130108, \n . `192` = 0.803262846766821, `193` = 0.804482341752706, `194` = 0.805674731588477, \n . `195` = 0.806840318286947, `196` = 0.807979398338811, `197` = 0.80909226268286, \n . `198` = 0.810179196680338, `199` = 0.811240480093193, `200` = 0.812276387066005\n . ), lty = 2)",
      "6. plot.xy(xy.coords(x, y), type = type, ...)"
     ]
    }
   ],
   "source": [
    "newD <- seq( min(deposit$logDep), max(deposit$logDep), length=200)\n",
    "newProp4.logA <- predict(ins.m3, type=\"response\",\n",
    "newdata=data.frame(logDep=newD, Insecticide=\"A\") )\n",
    "newProp4.logB <- predict(ins.m3, type=\"response\",\n",
    "newdata=data.frame(logDep=newD, Insecticide=\"B\") )\n",
    "newProp4.logC <- predict(ins.m3, type=\"response\",\n",
    "newdata=data.frame(logDep=newD, Insecticide=\"C\") )\n",
    "lines( newProp4.logA ~ newD, lty=1); lines( newProp4.logB ~ newD, lty=2)\n",
    "lines( newProp4.logC ~ newD, lty=3)"
   ]
  },
  {
   "cell_type": "code",
   "execution_count": 80,
   "metadata": {},
   "outputs": [
    {
     "data": {
      "text/html": [
       "<ol class=list-inline>\n",
       "\t<li>15.0903553105418</li>\n",
       "\t<li>13</li>\n",
       "</ol>\n"
      ],
      "text/latex": [
       "\\begin{enumerate*}\n",
       "\\item 15.0903553105418\n",
       "\\item 13\n",
       "\\end{enumerate*}\n"
      ],
      "text/markdown": [
       "1. 15.0903553105418\n",
       "2. 13\n",
       "\n",
       "\n"
      ],
      "text/plain": [
       "[1] 15.09036 13.00000"
      ]
     },
     "metadata": {},
     "output_type": "display_data"
    }
   ],
   "source": [
    "c( deviance( ins.m3 ), df.residual( ins.m3 ) )"
   ]
  },
  {
   "cell_type": "code",
   "execution_count": 81,
   "metadata": {},
   "outputs": [
    {
     "data": {
      "text/html": [
       "<ol class=list-inline>\n",
       "\t<li>2</li>\n",
       "\t<li>0</li>\n",
       "</ol>\n"
      ],
      "text/latex": [
       "\\begin{enumerate*}\n",
       "\\item 2\n",
       "\\item 0\n",
       "\\end{enumerate*}\n"
      ],
      "text/markdown": [
       "1. 2\n",
       "2. 0\n",
       "\n",
       "\n"
      ],
      "text/plain": [
       "[1] 2 0"
      ]
     },
     "metadata": {},
     "output_type": "display_data"
    }
   ],
   "source": [
    "c( min( deposit$Killed ), min( deposit$Number - deposit$Killed) )"
   ]
  }
 ],
 "metadata": {
  "kernelspec": {
   "display_name": "R",
   "language": "R",
   "name": "ir"
  },
  "language_info": {
   "codemirror_mode": "r",
   "file_extension": ".r",
   "mimetype": "text/x-r-source",
   "name": "R",
   "pygments_lexer": "r",
   "version": "3.6.1"
  },
  "orig_nbformat": 4
 },
 "nbformat": 4,
 "nbformat_minor": 2
}
