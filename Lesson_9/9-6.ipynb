{
 "cells": [
  {
   "cell_type": "code",
   "execution_count": 1,
   "metadata": {},
   "outputs": [
    {
     "name": "stderr",
     "output_type": "stream",
     "text": [
      "Warning message:\n",
      "\"package 'statmod' was built under R version 3.6.3\""
     ]
    }
   ],
   "source": [
    "library(GLMsData)\n",
    "library(statmod)\n",
    "library(MASS)\n",
    "library(splines)"
   ]
  },
  {
   "cell_type": "markdown",
   "metadata": {},
   "source": [
    "$$\\eta_{\\mathrm{male}}=0.45 + 0.04 RS + 0.25 AA + 0.23 RS*AA$$\n",
    "$$\\eta_{\\mathrm{female}}=-0.22 + 0.26 RS + 0.82 AA - 0.22 RS*AA$$"
   ]
  },
  {
   "cell_type": "code",
   "execution_count": 3,
   "metadata": {},
   "outputs": [
    {
     "data": {
      "text/html": [
       "<ol class=list-inline>\n",
       "\t<li>0.260589034273618</li>\n",
       "\t<li>0.617075077451974</li>\n",
       "\t<li>0.0955807045456294</li>\n",
       "\t<li>0.176074423405835</li>\n",
       "</ol>\n"
      ],
      "text/latex": [
       "\\begin{enumerate*}\n",
       "\\item 0.260589034273618\n",
       "\\item 0.617075077451974\n",
       "\\item 0.0955807045456294\n",
       "\\item 0.176074423405835\n",
       "\\end{enumerate*}\n"
      ],
      "text/markdown": [
       "1. 0.260589034273618\n",
       "2. 0.617075077451974\n",
       "3. 0.0955807045456294\n",
       "4. 0.176074423405835\n",
       "\n",
       "\n"
      ],
      "text/plain": [
       "[1] 0.2605890 0.6170751 0.0955807 0.1760744"
      ]
     },
     "metadata": {},
     "output_type": "display_data"
    },
    {
     "data": {
      "text/html": [
       "<ol class=list-inline>\n",
       "\t<li>0.678072842974744</li>\n",
       "\t<li>1.46868476737893e-05</li>\n",
       "\t<li>1.59033493652039e-05</li>\n",
       "\t<li>0.0455002638963584</li>\n",
       "</ol>\n"
      ],
      "text/latex": [
       "\\begin{enumerate*}\n",
       "\\item 0.678072842974744\n",
       "\\item 1.46868476737893e-05\n",
       "\\item 1.59033493652039e-05\n",
       "\\item 0.0455002638963584\n",
       "\\end{enumerate*}\n"
      ],
      "text/markdown": [
       "1. 0.678072842974744\n",
       "2. 1.46868476737893e-05\n",
       "3. 1.59033493652039e-05\n",
       "4. 0.0455002638963584\n",
       "\n",
       "\n"
      ],
      "text/plain": [
       "[1] 6.780728e-01 1.468685e-05 1.590335e-05 4.550026e-02"
      ]
     },
     "metadata": {},
     "output_type": "display_data"
    }
   ],
   "source": [
    "beta.male <- c(0.45, 0.04, 0.25, 0.23)\n",
    "se.beta.male <- c(0.40, 0.08, 0.15, 0.17)\n",
    "\n",
    "beta.female <- c(-0.22, 0.26, 0.82, - 0.22)\n",
    "se.beta.female <- c(0.53, 0.06, 0.19, 0.11)\n",
    "\n",
    "wald.stat.male <- beta.male / se.beta.male\n",
    "wald.stat.female <- beta.female / se.beta.female\n",
    "\n",
    "2*pnorm(abs(wald.stat.male), lower.tail = FALSE)\n",
    "2*pnorm(abs(wald.stat.female), lower.tail = FALSE)"
   ]
  },
  {
   "cell_type": "code",
   "execution_count": 6,
   "metadata": {},
   "outputs": [
    {
     "data": {
      "text/html": [
       "-8"
      ],
      "text/latex": [
       "-8"
      ],
      "text/markdown": [
       "-8"
      ],
      "text/plain": [
       "[1] -8"
      ]
     },
     "metadata": {},
     "output_type": "display_data"
    }
   ],
   "source": [
    "L = 2*(53.4 - 57.4) # phi = 1\n",
    "L"
   ]
  },
  {
   "cell_type": "markdown",
   "metadata": {},
   "source": [
    "Cau 7 chua lam duoc :("
   ]
  }
 ],
 "metadata": {
  "kernelspec": {
   "display_name": "R",
   "language": "R",
   "name": "ir"
  },
  "language_info": {
   "codemirror_mode": "r",
   "file_extension": ".r",
   "mimetype": "text/x-r-source",
   "name": "R",
   "pygments_lexer": "r",
   "version": "3.6.1"
  },
  "orig_nbformat": 4
 },
 "nbformat": 4,
 "nbformat_minor": 2
}
