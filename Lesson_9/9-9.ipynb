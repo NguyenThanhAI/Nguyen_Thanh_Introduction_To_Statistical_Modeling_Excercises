{
 "cells": [
  {
   "cell_type": "code",
   "execution_count": 1,
   "metadata": {},
   "outputs": [
    {
     "name": "stderr",
     "output_type": "stream",
     "text": [
      "Warning message:\n",
      "\"package 'statmod' was built under R version 3.6.3\""
     ]
    }
   ],
   "source": [
    "library(GLMsData)\n",
    "library(statmod)\n",
    "library(MASS)\n",
    "library(splines)"
   ]
  },
  {
   "cell_type": "code",
   "execution_count": 2,
   "metadata": {},
   "outputs": [],
   "source": [
    "data(budworm)"
   ]
  },
  {
   "cell_type": "code",
   "execution_count": 3,
   "metadata": {},
   "outputs": [
    {
     "name": "stdout",
     "output_type": "stream",
     "text": [
      "'data.frame':\t12 obs. of  4 variables:\n",
      " $ Killed: int  1 4 9 13 18 20 0 2 6 10 ...\n",
      " $ Number: int  20 20 20 20 20 20 20 20 20 20 ...\n",
      " $ Dose  : int  1 2 4 8 16 32 1 2 4 8 ...\n",
      " $ Gender: Factor w/ 2 levels \"F\",\"M\": 2 2 2 2 2 2 1 1 1 1 ...\n"
     ]
    }
   ],
   "source": [
    "str(budworm)"
   ]
  },
  {
   "cell_type": "code",
   "execution_count": 4,
   "metadata": {},
   "outputs": [
    {
     "data": {
      "text/html": [
       "<table>\n",
       "<thead><tr><th scope=col>Killed</th><th scope=col>Number</th><th scope=col>Dose</th><th scope=col>Gender</th></tr></thead>\n",
       "<tbody>\n",
       "\t<tr><td> 1</td><td>20</td><td> 1</td><td>M </td></tr>\n",
       "\t<tr><td> 4</td><td>20</td><td> 2</td><td>M </td></tr>\n",
       "\t<tr><td> 9</td><td>20</td><td> 4</td><td>M </td></tr>\n",
       "\t<tr><td>13</td><td>20</td><td> 8</td><td>M </td></tr>\n",
       "\t<tr><td>18</td><td>20</td><td>16</td><td>M </td></tr>\n",
       "\t<tr><td>20</td><td>20</td><td>32</td><td>M </td></tr>\n",
       "\t<tr><td> 0</td><td>20</td><td> 1</td><td>F </td></tr>\n",
       "\t<tr><td> 2</td><td>20</td><td> 2</td><td>F </td></tr>\n",
       "\t<tr><td> 6</td><td>20</td><td> 4</td><td>F </td></tr>\n",
       "\t<tr><td>10</td><td>20</td><td> 8</td><td>F </td></tr>\n",
       "\t<tr><td>12</td><td>20</td><td>16</td><td>F </td></tr>\n",
       "\t<tr><td>16</td><td>20</td><td>32</td><td>F </td></tr>\n",
       "</tbody>\n",
       "</table>\n"
      ],
      "text/latex": [
       "\\begin{tabular}{r|llll}\n",
       " Killed & Number & Dose & Gender\\\\\n",
       "\\hline\n",
       "\t  1 & 20 &  1 & M \\\\\n",
       "\t  4 & 20 &  2 & M \\\\\n",
       "\t  9 & 20 &  4 & M \\\\\n",
       "\t 13 & 20 &  8 & M \\\\\n",
       "\t 18 & 20 & 16 & M \\\\\n",
       "\t 20 & 20 & 32 & M \\\\\n",
       "\t  0 & 20 &  1 & F \\\\\n",
       "\t  2 & 20 &  2 & F \\\\\n",
       "\t  6 & 20 &  4 & F \\\\\n",
       "\t 10 & 20 &  8 & F \\\\\n",
       "\t 12 & 20 & 16 & F \\\\\n",
       "\t 16 & 20 & 32 & F \\\\\n",
       "\\end{tabular}\n"
      ],
      "text/markdown": [
       "\n",
       "| Killed | Number | Dose | Gender |\n",
       "|---|---|---|---|\n",
       "|  1 | 20 |  1 | M  |\n",
       "|  4 | 20 |  2 | M  |\n",
       "|  9 | 20 |  4 | M  |\n",
       "| 13 | 20 |  8 | M  |\n",
       "| 18 | 20 | 16 | M  |\n",
       "| 20 | 20 | 32 | M  |\n",
       "|  0 | 20 |  1 | F  |\n",
       "|  2 | 20 |  2 | F  |\n",
       "|  6 | 20 |  4 | F  |\n",
       "| 10 | 20 |  8 | F  |\n",
       "| 12 | 20 | 16 | F  |\n",
       "| 16 | 20 | 32 | F  |\n",
       "\n"
      ],
      "text/plain": [
       "   Killed Number Dose Gender\n",
       "1   1     20      1   M     \n",
       "2   4     20      2   M     \n",
       "3   9     20      4   M     \n",
       "4  13     20      8   M     \n",
       "5  18     20     16   M     \n",
       "6  20     20     32   M     \n",
       "7   0     20      1   F     \n",
       "8   2     20      2   F     \n",
       "9   6     20      4   F     \n",
       "10 10     20      8   F     \n",
       "11 12     20     16   F     \n",
       "12 16     20     32   F     "
      ]
     },
     "metadata": {},
     "output_type": "display_data"
    }
   ],
   "source": [
    "budworm"
   ]
  },
  {
   "cell_type": "code",
   "execution_count": 11,
   "metadata": {},
   "outputs": [],
   "source": [
    "budworm$Prop = budworm$Killed/budworm$Number"
   ]
  },
  {
   "cell_type": "code",
   "execution_count": 22,
   "metadata": {},
   "outputs": [
    {
     "data": {
      "image/png": "[encoded data removed]",
      "text/plain": [
       "plot without title"
      ]
     },
     "metadata": {},
     "output_type": "display_data"
    }
   ],
   "source": [
    "plot(Prop ~ Dose, data=budworm, type=\"n\", las=1)\n",
    "points( Prop ~ Dose, pch=\"M\", subset=(Gender==\"M\"), data=budworm)\n",
    "points( Prop ~ Dose, pch=\"F\", subset=(Gender==\"F\"), data=budworm)\n"
   ]
  },
  {
   "cell_type": "code",
   "execution_count": 27,
   "metadata": {},
   "outputs": [],
   "source": [
    "glm.1 <- glm(Killed/Number ~ log2(Dose)*Gender, data=budworm, weights=Number, family = binomial(link=\"logit\"))"
   ]
  },
  {
   "cell_type": "code",
   "execution_count": 28,
   "metadata": {},
   "outputs": [
    {
     "data": {
      "text/html": [
       "<table>\n",
       "<thead><tr><th></th><th scope=col>Estimate</th><th scope=col>Std. Error</th><th scope=col>z value</th><th scope=col>Pr(&gt;|z|)</th></tr></thead>\n",
       "<tbody>\n",
       "\t<tr><th scope=row>(Intercept)</th><td>-2.9935418  </td><td>0.5526997   </td><td>-5.4162175  </td><td>6.087304e-08</td></tr>\n",
       "\t<tr><th scope=row>log2(Dose)</th><td> 0.9060364  </td><td>0.1671016   </td><td> 5.4220678  </td><td>5.891353e-08</td></tr>\n",
       "\t<tr><th scope=row>GenderM</th><td> 0.1749868  </td><td>0.7783100   </td><td> 0.2248292  </td><td>8.221122e-01</td></tr>\n",
       "\t<tr><th scope=row>log2(Dose):GenderM</th><td> 0.3529130  </td><td>0.2699902   </td><td> 1.3071324  </td><td>1.911678e-01</td></tr>\n",
       "</tbody>\n",
       "</table>\n"
      ],
      "text/latex": [
       "\\begin{tabular}{r|llll}\n",
       "  & Estimate & Std. Error & z value & Pr(>\\textbar{}z\\textbar{})\\\\\n",
       "\\hline\n",
       "\t(Intercept) & -2.9935418   & 0.5526997    & -5.4162175   & 6.087304e-08\\\\\n",
       "\tlog2(Dose) &  0.9060364   & 0.1671016    &  5.4220678   & 5.891353e-08\\\\\n",
       "\tGenderM &  0.1749868   & 0.7783100    &  0.2248292   & 8.221122e-01\\\\\n",
       "\tlog2(Dose):GenderM &  0.3529130   & 0.2699902    &  1.3071324   & 1.911678e-01\\\\\n",
       "\\end{tabular}\n"
      ],
      "text/markdown": [
       "\n",
       "| <!--/--> | Estimate | Std. Error | z value | Pr(>|z|) |\n",
       "|---|---|---|---|---|\n",
       "| (Intercept) | -2.9935418   | 0.5526997    | -5.4162175   | 6.087304e-08 |\n",
       "| log2(Dose) |  0.9060364   | 0.1671016    |  5.4220678   | 5.891353e-08 |\n",
       "| GenderM |  0.1749868   | 0.7783100    |  0.2248292   | 8.221122e-01 |\n",
       "| log2(Dose):GenderM |  0.3529130   | 0.2699902    |  1.3071324   | 1.911678e-01 |\n",
       "\n"
      ],
      "text/plain": [
       "                   Estimate   Std. Error z value    Pr(>|z|)    \n",
       "(Intercept)        -2.9935418 0.5526997  -5.4162175 6.087304e-08\n",
       "log2(Dose)          0.9060364 0.1671016   5.4220678 5.891353e-08\n",
       "GenderM             0.1749868 0.7783100   0.2248292 8.221122e-01\n",
       "log2(Dose):GenderM  0.3529130 0.2699902   1.3071324 1.911678e-01"
      ]
     },
     "metadata": {},
     "output_type": "display_data"
    }
   ],
   "source": [
    "coef(summary(glm.1))"
   ]
  },
  {
   "cell_type": "code",
   "execution_count": 29,
   "metadata": {},
   "outputs": [
    {
     "data": {
      "text/html": [
       "<table>\n",
       "<thead><tr><th></th><th scope=col>Df</th><th scope=col>Deviance</th><th scope=col>Resid. Df</th><th scope=col>Resid. Dev</th><th scope=col>Pr(&gt;Chi)</th></tr></thead>\n",
       "<tbody>\n",
       "\t<tr><th scope=row>NULL</th><td>NA          </td><td>        NA  </td><td>11          </td><td>124.875593  </td><td>          NA</td></tr>\n",
       "\t<tr><th scope=row>log2(Dose)</th><td> 1          </td><td>107.891560  </td><td>10          </td><td> 16.984033  </td><td>2.838937e-25</td></tr>\n",
       "\t<tr><th scope=row>Gender</th><td> 1          </td><td> 10.226968  </td><td> 9          </td><td>  6.757064  </td><td>1.384020e-03</td></tr>\n",
       "\t<tr><th scope=row>log2(Dose):Gender</th><td> 1          </td><td>  1.763337  </td><td> 8          </td><td>  4.993727  </td><td>1.842088e-01</td></tr>\n",
       "</tbody>\n",
       "</table>\n"
      ],
      "text/latex": [
       "\\begin{tabular}{r|lllll}\n",
       "  & Df & Deviance & Resid. Df & Resid. Dev & Pr(>Chi)\\\\\n",
       "\\hline\n",
       "\tNULL & NA           &         NA   & 11           & 124.875593   &           NA\\\\\n",
       "\tlog2(Dose) &  1           & 107.891560   & 10           &  16.984033   & 2.838937e-25\\\\\n",
       "\tGender &  1           &  10.226968   &  9           &   6.757064   & 1.384020e-03\\\\\n",
       "\tlog2(Dose):Gender &  1           &   1.763337   &  8           &   4.993727   & 1.842088e-01\\\\\n",
       "\\end{tabular}\n"
      ],
      "text/markdown": [
       "\n",
       "| <!--/--> | Df | Deviance | Resid. Df | Resid. Dev | Pr(>Chi) |\n",
       "|---|---|---|---|---|---|\n",
       "| NULL | NA           |         NA   | 11           | 124.875593   |           NA |\n",
       "| log2(Dose) |  1           | 107.891560   | 10           |  16.984033   | 2.838937e-25 |\n",
       "| Gender |  1           |  10.226968   |  9           |   6.757064   | 1.384020e-03 |\n",
       "| log2(Dose):Gender |  1           |   1.763337   |  8           |   4.993727   | 1.842088e-01 |\n",
       "\n"
      ],
      "text/plain": [
       "                  Df Deviance   Resid. Df Resid. Dev Pr(>Chi)    \n",
       "NULL              NA         NA 11        124.875593           NA\n",
       "log2(Dose)         1 107.891560 10         16.984033 2.838937e-25\n",
       "Gender             1  10.226968  9          6.757064 1.384020e-03\n",
       "log2(Dose):Gender  1   1.763337  8          4.993727 1.842088e-01"
      ]
     },
     "metadata": {},
     "output_type": "display_data"
    }
   ],
   "source": [
    "anova(glm.1, test=\"Chisq\")"
   ]
  },
  {
   "cell_type": "code",
   "execution_count": 30,
   "metadata": {},
   "outputs": [],
   "source": [
    "glm.2 <- glm(Killed/Number ~ log2(Dose) + Gender, data=budworm, weights=Number, family = binomial(link=\"logit\"))"
   ]
  },
  {
   "cell_type": "code",
   "execution_count": 31,
   "metadata": {},
   "outputs": [
    {
     "data": {
      "text/html": [
       "<table>\n",
       "<thead><tr><th></th><th scope=col>Estimate</th><th scope=col>Std. Error</th><th scope=col>z value</th><th scope=col>Pr(&gt;|z|)</th></tr></thead>\n",
       "<tbody>\n",
       "\t<tr><th scope=row>(Intercept)</th><td>-3.473155   </td><td>0.4685202   </td><td>-7.413032   </td><td>1.234445e-13</td></tr>\n",
       "\t<tr><th scope=row>log2(Dose)</th><td> 1.064214   </td><td>0.1310775   </td><td> 8.118971   </td><td>4.701542e-16</td></tr>\n",
       "\t<tr><th scope=row>GenderM</th><td> 1.100743   </td><td>0.3558271   </td><td> 3.093478   </td><td>1.978249e-03</td></tr>\n",
       "</tbody>\n",
       "</table>\n"
      ],
      "text/latex": [
       "\\begin{tabular}{r|llll}\n",
       "  & Estimate & Std. Error & z value & Pr(>\\textbar{}z\\textbar{})\\\\\n",
       "\\hline\n",
       "\t(Intercept) & -3.473155    & 0.4685202    & -7.413032    & 1.234445e-13\\\\\n",
       "\tlog2(Dose) &  1.064214    & 0.1310775    &  8.118971    & 4.701542e-16\\\\\n",
       "\tGenderM &  1.100743    & 0.3558271    &  3.093478    & 1.978249e-03\\\\\n",
       "\\end{tabular}\n"
      ],
      "text/markdown": [
       "\n",
       "| <!--/--> | Estimate | Std. Error | z value | Pr(>|z|) |\n",
       "|---|---|---|---|---|\n",
       "| (Intercept) | -3.473155    | 0.4685202    | -7.413032    | 1.234445e-13 |\n",
       "| log2(Dose) |  1.064214    | 0.1310775    |  8.118971    | 4.701542e-16 |\n",
       "| GenderM |  1.100743    | 0.3558271    |  3.093478    | 1.978249e-03 |\n",
       "\n"
      ],
      "text/plain": [
       "            Estimate  Std. Error z value   Pr(>|z|)    \n",
       "(Intercept) -3.473155 0.4685202  -7.413032 1.234445e-13\n",
       "log2(Dose)   1.064214 0.1310775   8.118971 4.701542e-16\n",
       "GenderM      1.100743 0.3558271   3.093478 1.978249e-03"
      ]
     },
     "metadata": {},
     "output_type": "display_data"
    }
   ],
   "source": [
    "coef(summary(glm.2))"
   ]
  },
  {
   "cell_type": "code",
   "execution_count": 32,
   "metadata": {},
   "outputs": [
    {
     "data": {
      "text/html": [
       "<table>\n",
       "<thead><tr><th></th><th scope=col>Df</th><th scope=col>Deviance</th><th scope=col>Resid. Df</th><th scope=col>Resid. Dev</th><th scope=col>Pr(&gt;Chi)</th></tr></thead>\n",
       "<tbody>\n",
       "\t<tr><th scope=row>NULL</th><td>NA          </td><td>       NA   </td><td>11          </td><td>124.875593  </td><td>          NA</td></tr>\n",
       "\t<tr><th scope=row>log2(Dose)</th><td> 1          </td><td>107.89156   </td><td>10          </td><td> 16.984033  </td><td>2.838937e-25</td></tr>\n",
       "\t<tr><th scope=row>Gender</th><td> 1          </td><td> 10.22697   </td><td> 9          </td><td>  6.757064  </td><td>1.384020e-03</td></tr>\n",
       "</tbody>\n",
       "</table>\n"
      ],
      "text/latex": [
       "\\begin{tabular}{r|lllll}\n",
       "  & Df & Deviance & Resid. Df & Resid. Dev & Pr(>Chi)\\\\\n",
       "\\hline\n",
       "\tNULL & NA           &        NA    & 11           & 124.875593   &           NA\\\\\n",
       "\tlog2(Dose) &  1           & 107.89156    & 10           &  16.984033   & 2.838937e-25\\\\\n",
       "\tGender &  1           &  10.22697    &  9           &   6.757064   & 1.384020e-03\\\\\n",
       "\\end{tabular}\n"
      ],
      "text/markdown": [
       "\n",
       "| <!--/--> | Df | Deviance | Resid. Df | Resid. Dev | Pr(>Chi) |\n",
       "|---|---|---|---|---|---|\n",
       "| NULL | NA           |        NA    | 11           | 124.875593   |           NA |\n",
       "| log2(Dose) |  1           | 107.89156    | 10           |  16.984033   | 2.838937e-25 |\n",
       "| Gender |  1           |  10.22697    |  9           |   6.757064   | 1.384020e-03 |\n",
       "\n"
      ],
      "text/plain": [
       "           Df Deviance  Resid. Df Resid. Dev Pr(>Chi)    \n",
       "NULL       NA        NA 11        124.875593           NA\n",
       "log2(Dose)  1 107.89156 10         16.984033 2.838937e-25\n",
       "Gender      1  10.22697  9          6.757064 1.384020e-03"
      ]
     },
     "metadata": {},
     "output_type": "display_data"
    }
   ],
   "source": [
    "anova(glm.2, test=\"Chisq\")"
   ]
  },
  {
   "cell_type": "code",
   "execution_count": 35,
   "metadata": {},
   "outputs": [],
   "source": [
    "newDose = seq(min(budworm$Dose), max(budworm$Dose), length=100)\n",
    "fit.male <- predict(glm.2, newdata=data.frame(Dose=newDose, Gender=\"M\"), se.fit=TRUE, type=\"response\")\n",
    "fit.female <- predict(glm.2, newdata=data.frame(Dose=newDose, Gender=\"F\"), se.fit=TRUE, type=\"response\")\n"
   ]
  },
  {
   "cell_type": "code",
   "execution_count": 36,
   "metadata": {},
   "outputs": [
    {
     "data": {
      "image/png": "[encoded data removed]",
      "text/plain": [
       "plot without title"
      ]
     },
     "metadata": {},
     "output_type": "display_data"
    }
   ],
   "source": [
    "plot(Prop ~ Dose, data=budworm, type=\"n\", las=1, pch=ifelse(Gender==\"M\", 1, 19))\n",
    "lines(fit.male$fit ~ newDose, lty=1, lwd=2)\n",
    "lines(fit.female$fit ~ newDose, lty=2, lwd=4)\n"
   ]
  },
  {
   "cell_type": "code",
   "execution_count": 39,
   "metadata": {},
   "outputs": [
    {
     "data": {
      "text/html": [
       "3.00640004003949"
      ],
      "text/latex": [
       "3.00640004003949"
      ],
      "text/markdown": [
       "3.00640004003949"
      ],
      "text/plain": [
       "[1] 3.0064"
      ]
     },
     "metadata": {},
     "output_type": "display_data"
    },
    {
     "data": {
      "text/html": [
       "3.00639894873106"
      ],
      "text/latex": [
       "3.00639894873106"
      ],
      "text/markdown": [
       "3.00639894873106"
      ],
      "text/plain": [
       "[1] 3.006399"
      ]
     },
     "metadata": {},
     "output_type": "display_data"
    }
   ],
   "source": [
    "exp(coef(summary(glm.2))[3,\"Estimate\"])\n",
    "exp(1.100743)"
   ]
  },
  {
   "cell_type": "code",
   "execution_count": 37,
   "metadata": {},
   "outputs": [
    {
     "data": {
      "text/plain": [
       "             Dose        SE\n",
       "p = 0.5: 3.263587 0.2297539"
      ]
     },
     "metadata": {},
     "output_type": "display_data"
    },
    {
     "data": {
      "text/plain": [
       "             Dose        SE\n",
       "p = 0.5: 3.155282 0.8409467"
      ]
     },
     "metadata": {},
     "output_type": "display_data"
    }
   ],
   "source": [
    "dose.p(glm.2, c(1, 2))\n",
    "dose.p(glm.2, c(1, 3))"
   ]
  },
  {
   "cell_type": "code",
   "execution_count": 40,
   "metadata": {},
   "outputs": [
    {
     "name": "stderr",
     "output_type": "stream",
     "text": [
      "Waiting for profiling to be done...\n"
     ]
    },
    {
     "data": {
      "text/html": [
       "<table>\n",
       "<thead><tr><th></th><th scope=col>2.5 %</th><th scope=col>97.5 %</th></tr></thead>\n",
       "<tbody>\n",
       "\t<tr><th scope=row>(Intercept)</th><td>-4.4581438</td><td>-2.613610 </td></tr>\n",
       "\t<tr><th scope=row>log2(Dose)</th><td> 0.8228708</td><td> 1.339058 </td></tr>\n",
       "\t<tr><th scope=row>GenderM</th><td> 0.4192265</td><td> 1.820471 </td></tr>\n",
       "</tbody>\n",
       "</table>\n"
      ],
      "text/latex": [
       "\\begin{tabular}{r|ll}\n",
       "  & 2.5 \\% & 97.5 \\%\\\\\n",
       "\\hline\n",
       "\t(Intercept) & -4.4581438 & -2.613610 \\\\\n",
       "\tlog2(Dose) &  0.8228708 &  1.339058 \\\\\n",
       "\tGenderM &  0.4192265 &  1.820471 \\\\\n",
       "\\end{tabular}\n"
      ],
      "text/markdown": [
       "\n",
       "| <!--/--> | 2.5 % | 97.5 % |\n",
       "|---|---|---|\n",
       "| (Intercept) | -4.4581438 | -2.613610  |\n",
       "| log2(Dose) |  0.8228708 |  1.339058  |\n",
       "| GenderM |  0.4192265 |  1.820471  |\n",
       "\n"
      ],
      "text/plain": [
       "            2.5 %      97.5 %   \n",
       "(Intercept) -4.4581438 -2.613610\n",
       "log2(Dose)   0.8228708  1.339058\n",
       "GenderM      0.4192265  1.820471"
      ]
     },
     "metadata": {},
     "output_type": "display_data"
    }
   ],
   "source": [
    "confint(glm.2)"
   ]
  },
  {
   "cell_type": "code",
   "execution_count": 41,
   "metadata": {},
   "outputs": [
    {
     "data": {
      "text/plain": [
       "\n",
       "\tShapiro-Wilk normality test\n",
       "\n",
       "data:  qresid(glm.2)\n",
       "W = 0.94887, p-value = 0.6205\n"
      ]
     },
     "metadata": {},
     "output_type": "display_data"
    },
    {
     "data": {
      "image/png": "[encoded data removed]",
      "text/plain": [
       "Plot with title \"Normal Q-Q Plot\""
      ]
     },
     "metadata": {},
     "output_type": "display_data"
    }
   ],
   "source": [
    "par(mfrow=c(3, 3))\n",
    "\n",
    "scatter.smooth(qresid(glm.2) ~ fitted(glm.2))\n",
    "#termplot(glm.2, partial.resid = TRUE, las=2)\n",
    "#scatter.smooth(glm.2$linear.predictor + resid(glm.2, type=\"working\") ~ glm.2$linear.predictor)\n",
    "qqnorm(qresid(glm.2))\n",
    "qqline(qresid(glm.2))\n",
    "plot(cooks.distance(glm.2), type=\"h\")\n",
    "shapiro.test(qresid(glm.2))"
   ]
  },
  {
   "cell_type": "code",
   "execution_count": 42,
   "metadata": {},
   "outputs": [
    {
     "data": {
      "text/html": [
       "<dl class=dl-horizontal>\n",
       "\t<dt>dfb.1_</dt>\n",
       "\t\t<dd>0</dd>\n",
       "\t<dt>dfb.l2(D</dt>\n",
       "\t\t<dd>0</dd>\n",
       "\t<dt>dfb.GndM</dt>\n",
       "\t\t<dd>0</dd>\n",
       "\t<dt>dffit</dt>\n",
       "\t\t<dd>0</dd>\n",
       "\t<dt>cov.r</dt>\n",
       "\t\t<dd>0</dd>\n",
       "\t<dt>cook.d</dt>\n",
       "\t\t<dd>0</dd>\n",
       "\t<dt>hat</dt>\n",
       "\t\t<dd>0</dd>\n",
       "</dl>\n"
      ],
      "text/latex": [
       "\\begin{description*}\n",
       "\\item[dfb.1\\textbackslash{}\\_] 0\n",
       "\\item[dfb.l2(D] 0\n",
       "\\item[dfb.GndM] 0\n",
       "\\item[dffit] 0\n",
       "\\item[cov.r] 0\n",
       "\\item[cook.d] 0\n",
       "\\item[hat] 0\n",
       "\\end{description*}\n"
      ],
      "text/markdown": [
       "dfb.1_\n",
       ":   0dfb.l2(D\n",
       ":   0dfb.GndM\n",
       ":   0dffit\n",
       ":   0cov.r\n",
       ":   0cook.d\n",
       ":   0hat\n",
       ":   0\n",
       "\n"
      ],
      "text/plain": [
       "  dfb.1_ dfb.l2(D dfb.GndM    dffit    cov.r   cook.d      hat \n",
       "       0        0        0        0        0        0        0 "
      ]
     },
     "metadata": {},
     "output_type": "display_data"
    }
   ],
   "source": [
    "colSums(influence.measures(glm.2)$is.inf)"
   ]
  },
  {
   "cell_type": "code",
   "execution_count": 43,
   "metadata": {},
   "outputs": [
    {
     "data": {
      "text/html": [
       "<dl class=dl-horizontal>\n",
       "\t<dt>1</dt>\n",
       "\t\t<dd>0</dd>\n",
       "\t<dt>2</dt>\n",
       "\t\t<dd>0</dd>\n",
       "\t<dt>3</dt>\n",
       "\t\t<dd>0</dd>\n",
       "\t<dt>4</dt>\n",
       "\t\t<dd>0</dd>\n",
       "\t<dt>5</dt>\n",
       "\t\t<dd>0</dd>\n",
       "\t<dt>6</dt>\n",
       "\t\t<dd>0</dd>\n",
       "\t<dt>7</dt>\n",
       "\t\t<dd>0</dd>\n",
       "\t<dt>8</dt>\n",
       "\t\t<dd>0</dd>\n",
       "\t<dt>9</dt>\n",
       "\t\t<dd>0</dd>\n",
       "\t<dt>10</dt>\n",
       "\t\t<dd>0</dd>\n",
       "\t<dt>11</dt>\n",
       "\t\t<dd>0</dd>\n",
       "\t<dt>12</dt>\n",
       "\t\t<dd>0</dd>\n",
       "</dl>\n"
      ],
      "text/latex": [
       "\\begin{description*}\n",
       "\\item[1] 0\n",
       "\\item[2] 0\n",
       "\\item[3] 0\n",
       "\\item[4] 0\n",
       "\\item[5] 0\n",
       "\\item[6] 0\n",
       "\\item[7] 0\n",
       "\\item[8] 0\n",
       "\\item[9] 0\n",
       "\\item[10] 0\n",
       "\\item[11] 0\n",
       "\\item[12] 0\n",
       "\\end{description*}\n"
      ],
      "text/markdown": [
       "1\n",
       ":   02\n",
       ":   03\n",
       ":   04\n",
       ":   05\n",
       ":   06\n",
       ":   07\n",
       ":   08\n",
       ":   09\n",
       ":   010\n",
       ":   011\n",
       ":   012\n",
       ":   0\n",
       "\n"
      ],
      "text/plain": [
       " 1  2  3  4  5  6  7  8  9 10 11 12 \n",
       " 0  0  0  0  0  0  0  0  0  0  0  0 "
      ]
     },
     "metadata": {},
     "output_type": "display_data"
    }
   ],
   "source": [
    "rowSums(influence.measures(glm.2)$is.inf)"
   ]
  }
 ],
 "metadata": {
  "kernelspec": {
   "display_name": "R",
   "language": "R",
   "name": "ir"
  },
  "language_info": {
   "codemirror_mode": "r",
   "file_extension": ".r",
   "mimetype": "text/x-r-source",
   "name": "R",
   "pygments_lexer": "r",
   "version": "3.6.1"
  },
  "orig_nbformat": 4
 },
 "nbformat": 4,
 "nbformat_minor": 2
}
