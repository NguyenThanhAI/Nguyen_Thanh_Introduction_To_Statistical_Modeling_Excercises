{
 "cells": [
  {
   "cell_type": "code",
   "execution_count": 1,
   "metadata": {},
   "outputs": [
    {
     "name": "stderr",
     "output_type": "stream",
     "text": [
      "Warning message:\n",
      "\"package 'statmod' was built under R version 3.6.3\""
     ]
    }
   ],
   "source": [
    "library(GLMsData)\n",
    "library(statmod)\n",
    "library(MASS)"
   ]
  },
  {
   "cell_type": "code",
   "execution_count": 2,
   "metadata": {},
   "outputs": [],
   "source": [
    "data(nminer)"
   ]
  },
  {
   "cell_type": "code",
   "execution_count": 3,
   "metadata": {},
   "outputs": [
    {
     "name": "stdout",
     "output_type": "stream",
     "text": [
      "'data.frame':\t31 obs. of  8 variables:\n",
      " $ Miners : int  0 0 1 1 1 1 1 1 0 1 ...\n",
      " $ Eucs   : int  2 10 16 20 19 18 12 16 3 12 ...\n",
      " $ Area   : int  22 11 51 22 4 61 16 14 5 6 ...\n",
      " $ Grazed : int  0 0 0 0 0 0 0 0 0 1 ...\n",
      " $ Shrubs : int  1 1 1 1 1 1 1 1 1 0 ...\n",
      " $ Bulokes: int  120 67 85 45 160 75 100 321 275 227 ...\n",
      " $ Timber : int  16 25 13 12 14 6 12 15 8 10 ...\n",
      " $ Minerab: int  0 0 3 2 8 1 8 5 0 4 ...\n"
     ]
    }
   ],
   "source": [
    "str(nminer)"
   ]
  },
  {
   "cell_type": "code",
   "execution_count": 6,
   "metadata": {},
   "outputs": [
    {
     "data": {
      "image/png": "[encoded data removed]",
      "text/plain": [
       "plot without title"
      ]
     },
     "metadata": {},
     "output_type": "display_data"
    },
    {
     "data": {
      "image/png": "[encoded data removed]",
      "text/plain": [
       "plot without title"
      ]
     },
     "metadata": {},
     "output_type": "display_data"
    }
   ],
   "source": [
    "plot(Minerab ~ Miners, data=nminer)\n",
    "plot(Minerab ~ Eucs, data=nminer)"
   ]
  },
  {
   "cell_type": "code",
   "execution_count": 11,
   "metadata": {},
   "outputs": [],
   "source": [
    "glm.1 <- glm(Minerab ~ Eucs + Bulokes + Area + factor(Grazed) + factor(Shrubs), family = poisson(link=\"log\"), data=nminer)"
   ]
  },
  {
   "cell_type": "code",
   "execution_count": 12,
   "metadata": {},
   "outputs": [
    {
     "data": {
      "text/html": [
       "<table>\n",
       "<thead><tr><th></th><th scope=col>Estimate</th><th scope=col>Std. Error</th><th scope=col>z value</th><th scope=col>Pr(&gt;|z|)</th></tr></thead>\n",
       "<tbody>\n",
       "\t<tr><th scope=row>(Intercept)</th><td>-1.269020717</td><td>0.711632614 </td><td>-1.783253   </td><td>7.454519e-02</td></tr>\n",
       "\t<tr><th scope=row>Eucs</th><td> 0.130170820</td><td>0.021699913 </td><td> 5.998679   </td><td>1.989287e-09</td></tr>\n",
       "\t<tr><th scope=row>Bulokes</th><td> 0.002039413</td><td>0.001584416 </td><td> 1.287170   </td><td>1.980350e-01</td></tr>\n",
       "\t<tr><th scope=row>Area</th><td>-0.023726832</td><td>0.011095099 </td><td>-2.138497   </td><td>3.247646e-02</td></tr>\n",
       "\t<tr><th scope=row>factor(Grazed)1</th><td> 0.164729627</td><td>0.369036161 </td><td> 0.446378   </td><td>6.553242e-01</td></tr>\n",
       "\t<tr><th scope=row>factor(Shrubs)1</th><td> 0.431806874</td><td>0.359423625 </td><td> 1.201387   </td><td>2.296011e-01</td></tr>\n",
       "</tbody>\n",
       "</table>\n"
      ],
      "text/latex": [
       "\\begin{tabular}{r|llll}\n",
       "  & Estimate & Std. Error & z value & Pr(>\\textbar{}z\\textbar{})\\\\\n",
       "\\hline\n",
       "\t(Intercept) & -1.269020717 & 0.711632614  & -1.783253    & 7.454519e-02\\\\\n",
       "\tEucs &  0.130170820 & 0.021699913  &  5.998679    & 1.989287e-09\\\\\n",
       "\tBulokes &  0.002039413 & 0.001584416  &  1.287170    & 1.980350e-01\\\\\n",
       "\tArea & -0.023726832 & 0.011095099  & -2.138497    & 3.247646e-02\\\\\n",
       "\tfactor(Grazed)1 &  0.164729627 & 0.369036161  &  0.446378    & 6.553242e-01\\\\\n",
       "\tfactor(Shrubs)1 &  0.431806874 & 0.359423625  &  1.201387    & 2.296011e-01\\\\\n",
       "\\end{tabular}\n"
      ],
      "text/markdown": [
       "\n",
       "| <!--/--> | Estimate | Std. Error | z value | Pr(>|z|) |\n",
       "|---|---|---|---|---|\n",
       "| (Intercept) | -1.269020717 | 0.711632614  | -1.783253    | 7.454519e-02 |\n",
       "| Eucs |  0.130170820 | 0.021699913  |  5.998679    | 1.989287e-09 |\n",
       "| Bulokes |  0.002039413 | 0.001584416  |  1.287170    | 1.980350e-01 |\n",
       "| Area | -0.023726832 | 0.011095099  | -2.138497    | 3.247646e-02 |\n",
       "| factor(Grazed)1 |  0.164729627 | 0.369036161  |  0.446378    | 6.553242e-01 |\n",
       "| factor(Shrubs)1 |  0.431806874 | 0.359423625  |  1.201387    | 2.296011e-01 |\n",
       "\n"
      ],
      "text/plain": [
       "                Estimate     Std. Error  z value   Pr(>|z|)    \n",
       "(Intercept)     -1.269020717 0.711632614 -1.783253 7.454519e-02\n",
       "Eucs             0.130170820 0.021699913  5.998679 1.989287e-09\n",
       "Bulokes          0.002039413 0.001584416  1.287170 1.980350e-01\n",
       "Area            -0.023726832 0.011095099 -2.138497 3.247646e-02\n",
       "factor(Grazed)1  0.164729627 0.369036161  0.446378 6.553242e-01\n",
       "factor(Shrubs)1  0.431806874 0.359423625  1.201387 2.296011e-01"
      ]
     },
     "metadata": {},
     "output_type": "display_data"
    }
   ],
   "source": [
    "coef(summary(glm.1))"
   ]
  },
  {
   "cell_type": "code",
   "execution_count": 13,
   "metadata": {},
   "outputs": [
    {
     "data": {
      "text/html": [
       "<table>\n",
       "<thead><tr><th></th><th scope=col>Df</th><th scope=col>Deviance</th><th scope=col>Resid. Df</th><th scope=col>Resid. Dev</th><th scope=col>Pr(&gt;Chi)</th></tr></thead>\n",
       "<tbody>\n",
       "\t<tr><th scope=row>NULL</th><td>NA          </td><td>       NA   </td><td>30          </td><td>150.54532   </td><td>          NA</td></tr>\n",
       "\t<tr><th scope=row>Eucs</th><td> 1          </td><td>87.227346   </td><td>29          </td><td> 63.31798   </td><td>9.673697e-21</td></tr>\n",
       "\t<tr><th scope=row>Bulokes</th><td> 1          </td><td> 2.640443   </td><td>28          </td><td> 60.67754   </td><td>1.041745e-01</td></tr>\n",
       "\t<tr><th scope=row>Area</th><td> 1          </td><td> 4.194204   </td><td>27          </td><td> 56.48333   </td><td>4.056240e-02</td></tr>\n",
       "\t<tr><th scope=row>factor(Grazed)</th><td> 1          </td><td> 0.205876   </td><td>26          </td><td> 56.27746   </td><td>6.500192e-01</td></tr>\n",
       "\t<tr><th scope=row>factor(Shrubs)</th><td> 1          </td><td> 1.459593   </td><td>25          </td><td> 54.81786   </td><td>2.269950e-01</td></tr>\n",
       "</tbody>\n",
       "</table>\n"
      ],
      "text/latex": [
       "\\begin{tabular}{r|lllll}\n",
       "  & Df & Deviance & Resid. Df & Resid. Dev & Pr(>Chi)\\\\\n",
       "\\hline\n",
       "\tNULL & NA           &        NA    & 30           & 150.54532    &           NA\\\\\n",
       "\tEucs &  1           & 87.227346    & 29           &  63.31798    & 9.673697e-21\\\\\n",
       "\tBulokes &  1           &  2.640443    & 28           &  60.67754    & 1.041745e-01\\\\\n",
       "\tArea &  1           &  4.194204    & 27           &  56.48333    & 4.056240e-02\\\\\n",
       "\tfactor(Grazed) &  1           &  0.205876    & 26           &  56.27746    & 6.500192e-01\\\\\n",
       "\tfactor(Shrubs) &  1           &  1.459593    & 25           &  54.81786    & 2.269950e-01\\\\\n",
       "\\end{tabular}\n"
      ],
      "text/markdown": [
       "\n",
       "| <!--/--> | Df | Deviance | Resid. Df | Resid. Dev | Pr(>Chi) |\n",
       "|---|---|---|---|---|---|\n",
       "| NULL | NA           |        NA    | 30           | 150.54532    |           NA |\n",
       "| Eucs |  1           | 87.227346    | 29           |  63.31798    | 9.673697e-21 |\n",
       "| Bulokes |  1           |  2.640443    | 28           |  60.67754    | 1.041745e-01 |\n",
       "| Area |  1           |  4.194204    | 27           |  56.48333    | 4.056240e-02 |\n",
       "| factor(Grazed) |  1           |  0.205876    | 26           |  56.27746    | 6.500192e-01 |\n",
       "| factor(Shrubs) |  1           |  1.459593    | 25           |  54.81786    | 2.269950e-01 |\n",
       "\n"
      ],
      "text/plain": [
       "               Df Deviance  Resid. Df Resid. Dev Pr(>Chi)    \n",
       "NULL           NA        NA 30        150.54532            NA\n",
       "Eucs            1 87.227346 29         63.31798  9.673697e-21\n",
       "Bulokes         1  2.640443 28         60.67754  1.041745e-01\n",
       "Area            1  4.194204 27         56.48333  4.056240e-02\n",
       "factor(Grazed)  1  0.205876 26         56.27746  6.500192e-01\n",
       "factor(Shrubs)  1  1.459593 25         54.81786  2.269950e-01"
      ]
     },
     "metadata": {},
     "output_type": "display_data"
    }
   ],
   "source": [
    "anova(glm.1, test=\"Chisq\")"
   ]
  },
  {
   "cell_type": "code",
   "execution_count": 16,
   "metadata": {},
   "outputs": [
    {
     "data": {
      "text/html": [
       "0.000519924688455746"
      ],
      "text/latex": [
       "0.000519924688455746"
      ],
      "text/markdown": [
       "0.000519924688455746"
      ],
      "text/plain": [
       "[1] 0.0005199247"
      ]
     },
     "metadata": {},
     "output_type": "display_data"
    },
    {
     "data": {
      "text/html": [
       "0.000119418597316417"
      ],
      "text/latex": [
       "0.000119418597316417"
      ],
      "text/markdown": [
       "0.000119418597316417"
      ],
      "text/plain": [
       "[1] 0.0001194186"
      ]
     },
     "metadata": {},
     "output_type": "display_data"
    },
    {
     "data": {
      "text/html": [
       "2.19271451618089"
      ],
      "text/latex": [
       "2.19271451618089"
      ],
      "text/markdown": [
       "2.19271451618089"
      ],
      "text/plain": [
       "[1] 2.192715"
      ]
     },
     "metadata": {},
     "output_type": "display_data"
    },
    {
     "data": {
      "text/html": [
       "2.38321121992518"
      ],
      "text/latex": [
       "2.38321121992518"
      ],
      "text/markdown": [
       "2.38321121992518"
      ],
      "text/plain": [
       "[1] 2.383211"
      ]
     },
     "metadata": {},
     "output_type": "display_data"
    }
   ],
   "source": [
    "gof.dev <- deviance(glm.1)\n",
    "pchisq(gof.dev, df=df.residual(glm.1), lower.tail = FALSE)\n",
    "gof.pearson <- sum(glm.1$weights * glm.1$residuals^2)\n",
    "pchisq(gof.pearson, df=df.residual(glm.1), lower.tail = FALSE)\n",
    "gof.dev/df.residual(glm.1)\n",
    "gof.pearson/df.residual(glm.1)"
   ]
  },
  {
   "cell_type": "code",
   "execution_count": 17,
   "metadata": {},
   "outputs": [],
   "source": [
    "glm.quasi <- glm(Minerab ~ Eucs + Bulokes + Area + factor(Grazed) + factor(Shrubs), family = quasipoisson(link=\"log\"), data=nminer)"
   ]
  },
  {
   "cell_type": "code",
   "execution_count": 18,
   "metadata": {},
   "outputs": [
    {
     "data": {
      "text/html": [
       "<table>\n",
       "<thead><tr><th></th><th scope=col>Estimate</th><th scope=col>Std. Error</th><th scope=col>t value</th><th scope=col>Pr(&gt;|t|)</th></tr></thead>\n",
       "<tbody>\n",
       "\t<tr><th scope=row>(Intercept)</th><td>-1.269020717</td><td>1.098593717 </td><td>-1.1551320  </td><td>0.2589581242</td></tr>\n",
       "\t<tr><th scope=row>Eucs</th><td> 0.130170820</td><td>0.033499572 </td><td> 3.8857457  </td><td>0.0006640236</td></tr>\n",
       "\t<tr><th scope=row>Bulokes</th><td> 0.002039413</td><td>0.002445966 </td><td> 0.8337862  </td><td>0.4122975273</td></tr>\n",
       "\t<tr><th scope=row>Area</th><td>-0.023726832</td><td>0.017128229 </td><td>-1.3852473  </td><td>0.1782136835</td></tr>\n",
       "\t<tr><th scope=row>factor(Grazed)1</th><td> 0.164729627</td><td>0.569705210 </td><td> 0.2891489  </td><td>0.7748517219</td></tr>\n",
       "\t<tr><th scope=row>factor(Shrubs)1</th><td> 0.431806874</td><td>0.554865710 </td><td> 0.7782187  </td><td>0.4437435581</td></tr>\n",
       "</tbody>\n",
       "</table>\n"
      ],
      "text/latex": [
       "\\begin{tabular}{r|llll}\n",
       "  & Estimate & Std. Error & t value & Pr(>\\textbar{}t\\textbar{})\\\\\n",
       "\\hline\n",
       "\t(Intercept) & -1.269020717 & 1.098593717  & -1.1551320   & 0.2589581242\\\\\n",
       "\tEucs &  0.130170820 & 0.033499572  &  3.8857457   & 0.0006640236\\\\\n",
       "\tBulokes &  0.002039413 & 0.002445966  &  0.8337862   & 0.4122975273\\\\\n",
       "\tArea & -0.023726832 & 0.017128229  & -1.3852473   & 0.1782136835\\\\\n",
       "\tfactor(Grazed)1 &  0.164729627 & 0.569705210  &  0.2891489   & 0.7748517219\\\\\n",
       "\tfactor(Shrubs)1 &  0.431806874 & 0.554865710  &  0.7782187   & 0.4437435581\\\\\n",
       "\\end{tabular}\n"
      ],
      "text/markdown": [
       "\n",
       "| <!--/--> | Estimate | Std. Error | t value | Pr(>|t|) |\n",
       "|---|---|---|---|---|\n",
       "| (Intercept) | -1.269020717 | 1.098593717  | -1.1551320   | 0.2589581242 |\n",
       "| Eucs |  0.130170820 | 0.033499572  |  3.8857457   | 0.0006640236 |\n",
       "| Bulokes |  0.002039413 | 0.002445966  |  0.8337862   | 0.4122975273 |\n",
       "| Area | -0.023726832 | 0.017128229  | -1.3852473   | 0.1782136835 |\n",
       "| factor(Grazed)1 |  0.164729627 | 0.569705210  |  0.2891489   | 0.7748517219 |\n",
       "| factor(Shrubs)1 |  0.431806874 | 0.554865710  |  0.7782187   | 0.4437435581 |\n",
       "\n"
      ],
      "text/plain": [
       "                Estimate     Std. Error  t value    Pr(>|t|)    \n",
       "(Intercept)     -1.269020717 1.098593717 -1.1551320 0.2589581242\n",
       "Eucs             0.130170820 0.033499572  3.8857457 0.0006640236\n",
       "Bulokes          0.002039413 0.002445966  0.8337862 0.4122975273\n",
       "Area            -0.023726832 0.017128229 -1.3852473 0.1782136835\n",
       "factor(Grazed)1  0.164729627 0.569705210  0.2891489 0.7748517219\n",
       "factor(Shrubs)1  0.431806874 0.554865710  0.7782187 0.4437435581"
      ]
     },
     "metadata": {},
     "output_type": "display_data"
    }
   ],
   "source": [
    "coef(summary(glm.quasi))"
   ]
  },
  {
   "cell_type": "code",
   "execution_count": 20,
   "metadata": {},
   "outputs": [
    {
     "data": {
      "text/html": [
       "0.000519924688455746"
      ],
      "text/latex": [
       "0.000519924688455746"
      ],
      "text/markdown": [
       "0.000519924688455746"
      ],
      "text/plain": [
       "[1] 0.0005199247"
      ]
     },
     "metadata": {},
     "output_type": "display_data"
    },
    {
     "data": {
      "text/html": [
       "0.000119418597316415"
      ],
      "text/latex": [
       "0.000119418597316415"
      ],
      "text/markdown": [
       "0.000119418597316415"
      ],
      "text/plain": [
       "[1] 0.0001194186"
      ]
     },
     "metadata": {},
     "output_type": "display_data"
    },
    {
     "data": {
      "text/html": [
       "2.19271451618089"
      ],
      "text/latex": [
       "2.19271451618089"
      ],
      "text/markdown": [
       "2.19271451618089"
      ],
      "text/plain": [
       "[1] 2.192715"
      ]
     },
     "metadata": {},
     "output_type": "display_data"
    },
    {
     "data": {
      "text/html": [
       "2.38321121992518"
      ],
      "text/latex": [
       "2.38321121992518"
      ],
      "text/markdown": [
       "2.38321121992518"
      ],
      "text/plain": [
       "[1] 2.383211"
      ]
     },
     "metadata": {},
     "output_type": "display_data"
    }
   ],
   "source": [
    "gof.dev <- deviance(glm.quasi)\n",
    "gof.pearson <- sum(glm.quasi$weights * glm.quasi$residuals^2)\n",
    "pchisq(gof.dev, df=df.residual(glm.quasi), lower.tail = FALSE)\n",
    "pchisq(gof.pearson, df=df.residual(glm.quasi), lower.tail = FALSE)\n",
    "gof.dev / df.residual(glm.quasi)\n",
    "gof.pearson / df.residual(glm.quasi)"
   ]
  },
  {
   "cell_type": "code",
   "execution_count": 31,
   "metadata": {},
   "outputs": [
    {
     "data": {
      "text/plain": [
       "\n",
       "\tShapiro-Wilk normality test\n",
       "\n",
       "data:  rstandard(glm.quasi)\n",
       "W = 0.90016, p-value = 0.007277\n"
      ]
     },
     "metadata": {},
     "output_type": "display_data"
    },
    {
     "data": {
      "text/plain": [
       "\n",
       "\tShapiro-Wilk normality test\n",
       "\n",
       "data:  qresid(glm.quasi)\n",
       "W = 0.89456, p-value = 0.005286\n"
      ]
     },
     "metadata": {},
     "output_type": "display_data"
    },
    {
     "data": {
      "image/png": "[encoded data removed]",
      "text/plain": [
       "Plot with title \"Normal Q-Q Plot\""
      ]
     },
     "metadata": {},
     "output_type": "display_data"
    }
   ],
   "source": [
    "par(mfrow=c(3, 4))\n",
    "scatter.smooth(rstandard(glm.quasi) ~ sqrt(fitted(glm.quasi)))\n",
    "scatter.smooth(rstandard(glm.quasi) ~ nminer$Eucs)\n",
    "scatter.smooth(rstandard(glm.quasi) ~ nminer$Bulokes)\n",
    "scatter.smooth(rstandard(glm.quasi) ~ nminer$Area)\n",
    "z <- resid(glm.quasi, type=\"working\") + glm.quasi$linear.predictor\n",
    "scatter.smooth(z ~ glm.quasi$linear.predictor)\n",
    "termplot(glm.quasi, partial.resid = TRUE, las=1)\n",
    "qqnorm(rstandard(glm.quasi))\n",
    "qqline(rstandard(glm.quasi))\n",
    "shapiro.test(rstandard(glm.quasi))\n",
    "shapiro.test(qresid(glm.quasi))"
   ]
  }
 ],
 "metadata": {
  "kernelspec": {
   "display_name": "R",
   "language": "R",
   "name": "ir"
  },
  "language_info": {
   "codemirror_mode": "r",
   "file_extension": ".r",
   "mimetype": "text/x-r-source",
   "name": "R",
   "pygments_lexer": "r",
   "version": "3.6.1"
  },
  "orig_nbformat": 4
 },
 "nbformat": 4,
 "nbformat_minor": 2
}
