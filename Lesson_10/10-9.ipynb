{
 "cells": [
  {
   "cell_type": "code",
   "execution_count": 1,
   "metadata": {},
   "outputs": [
    {
     "name": "stderr",
     "output_type": "stream",
     "text": [
      "Warning message:\n",
      "\"package 'statmod' was built under R version 3.6.3\""
     ]
    }
   ],
   "source": [
    "library(GLMsData)\n",
    "library(statmod)\n",
    "library(MASS)"
   ]
  },
  {
   "cell_type": "code",
   "execution_count": 2,
   "metadata": {},
   "outputs": [],
   "source": [
    "data(danishlc)"
   ]
  },
  {
   "cell_type": "code",
   "execution_count": 3,
   "metadata": {},
   "outputs": [
    {
     "name": "stdout",
     "output_type": "stream",
     "text": [
      "'data.frame':\t24 obs. of  4 variables:\n",
      " $ Cases: int  11 11 11 10 11 10 13 6 15 10 ...\n",
      " $ Pop  : int  3059 800 710 581 509 605 2879 1083 923 834 ...\n",
      " $ Age  : Factor w/ 6 levels \">74\",\"40-54\",..: 2 3 4 5 6 1 2 3 4 5 ...\n",
      " $ City : Factor w/ 4 levels \"Fredericia\",\"Horsens\",..: 1 1 1 1 1 1 2 2 2 2 ...\n"
     ]
    }
   ],
   "source": [
    "str(danishlc)"
   ]
  },
  {
   "cell_type": "code",
   "execution_count": 4,
   "metadata": {},
   "outputs": [
    {
     "data": {
      "text/html": [
       "<table>\n",
       "<thead><tr><th scope=col>Cases</th><th scope=col>Pop</th><th scope=col>Age</th><th scope=col>City</th></tr></thead>\n",
       "<tbody>\n",
       "\t<tr><td>11        </td><td>3059      </td><td>40-54     </td><td>Fredericia</td></tr>\n",
       "\t<tr><td>11        </td><td> 800      </td><td>55-59     </td><td>Fredericia</td></tr>\n",
       "\t<tr><td>11        </td><td> 710      </td><td>60-64     </td><td>Fredericia</td></tr>\n",
       "\t<tr><td>10        </td><td> 581      </td><td>65-69     </td><td>Fredericia</td></tr>\n",
       "\t<tr><td>11        </td><td> 509      </td><td>70-74     </td><td>Fredericia</td></tr>\n",
       "\t<tr><td>10                                              </td><td> 605                                            </td><td><span style=white-space:pre-wrap>&gt;74  </span></td><td>Fredericia                                      </td></tr>\n",
       "\t<tr><td>13        </td><td>2879      </td><td>40-54     </td><td>Horsens   </td></tr>\n",
       "\t<tr><td> 6        </td><td>1083      </td><td>55-59     </td><td>Horsens   </td></tr>\n",
       "\t<tr><td>15        </td><td> 923      </td><td>60-64     </td><td>Horsens   </td></tr>\n",
       "\t<tr><td>10        </td><td> 834      </td><td>65-69     </td><td>Horsens   </td></tr>\n",
       "\t<tr><td>12        </td><td> 634      </td><td>70-74     </td><td>Horsens   </td></tr>\n",
       "\t<tr><td> 2                                                </td><td> 782                                              </td><td><span style=white-space:pre-wrap>&gt;74  </span>  </td><td><span style=white-space:pre-wrap>Horsens   </span></td></tr>\n",
       "\t<tr><td> 4        </td><td>3142      </td><td>40-54     </td><td>Kolding   </td></tr>\n",
       "\t<tr><td> 8        </td><td>1050      </td><td>55-59     </td><td>Kolding   </td></tr>\n",
       "\t<tr><td> 7        </td><td> 895      </td><td>60-64     </td><td>Kolding   </td></tr>\n",
       "\t<tr><td>11        </td><td> 702      </td><td>65-69     </td><td>Kolding   </td></tr>\n",
       "\t<tr><td> 9        </td><td> 535      </td><td>70-74     </td><td>Kolding   </td></tr>\n",
       "\t<tr><td>12                                                </td><td> 659                                              </td><td><span style=white-space:pre-wrap>&gt;74  </span>  </td><td><span style=white-space:pre-wrap>Kolding   </span></td></tr>\n",
       "\t<tr><td> 5        </td><td>2520      </td><td>40-54     </td><td>Vejle     </td></tr>\n",
       "\t<tr><td> 7        </td><td> 878      </td><td>55-59     </td><td>Vejle     </td></tr>\n",
       "\t<tr><td>10        </td><td> 839      </td><td>60-64     </td><td>Vejle     </td></tr>\n",
       "\t<tr><td>14        </td><td> 631      </td><td>65-69     </td><td>Vejle     </td></tr>\n",
       "\t<tr><td> 8        </td><td> 539      </td><td>70-74     </td><td>Vejle     </td></tr>\n",
       "\t<tr><td> 7                                                </td><td> 619                                              </td><td><span style=white-space:pre-wrap>&gt;74  </span>  </td><td><span style=white-space:pre-wrap>Vejle     </span></td></tr>\n",
       "</tbody>\n",
       "</table>\n"
      ],
      "text/latex": [
       "\\begin{tabular}{r|llll}\n",
       " Cases & Pop & Age & City\\\\\n",
       "\\hline\n",
       "\t 11         & 3059       & 40-54      & Fredericia\\\\\n",
       "\t 11         &  800       & 55-59      & Fredericia\\\\\n",
       "\t 11         &  710       & 60-64      & Fredericia\\\\\n",
       "\t 10         &  581       & 65-69      & Fredericia\\\\\n",
       "\t 11         &  509       & 70-74      & Fredericia\\\\\n",
       "\t 10         &  605       & >74        & Fredericia\\\\\n",
       "\t 13         & 2879       & 40-54      & Horsens   \\\\\n",
       "\t  6         & 1083       & 55-59      & Horsens   \\\\\n",
       "\t 15         &  923       & 60-64      & Horsens   \\\\\n",
       "\t 10         &  834       & 65-69      & Horsens   \\\\\n",
       "\t 12         &  634       & 70-74      & Horsens   \\\\\n",
       "\t  2         &  782       & >74        & Horsens   \\\\\n",
       "\t  4         & 3142       & 40-54      & Kolding   \\\\\n",
       "\t  8         & 1050       & 55-59      & Kolding   \\\\\n",
       "\t  7         &  895       & 60-64      & Kolding   \\\\\n",
       "\t 11         &  702       & 65-69      & Kolding   \\\\\n",
       "\t  9         &  535       & 70-74      & Kolding   \\\\\n",
       "\t 12         &  659       & >74        & Kolding   \\\\\n",
       "\t  5         & 2520       & 40-54      & Vejle     \\\\\n",
       "\t  7         &  878       & 55-59      & Vejle     \\\\\n",
       "\t 10         &  839       & 60-64      & Vejle     \\\\\n",
       "\t 14         &  631       & 65-69      & Vejle     \\\\\n",
       "\t  8         &  539       & 70-74      & Vejle     \\\\\n",
       "\t  7         &  619       & >74        & Vejle     \\\\\n",
       "\\end{tabular}\n"
      ],
      "text/markdown": [
       "\n",
       "| Cases | Pop | Age | City |\n",
       "|---|---|---|---|\n",
       "| 11         | 3059       | 40-54      | Fredericia |\n",
       "| 11         |  800       | 55-59      | Fredericia |\n",
       "| 11         |  710       | 60-64      | Fredericia |\n",
       "| 10         |  581       | 65-69      | Fredericia |\n",
       "| 11         |  509       | 70-74      | Fredericia |\n",
       "| 10         |  605       | >74        | Fredericia |\n",
       "| 13         | 2879       | 40-54      | Horsens    |\n",
       "|  6         | 1083       | 55-59      | Horsens    |\n",
       "| 15         |  923       | 60-64      | Horsens    |\n",
       "| 10         |  834       | 65-69      | Horsens    |\n",
       "| 12         |  634       | 70-74      | Horsens    |\n",
       "|  2         |  782       | >74        | Horsens    |\n",
       "|  4         | 3142       | 40-54      | Kolding    |\n",
       "|  8         | 1050       | 55-59      | Kolding    |\n",
       "|  7         |  895       | 60-64      | Kolding    |\n",
       "| 11         |  702       | 65-69      | Kolding    |\n",
       "|  9         |  535       | 70-74      | Kolding    |\n",
       "| 12         |  659       | >74        | Kolding    |\n",
       "|  5         | 2520       | 40-54      | Vejle      |\n",
       "|  7         |  878       | 55-59      | Vejle      |\n",
       "| 10         |  839       | 60-64      | Vejle      |\n",
       "| 14         |  631       | 65-69      | Vejle      |\n",
       "|  8         |  539       | 70-74      | Vejle      |\n",
       "|  7         |  619       | >74        | Vejle      |\n",
       "\n"
      ],
      "text/plain": [
       "   Cases Pop  Age   City      \n",
       "1  11    3059 40-54 Fredericia\n",
       "2  11     800 55-59 Fredericia\n",
       "3  11     710 60-64 Fredericia\n",
       "4  10     581 65-69 Fredericia\n",
       "5  11     509 70-74 Fredericia\n",
       "6  10     605 >74   Fredericia\n",
       "7  13    2879 40-54 Horsens   \n",
       "8   6    1083 55-59 Horsens   \n",
       "9  15     923 60-64 Horsens   \n",
       "10 10     834 65-69 Horsens   \n",
       "11 12     634 70-74 Horsens   \n",
       "12  2     782 >74   Horsens   \n",
       "13  4    3142 40-54 Kolding   \n",
       "14  8    1050 55-59 Kolding   \n",
       "15  7     895 60-64 Kolding   \n",
       "16 11     702 65-69 Kolding   \n",
       "17  9     535 70-74 Kolding   \n",
       "18 12     659 >74   Kolding   \n",
       "19  5    2520 40-54 Vejle     \n",
       "20  7     878 55-59 Vejle     \n",
       "21 10     839 60-64 Vejle     \n",
       "22 14     631 65-69 Vejle     \n",
       "23  8     539 70-74 Vejle     \n",
       "24  7     619 >74   Vejle     "
      ]
     },
     "metadata": {},
     "output_type": "display_data"
    }
   ],
   "source": [
    "danishlc"
   ]
  },
  {
   "cell_type": "code",
   "execution_count": 5,
   "metadata": {},
   "outputs": [],
   "source": [
    "danishlc$Rate <- danishlc$Cases / danishlc$Pop * 1000 # Rate per 1000"
   ]
  },
  {
   "cell_type": "code",
   "execution_count": 6,
   "metadata": {},
   "outputs": [
    {
     "data": {
      "text/html": [
       "<table>\n",
       "<thead><tr><th scope=col>Cases</th><th scope=col>Pop</th><th scope=col>Age</th><th scope=col>City</th><th scope=col>Rate</th></tr></thead>\n",
       "<tbody>\n",
       "\t<tr><td>11        </td><td>3059      </td><td>40-54     </td><td>Fredericia</td><td> 3.595946 </td></tr>\n",
       "\t<tr><td>11        </td><td> 800      </td><td>55-59     </td><td>Fredericia</td><td>13.750000 </td></tr>\n",
       "\t<tr><td>11        </td><td> 710      </td><td>60-64     </td><td>Fredericia</td><td>15.492958 </td></tr>\n",
       "\t<tr><td>10        </td><td> 581      </td><td>65-69     </td><td>Fredericia</td><td>17.211704 </td></tr>\n",
       "\t<tr><td>11        </td><td> 509      </td><td>70-74     </td><td>Fredericia</td><td>21.611002 </td></tr>\n",
       "\t<tr><td>10                                              </td><td> 605                                            </td><td><span style=white-space:pre-wrap>&gt;74  </span></td><td>Fredericia                                      </td><td>16.528926                                       </td></tr>\n",
       "\t<tr><td>13        </td><td>2879      </td><td>40-54     </td><td>Horsens   </td><td> 4.515457 </td></tr>\n",
       "\t<tr><td> 6        </td><td>1083      </td><td>55-59     </td><td>Horsens   </td><td> 5.540166 </td></tr>\n",
       "\t<tr><td>15        </td><td> 923      </td><td>60-64     </td><td>Horsens   </td><td>16.251354 </td></tr>\n",
       "\t<tr><td>10        </td><td> 834      </td><td>65-69     </td><td>Horsens   </td><td>11.990408 </td></tr>\n",
       "\t<tr><td>12        </td><td> 634      </td><td>70-74     </td><td>Horsens   </td><td>18.927445 </td></tr>\n",
       "\t<tr><td> 2                                                </td><td> 782                                              </td><td><span style=white-space:pre-wrap>&gt;74  </span>  </td><td><span style=white-space:pre-wrap>Horsens   </span></td><td> 2.557545                                         </td></tr>\n",
       "\t<tr><td> 4        </td><td>3142      </td><td>40-54     </td><td>Kolding   </td><td> 1.273074 </td></tr>\n",
       "\t<tr><td> 8        </td><td>1050      </td><td>55-59     </td><td>Kolding   </td><td> 7.619048 </td></tr>\n",
       "\t<tr><td> 7        </td><td> 895      </td><td>60-64     </td><td>Kolding   </td><td> 7.821229 </td></tr>\n",
       "\t<tr><td>11        </td><td> 702      </td><td>65-69     </td><td>Kolding   </td><td>15.669516 </td></tr>\n",
       "\t<tr><td> 9        </td><td> 535      </td><td>70-74     </td><td>Kolding   </td><td>16.822430 </td></tr>\n",
       "\t<tr><td>12                                                </td><td> 659                                              </td><td><span style=white-space:pre-wrap>&gt;74  </span>  </td><td><span style=white-space:pre-wrap>Kolding   </span></td><td>18.209408                                         </td></tr>\n",
       "\t<tr><td> 5        </td><td>2520      </td><td>40-54     </td><td>Vejle     </td><td> 1.984127 </td></tr>\n",
       "\t<tr><td> 7        </td><td> 878      </td><td>55-59     </td><td>Vejle     </td><td> 7.972665 </td></tr>\n",
       "\t<tr><td>10        </td><td> 839      </td><td>60-64     </td><td>Vejle     </td><td>11.918951 </td></tr>\n",
       "\t<tr><td>14        </td><td> 631      </td><td>65-69     </td><td>Vejle     </td><td>22.187005 </td></tr>\n",
       "\t<tr><td> 8        </td><td> 539      </td><td>70-74     </td><td>Vejle     </td><td>14.842301 </td></tr>\n",
       "\t<tr><td> 7                                                </td><td> 619                                              </td><td><span style=white-space:pre-wrap>&gt;74  </span>  </td><td><span style=white-space:pre-wrap>Vejle     </span></td><td>11.308562                                         </td></tr>\n",
       "</tbody>\n",
       "</table>\n"
      ],
      "text/latex": [
       "\\begin{tabular}{r|lllll}\n",
       " Cases & Pop & Age & City & Rate\\\\\n",
       "\\hline\n",
       "\t 11         & 3059       & 40-54      & Fredericia &  3.595946 \\\\\n",
       "\t 11         &  800       & 55-59      & Fredericia & 13.750000 \\\\\n",
       "\t 11         &  710       & 60-64      & Fredericia & 15.492958 \\\\\n",
       "\t 10         &  581       & 65-69      & Fredericia & 17.211704 \\\\\n",
       "\t 11         &  509       & 70-74      & Fredericia & 21.611002 \\\\\n",
       "\t 10         &  605       & >74        & Fredericia & 16.528926 \\\\\n",
       "\t 13         & 2879       & 40-54      & Horsens    &  4.515457 \\\\\n",
       "\t  6         & 1083       & 55-59      & Horsens    &  5.540166 \\\\\n",
       "\t 15         &  923       & 60-64      & Horsens    & 16.251354 \\\\\n",
       "\t 10         &  834       & 65-69      & Horsens    & 11.990408 \\\\\n",
       "\t 12         &  634       & 70-74      & Horsens    & 18.927445 \\\\\n",
       "\t  2         &  782       & >74        & Horsens    &  2.557545 \\\\\n",
       "\t  4         & 3142       & 40-54      & Kolding    &  1.273074 \\\\\n",
       "\t  8         & 1050       & 55-59      & Kolding    &  7.619048 \\\\\n",
       "\t  7         &  895       & 60-64      & Kolding    &  7.821229 \\\\\n",
       "\t 11         &  702       & 65-69      & Kolding    & 15.669516 \\\\\n",
       "\t  9         &  535       & 70-74      & Kolding    & 16.822430 \\\\\n",
       "\t 12         &  659       & >74        & Kolding    & 18.209408 \\\\\n",
       "\t  5         & 2520       & 40-54      & Vejle      &  1.984127 \\\\\n",
       "\t  7         &  878       & 55-59      & Vejle      &  7.972665 \\\\\n",
       "\t 10         &  839       & 60-64      & Vejle      & 11.918951 \\\\\n",
       "\t 14         &  631       & 65-69      & Vejle      & 22.187005 \\\\\n",
       "\t  8         &  539       & 70-74      & Vejle      & 14.842301 \\\\\n",
       "\t  7         &  619       & >74        & Vejle      & 11.308562 \\\\\n",
       "\\end{tabular}\n"
      ],
      "text/markdown": [
       "\n",
       "| Cases | Pop | Age | City | Rate |\n",
       "|---|---|---|---|---|\n",
       "| 11         | 3059       | 40-54      | Fredericia |  3.595946  |\n",
       "| 11         |  800       | 55-59      | Fredericia | 13.750000  |\n",
       "| 11         |  710       | 60-64      | Fredericia | 15.492958  |\n",
       "| 10         |  581       | 65-69      | Fredericia | 17.211704  |\n",
       "| 11         |  509       | 70-74      | Fredericia | 21.611002  |\n",
       "| 10         |  605       | >74        | Fredericia | 16.528926  |\n",
       "| 13         | 2879       | 40-54      | Horsens    |  4.515457  |\n",
       "|  6         | 1083       | 55-59      | Horsens    |  5.540166  |\n",
       "| 15         |  923       | 60-64      | Horsens    | 16.251354  |\n",
       "| 10         |  834       | 65-69      | Horsens    | 11.990408  |\n",
       "| 12         |  634       | 70-74      | Horsens    | 18.927445  |\n",
       "|  2         |  782       | >74        | Horsens    |  2.557545  |\n",
       "|  4         | 3142       | 40-54      | Kolding    |  1.273074  |\n",
       "|  8         | 1050       | 55-59      | Kolding    |  7.619048  |\n",
       "|  7         |  895       | 60-64      | Kolding    |  7.821229  |\n",
       "| 11         |  702       | 65-69      | Kolding    | 15.669516  |\n",
       "|  9         |  535       | 70-74      | Kolding    | 16.822430  |\n",
       "| 12         |  659       | >74        | Kolding    | 18.209408  |\n",
       "|  5         | 2520       | 40-54      | Vejle      |  1.984127  |\n",
       "|  7         |  878       | 55-59      | Vejle      |  7.972665  |\n",
       "| 10         |  839       | 60-64      | Vejle      | 11.918951  |\n",
       "| 14         |  631       | 65-69      | Vejle      | 22.187005  |\n",
       "|  8         |  539       | 70-74      | Vejle      | 14.842301  |\n",
       "|  7         |  619       | >74        | Vejle      | 11.308562  |\n",
       "\n"
      ],
      "text/plain": [
       "   Cases Pop  Age   City       Rate     \n",
       "1  11    3059 40-54 Fredericia  3.595946\n",
       "2  11     800 55-59 Fredericia 13.750000\n",
       "3  11     710 60-64 Fredericia 15.492958\n",
       "4  10     581 65-69 Fredericia 17.211704\n",
       "5  11     509 70-74 Fredericia 21.611002\n",
       "6  10     605 >74   Fredericia 16.528926\n",
       "7  13    2879 40-54 Horsens     4.515457\n",
       "8   6    1083 55-59 Horsens     5.540166\n",
       "9  15     923 60-64 Horsens    16.251354\n",
       "10 10     834 65-69 Horsens    11.990408\n",
       "11 12     634 70-74 Horsens    18.927445\n",
       "12  2     782 >74   Horsens     2.557545\n",
       "13  4    3142 40-54 Kolding     1.273074\n",
       "14  8    1050 55-59 Kolding     7.619048\n",
       "15  7     895 60-64 Kolding     7.821229\n",
       "16 11     702 65-69 Kolding    15.669516\n",
       "17  9     535 70-74 Kolding    16.822430\n",
       "18 12     659 >74   Kolding    18.209408\n",
       "19  5    2520 40-54 Vejle       1.984127\n",
       "20  7     878 55-59 Vejle       7.972665\n",
       "21 10     839 60-64 Vejle      11.918951\n",
       "22 14     631 65-69 Vejle      22.187005\n",
       "23  8     539 70-74 Vejle      14.842301\n",
       "24  7     619 >74   Vejle      11.308562"
      ]
     },
     "metadata": {},
     "output_type": "display_data"
    }
   ],
   "source": [
    "danishlc"
   ]
  },
  {
   "cell_type": "code",
   "execution_count": 7,
   "metadata": {},
   "outputs": [],
   "source": [
    "danishlc$Age <- ordered(danishlc$Age, # Preserve age-order\n",
    "levels=c(\"40-54\", \"55-59\", \"60-64\", \"65-69\", \"70-74\", \">74\") )"
   ]
  },
  {
   "cell_type": "code",
   "execution_count": 8,
   "metadata": {},
   "outputs": [
    {
     "data": {
      "text/html": [
       "<table>\n",
       "<thead><tr><th scope=col>Cases</th><th scope=col>Pop</th><th scope=col>Age</th><th scope=col>City</th><th scope=col>Rate</th></tr></thead>\n",
       "<tbody>\n",
       "\t<tr><td>11        </td><td>3059      </td><td>40-54     </td><td>Fredericia</td><td> 3.595946 </td></tr>\n",
       "\t<tr><td>11        </td><td> 800      </td><td>55-59     </td><td>Fredericia</td><td>13.750000 </td></tr>\n",
       "\t<tr><td>11        </td><td> 710      </td><td>60-64     </td><td>Fredericia</td><td>15.492958 </td></tr>\n",
       "\t<tr><td>10        </td><td> 581      </td><td>65-69     </td><td>Fredericia</td><td>17.211704 </td></tr>\n",
       "\t<tr><td>11        </td><td> 509      </td><td>70-74     </td><td>Fredericia</td><td>21.611002 </td></tr>\n",
       "\t<tr><td>10                                              </td><td> 605                                            </td><td><span style=white-space:pre-wrap>&gt;74  </span></td><td>Fredericia                                      </td><td>16.528926                                       </td></tr>\n",
       "\t<tr><td>13        </td><td>2879      </td><td>40-54     </td><td>Horsens   </td><td> 4.515457 </td></tr>\n",
       "\t<tr><td> 6        </td><td>1083      </td><td>55-59     </td><td>Horsens   </td><td> 5.540166 </td></tr>\n",
       "\t<tr><td>15        </td><td> 923      </td><td>60-64     </td><td>Horsens   </td><td>16.251354 </td></tr>\n",
       "\t<tr><td>10        </td><td> 834      </td><td>65-69     </td><td>Horsens   </td><td>11.990408 </td></tr>\n",
       "\t<tr><td>12        </td><td> 634      </td><td>70-74     </td><td>Horsens   </td><td>18.927445 </td></tr>\n",
       "\t<tr><td> 2                                                </td><td> 782                                              </td><td><span style=white-space:pre-wrap>&gt;74  </span>  </td><td><span style=white-space:pre-wrap>Horsens   </span></td><td> 2.557545                                         </td></tr>\n",
       "\t<tr><td> 4        </td><td>3142      </td><td>40-54     </td><td>Kolding   </td><td> 1.273074 </td></tr>\n",
       "\t<tr><td> 8        </td><td>1050      </td><td>55-59     </td><td>Kolding   </td><td> 7.619048 </td></tr>\n",
       "\t<tr><td> 7        </td><td> 895      </td><td>60-64     </td><td>Kolding   </td><td> 7.821229 </td></tr>\n",
       "\t<tr><td>11        </td><td> 702      </td><td>65-69     </td><td>Kolding   </td><td>15.669516 </td></tr>\n",
       "\t<tr><td> 9        </td><td> 535      </td><td>70-74     </td><td>Kolding   </td><td>16.822430 </td></tr>\n",
       "\t<tr><td>12                                                </td><td> 659                                              </td><td><span style=white-space:pre-wrap>&gt;74  </span>  </td><td><span style=white-space:pre-wrap>Kolding   </span></td><td>18.209408                                         </td></tr>\n",
       "\t<tr><td> 5        </td><td>2520      </td><td>40-54     </td><td>Vejle     </td><td> 1.984127 </td></tr>\n",
       "\t<tr><td> 7        </td><td> 878      </td><td>55-59     </td><td>Vejle     </td><td> 7.972665 </td></tr>\n",
       "\t<tr><td>10        </td><td> 839      </td><td>60-64     </td><td>Vejle     </td><td>11.918951 </td></tr>\n",
       "\t<tr><td>14        </td><td> 631      </td><td>65-69     </td><td>Vejle     </td><td>22.187005 </td></tr>\n",
       "\t<tr><td> 8        </td><td> 539      </td><td>70-74     </td><td>Vejle     </td><td>14.842301 </td></tr>\n",
       "\t<tr><td> 7                                                </td><td> 619                                              </td><td><span style=white-space:pre-wrap>&gt;74  </span>  </td><td><span style=white-space:pre-wrap>Vejle     </span></td><td>11.308562                                         </td></tr>\n",
       "</tbody>\n",
       "</table>\n"
      ],
      "text/latex": [
       "\\begin{tabular}{r|lllll}\n",
       " Cases & Pop & Age & City & Rate\\\\\n",
       "\\hline\n",
       "\t 11         & 3059       & 40-54      & Fredericia &  3.595946 \\\\\n",
       "\t 11         &  800       & 55-59      & Fredericia & 13.750000 \\\\\n",
       "\t 11         &  710       & 60-64      & Fredericia & 15.492958 \\\\\n",
       "\t 10         &  581       & 65-69      & Fredericia & 17.211704 \\\\\n",
       "\t 11         &  509       & 70-74      & Fredericia & 21.611002 \\\\\n",
       "\t 10         &  605       & >74        & Fredericia & 16.528926 \\\\\n",
       "\t 13         & 2879       & 40-54      & Horsens    &  4.515457 \\\\\n",
       "\t  6         & 1083       & 55-59      & Horsens    &  5.540166 \\\\\n",
       "\t 15         &  923       & 60-64      & Horsens    & 16.251354 \\\\\n",
       "\t 10         &  834       & 65-69      & Horsens    & 11.990408 \\\\\n",
       "\t 12         &  634       & 70-74      & Horsens    & 18.927445 \\\\\n",
       "\t  2         &  782       & >74        & Horsens    &  2.557545 \\\\\n",
       "\t  4         & 3142       & 40-54      & Kolding    &  1.273074 \\\\\n",
       "\t  8         & 1050       & 55-59      & Kolding    &  7.619048 \\\\\n",
       "\t  7         &  895       & 60-64      & Kolding    &  7.821229 \\\\\n",
       "\t 11         &  702       & 65-69      & Kolding    & 15.669516 \\\\\n",
       "\t  9         &  535       & 70-74      & Kolding    & 16.822430 \\\\\n",
       "\t 12         &  659       & >74        & Kolding    & 18.209408 \\\\\n",
       "\t  5         & 2520       & 40-54      & Vejle      &  1.984127 \\\\\n",
       "\t  7         &  878       & 55-59      & Vejle      &  7.972665 \\\\\n",
       "\t 10         &  839       & 60-64      & Vejle      & 11.918951 \\\\\n",
       "\t 14         &  631       & 65-69      & Vejle      & 22.187005 \\\\\n",
       "\t  8         &  539       & 70-74      & Vejle      & 14.842301 \\\\\n",
       "\t  7         &  619       & >74        & Vejle      & 11.308562 \\\\\n",
       "\\end{tabular}\n"
      ],
      "text/markdown": [
       "\n",
       "| Cases | Pop | Age | City | Rate |\n",
       "|---|---|---|---|---|\n",
       "| 11         | 3059       | 40-54      | Fredericia |  3.595946  |\n",
       "| 11         |  800       | 55-59      | Fredericia | 13.750000  |\n",
       "| 11         |  710       | 60-64      | Fredericia | 15.492958  |\n",
       "| 10         |  581       | 65-69      | Fredericia | 17.211704  |\n",
       "| 11         |  509       | 70-74      | Fredericia | 21.611002  |\n",
       "| 10         |  605       | >74        | Fredericia | 16.528926  |\n",
       "| 13         | 2879       | 40-54      | Horsens    |  4.515457  |\n",
       "|  6         | 1083       | 55-59      | Horsens    |  5.540166  |\n",
       "| 15         |  923       | 60-64      | Horsens    | 16.251354  |\n",
       "| 10         |  834       | 65-69      | Horsens    | 11.990408  |\n",
       "| 12         |  634       | 70-74      | Horsens    | 18.927445  |\n",
       "|  2         |  782       | >74        | Horsens    |  2.557545  |\n",
       "|  4         | 3142       | 40-54      | Kolding    |  1.273074  |\n",
       "|  8         | 1050       | 55-59      | Kolding    |  7.619048  |\n",
       "|  7         |  895       | 60-64      | Kolding    |  7.821229  |\n",
       "| 11         |  702       | 65-69      | Kolding    | 15.669516  |\n",
       "|  9         |  535       | 70-74      | Kolding    | 16.822430  |\n",
       "| 12         |  659       | >74        | Kolding    | 18.209408  |\n",
       "|  5         | 2520       | 40-54      | Vejle      |  1.984127  |\n",
       "|  7         |  878       | 55-59      | Vejle      |  7.972665  |\n",
       "| 10         |  839       | 60-64      | Vejle      | 11.918951  |\n",
       "| 14         |  631       | 65-69      | Vejle      | 22.187005  |\n",
       "|  8         |  539       | 70-74      | Vejle      | 14.842301  |\n",
       "|  7         |  619       | >74        | Vejle      | 11.308562  |\n",
       "\n"
      ],
      "text/plain": [
       "   Cases Pop  Age   City       Rate     \n",
       "1  11    3059 40-54 Fredericia  3.595946\n",
       "2  11     800 55-59 Fredericia 13.750000\n",
       "3  11     710 60-64 Fredericia 15.492958\n",
       "4  10     581 65-69 Fredericia 17.211704\n",
       "5  11     509 70-74 Fredericia 21.611002\n",
       "6  10     605 >74   Fredericia 16.528926\n",
       "7  13    2879 40-54 Horsens     4.515457\n",
       "8   6    1083 55-59 Horsens     5.540166\n",
       "9  15     923 60-64 Horsens    16.251354\n",
       "10 10     834 65-69 Horsens    11.990408\n",
       "11 12     634 70-74 Horsens    18.927445\n",
       "12  2     782 >74   Horsens     2.557545\n",
       "13  4    3142 40-54 Kolding     1.273074\n",
       "14  8    1050 55-59 Kolding     7.619048\n",
       "15  7     895 60-64 Kolding     7.821229\n",
       "16 11     702 65-69 Kolding    15.669516\n",
       "17  9     535 70-74 Kolding    16.822430\n",
       "18 12     659 >74   Kolding    18.209408\n",
       "19  5    2520 40-54 Vejle       1.984127\n",
       "20  7     878 55-59 Vejle       7.972665\n",
       "21 10     839 60-64 Vejle      11.918951\n",
       "22 14     631 65-69 Vejle      22.187005\n",
       "23  8     539 70-74 Vejle      14.842301\n",
       "24  7     619 >74   Vejle      11.308562"
      ]
     },
     "metadata": {},
     "output_type": "display_data"
    }
   ],
   "source": [
    "danishlc"
   ]
  },
  {
   "cell_type": "code",
   "execution_count": 9,
   "metadata": {},
   "outputs": [],
   "source": [
    "danishlc$City <- abbreviate(danishlc$City, 1)"
   ]
  },
  {
   "cell_type": "code",
   "execution_count": 10,
   "metadata": {},
   "outputs": [
    {
     "data": {
      "text/html": [
       "<table>\n",
       "<thead><tr><th scope=col>Cases</th><th scope=col>Pop</th><th scope=col>Age</th><th scope=col>City</th><th scope=col>Rate</th></tr></thead>\n",
       "<tbody>\n",
       "\t<tr><td>11       </td><td>3059     </td><td>40-54    </td><td>F        </td><td> 3.595946</td></tr>\n",
       "\t<tr><td>11       </td><td> 800     </td><td>55-59    </td><td>F        </td><td>13.750000</td></tr>\n",
       "\t<tr><td>11       </td><td> 710     </td><td>60-64    </td><td>F        </td><td>15.492958</td></tr>\n",
       "\t<tr><td>10       </td><td> 581     </td><td>65-69    </td><td>F        </td><td>17.211704</td></tr>\n",
       "\t<tr><td>11       </td><td> 509     </td><td>70-74    </td><td>F        </td><td>21.611002</td></tr>\n",
       "\t<tr><td>10                                              </td><td> 605                                            </td><td><span style=white-space:pre-wrap>&gt;74  </span></td><td>F                                               </td><td>16.528926                                       </td></tr>\n",
       "\t<tr><td>13       </td><td>2879     </td><td>40-54    </td><td>H        </td><td> 4.515457</td></tr>\n",
       "\t<tr><td> 6       </td><td>1083     </td><td>55-59    </td><td>H        </td><td> 5.540166</td></tr>\n",
       "\t<tr><td>15       </td><td> 923     </td><td>60-64    </td><td>H        </td><td>16.251354</td></tr>\n",
       "\t<tr><td>10       </td><td> 834     </td><td>65-69    </td><td>H        </td><td>11.990408</td></tr>\n",
       "\t<tr><td>12       </td><td> 634     </td><td>70-74    </td><td>H        </td><td>18.927445</td></tr>\n",
       "\t<tr><td> 2                                              </td><td> 782                                            </td><td><span style=white-space:pre-wrap>&gt;74  </span></td><td>H                                               </td><td> 2.557545                                       </td></tr>\n",
       "\t<tr><td> 4       </td><td>3142     </td><td>40-54    </td><td>K        </td><td> 1.273074</td></tr>\n",
       "\t<tr><td> 8       </td><td>1050     </td><td>55-59    </td><td>K        </td><td> 7.619048</td></tr>\n",
       "\t<tr><td> 7       </td><td> 895     </td><td>60-64    </td><td>K        </td><td> 7.821229</td></tr>\n",
       "\t<tr><td>11       </td><td> 702     </td><td>65-69    </td><td>K        </td><td>15.669516</td></tr>\n",
       "\t<tr><td> 9       </td><td> 535     </td><td>70-74    </td><td>K        </td><td>16.822430</td></tr>\n",
       "\t<tr><td>12                                              </td><td> 659                                            </td><td><span style=white-space:pre-wrap>&gt;74  </span></td><td>K                                               </td><td>18.209408                                       </td></tr>\n",
       "\t<tr><td> 5       </td><td>2520     </td><td>40-54    </td><td>V        </td><td> 1.984127</td></tr>\n",
       "\t<tr><td> 7       </td><td> 878     </td><td>55-59    </td><td>V        </td><td> 7.972665</td></tr>\n",
       "\t<tr><td>10       </td><td> 839     </td><td>60-64    </td><td>V        </td><td>11.918951</td></tr>\n",
       "\t<tr><td>14       </td><td> 631     </td><td>65-69    </td><td>V        </td><td>22.187005</td></tr>\n",
       "\t<tr><td> 8       </td><td> 539     </td><td>70-74    </td><td>V        </td><td>14.842301</td></tr>\n",
       "\t<tr><td> 7                                              </td><td> 619                                            </td><td><span style=white-space:pre-wrap>&gt;74  </span></td><td>V                                               </td><td>11.308562                                       </td></tr>\n",
       "</tbody>\n",
       "</table>\n"
      ],
      "text/latex": [
       "\\begin{tabular}{r|lllll}\n",
       " Cases & Pop & Age & City & Rate\\\\\n",
       "\\hline\n",
       "\t 11        & 3059      & 40-54     & F         &  3.595946\\\\\n",
       "\t 11        &  800      & 55-59     & F         & 13.750000\\\\\n",
       "\t 11        &  710      & 60-64     & F         & 15.492958\\\\\n",
       "\t 10        &  581      & 65-69     & F         & 17.211704\\\\\n",
       "\t 11        &  509      & 70-74     & F         & 21.611002\\\\\n",
       "\t 10        &  605      & >74       & F         & 16.528926\\\\\n",
       "\t 13        & 2879      & 40-54     & H         &  4.515457\\\\\n",
       "\t  6        & 1083      & 55-59     & H         &  5.540166\\\\\n",
       "\t 15        &  923      & 60-64     & H         & 16.251354\\\\\n",
       "\t 10        &  834      & 65-69     & H         & 11.990408\\\\\n",
       "\t 12        &  634      & 70-74     & H         & 18.927445\\\\\n",
       "\t  2        &  782      & >74       & H         &  2.557545\\\\\n",
       "\t  4        & 3142      & 40-54     & K         &  1.273074\\\\\n",
       "\t  8        & 1050      & 55-59     & K         &  7.619048\\\\\n",
       "\t  7        &  895      & 60-64     & K         &  7.821229\\\\\n",
       "\t 11        &  702      & 65-69     & K         & 15.669516\\\\\n",
       "\t  9        &  535      & 70-74     & K         & 16.822430\\\\\n",
       "\t 12        &  659      & >74       & K         & 18.209408\\\\\n",
       "\t  5        & 2520      & 40-54     & V         &  1.984127\\\\\n",
       "\t  7        &  878      & 55-59     & V         &  7.972665\\\\\n",
       "\t 10        &  839      & 60-64     & V         & 11.918951\\\\\n",
       "\t 14        &  631      & 65-69     & V         & 22.187005\\\\\n",
       "\t  8        &  539      & 70-74     & V         & 14.842301\\\\\n",
       "\t  7        &  619      & >74       & V         & 11.308562\\\\\n",
       "\\end{tabular}\n"
      ],
      "text/markdown": [
       "\n",
       "| Cases | Pop | Age | City | Rate |\n",
       "|---|---|---|---|---|\n",
       "| 11        | 3059      | 40-54     | F         |  3.595946 |\n",
       "| 11        |  800      | 55-59     | F         | 13.750000 |\n",
       "| 11        |  710      | 60-64     | F         | 15.492958 |\n",
       "| 10        |  581      | 65-69     | F         | 17.211704 |\n",
       "| 11        |  509      | 70-74     | F         | 21.611002 |\n",
       "| 10        |  605      | >74       | F         | 16.528926 |\n",
       "| 13        | 2879      | 40-54     | H         |  4.515457 |\n",
       "|  6        | 1083      | 55-59     | H         |  5.540166 |\n",
       "| 15        |  923      | 60-64     | H         | 16.251354 |\n",
       "| 10        |  834      | 65-69     | H         | 11.990408 |\n",
       "| 12        |  634      | 70-74     | H         | 18.927445 |\n",
       "|  2        |  782      | >74       | H         |  2.557545 |\n",
       "|  4        | 3142      | 40-54     | K         |  1.273074 |\n",
       "|  8        | 1050      | 55-59     | K         |  7.619048 |\n",
       "|  7        |  895      | 60-64     | K         |  7.821229 |\n",
       "| 11        |  702      | 65-69     | K         | 15.669516 |\n",
       "|  9        |  535      | 70-74     | K         | 16.822430 |\n",
       "| 12        |  659      | >74       | K         | 18.209408 |\n",
       "|  5        | 2520      | 40-54     | V         |  1.984127 |\n",
       "|  7        |  878      | 55-59     | V         |  7.972665 |\n",
       "| 10        |  839      | 60-64     | V         | 11.918951 |\n",
       "| 14        |  631      | 65-69     | V         | 22.187005 |\n",
       "|  8        |  539      | 70-74     | V         | 14.842301 |\n",
       "|  7        |  619      | >74       | V         | 11.308562 |\n",
       "\n"
      ],
      "text/plain": [
       "   Cases Pop  Age   City Rate     \n",
       "1  11    3059 40-54 F     3.595946\n",
       "2  11     800 55-59 F    13.750000\n",
       "3  11     710 60-64 F    15.492958\n",
       "4  10     581 65-69 F    17.211704\n",
       "5  11     509 70-74 F    21.611002\n",
       "6  10     605 >74   F    16.528926\n",
       "7  13    2879 40-54 H     4.515457\n",
       "8   6    1083 55-59 H     5.540166\n",
       "9  15     923 60-64 H    16.251354\n",
       "10 10     834 65-69 H    11.990408\n",
       "11 12     634 70-74 H    18.927445\n",
       "12  2     782 >74   H     2.557545\n",
       "13  4    3142 40-54 K     1.273074\n",
       "14  8    1050 55-59 K     7.619048\n",
       "15  7     895 60-64 K     7.821229\n",
       "16 11     702 65-69 K    15.669516\n",
       "17  9     535 70-74 K    16.822430\n",
       "18 12     659 >74   K    18.209408\n",
       "19  5    2520 40-54 V     1.984127\n",
       "20  7     878 55-59 V     7.972665\n",
       "21 10     839 60-64 V    11.918951\n",
       "22 14     631 65-69 V    22.187005\n",
       "23  8     539 70-74 V    14.842301\n",
       "24  7     619 >74   V    11.308562"
      ]
     },
     "metadata": {},
     "output_type": "display_data"
    }
   ],
   "source": [
    "danishlc"
   ]
  },
  {
   "cell_type": "code",
   "execution_count": 11,
   "metadata": {},
   "outputs": [],
   "source": [
    "dlc.bin <- glm( cbind(Cases, Pop-Cases) ~ Age,\n",
    "family=binomial, data=danishlc)"
   ]
  },
  {
   "cell_type": "code",
   "execution_count": 12,
   "metadata": {},
   "outputs": [],
   "source": [
    "dlc.psn <- glm( Cases ~ offset( log(Pop) ) + Age,\n",
    "family=poisson, data=danishlc)"
   ]
  },
  {
   "cell_type": "code",
   "execution_count": 14,
   "metadata": {},
   "outputs": [
    {
     "data": {
      "text/html": [
       "<table>\n",
       "<thead><tr><th></th><th scope=col>Estimate</th><th scope=col>Std. Error</th><th scope=col>z value</th><th scope=col>Pr(&gt;|z|)</th></tr></thead>\n",
       "<tbody>\n",
       "\t<tr><th scope=row>(Intercept)</th><td>-4.59728503 </td><td>0.06755433  </td><td>-68.05315511</td><td>0.000000e+00</td></tr>\n",
       "\t<tr><th scope=row>Age.L</th><td> 1.14558542 </td><td>0.17385361  </td><td>  6.58936810</td><td>4.417025e-11</td></tr>\n",
       "\t<tr><th scope=row>Age.Q</th><td>-0.97063417 </td><td>0.16718702  </td><td> -5.80567903</td><td>6.410566e-09</td></tr>\n",
       "\t<tr><th scope=row>Age.C</th><td> 0.05163805 </td><td>0.16746353  </td><td>  0.30835402</td><td>7.578130e-01</td></tr>\n",
       "\t<tr><th scope=row>Age^4</th><td>-0.16564040 </td><td>0.16374231  </td><td> -1.01159194</td><td>3.117332e-01</td></tr>\n",
       "\t<tr><th scope=row>Age^5</th><td> 0.00440901 </td><td>0.15451684  </td><td>  0.02853417</td><td>9.772361e-01</td></tr>\n",
       "</tbody>\n",
       "</table>\n"
      ],
      "text/latex": [
       "\\begin{tabular}{r|llll}\n",
       "  & Estimate & Std. Error & z value & Pr(>\\textbar{}z\\textbar{})\\\\\n",
       "\\hline\n",
       "\t(Intercept) & -4.59728503  & 0.06755433   & -68.05315511 & 0.000000e+00\\\\\n",
       "\tAge.L &  1.14558542  & 0.17385361   &   6.58936810 & 4.417025e-11\\\\\n",
       "\tAge.Q & -0.97063417  & 0.16718702   &  -5.80567903 & 6.410566e-09\\\\\n",
       "\tAge.C &  0.05163805  & 0.16746353   &   0.30835402 & 7.578130e-01\\\\\n",
       "\tAge\\textasciicircum{}4 & -0.16564040  & 0.16374231   &  -1.01159194 & 3.117332e-01\\\\\n",
       "\tAge\\textasciicircum{}5 &  0.00440901  & 0.15451684   &   0.02853417 & 9.772361e-01\\\\\n",
       "\\end{tabular}\n"
      ],
      "text/markdown": [
       "\n",
       "| <!--/--> | Estimate | Std. Error | z value | Pr(>|z|) |\n",
       "|---|---|---|---|---|\n",
       "| (Intercept) | -4.59728503  | 0.06755433   | -68.05315511 | 0.000000e+00 |\n",
       "| Age.L |  1.14558542  | 0.17385361   |   6.58936810 | 4.417025e-11 |\n",
       "| Age.Q | -0.97063417  | 0.16718702   |  -5.80567903 | 6.410566e-09 |\n",
       "| Age.C |  0.05163805  | 0.16746353   |   0.30835402 | 7.578130e-01 |\n",
       "| Age^4 | -0.16564040  | 0.16374231   |  -1.01159194 | 3.117332e-01 |\n",
       "| Age^5 |  0.00440901  | 0.15451684   |   0.02853417 | 9.772361e-01 |\n",
       "\n"
      ],
      "text/plain": [
       "            Estimate    Std. Error z value      Pr(>|z|)    \n",
       "(Intercept) -4.59728503 0.06755433 -68.05315511 0.000000e+00\n",
       "Age.L        1.14558542 0.17385361   6.58936810 4.417025e-11\n",
       "Age.Q       -0.97063417 0.16718702  -5.80567903 6.410566e-09\n",
       "Age.C        0.05163805 0.16746353   0.30835402 7.578130e-01\n",
       "Age^4       -0.16564040 0.16374231  -1.01159194 3.117332e-01\n",
       "Age^5        0.00440901 0.15451684   0.02853417 9.772361e-01"
      ]
     },
     "metadata": {},
     "output_type": "display_data"
    }
   ],
   "source": [
    "coef(summary(dlc.psn))"
   ]
  },
  {
   "cell_type": "code",
   "execution_count": 13,
   "metadata": {},
   "outputs": [
    {
     "data": {
      "text/html": [
       "<table>\n",
       "<thead><tr><th></th><th scope=col>coef.dlc.bin.</th><th scope=col>coef.dlc.psn.</th></tr></thead>\n",
       "<tbody>\n",
       "\t<tr><th scope=row>(Intercept)</th><td>-4.585526186</td><td>-4.59728503 </td></tr>\n",
       "\t<tr><th scope=row>Age.L</th><td> 1.154817435</td><td> 1.14558542 </td></tr>\n",
       "\t<tr><th scope=row>Age.Q</th><td>-0.978419108</td><td>-0.97063417 </td></tr>\n",
       "\t<tr><th scope=row>Age.C</th><td> 0.048746208</td><td> 0.05163805 </td></tr>\n",
       "\t<tr><th scope=row>Age^4</th><td>-0.166895236</td><td>-0.16564040 </td></tr>\n",
       "\t<tr><th scope=row>Age^5</th><td> 0.004192012</td><td> 0.00440901 </td></tr>\n",
       "</tbody>\n",
       "</table>\n"
      ],
      "text/latex": [
       "\\begin{tabular}{r|ll}\n",
       "  & coef.dlc.bin. & coef.dlc.psn.\\\\\n",
       "\\hline\n",
       "\t(Intercept) & -4.585526186 & -4.59728503 \\\\\n",
       "\tAge.L &  1.154817435 &  1.14558542 \\\\\n",
       "\tAge.Q & -0.978419108 & -0.97063417 \\\\\n",
       "\tAge.C &  0.048746208 &  0.05163805 \\\\\n",
       "\tAge\\textasciicircum{}4 & -0.166895236 & -0.16564040 \\\\\n",
       "\tAge\\textasciicircum{}5 &  0.004192012 &  0.00440901 \\\\\n",
       "\\end{tabular}\n"
      ],
      "text/markdown": [
       "\n",
       "| <!--/--> | coef.dlc.bin. | coef.dlc.psn. |\n",
       "|---|---|---|\n",
       "| (Intercept) | -4.585526186 | -4.59728503  |\n",
       "| Age.L |  1.154817435 |  1.14558542  |\n",
       "| Age.Q | -0.978419108 | -0.97063417  |\n",
       "| Age.C |  0.048746208 |  0.05163805  |\n",
       "| Age^4 | -0.166895236 | -0.16564040  |\n",
       "| Age^5 |  0.004192012 |  0.00440901  |\n",
       "\n"
      ],
      "text/plain": [
       "            coef.dlc.bin. coef.dlc.psn.\n",
       "(Intercept) -4.585526186  -4.59728503  \n",
       "Age.L        1.154817435   1.14558542  \n",
       "Age.Q       -0.978419108  -0.97063417  \n",
       "Age.C        0.048746208   0.05163805  \n",
       "Age^4       -0.166895236  -0.16564040  \n",
       "Age^5        0.004192012   0.00440901  "
      ]
     },
     "metadata": {},
     "output_type": "display_data"
    }
   ],
   "source": [
    "data.frame( coef(dlc.bin), coef( dlc.psn))"
   ]
  },
  {
   "cell_type": "code",
   "execution_count": 15,
   "metadata": {},
   "outputs": [
    {
     "data": {
      "text/html": [
       "<dl class=dl-horizontal>\n",
       "\t<dt>Df</dt>\n",
       "\t\t<dd>18</dd>\n",
       "\t<dt>Dev.Bin</dt>\n",
       "\t\t<dd>28.5592301931707</dd>\n",
       "\t<dt>Dev.Poisson</dt>\n",
       "\t\t<dd>28.3065274454968</dd>\n",
       "</dl>\n"
      ],
      "text/latex": [
       "\\begin{description*}\n",
       "\\item[Df] 18\n",
       "\\item[Dev.Bin] 28.5592301931707\n",
       "\\item[Dev.Poisson] 28.3065274454968\n",
       "\\end{description*}\n"
      ],
      "text/markdown": [
       "Df\n",
       ":   18Dev.Bin\n",
       ":   28.5592301931707Dev.Poisson\n",
       ":   28.3065274454968\n",
       "\n"
      ],
      "text/plain": [
       "         Df     Dev.Bin Dev.Poisson \n",
       "   18.00000    28.55923    28.30653 "
      ]
     },
     "metadata": {},
     "output_type": "display_data"
    }
   ],
   "source": [
    "c( Df=df.residual(dlc.bin),\n",
    "Dev.Bin=deviance(dlc.bin),\n",
    "Dev.Poisson=deviance(dlc.psn) )"
   ]
  },
  {
   "cell_type": "code",
   "execution_count": 16,
   "metadata": {},
   "outputs": [
    {
     "data": {
      "text/html": [
       "0.018042399639152"
      ],
      "text/latex": [
       "0.018042399639152"
      ],
      "text/markdown": [
       "0.018042399639152"
      ],
      "text/plain": [
       "[1] 0.0180424"
      ]
     },
     "metadata": {},
     "output_type": "display_data"
    },
    {
     "data": {
      "text/html": [
       "509"
      ],
      "text/latex": [
       "509"
      ],
      "text/markdown": [
       "509"
      ],
      "text/plain": [
       "[1] 509"
      ]
     },
     "metadata": {},
     "output_type": "display_data"
    }
   ],
   "source": [
    "max( fitted( dlc.bin) ) ### Small pi\n",
    "min( danishlc$Pop ) ### Large m"
   ]
  }
 ],
 "metadata": {
  "kernelspec": {
   "display_name": "R",
   "language": "R",
   "name": "ir"
  },
  "language_info": {
   "codemirror_mode": "r",
   "file_extension": ".r",
   "mimetype": "text/x-r-source",
   "name": "R",
   "pygments_lexer": "r",
   "version": "3.6.1"
  },
  "orig_nbformat": 4
 },
 "nbformat": 4,
 "nbformat_minor": 2
}
