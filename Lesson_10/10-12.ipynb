{
 "cells": [
  {
   "cell_type": "code",
   "execution_count": 1,
   "metadata": {},
   "outputs": [
    {
     "name": "stderr",
     "output_type": "stream",
     "text": [
      "Warning message:\n",
      "\"package 'statmod' was built under R version 3.6.3\""
     ]
    }
   ],
   "source": [
    "library(GLMsData)\n",
    "library(statmod)\n",
    "library(MASS)"
   ]
  },
  {
   "cell_type": "code",
   "execution_count": 2,
   "metadata": {},
   "outputs": [],
   "source": [
    "data(dwomen)"
   ]
  },
  {
   "cell_type": "code",
   "execution_count": 3,
   "metadata": {},
   "outputs": [
    {
     "name": "stdout",
     "output_type": "stream",
     "text": [
      "'data.frame':\t8 obs. of  4 variables:\n",
      " $ Counts    : int  9 0 24 4 12 20 119 231\n",
      " $ Depression: Factor w/ 2 levels \"No\",\"Yes\": 2 2 2 2 1 1 1 1\n",
      " $ SLE       : Factor w/ 2 levels \"No\",\"Yes\": 2 1 2 1 2 1 2 1\n",
      " $ Children  : Factor w/ 2 levels \"No\",\"Yes\": 2 2 1 1 2 2 1 1\n"
     ]
    }
   ],
   "source": [
    "str(dwomen)"
   ]
  },
  {
   "cell_type": "code",
   "execution_count": 4,
   "metadata": {},
   "outputs": [
    {
     "data": {
      "text/html": [
       "<table>\n",
       "<thead><tr><th scope=col>Counts</th><th scope=col>Depression</th><th scope=col>SLE</th><th scope=col>Children</th></tr></thead>\n",
       "<tbody>\n",
       "\t<tr><td>  9</td><td>Yes</td><td>Yes</td><td>Yes</td></tr>\n",
       "\t<tr><td>  0</td><td>Yes</td><td>No </td><td>Yes</td></tr>\n",
       "\t<tr><td> 24</td><td>Yes</td><td>Yes</td><td>No </td></tr>\n",
       "\t<tr><td>  4</td><td>Yes</td><td>No </td><td>No </td></tr>\n",
       "\t<tr><td> 12</td><td>No </td><td>Yes</td><td>Yes</td></tr>\n",
       "\t<tr><td> 20</td><td>No </td><td>No </td><td>Yes</td></tr>\n",
       "\t<tr><td>119</td><td>No </td><td>Yes</td><td>No </td></tr>\n",
       "\t<tr><td>231</td><td>No </td><td>No </td><td>No </td></tr>\n",
       "</tbody>\n",
       "</table>\n"
      ],
      "text/latex": [
       "\\begin{tabular}{r|llll}\n",
       " Counts & Depression & SLE & Children\\\\\n",
       "\\hline\n",
       "\t   9 & Yes & Yes & Yes\\\\\n",
       "\t   0 & Yes & No  & Yes\\\\\n",
       "\t  24 & Yes & Yes & No \\\\\n",
       "\t   4 & Yes & No  & No \\\\\n",
       "\t  12 & No  & Yes & Yes\\\\\n",
       "\t  20 & No  & No  & Yes\\\\\n",
       "\t 119 & No  & Yes & No \\\\\n",
       "\t 231 & No  & No  & No \\\\\n",
       "\\end{tabular}\n"
      ],
      "text/markdown": [
       "\n",
       "| Counts | Depression | SLE | Children |\n",
       "|---|---|---|---|\n",
       "|   9 | Yes | Yes | Yes |\n",
       "|   0 | Yes | No  | Yes |\n",
       "|  24 | Yes | Yes | No  |\n",
       "|   4 | Yes | No  | No  |\n",
       "|  12 | No  | Yes | Yes |\n",
       "|  20 | No  | No  | Yes |\n",
       "| 119 | No  | Yes | No  |\n",
       "| 231 | No  | No  | No  |\n",
       "\n"
      ],
      "text/plain": [
       "  Counts Depression SLE Children\n",
       "1   9    Yes        Yes Yes     \n",
       "2   0    Yes        No  Yes     \n",
       "3  24    Yes        Yes No      \n",
       "4   4    Yes        No  No      \n",
       "5  12    No         Yes Yes     \n",
       "6  20    No         No  Yes     \n",
       "7 119    No         Yes No      \n",
       "8 231    No         No  No      "
      ]
     },
     "metadata": {},
     "output_type": "display_data"
    }
   ],
   "source": [
    "dwomen"
   ]
  },
  {
   "cell_type": "code",
   "execution_count": 5,
   "metadata": {},
   "outputs": [
    {
     "data": {
      "text/plain": [
       ", , Children = No\n",
       "\n",
       "          SLE\n",
       "Depression  No Yes\n",
       "       No  231 119\n",
       "       Yes   4  24\n",
       "\n",
       ", , Children = Yes\n",
       "\n",
       "          SLE\n",
       "Depression  No Yes\n",
       "       No   20  12\n",
       "       Yes   0   9\n"
      ]
     },
     "metadata": {},
     "output_type": "display_data"
    }
   ],
   "source": [
    "xtabs(Counts ~ Depression + SLE + Children, data=dwomen)"
   ]
  },
  {
   "cell_type": "code",
   "execution_count": 6,
   "metadata": {},
   "outputs": [],
   "source": [
    "women.mutind <- glm(Counts ~ Depression + SLE + Children, data=dwomen)"
   ]
  },
  {
   "cell_type": "code",
   "execution_count": 7,
   "metadata": {},
   "outputs": [
    {
     "data": {
      "text/html": [
       "<table>\n",
       "<thead><tr><th></th><th scope=col>Estimate</th><th scope=col>Std. Error</th><th scope=col>t value</th><th scope=col>Pr(&gt;|t|)</th></tr></thead>\n",
       "<tbody>\n",
       "\t<tr><th scope=row>(Intercept)</th><td>149.00    </td><td>45.66796  </td><td> 3.2626814</td><td>0.03100229</td></tr>\n",
       "\t<tr><th scope=row>DepressionYes</th><td>-86.25    </td><td>45.66796  </td><td>-1.8886327</td><td>0.13195871</td></tr>\n",
       "\t<tr><th scope=row>SLEYes</th><td>-22.75    </td><td>45.66796  </td><td>-0.4981611</td><td>0.64451583</td></tr>\n",
       "\t<tr><th scope=row>ChildrenYes</th><td>-84.25    </td><td>45.66796  </td><td>-1.8448383</td><td>0.13881747</td></tr>\n",
       "</tbody>\n",
       "</table>\n"
      ],
      "text/latex": [
       "\\begin{tabular}{r|llll}\n",
       "  & Estimate & Std. Error & t value & Pr(>\\textbar{}t\\textbar{})\\\\\n",
       "\\hline\n",
       "\t(Intercept) & 149.00     & 45.66796   &  3.2626814 & 0.03100229\\\\\n",
       "\tDepressionYes & -86.25     & 45.66796   & -1.8886327 & 0.13195871\\\\\n",
       "\tSLEYes & -22.75     & 45.66796   & -0.4981611 & 0.64451583\\\\\n",
       "\tChildrenYes & -84.25     & 45.66796   & -1.8448383 & 0.13881747\\\\\n",
       "\\end{tabular}\n"
      ],
      "text/markdown": [
       "\n",
       "| <!--/--> | Estimate | Std. Error | t value | Pr(>|t|) |\n",
       "|---|---|---|---|---|\n",
       "| (Intercept) | 149.00     | 45.66796   |  3.2626814 | 0.03100229 |\n",
       "| DepressionYes | -86.25     | 45.66796   | -1.8886327 | 0.13195871 |\n",
       "| SLEYes | -22.75     | 45.66796   | -0.4981611 | 0.64451583 |\n",
       "| ChildrenYes | -84.25     | 45.66796   | -1.8448383 | 0.13881747 |\n",
       "\n"
      ],
      "text/plain": [
       "              Estimate Std. Error t value    Pr(>|t|)  \n",
       "(Intercept)   149.00   45.66796    3.2626814 0.03100229\n",
       "DepressionYes -86.25   45.66796   -1.8886327 0.13195871\n",
       "SLEYes        -22.75   45.66796   -0.4981611 0.64451583\n",
       "ChildrenYes   -84.25   45.66796   -1.8448383 0.13881747"
      ]
     },
     "metadata": {},
     "output_type": "display_data"
    }
   ],
   "source": [
    "coef(summary(women.mutind))"
   ]
  },
  {
   "cell_type": "code",
   "execution_count": 8,
   "metadata": {},
   "outputs": [],
   "source": [
    "women.DS <- glm(Counts ~ Depression*SLE + Children, data=dwomen)\n",
    "women.SC <- update(women.DS, . ~ Depression + SLE*Children)\n",
    "women.DC <- update(women.DS, . ~ Depression*Children + SLE)"
   ]
  },
  {
   "cell_type": "code",
   "execution_count": 9,
   "metadata": {},
   "outputs": [
    {
     "data": {
      "text/html": [
       "<table>\n",
       "<thead><tr><th></th><th scope=col>Estimate</th><th scope=col>Std. Error</th><th scope=col>t value</th><th scope=col>Pr(&gt;|t|)</th></tr></thead>\n",
       "<tbody>\n",
       "\t<tr><th scope=row>(Intercept)</th><td> 167.625  </td><td>53.83109  </td><td> 3.1139067</td><td>0.05272087</td></tr>\n",
       "\t<tr><th scope=row>DepressionYes</th><td>-123.500  </td><td>68.09154  </td><td>-1.8137348</td><td>0.16736463</td></tr>\n",
       "\t<tr><th scope=row>SLEYes</th><td> -60.000  </td><td>68.09154  </td><td>-0.8811667</td><td>0.44311113</td></tr>\n",
       "\t<tr><th scope=row>ChildrenYes</th><td> -84.250  </td><td>48.14799  </td><td>-1.7498134</td><td>0.17845903</td></tr>\n",
       "\t<tr><th scope=row>DepressionYes:SLEYes</th><td>  74.500  </td><td>96.29598  </td><td> 0.7736563</td><td>0.49550556</td></tr>\n",
       "</tbody>\n",
       "</table>\n"
      ],
      "text/latex": [
       "\\begin{tabular}{r|llll}\n",
       "  & Estimate & Std. Error & t value & Pr(>\\textbar{}t\\textbar{})\\\\\n",
       "\\hline\n",
       "\t(Intercept) &  167.625   & 53.83109   &  3.1139067 & 0.05272087\\\\\n",
       "\tDepressionYes & -123.500   & 68.09154   & -1.8137348 & 0.16736463\\\\\n",
       "\tSLEYes &  -60.000   & 68.09154   & -0.8811667 & 0.44311113\\\\\n",
       "\tChildrenYes &  -84.250   & 48.14799   & -1.7498134 & 0.17845903\\\\\n",
       "\tDepressionYes:SLEYes &   74.500   & 96.29598   &  0.7736563 & 0.49550556\\\\\n",
       "\\end{tabular}\n"
      ],
      "text/markdown": [
       "\n",
       "| <!--/--> | Estimate | Std. Error | t value | Pr(>|t|) |\n",
       "|---|---|---|---|---|\n",
       "| (Intercept) |  167.625   | 53.83109   |  3.1139067 | 0.05272087 |\n",
       "| DepressionYes | -123.500   | 68.09154   | -1.8137348 | 0.16736463 |\n",
       "| SLEYes |  -60.000   | 68.09154   | -0.8811667 | 0.44311113 |\n",
       "| ChildrenYes |  -84.250   | 48.14799   | -1.7498134 | 0.17845903 |\n",
       "| DepressionYes:SLEYes |   74.500   | 96.29598   |  0.7736563 | 0.49550556 |\n",
       "\n"
      ],
      "text/plain": [
       "                     Estimate Std. Error t value    Pr(>|t|)  \n",
       "(Intercept)           167.625 53.83109    3.1139067 0.05272087\n",
       "DepressionYes        -123.500 68.09154   -1.8137348 0.16736463\n",
       "SLEYes                -60.000 68.09154   -0.8811667 0.44311113\n",
       "ChildrenYes           -84.250 48.14799   -1.7498134 0.17845903\n",
       "DepressionYes:SLEYes   74.500 96.29598    0.7736563 0.49550556"
      ]
     },
     "metadata": {},
     "output_type": "display_data"
    },
    {
     "data": {
      "text/html": [
       "<table>\n",
       "<thead><tr><th></th><th scope=col>Estimate</th><th scope=col>Std. Error</th><th scope=col>t value</th><th scope=col>Pr(&gt;|t|)</th></tr></thead>\n",
       "<tbody>\n",
       "\t<tr><th scope=row>(Intercept)</th><td> 160.625  </td><td> 57.01494 </td><td> 2.8172442</td><td>0.06689059</td></tr>\n",
       "\t<tr><th scope=row>DepressionYes</th><td> -86.250  </td><td> 50.99571 </td><td>-1.6913187</td><td>0.18935453</td></tr>\n",
       "\t<tr><th scope=row>SLEYes</th><td> -46.000  </td><td> 72.11883 </td><td>-0.6378362</td><td>0.56893010</td></tr>\n",
       "\t<tr><th scope=row>ChildrenYes</th><td>-107.500  </td><td> 72.11883 </td><td>-1.4905955</td><td>0.23285343</td></tr>\n",
       "\t<tr><th scope=row>SLEYes:ChildrenYes</th><td>  46.500  </td><td>101.99142 </td><td> 0.4559207</td><td>0.67942583</td></tr>\n",
       "</tbody>\n",
       "</table>\n"
      ],
      "text/latex": [
       "\\begin{tabular}{r|llll}\n",
       "  & Estimate & Std. Error & t value & Pr(>\\textbar{}t\\textbar{})\\\\\n",
       "\\hline\n",
       "\t(Intercept) &  160.625   &  57.01494  &  2.8172442 & 0.06689059\\\\\n",
       "\tDepressionYes &  -86.250   &  50.99571  & -1.6913187 & 0.18935453\\\\\n",
       "\tSLEYes &  -46.000   &  72.11883  & -0.6378362 & 0.56893010\\\\\n",
       "\tChildrenYes & -107.500   &  72.11883  & -1.4905955 & 0.23285343\\\\\n",
       "\tSLEYes:ChildrenYes &   46.500   & 101.99142  &  0.4559207 & 0.67942583\\\\\n",
       "\\end{tabular}\n"
      ],
      "text/markdown": [
       "\n",
       "| <!--/--> | Estimate | Std. Error | t value | Pr(>|t|) |\n",
       "|---|---|---|---|---|\n",
       "| (Intercept) |  160.625   |  57.01494  |  2.8172442 | 0.06689059 |\n",
       "| DepressionYes |  -86.250   |  50.99571  | -1.6913187 | 0.18935453 |\n",
       "| SLEYes |  -46.000   |  72.11883  | -0.6378362 | 0.56893010 |\n",
       "| ChildrenYes | -107.500   |  72.11883  | -1.4905955 | 0.23285343 |\n",
       "| SLEYes:ChildrenYes |   46.500   | 101.99142  |  0.4559207 | 0.67942583 |\n",
       "\n"
      ],
      "text/plain": [
       "                   Estimate Std. Error t value    Pr(>|t|)  \n",
       "(Intercept)         160.625  57.01494   2.8172442 0.06689059\n",
       "DepressionYes       -86.250  50.99571  -1.6913187 0.18935453\n",
       "SLEYes              -46.000  72.11883  -0.6378362 0.56893010\n",
       "ChildrenYes        -107.500  72.11883  -1.4905955 0.23285343\n",
       "SLEYes:ChildrenYes   46.500 101.99142   0.4559207 0.67942583"
      ]
     },
     "metadata": {},
     "output_type": "display_data"
    },
    {
     "data": {
      "text/html": [
       "<table>\n",
       "<thead><tr><th></th><th scope=col>Estimate</th><th scope=col>Std. Error</th><th scope=col>t value</th><th scope=col>Pr(&gt;|t|)</th></tr></thead>\n",
       "<tbody>\n",
       "\t<tr><th scope=row>(Intercept)</th><td> 186.375  </td><td>33.87900  </td><td> 5.5011959</td><td>0.01182244</td></tr>\n",
       "\t<tr><th scope=row>DepressionYes</th><td>-161.000  </td><td>42.85392  </td><td>-3.7569493</td><td>0.03295886</td></tr>\n",
       "\t<tr><th scope=row>ChildrenYes</th><td>-159.000  </td><td>42.85392  </td><td>-3.7102791</td><td>0.03403495</td></tr>\n",
       "\t<tr><th scope=row>SLEYes</th><td> -22.750  </td><td>30.30230  </td><td>-0.7507682</td><td>0.50731426</td></tr>\n",
       "\t<tr><th scope=row>DepressionYes:ChildrenYes</th><td> 149.500  </td><td>60.60459  </td><td> 2.4668097</td><td>0.09031969</td></tr>\n",
       "</tbody>\n",
       "</table>\n"
      ],
      "text/latex": [
       "\\begin{tabular}{r|llll}\n",
       "  & Estimate & Std. Error & t value & Pr(>\\textbar{}t\\textbar{})\\\\\n",
       "\\hline\n",
       "\t(Intercept) &  186.375   & 33.87900   &  5.5011959 & 0.01182244\\\\\n",
       "\tDepressionYes & -161.000   & 42.85392   & -3.7569493 & 0.03295886\\\\\n",
       "\tChildrenYes & -159.000   & 42.85392   & -3.7102791 & 0.03403495\\\\\n",
       "\tSLEYes &  -22.750   & 30.30230   & -0.7507682 & 0.50731426\\\\\n",
       "\tDepressionYes:ChildrenYes &  149.500   & 60.60459   &  2.4668097 & 0.09031969\\\\\n",
       "\\end{tabular}\n"
      ],
      "text/markdown": [
       "\n",
       "| <!--/--> | Estimate | Std. Error | t value | Pr(>|t|) |\n",
       "|---|---|---|---|---|\n",
       "| (Intercept) |  186.375   | 33.87900   |  5.5011959 | 0.01182244 |\n",
       "| DepressionYes | -161.000   | 42.85392   | -3.7569493 | 0.03295886 |\n",
       "| ChildrenYes | -159.000   | 42.85392   | -3.7102791 | 0.03403495 |\n",
       "| SLEYes |  -22.750   | 30.30230   | -0.7507682 | 0.50731426 |\n",
       "| DepressionYes:ChildrenYes |  149.500   | 60.60459   |  2.4668097 | 0.09031969 |\n",
       "\n"
      ],
      "text/plain": [
       "                          Estimate Std. Error t value    Pr(>|t|)  \n",
       "(Intercept)                186.375 33.87900    5.5011959 0.01182244\n",
       "DepressionYes             -161.000 42.85392   -3.7569493 0.03295886\n",
       "ChildrenYes               -159.000 42.85392   -3.7102791 0.03403495\n",
       "SLEYes                     -22.750 30.30230   -0.7507682 0.50731426\n",
       "DepressionYes:ChildrenYes  149.500 60.60459    2.4668097 0.09031969"
      ]
     },
     "metadata": {},
     "output_type": "display_data"
    }
   ],
   "source": [
    "coef(summary(women.DS))\n",
    "coef(summary(women.SC))\n",
    "coef(summary(women.DC))"
   ]
  },
  {
   "cell_type": "code",
   "execution_count": 10,
   "metadata": {},
   "outputs": [],
   "source": [
    "women.noDS <- glm(Counts ~ (Depression + SLE) * Children, data=dwomen)\n",
    "women.noSC <- update(women.noDS, . ~ Depression * (SLE + Children))\n",
    "women.noDC <- update(women.noDS, . ~ (Depression + Children) * SLE)"
   ]
  },
  {
   "cell_type": "code",
   "execution_count": 11,
   "metadata": {},
   "outputs": [
    {
     "data": {
      "text/html": [
       "<table>\n",
       "<thead><tr><th></th><th scope=col>Estimate</th><th scope=col>Std. Error</th><th scope=col>t value</th><th scope=col>Pr(&gt;|t|)</th></tr></thead>\n",
       "<tbody>\n",
       "\t<tr><th scope=row>(Intercept)</th><td> 198.00   </td><td>40.75038  </td><td> 4.8588500</td><td>0.03984340</td></tr>\n",
       "\t<tr><th scope=row>DepressionYes</th><td>-161.00   </td><td>47.05449  </td><td>-3.4215651</td><td>0.07582994</td></tr>\n",
       "\t<tr><th scope=row>SLEYes</th><td> -46.00   </td><td>47.05449  </td><td>-0.9775900</td><td>0.43137246</td></tr>\n",
       "\t<tr><th scope=row>ChildrenYes</th><td>-182.25   </td><td>57.62974  </td><td>-3.1624294</td><td>0.08712177</td></tr>\n",
       "\t<tr><th scope=row>DepressionYes:ChildrenYes</th><td> 149.50   </td><td>66.54510  </td><td> 2.2465968</td><td>0.15371446</td></tr>\n",
       "\t<tr><th scope=row>SLEYes:ChildrenYes</th><td>  46.50   </td><td>66.54510  </td><td> 0.6987742</td><td>0.55701728</td></tr>\n",
       "</tbody>\n",
       "</table>\n"
      ],
      "text/latex": [
       "\\begin{tabular}{r|llll}\n",
       "  & Estimate & Std. Error & t value & Pr(>\\textbar{}t\\textbar{})\\\\\n",
       "\\hline\n",
       "\t(Intercept) &  198.00    & 40.75038   &  4.8588500 & 0.03984340\\\\\n",
       "\tDepressionYes & -161.00    & 47.05449   & -3.4215651 & 0.07582994\\\\\n",
       "\tSLEYes &  -46.00    & 47.05449   & -0.9775900 & 0.43137246\\\\\n",
       "\tChildrenYes & -182.25    & 57.62974   & -3.1624294 & 0.08712177\\\\\n",
       "\tDepressionYes:ChildrenYes &  149.50    & 66.54510   &  2.2465968 & 0.15371446\\\\\n",
       "\tSLEYes:ChildrenYes &   46.50    & 66.54510   &  0.6987742 & 0.55701728\\\\\n",
       "\\end{tabular}\n"
      ],
      "text/markdown": [
       "\n",
       "| <!--/--> | Estimate | Std. Error | t value | Pr(>|t|) |\n",
       "|---|---|---|---|---|\n",
       "| (Intercept) |  198.00    | 40.75038   |  4.8588500 | 0.03984340 |\n",
       "| DepressionYes | -161.00    | 47.05449   | -3.4215651 | 0.07582994 |\n",
       "| SLEYes |  -46.00    | 47.05449   | -0.9775900 | 0.43137246 |\n",
       "| ChildrenYes | -182.25    | 57.62974   | -3.1624294 | 0.08712177 |\n",
       "| DepressionYes:ChildrenYes |  149.50    | 66.54510   |  2.2465968 | 0.15371446 |\n",
       "| SLEYes:ChildrenYes |   46.50    | 66.54510   |  0.6987742 | 0.55701728 |\n",
       "\n"
      ],
      "text/plain": [
       "                          Estimate Std. Error t value    Pr(>|t|)  \n",
       "(Intercept)                198.00  40.75038    4.8588500 0.03984340\n",
       "DepressionYes             -161.00  47.05449   -3.4215651 0.07582994\n",
       "SLEYes                     -46.00  47.05449   -0.9775900 0.43137246\n",
       "ChildrenYes               -182.25  57.62974   -3.1624294 0.08712177\n",
       "DepressionYes:ChildrenYes  149.50  66.54510    2.2465968 0.15371446\n",
       "SLEYes:ChildrenYes          46.50  66.54510    0.6987742 0.55701728"
      ]
     },
     "metadata": {},
     "output_type": "display_data"
    },
    {
     "data": {
      "text/html": [
       "<table>\n",
       "<thead><tr><th></th><th scope=col>Estimate</th><th scope=col>Std. Error</th><th scope=col>t value</th><th scope=col>Pr(&gt;|t|)</th></tr></thead>\n",
       "<tbody>\n",
       "\t<tr><th scope=row>(Intercept)</th><td> 205.00   </td><td>32.02099  </td><td> 6.402051 </td><td>0.02354032</td></tr>\n",
       "\t<tr><th scope=row>DepressionYes</th><td>-198.25   </td><td>45.28452  </td><td>-4.377876 </td><td>0.04841819</td></tr>\n",
       "\t<tr><th scope=row>SLEYes</th><td> -60.00   </td><td>36.97465  </td><td>-1.622733 </td><td>0.24611752</td></tr>\n",
       "\t<tr><th scope=row>ChildrenYes</th><td>-159.00   </td><td>36.97465  </td><td>-4.300243 </td><td>0.05005191</td></tr>\n",
       "\t<tr><th scope=row>DepressionYes:SLEYes</th><td>  74.50   </td><td>52.29006  </td><td> 1.424745 </td><td>0.29027499</td></tr>\n",
       "\t<tr><th scope=row>DepressionYes:ChildrenYes</th><td> 149.50   </td><td>52.29006  </td><td> 2.859052 </td><td>0.10366081</td></tr>\n",
       "</tbody>\n",
       "</table>\n"
      ],
      "text/latex": [
       "\\begin{tabular}{r|llll}\n",
       "  & Estimate & Std. Error & t value & Pr(>\\textbar{}t\\textbar{})\\\\\n",
       "\\hline\n",
       "\t(Intercept) &  205.00    & 32.02099   &  6.402051  & 0.02354032\\\\\n",
       "\tDepressionYes & -198.25    & 45.28452   & -4.377876  & 0.04841819\\\\\n",
       "\tSLEYes &  -60.00    & 36.97465   & -1.622733  & 0.24611752\\\\\n",
       "\tChildrenYes & -159.00    & 36.97465   & -4.300243  & 0.05005191\\\\\n",
       "\tDepressionYes:SLEYes &   74.50    & 52.29006   &  1.424745  & 0.29027499\\\\\n",
       "\tDepressionYes:ChildrenYes &  149.50    & 52.29006   &  2.859052  & 0.10366081\\\\\n",
       "\\end{tabular}\n"
      ],
      "text/markdown": [
       "\n",
       "| <!--/--> | Estimate | Std. Error | t value | Pr(>|t|) |\n",
       "|---|---|---|---|---|\n",
       "| (Intercept) |  205.00    | 32.02099   |  6.402051  | 0.02354032 |\n",
       "| DepressionYes | -198.25    | 45.28452   | -4.377876  | 0.04841819 |\n",
       "| SLEYes |  -60.00    | 36.97465   | -1.622733  | 0.24611752 |\n",
       "| ChildrenYes | -159.00    | 36.97465   | -4.300243  | 0.05005191 |\n",
       "| DepressionYes:SLEYes |   74.50    | 52.29006   |  1.424745  | 0.29027499 |\n",
       "| DepressionYes:ChildrenYes |  149.50    | 52.29006   |  2.859052  | 0.10366081 |\n",
       "\n"
      ],
      "text/plain": [
       "                          Estimate Std. Error t value   Pr(>|t|)  \n",
       "(Intercept)                205.00  32.02099    6.402051 0.02354032\n",
       "DepressionYes             -198.25  45.28452   -4.377876 0.04841819\n",
       "SLEYes                     -60.00  36.97465   -1.622733 0.24611752\n",
       "ChildrenYes               -159.00  36.97465   -4.300243 0.05005191\n",
       "DepressionYes:SLEYes        74.50  52.29006    1.424745 0.29027499\n",
       "DepressionYes:ChildrenYes  149.50  52.29006    2.859052 0.10366081"
      ]
     },
     "metadata": {},
     "output_type": "display_data"
    },
    {
     "data": {
      "text/html": [
       "<table>\n",
       "<thead><tr><th></th><th scope=col>Estimate</th><th scope=col>Std. Error</th><th scope=col>t value</th><th scope=col>Pr(&gt;|t|)</th></tr></thead>\n",
       "<tbody>\n",
       "\t<tr><th scope=row>(Intercept)</th><td> 179.25   </td><td> 69.35844 </td><td> 2.5844005</td><td>0.1227531 </td></tr>\n",
       "\t<tr><th scope=row>DepressionYes</th><td>-123.50   </td><td> 80.08823 </td><td>-1.5420493</td><td>0.2630050 </td></tr>\n",
       "\t<tr><th scope=row>ChildrenYes</th><td>-107.50   </td><td> 80.08823 </td><td>-1.3422696</td><td>0.3115831 </td></tr>\n",
       "\t<tr><th scope=row>SLEYes</th><td> -83.25   </td><td> 98.08765 </td><td>-0.8487307</td><td>0.4854140 </td></tr>\n",
       "\t<tr><th scope=row>DepressionYes:SLEYes</th><td>  74.50   </td><td>113.26186 </td><td> 0.6577677</td><td>0.5782724 </td></tr>\n",
       "\t<tr><th scope=row>ChildrenYes:SLEYes</th><td>  46.50   </td><td>113.26186 </td><td> 0.4105530</td><td>0.7212055 </td></tr>\n",
       "</tbody>\n",
       "</table>\n"
      ],
      "text/latex": [
       "\\begin{tabular}{r|llll}\n",
       "  & Estimate & Std. Error & t value & Pr(>\\textbar{}t\\textbar{})\\\\\n",
       "\\hline\n",
       "\t(Intercept) &  179.25    &  69.35844  &  2.5844005 & 0.1227531 \\\\\n",
       "\tDepressionYes & -123.50    &  80.08823  & -1.5420493 & 0.2630050 \\\\\n",
       "\tChildrenYes & -107.50    &  80.08823  & -1.3422696 & 0.3115831 \\\\\n",
       "\tSLEYes &  -83.25    &  98.08765  & -0.8487307 & 0.4854140 \\\\\n",
       "\tDepressionYes:SLEYes &   74.50    & 113.26186  &  0.6577677 & 0.5782724 \\\\\n",
       "\tChildrenYes:SLEYes &   46.50    & 113.26186  &  0.4105530 & 0.7212055 \\\\\n",
       "\\end{tabular}\n"
      ],
      "text/markdown": [
       "\n",
       "| <!--/--> | Estimate | Std. Error | t value | Pr(>|t|) |\n",
       "|---|---|---|---|---|\n",
       "| (Intercept) |  179.25    |  69.35844  |  2.5844005 | 0.1227531  |\n",
       "| DepressionYes | -123.50    |  80.08823  | -1.5420493 | 0.2630050  |\n",
       "| ChildrenYes | -107.50    |  80.08823  | -1.3422696 | 0.3115831  |\n",
       "| SLEYes |  -83.25    |  98.08765  | -0.8487307 | 0.4854140  |\n",
       "| DepressionYes:SLEYes |   74.50    | 113.26186  |  0.6577677 | 0.5782724  |\n",
       "| ChildrenYes:SLEYes |   46.50    | 113.26186  |  0.4105530 | 0.7212055  |\n",
       "\n"
      ],
      "text/plain": [
       "                     Estimate Std. Error t value    Pr(>|t|) \n",
       "(Intercept)           179.25   69.35844   2.5844005 0.1227531\n",
       "DepressionYes        -123.50   80.08823  -1.5420493 0.2630050\n",
       "ChildrenYes          -107.50   80.08823  -1.3422696 0.3115831\n",
       "SLEYes                -83.25   98.08765  -0.8487307 0.4854140\n",
       "DepressionYes:SLEYes   74.50  113.26186   0.6577677 0.5782724\n",
       "ChildrenYes:SLEYes     46.50  113.26186   0.4105530 0.7212055"
      ]
     },
     "metadata": {},
     "output_type": "display_data"
    }
   ],
   "source": [
    "coef(summary(women.noDS))\n",
    "coef(summary(women.noSC))\n",
    "coef(summary(women.noDC))"
   ]
  },
  {
   "cell_type": "code",
   "execution_count": 12,
   "metadata": {},
   "outputs": [],
   "source": [
    "women.no3 <- glm(Counts ~ Depression * SLE * Children - Depression : SLE : Children, data=dwomen)"
   ]
  },
  {
   "cell_type": "code",
   "execution_count": 13,
   "metadata": {},
   "outputs": [
    {
     "data": {
      "text/html": [
       "<table>\n",
       "<thead><tr><th></th><th scope=col>Estimate</th><th scope=col>Std. Error</th><th scope=col>t value</th><th scope=col>Pr(&gt;|t|)</th></tr></thead>\n",
       "<tbody>\n",
       "\t<tr><th scope=row>(Intercept)</th><td> 216.625  </td><td>38.03268  </td><td> 5.6957603</td><td>0.1106432 </td></tr>\n",
       "\t<tr><th scope=row>DepressionYes</th><td>-198.250  </td><td>49.79646  </td><td>-3.9812066</td><td>0.1566652 </td></tr>\n",
       "\t<tr><th scope=row>SLEYes</th><td> -83.250  </td><td>49.79646  </td><td>-1.6718056</td><td>0.3431777 </td></tr>\n",
       "\t<tr><th scope=row>ChildrenYes</th><td>-182.250  </td><td>49.79646  </td><td>-3.6598987</td><td>0.1698001 </td></tr>\n",
       "\t<tr><th scope=row>DepressionYes:SLEYes</th><td>  74.500  </td><td>57.50000  </td><td> 1.2956522</td><td>0.4184599 </td></tr>\n",
       "\t<tr><th scope=row>DepressionYes:ChildrenYes</th><td> 149.500  </td><td>57.50000  </td><td> 2.6000000</td><td>0.2337501 </td></tr>\n",
       "\t<tr><th scope=row>SLEYes:ChildrenYes</th><td>  46.500  </td><td>57.50000  </td><td> 0.8086957</td><td>0.5670854 </td></tr>\n",
       "</tbody>\n",
       "</table>\n"
      ],
      "text/latex": [
       "\\begin{tabular}{r|llll}\n",
       "  & Estimate & Std. Error & t value & Pr(>\\textbar{}t\\textbar{})\\\\\n",
       "\\hline\n",
       "\t(Intercept) &  216.625   & 38.03268   &  5.6957603 & 0.1106432 \\\\\n",
       "\tDepressionYes & -198.250   & 49.79646   & -3.9812066 & 0.1566652 \\\\\n",
       "\tSLEYes &  -83.250   & 49.79646   & -1.6718056 & 0.3431777 \\\\\n",
       "\tChildrenYes & -182.250   & 49.79646   & -3.6598987 & 0.1698001 \\\\\n",
       "\tDepressionYes:SLEYes &   74.500   & 57.50000   &  1.2956522 & 0.4184599 \\\\\n",
       "\tDepressionYes:ChildrenYes &  149.500   & 57.50000   &  2.6000000 & 0.2337501 \\\\\n",
       "\tSLEYes:ChildrenYes &   46.500   & 57.50000   &  0.8086957 & 0.5670854 \\\\\n",
       "\\end{tabular}\n"
      ],
      "text/markdown": [
       "\n",
       "| <!--/--> | Estimate | Std. Error | t value | Pr(>|t|) |\n",
       "|---|---|---|---|---|\n",
       "| (Intercept) |  216.625   | 38.03268   |  5.6957603 | 0.1106432  |\n",
       "| DepressionYes | -198.250   | 49.79646   | -3.9812066 | 0.1566652  |\n",
       "| SLEYes |  -83.250   | 49.79646   | -1.6718056 | 0.3431777  |\n",
       "| ChildrenYes | -182.250   | 49.79646   | -3.6598987 | 0.1698001  |\n",
       "| DepressionYes:SLEYes |   74.500   | 57.50000   |  1.2956522 | 0.4184599  |\n",
       "| DepressionYes:ChildrenYes |  149.500   | 57.50000   |  2.6000000 | 0.2337501  |\n",
       "| SLEYes:ChildrenYes |   46.500   | 57.50000   |  0.8086957 | 0.5670854  |\n",
       "\n"
      ],
      "text/plain": [
       "                          Estimate Std. Error t value    Pr(>|t|) \n",
       "(Intercept)                216.625 38.03268    5.6957603 0.1106432\n",
       "DepressionYes             -198.250 49.79646   -3.9812066 0.1566652\n",
       "SLEYes                     -83.250 49.79646   -1.6718056 0.3431777\n",
       "ChildrenYes               -182.250 49.79646   -3.6598987 0.1698001\n",
       "DepressionYes:SLEYes        74.500 57.50000    1.2956522 0.4184599\n",
       "DepressionYes:ChildrenYes  149.500 57.50000    2.6000000 0.2337501\n",
       "SLEYes:ChildrenYes          46.500 57.50000    0.8086957 0.5670854"
      ]
     },
     "metadata": {},
     "output_type": "display_data"
    }
   ],
   "source": [
    "coef(summary(women.no3))"
   ]
  }
 ],
 "metadata": {
  "kernelspec": {
   "display_name": "R",
   "language": "R",
   "name": "ir"
  },
  "language_info": {
   "codemirror_mode": "r",
   "file_extension": ".r",
   "mimetype": "text/x-r-source",
   "name": "R",
   "pygments_lexer": "r",
   "version": "3.6.1"
  },
  "orig_nbformat": 4
 },
 "nbformat": 4,
 "nbformat_minor": 2
}
