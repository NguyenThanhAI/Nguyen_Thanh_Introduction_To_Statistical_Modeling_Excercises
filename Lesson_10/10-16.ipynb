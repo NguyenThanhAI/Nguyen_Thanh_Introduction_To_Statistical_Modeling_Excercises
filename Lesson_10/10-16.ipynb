{
 "cells": [
  {
   "cell_type": "code",
   "execution_count": 1,
   "metadata": {},
   "outputs": [
    {
     "name": "stderr",
     "output_type": "stream",
     "text": [
      "Warning message:\n",
      "\"package 'statmod' was built under R version 3.6.3\""
     ]
    }
   ],
   "source": [
    "library(GLMsData)\n",
    "library(statmod)\n",
    "library(MASS)"
   ]
  },
  {
   "cell_type": "code",
   "execution_count": 2,
   "metadata": {},
   "outputs": [],
   "source": [
    "data(grazing)"
   ]
  },
  {
   "cell_type": "code",
   "execution_count": 3,
   "metadata": {},
   "outputs": [
    {
     "name": "stdout",
     "output_type": "stream",
     "text": [
      "'data.frame':\t62 obs. of  3 variables:\n",
      " $ When  : Factor w/ 2 levels \"After\",\"Before\": 2 2 2 2 2 2 2 2 2 2 ...\n",
      " $ Grazed: Factor w/ 2 levels \"Feral\",\"Reference\": 1 1 1 1 1 1 1 1 1 1 ...\n",
      " $ Birds : int  2 0 0 1 4 2 3 0 1 0 ...\n"
     ]
    }
   ],
   "source": [
    "str(grazing)"
   ]
  },
  {
   "cell_type": "code",
   "execution_count": 4,
   "metadata": {},
   "outputs": [
    {
     "data": {
      "text/html": [
       "<table>\n",
       "<thead><tr><th scope=col>When</th><th scope=col>Grazed</th><th scope=col>Birds</th></tr></thead>\n",
       "<tbody>\n",
       "\t<tr><td>Before   </td><td>Feral    </td><td> 2       </td></tr>\n",
       "\t<tr><td>Before   </td><td>Feral    </td><td> 0       </td></tr>\n",
       "\t<tr><td>Before   </td><td>Feral    </td><td> 0       </td></tr>\n",
       "\t<tr><td>Before   </td><td>Feral    </td><td> 1       </td></tr>\n",
       "\t<tr><td>Before   </td><td>Feral    </td><td> 4       </td></tr>\n",
       "\t<tr><td>Before   </td><td>Feral    </td><td> 2       </td></tr>\n",
       "\t<tr><td>Before   </td><td>Feral    </td><td> 3       </td></tr>\n",
       "\t<tr><td>Before   </td><td>Feral    </td><td> 0       </td></tr>\n",
       "\t<tr><td>Before   </td><td>Feral    </td><td> 1       </td></tr>\n",
       "\t<tr><td>Before   </td><td>Feral    </td><td> 0       </td></tr>\n",
       "\t<tr><td>Before   </td><td>Feral    </td><td> 4       </td></tr>\n",
       "\t<tr><td>Before   </td><td>Feral    </td><td> 0       </td></tr>\n",
       "\t<tr><td>Before   </td><td>Feral    </td><td> 0       </td></tr>\n",
       "\t<tr><td>Before   </td><td>Feral    </td><td> 2       </td></tr>\n",
       "\t<tr><td>Before   </td><td>Feral    </td><td>30       </td></tr>\n",
       "\t<tr><td>Before   </td><td>Feral    </td><td>13       </td></tr>\n",
       "\t<tr><td>Before   </td><td>Feral    </td><td> 0       </td></tr>\n",
       "\t<tr><td>Before   </td><td>Feral    </td><td> 2       </td></tr>\n",
       "\t<tr><td>Before   </td><td>Feral    </td><td> 0       </td></tr>\n",
       "\t<tr><td>Before   </td><td>Feral    </td><td> 1       </td></tr>\n",
       "\t<tr><td>Before   </td><td>Reference</td><td> 0       </td></tr>\n",
       "\t<tr><td>Before   </td><td>Reference</td><td> 3       </td></tr>\n",
       "\t<tr><td>Before   </td><td>Reference</td><td> 1       </td></tr>\n",
       "\t<tr><td>Before   </td><td>Reference</td><td>19       </td></tr>\n",
       "\t<tr><td>Before   </td><td>Reference</td><td> 8       </td></tr>\n",
       "\t<tr><td>Before   </td><td>Reference</td><td>37       </td></tr>\n",
       "\t<tr><td>Before   </td><td>Reference</td><td> 7       </td></tr>\n",
       "\t<tr><td>Before   </td><td>Reference</td><td>10       </td></tr>\n",
       "\t<tr><td>Before   </td><td>Reference</td><td>11       </td></tr>\n",
       "\t<tr><td>Before   </td><td>Reference</td><td> 1       </td></tr>\n",
       "\t<tr><td>...</td><td>...</td><td>...</td></tr>\n",
       "\t<tr><td>After    </td><td>Feral    </td><td> 2       </td></tr>\n",
       "\t<tr><td>After    </td><td>Feral    </td><td> 0       </td></tr>\n",
       "\t<tr><td>After    </td><td>Feral    </td><td>11       </td></tr>\n",
       "\t<tr><td>After    </td><td>Feral    </td><td> 7       </td></tr>\n",
       "\t<tr><td>After    </td><td>Feral    </td><td> 4       </td></tr>\n",
       "\t<tr><td>After    </td><td>Feral    </td><td> 3       </td></tr>\n",
       "\t<tr><td>After    </td><td>Feral    </td><td> 0       </td></tr>\n",
       "\t<tr><td>After    </td><td>Feral    </td><td> 3       </td></tr>\n",
       "\t<tr><td>After    </td><td>Feral    </td><td> 7       </td></tr>\n",
       "\t<tr><td>After    </td><td>Feral    </td><td>17       </td></tr>\n",
       "\t<tr><td>After    </td><td>Feral    </td><td> 7       </td></tr>\n",
       "\t<tr><td>After    </td><td>Feral    </td><td> 0       </td></tr>\n",
       "\t<tr><td>After    </td><td>Feral    </td><td> 7       </td></tr>\n",
       "\t<tr><td>After    </td><td>Feral    </td><td> 4       </td></tr>\n",
       "\t<tr><td>After    </td><td>Feral    </td><td>14       </td></tr>\n",
       "\t<tr><td>After    </td><td>Feral    </td><td> 6       </td></tr>\n",
       "\t<tr><td>After    </td><td>Feral    </td><td> 8       </td></tr>\n",
       "\t<tr><td>After    </td><td>Feral    </td><td>18       </td></tr>\n",
       "\t<tr><td>After    </td><td>Feral    </td><td> 4       </td></tr>\n",
       "\t<tr><td>After    </td><td>Reference</td><td> 1       </td></tr>\n",
       "\t<tr><td>After    </td><td>Reference</td><td>10       </td></tr>\n",
       "\t<tr><td>After    </td><td>Reference</td><td>10       </td></tr>\n",
       "\t<tr><td>After    </td><td>Reference</td><td>29       </td></tr>\n",
       "\t<tr><td>After    </td><td>Reference</td><td>21       </td></tr>\n",
       "\t<tr><td>After    </td><td>Reference</td><td> 5       </td></tr>\n",
       "\t<tr><td>After    </td><td>Reference</td><td> 5       </td></tr>\n",
       "\t<tr><td>After    </td><td>Reference</td><td> 4       </td></tr>\n",
       "\t<tr><td>After    </td><td>Reference</td><td> 4       </td></tr>\n",
       "\t<tr><td>After    </td><td>Reference</td><td> 6       </td></tr>\n",
       "\t<tr><td>After    </td><td>Reference</td><td>15       </td></tr>\n",
       "</tbody>\n",
       "</table>\n"
      ],
      "text/latex": [
       "\\begin{tabular}{r|lll}\n",
       " When & Grazed & Birds\\\\\n",
       "\\hline\n",
       "\t Before    & Feral     &  2       \\\\\n",
       "\t Before    & Feral     &  0       \\\\\n",
       "\t Before    & Feral     &  0       \\\\\n",
       "\t Before    & Feral     &  1       \\\\\n",
       "\t Before    & Feral     &  4       \\\\\n",
       "\t Before    & Feral     &  2       \\\\\n",
       "\t Before    & Feral     &  3       \\\\\n",
       "\t Before    & Feral     &  0       \\\\\n",
       "\t Before    & Feral     &  1       \\\\\n",
       "\t Before    & Feral     &  0       \\\\\n",
       "\t Before    & Feral     &  4       \\\\\n",
       "\t Before    & Feral     &  0       \\\\\n",
       "\t Before    & Feral     &  0       \\\\\n",
       "\t Before    & Feral     &  2       \\\\\n",
       "\t Before    & Feral     & 30       \\\\\n",
       "\t Before    & Feral     & 13       \\\\\n",
       "\t Before    & Feral     &  0       \\\\\n",
       "\t Before    & Feral     &  2       \\\\\n",
       "\t Before    & Feral     &  0       \\\\\n",
       "\t Before    & Feral     &  1       \\\\\n",
       "\t Before    & Reference &  0       \\\\\n",
       "\t Before    & Reference &  3       \\\\\n",
       "\t Before    & Reference &  1       \\\\\n",
       "\t Before    & Reference & 19       \\\\\n",
       "\t Before    & Reference &  8       \\\\\n",
       "\t Before    & Reference & 37       \\\\\n",
       "\t Before    & Reference &  7       \\\\\n",
       "\t Before    & Reference & 10       \\\\\n",
       "\t Before    & Reference & 11       \\\\\n",
       "\t Before    & Reference &  1       \\\\\n",
       "\t ... & ... & ...\\\\\n",
       "\t After     & Feral     &  2       \\\\\n",
       "\t After     & Feral     &  0       \\\\\n",
       "\t After     & Feral     & 11       \\\\\n",
       "\t After     & Feral     &  7       \\\\\n",
       "\t After     & Feral     &  4       \\\\\n",
       "\t After     & Feral     &  3       \\\\\n",
       "\t After     & Feral     &  0       \\\\\n",
       "\t After     & Feral     &  3       \\\\\n",
       "\t After     & Feral     &  7       \\\\\n",
       "\t After     & Feral     & 17       \\\\\n",
       "\t After     & Feral     &  7       \\\\\n",
       "\t After     & Feral     &  0       \\\\\n",
       "\t After     & Feral     &  7       \\\\\n",
       "\t After     & Feral     &  4       \\\\\n",
       "\t After     & Feral     & 14       \\\\\n",
       "\t After     & Feral     &  6       \\\\\n",
       "\t After     & Feral     &  8       \\\\\n",
       "\t After     & Feral     & 18       \\\\\n",
       "\t After     & Feral     &  4       \\\\\n",
       "\t After     & Reference &  1       \\\\\n",
       "\t After     & Reference & 10       \\\\\n",
       "\t After     & Reference & 10       \\\\\n",
       "\t After     & Reference & 29       \\\\\n",
       "\t After     & Reference & 21       \\\\\n",
       "\t After     & Reference &  5       \\\\\n",
       "\t After     & Reference &  5       \\\\\n",
       "\t After     & Reference &  4       \\\\\n",
       "\t After     & Reference &  4       \\\\\n",
       "\t After     & Reference &  6       \\\\\n",
       "\t After     & Reference & 15       \\\\\n",
       "\\end{tabular}\n"
      ],
      "text/markdown": [
       "\n",
       "| When | Grazed | Birds |\n",
       "|---|---|---|\n",
       "| Before    | Feral     |  2        |\n",
       "| Before    | Feral     |  0        |\n",
       "| Before    | Feral     |  0        |\n",
       "| Before    | Feral     |  1        |\n",
       "| Before    | Feral     |  4        |\n",
       "| Before    | Feral     |  2        |\n",
       "| Before    | Feral     |  3        |\n",
       "| Before    | Feral     |  0        |\n",
       "| Before    | Feral     |  1        |\n",
       "| Before    | Feral     |  0        |\n",
       "| Before    | Feral     |  4        |\n",
       "| Before    | Feral     |  0        |\n",
       "| Before    | Feral     |  0        |\n",
       "| Before    | Feral     |  2        |\n",
       "| Before    | Feral     | 30        |\n",
       "| Before    | Feral     | 13        |\n",
       "| Before    | Feral     |  0        |\n",
       "| Before    | Feral     |  2        |\n",
       "| Before    | Feral     |  0        |\n",
       "| Before    | Feral     |  1        |\n",
       "| Before    | Reference |  0        |\n",
       "| Before    | Reference |  3        |\n",
       "| Before    | Reference |  1        |\n",
       "| Before    | Reference | 19        |\n",
       "| Before    | Reference |  8        |\n",
       "| Before    | Reference | 37        |\n",
       "| Before    | Reference |  7        |\n",
       "| Before    | Reference | 10        |\n",
       "| Before    | Reference | 11        |\n",
       "| Before    | Reference |  1        |\n",
       "| ... | ... | ... |\n",
       "| After     | Feral     |  2        |\n",
       "| After     | Feral     |  0        |\n",
       "| After     | Feral     | 11        |\n",
       "| After     | Feral     |  7        |\n",
       "| After     | Feral     |  4        |\n",
       "| After     | Feral     |  3        |\n",
       "| After     | Feral     |  0        |\n",
       "| After     | Feral     |  3        |\n",
       "| After     | Feral     |  7        |\n",
       "| After     | Feral     | 17        |\n",
       "| After     | Feral     |  7        |\n",
       "| After     | Feral     |  0        |\n",
       "| After     | Feral     |  7        |\n",
       "| After     | Feral     |  4        |\n",
       "| After     | Feral     | 14        |\n",
       "| After     | Feral     |  6        |\n",
       "| After     | Feral     |  8        |\n",
       "| After     | Feral     | 18        |\n",
       "| After     | Feral     |  4        |\n",
       "| After     | Reference |  1        |\n",
       "| After     | Reference | 10        |\n",
       "| After     | Reference | 10        |\n",
       "| After     | Reference | 29        |\n",
       "| After     | Reference | 21        |\n",
       "| After     | Reference |  5        |\n",
       "| After     | Reference |  5        |\n",
       "| After     | Reference |  4        |\n",
       "| After     | Reference |  4        |\n",
       "| After     | Reference |  6        |\n",
       "| After     | Reference | 15        |\n",
       "\n"
      ],
      "text/plain": [
       "    When   Grazed    Birds\n",
       "1   Before Feral      2   \n",
       "2   Before Feral      0   \n",
       "3   Before Feral      0   \n",
       "4   Before Feral      1   \n",
       "5   Before Feral      4   \n",
       "6   Before Feral      2   \n",
       "7   Before Feral      3   \n",
       "8   Before Feral      0   \n",
       "9   Before Feral      1   \n",
       "10  Before Feral      0   \n",
       "11  Before Feral      4   \n",
       "12  Before Feral      0   \n",
       "13  Before Feral      0   \n",
       "14  Before Feral      2   \n",
       "15  Before Feral     30   \n",
       "16  Before Feral     13   \n",
       "17  Before Feral      0   \n",
       "18  Before Feral      2   \n",
       "19  Before Feral      0   \n",
       "20  Before Feral      1   \n",
       "21  Before Reference  0   \n",
       "22  Before Reference  3   \n",
       "23  Before Reference  1   \n",
       "24  Before Reference 19   \n",
       "25  Before Reference  8   \n",
       "26  Before Reference 37   \n",
       "27  Before Reference  7   \n",
       "28  Before Reference 10   \n",
       "29  Before Reference 11   \n",
       "30  Before Reference  1   \n",
       "... ...    ...       ...  \n",
       "33  After  Feral      2   \n",
       "34  After  Feral      0   \n",
       "35  After  Feral     11   \n",
       "36  After  Feral      7   \n",
       "37  After  Feral      4   \n",
       "38  After  Feral      3   \n",
       "39  After  Feral      0   \n",
       "40  After  Feral      3   \n",
       "41  After  Feral      7   \n",
       "42  After  Feral     17   \n",
       "43  After  Feral      7   \n",
       "44  After  Feral      0   \n",
       "45  After  Feral      7   \n",
       "46  After  Feral      4   \n",
       "47  After  Feral     14   \n",
       "48  After  Feral      6   \n",
       "49  After  Feral      8   \n",
       "50  After  Feral     18   \n",
       "51  After  Feral      4   \n",
       "52  After  Reference  1   \n",
       "53  After  Reference 10   \n",
       "54  After  Reference 10   \n",
       "55  After  Reference 29   \n",
       "56  After  Reference 21   \n",
       "57  After  Reference  5   \n",
       "58  After  Reference  5   \n",
       "59  After  Reference  4   \n",
       "60  After  Reference  4   \n",
       "61  After  Reference  6   \n",
       "62  After  Reference 15   "
      ]
     },
     "metadata": {},
     "output_type": "display_data"
    }
   ],
   "source": [
    "grazing"
   ]
  },
  {
   "cell_type": "code",
   "execution_count": 6,
   "metadata": {},
   "outputs": [
    {
     "data": {
      "image/png": "[encoded data removed]",
      "text/plain": [
       "plot without title"
      ]
     },
     "metadata": {},
     "output_type": "display_data"
    }
   ],
   "source": [
    "\n",
    "plot(Birds ~ Grazed, data=grazing)\n"
   ]
  },
  {
   "cell_type": "code",
   "execution_count": 7,
   "metadata": {},
   "outputs": [
    {
     "data": {
      "image/png": "[encoded data removed]",
      "text/plain": [
       "plot without title"
      ]
     },
     "metadata": {},
     "output_type": "display_data"
    }
   ],
   "source": [
    "plot(Birds ~ When, data=grazing)"
   ]
  },
  {
   "cell_type": "code",
   "execution_count": 8,
   "metadata": {},
   "outputs": [],
   "source": [
    "glm.1 <- glm(Birds ~ When * Grazed, data=grazing, family = poisson(link=\"log\"))"
   ]
  },
  {
   "cell_type": "code",
   "execution_count": 9,
   "metadata": {},
   "outputs": [
    {
     "data": {
      "text/html": [
       "<table>\n",
       "<thead><tr><th></th><th scope=col>Estimate</th><th scope=col>Std. Error</th><th scope=col>z value</th><th scope=col>Pr(&gt;|z|)</th></tr></thead>\n",
       "<tbody>\n",
       "\t<tr><th scope=row>(Intercept)</th><td> 1.8562980  </td><td>0.08838835  </td><td>21.001614   </td><td>6.339445e-98</td></tr>\n",
       "\t<tr><th scope=row>WhenBefore</th><td>-0.6776430  </td><td>0.15230567  </td><td>-4.449230   </td><td>8.617854e-06</td></tr>\n",
       "\t<tr><th scope=row>GrazedReference</th><td> 0.4462871  </td><td>0.13001311  </td><td> 3.432632   </td><td>5.977539e-04</td></tr>\n",
       "\t<tr><th scope=row>WhenBefore:GrazedReference</th><td> 0.8213497  </td><td>0.20040444  </td><td> 4.098461   </td><td>4.159070e-05</td></tr>\n",
       "</tbody>\n",
       "</table>\n"
      ],
      "text/latex": [
       "\\begin{tabular}{r|llll}\n",
       "  & Estimate & Std. Error & z value & Pr(>\\textbar{}z\\textbar{})\\\\\n",
       "\\hline\n",
       "\t(Intercept) &  1.8562980   & 0.08838835   & 21.001614    & 6.339445e-98\\\\\n",
       "\tWhenBefore & -0.6776430   & 0.15230567   & -4.449230    & 8.617854e-06\\\\\n",
       "\tGrazedReference &  0.4462871   & 0.13001311   &  3.432632    & 5.977539e-04\\\\\n",
       "\tWhenBefore:GrazedReference &  0.8213497   & 0.20040444   &  4.098461    & 4.159070e-05\\\\\n",
       "\\end{tabular}\n"
      ],
      "text/markdown": [
       "\n",
       "| <!--/--> | Estimate | Std. Error | z value | Pr(>|z|) |\n",
       "|---|---|---|---|---|\n",
       "| (Intercept) |  1.8562980   | 0.08838835   | 21.001614    | 6.339445e-98 |\n",
       "| WhenBefore | -0.6776430   | 0.15230567   | -4.449230    | 8.617854e-06 |\n",
       "| GrazedReference |  0.4462871   | 0.13001311   |  3.432632    | 5.977539e-04 |\n",
       "| WhenBefore:GrazedReference |  0.8213497   | 0.20040444   |  4.098461    | 4.159070e-05 |\n",
       "\n"
      ],
      "text/plain": [
       "                           Estimate   Std. Error z value   Pr(>|z|)    \n",
       "(Intercept)                 1.8562980 0.08838835 21.001614 6.339445e-98\n",
       "WhenBefore                 -0.6776430 0.15230567 -4.449230 8.617854e-06\n",
       "GrazedReference             0.4462871 0.13001311  3.432632 5.977539e-04\n",
       "WhenBefore:GrazedReference  0.8213497 0.20040444  4.098461 4.159070e-05"
      ]
     },
     "metadata": {},
     "output_type": "display_data"
    }
   ],
   "source": [
    "coef(summary(glm.1))"
   ]
  },
  {
   "cell_type": "code",
   "execution_count": 10,
   "metadata": {},
   "outputs": [
    {
     "name": "stderr",
     "output_type": "stream",
     "text": [
      "Warning message in anova.glm(glm.1, test = \"F\"):\n",
      "\"using F test with a 'poisson' family is inappropriate\""
     ]
    },
    {
     "data": {
      "text/html": [
       "<table>\n",
       "<thead><tr><th></th><th scope=col>Df</th><th scope=col>Deviance</th><th scope=col>Resid. Df</th><th scope=col>Resid. Dev</th><th scope=col>F</th><th scope=col>Pr(&gt;F)</th></tr></thead>\n",
       "<tbody>\n",
       "\t<tr><th scope=row>NULL</th><td>NA          </td><td>       NA   </td><td>61          </td><td>528.0727    </td><td>       NA   </td><td>          NA</td></tr>\n",
       "\t<tr><th scope=row>When</th><td> 1          </td><td> 4.930359   </td><td>60          </td><td>523.1423    </td><td> 4.930359   </td><td>2.638883e-02</td></tr>\n",
       "\t<tr><th scope=row>Grazed</th><td> 1          </td><td>68.677619   </td><td>59          </td><td>454.4647    </td><td>68.677619   </td><td>1.159494e-16</td></tr>\n",
       "\t<tr><th scope=row>When:Grazed</th><td> 1          </td><td>17.236589   </td><td>58          </td><td>437.2281    </td><td>17.236589   </td><td>3.300188e-05</td></tr>\n",
       "</tbody>\n",
       "</table>\n"
      ],
      "text/latex": [
       "\\begin{tabular}{r|llllll}\n",
       "  & Df & Deviance & Resid. Df & Resid. Dev & F & Pr(>F)\\\\\n",
       "\\hline\n",
       "\tNULL & NA           &        NA    & 61           & 528.0727     &        NA    &           NA\\\\\n",
       "\tWhen &  1           &  4.930359    & 60           & 523.1423     &  4.930359    & 2.638883e-02\\\\\n",
       "\tGrazed &  1           & 68.677619    & 59           & 454.4647     & 68.677619    & 1.159494e-16\\\\\n",
       "\tWhen:Grazed &  1           & 17.236589    & 58           & 437.2281     & 17.236589    & 3.300188e-05\\\\\n",
       "\\end{tabular}\n"
      ],
      "text/markdown": [
       "\n",
       "| <!--/--> | Df | Deviance | Resid. Df | Resid. Dev | F | Pr(>F) |\n",
       "|---|---|---|---|---|---|---|\n",
       "| NULL | NA           |        NA    | 61           | 528.0727     |        NA    |           NA |\n",
       "| When |  1           |  4.930359    | 60           | 523.1423     |  4.930359    | 2.638883e-02 |\n",
       "| Grazed |  1           | 68.677619    | 59           | 454.4647     | 68.677619    | 1.159494e-16 |\n",
       "| When:Grazed |  1           | 17.236589    | 58           | 437.2281     | 17.236589    | 3.300188e-05 |\n",
       "\n"
      ],
      "text/plain": [
       "            Df Deviance  Resid. Df Resid. Dev F         Pr(>F)      \n",
       "NULL        NA        NA 61        528.0727          NA           NA\n",
       "When         1  4.930359 60        523.1423    4.930359 2.638883e-02\n",
       "Grazed       1 68.677619 59        454.4647   68.677619 1.159494e-16\n",
       "When:Grazed  1 17.236589 58        437.2281   17.236589 3.300188e-05"
      ]
     },
     "metadata": {},
     "output_type": "display_data"
    }
   ],
   "source": [
    "anova(glm.1, test=\"F\")"
   ]
  },
  {
   "cell_type": "code",
   "execution_count": 13,
   "metadata": {},
   "outputs": [
    {
     "data": {
      "text/html": [
       "1.39046690650697e-59"
      ],
      "text/latex": [
       "1.39046690650697e-59"
      ],
      "text/markdown": [
       "1.39046690650697e-59"
      ],
      "text/plain": [
       "[1] 1.390467e-59"
      ]
     },
     "metadata": {},
     "output_type": "display_data"
    },
    {
     "data": {
      "text/html": [
       "2.22320556009309e-84"
      ],
      "text/latex": [
       "2.22320556009309e-84"
      ],
      "text/markdown": [
       "2.22320556009309e-84"
      ],
      "text/plain": [
       "[1] 2.223206e-84"
      ]
     },
     "metadata": {},
     "output_type": "display_data"
    },
    {
     "data": {
      "text/html": [
       "7.53841564952343"
      ],
      "text/latex": [
       "7.53841564952343"
      ],
      "text/markdown": [
       "7.53841564952343"
      ],
      "text/plain": [
       "[1] 7.538416"
      ]
     },
     "metadata": {},
     "output_type": "display_data"
    },
    {
     "data": {
      "text/html": [
       "9.75497605396162"
      ],
      "text/latex": [
       "9.75497605396162"
      ],
      "text/markdown": [
       "9.75497605396162"
      ],
      "text/plain": [
       "[1] 9.754976"
      ]
     },
     "metadata": {},
     "output_type": "display_data"
    }
   ],
   "source": [
    "gof.dev <- deviance(glm.1)\n",
    "gof.pearson <- sum(glm.1$weights * glm.1$residuals^2)\n",
    "\n",
    "pchisq(gof.dev, df=df.residual(glm.1), lower.tail = FALSE)\n",
    "pchisq(gof.pearson, df=df.residual(glm.1), lower.tail = FALSE)\n",
    "\n",
    "gof.dev/df.residual(glm.1)\n",
    "gof.pearson/df.residual(glm.1)"
   ]
  },
  {
   "cell_type": "code",
   "execution_count": 14,
   "metadata": {},
   "outputs": [],
   "source": [
    "group.mean <- with( grazing, tapply(Birds, list(When, Grazed), \"var\" ))\n",
    "group.var <- with(grazing, tapply(Birds, list(When, Grazed), \"mean\"))"
   ]
  },
  {
   "cell_type": "code",
   "execution_count": 16,
   "metadata": {},
   "outputs": [
    {
     "data": {
      "image/png": "[encoded data removed]",
      "text/plain": [
       "plot without title"
      ]
     },
     "metadata": {},
     "output_type": "display_data"
    }
   ],
   "source": [
    "plot( log(group.var) ~ log(group.mean), las=1, pch=19,\n",
    "xlab=\"log(group means)\", ylab=\"log(group variance)\")"
   ]
  },
  {
   "cell_type": "code",
   "execution_count": 17,
   "metadata": {},
   "outputs": [
    {
     "data": {
      "text/html": [
       "<dl class=dl-horizontal>\n",
       "\t<dt>(Intercept)</dt>\n",
       "\t\t<dd>-0.0676934708185484</dd>\n",
       "\t<dt>c(log(group.mean))</dt>\n",
       "\t\t<dd>0.488918309455478</dd>\n",
       "</dl>\n"
      ],
      "text/latex": [
       "\\begin{description*}\n",
       "\\item[(Intercept)] -0.0676934708185484\n",
       "\\item[c(log(group.mean))] 0.488918309455478\n",
       "\\end{description*}\n"
      ],
      "text/markdown": [
       "(Intercept)\n",
       ":   -0.0676934708185484c(log(group.mean))\n",
       ":   0.488918309455478\n",
       "\n"
      ],
      "text/plain": [
       "       (Intercept) c(log(group.mean)) \n",
       "       -0.06769347         0.48891831 "
      ]
     },
     "metadata": {},
     "output_type": "display_data"
    }
   ],
   "source": [
    "mf.lm <- lm( c(log(group.var)) ~ c(log(group.mean)) )\n",
    "coef(mf.lm)"
   ]
  },
  {
   "cell_type": "code",
   "execution_count": 18,
   "metadata": {},
   "outputs": [],
   "source": [
    "glm.quasi <- glm(Birds ~ When * Grazed, data=grazing, family = quasipoisson(link=\"log\"))"
   ]
  },
  {
   "cell_type": "code",
   "execution_count": 19,
   "metadata": {},
   "outputs": [
    {
     "data": {
      "text/html": [
       "<table>\n",
       "<thead><tr><th></th><th scope=col>Estimate</th><th scope=col>Std. Error</th><th scope=col>t value</th><th scope=col>Pr(&gt;|t|)</th></tr></thead>\n",
       "<tbody>\n",
       "\t<tr><th scope=row>(Intercept)</th><td> 1.8562980  </td><td>0.2760629   </td><td> 6.724184   </td><td>8.504507e-09</td></tr>\n",
       "\t<tr><th scope=row>WhenBefore</th><td>-0.6776430  </td><td>0.4756956   </td><td>-1.424531   </td><td>1.596515e-01</td></tr>\n",
       "\t<tr><th scope=row>GrazedReference</th><td> 0.4462871  </td><td>0.4060694   </td><td> 1.099041   </td><td>2.762912e-01</td></tr>\n",
       "\t<tr><th scope=row>WhenBefore:GrazedReference</th><td> 0.8213497  </td><td>0.6259223   </td><td> 1.312223   </td><td>1.946145e-01</td></tr>\n",
       "</tbody>\n",
       "</table>\n"
      ],
      "text/latex": [
       "\\begin{tabular}{r|llll}\n",
       "  & Estimate & Std. Error & t value & Pr(>\\textbar{}t\\textbar{})\\\\\n",
       "\\hline\n",
       "\t(Intercept) &  1.8562980   & 0.2760629    &  6.724184    & 8.504507e-09\\\\\n",
       "\tWhenBefore & -0.6776430   & 0.4756956    & -1.424531    & 1.596515e-01\\\\\n",
       "\tGrazedReference &  0.4462871   & 0.4060694    &  1.099041    & 2.762912e-01\\\\\n",
       "\tWhenBefore:GrazedReference &  0.8213497   & 0.6259223    &  1.312223    & 1.946145e-01\\\\\n",
       "\\end{tabular}\n"
      ],
      "text/markdown": [
       "\n",
       "| <!--/--> | Estimate | Std. Error | t value | Pr(>|t|) |\n",
       "|---|---|---|---|---|\n",
       "| (Intercept) |  1.8562980   | 0.2760629    |  6.724184    | 8.504507e-09 |\n",
       "| WhenBefore | -0.6776430   | 0.4756956    | -1.424531    | 1.596515e-01 |\n",
       "| GrazedReference |  0.4462871   | 0.4060694    |  1.099041    | 2.762912e-01 |\n",
       "| WhenBefore:GrazedReference |  0.8213497   | 0.6259223    |  1.312223    | 1.946145e-01 |\n",
       "\n"
      ],
      "text/plain": [
       "                           Estimate   Std. Error t value   Pr(>|t|)    \n",
       "(Intercept)                 1.8562980 0.2760629   6.724184 8.504507e-09\n",
       "WhenBefore                 -0.6776430 0.4756956  -1.424531 1.596515e-01\n",
       "GrazedReference             0.4462871 0.4060694   1.099041 2.762912e-01\n",
       "WhenBefore:GrazedReference  0.8213497 0.6259223   1.312223 1.946145e-01"
      ]
     },
     "metadata": {},
     "output_type": "display_data"
    }
   ],
   "source": [
    "coef(summary(glm.quasi))"
   ]
  },
  {
   "cell_type": "code",
   "execution_count": 20,
   "metadata": {},
   "outputs": [
    {
     "data": {
      "text/html": [
       "<table>\n",
       "<thead><tr><th></th><th scope=col>Df</th><th scope=col>Deviance</th><th scope=col>Resid. Df</th><th scope=col>Resid. Dev</th><th scope=col>F</th><th scope=col>Pr(&gt;F)</th></tr></thead>\n",
       "<tbody>\n",
       "\t<tr><th scope=row>NULL</th><td>NA       </td><td>       NA</td><td>61       </td><td>528.0727 </td><td>       NA</td><td>       NA</td></tr>\n",
       "\t<tr><th scope=row>When</th><td> 1       </td><td> 4.930359</td><td>60       </td><td>523.1423 </td><td>0.5054199</td><td>0.4799776</td></tr>\n",
       "\t<tr><th scope=row>Grazed</th><td> 1       </td><td>68.677619</td><td>59       </td><td>454.4647 </td><td>7.0402653</td><td>0.0102657</td></tr>\n",
       "\t<tr><th scope=row>When:Grazed</th><td> 1       </td><td>17.236589</td><td>58       </td><td>437.2281 </td><td>1.7669535</td><td>0.1889647</td></tr>\n",
       "</tbody>\n",
       "</table>\n"
      ],
      "text/latex": [
       "\\begin{tabular}{r|llllll}\n",
       "  & Df & Deviance & Resid. Df & Resid. Dev & F & Pr(>F)\\\\\n",
       "\\hline\n",
       "\tNULL & NA        &        NA & 61        & 528.0727  &        NA &        NA\\\\\n",
       "\tWhen &  1        &  4.930359 & 60        & 523.1423  & 0.5054199 & 0.4799776\\\\\n",
       "\tGrazed &  1        & 68.677619 & 59        & 454.4647  & 7.0402653 & 0.0102657\\\\\n",
       "\tWhen:Grazed &  1        & 17.236589 & 58        & 437.2281  & 1.7669535 & 0.1889647\\\\\n",
       "\\end{tabular}\n"
      ],
      "text/markdown": [
       "\n",
       "| <!--/--> | Df | Deviance | Resid. Df | Resid. Dev | F | Pr(>F) |\n",
       "|---|---|---|---|---|---|---|\n",
       "| NULL | NA        |        NA | 61        | 528.0727  |        NA |        NA |\n",
       "| When |  1        |  4.930359 | 60        | 523.1423  | 0.5054199 | 0.4799776 |\n",
       "| Grazed |  1        | 68.677619 | 59        | 454.4647  | 7.0402653 | 0.0102657 |\n",
       "| When:Grazed |  1        | 17.236589 | 58        | 437.2281  | 1.7669535 | 0.1889647 |\n",
       "\n"
      ],
      "text/plain": [
       "            Df Deviance  Resid. Df Resid. Dev F         Pr(>F)   \n",
       "NULL        NA        NA 61        528.0727          NA        NA\n",
       "When         1  4.930359 60        523.1423   0.5054199 0.4799776\n",
       "Grazed       1 68.677619 59        454.4647   7.0402653 0.0102657\n",
       "When:Grazed  1 17.236589 58        437.2281   1.7669535 0.1889647"
      ]
     },
     "metadata": {},
     "output_type": "display_data"
    }
   ],
   "source": [
    "anova(glm.quasi, test=\"F\")"
   ]
  },
  {
   "cell_type": "code",
   "execution_count": 21,
   "metadata": {},
   "outputs": [
    {
     "data": {
      "text/html": [
       "1.39046690650697e-59"
      ],
      "text/latex": [
       "1.39046690650697e-59"
      ],
      "text/markdown": [
       "1.39046690650697e-59"
      ],
      "text/plain": [
       "[1] 1.390467e-59"
      ]
     },
     "metadata": {},
     "output_type": "display_data"
    },
    {
     "data": {
      "text/html": [
       "2.22320556009499e-84"
      ],
      "text/latex": [
       "2.22320556009499e-84"
      ],
      "text/markdown": [
       "2.22320556009499e-84"
      ],
      "text/plain": [
       "[1] 2.223206e-84"
      ]
     },
     "metadata": {},
     "output_type": "display_data"
    },
    {
     "data": {
      "text/html": [
       "7.53841564952343"
      ],
      "text/latex": [
       "7.53841564952343"
      ],
      "text/markdown": [
       "7.53841564952343"
      ],
      "text/plain": [
       "[1] 7.538416"
      ]
     },
     "metadata": {},
     "output_type": "display_data"
    },
    {
     "data": {
      "text/html": [
       "9.75497605396158"
      ],
      "text/latex": [
       "9.75497605396158"
      ],
      "text/markdown": [
       "9.75497605396158"
      ],
      "text/plain": [
       "[1] 9.754976"
      ]
     },
     "metadata": {},
     "output_type": "display_data"
    }
   ],
   "source": [
    "gof.dev <- deviance(glm.quasi)\n",
    "gof.pearson <- sum(glm.quasi$weights * glm.quasi$residuals^2)\n",
    "\n",
    "pchisq(gof.dev, df=df.residual(glm.quasi), lower.tail = FALSE)\n",
    "pchisq(gof.pearson, df=df.residual(glm.quasi), lower.tail = FALSE)\n",
    "\n",
    "gof.dev/df.residual(glm.quasi)\n",
    "gof.pearson/df.residual(glm.quasi)"
   ]
  },
  {
   "cell_type": "code",
   "execution_count": 23,
   "metadata": {},
   "outputs": [
    {
     "data": {
      "text/plain": [
       "\n",
       "\tShapiro-Wilk normality test\n",
       "\n",
       "data:  qresid(glm.quasi)\n",
       "W = 0.9138, p-value = 0.0003466\n"
      ]
     },
     "metadata": {},
     "output_type": "display_data"
    },
    {
     "data": {
      "image/png": "[encoded data removed]",
      "text/plain": [
       "Plot with title \"Normal Q-Q Plot\""
      ]
     },
     "metadata": {},
     "output_type": "display_data"
    }
   ],
   "source": [
    "par(mfrow=c(3, 3))\n",
    "\n",
    "scatter.smooth(rstandard(glm.quasi) ~ sqrt(fitted(glm.quasi)))\n",
    "z <- resid(glm.quasi, type=\"working\") + glm.quasi$linear.predictor\n",
    "scatter.smooth(z ~ glm.quasi$linear.predictor)\n",
    "qqnorm(qresid(glm.quasi))\n",
    "qqline(qresid(glm.quasi))\n",
    "shapiro.test(qresid(glm.quasi))"
   ]
  },
  {
   "cell_type": "code",
   "execution_count": 24,
   "metadata": {},
   "outputs": [],
   "source": [
    "glm.negbi <- glm.nb(Birds ~ When * Grazed, data=grazing)\n",
    "glm.negbi <- glm.convert(glm.negbi)"
   ]
  },
  {
   "cell_type": "code",
   "execution_count": 25,
   "metadata": {},
   "outputs": [
    {
     "data": {
      "text/html": [
       "<table>\n",
       "<thead><tr><th></th><th scope=col>Estimate</th><th scope=col>Std. Error</th><th scope=col>t value</th><th scope=col>Pr(&gt;|t|)</th></tr></thead>\n",
       "<tbody>\n",
       "\t<tr><th scope=row>(Intercept)</th><td> 1.8562980  </td><td>0.3076973   </td><td> 6.0328698  </td><td>1.202963e-07</td></tr>\n",
       "\t<tr><th scope=row>WhenBefore</th><td>-0.6776430  </td><td>0.4477524   </td><td>-1.5134325  </td><td>1.356004e-01</td></tr>\n",
       "\t<tr><th scope=row>GrazedReference</th><td> 0.4462871  </td><td>0.5092196   </td><td> 0.8764139  </td><td>3.844206e-01</td></tr>\n",
       "\t<tr><th scope=row>WhenBefore:GrazedReference</th><td> 0.8213497  </td><td>0.7266002   </td><td> 1.1304011  </td><td>2.629602e-01</td></tr>\n",
       "</tbody>\n",
       "</table>\n"
      ],
      "text/latex": [
       "\\begin{tabular}{r|llll}\n",
       "  & Estimate & Std. Error & t value & Pr(>\\textbar{}t\\textbar{})\\\\\n",
       "\\hline\n",
       "\t(Intercept) &  1.8562980   & 0.3076973    &  6.0328698   & 1.202963e-07\\\\\n",
       "\tWhenBefore & -0.6776430   & 0.4477524    & -1.5134325   & 1.356004e-01\\\\\n",
       "\tGrazedReference &  0.4462871   & 0.5092196    &  0.8764139   & 3.844206e-01\\\\\n",
       "\tWhenBefore:GrazedReference &  0.8213497   & 0.7266002    &  1.1304011   & 2.629602e-01\\\\\n",
       "\\end{tabular}\n"
      ],
      "text/markdown": [
       "\n",
       "| <!--/--> | Estimate | Std. Error | t value | Pr(>|t|) |\n",
       "|---|---|---|---|---|\n",
       "| (Intercept) |  1.8562980   | 0.3076973    |  6.0328698   | 1.202963e-07 |\n",
       "| WhenBefore | -0.6776430   | 0.4477524    | -1.5134325   | 1.356004e-01 |\n",
       "| GrazedReference |  0.4462871   | 0.5092196    |  0.8764139   | 3.844206e-01 |\n",
       "| WhenBefore:GrazedReference |  0.8213497   | 0.7266002    |  1.1304011   | 2.629602e-01 |\n",
       "\n"
      ],
      "text/plain": [
       "                           Estimate   Std. Error t value    Pr(>|t|)    \n",
       "(Intercept)                 1.8562980 0.3076973   6.0328698 1.202963e-07\n",
       "WhenBefore                 -0.6776430 0.4477524  -1.5134325 1.356004e-01\n",
       "GrazedReference             0.4462871 0.5092196   0.8764139 3.844206e-01\n",
       "WhenBefore:GrazedReference  0.8213497 0.7266002   1.1304011 2.629602e-01"
      ]
     },
     "metadata": {},
     "output_type": "display_data"
    }
   ],
   "source": [
    "coef(summary(glm.negbi))"
   ]
  },
  {
   "cell_type": "code",
   "execution_count": 26,
   "metadata": {},
   "outputs": [
    {
     "data": {
      "text/html": [
       "<table>\n",
       "<thead><tr><th></th><th scope=col>Df</th><th scope=col>Deviance</th><th scope=col>Resid. Df</th><th scope=col>Resid. Dev</th><th scope=col>F</th><th scope=col>Pr(&gt;F)</th></tr></thead>\n",
       "<tbody>\n",
       "\t<tr><th scope=row>NULL</th><td>NA        </td><td>       NA </td><td>61        </td><td>82.36657  </td><td>       NA </td><td>        NA</td></tr>\n",
       "\t<tr><th scope=row>When</th><td> 1        </td><td>0.5586739 </td><td>60        </td><td>81.80790  </td><td>0.3801915 </td><td>0.53991354</td></tr>\n",
       "\t<tr><th scope=row>Grazed</th><td> 1        </td><td>8.5648478 </td><td>59        </td><td>73.24305  </td><td>5.8285921 </td><td>0.01894388</td></tr>\n",
       "\t<tr><th scope=row>When:Grazed</th><td> 1        </td><td>1.8668798 </td><td>58        </td><td>71.37617  </td><td>1.2704581 </td><td>0.26432236</td></tr>\n",
       "</tbody>\n",
       "</table>\n"
      ],
      "text/latex": [
       "\\begin{tabular}{r|llllll}\n",
       "  & Df & Deviance & Resid. Df & Resid. Dev & F & Pr(>F)\\\\\n",
       "\\hline\n",
       "\tNULL & NA         &        NA  & 61         & 82.36657   &        NA  &         NA\\\\\n",
       "\tWhen &  1         & 0.5586739  & 60         & 81.80790   & 0.3801915  & 0.53991354\\\\\n",
       "\tGrazed &  1         & 8.5648478  & 59         & 73.24305   & 5.8285921  & 0.01894388\\\\\n",
       "\tWhen:Grazed &  1         & 1.8668798  & 58         & 71.37617   & 1.2704581  & 0.26432236\\\\\n",
       "\\end{tabular}\n"
      ],
      "text/markdown": [
       "\n",
       "| <!--/--> | Df | Deviance | Resid. Df | Resid. Dev | F | Pr(>F) |\n",
       "|---|---|---|---|---|---|---|\n",
       "| NULL | NA         |        NA  | 61         | 82.36657   |        NA  |         NA |\n",
       "| When |  1         | 0.5586739  | 60         | 81.80790   | 0.3801915  | 0.53991354 |\n",
       "| Grazed |  1         | 8.5648478  | 59         | 73.24305   | 5.8285921  | 0.01894388 |\n",
       "| When:Grazed |  1         | 1.8668798  | 58         | 71.37617   | 1.2704581  | 0.26432236 |\n",
       "\n"
      ],
      "text/plain": [
       "            Df Deviance  Resid. Df Resid. Dev F         Pr(>F)    \n",
       "NULL        NA        NA 61        82.36657          NA         NA\n",
       "When         1 0.5586739 60        81.80790   0.3801915 0.53991354\n",
       "Grazed       1 8.5648478 59        73.24305   5.8285921 0.01894388\n",
       "When:Grazed  1 1.8668798 58        71.37617   1.2704581 0.26432236"
      ]
     },
     "metadata": {},
     "output_type": "display_data"
    }
   ],
   "source": [
    "anova(glm.negbi, test=\"F\")"
   ]
  },
  {
   "cell_type": "code",
   "execution_count": 27,
   "metadata": {},
   "outputs": [
    {
     "data": {
      "text/html": [
       "0.111535521338861"
      ],
      "text/latex": [
       "0.111535521338861"
      ],
      "text/markdown": [
       "0.111535521338861"
      ],
      "text/plain": [
       "[1] 0.1115355"
      ]
     },
     "metadata": {},
     "output_type": "display_data"
    },
    {
     "data": {
      "text/html": [
       "0.0114687495710091"
      ],
      "text/latex": [
       "0.0114687495710091"
      ],
      "text/markdown": [
       "0.0114687495710091"
      ],
      "text/plain": [
       "[1] 0.01146875"
      ]
     },
     "metadata": {},
     "output_type": "display_data"
    },
    {
     "data": {
      "text/html": [
       "1.23062365436002"
      ],
      "text/latex": [
       "1.23062365436002"
      ],
      "text/markdown": [
       "1.23062365436002"
      ],
      "text/plain": [
       "[1] 1.230624"
      ]
     },
     "metadata": {},
     "output_type": "display_data"
    },
    {
     "data": {
      "text/html": [
       "1.46945397463226"
      ],
      "text/latex": [
       "1.46945397463226"
      ],
      "text/markdown": [
       "1.46945397463226"
      ],
      "text/plain": [
       "[1] 1.469454"
      ]
     },
     "metadata": {},
     "output_type": "display_data"
    }
   ],
   "source": [
    "gof.dev <- deviance(glm.negbi)\n",
    "gof.pearson <- sum(glm.negbi$weights * glm.negbi$residuals^2)\n",
    "\n",
    "pchisq(gof.dev, df=df.residual(glm.negbi), lower.tail = FALSE)\n",
    "pchisq(gof.pearson, df=df.residual(glm.negbi), lower.tail = FALSE)\n",
    "\n",
    "gof.dev / df.residual(glm.negbi)\n",
    "gof.pearson / df.residual(glm.negbi)"
   ]
  },
  {
   "cell_type": "code",
   "execution_count": 28,
   "metadata": {},
   "outputs": [
    {
     "data": {
      "text/plain": [
       "\n",
       "\tShapiro-Wilk normality test\n",
       "\n",
       "data:  qresid(glm.negbi)\n",
       "W = 0.97789, p-value = 0.3251\n"
      ]
     },
     "metadata": {},
     "output_type": "display_data"
    },
    {
     "data": {
      "image/png": "[encoded data removed]",
      "text/plain": [
       "Plot with title \"Normal Q-Q Plot\""
      ]
     },
     "metadata": {},
     "output_type": "display_data"
    }
   ],
   "source": [
    "par(mfrow=c(3, 3))\n",
    "\n",
    "scatter.smooth(rstandard(glm.negbi) ~ sqrt(fitted(glm.negbi)))\n",
    "z <- resid(glm.negbi, type=\"working\") + glm.negbi$linear.predictor\n",
    "scatter.smooth(z ~ glm.negbi$linear.predictor)\n",
    "qqnorm(qresid(glm.negbi))\n",
    "qqline(qresid(glm.negbi))\n",
    "shapiro.test(qresid(glm.negbi))"
   ]
  },
  {
   "cell_type": "code",
   "execution_count": 29,
   "metadata": {},
   "outputs": [
    {
     "data": {
      "text/html": [
       "<ol class=list-inline>\n",
       "\t<li>4</li>\n",
       "\t<li>624.659875850998</li>\n",
       "</ol>\n"
      ],
      "text/latex": [
       "\\begin{enumerate*}\n",
       "\\item 4\n",
       "\\item 624.659875850998\n",
       "\\end{enumerate*}\n"
      ],
      "text/markdown": [
       "1. 4\n",
       "2. 624.659875850998\n",
       "\n",
       "\n"
      ],
      "text/plain": [
       "[1]   4.0000 624.6599"
      ]
     },
     "metadata": {},
     "output_type": "display_data"
    },
    {
     "data": {
      "text/html": [
       "<ol class=list-inline>\n",
       "\t<li>4</li>\n",
       "\t<li>&lt;NA&gt;</li>\n",
       "</ol>\n"
      ],
      "text/latex": [
       "\\begin{enumerate*}\n",
       "\\item 4\n",
       "\\item <NA>\n",
       "\\end{enumerate*}\n"
      ],
      "text/markdown": [
       "1. 4\n",
       "2. &lt;NA&gt;\n",
       "\n",
       "\n"
      ],
      "text/plain": [
       "[1]  4 NA"
      ]
     },
     "metadata": {},
     "output_type": "display_data"
    },
    {
     "data": {
      "text/html": [
       "<ol class=list-inline>\n",
       "\t<li>4</li>\n",
       "\t<li>370.123968207287</li>\n",
       "</ol>\n"
      ],
      "text/latex": [
       "\\begin{enumerate*}\n",
       "\\item 4\n",
       "\\item 370.123968207287\n",
       "\\end{enumerate*}\n"
      ],
      "text/markdown": [
       "1. 4\n",
       "2. 370.123968207287\n",
       "\n",
       "\n"
      ],
      "text/plain": [
       "[1]   4.000 370.124"
      ]
     },
     "metadata": {},
     "output_type": "display_data"
    }
   ],
   "source": [
    "extractAIC(glm.1)\n",
    "extractAIC(glm.quasi)\n",
    "extractAIC(glm.negbi)"
   ]
  }
 ],
 "metadata": {
  "kernelspec": {
   "display_name": "R",
   "language": "R",
   "name": "ir"
  },
  "language_info": {
   "codemirror_mode": "r",
   "file_extension": ".r",
   "mimetype": "text/x-r-source",
   "name": "R",
   "pygments_lexer": "r",
   "version": "3.6.1"
  },
  "orig_nbformat": 4
 },
 "nbformat": 4,
 "nbformat_minor": 2
}
