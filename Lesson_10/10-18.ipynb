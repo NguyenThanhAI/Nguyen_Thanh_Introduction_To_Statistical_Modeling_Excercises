{
 "cells": [
  {
   "cell_type": "code",
   "execution_count": 1,
   "metadata": {},
   "outputs": [
    {
     "name": "stderr",
     "output_type": "stream",
     "text": [
      "Warning message:\n",
      "\"package 'statmod' was built under R version 3.6.3\""
     ]
    }
   ],
   "source": [
    "library(GLMsData)\n",
    "library(statmod)\n",
    "library(MASS)"
   ]
  },
  {
   "cell_type": "code",
   "execution_count": 2,
   "metadata": {},
   "outputs": [],
   "source": [
    "data(ccancer)"
   ]
  },
  {
   "cell_type": "code",
   "execution_count": 3,
   "metadata": {},
   "outputs": [
    {
     "name": "stdout",
     "output_type": "stream",
     "text": [
      "'data.frame':\t30 obs. of  5 variables:\n",
      " $ Count     : int  3500 1250 0 1600 540 2400 1050 2100 0 590 ...\n",
      " $ Gender    : Factor w/ 2 levels \"F\",\"M\": 2 2 2 2 2 1 1 1 1 1 ...\n",
      " $ Region    : Factor w/ 3 levels \"Newfoundland\",..: 2 2 2 2 2 2 2 2 2 2 ...\n",
      " $ Site      : Factor w/ 5 levels \"Breast\",\"Colorectal\",..: 3 2 1 5 4 3 2 1 5 4 ...\n",
      " $ Population: int  11874400 11874400 11874400 11874400 11874400 11874400 11874400 11874400 11874400 11874400 ...\n"
     ]
    }
   ],
   "source": [
    "str(ccancer)"
   ]
  },
  {
   "cell_type": "markdown",
   "metadata": {},
   "source": [
    "# Nho phai them Zeros Sampling"
   ]
  },
  {
   "cell_type": "code",
   "execution_count": 4,
   "metadata": {},
   "outputs": [
    {
     "data": {
      "text/html": [
       "<table>\n",
       "<thead><tr><th scope=col>Count</th><th scope=col>Gender</th><th scope=col>Region</th><th scope=col>Site</th><th scope=col>Population</th></tr></thead>\n",
       "<tbody>\n",
       "\t<tr><td>3500        </td><td>M           </td><td>Ontario     </td><td>Lung        </td><td>11874400    </td></tr>\n",
       "\t<tr><td>1250        </td><td>M           </td><td>Ontario     </td><td>Colorectal  </td><td>11874400    </td></tr>\n",
       "\t<tr><td>   0        </td><td>M           </td><td>Ontario     </td><td>Breast      </td><td>11874400    </td></tr>\n",
       "\t<tr><td>1600        </td><td>M           </td><td>Ontario     </td><td>Prostate    </td><td>11874400    </td></tr>\n",
       "\t<tr><td> 540        </td><td>M           </td><td>Ontario     </td><td>Pancreas    </td><td>11874400    </td></tr>\n",
       "\t<tr><td>2400        </td><td>F           </td><td>Ontario     </td><td>Lung        </td><td>11874400    </td></tr>\n",
       "\t<tr><td>1050        </td><td>F           </td><td>Ontario     </td><td>Colorectal  </td><td>11874400    </td></tr>\n",
       "\t<tr><td>2100        </td><td>F           </td><td>Ontario     </td><td>Breast      </td><td>11874400    </td></tr>\n",
       "\t<tr><td>   0        </td><td>F           </td><td>Ontario     </td><td>Prostate    </td><td>11874400    </td></tr>\n",
       "\t<tr><td> 590        </td><td>F           </td><td>Ontario     </td><td>Pancreas    </td><td>11874400    </td></tr>\n",
       "\t<tr><td> 240        </td><td>M           </td><td>Newfoundland</td><td>Lung        </td><td>  533800    </td></tr>\n",
       "\t<tr><td>  60        </td><td>M           </td><td>Newfoundland</td><td>Colorectal  </td><td>  533800    </td></tr>\n",
       "\t<tr><td>   0        </td><td>M           </td><td>Newfoundland</td><td>Breast      </td><td>  533800    </td></tr>\n",
       "\t<tr><td>  80        </td><td>M           </td><td>Newfoundland</td><td>Prostate    </td><td>  533800    </td></tr>\n",
       "\t<tr><td>  20        </td><td>M           </td><td>Newfoundland</td><td>Pancreas    </td><td>  533800    </td></tr>\n",
       "\t<tr><td>  95        </td><td>F           </td><td>Newfoundland</td><td>Lung        </td><td>  533800    </td></tr>\n",
       "\t<tr><td>  50        </td><td>F           </td><td>Newfoundland</td><td>Colorectal  </td><td>  533800    </td></tr>\n",
       "\t<tr><td>  95        </td><td>F           </td><td>Newfoundland</td><td>Breast      </td><td>  533800    </td></tr>\n",
       "\t<tr><td>   0        </td><td>F           </td><td>Newfoundland</td><td>Prostate    </td><td>  533800    </td></tr>\n",
       "\t<tr><td>  25        </td><td>F           </td><td>Newfoundland</td><td>Pancreas    </td><td>  533800    </td></tr>\n",
       "\t<tr><td>3500        </td><td>M           </td><td>Quebec      </td><td>Lung        </td><td> 7410500    </td></tr>\n",
       "\t<tr><td>1100        </td><td>M           </td><td>Quebec      </td><td>Colorectal  </td><td> 7410500    </td></tr>\n",
       "\t<tr><td>   0        </td><td>M           </td><td>Quebec      </td><td>Breast      </td><td> 7410500    </td></tr>\n",
       "\t<tr><td> 900        </td><td>M           </td><td>Quebec      </td><td>Prostate    </td><td> 7410500    </td></tr>\n",
       "\t<tr><td> 390        </td><td>M           </td><td>Quebec      </td><td>Pancreas    </td><td> 7410500    </td></tr>\n",
       "\t<tr><td>2000        </td><td>F           </td><td>Quebec      </td><td>Lung        </td><td> 7410500    </td></tr>\n",
       "\t<tr><td>1000        </td><td>F           </td><td>Quebec      </td><td>Colorectal  </td><td> 7410500    </td></tr>\n",
       "\t<tr><td>1450        </td><td>F           </td><td>Quebec      </td><td>Breast      </td><td> 7410500    </td></tr>\n",
       "\t<tr><td>   0        </td><td>F           </td><td>Quebec      </td><td>Prostate    </td><td> 7410500    </td></tr>\n",
       "\t<tr><td> 410        </td><td>F           </td><td>Quebec      </td><td>Pancreas    </td><td> 7410500    </td></tr>\n",
       "</tbody>\n",
       "</table>\n"
      ],
      "text/latex": [
       "\\begin{tabular}{r|lllll}\n",
       " Count & Gender & Region & Site & Population\\\\\n",
       "\\hline\n",
       "\t 3500         & M            & Ontario      & Lung         & 11874400    \\\\\n",
       "\t 1250         & M            & Ontario      & Colorectal   & 11874400    \\\\\n",
       "\t    0         & M            & Ontario      & Breast       & 11874400    \\\\\n",
       "\t 1600         & M            & Ontario      & Prostate     & 11874400    \\\\\n",
       "\t  540         & M            & Ontario      & Pancreas     & 11874400    \\\\\n",
       "\t 2400         & F            & Ontario      & Lung         & 11874400    \\\\\n",
       "\t 1050         & F            & Ontario      & Colorectal   & 11874400    \\\\\n",
       "\t 2100         & F            & Ontario      & Breast       & 11874400    \\\\\n",
       "\t    0         & F            & Ontario      & Prostate     & 11874400    \\\\\n",
       "\t  590         & F            & Ontario      & Pancreas     & 11874400    \\\\\n",
       "\t  240         & M            & Newfoundland & Lung         &   533800    \\\\\n",
       "\t   60         & M            & Newfoundland & Colorectal   &   533800    \\\\\n",
       "\t    0         & M            & Newfoundland & Breast       &   533800    \\\\\n",
       "\t   80         & M            & Newfoundland & Prostate     &   533800    \\\\\n",
       "\t   20         & M            & Newfoundland & Pancreas     &   533800    \\\\\n",
       "\t   95         & F            & Newfoundland & Lung         &   533800    \\\\\n",
       "\t   50         & F            & Newfoundland & Colorectal   &   533800    \\\\\n",
       "\t   95         & F            & Newfoundland & Breast       &   533800    \\\\\n",
       "\t    0         & F            & Newfoundland & Prostate     &   533800    \\\\\n",
       "\t   25         & F            & Newfoundland & Pancreas     &   533800    \\\\\n",
       "\t 3500         & M            & Quebec       & Lung         &  7410500    \\\\\n",
       "\t 1100         & M            & Quebec       & Colorectal   &  7410500    \\\\\n",
       "\t    0         & M            & Quebec       & Breast       &  7410500    \\\\\n",
       "\t  900         & M            & Quebec       & Prostate     &  7410500    \\\\\n",
       "\t  390         & M            & Quebec       & Pancreas     &  7410500    \\\\\n",
       "\t 2000         & F            & Quebec       & Lung         &  7410500    \\\\\n",
       "\t 1000         & F            & Quebec       & Colorectal   &  7410500    \\\\\n",
       "\t 1450         & F            & Quebec       & Breast       &  7410500    \\\\\n",
       "\t    0         & F            & Quebec       & Prostate     &  7410500    \\\\\n",
       "\t  410         & F            & Quebec       & Pancreas     &  7410500    \\\\\n",
       "\\end{tabular}\n"
      ],
      "text/markdown": [
       "\n",
       "| Count | Gender | Region | Site | Population |\n",
       "|---|---|---|---|---|\n",
       "| 3500         | M            | Ontario      | Lung         | 11874400     |\n",
       "| 1250         | M            | Ontario      | Colorectal   | 11874400     |\n",
       "|    0         | M            | Ontario      | Breast       | 11874400     |\n",
       "| 1600         | M            | Ontario      | Prostate     | 11874400     |\n",
       "|  540         | M            | Ontario      | Pancreas     | 11874400     |\n",
       "| 2400         | F            | Ontario      | Lung         | 11874400     |\n",
       "| 1050         | F            | Ontario      | Colorectal   | 11874400     |\n",
       "| 2100         | F            | Ontario      | Breast       | 11874400     |\n",
       "|    0         | F            | Ontario      | Prostate     | 11874400     |\n",
       "|  590         | F            | Ontario      | Pancreas     | 11874400     |\n",
       "|  240         | M            | Newfoundland | Lung         |   533800     |\n",
       "|   60         | M            | Newfoundland | Colorectal   |   533800     |\n",
       "|    0         | M            | Newfoundland | Breast       |   533800     |\n",
       "|   80         | M            | Newfoundland | Prostate     |   533800     |\n",
       "|   20         | M            | Newfoundland | Pancreas     |   533800     |\n",
       "|   95         | F            | Newfoundland | Lung         |   533800     |\n",
       "|   50         | F            | Newfoundland | Colorectal   |   533800     |\n",
       "|   95         | F            | Newfoundland | Breast       |   533800     |\n",
       "|    0         | F            | Newfoundland | Prostate     |   533800     |\n",
       "|   25         | F            | Newfoundland | Pancreas     |   533800     |\n",
       "| 3500         | M            | Quebec       | Lung         |  7410500     |\n",
       "| 1100         | M            | Quebec       | Colorectal   |  7410500     |\n",
       "|    0         | M            | Quebec       | Breast       |  7410500     |\n",
       "|  900         | M            | Quebec       | Prostate     |  7410500     |\n",
       "|  390         | M            | Quebec       | Pancreas     |  7410500     |\n",
       "| 2000         | F            | Quebec       | Lung         |  7410500     |\n",
       "| 1000         | F            | Quebec       | Colorectal   |  7410500     |\n",
       "| 1450         | F            | Quebec       | Breast       |  7410500     |\n",
       "|    0         | F            | Quebec       | Prostate     |  7410500     |\n",
       "|  410         | F            | Quebec       | Pancreas     |  7410500     |\n",
       "\n"
      ],
      "text/plain": [
       "   Count Gender Region       Site       Population\n",
       "1  3500  M      Ontario      Lung       11874400  \n",
       "2  1250  M      Ontario      Colorectal 11874400  \n",
       "3     0  M      Ontario      Breast     11874400  \n",
       "4  1600  M      Ontario      Prostate   11874400  \n",
       "5   540  M      Ontario      Pancreas   11874400  \n",
       "6  2400  F      Ontario      Lung       11874400  \n",
       "7  1050  F      Ontario      Colorectal 11874400  \n",
       "8  2100  F      Ontario      Breast     11874400  \n",
       "9     0  F      Ontario      Prostate   11874400  \n",
       "10  590  F      Ontario      Pancreas   11874400  \n",
       "11  240  M      Newfoundland Lung         533800  \n",
       "12   60  M      Newfoundland Colorectal   533800  \n",
       "13    0  M      Newfoundland Breast       533800  \n",
       "14   80  M      Newfoundland Prostate     533800  \n",
       "15   20  M      Newfoundland Pancreas     533800  \n",
       "16   95  F      Newfoundland Lung         533800  \n",
       "17   50  F      Newfoundland Colorectal   533800  \n",
       "18   95  F      Newfoundland Breast       533800  \n",
       "19    0  F      Newfoundland Prostate     533800  \n",
       "20   25  F      Newfoundland Pancreas     533800  \n",
       "21 3500  M      Quebec       Lung        7410500  \n",
       "22 1100  M      Quebec       Colorectal  7410500  \n",
       "23    0  M      Quebec       Breast      7410500  \n",
       "24  900  M      Quebec       Prostate    7410500  \n",
       "25  390  M      Quebec       Pancreas    7410500  \n",
       "26 2000  F      Quebec       Lung        7410500  \n",
       "27 1000  F      Quebec       Colorectal  7410500  \n",
       "28 1450  F      Quebec       Breast      7410500  \n",
       "29    0  F      Quebec       Prostate    7410500  \n",
       "30  410  F      Quebec       Pancreas    7410500  "
      ]
     },
     "metadata": {},
     "output_type": "display_data"
    }
   ],
   "source": [
    "ccancer"
   ]
  },
  {
   "cell_type": "code",
   "execution_count": 5,
   "metadata": {},
   "outputs": [
    {
     "data": {
      "image/png": "[encoded data removed]",
      "text/plain": [
       "plot without title"
      ]
     },
     "metadata": {},
     "output_type": "display_data"
    },
    {
     "data": {
      "image/png": "[encoded data removed]",
      "text/plain": [
       "plot without title"
      ]
     },
     "metadata": {},
     "output_type": "display_data"
    },
    {
     "data": {
      "image/png": "[encoded data removed]",
      "text/plain": [
       "plot without title"
      ]
     },
     "metadata": {},
     "output_type": "display_data"
    }
   ],
   "source": [
    "plot((Count/Population)*1000 ~ Gender, data=ccancer, pch=ifelse(Gender==\"M\", 1, 19))\n",
    "plot((Count/Population)*1000 ~ Region, data=ccancer)\n",
    "plot((Count/Population)*1000 ~ Site, data=ccancer)"
   ]
  },
  {
   "cell_type": "markdown",
   "metadata": {},
   "source": [
    "Y hai chua ro :("
   ]
  },
  {
   "cell_type": "code",
   "execution_count": 6,
   "metadata": {},
   "outputs": [],
   "source": [
    "glm.1 <- glm(Count ~ offset(log(Population)) + Gender + Region + Site, data=ccancer, family = poisson(link=\"log\"))"
   ]
  },
  {
   "cell_type": "code",
   "execution_count": 7,
   "metadata": {},
   "outputs": [
    {
     "data": {
      "text/html": [
       "<table>\n",
       "<thead><tr><th></th><th scope=col>Estimate</th><th scope=col>Std. Error</th><th scope=col>z value</th><th scope=col>Pr(&gt;|z|)</th></tr></thead>\n",
       "<tbody>\n",
       "\t<tr><th scope=row>(Intercept)</th><td>-9.3657839   </td><td>0.04224999   </td><td>-221.675398  </td><td> 0.000000e+00</td></tr>\n",
       "\t<tr><th scope=row>GenderM</th><td> 0.1570000   </td><td>0.01283133   </td><td>  12.235672  </td><td> 2.004395e-34</td></tr>\n",
       "\t<tr><th scope=row>RegionOntario</th><td>-0.1268962   </td><td>0.03975557   </td><td>  -3.191911  </td><td> 1.413349e-03</td></tr>\n",
       "\t<tr><th scope=row>RegionQuebec</th><td> 0.1522420   </td><td>0.03995976   </td><td>   3.809883  </td><td> 1.390323e-04</td></tr>\n",
       "\t<tr><th scope=row>SiteColorectal</th><td> 0.2129408   </td><td>0.02227280   </td><td>   9.560574  </td><td> 1.171059e-21</td></tr>\n",
       "\t<tr><th scope=row>SiteLung</th><td> 1.1692195   </td><td>0.01896216   </td><td>  61.660669  </td><td> 0.000000e+00</td></tr>\n",
       "\t<tr><th scope=row>SitePancreas</th><td>-0.6127880   </td><td>0.02794061   </td><td> -21.931807  </td><td>1.291946e-106</td></tr>\n",
       "\t<tr><th scope=row>SiteProstate</th><td>-0.3455670   </td><td>0.02572830   </td><td> -13.431397  </td><td> 3.958718e-41</td></tr>\n",
       "</tbody>\n",
       "</table>\n"
      ],
      "text/latex": [
       "\\begin{tabular}{r|llll}\n",
       "  & Estimate & Std. Error & z value & Pr(>\\textbar{}z\\textbar{})\\\\\n",
       "\\hline\n",
       "\t(Intercept) & -9.3657839    & 0.04224999    & -221.675398   &  0.000000e+00\\\\\n",
       "\tGenderM &  0.1570000    & 0.01283133    &   12.235672   &  2.004395e-34\\\\\n",
       "\tRegionOntario & -0.1268962    & 0.03975557    &   -3.191911   &  1.413349e-03\\\\\n",
       "\tRegionQuebec &  0.1522420    & 0.03995976    &    3.809883   &  1.390323e-04\\\\\n",
       "\tSiteColorectal &  0.2129408    & 0.02227280    &    9.560574   &  1.171059e-21\\\\\n",
       "\tSiteLung &  1.1692195    & 0.01896216    &   61.660669   &  0.000000e+00\\\\\n",
       "\tSitePancreas & -0.6127880    & 0.02794061    &  -21.931807   & 1.291946e-106\\\\\n",
       "\tSiteProstate & -0.3455670    & 0.02572830    &  -13.431397   &  3.958718e-41\\\\\n",
       "\\end{tabular}\n"
      ],
      "text/markdown": [
       "\n",
       "| <!--/--> | Estimate | Std. Error | z value | Pr(>|z|) |\n",
       "|---|---|---|---|---|\n",
       "| (Intercept) | -9.3657839    | 0.04224999    | -221.675398   |  0.000000e+00 |\n",
       "| GenderM |  0.1570000    | 0.01283133    |   12.235672   |  2.004395e-34 |\n",
       "| RegionOntario | -0.1268962    | 0.03975557    |   -3.191911   |  1.413349e-03 |\n",
       "| RegionQuebec |  0.1522420    | 0.03995976    |    3.809883   |  1.390323e-04 |\n",
       "| SiteColorectal |  0.2129408    | 0.02227280    |    9.560574   |  1.171059e-21 |\n",
       "| SiteLung |  1.1692195    | 0.01896216    |   61.660669   |  0.000000e+00 |\n",
       "| SitePancreas | -0.6127880    | 0.02794061    |  -21.931807   | 1.291946e-106 |\n",
       "| SiteProstate | -0.3455670    | 0.02572830    |  -13.431397   |  3.958718e-41 |\n",
       "\n"
      ],
      "text/plain": [
       "               Estimate   Std. Error z value     Pr(>|z|)     \n",
       "(Intercept)    -9.3657839 0.04224999 -221.675398  0.000000e+00\n",
       "GenderM         0.1570000 0.01283133   12.235672  2.004395e-34\n",
       "RegionOntario  -0.1268962 0.03975557   -3.191911  1.413349e-03\n",
       "RegionQuebec    0.1522420 0.03995976    3.809883  1.390323e-04\n",
       "SiteColorectal  0.2129408 0.02227280    9.560574  1.171059e-21\n",
       "SiteLung        1.1692195 0.01896216   61.660669  0.000000e+00\n",
       "SitePancreas   -0.6127880 0.02794061  -21.931807 1.291946e-106\n",
       "SiteProstate   -0.3455670 0.02572830  -13.431397  3.958718e-41"
      ]
     },
     "metadata": {},
     "output_type": "display_data"
    }
   ],
   "source": [
    "coef(summary(glm.1))"
   ]
  },
  {
   "cell_type": "code",
   "execution_count": 8,
   "metadata": {},
   "outputs": [
    {
     "data": {
      "text/html": [
       "<table>\n",
       "<thead><tr><th></th><th scope=col>Df</th><th scope=col>Deviance</th><th scope=col>Resid. Df</th><th scope=col>Resid. Dev</th><th scope=col>Pr(&gt;Chi)</th></tr></thead>\n",
       "<tbody>\n",
       "\t<tr><th scope=row>NULL</th><td>NA          </td><td>        NA  </td><td>29          </td><td>20782.576   </td><td>          NA</td></tr>\n",
       "\t<tr><th scope=row>Gender</th><td> 1          </td><td>  150.1733  </td><td>28          </td><td>20632.403   </td><td>1.588878e-34</td></tr>\n",
       "\t<tr><th scope=row>Region</th><td> 2          </td><td>  453.5278  </td><td>26          </td><td>20178.875   </td><td>3.293708e-99</td></tr>\n",
       "\t<tr><th scope=row>Site</th><td> 4          </td><td>10803.0287  </td><td>22          </td><td> 9375.846   </td><td>0.000000e+00</td></tr>\n",
       "</tbody>\n",
       "</table>\n"
      ],
      "text/latex": [
       "\\begin{tabular}{r|lllll}\n",
       "  & Df & Deviance & Resid. Df & Resid. Dev & Pr(>Chi)\\\\\n",
       "\\hline\n",
       "\tNULL & NA           &         NA   & 29           & 20782.576    &           NA\\\\\n",
       "\tGender &  1           &   150.1733   & 28           & 20632.403    & 1.588878e-34\\\\\n",
       "\tRegion &  2           &   453.5278   & 26           & 20178.875    & 3.293708e-99\\\\\n",
       "\tSite &  4           & 10803.0287   & 22           &  9375.846    & 0.000000e+00\\\\\n",
       "\\end{tabular}\n"
      ],
      "text/markdown": [
       "\n",
       "| <!--/--> | Df | Deviance | Resid. Df | Resid. Dev | Pr(>Chi) |\n",
       "|---|---|---|---|---|---|\n",
       "| NULL | NA           |         NA   | 29           | 20782.576    |           NA |\n",
       "| Gender |  1           |   150.1733   | 28           | 20632.403    | 1.588878e-34 |\n",
       "| Region |  2           |   453.5278   | 26           | 20178.875    | 3.293708e-99 |\n",
       "| Site |  4           | 10803.0287   | 22           |  9375.846    | 0.000000e+00 |\n",
       "\n"
      ],
      "text/plain": [
       "       Df Deviance   Resid. Df Resid. Dev Pr(>Chi)    \n",
       "NULL   NA         NA 29        20782.576            NA\n",
       "Gender  1   150.1733 28        20632.403  1.588878e-34\n",
       "Region  2   453.5278 26        20178.875  3.293708e-99\n",
       "Site    4 10803.0287 22         9375.846  0.000000e+00"
      ]
     },
     "metadata": {},
     "output_type": "display_data"
    }
   ],
   "source": [
    "anova(glm.1, test=\"Chisq\")"
   ]
  },
  {
   "cell_type": "code",
   "execution_count": 9,
   "metadata": {},
   "outputs": [
    {
     "data": {
      "text/html": [
       "0"
      ],
      "text/latex": [
       "0"
      ],
      "text/markdown": [
       "0"
      ],
      "text/plain": [
       "[1] 0"
      ]
     },
     "metadata": {},
     "output_type": "display_data"
    },
    {
     "data": {
      "text/html": [
       "0"
      ],
      "text/latex": [
       "0"
      ],
      "text/markdown": [
       "0"
      ],
      "text/plain": [
       "[1] 0"
      ]
     },
     "metadata": {},
     "output_type": "display_data"
    },
    {
     "data": {
      "text/html": [
       "426.174824609619"
      ],
      "text/latex": [
       "426.174824609619"
      ],
      "text/markdown": [
       "426.174824609619"
      ],
      "text/plain": [
       "[1] 426.1748"
      ]
     },
     "metadata": {},
     "output_type": "display_data"
    },
    {
     "data": {
      "text/html": [
       "323.686643959859"
      ],
      "text/latex": [
       "323.686643959859"
      ],
      "text/markdown": [
       "323.686643959859"
      ],
      "text/plain": [
       "[1] 323.6866"
      ]
     },
     "metadata": {},
     "output_type": "display_data"
    }
   ],
   "source": [
    "gof.dev <- deviance(glm.1)\n",
    "gof.pearson <- sum(glm.1$weights * glm.1$residuals^2)\n",
    "\n",
    "pchisq(gof.dev, df=df.residual(glm.1), lower.tail = FALSE)\n",
    "pchisq(gof.pearson, df=df.residual(glm.1), lower.tail = FALSE)\n",
    "\n",
    "gof.dev / df.residual(glm.1)\n",
    "gof.pearson / df.residual(glm.1)"
   ]
  },
  {
   "cell_type": "code",
   "execution_count": 10,
   "metadata": {},
   "outputs": [],
   "source": [
    "glm.quasi <- glm(Count ~ offset(log(Population)) + Gender + Region + Site, data=ccancer, family = quasipoisson(link=\"log\"))"
   ]
  },
  {
   "cell_type": "code",
   "execution_count": 11,
   "metadata": {},
   "outputs": [
    {
     "data": {
      "text/html": [
       "<table>\n",
       "<thead><tr><th></th><th scope=col>Estimate</th><th scope=col>Std. Error</th><th scope=col>t value</th><th scope=col>Pr(&gt;|t|)</th></tr></thead>\n",
       "<tbody>\n",
       "\t<tr><th scope=row>(Intercept)</th><td>-9.3657839  </td><td>0.7601320   </td><td>-12.3212596 </td><td>2.389611e-11</td></tr>\n",
       "\t<tr><th scope=row>GenderM</th><td> 0.1570000  </td><td>0.2308522   </td><td>  0.6800885 </td><td>5.035429e-01</td></tr>\n",
       "\t<tr><th scope=row>RegionOntario</th><td>-0.1268962  </td><td>0.7152541   </td><td> -0.1774142 </td><td>8.608064e-01</td></tr>\n",
       "\t<tr><th scope=row>RegionQuebec</th><td> 0.1522420  </td><td>0.7189278   </td><td>  0.2117626 </td><td>8.342418e-01</td></tr>\n",
       "\t<tr><th scope=row>SiteColorectal</th><td> 0.2129408  </td><td>0.4007166   </td><td>  0.5314000 </td><td>6.004665e-01</td></tr>\n",
       "\t<tr><th scope=row>SiteLung</th><td> 1.1692195  </td><td>0.3411538   </td><td>  3.4272504 </td><td>2.409295e-03</td></tr>\n",
       "\t<tr><th scope=row>SitePancreas</th><td>-0.6127880  </td><td>0.5026876   </td><td> -1.2190233 </td><td>2.357453e-01</td></tr>\n",
       "\t<tr><th scope=row>SiteProstate</th><td>-0.3455670  </td><td>0.4628853   </td><td> -0.7465498 </td><td>4.632393e-01</td></tr>\n",
       "</tbody>\n",
       "</table>\n"
      ],
      "text/latex": [
       "\\begin{tabular}{r|llll}\n",
       "  & Estimate & Std. Error & t value & Pr(>\\textbar{}t\\textbar{})\\\\\n",
       "\\hline\n",
       "\t(Intercept) & -9.3657839   & 0.7601320    & -12.3212596  & 2.389611e-11\\\\\n",
       "\tGenderM &  0.1570000   & 0.2308522    &   0.6800885  & 5.035429e-01\\\\\n",
       "\tRegionOntario & -0.1268962   & 0.7152541    &  -0.1774142  & 8.608064e-01\\\\\n",
       "\tRegionQuebec &  0.1522420   & 0.7189278    &   0.2117626  & 8.342418e-01\\\\\n",
       "\tSiteColorectal &  0.2129408   & 0.4007166    &   0.5314000  & 6.004665e-01\\\\\n",
       "\tSiteLung &  1.1692195   & 0.3411538    &   3.4272504  & 2.409295e-03\\\\\n",
       "\tSitePancreas & -0.6127880   & 0.5026876    &  -1.2190233  & 2.357453e-01\\\\\n",
       "\tSiteProstate & -0.3455670   & 0.4628853    &  -0.7465498  & 4.632393e-01\\\\\n",
       "\\end{tabular}\n"
      ],
      "text/markdown": [
       "\n",
       "| <!--/--> | Estimate | Std. Error | t value | Pr(>|t|) |\n",
       "|---|---|---|---|---|\n",
       "| (Intercept) | -9.3657839   | 0.7601320    | -12.3212596  | 2.389611e-11 |\n",
       "| GenderM |  0.1570000   | 0.2308522    |   0.6800885  | 5.035429e-01 |\n",
       "| RegionOntario | -0.1268962   | 0.7152541    |  -0.1774142  | 8.608064e-01 |\n",
       "| RegionQuebec |  0.1522420   | 0.7189278    |   0.2117626  | 8.342418e-01 |\n",
       "| SiteColorectal |  0.2129408   | 0.4007166    |   0.5314000  | 6.004665e-01 |\n",
       "| SiteLung |  1.1692195   | 0.3411538    |   3.4272504  | 2.409295e-03 |\n",
       "| SitePancreas | -0.6127880   | 0.5026876    |  -1.2190233  | 2.357453e-01 |\n",
       "| SiteProstate | -0.3455670   | 0.4628853    |  -0.7465498  | 4.632393e-01 |\n",
       "\n"
      ],
      "text/plain": [
       "               Estimate   Std. Error t value     Pr(>|t|)    \n",
       "(Intercept)    -9.3657839 0.7601320  -12.3212596 2.389611e-11\n",
       "GenderM         0.1570000 0.2308522    0.6800885 5.035429e-01\n",
       "RegionOntario  -0.1268962 0.7152541   -0.1774142 8.608064e-01\n",
       "RegionQuebec    0.1522420 0.7189278    0.2117626 8.342418e-01\n",
       "SiteColorectal  0.2129408 0.4007166    0.5314000 6.004665e-01\n",
       "SiteLung        1.1692195 0.3411538    3.4272504 2.409295e-03\n",
       "SitePancreas   -0.6127880 0.5026876   -1.2190233 2.357453e-01\n",
       "SiteProstate   -0.3455670 0.4628853   -0.7465498 4.632393e-01"
      ]
     },
     "metadata": {},
     "output_type": "display_data"
    }
   ],
   "source": [
    "coef(summary(glm.quasi))"
   ]
  },
  {
   "cell_type": "code",
   "execution_count": 12,
   "metadata": {},
   "outputs": [
    {
     "data": {
      "text/html": [
       "<table>\n",
       "<thead><tr><th></th><th scope=col>Df</th><th scope=col>Deviance</th><th scope=col>Resid. Df</th><th scope=col>Resid. Dev</th><th scope=col>F</th><th scope=col>Pr(&gt;F)</th></tr></thead>\n",
       "<tbody>\n",
       "\t<tr><th scope=row>NULL</th><td>NA          </td><td>        NA  </td><td>29          </td><td>20782.576   </td><td>       NA   </td><td>          NA</td></tr>\n",
       "\t<tr><th scope=row>Gender</th><td> 1          </td><td>  150.1733  </td><td>28          </td><td>20632.403   </td><td>0.4639464   </td><td>0.5028925822</td></tr>\n",
       "\t<tr><th scope=row>Region</th><td> 2          </td><td>  453.5278  </td><td>26          </td><td>20178.875   </td><td>0.7005662   </td><td>0.5070419504</td></tr>\n",
       "\t<tr><th scope=row>Site</th><td> 4          </td><td>10803.0287  </td><td>22          </td><td> 9375.846   </td><td>8.3437399   </td><td>0.0002969714</td></tr>\n",
       "</tbody>\n",
       "</table>\n"
      ],
      "text/latex": [
       "\\begin{tabular}{r|llllll}\n",
       "  & Df & Deviance & Resid. Df & Resid. Dev & F & Pr(>F)\\\\\n",
       "\\hline\n",
       "\tNULL & NA           &         NA   & 29           & 20782.576    &        NA    &           NA\\\\\n",
       "\tGender &  1           &   150.1733   & 28           & 20632.403    & 0.4639464    & 0.5028925822\\\\\n",
       "\tRegion &  2           &   453.5278   & 26           & 20178.875    & 0.7005662    & 0.5070419504\\\\\n",
       "\tSite &  4           & 10803.0287   & 22           &  9375.846    & 8.3437399    & 0.0002969714\\\\\n",
       "\\end{tabular}\n"
      ],
      "text/markdown": [
       "\n",
       "| <!--/--> | Df | Deviance | Resid. Df | Resid. Dev | F | Pr(>F) |\n",
       "|---|---|---|---|---|---|---|\n",
       "| NULL | NA           |         NA   | 29           | 20782.576    |        NA    |           NA |\n",
       "| Gender |  1           |   150.1733   | 28           | 20632.403    | 0.4639464    | 0.5028925822 |\n",
       "| Region |  2           |   453.5278   | 26           | 20178.875    | 0.7005662    | 0.5070419504 |\n",
       "| Site |  4           | 10803.0287   | 22           |  9375.846    | 8.3437399    | 0.0002969714 |\n",
       "\n"
      ],
      "text/plain": [
       "       Df Deviance   Resid. Df Resid. Dev F         Pr(>F)      \n",
       "NULL   NA         NA 29        20782.576         NA           NA\n",
       "Gender  1   150.1733 28        20632.403  0.4639464 0.5028925822\n",
       "Region  2   453.5278 26        20178.875  0.7005662 0.5070419504\n",
       "Site    4 10803.0287 22         9375.846  8.3437399 0.0002969714"
      ]
     },
     "metadata": {},
     "output_type": "display_data"
    }
   ],
   "source": [
    "anova(glm.quasi, test=\"F\")"
   ]
  },
  {
   "cell_type": "code",
   "execution_count": 13,
   "metadata": {},
   "outputs": [
    {
     "data": {
      "text/plain": [
       "\n",
       "\tShapiro-Wilk normality test\n",
       "\n",
       "data:  qresid(glm.quasi)\n",
       "W = 0.8939, p-value = 0.005975\n"
      ]
     },
     "metadata": {},
     "output_type": "display_data"
    },
    {
     "data": {
      "image/png": "[encoded data removed]",
      "text/plain": [
       "Plot with title \"Normal Q-Q Plot\""
      ]
     },
     "metadata": {},
     "output_type": "display_data"
    }
   ],
   "source": [
    "par(mfrow=c(3, 3))\n",
    "\n",
    "scatter.smooth(rstandard(glm.quasi) ~ sqrt(fitted(glm.quasi)))\n",
    "z <- resid(glm.quasi, type=\"working\") + glm.quasi$linear.predictor\n",
    "scatter.smooth(z ~ glm.quasi$linear.predictor)\n",
    "qqnorm(qresid(glm.quasi))\n",
    "qqline(qresid(glm.quasi))\n",
    "plot(cooks.distance(glm.quasi), type=\"h\")\n",
    "shapiro.test(qresid(glm.quasi))"
   ]
  },
  {
   "cell_type": "code",
   "execution_count": 14,
   "metadata": {},
   "outputs": [
    {
     "data": {
      "text/html": [
       "<dl class=dl-horizontal>\n",
       "\t<dt>dfb.1_</dt>\n",
       "\t\t<dd>0</dd>\n",
       "\t<dt>dfb.GndM</dt>\n",
       "\t\t<dd>0</dd>\n",
       "\t<dt>dfb.RgnO</dt>\n",
       "\t\t<dd>0</dd>\n",
       "\t<dt>dfb.RgnQ</dt>\n",
       "\t\t<dd>0</dd>\n",
       "\t<dt>dfb.StCl</dt>\n",
       "\t\t<dd>2</dd>\n",
       "\t<dt>dfb.StLn</dt>\n",
       "\t\t<dd>3</dd>\n",
       "\t<dt>dfb.StPn</dt>\n",
       "\t\t<dd>1</dd>\n",
       "\t<dt>dfb.StPr</dt>\n",
       "\t\t<dd>3</dd>\n",
       "\t<dt>dffit</dt>\n",
       "\t\t<dd>2</dd>\n",
       "\t<dt>cov.r</dt>\n",
       "\t\t<dd>8</dd>\n",
       "\t<dt>cook.d</dt>\n",
       "\t\t<dd>0</dd>\n",
       "\t<dt>hat</dt>\n",
       "\t\t<dd>0</dd>\n",
       "</dl>\n"
      ],
      "text/latex": [
       "\\begin{description*}\n",
       "\\item[dfb.1\\textbackslash{}\\_] 0\n",
       "\\item[dfb.GndM] 0\n",
       "\\item[dfb.RgnO] 0\n",
       "\\item[dfb.RgnQ] 0\n",
       "\\item[dfb.StCl] 2\n",
       "\\item[dfb.StLn] 3\n",
       "\\item[dfb.StPn] 1\n",
       "\\item[dfb.StPr] 3\n",
       "\\item[dffit] 2\n",
       "\\item[cov.r] 8\n",
       "\\item[cook.d] 0\n",
       "\\item[hat] 0\n",
       "\\end{description*}\n"
      ],
      "text/markdown": [
       "dfb.1_\n",
       ":   0dfb.GndM\n",
       ":   0dfb.RgnO\n",
       ":   0dfb.RgnQ\n",
       ":   0dfb.StCl\n",
       ":   2dfb.StLn\n",
       ":   3dfb.StPn\n",
       ":   1dfb.StPr\n",
       ":   3dffit\n",
       ":   2cov.r\n",
       ":   8cook.d\n",
       ":   0hat\n",
       ":   0\n",
       "\n"
      ],
      "text/plain": [
       "  dfb.1_ dfb.GndM dfb.RgnO dfb.RgnQ dfb.StCl dfb.StLn dfb.StPn dfb.StPr \n",
       "       0        0        0        0        2        3        1        3 \n",
       "   dffit    cov.r   cook.d      hat \n",
       "       2        8        0        0 "
      ]
     },
     "metadata": {},
     "output_type": "display_data"
    }
   ],
   "source": [
    "colSums(influence.measures(glm.quasi)$is.inf)"
   ]
  },
  {
   "cell_type": "code",
   "execution_count": 15,
   "metadata": {},
   "outputs": [
    {
     "data": {
      "text/html": [
       "<dl class=dl-horizontal>\n",
       "\t<dt>1</dt>\n",
       "\t\t<dd>1</dd>\n",
       "\t<dt>2</dt>\n",
       "\t\t<dd>1</dd>\n",
       "\t<dt>3</dt>\n",
       "\t\t<dd>5</dd>\n",
       "\t<dt>4</dt>\n",
       "\t\t<dd>0</dd>\n",
       "\t<dt>5</dt>\n",
       "\t\t<dd>1</dd>\n",
       "\t<dt>6</dt>\n",
       "\t\t<dd>1</dd>\n",
       "\t<dt>7</dt>\n",
       "\t\t<dd>1</dd>\n",
       "\t<dt>8</dt>\n",
       "\t\t<dd>1</dd>\n",
       "\t<dt>9</dt>\n",
       "\t\t<dd>1</dd>\n",
       "\t<dt>10</dt>\n",
       "\t\t<dd>0</dd>\n",
       "\t<dt>11</dt>\n",
       "\t\t<dd>0</dd>\n",
       "\t<dt>12</dt>\n",
       "\t\t<dd>0</dd>\n",
       "\t<dt>13</dt>\n",
       "\t\t<dd>0</dd>\n",
       "\t<dt>14</dt>\n",
       "\t\t<dd>0</dd>\n",
       "\t<dt>15</dt>\n",
       "\t\t<dd>0</dd>\n",
       "\t<dt>16</dt>\n",
       "\t\t<dd>0</dd>\n",
       "\t<dt>17</dt>\n",
       "\t\t<dd>0</dd>\n",
       "\t<dt>18</dt>\n",
       "\t\t<dd>0</dd>\n",
       "\t<dt>19</dt>\n",
       "\t\t<dd>0</dd>\n",
       "\t<dt>20</dt>\n",
       "\t\t<dd>0</dd>\n",
       "\t<dt>21</dt>\n",
       "\t\t<dd>1</dd>\n",
       "\t<dt>22</dt>\n",
       "\t\t<dd>1</dd>\n",
       "\t<dt>23</dt>\n",
       "\t\t<dd>4</dd>\n",
       "\t<dt>24</dt>\n",
       "\t\t<dd>0</dd>\n",
       "\t<dt>25</dt>\n",
       "\t\t<dd>0</dd>\n",
       "\t<dt>26</dt>\n",
       "\t\t<dd>1</dd>\n",
       "\t<dt>27</dt>\n",
       "\t\t<dd>0</dd>\n",
       "\t<dt>28</dt>\n",
       "\t\t<dd>0</dd>\n",
       "\t<dt>29</dt>\n",
       "\t\t<dd>0</dd>\n",
       "\t<dt>30</dt>\n",
       "\t\t<dd>0</dd>\n",
       "</dl>\n"
      ],
      "text/latex": [
       "\\begin{description*}\n",
       "\\item[1] 1\n",
       "\\item[2] 1\n",
       "\\item[3] 5\n",
       "\\item[4] 0\n",
       "\\item[5] 1\n",
       "\\item[6] 1\n",
       "\\item[7] 1\n",
       "\\item[8] 1\n",
       "\\item[9] 1\n",
       "\\item[10] 0\n",
       "\\item[11] 0\n",
       "\\item[12] 0\n",
       "\\item[13] 0\n",
       "\\item[14] 0\n",
       "\\item[15] 0\n",
       "\\item[16] 0\n",
       "\\item[17] 0\n",
       "\\item[18] 0\n",
       "\\item[19] 0\n",
       "\\item[20] 0\n",
       "\\item[21] 1\n",
       "\\item[22] 1\n",
       "\\item[23] 4\n",
       "\\item[24] 0\n",
       "\\item[25] 0\n",
       "\\item[26] 1\n",
       "\\item[27] 0\n",
       "\\item[28] 0\n",
       "\\item[29] 0\n",
       "\\item[30] 0\n",
       "\\end{description*}\n"
      ],
      "text/markdown": [
       "1\n",
       ":   12\n",
       ":   13\n",
       ":   54\n",
       ":   05\n",
       ":   16\n",
       ":   17\n",
       ":   18\n",
       ":   19\n",
       ":   110\n",
       ":   011\n",
       ":   012\n",
       ":   013\n",
       ":   014\n",
       ":   015\n",
       ":   016\n",
       ":   017\n",
       ":   018\n",
       ":   019\n",
       ":   020\n",
       ":   021\n",
       ":   122\n",
       ":   123\n",
       ":   424\n",
       ":   025\n",
       ":   026\n",
       ":   127\n",
       ":   028\n",
       ":   029\n",
       ":   030\n",
       ":   0\n",
       "\n"
      ],
      "text/plain": [
       " 1  2  3  4  5  6  7  8  9 10 11 12 13 14 15 16 17 18 19 20 21 22 23 24 25 26 \n",
       " 1  1  5  0  1  1  1  1  1  0  0  0  0  0  0  0  0  0  0  0  1  1  4  0  0  1 \n",
       "27 28 29 30 \n",
       " 0  0  0  0 "
      ]
     },
     "metadata": {},
     "output_type": "display_data"
    }
   ],
   "source": [
    "rowSums(influence.measures(glm.quasi)$is.inf)"
   ]
  },
  {
   "cell_type": "code",
   "execution_count": 16,
   "metadata": {},
   "outputs": [],
   "source": [
    "wc <- subset(ccancer, Site!=\"Breast\")\n",
    "wc <- subset(wc, !(Site==\"Prostate\" & Gender==\"F\"))"
   ]
  },
  {
   "cell_type": "code",
   "execution_count": 17,
   "metadata": {},
   "outputs": [
    {
     "data": {
      "text/plain": [
       "      Site\n",
       "Gender Breast Colorectal Lung Pancreas Prostate\n",
       "     F      0       2100 4495     1025        0\n",
       "     M      0       2410 7240      950     2580"
      ]
     },
     "metadata": {},
     "output_type": "display_data"
    }
   ],
   "source": [
    "xtabs(Count~Gender+Site, data=wc)"
   ]
  },
  {
   "cell_type": "code",
   "execution_count": 18,
   "metadata": {},
   "outputs": [],
   "source": [
    "glm.1 <- glm(Count ~ offset(log(Population)) + Gender + Region + Site, data=wc, family = poisson(link=\"log\"))"
   ]
  },
  {
   "cell_type": "code",
   "execution_count": 19,
   "metadata": {},
   "outputs": [
    {
     "data": {
      "text/html": [
       "<table>\n",
       "<thead><tr><th></th><th scope=col>Estimate</th><th scope=col>Std. Error</th><th scope=col>z value</th><th scope=col>Pr(&gt;|z|)</th></tr></thead>\n",
       "<tbody>\n",
       "\t<tr><th scope=row>(Intercept)</th><td>-9.24253951  </td><td>0.04477038   </td><td>-206.4431655 </td><td> 0.000000e+00</td></tr>\n",
       "\t<tr><th scope=row>GenderM</th><td> 0.33007763  </td><td>0.01501910   </td><td>  21.9771984 </td><td>4.759413e-107</td></tr>\n",
       "\t<tr><th scope=row>RegionOntario</th><td>-0.14848864  </td><td>0.04296367   </td><td>  -3.4561442 </td><td> 5.479621e-04</td></tr>\n",
       "\t<tr><th scope=row>RegionQuebec</th><td> 0.16150136  </td><td>0.04314989   </td><td>   3.7427993 </td><td> 1.819816e-04</td></tr>\n",
       "\t<tr><th scope=row>SiteLung</th><td> 0.95627868  </td><td>0.01751984   </td><td>  54.5826268 </td><td> 0.000000e+00</td></tr>\n",
       "\t<tr><th scope=row>SitePancreas</th><td>-0.82572876  </td><td>0.02698256   </td><td> -30.6023127 </td><td>1.140243e-205</td></tr>\n",
       "\t<tr><th scope=row>SiteProstate</th><td>-0.01684186  </td><td>0.02547118   </td><td>  -0.6612124 </td><td> 5.084761e-01</td></tr>\n",
       "</tbody>\n",
       "</table>\n"
      ],
      "text/latex": [
       "\\begin{tabular}{r|llll}\n",
       "  & Estimate & Std. Error & z value & Pr(>\\textbar{}z\\textbar{})\\\\\n",
       "\\hline\n",
       "\t(Intercept) & -9.24253951   & 0.04477038    & -206.4431655  &  0.000000e+00\\\\\n",
       "\tGenderM &  0.33007763   & 0.01501910    &   21.9771984  & 4.759413e-107\\\\\n",
       "\tRegionOntario & -0.14848864   & 0.04296367    &   -3.4561442  &  5.479621e-04\\\\\n",
       "\tRegionQuebec &  0.16150136   & 0.04314989    &    3.7427993  &  1.819816e-04\\\\\n",
       "\tSiteLung &  0.95627868   & 0.01751984    &   54.5826268  &  0.000000e+00\\\\\n",
       "\tSitePancreas & -0.82572876   & 0.02698256    &  -30.6023127  & 1.140243e-205\\\\\n",
       "\tSiteProstate & -0.01684186   & 0.02547118    &   -0.6612124  &  5.084761e-01\\\\\n",
       "\\end{tabular}\n"
      ],
      "text/markdown": [
       "\n",
       "| <!--/--> | Estimate | Std. Error | z value | Pr(>|z|) |\n",
       "|---|---|---|---|---|\n",
       "| (Intercept) | -9.24253951   | 0.04477038    | -206.4431655  |  0.000000e+00 |\n",
       "| GenderM |  0.33007763   | 0.01501910    |   21.9771984  | 4.759413e-107 |\n",
       "| RegionOntario | -0.14848864   | 0.04296367    |   -3.4561442  |  5.479621e-04 |\n",
       "| RegionQuebec |  0.16150136   | 0.04314989    |    3.7427993  |  1.819816e-04 |\n",
       "| SiteLung |  0.95627868   | 0.01751984    |   54.5826268  |  0.000000e+00 |\n",
       "| SitePancreas | -0.82572876   | 0.02698256    |  -30.6023127  | 1.140243e-205 |\n",
       "| SiteProstate | -0.01684186   | 0.02547118    |   -0.6612124  |  5.084761e-01 |\n",
       "\n"
      ],
      "text/plain": [
       "              Estimate    Std. Error z value      Pr(>|z|)     \n",
       "(Intercept)   -9.24253951 0.04477038 -206.4431655  0.000000e+00\n",
       "GenderM        0.33007763 0.01501910   21.9771984 4.759413e-107\n",
       "RegionOntario -0.14848864 0.04296367   -3.4561442  5.479621e-04\n",
       "RegionQuebec   0.16150136 0.04314989    3.7427993  1.819816e-04\n",
       "SiteLung       0.95627868 0.01751984   54.5826268  0.000000e+00\n",
       "SitePancreas  -0.82572876 0.02698256  -30.6023127 1.140243e-205\n",
       "SiteProstate  -0.01684186 0.02547118   -0.6612124  5.084761e-01"
      ]
     },
     "metadata": {},
     "output_type": "display_data"
    }
   ],
   "source": [
    "coef(summary(glm.1))"
   ]
  },
  {
   "cell_type": "code",
   "execution_count": 20,
   "metadata": {},
   "outputs": [
    {
     "name": "stderr",
     "output_type": "stream",
     "text": [
      "Warning message in anova.glm(glm.1, test = \"F\"):\n",
      "\"using F test with a 'poisson' family is inappropriate\""
     ]
    },
    {
     "data": {
      "text/html": [
       "<table>\n",
       "<thead><tr><th></th><th scope=col>Df</th><th scope=col>Deviance</th><th scope=col>Resid. Df</th><th scope=col>Resid. Dev</th><th scope=col>F</th><th scope=col>Pr(&gt;F)</th></tr></thead>\n",
       "<tbody>\n",
       "\t<tr><th scope=row>NULL</th><td>NA           </td><td>       NA    </td><td>20           </td><td>9740.8743    </td><td>       NA    </td><td>           NA</td></tr>\n",
       "\t<tr><th scope=row>Gender</th><td> 1           </td><td> 333.8251    </td><td>19           </td><td>9407.0492    </td><td> 333.8251    </td><td> 1.411504e-74</td></tr>\n",
       "\t<tr><th scope=row>Region</th><td> 2           </td><td> 477.1475    </td><td>17           </td><td>8929.9017    </td><td> 238.5737    </td><td>2.447637e-104</td></tr>\n",
       "\t<tr><th scope=row>Site</th><td> 3           </td><td>8555.5982    </td><td>14           </td><td> 374.3036    </td><td>2851.8661    </td><td> 0.000000e+00</td></tr>\n",
       "</tbody>\n",
       "</table>\n"
      ],
      "text/latex": [
       "\\begin{tabular}{r|llllll}\n",
       "  & Df & Deviance & Resid. Df & Resid. Dev & F & Pr(>F)\\\\\n",
       "\\hline\n",
       "\tNULL & NA            &        NA     & 20            & 9740.8743     &        NA     &            NA\\\\\n",
       "\tGender &  1            &  333.8251     & 19            & 9407.0492     &  333.8251     &  1.411504e-74\\\\\n",
       "\tRegion &  2            &  477.1475     & 17            & 8929.9017     &  238.5737     & 2.447637e-104\\\\\n",
       "\tSite &  3            & 8555.5982     & 14            &  374.3036     & 2851.8661     &  0.000000e+00\\\\\n",
       "\\end{tabular}\n"
      ],
      "text/markdown": [
       "\n",
       "| <!--/--> | Df | Deviance | Resid. Df | Resid. Dev | F | Pr(>F) |\n",
       "|---|---|---|---|---|---|---|\n",
       "| NULL | NA            |        NA     | 20            | 9740.8743     |        NA     |            NA |\n",
       "| Gender |  1            |  333.8251     | 19            | 9407.0492     |  333.8251     |  1.411504e-74 |\n",
       "| Region |  2            |  477.1475     | 17            | 8929.9017     |  238.5737     | 2.447637e-104 |\n",
       "| Site |  3            | 8555.5982     | 14            |  374.3036     | 2851.8661     |  0.000000e+00 |\n",
       "\n"
      ],
      "text/plain": [
       "       Df Deviance  Resid. Df Resid. Dev F         Pr(>F)       \n",
       "NULL   NA        NA 20        9740.8743         NA            NA\n",
       "Gender  1  333.8251 19        9407.0492   333.8251  1.411504e-74\n",
       "Region  2  477.1475 17        8929.9017   238.5737 2.447637e-104\n",
       "Site    3 8555.5982 14         374.3036  2851.8661  0.000000e+00"
      ]
     },
     "metadata": {},
     "output_type": "display_data"
    }
   ],
   "source": [
    "anova(glm.1, test=\"F\")"
   ]
  }
 ],
 "metadata": {
  "kernelspec": {
   "display_name": "R",
   "language": "R",
   "name": "ir"
  },
  "language_info": {
   "codemirror_mode": "r",
   "file_extension": ".r",
   "mimetype": "text/x-r-source",
   "name": "R",
   "pygments_lexer": "r",
   "version": "3.6.1"
  },
  "orig_nbformat": 4
 },
 "nbformat": 4,
 "nbformat_minor": 2
}
