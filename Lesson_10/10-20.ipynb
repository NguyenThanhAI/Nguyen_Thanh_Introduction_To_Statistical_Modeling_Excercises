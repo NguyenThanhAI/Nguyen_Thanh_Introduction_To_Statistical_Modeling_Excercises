{
 "cells": [
  {
   "cell_type": "code",
   "execution_count": 1,
   "metadata": {},
   "outputs": [
    {
     "name": "stderr",
     "output_type": "stream",
     "text": [
      "Warning message:\n",
      "\"package 'statmod' was built under R version 3.6.3\""
     ]
    }
   ],
   "source": [
    "library(GLMsData)\n",
    "library(statmod)\n",
    "library(MASS)"
   ]
  },
  {
   "cell_type": "code",
   "execution_count": 2,
   "metadata": {},
   "outputs": [],
   "source": [
    "data(teenconcerns)"
   ]
  },
  {
   "cell_type": "code",
   "execution_count": 3,
   "metadata": {},
   "outputs": [
    {
     "name": "stdout",
     "output_type": "stream",
     "text": [
      "'data.frame':\t16 obs. of  4 variables:\n",
      " $ Counts : int  4 0 42 57 2 0 7 20 9 4 ...\n",
      " $ Sex    : Factor w/ 2 levels \"F\",\"M\": 2 2 2 2 2 2 2 2 1 1 ...\n",
      " $ Age    : Factor w/ 2 levels \"12-15\",\"16-17\": 1 1 1 1 2 2 2 2 1 1 ...\n",
      " $ Concern: Factor w/ 4 levels \"Healthy\",\"Menstrual\",..: 4 2 1 3 4 2 1 3 4 2 ...\n"
     ]
    }
   ],
   "source": [
    "str(teenconcerns)"
   ]
  },
  {
   "cell_type": "code",
   "execution_count": 4,
   "metadata": {},
   "outputs": [
    {
     "data": {
      "text/html": [
       "<table>\n",
       "<thead><tr><th scope=col>Counts</th><th scope=col>Sex</th><th scope=col>Age</th><th scope=col>Concern</th></tr></thead>\n",
       "<tbody>\n",
       "\t<tr><td> 4       </td><td>M        </td><td>12-15    </td><td>Sex      </td></tr>\n",
       "\t<tr><td> 0       </td><td>M        </td><td>12-15    </td><td>Menstrual</td></tr>\n",
       "\t<tr><td>42       </td><td>M        </td><td>12-15    </td><td>Healthy  </td></tr>\n",
       "\t<tr><td>57       </td><td>M        </td><td>12-15    </td><td>Nothing  </td></tr>\n",
       "\t<tr><td> 2       </td><td>M        </td><td>16-17    </td><td>Sex      </td></tr>\n",
       "\t<tr><td> 0       </td><td>M        </td><td>16-17    </td><td>Menstrual</td></tr>\n",
       "\t<tr><td> 7       </td><td>M        </td><td>16-17    </td><td>Healthy  </td></tr>\n",
       "\t<tr><td>20       </td><td>M        </td><td>16-17    </td><td>Nothing  </td></tr>\n",
       "\t<tr><td> 9       </td><td>F        </td><td>12-15    </td><td>Sex      </td></tr>\n",
       "\t<tr><td> 4       </td><td>F        </td><td>12-15    </td><td>Menstrual</td></tr>\n",
       "\t<tr><td>19       </td><td>F        </td><td>12-15    </td><td>Healthy  </td></tr>\n",
       "\t<tr><td>71       </td><td>F        </td><td>12-15    </td><td>Nothing  </td></tr>\n",
       "\t<tr><td> 7       </td><td>F        </td><td>16-17    </td><td>Sex      </td></tr>\n",
       "\t<tr><td> 8       </td><td>F        </td><td>16-17    </td><td>Menstrual</td></tr>\n",
       "\t<tr><td>10       </td><td>F        </td><td>16-17    </td><td>Healthy  </td></tr>\n",
       "\t<tr><td>31       </td><td>F        </td><td>16-17    </td><td>Nothing  </td></tr>\n",
       "</tbody>\n",
       "</table>\n"
      ],
      "text/latex": [
       "\\begin{tabular}{r|llll}\n",
       " Counts & Sex & Age & Concern\\\\\n",
       "\\hline\n",
       "\t  4        & M         & 12-15     & Sex      \\\\\n",
       "\t  0        & M         & 12-15     & Menstrual\\\\\n",
       "\t 42        & M         & 12-15     & Healthy  \\\\\n",
       "\t 57        & M         & 12-15     & Nothing  \\\\\n",
       "\t  2        & M         & 16-17     & Sex      \\\\\n",
       "\t  0        & M         & 16-17     & Menstrual\\\\\n",
       "\t  7        & M         & 16-17     & Healthy  \\\\\n",
       "\t 20        & M         & 16-17     & Nothing  \\\\\n",
       "\t  9        & F         & 12-15     & Sex      \\\\\n",
       "\t  4        & F         & 12-15     & Menstrual\\\\\n",
       "\t 19        & F         & 12-15     & Healthy  \\\\\n",
       "\t 71        & F         & 12-15     & Nothing  \\\\\n",
       "\t  7        & F         & 16-17     & Sex      \\\\\n",
       "\t  8        & F         & 16-17     & Menstrual\\\\\n",
       "\t 10        & F         & 16-17     & Healthy  \\\\\n",
       "\t 31        & F         & 16-17     & Nothing  \\\\\n",
       "\\end{tabular}\n"
      ],
      "text/markdown": [
       "\n",
       "| Counts | Sex | Age | Concern |\n",
       "|---|---|---|---|\n",
       "|  4        | M         | 12-15     | Sex       |\n",
       "|  0        | M         | 12-15     | Menstrual |\n",
       "| 42        | M         | 12-15     | Healthy   |\n",
       "| 57        | M         | 12-15     | Nothing   |\n",
       "|  2        | M         | 16-17     | Sex       |\n",
       "|  0        | M         | 16-17     | Menstrual |\n",
       "|  7        | M         | 16-17     | Healthy   |\n",
       "| 20        | M         | 16-17     | Nothing   |\n",
       "|  9        | F         | 12-15     | Sex       |\n",
       "|  4        | F         | 12-15     | Menstrual |\n",
       "| 19        | F         | 12-15     | Healthy   |\n",
       "| 71        | F         | 12-15     | Nothing   |\n",
       "|  7        | F         | 16-17     | Sex       |\n",
       "|  8        | F         | 16-17     | Menstrual |\n",
       "| 10        | F         | 16-17     | Healthy   |\n",
       "| 31        | F         | 16-17     | Nothing   |\n",
       "\n"
      ],
      "text/plain": [
       "   Counts Sex Age   Concern  \n",
       "1   4     M   12-15 Sex      \n",
       "2   0     M   12-15 Menstrual\n",
       "3  42     M   12-15 Healthy  \n",
       "4  57     M   12-15 Nothing  \n",
       "5   2     M   16-17 Sex      \n",
       "6   0     M   16-17 Menstrual\n",
       "7   7     M   16-17 Healthy  \n",
       "8  20     M   16-17 Nothing  \n",
       "9   9     F   12-15 Sex      \n",
       "10  4     F   12-15 Menstrual\n",
       "11 19     F   12-15 Healthy  \n",
       "12 71     F   12-15 Nothing  \n",
       "13  7     F   16-17 Sex      \n",
       "14  8     F   16-17 Menstrual\n",
       "15 10     F   16-17 Healthy  \n",
       "16 31     F   16-17 Nothing  "
      ]
     },
     "metadata": {},
     "output_type": "display_data"
    }
   ],
   "source": [
    "teenconcerns"
   ]
  },
  {
   "cell_type": "code",
   "execution_count": 5,
   "metadata": {},
   "outputs": [],
   "source": [
    "teenconcerns$Age <- ordered(teenconcerns$Age, levels=c(\"12-15\", \"16-17\"))"
   ]
  },
  {
   "cell_type": "code",
   "execution_count": 6,
   "metadata": {},
   "outputs": [],
   "source": [
    "glm.1 <- glm(Counts ~ Sex + Age + Concern, data=teenconcerns, family = poisson(link=\"log\"))"
   ]
  },
  {
   "cell_type": "code",
   "execution_count": 7,
   "metadata": {},
   "outputs": [
    {
     "data": {
      "text/html": [
       "<table>\n",
       "<thead><tr><th></th><th scope=col>Estimate</th><th scope=col>Std. Error</th><th scope=col>z value</th><th scope=col>Pr(&gt;|z|)</th></tr></thead>\n",
       "<tbody>\n",
       "\t<tr><th scope=row>(Intercept)</th><td> 2.9642302   </td><td>0.12803022   </td><td>23.152582    </td><td>1.369240e-118</td></tr>\n",
       "\t<tr><th scope=row>SexM</th><td>-0.1861023   </td><td>0.11775001   </td><td>-1.580486    </td><td> 1.139955e-01</td></tr>\n",
       "\t<tr><th scope=row>Age.L</th><td>-0.6259485   </td><td>0.09115666   </td><td>-6.866734    </td><td> 6.568851e-12</td></tr>\n",
       "\t<tr><th scope=row>ConcernMenstrual</th><td>-1.8718022   </td><td>0.31008681   </td><td>-6.036381    </td><td> 1.576088e-09</td></tr>\n",
       "\t<tr><th scope=row>ConcernNothing</th><td> 0.8306770   </td><td>0.13567279   </td><td> 6.122650    </td><td> 9.203174e-10</td></tr>\n",
       "\t<tr><th scope=row>ConcernSex</th><td>-1.2656664   </td><td>0.24140227   </td><td>-5.242976    </td><td> 1.580070e-07</td></tr>\n",
       "</tbody>\n",
       "</table>\n"
      ],
      "text/latex": [
       "\\begin{tabular}{r|llll}\n",
       "  & Estimate & Std. Error & z value & Pr(>\\textbar{}z\\textbar{})\\\\\n",
       "\\hline\n",
       "\t(Intercept) &  2.9642302    & 0.12803022    & 23.152582     & 1.369240e-118\\\\\n",
       "\tSexM & -0.1861023    & 0.11775001    & -1.580486     &  1.139955e-01\\\\\n",
       "\tAge.L & -0.6259485    & 0.09115666    & -6.866734     &  6.568851e-12\\\\\n",
       "\tConcernMenstrual & -1.8718022    & 0.31008681    & -6.036381     &  1.576088e-09\\\\\n",
       "\tConcernNothing &  0.8306770    & 0.13567279    &  6.122650     &  9.203174e-10\\\\\n",
       "\tConcernSex & -1.2656664    & 0.24140227    & -5.242976     &  1.580070e-07\\\\\n",
       "\\end{tabular}\n"
      ],
      "text/markdown": [
       "\n",
       "| <!--/--> | Estimate | Std. Error | z value | Pr(>|z|) |\n",
       "|---|---|---|---|---|\n",
       "| (Intercept) |  2.9642302    | 0.12803022    | 23.152582     | 1.369240e-118 |\n",
       "| SexM | -0.1861023    | 0.11775001    | -1.580486     |  1.139955e-01 |\n",
       "| Age.L | -0.6259485    | 0.09115666    | -6.866734     |  6.568851e-12 |\n",
       "| ConcernMenstrual | -1.8718022    | 0.31008681    | -6.036381     |  1.576088e-09 |\n",
       "| ConcernNothing |  0.8306770    | 0.13567279    |  6.122650     |  9.203174e-10 |\n",
       "| ConcernSex | -1.2656664    | 0.24140227    | -5.242976     |  1.580070e-07 |\n",
       "\n"
      ],
      "text/plain": [
       "                 Estimate   Std. Error z value   Pr(>|z|)     \n",
       "(Intercept)       2.9642302 0.12803022 23.152582 1.369240e-118\n",
       "SexM             -0.1861023 0.11775001 -1.580486  1.139955e-01\n",
       "Age.L            -0.6259485 0.09115666 -6.866734  6.568851e-12\n",
       "ConcernMenstrual -1.8718022 0.31008681 -6.036381  1.576088e-09\n",
       "ConcernNothing    0.8306770 0.13567279  6.122650  9.203174e-10\n",
       "ConcernSex       -1.2656664 0.24140227 -5.242976  1.580070e-07"
      ]
     },
     "metadata": {},
     "output_type": "display_data"
    }
   ],
   "source": [
    "coef(summary(glm.1))"
   ]
  },
  {
   "cell_type": "code",
   "execution_count": 8,
   "metadata": {},
   "outputs": [
    {
     "data": {
      "text/html": [
       "<table>\n",
       "<thead><tr><th></th><th scope=col>Df</th><th scope=col>Deviance</th><th scope=col>Resid. Df</th><th scope=col>Resid. Dev</th><th scope=col>Pr(&gt;Chi)</th></tr></thead>\n",
       "<tbody>\n",
       "\t<tr><th scope=row>NULL</th><td>NA          </td><td>        NA  </td><td>15          </td><td>334.88190   </td><td>          NA</td></tr>\n",
       "\t<tr><th scope=row>Sex</th><td> 1          </td><td>  2.508761  </td><td>14          </td><td>332.37314   </td><td>1.132149e-01</td></tr>\n",
       "\t<tr><th scope=row>Age</th><td> 1          </td><td> 51.873213  </td><td>13          </td><td>280.49993   </td><td>5.920261e-13</td></tr>\n",
       "\t<tr><th scope=row>Concern</th><td> 3          </td><td>237.323500  </td><td>10          </td><td> 43.17643   </td><td>3.608160e-51</td></tr>\n",
       "</tbody>\n",
       "</table>\n"
      ],
      "text/latex": [
       "\\begin{tabular}{r|lllll}\n",
       "  & Df & Deviance & Resid. Df & Resid. Dev & Pr(>Chi)\\\\\n",
       "\\hline\n",
       "\tNULL & NA           &         NA   & 15           & 334.88190    &           NA\\\\\n",
       "\tSex &  1           &   2.508761   & 14           & 332.37314    & 1.132149e-01\\\\\n",
       "\tAge &  1           &  51.873213   & 13           & 280.49993    & 5.920261e-13\\\\\n",
       "\tConcern &  3           & 237.323500   & 10           &  43.17643    & 3.608160e-51\\\\\n",
       "\\end{tabular}\n"
      ],
      "text/markdown": [
       "\n",
       "| <!--/--> | Df | Deviance | Resid. Df | Resid. Dev | Pr(>Chi) |\n",
       "|---|---|---|---|---|---|\n",
       "| NULL | NA           |         NA   | 15           | 334.88190    |           NA |\n",
       "| Sex |  1           |   2.508761   | 14           | 332.37314    | 1.132149e-01 |\n",
       "| Age |  1           |  51.873213   | 13           | 280.49993    | 5.920261e-13 |\n",
       "| Concern |  3           | 237.323500   | 10           |  43.17643    | 3.608160e-51 |\n",
       "\n"
      ],
      "text/plain": [
       "        Df Deviance   Resid. Df Resid. Dev Pr(>Chi)    \n",
       "NULL    NA         NA 15        334.88190            NA\n",
       "Sex      1   2.508761 14        332.37314  1.132149e-01\n",
       "Age      1  51.873213 13        280.49993  5.920261e-13\n",
       "Concern  3 237.323500 10         43.17643  3.608160e-51"
      ]
     },
     "metadata": {},
     "output_type": "display_data"
    }
   ],
   "source": [
    "anova(glm.1, test=\"Chisq\")"
   ]
  },
  {
   "cell_type": "code",
   "execution_count": 9,
   "metadata": {},
   "outputs": [
    {
     "data": {
      "text/html": [
       "4.62449549308683e-06"
      ],
      "text/latex": [
       "4.62449549308683e-06"
      ],
      "text/markdown": [
       "4.62449549308683e-06"
      ],
      "text/plain": [
       "[1] 4.624495e-06"
      ]
     },
     "metadata": {},
     "output_type": "display_data"
    },
    {
     "data": {
      "text/html": [
       "6.25258237410847e-07"
      ],
      "text/latex": [
       "6.25258237410847e-07"
      ],
      "text/markdown": [
       "6.25258237410847e-07"
      ],
      "text/plain": [
       "[1] 6.252582e-07"
      ]
     },
     "metadata": {},
     "output_type": "display_data"
    },
    {
     "data": {
      "text/html": [
       "4.3176426406765"
      ],
      "text/latex": [
       "4.3176426406765"
      ],
      "text/markdown": [
       "4.3176426406765"
      ],
      "text/plain": [
       "[1] 4.317643"
      ]
     },
     "metadata": {},
     "output_type": "display_data"
    },
    {
     "data": {
      "text/html": [
       "4.79824799284485"
      ],
      "text/latex": [
       "4.79824799284485"
      ],
      "text/markdown": [
       "4.79824799284485"
      ],
      "text/plain": [
       "[1] 4.798248"
      ]
     },
     "metadata": {},
     "output_type": "display_data"
    }
   ],
   "source": [
    "gof.dev <- deviance(glm.1)\n",
    "gof.pearson <- sum(glm.1$weights * glm.1$residuals^2)\n",
    "\n",
    "pchisq(gof.dev, df=df.residual(glm.1), lower.tail = FALSE)\n",
    "pchisq(gof.pearson, df=df.residual(glm.1), lower.tail = FALSE)\n",
    "\n",
    "gof.dev / df.residual(glm.1)\n",
    "gof.pearson / df.residual(glm.1)"
   ]
  },
  {
   "cell_type": "code",
   "execution_count": 10,
   "metadata": {},
   "outputs": [],
   "source": [
    "glm.quasi <- glm(Counts ~ Sex + Age + Concern, data=teenconcerns, family = quasipoisson(link=\"log\"))"
   ]
  },
  {
   "cell_type": "code",
   "execution_count": 11,
   "metadata": {},
   "outputs": [
    {
     "data": {
      "text/html": [
       "<table>\n",
       "<thead><tr><th></th><th scope=col>Estimate</th><th scope=col>Std. Error</th><th scope=col>t value</th><th scope=col>Pr(&gt;|t|)</th></tr></thead>\n",
       "<tbody>\n",
       "\t<tr><th scope=row>(Intercept)</th><td> 2.9642302  </td><td>0.2804490   </td><td>10.5695887  </td><td>9.545174e-07</td></tr>\n",
       "\t<tr><th scope=row>SexM</th><td>-0.1861023  </td><td>0.2579303   </td><td>-0.7215217  </td><td>4.871157e-01</td></tr>\n",
       "\t<tr><th scope=row>Age.L</th><td>-0.6259485  </td><td>0.1996778   </td><td>-3.1347930  </td><td>1.060367e-02</td></tr>\n",
       "\t<tr><th scope=row>ConcernMenstrual</th><td>-1.8718022  </td><td>0.6792422   </td><td>-2.7557214  </td><td>2.027815e-02</td></tr>\n",
       "\t<tr><th scope=row>ConcernNothing</th><td> 0.8306770  </td><td>0.2971899   </td><td> 2.7951047  </td><td>1.895305e-02</td></tr>\n",
       "\t<tr><th scope=row>ConcernSex</th><td>-1.2656664  </td><td>0.5287894   </td><td>-2.3935171  </td><td>3.773124e-02</td></tr>\n",
       "</tbody>\n",
       "</table>\n"
      ],
      "text/latex": [
       "\\begin{tabular}{r|llll}\n",
       "  & Estimate & Std. Error & t value & Pr(>\\textbar{}t\\textbar{})\\\\\n",
       "\\hline\n",
       "\t(Intercept) &  2.9642302   & 0.2804490    & 10.5695887   & 9.545174e-07\\\\\n",
       "\tSexM & -0.1861023   & 0.2579303    & -0.7215217   & 4.871157e-01\\\\\n",
       "\tAge.L & -0.6259485   & 0.1996778    & -3.1347930   & 1.060367e-02\\\\\n",
       "\tConcernMenstrual & -1.8718022   & 0.6792422    & -2.7557214   & 2.027815e-02\\\\\n",
       "\tConcernNothing &  0.8306770   & 0.2971899    &  2.7951047   & 1.895305e-02\\\\\n",
       "\tConcernSex & -1.2656664   & 0.5287894    & -2.3935171   & 3.773124e-02\\\\\n",
       "\\end{tabular}\n"
      ],
      "text/markdown": [
       "\n",
       "| <!--/--> | Estimate | Std. Error | t value | Pr(>|t|) |\n",
       "|---|---|---|---|---|\n",
       "| (Intercept) |  2.9642302   | 0.2804490    | 10.5695887   | 9.545174e-07 |\n",
       "| SexM | -0.1861023   | 0.2579303    | -0.7215217   | 4.871157e-01 |\n",
       "| Age.L | -0.6259485   | 0.1996778    | -3.1347930   | 1.060367e-02 |\n",
       "| ConcernMenstrual | -1.8718022   | 0.6792422    | -2.7557214   | 2.027815e-02 |\n",
       "| ConcernNothing |  0.8306770   | 0.2971899    |  2.7951047   | 1.895305e-02 |\n",
       "| ConcernSex | -1.2656664   | 0.5287894    | -2.3935171   | 3.773124e-02 |\n",
       "\n"
      ],
      "text/plain": [
       "                 Estimate   Std. Error t value    Pr(>|t|)    \n",
       "(Intercept)       2.9642302 0.2804490  10.5695887 9.545174e-07\n",
       "SexM             -0.1861023 0.2579303  -0.7215217 4.871157e-01\n",
       "Age.L            -0.6259485 0.1996778  -3.1347930 1.060367e-02\n",
       "ConcernMenstrual -1.8718022 0.6792422  -2.7557214 2.027815e-02\n",
       "ConcernNothing    0.8306770 0.2971899   2.7951047 1.895305e-02\n",
       "ConcernSex       -1.2656664 0.5287894  -2.3935171 3.773124e-02"
      ]
     },
     "metadata": {},
     "output_type": "display_data"
    }
   ],
   "source": [
    "coef(summary(glm.quasi))"
   ]
  },
  {
   "cell_type": "code",
   "execution_count": 12,
   "metadata": {},
   "outputs": [
    {
     "data": {
      "text/html": [
       "<table>\n",
       "<thead><tr><th></th><th scope=col>Df</th><th scope=col>Deviance</th><th scope=col>Resid. Df</th><th scope=col>Resid. Dev</th><th scope=col>F</th><th scope=col>Pr(&gt;F)</th></tr></thead>\n",
       "<tbody>\n",
       "\t<tr><th scope=row>NULL</th><td>NA         </td><td>        NA </td><td>15         </td><td>334.88190  </td><td>        NA </td><td>         NA</td></tr>\n",
       "\t<tr><th scope=row>Sex</th><td> 1         </td><td>  2.508761 </td><td>14         </td><td>332.37314  </td><td> 0.5228495 </td><td>0.486196954</td></tr>\n",
       "\t<tr><th scope=row>Age</th><td> 1         </td><td> 51.873213 </td><td>13         </td><td>280.49993  </td><td>10.8108653 </td><td>0.008177782</td></tr>\n",
       "\t<tr><th scope=row>Concern</th><td> 3         </td><td>237.323500 </td><td>10         </td><td> 43.17643  </td><td>16.4868163 </td><td>0.000337694</td></tr>\n",
       "</tbody>\n",
       "</table>\n"
      ],
      "text/latex": [
       "\\begin{tabular}{r|llllll}\n",
       "  & Df & Deviance & Resid. Df & Resid. Dev & F & Pr(>F)\\\\\n",
       "\\hline\n",
       "\tNULL & NA          &         NA  & 15          & 334.88190   &         NA  &          NA\\\\\n",
       "\tSex &  1          &   2.508761  & 14          & 332.37314   &  0.5228495  & 0.486196954\\\\\n",
       "\tAge &  1          &  51.873213  & 13          & 280.49993   & 10.8108653  & 0.008177782\\\\\n",
       "\tConcern &  3          & 237.323500  & 10          &  43.17643   & 16.4868163  & 0.000337694\\\\\n",
       "\\end{tabular}\n"
      ],
      "text/markdown": [
       "\n",
       "| <!--/--> | Df | Deviance | Resid. Df | Resid. Dev | F | Pr(>F) |\n",
       "|---|---|---|---|---|---|---|\n",
       "| NULL | NA          |         NA  | 15          | 334.88190   |         NA  |          NA |\n",
       "| Sex |  1          |   2.508761  | 14          | 332.37314   |  0.5228495  | 0.486196954 |\n",
       "| Age |  1          |  51.873213  | 13          | 280.49993   | 10.8108653  | 0.008177782 |\n",
       "| Concern |  3          | 237.323500  | 10          |  43.17643   | 16.4868163  | 0.000337694 |\n",
       "\n"
      ],
      "text/plain": [
       "        Df Deviance   Resid. Df Resid. Dev F          Pr(>F)     \n",
       "NULL    NA         NA 15        334.88190          NA          NA\n",
       "Sex      1   2.508761 14        332.37314   0.5228495 0.486196954\n",
       "Age      1  51.873213 13        280.49993  10.8108653 0.008177782\n",
       "Concern  3 237.323500 10         43.17643  16.4868163 0.000337694"
      ]
     },
     "metadata": {},
     "output_type": "display_data"
    }
   ],
   "source": [
    "anova(glm.quasi, test=\"F\")"
   ]
  },
  {
   "cell_type": "code",
   "execution_count": 13,
   "metadata": {},
   "outputs": [
    {
     "data": {
      "text/html": [
       "4.62449549308676e-06"
      ],
      "text/latex": [
       "4.62449549308676e-06"
      ],
      "text/markdown": [
       "4.62449549308676e-06"
      ],
      "text/plain": [
       "[1] 4.624495e-06"
      ]
     },
     "metadata": {},
     "output_type": "display_data"
    },
    {
     "data": {
      "text/html": [
       "6.25258237410849e-07"
      ],
      "text/latex": [
       "6.25258237410849e-07"
      ],
      "text/markdown": [
       "6.25258237410849e-07"
      ],
      "text/plain": [
       "[1] 6.252582e-07"
      ]
     },
     "metadata": {},
     "output_type": "display_data"
    },
    {
     "data": {
      "text/html": [
       "4.3176426406765"
      ],
      "text/latex": [
       "4.3176426406765"
      ],
      "text/markdown": [
       "4.3176426406765"
      ],
      "text/plain": [
       "[1] 4.317643"
      ]
     },
     "metadata": {},
     "output_type": "display_data"
    },
    {
     "data": {
      "text/html": [
       "4.79824799284485"
      ],
      "text/latex": [
       "4.79824799284485"
      ],
      "text/markdown": [
       "4.79824799284485"
      ],
      "text/plain": [
       "[1] 4.798248"
      ]
     },
     "metadata": {},
     "output_type": "display_data"
    }
   ],
   "source": [
    "gof.dev <- deviance(glm.quasi)\n",
    "gof.pearson <- sum(glm.quasi$weights * glm.quasi$residuals^2)\n",
    "\n",
    "pchisq(gof.dev, df=df.residual(glm.quasi), lower.tail = FALSE)\n",
    "pchisq(gof.pearson, df=df.residual(glm.quasi), lower.tail = FALSE)\n",
    "\n",
    "gof.dev / df.residual(glm.quasi)\n",
    "gof.pearson / df.residual(glm.quasi)"
   ]
  },
  {
   "cell_type": "code",
   "execution_count": 14,
   "metadata": {},
   "outputs": [
    {
     "data": {
      "text/plain": [
       "\n",
       "\tShapiro-Wilk normality test\n",
       "\n",
       "data:  qresid(glm.quasi)\n",
       "W = 0.93343, p-value = 0.2761\n"
      ]
     },
     "metadata": {},
     "output_type": "display_data"
    },
    {
     "data": {
      "image/png": "[encoded data removed]",
      "text/plain": [
       "Plot with title \"Normal Q-Q Plot\""
      ]
     },
     "metadata": {},
     "output_type": "display_data"
    }
   ],
   "source": [
    "par(mfrow=c(3, 3))\n",
    "\n",
    "scatter.smooth(rstandard(glm.quasi) ~ sqrt(fitted(glm.quasi)))\n",
    "z <- resid(glm.quasi, type=\"working\") + glm.quasi$linear.predictor\n",
    "scatter.smooth(z ~ glm.quasi$linear.predictor)\n",
    "qqnorm(qresid(glm.quasi))\n",
    "qqline(qresid(glm.quasi))\n",
    "plot(cooks.distance(glm.quasi), type=\"h\")\n",
    "shapiro.test(qresid(glm.quasi))"
   ]
  },
  {
   "cell_type": "code",
   "execution_count": 15,
   "metadata": {},
   "outputs": [
    {
     "data": {
      "text/html": [
       "<dl class=dl-horizontal>\n",
       "\t<dt>dfb.1_</dt>\n",
       "\t\t<dd>2</dd>\n",
       "\t<dt>dfb.SexM</dt>\n",
       "\t\t<dd>1</dd>\n",
       "\t<dt>dfb.Ag.L</dt>\n",
       "\t\t<dd>0</dd>\n",
       "\t<dt>dfb.CncM</dt>\n",
       "\t\t<dd>1</dd>\n",
       "\t<dt>dfb.CncN</dt>\n",
       "\t\t<dd>2</dd>\n",
       "\t<dt>dfb.CncS</dt>\n",
       "\t\t<dd>0</dd>\n",
       "\t<dt>dffit</dt>\n",
       "\t\t<dd>0</dd>\n",
       "\t<dt>cov.r</dt>\n",
       "\t\t<dd>6</dd>\n",
       "\t<dt>cook.d</dt>\n",
       "\t\t<dd>0</dd>\n",
       "\t<dt>hat</dt>\n",
       "\t\t<dd>0</dd>\n",
       "</dl>\n"
      ],
      "text/latex": [
       "\\begin{description*}\n",
       "\\item[dfb.1\\textbackslash{}\\_] 2\n",
       "\\item[dfb.SexM] 1\n",
       "\\item[dfb.Ag.L] 0\n",
       "\\item[dfb.CncM] 1\n",
       "\\item[dfb.CncN] 2\n",
       "\\item[dfb.CncS] 0\n",
       "\\item[dffit] 0\n",
       "\\item[cov.r] 6\n",
       "\\item[cook.d] 0\n",
       "\\item[hat] 0\n",
       "\\end{description*}\n"
      ],
      "text/markdown": [
       "dfb.1_\n",
       ":   2dfb.SexM\n",
       ":   1dfb.Ag.L\n",
       ":   0dfb.CncM\n",
       ":   1dfb.CncN\n",
       ":   2dfb.CncS\n",
       ":   0dffit\n",
       ":   0cov.r\n",
       ":   6cook.d\n",
       ":   0hat\n",
       ":   0\n",
       "\n"
      ],
      "text/plain": [
       "  dfb.1_ dfb.SexM dfb.Ag.L dfb.CncM dfb.CncN dfb.CncS    dffit    cov.r \n",
       "       2        1        0        1        2        0        0        6 \n",
       "  cook.d      hat \n",
       "       0        0 "
      ]
     },
     "metadata": {},
     "output_type": "display_data"
    },
    {
     "data": {
      "text/html": [
       "<dl class=dl-horizontal>\n",
       "\t<dt>1</dt>\n",
       "\t\t<dd>0</dd>\n",
       "\t<dt>2</dt>\n",
       "\t\t<dd>1</dd>\n",
       "\t<dt>3</dt>\n",
       "\t\t<dd>3</dd>\n",
       "\t<dt>4</dt>\n",
       "\t\t<dd>1</dd>\n",
       "\t<dt>5</dt>\n",
       "\t\t<dd>0</dd>\n",
       "\t<dt>6</dt>\n",
       "\t\t<dd>0</dd>\n",
       "\t<dt>7</dt>\n",
       "\t\t<dd>0</dd>\n",
       "\t<dt>8</dt>\n",
       "\t\t<dd>1</dd>\n",
       "\t<dt>9</dt>\n",
       "\t\t<dd>1</dd>\n",
       "\t<dt>10</dt>\n",
       "\t\t<dd>1</dd>\n",
       "\t<dt>11</dt>\n",
       "\t\t<dd>2</dd>\n",
       "\t<dt>12</dt>\n",
       "\t\t<dd>1</dd>\n",
       "\t<dt>13</dt>\n",
       "\t\t<dd>0</dd>\n",
       "\t<dt>14</dt>\n",
       "\t\t<dd>0</dd>\n",
       "\t<dt>15</dt>\n",
       "\t\t<dd>0</dd>\n",
       "\t<dt>16</dt>\n",
       "\t\t<dd>1</dd>\n",
       "</dl>\n"
      ],
      "text/latex": [
       "\\begin{description*}\n",
       "\\item[1] 0\n",
       "\\item[2] 1\n",
       "\\item[3] 3\n",
       "\\item[4] 1\n",
       "\\item[5] 0\n",
       "\\item[6] 0\n",
       "\\item[7] 0\n",
       "\\item[8] 1\n",
       "\\item[9] 1\n",
       "\\item[10] 1\n",
       "\\item[11] 2\n",
       "\\item[12] 1\n",
       "\\item[13] 0\n",
       "\\item[14] 0\n",
       "\\item[15] 0\n",
       "\\item[16] 1\n",
       "\\end{description*}\n"
      ],
      "text/markdown": [
       "1\n",
       ":   02\n",
       ":   13\n",
       ":   34\n",
       ":   15\n",
       ":   06\n",
       ":   07\n",
       ":   08\n",
       ":   19\n",
       ":   110\n",
       ":   111\n",
       ":   212\n",
       ":   113\n",
       ":   014\n",
       ":   015\n",
       ":   016\n",
       ":   1\n",
       "\n"
      ],
      "text/plain": [
       " 1  2  3  4  5  6  7  8  9 10 11 12 13 14 15 16 \n",
       " 0  1  3  1  0  0  0  1  1  1  2  1  0  0  0  1 "
      ]
     },
     "metadata": {},
     "output_type": "display_data"
    }
   ],
   "source": [
    "colSums(influence.measures(glm.quasi)$is.inf)\n",
    "rowSums(influence.measures(glm.quasi)$is.inf)"
   ]
  }
 ],
 "metadata": {
  "kernelspec": {
   "display_name": "R",
   "language": "R",
   "name": "ir"
  },
  "language_info": {
   "codemirror_mode": "r",
   "file_extension": ".r",
   "mimetype": "text/x-r-source",
   "name": "R",
   "pygments_lexer": "r",
   "version": "3.6.1"
  },
  "orig_nbformat": 4
 },
 "nbformat": 4,
 "nbformat_minor": 2
}
