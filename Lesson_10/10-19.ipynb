{
 "cells": [
  {
   "cell_type": "code",
   "execution_count": 1,
   "metadata": {},
   "outputs": [
    {
     "name": "stderr",
     "output_type": "stream",
     "text": [
      "Warning message:\n",
      "\"package 'statmod' was built under R version 3.6.3\""
     ]
    }
   ],
   "source": [
    "library(GLMsData)\n",
    "library(statmod)\n",
    "library(MASS)"
   ]
  },
  {
   "cell_type": "code",
   "execution_count": 2,
   "metadata": {},
   "outputs": [],
   "source": [
    "data(blocks)"
   ]
  },
  {
   "cell_type": "code",
   "execution_count": 3,
   "metadata": {},
   "outputs": [
    {
     "name": "stdout",
     "output_type": "stream",
     "text": [
      "'data.frame':\t100 obs. of  6 variables:\n",
      " $ Child : Factor w/ 25 levels \"A\",\"B\",\"C\",\"D\",..: 1 2 3 4 5 6 7 8 9 10 ...\n",
      " $ Number: int  11 9 8 9 10 13 10 7 6 12 ...\n",
      " $ Time  : num  30 19 18.6 23 29 178 42 20.2 12 39.2 ...\n",
      " $ Trial : int  1 1 1 1 1 1 1 1 1 1 ...\n",
      " $ Shape : Factor w/ 2 levels \"Cube\",\"Cylinder\": 1 1 1 1 1 1 1 1 1 1 ...\n",
      " $ Age   : num  4.67 5 4.42 4.33 4.33 4.83 4.42 5 3.58 4 ...\n"
     ]
    }
   ],
   "source": [
    "str(blocks)"
   ]
  },
  {
   "cell_type": "code",
   "execution_count": 8,
   "metadata": {},
   "outputs": [
    {
     "data": {
      "text/html": [
       "<table>\n",
       "<thead><tr><th scope=col>Child</th><th scope=col>Number</th><th scope=col>Time</th><th scope=col>Trial</th><th scope=col>Shape</th><th scope=col>Age</th></tr></thead>\n",
       "<tbody>\n",
       "\t<tr><td>A       </td><td>11      </td><td> 30.0   </td><td>1       </td><td>Cube    </td><td>4.67    </td></tr>\n",
       "\t<tr><td>B       </td><td> 9      </td><td> 19.0   </td><td>1       </td><td>Cube    </td><td>5.00    </td></tr>\n",
       "\t<tr><td>C       </td><td> 8      </td><td> 18.6   </td><td>1       </td><td>Cube    </td><td>4.42    </td></tr>\n",
       "\t<tr><td>D       </td><td> 9      </td><td> 23.0   </td><td>1       </td><td>Cube    </td><td>4.33    </td></tr>\n",
       "\t<tr><td>E       </td><td>10      </td><td> 29.0   </td><td>1       </td><td>Cube    </td><td>4.33    </td></tr>\n",
       "\t<tr><td>F       </td><td>13      </td><td>178.0   </td><td>1       </td><td>Cube    </td><td>4.83    </td></tr>\n",
       "\t<tr><td>G       </td><td>10      </td><td> 42.0   </td><td>1       </td><td>Cube    </td><td>4.42    </td></tr>\n",
       "\t<tr><td>H       </td><td> 7      </td><td> 20.2   </td><td>1       </td><td>Cube    </td><td>5.00    </td></tr>\n",
       "\t<tr><td>I       </td><td> 6      </td><td> 12.0   </td><td>1       </td><td>Cube    </td><td>3.58    </td></tr>\n",
       "\t<tr><td>J       </td><td>12      </td><td> 39.2   </td><td>1       </td><td>Cube    </td><td>4.00    </td></tr>\n",
       "\t<tr><td>K       </td><td> 6      </td><td> 14.4   </td><td>1       </td><td>Cube    </td><td>4.58    </td></tr>\n",
       "\t<tr><td>L       </td><td> 9      </td><td> 81.4   </td><td>1       </td><td>Cube    </td><td>3.67    </td></tr>\n",
       "\t<tr><td>M       </td><td> 8      </td><td> 17.4   </td><td>1       </td><td>Cube    </td><td>4.83    </td></tr>\n",
       "\t<tr><td>N       </td><td> 7      </td><td> 31.0   </td><td>1       </td><td>Cube    </td><td>4.00    </td></tr>\n",
       "\t<tr><td>O       </td><td> 9      </td><td> 52.2   </td><td>1       </td><td>Cube    </td><td>3.83    </td></tr>\n",
       "\t<tr><td>P       </td><td> 9      </td><td> 41.0   </td><td>1       </td><td>Cube    </td><td>3.83    </td></tr>\n",
       "\t<tr><td>Q       </td><td> 8      </td><td> 18.8   </td><td>1       </td><td>Cube    </td><td>5.08    </td></tr>\n",
       "\t<tr><td>R       </td><td> 7      </td><td> 20.2   </td><td>1       </td><td>Cube    </td><td>4.00    </td></tr>\n",
       "\t<tr><td>S       </td><td> 8      </td><td> 35.0   </td><td>1       </td><td>Cube    </td><td>2.67    </td></tr>\n",
       "\t<tr><td>T       </td><td> 4      </td><td> 24.2   </td><td>1       </td><td>Cube    </td><td>2.67    </td></tr>\n",
       "\t<tr><td>U       </td><td> 8      </td><td> 47.0   </td><td>1       </td><td>Cube    </td><td>3.00    </td></tr>\n",
       "\t<tr><td>V       </td><td> 4      </td><td>  7.4   </td><td>1       </td><td>Cube    </td><td>2.42    </td></tr>\n",
       "\t<tr><td>W       </td><td>11      </td><td> 54.6   </td><td>1       </td><td>Cube    </td><td>4.17    </td></tr>\n",
       "\t<tr><td>X       </td><td> 7      </td><td> 90.0   </td><td>1       </td><td>Cube    </td><td>4.00    </td></tr>\n",
       "\t<tr><td>Y       </td><td> 5      </td><td> 11.0   </td><td>1       </td><td>Cube    </td><td>3.33    </td></tr>\n",
       "\t<tr><td>A       </td><td> 6      </td><td> 30.0   </td><td>1       </td><td>Cylinder</td><td>4.67    </td></tr>\n",
       "\t<tr><td>B       </td><td> 4      </td><td>  6.0   </td><td>1       </td><td>Cylinder</td><td>5.00    </td></tr>\n",
       "\t<tr><td>C       </td><td> 5      </td><td> 14.2   </td><td>1       </td><td>Cylinder</td><td>4.42    </td></tr>\n",
       "\t<tr><td>D       </td><td> 4      </td><td>  8.2   </td><td>1       </td><td>Cylinder</td><td>4.33    </td></tr>\n",
       "\t<tr><td>E       </td><td> 6      </td><td> 14.0   </td><td>1       </td><td>Cylinder</td><td>4.33    </td></tr>\n",
       "\t<tr><td>...</td><td>...</td><td>...</td><td>...</td><td>...</td><td>...</td></tr>\n",
       "\t<tr><td>U       </td><td>6       </td><td> 17.4   </td><td>2       </td><td>Cube    </td><td>3.00    </td></tr>\n",
       "\t<tr><td>V       </td><td>5       </td><td> 11.0   </td><td>2       </td><td>Cube    </td><td>2.42    </td></tr>\n",
       "\t<tr><td>W       </td><td>8       </td><td> 52.0   </td><td>2       </td><td>Cube    </td><td>4.17    </td></tr>\n",
       "\t<tr><td>X       </td><td>8       </td><td> 40.0   </td><td>2       </td><td>Cube    </td><td>4.00    </td></tr>\n",
       "\t<tr><td>Y       </td><td>5       </td><td>  9.8   </td><td>2       </td><td>Cube    </td><td>3.33    </td></tr>\n",
       "\t<tr><td>A       </td><td>8       </td><td>125.0   </td><td>2       </td><td>Cylinder</td><td>4.67    </td></tr>\n",
       "\t<tr><td>B       </td><td>5       </td><td> 14.4   </td><td>2       </td><td>Cylinder</td><td>5.00    </td></tr>\n",
       "\t<tr><td>C       </td><td>5       </td><td> 24.0   </td><td>2       </td><td>Cylinder</td><td>4.42    </td></tr>\n",
       "\t<tr><td>D       </td><td>6       </td><td> 14.4   </td><td>2       </td><td>Cylinder</td><td>4.33    </td></tr>\n",
       "\t<tr><td>E       </td><td>5       </td><td> 15.0   </td><td>2       </td><td>Cylinder</td><td>4.33    </td></tr>\n",
       "\t<tr><td>F       </td><td>9       </td><td> 44.6   </td><td>2       </td><td>Cylinder</td><td>4.83    </td></tr>\n",
       "\t<tr><td>G       </td><td>5       </td><td> 10.8   </td><td>2       </td><td>Cylinder</td><td>4.42    </td></tr>\n",
       "\t<tr><td>H       </td><td>4       </td><td> 18.0   </td><td>2       </td><td>Cylinder</td><td>5.00    </td></tr>\n",
       "\t<tr><td>I       </td><td>6       </td><td> 16.0   </td><td>2       </td><td>Cylinder</td><td>3.58    </td></tr>\n",
       "\t<tr><td>J       </td><td>8       </td><td> 55.0   </td><td>2       </td><td>Cylinder</td><td>4.00    </td></tr>\n",
       "\t<tr><td>K       </td><td>6       </td><td> 19.8   </td><td>2       </td><td>Cylinder</td><td>4.58    </td></tr>\n",
       "\t<tr><td>L       </td><td>5       </td><td> 19.8   </td><td>2       </td><td>Cylinder</td><td>3.67    </td></tr>\n",
       "\t<tr><td>M       </td><td>6       </td><td> 10.6   </td><td>2       </td><td>Cylinder</td><td>4.83    </td></tr>\n",
       "\t<tr><td>N       </td><td>5       </td><td> 17.0   </td><td>2       </td><td>Cylinder</td><td>4.00    </td></tr>\n",
       "\t<tr><td>O       </td><td>5       </td><td> 10.0   </td><td>2       </td><td>Cylinder</td><td>3.83    </td></tr>\n",
       "\t<tr><td>P       </td><td>5       </td><td> 19.4   </td><td>2       </td><td>Cylinder</td><td>3.83    </td></tr>\n",
       "\t<tr><td>Q       </td><td>8       </td><td> 21.0   </td><td>2       </td><td>Cylinder</td><td>5.08    </td></tr>\n",
       "\t<tr><td>R       </td><td>6       </td><td> 15.0   </td><td>2       </td><td>Cylinder</td><td>4.00    </td></tr>\n",
       "\t<tr><td>S       </td><td>5       </td><td> 36.2   </td><td>2       </td><td>Cylinder</td><td>2.67    </td></tr>\n",
       "\t<tr><td>T       </td><td>5       </td><td> 31.4   </td><td>2       </td><td>Cylinder</td><td>2.67    </td></tr>\n",
       "\t<tr><td>U       </td><td>4       </td><td>  8.4   </td><td>2       </td><td>Cylinder</td><td>3.00    </td></tr>\n",
       "\t<tr><td>V       </td><td>7       </td><td>  7.2   </td><td>2       </td><td>Cylinder</td><td>2.42    </td></tr>\n",
       "\t<tr><td>W       </td><td>5       </td><td> 12.0   </td><td>2       </td><td>Cylinder</td><td>4.17    </td></tr>\n",
       "\t<tr><td>X       </td><td>5       </td><td> 25.0   </td><td>2       </td><td>Cylinder</td><td>4.00    </td></tr>\n",
       "\t<tr><td>Y       </td><td>4       </td><td>  6.0   </td><td>2       </td><td>Cylinder</td><td>3.33    </td></tr>\n",
       "</tbody>\n",
       "</table>\n"
      ],
      "text/latex": [
       "\\begin{tabular}{r|llllll}\n",
       " Child & Number & Time & Trial & Shape & Age\\\\\n",
       "\\hline\n",
       "\t A        & 11       &  30.0    & 1        & Cube     & 4.67    \\\\\n",
       "\t B        &  9       &  19.0    & 1        & Cube     & 5.00    \\\\\n",
       "\t C        &  8       &  18.6    & 1        & Cube     & 4.42    \\\\\n",
       "\t D        &  9       &  23.0    & 1        & Cube     & 4.33    \\\\\n",
       "\t E        & 10       &  29.0    & 1        & Cube     & 4.33    \\\\\n",
       "\t F        & 13       & 178.0    & 1        & Cube     & 4.83    \\\\\n",
       "\t G        & 10       &  42.0    & 1        & Cube     & 4.42    \\\\\n",
       "\t H        &  7       &  20.2    & 1        & Cube     & 5.00    \\\\\n",
       "\t I        &  6       &  12.0    & 1        & Cube     & 3.58    \\\\\n",
       "\t J        & 12       &  39.2    & 1        & Cube     & 4.00    \\\\\n",
       "\t K        &  6       &  14.4    & 1        & Cube     & 4.58    \\\\\n",
       "\t L        &  9       &  81.4    & 1        & Cube     & 3.67    \\\\\n",
       "\t M        &  8       &  17.4    & 1        & Cube     & 4.83    \\\\\n",
       "\t N        &  7       &  31.0    & 1        & Cube     & 4.00    \\\\\n",
       "\t O        &  9       &  52.2    & 1        & Cube     & 3.83    \\\\\n",
       "\t P        &  9       &  41.0    & 1        & Cube     & 3.83    \\\\\n",
       "\t Q        &  8       &  18.8    & 1        & Cube     & 5.08    \\\\\n",
       "\t R        &  7       &  20.2    & 1        & Cube     & 4.00    \\\\\n",
       "\t S        &  8       &  35.0    & 1        & Cube     & 2.67    \\\\\n",
       "\t T        &  4       &  24.2    & 1        & Cube     & 2.67    \\\\\n",
       "\t U        &  8       &  47.0    & 1        & Cube     & 3.00    \\\\\n",
       "\t V        &  4       &   7.4    & 1        & Cube     & 2.42    \\\\\n",
       "\t W        & 11       &  54.6    & 1        & Cube     & 4.17    \\\\\n",
       "\t X        &  7       &  90.0    & 1        & Cube     & 4.00    \\\\\n",
       "\t Y        &  5       &  11.0    & 1        & Cube     & 3.33    \\\\\n",
       "\t A        &  6       &  30.0    & 1        & Cylinder & 4.67    \\\\\n",
       "\t B        &  4       &   6.0    & 1        & Cylinder & 5.00    \\\\\n",
       "\t C        &  5       &  14.2    & 1        & Cylinder & 4.42    \\\\\n",
       "\t D        &  4       &   8.2    & 1        & Cylinder & 4.33    \\\\\n",
       "\t E        &  6       &  14.0    & 1        & Cylinder & 4.33    \\\\\n",
       "\t ... & ... & ... & ... & ... & ...\\\\\n",
       "\t U        & 6        &  17.4    & 2        & Cube     & 3.00    \\\\\n",
       "\t V        & 5        &  11.0    & 2        & Cube     & 2.42    \\\\\n",
       "\t W        & 8        &  52.0    & 2        & Cube     & 4.17    \\\\\n",
       "\t X        & 8        &  40.0    & 2        & Cube     & 4.00    \\\\\n",
       "\t Y        & 5        &   9.8    & 2        & Cube     & 3.33    \\\\\n",
       "\t A        & 8        & 125.0    & 2        & Cylinder & 4.67    \\\\\n",
       "\t B        & 5        &  14.4    & 2        & Cylinder & 5.00    \\\\\n",
       "\t C        & 5        &  24.0    & 2        & Cylinder & 4.42    \\\\\n",
       "\t D        & 6        &  14.4    & 2        & Cylinder & 4.33    \\\\\n",
       "\t E        & 5        &  15.0    & 2        & Cylinder & 4.33    \\\\\n",
       "\t F        & 9        &  44.6    & 2        & Cylinder & 4.83    \\\\\n",
       "\t G        & 5        &  10.8    & 2        & Cylinder & 4.42    \\\\\n",
       "\t H        & 4        &  18.0    & 2        & Cylinder & 5.00    \\\\\n",
       "\t I        & 6        &  16.0    & 2        & Cylinder & 3.58    \\\\\n",
       "\t J        & 8        &  55.0    & 2        & Cylinder & 4.00    \\\\\n",
       "\t K        & 6        &  19.8    & 2        & Cylinder & 4.58    \\\\\n",
       "\t L        & 5        &  19.8    & 2        & Cylinder & 3.67    \\\\\n",
       "\t M        & 6        &  10.6    & 2        & Cylinder & 4.83    \\\\\n",
       "\t N        & 5        &  17.0    & 2        & Cylinder & 4.00    \\\\\n",
       "\t O        & 5        &  10.0    & 2        & Cylinder & 3.83    \\\\\n",
       "\t P        & 5        &  19.4    & 2        & Cylinder & 3.83    \\\\\n",
       "\t Q        & 8        &  21.0    & 2        & Cylinder & 5.08    \\\\\n",
       "\t R        & 6        &  15.0    & 2        & Cylinder & 4.00    \\\\\n",
       "\t S        & 5        &  36.2    & 2        & Cylinder & 2.67    \\\\\n",
       "\t T        & 5        &  31.4    & 2        & Cylinder & 2.67    \\\\\n",
       "\t U        & 4        &   8.4    & 2        & Cylinder & 3.00    \\\\\n",
       "\t V        & 7        &   7.2    & 2        & Cylinder & 2.42    \\\\\n",
       "\t W        & 5        &  12.0    & 2        & Cylinder & 4.17    \\\\\n",
       "\t X        & 5        &  25.0    & 2        & Cylinder & 4.00    \\\\\n",
       "\t Y        & 4        &   6.0    & 2        & Cylinder & 3.33    \\\\\n",
       "\\end{tabular}\n"
      ],
      "text/markdown": [
       "\n",
       "| Child | Number | Time | Trial | Shape | Age |\n",
       "|---|---|---|---|---|---|\n",
       "| A        | 11       |  30.0    | 1        | Cube     | 4.67     |\n",
       "| B        |  9       |  19.0    | 1        | Cube     | 5.00     |\n",
       "| C        |  8       |  18.6    | 1        | Cube     | 4.42     |\n",
       "| D        |  9       |  23.0    | 1        | Cube     | 4.33     |\n",
       "| E        | 10       |  29.0    | 1        | Cube     | 4.33     |\n",
       "| F        | 13       | 178.0    | 1        | Cube     | 4.83     |\n",
       "| G        | 10       |  42.0    | 1        | Cube     | 4.42     |\n",
       "| H        |  7       |  20.2    | 1        | Cube     | 5.00     |\n",
       "| I        |  6       |  12.0    | 1        | Cube     | 3.58     |\n",
       "| J        | 12       |  39.2    | 1        | Cube     | 4.00     |\n",
       "| K        |  6       |  14.4    | 1        | Cube     | 4.58     |\n",
       "| L        |  9       |  81.4    | 1        | Cube     | 3.67     |\n",
       "| M        |  8       |  17.4    | 1        | Cube     | 4.83     |\n",
       "| N        |  7       |  31.0    | 1        | Cube     | 4.00     |\n",
       "| O        |  9       |  52.2    | 1        | Cube     | 3.83     |\n",
       "| P        |  9       |  41.0    | 1        | Cube     | 3.83     |\n",
       "| Q        |  8       |  18.8    | 1        | Cube     | 5.08     |\n",
       "| R        |  7       |  20.2    | 1        | Cube     | 4.00     |\n",
       "| S        |  8       |  35.0    | 1        | Cube     | 2.67     |\n",
       "| T        |  4       |  24.2    | 1        | Cube     | 2.67     |\n",
       "| U        |  8       |  47.0    | 1        | Cube     | 3.00     |\n",
       "| V        |  4       |   7.4    | 1        | Cube     | 2.42     |\n",
       "| W        | 11       |  54.6    | 1        | Cube     | 4.17     |\n",
       "| X        |  7       |  90.0    | 1        | Cube     | 4.00     |\n",
       "| Y        |  5       |  11.0    | 1        | Cube     | 3.33     |\n",
       "| A        |  6       |  30.0    | 1        | Cylinder | 4.67     |\n",
       "| B        |  4       |   6.0    | 1        | Cylinder | 5.00     |\n",
       "| C        |  5       |  14.2    | 1        | Cylinder | 4.42     |\n",
       "| D        |  4       |   8.2    | 1        | Cylinder | 4.33     |\n",
       "| E        |  6       |  14.0    | 1        | Cylinder | 4.33     |\n",
       "| ... | ... | ... | ... | ... | ... |\n",
       "| U        | 6        |  17.4    | 2        | Cube     | 3.00     |\n",
       "| V        | 5        |  11.0    | 2        | Cube     | 2.42     |\n",
       "| W        | 8        |  52.0    | 2        | Cube     | 4.17     |\n",
       "| X        | 8        |  40.0    | 2        | Cube     | 4.00     |\n",
       "| Y        | 5        |   9.8    | 2        | Cube     | 3.33     |\n",
       "| A        | 8        | 125.0    | 2        | Cylinder | 4.67     |\n",
       "| B        | 5        |  14.4    | 2        | Cylinder | 5.00     |\n",
       "| C        | 5        |  24.0    | 2        | Cylinder | 4.42     |\n",
       "| D        | 6        |  14.4    | 2        | Cylinder | 4.33     |\n",
       "| E        | 5        |  15.0    | 2        | Cylinder | 4.33     |\n",
       "| F        | 9        |  44.6    | 2        | Cylinder | 4.83     |\n",
       "| G        | 5        |  10.8    | 2        | Cylinder | 4.42     |\n",
       "| H        | 4        |  18.0    | 2        | Cylinder | 5.00     |\n",
       "| I        | 6        |  16.0    | 2        | Cylinder | 3.58     |\n",
       "| J        | 8        |  55.0    | 2        | Cylinder | 4.00     |\n",
       "| K        | 6        |  19.8    | 2        | Cylinder | 4.58     |\n",
       "| L        | 5        |  19.8    | 2        | Cylinder | 3.67     |\n",
       "| M        | 6        |  10.6    | 2        | Cylinder | 4.83     |\n",
       "| N        | 5        |  17.0    | 2        | Cylinder | 4.00     |\n",
       "| O        | 5        |  10.0    | 2        | Cylinder | 3.83     |\n",
       "| P        | 5        |  19.4    | 2        | Cylinder | 3.83     |\n",
       "| Q        | 8        |  21.0    | 2        | Cylinder | 5.08     |\n",
       "| R        | 6        |  15.0    | 2        | Cylinder | 4.00     |\n",
       "| S        | 5        |  36.2    | 2        | Cylinder | 2.67     |\n",
       "| T        | 5        |  31.4    | 2        | Cylinder | 2.67     |\n",
       "| U        | 4        |   8.4    | 2        | Cylinder | 3.00     |\n",
       "| V        | 7        |   7.2    | 2        | Cylinder | 2.42     |\n",
       "| W        | 5        |  12.0    | 2        | Cylinder | 4.17     |\n",
       "| X        | 5        |  25.0    | 2        | Cylinder | 4.00     |\n",
       "| Y        | 4        |   6.0    | 2        | Cylinder | 3.33     |\n",
       "\n"
      ],
      "text/plain": [
       "    Child Number Time  Trial Shape    Age \n",
       "1   A     11      30.0 1     Cube     4.67\n",
       "2   B      9      19.0 1     Cube     5.00\n",
       "3   C      8      18.6 1     Cube     4.42\n",
       "4   D      9      23.0 1     Cube     4.33\n",
       "5   E     10      29.0 1     Cube     4.33\n",
       "6   F     13     178.0 1     Cube     4.83\n",
       "7   G     10      42.0 1     Cube     4.42\n",
       "8   H      7      20.2 1     Cube     5.00\n",
       "9   I      6      12.0 1     Cube     3.58\n",
       "10  J     12      39.2 1     Cube     4.00\n",
       "11  K      6      14.4 1     Cube     4.58\n",
       "12  L      9      81.4 1     Cube     3.67\n",
       "13  M      8      17.4 1     Cube     4.83\n",
       "14  N      7      31.0 1     Cube     4.00\n",
       "15  O      9      52.2 1     Cube     3.83\n",
       "16  P      9      41.0 1     Cube     3.83\n",
       "17  Q      8      18.8 1     Cube     5.08\n",
       "18  R      7      20.2 1     Cube     4.00\n",
       "19  S      8      35.0 1     Cube     2.67\n",
       "20  T      4      24.2 1     Cube     2.67\n",
       "21  U      8      47.0 1     Cube     3.00\n",
       "22  V      4       7.4 1     Cube     2.42\n",
       "23  W     11      54.6 1     Cube     4.17\n",
       "24  X      7      90.0 1     Cube     4.00\n",
       "25  Y      5      11.0 1     Cube     3.33\n",
       "26  A      6      30.0 1     Cylinder 4.67\n",
       "27  B      4       6.0 1     Cylinder 5.00\n",
       "28  C      5      14.2 1     Cylinder 4.42\n",
       "29  D      4       8.2 1     Cylinder 4.33\n",
       "30  E      6      14.0 1     Cylinder 4.33\n",
       "... ...   ...    ...   ...   ...      ... \n",
       "71  U     6       17.4 2     Cube     3.00\n",
       "72  V     5       11.0 2     Cube     2.42\n",
       "73  W     8       52.0 2     Cube     4.17\n",
       "74  X     8       40.0 2     Cube     4.00\n",
       "75  Y     5        9.8 2     Cube     3.33\n",
       "76  A     8      125.0 2     Cylinder 4.67\n",
       "77  B     5       14.4 2     Cylinder 5.00\n",
       "78  C     5       24.0 2     Cylinder 4.42\n",
       "79  D     6       14.4 2     Cylinder 4.33\n",
       "80  E     5       15.0 2     Cylinder 4.33\n",
       "81  F     9       44.6 2     Cylinder 4.83\n",
       "82  G     5       10.8 2     Cylinder 4.42\n",
       "83  H     4       18.0 2     Cylinder 5.00\n",
       "84  I     6       16.0 2     Cylinder 3.58\n",
       "85  J     8       55.0 2     Cylinder 4.00\n",
       "86  K     6       19.8 2     Cylinder 4.58\n",
       "87  L     5       19.8 2     Cylinder 3.67\n",
       "88  M     6       10.6 2     Cylinder 4.83\n",
       "89  N     5       17.0 2     Cylinder 4.00\n",
       "90  O     5       10.0 2     Cylinder 3.83\n",
       "91  P     5       19.4 2     Cylinder 3.83\n",
       "92  Q     8       21.0 2     Cylinder 5.08\n",
       "93  R     6       15.0 2     Cylinder 4.00\n",
       "94  S     5       36.2 2     Cylinder 2.67\n",
       "95  T     5       31.4 2     Cylinder 2.67\n",
       "96  U     4        8.4 2     Cylinder 3.00\n",
       "97  V     7        7.2 2     Cylinder 2.42\n",
       "98  W     5       12.0 2     Cylinder 4.17\n",
       "99  X     5       25.0 2     Cylinder 4.00\n",
       "100 Y     4        6.0 2     Cylinder 3.33"
      ]
     },
     "metadata": {},
     "output_type": "display_data"
    }
   ],
   "source": [
    "blocks"
   ]
  },
  {
   "cell_type": "code",
   "execution_count": 7,
   "metadata": {},
   "outputs": [
    {
     "data": {
      "image/png": "[encoded data removed]",
      "text/plain": [
       "plot without title"
      ]
     },
     "metadata": {},
     "output_type": "display_data"
    },
    {
     "data": {
      "image/png": "[encoded data removed]",
      "text/plain": [
       "plot without title"
      ]
     },
     "metadata": {},
     "output_type": "display_data"
    },
    {
     "data": {
      "image/png": "[encoded data removed]",
      "text/plain": [
       "plot without title"
      ]
     },
     "metadata": {},
     "output_type": "display_data"
    },
    {
     "data": {
      "image/png": "[encoded data removed]",
      "text/plain": [
       "plot without title"
      ]
     },
     "metadata": {},
     "output_type": "display_data"
    }
   ],
   "source": [
    "with(blocks, {\n",
    "    plot(jitter(Number) ~ Time)\n",
    "    boxplot(Number ~ Trial)\n",
    "    boxplot(Number ~ Shape)\n",
    "    plot(jitter(Number) ~ Age)\n",
    "})"
   ]
  },
  {
   "cell_type": "code",
   "execution_count": 12,
   "metadata": {},
   "outputs": [],
   "source": [
    "blocks$Trial <- factor(blocks$Trial, levels = c(1, 2), labels=c(0,1))"
   ]
  },
  {
   "cell_type": "code",
   "execution_count": 13,
   "metadata": {},
   "outputs": [],
   "source": [
    "glm.1 <- glm(Number ~ Time + factor(Trial) + Shape + Age, data=blocks, family = poisson(link=\"log\"))"
   ]
  },
  {
   "cell_type": "code",
   "execution_count": 14,
   "metadata": {},
   "outputs": [
    {
     "data": {
      "text/html": [
       "<table>\n",
       "<thead><tr><th></th><th scope=col>Estimate</th><th scope=col>Std. Error</th><th scope=col>z value</th><th scope=col>Pr(&gt;|z|)</th></tr></thead>\n",
       "<tbody>\n",
       "\t<tr><th scope=row>(Intercept)</th><td> 1.375838245</td><td>0.231462970 </td><td> 5.9440966  </td><td>2.779857e-09</td></tr>\n",
       "\t<tr><th scope=row>Time</th><td> 0.004096935</td><td>0.001266779 </td><td> 3.2341349  </td><td>1.220118e-03</td></tr>\n",
       "\t<tr><th scope=row>factor(Trial)1</th><td> 0.029392649</td><td>0.076661009 </td><td> 0.3834107  </td><td>7.014153e-01</td></tr>\n",
       "\t<tr><th scope=row>ShapeCylinder</th><td>-0.334040757</td><td>0.080966113 </td><td>-4.1256860  </td><td>3.696313e-05</td></tr>\n",
       "\t<tr><th scope=row>Age</th><td> 0.135226398</td><td>0.053516101 </td><td> 2.5268358  </td><td>1.150953e-02</td></tr>\n",
       "</tbody>\n",
       "</table>\n"
      ],
      "text/latex": [
       "\\begin{tabular}{r|llll}\n",
       "  & Estimate & Std. Error & z value & Pr(>\\textbar{}z\\textbar{})\\\\\n",
       "\\hline\n",
       "\t(Intercept) &  1.375838245 & 0.231462970  &  5.9440966   & 2.779857e-09\\\\\n",
       "\tTime &  0.004096935 & 0.001266779  &  3.2341349   & 1.220118e-03\\\\\n",
       "\tfactor(Trial)1 &  0.029392649 & 0.076661009  &  0.3834107   & 7.014153e-01\\\\\n",
       "\tShapeCylinder & -0.334040757 & 0.080966113  & -4.1256860   & 3.696313e-05\\\\\n",
       "\tAge &  0.135226398 & 0.053516101  &  2.5268358   & 1.150953e-02\\\\\n",
       "\\end{tabular}\n"
      ],
      "text/markdown": [
       "\n",
       "| <!--/--> | Estimate | Std. Error | z value | Pr(>|z|) |\n",
       "|---|---|---|---|---|\n",
       "| (Intercept) |  1.375838245 | 0.231462970  |  5.9440966   | 2.779857e-09 |\n",
       "| Time |  0.004096935 | 0.001266779  |  3.2341349   | 1.220118e-03 |\n",
       "| factor(Trial)1 |  0.029392649 | 0.076661009  |  0.3834107   | 7.014153e-01 |\n",
       "| ShapeCylinder | -0.334040757 | 0.080966113  | -4.1256860   | 3.696313e-05 |\n",
       "| Age |  0.135226398 | 0.053516101  |  2.5268358   | 1.150953e-02 |\n",
       "\n"
      ],
      "text/plain": [
       "               Estimate     Std. Error  z value    Pr(>|z|)    \n",
       "(Intercept)     1.375838245 0.231462970  5.9440966 2.779857e-09\n",
       "Time            0.004096935 0.001266779  3.2341349 1.220118e-03\n",
       "factor(Trial)1  0.029392649 0.076661009  0.3834107 7.014153e-01\n",
       "ShapeCylinder  -0.334040757 0.080966113 -4.1256860 3.696313e-05\n",
       "Age             0.135226398 0.053516101  2.5268358 1.150953e-02"
      ]
     },
     "metadata": {},
     "output_type": "display_data"
    }
   ],
   "source": [
    "coef(summary(glm.1))"
   ]
  },
  {
   "cell_type": "code",
   "execution_count": 15,
   "metadata": {},
   "outputs": [
    {
     "data": {
      "text/html": [
       "<table>\n",
       "<thead><tr><th></th><th scope=col>Df</th><th scope=col>Deviance</th><th scope=col>Resid. Df</th><th scope=col>Resid. Dev</th><th scope=col>Pr(&gt;Chi)</th></tr></thead>\n",
       "<tbody>\n",
       "\t<tr><th scope=row>NULL</th><td>NA          </td><td>        NA  </td><td>99          </td><td>69.42922    </td><td>          NA</td></tr>\n",
       "\t<tr><th scope=row>Time</th><td> 1          </td><td>19.5735886  </td><td>98          </td><td>49.85563    </td><td>9.679814e-06</td></tr>\n",
       "\t<tr><th scope=row>factor(Trial)</th><td> 1          </td><td> 0.1470973  </td><td>97          </td><td>49.70854    </td><td>7.013249e-01</td></tr>\n",
       "\t<tr><th scope=row>Shape</th><td> 1          </td><td>16.9678576  </td><td>96          </td><td>32.74068    </td><td>3.801802e-05</td></tr>\n",
       "\t<tr><th scope=row>Age</th><td> 1          </td><td> 6.5267593  </td><td>95          </td><td>26.21392    </td><td>1.062634e-02</td></tr>\n",
       "</tbody>\n",
       "</table>\n"
      ],
      "text/latex": [
       "\\begin{tabular}{r|lllll}\n",
       "  & Df & Deviance & Resid. Df & Resid. Dev & Pr(>Chi)\\\\\n",
       "\\hline\n",
       "\tNULL & NA           &         NA   & 99           & 69.42922     &           NA\\\\\n",
       "\tTime &  1           & 19.5735886   & 98           & 49.85563     & 9.679814e-06\\\\\n",
       "\tfactor(Trial) &  1           &  0.1470973   & 97           & 49.70854     & 7.013249e-01\\\\\n",
       "\tShape &  1           & 16.9678576   & 96           & 32.74068     & 3.801802e-05\\\\\n",
       "\tAge &  1           &  6.5267593   & 95           & 26.21392     & 1.062634e-02\\\\\n",
       "\\end{tabular}\n"
      ],
      "text/markdown": [
       "\n",
       "| <!--/--> | Df | Deviance | Resid. Df | Resid. Dev | Pr(>Chi) |\n",
       "|---|---|---|---|---|---|\n",
       "| NULL | NA           |         NA   | 99           | 69.42922     |           NA |\n",
       "| Time |  1           | 19.5735886   | 98           | 49.85563     | 9.679814e-06 |\n",
       "| factor(Trial) |  1           |  0.1470973   | 97           | 49.70854     | 7.013249e-01 |\n",
       "| Shape |  1           | 16.9678576   | 96           | 32.74068     | 3.801802e-05 |\n",
       "| Age |  1           |  6.5267593   | 95           | 26.21392     | 1.062634e-02 |\n",
       "\n"
      ],
      "text/plain": [
       "              Df Deviance   Resid. Df Resid. Dev Pr(>Chi)    \n",
       "NULL          NA         NA 99        69.42922             NA\n",
       "Time           1 19.5735886 98        49.85563   9.679814e-06\n",
       "factor(Trial)  1  0.1470973 97        49.70854   7.013249e-01\n",
       "Shape          1 16.9678576 96        32.74068   3.801802e-05\n",
       "Age            1  6.5267593 95        26.21392   1.062634e-02"
      ]
     },
     "metadata": {},
     "output_type": "display_data"
    }
   ],
   "source": [
    "anova(glm.1, test=\"Chisq\")"
   ]
  },
  {
   "cell_type": "code",
   "execution_count": 16,
   "metadata": {},
   "outputs": [
    {
     "data": {
      "text/html": [
       "0.999999999999813"
      ],
      "text/latex": [
       "0.999999999999813"
      ],
      "text/markdown": [
       "0.999999999999813"
      ],
      "text/plain": [
       "[1] 1"
      ]
     },
     "metadata": {},
     "output_type": "display_data"
    },
    {
     "data": {
      "text/html": [
       "0.999999999999781"
      ],
      "text/latex": [
       "0.999999999999781"
      ],
      "text/markdown": [
       "0.999999999999781"
      ],
      "text/plain": [
       "[1] 1"
      ]
     },
     "metadata": {},
     "output_type": "display_data"
    },
    {
     "data": {
      "text/html": [
       "0.275936003131787"
      ],
      "text/latex": [
       "0.275936003131787"
      ],
      "text/markdown": [
       "0.275936003131787"
      ],
      "text/plain": [
       "[1] 0.275936"
      ]
     },
     "metadata": {},
     "output_type": "display_data"
    },
    {
     "data": {
      "text/html": [
       "0.277175038860137"
      ],
      "text/latex": [
       "0.277175038860137"
      ],
      "text/markdown": [
       "0.277175038860137"
      ],
      "text/plain": [
       "[1] 0.277175"
      ]
     },
     "metadata": {},
     "output_type": "display_data"
    }
   ],
   "source": [
    "gof.dev <- deviance(glm.1)\n",
    "gof.pearson <- sum(glm.1$weights * glm.1$residuals^2)\n",
    "\n",
    "pchisq(gof.dev, df=df.residual(glm.1), lower.tail = FALSE)\n",
    "pchisq(gof.pearson, df=df.residual(glm.1), lower.tail = FALSE)\n",
    "\n",
    "gof.dev / df.residual(glm.1)\n",
    "gof.pearson / df.residual(glm.1)"
   ]
  },
  {
   "cell_type": "code",
   "execution_count": 17,
   "metadata": {},
   "outputs": [
    {
     "data": {
      "text/plain": [
       "\n",
       "\tShapiro-Wilk normality test\n",
       "\n",
       "data:  qresid(glm.1)\n",
       "W = 0.99096, p-value = 0.7418\n"
      ]
     },
     "metadata": {},
     "output_type": "display_data"
    },
    {
     "data": {
      "image/png": "[encoded data removed]",
      "text/plain": [
       "Plot with title \"Normal Q-Q Plot\""
      ]
     },
     "metadata": {},
     "output_type": "display_data"
    }
   ],
   "source": [
    "par(mfrow=c(3, 3))\n",
    "\n",
    "scatter.smooth(rstandard(glm.1) ~ sqrt(fitted(glm.1)))\n",
    "z <- resid(glm.1, type=\"working\") + glm.1$linear.predictor\n",
    "scatter.smooth(z ~ glm.1$linear.predictor)\n",
    "qqnorm(qresid(glm.1))\n",
    "qqline(qresid(glm.1))\n",
    "plot(cooks.distance(glm.1), type=\"h\")\n",
    "shapiro.test(qresid(glm.1))"
   ]
  },
  {
   "cell_type": "code",
   "execution_count": 18,
   "metadata": {},
   "outputs": [
    {
     "data": {
      "text/html": [
       "<dl class=dl-horizontal>\n",
       "\t<dt>dfb.1_</dt>\n",
       "\t\t<dd>0</dd>\n",
       "\t<dt>dfb.Time</dt>\n",
       "\t\t<dd>1</dd>\n",
       "\t<dt>dfb.f(T)</dt>\n",
       "\t\t<dd>0</dd>\n",
       "\t<dt>dfb.ShpC</dt>\n",
       "\t\t<dd>0</dd>\n",
       "\t<dt>dfb.Age</dt>\n",
       "\t\t<dd>0</dd>\n",
       "\t<dt>dffit</dt>\n",
       "\t\t<dd>2</dd>\n",
       "\t<dt>cov.r</dt>\n",
       "\t\t<dd>4</dd>\n",
       "\t<dt>cook.d</dt>\n",
       "\t\t<dd>0</dd>\n",
       "\t<dt>hat</dt>\n",
       "\t\t<dd>2</dd>\n",
       "</dl>\n"
      ],
      "text/latex": [
       "\\begin{description*}\n",
       "\\item[dfb.1\\textbackslash{}\\_] 0\n",
       "\\item[dfb.Time] 1\n",
       "\\item[dfb.f(T)] 0\n",
       "\\item[dfb.ShpC] 0\n",
       "\\item[dfb.Age] 0\n",
       "\\item[dffit] 2\n",
       "\\item[cov.r] 4\n",
       "\\item[cook.d] 0\n",
       "\\item[hat] 2\n",
       "\\end{description*}\n"
      ],
      "text/markdown": [
       "dfb.1_\n",
       ":   0dfb.Time\n",
       ":   1dfb.f(T)\n",
       ":   0dfb.ShpC\n",
       ":   0dfb.Age\n",
       ":   0dffit\n",
       ":   2cov.r\n",
       ":   4cook.d\n",
       ":   0hat\n",
       ":   2\n",
       "\n"
      ],
      "text/plain": [
       "  dfb.1_ dfb.Time dfb.f(T) dfb.ShpC  dfb.Age    dffit    cov.r   cook.d \n",
       "       0        1        0        0        0        2        4        0 \n",
       "     hat \n",
       "       2 "
      ]
     },
     "metadata": {},
     "output_type": "display_data"
    }
   ],
   "source": [
    "colSums(influence.measures(glm.1)$is.inf)"
   ]
  },
  {
   "cell_type": "code",
   "execution_count": 19,
   "metadata": {},
   "outputs": [
    {
     "data": {
      "text/html": [
       "<dl class=dl-horizontal>\n",
       "\t<dt>1</dt>\n",
       "\t\t<dd>0</dd>\n",
       "\t<dt>2</dt>\n",
       "\t\t<dd>0</dd>\n",
       "\t<dt>3</dt>\n",
       "\t\t<dd>0</dd>\n",
       "\t<dt>4</dt>\n",
       "\t\t<dd>0</dd>\n",
       "\t<dt>5</dt>\n",
       "\t\t<dd>0</dd>\n",
       "\t<dt>6</dt>\n",
       "\t\t<dd>4</dd>\n",
       "\t<dt>7</dt>\n",
       "\t\t<dd>0</dd>\n",
       "\t<dt>8</dt>\n",
       "\t\t<dd>0</dd>\n",
       "\t<dt>9</dt>\n",
       "\t\t<dd>0</dd>\n",
       "\t<dt>10</dt>\n",
       "\t\t<dd>1</dd>\n",
       "\t<dt>11</dt>\n",
       "\t\t<dd>0</dd>\n",
       "\t<dt>12</dt>\n",
       "\t\t<dd>0</dd>\n",
       "\t<dt>13</dt>\n",
       "\t\t<dd>0</dd>\n",
       "\t<dt>14</dt>\n",
       "\t\t<dd>0</dd>\n",
       "\t<dt>15</dt>\n",
       "\t\t<dd>0</dd>\n",
       "\t<dt>16</dt>\n",
       "\t\t<dd>0</dd>\n",
       "\t<dt>17</dt>\n",
       "\t\t<dd>0</dd>\n",
       "\t<dt>18</dt>\n",
       "\t\t<dd>0</dd>\n",
       "\t<dt>19</dt>\n",
       "\t\t<dd>0</dd>\n",
       "\t<dt>20</dt>\n",
       "\t\t<dd>0</dd>\n",
       "\t<dt>21</dt>\n",
       "\t\t<dd>0</dd>\n",
       "\t<dt>22</dt>\n",
       "\t\t<dd>0</dd>\n",
       "\t<dt>23</dt>\n",
       "\t\t<dd>0</dd>\n",
       "\t<dt>24</dt>\n",
       "\t\t<dd>0</dd>\n",
       "\t<dt>25</dt>\n",
       "\t\t<dd>0</dd>\n",
       "\t<dt>26</dt>\n",
       "\t\t<dd>0</dd>\n",
       "\t<dt>27</dt>\n",
       "\t\t<dd>0</dd>\n",
       "\t<dt>28</dt>\n",
       "\t\t<dd>0</dd>\n",
       "\t<dt>29</dt>\n",
       "\t\t<dd>0</dd>\n",
       "\t<dt>30</dt>\n",
       "\t\t<dd>0</dd>\n",
       "\t<dt>31</dt>\n",
       "\t\t<dd>0</dd>\n",
       "\t<dt>32</dt>\n",
       "\t\t<dd>0</dd>\n",
       "\t<dt>33</dt>\n",
       "\t\t<dd>0</dd>\n",
       "\t<dt>34</dt>\n",
       "\t\t<dd>0</dd>\n",
       "\t<dt>35</dt>\n",
       "\t\t<dd>0</dd>\n",
       "\t<dt>36</dt>\n",
       "\t\t<dd>0</dd>\n",
       "\t<dt>37</dt>\n",
       "\t\t<dd>0</dd>\n",
       "\t<dt>38</dt>\n",
       "\t\t<dd>0</dd>\n",
       "\t<dt>39</dt>\n",
       "\t\t<dd>0</dd>\n",
       "\t<dt>40</dt>\n",
       "\t\t<dd>0</dd>\n",
       "\t<dt>41</dt>\n",
       "\t\t<dd>0</dd>\n",
       "\t<dt>42</dt>\n",
       "\t\t<dd>0</dd>\n",
       "\t<dt>43</dt>\n",
       "\t\t<dd>0</dd>\n",
       "\t<dt>44</dt>\n",
       "\t\t<dd>0</dd>\n",
       "\t<dt>45</dt>\n",
       "\t\t<dd>0</dd>\n",
       "\t<dt>46</dt>\n",
       "\t\t<dd>0</dd>\n",
       "\t<dt>47</dt>\n",
       "\t\t<dd>0</dd>\n",
       "\t<dt>48</dt>\n",
       "\t\t<dd>0</dd>\n",
       "\t<dt>49</dt>\n",
       "\t\t<dd>0</dd>\n",
       "\t<dt>50</dt>\n",
       "\t\t<dd>0</dd>\n",
       "\t<dt>51</dt>\n",
       "\t\t<dd>0</dd>\n",
       "\t<dt>52</dt>\n",
       "\t\t<dd>0</dd>\n",
       "\t<dt>53</dt>\n",
       "\t\t<dd>0</dd>\n",
       "\t<dt>54</dt>\n",
       "\t\t<dd>0</dd>\n",
       "\t<dt>55</dt>\n",
       "\t\t<dd>0</dd>\n",
       "\t<dt>56</dt>\n",
       "\t\t<dd>0</dd>\n",
       "\t<dt>57</dt>\n",
       "\t\t<dd>0</dd>\n",
       "\t<dt>58</dt>\n",
       "\t\t<dd>0</dd>\n",
       "\t<dt>59</dt>\n",
       "\t\t<dd>0</dd>\n",
       "\t<dt>60</dt>\n",
       "\t\t<dd>0</dd>\n",
       "\t<dt>61</dt>\n",
       "\t\t<dd>0</dd>\n",
       "\t<dt>62</dt>\n",
       "\t\t<dd>0</dd>\n",
       "\t<dt>63</dt>\n",
       "\t\t<dd>0</dd>\n",
       "\t<dt>64</dt>\n",
       "\t\t<dd>0</dd>\n",
       "\t<dt>65</dt>\n",
       "\t\t<dd>0</dd>\n",
       "\t<dt>66</dt>\n",
       "\t\t<dd>0</dd>\n",
       "\t<dt>67</dt>\n",
       "\t\t<dd>0</dd>\n",
       "\t<dt>68</dt>\n",
       "\t\t<dd>0</dd>\n",
       "\t<dt>69</dt>\n",
       "\t\t<dd>1</dd>\n",
       "\t<dt>70</dt>\n",
       "\t\t<dd>0</dd>\n",
       "\t<dt>71</dt>\n",
       "\t\t<dd>0</dd>\n",
       "\t<dt>72</dt>\n",
       "\t\t<dd>0</dd>\n",
       "\t<dt>73</dt>\n",
       "\t\t<dd>0</dd>\n",
       "\t<dt>74</dt>\n",
       "\t\t<dd>0</dd>\n",
       "\t<dt>75</dt>\n",
       "\t\t<dd>0</dd>\n",
       "\t<dt>76</dt>\n",
       "\t\t<dd>2</dd>\n",
       "\t<dt>77</dt>\n",
       "\t\t<dd>0</dd>\n",
       "\t<dt>78</dt>\n",
       "\t\t<dd>0</dd>\n",
       "\t<dt>79</dt>\n",
       "\t\t<dd>0</dd>\n",
       "\t<dt>80</dt>\n",
       "\t\t<dd>0</dd>\n",
       "\t<dt>81</dt>\n",
       "\t\t<dd>0</dd>\n",
       "\t<dt>82</dt>\n",
       "\t\t<dd>0</dd>\n",
       "\t<dt>83</dt>\n",
       "\t\t<dd>0</dd>\n",
       "\t<dt>84</dt>\n",
       "\t\t<dd>0</dd>\n",
       "\t<dt>85</dt>\n",
       "\t\t<dd>0</dd>\n",
       "\t<dt>86</dt>\n",
       "\t\t<dd>0</dd>\n",
       "\t<dt>87</dt>\n",
       "\t\t<dd>0</dd>\n",
       "\t<dt>88</dt>\n",
       "\t\t<dd>0</dd>\n",
       "\t<dt>89</dt>\n",
       "\t\t<dd>0</dd>\n",
       "\t<dt>90</dt>\n",
       "\t\t<dd>0</dd>\n",
       "\t<dt>91</dt>\n",
       "\t\t<dd>0</dd>\n",
       "\t<dt>92</dt>\n",
       "\t\t<dd>0</dd>\n",
       "\t<dt>93</dt>\n",
       "\t\t<dd>0</dd>\n",
       "\t<dt>94</dt>\n",
       "\t\t<dd>0</dd>\n",
       "\t<dt>95</dt>\n",
       "\t\t<dd>0</dd>\n",
       "\t<dt>96</dt>\n",
       "\t\t<dd>0</dd>\n",
       "\t<dt>97</dt>\n",
       "\t\t<dd>1</dd>\n",
       "\t<dt>98</dt>\n",
       "\t\t<dd>0</dd>\n",
       "\t<dt>99</dt>\n",
       "\t\t<dd>0</dd>\n",
       "\t<dt>100</dt>\n",
       "\t\t<dd>0</dd>\n",
       "</dl>\n"
      ],
      "text/latex": [
       "\\begin{description*}\n",
       "\\item[1] 0\n",
       "\\item[2] 0\n",
       "\\item[3] 0\n",
       "\\item[4] 0\n",
       "\\item[5] 0\n",
       "\\item[6] 4\n",
       "\\item[7] 0\n",
       "\\item[8] 0\n",
       "\\item[9] 0\n",
       "\\item[10] 1\n",
       "\\item[11] 0\n",
       "\\item[12] 0\n",
       "\\item[13] 0\n",
       "\\item[14] 0\n",
       "\\item[15] 0\n",
       "\\item[16] 0\n",
       "\\item[17] 0\n",
       "\\item[18] 0\n",
       "\\item[19] 0\n",
       "\\item[20] 0\n",
       "\\item[21] 0\n",
       "\\item[22] 0\n",
       "\\item[23] 0\n",
       "\\item[24] 0\n",
       "\\item[25] 0\n",
       "\\item[26] 0\n",
       "\\item[27] 0\n",
       "\\item[28] 0\n",
       "\\item[29] 0\n",
       "\\item[30] 0\n",
       "\\item[31] 0\n",
       "\\item[32] 0\n",
       "\\item[33] 0\n",
       "\\item[34] 0\n",
       "\\item[35] 0\n",
       "\\item[36] 0\n",
       "\\item[37] 0\n",
       "\\item[38] 0\n",
       "\\item[39] 0\n",
       "\\item[40] 0\n",
       "\\item[41] 0\n",
       "\\item[42] 0\n",
       "\\item[43] 0\n",
       "\\item[44] 0\n",
       "\\item[45] 0\n",
       "\\item[46] 0\n",
       "\\item[47] 0\n",
       "\\item[48] 0\n",
       "\\item[49] 0\n",
       "\\item[50] 0\n",
       "\\item[51] 0\n",
       "\\item[52] 0\n",
       "\\item[53] 0\n",
       "\\item[54] 0\n",
       "\\item[55] 0\n",
       "\\item[56] 0\n",
       "\\item[57] 0\n",
       "\\item[58] 0\n",
       "\\item[59] 0\n",
       "\\item[60] 0\n",
       "\\item[61] 0\n",
       "\\item[62] 0\n",
       "\\item[63] 0\n",
       "\\item[64] 0\n",
       "\\item[65] 0\n",
       "\\item[66] 0\n",
       "\\item[67] 0\n",
       "\\item[68] 0\n",
       "\\item[69] 1\n",
       "\\item[70] 0\n",
       "\\item[71] 0\n",
       "\\item[72] 0\n",
       "\\item[73] 0\n",
       "\\item[74] 0\n",
       "\\item[75] 0\n",
       "\\item[76] 2\n",
       "\\item[77] 0\n",
       "\\item[78] 0\n",
       "\\item[79] 0\n",
       "\\item[80] 0\n",
       "\\item[81] 0\n",
       "\\item[82] 0\n",
       "\\item[83] 0\n",
       "\\item[84] 0\n",
       "\\item[85] 0\n",
       "\\item[86] 0\n",
       "\\item[87] 0\n",
       "\\item[88] 0\n",
       "\\item[89] 0\n",
       "\\item[90] 0\n",
       "\\item[91] 0\n",
       "\\item[92] 0\n",
       "\\item[93] 0\n",
       "\\item[94] 0\n",
       "\\item[95] 0\n",
       "\\item[96] 0\n",
       "\\item[97] 1\n",
       "\\item[98] 0\n",
       "\\item[99] 0\n",
       "\\item[100] 0\n",
       "\\end{description*}\n"
      ],
      "text/markdown": [
       "1\n",
       ":   02\n",
       ":   03\n",
       ":   04\n",
       ":   05\n",
       ":   06\n",
       ":   47\n",
       ":   08\n",
       ":   09\n",
       ":   010\n",
       ":   111\n",
       ":   012\n",
       ":   013\n",
       ":   014\n",
       ":   015\n",
       ":   016\n",
       ":   017\n",
       ":   018\n",
       ":   019\n",
       ":   020\n",
       ":   021\n",
       ":   022\n",
       ":   023\n",
       ":   024\n",
       ":   025\n",
       ":   026\n",
       ":   027\n",
       ":   028\n",
       ":   029\n",
       ":   030\n",
       ":   031\n",
       ":   032\n",
       ":   033\n",
       ":   034\n",
       ":   035\n",
       ":   036\n",
       ":   037\n",
       ":   038\n",
       ":   039\n",
       ":   040\n",
       ":   041\n",
       ":   042\n",
       ":   043\n",
       ":   044\n",
       ":   045\n",
       ":   046\n",
       ":   047\n",
       ":   048\n",
       ":   049\n",
       ":   050\n",
       ":   051\n",
       ":   052\n",
       ":   053\n",
       ":   054\n",
       ":   055\n",
       ":   056\n",
       ":   057\n",
       ":   058\n",
       ":   059\n",
       ":   060\n",
       ":   061\n",
       ":   062\n",
       ":   063\n",
       ":   064\n",
       ":   065\n",
       ":   066\n",
       ":   067\n",
       ":   068\n",
       ":   069\n",
       ":   170\n",
       ":   071\n",
       ":   072\n",
       ":   073\n",
       ":   074\n",
       ":   075\n",
       ":   076\n",
       ":   277\n",
       ":   078\n",
       ":   079\n",
       ":   080\n",
       ":   081\n",
       ":   082\n",
       ":   083\n",
       ":   084\n",
       ":   085\n",
       ":   086\n",
       ":   087\n",
       ":   088\n",
       ":   089\n",
       ":   090\n",
       ":   091\n",
       ":   092\n",
       ":   093\n",
       ":   094\n",
       ":   095\n",
       ":   096\n",
       ":   097\n",
       ":   198\n",
       ":   099\n",
       ":   0100\n",
       ":   0\n",
       "\n"
      ],
      "text/plain": [
       "  1   2   3   4   5   6   7   8   9  10  11  12  13  14  15  16  17  18  19  20 \n",
       "  0   0   0   0   0   4   0   0   0   1   0   0   0   0   0   0   0   0   0   0 \n",
       " 21  22  23  24  25  26  27  28  29  30  31  32  33  34  35  36  37  38  39  40 \n",
       "  0   0   0   0   0   0   0   0   0   0   0   0   0   0   0   0   0   0   0   0 \n",
       " 41  42  43  44  45  46  47  48  49  50  51  52  53  54  55  56  57  58  59  60 \n",
       "  0   0   0   0   0   0   0   0   0   0   0   0   0   0   0   0   0   0   0   0 \n",
       " 61  62  63  64  65  66  67  68  69  70  71  72  73  74  75  76  77  78  79  80 \n",
       "  0   0   0   0   0   0   0   0   1   0   0   0   0   0   0   2   0   0   0   0 \n",
       " 81  82  83  84  85  86  87  88  89  90  91  92  93  94  95  96  97  98  99 100 \n",
       "  0   0   0   0   0   0   0   0   0   0   0   0   0   0   0   0   1   0   0   0 "
      ]
     },
     "metadata": {},
     "output_type": "display_data"
    }
   ],
   "source": [
    "rowSums(influence.measures(glm.1)$is.inf)"
   ]
  },
  {
   "cell_type": "code",
   "execution_count": 20,
   "metadata": {},
   "outputs": [
    {
     "data": {
      "text/html": [
       "<ol class=list-inline>\n",
       "\t<li>5</li>\n",
       "\t<li>409.608740678917</li>\n",
       "</ol>\n"
      ],
      "text/latex": [
       "\\begin{enumerate*}\n",
       "\\item 5\n",
       "\\item 409.608740678917\n",
       "\\end{enumerate*}\n"
      ],
      "text/markdown": [
       "1. 5\n",
       "2. 409.608740678917\n",
       "\n",
       "\n"
      ],
      "text/plain": [
       "[1]   5.0000 409.6087"
      ]
     },
     "metadata": {},
     "output_type": "display_data"
    }
   ],
   "source": [
    "extractAIC(glm.1)"
   ]
  }
 ],
 "metadata": {
  "kernelspec": {
   "display_name": "R",
   "language": "R",
   "name": "ir"
  },
  "language_info": {
   "codemirror_mode": "r",
   "file_extension": ".r",
   "mimetype": "text/x-r-source",
   "name": "R",
   "pygments_lexer": "r",
   "version": "3.6.1"
  },
  "orig_nbformat": 4
 },
 "nbformat": 4,
 "nbformat_minor": 2
}
