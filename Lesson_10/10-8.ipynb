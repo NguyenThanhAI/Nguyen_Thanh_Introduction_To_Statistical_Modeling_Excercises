{
 "cells": [
  {
   "cell_type": "code",
   "execution_count": 1,
   "metadata": {},
   "outputs": [
    {
     "name": "stderr",
     "output_type": "stream",
     "text": [
      "Warning message:\n",
      "\"package 'statmod' was built under R version 3.6.3\""
     ]
    }
   ],
   "source": [
    "library(GLMsData)\n",
    "library(statmod)\n",
    "library(MASS)"
   ]
  },
  {
   "cell_type": "code",
   "execution_count": 2,
   "metadata": {},
   "outputs": [],
   "source": [
    "data(dyouth)"
   ]
  },
  {
   "cell_type": "code",
   "execution_count": 3,
   "metadata": {},
   "outputs": [
    {
     "name": "stdout",
     "output_type": "stream",
     "text": [
      "'data.frame':\t24 obs. of  5 variables:\n",
      " $ Obs       : int  79 18 34 14 14 5 5 8 63 10 ...\n",
      " $ Age       : Factor w/ 3 levels \"12-14\",\"15-16\",..: 1 1 1 1 1 1 1 1 2 2 ...\n",
      " $ Group     : Factor w/ 2 levels \"LD\",\"SED\": 1 1 1 1 2 2 2 2 1 1 ...\n",
      " $ Gender    : Factor w/ 2 levels \"F\",\"M\": 2 2 1 1 2 2 1 1 2 2 ...\n",
      " $ Depression: Factor w/ 2 levels \"H\",\"L\": 2 1 2 1 2 1 2 1 2 1 ...\n"
     ]
    }
   ],
   "source": [
    "str(dyouth)"
   ]
  },
  {
   "cell_type": "code",
   "execution_count": 6,
   "metadata": {},
   "outputs": [],
   "source": [
    "dy.4 <- glm(Obs <- Obs ~ Age*Group*Gender*Depression, data=dyouth, family = poisson(link=\"log\"))"
   ]
  },
  {
   "cell_type": "code",
   "execution_count": 7,
   "metadata": {},
   "outputs": [
    {
     "data": {
      "text/html": [
       "<table>\n",
       "<thead><tr><th></th><th scope=col>Estimate</th><th scope=col>Std. Error</th><th scope=col>z value</th><th scope=col>Pr(&gt;|z|)</th></tr></thead>\n",
       "<tbody>\n",
       "\t<tr><th scope=row>(Intercept)</th><td> 2.63905733 </td><td>0.2672612   </td><td> 9.87444835 </td><td>5.372777e-23</td></tr>\n",
       "\t<tr><th scope=row>Age15-16</th><td>-0.24116206 </td><td>0.4029115   </td><td>-0.59854848 </td><td>5.494740e-01</td></tr>\n",
       "\t<tr><th scope=row>Age17-18</th><td>-2.63905733 </td><td>1.0350937   </td><td>-2.54958311 </td><td>1.078518e-02</td></tr>\n",
       "\t<tr><th scope=row>GroupSED</th><td>-0.55961579 </td><td>0.4432026   </td><td>-1.26266351 </td><td>2.067101e-01</td></tr>\n",
       "\t<tr><th scope=row>GenderM</th><td> 0.25131443 </td><td>0.3563483   </td><td> 0.70524937 </td><td>4.806551e-01</td></tr>\n",
       "\t<tr><th scope=row>DepressionL</th><td> 0.88730320 </td><td>0.3175537   </td><td> 2.79418337 </td><td>5.203097e-03</td></tr>\n",
       "\t<tr><th scope=row>Age15-16:GroupSED</th><td> 0.10763066 </td><td>0.6558924   </td><td> 0.16409806 </td><td>8.696540e-01</td></tr>\n",
       "\t<tr><th scope=row>Age17-18:GroupSED</th><td> 1.25276297 </td><td>1.3024663   </td><td> 0.96183904 </td><td>3.361305e-01</td></tr>\n",
       "\t<tr><th scope=row>Age15-16:GenderM</th><td>-0.34662461 </td><td>0.5638202   </td><td>-0.61477863 </td><td>5.387009e-01</td></tr>\n",
       "\t<tr><th scope=row>Age17-18:GenderM</th><td> 2.31363493 </td><td>1.0972226   </td><td> 2.10862849 </td><td>3.497666e-02</td></tr>\n",
       "\t<tr><th scope=row>GroupSED:GenderM</th><td>-0.72131806 </td><td>0.6722976   </td><td>-1.07291475 </td><td>2.833094e-01</td></tr>\n",
       "\t<tr><th scope=row>Age15-16:DepressionL</th><td>-0.02710193 </td><td>0.4798030   </td><td>-0.05648553 </td><td>9.549550e-01</td></tr>\n",
       "\t<tr><th scope=row>Age17-18:DepressionL</th><td> 1.88528553 </td><td>1.0785781   </td><td> 1.74793607 </td><td>8.047510e-02</td></tr>\n",
       "\t<tr><th scope=row>GroupSED:DepressionL</th><td>-1.35730682 </td><td>0.6525644   </td><td>-2.07995834 </td><td>3.752935e-02</td></tr>\n",
       "\t<tr><th scope=row>GenderM:DepressionL</th><td> 0.59177290 </td><td>0.4111619   </td><td> 1.43926974 </td><td>1.500741e-01</td></tr>\n",
       "\t<tr><th scope=row>Age15-16:GroupSED:GenderM</th><td>-0.03066962 </td><td>1.0578675   </td><td>-0.02899193 </td><td>9.768710e-01</td></tr>\n",
       "\t<tr><th scope=row>Age17-18:GroupSED:GenderM</th><td>-0.92734057 </td><td>1.4929492   </td><td>-0.62114678 </td><td>5.345030e-01</td></tr>\n",
       "\t<tr><th scope=row>Age15-16:GroupSED:DepressionL</th><td> 1.25924561 </td><td>0.8744911   </td><td> 1.43997525 </td><td>1.498744e-01</td></tr>\n",
       "\t<tr><th scope=row>Age17-18:GroupSED:DepressionL</th><td> 0.37647757 </td><td>1.4393275   </td><td> 0.26156491 </td><td>7.936569e-01</td></tr>\n",
       "\t<tr><th scope=row>Age15-16:GenderM:DepressionL</th><td> 0.38857547 </td><td>0.6436597   </td><td> 0.60369709 </td><td>5.460450e-01</td></tr>\n",
       "\t<tr><th scope=row>Age17-18:GenderM:DepressionL</th><td>-2.34579204 </td><td>1.1559608   </td><td>-2.02930073 </td><td>4.242767e-02</td></tr>\n",
       "\t<tr><th scope=row>GroupSED:GenderM:DepressionL</th><td> 0.90785015 </td><td>0.8749187   </td><td> 1.03763947 </td><td>2.994379e-01</td></tr>\n",
       "\t<tr><th scope=row>Age15-16:GroupSED:GenderM:DepressionL</th><td>-0.28321495 </td><td>1.2589017   </td><td>-0.22496988 </td><td>8.220027e-01</td></tr>\n",
       "\t<tr><th scope=row>Age17-18:GroupSED:GenderM:DepressionL</th><td> 1.02849055 </td><td>1.6564373   </td><td> 0.62090520 </td><td>5.346620e-01</td></tr>\n",
       "</tbody>\n",
       "</table>\n"
      ],
      "text/latex": [
       "\\begin{tabular}{r|llll}\n",
       "  & Estimate & Std. Error & z value & Pr(>\\textbar{}z\\textbar{})\\\\\n",
       "\\hline\n",
       "\t(Intercept) &  2.63905733  & 0.2672612    &  9.87444835  & 5.372777e-23\\\\\n",
       "\tAge15-16 & -0.24116206  & 0.4029115    & -0.59854848  & 5.494740e-01\\\\\n",
       "\tAge17-18 & -2.63905733  & 1.0350937    & -2.54958311  & 1.078518e-02\\\\\n",
       "\tGroupSED & -0.55961579  & 0.4432026    & -1.26266351  & 2.067101e-01\\\\\n",
       "\tGenderM &  0.25131443  & 0.3563483    &  0.70524937  & 4.806551e-01\\\\\n",
       "\tDepressionL &  0.88730320  & 0.3175537    &  2.79418337  & 5.203097e-03\\\\\n",
       "\tAge15-16:GroupSED &  0.10763066  & 0.6558924    &  0.16409806  & 8.696540e-01\\\\\n",
       "\tAge17-18:GroupSED &  1.25276297  & 1.3024663    &  0.96183904  & 3.361305e-01\\\\\n",
       "\tAge15-16:GenderM & -0.34662461  & 0.5638202    & -0.61477863  & 5.387009e-01\\\\\n",
       "\tAge17-18:GenderM &  2.31363493  & 1.0972226    &  2.10862849  & 3.497666e-02\\\\\n",
       "\tGroupSED:GenderM & -0.72131806  & 0.6722976    & -1.07291475  & 2.833094e-01\\\\\n",
       "\tAge15-16:DepressionL & -0.02710193  & 0.4798030    & -0.05648553  & 9.549550e-01\\\\\n",
       "\tAge17-18:DepressionL &  1.88528553  & 1.0785781    &  1.74793607  & 8.047510e-02\\\\\n",
       "\tGroupSED:DepressionL & -1.35730682  & 0.6525644    & -2.07995834  & 3.752935e-02\\\\\n",
       "\tGenderM:DepressionL &  0.59177290  & 0.4111619    &  1.43926974  & 1.500741e-01\\\\\n",
       "\tAge15-16:GroupSED:GenderM & -0.03066962  & 1.0578675    & -0.02899193  & 9.768710e-01\\\\\n",
       "\tAge17-18:GroupSED:GenderM & -0.92734057  & 1.4929492    & -0.62114678  & 5.345030e-01\\\\\n",
       "\tAge15-16:GroupSED:DepressionL &  1.25924561  & 0.8744911    &  1.43997525  & 1.498744e-01\\\\\n",
       "\tAge17-18:GroupSED:DepressionL &  0.37647757  & 1.4393275    &  0.26156491  & 7.936569e-01\\\\\n",
       "\tAge15-16:GenderM:DepressionL &  0.38857547  & 0.6436597    &  0.60369709  & 5.460450e-01\\\\\n",
       "\tAge17-18:GenderM:DepressionL & -2.34579204  & 1.1559608    & -2.02930073  & 4.242767e-02\\\\\n",
       "\tGroupSED:GenderM:DepressionL &  0.90785015  & 0.8749187    &  1.03763947  & 2.994379e-01\\\\\n",
       "\tAge15-16:GroupSED:GenderM:DepressionL & -0.28321495  & 1.2589017    & -0.22496988  & 8.220027e-01\\\\\n",
       "\tAge17-18:GroupSED:GenderM:DepressionL &  1.02849055  & 1.6564373    &  0.62090520  & 5.346620e-01\\\\\n",
       "\\end{tabular}\n"
      ],
      "text/markdown": [
       "\n",
       "| <!--/--> | Estimate | Std. Error | z value | Pr(>|z|) |\n",
       "|---|---|---|---|---|\n",
       "| (Intercept) |  2.63905733  | 0.2672612    |  9.87444835  | 5.372777e-23 |\n",
       "| Age15-16 | -0.24116206  | 0.4029115    | -0.59854848  | 5.494740e-01 |\n",
       "| Age17-18 | -2.63905733  | 1.0350937    | -2.54958311  | 1.078518e-02 |\n",
       "| GroupSED | -0.55961579  | 0.4432026    | -1.26266351  | 2.067101e-01 |\n",
       "| GenderM |  0.25131443  | 0.3563483    |  0.70524937  | 4.806551e-01 |\n",
       "| DepressionL |  0.88730320  | 0.3175537    |  2.79418337  | 5.203097e-03 |\n",
       "| Age15-16:GroupSED |  0.10763066  | 0.6558924    |  0.16409806  | 8.696540e-01 |\n",
       "| Age17-18:GroupSED |  1.25276297  | 1.3024663    |  0.96183904  | 3.361305e-01 |\n",
       "| Age15-16:GenderM | -0.34662461  | 0.5638202    | -0.61477863  | 5.387009e-01 |\n",
       "| Age17-18:GenderM |  2.31363493  | 1.0972226    |  2.10862849  | 3.497666e-02 |\n",
       "| GroupSED:GenderM | -0.72131806  | 0.6722976    | -1.07291475  | 2.833094e-01 |\n",
       "| Age15-16:DepressionL | -0.02710193  | 0.4798030    | -0.05648553  | 9.549550e-01 |\n",
       "| Age17-18:DepressionL |  1.88528553  | 1.0785781    |  1.74793607  | 8.047510e-02 |\n",
       "| GroupSED:DepressionL | -1.35730682  | 0.6525644    | -2.07995834  | 3.752935e-02 |\n",
       "| GenderM:DepressionL |  0.59177290  | 0.4111619    |  1.43926974  | 1.500741e-01 |\n",
       "| Age15-16:GroupSED:GenderM | -0.03066962  | 1.0578675    | -0.02899193  | 9.768710e-01 |\n",
       "| Age17-18:GroupSED:GenderM | -0.92734057  | 1.4929492    | -0.62114678  | 5.345030e-01 |\n",
       "| Age15-16:GroupSED:DepressionL |  1.25924561  | 0.8744911    |  1.43997525  | 1.498744e-01 |\n",
       "| Age17-18:GroupSED:DepressionL |  0.37647757  | 1.4393275    |  0.26156491  | 7.936569e-01 |\n",
       "| Age15-16:GenderM:DepressionL |  0.38857547  | 0.6436597    |  0.60369709  | 5.460450e-01 |\n",
       "| Age17-18:GenderM:DepressionL | -2.34579204  | 1.1559608    | -2.02930073  | 4.242767e-02 |\n",
       "| GroupSED:GenderM:DepressionL |  0.90785015  | 0.8749187    |  1.03763947  | 2.994379e-01 |\n",
       "| Age15-16:GroupSED:GenderM:DepressionL | -0.28321495  | 1.2589017    | -0.22496988  | 8.220027e-01 |\n",
       "| Age17-18:GroupSED:GenderM:DepressionL |  1.02849055  | 1.6564373    |  0.62090520  | 5.346620e-01 |\n",
       "\n"
      ],
      "text/plain": [
       "                                      Estimate    Std. Error z value    \n",
       "(Intercept)                            2.63905733 0.2672612   9.87444835\n",
       "Age15-16                              -0.24116206 0.4029115  -0.59854848\n",
       "Age17-18                              -2.63905733 1.0350937  -2.54958311\n",
       "GroupSED                              -0.55961579 0.4432026  -1.26266351\n",
       "GenderM                                0.25131443 0.3563483   0.70524937\n",
       "DepressionL                            0.88730320 0.3175537   2.79418337\n",
       "Age15-16:GroupSED                      0.10763066 0.6558924   0.16409806\n",
       "Age17-18:GroupSED                      1.25276297 1.3024663   0.96183904\n",
       "Age15-16:GenderM                      -0.34662461 0.5638202  -0.61477863\n",
       "Age17-18:GenderM                       2.31363493 1.0972226   2.10862849\n",
       "GroupSED:GenderM                      -0.72131806 0.6722976  -1.07291475\n",
       "Age15-16:DepressionL                  -0.02710193 0.4798030  -0.05648553\n",
       "Age17-18:DepressionL                   1.88528553 1.0785781   1.74793607\n",
       "GroupSED:DepressionL                  -1.35730682 0.6525644  -2.07995834\n",
       "GenderM:DepressionL                    0.59177290 0.4111619   1.43926974\n",
       "Age15-16:GroupSED:GenderM             -0.03066962 1.0578675  -0.02899193\n",
       "Age17-18:GroupSED:GenderM             -0.92734057 1.4929492  -0.62114678\n",
       "Age15-16:GroupSED:DepressionL          1.25924561 0.8744911   1.43997525\n",
       "Age17-18:GroupSED:DepressionL          0.37647757 1.4393275   0.26156491\n",
       "Age15-16:GenderM:DepressionL           0.38857547 0.6436597   0.60369709\n",
       "Age17-18:GenderM:DepressionL          -2.34579204 1.1559608  -2.02930073\n",
       "GroupSED:GenderM:DepressionL           0.90785015 0.8749187   1.03763947\n",
       "Age15-16:GroupSED:GenderM:DepressionL -0.28321495 1.2589017  -0.22496988\n",
       "Age17-18:GroupSED:GenderM:DepressionL  1.02849055 1.6564373   0.62090520\n",
       "                                      Pr(>|z|)    \n",
       "(Intercept)                           5.372777e-23\n",
       "Age15-16                              5.494740e-01\n",
       "Age17-18                              1.078518e-02\n",
       "GroupSED                              2.067101e-01\n",
       "GenderM                               4.806551e-01\n",
       "DepressionL                           5.203097e-03\n",
       "Age15-16:GroupSED                     8.696540e-01\n",
       "Age17-18:GroupSED                     3.361305e-01\n",
       "Age15-16:GenderM                      5.387009e-01\n",
       "Age17-18:GenderM                      3.497666e-02\n",
       "GroupSED:GenderM                      2.833094e-01\n",
       "Age15-16:DepressionL                  9.549550e-01\n",
       "Age17-18:DepressionL                  8.047510e-02\n",
       "GroupSED:DepressionL                  3.752935e-02\n",
       "GenderM:DepressionL                   1.500741e-01\n",
       "Age15-16:GroupSED:GenderM             9.768710e-01\n",
       "Age17-18:GroupSED:GenderM             5.345030e-01\n",
       "Age15-16:GroupSED:DepressionL         1.498744e-01\n",
       "Age17-18:GroupSED:DepressionL         7.936569e-01\n",
       "Age15-16:GenderM:DepressionL          5.460450e-01\n",
       "Age17-18:GenderM:DepressionL          4.242767e-02\n",
       "GroupSED:GenderM:DepressionL          2.994379e-01\n",
       "Age15-16:GroupSED:GenderM:DepressionL 8.220027e-01\n",
       "Age17-18:GroupSED:GenderM:DepressionL 5.346620e-01"
      ]
     },
     "metadata": {},
     "output_type": "display_data"
    }
   ],
   "source": [
    "coef(summary(dy.4))"
   ]
  },
  {
   "cell_type": "code",
   "execution_count": 8,
   "metadata": {},
   "outputs": [
    {
     "data": {
      "text/html": [
       "<table>\n",
       "<thead><tr><th></th><th scope=col>Df</th><th scope=col>Deviance</th><th scope=col>Resid. Df</th><th scope=col>Resid. Dev</th><th scope=col>Pr(&gt;Chi)</th></tr></thead>\n",
       "<tbody>\n",
       "\t<tr><th scope=row>NULL</th><td>NA          </td><td>         NA </td><td>23          </td><td>3.680484e+02</td><td>          NA</td></tr>\n",
       "\t<tr><th scope=row>Age</th><td> 2          </td><td> 11.9628920 </td><td>21          </td><td>3.560855e+02</td><td>2.525172e-03</td></tr>\n",
       "\t<tr><th scope=row>Group</th><td> 1          </td><td> 69.1035221 </td><td>20          </td><td>2.869819e+02</td><td>9.342836e-17</td></tr>\n",
       "\t<tr><th scope=row>Gender</th><td> 1          </td><td> 58.3693966 </td><td>19          </td><td>2.286125e+02</td><td>2.172442e-14</td></tr>\n",
       "\t<tr><th scope=row>Depression</th><td> 1          </td><td>168.3750630 </td><td>18          </td><td>6.023748e+01</td><td>1.675246e-38</td></tr>\n",
       "\t<tr><th scope=row>Age:Group</th><td> 2          </td><td> 27.0895896 </td><td>16          </td><td>3.314789e+01</td><td>1.310902e-06</td></tr>\n",
       "\t<tr><th scope=row>Age:Gender</th><td> 2          </td><td>  3.6314772 </td><td>14          </td><td>2.951642e+01</td><td>1.627177e-01</td></tr>\n",
       "\t<tr><th scope=row>Group:Gender</th><td> 1          </td><td>  0.6888224 </td><td>13          </td><td>2.882760e+01</td><td>4.065652e-01</td></tr>\n",
       "\t<tr><th scope=row>Age:Depression</th><td> 2          </td><td>  3.6162110 </td><td>11          </td><td>2.521138e+01</td><td>1.639645e-01</td></tr>\n",
       "\t<tr><th scope=row>Group:Depression</th><td> 1          </td><td>  0.2006225 </td><td>10          </td><td>2.501076e+01</td><td>6.542188e-01</td></tr>\n",
       "\t<tr><th scope=row>Gender:Depression</th><td> 1          </td><td>  7.1480292 </td><td> 9          </td><td>1.786273e+01</td><td>7.504641e-03</td></tr>\n",
       "\t<tr><th scope=row>Age:Group:Gender</th><td> 2          </td><td>  0.3544769 </td><td> 7          </td><td>1.750826e+01</td><td>8.375800e-01</td></tr>\n",
       "\t<tr><th scope=row>Age:Group:Depression</th><td> 2          </td><td>  5.5651639 </td><td> 5          </td><td>1.194309e+01</td><td>6.187853e-02</td></tr>\n",
       "\t<tr><th scope=row>Age:Gender:Depression</th><td> 2          </td><td>  8.3257261 </td><td> 3          </td><td>3.617366e+00</td><td>1.556294e-02</td></tr>\n",
       "\t<tr><th scope=row>Group:Gender:Depression</th><td> 1          </td><td>  2.9737782 </td><td> 2          </td><td>6.435875e-01</td><td>8.462400e-02</td></tr>\n",
       "\t<tr><th scope=row>Age:Group:Gender:Depression</th><td> 2          </td><td>  0.6435875 </td><td> 0          </td><td>3.330667e-15</td><td>7.248477e-01</td></tr>\n",
       "</tbody>\n",
       "</table>\n"
      ],
      "text/latex": [
       "\\begin{tabular}{r|lllll}\n",
       "  & Df & Deviance & Resid. Df & Resid. Dev & Pr(>Chi)\\\\\n",
       "\\hline\n",
       "\tNULL & NA           &          NA  & 23           & 3.680484e+02 &           NA\\\\\n",
       "\tAge &  2           &  11.9628920  & 21           & 3.560855e+02 & 2.525172e-03\\\\\n",
       "\tGroup &  1           &  69.1035221  & 20           & 2.869819e+02 & 9.342836e-17\\\\\n",
       "\tGender &  1           &  58.3693966  & 19           & 2.286125e+02 & 2.172442e-14\\\\\n",
       "\tDepression &  1           & 168.3750630  & 18           & 6.023748e+01 & 1.675246e-38\\\\\n",
       "\tAge:Group &  2           &  27.0895896  & 16           & 3.314789e+01 & 1.310902e-06\\\\\n",
       "\tAge:Gender &  2           &   3.6314772  & 14           & 2.951642e+01 & 1.627177e-01\\\\\n",
       "\tGroup:Gender &  1           &   0.6888224  & 13           & 2.882760e+01 & 4.065652e-01\\\\\n",
       "\tAge:Depression &  2           &   3.6162110  & 11           & 2.521138e+01 & 1.639645e-01\\\\\n",
       "\tGroup:Depression &  1           &   0.2006225  & 10           & 2.501076e+01 & 6.542188e-01\\\\\n",
       "\tGender:Depression &  1           &   7.1480292  &  9           & 1.786273e+01 & 7.504641e-03\\\\\n",
       "\tAge:Group:Gender &  2           &   0.3544769  &  7           & 1.750826e+01 & 8.375800e-01\\\\\n",
       "\tAge:Group:Depression &  2           &   5.5651639  &  5           & 1.194309e+01 & 6.187853e-02\\\\\n",
       "\tAge:Gender:Depression &  2           &   8.3257261  &  3           & 3.617366e+00 & 1.556294e-02\\\\\n",
       "\tGroup:Gender:Depression &  1           &   2.9737782  &  2           & 6.435875e-01 & 8.462400e-02\\\\\n",
       "\tAge:Group:Gender:Depression &  2           &   0.6435875  &  0           & 3.330667e-15 & 7.248477e-01\\\\\n",
       "\\end{tabular}\n"
      ],
      "text/markdown": [
       "\n",
       "| <!--/--> | Df | Deviance | Resid. Df | Resid. Dev | Pr(>Chi) |\n",
       "|---|---|---|---|---|---|\n",
       "| NULL | NA           |          NA  | 23           | 3.680484e+02 |           NA |\n",
       "| Age |  2           |  11.9628920  | 21           | 3.560855e+02 | 2.525172e-03 |\n",
       "| Group |  1           |  69.1035221  | 20           | 2.869819e+02 | 9.342836e-17 |\n",
       "| Gender |  1           |  58.3693966  | 19           | 2.286125e+02 | 2.172442e-14 |\n",
       "| Depression |  1           | 168.3750630  | 18           | 6.023748e+01 | 1.675246e-38 |\n",
       "| Age:Group |  2           |  27.0895896  | 16           | 3.314789e+01 | 1.310902e-06 |\n",
       "| Age:Gender |  2           |   3.6314772  | 14           | 2.951642e+01 | 1.627177e-01 |\n",
       "| Group:Gender |  1           |   0.6888224  | 13           | 2.882760e+01 | 4.065652e-01 |\n",
       "| Age:Depression |  2           |   3.6162110  | 11           | 2.521138e+01 | 1.639645e-01 |\n",
       "| Group:Depression |  1           |   0.2006225  | 10           | 2.501076e+01 | 6.542188e-01 |\n",
       "| Gender:Depression |  1           |   7.1480292  |  9           | 1.786273e+01 | 7.504641e-03 |\n",
       "| Age:Group:Gender |  2           |   0.3544769  |  7           | 1.750826e+01 | 8.375800e-01 |\n",
       "| Age:Group:Depression |  2           |   5.5651639  |  5           | 1.194309e+01 | 6.187853e-02 |\n",
       "| Age:Gender:Depression |  2           |   8.3257261  |  3           | 3.617366e+00 | 1.556294e-02 |\n",
       "| Group:Gender:Depression |  1           |   2.9737782  |  2           | 6.435875e-01 | 8.462400e-02 |\n",
       "| Age:Group:Gender:Depression |  2           |   0.6435875  |  0           | 3.330667e-15 | 7.248477e-01 |\n",
       "\n"
      ],
      "text/plain": [
       "                            Df Deviance    Resid. Df Resid. Dev   Pr(>Chi)    \n",
       "NULL                        NA          NA 23        3.680484e+02           NA\n",
       "Age                          2  11.9628920 21        3.560855e+02 2.525172e-03\n",
       "Group                        1  69.1035221 20        2.869819e+02 9.342836e-17\n",
       "Gender                       1  58.3693966 19        2.286125e+02 2.172442e-14\n",
       "Depression                   1 168.3750630 18        6.023748e+01 1.675246e-38\n",
       "Age:Group                    2  27.0895896 16        3.314789e+01 1.310902e-06\n",
       "Age:Gender                   2   3.6314772 14        2.951642e+01 1.627177e-01\n",
       "Group:Gender                 1   0.6888224 13        2.882760e+01 4.065652e-01\n",
       "Age:Depression               2   3.6162110 11        2.521138e+01 1.639645e-01\n",
       "Group:Depression             1   0.2006225 10        2.501076e+01 6.542188e-01\n",
       "Gender:Depression            1   7.1480292  9        1.786273e+01 7.504641e-03\n",
       "Age:Group:Gender             2   0.3544769  7        1.750826e+01 8.375800e-01\n",
       "Age:Group:Depression         2   5.5651639  5        1.194309e+01 6.187853e-02\n",
       "Age:Gender:Depression        2   8.3257261  3        3.617366e+00 1.556294e-02\n",
       "Group:Gender:Depression      1   2.9737782  2        6.435875e-01 8.462400e-02\n",
       "Age:Group:Gender:Depression  2   0.6435875  0        3.330667e-15 7.248477e-01"
      ]
     },
     "metadata": {},
     "output_type": "display_data"
    }
   ],
   "source": [
    "anova(dy.4, test=\"Chisq\")"
   ]
  },
  {
   "cell_type": "markdown",
   "metadata": {},
   "source": [
    "Age17-18:GenderM\t\n",
    "GroupSED:DepressionL\n",
    "Age17-18:DepressionL: Marginality Principle\n",
    "GenderM:DepressionL: Marginality Principle"
   ]
  },
  {
   "cell_type": "code",
   "execution_count": 11,
   "metadata": {},
   "outputs": [
    {
     "data": {
      "text/html": [
       "3.33066688705975e-15"
      ],
      "text/latex": [
       "3.33066688705975e-15"
      ],
      "text/markdown": [
       "3.33066688705975e-15"
      ],
      "text/plain": [
       "[1] 3.330667e-15"
      ]
     },
     "metadata": {},
     "output_type": "display_data"
    },
    {
     "data": {
      "text/html": [
       "2.18683181074831e-21"
      ],
      "text/latex": [
       "2.18683181074831e-21"
      ],
      "text/markdown": [
       "2.18683181074831e-21"
      ],
      "text/plain": [
       "[1] 2.186832e-21"
      ]
     },
     "metadata": {},
     "output_type": "display_data"
    }
   ],
   "source": [
    "gof.dev <- deviance(dy.4)\n",
    "gof.pearson <- sum(dy.4$weights * dy.4$residuals^2)\n",
    "gof.dev\n",
    "gof.pearson\n",
    "#pchisq(gof.dev, df=dy.4, lower.tail = FALSE)\n",
    "#pchisq(gof.pearson, df=dy.4, lower.tail = FALSE)"
   ]
  },
  {
   "cell_type": "code",
   "execution_count": 12,
   "metadata": {},
   "outputs": [
    {
     "name": "stderr",
     "output_type": "stream",
     "text": [
      "Warning message in min(x):\n",
      "\"no non-missing arguments to min; returning Inf\"Warning message in max(x):\n",
      "\"no non-missing arguments to max; returning -Inf\""
     ]
    },
    {
     "ename": "ERROR",
     "evalue": "Error in seq.int(min(x), max(x), length.out = evaluation): 'from' must be a finite number\n",
     "output_type": "error",
     "traceback": [
      "Error in seq.int(min(x), max(x), length.out = evaluation): 'from' must be a finite number\nTraceback:\n",
      "1. scatter.smooth(rstandard(dy.4) ~ sqrt(fitted(dy.4)))",
      "2. loess.smooth(x, y, span, degree, family, evaluation)"
     ]
    }
   ],
   "source": [
    "par(mfrow=c(3, 3))\n",
    "scatter.smooth(rstandard(dy.4) ~ sqrt(fitted(dy.4)))\n"
   ]
  }
 ],
 "metadata": {
  "kernelspec": {
   "display_name": "R",
   "language": "R",
   "name": "ir"
  },
  "language_info": {
   "codemirror_mode": "r",
   "file_extension": ".r",
   "mimetype": "text/x-r-source",
   "name": "R",
   "pygments_lexer": "r",
   "version": "3.6.1"
  },
  "orig_nbformat": 4
 },
 "nbformat": 4,
 "nbformat_minor": 2
}
