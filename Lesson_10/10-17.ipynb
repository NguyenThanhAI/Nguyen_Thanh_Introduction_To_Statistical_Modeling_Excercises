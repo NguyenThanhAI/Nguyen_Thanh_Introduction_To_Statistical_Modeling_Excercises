{
 "cells": [
  {
   "cell_type": "code",
   "execution_count": 1,
   "metadata": {},
   "outputs": [
    {
     "name": "stderr",
     "output_type": "stream",
     "text": [
      "Warning message:\n",
      "\"package 'statmod' was built under R version 3.6.3\""
     ]
    }
   ],
   "source": [
    "library(GLMsData)\n",
    "library(statmod)\n",
    "library(MASS)"
   ]
  },
  {
   "cell_type": "code",
   "execution_count": 2,
   "metadata": {},
   "outputs": [],
   "source": [
    "data(failures)"
   ]
  },
  {
   "cell_type": "code",
   "execution_count": 3,
   "metadata": {},
   "outputs": [
    {
     "name": "stdout",
     "output_type": "stream",
     "text": [
      "'data.frame':\t9 obs. of  4 variables:\n",
      " $ Period  : int  1 2 3 4 5 6 7 8 9\n",
      " $ Time1   : num  33.3 52.2 64.7 137 125.9 ...\n",
      " $ Time2   : num  25.3 14.4 32.5 20.5 97.6 53.6 56.6 87.3 47.8\n",
      " $ Failures: int  15 9 14 24 27 27 23 18 22\n"
     ]
    }
   ],
   "source": [
    "str(failures)"
   ]
  },
  {
   "cell_type": "code",
   "execution_count": 18,
   "metadata": {},
   "outputs": [
    {
     "data": {
      "text/html": [
       "<table>\n",
       "<thead><tr><th scope=col>Period</th><th scope=col>Time1</th><th scope=col>Time2</th><th scope=col>Failures</th></tr></thead>\n",
       "<tbody>\n",
       "\t<tr><td>1    </td><td> 33.3</td><td>25.3 </td><td>15   </td></tr>\n",
       "\t<tr><td>2    </td><td> 52.2</td><td>14.4 </td><td> 9   </td></tr>\n",
       "\t<tr><td>3    </td><td> 64.7</td><td>32.5 </td><td>14   </td></tr>\n",
       "\t<tr><td>4    </td><td>137.0</td><td>20.5 </td><td>24   </td></tr>\n",
       "\t<tr><td>5    </td><td>125.9</td><td>97.6 </td><td>27   </td></tr>\n",
       "\t<tr><td>6    </td><td>116.3</td><td>53.6 </td><td>27   </td></tr>\n",
       "\t<tr><td>7    </td><td>131.7</td><td>56.6 </td><td>23   </td></tr>\n",
       "\t<tr><td>8    </td><td> 85.0</td><td>87.3 </td><td>18   </td></tr>\n",
       "\t<tr><td>9    </td><td> 91.9</td><td>47.8 </td><td>22   </td></tr>\n",
       "</tbody>\n",
       "</table>\n"
      ],
      "text/latex": [
       "\\begin{tabular}{r|llll}\n",
       " Period & Time1 & Time2 & Failures\\\\\n",
       "\\hline\n",
       "\t 1     &  33.3 & 25.3  & 15   \\\\\n",
       "\t 2     &  52.2 & 14.4  &  9   \\\\\n",
       "\t 3     &  64.7 & 32.5  & 14   \\\\\n",
       "\t 4     & 137.0 & 20.5  & 24   \\\\\n",
       "\t 5     & 125.9 & 97.6  & 27   \\\\\n",
       "\t 6     & 116.3 & 53.6  & 27   \\\\\n",
       "\t 7     & 131.7 & 56.6  & 23   \\\\\n",
       "\t 8     &  85.0 & 87.3  & 18   \\\\\n",
       "\t 9     &  91.9 & 47.8  & 22   \\\\\n",
       "\\end{tabular}\n"
      ],
      "text/markdown": [
       "\n",
       "| Period | Time1 | Time2 | Failures |\n",
       "|---|---|---|---|\n",
       "| 1     |  33.3 | 25.3  | 15    |\n",
       "| 2     |  52.2 | 14.4  |  9    |\n",
       "| 3     |  64.7 | 32.5  | 14    |\n",
       "| 4     | 137.0 | 20.5  | 24    |\n",
       "| 5     | 125.9 | 97.6  | 27    |\n",
       "| 6     | 116.3 | 53.6  | 27    |\n",
       "| 7     | 131.7 | 56.6  | 23    |\n",
       "| 8     |  85.0 | 87.3  | 18    |\n",
       "| 9     |  91.9 | 47.8  | 22    |\n",
       "\n"
      ],
      "text/plain": [
       "  Period Time1 Time2 Failures\n",
       "1 1       33.3 25.3  15      \n",
       "2 2       52.2 14.4   9      \n",
       "3 3       64.7 32.5  14      \n",
       "4 4      137.0 20.5  24      \n",
       "5 5      125.9 97.6  27      \n",
       "6 6      116.3 53.6  27      \n",
       "7 7      131.7 56.6  23      \n",
       "8 8       85.0 87.3  18      \n",
       "9 9       91.9 47.8  22      "
      ]
     },
     "metadata": {},
     "output_type": "display_data"
    }
   ],
   "source": [
    "failures"
   ]
  },
  {
   "cell_type": "code",
   "execution_count": 5,
   "metadata": {},
   "outputs": [
    {
     "data": {
      "image/png": "[encoded data removed]",
      "text/plain": [
       "plot without title"
      ]
     },
     "metadata": {},
     "output_type": "display_data"
    },
    {
     "data": {
      "image/png": "[encoded data removed]",
      "text/plain": [
       "plot without title"
      ]
     },
     "metadata": {},
     "output_type": "display_data"
    }
   ],
   "source": [
    "scatter.smooth(failures$Failures ~ failures$Time1)\n",
    "scatter.smooth(failures$Failures ~ failures$Time2)"
   ]
  },
  {
   "cell_type": "code",
   "execution_count": 15,
   "metadata": {},
   "outputs": [],
   "source": [
    "glm.1 <- glm(Failures ~ Time1 + Time2, data=failures, family = poisson(link=\"identity\"))"
   ]
  },
  {
   "cell_type": "code",
   "execution_count": 16,
   "metadata": {},
   "outputs": [
    {
     "data": {
      "text/html": [
       "<table>\n",
       "<thead><tr><th></th><th scope=col>Estimate</th><th scope=col>Std. Error</th><th scope=col>z value</th><th scope=col>Pr(&gt;|z|)</th></tr></thead>\n",
       "<tbody>\n",
       "\t<tr><th scope=row>(Intercept)</th><td>5.99772624</td><td>3.63544620</td><td>1.6497909 </td><td>0.09898570</td></tr>\n",
       "\t<tr><th scope=row>Time1</th><td>0.12081077</td><td>0.04578404</td><td>2.6387094 </td><td>0.00832223</td></tr>\n",
       "\t<tr><th scope=row>Time2</th><td>0.05459375</td><td>0.06355954</td><td>0.8589386 </td><td>0.39037437</td></tr>\n",
       "</tbody>\n",
       "</table>\n"
      ],
      "text/latex": [
       "\\begin{tabular}{r|llll}\n",
       "  & Estimate & Std. Error & z value & Pr(>\\textbar{}z\\textbar{})\\\\\n",
       "\\hline\n",
       "\t(Intercept) & 5.99772624 & 3.63544620 & 1.6497909  & 0.09898570\\\\\n",
       "\tTime1 & 0.12081077 & 0.04578404 & 2.6387094  & 0.00832223\\\\\n",
       "\tTime2 & 0.05459375 & 0.06355954 & 0.8589386  & 0.39037437\\\\\n",
       "\\end{tabular}\n"
      ],
      "text/markdown": [
       "\n",
       "| <!--/--> | Estimate | Std. Error | z value | Pr(>|z|) |\n",
       "|---|---|---|---|---|\n",
       "| (Intercept) | 5.99772624 | 3.63544620 | 1.6497909  | 0.09898570 |\n",
       "| Time1 | 0.12081077 | 0.04578404 | 2.6387094  | 0.00832223 |\n",
       "| Time2 | 0.05459375 | 0.06355954 | 0.8589386  | 0.39037437 |\n",
       "\n"
      ],
      "text/plain": [
       "            Estimate   Std. Error z value   Pr(>|z|)  \n",
       "(Intercept) 5.99772624 3.63544620 1.6497909 0.09898570\n",
       "Time1       0.12081077 0.04578404 2.6387094 0.00832223\n",
       "Time2       0.05459375 0.06355954 0.8589386 0.39037437"
      ]
     },
     "metadata": {},
     "output_type": "display_data"
    }
   ],
   "source": [
    "coef(summary(glm.1))"
   ]
  },
  {
   "cell_type": "code",
   "execution_count": 17,
   "metadata": {},
   "outputs": [
    {
     "data": {
      "text/html": [
       "<table>\n",
       "<thead><tr><th></th><th scope=col>Df</th><th scope=col>Deviance</th><th scope=col>Resid. Df</th><th scope=col>Resid. Dev</th><th scope=col>Pr(&gt;Chi)</th></tr></thead>\n",
       "<tbody>\n",
       "\t<tr><th scope=row>NULL</th><td>NA          </td><td>       NA   </td><td>8           </td><td>16.996384   </td><td>          NA</td></tr>\n",
       "\t<tr><th scope=row>Time1</th><td> 1          </td><td>12.106973   </td><td>7           </td><td> 4.889411   </td><td>0.0005023362</td></tr>\n",
       "\t<tr><th scope=row>Time2</th><td> 1          </td><td> 0.692262   </td><td>6           </td><td> 4.197149   </td><td>0.4053960632</td></tr>\n",
       "</tbody>\n",
       "</table>\n"
      ],
      "text/latex": [
       "\\begin{tabular}{r|lllll}\n",
       "  & Df & Deviance & Resid. Df & Resid. Dev & Pr(>Chi)\\\\\n",
       "\\hline\n",
       "\tNULL & NA           &        NA    & 8            & 16.996384    &           NA\\\\\n",
       "\tTime1 &  1           & 12.106973    & 7            &  4.889411    & 0.0005023362\\\\\n",
       "\tTime2 &  1           &  0.692262    & 6            &  4.197149    & 0.4053960632\\\\\n",
       "\\end{tabular}\n"
      ],
      "text/markdown": [
       "\n",
       "| <!--/--> | Df | Deviance | Resid. Df | Resid. Dev | Pr(>Chi) |\n",
       "|---|---|---|---|---|---|\n",
       "| NULL | NA           |        NA    | 8            | 16.996384    |           NA |\n",
       "| Time1 |  1           | 12.106973    | 7            |  4.889411    | 0.0005023362 |\n",
       "| Time2 |  1           |  0.692262    | 6            |  4.197149    | 0.4053960632 |\n",
       "\n"
      ],
      "text/plain": [
       "      Df Deviance  Resid. Df Resid. Dev Pr(>Chi)    \n",
       "NULL  NA        NA 8         16.996384            NA\n",
       "Time1  1 12.106973 7          4.889411  0.0005023362\n",
       "Time2  1  0.692262 6          4.197149  0.4053960632"
      ]
     },
     "metadata": {},
     "output_type": "display_data"
    }
   ],
   "source": [
    "anova(glm.1, test=\"Chisq\")"
   ]
  },
  {
   "cell_type": "code",
   "execution_count": 20,
   "metadata": {},
   "outputs": [
    {
     "data": {
      "text/html": [
       "0.650016216339893"
      ],
      "text/latex": [
       "0.650016216339893"
      ],
      "text/markdown": [
       "0.650016216339893"
      ],
      "text/plain": [
       "[1] 0.6500162"
      ]
     },
     "metadata": {},
     "output_type": "display_data"
    },
    {
     "data": {
      "text/html": [
       "0.655482402780286"
      ],
      "text/latex": [
       "0.655482402780286"
      ],
      "text/markdown": [
       "0.655482402780286"
      ],
      "text/plain": [
       "[1] 0.6554824"
      ]
     },
     "metadata": {},
     "output_type": "display_data"
    },
    {
     "data": {
      "text/html": [
       "0.699524903645477"
      ],
      "text/latex": [
       "0.699524903645477"
      ],
      "text/markdown": [
       "0.699524903645477"
      ],
      "text/plain": [
       "[1] 0.6995249"
      ]
     },
     "metadata": {},
     "output_type": "display_data"
    },
    {
     "data": {
      "text/html": [
       "0.692780386586395"
      ],
      "text/latex": [
       "0.692780386586395"
      ],
      "text/markdown": [
       "0.692780386586395"
      ],
      "text/plain": [
       "[1] 0.6927804"
      ]
     },
     "metadata": {},
     "output_type": "display_data"
    }
   ],
   "source": [
    "gof.dev <- deviance(glm.1)\n",
    "gof.pearson <- sum(glm.1$weights * glm.1$residuals^2)\n",
    "\n",
    "pchisq(gof.dev, df=df.residual(glm.1), lower.tail = FALSE)\n",
    "pchisq(gof.pearson, df=df.residual(glm.1), lower.tail = FALSE)\n",
    "\n",
    "gof.dev / df.residual(glm.1)\n",
    "gof.pearson / df.residual(glm.1)\n"
   ]
  },
  {
   "cell_type": "code",
   "execution_count": 21,
   "metadata": {},
   "outputs": [
    {
     "data": {
      "text/plain": [
       "\n",
       "\tShapiro-Wilk normality test\n",
       "\n",
       "data:  qresid(glm.1)\n",
       "W = 0.95146, p-value = 0.7061\n"
      ]
     },
     "metadata": {},
     "output_type": "display_data"
    },
    {
     "data": {
      "image/png": "[encoded data removed]",
      "text/plain": [
       "Plot with title \"Normal Q-Q Plot\""
      ]
     },
     "metadata": {},
     "output_type": "display_data"
    }
   ],
   "source": [
    "par(mfrow=c(3, 3))\n",
    "\n",
    "scatter.smooth(rstandard(glm.1) ~ sqrt(fitted(glm.1)))\n",
    "scatter.smooth(rstandard(glm.1) ~ failures$Time1)\n",
    "scatter.smooth(rstandard(glm.1) ~ failures$Time2)\n",
    "termplot(glm.1, partial.resid = TRUE)\n",
    "z <- resid(glm.1, type=\"working\") + glm.1$linear.predictor\n",
    "scatter.smooth(z ~ glm.1$linear.predictor)\n",
    "qqnorm(qresid(glm.1))\n",
    "qqline(qresid(glm.1))\n",
    "plot(cooks.distance(glm.1), type=\"h\")\n",
    "shapiro.test(qresid(glm.1))"
   ]
  },
  {
   "cell_type": "code",
   "execution_count": 22,
   "metadata": {},
   "outputs": [
    {
     "data": {
      "text/html": [
       "<dl class=dl-horizontal>\n",
       "\t<dt>dfb.1_</dt>\n",
       "\t\t<dd>2</dd>\n",
       "\t<dt>dfb.Tim1</dt>\n",
       "\t\t<dd>1</dd>\n",
       "\t<dt>dfb.Tim2</dt>\n",
       "\t\t<dd>0</dd>\n",
       "\t<dt>dffit</dt>\n",
       "\t\t<dd>1</dd>\n",
       "\t<dt>cov.r</dt>\n",
       "\t\t<dd>2</dd>\n",
       "\t<dt>cook.d</dt>\n",
       "\t\t<dd>0</dd>\n",
       "\t<dt>hat</dt>\n",
       "\t\t<dd>0</dd>\n",
       "</dl>\n"
      ],
      "text/latex": [
       "\\begin{description*}\n",
       "\\item[dfb.1\\textbackslash{}\\_] 2\n",
       "\\item[dfb.Tim1] 1\n",
       "\\item[dfb.Tim2] 0\n",
       "\\item[dffit] 1\n",
       "\\item[cov.r] 2\n",
       "\\item[cook.d] 0\n",
       "\\item[hat] 0\n",
       "\\end{description*}\n"
      ],
      "text/markdown": [
       "dfb.1_\n",
       ":   2dfb.Tim1\n",
       ":   1dfb.Tim2\n",
       ":   0dffit\n",
       ":   1cov.r\n",
       ":   2cook.d\n",
       ":   0hat\n",
       ":   0\n",
       "\n"
      ],
      "text/plain": [
       "  dfb.1_ dfb.Tim1 dfb.Tim2    dffit    cov.r   cook.d      hat \n",
       "       2        1        0        1        2        0        0 "
      ]
     },
     "metadata": {},
     "output_type": "display_data"
    }
   ],
   "source": [
    "colSums(influence.measures(glm.1)$is.inf)"
   ]
  },
  {
   "cell_type": "code",
   "execution_count": 23,
   "metadata": {},
   "outputs": [
    {
     "data": {
      "text/html": [
       "<dl class=dl-horizontal>\n",
       "\t<dt>1</dt>\n",
       "\t\t<dd>3</dd>\n",
       "\t<dt>2</dt>\n",
       "\t\t<dd>1</dd>\n",
       "\t<dt>3</dt>\n",
       "\t\t<dd>0</dd>\n",
       "\t<dt>4</dt>\n",
       "\t\t<dd>1</dd>\n",
       "\t<dt>5</dt>\n",
       "\t\t<dd>1</dd>\n",
       "\t<dt>6</dt>\n",
       "\t\t<dd>0</dd>\n",
       "\t<dt>7</dt>\n",
       "\t\t<dd>0</dd>\n",
       "\t<dt>8</dt>\n",
       "\t\t<dd>0</dd>\n",
       "\t<dt>9</dt>\n",
       "\t\t<dd>0</dd>\n",
       "</dl>\n"
      ],
      "text/latex": [
       "\\begin{description*}\n",
       "\\item[1] 3\n",
       "\\item[2] 1\n",
       "\\item[3] 0\n",
       "\\item[4] 1\n",
       "\\item[5] 1\n",
       "\\item[6] 0\n",
       "\\item[7] 0\n",
       "\\item[8] 0\n",
       "\\item[9] 0\n",
       "\\end{description*}\n"
      ],
      "text/markdown": [
       "1\n",
       ":   32\n",
       ":   13\n",
       ":   04\n",
       ":   15\n",
       ":   16\n",
       ":   07\n",
       ":   08\n",
       ":   09\n",
       ":   0\n",
       "\n"
      ],
      "text/plain": [
       "1 2 3 4 5 6 7 8 9 \n",
       "3 1 0 1 1 0 0 0 0 "
      ]
     },
     "metadata": {},
     "output_type": "display_data"
    }
   ],
   "source": [
    "rowSums(influence.measures(glm.1)$is.inf)"
   ]
  }
 ],
 "metadata": {
  "kernelspec": {
   "display_name": "R",
   "language": "R",
   "name": "ir"
  },
  "language_info": {
   "codemirror_mode": "r",
   "file_extension": ".r",
   "mimetype": "text/x-r-source",
   "name": "R",
   "pygments_lexer": "r",
   "version": "3.6.1"
  },
  "orig_nbformat": 4
 },
 "nbformat": 4,
 "nbformat_minor": 2
}
