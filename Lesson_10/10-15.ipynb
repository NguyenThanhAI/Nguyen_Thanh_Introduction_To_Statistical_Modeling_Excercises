{
 "cells": [
  {
   "cell_type": "code",
   "execution_count": 1,
   "metadata": {},
   "outputs": [
    {
     "name": "stderr",
     "output_type": "stream",
     "text": [
      "Warning message:\n",
      "\"package 'statmod' was built under R version 3.6.3\""
     ]
    }
   ],
   "source": [
    "library(GLMsData)\n",
    "library(statmod)\n",
    "library(MASS)"
   ]
  },
  {
   "cell_type": "code",
   "execution_count": 2,
   "metadata": {},
   "outputs": [],
   "source": [
    "data(polyps)"
   ]
  },
  {
   "cell_type": "code",
   "execution_count": 3,
   "metadata": {},
   "outputs": [
    {
     "name": "stdout",
     "output_type": "stream",
     "text": [
      "'data.frame':\t20 obs. of  3 variables:\n",
      " $ Number   : int  1 1 2 3 3 4 17 25 33 7 ...\n",
      " $ Treatment: Factor w/ 2 levels \"Drug\",\"Placebo\": 1 1 1 1 1 1 1 1 1 2 ...\n",
      " $ Age      : int  22 23 16 23 23 42 22 17 23 34 ...\n"
     ]
    }
   ],
   "source": [
    "str(polyps)"
   ]
  },
  {
   "cell_type": "code",
   "execution_count": 4,
   "metadata": {},
   "outputs": [
    {
     "data": {
      "image/png": "[encoded data removed]",
      "text/plain": [
       "plot without title"
      ]
     },
     "metadata": {},
     "output_type": "display_data"
    }
   ],
   "source": [
    "par(mfrow=c(1, 2))\n",
    "plot(Number ~ Treatment, data=polyps)\n",
    "plot(Number ~ Age, data=polyps)"
   ]
  },
  {
   "cell_type": "code",
   "execution_count": 5,
   "metadata": {},
   "outputs": [],
   "source": [
    "glm.1 <- glm(Number ~ Treatment + Age, family=poisson(link=\"log\"), data=polyps)"
   ]
  },
  {
   "cell_type": "code",
   "execution_count": 6,
   "metadata": {},
   "outputs": [
    {
     "data": {
      "text/html": [
       "<table>\n",
       "<thead><tr><th></th><th scope=col>Estimate</th><th scope=col>Std. Error</th><th scope=col>z value</th><th scope=col>Pr(&gt;|z|)</th></tr></thead>\n",
       "<tbody>\n",
       "\t<tr><th scope=row>(Intercept)</th><td> 3.16994097 </td><td>0.168210066 </td><td>18.845132   </td><td>3.221578e-79</td></tr>\n",
       "\t<tr><th scope=row>TreatmentPlacebo</th><td> 1.35908338 </td><td>0.117643270 </td><td>11.552581   </td><td>7.163652e-31</td></tr>\n",
       "\t<tr><th scope=row>Age</th><td>-0.03883027 </td><td>0.005955279 </td><td>-6.520311   </td><td>7.016172e-11</td></tr>\n",
       "</tbody>\n",
       "</table>\n"
      ],
      "text/latex": [
       "\\begin{tabular}{r|llll}\n",
       "  & Estimate & Std. Error & z value & Pr(>\\textbar{}z\\textbar{})\\\\\n",
       "\\hline\n",
       "\t(Intercept) &  3.16994097  & 0.168210066  & 18.845132    & 3.221578e-79\\\\\n",
       "\tTreatmentPlacebo &  1.35908338  & 0.117643270  & 11.552581    & 7.163652e-31\\\\\n",
       "\tAge & -0.03883027  & 0.005955279  & -6.520311    & 7.016172e-11\\\\\n",
       "\\end{tabular}\n"
      ],
      "text/markdown": [
       "\n",
       "| <!--/--> | Estimate | Std. Error | z value | Pr(>|z|) |\n",
       "|---|---|---|---|---|\n",
       "| (Intercept) |  3.16994097  | 0.168210066  | 18.845132    | 3.221578e-79 |\n",
       "| TreatmentPlacebo |  1.35908338  | 0.117643270  | 11.552581    | 7.163652e-31 |\n",
       "| Age | -0.03883027  | 0.005955279  | -6.520311    | 7.016172e-11 |\n",
       "\n"
      ],
      "text/plain": [
       "                 Estimate    Std. Error  z value   Pr(>|z|)    \n",
       "(Intercept)       3.16994097 0.168210066 18.845132 3.221578e-79\n",
       "TreatmentPlacebo  1.35908338 0.117643270 11.552581 7.163652e-31\n",
       "Age              -0.03883027 0.005955279 -6.520311 7.016172e-11"
      ]
     },
     "metadata": {},
     "output_type": "display_data"
    }
   ],
   "source": [
    "coef(summary(glm.1))"
   ]
  },
  {
   "cell_type": "code",
   "execution_count": 8,
   "metadata": {},
   "outputs": [
    {
     "data": {
      "text/html": [
       "<table>\n",
       "<thead><tr><th></th><th scope=col>Df</th><th scope=col>Deviance</th><th scope=col>Resid. Df</th><th scope=col>Resid. Dev</th><th scope=col>Pr(&gt;Chi)</th></tr></thead>\n",
       "<tbody>\n",
       "\t<tr><th scope=row>NULL</th><td>NA          </td><td>       NA   </td><td>19          </td><td>378.6598    </td><td>          NA</td></tr>\n",
       "\t<tr><th scope=row>Treatment</th><td> 1          </td><td>150.10082   </td><td>18          </td><td>228.5589    </td><td>1.647869e-34</td></tr>\n",
       "\t<tr><th scope=row>Age</th><td> 1          </td><td> 49.01811   </td><td>17          </td><td>179.5408    </td><td>2.536095e-12</td></tr>\n",
       "</tbody>\n",
       "</table>\n"
      ],
      "text/latex": [
       "\\begin{tabular}{r|lllll}\n",
       "  & Df & Deviance & Resid. Df & Resid. Dev & Pr(>Chi)\\\\\n",
       "\\hline\n",
       "\tNULL & NA           &        NA    & 19           & 378.6598     &           NA\\\\\n",
       "\tTreatment &  1           & 150.10082    & 18           & 228.5589     & 1.647869e-34\\\\\n",
       "\tAge &  1           &  49.01811    & 17           & 179.5408     & 2.536095e-12\\\\\n",
       "\\end{tabular}\n"
      ],
      "text/markdown": [
       "\n",
       "| <!--/--> | Df | Deviance | Resid. Df | Resid. Dev | Pr(>Chi) |\n",
       "|---|---|---|---|---|---|\n",
       "| NULL | NA           |        NA    | 19           | 378.6598     |           NA |\n",
       "| Treatment |  1           | 150.10082    | 18           | 228.5589     | 1.647869e-34 |\n",
       "| Age |  1           |  49.01811    | 17           | 179.5408     | 2.536095e-12 |\n",
       "\n"
      ],
      "text/plain": [
       "          Df Deviance  Resid. Df Resid. Dev Pr(>Chi)    \n",
       "NULL      NA        NA 19        378.6598             NA\n",
       "Treatment  1 150.10082 18        228.5589   1.647869e-34\n",
       "Age        1  49.01811 17        179.5408   2.536095e-12"
      ]
     },
     "metadata": {},
     "output_type": "display_data"
    }
   ],
   "source": [
    "anova(glm.1, test=\"Chisq\")"
   ]
  },
  {
   "cell_type": "code",
   "execution_count": 13,
   "metadata": {},
   "outputs": [
    {
     "data": {
      "text/html": [
       "3.56394120868319e-29"
      ],
      "text/latex": [
       "3.56394120868319e-29"
      ],
      "text/markdown": [
       "3.56394120868319e-29"
      ],
      "text/plain": [
       "[1] 3.563941e-29"
      ]
     },
     "metadata": {},
     "output_type": "display_data"
    },
    {
     "data": {
      "text/html": [
       "9.69514049443118e-30"
      ],
      "text/latex": [
       "9.69514049443118e-30"
      ],
      "text/markdown": [
       "9.69514049443118e-30"
      ],
      "text/plain": [
       "[1] 9.69514e-30"
      ]
     },
     "metadata": {},
     "output_type": "display_data"
    },
    {
     "data": {
      "text/html": [
       "10.5612251720307"
      ],
      "text/latex": [
       "10.5612251720307"
      ],
      "text/markdown": [
       "10.5612251720307"
      ],
      "text/plain": [
       "[1] 10.56123"
      ]
     },
     "metadata": {},
     "output_type": "display_data"
    },
    {
     "data": {
      "text/html": [
       "10.7280473504244"
      ],
      "text/latex": [
       "10.7280473504244"
      ],
      "text/markdown": [
       "10.7280473504244"
      ],
      "text/plain": [
       "[1] 10.72805"
      ]
     },
     "metadata": {},
     "output_type": "display_data"
    }
   ],
   "source": [
    "gof.dev <- deviance(glm.1)\n",
    "gof.pearson <- sum(glm.1$weights * glm.1$residuals^2)\n",
    "\n",
    "pchisq(gof.dev, df=df.residual(glm.1), lower.tail = FALSE)\n",
    "pchisq(gof.pearson, df=df.residual(glm.1), lower.tail = FALSE)\n",
    "\n",
    "gof.dev / df.residual(glm.1)\n",
    "gof.pearson / df.residual(glm.1)"
   ]
  },
  {
   "cell_type": "code",
   "execution_count": 12,
   "metadata": {},
   "outputs": [
    {
     "data": {
      "text/plain": [
       "\n",
       "\tShapiro-Wilk normality test\n",
       "\n",
       "data:  qresid(glm.1)\n",
       "W = 0.94345, p-value = 0.2784\n"
      ]
     },
     "metadata": {},
     "output_type": "display_data"
    },
    {
     "data": {
      "image/png": "[encoded data removed]",
      "text/plain": [
       "Plot with title \"Normal Q-Q Plot\""
      ]
     },
     "metadata": {},
     "output_type": "display_data"
    }
   ],
   "source": [
    "par(mfrow=c(3, 3))\n",
    "\n",
    "scatter.smooth(rstandard(glm.1) ~ sqrt(fitted(glm.1)))\n",
    "scatter.smooth(rstandard(glm.1) ~ polyps$Age)\n",
    "termplot(glm.1, partial.resid = TRUE, terms=\"Age\")\n",
    "z <- resid(glm.1, type=\"working\") + glm.1$linear.predictor\n",
    "scatter.smooth(z ~ glm.1$linear.predictor)\n",
    "qqnorm(qresid(glm.1))\n",
    "qqline(qresid(glm.1))\n",
    "shapiro.test(qresid(glm.1))"
   ]
  },
  {
   "cell_type": "code",
   "execution_count": 14,
   "metadata": {},
   "outputs": [],
   "source": [
    "glm.quasi <- glm(Number ~ Treatment + Age, family=quasipoisson(link=\"log\"), data=polyps)"
   ]
  },
  {
   "cell_type": "code",
   "execution_count": 15,
   "metadata": {},
   "outputs": [
    {
     "data": {
      "text/html": [
       "<table>\n",
       "<thead><tr><th></th><th scope=col>Estimate</th><th scope=col>Std. Error</th><th scope=col>t value</th><th scope=col>Pr(&gt;|t|)</th></tr></thead>\n",
       "<tbody>\n",
       "\t<tr><th scope=row>(Intercept)</th><td> 3.16994097 </td><td>0.55095017  </td><td> 5.753589   </td><td>2.339607e-05</td></tr>\n",
       "\t<tr><th scope=row>TreatmentPlacebo</th><td> 1.35908338 </td><td>0.38532522  </td><td> 3.527107   </td><td>2.587396e-03</td></tr>\n",
       "\t<tr><th scope=row>Age</th><td>-0.03883027 </td><td>0.01950574  </td><td>-1.990710   </td><td>6.283787e-02</td></tr>\n",
       "</tbody>\n",
       "</table>\n"
      ],
      "text/latex": [
       "\\begin{tabular}{r|llll}\n",
       "  & Estimate & Std. Error & t value & Pr(>\\textbar{}t\\textbar{})\\\\\n",
       "\\hline\n",
       "\t(Intercept) &  3.16994097  & 0.55095017   &  5.753589    & 2.339607e-05\\\\\n",
       "\tTreatmentPlacebo &  1.35908338  & 0.38532522   &  3.527107    & 2.587396e-03\\\\\n",
       "\tAge & -0.03883027  & 0.01950574   & -1.990710    & 6.283787e-02\\\\\n",
       "\\end{tabular}\n"
      ],
      "text/markdown": [
       "\n",
       "| <!--/--> | Estimate | Std. Error | t value | Pr(>|t|) |\n",
       "|---|---|---|---|---|\n",
       "| (Intercept) |  3.16994097  | 0.55095017   |  5.753589    | 2.339607e-05 |\n",
       "| TreatmentPlacebo |  1.35908338  | 0.38532522   |  3.527107    | 2.587396e-03 |\n",
       "| Age | -0.03883027  | 0.01950574   | -1.990710    | 6.283787e-02 |\n",
       "\n"
      ],
      "text/plain": [
       "                 Estimate    Std. Error t value   Pr(>|t|)    \n",
       "(Intercept)       3.16994097 0.55095017  5.753589 2.339607e-05\n",
       "TreatmentPlacebo  1.35908338 0.38532522  3.527107 2.587396e-03\n",
       "Age              -0.03883027 0.01950574 -1.990710 6.283787e-02"
      ]
     },
     "metadata": {},
     "output_type": "display_data"
    }
   ],
   "source": [
    "coef(summary(glm.quasi))"
   ]
  },
  {
   "cell_type": "code",
   "execution_count": 16,
   "metadata": {},
   "outputs": [
    {
     "data": {
      "text/html": [
       "<table>\n",
       "<thead><tr><th></th><th scope=col>Df</th><th scope=col>Deviance</th><th scope=col>Resid. Df</th><th scope=col>Resid. Dev</th><th scope=col>F</th><th scope=col>Pr(&gt;F)</th></tr></thead>\n",
       "<tbody>\n",
       "\t<tr><th scope=row>NULL</th><td>NA         </td><td>       NA  </td><td>19         </td><td>378.6598   </td><td>       NA  </td><td>         NA</td></tr>\n",
       "\t<tr><th scope=row>Treatment</th><td> 1         </td><td>150.10082  </td><td>18         </td><td>228.5589   </td><td>13.991439  </td><td>0.001628119</td></tr>\n",
       "\t<tr><th scope=row>Age</th><td> 1         </td><td> 49.01811  </td><td>17         </td><td>179.5408   </td><td> 4.569155  </td><td>0.047375715</td></tr>\n",
       "</tbody>\n",
       "</table>\n"
      ],
      "text/latex": [
       "\\begin{tabular}{r|llllll}\n",
       "  & Df & Deviance & Resid. Df & Resid. Dev & F & Pr(>F)\\\\\n",
       "\\hline\n",
       "\tNULL & NA          &        NA   & 19          & 378.6598    &        NA   &          NA\\\\\n",
       "\tTreatment &  1          & 150.10082   & 18          & 228.5589    & 13.991439   & 0.001628119\\\\\n",
       "\tAge &  1          &  49.01811   & 17          & 179.5408    &  4.569155   & 0.047375715\\\\\n",
       "\\end{tabular}\n"
      ],
      "text/markdown": [
       "\n",
       "| <!--/--> | Df | Deviance | Resid. Df | Resid. Dev | F | Pr(>F) |\n",
       "|---|---|---|---|---|---|---|\n",
       "| NULL | NA          |        NA   | 19          | 378.6598    |        NA   |          NA |\n",
       "| Treatment |  1          | 150.10082   | 18          | 228.5589    | 13.991439   | 0.001628119 |\n",
       "| Age |  1          |  49.01811   | 17          | 179.5408    |  4.569155   | 0.047375715 |\n",
       "\n"
      ],
      "text/plain": [
       "          Df Deviance  Resid. Df Resid. Dev F         Pr(>F)     \n",
       "NULL      NA        NA 19        378.6598          NA          NA\n",
       "Treatment  1 150.10082 18        228.5589   13.991439 0.001628119\n",
       "Age        1  49.01811 17        179.5408    4.569155 0.047375715"
      ]
     },
     "metadata": {},
     "output_type": "display_data"
    }
   ],
   "source": [
    "anova(glm.quasi, test=\"F\")"
   ]
  },
  {
   "cell_type": "code",
   "execution_count": 17,
   "metadata": {},
   "outputs": [
    {
     "data": {
      "text/plain": [
       "\n",
       "\tShapiro-Wilk normality test\n",
       "\n",
       "data:  qresid(glm.quasi)\n",
       "W = 0.93329, p-value = 0.1786\n"
      ]
     },
     "metadata": {},
     "output_type": "display_data"
    },
    {
     "data": {
      "image/png": "[encoded data removed]",
      "text/plain": [
       "Plot with title \"Normal Q-Q Plot\""
      ]
     },
     "metadata": {},
     "output_type": "display_data"
    }
   ],
   "source": [
    "par(mfrow=c(3, 3))\n",
    "\n",
    "scatter.smooth(rstandard(glm.quasi) ~ sqrt(fitted(glm.quasi)))\n",
    "scatter.smooth(rstandard(glm.quasi) ~ polyps$Age)\n",
    "termplot(glm.quasi, partial.resid = TRUE, terms=\"Age\")\n",
    "z <- resid(glm.quasi, type=\"working\") + glm.quasi$linear.predictor\n",
    "scatter.smooth(z ~ glm.quasi$linear.predictor)\n",
    "qqnorm(qresid(glm.quasi))\n",
    "qqline(qresid(glm.quasi))\n",
    "shapiro.test(qresid(glm.quasi))"
   ]
  },
  {
   "cell_type": "code",
   "execution_count": 19,
   "metadata": {},
   "outputs": [],
   "source": [
    "glm.negbi <- glm.nb(Number ~ Treatment + Age, data=polyps)\n",
    "glm.negbi <- glm.convert(glm.negbi)"
   ]
  },
  {
   "cell_type": "code",
   "execution_count": 20,
   "metadata": {},
   "outputs": [
    {
     "data": {
      "text/html": [
       "<table>\n",
       "<thead><tr><th></th><th scope=col>Estimate</th><th scope=col>Std. Error</th><th scope=col>t value</th><th scope=col>Pr(&gt;|t|)</th></tr></thead>\n",
       "<tbody>\n",
       "\t<tr><th scope=row>(Intercept)</th><td> 3.1579073  </td><td>0.60094524  </td><td> 5.254900   </td><td>0.0000645123</td></tr>\n",
       "\t<tr><th scope=row>TreatmentPlacebo</th><td> 1.3681228  </td><td>0.39776485  </td><td> 3.439527   </td><td>0.0031282750</td></tr>\n",
       "\t<tr><th scope=row>Age</th><td>-0.0385578  </td><td>0.02258556  </td><td>-1.707188   </td><td>0.1059841440</td></tr>\n",
       "</tbody>\n",
       "</table>\n"
      ],
      "text/latex": [
       "\\begin{tabular}{r|llll}\n",
       "  & Estimate & Std. Error & t value & Pr(>\\textbar{}t\\textbar{})\\\\\n",
       "\\hline\n",
       "\t(Intercept) &  3.1579073   & 0.60094524   &  5.254900    & 0.0000645123\\\\\n",
       "\tTreatmentPlacebo &  1.3681228   & 0.39776485   &  3.439527    & 0.0031282750\\\\\n",
       "\tAge & -0.0385578   & 0.02258556   & -1.707188    & 0.1059841440\\\\\n",
       "\\end{tabular}\n"
      ],
      "text/markdown": [
       "\n",
       "| <!--/--> | Estimate | Std. Error | t value | Pr(>|t|) |\n",
       "|---|---|---|---|---|\n",
       "| (Intercept) |  3.1579073   | 0.60094524   |  5.254900    | 0.0000645123 |\n",
       "| TreatmentPlacebo |  1.3681228   | 0.39776485   |  3.439527    | 0.0031282750 |\n",
       "| Age | -0.0385578   | 0.02258556   | -1.707188    | 0.1059841440 |\n",
       "\n"
      ],
      "text/plain": [
       "                 Estimate   Std. Error t value   Pr(>|t|)    \n",
       "(Intercept)       3.1579073 0.60094524  5.254900 0.0000645123\n",
       "TreatmentPlacebo  1.3681228 0.39776485  3.439527 0.0031282750\n",
       "Age              -0.0385578 0.02258556 -1.707188 0.1059841440"
      ]
     },
     "metadata": {},
     "output_type": "display_data"
    }
   ],
   "source": [
    "coef(summary(glm.negbi))"
   ]
  },
  {
   "cell_type": "code",
   "execution_count": 21,
   "metadata": {},
   "outputs": [
    {
     "data": {
      "text/html": [
       "<table>\n",
       "<thead><tr><th></th><th scope=col>Df</th><th scope=col>Deviance</th><th scope=col>Resid. Df</th><th scope=col>Resid. Dev</th><th scope=col>F</th><th scope=col>Pr(&gt;F)</th></tr></thead>\n",
       "<tbody>\n",
       "\t<tr><th scope=row>NULL</th><td>NA        </td><td>       NA </td><td>19        </td><td>36.73408  </td><td>      NA  </td><td>        NA</td></tr>\n",
       "\t<tr><th scope=row>Treatment</th><td> 1        </td><td>11.587898 </td><td>18        </td><td>25.14618  </td><td>9.974152  </td><td>0.00574113</td></tr>\n",
       "\t<tr><th scope=row>Age</th><td> 1        </td><td> 3.144029 </td><td>17        </td><td>22.00215  </td><td>2.706187  </td><td>0.11832203</td></tr>\n",
       "</tbody>\n",
       "</table>\n"
      ],
      "text/latex": [
       "\\begin{tabular}{r|llllll}\n",
       "  & Df & Deviance & Resid. Df & Resid. Dev & F & Pr(>F)\\\\\n",
       "\\hline\n",
       "\tNULL & NA         &        NA  & 19         & 36.73408   &       NA   &         NA\\\\\n",
       "\tTreatment &  1         & 11.587898  & 18         & 25.14618   & 9.974152   & 0.00574113\\\\\n",
       "\tAge &  1         &  3.144029  & 17         & 22.00215   & 2.706187   & 0.11832203\\\\\n",
       "\\end{tabular}\n"
      ],
      "text/markdown": [
       "\n",
       "| <!--/--> | Df | Deviance | Resid. Df | Resid. Dev | F | Pr(>F) |\n",
       "|---|---|---|---|---|---|---|\n",
       "| NULL | NA         |        NA  | 19         | 36.73408   |       NA   |         NA |\n",
       "| Treatment |  1         | 11.587898  | 18         | 25.14618   | 9.974152   | 0.00574113 |\n",
       "| Age |  1         |  3.144029  | 17         | 22.00215   | 2.706187   | 0.11832203 |\n",
       "\n"
      ],
      "text/plain": [
       "          Df Deviance  Resid. Df Resid. Dev F        Pr(>F)    \n",
       "NULL      NA        NA 19        36.73408         NA         NA\n",
       "Treatment  1 11.587898 18        25.14618   9.974152 0.00574113\n",
       "Age        1  3.144029 17        22.00215   2.706187 0.11832203"
      ]
     },
     "metadata": {},
     "output_type": "display_data"
    }
   ],
   "source": [
    "anova(glm.negbi, test=\"F\")"
   ]
  },
  {
   "cell_type": "code",
   "execution_count": 22,
   "metadata": {},
   "outputs": [
    {
     "data": {
      "text/html": [
       "0.184636328401967"
      ],
      "text/latex": [
       "0.184636328401967"
      ],
      "text/markdown": [
       "0.184636328401967"
      ],
      "text/plain": [
       "[1] 0.1846363"
      ]
     },
     "metadata": {},
     "output_type": "display_data"
    },
    {
     "data": {
      "text/html": [
       "0.287190484224057"
      ],
      "text/latex": [
       "0.287190484224057"
      ],
      "text/markdown": [
       "0.287190484224057"
      ],
      "text/plain": [
       "[1] 0.2871905"
      ]
     },
     "metadata": {},
     "output_type": "display_data"
    },
    {
     "data": {
      "text/html": [
       "1.29424417490381"
      ],
      "text/latex": [
       "1.29424417490381"
      ],
      "text/markdown": [
       "1.29424417490381"
      ],
      "text/plain": [
       "[1] 1.294244"
      ]
     },
     "metadata": {},
     "output_type": "display_data"
    },
    {
     "data": {
      "text/html": [
       "1.16179278887391"
      ],
      "text/latex": [
       "1.16179278887391"
      ],
      "text/markdown": [
       "1.16179278887391"
      ],
      "text/plain": [
       "[1] 1.161793"
      ]
     },
     "metadata": {},
     "output_type": "display_data"
    }
   ],
   "source": [
    "gof.dev <- deviance(glm.negbi)\n",
    "gof.pearson <- sum(glm.negbi$weights * glm.negbi$residuals^2)\n",
    "\n",
    "pchisq(gof.dev, df=df.residual(glm.negbi), lower.tail = FALSE)\n",
    "pchisq(gof.pearson, df=df.residual(glm.negbi), lower.tail = FALSE)\n",
    "\n",
    "gof.dev / df.residual(glm.negbi)\n",
    "gof.pearson / df.residual(glm.negbi)"
   ]
  },
  {
   "cell_type": "code",
   "execution_count": 23,
   "metadata": {},
   "outputs": [
    {
     "data": {
      "text/html": [
       "1.16179278887391"
      ],
      "text/latex": [
       "1.16179278887391"
      ],
      "text/markdown": [
       "1.16179278887391"
      ],
      "text/plain": [
       "[1] 1.161793"
      ]
     },
     "metadata": {},
     "output_type": "display_data"
    }
   ],
   "source": [
    "summary(glm.negbi)$dispersion"
   ]
  },
  {
   "cell_type": "code",
   "execution_count": 24,
   "metadata": {},
   "outputs": [
    {
     "data": {
      "text/plain": [
       "\n",
       "\tShapiro-Wilk normality test\n",
       "\n",
       "data:  qresid(glm.negbi)\n",
       "W = 0.96726, p-value = 0.6962\n"
      ]
     },
     "metadata": {},
     "output_type": "display_data"
    },
    {
     "data": {
      "image/png": "[encoded data removed]",
      "text/plain": [
       "Plot with title \"Normal Q-Q Plot\""
      ]
     },
     "metadata": {},
     "output_type": "display_data"
    }
   ],
   "source": [
    "par(mfrow=c(3, 3))\n",
    "\n",
    "scatter.smooth(rstandard(glm.negbi) ~ sqrt(fitted(glm.negbi)))\n",
    "scatter.smooth(rstandard(glm.negbi) ~ polyps$Age)\n",
    "termplot(glm.negbi, partial.resid = TRUE, terms=\"Age\")\n",
    "z <- resid(glm.negbi, type=\"working\") + glm.negbi$linear.predictor\n",
    "scatter.smooth(z ~ glm.negbi$linear.predictor)\n",
    "qqnorm(qresid(glm.negbi))\n",
    "qqline(qresid(glm.negbi))\n",
    "shapiro.test(qresid(glm.negbi))"
   ]
  },
  {
   "cell_type": "code",
   "execution_count": 28,
   "metadata": {},
   "outputs": [
    {
     "data": {
      "text/html": [
       "<ol class=list-inline>\n",
       "\t<li>3</li>\n",
       "\t<li>&lt;NA&gt;</li>\n",
       "</ol>\n"
      ],
      "text/latex": [
       "\\begin{enumerate*}\n",
       "\\item 3\n",
       "\\item <NA>\n",
       "\\end{enumerate*}\n"
      ],
      "text/markdown": [
       "1. 3\n",
       "2. &lt;NA&gt;\n",
       "\n",
       "\n"
      ],
      "text/plain": [
       "[1]  3 NA"
      ]
     },
     "metadata": {},
     "output_type": "display_data"
    },
    {
     "data": {
      "text/html": [
       "<ol class=list-inline>\n",
       "\t<li>3</li>\n",
       "\t<li>164.8800199397</li>\n",
       "</ol>\n"
      ],
      "text/latex": [
       "\\begin{enumerate*}\n",
       "\\item 3\n",
       "\\item 164.8800199397\n",
       "\\end{enumerate*}\n"
      ],
      "text/markdown": [
       "1. 3\n",
       "2. 164.8800199397\n",
       "\n",
       "\n"
      ],
      "text/plain": [
       "[1]   3.00 164.88"
      ]
     },
     "metadata": {},
     "output_type": "display_data"
    }
   ],
   "source": [
    "extractAIC(glm.quasi)\n",
    "extractAIC(glm.negbi)"
   ]
  }
 ],
 "metadata": {
  "kernelspec": {
   "display_name": "R",
   "language": "R",
   "name": "ir"
  },
  "language_info": {
   "codemirror_mode": "r",
   "file_extension": ".r",
   "mimetype": "text/x-r-source",
   "name": "R",
   "pygments_lexer": "r",
   "version": "3.6.1"
  },
  "orig_nbformat": 4
 },
 "nbformat": 4,
 "nbformat_minor": 2
}
