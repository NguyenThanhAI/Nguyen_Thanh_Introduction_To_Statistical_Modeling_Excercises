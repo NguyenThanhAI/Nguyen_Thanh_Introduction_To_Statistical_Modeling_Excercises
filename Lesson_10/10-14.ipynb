{
 "cells": [
  {
   "cell_type": "code",
   "execution_count": 1,
   "metadata": {},
   "outputs": [
    {
     "name": "stderr",
     "output_type": "stream",
     "text": [
      "Warning message:\n",
      "\"package 'statmod' was built under R version 3.6.3\""
     ]
    }
   ],
   "source": [
    "library(GLMsData)\n",
    "library(statmod)\n",
    "library(MASS)"
   ]
  },
  {
   "cell_type": "code",
   "execution_count": 2,
   "metadata": {},
   "outputs": [],
   "source": [
    "data(ants)"
   ]
  },
  {
   "cell_type": "code",
   "execution_count": 3,
   "metadata": {},
   "outputs": [
    {
     "name": "stdout",
     "output_type": "stream",
     "text": [
      "'data.frame':\t44 obs. of  5 variables:\n",
      " $ Site     : Factor w/ 22 levels \"ARC\",\"BH\",\"CAR\",..: 21 9 6 17 4 16 14 12 20 1 ...\n",
      " $ Srich    : int  6 16 18 17 9 15 7 12 14 9 ...\n",
      " $ Habitat  : Factor w/ 2 levels \"Bog\",\"Forest\": 2 2 2 2 2 2 2 2 2 2 ...\n",
      " $ Latitude : num  42 42 42 42 42 ...\n",
      " $ Elevation: int  389 8 152 1 210 78 47 491 121 95 ...\n"
     ]
    }
   ],
   "source": [
    "str(ants)"
   ]
  },
  {
   "cell_type": "code",
   "execution_count": 4,
   "metadata": {},
   "outputs": [
    {
     "data": {
      "text/html": [
       "<table>\n",
       "<thead><tr><th scope=col>Site</th><th scope=col>Srich</th><th scope=col>Habitat</th><th scope=col>Latitude</th><th scope=col>Elevation</th></tr></thead>\n",
       "<tbody>\n",
       "\t<tr><td>TPB   </td><td> 6    </td><td>Forest</td><td>41.97 </td><td>389   </td></tr>\n",
       "\t<tr><td>HBC   </td><td>16    </td><td>Forest</td><td>42.00 </td><td>  8   </td></tr>\n",
       "\t<tr><td>CKB   </td><td>18    </td><td>Forest</td><td>42.03 </td><td>152   </td></tr>\n",
       "\t<tr><td>SKP   </td><td>17    </td><td>Forest</td><td>42.05 </td><td>  1   </td></tr>\n",
       "\t<tr><td>CB    </td><td> 9    </td><td>Forest</td><td>42.05 </td><td>210   </td></tr>\n",
       "\t<tr><td>RP    </td><td>15    </td><td>Forest</td><td>42.17 </td><td> 78   </td></tr>\n",
       "\t<tr><td>PK    </td><td> 7    </td><td>Forest</td><td>42.19 </td><td> 47   </td></tr>\n",
       "\t<tr><td>OB    </td><td>12    </td><td>Forest</td><td>42.23 </td><td>491   </td></tr>\n",
       "\t<tr><td>SWR   </td><td>14    </td><td>Forest</td><td>42.27 </td><td>121   </td></tr>\n",
       "\t<tr><td>ARC   </td><td> 9    </td><td>Forest</td><td>42.31 </td><td> 95   </td></tr>\n",
       "\t<tr><td>BH    </td><td>10    </td><td>Forest</td><td>42.56 </td><td>274   </td></tr>\n",
       "\t<tr><td>QP    </td><td>10    </td><td>Forest</td><td>42.57 </td><td>335   </td></tr>\n",
       "\t<tr><td>HAW   </td><td> 4    </td><td>Forest</td><td>42.58 </td><td>543   </td></tr>\n",
       "\t<tr><td>WIN   </td><td> 5    </td><td>Forest</td><td>42.69 </td><td>323   </td></tr>\n",
       "\t<tr><td>SPR   </td><td> 7    </td><td>Forest</td><td>43.33 </td><td>158   </td></tr>\n",
       "\t<tr><td>SNA   </td><td> 7    </td><td>Forest</td><td>44.06 </td><td>313   </td></tr>\n",
       "\t<tr><td>PEA   </td><td> 4    </td><td>Forest</td><td>44.29 </td><td>468   </td></tr>\n",
       "\t<tr><td>CHI   </td><td> 6    </td><td>Forest</td><td>44.33 </td><td>362   </td></tr>\n",
       "\t<tr><td>MOL   </td><td> 6    </td><td>Forest</td><td>44.50 </td><td>236   </td></tr>\n",
       "\t<tr><td>COL   </td><td> 8    </td><td>Forest</td><td>44.55 </td><td> 30   </td></tr>\n",
       "\t<tr><td>MOO   </td><td> 6    </td><td>Forest</td><td>44.76 </td><td>353   </td></tr>\n",
       "\t<tr><td>CAR   </td><td> 6    </td><td>Forest</td><td>44.95 </td><td>133   </td></tr>\n",
       "\t<tr><td>TPB   </td><td> 5    </td><td>Bog   </td><td>41.97 </td><td>389   </td></tr>\n",
       "\t<tr><td>HBC   </td><td> 6    </td><td>Bog   </td><td>42.00 </td><td>  8   </td></tr>\n",
       "\t<tr><td>CKB   </td><td>14    </td><td>Bog   </td><td>42.03 </td><td>152   </td></tr>\n",
       "\t<tr><td>SKP   </td><td> 7    </td><td>Bog   </td><td>42.05 </td><td>  1   </td></tr>\n",
       "\t<tr><td>CB    </td><td> 4    </td><td>Bog   </td><td>42.05 </td><td>210   </td></tr>\n",
       "\t<tr><td>RP    </td><td> 8    </td><td>Bog   </td><td>42.17 </td><td> 78   </td></tr>\n",
       "\t<tr><td>PK    </td><td> 2    </td><td>Bog   </td><td>42.19 </td><td> 47   </td></tr>\n",
       "\t<tr><td>OB    </td><td> 3    </td><td>Bog   </td><td>42.23 </td><td>491   </td></tr>\n",
       "\t<tr><td>SWR   </td><td> 4    </td><td>Bog   </td><td>42.27 </td><td>121   </td></tr>\n",
       "\t<tr><td>ARC   </td><td> 8    </td><td>Bog   </td><td>42.31 </td><td> 95   </td></tr>\n",
       "\t<tr><td>BH    </td><td> 8    </td><td>Bog   </td><td>42.56 </td><td>274   </td></tr>\n",
       "\t<tr><td>QP    </td><td> 4    </td><td>Bog   </td><td>42.57 </td><td>335   </td></tr>\n",
       "\t<tr><td>HAW   </td><td> 2    </td><td>Bog   </td><td>42.58 </td><td>543   </td></tr>\n",
       "\t<tr><td>WIN   </td><td> 7    </td><td>Bog   </td><td>42.69 </td><td>323   </td></tr>\n",
       "\t<tr><td>SPR   </td><td> 2    </td><td>Bog   </td><td>43.33 </td><td>158   </td></tr>\n",
       "\t<tr><td>SNA   </td><td> 3    </td><td>Bog   </td><td>44.06 </td><td>313   </td></tr>\n",
       "\t<tr><td>PEA   </td><td> 3    </td><td>Bog   </td><td>44.29 </td><td>468   </td></tr>\n",
       "\t<tr><td>CHI   </td><td> 2    </td><td>Bog   </td><td>44.33 </td><td>362   </td></tr>\n",
       "\t<tr><td>MOL   </td><td> 3    </td><td>Bog   </td><td>44.50 </td><td>236   </td></tr>\n",
       "\t<tr><td>COL   </td><td> 2    </td><td>Bog   </td><td>44.55 </td><td> 30   </td></tr>\n",
       "\t<tr><td>MOO   </td><td> 5    </td><td>Bog   </td><td>44.76 </td><td>353   </td></tr>\n",
       "\t<tr><td>CAR   </td><td> 5    </td><td>Bog   </td><td>44.95 </td><td>133   </td></tr>\n",
       "</tbody>\n",
       "</table>\n"
      ],
      "text/latex": [
       "\\begin{tabular}{r|lllll}\n",
       " Site & Srich & Habitat & Latitude & Elevation\\\\\n",
       "\\hline\n",
       "\t TPB    &  6     & Forest & 41.97  & 389   \\\\\n",
       "\t HBC    & 16     & Forest & 42.00  &   8   \\\\\n",
       "\t CKB    & 18     & Forest & 42.03  & 152   \\\\\n",
       "\t SKP    & 17     & Forest & 42.05  &   1   \\\\\n",
       "\t CB     &  9     & Forest & 42.05  & 210   \\\\\n",
       "\t RP     & 15     & Forest & 42.17  &  78   \\\\\n",
       "\t PK     &  7     & Forest & 42.19  &  47   \\\\\n",
       "\t OB     & 12     & Forest & 42.23  & 491   \\\\\n",
       "\t SWR    & 14     & Forest & 42.27  & 121   \\\\\n",
       "\t ARC    &  9     & Forest & 42.31  &  95   \\\\\n",
       "\t BH     & 10     & Forest & 42.56  & 274   \\\\\n",
       "\t QP     & 10     & Forest & 42.57  & 335   \\\\\n",
       "\t HAW    &  4     & Forest & 42.58  & 543   \\\\\n",
       "\t WIN    &  5     & Forest & 42.69  & 323   \\\\\n",
       "\t SPR    &  7     & Forest & 43.33  & 158   \\\\\n",
       "\t SNA    &  7     & Forest & 44.06  & 313   \\\\\n",
       "\t PEA    &  4     & Forest & 44.29  & 468   \\\\\n",
       "\t CHI    &  6     & Forest & 44.33  & 362   \\\\\n",
       "\t MOL    &  6     & Forest & 44.50  & 236   \\\\\n",
       "\t COL    &  8     & Forest & 44.55  &  30   \\\\\n",
       "\t MOO    &  6     & Forest & 44.76  & 353   \\\\\n",
       "\t CAR    &  6     & Forest & 44.95  & 133   \\\\\n",
       "\t TPB    &  5     & Bog    & 41.97  & 389   \\\\\n",
       "\t HBC    &  6     & Bog    & 42.00  &   8   \\\\\n",
       "\t CKB    & 14     & Bog    & 42.03  & 152   \\\\\n",
       "\t SKP    &  7     & Bog    & 42.05  &   1   \\\\\n",
       "\t CB     &  4     & Bog    & 42.05  & 210   \\\\\n",
       "\t RP     &  8     & Bog    & 42.17  &  78   \\\\\n",
       "\t PK     &  2     & Bog    & 42.19  &  47   \\\\\n",
       "\t OB     &  3     & Bog    & 42.23  & 491   \\\\\n",
       "\t SWR    &  4     & Bog    & 42.27  & 121   \\\\\n",
       "\t ARC    &  8     & Bog    & 42.31  &  95   \\\\\n",
       "\t BH     &  8     & Bog    & 42.56  & 274   \\\\\n",
       "\t QP     &  4     & Bog    & 42.57  & 335   \\\\\n",
       "\t HAW    &  2     & Bog    & 42.58  & 543   \\\\\n",
       "\t WIN    &  7     & Bog    & 42.69  & 323   \\\\\n",
       "\t SPR    &  2     & Bog    & 43.33  & 158   \\\\\n",
       "\t SNA    &  3     & Bog    & 44.06  & 313   \\\\\n",
       "\t PEA    &  3     & Bog    & 44.29  & 468   \\\\\n",
       "\t CHI    &  2     & Bog    & 44.33  & 362   \\\\\n",
       "\t MOL    &  3     & Bog    & 44.50  & 236   \\\\\n",
       "\t COL    &  2     & Bog    & 44.55  &  30   \\\\\n",
       "\t MOO    &  5     & Bog    & 44.76  & 353   \\\\\n",
       "\t CAR    &  5     & Bog    & 44.95  & 133   \\\\\n",
       "\\end{tabular}\n"
      ],
      "text/markdown": [
       "\n",
       "| Site | Srich | Habitat | Latitude | Elevation |\n",
       "|---|---|---|---|---|\n",
       "| TPB    |  6     | Forest | 41.97  | 389    |\n",
       "| HBC    | 16     | Forest | 42.00  |   8    |\n",
       "| CKB    | 18     | Forest | 42.03  | 152    |\n",
       "| SKP    | 17     | Forest | 42.05  |   1    |\n",
       "| CB     |  9     | Forest | 42.05  | 210    |\n",
       "| RP     | 15     | Forest | 42.17  |  78    |\n",
       "| PK     |  7     | Forest | 42.19  |  47    |\n",
       "| OB     | 12     | Forest | 42.23  | 491    |\n",
       "| SWR    | 14     | Forest | 42.27  | 121    |\n",
       "| ARC    |  9     | Forest | 42.31  |  95    |\n",
       "| BH     | 10     | Forest | 42.56  | 274    |\n",
       "| QP     | 10     | Forest | 42.57  | 335    |\n",
       "| HAW    |  4     | Forest | 42.58  | 543    |\n",
       "| WIN    |  5     | Forest | 42.69  | 323    |\n",
       "| SPR    |  7     | Forest | 43.33  | 158    |\n",
       "| SNA    |  7     | Forest | 44.06  | 313    |\n",
       "| PEA    |  4     | Forest | 44.29  | 468    |\n",
       "| CHI    |  6     | Forest | 44.33  | 362    |\n",
       "| MOL    |  6     | Forest | 44.50  | 236    |\n",
       "| COL    |  8     | Forest | 44.55  |  30    |\n",
       "| MOO    |  6     | Forest | 44.76  | 353    |\n",
       "| CAR    |  6     | Forest | 44.95  | 133    |\n",
       "| TPB    |  5     | Bog    | 41.97  | 389    |\n",
       "| HBC    |  6     | Bog    | 42.00  |   8    |\n",
       "| CKB    | 14     | Bog    | 42.03  | 152    |\n",
       "| SKP    |  7     | Bog    | 42.05  |   1    |\n",
       "| CB     |  4     | Bog    | 42.05  | 210    |\n",
       "| RP     |  8     | Bog    | 42.17  |  78    |\n",
       "| PK     |  2     | Bog    | 42.19  |  47    |\n",
       "| OB     |  3     | Bog    | 42.23  | 491    |\n",
       "| SWR    |  4     | Bog    | 42.27  | 121    |\n",
       "| ARC    |  8     | Bog    | 42.31  |  95    |\n",
       "| BH     |  8     | Bog    | 42.56  | 274    |\n",
       "| QP     |  4     | Bog    | 42.57  | 335    |\n",
       "| HAW    |  2     | Bog    | 42.58  | 543    |\n",
       "| WIN    |  7     | Bog    | 42.69  | 323    |\n",
       "| SPR    |  2     | Bog    | 43.33  | 158    |\n",
       "| SNA    |  3     | Bog    | 44.06  | 313    |\n",
       "| PEA    |  3     | Bog    | 44.29  | 468    |\n",
       "| CHI    |  2     | Bog    | 44.33  | 362    |\n",
       "| MOL    |  3     | Bog    | 44.50  | 236    |\n",
       "| COL    |  2     | Bog    | 44.55  |  30    |\n",
       "| MOO    |  5     | Bog    | 44.76  | 353    |\n",
       "| CAR    |  5     | Bog    | 44.95  | 133    |\n",
       "\n"
      ],
      "text/plain": [
       "   Site Srich Habitat Latitude Elevation\n",
       "1  TPB   6    Forest  41.97    389      \n",
       "2  HBC  16    Forest  42.00      8      \n",
       "3  CKB  18    Forest  42.03    152      \n",
       "4  SKP  17    Forest  42.05      1      \n",
       "5  CB    9    Forest  42.05    210      \n",
       "6  RP   15    Forest  42.17     78      \n",
       "7  PK    7    Forest  42.19     47      \n",
       "8  OB   12    Forest  42.23    491      \n",
       "9  SWR  14    Forest  42.27    121      \n",
       "10 ARC   9    Forest  42.31     95      \n",
       "11 BH   10    Forest  42.56    274      \n",
       "12 QP   10    Forest  42.57    335      \n",
       "13 HAW   4    Forest  42.58    543      \n",
       "14 WIN   5    Forest  42.69    323      \n",
       "15 SPR   7    Forest  43.33    158      \n",
       "16 SNA   7    Forest  44.06    313      \n",
       "17 PEA   4    Forest  44.29    468      \n",
       "18 CHI   6    Forest  44.33    362      \n",
       "19 MOL   6    Forest  44.50    236      \n",
       "20 COL   8    Forest  44.55     30      \n",
       "21 MOO   6    Forest  44.76    353      \n",
       "22 CAR   6    Forest  44.95    133      \n",
       "23 TPB   5    Bog     41.97    389      \n",
       "24 HBC   6    Bog     42.00      8      \n",
       "25 CKB  14    Bog     42.03    152      \n",
       "26 SKP   7    Bog     42.05      1      \n",
       "27 CB    4    Bog     42.05    210      \n",
       "28 RP    8    Bog     42.17     78      \n",
       "29 PK    2    Bog     42.19     47      \n",
       "30 OB    3    Bog     42.23    491      \n",
       "31 SWR   4    Bog     42.27    121      \n",
       "32 ARC   8    Bog     42.31     95      \n",
       "33 BH    8    Bog     42.56    274      \n",
       "34 QP    4    Bog     42.57    335      \n",
       "35 HAW   2    Bog     42.58    543      \n",
       "36 WIN   7    Bog     42.69    323      \n",
       "37 SPR   2    Bog     43.33    158      \n",
       "38 SNA   3    Bog     44.06    313      \n",
       "39 PEA   3    Bog     44.29    468      \n",
       "40 CHI   2    Bog     44.33    362      \n",
       "41 MOL   3    Bog     44.50    236      \n",
       "42 COL   2    Bog     44.55     30      \n",
       "43 MOO   5    Bog     44.76    353      \n",
       "44 CAR   5    Bog     44.95    133      "
      ]
     },
     "metadata": {},
     "output_type": "display_data"
    }
   ],
   "source": [
    "ants"
   ]
  },
  {
   "cell_type": "code",
   "execution_count": 10,
   "metadata": {},
   "outputs": [],
   "source": [
    "glm.1 <- glm(Srich ~ Habitat + Latitude + Elevation, data=ants, family=poisson)"
   ]
  },
  {
   "cell_type": "code",
   "execution_count": 11,
   "metadata": {},
   "outputs": [
    {
     "data": {
      "text/html": [
       "<table>\n",
       "<thead><tr><th></th><th scope=col>Estimate</th><th scope=col>Std. Error</th><th scope=col>z value</th><th scope=col>Pr(&gt;|z|)</th></tr></thead>\n",
       "<tbody>\n",
       "\t<tr><th scope=row>(Intercept)</th><td>11.936812111</td><td>2.6214970400</td><td> 4.553433   </td><td>5.277739e-06</td></tr>\n",
       "\t<tr><th scope=row>HabitatForest</th><td> 0.635438863</td><td>0.1195663840</td><td> 5.314528   </td><td>1.069343e-07</td></tr>\n",
       "\t<tr><th scope=row>Latitude</th><td>-0.235793020</td><td>0.0616637999</td><td>-3.823848   </td><td>1.313847e-04</td></tr>\n",
       "\t<tr><th scope=row>Elevation</th><td>-0.001141079</td><td>0.0003748977</td><td>-3.043708   </td><td>2.336820e-03</td></tr>\n",
       "</tbody>\n",
       "</table>\n"
      ],
      "text/latex": [
       "\\begin{tabular}{r|llll}\n",
       "  & Estimate & Std. Error & z value & Pr(>\\textbar{}z\\textbar{})\\\\\n",
       "\\hline\n",
       "\t(Intercept) & 11.936812111 & 2.6214970400 &  4.553433    & 5.277739e-06\\\\\n",
       "\tHabitatForest &  0.635438863 & 0.1195663840 &  5.314528    & 1.069343e-07\\\\\n",
       "\tLatitude & -0.235793020 & 0.0616637999 & -3.823848    & 1.313847e-04\\\\\n",
       "\tElevation & -0.001141079 & 0.0003748977 & -3.043708    & 2.336820e-03\\\\\n",
       "\\end{tabular}\n"
      ],
      "text/markdown": [
       "\n",
       "| <!--/--> | Estimate | Std. Error | z value | Pr(>|z|) |\n",
       "|---|---|---|---|---|\n",
       "| (Intercept) | 11.936812111 | 2.6214970400 |  4.553433    | 5.277739e-06 |\n",
       "| HabitatForest |  0.635438863 | 0.1195663840 |  5.314528    | 1.069343e-07 |\n",
       "| Latitude | -0.235793020 | 0.0616637999 | -3.823848    | 1.313847e-04 |\n",
       "| Elevation | -0.001141079 | 0.0003748977 | -3.043708    | 2.336820e-03 |\n",
       "\n"
      ],
      "text/plain": [
       "              Estimate     Std. Error   z value   Pr(>|z|)    \n",
       "(Intercept)   11.936812111 2.6214970400  4.553433 5.277739e-06\n",
       "HabitatForest  0.635438863 0.1195663840  5.314528 1.069343e-07\n",
       "Latitude      -0.235793020 0.0616637999 -3.823848 1.313847e-04\n",
       "Elevation     -0.001141079 0.0003748977 -3.043708 2.336820e-03"
      ]
     },
     "metadata": {},
     "output_type": "display_data"
    }
   ],
   "source": [
    "coef(summary(glm.1))"
   ]
  },
  {
   "cell_type": "code",
   "execution_count": 13,
   "metadata": {},
   "outputs": [
    {
     "data": {
      "text/html": [
       "<table>\n",
       "<thead><tr><th></th><th scope=col>Df</th><th scope=col>Deviance</th><th scope=col>Resid. Df</th><th scope=col>Resid. Dev</th><th scope=col>Pr(&gt;Chi)</th></tr></thead>\n",
       "<tbody>\n",
       "\t<tr><th scope=row>NULL</th><td>NA          </td><td>       NA   </td><td>43          </td><td>102.76331   </td><td>          NA</td></tr>\n",
       "\t<tr><th scope=row>Habitat</th><td> 1          </td><td>29.685569   </td><td>42          </td><td> 73.07774   </td><td>5.081168e-08</td></tr>\n",
       "\t<tr><th scope=row>Latitude</th><td> 1          </td><td>22.793472   </td><td>41          </td><td> 50.28427   </td><td>1.803774e-06</td></tr>\n",
       "\t<tr><th scope=row>Elevation</th><td> 1          </td><td> 9.593822   </td><td>40          </td><td> 40.69044   </td><td>1.952331e-03</td></tr>\n",
       "</tbody>\n",
       "</table>\n"
      ],
      "text/latex": [
       "\\begin{tabular}{r|lllll}\n",
       "  & Df & Deviance & Resid. Df & Resid. Dev & Pr(>Chi)\\\\\n",
       "\\hline\n",
       "\tNULL & NA           &        NA    & 43           & 102.76331    &           NA\\\\\n",
       "\tHabitat &  1           & 29.685569    & 42           &  73.07774    & 5.081168e-08\\\\\n",
       "\tLatitude &  1           & 22.793472    & 41           &  50.28427    & 1.803774e-06\\\\\n",
       "\tElevation &  1           &  9.593822    & 40           &  40.69044    & 1.952331e-03\\\\\n",
       "\\end{tabular}\n"
      ],
      "text/markdown": [
       "\n",
       "| <!--/--> | Df | Deviance | Resid. Df | Resid. Dev | Pr(>Chi) |\n",
       "|---|---|---|---|---|---|\n",
       "| NULL | NA           |        NA    | 43           | 102.76331    |           NA |\n",
       "| Habitat |  1           | 29.685569    | 42           |  73.07774    | 5.081168e-08 |\n",
       "| Latitude |  1           | 22.793472    | 41           |  50.28427    | 1.803774e-06 |\n",
       "| Elevation |  1           |  9.593822    | 40           |  40.69044    | 1.952331e-03 |\n",
       "\n"
      ],
      "text/plain": [
       "          Df Deviance  Resid. Df Resid. Dev Pr(>Chi)    \n",
       "NULL      NA        NA 43        102.76331            NA\n",
       "Habitat    1 29.685569 42         73.07774  5.081168e-08\n",
       "Latitude   1 22.793472 41         50.28427  1.803774e-06\n",
       "Elevation  1  9.593822 40         40.69044  1.952331e-03"
      ]
     },
     "metadata": {},
     "output_type": "display_data"
    }
   ],
   "source": [
    "anova(glm.1, test=\"Chisq\")"
   ]
  },
  {
   "cell_type": "code",
   "execution_count": 15,
   "metadata": {},
   "outputs": [
    {
     "data": {
      "text/html": [
       "0.560119131227285"
      ],
      "text/latex": [
       "0.560119131227285"
      ],
      "text/markdown": [
       "0.560119131227285"
      ],
      "text/plain": [
       "[1] 0.5601191"
      ]
     },
     "metadata": {},
     "output_type": "display_data"
    },
    {
     "data": {
      "text/html": [
       "0.580614376268709"
      ],
      "text/latex": [
       "0.580614376268709"
      ],
      "text/markdown": [
       "0.580614376268709"
      ],
      "text/plain": [
       "[1] 0.5806144"
      ]
     },
     "metadata": {},
     "output_type": "display_data"
    },
    {
     "data": {
      "text/html": [
       "1.01726107251119"
      ],
      "text/latex": [
       "1.01726107251119"
      ],
      "text/markdown": [
       "1.01726107251119"
      ],
      "text/plain": [
       "[1] 1.017261"
      ]
     },
     "metadata": {},
     "output_type": "display_data"
    },
    {
     "data": {
      "text/html": [
       "1.0291279820877"
      ],
      "text/latex": [
       "1.0291279820877"
      ],
      "text/markdown": [
       "1.0291279820877"
      ],
      "text/plain": [
       "[1] 1.029128"
      ]
     },
     "metadata": {},
     "output_type": "display_data"
    }
   ],
   "source": [
    "gof.dev <- deviance(glm.1)\n",
    "gof.pearson <- sum(glm.1$weights * glm.1$residuals^2)\n",
    "\n",
    "pchisq(gof.dev, df=df.residual(glm.1))\n",
    "pchisq(gof.pearson, df=df.residual(glm.1))\n",
    "\n",
    "gof.dev/df.residual(glm.1)\n",
    "gof.pearson/df.residual(glm.1)"
   ]
  },
  {
   "cell_type": "code",
   "execution_count": 22,
   "metadata": {},
   "outputs": [
    {
     "data": {
      "image/png": "[encoded data removed]",
      "text/plain": [
       "Plot with title \"Normal Q-Q Plot\""
      ]
     },
     "metadata": {},
     "output_type": "display_data"
    }
   ],
   "source": [
    "par(mfrow=c(3, 3))\n",
    "\n",
    "scatter.smooth(rstandard(glm.1) ~ sqrt(fitted(glm.1)))\n",
    "scatter.smooth(rstandard(glm.1) ~ ants$Latitude)\n",
    "scatter.smooth(rstandard(glm.1) ~ ants$Elevation)\n",
    "termplot(glm.1, partial.resid = TRUE, terms=\"Latitude\")\n",
    "termplot(glm.1, partial.resid = TRUE, terms=\"Elevation\")\n",
    "z <- resid(glm.1, type=\"working\") + glm.1$linear.predictor\n",
    "scatter.smooth(z ~ glm.1$linear.predictor)\n",
    "qqnorm(qresid(glm.1))\n",
    "qqline(qresid(glm.1))"
   ]
  },
  {
   "cell_type": "code",
   "execution_count": 24,
   "metadata": {},
   "outputs": [
    {
     "data": {
      "text/html": [
       "<ol class=list-inline>\n",
       "\t<li>4</li>\n",
       "\t<li>209.044467262095</li>\n",
       "</ol>\n"
      ],
      "text/latex": [
       "\\begin{enumerate*}\n",
       "\\item 4\n",
       "\\item 209.044467262095\n",
       "\\end{enumerate*}\n"
      ],
      "text/markdown": [
       "1. 4\n",
       "2. 209.044467262095\n",
       "\n",
       "\n"
      ],
      "text/plain": [
       "[1]   4.0000 209.0445"
      ]
     },
     "metadata": {},
     "output_type": "display_data"
    },
    {
     "data": {
      "text/html": [
       "<ol class=list-inline>\n",
       "\t<li>4</li>\n",
       "\t<li>377.044467262095</li>\n",
       "</ol>\n"
      ],
      "text/latex": [
       "\\begin{enumerate*}\n",
       "\\item 4\n",
       "\\item 377.044467262095\n",
       "\\end{enumerate*}\n"
      ],
      "text/markdown": [
       "1. 4\n",
       "2. 377.044467262095\n",
       "\n",
       "\n"
      ],
      "text/plain": [
       "[1]   4.0000 377.0445"
      ]
     },
     "metadata": {},
     "output_type": "display_data"
    }
   ],
   "source": [
    "extractAIC(glm.1)\n",
    "extractAIC(glm.1, k=nobs(glm.1))"
   ]
  }
 ],
 "metadata": {
  "kernelspec": {
   "display_name": "R",
   "language": "R",
   "name": "ir"
  },
  "language_info": {
   "codemirror_mode": "r",
   "file_extension": ".r",
   "mimetype": "text/x-r-source",
   "name": "R",
   "pygments_lexer": "r",
   "version": "3.6.1"
  },
  "orig_nbformat": 4
 },
 "nbformat": 4,
 "nbformat_minor": 2
}
