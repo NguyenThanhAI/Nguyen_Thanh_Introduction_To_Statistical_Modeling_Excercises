{
 "cells": [
  {
   "cell_type": "code",
   "execution_count": 1,
   "metadata": {},
   "outputs": [],
   "source": [
    "library(GLMsData)"
   ]
  },
  {
   "cell_type": "code",
   "execution_count": 3,
   "metadata": {},
   "outputs": [
    {
     "data": {
      "text/html": [
       "<ol class=list-inline>\n",
       "\t<li>4.62605513694707e-17</li>\n",
       "\t<li>0.000274037909602572</li>\n",
       "\t<li>0.000595497352140185</li>\n",
       "</ol>\n"
      ],
      "text/latex": [
       "\\begin{enumerate*}\n",
       "\\item 4.62605513694707e-17\n",
       "\\item 0.000274037909602572\n",
       "\\item 0.000595497352140185\n",
       "\\end{enumerate*}\n"
      ],
      "text/markdown": [
       "1. 4.62605513694707e-17\n",
       "2. 0.000274037909602572\n",
       "3. 0.000595497352140185\n",
       "\n",
       "\n"
      ],
      "text/plain": [
       "[1] 4.626055e-17 2.740379e-04 5.954974e-04"
      ]
     },
     "metadata": {},
     "output_type": "display_data"
    }
   ],
   "source": [
    "res.dev <- c(732.74, 662.25, 649.01, 637.22)\n",
    "diff.dev <- abs(diff(res.dev))/1\n",
    "p.lrt <- pchisq(diff.dev, df=1, lower.tail = FALSE)\n",
    "p.lrt"
   ]
  },
  {
   "cell_type": "code",
   "execution_count": 7,
   "metadata": {},
   "outputs": [
    {
     "data": {
      "text/html": [
       "<ol class=list-inline>\n",
       "\t<li>0</li>\n",
       "\t<li>0.627</li>\n",
       "\t<li>0</li>\n",
       "</ol>\n"
      ],
      "text/latex": [
       "\\begin{enumerate*}\n",
       "\\item 0\n",
       "\\item 0.627\n",
       "\\item 0\n",
       "\\end{enumerate*}\n"
      ],
      "text/markdown": [
       "1. 0\n",
       "2. 0.627\n",
       "3. 0\n",
       "\n",
       "\n"
      ],
      "text/plain": [
       "[1] 0.000 0.627 0.000"
      ]
     },
     "metadata": {},
     "output_type": "display_data"
    }
   ],
   "source": [
    "beta <- c(0.238, 0.017, -0.28)\n",
    "se.beta <- c(0.028, 0.035, 0.009)\n",
    "z <- beta/se.beta\n",
    "p.wald <- round( 2*(1 - pnorm( abs(z) ) ), 3)\n",
    "p.wald"
   ]
  },
  {
   "cell_type": "code",
   "execution_count": 8,
   "metadata": {},
   "outputs": [
    {
     "data": {
      "text/html": [
       "<table>\n",
       "<thead><tr><th scope=col>p.lrt</th><th scope=col>p.wald</th></tr></thead>\n",
       "<tbody>\n",
       "\t<tr><td>4.626055e-17</td><td>0.000       </td></tr>\n",
       "\t<tr><td>2.740379e-04</td><td>0.627       </td></tr>\n",
       "\t<tr><td>5.954974e-04</td><td>0.000       </td></tr>\n",
       "</tbody>\n",
       "</table>\n"
      ],
      "text/latex": [
       "\\begin{tabular}{ll}\n",
       " p.lrt & p.wald\\\\\n",
       "\\hline\n",
       "\t 4.626055e-17 & 0.000       \\\\\n",
       "\t 2.740379e-04 & 0.627       \\\\\n",
       "\t 5.954974e-04 & 0.000       \\\\\n",
       "\\end{tabular}\n"
      ],
      "text/markdown": [
       "\n",
       "| p.lrt | p.wald |\n",
       "|---|---|\n",
       "| 4.626055e-17 | 0.000        |\n",
       "| 2.740379e-04 | 0.627        |\n",
       "| 5.954974e-04 | 0.000        |\n",
       "\n"
      ],
      "text/plain": [
       "     p.lrt        p.wald\n",
       "[1,] 4.626055e-17 0.000 \n",
       "[2,] 2.740379e-04 0.627 \n",
       "[3,] 5.954974e-04 0.000 "
      ]
     },
     "metadata": {},
     "output_type": "display_data"
    },
    {
     "data": {
      "text/html": [
       "0.250342934066016"
      ],
      "text/latex": [
       "0.250342934066016"
      ],
      "text/markdown": [
       "0.250342934066016"
      ],
      "text/plain": [
       "[1] 0.2503429"
      ]
     },
     "metadata": {},
     "output_type": "display_data"
    }
   ],
   "source": [
    "cbind(p.lrt, p.wald); pchisq(res.dev[4], df=614, lower.tail=FALSE)"
   ]
  },
  {
   "cell_type": "code",
   "execution_count": 9,
   "metadata": {},
   "outputs": [
    {
     "data": {
      "text/html": [
       "<ol class=list-inline>\n",
       "\t<li>0.000662558160461271</li>\n",
       "\t<li>0.0867106992178339</li>\n",
       "\t<li>0.158747455520641</li>\n",
       "\t<li>0.250342934066016</li>\n",
       "</ol>\n"
      ],
      "text/latex": [
       "\\begin{enumerate*}\n",
       "\\item 0.000662558160461271\n",
       "\\item 0.0867106992178339\n",
       "\\item 0.158747455520641\n",
       "\\item 0.250342934066016\n",
       "\\end{enumerate*}\n"
      ],
      "text/markdown": [
       "1. 0.000662558160461271\n",
       "2. 0.0867106992178339\n",
       "3. 0.158747455520641\n",
       "4. 0.250342934066016\n",
       "\n",
       "\n"
      ],
      "text/plain": [
       "[1] 0.0006625582 0.0867106992 0.1587474555 0.2503429341"
      ]
     },
     "metadata": {},
     "output_type": "display_data"
    }
   ],
   "source": [
    "pchisq(res.dev, df=614, lower.tail = FALSE)"
   ]
  }
 ],
 "metadata": {
  "kernelspec": {
   "display_name": "R",
   "language": "R",
   "name": "ir"
  },
  "language_info": {
   "codemirror_mode": "r",
   "file_extension": ".r",
   "mimetype": "text/x-r-source",
   "name": "R",
   "pygments_lexer": "r",
   "version": "3.6.1"
  },
  "orig_nbformat": 4
 },
 "nbformat": 4,
 "nbformat_minor": 2
}
