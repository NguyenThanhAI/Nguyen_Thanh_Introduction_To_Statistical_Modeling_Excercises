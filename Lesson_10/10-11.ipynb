{
 "cells": [
  {
   "cell_type": "code",
   "execution_count": 1,
   "metadata": {},
   "outputs": [
    {
     "name": "stderr",
     "output_type": "stream",
     "text": [
      "Warning message:\n",
      "\"package 'statmod' was built under R version 3.6.3\""
     ]
    }
   ],
   "source": [
    "library(GLMsData)\n",
    "library(statmod)\n",
    "library(MASS)"
   ]
  },
  {
   "cell_type": "code",
   "execution_count": 2,
   "metadata": {},
   "outputs": [],
   "source": [
    "data(cervical)"
   ]
  },
  {
   "cell_type": "code",
   "execution_count": 3,
   "metadata": {},
   "outputs": [
    {
     "name": "stdout",
     "output_type": "stream",
     "text": [
      "'data.frame':\t16 obs. of  4 variables:\n",
      " $ Country: Factor w/ 4 levels \"Belgium\",\"EngWales\",..: 2 2 2 2 1 1 1 1 3 3 ...\n",
      " $ Age    : Factor w/ 4 levels \"25to34\",\"35to44\",..: 1 2 3 4 1 2 3 4 1 2 ...\n",
      " $ Deaths : int  192 860 2762 3035 8 81 242 268 96 477 ...\n",
      " $ Wyears : int  153999 14268 15450 15142 2328 2557 2268 2253 15324 16186 ...\n"
     ]
    }
   ],
   "source": [
    "str(cervical)"
   ]
  },
  {
   "cell_type": "code",
   "execution_count": 4,
   "metadata": {},
   "outputs": [
    {
     "data": {
      "text/html": [
       "<table>\n",
       "<thead><tr><th scope=col>Country</th><th scope=col>Age</th><th scope=col>Deaths</th><th scope=col>Wyears</th></tr></thead>\n",
       "<tbody>\n",
       "\t<tr><td>EngWales</td><td>25to34  </td><td> 192    </td><td>153999  </td></tr>\n",
       "\t<tr><td>EngWales</td><td>35to44  </td><td> 860    </td><td> 14268  </td></tr>\n",
       "\t<tr><td>EngWales</td><td>45to54  </td><td>2762    </td><td> 15450  </td></tr>\n",
       "\t<tr><td>EngWales</td><td>55to64  </td><td>3035    </td><td> 15142  </td></tr>\n",
       "\t<tr><td>Belgium </td><td>25to34  </td><td>   8    </td><td>  2328  </td></tr>\n",
       "\t<tr><td>Belgium </td><td>35to44  </td><td>  81    </td><td>  2557  </td></tr>\n",
       "\t<tr><td>Belgium </td><td>45to54  </td><td> 242    </td><td>  2268  </td></tr>\n",
       "\t<tr><td>Belgium </td><td>55to64  </td><td> 268    </td><td>  2253  </td></tr>\n",
       "\t<tr><td>France  </td><td>25to34  </td><td>  96    </td><td> 15324  </td></tr>\n",
       "\t<tr><td>France  </td><td>35to44  </td><td> 477    </td><td> 16186  </td></tr>\n",
       "\t<tr><td>France  </td><td>45to54  </td><td> 998    </td><td> 14432  </td></tr>\n",
       "\t<tr><td>France  </td><td>55to64  </td><td>1117    </td><td> 13201  </td></tr>\n",
       "\t<tr><td>Italy   </td><td>25to34  </td><td>  45    </td><td> 19115  </td></tr>\n",
       "\t<tr><td>Italy   </td><td>35to44  </td><td> 255    </td><td> 18811  </td></tr>\n",
       "\t<tr><td>Italy   </td><td>45to54  </td><td> 621    </td><td> 16234  </td></tr>\n",
       "\t<tr><td>Italy   </td><td>55to64  </td><td> 839    </td><td> 15246  </td></tr>\n",
       "</tbody>\n",
       "</table>\n"
      ],
      "text/latex": [
       "\\begin{tabular}{r|llll}\n",
       " Country & Age & Deaths & Wyears\\\\\n",
       "\\hline\n",
       "\t EngWales & 25to34   &  192     & 153999  \\\\\n",
       "\t EngWales & 35to44   &  860     &  14268  \\\\\n",
       "\t EngWales & 45to54   & 2762     &  15450  \\\\\n",
       "\t EngWales & 55to64   & 3035     &  15142  \\\\\n",
       "\t Belgium  & 25to34   &    8     &   2328  \\\\\n",
       "\t Belgium  & 35to44   &   81     &   2557  \\\\\n",
       "\t Belgium  & 45to54   &  242     &   2268  \\\\\n",
       "\t Belgium  & 55to64   &  268     &   2253  \\\\\n",
       "\t France   & 25to34   &   96     &  15324  \\\\\n",
       "\t France   & 35to44   &  477     &  16186  \\\\\n",
       "\t France   & 45to54   &  998     &  14432  \\\\\n",
       "\t France   & 55to64   & 1117     &  13201  \\\\\n",
       "\t Italy    & 25to34   &   45     &  19115  \\\\\n",
       "\t Italy    & 35to44   &  255     &  18811  \\\\\n",
       "\t Italy    & 45to54   &  621     &  16234  \\\\\n",
       "\t Italy    & 55to64   &  839     &  15246  \\\\\n",
       "\\end{tabular}\n"
      ],
      "text/markdown": [
       "\n",
       "| Country | Age | Deaths | Wyears |\n",
       "|---|---|---|---|\n",
       "| EngWales | 25to34   |  192     | 153999   |\n",
       "| EngWales | 35to44   |  860     |  14268   |\n",
       "| EngWales | 45to54   | 2762     |  15450   |\n",
       "| EngWales | 55to64   | 3035     |  15142   |\n",
       "| Belgium  | 25to34   |    8     |   2328   |\n",
       "| Belgium  | 35to44   |   81     |   2557   |\n",
       "| Belgium  | 45to54   |  242     |   2268   |\n",
       "| Belgium  | 55to64   |  268     |   2253   |\n",
       "| France   | 25to34   |   96     |  15324   |\n",
       "| France   | 35to44   |  477     |  16186   |\n",
       "| France   | 45to54   |  998     |  14432   |\n",
       "| France   | 55to64   | 1117     |  13201   |\n",
       "| Italy    | 25to34   |   45     |  19115   |\n",
       "| Italy    | 35to44   |  255     |  18811   |\n",
       "| Italy    | 45to54   |  621     |  16234   |\n",
       "| Italy    | 55to64   |  839     |  15246   |\n",
       "\n"
      ],
      "text/plain": [
       "   Country  Age    Deaths Wyears\n",
       "1  EngWales 25to34  192   153999\n",
       "2  EngWales 35to44  860    14268\n",
       "3  EngWales 45to54 2762    15450\n",
       "4  EngWales 55to64 3035    15142\n",
       "5  Belgium  25to34    8     2328\n",
       "6  Belgium  35to44   81     2557\n",
       "7  Belgium  45to54  242     2268\n",
       "8  Belgium  55to64  268     2253\n",
       "9  France   25to34   96    15324\n",
       "10 France   35to44  477    16186\n",
       "11 France   45to54  998    14432\n",
       "12 France   55to64 1117    13201\n",
       "13 Italy    25to34   45    19115\n",
       "14 Italy    35to44  255    18811\n",
       "15 Italy    45to54  621    16234\n",
       "16 Italy    55to64  839    15246"
      ]
     },
     "metadata": {},
     "output_type": "display_data"
    }
   ],
   "source": [
    "cervical"
   ]
  },
  {
   "cell_type": "code",
   "execution_count": 5,
   "metadata": {},
   "outputs": [],
   "source": [
    "cervical$AgeNum <- rep( c(25, 35, 45, 55), 4)"
   ]
  },
  {
   "cell_type": "code",
   "execution_count": 6,
   "metadata": {},
   "outputs": [
    {
     "data": {
      "text/html": [
       "<table>\n",
       "<thead><tr><th scope=col>Country</th><th scope=col>Age</th><th scope=col>Deaths</th><th scope=col>Wyears</th><th scope=col>AgeNum</th></tr></thead>\n",
       "<tbody>\n",
       "\t<tr><td>EngWales</td><td>25to34  </td><td> 192    </td><td>153999  </td><td>25      </td></tr>\n",
       "\t<tr><td>EngWales</td><td>35to44  </td><td> 860    </td><td> 14268  </td><td>35      </td></tr>\n",
       "\t<tr><td>EngWales</td><td>45to54  </td><td>2762    </td><td> 15450  </td><td>45      </td></tr>\n",
       "\t<tr><td>EngWales</td><td>55to64  </td><td>3035    </td><td> 15142  </td><td>55      </td></tr>\n",
       "\t<tr><td>Belgium </td><td>25to34  </td><td>   8    </td><td>  2328  </td><td>25      </td></tr>\n",
       "\t<tr><td>Belgium </td><td>35to44  </td><td>  81    </td><td>  2557  </td><td>35      </td></tr>\n",
       "\t<tr><td>Belgium </td><td>45to54  </td><td> 242    </td><td>  2268  </td><td>45      </td></tr>\n",
       "\t<tr><td>Belgium </td><td>55to64  </td><td> 268    </td><td>  2253  </td><td>55      </td></tr>\n",
       "\t<tr><td>France  </td><td>25to34  </td><td>  96    </td><td> 15324  </td><td>25      </td></tr>\n",
       "\t<tr><td>France  </td><td>35to44  </td><td> 477    </td><td> 16186  </td><td>35      </td></tr>\n",
       "\t<tr><td>France  </td><td>45to54  </td><td> 998    </td><td> 14432  </td><td>45      </td></tr>\n",
       "\t<tr><td>France  </td><td>55to64  </td><td>1117    </td><td> 13201  </td><td>55      </td></tr>\n",
       "\t<tr><td>Italy   </td><td>25to34  </td><td>  45    </td><td> 19115  </td><td>25      </td></tr>\n",
       "\t<tr><td>Italy   </td><td>35to44  </td><td> 255    </td><td> 18811  </td><td>35      </td></tr>\n",
       "\t<tr><td>Italy   </td><td>45to54  </td><td> 621    </td><td> 16234  </td><td>45      </td></tr>\n",
       "\t<tr><td>Italy   </td><td>55to64  </td><td> 839    </td><td> 15246  </td><td>55      </td></tr>\n",
       "</tbody>\n",
       "</table>\n"
      ],
      "text/latex": [
       "\\begin{tabular}{r|lllll}\n",
       " Country & Age & Deaths & Wyears & AgeNum\\\\\n",
       "\\hline\n",
       "\t EngWales & 25to34   &  192     & 153999   & 25      \\\\\n",
       "\t EngWales & 35to44   &  860     &  14268   & 35      \\\\\n",
       "\t EngWales & 45to54   & 2762     &  15450   & 45      \\\\\n",
       "\t EngWales & 55to64   & 3035     &  15142   & 55      \\\\\n",
       "\t Belgium  & 25to34   &    8     &   2328   & 25      \\\\\n",
       "\t Belgium  & 35to44   &   81     &   2557   & 35      \\\\\n",
       "\t Belgium  & 45to54   &  242     &   2268   & 45      \\\\\n",
       "\t Belgium  & 55to64   &  268     &   2253   & 55      \\\\\n",
       "\t France   & 25to34   &   96     &  15324   & 25      \\\\\n",
       "\t France   & 35to44   &  477     &  16186   & 35      \\\\\n",
       "\t France   & 45to54   &  998     &  14432   & 45      \\\\\n",
       "\t France   & 55to64   & 1117     &  13201   & 55      \\\\\n",
       "\t Italy    & 25to34   &   45     &  19115   & 25      \\\\\n",
       "\t Italy    & 35to44   &  255     &  18811   & 35      \\\\\n",
       "\t Italy    & 45to54   &  621     &  16234   & 45      \\\\\n",
       "\t Italy    & 55to64   &  839     &  15246   & 55      \\\\\n",
       "\\end{tabular}\n"
      ],
      "text/markdown": [
       "\n",
       "| Country | Age | Deaths | Wyears | AgeNum |\n",
       "|---|---|---|---|---|\n",
       "| EngWales | 25to34   |  192     | 153999   | 25       |\n",
       "| EngWales | 35to44   |  860     |  14268   | 35       |\n",
       "| EngWales | 45to54   | 2762     |  15450   | 45       |\n",
       "| EngWales | 55to64   | 3035     |  15142   | 55       |\n",
       "| Belgium  | 25to34   |    8     |   2328   | 25       |\n",
       "| Belgium  | 35to44   |   81     |   2557   | 35       |\n",
       "| Belgium  | 45to54   |  242     |   2268   | 45       |\n",
       "| Belgium  | 55to64   |  268     |   2253   | 55       |\n",
       "| France   | 25to34   |   96     |  15324   | 25       |\n",
       "| France   | 35to44   |  477     |  16186   | 35       |\n",
       "| France   | 45to54   |  998     |  14432   | 45       |\n",
       "| France   | 55to64   | 1117     |  13201   | 55       |\n",
       "| Italy    | 25to34   |   45     |  19115   | 25       |\n",
       "| Italy    | 35to44   |  255     |  18811   | 35       |\n",
       "| Italy    | 45to54   |  621     |  16234   | 45       |\n",
       "| Italy    | 55to64   |  839     |  15246   | 55       |\n",
       "\n"
      ],
      "text/plain": [
       "   Country  Age    Deaths Wyears AgeNum\n",
       "1  EngWales 25to34  192   153999 25    \n",
       "2  EngWales 35to44  860    14268 35    \n",
       "3  EngWales 45to54 2762    15450 45    \n",
       "4  EngWales 55to64 3035    15142 55    \n",
       "5  Belgium  25to34    8     2328 25    \n",
       "6  Belgium  35to44   81     2557 35    \n",
       "7  Belgium  45to54  242     2268 45    \n",
       "8  Belgium  55to64  268     2253 55    \n",
       "9  France   25to34   96    15324 25    \n",
       "10 France   35to44  477    16186 35    \n",
       "11 France   45to54  998    14432 45    \n",
       "12 France   55to64 1117    13201 55    \n",
       "13 Italy    25to34   45    19115 25    \n",
       "14 Italy    35to44  255    18811 35    \n",
       "15 Italy    45to54  621    16234 45    \n",
       "16 Italy    55to64  839    15246 55    "
      ]
     },
     "metadata": {},
     "output_type": "display_data"
    }
   ],
   "source": [
    "cervical"
   ]
  },
  {
   "cell_type": "code",
   "execution_count": 7,
   "metadata": {},
   "outputs": [
    {
     "data": {
      "image/png": "[encoded data removed]",
      "text/plain": [
       "plot without title"
      ]
     },
     "metadata": {},
     "output_type": "display_data"
    }
   ],
   "source": [
    "with( cervical, {\n",
    "plot( Deaths/Wyears ~ AgeNum, type=\"n\")\n",
    "lines(Deaths/Wyears ~ AgeNum, lty=1,\n",
    "subset=(Country==unique(Country)[1]) )\n",
    "lines(Deaths/Wyears ~ AgeNum, lty=2,\n",
    "subset=(Country==unique(Country)[2]) )\n",
    "lines(Deaths/Wyears ~ AgeNum, lty=3,\n",
    "subset=(Country==unique(Country)[3]) )\n",
    "lines(Deaths/Wyears ~ AgeNum, lty=4,\n",
    "subset=(Country==unique(Country)[4]) )\n",
    "legend(\"topleft\", lty=1:4, legend=unique(cervical$Country) )\n",
    "})"
   ]
  },
  {
   "cell_type": "code",
   "execution_count": 8,
   "metadata": {},
   "outputs": [],
   "source": [
    "c.m0 <- glm( Deaths ~ offset(log(Wyears)) + Age + Country,\n",
    "data=cervical, family=poisson )"
   ]
  },
  {
   "cell_type": "code",
   "execution_count": 9,
   "metadata": {},
   "outputs": [
    {
     "data": {
      "text/html": [
       "<table>\n",
       "<thead><tr><th></th><th scope=col>Estimate</th><th scope=col>Std. Error</th><th scope=col>z value</th><th scope=col>Pr(&gt;|z|)</th></tr></thead>\n",
       "<tbody>\n",
       "\t<tr><th scope=row>(Intercept)</th><td>-6.7040153  </td><td>0.06858729  </td><td>-97.744273  </td><td>0.000000e+00</td></tr>\n",
       "\t<tr><th scope=row>Age35to44</th><td> 3.3887570  </td><td>0.05990002  </td><td> 56.573558  </td><td>0.000000e+00</td></tr>\n",
       "\t<tr><th scope=row>Age45to54</th><td> 4.4201171  </td><td>0.05650635  </td><td> 78.223375  </td><td>0.000000e+00</td></tr>\n",
       "\t<tr><th scope=row>Age55to64</th><td> 4.5904819  </td><td>0.05624789  </td><td> 81.611631  </td><td>0.000000e+00</td></tr>\n",
       "\t<tr><th scope=row>CountryEngWales</th><td> 0.5105500  </td><td>0.04267359  </td><td> 11.964075  </td><td>5.480522e-33</td></tr>\n",
       "\t<tr><th scope=row>CountryFrance</th><td>-0.3119330  </td><td>0.04518420  </td><td> -6.903587  </td><td>5.070573e-12</td></tr>\n",
       "\t<tr><th scope=row>CountryItaly</th><td>-0.8703977  </td><td>0.04730464  </td><td>-18.399836  </td><td>1.317635e-75</td></tr>\n",
       "</tbody>\n",
       "</table>\n"
      ],
      "text/latex": [
       "\\begin{tabular}{r|llll}\n",
       "  & Estimate & Std. Error & z value & Pr(>\\textbar{}z\\textbar{})\\\\\n",
       "\\hline\n",
       "\t(Intercept) & -6.7040153   & 0.06858729   & -97.744273   & 0.000000e+00\\\\\n",
       "\tAge35to44 &  3.3887570   & 0.05990002   &  56.573558   & 0.000000e+00\\\\\n",
       "\tAge45to54 &  4.4201171   & 0.05650635   &  78.223375   & 0.000000e+00\\\\\n",
       "\tAge55to64 &  4.5904819   & 0.05624789   &  81.611631   & 0.000000e+00\\\\\n",
       "\tCountryEngWales &  0.5105500   & 0.04267359   &  11.964075   & 5.480522e-33\\\\\n",
       "\tCountryFrance & -0.3119330   & 0.04518420   &  -6.903587   & 5.070573e-12\\\\\n",
       "\tCountryItaly & -0.8703977   & 0.04730464   & -18.399836   & 1.317635e-75\\\\\n",
       "\\end{tabular}\n"
      ],
      "text/markdown": [
       "\n",
       "| <!--/--> | Estimate | Std. Error | z value | Pr(>|z|) |\n",
       "|---|---|---|---|---|\n",
       "| (Intercept) | -6.7040153   | 0.06858729   | -97.744273   | 0.000000e+00 |\n",
       "| Age35to44 |  3.3887570   | 0.05990002   |  56.573558   | 0.000000e+00 |\n",
       "| Age45to54 |  4.4201171   | 0.05650635   |  78.223375   | 0.000000e+00 |\n",
       "| Age55to64 |  4.5904819   | 0.05624789   |  81.611631   | 0.000000e+00 |\n",
       "| CountryEngWales |  0.5105500   | 0.04267359   |  11.964075   | 5.480522e-33 |\n",
       "| CountryFrance | -0.3119330   | 0.04518420   |  -6.903587   | 5.070573e-12 |\n",
       "| CountryItaly | -0.8703977   | 0.04730464   | -18.399836   | 1.317635e-75 |\n",
       "\n"
      ],
      "text/plain": [
       "                Estimate   Std. Error z value    Pr(>|z|)    \n",
       "(Intercept)     -6.7040153 0.06858729 -97.744273 0.000000e+00\n",
       "Age35to44        3.3887570 0.05990002  56.573558 0.000000e+00\n",
       "Age45to54        4.4201171 0.05650635  78.223375 0.000000e+00\n",
       "Age55to64        4.5904819 0.05624789  81.611631 0.000000e+00\n",
       "CountryEngWales  0.5105500 0.04267359  11.964075 5.480522e-33\n",
       "CountryFrance   -0.3119330 0.04518420  -6.903587 5.070573e-12\n",
       "CountryItaly    -0.8703977 0.04730464 -18.399836 1.317635e-75"
      ]
     },
     "metadata": {},
     "output_type": "display_data"
    }
   ],
   "source": [
    "coef(summary(c.m0))"
   ]
  },
  {
   "cell_type": "code",
   "execution_count": 10,
   "metadata": {},
   "outputs": [
    {
     "data": {
      "text/html": [
       "<table>\n",
       "<thead><tr><th></th><th scope=col>Df</th><th scope=col>Deviance</th><th scope=col>Resid. Df</th><th scope=col>Resid. Dev</th><th scope=col>Pr(&gt;Chi)</th></tr></thead>\n",
       "<tbody>\n",
       "\t<tr><th scope=row>NULL</th><td>NA        </td><td>       NA </td><td>15        </td><td>23161.6123</td><td>NA        </td></tr>\n",
       "\t<tr><th scope=row>Age</th><td> 3        </td><td>19257.071 </td><td>12        </td><td> 3904.5414</td><td> 0        </td></tr>\n",
       "\t<tr><th scope=row>Country</th><td> 3        </td><td> 3528.107 </td><td> 9        </td><td>  376.4343</td><td> 0        </td></tr>\n",
       "</tbody>\n",
       "</table>\n"
      ],
      "text/latex": [
       "\\begin{tabular}{r|lllll}\n",
       "  & Df & Deviance & Resid. Df & Resid. Dev & Pr(>Chi)\\\\\n",
       "\\hline\n",
       "\tNULL & NA         &        NA  & 15         & 23161.6123 & NA        \\\\\n",
       "\tAge &  3         & 19257.071  & 12         &  3904.5414 &  0        \\\\\n",
       "\tCountry &  3         &  3528.107  &  9         &   376.4343 &  0        \\\\\n",
       "\\end{tabular}\n"
      ],
      "text/markdown": [
       "\n",
       "| <!--/--> | Df | Deviance | Resid. Df | Resid. Dev | Pr(>Chi) |\n",
       "|---|---|---|---|---|---|\n",
       "| NULL | NA         |        NA  | 15         | 23161.6123 | NA         |\n",
       "| Age |  3         | 19257.071  | 12         |  3904.5414 |  0         |\n",
       "| Country |  3         |  3528.107  |  9         |   376.4343 |  0         |\n",
       "\n"
      ],
      "text/plain": [
       "        Df Deviance  Resid. Df Resid. Dev Pr(>Chi)\n",
       "NULL    NA        NA 15        23161.6123 NA      \n",
       "Age      3 19257.071 12         3904.5414  0      \n",
       "Country  3  3528.107  9          376.4343  0      "
      ]
     },
     "metadata": {},
     "output_type": "display_data"
    }
   ],
   "source": [
    "anova(c.m0, test=\"Chisq\")"
   ]
  },
  {
   "cell_type": "code",
   "execution_count": 14,
   "metadata": {},
   "outputs": [
    {
     "data": {
      "text/html": [
       "376.434337222002"
      ],
      "text/latex": [
       "376.434337222002"
      ],
      "text/markdown": [
       "376.434337222002"
      ],
      "text/plain": [
       "[1] 376.4343"
      ]
     },
     "metadata": {},
     "output_type": "display_data"
    },
    {
     "data": {
      "text/html": [
       "714.314637288951"
      ],
      "text/latex": [
       "714.314637288951"
      ],
      "text/markdown": [
       "714.314637288951"
      ],
      "text/plain": [
       "[1] 714.3146"
      ]
     },
     "metadata": {},
     "output_type": "display_data"
    },
    {
     "data": {
      "text/html": [
       "1.45242346113268e-75"
      ],
      "text/latex": [
       "1.45242346113268e-75"
      ],
      "text/markdown": [
       "1.45242346113268e-75"
      ],
      "text/plain": [
       "[1] 1.452423e-75"
      ]
     },
     "metadata": {},
     "output_type": "display_data"
    },
    {
     "data": {
      "text/html": [
       "5.78330833113192e-148"
      ],
      "text/latex": [
       "5.78330833113192e-148"
      ],
      "text/markdown": [
       "5.78330833113192e-148"
      ],
      "text/plain": [
       "[1] 5.783308e-148"
      ]
     },
     "metadata": {},
     "output_type": "display_data"
    }
   ],
   "source": [
    "gof.dev <- deviance(c.m0)\n",
    "gof.pearson <- sum(c.m0$weights * c.m0$residuals^2)\n",
    "gof.dev\n",
    "gof.pearson\n",
    "pchisq(gof.dev, df=df.residual(c.m0), lower.tail = FALSE)\n",
    "pchisq(gof.pearson, df=df.residual(c.m0), lower.tail = FALSE)"
   ]
  },
  {
   "cell_type": "code",
   "execution_count": 21,
   "metadata": {},
   "outputs": [
    {
     "name": "stderr",
     "output_type": "stream",
     "text": [
      "Warning message in simpleLoess(y, x, w, span, degree = degree, parametric = FALSE, :\n",
      "\"pseudoinverse used at 2\"Warning message in simpleLoess(y, x, w, span, degree = degree, parametric = FALSE, :\n",
      "\"neighborhood radius 1\"Warning message in simpleLoess(y, x, w, span, degree = degree, parametric = FALSE, :\n",
      "\"reciprocal condition number  0\"Warning message in simpleLoess(y, x, w, span, degree = degree, parametric = FALSE, :\n",
      "\"There are other near singularities as well. 1\"Warning message in simpleLoess(y, x, w, span, degree = degree, parametric = FALSE, :\n",
      "\"pseudoinverse used at 2\"Warning message in simpleLoess(y, x, w, span, degree = degree, parametric = FALSE, :\n",
      "\"neighborhood radius 1\"Warning message in simpleLoess(y, x, w, span, degree = degree, parametric = FALSE, :\n",
      "\"reciprocal condition number  0\"Warning message in simpleLoess(y, x, w, span, degree = degree, parametric = FALSE, :\n",
      "\"There are other near singularities as well. 1\"Warning message in simpleLoess(y, x, w, span, degree = degree, parametric = FALSE, :\n",
      "\"pseudoinverse used at 2\"Warning message in simpleLoess(y, x, w, span, degree = degree, parametric = FALSE, :\n",
      "\"neighborhood radius 1\"Warning message in simpleLoess(y, x, w, span, degree = degree, parametric = FALSE, :\n",
      "\"reciprocal condition number  0\"Warning message in simpleLoess(y, x, w, span, degree = degree, parametric = FALSE, :\n",
      "\"There are other near singularities as well. 1\"Warning message in simpleLoess(y, x, w, span, degree = degree, parametric = FALSE, :\n",
      "\"pseudoinverse used at 2\"Warning message in simpleLoess(y, x, w, span, degree = degree, parametric = FALSE, :\n",
      "\"neighborhood radius 1\"Warning message in simpleLoess(y, x, w, span, degree = degree, parametric = FALSE, :\n",
      "\"reciprocal condition number  0\"Warning message in simpleLoess(y, x, w, span, degree = degree, parametric = FALSE, :\n",
      "\"There are other near singularities as well. 1\"Warning message in simpleLoess(y, x, w, span, degree = degree, parametric = FALSE, :\n",
      "\"pseudoinverse used at 2\"Warning message in simpleLoess(y, x, w, span, degree = degree, parametric = FALSE, :\n",
      "\"neighborhood radius 1\"Warning message in simpleLoess(y, x, w, span, degree = degree, parametric = FALSE, :\n",
      "\"reciprocal condition number  0\"Warning message in simpleLoess(y, x, w, span, degree = degree, parametric = FALSE, :\n",
      "\"There are other near singularities as well. 1\"Warning message in simpleLoess(y, x, w, span, degree = degree, parametric = FALSE, :\n",
      "\"pseudoinverse used at 2\"Warning message in simpleLoess(y, x, w, span, degree = degree, parametric = FALSE, :\n",
      "\"neighborhood radius 1\"Warning message in simpleLoess(y, x, w, span, degree = degree, parametric = FALSE, :\n",
      "\"reciprocal condition number  0\"Warning message in simpleLoess(y, x, w, span, degree = degree, parametric = FALSE, :\n",
      "\"There are other near singularities as well. 1\"Warning message in simpleLoess(y, x, w, span, degree = degree, parametric = FALSE, :\n",
      "\"pseudoinverse used at 2\"Warning message in simpleLoess(y, x, w, span, degree = degree, parametric = FALSE, :\n",
      "\"neighborhood radius 1\"Warning message in simpleLoess(y, x, w, span, degree = degree, parametric = FALSE, :\n",
      "\"reciprocal condition number  0\"Warning message in simpleLoess(y, x, w, span, degree = degree, parametric = FALSE, :\n",
      "\"There are other near singularities as well. 1\"Warning message in simpleLoess(y, x, w, span, degree = degree, parametric = FALSE, :\n",
      "\"pseudoinverse used at 2\"Warning message in simpleLoess(y, x, w, span, degree = degree, parametric = FALSE, :\n",
      "\"neighborhood radius 1\"Warning message in simpleLoess(y, x, w, span, degree = degree, parametric = FALSE, :\n",
      "\"reciprocal condition number  0\"Warning message in simpleLoess(y, x, w, span, degree = degree, parametric = FALSE, :\n",
      "\"There are other near singularities as well. 1\"Warning message in simpleLoess(y, x, w, span, degree = degree, parametric = FALSE, :\n",
      "\"pseudoinverse used at 2\"Warning message in simpleLoess(y, x, w, span, degree = degree, parametric = FALSE, :\n",
      "\"neighborhood radius 1\"Warning message in simpleLoess(y, x, w, span, degree = degree, parametric = FALSE, :\n",
      "\"reciprocal condition number  0\"Warning message in simpleLoess(y, x, w, span, degree = degree, parametric = FALSE, :\n",
      "\"There are other near singularities as well. 1\"Warning message in simpleLoess(y, x, w, span, degree = degree, parametric = FALSE, :\n",
      "\"pseudoinverse used at 2\"Warning message in simpleLoess(y, x, w, span, degree = degree, parametric = FALSE, :\n",
      "\"neighborhood radius 1\"Warning message in simpleLoess(y, x, w, span, degree = degree, parametric = FALSE, :\n",
      "\"reciprocal condition number  0\"Warning message in simpleLoess(y, x, w, span, degree = degree, parametric = FALSE, :\n",
      "\"There are other near singularities as well. 1\""
     ]
    },
    {
     "data": {
      "text/plain": [
       "\n",
       "\tShapiro-Wilk normality test\n",
       "\n",
       "data:  rstandard(c.m0)\n",
       "W = 0.79424, p-value = 0.002286\n"
      ]
     },
     "metadata": {},
     "output_type": "display_data"
    },
    {
     "data": {
      "image/png": "[encoded data removed]",
      "text/plain": [
       "Plot with title \"\""
      ]
     },
     "metadata": {},
     "output_type": "display_data"
    }
   ],
   "source": [
    "par(mfrow=c(3, 3))\n",
    "scatter.smooth(rstandard(c.m0) ~ sqrt(fitted(c.m0)))\n",
    "scatter.smooth(rstandard(c.m0) ~ fitted(c.m0))\n",
    "scatter.smooth(rstandard(c.m0) ~ cervical$Age)\n",
    "scatter.smooth(rstandard(c.m0) ~ cervical$Country)\n",
    "z <- resid(c.m0, type=\"working\") + c.m0$linear.predictor\n",
    "scatter.smooth(z ~ c.m0$linear.predictor)\n",
    "termplot(c.m0, partial.resid = TRUE)\n",
    "shapiro.test(rstandard(c.m0))"
   ]
  },
  {
   "cell_type": "code",
   "execution_count": 22,
   "metadata": {},
   "outputs": [
    {
     "data": {
      "text/html": [
       "41.8260374691113"
      ],
      "text/latex": [
       "41.8260374691113"
      ],
      "text/markdown": [
       "41.8260374691113"
      ],
      "text/plain": [
       "[1] 41.82604"
      ]
     },
     "metadata": {},
     "output_type": "display_data"
    }
   ],
   "source": [
    "deviance(c.m0) / df.residual(c.m0)"
   ]
  },
  {
   "cell_type": "code",
   "execution_count": 23,
   "metadata": {},
   "outputs": [],
   "source": [
    "c.m1 <- glm( Deaths ~ offset(log(Wyears)) + Age + Country,\n",
    "data=cervical, family=quasipoisson() )"
   ]
  },
  {
   "cell_type": "code",
   "execution_count": 24,
   "metadata": {},
   "outputs": [
    {
     "name": "stderr",
     "output_type": "stream",
     "text": [
      "Warning message in simpleLoess(y, x, w, span, degree = degree, parametric = FALSE, :\n",
      "\"pseudoinverse used at 2\"Warning message in simpleLoess(y, x, w, span, degree = degree, parametric = FALSE, :\n",
      "\"neighborhood radius 1\"Warning message in simpleLoess(y, x, w, span, degree = degree, parametric = FALSE, :\n",
      "\"reciprocal condition number  0\"Warning message in simpleLoess(y, x, w, span, degree = degree, parametric = FALSE, :\n",
      "\"There are other near singularities as well. 1\"Warning message in simpleLoess(y, x, w, span, degree = degree, parametric = FALSE, :\n",
      "\"pseudoinverse used at 2\"Warning message in simpleLoess(y, x, w, span, degree = degree, parametric = FALSE, :\n",
      "\"neighborhood radius 1\"Warning message in simpleLoess(y, x, w, span, degree = degree, parametric = FALSE, :\n",
      "\"reciprocal condition number  0\"Warning message in simpleLoess(y, x, w, span, degree = degree, parametric = FALSE, :\n",
      "\"There are other near singularities as well. 1\"Warning message in simpleLoess(y, x, w, span, degree = degree, parametric = FALSE, :\n",
      "\"pseudoinverse used at 2\"Warning message in simpleLoess(y, x, w, span, degree = degree, parametric = FALSE, :\n",
      "\"neighborhood radius 1\"Warning message in simpleLoess(y, x, w, span, degree = degree, parametric = FALSE, :\n",
      "\"reciprocal condition number  0\"Warning message in simpleLoess(y, x, w, span, degree = degree, parametric = FALSE, :\n",
      "\"There are other near singularities as well. 1\"Warning message in simpleLoess(y, x, w, span, degree = degree, parametric = FALSE, :\n",
      "\"pseudoinverse used at 2\"Warning message in simpleLoess(y, x, w, span, degree = degree, parametric = FALSE, :\n",
      "\"neighborhood radius 1\"Warning message in simpleLoess(y, x, w, span, degree = degree, parametric = FALSE, :\n",
      "\"reciprocal condition number  0\"Warning message in simpleLoess(y, x, w, span, degree = degree, parametric = FALSE, :\n",
      "\"There are other near singularities as well. 1\"Warning message in simpleLoess(y, x, w, span, degree = degree, parametric = FALSE, :\n",
      "\"pseudoinverse used at 2\"Warning message in simpleLoess(y, x, w, span, degree = degree, parametric = FALSE, :\n",
      "\"neighborhood radius 1\"Warning message in simpleLoess(y, x, w, span, degree = degree, parametric = FALSE, :\n",
      "\"reciprocal condition number  0\"Warning message in simpleLoess(y, x, w, span, degree = degree, parametric = FALSE, :\n",
      "\"There are other near singularities as well. 1\"Warning message in simpleLoess(y, x, w, span, degree = degree, parametric = FALSE, :\n",
      "\"pseudoinverse used at 2\"Warning message in simpleLoess(y, x, w, span, degree = degree, parametric = FALSE, :\n",
      "\"neighborhood radius 1\"Warning message in simpleLoess(y, x, w, span, degree = degree, parametric = FALSE, :\n",
      "\"reciprocal condition number  0\"Warning message in simpleLoess(y, x, w, span, degree = degree, parametric = FALSE, :\n",
      "\"There are other near singularities as well. 1\"Warning message in simpleLoess(y, x, w, span, degree = degree, parametric = FALSE, :\n",
      "\"pseudoinverse used at 2\"Warning message in simpleLoess(y, x, w, span, degree = degree, parametric = FALSE, :\n",
      "\"neighborhood radius 1\"Warning message in simpleLoess(y, x, w, span, degree = degree, parametric = FALSE, :\n",
      "\"reciprocal condition number  0\"Warning message in simpleLoess(y, x, w, span, degree = degree, parametric = FALSE, :\n",
      "\"There are other near singularities as well. 1\"Warning message in simpleLoess(y, x, w, span, degree = degree, parametric = FALSE, :\n",
      "\"pseudoinverse used at 2\"Warning message in simpleLoess(y, x, w, span, degree = degree, parametric = FALSE, :\n",
      "\"neighborhood radius 1\"Warning message in simpleLoess(y, x, w, span, degree = degree, parametric = FALSE, :\n",
      "\"reciprocal condition number  0\"Warning message in simpleLoess(y, x, w, span, degree = degree, parametric = FALSE, :\n",
      "\"There are other near singularities as well. 1\"Warning message in simpleLoess(y, x, w, span, degree = degree, parametric = FALSE, :\n",
      "\"pseudoinverse used at 2\"Warning message in simpleLoess(y, x, w, span, degree = degree, parametric = FALSE, :\n",
      "\"neighborhood radius 1\"Warning message in simpleLoess(y, x, w, span, degree = degree, parametric = FALSE, :\n",
      "\"reciprocal condition number  0\"Warning message in simpleLoess(y, x, w, span, degree = degree, parametric = FALSE, :\n",
      "\"There are other near singularities as well. 1\"Warning message in simpleLoess(y, x, w, span, degree = degree, parametric = FALSE, :\n",
      "\"pseudoinverse used at 2\"Warning message in simpleLoess(y, x, w, span, degree = degree, parametric = FALSE, :\n",
      "\"neighborhood radius 1\"Warning message in simpleLoess(y, x, w, span, degree = degree, parametric = FALSE, :\n",
      "\"reciprocal condition number  0\"Warning message in simpleLoess(y, x, w, span, degree = degree, parametric = FALSE, :\n",
      "\"There are other near singularities as well. 1\""
     ]
    },
    {
     "data": {
      "text/plain": [
       "\n",
       "\tShapiro-Wilk normality test\n",
       "\n",
       "data:  rstandard(c.m1)\n",
       "W = 0.79424, p-value = 0.002286\n"
      ]
     },
     "metadata": {},
     "output_type": "display_data"
    },
    {
     "data": {
      "image/png": "[encoded data removed]",
      "text/plain": [
       "Plot with title \"\""
      ]
     },
     "metadata": {},
     "output_type": "display_data"
    }
   ],
   "source": [
    "par(mfrow=c(3, 3))\n",
    "scatter.smooth(rstandard(c.m1) ~ sqrt(fitted(c.m1)))\n",
    "scatter.smooth(rstandard(c.m1) ~ fitted(c.m1))\n",
    "scatter.smooth(rstandard(c.m1) ~ cervical$Age)\n",
    "scatter.smooth(rstandard(c.m1) ~ cervical$Country)\n",
    "z <- resid(c.m1, type=\"working\") + c.m1$linear.predictor\n",
    "scatter.smooth(z ~ c.m1$linear.predictor)\n",
    "termplot(c.m1, partial.resid = TRUE)\n",
    "shapiro.test(rstandard(c.m1))"
   ]
  },
  {
   "cell_type": "code",
   "execution_count": 26,
   "metadata": {},
   "outputs": [
    {
     "data": {
      "image/png": "[encoded data removed]",
      "text/plain": [
       "Plot with title \"Neg. bin. glm\""
      ]
     },
     "metadata": {},
     "output_type": "display_data"
    }
   ],
   "source": [
    "cc.m0NB <- glm.nb( Deaths ~ offset(log(Wyears)) + Age + Country,\n",
    "data=cervical)\n",
    "cc.m0NB <- glm.convert(cc.m0NB)\n",
    "scatter.smooth( rstandard(cc.m0NB) ~ fitted(cc.m0NB), main=\"Neg. bin. glm\" )"
   ]
  },
  {
   "cell_type": "code",
   "execution_count": 30,
   "metadata": {},
   "outputs": [
    {
     "data": {
      "text/html": [
       "0.069200515727967"
      ],
      "text/latex": [
       "0.069200515727967"
      ],
      "text/markdown": [
       "0.069200515727967"
      ],
      "text/plain": [
       "[1] 0.06920052"
      ]
     },
     "metadata": {},
     "output_type": "display_data"
    },
    {
     "data": {
      "text/html": [
       "0.293131620964637"
      ],
      "text/latex": [
       "0.293131620964637"
      ],
      "text/markdown": [
       "0.293131620964637"
      ],
      "text/plain": [
       "[1] 0.2931316"
      ]
     },
     "metadata": {},
     "output_type": "display_data"
    }
   ],
   "source": [
    "gof.dev <- deviance(cc.m0NB)\n",
    "pchisq(gof.dev, df=df.residual(cc.m0NB), lower.tail = FALSE)\n",
    "gof.pearson <- sum(cc.m0NB$weights * cc.m0NB$residuals^2)\n",
    "pchisq(gof.pearson, df=df.residual(cc.m0NB), lower.tail = FALSE)"
   ]
  },
  {
   "cell_type": "code",
   "execution_count": 32,
   "metadata": {},
   "outputs": [
    {
     "data": {
      "text/html": [
       "<table>\n",
       "<thead><tr><th></th><th scope=col>Estimate</th><th scope=col>Std. Error</th><th scope=col>t value</th><th scope=col>Pr(&gt;|t|)</th></tr></thead>\n",
       "<tbody>\n",
       "\t<tr><th scope=row>(Intercept)</th><td>-5.54376313 </td><td>0.3037823   </td><td>-18.2491287 </td><td>2.033793e-08</td></tr>\n",
       "\t<tr><th scope=row>Age35to44</th><td> 2.14909425 </td><td>0.3031040   </td><td>  7.0902858 </td><td>5.727409e-05</td></tr>\n",
       "\t<tr><th scope=row>Age45to54</th><td> 3.20781639 </td><td>0.3018672   </td><td> 10.6265802 </td><td>2.152862e-06</td></tr>\n",
       "\t<tr><th scope=row>Age55to64</th><td> 3.39570071 </td><td>0.3017529   </td><td> 11.2532487 </td><td>1.328398e-06</td></tr>\n",
       "\t<tr><th scope=row>CountryEngWales</th><td> 0.35135569 </td><td>0.2977225   </td><td>  1.1801450 </td><td>2.681936e-01</td></tr>\n",
       "\t<tr><th scope=row>CountryFrance</th><td>-0.03793594 </td><td>0.2993700   </td><td> -0.1267192 </td><td>9.019485e-01</td></tr>\n",
       "\t<tr><th scope=row>CountryItaly</th><td>-0.77087520 </td><td>0.3007256   </td><td> -2.5633837 </td><td>3.051725e-02</td></tr>\n",
       "</tbody>\n",
       "</table>\n"
      ],
      "text/latex": [
       "\\begin{tabular}{r|llll}\n",
       "  & Estimate & Std. Error & t value & Pr(>\\textbar{}t\\textbar{})\\\\\n",
       "\\hline\n",
       "\t(Intercept) & -5.54376313  & 0.3037823    & -18.2491287  & 2.033793e-08\\\\\n",
       "\tAge35to44 &  2.14909425  & 0.3031040    &   7.0902858  & 5.727409e-05\\\\\n",
       "\tAge45to54 &  3.20781639  & 0.3018672    &  10.6265802  & 2.152862e-06\\\\\n",
       "\tAge55to64 &  3.39570071  & 0.3017529    &  11.2532487  & 1.328398e-06\\\\\n",
       "\tCountryEngWales &  0.35135569  & 0.2977225    &   1.1801450  & 2.681936e-01\\\\\n",
       "\tCountryFrance & -0.03793594  & 0.2993700    &  -0.1267192  & 9.019485e-01\\\\\n",
       "\tCountryItaly & -0.77087520  & 0.3007256    &  -2.5633837  & 3.051725e-02\\\\\n",
       "\\end{tabular}\n"
      ],
      "text/markdown": [
       "\n",
       "| <!--/--> | Estimate | Std. Error | t value | Pr(>|t|) |\n",
       "|---|---|---|---|---|\n",
       "| (Intercept) | -5.54376313  | 0.3037823    | -18.2491287  | 2.033793e-08 |\n",
       "| Age35to44 |  2.14909425  | 0.3031040    |   7.0902858  | 5.727409e-05 |\n",
       "| Age45to54 |  3.20781639  | 0.3018672    |  10.6265802  | 2.152862e-06 |\n",
       "| Age55to64 |  3.39570071  | 0.3017529    |  11.2532487  | 1.328398e-06 |\n",
       "| CountryEngWales |  0.35135569  | 0.2977225    |   1.1801450  | 2.681936e-01 |\n",
       "| CountryFrance | -0.03793594  | 0.2993700    |  -0.1267192  | 9.019485e-01 |\n",
       "| CountryItaly | -0.77087520  | 0.3007256    |  -2.5633837  | 3.051725e-02 |\n",
       "\n"
      ],
      "text/plain": [
       "                Estimate    Std. Error t value     Pr(>|t|)    \n",
       "(Intercept)     -5.54376313 0.3037823  -18.2491287 2.033793e-08\n",
       "Age35to44        2.14909425 0.3031040    7.0902858 5.727409e-05\n",
       "Age45to54        3.20781639 0.3018672   10.6265802 2.152862e-06\n",
       "Age55to64        3.39570071 0.3017529   11.2532487 1.328398e-06\n",
       "CountryEngWales  0.35135569 0.2977225    1.1801450 2.681936e-01\n",
       "CountryFrance   -0.03793594 0.2993700   -0.1267192 9.019485e-01\n",
       "CountryItaly    -0.77087520 0.3007256   -2.5633837 3.051725e-02"
      ]
     },
     "metadata": {},
     "output_type": "display_data"
    }
   ],
   "source": [
    "coef(summary(cc.m0NB))"
   ]
  },
  {
   "cell_type": "code",
   "execution_count": 33,
   "metadata": {},
   "outputs": [
    {
     "data": {
      "text/html": [
       "1.19460505542155"
      ],
      "text/latex": [
       "1.19460505542155"
      ],
      "text/markdown": [
       "1.19460505542155"
      ],
      "text/plain": [
       "[1] 1.194605"
      ]
     },
     "metadata": {},
     "output_type": "display_data"
    }
   ],
   "source": [
    "summary(cc.m0NB)$dispersion"
   ]
  },
  {
   "cell_type": "code",
   "execution_count": 34,
   "metadata": {},
   "outputs": [
    {
     "data": {
      "text/html": [
       "<table>\n",
       "<thead><tr><th></th><th scope=col>Df</th><th scope=col>Deviance</th><th scope=col>Resid. Df</th><th scope=col>Resid. Dev</th><th scope=col>F</th><th scope=col>Pr(&gt;F)</th></tr></thead>\n",
       "<tbody>\n",
       "\t<tr><th scope=row>NULL</th><td>NA          </td><td>       NA   </td><td>15          </td><td>173.11424   </td><td>       NA   </td><td>          NA</td></tr>\n",
       "\t<tr><th scope=row>Age</th><td> 3          </td><td>140.73115   </td><td>12          </td><td> 32.38308   </td><td>39.268530   </td><td>1.697267e-05</td></tr>\n",
       "\t<tr><th scope=row>Country</th><td> 3          </td><td> 16.49243   </td><td> 9          </td><td> 15.89065   </td><td> 4.601921   </td><td>3.240385e-02</td></tr>\n",
       "</tbody>\n",
       "</table>\n"
      ],
      "text/latex": [
       "\\begin{tabular}{r|llllll}\n",
       "  & Df & Deviance & Resid. Df & Resid. Dev & F & Pr(>F)\\\\\n",
       "\\hline\n",
       "\tNULL & NA           &        NA    & 15           & 173.11424    &        NA    &           NA\\\\\n",
       "\tAge &  3           & 140.73115    & 12           &  32.38308    & 39.268530    & 1.697267e-05\\\\\n",
       "\tCountry &  3           &  16.49243    &  9           &  15.89065    &  4.601921    & 3.240385e-02\\\\\n",
       "\\end{tabular}\n"
      ],
      "text/markdown": [
       "\n",
       "| <!--/--> | Df | Deviance | Resid. Df | Resid. Dev | F | Pr(>F) |\n",
       "|---|---|---|---|---|---|---|\n",
       "| NULL | NA           |        NA    | 15           | 173.11424    |        NA    |           NA |\n",
       "| Age |  3           | 140.73115    | 12           |  32.38308    | 39.268530    | 1.697267e-05 |\n",
       "| Country |  3           |  16.49243    |  9           |  15.89065    |  4.601921    | 3.240385e-02 |\n",
       "\n"
      ],
      "text/plain": [
       "        Df Deviance  Resid. Df Resid. Dev F         Pr(>F)      \n",
       "NULL    NA        NA 15        173.11424         NA           NA\n",
       "Age      3 140.73115 12         32.38308  39.268530 1.697267e-05\n",
       "Country  3  16.49243  9         15.89065   4.601921 3.240385e-02"
      ]
     },
     "metadata": {},
     "output_type": "display_data"
    }
   ],
   "source": [
    "anova(cc.m0NB, test=\"F\")"
   ]
  },
  {
   "cell_type": "code",
   "execution_count": 35,
   "metadata": {},
   "outputs": [
    {
     "name": "stderr",
     "output_type": "stream",
     "text": [
      "Warning message in simpleLoess(y, x, w, span, degree = degree, parametric = FALSE, :\n",
      "\"pseudoinverse used at 2\"Warning message in simpleLoess(y, x, w, span, degree = degree, parametric = FALSE, :\n",
      "\"neighborhood radius 1\"Warning message in simpleLoess(y, x, w, span, degree = degree, parametric = FALSE, :\n",
      "\"reciprocal condition number  0\"Warning message in simpleLoess(y, x, w, span, degree = degree, parametric = FALSE, :\n",
      "\"There are other near singularities as well. 1\"Warning message in simpleLoess(y, x, w, span, degree = degree, parametric = FALSE, :\n",
      "\"pseudoinverse used at 2\"Warning message in simpleLoess(y, x, w, span, degree = degree, parametric = FALSE, :\n",
      "\"neighborhood radius 1\"Warning message in simpleLoess(y, x, w, span, degree = degree, parametric = FALSE, :\n",
      "\"reciprocal condition number  0\"Warning message in simpleLoess(y, x, w, span, degree = degree, parametric = FALSE, :\n",
      "\"There are other near singularities as well. 1\"Warning message in simpleLoess(y, x, w, span, degree = degree, parametric = FALSE, :\n",
      "\"pseudoinverse used at 2\"Warning message in simpleLoess(y, x, w, span, degree = degree, parametric = FALSE, :\n",
      "\"neighborhood radius 1\"Warning message in simpleLoess(y, x, w, span, degree = degree, parametric = FALSE, :\n",
      "\"reciprocal condition number  0\"Warning message in simpleLoess(y, x, w, span, degree = degree, parametric = FALSE, :\n",
      "\"There are other near singularities as well. 1\"Warning message in simpleLoess(y, x, w, span, degree = degree, parametric = FALSE, :\n",
      "\"pseudoinverse used at 2\"Warning message in simpleLoess(y, x, w, span, degree = degree, parametric = FALSE, :\n",
      "\"neighborhood radius 1\"Warning message in simpleLoess(y, x, w, span, degree = degree, parametric = FALSE, :\n",
      "\"reciprocal condition number  0\"Warning message in simpleLoess(y, x, w, span, degree = degree, parametric = FALSE, :\n",
      "\"There are other near singularities as well. 1\"Warning message in simpleLoess(y, x, w, span, degree = degree, parametric = FALSE, :\n",
      "\"pseudoinverse used at 2\"Warning message in simpleLoess(y, x, w, span, degree = degree, parametric = FALSE, :\n",
      "\"neighborhood radius 1\"Warning message in simpleLoess(y, x, w, span, degree = degree, parametric = FALSE, :\n",
      "\"reciprocal condition number  0\"Warning message in simpleLoess(y, x, w, span, degree = degree, parametric = FALSE, :\n",
      "\"There are other near singularities as well. 1\"Warning message in simpleLoess(y, x, w, span, degree = degree, parametric = FALSE, :\n",
      "\"pseudoinverse used at 2\"Warning message in simpleLoess(y, x, w, span, degree = degree, parametric = FALSE, :\n",
      "\"neighborhood radius 1\"Warning message in simpleLoess(y, x, w, span, degree = degree, parametric = FALSE, :\n",
      "\"reciprocal condition number  0\"Warning message in simpleLoess(y, x, w, span, degree = degree, parametric = FALSE, :\n",
      "\"There are other near singularities as well. 1\"Warning message in simpleLoess(y, x, w, span, degree = degree, parametric = FALSE, :\n",
      "\"pseudoinverse used at 2\"Warning message in simpleLoess(y, x, w, span, degree = degree, parametric = FALSE, :\n",
      "\"neighborhood radius 1\"Warning message in simpleLoess(y, x, w, span, degree = degree, parametric = FALSE, :\n",
      "\"reciprocal condition number  0\"Warning message in simpleLoess(y, x, w, span, degree = degree, parametric = FALSE, :\n",
      "\"There are other near singularities as well. 1\"Warning message in simpleLoess(y, x, w, span, degree = degree, parametric = FALSE, :\n",
      "\"pseudoinverse used at 2\"Warning message in simpleLoess(y, x, w, span, degree = degree, parametric = FALSE, :\n",
      "\"neighborhood radius 1\"Warning message in simpleLoess(y, x, w, span, degree = degree, parametric = FALSE, :\n",
      "\"reciprocal condition number  0\"Warning message in simpleLoess(y, x, w, span, degree = degree, parametric = FALSE, :\n",
      "\"There are other near singularities as well. 1\"Warning message in simpleLoess(y, x, w, span, degree = degree, parametric = FALSE, :\n",
      "\"pseudoinverse used at 2\"Warning message in simpleLoess(y, x, w, span, degree = degree, parametric = FALSE, :\n",
      "\"neighborhood radius 1\"Warning message in simpleLoess(y, x, w, span, degree = degree, parametric = FALSE, :\n",
      "\"reciprocal condition number  0\"Warning message in simpleLoess(y, x, w, span, degree = degree, parametric = FALSE, :\n",
      "\"There are other near singularities as well. 1\"Warning message in simpleLoess(y, x, w, span, degree = degree, parametric = FALSE, :\n",
      "\"pseudoinverse used at 2\"Warning message in simpleLoess(y, x, w, span, degree = degree, parametric = FALSE, :\n",
      "\"neighborhood radius 1\"Warning message in simpleLoess(y, x, w, span, degree = degree, parametric = FALSE, :\n",
      "\"reciprocal condition number  0\"Warning message in simpleLoess(y, x, w, span, degree = degree, parametric = FALSE, :\n",
      "\"There are other near singularities as well. 1\""
     ]
    },
    {
     "data": {
      "text/plain": [
       "\n",
       "\tShapiro-Wilk normality test\n",
       "\n",
       "data:  rstandard(cc.m0NB)\n",
       "W = 0.8273, p-value = 0.006427\n"
      ]
     },
     "metadata": {},
     "output_type": "display_data"
    },
    {
     "data": {
      "image/png": "[encoded data removed]",
      "text/plain": [
       "Plot with title \"\""
      ]
     },
     "metadata": {},
     "output_type": "display_data"
    }
   ],
   "source": [
    "par(mfrow=c(3, 3))\n",
    "scatter.smooth(rstandard(cc.m0NB) ~ sqrt(fitted(cc.m0NB)))\n",
    "scatter.smooth(rstandard(cc.m0NB) ~ fitted(cc.m0NB))\n",
    "scatter.smooth(rstandard(cc.m0NB) ~ cervical$Age)\n",
    "scatter.smooth(rstandard(cc.m0NB) ~ cervical$Country)\n",
    "z <- resid(cc.m0NB, type=\"working\") + cc.m0NB$linear.predictor\n",
    "scatter.smooth(z ~ cc.m0NB$linear.predictor)\n",
    "termplot(cc.m0NB, partial.resid = TRUE)\n",
    "shapiro.test(rstandard(cc.m0NB))"
   ]
  }
 ],
 "metadata": {
  "kernelspec": {
   "display_name": "R",
   "language": "R",
   "name": "ir"
  },
  "language_info": {
   "codemirror_mode": "r",
   "file_extension": ".r",
   "mimetype": "text/x-r-source",
   "name": "R",
   "pygments_lexer": "r",
   "version": "3.6.1"
  },
  "orig_nbformat": 4
 },
 "nbformat": 4,
 "nbformat_minor": 2
}
