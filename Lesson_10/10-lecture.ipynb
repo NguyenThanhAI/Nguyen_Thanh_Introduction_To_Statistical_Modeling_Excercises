{
 "cells": [
  {
   "cell_type": "code",
   "execution_count": 1,
   "metadata": {},
   "outputs": [
    {
     "name": "stderr",
     "output_type": "stream",
     "text": [
      "Warning message:\n",
      "\"package 'statmod' was built under R version 3.6.3\""
     ]
    }
   ],
   "source": [
    "library(GLMsData)\n",
    "library(statmod)"
   ]
  },
  {
   "cell_type": "code",
   "execution_count": 2,
   "metadata": {},
   "outputs": [
    {
     "data": {
      "text/html": [
       "<table>\n",
       "<thead><tr><th scope=col>Cases</th><th scope=col>Pop</th><th scope=col>Age</th><th scope=col>City</th></tr></thead>\n",
       "<tbody>\n",
       "\t<tr><td>11        </td><td>3059      </td><td>40-54     </td><td>Fredericia</td></tr>\n",
       "\t<tr><td>11        </td><td> 800      </td><td>55-59     </td><td>Fredericia</td></tr>\n",
       "\t<tr><td>11        </td><td> 710      </td><td>60-64     </td><td>Fredericia</td></tr>\n",
       "\t<tr><td>10        </td><td> 581      </td><td>65-69     </td><td>Fredericia</td></tr>\n",
       "\t<tr><td>11        </td><td> 509      </td><td>70-74     </td><td>Fredericia</td></tr>\n",
       "\t<tr><td>10                                              </td><td> 605                                            </td><td><span style=white-space:pre-wrap>&gt;74  </span></td><td>Fredericia                                      </td></tr>\n",
       "\t<tr><td>13        </td><td>2879      </td><td>40-54     </td><td>Horsens   </td></tr>\n",
       "\t<tr><td> 6        </td><td>1083      </td><td>55-59     </td><td>Horsens   </td></tr>\n",
       "\t<tr><td>15        </td><td> 923      </td><td>60-64     </td><td>Horsens   </td></tr>\n",
       "\t<tr><td>10        </td><td> 834      </td><td>65-69     </td><td>Horsens   </td></tr>\n",
       "\t<tr><td>12        </td><td> 634      </td><td>70-74     </td><td>Horsens   </td></tr>\n",
       "\t<tr><td> 2                                                </td><td> 782                                              </td><td><span style=white-space:pre-wrap>&gt;74  </span>  </td><td><span style=white-space:pre-wrap>Horsens   </span></td></tr>\n",
       "\t<tr><td> 4        </td><td>3142      </td><td>40-54     </td><td>Kolding   </td></tr>\n",
       "\t<tr><td> 8        </td><td>1050      </td><td>55-59     </td><td>Kolding   </td></tr>\n",
       "\t<tr><td> 7        </td><td> 895      </td><td>60-64     </td><td>Kolding   </td></tr>\n",
       "\t<tr><td>11        </td><td> 702      </td><td>65-69     </td><td>Kolding   </td></tr>\n",
       "\t<tr><td> 9        </td><td> 535      </td><td>70-74     </td><td>Kolding   </td></tr>\n",
       "\t<tr><td>12                                                </td><td> 659                                              </td><td><span style=white-space:pre-wrap>&gt;74  </span>  </td><td><span style=white-space:pre-wrap>Kolding   </span></td></tr>\n",
       "\t<tr><td> 5        </td><td>2520      </td><td>40-54     </td><td>Vejle     </td></tr>\n",
       "\t<tr><td> 7        </td><td> 878      </td><td>55-59     </td><td>Vejle     </td></tr>\n",
       "\t<tr><td>10        </td><td> 839      </td><td>60-64     </td><td>Vejle     </td></tr>\n",
       "\t<tr><td>14        </td><td> 631      </td><td>65-69     </td><td>Vejle     </td></tr>\n",
       "\t<tr><td> 8        </td><td> 539      </td><td>70-74     </td><td>Vejle     </td></tr>\n",
       "\t<tr><td> 7                                                </td><td> 619                                              </td><td><span style=white-space:pre-wrap>&gt;74  </span>  </td><td><span style=white-space:pre-wrap>Vejle     </span></td></tr>\n",
       "</tbody>\n",
       "</table>\n"
      ],
      "text/latex": [
       "\\begin{tabular}{r|llll}\n",
       " Cases & Pop & Age & City\\\\\n",
       "\\hline\n",
       "\t 11         & 3059       & 40-54      & Fredericia\\\\\n",
       "\t 11         &  800       & 55-59      & Fredericia\\\\\n",
       "\t 11         &  710       & 60-64      & Fredericia\\\\\n",
       "\t 10         &  581       & 65-69      & Fredericia\\\\\n",
       "\t 11         &  509       & 70-74      & Fredericia\\\\\n",
       "\t 10         &  605       & >74        & Fredericia\\\\\n",
       "\t 13         & 2879       & 40-54      & Horsens   \\\\\n",
       "\t  6         & 1083       & 55-59      & Horsens   \\\\\n",
       "\t 15         &  923       & 60-64      & Horsens   \\\\\n",
       "\t 10         &  834       & 65-69      & Horsens   \\\\\n",
       "\t 12         &  634       & 70-74      & Horsens   \\\\\n",
       "\t  2         &  782       & >74        & Horsens   \\\\\n",
       "\t  4         & 3142       & 40-54      & Kolding   \\\\\n",
       "\t  8         & 1050       & 55-59      & Kolding   \\\\\n",
       "\t  7         &  895       & 60-64      & Kolding   \\\\\n",
       "\t 11         &  702       & 65-69      & Kolding   \\\\\n",
       "\t  9         &  535       & 70-74      & Kolding   \\\\\n",
       "\t 12         &  659       & >74        & Kolding   \\\\\n",
       "\t  5         & 2520       & 40-54      & Vejle     \\\\\n",
       "\t  7         &  878       & 55-59      & Vejle     \\\\\n",
       "\t 10         &  839       & 60-64      & Vejle     \\\\\n",
       "\t 14         &  631       & 65-69      & Vejle     \\\\\n",
       "\t  8         &  539       & 70-74      & Vejle     \\\\\n",
       "\t  7         &  619       & >74        & Vejle     \\\\\n",
       "\\end{tabular}\n"
      ],
      "text/markdown": [
       "\n",
       "| Cases | Pop | Age | City |\n",
       "|---|---|---|---|\n",
       "| 11         | 3059       | 40-54      | Fredericia |\n",
       "| 11         |  800       | 55-59      | Fredericia |\n",
       "| 11         |  710       | 60-64      | Fredericia |\n",
       "| 10         |  581       | 65-69      | Fredericia |\n",
       "| 11         |  509       | 70-74      | Fredericia |\n",
       "| 10         |  605       | >74        | Fredericia |\n",
       "| 13         | 2879       | 40-54      | Horsens    |\n",
       "|  6         | 1083       | 55-59      | Horsens    |\n",
       "| 15         |  923       | 60-64      | Horsens    |\n",
       "| 10         |  834       | 65-69      | Horsens    |\n",
       "| 12         |  634       | 70-74      | Horsens    |\n",
       "|  2         |  782       | >74        | Horsens    |\n",
       "|  4         | 3142       | 40-54      | Kolding    |\n",
       "|  8         | 1050       | 55-59      | Kolding    |\n",
       "|  7         |  895       | 60-64      | Kolding    |\n",
       "| 11         |  702       | 65-69      | Kolding    |\n",
       "|  9         |  535       | 70-74      | Kolding    |\n",
       "| 12         |  659       | >74        | Kolding    |\n",
       "|  5         | 2520       | 40-54      | Vejle      |\n",
       "|  7         |  878       | 55-59      | Vejle      |\n",
       "| 10         |  839       | 60-64      | Vejle      |\n",
       "| 14         |  631       | 65-69      | Vejle      |\n",
       "|  8         |  539       | 70-74      | Vejle      |\n",
       "|  7         |  619       | >74        | Vejle      |\n",
       "\n"
      ],
      "text/plain": [
       "   Cases Pop  Age   City      \n",
       "1  11    3059 40-54 Fredericia\n",
       "2  11     800 55-59 Fredericia\n",
       "3  11     710 60-64 Fredericia\n",
       "4  10     581 65-69 Fredericia\n",
       "5  11     509 70-74 Fredericia\n",
       "6  10     605 >74   Fredericia\n",
       "7  13    2879 40-54 Horsens   \n",
       "8   6    1083 55-59 Horsens   \n",
       "9  15     923 60-64 Horsens   \n",
       "10 10     834 65-69 Horsens   \n",
       "11 12     634 70-74 Horsens   \n",
       "12  2     782 >74   Horsens   \n",
       "13  4    3142 40-54 Kolding   \n",
       "14  8    1050 55-59 Kolding   \n",
       "15  7     895 60-64 Kolding   \n",
       "16 11     702 65-69 Kolding   \n",
       "17  9     535 70-74 Kolding   \n",
       "18 12     659 >74   Kolding   \n",
       "19  5    2520 40-54 Vejle     \n",
       "20  7     878 55-59 Vejle     \n",
       "21 10     839 60-64 Vejle     \n",
       "22 14     631 65-69 Vejle     \n",
       "23  8     539 70-74 Vejle     \n",
       "24  7     619 >74   Vejle     "
      ]
     },
     "metadata": {},
     "output_type": "display_data"
    }
   ],
   "source": [
    "data(danishlc)\n",
    "danishlc"
   ]
  },
  {
   "cell_type": "code",
   "execution_count": 3,
   "metadata": {},
   "outputs": [],
   "source": [
    "danishlc$Rate <- danishlc$Cases / danishlc$Pop * 1000 # Rate per 1000\n",
    "danishlc$Age <- ordered(danishlc$Age, # Ensure age-order is preserved\n",
    "levels=c(\"40-54\", \"55-59\", \"60-64\", \"65-69\", \"70-74\", \">74\") )"
   ]
  },
  {
   "cell_type": "code",
   "execution_count": 4,
   "metadata": {},
   "outputs": [],
   "source": [
    "danishlc$City <- abbreviate(danishlc$City, 1)"
   ]
  },
  {
   "cell_type": "code",
   "execution_count": 5,
   "metadata": {},
   "outputs": [
    {
     "data": {
      "text/html": [
       "<table>\n",
       "<thead><tr><th scope=col>Cases</th><th scope=col>Pop</th><th scope=col>Age</th><th scope=col>City</th><th scope=col>Rate</th></tr></thead>\n",
       "<tbody>\n",
       "\t<tr><td>11       </td><td>3059     </td><td>40-54    </td><td>F        </td><td> 3.595946</td></tr>\n",
       "\t<tr><td>11       </td><td> 800     </td><td>55-59    </td><td>F        </td><td>13.750000</td></tr>\n",
       "\t<tr><td>11       </td><td> 710     </td><td>60-64    </td><td>F        </td><td>15.492958</td></tr>\n",
       "\t<tr><td>10       </td><td> 581     </td><td>65-69    </td><td>F        </td><td>17.211704</td></tr>\n",
       "\t<tr><td>11       </td><td> 509     </td><td>70-74    </td><td>F        </td><td>21.611002</td></tr>\n",
       "\t<tr><td>10                                              </td><td> 605                                            </td><td><span style=white-space:pre-wrap>&gt;74  </span></td><td>F                                               </td><td>16.528926                                       </td></tr>\n",
       "\t<tr><td>13       </td><td>2879     </td><td>40-54    </td><td>H        </td><td> 4.515457</td></tr>\n",
       "\t<tr><td> 6       </td><td>1083     </td><td>55-59    </td><td>H        </td><td> 5.540166</td></tr>\n",
       "\t<tr><td>15       </td><td> 923     </td><td>60-64    </td><td>H        </td><td>16.251354</td></tr>\n",
       "\t<tr><td>10       </td><td> 834     </td><td>65-69    </td><td>H        </td><td>11.990408</td></tr>\n",
       "\t<tr><td>12       </td><td> 634     </td><td>70-74    </td><td>H        </td><td>18.927445</td></tr>\n",
       "\t<tr><td> 2                                              </td><td> 782                                            </td><td><span style=white-space:pre-wrap>&gt;74  </span></td><td>H                                               </td><td> 2.557545                                       </td></tr>\n",
       "\t<tr><td> 4       </td><td>3142     </td><td>40-54    </td><td>K        </td><td> 1.273074</td></tr>\n",
       "\t<tr><td> 8       </td><td>1050     </td><td>55-59    </td><td>K        </td><td> 7.619048</td></tr>\n",
       "\t<tr><td> 7       </td><td> 895     </td><td>60-64    </td><td>K        </td><td> 7.821229</td></tr>\n",
       "\t<tr><td>11       </td><td> 702     </td><td>65-69    </td><td>K        </td><td>15.669516</td></tr>\n",
       "\t<tr><td> 9       </td><td> 535     </td><td>70-74    </td><td>K        </td><td>16.822430</td></tr>\n",
       "\t<tr><td>12                                              </td><td> 659                                            </td><td><span style=white-space:pre-wrap>&gt;74  </span></td><td>K                                               </td><td>18.209408                                       </td></tr>\n",
       "\t<tr><td> 5       </td><td>2520     </td><td>40-54    </td><td>V        </td><td> 1.984127</td></tr>\n",
       "\t<tr><td> 7       </td><td> 878     </td><td>55-59    </td><td>V        </td><td> 7.972665</td></tr>\n",
       "\t<tr><td>10       </td><td> 839     </td><td>60-64    </td><td>V        </td><td>11.918951</td></tr>\n",
       "\t<tr><td>14       </td><td> 631     </td><td>65-69    </td><td>V        </td><td>22.187005</td></tr>\n",
       "\t<tr><td> 8       </td><td> 539     </td><td>70-74    </td><td>V        </td><td>14.842301</td></tr>\n",
       "\t<tr><td> 7                                              </td><td> 619                                            </td><td><span style=white-space:pre-wrap>&gt;74  </span></td><td>V                                               </td><td>11.308562                                       </td></tr>\n",
       "</tbody>\n",
       "</table>\n"
      ],
      "text/latex": [
       "\\begin{tabular}{r|lllll}\n",
       " Cases & Pop & Age & City & Rate\\\\\n",
       "\\hline\n",
       "\t 11        & 3059      & 40-54     & F         &  3.595946\\\\\n",
       "\t 11        &  800      & 55-59     & F         & 13.750000\\\\\n",
       "\t 11        &  710      & 60-64     & F         & 15.492958\\\\\n",
       "\t 10        &  581      & 65-69     & F         & 17.211704\\\\\n",
       "\t 11        &  509      & 70-74     & F         & 21.611002\\\\\n",
       "\t 10        &  605      & >74       & F         & 16.528926\\\\\n",
       "\t 13        & 2879      & 40-54     & H         &  4.515457\\\\\n",
       "\t  6        & 1083      & 55-59     & H         &  5.540166\\\\\n",
       "\t 15        &  923      & 60-64     & H         & 16.251354\\\\\n",
       "\t 10        &  834      & 65-69     & H         & 11.990408\\\\\n",
       "\t 12        &  634      & 70-74     & H         & 18.927445\\\\\n",
       "\t  2        &  782      & >74       & H         &  2.557545\\\\\n",
       "\t  4        & 3142      & 40-54     & K         &  1.273074\\\\\n",
       "\t  8        & 1050      & 55-59     & K         &  7.619048\\\\\n",
       "\t  7        &  895      & 60-64     & K         &  7.821229\\\\\n",
       "\t 11        &  702      & 65-69     & K         & 15.669516\\\\\n",
       "\t  9        &  535      & 70-74     & K         & 16.822430\\\\\n",
       "\t 12        &  659      & >74       & K         & 18.209408\\\\\n",
       "\t  5        & 2520      & 40-54     & V         &  1.984127\\\\\n",
       "\t  7        &  878      & 55-59     & V         &  7.972665\\\\\n",
       "\t 10        &  839      & 60-64     & V         & 11.918951\\\\\n",
       "\t 14        &  631      & 65-69     & V         & 22.187005\\\\\n",
       "\t  8        &  539      & 70-74     & V         & 14.842301\\\\\n",
       "\t  7        &  619      & >74       & V         & 11.308562\\\\\n",
       "\\end{tabular}\n"
      ],
      "text/markdown": [
       "\n",
       "| Cases | Pop | Age | City | Rate |\n",
       "|---|---|---|---|---|\n",
       "| 11        | 3059      | 40-54     | F         |  3.595946 |\n",
       "| 11        |  800      | 55-59     | F         | 13.750000 |\n",
       "| 11        |  710      | 60-64     | F         | 15.492958 |\n",
       "| 10        |  581      | 65-69     | F         | 17.211704 |\n",
       "| 11        |  509      | 70-74     | F         | 21.611002 |\n",
       "| 10        |  605      | >74       | F         | 16.528926 |\n",
       "| 13        | 2879      | 40-54     | H         |  4.515457 |\n",
       "|  6        | 1083      | 55-59     | H         |  5.540166 |\n",
       "| 15        |  923      | 60-64     | H         | 16.251354 |\n",
       "| 10        |  834      | 65-69     | H         | 11.990408 |\n",
       "| 12        |  634      | 70-74     | H         | 18.927445 |\n",
       "|  2        |  782      | >74       | H         |  2.557545 |\n",
       "|  4        | 3142      | 40-54     | K         |  1.273074 |\n",
       "|  8        | 1050      | 55-59     | K         |  7.619048 |\n",
       "|  7        |  895      | 60-64     | K         |  7.821229 |\n",
       "| 11        |  702      | 65-69     | K         | 15.669516 |\n",
       "|  9        |  535      | 70-74     | K         | 16.822430 |\n",
       "| 12        |  659      | >74       | K         | 18.209408 |\n",
       "|  5        | 2520      | 40-54     | V         |  1.984127 |\n",
       "|  7        |  878      | 55-59     | V         |  7.972665 |\n",
       "| 10        |  839      | 60-64     | V         | 11.918951 |\n",
       "| 14        |  631      | 65-69     | V         | 22.187005 |\n",
       "|  8        |  539      | 70-74     | V         | 14.842301 |\n",
       "|  7        |  619      | >74       | V         | 11.308562 |\n",
       "\n"
      ],
      "text/plain": [
       "   Cases Pop  Age   City Rate     \n",
       "1  11    3059 40-54 F     3.595946\n",
       "2  11     800 55-59 F    13.750000\n",
       "3  11     710 60-64 F    15.492958\n",
       "4  10     581 65-69 F    17.211704\n",
       "5  11     509 70-74 F    21.611002\n",
       "6  10     605 >74   F    16.528926\n",
       "7  13    2879 40-54 H     4.515457\n",
       "8   6    1083 55-59 H     5.540166\n",
       "9  15     923 60-64 H    16.251354\n",
       "10 10     834 65-69 H    11.990408\n",
       "11 12     634 70-74 H    18.927445\n",
       "12  2     782 >74   H     2.557545\n",
       "13  4    3142 40-54 K     1.273074\n",
       "14  8    1050 55-59 K     7.619048\n",
       "15  7     895 60-64 K     7.821229\n",
       "16 11     702 65-69 K    15.669516\n",
       "17  9     535 70-74 K    16.822430\n",
       "18 12     659 >74   K    18.209408\n",
       "19  5    2520 40-54 V     1.984127\n",
       "20  7     878 55-59 V     7.972665\n",
       "21 10     839 60-64 V    11.918951\n",
       "22 14     631 65-69 V    22.187005\n",
       "23  8     539 70-74 V    14.842301\n",
       "24  7     619 >74   V    11.308562"
      ]
     },
     "metadata": {},
     "output_type": "display_data"
    }
   ],
   "source": [
    "danishlc"
   ]
  },
  {
   "cell_type": "code",
   "execution_count": 6,
   "metadata": {},
   "outputs": [
    {
     "data": {
      "image/png": "[encoded data removed]",
      "text/plain": [
       "plot without title"
      ]
     },
     "metadata": {},
     "output_type": "display_data"
    }
   ],
   "source": [
    "matplot( xtabs( Rate ~ Age+City, data=danishlc), pch=1:4, lty=1:4,\n",
    "type=\"b\", lwd=2, col=\"black\", axes=FALSE, ylim=c(0, 25),\n",
    "xlab=\"Age group\", ylab=\"Cases/1000\")\n",
    "axis(side=1, at=1:6, labels=levels(danishlc$Age))\n",
    "axis(side=1, at=1:6, labels=levels(danishlc$Age))\n",
    "legend(\"topleft\", col=\"black\", pch=1:4, lwd=2, lty=1:4, merge=FALSE,\n",
    "legend=c(\"Fredericia\", \"Horsens\", \"Kolding\", \"Vejle\") )"
   ]
  },
  {
   "cell_type": "code",
   "execution_count": 7,
   "metadata": {},
   "outputs": [
    {
     "data": {
      "text/html": [
       "<table>\n",
       "<thead><tr><th></th><th scope=col>Df</th><th scope=col>Deviance</th><th scope=col>Resid. Df</th><th scope=col>Resid. Dev</th><th scope=col>Pr(&gt;Chi)</th></tr></thead>\n",
       "<tbody>\n",
       "\t<tr><th scope=row>NULL</th><td>NA          </td><td>        NA  </td><td>23          </td><td>1.299079e+02</td><td>          NA</td></tr>\n",
       "\t<tr><th scope=row>City</th><td> 3          </td><td>  3.392657  </td><td>20          </td><td>1.265153e+02</td><td>3.349533e-01</td></tr>\n",
       "\t<tr><th scope=row>Age</th><td> 5          </td><td>103.067815  </td><td>15          </td><td>2.344748e+01</td><td>1.191764e-20</td></tr>\n",
       "\t<tr><th scope=row>City:Age</th><td>15          </td><td> 23.447478  </td><td> 0          </td><td>1.332268e-15</td><td>7.509017e-02</td></tr>\n",
       "</tbody>\n",
       "</table>\n"
      ],
      "text/latex": [
       "\\begin{tabular}{r|lllll}\n",
       "  & Df & Deviance & Resid. Df & Resid. Dev & Pr(>Chi)\\\\\n",
       "\\hline\n",
       "\tNULL & NA           &         NA   & 23           & 1.299079e+02 &           NA\\\\\n",
       "\tCity &  3           &   3.392657   & 20           & 1.265153e+02 & 3.349533e-01\\\\\n",
       "\tAge &  5           & 103.067815   & 15           & 2.344748e+01 & 1.191764e-20\\\\\n",
       "\tCity:Age & 15           &  23.447478   &  0           & 1.332268e-15 & 7.509017e-02\\\\\n",
       "\\end{tabular}\n"
      ],
      "text/markdown": [
       "\n",
       "| <!--/--> | Df | Deviance | Resid. Df | Resid. Dev | Pr(>Chi) |\n",
       "|---|---|---|---|---|---|\n",
       "| NULL | NA           |         NA   | 23           | 1.299079e+02 |           NA |\n",
       "| City |  3           |   3.392657   | 20           | 1.265153e+02 | 3.349533e-01 |\n",
       "| Age |  5           | 103.067815   | 15           | 2.344748e+01 | 1.191764e-20 |\n",
       "| City:Age | 15           |  23.447478   |  0           | 1.332268e-15 | 7.509017e-02 |\n",
       "\n"
      ],
      "text/plain": [
       "         Df Deviance   Resid. Df Resid. Dev   Pr(>Chi)    \n",
       "NULL     NA         NA 23        1.299079e+02           NA\n",
       "City      3   3.392657 20        1.265153e+02 3.349533e-01\n",
       "Age       5 103.067815 15        2.344748e+01 1.191764e-20\n",
       "City:Age 15  23.447478  0        1.332268e-15 7.509017e-02"
      ]
     },
     "metadata": {},
     "output_type": "display_data"
    }
   ],
   "source": [
    "dlc.m1 <- glm( Cases ~ offset( log(Pop) ) + City * Age,\n",
    "family=poisson, data=danishlc)\n",
    "anova(dlc.m1, test=\"Chisq\")"
   ]
  },
  {
   "cell_type": "code",
   "execution_count": 8,
   "metadata": {},
   "outputs": [],
   "source": [
    "dlc.m2 <- update(dlc.m1, . ~ offset(log(Pop)) + Age )"
   ]
  },
  {
   "cell_type": "code",
   "execution_count": 9,
   "metadata": {},
   "outputs": [],
   "source": [
    "danishlc$AgeNum <- rep( c(40, 55, 60, 65, 70, 75), 4)\n",
    "dlc.m3 <- update(dlc.m1, . ~ offset( log(Pop) ) + AgeNum)\n",
    "dlc.m4 <- update( dlc.m3, . ~ offset( log(Pop) ) + poly(AgeNum, 2) )"
   ]
  },
  {
   "cell_type": "code",
   "execution_count": 10,
   "metadata": {},
   "outputs": [
    {
     "data": {
      "text/html": [
       "<table>\n",
       "<thead><tr><th scope=col>Resid. Df</th><th scope=col>Resid. Dev</th><th scope=col>Df</th><th scope=col>Deviance</th><th scope=col>Pr(&gt;Chi)</th></tr></thead>\n",
       "<tbody>\n",
       "\t<tr><td>22          </td><td>48.96752    </td><td>NA          </td><td>      NA    </td><td>          NA</td></tr>\n",
       "\t<tr><td>21          </td><td>32.49959    </td><td> 1          </td><td>16.46793    </td><td>4.948007e-05</td></tr>\n",
       "</tbody>\n",
       "</table>\n"
      ],
      "text/latex": [
       "\\begin{tabular}{r|lllll}\n",
       " Resid. Df & Resid. Dev & Df & Deviance & Pr(>Chi)\\\\\n",
       "\\hline\n",
       "\t 22           & 48.96752     & NA           &       NA     &           NA\\\\\n",
       "\t 21           & 32.49959     &  1           & 16.46793     & 4.948007e-05\\\\\n",
       "\\end{tabular}\n"
      ],
      "text/markdown": [
       "\n",
       "| Resid. Df | Resid. Dev | Df | Deviance | Pr(>Chi) |\n",
       "|---|---|---|---|---|\n",
       "| 22           | 48.96752     | NA           |       NA     |           NA |\n",
       "| 21           | 32.49959     |  1           | 16.46793     | 4.948007e-05 |\n",
       "\n"
      ],
      "text/plain": [
       "  Resid. Df Resid. Dev Df Deviance Pr(>Chi)    \n",
       "1 22        48.96752   NA       NA           NA\n",
       "2 21        32.49959    1 16.46793 4.948007e-05"
      ]
     },
     "metadata": {},
     "output_type": "display_data"
    }
   ],
   "source": [
    "anova( dlc.m3, dlc.m4, test=\"Chisq\")"
   ]
  },
  {
   "cell_type": "code",
   "execution_count": 11,
   "metadata": {},
   "outputs": [
    {
     "data": {
      "text/html": [
       "<dl class=dl-horizontal>\n",
       "\t<dt>With interaction</dt>\n",
       "\t\t<dd>144.388036988465</dd>\n",
       "\t<dt>Without interaction</dt>\n",
       "\t\t<dd>136.694564433962</dd>\n",
       "\t<dt>Age (numerical)</dt>\n",
       "\t\t<dd>149.355555733003</dd>\n",
       "\t<dt>Age (numerical; quadratic)</dt>\n",
       "\t\t<dd>134.887628570582</dd>\n",
       "</dl>\n"
      ],
      "text/latex": [
       "\\begin{description*}\n",
       "\\item[With interaction] 144.388036988465\n",
       "\\item[Without interaction] 136.694564433962\n",
       "\\item[Age (numerical)] 149.355555733003\n",
       "\\item[Age (numerical; quadratic)] 134.887628570582\n",
       "\\end{description*}\n"
      ],
      "text/markdown": [
       "With interaction\n",
       ":   144.388036988465Without interaction\n",
       ":   136.694564433962Age (numerical)\n",
       ":   149.355555733003Age (numerical; quadratic)\n",
       ":   134.887628570582\n",
       "\n"
      ],
      "text/plain": [
       "          With interaction        Without interaction \n",
       "                  144.3880                   136.6946 \n",
       "           Age (numerical) Age (numerical; quadratic) \n",
       "                  149.3556                   134.8876 "
      ]
     },
     "metadata": {},
     "output_type": "display_data"
    }
   ],
   "source": [
    "c( \"With interaction\"=AIC(dlc.m1), \"Without interaction\"=AIC(dlc.m2),\n",
    "\"Age (numerical)\"=AIC(dlc.m3), \"Age (numerical; quadratic)\"=AIC(dlc.m4) )"
   ]
  },
  {
   "cell_type": "code",
   "execution_count": 12,
   "metadata": {},
   "outputs": [
    {
     "data": {
      "text/html": [
       "<dl class=dl-horizontal>\n",
       "\t<dt>Dev</dt>\n",
       "\t\t<dd>28.3065274454968</dd>\n",
       "\t<dt>df</dt>\n",
       "\t\t<dd>18</dd>\n",
       "\t<dt>P</dt>\n",
       "\t\t<dd>0.0575411354442063</dd>\n",
       "</dl>\n"
      ],
      "text/latex": [
       "\\begin{description*}\n",
       "\\item[Dev] 28.3065274454968\n",
       "\\item[df] 18\n",
       "\\item[P] 0.0575411354442063\n",
       "\\end{description*}\n"
      ],
      "text/markdown": [
       "Dev\n",
       ":   28.3065274454968df\n",
       ":   18P\n",
       ":   0.0575411354442063\n",
       "\n"
      ],
      "text/plain": [
       "        Dev          df           P \n",
       "28.30652745 18.00000000  0.05754114 "
      ]
     },
     "metadata": {},
     "output_type": "display_data"
    }
   ],
   "source": [
    "D.m2 <- deviance(dlc.m2); df.m2 <- df.residual( dlc.m2 )\n",
    "c( Dev=D.m2, df=df.m2, P = pchisq( D.m2, df.m2, lower.tail = FALSE) )"
   ]
  },
  {
   "cell_type": "code",
   "execution_count": 13,
   "metadata": {},
   "outputs": [
    {
     "data": {
      "text/html": [
       "<dl class=dl-horizontal>\n",
       "\t<dt>Dev</dt>\n",
       "\t\t<dd>32.4995915821177</dd>\n",
       "\t<dt>df</dt>\n",
       "\t\t<dd>21</dd>\n",
       "\t<dt>P</dt>\n",
       "\t\t<dd>0.0520688764290171</dd>\n",
       "</dl>\n"
      ],
      "text/latex": [
       "\\begin{description*}\n",
       "\\item[Dev] 32.4995915821177\n",
       "\\item[df] 21\n",
       "\\item[P] 0.0520688764290171\n",
       "\\end{description*}\n"
      ],
      "text/markdown": [
       "Dev\n",
       ":   32.4995915821177df\n",
       ":   21P\n",
       ":   0.0520688764290171\n",
       "\n"
      ],
      "text/plain": [
       "        Dev          df           P \n",
       "32.49959158 21.00000000  0.05206888 "
      ]
     },
     "metadata": {},
     "output_type": "display_data"
    }
   ],
   "source": [
    "D.m4 <- deviance(dlc.m4); df.m4 <- df.residual( dlc.m4 )\n",
    "c( Dev=D.m4, df=df.m4, P=pchisq( D.m4, df.m4, lower = FALSE) )"
   ]
  },
  {
   "cell_type": "code",
   "execution_count": 14,
   "metadata": {},
   "outputs": [
    {
     "data": {
      "text/html": [
       "<dl class=dl-horizontal>\n",
       "\t<dt>With interaction</dt>\n",
       "\t\t<dd>144.388036988465</dd>\n",
       "\t<dt>Without interaction</dt>\n",
       "\t\t<dd>136.694564433962</dd>\n",
       "\t<dt>Age (numerical)</dt>\n",
       "\t\t<dd>149.355555733003</dd>\n",
       "\t<dt>Age (numerical; quadratic)</dt>\n",
       "\t\t<dd>134.887628570582</dd>\n",
       "</dl>\n"
      ],
      "text/latex": [
       "\\begin{description*}\n",
       "\\item[With interaction] 144.388036988465\n",
       "\\item[Without interaction] 136.694564433962\n",
       "\\item[Age (numerical)] 149.355555733003\n",
       "\\item[Age (numerical; quadratic)] 134.887628570582\n",
       "\\end{description*}\n"
      ],
      "text/markdown": [
       "With interaction\n",
       ":   144.388036988465Without interaction\n",
       ":   136.694564433962Age (numerical)\n",
       ":   149.355555733003Age (numerical; quadratic)\n",
       ":   134.887628570582\n",
       "\n"
      ],
      "text/plain": [
       "          With interaction        Without interaction \n",
       "                  144.3880                   136.6946 \n",
       "           Age (numerical) Age (numerical; quadratic) \n",
       "                  149.3556                   134.8876 "
      ]
     },
     "metadata": {},
     "output_type": "display_data"
    }
   ],
   "source": [
    "c( \"With interaction\"=AIC(dlc.m1), \"Without interaction\"=AIC(dlc.m2),\n",
    "\"Age (numerical)\"=AIC(dlc.m3), \"Age (numerical; quadratic)\"=AIC(dlc.m4) )"
   ]
  },
  {
   "cell_type": "code",
   "execution_count": 15,
   "metadata": {},
   "outputs": [
    {
     "data": {
      "image/png": "[encoded data removed]",
      "text/plain": [
       "Plot with title \"Factor age model\""
      ]
     },
     "metadata": {},
     "output_type": "display_data"
    },
    {
     "data": {
      "image/png": "[encoded data removed]",
      "text/plain": [
       "Plot with title \"Cook's D\""
      ]
     },
     "metadata": {},
     "output_type": "display_data"
    },
    {
     "data": {
      "image/png": "[encoded data removed]",
      "text/plain": [
       "Plot with title \"Normal Q-Q Plot\""
      ]
     },
     "metadata": {},
     "output_type": "display_data"
    },
    {
     "data": {
      "image/png": "[encoded data removed]",
      "text/plain": [
       "Plot with title \"Quadratic age model\""
      ]
     },
     "metadata": {},
     "output_type": "display_data"
    },
    {
     "data": {
      "image/png": "[encoded data removed]",
      "text/plain": [
       "Plot with title \"Cook's D\""
      ]
     },
     "metadata": {},
     "output_type": "display_data"
    },
    {
     "data": {
      "image/png": "[encoded data removed]",
      "text/plain": [
       "Plot with title \"Normal Q-Q Plot\""
      ]
     },
     "metadata": {},
     "output_type": "display_data"
    }
   ],
   "source": [
    "\n",
    "scatter.smooth( rstandard(dlc.m2) ~ sqrt(fitted(dlc.m2)),\n",
    "ylab=\"Standardized residuals\", xlab=\"Sqrt(Fitted values)\",\n",
    "main=\"Factor age model\", las=1 )\n",
    "plot( cooks.distance(dlc.m2), type=\"h\", las=1, main=\"Cook's D\",\n",
    "ylab=\"Cook's distance, D\")\n",
    "qqnorm( qr<-qresid(dlc.m2), las=1 ); abline(0, 1)\n",
    "scatter.smooth( rstandard(dlc.m4) ~ sqrt(fitted(dlc.m4)),\n",
    "ylab=\"Standardized residuals\", xlab=\"Sqrt(Fitted values)\",\n",
    "main=\"Quadratic age model\", las=1 )\n",
    "plot( cooks.distance(dlc.m4), type=\"h\", las=1, main=\"Cook's D\",\n",
    "ylab=\"Cook's distance, D\")\n",
    "qqnorm( qr<-qresid(dlc.m4), las=1 ); abline(0, 1)"
   ]
  },
  {
   "cell_type": "code",
   "execution_count": 16,
   "metadata": {},
   "outputs": [
    {
     "data": {
      "text/html": [
       "<table>\n",
       "<thead><tr><th scope=col>Counts</th><th scope=col>Att</th><th scope=col>Inc</th></tr></thead>\n",
       "<tbody>\n",
       "\t<tr><td>263    </td><td>For    </td><td>High   </td></tr>\n",
       "\t<tr><td>258    </td><td>For    </td><td>Low    </td></tr>\n",
       "\t<tr><td>151    </td><td>Against</td><td>High   </td></tr>\n",
       "\t<tr><td>222    </td><td>Against</td><td>Low    </td></tr>\n",
       "</tbody>\n",
       "</table>\n"
      ],
      "text/latex": [
       "\\begin{tabular}{r|lll}\n",
       " Counts & Att & Inc\\\\\n",
       "\\hline\n",
       "\t 263     & For     & High   \\\\\n",
       "\t 258     & For     & Low    \\\\\n",
       "\t 151     & Against & High   \\\\\n",
       "\t 222     & Against & Low    \\\\\n",
       "\\end{tabular}\n"
      ],
      "text/markdown": [
       "\n",
       "| Counts | Att | Inc |\n",
       "|---|---|---|\n",
       "| 263     | For     | High    |\n",
       "| 258     | For     | Low     |\n",
       "| 151     | Against | High    |\n",
       "| 222     | Against | Low     |\n",
       "\n"
      ],
      "text/plain": [
       "  Counts Att     Inc \n",
       "1 263    For     High\n",
       "2 258    For     Low \n",
       "3 151    Against High\n",
       "4 222    Against Low "
      ]
     },
     "metadata": {},
     "output_type": "display_data"
    }
   ],
   "source": [
    "Counts <- c(263, 258, 151, 222)\n",
    "Att <- gl(2, 2, 4, labels=c(\"For\", \"Against\") )\n",
    "Inc <- gl(2, 1, 4, labels=c(\"High\", \"Low\") )\n",
    "data.frame( Counts, Att, Inc)"
   ]
  },
  {
   "cell_type": "code",
   "execution_count": 17,
   "metadata": {},
   "outputs": [
    {
     "data": {
      "text/plain": [
       "         Inc\n",
       "Att       High Low\n",
       "  For      263 258\n",
       "  Against  151 222"
      ]
     },
     "metadata": {},
     "output_type": "display_data"
    }
   ],
   "source": [
    " gm.table <- xtabs( Counts ~ Att + Inc ); gm.table"
   ]
  },
  {
   "cell_type": "code",
   "execution_count": 18,
   "metadata": {},
   "outputs": [
    {
     "data": {
      "text/html": [
       "<table>\n",
       "<thead><tr><th></th><th scope=col>Df</th><th scope=col>Deviance</th><th scope=col>Resid. Df</th><th scope=col>Resid. Dev</th><th scope=col>Pr(&gt;Chi)</th></tr></thead>\n",
       "<tbody>\n",
       "\t<tr><th scope=row>NULL</th><td>NA          </td><td>       NA   </td><td>3           </td><td>38.25983    </td><td>          NA</td></tr>\n",
       "\t<tr><th scope=row>Att</th><td> 1          </td><td>24.614277   </td><td>2           </td><td>13.64555    </td><td>7.003095e-07</td></tr>\n",
       "\t<tr><th scope=row>Inc</th><td> 1          </td><td> 4.876919   </td><td>1           </td><td> 8.76863    </td><td>2.721816e-02</td></tr>\n",
       "</tbody>\n",
       "</table>\n"
      ],
      "text/latex": [
       "\\begin{tabular}{r|lllll}\n",
       "  & Df & Deviance & Resid. Df & Resid. Dev & Pr(>Chi)\\\\\n",
       "\\hline\n",
       "\tNULL & NA           &        NA    & 3            & 38.25983     &           NA\\\\\n",
       "\tAtt &  1           & 24.614277    & 2            & 13.64555     & 7.003095e-07\\\\\n",
       "\tInc &  1           &  4.876919    & 1            &  8.76863     & 2.721816e-02\\\\\n",
       "\\end{tabular}\n"
      ],
      "text/markdown": [
       "\n",
       "| <!--/--> | Df | Deviance | Resid. Df | Resid. Dev | Pr(>Chi) |\n",
       "|---|---|---|---|---|---|\n",
       "| NULL | NA           |        NA    | 3            | 38.25983     |           NA |\n",
       "| Att |  1           | 24.614277    | 2            | 13.64555     | 7.003095e-07 |\n",
       "| Inc |  1           |  4.876919    | 1            |  8.76863     | 2.721816e-02 |\n",
       "\n"
      ],
      "text/plain": [
       "     Df Deviance  Resid. Df Resid. Dev Pr(>Chi)    \n",
       "NULL NA        NA 3         38.25983             NA\n",
       "Att   1 24.614277 2         13.64555   7.003095e-07\n",
       "Inc   1  4.876919 1          8.76863   2.721816e-02"
      ]
     },
     "metadata": {},
     "output_type": "display_data"
    }
   ],
   "source": [
    "gm.1 <- glm( Counts ~ Att + Inc, family=poisson)\n",
    "anova( gm.1, test=\"Chisq\")"
   ]
  },
  {
   "cell_type": "code",
   "execution_count": 19,
   "metadata": {},
   "outputs": [
    {
     "data": {
      "text/html": [
       "<dl class=dl-horizontal>\n",
       "\t<dt>(Intercept)</dt>\n",
       "\t\t<dd>5.48591024040517</dd>\n",
       "\t<dt>AttAgainst</dt>\n",
       "\t\t<dd>-0.334171622109552</dd>\n",
       "\t<dt>IncLow</dt>\n",
       "\t\t<dd>0.147920130076622</dd>\n",
       "</dl>\n"
      ],
      "text/latex": [
       "\\begin{description*}\n",
       "\\item[(Intercept)] 5.48591024040517\n",
       "\\item[AttAgainst] -0.334171622109552\n",
       "\\item[IncLow] 0.147920130076622\n",
       "\\end{description*}\n"
      ],
      "text/markdown": [
       "(Intercept)\n",
       ":   5.48591024040517AttAgainst\n",
       ":   -0.334171622109552IncLow\n",
       ":   0.147920130076622\n",
       "\n"
      ],
      "text/plain": [
       "(Intercept)  AttAgainst      IncLow \n",
       "  5.4859102  -0.3341716   0.1479201 "
      ]
     },
     "metadata": {},
     "output_type": "display_data"
    }
   ],
   "source": [
    "coef( gm.1 )"
   ]
  },
  {
   "cell_type": "code",
   "execution_count": 20,
   "metadata": {},
   "outputs": [],
   "source": [
    "data(kstones)"
   ]
  },
  {
   "cell_type": "code",
   "execution_count": 21,
   "metadata": {},
   "outputs": [
    {
     "name": "stdout",
     "output_type": "stream",
     "text": [
      "'data.frame':\t8 obs. of  4 variables:\n",
      " $ Counts : int  81 6 234 36 192 71 55 25\n",
      " $ Size   : Factor w/ 2 levels \"Large\",\"Small\": 2 2 2 2 1 1 1 1\n",
      " $ Method : Factor w/ 2 levels \"A\",\"B\": 1 1 2 2 1 1 2 2\n",
      " $ Outcome: Factor w/ 2 levels \"Failure\",\"Success\": 2 1 2 1 2 1 2 1\n"
     ]
    }
   ],
   "source": [
    "str(kstones)"
   ]
  },
  {
   "cell_type": "code",
   "execution_count": 22,
   "metadata": {},
   "outputs": [],
   "source": [
    "ks.mutind <- glm( Counts ~ Size + Method + Outcome,\n",
    "family=poisson, data=kstones)"
   ]
  },
  {
   "cell_type": "code",
   "execution_count": 23,
   "metadata": {},
   "outputs": [
    {
     "data": {
      "text/html": [
       "<table>\n",
       "<thead><tr><th></th><th scope=col>Estimate</th><th scope=col>Std. Error</th><th scope=col>z value</th><th scope=col>Pr(&gt;|z|)</th></tr></thead>\n",
       "<tbody>\n",
       "\t<tr><th scope=row>(Intercept)</th><td> 3.520757e+00</td><td>0.10080589   </td><td> 3.492610e+01</td><td>2.986681e-267</td></tr>\n",
       "\t<tr><th scope=row>SizeSmall</th><td> 4.000533e-02</td><td>0.07560802   </td><td> 5.291150e-01</td><td> 5.967257e-01</td></tr>\n",
       "\t<tr><th scope=row>MethodB</th><td>-1.121380e-15</td><td>0.07559289   </td><td>-1.483447e-14</td><td> 1.000000e+00</td></tr>\n",
       "\t<tr><th scope=row>OutcomeSuccess</th><td> 1.404248e+00</td><td>0.09500387   </td><td> 1.478096e+01</td><td> 1.943834e-49</td></tr>\n",
       "</tbody>\n",
       "</table>\n"
      ],
      "text/latex": [
       "\\begin{tabular}{r|llll}\n",
       "  & Estimate & Std. Error & z value & Pr(>\\textbar{}z\\textbar{})\\\\\n",
       "\\hline\n",
       "\t(Intercept) &  3.520757e+00 & 0.10080589    &  3.492610e+01 & 2.986681e-267\\\\\n",
       "\tSizeSmall &  4.000533e-02 & 0.07560802    &  5.291150e-01 &  5.967257e-01\\\\\n",
       "\tMethodB & -1.121380e-15 & 0.07559289    & -1.483447e-14 &  1.000000e+00\\\\\n",
       "\tOutcomeSuccess &  1.404248e+00 & 0.09500387    &  1.478096e+01 &  1.943834e-49\\\\\n",
       "\\end{tabular}\n"
      ],
      "text/markdown": [
       "\n",
       "| <!--/--> | Estimate | Std. Error | z value | Pr(>|z|) |\n",
       "|---|---|---|---|---|\n",
       "| (Intercept) |  3.520757e+00 | 0.10080589    |  3.492610e+01 | 2.986681e-267 |\n",
       "| SizeSmall |  4.000533e-02 | 0.07560802    |  5.291150e-01 |  5.967257e-01 |\n",
       "| MethodB | -1.121380e-15 | 0.07559289    | -1.483447e-14 |  1.000000e+00 |\n",
       "| OutcomeSuccess |  1.404248e+00 | 0.09500387    |  1.478096e+01 |  1.943834e-49 |\n",
       "\n"
      ],
      "text/plain": [
       "               Estimate      Std. Error z value       Pr(>|z|)     \n",
       "(Intercept)     3.520757e+00 0.10080589  3.492610e+01 2.986681e-267\n",
       "SizeSmall       4.000533e-02 0.07560802  5.291150e-01  5.967257e-01\n",
       "MethodB        -1.121380e-15 0.07559289 -1.483447e-14  1.000000e+00\n",
       "OutcomeSuccess  1.404248e+00 0.09500387  1.478096e+01  1.943834e-49"
      ]
     },
     "metadata": {},
     "output_type": "display_data"
    }
   ],
   "source": [
    "coef(summary(ks.mutind))"
   ]
  },
  {
   "cell_type": "code",
   "execution_count": 24,
   "metadata": {},
   "outputs": [
    {
     "data": {
      "text/html": [
       "<table>\n",
       "<thead><tr><th></th><th scope=col>Df</th><th scope=col>Deviance</th><th scope=col>Resid. Df</th><th scope=col>Resid. Dev</th><th scope=col>Pr(&gt;Chi)</th></tr></thead>\n",
       "<tbody>\n",
       "\t<tr><th scope=row>NULL</th><td>NA          </td><td>          NA</td><td>7           </td><td>510.1404    </td><td>          NA</td></tr>\n",
       "\t<tr><th scope=row>Size</th><td> 1          </td><td>2.800187e-01</td><td>6           </td><td>509.8604    </td><td>5.966890e-01</td></tr>\n",
       "\t<tr><th scope=row>Method</th><td> 1          </td><td>5.684342e-14</td><td>5           </td><td>509.8604    </td><td>9.999998e-01</td></tr>\n",
       "\t<tr><th scope=row>Outcome</th><td> 1          </td><td>2.754237e+02</td><td>4           </td><td>234.4367    </td><td>7.462502e-62</td></tr>\n",
       "</tbody>\n",
       "</table>\n"
      ],
      "text/latex": [
       "\\begin{tabular}{r|lllll}\n",
       "  & Df & Deviance & Resid. Df & Resid. Dev & Pr(>Chi)\\\\\n",
       "\\hline\n",
       "\tNULL & NA           &           NA & 7            & 510.1404     &           NA\\\\\n",
       "\tSize &  1           & 2.800187e-01 & 6            & 509.8604     & 5.966890e-01\\\\\n",
       "\tMethod &  1           & 5.684342e-14 & 5            & 509.8604     & 9.999998e-01\\\\\n",
       "\tOutcome &  1           & 2.754237e+02 & 4            & 234.4367     & 7.462502e-62\\\\\n",
       "\\end{tabular}\n"
      ],
      "text/markdown": [
       "\n",
       "| <!--/--> | Df | Deviance | Resid. Df | Resid. Dev | Pr(>Chi) |\n",
       "|---|---|---|---|---|---|\n",
       "| NULL | NA           |           NA | 7            | 510.1404     |           NA |\n",
       "| Size |  1           | 2.800187e-01 | 6            | 509.8604     | 5.966890e-01 |\n",
       "| Method |  1           | 5.684342e-14 | 5            | 509.8604     | 9.999998e-01 |\n",
       "| Outcome |  1           | 2.754237e+02 | 4            | 234.4367     | 7.462502e-62 |\n",
       "\n"
      ],
      "text/plain": [
       "        Df Deviance     Resid. Df Resid. Dev Pr(>Chi)    \n",
       "NULL    NA           NA 7         510.1404             NA\n",
       "Size     1 2.800187e-01 6         509.8604   5.966890e-01\n",
       "Method   1 5.684342e-14 5         509.8604   9.999998e-01\n",
       "Outcome  1 2.754237e+02 4         234.4367   7.462502e-62"
      ]
     },
     "metadata": {},
     "output_type": "display_data"
    }
   ],
   "source": [
    "anova(ks.mutind, test=\"Chisq\")"
   ]
  },
  {
   "cell_type": "code",
   "execution_count": 26,
   "metadata": {},
   "outputs": [],
   "source": [
    "ks.SM <- glm( Counts ~ Size * Method + Outcome,\n",
    "family=poisson, data=kstones )\n",
    "ks.SO <- update(ks.SM, . ~ Size * Outcome + Method)\n",
    "ks.OM <- update(ks.SM, . ~ Outcome * Method + Size)"
   ]
  },
  {
   "cell_type": "code",
   "execution_count": 27,
   "metadata": {},
   "outputs": [],
   "source": [
    "ks.noMO <- glm( Counts ~ Size * (Method + Outcome),\n",
    "family=poisson, data=kstones )\n",
    "ks.noOS <- update(ks.noMO, . ~ Method * (Outcome + Size) )\n",
    "ks.noMS <- update(ks.noMO, . ~ Outcome * (Method + Size) )"
   ]
  },
  {
   "cell_type": "code",
   "execution_count": 31,
   "metadata": {},
   "outputs": [
    {
     "data": {
      "text/html": [
       "<table>\n",
       "<thead><tr><th></th><th scope=col>Estimate</th><th scope=col>Std. Error</th><th scope=col>z value</th><th scope=col>Pr(&gt;|z|)</th></tr></thead>\n",
       "<tbody>\n",
       "\t<tr><th scope=row>(Intercept)</th><td> 4.2987718  </td><td>0.1063179   </td><td>40.433189   </td><td>0.000000e+00</td></tr>\n",
       "\t<tr><th scope=row>SizeSmall</th><td>-1.9729298  </td><td>0.2092992   </td><td>-9.426362   </td><td>4.245606e-21</td></tr>\n",
       "\t<tr><th scope=row>MethodB</th><td>-1.1901274  </td><td>0.1276804   </td><td>-9.321145   </td><td>1.150916e-20</td></tr>\n",
       "\t<tr><th scope=row>OutcomeSuccess</th><td> 0.9450401  </td><td>0.1202716   </td><td> 7.857552   </td><td>3.917119e-15</td></tr>\n",
       "\t<tr><th scope=row>SizeSmall:MethodB</th><td> 2.3226412  </td><td>0.1774831   </td><td>13.086551   </td><td>3.930518e-39</td></tr>\n",
       "\t<tr><th scope=row>SizeSmall:OutcomeSuccess</th><td> 1.0698629  </td><td>0.2035912   </td><td> 5.254957   </td><td>1.480594e-07</td></tr>\n",
       "</tbody>\n",
       "</table>\n"
      ],
      "text/latex": [
       "\\begin{tabular}{r|llll}\n",
       "  & Estimate & Std. Error & z value & Pr(>\\textbar{}z\\textbar{})\\\\\n",
       "\\hline\n",
       "\t(Intercept) &  4.2987718   & 0.1063179    & 40.433189    & 0.000000e+00\\\\\n",
       "\tSizeSmall & -1.9729298   & 0.2092992    & -9.426362    & 4.245606e-21\\\\\n",
       "\tMethodB & -1.1901274   & 0.1276804    & -9.321145    & 1.150916e-20\\\\\n",
       "\tOutcomeSuccess &  0.9450401   & 0.1202716    &  7.857552    & 3.917119e-15\\\\\n",
       "\tSizeSmall:MethodB &  2.3226412   & 0.1774831    & 13.086551    & 3.930518e-39\\\\\n",
       "\tSizeSmall:OutcomeSuccess &  1.0698629   & 0.2035912    &  5.254957    & 1.480594e-07\\\\\n",
       "\\end{tabular}\n"
      ],
      "text/markdown": [
       "\n",
       "| <!--/--> | Estimate | Std. Error | z value | Pr(>|z|) |\n",
       "|---|---|---|---|---|\n",
       "| (Intercept) |  4.2987718   | 0.1063179    | 40.433189    | 0.000000e+00 |\n",
       "| SizeSmall | -1.9729298   | 0.2092992    | -9.426362    | 4.245606e-21 |\n",
       "| MethodB | -1.1901274   | 0.1276804    | -9.321145    | 1.150916e-20 |\n",
       "| OutcomeSuccess |  0.9450401   | 0.1202716    |  7.857552    | 3.917119e-15 |\n",
       "| SizeSmall:MethodB |  2.3226412   | 0.1774831    | 13.086551    | 3.930518e-39 |\n",
       "| SizeSmall:OutcomeSuccess |  1.0698629   | 0.2035912    |  5.254957    | 1.480594e-07 |\n",
       "\n"
      ],
      "text/plain": [
       "                         Estimate   Std. Error z value   Pr(>|z|)    \n",
       "(Intercept)               4.2987718 0.1063179  40.433189 0.000000e+00\n",
       "SizeSmall                -1.9729298 0.2092992  -9.426362 4.245606e-21\n",
       "MethodB                  -1.1901274 0.1276804  -9.321145 1.150916e-20\n",
       "OutcomeSuccess            0.9450401 0.1202716   7.857552 3.917119e-15\n",
       "SizeSmall:MethodB         2.3226412 0.1774831  13.086551 3.930518e-39\n",
       "SizeSmall:OutcomeSuccess  1.0698629 0.2035912   5.254957 1.480594e-07"
      ]
     },
     "metadata": {},
     "output_type": "display_data"
    }
   ],
   "source": [
    "coef(summary(ks.noMO))"
   ]
  },
  {
   "cell_type": "code",
   "execution_count": 28,
   "metadata": {},
   "outputs": [],
   "source": [
    "ks.no3 <- glm( Counts ~ Size*Method*Outcome - Size:Method:Outcome,\n",
    "family=poisson, data=kstones )"
   ]
  },
  {
   "cell_type": "code",
   "execution_count": 29,
   "metadata": {},
   "outputs": [],
   "source": [
    "ks.all <- glm( Counts ~ Size * Method * Outcome,\n",
    "family=poisson, data=kstones )"
   ]
  },
  {
   "cell_type": "code",
   "execution_count": 30,
   "metadata": {},
   "outputs": [
    {
     "data": {
      "text/html": [
       "1.70974345792266e-14"
      ],
      "text/latex": [
       "1.70974345792266e-14"
      ],
      "text/markdown": [
       "1.70974345792266e-14"
      ],
      "text/plain": [
       "[1] 1.709743e-14"
      ]
     },
     "metadata": {},
     "output_type": "display_data"
    },
    {
     "data": {
      "text/html": [
       "0"
      ],
      "text/latex": [
       "0"
      ],
      "text/markdown": [
       "0"
      ],
      "text/plain": [
       "[1] 0"
      ]
     },
     "metadata": {},
     "output_type": "display_data"
    }
   ],
   "source": [
    "deviance(ks.all); df.residual(ks.all)"
   ]
  },
  {
   "cell_type": "code",
   "execution_count": 32,
   "metadata": {},
   "outputs": [],
   "source": [
    "ks.tab <- xtabs(Counts ~ Method + Outcome + Size, data=kstones)"
   ]
  },
  {
   "cell_type": "code",
   "execution_count": 33,
   "metadata": {},
   "outputs": [],
   "source": [
    "MO.tab <- apply( ks.tab, c(1, 2), sum) # Sums over the 3rd dimension"
   ]
  },
  {
   "cell_type": "code",
   "execution_count": 34,
   "metadata": {},
   "outputs": [
    {
     "data": {
      "text/html": [
       "<table>\n",
       "<thead><tr><th></th><th scope=col>Failure</th><th scope=col>Success</th></tr></thead>\n",
       "<tbody>\n",
       "\t<tr><th scope=row>A</th><td>0.2200000</td><td>0.7800000</td></tr>\n",
       "\t<tr><th scope=row>B</th><td>0.1742857</td><td>0.8257143</td></tr>\n",
       "</tbody>\n",
       "</table>\n"
      ],
      "text/latex": [
       "\\begin{tabular}{r|ll}\n",
       "  & Failure & Success\\\\\n",
       "\\hline\n",
       "\tA & 0.2200000 & 0.7800000\\\\\n",
       "\tB & 0.1742857 & 0.8257143\\\\\n",
       "\\end{tabular}\n"
      ],
      "text/markdown": [
       "\n",
       "| <!--/--> | Failure | Success |\n",
       "|---|---|---|\n",
       "| A | 0.2200000 | 0.7800000 |\n",
       "| B | 0.1742857 | 0.8257143 |\n",
       "\n"
      ],
      "text/plain": [
       "      Outcome\n",
       "Method Failure   Success  \n",
       "     A 0.2200000 0.7800000\n",
       "     B 0.1742857 0.8257143"
      ]
     },
     "metadata": {},
     "output_type": "display_data"
    }
   ],
   "source": [
    "prop.table(MO.tab, 1)"
   ]
  },
  {
   "cell_type": "code",
   "execution_count": 35,
   "metadata": {},
   "outputs": [
    {
     "data": {
      "text/html": [
       "<table>\n",
       "<thead><tr><th></th><th scope=col>Df</th><th scope=col>Deviance</th><th scope=col>Resid. Df</th><th scope=col>Resid. Dev</th><th scope=col>Pr(&gt;Chi)</th></tr></thead>\n",
       "<tbody>\n",
       "\t<tr><th scope=row>NULL</th><td>NA         </td><td>     NA    </td><td>3          </td><td>1214.733   </td><td>         NA</td></tr>\n",
       "\t<tr><th scope=row>Inc</th><td> 1         </td><td>8.76863    </td><td>2          </td><td>1205.964   </td><td>0.003064555</td></tr>\n",
       "</tbody>\n",
       "</table>\n"
      ],
      "text/latex": [
       "\\begin{tabular}{r|lllll}\n",
       "  & Df & Deviance & Resid. Df & Resid. Dev & Pr(>Chi)\\\\\n",
       "\\hline\n",
       "\tNULL & NA          &      NA     & 3           & 1214.733    &          NA\\\\\n",
       "\tInc &  1          & 8.76863     & 2           & 1205.964    & 0.003064555\\\\\n",
       "\\end{tabular}\n"
      ],
      "text/markdown": [
       "\n",
       "| <!--/--> | Df | Deviance | Resid. Df | Resid. Dev | Pr(>Chi) |\n",
       "|---|---|---|---|---|---|\n",
       "| NULL | NA          |      NA     | 3           | 1214.733    |          NA |\n",
       "| Inc |  1          | 8.76863     | 2           | 1205.964    | 0.003064555 |\n",
       "\n"
      ],
      "text/plain": [
       "     Df Deviance Resid. Df Resid. Dev Pr(>Chi)   \n",
       "NULL NA      NA  3         1214.733            NA\n",
       "Inc   1 8.76863  2         1205.964   0.003064555"
      ]
     },
     "metadata": {},
     "output_type": "display_data"
    }
   ],
   "source": [
    "y <- ifelse(Att == \"Against\", 1, 0)\n",
    "gm.bin <- glm(y~Inc, family=binomial, weights=Counts)\n",
    "anova(gm.bin, test=\"Chisq\")"
   ]
  },
  {
   "cell_type": "code",
   "execution_count": 36,
   "metadata": {},
   "outputs": [
    {
     "data": {
      "text/html": [
       "<table>\n",
       "<thead><tr><th></th><th scope=col>Estimate</th><th scope=col>Std. Error</th><th scope=col>z value</th><th scope=col>Pr(&gt;|z|)</th></tr></thead>\n",
       "<tbody>\n",
       "\t<tr><th scope=row>(Intercept)</th><td>-0.5548742  </td><td>0.1021018   </td><td>-5.434518   </td><td>5.494476e-08</td></tr>\n",
       "\t<tr><th scope=row>IncLow</th><td> 0.4045920  </td><td>0.1371323   </td><td> 2.950378   </td><td>3.173854e-03</td></tr>\n",
       "</tbody>\n",
       "</table>\n"
      ],
      "text/latex": [
       "\\begin{tabular}{r|llll}\n",
       "  & Estimate & Std. Error & z value & Pr(>\\textbar{}z\\textbar{})\\\\\n",
       "\\hline\n",
       "\t(Intercept) & -0.5548742   & 0.1021018    & -5.434518    & 5.494476e-08\\\\\n",
       "\tIncLow &  0.4045920   & 0.1371323    &  2.950378    & 3.173854e-03\\\\\n",
       "\\end{tabular}\n"
      ],
      "text/markdown": [
       "\n",
       "| <!--/--> | Estimate | Std. Error | z value | Pr(>|z|) |\n",
       "|---|---|---|---|---|\n",
       "| (Intercept) | -0.5548742   | 0.1021018    | -5.434518    | 5.494476e-08 |\n",
       "| IncLow |  0.4045920   | 0.1371323    |  2.950378    | 3.173854e-03 |\n",
       "\n"
      ],
      "text/plain": [
       "            Estimate   Std. Error z value   Pr(>|z|)    \n",
       "(Intercept) -0.5548742 0.1021018  -5.434518 5.494476e-08\n",
       "IncLow       0.4045920 0.1371323   2.950378 3.173854e-03"
      ]
     },
     "metadata": {},
     "output_type": "display_data"
    }
   ],
   "source": [
    "coef(summary(gm.bin))"
   ]
  },
  {
   "cell_type": "code",
   "execution_count": 38,
   "metadata": {},
   "outputs": [
    {
     "data": {
      "text/html": [
       "1205.96425105876"
      ],
      "text/latex": [
       "1205.96425105876"
      ],
      "text/markdown": [
       "1205.96425105876"
      ],
      "text/plain": [
       "[1] 1205.964"
      ]
     },
     "metadata": {},
     "output_type": "display_data"
    }
   ],
   "source": [
    "deviance(gm.bin)"
   ]
  },
  {
   "cell_type": "code",
   "execution_count": 40,
   "metadata": {},
   "outputs": [
    {
     "data": {
      "text/html": [
       "<table>\n",
       "<thead><tr><th></th><th scope=col>Df</th><th scope=col>Deviance</th><th scope=col>Resid. Df</th><th scope=col>Resid. Dev</th><th scope=col>Pr(&gt;Chi)</th></tr></thead>\n",
       "<tbody>\n",
       "\t<tr><th scope=row>NULL</th><td>NA          </td><td>       NA   </td><td>7           </td><td>694.9824    </td><td>          NA</td></tr>\n",
       "\t<tr><th scope=row>Size</th><td> 1          </td><td>29.673639   </td><td>6           </td><td>665.3087    </td><td>5.112535e-08</td></tr>\n",
       "\t<tr><th scope=row>Method</th><td> 1          </td><td> 2.442145   </td><td>5           </td><td>662.8666    </td><td>1.181146e-01</td></tr>\n",
       "\t<tr><th scope=row>Size:Method</th><td> 1          </td><td> 1.008164   </td><td>4           </td><td>661.8584    </td><td>3.153430e-01</td></tr>\n",
       "</tbody>\n",
       "</table>\n"
      ],
      "text/latex": [
       "\\begin{tabular}{r|lllll}\n",
       "  & Df & Deviance & Resid. Df & Resid. Dev & Pr(>Chi)\\\\\n",
       "\\hline\n",
       "\tNULL & NA           &        NA    & 7            & 694.9824     &           NA\\\\\n",
       "\tSize &  1           & 29.673639    & 6            & 665.3087     & 5.112535e-08\\\\\n",
       "\tMethod &  1           &  2.442145    & 5            & 662.8666     & 1.181146e-01\\\\\n",
       "\tSize:Method &  1           &  1.008164    & 4            & 661.8584     & 3.153430e-01\\\\\n",
       "\\end{tabular}\n"
      ],
      "text/markdown": [
       "\n",
       "| <!--/--> | Df | Deviance | Resid. Df | Resid. Dev | Pr(>Chi) |\n",
       "|---|---|---|---|---|---|\n",
       "| NULL | NA           |        NA    | 7            | 694.9824     |           NA |\n",
       "| Size |  1           | 29.673639    | 6            | 665.3087     | 5.112535e-08 |\n",
       "| Method |  1           |  2.442145    | 5            | 662.8666     | 1.181146e-01 |\n",
       "| Size:Method |  1           |  1.008164    | 4            | 661.8584     | 3.153430e-01 |\n",
       "\n"
      ],
      "text/plain": [
       "            Df Deviance  Resid. Df Resid. Dev Pr(>Chi)    \n",
       "NULL        NA        NA 7         694.9824             NA\n",
       "Size         1 29.673639 6         665.3087   5.112535e-08\n",
       "Method       1  2.442145 5         662.8666   1.181146e-01\n",
       "Size:Method  1  1.008164 4         661.8584   3.153430e-01"
      ]
     },
     "metadata": {},
     "output_type": "display_data"
    }
   ],
   "source": [
    "y <- ifelse(kstones$Outcome==\"Success\", 1, 0)\n",
    "ks.bin <- glm(y~Size*Method, family=binomial,\n",
    "weights=Counts, data=kstones)\n",
    "anova(ks.bin, test=\"Chisq\")"
   ]
  },
  {
   "cell_type": "code",
   "execution_count": 41,
   "metadata": {},
   "outputs": [
    {
     "data": {
      "text/html": [
       "<table>\n",
       "<thead><tr><th></th><th scope=col>Df</th><th scope=col>Deviance</th><th scope=col>Resid. Df</th><th scope=col>Resid. Dev</th><th scope=col>Pr(&gt;Chi)</th></tr></thead>\n",
       "<tbody>\n",
       "\t<tr><th scope=row>NULL</th><td>NA          </td><td>        NA  </td><td>23          </td><td>368.04836   </td><td>          NA</td></tr>\n",
       "\t<tr><th scope=row>Age</th><td> 2          </td><td> 11.962892  </td><td>21          </td><td>356.08547   </td><td>2.525172e-03</td></tr>\n",
       "\t<tr><th scope=row>Depression</th><td> 1          </td><td>168.375063  </td><td>20          </td><td>187.71040   </td><td>1.675246e-38</td></tr>\n",
       "\t<tr><th scope=row>Gender</th><td> 1          </td><td> 58.369397  </td><td>19          </td><td>129.34101   </td><td>2.172442e-14</td></tr>\n",
       "\t<tr><th scope=row>Group</th><td> 1          </td><td> 69.103522  </td><td>18          </td><td> 60.23748   </td><td>9.342836e-17</td></tr>\n",
       "\t<tr><th scope=row>Age:Depression</th><td> 2          </td><td>  3.616211  </td><td>16          </td><td> 56.62127   </td><td>1.639645e-01</td></tr>\n",
       "\t<tr><th scope=row>Age:Gender</th><td> 2          </td><td>  3.631477  </td><td>14          </td><td> 52.98980   </td><td>1.627177e-01</td></tr>\n",
       "\t<tr><th scope=row>Depression:Gender</th><td> 1          </td><td>  7.228660  </td><td>13          </td><td> 45.76114   </td><td>7.174874e-03</td></tr>\n",
       "\t<tr><th scope=row>Age:Group</th><td> 2          </td><td> 27.089590  </td><td>11          </td><td> 18.67155   </td><td>1.310902e-06</td></tr>\n",
       "\t<tr><th scope=row>Age:Depression:Gender</th><td> 2          </td><td>  8.324629  </td><td> 9          </td><td> 10.34692   </td><td>1.557147e-02</td></tr>\n",
       "</tbody>\n",
       "</table>\n"
      ],
      "text/latex": [
       "\\begin{tabular}{r|lllll}\n",
       "  & Df & Deviance & Resid. Df & Resid. Dev & Pr(>Chi)\\\\\n",
       "\\hline\n",
       "\tNULL & NA           &         NA   & 23           & 368.04836    &           NA\\\\\n",
       "\tAge &  2           &  11.962892   & 21           & 356.08547    & 2.525172e-03\\\\\n",
       "\tDepression &  1           & 168.375063   & 20           & 187.71040    & 1.675246e-38\\\\\n",
       "\tGender &  1           &  58.369397   & 19           & 129.34101    & 2.172442e-14\\\\\n",
       "\tGroup &  1           &  69.103522   & 18           &  60.23748    & 9.342836e-17\\\\\n",
       "\tAge:Depression &  2           &   3.616211   & 16           &  56.62127    & 1.639645e-01\\\\\n",
       "\tAge:Gender &  2           &   3.631477   & 14           &  52.98980    & 1.627177e-01\\\\\n",
       "\tDepression:Gender &  1           &   7.228660   & 13           &  45.76114    & 7.174874e-03\\\\\n",
       "\tAge:Group &  2           &  27.089590   & 11           &  18.67155    & 1.310902e-06\\\\\n",
       "\tAge:Depression:Gender &  2           &   8.324629   &  9           &  10.34692    & 1.557147e-02\\\\\n",
       "\\end{tabular}\n"
      ],
      "text/markdown": [
       "\n",
       "| <!--/--> | Df | Deviance | Resid. Df | Resid. Dev | Pr(>Chi) |\n",
       "|---|---|---|---|---|---|\n",
       "| NULL | NA           |         NA   | 23           | 368.04836    |           NA |\n",
       "| Age |  2           |  11.962892   | 21           | 356.08547    | 2.525172e-03 |\n",
       "| Depression |  1           | 168.375063   | 20           | 187.71040    | 1.675246e-38 |\n",
       "| Gender |  1           |  58.369397   | 19           | 129.34101    | 2.172442e-14 |\n",
       "| Group |  1           |  69.103522   | 18           |  60.23748    | 9.342836e-17 |\n",
       "| Age:Depression |  2           |   3.616211   | 16           |  56.62127    | 1.639645e-01 |\n",
       "| Age:Gender |  2           |   3.631477   | 14           |  52.98980    | 1.627177e-01 |\n",
       "| Depression:Gender |  1           |   7.228660   | 13           |  45.76114    | 7.174874e-03 |\n",
       "| Age:Group |  2           |  27.089590   | 11           |  18.67155    | 1.310902e-06 |\n",
       "| Age:Depression:Gender |  2           |   8.324629   |  9           |  10.34692    | 1.557147e-02 |\n",
       "\n"
      ],
      "text/plain": [
       "                      Df Deviance   Resid. Df Resid. Dev Pr(>Chi)    \n",
       "NULL                  NA         NA 23        368.04836            NA\n",
       "Age                    2  11.962892 21        356.08547  2.525172e-03\n",
       "Depression             1 168.375063 20        187.71040  1.675246e-38\n",
       "Gender                 1  58.369397 19        129.34101  2.172442e-14\n",
       "Group                  1  69.103522 18         60.23748  9.342836e-17\n",
       "Age:Depression         2   3.616211 16         56.62127  1.639645e-01\n",
       "Age:Gender             2   3.631477 14         52.98980  1.627177e-01\n",
       "Depression:Gender      1   7.228660 13         45.76114  7.174874e-03\n",
       "Age:Group              2  27.089590 11         18.67155  1.310902e-06\n",
       "Age:Depression:Gender  2   8.324629  9         10.34692  1.557147e-02"
      ]
     },
     "metadata": {},
     "output_type": "display_data"
    }
   ],
   "source": [
    "data(dyouth)\n",
    "dy.m1 <- glm( Obs ~ Age*Depression*Gender + Age*Group,\n",
    "data=dyouth, family=poisson)\n",
    "anova(dy.m1, test=\"Chisq\")"
   ]
  },
  {
   "cell_type": "code",
   "execution_count": 43,
   "metadata": {},
   "outputs": [
    {
     "data": {
      "text/html": [
       "10.3469171211639"
      ],
      "text/latex": [
       "10.3469171211639"
      ],
      "text/markdown": [
       "10.3469171211639"
      ],
      "text/plain": [
       "[1] 10.34692"
      ]
     },
     "metadata": {},
     "output_type": "display_data"
    },
    {
     "data": {
      "text/html": [
       "0.323137089493201"
      ],
      "text/latex": [
       "0.323137089493201"
      ],
      "text/markdown": [
       "0.323137089493201"
      ],
      "text/plain": [
       "[1] 0.3231371"
      ]
     },
     "metadata": {},
     "output_type": "display_data"
    }
   ],
   "source": [
    "deviance(dy.m1)\n",
    "p.value <- pchisq(deviance(dy.m1), df=df.residual(dy.m1), lower.tail = FALSE)\n",
    "p.value"
   ]
  },
  {
   "cell_type": "code",
   "execution_count": 46,
   "metadata": {},
   "outputs": [
    {
     "name": "stdout",
     "output_type": "stream",
     "text": [
      "'data.frame':\t14 obs. of  3 variables:\n",
      " $ Cancer: Factor w/ 7 levels \"Breast\",\"Cervix\",..: 7 1 3 4 5 2 6 7 1 3 ...\n",
      " $ Gender: Factor w/ 2 levels \"F\",\"M\": 2 2 2 2 2 2 2 1 1 1 ...\n",
      " $ Counts: int  923 0 511 472 362 0 1406 0 875 355 ...\n"
     ]
    },
    {
     "data": {
      "text/html": [
       "<table>\n",
       "<thead><tr><th></th><th scope=col>Df</th><th scope=col>Deviance</th><th scope=col>Resid. Df</th><th scope=col>Resid. Dev</th><th scope=col>Pr(&gt;Chi)</th></tr></thead>\n",
       "<tbody>\n",
       "\t<tr><th scope=row>NULL</th><td>NA          </td><td>        NA  </td><td>13          </td><td>6.063678e+03</td><td>          NA</td></tr>\n",
       "\t<tr><th scope=row>factor(Cancer)</th><td> 6          </td><td>3281.52408  </td><td> 7          </td><td>2.782154e+03</td><td>0.000000e+00</td></tr>\n",
       "\t<tr><th scope=row>factor(Gender)</th><td> 1          </td><td>  95.91194  </td><td> 6          </td><td>2.686242e+03</td><td>1.201088e-22</td></tr>\n",
       "\t<tr><th scope=row>factor(Cancer):factor(Gender)</th><td> 6          </td><td>2686.24156  </td><td> 0          </td><td>4.552310e-10</td><td>0.000000e+00</td></tr>\n",
       "</tbody>\n",
       "</table>\n"
      ],
      "text/latex": [
       "\\begin{tabular}{r|lllll}\n",
       "  & Df & Deviance & Resid. Df & Resid. Dev & Pr(>Chi)\\\\\n",
       "\\hline\n",
       "\tNULL & NA           &         NA   & 13           & 6.063678e+03 &           NA\\\\\n",
       "\tfactor(Cancer) &  6           & 3281.52408   &  7           & 2.782154e+03 & 0.000000e+00\\\\\n",
       "\tfactor(Gender) &  1           &   95.91194   &  6           & 2.686242e+03 & 1.201088e-22\\\\\n",
       "\tfactor(Cancer):factor(Gender) &  6           & 2686.24156   &  0           & 4.552310e-10 & 0.000000e+00\\\\\n",
       "\\end{tabular}\n"
      ],
      "text/markdown": [
       "\n",
       "| <!--/--> | Df | Deviance | Resid. Df | Resid. Dev | Pr(>Chi) |\n",
       "|---|---|---|---|---|---|\n",
       "| NULL | NA           |         NA   | 13           | 6.063678e+03 |           NA |\n",
       "| factor(Cancer) |  6           | 3281.52408   |  7           | 2.782154e+03 | 0.000000e+00 |\n",
       "| factor(Gender) |  1           |   95.91194   |  6           | 2.686242e+03 | 1.201088e-22 |\n",
       "| factor(Cancer):factor(Gender) |  6           | 2686.24156   |  0           | 4.552310e-10 | 0.000000e+00 |\n",
       "\n"
      ],
      "text/plain": [
       "                              Df Deviance   Resid. Df Resid. Dev   Pr(>Chi)    \n",
       "NULL                          NA         NA 13        6.063678e+03           NA\n",
       "factor(Cancer)                 6 3281.52408  7        2.782154e+03 0.000000e+00\n",
       "factor(Gender)                 1   95.91194  6        2.686242e+03 1.201088e-22\n",
       "factor(Cancer):factor(Gender)  6 2686.24156  0        4.552310e-10 0.000000e+00"
      ]
     },
     "metadata": {},
     "output_type": "display_data"
    }
   ],
   "source": [
    "data(wacancer)\n",
    "str(wacancer)\n",
    "wc.poor <- glm( Counts ~ factor(Cancer)*factor(Gender), data=wacancer, family=poisson )\n",
    "anova( wc.poor, test=\"Chisq\")"
   ]
  },
  {
   "cell_type": "code",
   "execution_count": null,
   "metadata": {},
   "outputs": [],
   "source": [
    "c(Df=df.residual(m1), Resid.Dev=deviance(m1), Pearson.X2=X2)"
   ]
  },
  {
   "cell_type": "code",
   "execution_count": 48,
   "metadata": {},
   "outputs": [
    {
     "data": {
      "image/png": "[encoded data removed]",
      "text/plain": [
       "plot without title"
      ]
     },
     "metadata": {},
     "output_type": "display_data"
    },
    {
     "data": {
      "image/png": "[encoded data removed]",
      "text/plain": [
       "plot without title"
      ]
     },
     "metadata": {},
     "output_type": "display_data"
    }
   ],
   "source": [
    "data(pock)\n",
    "plot( Count ~ jitter(log2(Dilution)), data=pock, las=1,\n",
    "xlab=\"Log (base 2) of dilution\", ylab=\"Pock mark count\")\n",
    "mn <- with(pock, tapply(Count, log2(Dilution), mean) ) # Group means\n",
    "vr <- with(pock, tapply(Count, log2(Dilution), var) ) # Group variances\n",
    "plot( log(vr) ~ log(mn), las=1,\n",
    "xlab=\"Group mean\", ylab=\"Group variance\")"
   ]
  },
  {
   "cell_type": "code",
   "execution_count": 49,
   "metadata": {},
   "outputs": [
    {
     "data": {
      "text/html": [
       "<dl class=dl-horizontal>\n",
       "\t<dt>(Intercept)</dt>\n",
       "\t\t<dd>0.0286116204477591</dd>\n",
       "\t<dt>log(mn)</dt>\n",
       "\t\t<dd>1.44318666258671</dd>\n",
       "</dl>\n"
      ],
      "text/latex": [
       "\\begin{description*}\n",
       "\\item[(Intercept)] 0.0286116204477591\n",
       "\\item[log(mn)] 1.44318666258671\n",
       "\\end{description*}\n"
      ],
      "text/markdown": [
       "(Intercept)\n",
       ":   0.0286116204477591log(mn)\n",
       ":   1.44318666258671\n",
       "\n"
      ],
      "text/plain": [
       "(Intercept)     log(mn) \n",
       " 0.02861162  1.44318666 "
      ]
     },
     "metadata": {},
     "output_type": "display_data"
    }
   ],
   "source": [
    "coef(lm(log(vr)~log(mn)))"
   ]
  },
  {
   "cell_type": "code",
   "execution_count": 50,
   "metadata": {},
   "outputs": [
    {
     "data": {
      "text/html": [
       "<dl class=dl-horizontal>\n",
       "\t<dt>Df</dt>\n",
       "\t\t<dd>46</dd>\n",
       "\t<dt>Resid.Dev</dt>\n",
       "\t\t<dd>290.438698507231</dd>\n",
       "\t<dt>Pearson.X2</dt>\n",
       "\t\t<dd>291.591526488474</dd>\n",
       "</dl>\n"
      ],
      "text/latex": [
       "\\begin{description*}\n",
       "\\item[Df] 46\n",
       "\\item[Resid.Dev] 290.438698507231\n",
       "\\item[Pearson.X2] 291.591526488474\n",
       "\\end{description*}\n"
      ],
      "text/markdown": [
       "Df\n",
       ":   46Resid.Dev\n",
       ":   290.438698507231Pearson.X2\n",
       ":   291.591526488474\n",
       "\n"
      ],
      "text/plain": [
       "        Df  Resid.Dev Pearson.X2 \n",
       "   46.0000   290.4387   291.5915 "
      ]
     },
     "metadata": {},
     "output_type": "display_data"
    }
   ],
   "source": [
    "m1 <- glm( Count ~ log2(Dilution), data=pock, family=poisson )\n",
    "X2 <- sum(residuals(m1, type=\"pearson\")^2)\n",
    "c(Df=df.residual(m1), Resid.Dev=deviance(m1), Pearson.X2=X2)"
   ]
  },
  {
   "cell_type": "code",
   "execution_count": 51,
   "metadata": {},
   "outputs": [
    {
     "data": {
      "text/html": [
       "9.8928942997574"
      ],
      "text/latex": [
       "9.8928942997574"
      ],
      "text/markdown": [
       "9.8928942997574"
      ],
      "text/plain": [
       "[1] 9.892894"
      ]
     },
     "metadata": {},
     "output_type": "display_data"
    }
   ],
   "source": [
    "library(MASS)\n",
    "m.nb <- glm.nb( Count ~ log2(Dilution), data=pock )\n",
    "m.nb$theta"
   ]
  },
  {
   "cell_type": "code",
   "execution_count": 52,
   "metadata": {},
   "outputs": [
    {
     "name": "stdout",
     "output_type": "stream",
     "text": [
      "               Estimate Std. Error z value  Pr(>|z|)    \n",
      "(Intercept)     5.33284    0.08786  60.697 < 2.2e-16 ***\n",
      "log2(Dilution) -0.72460    0.03886 -18.646 < 2.2e-16 ***\n",
      "---\n",
      "Signif. codes:  0 '***' 0.001 '**' 0.01 '*' 0.05 '.' 0.1 ' ' 1\n"
     ]
    }
   ],
   "source": [
    "m.nb <- glm.convert(m.nb)\n",
    "printCoefmat(coef(summary(m.nb, dispersion=1)))"
   ]
  },
  {
   "cell_type": "code",
   "execution_count": 53,
   "metadata": {},
   "outputs": [],
   "source": [
    "m.qp <- glm( Count ~ log2(Dilution), data=pock, family=\"quasipoisson\")"
   ]
  },
  {
   "cell_type": "code",
   "execution_count": 55,
   "metadata": {},
   "outputs": [
    {
     "data": {
      "text/html": [
       "<table>\n",
       "<thead><tr><th></th><th scope=col>Estimate</th><th scope=col>Std. Error</th><th scope=col>t value</th><th scope=col>Pr(&gt;|t|)</th></tr></thead>\n",
       "<tbody>\n",
       "\t<tr><th scope=row>(Intercept)</th><td> 5.2679317  </td><td>0.05677867  </td><td> 92.78012   </td><td>5.709222e-54</td></tr>\n",
       "\t<tr><th scope=row>log2(Dilution)</th><td>-0.6809442  </td><td>0.03888257  </td><td>-17.51284   </td><td>5.627511e-22</td></tr>\n",
       "</tbody>\n",
       "</table>\n"
      ],
      "text/latex": [
       "\\begin{tabular}{r|llll}\n",
       "  & Estimate & Std. Error & t value & Pr(>\\textbar{}t\\textbar{})\\\\\n",
       "\\hline\n",
       "\t(Intercept) &  5.2679317   & 0.05677867   &  92.78012    & 5.709222e-54\\\\\n",
       "\tlog2(Dilution) & -0.6809442   & 0.03888257   & -17.51284    & 5.627511e-22\\\\\n",
       "\\end{tabular}\n"
      ],
      "text/markdown": [
       "\n",
       "| <!--/--> | Estimate | Std. Error | t value | Pr(>|t|) |\n",
       "|---|---|---|---|---|\n",
       "| (Intercept) |  5.2679317   | 0.05677867   |  92.78012    | 5.709222e-54 |\n",
       "| log2(Dilution) | -0.6809442   | 0.03888257   | -17.51284    | 5.627511e-22 |\n",
       "\n"
      ],
      "text/plain": [
       "               Estimate   Std. Error t value   Pr(>|t|)    \n",
       "(Intercept)     5.2679317 0.05677867  92.78012 5.709222e-54\n",
       "log2(Dilution) -0.6809442 0.03888257 -17.51284 5.627511e-22"
      ]
     },
     "metadata": {},
     "output_type": "display_data"
    }
   ],
   "source": [
    "coef(summary(m.qp))"
   ]
  },
  {
   "cell_type": "code",
   "execution_count": 54,
   "metadata": {},
   "outputs": [
    {
     "data": {
      "text/html": [
       "<table>\n",
       "<thead><tr><th></th><th scope=col>SE.Pois</th><th scope=col>SE.Quasi</th><th scope=col>ratio</th></tr></thead>\n",
       "<tbody>\n",
       "\t<tr><th scope=row>(Intercept)</th><td>0.02255150</td><td>0.05677867</td><td>2.517733  </td></tr>\n",
       "\t<tr><th scope=row>log2(Dilution)</th><td>0.01544348</td><td>0.03888257</td><td>2.517733  </td></tr>\n",
       "</tbody>\n",
       "</table>\n"
      ],
      "text/latex": [
       "\\begin{tabular}{r|lll}\n",
       "  & SE.Pois & SE.Quasi & ratio\\\\\n",
       "\\hline\n",
       "\t(Intercept) & 0.02255150 & 0.05677867 & 2.517733  \\\\\n",
       "\tlog2(Dilution) & 0.01544348 & 0.03888257 & 2.517733  \\\\\n",
       "\\end{tabular}\n"
      ],
      "text/markdown": [
       "\n",
       "| <!--/--> | SE.Pois | SE.Quasi | ratio |\n",
       "|---|---|---|---|\n",
       "| (Intercept) | 0.02255150 | 0.05677867 | 2.517733   |\n",
       "| log2(Dilution) | 0.01544348 | 0.03888257 | 2.517733   |\n",
       "\n"
      ],
      "text/plain": [
       "               SE.Pois    SE.Quasi   ratio   \n",
       "(Intercept)    0.02255150 0.05677867 2.517733\n",
       "log2(Dilution) 0.01544348 0.03888257 2.517733"
      ]
     },
     "metadata": {},
     "output_type": "display_data"
    }
   ],
   "source": [
    "se.m1 <- coef(summary(m1))[, \"Std. Error\"]\n",
    "se.qp <- coef(summary(m.qp))[, \"Std. Error\"]\n",
    "data.frame(SE.Pois=se.m1, SE.Quasi=se.qp, ratio=se.qp/se.m1)"
   ]
  },
  {
   "cell_type": "code",
   "execution_count": 59,
   "metadata": {},
   "outputs": [
    {
     "data": {
      "text/html": [
       "2.51773325987766"
      ],
      "text/latex": [
       "2.51773325987766"
      ],
      "text/markdown": [
       "2.51773325987766"
      ],
      "text/plain": [
       "[1] 2.517733"
      ]
     },
     "metadata": {},
     "output_type": "display_data"
    }
   ],
   "source": [
    "sqrt(summary(m.qp)$dispersion)"
   ]
  },
  {
   "cell_type": "code",
   "execution_count": 60,
   "metadata": {},
   "outputs": [
    {
     "name": "stdout",
     "output_type": "stream",
     "text": [
      "'data.frame':\t173 obs. of  5 variables:\n",
      " $ Col  : Factor w/ 4 levels \"D\",\"DM\",\"LM\",..: 4 2 3 2 2 4 3 2 4 2 ...\n",
      " $ Spine: Factor w/ 3 levels \"BothOK\",\"NoneOK\",..: 2 2 1 2 2 2 1 3 1 2 ...\n",
      " $ Width: num  28.3 22.5 26 24.8 26 23.8 26.5 24.7 23.7 25.6 ...\n",
      " $ Sat  : int  8 0 9 0 4 0 0 0 0 0 ...\n",
      " $ Wt   : int  3050 1550 2300 2100 2600 2100 2350 1900 1950 2150 ...\n"
     ]
    }
   ],
   "source": [
    "data(hcrabs); str(hcrabs)"
   ]
  },
  {
   "cell_type": "code",
   "execution_count": 61,
   "metadata": {},
   "outputs": [],
   "source": [
    "hcrabs$Col <- ordered(hcrabs$Col, levels=c(\"LM\", \"M\", \"DM\", \"D\"))"
   ]
  },
  {
   "cell_type": "code",
   "execution_count": 62,
   "metadata": {},
   "outputs": [],
   "source": [
    "hcrabs$Spine <- ordered(hcrabs$Spine,\n",
    "levels=c(\"NoneOK\", \"OneOK\", \"BothOK\"))"
   ]
  },
  {
   "cell_type": "code",
   "execution_count": 63,
   "metadata": {},
   "outputs": [
    {
     "data": {
      "image/png": "[encoded data removed]",
      "text/plain": [
       "plot without title"
      ]
     },
     "metadata": {},
     "output_type": "display_data"
    },
    {
     "data": {
      "image/png": "[encoded data removed]",
      "text/plain": [
       "plot without title"
      ]
     },
     "metadata": {},
     "output_type": "display_data"
    },
    {
     "data": {
      "image/png": "[encoded data removed]",
      "text/plain": [
       "plot without title"
      ]
     },
     "metadata": {},
     "output_type": "display_data"
    },
    {
     "data": {
      "image/png": "[encoded data removed]",
      "text/plain": [
       "plot without title"
      ]
     },
     "metadata": {},
     "output_type": "display_data"
    },
    {
     "data": {
      "image/png": "[encoded data removed]",
      "text/plain": [
       "plot without title"
      ]
     },
     "metadata": {},
     "output_type": "display_data"
    },
    {
     "data": {
      "image/png": "[encoded data removed]",
      "text/plain": [
       "plot without title"
      ]
     },
     "metadata": {},
     "output_type": "display_data"
    }
   ],
   "source": [
    "with(hcrabs,{\n",
    "logSat <- log(Sat+1)\n",
    "plot( jitter(Sat) ~ Wt, ylab=\"Sat\", las=1)\n",
    "plot( jitter(logSat) ~ log(Wt), ylab=\"log(Sat+1)\", las=1)\n",
    "plot( logSat ~ Col, ylab=\"log(Sat+1)\", las=1)\n",
    "plot( jitter(Sat) ~ Width, ylab=\"Sat\", las=1)\n",
    "plot( jitter(logSat) ~ log(Width), ylab=\"log(Sat+1)\", las=1)\n",
    "plot( logSat ~ Spine, ylab=\"log(Sat+1)\", las=1)\n",
    "})"
   ]
  },
  {
   "cell_type": "code",
   "execution_count": 64,
   "metadata": {},
   "outputs": [
    {
     "data": {
      "image/png": "[encoded data removed]",
      "text/plain": [
       "plot without title"
      ]
     },
     "metadata": {},
     "output_type": "display_data"
    },
    {
     "data": {
      "image/png": "[encoded data removed]",
      "text/plain": [
       "plot without title"
      ]
     },
     "metadata": {},
     "output_type": "display_data"
    },
    {
     "data": {
      "image/png": "[encoded data removed]",
      "text/plain": [
       "plot without title"
      ]
     },
     "metadata": {},
     "output_type": "display_data"
    }
   ],
   "source": [
    "with(hcrabs,{\n",
    "plot( log(Wt) ~ log(Width), las=1 )\n",
    "plot( log(Wt) ~ Col, las=1 )\n",
    "plot( log(Wt) ~ Spine, las=1 )\n",
    "})"
   ]
  },
  {
   "cell_type": "code",
   "execution_count": 65,
   "metadata": {},
   "outputs": [
    {
     "data": {
      "text/html": [
       "<dl class=dl-horizontal>\n",
       "\t<dt>(Intercept)</dt>\n",
       "\t\t<dd>-0.600416144589219</dd>\n",
       "\t<dt>log(Width)</dt>\n",
       "\t\t<dd>2.56292975558264</dd>\n",
       "</dl>\n"
      ],
      "text/latex": [
       "\\begin{description*}\n",
       "\\item[(Intercept)] -0.600416144589219\n",
       "\\item[log(Width)] 2.56292975558264\n",
       "\\end{description*}\n"
      ],
      "text/markdown": [
       "(Intercept)\n",
       ":   -0.600416144589219log(Width)\n",
       ":   2.56292975558264\n",
       "\n"
      ],
      "text/plain": [
       "(Intercept)  log(Width) \n",
       " -0.6004161   2.5629298 "
      ]
     },
     "metadata": {},
     "output_type": "display_data"
    }
   ],
   "source": [
    "coef(lm( log(Wt) ~ log(Width), data=hcrabs ))"
   ]
  },
  {
   "cell_type": "code",
   "execution_count": 66,
   "metadata": {},
   "outputs": [],
   "source": [
    "cr.m1 <- glm(Sat ~ log(Wt) + log(Width) + Spine + Col,\n",
    "family=quasipoisson, data=hcrabs)"
   ]
  },
  {
   "cell_type": "code",
   "execution_count": 67,
   "metadata": {},
   "outputs": [
    {
     "data": {
      "text/html": [
       "<table>\n",
       "<thead><tr><th></th><th scope=col>Df</th><th scope=col>Deviance</th><th scope=col>Resid. Df</th><th scope=col>Resid. Dev</th><th scope=col>F</th><th scope=col>Pr(&gt;F)</th></tr></thead>\n",
       "<tbody>\n",
       "\t<tr><th scope=row>NULL</th><td>NA          </td><td>          NA</td><td>172         </td><td>632.7917    </td><td>          NA</td><td>          NA</td></tr>\n",
       "\t<tr><th scope=row>log(Wt)</th><td> 1          </td><td>83.083730337</td><td>171         </td><td>549.7079    </td><td>25.964483670</td><td>9.428851e-07</td></tr>\n",
       "\t<tr><th scope=row>log(Width)</th><td> 1          </td><td> 0.007263961</td><td>170         </td><td>549.7007    </td><td> 0.002270059</td><td>9.620567e-01</td></tr>\n",
       "\t<tr><th scope=row>Spine</th><td> 2          </td><td> 1.125142390</td><td>168         </td><td>548.5755    </td><td> 0.175809037</td><td>8.389351e-01</td></tr>\n",
       "\t<tr><th scope=row>Col</th><td> 3          </td><td> 7.629511584</td><td>165         </td><td>540.9460    </td><td> 0.794765827</td><td>4.984213e-01</td></tr>\n",
       "</tbody>\n",
       "</table>\n"
      ],
      "text/latex": [
       "\\begin{tabular}{r|llllll}\n",
       "  & Df & Deviance & Resid. Df & Resid. Dev & F & Pr(>F)\\\\\n",
       "\\hline\n",
       "\tNULL & NA           &           NA & 172          & 632.7917     &           NA &           NA\\\\\n",
       "\tlog(Wt) &  1           & 83.083730337 & 171          & 549.7079     & 25.964483670 & 9.428851e-07\\\\\n",
       "\tlog(Width) &  1           &  0.007263961 & 170          & 549.7007     &  0.002270059 & 9.620567e-01\\\\\n",
       "\tSpine &  2           &  1.125142390 & 168          & 548.5755     &  0.175809037 & 8.389351e-01\\\\\n",
       "\tCol &  3           &  7.629511584 & 165          & 540.9460     &  0.794765827 & 4.984213e-01\\\\\n",
       "\\end{tabular}\n"
      ],
      "text/markdown": [
       "\n",
       "| <!--/--> | Df | Deviance | Resid. Df | Resid. Dev | F | Pr(>F) |\n",
       "|---|---|---|---|---|---|---|\n",
       "| NULL | NA           |           NA | 172          | 632.7917     |           NA |           NA |\n",
       "| log(Wt) |  1           | 83.083730337 | 171          | 549.7079     | 25.964483670 | 9.428851e-07 |\n",
       "| log(Width) |  1           |  0.007263961 | 170          | 549.7007     |  0.002270059 | 9.620567e-01 |\n",
       "| Spine |  2           |  1.125142390 | 168          | 548.5755     |  0.175809037 | 8.389351e-01 |\n",
       "| Col |  3           |  7.629511584 | 165          | 540.9460     |  0.794765827 | 4.984213e-01 |\n",
       "\n"
      ],
      "text/plain": [
       "           Df Deviance     Resid. Df Resid. Dev F            Pr(>F)      \n",
       "NULL       NA           NA 172       632.7917             NA           NA\n",
       "log(Wt)     1 83.083730337 171       549.7079   25.964483670 9.428851e-07\n",
       "log(Width)  1  0.007263961 170       549.7007    0.002270059 9.620567e-01\n",
       "Spine       2  1.125142390 168       548.5755    0.175809037 8.389351e-01\n",
       "Col         3  7.629511584 165       540.9460    0.794765827 4.984213e-01"
      ]
     },
     "metadata": {},
     "output_type": "display_data"
    }
   ],
   "source": [
    "anova(cr.m1, test=\"F\")"
   ]
  },
  {
   "cell_type": "code",
   "execution_count": 68,
   "metadata": {},
   "outputs": [
    {
     "data": {
      "text/html": [
       "3.27846067228835"
      ],
      "text/latex": [
       "3.27846067228835"
      ],
      "text/markdown": [
       "3.27846067228835"
      ],
      "text/plain": [
       "[1] 3.278461"
      ]
     },
     "metadata": {},
     "output_type": "display_data"
    },
    {
     "data": {
      "text/html": [
       "3.19989919277523"
      ],
      "text/latex": [
       "3.19989919277523"
      ],
      "text/markdown": [
       "3.19989919277523"
      ],
      "text/plain": [
       "[1] 3.199899"
      ]
     },
     "metadata": {},
     "output_type": "display_data"
    },
    {
     "data": {
      "text/html": [
       "3.1998954045777"
      ],
      "text/latex": [
       "3.1998954045777"
      ],
      "text/markdown": [
       "3.1998954045777"
      ],
      "text/plain": [
       "[1] 3.199895"
      ]
     },
     "metadata": {},
     "output_type": "display_data"
    }
   ],
   "source": [
    "deviance(cr.m1) / df.residual(cr.m1)\n",
    "sum(cr.m1$weights * cr.m1$residuals^2) / df.residual(cr.m1)\n",
    "sum(resid(cr.m1, type=\"pearson\")^2) / df.residual(cr.m1)"
   ]
  },
  {
   "cell_type": "code",
   "execution_count": 69,
   "metadata": {},
   "outputs": [],
   "source": [
    "cr.m2 <- glm(Sat ~ log(Wt), family=quasipoisson, data=hcrabs)"
   ]
  },
  {
   "cell_type": "code",
   "execution_count": 74,
   "metadata": {},
   "outputs": [
    {
     "data": {
      "text/html": [
       "549.707928863346"
      ],
      "text/latex": [
       "549.707928863346"
      ],
      "text/markdown": [
       "549.707928863346"
      ],
      "text/plain": [
       "[1] 549.7079"
      ]
     },
     "metadata": {},
     "output_type": "display_data"
    },
    {
     "data": {
      "text/html": [
       "2.57423393990301e-41"
      ],
      "text/latex": [
       "2.57423393990301e-41"
      ],
      "text/markdown": [
       "2.57423393990301e-41"
      ],
      "text/plain": [
       "[1] 2.574234e-41"
      ]
     },
     "metadata": {},
     "output_type": "display_data"
    }
   ],
   "source": [
    "deviance(cr.m2)\n",
    "pchisq(deviance(cr.m2), df=df.residual(cr.m2), lower.tail = FALSE)"
   ]
  },
  {
   "cell_type": "code",
   "execution_count": 70,
   "metadata": {},
   "outputs": [
    {
     "name": "stdout",
     "output_type": "stream",
     "text": [
      "            Estimate Std. Error t value Pr(>|t|)    \n",
      "(Intercept)  -12.568      2.664   -4.72  4.9e-06 ***\n",
      "log(Wt)        1.744      0.339    5.15  7.0e-07 ***\n",
      "---\n",
      "Signif. codes:  0 '***' 0.001 '**' 0.01 '*' 0.05 '.' 0.1 ' ' 1\n"
     ]
    }
   ],
   "source": [
    "printCoefmat(coef(summary(cr.m2)), digits=3)"
   ]
  },
  {
   "cell_type": "code",
   "execution_count": 72,
   "metadata": {},
   "outputs": [
    {
     "data": {
      "text/html": [
       "<dl class=dl-horizontal>\n",
       "\t<dt>Mean.Dev</dt>\n",
       "\t\t<dd>188.241531656106</dd>\n",
       "\t<dt>Std.Dev</dt>\n",
       "\t\t<dd>20.0302426759142</dd>\n",
       "</dl>\n"
      ],
      "text/latex": [
       "\\begin{description*}\n",
       "\\item[Mean.Dev] 188.241531656106\n",
       "\\item[Std.Dev] 20.0302426759142\n",
       "\\end{description*}\n"
      ],
      "text/markdown": [
       "Mean.Dev\n",
       ":   188.241531656106Std.Dev\n",
       ":   20.0302426759142\n",
       "\n"
      ],
      "text/plain": [
       " Mean.Dev   Std.Dev \n",
       "188.24153  20.03024 "
      ]
     },
     "metadata": {},
     "output_type": "display_data"
    }
   ],
   "source": [
    "x <- log(hcrabs$Wt); dev <- rep(NA, 100)\n",
    "n <- length(hcrabs$Sat); mu <- fitted(cr.m2)\n",
    "for (i in 1:100) {\n",
    "y <- rpois(n, lambda=mu) # Generate random Poisson values\n",
    "dev[i] <- glm(y~x, family=quasipoisson)$deviance\n",
    "}\n",
    "c(Mean.Dev=mean(dev), Std.Dev=sd(dev))"
   ]
  },
  {
   "cell_type": "code",
   "execution_count": 75,
   "metadata": {},
   "outputs": [
    {
     "data": {
      "image/png": "[encoded data removed]",
      "text/plain": [
       "Plot with title \"Deviance residuals\""
      ]
     },
     "metadata": {},
     "output_type": "display_data"
    },
    {
     "data": {
      "image/png": "[encoded data removed]",
      "text/plain": [
       "Plot with title \"Cook's distance\""
      ]
     },
     "metadata": {},
     "output_type": "display_data"
    },
    {
     "data": {
      "image/png": "[encoded data removed]",
      "text/plain": [
       "Plot with title \"Normal Q-Q plot\n",
       "deviance residuals\""
      ]
     },
     "metadata": {},
     "output_type": "display_data"
    }
   ],
   "source": [
    "plot( resid(cr.m2) ~ sqrt(fitted(cr.m2)), las=1,\n",
    "main=\"Deviance residuals\", ylab=\"Deviance residuals\",\n",
    "xlab=\"Square root of fitted values\" )\n",
    "plot( cooks.distance(cr.m2), type=\"h\", las=1,\n",
    "ylab=\"Cook's distance, D\", main=\"Cook's distance\")\n",
    "qqnorm( resid(cr.m2), las=1,\n",
    "main=\"Normal Q-Q plot\\ndeviance residuals\")\n",
    "qqline( resid(cr.m2))"
   ]
  },
  {
   "cell_type": "code",
   "execution_count": 76,
   "metadata": {},
   "outputs": [
    {
     "data": {
      "text/html": [
       "<dl class=dl-horizontal>\n",
       "\t<dt>dfb.1_</dt>\n",
       "\t\t<dd>0</dd>\n",
       "\t<dt>dfb.l(W)</dt>\n",
       "\t\t<dd>0</dd>\n",
       "\t<dt>dffit</dt>\n",
       "\t\t<dd>1</dd>\n",
       "\t<dt>cov.r</dt>\n",
       "\t\t<dd>8</dd>\n",
       "\t<dt>cook.d</dt>\n",
       "\t\t<dd>0</dd>\n",
       "\t<dt>hat</dt>\n",
       "\t\t<dd>3</dd>\n",
       "</dl>\n"
      ],
      "text/latex": [
       "\\begin{description*}\n",
       "\\item[dfb.1\\textbackslash{}\\_] 0\n",
       "\\item[dfb.l(W)] 0\n",
       "\\item[dffit] 1\n",
       "\\item[cov.r] 8\n",
       "\\item[cook.d] 0\n",
       "\\item[hat] 3\n",
       "\\end{description*}\n"
      ],
      "text/markdown": [
       "dfb.1_\n",
       ":   0dfb.l(W)\n",
       ":   0dffit\n",
       ":   1cov.r\n",
       ":   8cook.d\n",
       ":   0hat\n",
       ":   3\n",
       "\n"
      ],
      "text/plain": [
       "  dfb.1_ dfb.l(W)    dffit    cov.r   cook.d      hat \n",
       "       0        0        1        8        0        3 "
      ]
     },
     "metadata": {},
     "output_type": "display_data"
    }
   ],
   "source": [
    "colSums( influence.measures(cr.m2)$is.inf )"
   ]
  },
  {
   "cell_type": "code",
   "execution_count": 79,
   "metadata": {},
   "outputs": [
    {
     "data": {
      "text/html": [
       "<table>\n",
       "<thead><tr><th></th><th scope=col>Df</th><th scope=col>Deviance</th><th scope=col>Resid. Df</th><th scope=col>Resid. Dev</th><th scope=col>Pr(&gt;Chi)</th></tr></thead>\n",
       "<tbody>\n",
       "\t<tr><th scope=row>NULL</th><td>NA          </td><td>      NA    </td><td>172         </td><td>219.8090    </td><td>          NA</td></tr>\n",
       "\t<tr><th scope=row>log(Wt)</th><td> 1          </td><td>23.33911    </td><td>171         </td><td>196.4698    </td><td>1.358102e-06</td></tr>\n",
       "</tbody>\n",
       "</table>\n"
      ],
      "text/latex": [
       "\\begin{tabular}{r|lllll}\n",
       "  & Df & Deviance & Resid. Df & Resid. Dev & Pr(>Chi)\\\\\n",
       "\\hline\n",
       "\tNULL & NA           &       NA     & 172          & 219.8090     &           NA\\\\\n",
       "\tlog(Wt) &  1           & 23.33911     & 171          & 196.4698     & 1.358102e-06\\\\\n",
       "\\end{tabular}\n"
      ],
      "text/markdown": [
       "\n",
       "| <!--/--> | Df | Deviance | Resid. Df | Resid. Dev | Pr(>Chi) |\n",
       "|---|---|---|---|---|---|\n",
       "| NULL | NA           |       NA     | 172          | 219.8090     |           NA |\n",
       "| log(Wt) |  1           | 23.33911     | 171          | 196.4698     | 1.358102e-06 |\n",
       "\n"
      ],
      "text/plain": [
       "        Df Deviance Resid. Df Resid. Dev Pr(>Chi)    \n",
       "NULL    NA       NA 172       219.8090             NA\n",
       "log(Wt)  1 23.33911 171       196.4698   1.358102e-06"
      ]
     },
     "metadata": {},
     "output_type": "display_data"
    }
   ],
   "source": [
    "cr.nb <- glm.nb(Sat ~ log(Wt), data=hcrabs)\n",
    "cr.nb <- glm.convert(cr.nb)\n",
    "anova(cr.nb, dispersion=1, test=\"Chisq\")"
   ]
  },
  {
   "cell_type": "code",
   "execution_count": 80,
   "metadata": {},
   "outputs": [
    {
     "name": "stdout",
     "output_type": "stream",
     "text": [
      "             Estimate Std. Error z value  Pr(>|z|)    \n",
      "(Intercept) -14.55581    3.10909 -4.6817 2.845e-06 ***\n",
      "log(Wt)       1.99862    0.39839  5.0168 5.254e-07 ***\n",
      "---\n",
      "Signif. codes:  0 '***' 0.001 '**' 0.01 '*' 0.05 '.' 0.1 ' ' 1\n"
     ]
    }
   ],
   "source": [
    "printCoefmat(coef(summary(cr.nb, dispersion=1)))"
   ]
  },
  {
   "cell_type": "code",
   "execution_count": 81,
   "metadata": {},
   "outputs": [
    {
     "data": {
      "text/html": [
       "0.958028601952769"
      ],
      "text/latex": [
       "0.958028601952769"
      ],
      "text/markdown": [
       "0.958028601952769"
      ],
      "text/plain": [
       "[1] 0.9580286"
      ]
     },
     "metadata": {},
     "output_type": "display_data"
    }
   ],
   "source": [
    "cr.nb$theta"
   ]
  },
  {
   "cell_type": "code",
   "execution_count": 82,
   "metadata": {},
   "outputs": [
    {
     "data": {
      "text/html": [
       "<dl class=dl-horizontal>\n",
       "\t<dt>dfb.1_</dt>\n",
       "\t\t<dd>0</dd>\n",
       "\t<dt>dfb.l(W)</dt>\n",
       "\t\t<dd>0</dd>\n",
       "\t<dt>dffit</dt>\n",
       "\t\t<dd>0</dd>\n",
       "\t<dt>cov.r</dt>\n",
       "\t\t<dd>6</dd>\n",
       "\t<dt>cook.d</dt>\n",
       "\t\t<dd>0</dd>\n",
       "\t<dt>hat</dt>\n",
       "\t\t<dd>3</dd>\n",
       "</dl>\n"
      ],
      "text/latex": [
       "\\begin{description*}\n",
       "\\item[dfb.1\\textbackslash{}\\_] 0\n",
       "\\item[dfb.l(W)] 0\n",
       "\\item[dffit] 0\n",
       "\\item[cov.r] 6\n",
       "\\item[cook.d] 0\n",
       "\\item[hat] 3\n",
       "\\end{description*}\n"
      ],
      "text/markdown": [
       "dfb.1_\n",
       ":   0dfb.l(W)\n",
       ":   0dffit\n",
       ":   0cov.r\n",
       ":   6cook.d\n",
       ":   0hat\n",
       ":   3\n",
       "\n"
      ],
      "text/plain": [
       "  dfb.1_ dfb.l(W)    dffit    cov.r   cook.d      hat \n",
       "       0        0        0        6        0        3 "
      ]
     },
     "metadata": {},
     "output_type": "display_data"
    }
   ],
   "source": [
    "colSums( influence.measures(cr.nb)$is.inf )"
   ]
  },
  {
   "cell_type": "code",
   "execution_count": 83,
   "metadata": {},
   "outputs": [],
   "source": [
    "newW <- seq( min(hcrabs$Wt), max(hcrabs$Wt), length=100)\n",
    "newS.qp <- predict(cr.m2, newdata=data.frame(Wt=newW), se.fit=TRUE)\n",
    "newS.nb <- predict(cr.nb, newdata=data.frame(Wt=newW), se.fit=TRUE,\n",
    "dispersion=1)\n",
    "tstar <- qt(0.975, df=df.residual(cr.m2) ) # For a 95% CI\n",
    "ME.qp <- tstar * newS.qp$se.fit; ME.nb <- tstar * newS.nb$se.fit\n",
    "mu.qp <- newS.qp$fit; mu.nb <- newS.nb$fit"
   ]
  },
  {
   "cell_type": "code",
   "execution_count": 84,
   "metadata": {},
   "outputs": [
    {
     "data": {
      "image/png": "[encoded data removed]",
      "text/plain": [
       "Plot with title \"CIs for fitted values\""
      ]
     },
     "metadata": {},
     "output_type": "display_data"
    }
   ],
   "source": [
    "par( mfrow=c(1, 2))\n",
    "plot( Sat~log(Wt), data=hcrabs, las=1, main=\"Fitted models\")\n",
    "lines( exp(mu.qp) ~ log(newW), lwd=2 )\n",
    "lines( exp(mu.nb) ~ log(newW), lwd=2, lty=2 );\n",
    "legend(\"topleft\", lty=1:2, legend=c(\"Quasi-poisson\", \"Neg. binomial\") )\n",
    "#\n",
    "plot( Sat~log(Wt), data=hcrabs, las=1, main=\"CIs for fitted values\")\n",
    "ci.lo <- exp(mu.qp - ME.qp); ci.hi <- exp(mu.qp + ME.qp)\n",
    "lines( ci.lo ~ log(newW), lwd=2); lines( ci.hi ~ log(newW), lwd=2)\n",
    "ci.lo <- exp(mu.nb - ME.nb); ci.hi <- exp(mu.nb + ME.nb)\n",
    "lines( ci.lo ~ log(newW), lwd=2, lty=2)\n",
    "lines( ci.hi ~ log(newW), lwd=2, lty=2)\n",
    "legend(\"topleft\", lty=1:2, legend=c(\"Quasi-poisson\", \"Neg. binomial\") )"
   ]
  }
 ],
 "metadata": {
  "kernelspec": {
   "display_name": "R",
   "language": "R",
   "name": "ir"
  },
  "language_info": {
   "codemirror_mode": "r",
   "file_extension": ".r",
   "mimetype": "text/x-r-source",
   "name": "R",
   "pygments_lexer": "r",
   "version": "3.6.1"
  },
  "orig_nbformat": 4
 },
 "nbformat": 4,
 "nbformat_minor": 2
}
