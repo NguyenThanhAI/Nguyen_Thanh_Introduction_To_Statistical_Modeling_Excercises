{
 "cells": [
  {
   "cell_type": "markdown",
   "metadata": {},
   "source": [
    "$\\begin{cases} y_1 \\sim Poi(\\mu_i) \\\\ \\eta = 1.05 \\log(B)  - 8.61 S_{route} - 8.18 S_{no_route} - 8.43 S_{policy} -0.11 C + 0.046 U +0.039 A\\end{cases}$"
   ]
  },
  {
   "cell_type": "code",
   "execution_count": 1,
   "metadata": {},
   "outputs": [
    {
     "data": {
      "text/html": [
       "0.00187850822174912"
      ],
      "text/latex": [
       "0.00187850822174912"
      ],
      "text/markdown": [
       "0.00187850822174912"
      ],
      "text/plain": [
       "[1] 0.001878508"
      ]
     },
     "metadata": {},
     "output_type": "display_data"
    }
   ],
   "source": [
    "pchisq(256.03, df=194, lower.tail = FALSE)"
   ]
  }
 ],
 "metadata": {
  "kernelspec": {
   "display_name": "R",
   "language": "R",
   "name": "ir"
  },
  "language_info": {
   "codemirror_mode": "r",
   "file_extension": ".r",
   "mimetype": "text/x-r-source",
   "name": "R",
   "pygments_lexer": "r",
   "version": "3.6.1"
  },
  "orig_nbformat": 4
 },
 "nbformat": 4,
 "nbformat_minor": 2
}
