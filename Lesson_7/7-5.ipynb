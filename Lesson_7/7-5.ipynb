{
 "cells": [
  {
   "cell_type": "code",
   "execution_count": 10,
   "metadata": {},
   "outputs": [
    {
     "name": "stderr",
     "output_type": "stream",
     "text": [
      "Warning message:\n",
      "\"package 'statmod' was built under R version 3.6.3\""
     ]
    }
   ],
   "source": [
    "library(GLMsData)\n",
    "library(statmod)"
   ]
  },
  {
   "cell_type": "code",
   "execution_count": 2,
   "metadata": {},
   "outputs": [],
   "source": [
    "data(nambeware)"
   ]
  },
  {
   "cell_type": "code",
   "execution_count": 3,
   "metadata": {},
   "outputs": [
    {
     "name": "stdout",
     "output_type": "stream",
     "text": [
      "'data.frame':\t59 obs. of  4 variables:\n",
      " $ Type : Factor w/ 5 levels \"Bowl\",\"CassDish\",..: 2 2 2 1 3 2 5 5 3 3 ...\n",
      " $ Diam : num  10.7 14 9 8 10 10.5 16 15 6.5 5 ...\n",
      " $ Time : num  47.6 63.1 58.8 34.9 55.5 ...\n",
      " $ Price: num  144 215 105 69 134 129 155 99 38.5 36.5 ...\n"
     ]
    }
   ],
   "source": [
    "str(nambeware)"
   ]
  },
  {
   "cell_type": "code",
   "execution_count": 4,
   "metadata": {},
   "outputs": [
    {
     "data": {
      "text/html": [
       "<table>\n",
       "<thead><tr><th scope=col>Type</th><th scope=col>Diam</th><th scope=col>Time</th><th scope=col>Price</th></tr></thead>\n",
       "<tbody>\n",
       "\t<tr><td>CassDish</td><td>10.7    </td><td> 47.65  </td><td>144.0   </td></tr>\n",
       "\t<tr><td>CassDish</td><td>14.0    </td><td> 63.13  </td><td>215.0   </td></tr>\n",
       "\t<tr><td>CassDish</td><td> 9.0    </td><td> 58.76  </td><td>105.0   </td></tr>\n",
       "\t<tr><td>Bowl    </td><td> 8.0    </td><td> 34.88  </td><td> 69.0   </td></tr>\n",
       "\t<tr><td>Dish    </td><td>10.0    </td><td> 55.53  </td><td>134.0   </td></tr>\n",
       "\t<tr><td>CassDish</td><td>10.5    </td><td> 43.14  </td><td>129.0   </td></tr>\n",
       "\t<tr><td>Tray    </td><td>16.0    </td><td> 54.86  </td><td>155.0   </td></tr>\n",
       "\t<tr><td>Tray    </td><td>15.0    </td><td> 44.14  </td><td> 99.0   </td></tr>\n",
       "\t<tr><td>Dish    </td><td> 6.5    </td><td> 17.46  </td><td> 38.5   </td></tr>\n",
       "\t<tr><td>Dish    </td><td> 5.0    </td><td> 21.04  </td><td> 36.5   </td></tr>\n",
       "\t<tr><td>Tray    </td><td>25.0    </td><td>109.38  </td><td>260.0   </td></tr>\n",
       "\t<tr><td>Bowl    </td><td>10.4    </td><td> 17.67  </td><td> 54.0   </td></tr>\n",
       "\t<tr><td>Bowl    </td><td> 7.4    </td><td> 16.41  </td><td> 39.0   </td></tr>\n",
       "\t<tr><td>Bowl    </td><td> 5.4    </td><td> 12.02  </td><td> 29.5   </td></tr>\n",
       "\t<tr><td>CassDish</td><td>15.4    </td><td> 49.48  </td><td>109.0   </td></tr>\n",
       "\t<tr><td>CassDish</td><td>12.4    </td><td> 48.74  </td><td> 89.5   </td></tr>\n",
       "\t<tr><td>Bowl    </td><td> 6.0    </td><td> 23.21  </td><td> 42.0   </td></tr>\n",
       "\t<tr><td>Bowl    </td><td> 9.0    </td><td> 28.64  </td><td> 65.0   </td></tr>\n",
       "\t<tr><td>Bowl    </td><td> 9.0    </td><td> 44.95  </td><td>115.0   </td></tr>\n",
       "\t<tr><td>Plate   </td><td>12.4    </td><td> 23.77  </td><td> 49.5   </td></tr>\n",
       "\t<tr><td>Bowl    </td><td> 7.5    </td><td> 20.21  </td><td> 36.5   </td></tr>\n",
       "\t<tr><td>Bowl    </td><td>14.0    </td><td> 32.62  </td><td>109.0   </td></tr>\n",
       "\t<tr><td>Bowl    </td><td> 7.0    </td><td> 17.84  </td><td> 45.0   </td></tr>\n",
       "\t<tr><td>Bowl    </td><td> 9.0    </td><td> 22.82  </td><td> 58.0   </td></tr>\n",
       "\t<tr><td>Bowl    </td><td>12.0    </td><td> 29.48  </td><td> 89.0   </td></tr>\n",
       "\t<tr><td>Bowl    </td><td> 5.5    </td><td> 15.61  </td><td> 30.0   </td></tr>\n",
       "\t<tr><td>Bowl    </td><td> 6.0    </td><td> 13.25  </td><td> 31.0   </td></tr>\n",
       "\t<tr><td>Bowl    </td><td>12.0    </td><td> 45.78  </td><td>119.0   </td></tr>\n",
       "\t<tr><td>Tray    </td><td> 5.5    </td><td> 26.53  </td><td> 22.0   </td></tr>\n",
       "\t<tr><td>Bowl    </td><td>14.2    </td><td> 37.11  </td><td>109.0   </td></tr>\n",
       "\t<tr><td>Dish    </td><td>11.0    </td><td> 45.12  </td><td> 99.0   </td></tr>\n",
       "\t<tr><td>Plate   </td><td>16.0    </td><td> 26.09  </td><td> 99.0   </td></tr>\n",
       "\t<tr><td>CassDish</td><td>13.5    </td><td> 68.63  </td><td>179.0   </td></tr>\n",
       "\t<tr><td>Dish    </td><td>11.1    </td><td> 33.71  </td><td> 99.0   </td></tr>\n",
       "\t<tr><td>Dish    </td><td> 9.8    </td><td> 44.45  </td><td> 89.0   </td></tr>\n",
       "\t<tr><td>Bowl    </td><td>10.0    </td><td> 23.74  </td><td> 75.0   </td></tr>\n",
       "\t<tr><td>CassDish</td><td>13.0    </td><td> 86.42  </td><td>199.0   </td></tr>\n",
       "\t<tr><td>Bowl    </td><td>13.0    </td><td> 39.71  </td><td> 93.0   </td></tr>\n",
       "\t<tr><td>Plate   </td><td>11.7    </td><td> 26.52  </td><td> 65.0   </td></tr>\n",
       "\t<tr><td>Tray    </td><td>12.3    </td><td> 33.89  </td><td> 74.0   </td></tr>\n",
       "\t<tr><td>Tray    </td><td>19.5    </td><td> 64.30  </td><td>165.0   </td></tr>\n",
       "\t<tr><td>Bowl    </td><td>15.2    </td><td> 22.55  </td><td> 99.0   </td></tr>\n",
       "\t<tr><td>Plate   </td><td>10.0    </td><td> 31.86  </td><td> 43.5   </td></tr>\n",
       "\t<tr><td>Bowl    </td><td>11.0    </td><td> 53.18  </td><td> 94.0   </td></tr>\n",
       "\t<tr><td>Tray    </td><td>17.8    </td><td> 74.48  </td><td>189.0   </td></tr>\n",
       "\t<tr><td>Tray    </td><td>11.5    </td><td> 34.16  </td><td> 75.0   </td></tr>\n",
       "\t<tr><td>Tray    </td><td>12.7    </td><td> 31.46  </td><td> 59.5   </td></tr>\n",
       "\t<tr><td>Bowl    </td><td> 8.0    </td><td> 21.34  </td><td> 42.0   </td></tr>\n",
       "\t<tr><td>Tray    </td><td> 7.5    </td><td> 20.83  </td><td> 23.0   </td></tr>\n",
       "\t<tr><td>Bowl    </td><td> 9.0    </td><td> 20.59  </td><td> 52.5   </td></tr>\n",
       "\t<tr><td>CassDish</td><td>14.0    </td><td> 33.70  </td><td> 99.0   </td></tr>\n",
       "\t<tr><td>CassDish</td><td>12.4    </td><td> 32.90  </td><td> 89.0   </td></tr>\n",
       "\t<tr><td>Dish    </td><td> 8.8    </td><td> 27.76  </td><td> 65.0   </td></tr>\n",
       "\t<tr><td>Bowl    </td><td> 8.5    </td><td> 30.20  </td><td> 54.5   </td></tr>\n",
       "\t<tr><td>Plate   </td><td> 6.0    </td><td> 20.85  </td><td> 24.5   </td></tr>\n",
       "\t<tr><td>Plate   </td><td>11.0    </td><td> 26.25  </td><td> 52.0   </td></tr>\n",
       "\t<tr><td>Plate   </td><td>11.1    </td><td> 21.87  </td><td> 62.5   </td></tr>\n",
       "\t<tr><td>Plate   </td><td>14.5    </td><td> 23.88  </td><td> 89.0   </td></tr>\n",
       "\t<tr><td>Plate   </td><td> 5.0    </td><td> 16.66  </td><td> 21.5   </td></tr>\n",
       "</tbody>\n",
       "</table>\n"
      ],
      "text/latex": [
       "\\begin{tabular}{r|llll}\n",
       " Type & Diam & Time & Price\\\\\n",
       "\\hline\n",
       "\t CassDish & 10.7     &  47.65   & 144.0   \\\\\n",
       "\t CassDish & 14.0     &  63.13   & 215.0   \\\\\n",
       "\t CassDish &  9.0     &  58.76   & 105.0   \\\\\n",
       "\t Bowl     &  8.0     &  34.88   &  69.0   \\\\\n",
       "\t Dish     & 10.0     &  55.53   & 134.0   \\\\\n",
       "\t CassDish & 10.5     &  43.14   & 129.0   \\\\\n",
       "\t Tray     & 16.0     &  54.86   & 155.0   \\\\\n",
       "\t Tray     & 15.0     &  44.14   &  99.0   \\\\\n",
       "\t Dish     &  6.5     &  17.46   &  38.5   \\\\\n",
       "\t Dish     &  5.0     &  21.04   &  36.5   \\\\\n",
       "\t Tray     & 25.0     & 109.38   & 260.0   \\\\\n",
       "\t Bowl     & 10.4     &  17.67   &  54.0   \\\\\n",
       "\t Bowl     &  7.4     &  16.41   &  39.0   \\\\\n",
       "\t Bowl     &  5.4     &  12.02   &  29.5   \\\\\n",
       "\t CassDish & 15.4     &  49.48   & 109.0   \\\\\n",
       "\t CassDish & 12.4     &  48.74   &  89.5   \\\\\n",
       "\t Bowl     &  6.0     &  23.21   &  42.0   \\\\\n",
       "\t Bowl     &  9.0     &  28.64   &  65.0   \\\\\n",
       "\t Bowl     &  9.0     &  44.95   & 115.0   \\\\\n",
       "\t Plate    & 12.4     &  23.77   &  49.5   \\\\\n",
       "\t Bowl     &  7.5     &  20.21   &  36.5   \\\\\n",
       "\t Bowl     & 14.0     &  32.62   & 109.0   \\\\\n",
       "\t Bowl     &  7.0     &  17.84   &  45.0   \\\\\n",
       "\t Bowl     &  9.0     &  22.82   &  58.0   \\\\\n",
       "\t Bowl     & 12.0     &  29.48   &  89.0   \\\\\n",
       "\t Bowl     &  5.5     &  15.61   &  30.0   \\\\\n",
       "\t Bowl     &  6.0     &  13.25   &  31.0   \\\\\n",
       "\t Bowl     & 12.0     &  45.78   & 119.0   \\\\\n",
       "\t Tray     &  5.5     &  26.53   &  22.0   \\\\\n",
       "\t Bowl     & 14.2     &  37.11   & 109.0   \\\\\n",
       "\t Dish     & 11.0     &  45.12   &  99.0   \\\\\n",
       "\t Plate    & 16.0     &  26.09   &  99.0   \\\\\n",
       "\t CassDish & 13.5     &  68.63   & 179.0   \\\\\n",
       "\t Dish     & 11.1     &  33.71   &  99.0   \\\\\n",
       "\t Dish     &  9.8     &  44.45   &  89.0   \\\\\n",
       "\t Bowl     & 10.0     &  23.74   &  75.0   \\\\\n",
       "\t CassDish & 13.0     &  86.42   & 199.0   \\\\\n",
       "\t Bowl     & 13.0     &  39.71   &  93.0   \\\\\n",
       "\t Plate    & 11.7     &  26.52   &  65.0   \\\\\n",
       "\t Tray     & 12.3     &  33.89   &  74.0   \\\\\n",
       "\t Tray     & 19.5     &  64.30   & 165.0   \\\\\n",
       "\t Bowl     & 15.2     &  22.55   &  99.0   \\\\\n",
       "\t Plate    & 10.0     &  31.86   &  43.5   \\\\\n",
       "\t Bowl     & 11.0     &  53.18   &  94.0   \\\\\n",
       "\t Tray     & 17.8     &  74.48   & 189.0   \\\\\n",
       "\t Tray     & 11.5     &  34.16   &  75.0   \\\\\n",
       "\t Tray     & 12.7     &  31.46   &  59.5   \\\\\n",
       "\t Bowl     &  8.0     &  21.34   &  42.0   \\\\\n",
       "\t Tray     &  7.5     &  20.83   &  23.0   \\\\\n",
       "\t Bowl     &  9.0     &  20.59   &  52.5   \\\\\n",
       "\t CassDish & 14.0     &  33.70   &  99.0   \\\\\n",
       "\t CassDish & 12.4     &  32.90   &  89.0   \\\\\n",
       "\t Dish     &  8.8     &  27.76   &  65.0   \\\\\n",
       "\t Bowl     &  8.5     &  30.20   &  54.5   \\\\\n",
       "\t Plate    &  6.0     &  20.85   &  24.5   \\\\\n",
       "\t Plate    & 11.0     &  26.25   &  52.0   \\\\\n",
       "\t Plate    & 11.1     &  21.87   &  62.5   \\\\\n",
       "\t Plate    & 14.5     &  23.88   &  89.0   \\\\\n",
       "\t Plate    &  5.0     &  16.66   &  21.5   \\\\\n",
       "\\end{tabular}\n"
      ],
      "text/markdown": [
       "\n",
       "| Type | Diam | Time | Price |\n",
       "|---|---|---|---|\n",
       "| CassDish | 10.7     |  47.65   | 144.0    |\n",
       "| CassDish | 14.0     |  63.13   | 215.0    |\n",
       "| CassDish |  9.0     |  58.76   | 105.0    |\n",
       "| Bowl     |  8.0     |  34.88   |  69.0    |\n",
       "| Dish     | 10.0     |  55.53   | 134.0    |\n",
       "| CassDish | 10.5     |  43.14   | 129.0    |\n",
       "| Tray     | 16.0     |  54.86   | 155.0    |\n",
       "| Tray     | 15.0     |  44.14   |  99.0    |\n",
       "| Dish     |  6.5     |  17.46   |  38.5    |\n",
       "| Dish     |  5.0     |  21.04   |  36.5    |\n",
       "| Tray     | 25.0     | 109.38   | 260.0    |\n",
       "| Bowl     | 10.4     |  17.67   |  54.0    |\n",
       "| Bowl     |  7.4     |  16.41   |  39.0    |\n",
       "| Bowl     |  5.4     |  12.02   |  29.5    |\n",
       "| CassDish | 15.4     |  49.48   | 109.0    |\n",
       "| CassDish | 12.4     |  48.74   |  89.5    |\n",
       "| Bowl     |  6.0     |  23.21   |  42.0    |\n",
       "| Bowl     |  9.0     |  28.64   |  65.0    |\n",
       "| Bowl     |  9.0     |  44.95   | 115.0    |\n",
       "| Plate    | 12.4     |  23.77   |  49.5    |\n",
       "| Bowl     |  7.5     |  20.21   |  36.5    |\n",
       "| Bowl     | 14.0     |  32.62   | 109.0    |\n",
       "| Bowl     |  7.0     |  17.84   |  45.0    |\n",
       "| Bowl     |  9.0     |  22.82   |  58.0    |\n",
       "| Bowl     | 12.0     |  29.48   |  89.0    |\n",
       "| Bowl     |  5.5     |  15.61   |  30.0    |\n",
       "| Bowl     |  6.0     |  13.25   |  31.0    |\n",
       "| Bowl     | 12.0     |  45.78   | 119.0    |\n",
       "| Tray     |  5.5     |  26.53   |  22.0    |\n",
       "| Bowl     | 14.2     |  37.11   | 109.0    |\n",
       "| Dish     | 11.0     |  45.12   |  99.0    |\n",
       "| Plate    | 16.0     |  26.09   |  99.0    |\n",
       "| CassDish | 13.5     |  68.63   | 179.0    |\n",
       "| Dish     | 11.1     |  33.71   |  99.0    |\n",
       "| Dish     |  9.8     |  44.45   |  89.0    |\n",
       "| Bowl     | 10.0     |  23.74   |  75.0    |\n",
       "| CassDish | 13.0     |  86.42   | 199.0    |\n",
       "| Bowl     | 13.0     |  39.71   |  93.0    |\n",
       "| Plate    | 11.7     |  26.52   |  65.0    |\n",
       "| Tray     | 12.3     |  33.89   |  74.0    |\n",
       "| Tray     | 19.5     |  64.30   | 165.0    |\n",
       "| Bowl     | 15.2     |  22.55   |  99.0    |\n",
       "| Plate    | 10.0     |  31.86   |  43.5    |\n",
       "| Bowl     | 11.0     |  53.18   |  94.0    |\n",
       "| Tray     | 17.8     |  74.48   | 189.0    |\n",
       "| Tray     | 11.5     |  34.16   |  75.0    |\n",
       "| Tray     | 12.7     |  31.46   |  59.5    |\n",
       "| Bowl     |  8.0     |  21.34   |  42.0    |\n",
       "| Tray     |  7.5     |  20.83   |  23.0    |\n",
       "| Bowl     |  9.0     |  20.59   |  52.5    |\n",
       "| CassDish | 14.0     |  33.70   |  99.0    |\n",
       "| CassDish | 12.4     |  32.90   |  89.0    |\n",
       "| Dish     |  8.8     |  27.76   |  65.0    |\n",
       "| Bowl     |  8.5     |  30.20   |  54.5    |\n",
       "| Plate    |  6.0     |  20.85   |  24.5    |\n",
       "| Plate    | 11.0     |  26.25   |  52.0    |\n",
       "| Plate    | 11.1     |  21.87   |  62.5    |\n",
       "| Plate    | 14.5     |  23.88   |  89.0    |\n",
       "| Plate    |  5.0     |  16.66   |  21.5    |\n",
       "\n"
      ],
      "text/plain": [
       "   Type     Diam Time   Price\n",
       "1  CassDish 10.7  47.65 144.0\n",
       "2  CassDish 14.0  63.13 215.0\n",
       "3  CassDish  9.0  58.76 105.0\n",
       "4  Bowl      8.0  34.88  69.0\n",
       "5  Dish     10.0  55.53 134.0\n",
       "6  CassDish 10.5  43.14 129.0\n",
       "7  Tray     16.0  54.86 155.0\n",
       "8  Tray     15.0  44.14  99.0\n",
       "9  Dish      6.5  17.46  38.5\n",
       "10 Dish      5.0  21.04  36.5\n",
       "11 Tray     25.0 109.38 260.0\n",
       "12 Bowl     10.4  17.67  54.0\n",
       "13 Bowl      7.4  16.41  39.0\n",
       "14 Bowl      5.4  12.02  29.5\n",
       "15 CassDish 15.4  49.48 109.0\n",
       "16 CassDish 12.4  48.74  89.5\n",
       "17 Bowl      6.0  23.21  42.0\n",
       "18 Bowl      9.0  28.64  65.0\n",
       "19 Bowl      9.0  44.95 115.0\n",
       "20 Plate    12.4  23.77  49.5\n",
       "21 Bowl      7.5  20.21  36.5\n",
       "22 Bowl     14.0  32.62 109.0\n",
       "23 Bowl      7.0  17.84  45.0\n",
       "24 Bowl      9.0  22.82  58.0\n",
       "25 Bowl     12.0  29.48  89.0\n",
       "26 Bowl      5.5  15.61  30.0\n",
       "27 Bowl      6.0  13.25  31.0\n",
       "28 Bowl     12.0  45.78 119.0\n",
       "29 Tray      5.5  26.53  22.0\n",
       "30 Bowl     14.2  37.11 109.0\n",
       "31 Dish     11.0  45.12  99.0\n",
       "32 Plate    16.0  26.09  99.0\n",
       "33 CassDish 13.5  68.63 179.0\n",
       "34 Dish     11.1  33.71  99.0\n",
       "35 Dish      9.8  44.45  89.0\n",
       "36 Bowl     10.0  23.74  75.0\n",
       "37 CassDish 13.0  86.42 199.0\n",
       "38 Bowl     13.0  39.71  93.0\n",
       "39 Plate    11.7  26.52  65.0\n",
       "40 Tray     12.3  33.89  74.0\n",
       "41 Tray     19.5  64.30 165.0\n",
       "42 Bowl     15.2  22.55  99.0\n",
       "43 Plate    10.0  31.86  43.5\n",
       "44 Bowl     11.0  53.18  94.0\n",
       "45 Tray     17.8  74.48 189.0\n",
       "46 Tray     11.5  34.16  75.0\n",
       "47 Tray     12.7  31.46  59.5\n",
       "48 Bowl      8.0  21.34  42.0\n",
       "49 Tray      7.5  20.83  23.0\n",
       "50 Bowl      9.0  20.59  52.5\n",
       "51 CassDish 14.0  33.70  99.0\n",
       "52 CassDish 12.4  32.90  89.0\n",
       "53 Dish      8.8  27.76  65.0\n",
       "54 Bowl      8.5  30.20  54.5\n",
       "55 Plate     6.0  20.85  24.5\n",
       "56 Plate    11.0  26.25  52.0\n",
       "57 Plate    11.1  21.87  62.5\n",
       "58 Plate    14.5  23.88  89.0\n",
       "59 Plate     5.0  16.66  21.5"
      ]
     },
     "metadata": {},
     "output_type": "display_data"
    }
   ],
   "source": [
    "nambeware"
   ]
  },
  {
   "cell_type": "code",
   "execution_count": 5,
   "metadata": {},
   "outputs": [
    {
     "data": {
      "image/png": "[encoded data removed]",
      "text/plain": [
       "plot without title"
      ]
     },
     "metadata": {},
     "output_type": "display_data"
    }
   ],
   "source": [
    "plot(Price ~ Diam, data=nambeware)"
   ]
  },
  {
   "cell_type": "code",
   "execution_count": 6,
   "metadata": {},
   "outputs": [],
   "source": [
    "gamma.lm <- glm(Price ~ Diam, family = Gamma(link=\"log\"), data=nambeware)"
   ]
  },
  {
   "cell_type": "code",
   "execution_count": 7,
   "metadata": {},
   "outputs": [
    {
     "data": {
      "text/html": [
       "<table>\n",
       "<thead><tr><th></th><th scope=col>Estimate</th><th scope=col>Std. Error</th><th scope=col>t value</th><th scope=col>Pr(&gt;|t|)</th></tr></thead>\n",
       "<tbody>\n",
       "\t<tr><th scope=row>(Intercept)</th><td>2.9629331   </td><td>0.15618048  </td><td>18.971213   </td><td>2.655723e-26</td></tr>\n",
       "\t<tr><th scope=row>Diam</th><td>0.1272179   </td><td>0.01349224  </td><td> 9.428973   </td><td>3.100673e-13</td></tr>\n",
       "</tbody>\n",
       "</table>\n"
      ],
      "text/latex": [
       "\\begin{tabular}{r|llll}\n",
       "  & Estimate & Std. Error & t value & Pr(>\\textbar{}t\\textbar{})\\\\\n",
       "\\hline\n",
       "\t(Intercept) & 2.9629331    & 0.15618048   & 18.971213    & 2.655723e-26\\\\\n",
       "\tDiam & 0.1272179    & 0.01349224   &  9.428973    & 3.100673e-13\\\\\n",
       "\\end{tabular}\n"
      ],
      "text/markdown": [
       "\n",
       "| <!--/--> | Estimate | Std. Error | t value | Pr(>|t|) |\n",
       "|---|---|---|---|---|\n",
       "| (Intercept) | 2.9629331    | 0.15618048   | 18.971213    | 2.655723e-26 |\n",
       "| Diam | 0.1272179    | 0.01349224   |  9.428973    | 3.100673e-13 |\n",
       "\n"
      ],
      "text/plain": [
       "            Estimate  Std. Error t value   Pr(>|t|)    \n",
       "(Intercept) 2.9629331 0.15618048 18.971213 2.655723e-26\n",
       "Diam        0.1272179 0.01349224  9.428973 3.100673e-13"
      ]
     },
     "metadata": {},
     "output_type": "display_data"
    }
   ],
   "source": [
    "coef(summary(gamma.lm))"
   ]
  },
  {
   "cell_type": "code",
   "execution_count": 8,
   "metadata": {},
   "outputs": [],
   "source": [
    "gamma.m0 <- glm(Price ~ 1, family = Gamma(link=\"log\"), data=nambeware)"
   ]
  },
  {
   "cell_type": "code",
   "execution_count": 9,
   "metadata": {},
   "outputs": [
    {
     "data": {
      "text/html": [
       "0.156725293406597"
      ],
      "text/latex": [
       "0.156725293406597"
      ],
      "text/markdown": [
       "0.156725293406597"
      ],
      "text/plain": [
       "[1] 0.1567253"
      ]
     },
     "metadata": {},
     "output_type": "display_data"
    }
   ],
   "source": [
    "summary(gamma.lm)$dispersion"
   ]
  },
  {
   "cell_type": "code",
   "execution_count": 11,
   "metadata": {},
   "outputs": [
    {
     "data": {
      "text/html": [
       "1.12998582417649e-07"
      ],
      "text/latex": [
       "1.12998582417649e-07"
      ],
      "text/markdown": [
       "1.12998582417649e-07"
      ],
      "text/plain": [
       "[1] 1.129986e-07"
      ]
     },
     "metadata": {},
     "output_type": "display_data"
    }
   ],
   "source": [
    "diam.score.test <- glm.scoretest(gamma.m0, nambeware$Diam)\n",
    "diam.p.value <- 2 * pt(-abs(diam.score.test), df=df.residual(gamma.m0))\n",
    "diam.p.value"
   ]
  },
  {
   "cell_type": "code",
   "execution_count": 17,
   "metadata": {},
   "outputs": [
    {
     "data": {
      "text/html": [
       "79.5925658469584"
      ],
      "text/latex": [
       "79.5925658469584"
      ],
      "text/markdown": [
       "79.5925658469584"
      ],
      "text/plain": [
       "[1] 79.59257"
      ]
     },
     "metadata": {},
     "output_type": "display_data"
    },
    {
     "data": {
      "text/html": [
       "2.0749685359298e-12"
      ],
      "text/latex": [
       "2.0749685359298e-12"
      ],
      "text/markdown": [
       "2.0749685359298e-12"
      ],
      "text/plain": [
       "[1] 2.074969e-12"
      ]
     },
     "metadata": {},
     "output_type": "display_data"
    }
   ],
   "source": [
    "L = (deviance(gamma.m0) - deviance(gamma.lm))/summary(gamma.lm)$dispersion\n",
    "L\n",
    "diam.p.value.lr <- pf(L, df1=1, df2=df.residual(gamma.lm), lower.tail = FALSE)\n",
    "diam.p.value.lr"
   ]
  },
  {
   "cell_type": "code",
   "execution_count": 14,
   "metadata": {},
   "outputs": [
    {
     "data": {
      "text/html": [],
      "text/latex": [],
      "text/markdown": [],
      "text/plain": [
       "numeric(0)"
      ]
     },
     "metadata": {},
     "output_type": "display_data"
    }
   ],
   "source": [
    "diam.p.value.lr"
   ]
  },
  {
   "cell_type": "code",
   "execution_count": 18,
   "metadata": {},
   "outputs": [
    {
     "data": {
      "text/html": [
       "0.136731611812851"
      ],
      "text/latex": [
       "0.136731611812851"
      ],
      "text/markdown": [
       "0.136731611812851"
      ],
      "text/plain": [
       "[1] 0.1367316"
      ]
     },
     "metadata": {},
     "output_type": "display_data"
    },
    {
     "data": {
      "text/html": [
       "0.156725293406597"
      ],
      "text/latex": [
       "0.156725293406597"
      ],
      "text/markdown": [
       "0.156725293406597"
      ],
      "text/plain": [
       "[1] 0.1567253"
      ]
     },
     "metadata": {},
     "output_type": "display_data"
    }
   ],
   "source": [
    "deviance(gamma.lm)/df.residual(gamma.lm)\n",
    "sum(gamma.lm$weights * gamma.lm$residuals^2)/df.residual(gamma.lm)"
   ]
  },
  {
   "cell_type": "code",
   "execution_count": 19,
   "metadata": {},
   "outputs": [
    {
     "name": "stderr",
     "output_type": "stream",
     "text": [
      "Waiting for profiling to be done...\n"
     ]
    },
    {
     "data": {
      "text/html": [
       "<table>\n",
       "<thead><tr><th></th><th scope=col>2.5 %</th><th scope=col>97.5 %</th></tr></thead>\n",
       "<tbody>\n",
       "\t<tr><th scope=row>(Intercept)</th><td>2.62262394</td><td>3.3054438 </td></tr>\n",
       "\t<tr><th scope=row>Diam</th><td>0.09774574</td><td>0.1574341 </td></tr>\n",
       "</tbody>\n",
       "</table>\n"
      ],
      "text/latex": [
       "\\begin{tabular}{r|ll}\n",
       "  & 2.5 \\% & 97.5 \\%\\\\\n",
       "\\hline\n",
       "\t(Intercept) & 2.62262394 & 3.3054438 \\\\\n",
       "\tDiam & 0.09774574 & 0.1574341 \\\\\n",
       "\\end{tabular}\n"
      ],
      "text/markdown": [
       "\n",
       "| <!--/--> | 2.5 % | 97.5 % |\n",
       "|---|---|---|\n",
       "| (Intercept) | 2.62262394 | 3.3054438  |\n",
       "| Diam | 0.09774574 | 0.1574341  |\n",
       "\n"
      ],
      "text/plain": [
       "            2.5 %      97.5 %   \n",
       "(Intercept) 2.62262394 3.3054438\n",
       "Diam        0.09774574 0.1574341"
      ]
     },
     "metadata": {},
     "output_type": "display_data"
    }
   ],
   "source": [
    "confint(gamma.lm)"
   ]
  },
  {
   "cell_type": "code",
   "execution_count": 21,
   "metadata": {},
   "outputs": [
    {
     "data": {
      "image/png": "[encoded data removed]",
      "text/plain": [
       "plot without title"
      ]
     },
     "metadata": {},
     "output_type": "display_data"
    }
   ],
   "source": [
    "newDiam <- seq(min(nambeware$Diam), max(nambeware$Diam), length=1000)\n",
    "newPrice <- predict(gamma.lm, newdata=data.frame(Diam=newDiam), se.fit=TRUE)\n",
    "t.star <- qt(0.975, df=df.residual(gamma.lm))\n",
    "ci.lo <- exp(newPrice$fit - t.star*newPrice$se.fit)\n",
    "ci.hi <- exp(newPrice$fit + t.star*newPrice$se.fit)\n",
    "\n",
    "plot(Price ~ Diam, data=nambeware)\n",
    "lines(exp(newPrice$fit) ~ newDiam, lwd=2)\n",
    "lines(ci.lo ~ newDiam, lty=2)\n",
    "lines(ci.hi ~ newDiam, lty=2)"
   ]
  }
 ],
 "metadata": {
  "kernelspec": {
   "display_name": "R",
   "language": "R",
   "name": "ir"
  },
  "language_info": {
   "codemirror_mode": "r",
   "file_extension": ".r",
   "mimetype": "text/x-r-source",
   "name": "R",
   "pygments_lexer": "r",
   "version": "3.6.1"
  },
  "orig_nbformat": 4
 },
 "nbformat": 4,
 "nbformat_minor": 2
}
