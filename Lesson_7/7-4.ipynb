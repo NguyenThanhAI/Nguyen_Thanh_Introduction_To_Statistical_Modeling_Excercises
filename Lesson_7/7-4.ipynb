{
 "cells": [
  {
   "cell_type": "code",
   "execution_count": 8,
   "metadata": {},
   "outputs": [
    {
     "name": "stderr",
     "output_type": "stream",
     "text": [
      "Warning message:\n",
      "\"package 'statmod' was built under R version 3.6.3\""
     ]
    }
   ],
   "source": [
    "library(GLMsData)\n",
    "library(statmod)\n",
    "data(blocks)"
   ]
  },
  {
   "cell_type": "code",
   "execution_count": 3,
   "metadata": {},
   "outputs": [
    {
     "name": "stdout",
     "output_type": "stream",
     "text": [
      "'data.frame':\t100 obs. of  6 variables:\n",
      " $ Child : Factor w/ 25 levels \"A\",\"B\",\"C\",\"D\",..: 1 2 3 4 5 6 7 8 9 10 ...\n",
      " $ Number: int  11 9 8 9 10 13 10 7 6 12 ...\n",
      " $ Time  : num  30 19 18.6 23 29 178 42 20.2 12 39.2 ...\n",
      " $ Trial : int  1 1 1 1 1 1 1 1 1 1 ...\n",
      " $ Shape : Factor w/ 2 levels \"Cube\",\"Cylinder\": 1 1 1 1 1 1 1 1 1 1 ...\n",
      " $ Age   : num  4.67 5 4.42 4.33 4.33 4.83 4.42 5 3.58 4 ...\n"
     ]
    }
   ],
   "source": [
    "str(blocks)"
   ]
  },
  {
   "cell_type": "code",
   "execution_count": 11,
   "metadata": {},
   "outputs": [
    {
     "data": {
      "text/html": [
       "<table>\n",
       "<thead><tr><th scope=col>Child</th><th scope=col>Number</th><th scope=col>Time</th><th scope=col>Trial</th><th scope=col>Shape</th><th scope=col>Age</th></tr></thead>\n",
       "<tbody>\n",
       "\t<tr><td>A       </td><td>11      </td><td> 30.0   </td><td>1       </td><td>Cube    </td><td>4.67    </td></tr>\n",
       "\t<tr><td>B       </td><td> 9      </td><td> 19.0   </td><td>1       </td><td>Cube    </td><td>5.00    </td></tr>\n",
       "\t<tr><td>C       </td><td> 8      </td><td> 18.6   </td><td>1       </td><td>Cube    </td><td>4.42    </td></tr>\n",
       "\t<tr><td>D       </td><td> 9      </td><td> 23.0   </td><td>1       </td><td>Cube    </td><td>4.33    </td></tr>\n",
       "\t<tr><td>E       </td><td>10      </td><td> 29.0   </td><td>1       </td><td>Cube    </td><td>4.33    </td></tr>\n",
       "\t<tr><td>F       </td><td>13      </td><td>178.0   </td><td>1       </td><td>Cube    </td><td>4.83    </td></tr>\n",
       "\t<tr><td>G       </td><td>10      </td><td> 42.0   </td><td>1       </td><td>Cube    </td><td>4.42    </td></tr>\n",
       "\t<tr><td>H       </td><td> 7      </td><td> 20.2   </td><td>1       </td><td>Cube    </td><td>5.00    </td></tr>\n",
       "\t<tr><td>I       </td><td> 6      </td><td> 12.0   </td><td>1       </td><td>Cube    </td><td>3.58    </td></tr>\n",
       "\t<tr><td>J       </td><td>12      </td><td> 39.2   </td><td>1       </td><td>Cube    </td><td>4.00    </td></tr>\n",
       "\t<tr><td>K       </td><td> 6      </td><td> 14.4   </td><td>1       </td><td>Cube    </td><td>4.58    </td></tr>\n",
       "\t<tr><td>L       </td><td> 9      </td><td> 81.4   </td><td>1       </td><td>Cube    </td><td>3.67    </td></tr>\n",
       "\t<tr><td>M       </td><td> 8      </td><td> 17.4   </td><td>1       </td><td>Cube    </td><td>4.83    </td></tr>\n",
       "\t<tr><td>N       </td><td> 7      </td><td> 31.0   </td><td>1       </td><td>Cube    </td><td>4.00    </td></tr>\n",
       "\t<tr><td>O       </td><td> 9      </td><td> 52.2   </td><td>1       </td><td>Cube    </td><td>3.83    </td></tr>\n",
       "\t<tr><td>P       </td><td> 9      </td><td> 41.0   </td><td>1       </td><td>Cube    </td><td>3.83    </td></tr>\n",
       "\t<tr><td>Q       </td><td> 8      </td><td> 18.8   </td><td>1       </td><td>Cube    </td><td>5.08    </td></tr>\n",
       "\t<tr><td>R       </td><td> 7      </td><td> 20.2   </td><td>1       </td><td>Cube    </td><td>4.00    </td></tr>\n",
       "\t<tr><td>S       </td><td> 8      </td><td> 35.0   </td><td>1       </td><td>Cube    </td><td>2.67    </td></tr>\n",
       "\t<tr><td>T       </td><td> 4      </td><td> 24.2   </td><td>1       </td><td>Cube    </td><td>2.67    </td></tr>\n",
       "\t<tr><td>U       </td><td> 8      </td><td> 47.0   </td><td>1       </td><td>Cube    </td><td>3.00    </td></tr>\n",
       "\t<tr><td>V       </td><td> 4      </td><td>  7.4   </td><td>1       </td><td>Cube    </td><td>2.42    </td></tr>\n",
       "\t<tr><td>W       </td><td>11      </td><td> 54.6   </td><td>1       </td><td>Cube    </td><td>4.17    </td></tr>\n",
       "\t<tr><td>X       </td><td> 7      </td><td> 90.0   </td><td>1       </td><td>Cube    </td><td>4.00    </td></tr>\n",
       "\t<tr><td>Y       </td><td> 5      </td><td> 11.0   </td><td>1       </td><td>Cube    </td><td>3.33    </td></tr>\n",
       "\t<tr><td>A       </td><td> 6      </td><td> 30.0   </td><td>1       </td><td>Cylinder</td><td>4.67    </td></tr>\n",
       "\t<tr><td>B       </td><td> 4      </td><td>  6.0   </td><td>1       </td><td>Cylinder</td><td>5.00    </td></tr>\n",
       "\t<tr><td>C       </td><td> 5      </td><td> 14.2   </td><td>1       </td><td>Cylinder</td><td>4.42    </td></tr>\n",
       "\t<tr><td>D       </td><td> 4      </td><td>  8.2   </td><td>1       </td><td>Cylinder</td><td>4.33    </td></tr>\n",
       "\t<tr><td>E       </td><td> 6      </td><td> 14.0   </td><td>1       </td><td>Cylinder</td><td>4.33    </td></tr>\n",
       "\t<tr><td>...</td><td>...</td><td>...</td><td>...</td><td>...</td><td>...</td></tr>\n",
       "\t<tr><td>U       </td><td>6       </td><td> 17.4   </td><td>2       </td><td>Cube    </td><td>3.00    </td></tr>\n",
       "\t<tr><td>V       </td><td>5       </td><td> 11.0   </td><td>2       </td><td>Cube    </td><td>2.42    </td></tr>\n",
       "\t<tr><td>W       </td><td>8       </td><td> 52.0   </td><td>2       </td><td>Cube    </td><td>4.17    </td></tr>\n",
       "\t<tr><td>X       </td><td>8       </td><td> 40.0   </td><td>2       </td><td>Cube    </td><td>4.00    </td></tr>\n",
       "\t<tr><td>Y       </td><td>5       </td><td>  9.8   </td><td>2       </td><td>Cube    </td><td>3.33    </td></tr>\n",
       "\t<tr><td>A       </td><td>8       </td><td>125.0   </td><td>2       </td><td>Cylinder</td><td>4.67    </td></tr>\n",
       "\t<tr><td>B       </td><td>5       </td><td> 14.4   </td><td>2       </td><td>Cylinder</td><td>5.00    </td></tr>\n",
       "\t<tr><td>C       </td><td>5       </td><td> 24.0   </td><td>2       </td><td>Cylinder</td><td>4.42    </td></tr>\n",
       "\t<tr><td>D       </td><td>6       </td><td> 14.4   </td><td>2       </td><td>Cylinder</td><td>4.33    </td></tr>\n",
       "\t<tr><td>E       </td><td>5       </td><td> 15.0   </td><td>2       </td><td>Cylinder</td><td>4.33    </td></tr>\n",
       "\t<tr><td>F       </td><td>9       </td><td> 44.6   </td><td>2       </td><td>Cylinder</td><td>4.83    </td></tr>\n",
       "\t<tr><td>G       </td><td>5       </td><td> 10.8   </td><td>2       </td><td>Cylinder</td><td>4.42    </td></tr>\n",
       "\t<tr><td>H       </td><td>4       </td><td> 18.0   </td><td>2       </td><td>Cylinder</td><td>5.00    </td></tr>\n",
       "\t<tr><td>I       </td><td>6       </td><td> 16.0   </td><td>2       </td><td>Cylinder</td><td>3.58    </td></tr>\n",
       "\t<tr><td>J       </td><td>8       </td><td> 55.0   </td><td>2       </td><td>Cylinder</td><td>4.00    </td></tr>\n",
       "\t<tr><td>K       </td><td>6       </td><td> 19.8   </td><td>2       </td><td>Cylinder</td><td>4.58    </td></tr>\n",
       "\t<tr><td>L       </td><td>5       </td><td> 19.8   </td><td>2       </td><td>Cylinder</td><td>3.67    </td></tr>\n",
       "\t<tr><td>M       </td><td>6       </td><td> 10.6   </td><td>2       </td><td>Cylinder</td><td>4.83    </td></tr>\n",
       "\t<tr><td>N       </td><td>5       </td><td> 17.0   </td><td>2       </td><td>Cylinder</td><td>4.00    </td></tr>\n",
       "\t<tr><td>O       </td><td>5       </td><td> 10.0   </td><td>2       </td><td>Cylinder</td><td>3.83    </td></tr>\n",
       "\t<tr><td>P       </td><td>5       </td><td> 19.4   </td><td>2       </td><td>Cylinder</td><td>3.83    </td></tr>\n",
       "\t<tr><td>Q       </td><td>8       </td><td> 21.0   </td><td>2       </td><td>Cylinder</td><td>5.08    </td></tr>\n",
       "\t<tr><td>R       </td><td>6       </td><td> 15.0   </td><td>2       </td><td>Cylinder</td><td>4.00    </td></tr>\n",
       "\t<tr><td>S       </td><td>5       </td><td> 36.2   </td><td>2       </td><td>Cylinder</td><td>2.67    </td></tr>\n",
       "\t<tr><td>T       </td><td>5       </td><td> 31.4   </td><td>2       </td><td>Cylinder</td><td>2.67    </td></tr>\n",
       "\t<tr><td>U       </td><td>4       </td><td>  8.4   </td><td>2       </td><td>Cylinder</td><td>3.00    </td></tr>\n",
       "\t<tr><td>V       </td><td>7       </td><td>  7.2   </td><td>2       </td><td>Cylinder</td><td>2.42    </td></tr>\n",
       "\t<tr><td>W       </td><td>5       </td><td> 12.0   </td><td>2       </td><td>Cylinder</td><td>4.17    </td></tr>\n",
       "\t<tr><td>X       </td><td>5       </td><td> 25.0   </td><td>2       </td><td>Cylinder</td><td>4.00    </td></tr>\n",
       "\t<tr><td>Y       </td><td>4       </td><td>  6.0   </td><td>2       </td><td>Cylinder</td><td>3.33    </td></tr>\n",
       "</tbody>\n",
       "</table>\n"
      ],
      "text/latex": [
       "\\begin{tabular}{r|llllll}\n",
       " Child & Number & Time & Trial & Shape & Age\\\\\n",
       "\\hline\n",
       "\t A        & 11       &  30.0    & 1        & Cube     & 4.67    \\\\\n",
       "\t B        &  9       &  19.0    & 1        & Cube     & 5.00    \\\\\n",
       "\t C        &  8       &  18.6    & 1        & Cube     & 4.42    \\\\\n",
       "\t D        &  9       &  23.0    & 1        & Cube     & 4.33    \\\\\n",
       "\t E        & 10       &  29.0    & 1        & Cube     & 4.33    \\\\\n",
       "\t F        & 13       & 178.0    & 1        & Cube     & 4.83    \\\\\n",
       "\t G        & 10       &  42.0    & 1        & Cube     & 4.42    \\\\\n",
       "\t H        &  7       &  20.2    & 1        & Cube     & 5.00    \\\\\n",
       "\t I        &  6       &  12.0    & 1        & Cube     & 3.58    \\\\\n",
       "\t J        & 12       &  39.2    & 1        & Cube     & 4.00    \\\\\n",
       "\t K        &  6       &  14.4    & 1        & Cube     & 4.58    \\\\\n",
       "\t L        &  9       &  81.4    & 1        & Cube     & 3.67    \\\\\n",
       "\t M        &  8       &  17.4    & 1        & Cube     & 4.83    \\\\\n",
       "\t N        &  7       &  31.0    & 1        & Cube     & 4.00    \\\\\n",
       "\t O        &  9       &  52.2    & 1        & Cube     & 3.83    \\\\\n",
       "\t P        &  9       &  41.0    & 1        & Cube     & 3.83    \\\\\n",
       "\t Q        &  8       &  18.8    & 1        & Cube     & 5.08    \\\\\n",
       "\t R        &  7       &  20.2    & 1        & Cube     & 4.00    \\\\\n",
       "\t S        &  8       &  35.0    & 1        & Cube     & 2.67    \\\\\n",
       "\t T        &  4       &  24.2    & 1        & Cube     & 2.67    \\\\\n",
       "\t U        &  8       &  47.0    & 1        & Cube     & 3.00    \\\\\n",
       "\t V        &  4       &   7.4    & 1        & Cube     & 2.42    \\\\\n",
       "\t W        & 11       &  54.6    & 1        & Cube     & 4.17    \\\\\n",
       "\t X        &  7       &  90.0    & 1        & Cube     & 4.00    \\\\\n",
       "\t Y        &  5       &  11.0    & 1        & Cube     & 3.33    \\\\\n",
       "\t A        &  6       &  30.0    & 1        & Cylinder & 4.67    \\\\\n",
       "\t B        &  4       &   6.0    & 1        & Cylinder & 5.00    \\\\\n",
       "\t C        &  5       &  14.2    & 1        & Cylinder & 4.42    \\\\\n",
       "\t D        &  4       &   8.2    & 1        & Cylinder & 4.33    \\\\\n",
       "\t E        &  6       &  14.0    & 1        & Cylinder & 4.33    \\\\\n",
       "\t ... & ... & ... & ... & ... & ...\\\\\n",
       "\t U        & 6        &  17.4    & 2        & Cube     & 3.00    \\\\\n",
       "\t V        & 5        &  11.0    & 2        & Cube     & 2.42    \\\\\n",
       "\t W        & 8        &  52.0    & 2        & Cube     & 4.17    \\\\\n",
       "\t X        & 8        &  40.0    & 2        & Cube     & 4.00    \\\\\n",
       "\t Y        & 5        &   9.8    & 2        & Cube     & 3.33    \\\\\n",
       "\t A        & 8        & 125.0    & 2        & Cylinder & 4.67    \\\\\n",
       "\t B        & 5        &  14.4    & 2        & Cylinder & 5.00    \\\\\n",
       "\t C        & 5        &  24.0    & 2        & Cylinder & 4.42    \\\\\n",
       "\t D        & 6        &  14.4    & 2        & Cylinder & 4.33    \\\\\n",
       "\t E        & 5        &  15.0    & 2        & Cylinder & 4.33    \\\\\n",
       "\t F        & 9        &  44.6    & 2        & Cylinder & 4.83    \\\\\n",
       "\t G        & 5        &  10.8    & 2        & Cylinder & 4.42    \\\\\n",
       "\t H        & 4        &  18.0    & 2        & Cylinder & 5.00    \\\\\n",
       "\t I        & 6        &  16.0    & 2        & Cylinder & 3.58    \\\\\n",
       "\t J        & 8        &  55.0    & 2        & Cylinder & 4.00    \\\\\n",
       "\t K        & 6        &  19.8    & 2        & Cylinder & 4.58    \\\\\n",
       "\t L        & 5        &  19.8    & 2        & Cylinder & 3.67    \\\\\n",
       "\t M        & 6        &  10.6    & 2        & Cylinder & 4.83    \\\\\n",
       "\t N        & 5        &  17.0    & 2        & Cylinder & 4.00    \\\\\n",
       "\t O        & 5        &  10.0    & 2        & Cylinder & 3.83    \\\\\n",
       "\t P        & 5        &  19.4    & 2        & Cylinder & 3.83    \\\\\n",
       "\t Q        & 8        &  21.0    & 2        & Cylinder & 5.08    \\\\\n",
       "\t R        & 6        &  15.0    & 2        & Cylinder & 4.00    \\\\\n",
       "\t S        & 5        &  36.2    & 2        & Cylinder & 2.67    \\\\\n",
       "\t T        & 5        &  31.4    & 2        & Cylinder & 2.67    \\\\\n",
       "\t U        & 4        &   8.4    & 2        & Cylinder & 3.00    \\\\\n",
       "\t V        & 7        &   7.2    & 2        & Cylinder & 2.42    \\\\\n",
       "\t W        & 5        &  12.0    & 2        & Cylinder & 4.17    \\\\\n",
       "\t X        & 5        &  25.0    & 2        & Cylinder & 4.00    \\\\\n",
       "\t Y        & 4        &   6.0    & 2        & Cylinder & 3.33    \\\\\n",
       "\\end{tabular}\n"
      ],
      "text/markdown": [
       "\n",
       "| Child | Number | Time | Trial | Shape | Age |\n",
       "|---|---|---|---|---|---|\n",
       "| A        | 11       |  30.0    | 1        | Cube     | 4.67     |\n",
       "| B        |  9       |  19.0    | 1        | Cube     | 5.00     |\n",
       "| C        |  8       |  18.6    | 1        | Cube     | 4.42     |\n",
       "| D        |  9       |  23.0    | 1        | Cube     | 4.33     |\n",
       "| E        | 10       |  29.0    | 1        | Cube     | 4.33     |\n",
       "| F        | 13       | 178.0    | 1        | Cube     | 4.83     |\n",
       "| G        | 10       |  42.0    | 1        | Cube     | 4.42     |\n",
       "| H        |  7       |  20.2    | 1        | Cube     | 5.00     |\n",
       "| I        |  6       |  12.0    | 1        | Cube     | 3.58     |\n",
       "| J        | 12       |  39.2    | 1        | Cube     | 4.00     |\n",
       "| K        |  6       |  14.4    | 1        | Cube     | 4.58     |\n",
       "| L        |  9       |  81.4    | 1        | Cube     | 3.67     |\n",
       "| M        |  8       |  17.4    | 1        | Cube     | 4.83     |\n",
       "| N        |  7       |  31.0    | 1        | Cube     | 4.00     |\n",
       "| O        |  9       |  52.2    | 1        | Cube     | 3.83     |\n",
       "| P        |  9       |  41.0    | 1        | Cube     | 3.83     |\n",
       "| Q        |  8       |  18.8    | 1        | Cube     | 5.08     |\n",
       "| R        |  7       |  20.2    | 1        | Cube     | 4.00     |\n",
       "| S        |  8       |  35.0    | 1        | Cube     | 2.67     |\n",
       "| T        |  4       |  24.2    | 1        | Cube     | 2.67     |\n",
       "| U        |  8       |  47.0    | 1        | Cube     | 3.00     |\n",
       "| V        |  4       |   7.4    | 1        | Cube     | 2.42     |\n",
       "| W        | 11       |  54.6    | 1        | Cube     | 4.17     |\n",
       "| X        |  7       |  90.0    | 1        | Cube     | 4.00     |\n",
       "| Y        |  5       |  11.0    | 1        | Cube     | 3.33     |\n",
       "| A        |  6       |  30.0    | 1        | Cylinder | 4.67     |\n",
       "| B        |  4       |   6.0    | 1        | Cylinder | 5.00     |\n",
       "| C        |  5       |  14.2    | 1        | Cylinder | 4.42     |\n",
       "| D        |  4       |   8.2    | 1        | Cylinder | 4.33     |\n",
       "| E        |  6       |  14.0    | 1        | Cylinder | 4.33     |\n",
       "| ... | ... | ... | ... | ... | ... |\n",
       "| U        | 6        |  17.4    | 2        | Cube     | 3.00     |\n",
       "| V        | 5        |  11.0    | 2        | Cube     | 2.42     |\n",
       "| W        | 8        |  52.0    | 2        | Cube     | 4.17     |\n",
       "| X        | 8        |  40.0    | 2        | Cube     | 4.00     |\n",
       "| Y        | 5        |   9.8    | 2        | Cube     | 3.33     |\n",
       "| A        | 8        | 125.0    | 2        | Cylinder | 4.67     |\n",
       "| B        | 5        |  14.4    | 2        | Cylinder | 5.00     |\n",
       "| C        | 5        |  24.0    | 2        | Cylinder | 4.42     |\n",
       "| D        | 6        |  14.4    | 2        | Cylinder | 4.33     |\n",
       "| E        | 5        |  15.0    | 2        | Cylinder | 4.33     |\n",
       "| F        | 9        |  44.6    | 2        | Cylinder | 4.83     |\n",
       "| G        | 5        |  10.8    | 2        | Cylinder | 4.42     |\n",
       "| H        | 4        |  18.0    | 2        | Cylinder | 5.00     |\n",
       "| I        | 6        |  16.0    | 2        | Cylinder | 3.58     |\n",
       "| J        | 8        |  55.0    | 2        | Cylinder | 4.00     |\n",
       "| K        | 6        |  19.8    | 2        | Cylinder | 4.58     |\n",
       "| L        | 5        |  19.8    | 2        | Cylinder | 3.67     |\n",
       "| M        | 6        |  10.6    | 2        | Cylinder | 4.83     |\n",
       "| N        | 5        |  17.0    | 2        | Cylinder | 4.00     |\n",
       "| O        | 5        |  10.0    | 2        | Cylinder | 3.83     |\n",
       "| P        | 5        |  19.4    | 2        | Cylinder | 3.83     |\n",
       "| Q        | 8        |  21.0    | 2        | Cylinder | 5.08     |\n",
       "| R        | 6        |  15.0    | 2        | Cylinder | 4.00     |\n",
       "| S        | 5        |  36.2    | 2        | Cylinder | 2.67     |\n",
       "| T        | 5        |  31.4    | 2        | Cylinder | 2.67     |\n",
       "| U        | 4        |   8.4    | 2        | Cylinder | 3.00     |\n",
       "| V        | 7        |   7.2    | 2        | Cylinder | 2.42     |\n",
       "| W        | 5        |  12.0    | 2        | Cylinder | 4.17     |\n",
       "| X        | 5        |  25.0    | 2        | Cylinder | 4.00     |\n",
       "| Y        | 4        |   6.0    | 2        | Cylinder | 3.33     |\n",
       "\n"
      ],
      "text/plain": [
       "    Child Number Time  Trial Shape    Age \n",
       "1   A     11      30.0 1     Cube     4.67\n",
       "2   B      9      19.0 1     Cube     5.00\n",
       "3   C      8      18.6 1     Cube     4.42\n",
       "4   D      9      23.0 1     Cube     4.33\n",
       "5   E     10      29.0 1     Cube     4.33\n",
       "6   F     13     178.0 1     Cube     4.83\n",
       "7   G     10      42.0 1     Cube     4.42\n",
       "8   H      7      20.2 1     Cube     5.00\n",
       "9   I      6      12.0 1     Cube     3.58\n",
       "10  J     12      39.2 1     Cube     4.00\n",
       "11  K      6      14.4 1     Cube     4.58\n",
       "12  L      9      81.4 1     Cube     3.67\n",
       "13  M      8      17.4 1     Cube     4.83\n",
       "14  N      7      31.0 1     Cube     4.00\n",
       "15  O      9      52.2 1     Cube     3.83\n",
       "16  P      9      41.0 1     Cube     3.83\n",
       "17  Q      8      18.8 1     Cube     5.08\n",
       "18  R      7      20.2 1     Cube     4.00\n",
       "19  S      8      35.0 1     Cube     2.67\n",
       "20  T      4      24.2 1     Cube     2.67\n",
       "21  U      8      47.0 1     Cube     3.00\n",
       "22  V      4       7.4 1     Cube     2.42\n",
       "23  W     11      54.6 1     Cube     4.17\n",
       "24  X      7      90.0 1     Cube     4.00\n",
       "25  Y      5      11.0 1     Cube     3.33\n",
       "26  A      6      30.0 1     Cylinder 4.67\n",
       "27  B      4       6.0 1     Cylinder 5.00\n",
       "28  C      5      14.2 1     Cylinder 4.42\n",
       "29  D      4       8.2 1     Cylinder 4.33\n",
       "30  E      6      14.0 1     Cylinder 4.33\n",
       "... ...   ...    ...   ...   ...      ... \n",
       "71  U     6       17.4 2     Cube     3.00\n",
       "72  V     5       11.0 2     Cube     2.42\n",
       "73  W     8       52.0 2     Cube     4.17\n",
       "74  X     8       40.0 2     Cube     4.00\n",
       "75  Y     5        9.8 2     Cube     3.33\n",
       "76  A     8      125.0 2     Cylinder 4.67\n",
       "77  B     5       14.4 2     Cylinder 5.00\n",
       "78  C     5       24.0 2     Cylinder 4.42\n",
       "79  D     6       14.4 2     Cylinder 4.33\n",
       "80  E     5       15.0 2     Cylinder 4.33\n",
       "81  F     9       44.6 2     Cylinder 4.83\n",
       "82  G     5       10.8 2     Cylinder 4.42\n",
       "83  H     4       18.0 2     Cylinder 5.00\n",
       "84  I     6       16.0 2     Cylinder 3.58\n",
       "85  J     8       55.0 2     Cylinder 4.00\n",
       "86  K     6       19.8 2     Cylinder 4.58\n",
       "87  L     5       19.8 2     Cylinder 3.67\n",
       "88  M     6       10.6 2     Cylinder 4.83\n",
       "89  N     5       17.0 2     Cylinder 4.00\n",
       "90  O     5       10.0 2     Cylinder 3.83\n",
       "91  P     5       19.4 2     Cylinder 3.83\n",
       "92  Q     8       21.0 2     Cylinder 5.08\n",
       "93  R     6       15.0 2     Cylinder 4.00\n",
       "94  S     5       36.2 2     Cylinder 2.67\n",
       "95  T     5       31.4 2     Cylinder 2.67\n",
       "96  U     4        8.4 2     Cylinder 3.00\n",
       "97  V     7        7.2 2     Cylinder 2.42\n",
       "98  W     5       12.0 2     Cylinder 4.17\n",
       "99  X     5       25.0 2     Cylinder 4.00\n",
       "100 Y     4        6.0 2     Cylinder 3.33"
      ]
     },
     "metadata": {},
     "output_type": "display_data"
    }
   ],
   "source": [
    "blocks"
   ]
  },
  {
   "cell_type": "code",
   "execution_count": 4,
   "metadata": {},
   "outputs": [
    {
     "data": {
      "image/png": "[encoded data removed]",
      "text/plain": [
       "plot without title"
      ]
     },
     "metadata": {},
     "output_type": "display_data"
    }
   ],
   "source": [
    "scatter.smooth(blocks$Number ~ blocks$Age)"
   ]
  },
  {
   "cell_type": "code",
   "execution_count": 6,
   "metadata": {},
   "outputs": [],
   "source": [
    "glm.1 <- glm(Number ~ Age, family = poisson(link=\"log\"), data=blocks)"
   ]
  },
  {
   "cell_type": "code",
   "execution_count": 7,
   "metadata": {},
   "outputs": [
    {
     "data": {
      "text/html": [
       "<table>\n",
       "<thead><tr><th></th><th scope=col>Estimate</th><th scope=col>Std. Error</th><th scope=col>z value</th><th scope=col>Pr(&gt;|z|)</th></tr></thead>\n",
       "<tbody>\n",
       "\t<tr><th scope=row>(Intercept)</th><td>1.3446992   </td><td>0.22235364  </td><td>6.047570    </td><td>1.470468e-09</td></tr>\n",
       "\t<tr><th scope=row>Age</th><td>0.1415096   </td><td>0.05340039  </td><td>2.649974    </td><td>8.049803e-03</td></tr>\n",
       "</tbody>\n",
       "</table>\n"
      ],
      "text/latex": [
       "\\begin{tabular}{r|llll}\n",
       "  & Estimate & Std. Error & z value & Pr(>\\textbar{}z\\textbar{})\\\\\n",
       "\\hline\n",
       "\t(Intercept) & 1.3446992    & 0.22235364   & 6.047570     & 1.470468e-09\\\\\n",
       "\tAge & 0.1415096    & 0.05340039   & 2.649974     & 8.049803e-03\\\\\n",
       "\\end{tabular}\n"
      ],
      "text/markdown": [
       "\n",
       "| <!--/--> | Estimate | Std. Error | z value | Pr(>|z|) |\n",
       "|---|---|---|---|---|\n",
       "| (Intercept) | 1.3446992    | 0.22235364   | 6.047570     | 1.470468e-09 |\n",
       "| Age | 0.1415096    | 0.05340039   | 2.649974     | 8.049803e-03 |\n",
       "\n"
      ],
      "text/plain": [
       "            Estimate  Std. Error z value  Pr(>|z|)    \n",
       "(Intercept) 1.3446992 0.22235364 6.047570 1.470468e-09\n",
       "Age         0.1415096 0.05340039 2.649974 8.049803e-03"
      ]
     },
     "metadata": {},
     "output_type": "display_data"
    }
   ],
   "source": [
    "coef(summary(glm.1))"
   ]
  },
  {
   "cell_type": "code",
   "execution_count": 9,
   "metadata": {},
   "outputs": [
    {
     "data": {
      "text/html": [
       "-0.186743471115277"
      ],
      "text/latex": [
       "-0.186743471115277"
      ],
      "text/markdown": [
       "-0.186743471115277"
      ],
      "text/plain": [
       "[1] -0.1867435"
      ]
     },
     "metadata": {},
     "output_type": "display_data"
    }
   ],
   "source": [
    "glm.scoretest(glm.1, blocks$Age)"
   ]
  },
  {
   "cell_type": "code",
   "execution_count": 10,
   "metadata": {},
   "outputs": [
    {
     "data": {
      "text/html": [
       "1"
      ],
      "text/latex": [
       "1"
      ],
      "text/markdown": [
       "1"
      ],
      "text/plain": [
       "[1] 1"
      ]
     },
     "metadata": {},
     "output_type": "display_data"
    }
   ],
   "source": [
    "summary(glm.1)$dispersion"
   ]
  },
  {
   "cell_type": "code",
   "execution_count": 12,
   "metadata": {},
   "outputs": [
    {
     "data": {
      "text/html": [
       "0.63514117410639"
      ],
      "text/latex": [
       "0.63514117410639"
      ],
      "text/markdown": [
       "0.63514117410639"
      ],
      "text/plain": [
       "[1] 0.6351412"
      ]
     },
     "metadata": {},
     "output_type": "display_data"
    }
   ],
   "source": [
    "deviance(glm.1)/df.residual(glm.1)"
   ]
  },
  {
   "cell_type": "code",
   "execution_count": 13,
   "metadata": {},
   "outputs": [
    {
     "data": {
      "text/html": [
       "122.107734609819"
      ],
      "text/latex": [
       "122.107734609819"
      ],
      "text/markdown": [
       "122.107734609819"
      ],
      "text/plain": [
       "[1] 122.1077"
      ]
     },
     "metadata": {},
     "output_type": "display_data"
    }
   ],
   "source": [
    "qchisq(0.95, df=df.residual(glm.1))"
   ]
  },
  {
   "cell_type": "code",
   "execution_count": 14,
   "metadata": {},
   "outputs": [],
   "source": [
    "glm.0 <- glm(Number ~ 1, family = poisson(link=\"log\"), data=blocks)"
   ]
  },
  {
   "cell_type": "code",
   "execution_count": 16,
   "metadata": {},
   "outputs": [
    {
     "data": {
      "text/html": [
       "7.18538803528203"
      ],
      "text/latex": [
       "7.18538803528203"
      ],
      "text/markdown": [
       "7.18538803528203"
      ],
      "text/plain": [
       "[1] 7.185388"
      ]
     },
     "metadata": {},
     "output_type": "display_data"
    }
   ],
   "source": [
    "L = deviance(glm.0) - deviance(glm.1)\n",
    "L"
   ]
  },
  {
   "cell_type": "code",
   "execution_count": 17,
   "metadata": {},
   "outputs": [
    {
     "data": {
      "text/html": [
       "0.00734996553801546"
      ],
      "text/latex": [
       "0.00734996553801546"
      ],
      "text/markdown": [
       "0.00734996553801546"
      ],
      "text/plain": [
       "[1] 0.007349966"
      ]
     },
     "metadata": {},
     "output_type": "display_data"
    }
   ],
   "source": [
    "pchisq(L, df=1, lower.tail = FALSE)"
   ]
  },
  {
   "cell_type": "code",
   "execution_count": 23,
   "metadata": {},
   "outputs": [
    {
     "data": {
      "text/html": [
       "0.0079949864621437"
      ],
      "text/latex": [
       "0.0079949864621437"
      ],
      "text/markdown": [
       "0.0079949864621437"
      ],
      "text/plain": [
       "[1] 0.007994986"
      ]
     },
     "metadata": {},
     "output_type": "display_data"
    }
   ],
   "source": [
    "z.stat <- glm.scoretest(glm.0, blocks$Age)\n",
    "p.val <- 2 * pnorm( abs(z.stat), lower.tail=FALSE)\n",
    "p.val"
   ]
  },
  {
   "cell_type": "code",
   "execution_count": 24,
   "metadata": {},
   "outputs": [
    {
     "name": "stderr",
     "output_type": "stream",
     "text": [
      "Waiting for profiling to be done...\n"
     ]
    },
    {
     "data": {
      "text/html": [
       "<table>\n",
       "<thead><tr><th></th><th scope=col>2.5 %</th><th scope=col>97.5 %</th></tr></thead>\n",
       "<tbody>\n",
       "\t<tr><th scope=row>(Intercept)</th><td>0.9024058</td><td>1.7742235</td></tr>\n",
       "\t<tr><th scope=row>Age</th><td>0.0377308</td><td>0.2471074</td></tr>\n",
       "</tbody>\n",
       "</table>\n"
      ],
      "text/latex": [
       "\\begin{tabular}{r|ll}\n",
       "  & 2.5 \\% & 97.5 \\%\\\\\n",
       "\\hline\n",
       "\t(Intercept) & 0.9024058 & 1.7742235\\\\\n",
       "\tAge & 0.0377308 & 0.2471074\\\\\n",
       "\\end{tabular}\n"
      ],
      "text/markdown": [
       "\n",
       "| <!--/--> | 2.5 % | 97.5 % |\n",
       "|---|---|---|\n",
       "| (Intercept) | 0.9024058 | 1.7742235 |\n",
       "| Age | 0.0377308 | 0.2471074 |\n",
       "\n"
      ],
      "text/plain": [
       "            2.5 %     97.5 %   \n",
       "(Intercept) 0.9024058 1.7742235\n",
       "Age         0.0377308 0.2471074"
      ]
     },
     "metadata": {},
     "output_type": "display_data"
    }
   ],
   "source": [
    "confint(glm.1)"
   ]
  },
  {
   "cell_type": "code",
   "execution_count": 30,
   "metadata": {},
   "outputs": [
    {
     "data": {
      "image/png": "[encoded data removed]",
      "text/plain": [
       "plot without title"
      ]
     },
     "metadata": {},
     "output_type": "display_data"
    }
   ],
   "source": [
    "newAge = seq(min(blocks$Age), max(blocks$Age), length=100)\n",
    "newNum = predict(glm.1, newdata=data.frame(Age=newAge), se.fit=TRUE)\n",
    "z.star <- qnorm(0.025, lower.tail = FALSE)\n",
    "ci.lo <- exp(newNum$fit - z.star*newNum$se.fit)\n",
    "ci.hi <- exp(newNum$fit + z.star*newNum$se.fit)\n",
    "\n",
    "plot(Number ~ Age, data=blocks)\n",
    "lines(exp(newNum$fit) ~ newAge, lwd=2)\n",
    "lines(ci.lo ~ newAge, lty=2)\n",
    "lines(ci.hi ~ newAge, lty=2)"
   ]
  }
 ],
 "metadata": {
  "kernelspec": {
   "display_name": "R",
   "language": "R",
   "name": "ir"
  },
  "language_info": {
   "codemirror_mode": "r",
   "file_extension": ".r",
   "mimetype": "text/x-r-source",
   "name": "R",
   "pygments_lexer": "r",
   "version": "3.6.1"
  },
  "orig_nbformat": 4
 },
 "nbformat": 4,
 "nbformat_minor": 2
}
