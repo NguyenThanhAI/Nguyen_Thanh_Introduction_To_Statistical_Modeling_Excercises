{
 "cells": [
  {
   "cell_type": "code",
   "execution_count": 1,
   "metadata": {},
   "outputs": [],
   "source": [
    "library(GLMsData)\n"
   ]
  },
  {
   "cell_type": "code",
   "execution_count": 2,
   "metadata": {},
   "outputs": [],
   "source": [
    "data(nminer)"
   ]
  },
  {
   "cell_type": "code",
   "execution_count": 3,
   "metadata": {},
   "outputs": [
    {
     "name": "stdout",
     "output_type": "stream",
     "text": [
      "'data.frame':\t31 obs. of  8 variables:\n",
      " $ Miners : int  0 0 1 1 1 1 1 1 0 1 ...\n",
      " $ Eucs   : int  2 10 16 20 19 18 12 16 3 12 ...\n",
      " $ Area   : int  22 11 51 22 4 61 16 14 5 6 ...\n",
      " $ Grazed : int  0 0 0 0 0 0 0 0 0 1 ...\n",
      " $ Shrubs : int  1 1 1 1 1 1 1 1 1 0 ...\n",
      " $ Bulokes: int  120 67 85 45 160 75 100 321 275 227 ...\n",
      " $ Timber : int  16 25 13 12 14 6 12 15 8 10 ...\n",
      " $ Minerab: int  0 0 3 2 8 1 8 5 0 4 ...\n"
     ]
    }
   ],
   "source": [
    "str(nminer)"
   ]
  },
  {
   "cell_type": "code",
   "execution_count": 4,
   "metadata": {},
   "outputs": [],
   "source": [
    "nm.m1 <- glm( Minerab ~ Eucs, data=nminer, family=poisson)"
   ]
  },
  {
   "cell_type": "code",
   "execution_count": 5,
   "metadata": {},
   "outputs": [
    {
     "name": "stdout",
     "output_type": "stream",
     "text": [
      "             Estimate Std. Error z value  Pr(>|z|)    \n",
      "(Intercept) -0.876211   0.282793 -3.0984  0.001946 ** \n",
      "Eucs         0.113981   0.012431  9.1691 < 2.2e-16 ***\n",
      "---\n",
      "Signif. codes:  0 '***' 0.001 '**' 0.01 '*' 0.05 '.' 0.1 ' ' 1\n"
     ]
    }
   ],
   "source": [
    "printCoefmat( coef( summary(nm.m1) ) )"
   ]
  },
  {
   "cell_type": "code",
   "execution_count": 6,
   "metadata": {},
   "outputs": [
    {
     "name": "stderr",
     "output_type": "stream",
     "text": [
      "Waiting for profiling to be done...\n"
     ]
    },
    {
     "data": {
      "text/html": [
       "<table>\n",
       "<thead><tr><th></th><th scope=col>2.5 %</th><th scope=col>97.5 %</th></tr></thead>\n",
       "<tbody>\n",
       "\t<tr><th scope=row>(Intercept)</th><td>-1.45700887</td><td>-0.3465538 </td></tr>\n",
       "\t<tr><th scope=row>Eucs</th><td> 0.08985068</td><td> 0.1386685 </td></tr>\n",
       "</tbody>\n",
       "</table>\n"
      ],
      "text/latex": [
       "\\begin{tabular}{r|ll}\n",
       "  & 2.5 \\% & 97.5 \\%\\\\\n",
       "\\hline\n",
       "\t(Intercept) & -1.45700887 & -0.3465538 \\\\\n",
       "\tEucs &  0.08985068 &  0.1386685 \\\\\n",
       "\\end{tabular}\n"
      ],
      "text/markdown": [
       "\n",
       "| <!--/--> | 2.5 % | 97.5 % |\n",
       "|---|---|---|\n",
       "| (Intercept) | -1.45700887 | -0.3465538  |\n",
       "| Eucs |  0.08985068 |  0.1386685  |\n",
       "\n"
      ],
      "text/plain": [
       "            2.5 %       97.5 %    \n",
       "(Intercept) -1.45700887 -0.3465538\n",
       "Eucs         0.08985068  0.1386685"
      ]
     },
     "metadata": {},
     "output_type": "display_data"
    }
   ],
   "source": [
    "confint(nm.m1)"
   ]
  },
  {
   "cell_type": "code",
   "execution_count": 7,
   "metadata": {},
   "outputs": [],
   "source": [
    "out <- predict( nm.m1, # The model used to predict\n",
    "newdata=data.frame(Eucs=10), # New data for predicting\n",
    "se.fit=TRUE)\n",
    "out2 <- predict( nm.m1, newdata=data.frame(Eucs=10), se.fit=TRUE,\n",
    "type=\"response\")"
   ]
  },
  {
   "cell_type": "code",
   "execution_count": 8,
   "metadata": {},
   "outputs": [
    {
     "data": {
      "text/html": [
       "<dl class=dl-horizontal>\n",
       "\t<dt>1</dt>\n",
       "\t\t<dd>1.30161014521247</dd>\n",
       "\t<dt>1</dt>\n",
       "\t\t<dd>1.30161014521247</dd>\n",
       "</dl>\n"
      ],
      "text/latex": [
       "\\begin{description*}\n",
       "\\item[1] 1.30161014521247\n",
       "\\item[1] 1.30161014521247\n",
       "\\end{description*}\n"
      ],
      "text/markdown": [
       "1\n",
       ":   1.301610145212471\n",
       ":   1.30161014521247\n",
       "\n"
      ],
      "text/plain": [
       "      1       1 \n",
       "1.30161 1.30161 "
      ]
     },
     "metadata": {},
     "output_type": "display_data"
    }
   ],
   "source": [
    "c( exp( out$fit ), out2$fit )"
   ]
  },
  {
   "cell_type": "code",
   "execution_count": 9,
   "metadata": {},
   "outputs": [],
   "source": [
    "zstar <- qnorm(p=0.975) \n",
    "ci.lo <- exp( out$fit - zstar*out$se.fit)\n",
    "ci.hi <- exp( out$fit + zstar*out$se.fit)"
   ]
  },
  {
   "cell_type": "code",
   "execution_count": 10,
   "metadata": {},
   "outputs": [
    {
     "data": {
      "text/html": [
       "<dl class=dl-horizontal>\n",
       "\t<dt>Lower.1</dt>\n",
       "\t\t<dd>0.924012983766937</dd>\n",
       "\t<dt>Estimate.1</dt>\n",
       "\t\t<dd>1.30161014521247</dd>\n",
       "\t<dt>Upper.1</dt>\n",
       "\t\t<dd>1.83351208249618</dd>\n",
       "</dl>\n"
      ],
      "text/latex": [
       "\\begin{description*}\n",
       "\\item[Lower.1] 0.924012983766937\n",
       "\\item[Estimate.1] 1.30161014521247\n",
       "\\item[Upper.1] 1.83351208249618\n",
       "\\end{description*}\n"
      ],
      "text/markdown": [
       "Lower.1\n",
       ":   0.924012983766937Estimate.1\n",
       ":   1.30161014521247Upper.1\n",
       ":   1.83351208249618\n",
       "\n"
      ],
      "text/plain": [
       "   Lower.1 Estimate.1    Upper.1 \n",
       "  0.924013   1.301610   1.833512 "
      ]
     },
     "metadata": {},
     "output_type": "display_data"
    }
   ],
   "source": [
    "c( Lower=ci.lo, Estimate=exp(out$fit), Upper=ci.hi)"
   ]
  },
  {
   "cell_type": "code",
   "execution_count": 11,
   "metadata": {},
   "outputs": [
    {
     "data": {
      "image/png": "[encoded data removed]",
      "text/plain": [
       "plot without title"
      ]
     },
     "metadata": {},
     "output_type": "display_data"
    }
   ],
   "source": [
    "newEucs <- seq(0, 35, length=100)\n",
    "newMab <- predict( nm.m1, se.fit=TRUE, newdata=data.frame(Eucs=newEucs))\n",
    "ci.lo <- exp(newMab$fit-zstar*newMab$se.fit)\n",
    "ci.hi <- exp(newMab$fit+zstar*newMab$se.fit)\n",
    "plot( Minerab~Eucs, data=nminer,\n",
    "xlim=c(0, 35), ylim=c(0, 20), las=1, pch=19,\n",
    "xlab=\"No. eucalypts per 2 ha transect\", ylab=\"No. noisy miners\")\n",
    "lines(exp(newMab$fit) ~ newEucs, lwd=2)\n",
    "lines(ci.lo ~ newEucs, lty=2); lines(ci.hi ~ newEucs, lty=2)"
   ]
  },
  {
   "cell_type": "code",
   "execution_count": 12,
   "metadata": {},
   "outputs": [],
   "source": [
    "nm.m0 <- glm( Minerab ~ 1, data=nminer, family=poisson)\n",
    "nm.m1 <- glm( Minerab ~ Eucs, data=nminer, family=poisson)"
   ]
  },
  {
   "cell_type": "code",
   "execution_count": 13,
   "metadata": {},
   "outputs": [
    {
     "data": {
      "text/html": [
       "<table>\n",
       "<thead><tr><th></th><th scope=col>Estimate</th><th scope=col>Std. Error</th><th scope=col>z value</th><th scope=col>Pr(&gt;|z|)</th></tr></thead>\n",
       "<tbody>\n",
       "\t<tr><th scope=row>(Intercept)</th><td>0.9968296   </td><td>0.1091089   </td><td>9.136095    </td><td>6.474844e-20</td></tr>\n",
       "</tbody>\n",
       "</table>\n"
      ],
      "text/latex": [
       "\\begin{tabular}{r|llll}\n",
       "  & Estimate & Std. Error & z value & Pr(>\\textbar{}z\\textbar{})\\\\\n",
       "\\hline\n",
       "\t(Intercept) & 0.9968296    & 0.1091089    & 9.136095     & 6.474844e-20\\\\\n",
       "\\end{tabular}\n"
      ],
      "text/markdown": [
       "\n",
       "| <!--/--> | Estimate | Std. Error | z value | Pr(>|z|) |\n",
       "|---|---|---|---|---|\n",
       "| (Intercept) | 0.9968296    | 0.1091089    | 9.136095     | 6.474844e-20 |\n",
       "\n"
      ],
      "text/plain": [
       "            Estimate  Std. Error z value  Pr(>|z|)    \n",
       "(Intercept) 0.9968296 0.1091089  9.136095 6.474844e-20"
      ]
     },
     "metadata": {},
     "output_type": "display_data"
    },
    {
     "data": {
      "text/html": [
       "<table>\n",
       "<thead><tr><th></th><th scope=col>Estimate</th><th scope=col>Std. Error</th><th scope=col>z value</th><th scope=col>Pr(&gt;|z|)</th></tr></thead>\n",
       "<tbody>\n",
       "\t<tr><th scope=row>(Intercept)</th><td>-0.8762114  </td><td>0.28279293  </td><td>-3.098421   </td><td>1.945551e-03</td></tr>\n",
       "\t<tr><th scope=row>Eucs</th><td> 0.1139813  </td><td>0.01243104  </td><td> 9.169092   </td><td>4.770189e-20</td></tr>\n",
       "</tbody>\n",
       "</table>\n"
      ],
      "text/latex": [
       "\\begin{tabular}{r|llll}\n",
       "  & Estimate & Std. Error & z value & Pr(>\\textbar{}z\\textbar{})\\\\\n",
       "\\hline\n",
       "\t(Intercept) & -0.8762114   & 0.28279293   & -3.098421    & 1.945551e-03\\\\\n",
       "\tEucs &  0.1139813   & 0.01243104   &  9.169092    & 4.770189e-20\\\\\n",
       "\\end{tabular}\n"
      ],
      "text/markdown": [
       "\n",
       "| <!--/--> | Estimate | Std. Error | z value | Pr(>|z|) |\n",
       "|---|---|---|---|---|\n",
       "| (Intercept) | -0.8762114   | 0.28279293   | -3.098421    | 1.945551e-03 |\n",
       "| Eucs |  0.1139813   | 0.01243104   |  9.169092    | 4.770189e-20 |\n",
       "\n"
      ],
      "text/plain": [
       "            Estimate   Std. Error z value   Pr(>|z|)    \n",
       "(Intercept) -0.8762114 0.28279293 -3.098421 1.945551e-03\n",
       "Eucs         0.1139813 0.01243104  9.169092 4.770189e-20"
      ]
     },
     "metadata": {},
     "output_type": "display_data"
    }
   ],
   "source": [
    "coef(summary(nm.m0))\n",
    "coef(summary(nm.m1))"
   ]
  },
  {
   "cell_type": "code",
   "execution_count": 14,
   "metadata": {},
   "outputs": [
    {
     "data": {
      "text/html": [
       "<dl class=dl-horizontal>\n",
       "\t<dt>Dev(m0)</dt>\n",
       "\t\t<dd>150.545324036958</dd>\n",
       "\t<dt>Dev(m1)</dt>\n",
       "\t\t<dd>63.3179777263514</dd>\n",
       "</dl>\n"
      ],
      "text/latex": [
       "\\begin{description*}\n",
       "\\item[Dev(m0)] 150.545324036958\n",
       "\\item[Dev(m1)] 63.3179777263514\n",
       "\\end{description*}\n"
      ],
      "text/markdown": [
       "Dev(m0)\n",
       ":   150.545324036958Dev(m1)\n",
       ":   63.3179777263514\n",
       "\n"
      ],
      "text/plain": [
       "  Dev(m0)   Dev(m1) \n",
       "150.54532  63.31798 "
      ]
     },
     "metadata": {},
     "output_type": "display_data"
    }
   ],
   "source": [
    "c( \"Dev(m0)\"= deviance( nm.m0 ), \"Dev(m1)\" = deviance( nm.m1 ) )"
   ]
  },
  {
   "cell_type": "code",
   "execution_count": 15,
   "metadata": {},
   "outputs": [
    {
     "data": {
      "text/html": [
       "<dl class=dl-horizontal>\n",
       "\t<dt>df(m0)</dt>\n",
       "\t\t<dd>30</dd>\n",
       "\t<dt>df(m1)</dt>\n",
       "\t\t<dd>29</dd>\n",
       "</dl>\n"
      ],
      "text/latex": [
       "\\begin{description*}\n",
       "\\item[df(m0)] 30\n",
       "\\item[df(m1)] 29\n",
       "\\end{description*}\n"
      ],
      "text/markdown": [
       "df(m0)\n",
       ":   30df(m1)\n",
       ":   29\n",
       "\n"
      ],
      "text/plain": [
       "df(m0) df(m1) \n",
       "    30     29 "
      ]
     },
     "metadata": {},
     "output_type": "display_data"
    }
   ],
   "source": [
    "c( \"df(m0)\" = df.residual( nm.m0 ), \"df(m1)\" = df.residual( nm.m1 ) )"
   ]
  },
  {
   "cell_type": "code",
   "execution_count": 16,
   "metadata": {},
   "outputs": [
    {
     "data": {
      "text/html": [
       "87.2273463106062"
      ],
      "text/latex": [
       "87.2273463106062"
      ],
      "text/markdown": [
       "87.2273463106062"
      ],
      "text/plain": [
       "[1] 87.22735"
      ]
     },
     "metadata": {},
     "output_type": "display_data"
    }
   ],
   "source": [
    "L <- deviance( nm.m0 ) - deviance( nm.m1 ); L"
   ]
  },
  {
   "cell_type": "code",
   "execution_count": 17,
   "metadata": {},
   "outputs": [
    {
     "data": {
      "text/html": [
       "9.67369726235193e-21"
      ],
      "text/latex": [
       "9.67369726235193e-21"
      ],
      "text/markdown": [
       "9.67369726235193e-21"
      ],
      "text/plain": [
       "[1] 9.673697e-21"
      ]
     },
     "metadata": {},
     "output_type": "display_data"
    }
   ],
   "source": [
    "pchisq(L, df.residual(nm.m0) - df.residual(nm.m1), lower.tail=FALSE )"
   ]
  },
  {
   "cell_type": "code",
   "execution_count": 18,
   "metadata": {},
   "outputs": [
    {
     "name": "stderr",
     "output_type": "stream",
     "text": [
      "Warning message:\n",
      "\"package 'statmod' was built under R version 3.6.3\""
     ]
    }
   ],
   "source": [
    "library(statmod)"
   ]
  },
  {
   "cell_type": "code",
   "execution_count": 19,
   "metadata": {},
   "outputs": [],
   "source": [
    "nm.m0 <- glm( Minerab ~ 1, data=nminer, family=poisson)"
   ]
  },
  {
   "cell_type": "code",
   "execution_count": 20,
   "metadata": {},
   "outputs": [
    {
     "data": {
      "text/html": [
       "<dl class=dl-horizontal>\n",
       "\t<dt>score.stat</dt>\n",
       "\t\t<dd>9.7565</dd>\n",
       "\t<dt>P</dt>\n",
       "\t\t<dd>0</dd>\n",
       "</dl>\n"
      ],
      "text/latex": [
       "\\begin{description*}\n",
       "\\item[score.stat] 9.7565\n",
       "\\item[P] 0\n",
       "\\end{description*}\n"
      ],
      "text/markdown": [
       "score.stat\n",
       ":   9.7565P\n",
       ":   0\n",
       "\n"
      ],
      "text/plain": [
       "score.stat          P \n",
       "    9.7565     0.0000 "
      ]
     },
     "metadata": {},
     "output_type": "display_data"
    }
   ],
   "source": [
    "z.stat <- glm.scoretest(nm.m0, nminer$Eucs)\n",
    "p.val <- 2 * pnorm( abs(z.stat), lower.tail=FALSE)\n",
    "round( c(score.stat=z.stat, P=p.val), 4)"
   ]
  },
  {
   "cell_type": "code",
   "execution_count": 21,
   "metadata": {},
   "outputs": [],
   "source": [
    "Y <- matrix(c(10,20,20,10),2,2)\n",
    "rownames(Y) <- c(\"A1\",\"A2\")\n",
    "colnames(Y) <- c(\"B1\",\"B2\")"
   ]
  },
  {
   "cell_type": "code",
   "execution_count": 22,
   "metadata": {},
   "outputs": [
    {
     "data": {
      "text/html": [
       "<table>\n",
       "<thead><tr><th></th><th scope=col>B1</th><th scope=col>B2</th></tr></thead>\n",
       "<tbody>\n",
       "\t<tr><th scope=row>A1</th><td>10</td><td>20</td></tr>\n",
       "\t<tr><th scope=row>A2</th><td>20</td><td>10</td></tr>\n",
       "</tbody>\n",
       "</table>\n"
      ],
      "text/latex": [
       "\\begin{tabular}{r|ll}\n",
       "  & B1 & B2\\\\\n",
       "\\hline\n",
       "\tA1 & 10 & 20\\\\\n",
       "\tA2 & 20 & 10\\\\\n",
       "\\end{tabular}\n"
      ],
      "text/markdown": [
       "\n",
       "| <!--/--> | B1 | B2 |\n",
       "|---|---|---|\n",
       "| A1 | 10 | 20 |\n",
       "| A2 | 20 | 10 |\n",
       "\n"
      ],
      "text/plain": [
       "   B1 B2\n",
       "A1 10 20\n",
       "A2 20 10"
      ]
     },
     "metadata": {},
     "output_type": "display_data"
    }
   ],
   "source": [
    "Y"
   ]
  },
  {
   "cell_type": "code",
   "execution_count": 23,
   "metadata": {},
   "outputs": [
    {
     "data": {
      "text/html": [
       "0.00982327450751926"
      ],
      "text/latex": [
       "0.00982327450751926"
      ],
      "text/markdown": [
       "0.00982327450751926"
      ],
      "text/plain": [
       "[1] 0.009823275"
      ]
     },
     "metadata": {},
     "output_type": "display_data"
    }
   ],
   "source": [
    "chisq.test(Y, correct=FALSE)$p.value"
   ]
  },
  {
   "cell_type": "code",
   "execution_count": 24,
   "metadata": {},
   "outputs": [
    {
     "data": {
      "text/html": [
       "0.00982323133410316"
      ],
      "text/latex": [
       "0.00982323133410316"
      ],
      "text/markdown": [
       "0.00982323133410316"
      ],
      "text/plain": [
       "[1] 0.009823231"
      ]
     },
     "metadata": {},
     "output_type": "display_data"
    }
   ],
   "source": [
    "y <- as.vector(Y)\n",
    "A <- factor(c(1,2,1,2))\n",
    "B <- factor(c(1,1,2,2))\n",
    "fit <- glm(y~A+B, family=poisson)\n",
    "z.stat <- glm.scoretest(fit, x2=c(0,0,0,1))\n",
    "2 * pnorm( -abs(z.stat) )"
   ]
  },
  {
   "cell_type": "code",
   "execution_count": 25,
   "metadata": {},
   "outputs": [],
   "source": [
    "y <- c(0, 0, 0, 1, 0, 1, 1, 1, 1)\n",
    "x <- 1:9\n",
    "fit <- glm(y~x, family=binomial)"
   ]
  },
  {
   "cell_type": "code",
   "execution_count": 26,
   "metadata": {},
   "outputs": [
    {
     "data": {
      "text/html": [
       "0.0317460317460317"
      ],
      "text/latex": [
       "0.0317460317460317"
      ],
      "text/markdown": [
       "0.0317460317460317"
      ],
      "text/plain": [
       "[1] 0.03174603"
      ]
     },
     "metadata": {},
     "output_type": "display_data"
    }
   ],
   "source": [
    "wilcox.test(x ~ y)$p.value"
   ]
  },
  {
   "cell_type": "code",
   "execution_count": 27,
   "metadata": {},
   "outputs": [
    {
     "data": {
      "text/html": [
       "<table>\n",
       "<thead><tr><th></th><th scope=col>Estimate</th><th scope=col>Std. Error</th><th scope=col>z value</th><th scope=col>Pr(&gt;|z|)</th></tr></thead>\n",
       "<tbody>\n",
       "\t<tr><th scope=row>(Intercept)</th><td>-5.811289</td><td>4.0019503</td><td>-1.452114</td><td>0.1464699</td></tr>\n",
       "\t<tr><th scope=row>x</th><td> 1.292257</td><td>0.8497008</td><td> 1.520838</td><td>0.1283006</td></tr>\n",
       "</tbody>\n",
       "</table>\n"
      ],
      "text/latex": [
       "\\begin{tabular}{r|llll}\n",
       "  & Estimate & Std. Error & z value & Pr(>\\textbar{}z\\textbar{})\\\\\n",
       "\\hline\n",
       "\t(Intercept) & -5.811289 & 4.0019503 & -1.452114 & 0.1464699\\\\\n",
       "\tx &  1.292257 & 0.8497008 &  1.520838 & 0.1283006\\\\\n",
       "\\end{tabular}\n"
      ],
      "text/markdown": [
       "\n",
       "| <!--/--> | Estimate | Std. Error | z value | Pr(>|z|) |\n",
       "|---|---|---|---|---|\n",
       "| (Intercept) | -5.811289 | 4.0019503 | -1.452114 | 0.1464699 |\n",
       "| x |  1.292257 | 0.8497008 |  1.520838 | 0.1283006 |\n",
       "\n"
      ],
      "text/plain": [
       "            Estimate  Std. Error z value   Pr(>|z|) \n",
       "(Intercept) -5.811289 4.0019503  -1.452114 0.1464699\n",
       "x            1.292257 0.8497008   1.520838 0.1283006"
      ]
     },
     "metadata": {},
     "output_type": "display_data"
    }
   ],
   "source": [
    "coef(summary(fit))"
   ]
  },
  {
   "cell_type": "code",
   "execution_count": 28,
   "metadata": {},
   "outputs": [
    {
     "data": {
      "text/html": [
       "<table>\n",
       "<thead><tr><th></th><th scope=col>Df</th><th scope=col>Deviance</th><th scope=col>Resid. Df</th><th scope=col>Resid. Dev</th><th scope=col>Pr(&gt;Chi)</th></tr></thead>\n",
       "<tbody>\n",
       "\t<tr><th scope=row>x</th><td>1          </td><td>7.353132   </td><td>7          </td><td>5.012176   </td><td>0.006694603</td></tr>\n",
       "</tbody>\n",
       "</table>\n"
      ],
      "text/latex": [
       "\\begin{tabular}{r|lllll}\n",
       "  & Df & Deviance & Resid. Df & Resid. Dev & Pr(>Chi)\\\\\n",
       "\\hline\n",
       "\tx & 1           & 7.353132    & 7           & 5.012176    & 0.006694603\\\\\n",
       "\\end{tabular}\n"
      ],
      "text/markdown": [
       "\n",
       "| <!--/--> | Df | Deviance | Resid. Df | Resid. Dev | Pr(>Chi) |\n",
       "|---|---|---|---|---|---|\n",
       "| x | 1           | 7.353132    | 7           | 5.012176    | 0.006694603 |\n",
       "\n"
      ],
      "text/plain": [
       "  Df Deviance Resid. Df Resid. Dev Pr(>Chi)   \n",
       "x 1  7.353132 7         5.012176   0.006694603"
      ]
     },
     "metadata": {},
     "output_type": "display_data"
    }
   ],
   "source": [
    "as.data.frame(anova(fit, test=\"Chisq\")[2,])"
   ]
  },
  {
   "cell_type": "code",
   "execution_count": 29,
   "metadata": {},
   "outputs": [
    {
     "data": {
      "text/html": [
       "<table>\n",
       "<thead><tr><th></th><th scope=col>Df</th><th scope=col>Deviance</th><th scope=col>Resid. Df</th><th scope=col>Resid. Dev</th><th scope=col>Pr(&gt;Chi)</th></tr></thead>\n",
       "<tbody>\n",
       "\t<tr><th scope=row>NULL</th><td>NA         </td><td>      NA   </td><td>8          </td><td>12.365308  </td><td>         NA</td></tr>\n",
       "\t<tr><th scope=row>x</th><td> 1         </td><td>7.353132   </td><td>7          </td><td> 5.012176  </td><td>0.006694603</td></tr>\n",
       "</tbody>\n",
       "</table>\n"
      ],
      "text/latex": [
       "\\begin{tabular}{r|lllll}\n",
       "  & Df & Deviance & Resid. Df & Resid. Dev & Pr(>Chi)\\\\\n",
       "\\hline\n",
       "\tNULL & NA          &       NA    & 8           & 12.365308   &          NA\\\\\n",
       "\tx &  1          & 7.353132    & 7           &  5.012176   & 0.006694603\\\\\n",
       "\\end{tabular}\n"
      ],
      "text/markdown": [
       "\n",
       "| <!--/--> | Df | Deviance | Resid. Df | Resid. Dev | Pr(>Chi) |\n",
       "|---|---|---|---|---|---|\n",
       "| NULL | NA          |       NA    | 8           | 12.365308   |          NA |\n",
       "| x |  1          | 7.353132    | 7           |  5.012176   | 0.006694603 |\n",
       "\n"
      ],
      "text/plain": [
       "     Df Deviance Resid. Df Resid. Dev Pr(>Chi)   \n",
       "NULL NA       NA 8         12.365308           NA\n",
       "x     1 7.353132 7          5.012176  0.006694603"
      ]
     },
     "metadata": {},
     "output_type": "display_data"
    }
   ],
   "source": [
    "anova(fit, test=\"Chisq\")"
   ]
  },
  {
   "cell_type": "code",
   "execution_count": 30,
   "metadata": {},
   "outputs": [],
   "source": [
    "fit <- glm(y~1, family=binomial)"
   ]
  },
  {
   "cell_type": "code",
   "execution_count": 31,
   "metadata": {},
   "outputs": [
    {
     "data": {
      "text/html": [
       "0.0193723733806192"
      ],
      "text/latex": [
       "0.0193723733806192"
      ],
      "text/markdown": [
       "0.0193723733806192"
      ],
      "text/plain": [
       "[1] 0.01937237"
      ]
     },
     "metadata": {},
     "output_type": "display_data"
    }
   ],
   "source": [
    "2 * pnorm(-abs(glm.scoretest(fit, x)))"
   ]
  },
  {
   "cell_type": "code",
   "execution_count": 32,
   "metadata": {},
   "outputs": [
    {
     "data": {
      "text/plain": [
       "\n",
       "\tChi-squared test for given probabilities\n",
       "\n",
       "data:  y\n",
       "X-squared = 6.4667, df = 2, p-value = 0.03943\n"
      ]
     },
     "metadata": {},
     "output_type": "display_data"
    }
   ],
   "source": [
    "y <- c(15, 26, 4)\n",
    "x <- c(1/4, 1/2, 1/4)\n",
    "chisq.test(x=y, p=x)"
   ]
  },
  {
   "cell_type": "code",
   "execution_count": 33,
   "metadata": {},
   "outputs": [],
   "source": [
    "fit <- glm( y ~ 0+x, family=poisson)"
   ]
  },
  {
   "cell_type": "code",
   "execution_count": 34,
   "metadata": {},
   "outputs": [
    {
     "name": "stdout",
     "output_type": "stream",
     "text": [
      "         GoF.Statistic DF P.Value\n",
      "Deviance          12.2  2 0.00227\n",
      "Pearson           17.5  2 0.00016\n"
     ]
    }
   ],
   "source": [
    "pearson.gof <- sum(fit$weights * fit$residuals^2)\n",
    "tab <- data.frame(GoF.Statistic=c(fit$deviance, pearson.gof))\n",
    "tab$DF <- rep(fit$df.residual, 2)\n",
    "tab$P.Value <- pchisq(tab$GoF, df=tab$DF, lower.tail=FALSE)\n",
    "row.names(tab) <- c(\"Deviance\", \"Pearson\"); print(tab, digits=3)"
   ]
  },
  {
   "cell_type": "code",
   "execution_count": 35,
   "metadata": {},
   "outputs": [
    {
     "name": "stdout",
     "output_type": "stream",
     "text": [
      "            Estimate Std. Error t value  Pr(>|t|)    \n",
      "(Intercept) -6.69111    0.78784 -8.4929 3.108e-09 ***\n",
      "log(Girth)   1.98041    0.07389 26.8021 < 2.2e-16 ***\n",
      "log(Height)  1.13288    0.20138  5.6255 5.037e-06 ***\n",
      "---\n",
      "Signif. codes:  0 '***' 0.001 '**' 0.01 '*' 0.05 '.' 0.1 ' ' 1\n"
     ]
    }
   ],
   "source": [
    "data(trees)\n",
    "tr.m2 <- glm( Volume ~ log(Girth) + log(Height),\n",
    "family=Gamma(link=\"log\"), data=trees )\n",
    "printCoefmat(coef(summary(tr.m2)))"
   ]
  },
  {
   "cell_type": "code",
   "execution_count": 36,
   "metadata": {},
   "outputs": [
    {
     "data": {
      "text/html": [
       "0.00655411658657532"
      ],
      "text/latex": [
       "0.00655411658657532"
      ],
      "text/markdown": [
       "0.00655411658657532"
      ],
      "text/plain": [
       "[1] 0.006554117"
      ]
     },
     "metadata": {},
     "output_type": "display_data"
    },
    {
     "data": {
      "text/html": [
       "0.00642728595936455"
      ],
      "text/latex": [
       "0.00642728595936455"
      ],
      "text/markdown": [
       "0.00642728595936455"
      ],
      "text/plain": [
       "[1] 0.006427286"
      ]
     },
     "metadata": {},
     "output_type": "display_data"
    },
    {
     "data": {
      "text/html": [
       "0.00642728595936455"
      ],
      "text/latex": [
       "0.00642728595936455"
      ],
      "text/markdown": [
       "0.00642728595936455"
      ],
      "text/plain": [
       "[1] 0.006427286"
      ]
     },
     "metadata": {},
     "output_type": "display_data"
    }
   ],
   "source": [
    "phi.meandev <- deviance(tr.m2) / df.residual(tr.m2)\n",
    "phi.pearson <- sum(tr.m2$weights * tr.m2$residuals^2) / df.residual(tr.m2)\n",
    "\n",
    "phi.meandev\n",
    "phi.pearson\n",
    "summary(tr.m2)$dispersion"
   ]
  },
  {
   "cell_type": "code",
   "execution_count": 37,
   "metadata": {},
   "outputs": [
    {
     "name": "stdout",
     "output_type": "stream",
     "text": [
      "             Estimate Std. Error z value  Pr(>|z|)    \n",
      "(Intercept) -6.691109   0.795578 -8.4104 < 2.2e-16 ***\n",
      "log(Girth)   1.980412   0.074616 26.5415 < 2.2e-16 ***\n",
      "log(Height)  1.132878   0.203361  5.5708 2.536e-08 ***\n",
      "---\n",
      "Signif. codes:  0 '***' 0.001 '**' 0.01 '*' 0.05 '.' 0.1 ' ' 1\n"
     ]
    }
   ],
   "source": [
    "printCoefmat(coef(summary(tr.m2, dispersion=phi.meandev)))"
   ]
  },
  {
   "cell_type": "code",
   "execution_count": 38,
   "metadata": {},
   "outputs": [
    {
     "name": "stdout",
     "output_type": "stream",
     "text": [
      "            Estimate Std. Error z value  Pr(>|z|)    \n",
      "(Intercept) -6.69111    0.78784 -8.4929 < 2.2e-16 ***\n",
      "log(Girth)   1.98041    0.07389 26.8021 < 2.2e-16 ***\n",
      "log(Height)  1.13288    0.20138  5.6255  1.85e-08 ***\n",
      "---\n",
      "Signif. codes:  0 '***' 0.001 '**' 0.01 '*' 0.05 '.' 0.1 ' ' 1\n"
     ]
    }
   ],
   "source": [
    "printCoefmat(coef(summary(tr.m2, dispersion=phi.pearson)))"
   ]
  },
  {
   "cell_type": "code",
   "execution_count": 39,
   "metadata": {},
   "outputs": [
    {
     "data": {
      "text/html": [
       "<table>\n",
       "<thead><tr><th></th><th scope=col>t-scores</th><th scope=col>P-values</th></tr></thead>\n",
       "<tbody>\n",
       "\t<tr><th scope=row>Cone:</th><td>-0.483750 </td><td>0.63232520</td></tr>\n",
       "\t<tr><th scope=row>Cylinder:</th><td>-1.878206 </td><td>0.07080348</td></tr>\n",
       "</tbody>\n",
       "</table>\n"
      ],
      "text/latex": [
       "\\begin{tabular}{r|ll}\n",
       "  & t-scores & P-values\\\\\n",
       "\\hline\n",
       "\tCone: & -0.483750  & 0.63232520\\\\\n",
       "\tCylinder: & -1.878206  & 0.07080348\\\\\n",
       "\\end{tabular}\n"
      ],
      "text/markdown": [
       "\n",
       "| <!--/--> | t-scores | P-values |\n",
       "|---|---|---|\n",
       "| Cone: | -0.483750  | 0.63232520 |\n",
       "| Cylinder: | -1.878206  | 0.07080348 |\n",
       "\n"
      ],
      "text/plain": [
       "          t-scores  P-values  \n",
       "Cone:     -0.483750 0.63232520\n",
       "Cylinder: -1.878206 0.07080348"
      ]
     },
     "metadata": {},
     "output_type": "display_data"
    }
   ],
   "source": [
    "beta0.hat <- coef(summary(tr.m2))[1,\"Estimate\"]\n",
    "beta0.se <- coef(summary(tr.m2))[1,\"Std. Error\"]\n",
    "beta0.cone <- log( pi/1728 )\n",
    "t1 <- ( beta0.hat - beta0.cone ) / beta0.se\n",
    "beta0.cylinder <- log( pi/576 )\n",
    "t2 <- ( beta0.hat - beta0.cylinder ) / beta0.se\n",
    "p1 <- 2 * pt( -abs(t1), df=df.residual(tr.m2) )\n",
    "p2 <- 2 * pt( -abs(t2), df=df.residual(tr.m2) )\n",
    "tab <- array( c(t1, t2, p1, p2), dim=c(2, 2))\n",
    "rownames(tab) <- c(\"Cone:\",\"Cylinder:\")\n",
    "colnames(tab) <- c(\"t-scores\",\"P-values\");\n",
    "tab"
   ]
  },
  {
   "cell_type": "code",
   "execution_count": 40,
   "metadata": {},
   "outputs": [
    {
     "name": "stderr",
     "output_type": "stream",
     "text": [
      "Waiting for profiling to be done...\n"
     ]
    },
    {
     "data": {
      "text/html": [
       "<table>\n",
       "<thead><tr><th></th><th scope=col>2.5 %</th><th scope=col>97.5 %</th></tr></thead>\n",
       "<tbody>\n",
       "\t<tr><th scope=row>(Intercept)</th><td>-8.2358004</td><td>-5.139294 </td></tr>\n",
       "\t<tr><th scope=row>log(Girth)</th><td> 1.8359439</td><td> 2.124974 </td></tr>\n",
       "\t<tr><th scope=row>log(Height)</th><td> 0.7364235</td><td> 1.528266 </td></tr>\n",
       "</tbody>\n",
       "</table>\n"
      ],
      "text/latex": [
       "\\begin{tabular}{r|ll}\n",
       "  & 2.5 \\% & 97.5 \\%\\\\\n",
       "\\hline\n",
       "\t(Intercept) & -8.2358004 & -5.139294 \\\\\n",
       "\tlog(Girth) &  1.8359439 &  2.124974 \\\\\n",
       "\tlog(Height) &  0.7364235 &  1.528266 \\\\\n",
       "\\end{tabular}\n"
      ],
      "text/markdown": [
       "\n",
       "| <!--/--> | 2.5 % | 97.5 % |\n",
       "|---|---|---|\n",
       "| (Intercept) | -8.2358004 | -5.139294  |\n",
       "| log(Girth) |  1.8359439 |  2.124974  |\n",
       "| log(Height) |  0.7364235 |  1.528266  |\n",
       "\n"
      ],
      "text/plain": [
       "            2.5 %      97.5 %   \n",
       "(Intercept) -8.2358004 -5.139294\n",
       "log(Girth)   1.8359439  2.124974\n",
       "log(Height)  0.7364235  1.528266"
      ]
     },
     "metadata": {},
     "output_type": "display_data"
    }
   ],
   "source": [
    "confint(tr.m2)"
   ]
  },
  {
   "cell_type": "code",
   "execution_count": 41,
   "metadata": {},
   "outputs": [],
   "source": [
    "out <- predict( tr.m2, newdata=data.frame(Height=70, Girth=15),\n",
    "se.fit=TRUE)"
   ]
  },
  {
   "cell_type": "code",
   "execution_count": 42,
   "metadata": {},
   "outputs": [
    {
     "data": {
      "text/html": [
       "<dl class=dl-horizontal>\n",
       "\t<dt>Lower.1</dt>\n",
       "\t\t<dd>30.8190164832658</dd>\n",
       "\t<dt>Estimate.1</dt>\n",
       "\t\t<dd>32.6215696842669</dd>\n",
       "\t<dt>Upper.1</dt>\n",
       "\t\t<dd>34.5295512348132</dd>\n",
       "</dl>\n"
      ],
      "text/latex": [
       "\\begin{description*}\n",
       "\\item[Lower.1] 30.8190164832658\n",
       "\\item[Estimate.1] 32.6215696842669\n",
       "\\item[Upper.1] 34.5295512348132\n",
       "\\end{description*}\n"
      ],
      "text/markdown": [
       "Lower.1\n",
       ":   30.8190164832658Estimate.1\n",
       ":   32.6215696842669Upper.1\n",
       ":   34.5295512348132\n",
       "\n"
      ],
      "text/plain": [
       "   Lower.1 Estimate.1    Upper.1 \n",
       "  30.81902   32.62157   34.52955 "
      ]
     },
     "metadata": {},
     "output_type": "display_data"
    }
   ],
   "source": [
    "tstar <- qt(p=0.975, df=df.residual(tr.m2)) # For 95% CI\n",
    "ci.lo <- exp(out$fit - tstar*out$se.fit)\n",
    "ci.hi <- exp(out$fit + tstar*out$se.fit)\n",
    "c( Lower=ci.lo, Estimate=exp(out$fit), Upper=ci.hi)"
   ]
  },
  {
   "cell_type": "code",
   "execution_count": 43,
   "metadata": {},
   "outputs": [],
   "source": [
    "newHt <- seq(min(trees$Height), max(trees$Height), by=4)"
   ]
  },
  {
   "cell_type": "code",
   "execution_count": 44,
   "metadata": {},
   "outputs": [],
   "source": [
    "newVol <- predict( tr.m2, se.fit=TRUE,\n",
    "newdata=data.frame(Height=newHt, Girth=15))"
   ]
  },
  {
   "cell_type": "code",
   "execution_count": 45,
   "metadata": {},
   "outputs": [
    {
     "data": {
      "text/html": [
       "<table>\n",
       "<thead><tr><th scope=col>newHt</th><th scope=col>ci.lo</th><th scope=col>Vol</th><th scope=col>ci.hi</th><th scope=col>width</th></tr></thead>\n",
       "<tbody>\n",
       "\t<tr><td>63      </td><td>26.33168</td><td>28.95124</td><td>31.83141</td><td>5.499733</td></tr>\n",
       "\t<tr><td>67      </td><td>28.88896</td><td>31.04230</td><td>33.35614</td><td>4.467187</td></tr>\n",
       "\t<tr><td>71      </td><td>31.45834</td><td>33.15002</td><td>34.93267</td><td>3.474330</td></tr>\n",
       "\t<tr><td>75      </td><td>33.93192</td><td>35.27358</td><td>36.66829</td><td>2.736366</td></tr>\n",
       "\t<tr><td>79      </td><td>36.10127</td><td>37.41225</td><td>38.77084</td><td>2.669571</td></tr>\n",
       "\t<tr><td>83      </td><td>37.87594</td><td>39.56537</td><td>41.33016</td><td>3.454225</td></tr>\n",
       "\t<tr><td>87      </td><td>39.40973</td><td>41.73232</td><td>44.19180</td><td>4.782065</td></tr>\n",
       "</tbody>\n",
       "</table>\n"
      ],
      "text/latex": [
       "\\begin{tabular}{r|lllll}\n",
       " newHt & ci.lo & Vol & ci.hi & width\\\\\n",
       "\\hline\n",
       "\t 63       & 26.33168 & 28.95124 & 31.83141 & 5.499733\\\\\n",
       "\t 67       & 28.88896 & 31.04230 & 33.35614 & 4.467187\\\\\n",
       "\t 71       & 31.45834 & 33.15002 & 34.93267 & 3.474330\\\\\n",
       "\t 75       & 33.93192 & 35.27358 & 36.66829 & 2.736366\\\\\n",
       "\t 79       & 36.10127 & 37.41225 & 38.77084 & 2.669571\\\\\n",
       "\t 83       & 37.87594 & 39.56537 & 41.33016 & 3.454225\\\\\n",
       "\t 87       & 39.40973 & 41.73232 & 44.19180 & 4.782065\\\\\n",
       "\\end{tabular}\n"
      ],
      "text/markdown": [
       "\n",
       "| newHt | ci.lo | Vol | ci.hi | width |\n",
       "|---|---|---|---|---|\n",
       "| 63       | 26.33168 | 28.95124 | 31.83141 | 5.499733 |\n",
       "| 67       | 28.88896 | 31.04230 | 33.35614 | 4.467187 |\n",
       "| 71       | 31.45834 | 33.15002 | 34.93267 | 3.474330 |\n",
       "| 75       | 33.93192 | 35.27358 | 36.66829 | 2.736366 |\n",
       "| 79       | 36.10127 | 37.41225 | 38.77084 | 2.669571 |\n",
       "| 83       | 37.87594 | 39.56537 | 41.33016 | 3.454225 |\n",
       "| 87       | 39.40973 | 41.73232 | 44.19180 | 4.782065 |\n",
       "\n"
      ],
      "text/plain": [
       "  newHt ci.lo    Vol      ci.hi    width   \n",
       "1 63    26.33168 28.95124 31.83141 5.499733\n",
       "2 67    28.88896 31.04230 33.35614 4.467187\n",
       "3 71    31.45834 33.15002 34.93267 3.474330\n",
       "4 75    33.93192 35.27358 36.66829 2.736366\n",
       "5 79    36.10127 37.41225 38.77084 2.669571\n",
       "6 83    37.87594 39.56537 41.33016 3.454225\n",
       "7 87    39.40973 41.73232 44.19180 4.782065"
      ]
     },
     "metadata": {},
     "output_type": "display_data"
    }
   ],
   "source": [
    "ci.lo <- exp(newVol$fit-tstar*newVol$se.fit)\n",
    "ci.hi <- exp(newVol$fit+tstar*newVol$se.fit)\n",
    "cbind( newHt, ci.lo, Vol=exp(newVol$fit), ci.hi, width=ci.hi - ci.lo)"
   ]
  },
  {
   "cell_type": "code",
   "execution_count": 46,
   "metadata": {},
   "outputs": [
    {
     "data": {
      "text/html": [
       "<ol class=list-inline>\n",
       "\t<li>8.31720121467799</li>\n",
       "\t<li>0.384083872958963</li>\n",
       "\t<li>0.183515264424108</li>\n",
       "</ol>\n"
      ],
      "text/latex": [
       "\\begin{enumerate*}\n",
       "\\item 8.31720121467799\n",
       "\\item 0.384083872958963\n",
       "\\item 0.183515264424108\n",
       "\\end{enumerate*}\n"
      ],
      "text/markdown": [
       "1. 8.31720121467799\n",
       "2. 0.384083872958963\n",
       "3. 0.183515264424108\n",
       "\n",
       "\n"
      ],
      "text/plain": [
       "[1] 8.3172012 0.3840839 0.1835153"
      ]
     },
     "metadata": {},
     "output_type": "display_data"
    },
    {
     "data": {
      "text/html": [
       "<ol class=list-inline>\n",
       "\t<li>30</li>\n",
       "\t<li>29</li>\n",
       "\t<li>28</li>\n",
       "</ol>\n"
      ],
      "text/latex": [
       "\\begin{enumerate*}\n",
       "\\item 30\n",
       "\\item 29\n",
       "\\item 28\n",
       "\\end{enumerate*}\n"
      ],
      "text/markdown": [
       "1. 30\n",
       "2. 29\n",
       "3. 28\n",
       "\n",
       "\n"
      ],
      "text/plain": [
       "[1] 30 29 28"
      ]
     },
     "metadata": {},
     "output_type": "display_data"
    }
   ],
   "source": [
    "data(trees)\n",
    "tr.m0 <- glm( Volume ~ 1, family=Gamma(link=\"log\"), data=trees)\n",
    "tr.m1 <- update(tr.m0, . ~ . + log(Girth) )\n",
    "tr.m2 <- update(tr.m1, . ~ . + log(Height) )\n",
    "c( deviance(tr.m0), deviance(tr.m1), deviance(tr.m2) )\n",
    "c( df.residual(tr.m0), df.residual(tr.m1), df.residual(tr.m2) )"
   ]
  },
  {
   "cell_type": "code",
   "execution_count": 47,
   "metadata": {},
   "outputs": [
    {
     "data": {
      "text/html": [
       "<ol class=list-inline>\n",
       "\t<li>7.93311734171903</li>\n",
       "\t<li>0.200568608534856</li>\n",
       "</ol>\n"
      ],
      "text/latex": [
       "\\begin{enumerate*}\n",
       "\\item 7.93311734171903\n",
       "\\item 0.200568608534856\n",
       "\\end{enumerate*}\n"
      ],
      "text/markdown": [
       "1. 7.93311734171903\n",
       "2. 0.200568608534856\n",
       "\n",
       "\n"
      ],
      "text/plain": [
       "[1] 7.9331173 0.2005686"
      ]
     },
     "metadata": {},
     "output_type": "display_data"
    }
   ],
   "source": [
    "dev1 <- deviance(tr.m0) - deviance(tr.m1)\n",
    "dev2 <- deviance(tr.m1) - deviance(tr.m2)\n",
    "df1 <- df.residual(tr.m0) - df.residual(tr.m1)\n",
    "df2 <- df.residual(tr.m1) - df.residual(tr.m2)\n",
    "c( dev1, dev2)"
   ]
  },
  {
   "cell_type": "code",
   "execution_count": 48,
   "metadata": {},
   "outputs": [
    {
     "data": {
      "text/html": [
       "<dl class=dl-horizontal>\n",
       "\t<dt>Mean deviance</dt>\n",
       "\t\t<dd>0.00655411658657527</dd>\n",
       "\t<dt>Pearson</dt>\n",
       "\t\t<dd>0.00642728595936454</dd>\n",
       "</dl>\n"
      ],
      "text/latex": [
       "\\begin{description*}\n",
       "\\item[Mean deviance] 0.00655411658657527\n",
       "\\item[Pearson] 0.00642728595936454\n",
       "\\end{description*}\n"
      ],
      "text/markdown": [
       "Mean deviance\n",
       ":   0.00655411658657527Pearson\n",
       ":   0.00642728595936454\n",
       "\n"
      ],
      "text/plain": [
       "Mean deviance       Pearson \n",
       "  0.006554117   0.006427286 "
      ]
     },
     "metadata": {},
     "output_type": "display_data"
    }
   ],
   "source": [
    "phi.meandev <- deviance(tr.m2) / df.residual(tr.m2)\n",
    "phi.Pearson <- summary(tr.m2)$dispersion\n",
    "c(\"Mean deviance\" = phi.meandev, \"Pearson\" = phi.Pearson )"
   ]
  },
  {
   "cell_type": "code",
   "execution_count": 49,
   "metadata": {},
   "outputs": [
    {
     "name": "stdout",
     "output_type": "stream",
     "text": [
      "       F.Pearson P.Pearson F.meandev P.meandev\n",
      "Girth     1234.3  1.05e-24    1210.4  1.38e-24\n",
      "Height      31.2  5.60e-06      30.6  6.50e-06\n"
     ]
    }
   ],
   "source": [
    "F.Pearson <- c( dev1/df1, dev2/df2 ) / phi.Pearson\n",
    "F.meandev <- c( dev1/df1, dev2/df2 ) / phi.meandev\n",
    "P.Pearson <- pf( F.Pearson, df1, df.residual(tr.m2), lower.tail=FALSE )\n",
    "P.meandev <- pf( F.meandev, df2, df.residual(tr.m2), lower.tail=FALSE )\n",
    "tab <- data.frame(F.Pearson, P.Pearson, F.meandev, P.meandev)\n",
    "rownames(tab) <- c(\"Girth\",\"Height\")\n",
    "print(tab, digits=3)"
   ]
  },
  {
   "cell_type": "code",
   "execution_count": 50,
   "metadata": {},
   "outputs": [
    {
     "data": {
      "text/html": [
       "<table>\n",
       "<thead><tr><th></th><th scope=col>Df</th><th scope=col>Deviance</th><th scope=col>Resid. Df</th><th scope=col>Resid. Dev</th></tr></thead>\n",
       "<tbody>\n",
       "\t<tr><th scope=row>NULL</th><td>NA       </td><td>       NA</td><td>30       </td><td>8.3172012</td></tr>\n",
       "\t<tr><th scope=row>log(Girth)</th><td> 1       </td><td>7.9331173</td><td>29       </td><td>0.3840839</td></tr>\n",
       "\t<tr><th scope=row>log(Height)</th><td> 1       </td><td>0.2005686</td><td>28       </td><td>0.1835153</td></tr>\n",
       "</tbody>\n",
       "</table>\n"
      ],
      "text/latex": [
       "\\begin{tabular}{r|llll}\n",
       "  & Df & Deviance & Resid. Df & Resid. Dev\\\\\n",
       "\\hline\n",
       "\tNULL & NA        &        NA & 30        & 8.3172012\\\\\n",
       "\tlog(Girth) &  1        & 7.9331173 & 29        & 0.3840839\\\\\n",
       "\tlog(Height) &  1        & 0.2005686 & 28        & 0.1835153\\\\\n",
       "\\end{tabular}\n"
      ],
      "text/markdown": [
       "\n",
       "| <!--/--> | Df | Deviance | Resid. Df | Resid. Dev |\n",
       "|---|---|---|---|---|\n",
       "| NULL | NA        |        NA | 30        | 8.3172012 |\n",
       "| log(Girth) |  1        | 7.9331173 | 29        | 0.3840839 |\n",
       "| log(Height) |  1        | 0.2005686 | 28        | 0.1835153 |\n",
       "\n"
      ],
      "text/plain": [
       "            Df Deviance  Resid. Df Resid. Dev\n",
       "NULL        NA        NA 30        8.3172012 \n",
       "log(Girth)   1 7.9331173 29        0.3840839 \n",
       "log(Height)  1 0.2005686 28        0.1835153 "
      ]
     },
     "metadata": {},
     "output_type": "display_data"
    }
   ],
   "source": [
    "anova(tr.m2)"
   ]
  },
  {
   "cell_type": "code",
   "execution_count": 51,
   "metadata": {},
   "outputs": [
    {
     "name": "stdout",
     "output_type": "stream",
     "text": [
      "            Estimate Std. Error t value  Pr(>|t|)    \n",
      "(Intercept) -6.69111    0.78784 -8.4929 3.108e-09 ***\n",
      "log(Girth)   1.98041    0.07389 26.8021 < 2.2e-16 ***\n",
      "log(Height)  1.13288    0.20138  5.6255 5.037e-06 ***\n",
      "---\n",
      "Signif. codes:  0 '***' 0.001 '**' 0.01 '*' 0.05 '.' 0.1 ' ' 1\n"
     ]
    }
   ],
   "source": [
    "data(trees)\n",
    "tr.m2 <- glm( Volume ~ log(Girth) + log(Height),\n",
    "family=Gamma(link=\"log\"), data=trees )\n",
    "printCoefmat(coef(summary(tr.m2)))"
   ]
  },
  {
   "cell_type": "code",
   "execution_count": 52,
   "metadata": {},
   "outputs": [
    {
     "data": {
      "text/html": [
       "<dl class=dl-horizontal>\n",
       "\t<dt>Mean.deviance</dt>\n",
       "\t\t<dd>0.00655411658657527</dd>\n",
       "\t<dt>Pearson</dt>\n",
       "\t\t<dd>0.00642728595936454</dd>\n",
       "</dl>\n"
      ],
      "text/latex": [
       "\\begin{description*}\n",
       "\\item[Mean.deviance] 0.00655411658657527\n",
       "\\item[Pearson] 0.00642728595936454\n",
       "\\end{description*}\n"
      ],
      "text/markdown": [
       "Mean.deviance\n",
       ":   0.00655411658657527Pearson\n",
       ":   0.00642728595936454\n",
       "\n"
      ],
      "text/plain": [
       "Mean.deviance       Pearson \n",
       "  0.006554117   0.006427286 "
      ]
     },
     "metadata": {},
     "output_type": "display_data"
    }
   ],
   "source": [
    "phi.meandev <- deviance(tr.m2) / df.residual(tr.m2)\n",
    "phi.pearson <- summary(tr.m2)$dispersion\n",
    "c(Mean.deviance=phi.meandev, Pearson=phi.pearson)"
   ]
  },
  {
   "cell_type": "code",
   "execution_count": 53,
   "metadata": {},
   "outputs": [
    {
     "name": "stdout",
     "output_type": "stream",
     "text": [
      "             Estimate Std. Error z value  Pr(>|z|)    \n",
      "(Intercept) -6.691109   0.795578 -8.4104 < 2.2e-16 ***\n",
      "log(Girth)   1.980412   0.074616 26.5415 < 2.2e-16 ***\n",
      "log(Height)  1.132878   0.203361  5.5708 2.536e-08 ***\n",
      "---\n",
      "Signif. codes:  0 '***' 0.001 '**' 0.01 '*' 0.05 '.' 0.1 ' ' 1\n"
     ]
    }
   ],
   "source": [
    "printCoefmat(coef(summary(tr.m2, dispersion=phi.meandev)))"
   ]
  },
  {
   "cell_type": "code",
   "execution_count": 54,
   "metadata": {},
   "outputs": [
    {
     "data": {
      "text/html": [
       "<table>\n",
       "<thead><tr><th></th><th scope=col>t-scores</th><th scope=col>P-values</th></tr></thead>\n",
       "<tbody>\n",
       "\t<tr><th scope=row>Cone:</th><td>-0.483750 </td><td>0.63232520</td></tr>\n",
       "\t<tr><th scope=row>Cylinder:</th><td>-1.878206 </td><td>0.07080348</td></tr>\n",
       "</tbody>\n",
       "</table>\n"
      ],
      "text/latex": [
       "\\begin{tabular}{r|ll}\n",
       "  & t-scores & P-values\\\\\n",
       "\\hline\n",
       "\tCone: & -0.483750  & 0.63232520\\\\\n",
       "\tCylinder: & -1.878206  & 0.07080348\\\\\n",
       "\\end{tabular}\n"
      ],
      "text/markdown": [
       "\n",
       "| <!--/--> | t-scores | P-values |\n",
       "|---|---|---|\n",
       "| Cone: | -0.483750  | 0.63232520 |\n",
       "| Cylinder: | -1.878206  | 0.07080348 |\n",
       "\n"
      ],
      "text/plain": [
       "          t-scores  P-values  \n",
       "Cone:     -0.483750 0.63232520\n",
       "Cylinder: -1.878206 0.07080348"
      ]
     },
     "metadata": {},
     "output_type": "display_data"
    }
   ],
   "source": [
    "beta0.hat <- coef(summary(tr.m2))[1,\"Estimate\"]\n",
    "beta0.se <- coef(summary(tr.m2))[1,\"Std. Error\"]\n",
    "beta0.cone <- log( pi/1728 )\n",
    "t1 <- ( beta0.hat - beta0.cone ) / beta0.se\n",
    "beta0.cylinder <- log( pi/576 )\n",
    "t2 <- ( beta0.hat - beta0.cylinder ) / beta0.se\n",
    "p1 <- 2 * pt( -abs(t1), df=df.residual(tr.m2) )\n",
    "p2 <- 2 * pt( -abs(t2), df=df.residual(tr.m2) )\n",
    "tab <- array( c(t1, t2, p1, p2), dim=c(2, 2))\n",
    "rownames(tab) <- c(\"Cone:\",\"Cylinder:\")\n",
    "colnames(tab) <- c(\"t-scores\",\"P-values\"); tab"
   ]
  },
  {
   "cell_type": "code",
   "execution_count": 55,
   "metadata": {},
   "outputs": [
    {
     "name": "stderr",
     "output_type": "stream",
     "text": [
      "Waiting for profiling to be done...\n"
     ]
    },
    {
     "data": {
      "text/html": [
       "<table>\n",
       "<thead><tr><th></th><th scope=col>2.5 %</th><th scope=col>97.5 %</th></tr></thead>\n",
       "<tbody>\n",
       "\t<tr><th scope=row>(Intercept)</th><td>-8.2358004</td><td>-5.139294 </td></tr>\n",
       "\t<tr><th scope=row>log(Girth)</th><td> 1.8359439</td><td> 2.124974 </td></tr>\n",
       "\t<tr><th scope=row>log(Height)</th><td> 0.7364235</td><td> 1.528266 </td></tr>\n",
       "</tbody>\n",
       "</table>\n"
      ],
      "text/latex": [
       "\\begin{tabular}{r|ll}\n",
       "  & 2.5 \\% & 97.5 \\%\\\\\n",
       "\\hline\n",
       "\t(Intercept) & -8.2358004 & -5.139294 \\\\\n",
       "\tlog(Girth) &  1.8359439 &  2.124974 \\\\\n",
       "\tlog(Height) &  0.7364235 &  1.528266 \\\\\n",
       "\\end{tabular}\n"
      ],
      "text/markdown": [
       "\n",
       "| <!--/--> | 2.5 % | 97.5 % |\n",
       "|---|---|---|\n",
       "| (Intercept) | -8.2358004 | -5.139294  |\n",
       "| log(Girth) |  1.8359439 |  2.124974  |\n",
       "| log(Height) |  0.7364235 |  1.528266  |\n",
       "\n"
      ],
      "text/plain": [
       "            2.5 %      97.5 %   \n",
       "(Intercept) -8.2358004 -5.139294\n",
       "log(Girth)   1.8359439  2.124974\n",
       "log(Height)  0.7364235  1.528266"
      ]
     },
     "metadata": {},
     "output_type": "display_data"
    }
   ],
   "source": [
    "confint(tr.m2)"
   ]
  },
  {
   "cell_type": "code",
   "execution_count": 56,
   "metadata": {},
   "outputs": [],
   "source": [
    "out <- predict( tr.m2, newdata=data.frame(Height=70, Girth=15),\n",
    "se.fit=TRUE)"
   ]
  },
  {
   "cell_type": "code",
   "execution_count": 57,
   "metadata": {},
   "outputs": [
    {
     "data": {
      "text/html": [
       "<dl class=dl-horizontal>\n",
       "\t<dt>Lower.1</dt>\n",
       "\t\t<dd>30.8190164832659</dd>\n",
       "\t<dt>Estimate.1</dt>\n",
       "\t\t<dd>32.6215696842669</dd>\n",
       "\t<dt>Upper.1</dt>\n",
       "\t\t<dd>34.5295512348132</dd>\n",
       "</dl>\n"
      ],
      "text/latex": [
       "\\begin{description*}\n",
       "\\item[Lower.1] 30.8190164832659\n",
       "\\item[Estimate.1] 32.6215696842669\n",
       "\\item[Upper.1] 34.5295512348132\n",
       "\\end{description*}\n"
      ],
      "text/markdown": [
       "Lower.1\n",
       ":   30.8190164832659Estimate.1\n",
       ":   32.6215696842669Upper.1\n",
       ":   34.5295512348132\n",
       "\n"
      ],
      "text/plain": [
       "   Lower.1 Estimate.1    Upper.1 \n",
       "  30.81902   32.62157   34.52955 "
      ]
     },
     "metadata": {},
     "output_type": "display_data"
    }
   ],
   "source": [
    "tstar <- qt(p=0.975, df=df.residual(tr.m2)) # For 95% CI\n",
    "ci.lo <- exp(out$fit - tstar*out$se.fit)\n",
    "ci.hi <- exp(out$fit + tstar*out$se.fit)\n",
    "c( Lower=ci.lo, Estimate=exp(out$fit), Upper=ci.hi)"
   ]
  },
  {
   "cell_type": "code",
   "execution_count": 58,
   "metadata": {},
   "outputs": [
    {
     "data": {
      "text/html": [
       "<table>\n",
       "<thead><tr><th scope=col>newHt</th><th scope=col>ci.lo</th><th scope=col>Vol</th><th scope=col>ci.hi</th><th scope=col>width</th></tr></thead>\n",
       "<tbody>\n",
       "\t<tr><td>63      </td><td>26.33168</td><td>28.95124</td><td>31.83141</td><td>5.499733</td></tr>\n",
       "\t<tr><td>67      </td><td>28.88896</td><td>31.04230</td><td>33.35614</td><td>4.467187</td></tr>\n",
       "\t<tr><td>71      </td><td>31.45834</td><td>33.15002</td><td>34.93267</td><td>3.474330</td></tr>\n",
       "\t<tr><td>75      </td><td>33.93192</td><td>35.27358</td><td>36.66829</td><td>2.736366</td></tr>\n",
       "\t<tr><td>79      </td><td>36.10127</td><td>37.41225</td><td>38.77084</td><td>2.669571</td></tr>\n",
       "\t<tr><td>83      </td><td>37.87594</td><td>39.56537</td><td>41.33016</td><td>3.454225</td></tr>\n",
       "\t<tr><td>87      </td><td>39.40973</td><td>41.73232</td><td>44.19180</td><td>4.782065</td></tr>\n",
       "</tbody>\n",
       "</table>\n"
      ],
      "text/latex": [
       "\\begin{tabular}{r|lllll}\n",
       " newHt & ci.lo & Vol & ci.hi & width\\\\\n",
       "\\hline\n",
       "\t 63       & 26.33168 & 28.95124 & 31.83141 & 5.499733\\\\\n",
       "\t 67       & 28.88896 & 31.04230 & 33.35614 & 4.467187\\\\\n",
       "\t 71       & 31.45834 & 33.15002 & 34.93267 & 3.474330\\\\\n",
       "\t 75       & 33.93192 & 35.27358 & 36.66829 & 2.736366\\\\\n",
       "\t 79       & 36.10127 & 37.41225 & 38.77084 & 2.669571\\\\\n",
       "\t 83       & 37.87594 & 39.56537 & 41.33016 & 3.454225\\\\\n",
       "\t 87       & 39.40973 & 41.73232 & 44.19180 & 4.782065\\\\\n",
       "\\end{tabular}\n"
      ],
      "text/markdown": [
       "\n",
       "| newHt | ci.lo | Vol | ci.hi | width |\n",
       "|---|---|---|---|---|\n",
       "| 63       | 26.33168 | 28.95124 | 31.83141 | 5.499733 |\n",
       "| 67       | 28.88896 | 31.04230 | 33.35614 | 4.467187 |\n",
       "| 71       | 31.45834 | 33.15002 | 34.93267 | 3.474330 |\n",
       "| 75       | 33.93192 | 35.27358 | 36.66829 | 2.736366 |\n",
       "| 79       | 36.10127 | 37.41225 | 38.77084 | 2.669571 |\n",
       "| 83       | 37.87594 | 39.56537 | 41.33016 | 3.454225 |\n",
       "| 87       | 39.40973 | 41.73232 | 44.19180 | 4.782065 |\n",
       "\n"
      ],
      "text/plain": [
       "  newHt ci.lo    Vol      ci.hi    width   \n",
       "1 63    26.33168 28.95124 31.83141 5.499733\n",
       "2 67    28.88896 31.04230 33.35614 4.467187\n",
       "3 71    31.45834 33.15002 34.93267 3.474330\n",
       "4 75    33.93192 35.27358 36.66829 2.736366\n",
       "5 79    36.10127 37.41225 38.77084 2.669571\n",
       "6 83    37.87594 39.56537 41.33016 3.454225\n",
       "7 87    39.40973 41.73232 44.19180 4.782065"
      ]
     },
     "metadata": {},
     "output_type": "display_data"
    }
   ],
   "source": [
    "newHt <- seq(min(trees$Height), max(trees$Height), by=4)\n",
    "newVol <- predict( tr.m2, se.fit=TRUE,\n",
    "newdata=data.frame(Height=newHt, Girth=15))\n",
    "ci.lo <- exp(newVol$fit-tstar*newVol$se.fit)\n",
    "ci.hi <- exp(newVol$fit+tstar*newVol$se.fit)\n",
    "cbind( newHt, ci.lo, Vol=exp(newVol$fit), ci.hi, width=ci.hi - ci.lo)"
   ]
  },
  {
   "cell_type": "code",
   "execution_count": 59,
   "metadata": {},
   "outputs": [
    {
     "data": {
      "text/html": [
       "<ol class=list-inline>\n",
       "\t<li>8.31720121467799</li>\n",
       "\t<li>0.384083872958964</li>\n",
       "\t<li>0.183515264424108</li>\n",
       "</ol>\n"
      ],
      "text/latex": [
       "\\begin{enumerate*}\n",
       "\\item 8.31720121467799\n",
       "\\item 0.384083872958964\n",
       "\\item 0.183515264424108\n",
       "\\end{enumerate*}\n"
      ],
      "text/markdown": [
       "1. 8.31720121467799\n",
       "2. 0.384083872958964\n",
       "3. 0.183515264424108\n",
       "\n",
       "\n"
      ],
      "text/plain": [
       "[1] 8.3172012 0.3840839 0.1835153"
      ]
     },
     "metadata": {},
     "output_type": "display_data"
    },
    {
     "data": {
      "text/html": [
       "<ol class=list-inline>\n",
       "\t<li>30</li>\n",
       "\t<li>29</li>\n",
       "\t<li>28</li>\n",
       "</ol>\n"
      ],
      "text/latex": [
       "\\begin{enumerate*}\n",
       "\\item 30\n",
       "\\item 29\n",
       "\\item 28\n",
       "\\end{enumerate*}\n"
      ],
      "text/markdown": [
       "1. 30\n",
       "2. 29\n",
       "3. 28\n",
       "\n",
       "\n"
      ],
      "text/plain": [
       "[1] 30 29 28"
      ]
     },
     "metadata": {},
     "output_type": "display_data"
    }
   ],
   "source": [
    "data(trees)\n",
    "tr.m0 <- glm( Volume ~ 1, family=Gamma(link=\"log\"), data=trees)\n",
    "tr.m1 <- update(tr.m0, . ~ . + log(Girth) )\n",
    "tr.m2 <- update(tr.m1, . ~ . + log(Height) )\n",
    "c( deviance(tr.m0), deviance(tr.m1), deviance(tr.m2) )\n",
    "c( df.residual(tr.m0), df.residual(tr.m1), df.residual(tr.m2) )"
   ]
  },
  {
   "cell_type": "code",
   "execution_count": 60,
   "metadata": {},
   "outputs": [
    {
     "data": {
      "text/html": [
       "<ol class=list-inline>\n",
       "\t<li>7.93311734171903</li>\n",
       "\t<li>0.200568608534856</li>\n",
       "</ol>\n"
      ],
      "text/latex": [
       "\\begin{enumerate*}\n",
       "\\item 7.93311734171903\n",
       "\\item 0.200568608534856\n",
       "\\end{enumerate*}\n"
      ],
      "text/markdown": [
       "1. 7.93311734171903\n",
       "2. 0.200568608534856\n",
       "\n",
       "\n"
      ],
      "text/plain": [
       "[1] 7.9331173 0.2005686"
      ]
     },
     "metadata": {},
     "output_type": "display_data"
    },
    {
     "data": {
      "text/html": [
       "<ol class=list-inline>\n",
       "\t<li>1</li>\n",
       "\t<li>1</li>\n",
       "</ol>\n"
      ],
      "text/latex": [
       "\\begin{enumerate*}\n",
       "\\item 1\n",
       "\\item 1\n",
       "\\end{enumerate*}\n"
      ],
      "text/markdown": [
       "1. 1\n",
       "2. 1\n",
       "\n",
       "\n"
      ],
      "text/plain": [
       "[1] 1 1"
      ]
     },
     "metadata": {},
     "output_type": "display_data"
    }
   ],
   "source": [
    "dev1 <- deviance(tr.m0) - deviance(tr.m1)\n",
    "dev2 <- deviance(tr.m1) - deviance(tr.m2)\n",
    "df1 <- df.residual(tr.m0) - df.residual(tr.m1)\n",
    "df2 <- df.residual(tr.m1) - df.residual(tr.m2)\n",
    "c( dev1, dev2)\n",
    "c( df1, df2)"
   ]
  },
  {
   "cell_type": "code",
   "execution_count": 61,
   "metadata": {},
   "outputs": [
    {
     "data": {
      "text/html": [
       "<dl class=dl-horizontal>\n",
       "\t<dt>Mean deviance</dt>\n",
       "\t\t<dd>0.00655411658657529</dd>\n",
       "\t<dt>Pearson</dt>\n",
       "\t\t<dd>0.00642728595936455</dd>\n",
       "</dl>\n"
      ],
      "text/latex": [
       "\\begin{description*}\n",
       "\\item[Mean deviance] 0.00655411658657529\n",
       "\\item[Pearson] 0.00642728595936455\n",
       "\\end{description*}\n"
      ],
      "text/markdown": [
       "Mean deviance\n",
       ":   0.00655411658657529Pearson\n",
       ":   0.00642728595936455\n",
       "\n"
      ],
      "text/plain": [
       "Mean deviance       Pearson \n",
       "  0.006554117   0.006427286 "
      ]
     },
     "metadata": {},
     "output_type": "display_data"
    }
   ],
   "source": [
    "phi.meandev <- deviance(tr.m2) / df.residual(tr.m2) # Mean dev.\n",
    "phi.Pearson <- summary(tr.m2)$dispersion # Pearson\n",
    "c(\"Mean deviance\" = phi.meandev, \"Pearson\" = phi.Pearson )"
   ]
  },
  {
   "cell_type": "code",
   "execution_count": 62,
   "metadata": {},
   "outputs": [
    {
     "name": "stdout",
     "output_type": "stream",
     "text": [
      "       F.Pearson P.Pearson F.meandev P.meandev\n",
      "Girth     1234.3  1.05e-24    1210.4  1.38e-24\n",
      "Height      31.2  5.60e-06      30.6  6.50e-06\n"
     ]
    }
   ],
   "source": [
    "F.Pearson <- c( dev1/df1, dev2/df2 ) / phi.Pearson\n",
    "F.meandev <- c( dev1/df1, dev2/df2 ) / phi.meandev\n",
    "P.Pearson <- pf( F.Pearson, df1, df.residual(tr.m2), lower.tail=FALSE )\n",
    "P.meandev <- pf( F.meandev, df2, df.residual(tr.m2), lower.tail=FALSE )\n",
    "tab <- data.frame(F.Pearson, P.Pearson, F.meandev, P.meandev)\n",
    "rownames(tab) <- c(\"Girth\",\"Height\")\n",
    "print(tab, digits=3)"
   ]
  },
  {
   "cell_type": "code",
   "execution_count": 63,
   "metadata": {},
   "outputs": [
    {
     "data": {
      "text/html": [
       "<table>\n",
       "<thead><tr><th></th><th scope=col>Df</th><th scope=col>Deviance</th><th scope=col>Resid. Df</th><th scope=col>Resid. Dev</th><th scope=col>F</th><th scope=col>Pr(&gt;F)</th></tr></thead>\n",
       "<tbody>\n",
       "\t<tr><th scope=row>NULL</th><td>NA          </td><td>       NA   </td><td>30          </td><td>8.3172012   </td><td>       NA   </td><td>          NA</td></tr>\n",
       "\t<tr><th scope=row>log(Girth)</th><td> 1          </td><td>7.9331173   </td><td>29          </td><td>0.3840839   </td><td>1234.2873   </td><td>1.054447e-24</td></tr>\n",
       "\t<tr><th scope=row>log(Height)</th><td> 1          </td><td>0.2005686   </td><td>28          </td><td>0.1835153   </td><td>  31.2058   </td><td>5.603663e-06</td></tr>\n",
       "</tbody>\n",
       "</table>\n"
      ],
      "text/latex": [
       "\\begin{tabular}{r|llllll}\n",
       "  & Df & Deviance & Resid. Df & Resid. Dev & F & Pr(>F)\\\\\n",
       "\\hline\n",
       "\tNULL & NA           &        NA    & 30           & 8.3172012    &        NA    &           NA\\\\\n",
       "\tlog(Girth) &  1           & 7.9331173    & 29           & 0.3840839    & 1234.2873    & 1.054447e-24\\\\\n",
       "\tlog(Height) &  1           & 0.2005686    & 28           & 0.1835153    &   31.2058    & 5.603663e-06\\\\\n",
       "\\end{tabular}\n"
      ],
      "text/markdown": [
       "\n",
       "| <!--/--> | Df | Deviance | Resid. Df | Resid. Dev | F | Pr(>F) |\n",
       "|---|---|---|---|---|---|---|\n",
       "| NULL | NA           |        NA    | 30           | 8.3172012    |        NA    |           NA |\n",
       "| log(Girth) |  1           | 7.9331173    | 29           | 0.3840839    | 1234.2873    | 1.054447e-24 |\n",
       "| log(Height) |  1           | 0.2005686    | 28           | 0.1835153    |   31.2058    | 5.603663e-06 |\n",
       "\n"
      ],
      "text/plain": [
       "            Df Deviance  Resid. Df Resid. Dev F         Pr(>F)      \n",
       "NULL        NA        NA 30        8.3172012         NA           NA\n",
       "log(Girth)   1 7.9331173 29        0.3840839  1234.2873 1.054447e-24\n",
       "log(Height)  1 0.2005686 28        0.1835153    31.2058 5.603663e-06"
      ]
     },
     "metadata": {},
     "output_type": "display_data"
    }
   ],
   "source": [
    "anova(tr.m2, test=\"F\")"
   ]
  },
  {
   "cell_type": "code",
   "execution_count": 64,
   "metadata": {},
   "outputs": [
    {
     "name": "stderr",
     "output_type": "stream",
     "text": [
      "Warning message in anova.glm(tr.m2, test = \"F\", dispersion = phi.meandev):\n",
      "\"using F test with a fixed dispersion is inappropriate\""
     ]
    },
    {
     "data": {
      "text/html": [
       "<table>\n",
       "<thead><tr><th></th><th scope=col>Df</th><th scope=col>Deviance</th><th scope=col>Resid. Df</th><th scope=col>Resid. Dev</th><th scope=col>F</th><th scope=col>Pr(&gt;F)</th></tr></thead>\n",
       "<tbody>\n",
       "\t<tr><th scope=row>NULL</th><td>NA           </td><td>       NA    </td><td>30           </td><td>8.3172012    </td><td>        NA   </td><td>           NA</td></tr>\n",
       "\t<tr><th scope=row>log(Girth)</th><td> 1           </td><td>7.9331173    </td><td>29           </td><td>0.3840839    </td><td>1210.40223   </td><td>3.346664e-265</td></tr>\n",
       "\t<tr><th scope=row>log(Height)</th><td> 1           </td><td>0.2005686    </td><td>28           </td><td>0.1835153    </td><td>  30.60193   </td><td> 3.167787e-08</td></tr>\n",
       "</tbody>\n",
       "</table>\n"
      ],
      "text/latex": [
       "\\begin{tabular}{r|llllll}\n",
       "  & Df & Deviance & Resid. Df & Resid. Dev & F & Pr(>F)\\\\\n",
       "\\hline\n",
       "\tNULL & NA            &        NA     & 30            & 8.3172012     &         NA    &            NA\\\\\n",
       "\tlog(Girth) &  1            & 7.9331173     & 29            & 0.3840839     & 1210.40223    & 3.346664e-265\\\\\n",
       "\tlog(Height) &  1            & 0.2005686     & 28            & 0.1835153     &   30.60193    &  3.167787e-08\\\\\n",
       "\\end{tabular}\n"
      ],
      "text/markdown": [
       "\n",
       "| <!--/--> | Df | Deviance | Resid. Df | Resid. Dev | F | Pr(>F) |\n",
       "|---|---|---|---|---|---|---|\n",
       "| NULL | NA            |        NA     | 30            | 8.3172012     |         NA    |            NA |\n",
       "| log(Girth) |  1            | 7.9331173     | 29            | 0.3840839     | 1210.40223    | 3.346664e-265 |\n",
       "| log(Height) |  1            | 0.2005686     | 28            | 0.1835153     |   30.60193    |  3.167787e-08 |\n",
       "\n"
      ],
      "text/plain": [
       "            Df Deviance  Resid. Df Resid. Dev F          Pr(>F)       \n",
       "NULL        NA        NA 30        8.3172012          NA            NA\n",
       "log(Girth)   1 7.9331173 29        0.3840839  1210.40223 3.346664e-265\n",
       "log(Height)  1 0.2005686 28        0.1835153    30.60193  3.167787e-08"
      ]
     },
     "metadata": {},
     "output_type": "display_data"
    }
   ],
   "source": [
    "phi.meandev <- deviance( tr.m2) / df.residual(tr.m2)\n",
    "anova(tr.m2, test=\"F\", dispersion=phi.meandev)"
   ]
  },
  {
   "cell_type": "code",
   "execution_count": 65,
   "metadata": {},
   "outputs": [],
   "source": [
    "tr.rev <- glm( Volume ~ log(Height) + log(Girth),\n",
    "family=Gamma(link=\"log\"), data=trees)"
   ]
  },
  {
   "cell_type": "code",
   "execution_count": 66,
   "metadata": {},
   "outputs": [
    {
     "data": {
      "text/html": [
       "<table>\n",
       "<thead><tr><th></th><th scope=col>Df</th><th scope=col>Deviance</th><th scope=col>Resid. Df</th><th scope=col>Resid. Dev</th><th scope=col>F</th><th scope=col>Pr(&gt;F)</th></tr></thead>\n",
       "<tbody>\n",
       "\t<tr><th scope=row>NULL</th><td>NA          </td><td>      NA    </td><td>30          </td><td>8.3172012   </td><td>      NA    </td><td>          NA</td></tr>\n",
       "\t<tr><th scope=row>log(Height)</th><td> 1          </td><td>3.534486    </td><td>29          </td><td>4.7827152   </td><td>549.9189    </td><td>6.006342e-20</td></tr>\n",
       "\t<tr><th scope=row>log(Girth)</th><td> 1          </td><td>4.599200    </td><td>28          </td><td>0.1835153   </td><td>715.5742    </td><td>1.753583e-21</td></tr>\n",
       "</tbody>\n",
       "</table>\n"
      ],
      "text/latex": [
       "\\begin{tabular}{r|llllll}\n",
       "  & Df & Deviance & Resid. Df & Resid. Dev & F & Pr(>F)\\\\\n",
       "\\hline\n",
       "\tNULL & NA           &       NA     & 30           & 8.3172012    &       NA     &           NA\\\\\n",
       "\tlog(Height) &  1           & 3.534486     & 29           & 4.7827152    & 549.9189     & 6.006342e-20\\\\\n",
       "\tlog(Girth) &  1           & 4.599200     & 28           & 0.1835153    & 715.5742     & 1.753583e-21\\\\\n",
       "\\end{tabular}\n"
      ],
      "text/markdown": [
       "\n",
       "| <!--/--> | Df | Deviance | Resid. Df | Resid. Dev | F | Pr(>F) |\n",
       "|---|---|---|---|---|---|---|\n",
       "| NULL | NA           |       NA     | 30           | 8.3172012    |       NA     |           NA |\n",
       "| log(Height) |  1           | 3.534486     | 29           | 4.7827152    | 549.9189     | 6.006342e-20 |\n",
       "| log(Girth) |  1           | 4.599200     | 28           | 0.1835153    | 715.5742     | 1.753583e-21 |\n",
       "\n"
      ],
      "text/plain": [
       "            Df Deviance Resid. Df Resid. Dev F        Pr(>F)      \n",
       "NULL        NA       NA 30        8.3172012        NA           NA\n",
       "log(Height)  1 3.534486 29        4.7827152  549.9189 6.006342e-20\n",
       "log(Girth)   1 4.599200 28        0.1835153  715.5742 1.753583e-21"
      ]
     },
     "metadata": {},
     "output_type": "display_data"
    }
   ],
   "source": [
    "anova(tr.rev, test=\"F\")"
   ]
  },
  {
   "cell_type": "code",
   "execution_count": 67,
   "metadata": {},
   "outputs": [
    {
     "name": "stdout",
     "output_type": "stream",
     "text": [
      "  Score.stat P.Value\n",
      "1       3.83 0.00063\n"
     ]
    }
   ],
   "source": [
    "library(statmod)\n",
    "mA <- glm( Volume ~ log(Girth), family=Gamma(link=\"log\"), data=trees )\n",
    "t.Ht <- glm.scoretest( mA, log(trees$Height) )\n",
    "p.Ht <- 2 * pt( -abs(t.Ht), df=df.residual(mA) ) # Two-tailed P-value\n",
    "tab <- data.frame(Score.stat = t.Ht, P.Value=p.Ht )\n",
    "print(tab, digits=3)"
   ]
  },
  {
   "cell_type": "code",
   "execution_count": 68,
   "metadata": {},
   "outputs": [
    {
     "name": "stdout",
     "output_type": "stream",
     "text": [
      "  Score.stat  P.Value\n",
      "1       5.22 1.36e-05\n"
     ]
    }
   ],
   "source": [
    "mB <- glm( Volume ~ log(Height), family=Gamma(link=\"log\"), data=trees)\n",
    "t.Girth<- glm.scoretest( mB, log(trees$Girth) )\n",
    "p.Girth <- 2 * pt( -abs(t.Girth), df=df.residual(mB) )\n",
    "tab <- data.frame(Score.stat = t.Girth, P.Value=p.Girth )\n",
    "print(tab, digits=3)"
   ]
  },
  {
   "cell_type": "code",
   "execution_count": 69,
   "metadata": {},
   "outputs": [],
   "source": [
    "tr.aic1 <- glm( Volume ~ offset(2*log(Girth)) + log(Height),\n",
    "family=Gamma(link=\"log\"), data=trees)\n",
    "tr.aic2 <- glm( Volume ~ log(Girth) + offset(log(Height)),\n",
    "family=Gamma(link=\"log\"), data=trees)"
   ]
  },
  {
   "cell_type": "code",
   "execution_count": 70,
   "metadata": {},
   "outputs": [
    {
     "data": {
      "text/html": [
       "<ol class=list-inline>\n",
       "\t<li>2</li>\n",
       "\t<li>137.977961639563</li>\n",
       "\t<li>2</li>\n",
       "\t<li>138.367680967454</li>\n",
       "</ol>\n"
      ],
      "text/latex": [
       "\\begin{enumerate*}\n",
       "\\item 2\n",
       "\\item 137.977961639563\n",
       "\\item 2\n",
       "\\item 138.367680967454\n",
       "\\end{enumerate*}\n"
      ],
      "text/markdown": [
       "1. 2\n",
       "2. 137.977961639563\n",
       "3. 2\n",
       "4. 138.367680967454\n",
       "\n",
       "\n"
      ],
      "text/plain": [
       "[1]   2.0000 137.9780   2.0000 138.3677"
      ]
     },
     "metadata": {},
     "output_type": "display_data"
    },
    {
     "data": {
      "text/html": [
       "<ol class=list-inline>\n",
       "\t<li>137.977961639563</li>\n",
       "\t<li>138.367680967454</li>\n",
       "</ol>\n"
      ],
      "text/latex": [
       "\\begin{enumerate*}\n",
       "\\item 137.977961639563\n",
       "\\item 138.367680967454\n",
       "\\end{enumerate*}\n"
      ],
      "text/markdown": [
       "1. 137.977961639563\n",
       "2. 138.367680967454\n",
       "\n",
       "\n"
      ],
      "text/plain": [
       "[1] 137.9780 138.3677"
      ]
     },
     "metadata": {},
     "output_type": "display_data"
    }
   ],
   "source": [
    "c(extractAIC(tr.aic1), extractAIC(tr.aic2))\n",
    "c( AIC(tr.aic1), AIC(tr.aic2))"
   ]
  },
  {
   "cell_type": "code",
   "execution_count": 71,
   "metadata": {},
   "outputs": [],
   "source": [
    "min.model <- glm( Volume~1, data=trees, family=Gamma(link=\"log\"))"
   ]
  },
  {
   "cell_type": "code",
   "execution_count": 72,
   "metadata": {},
   "outputs": [
    {
     "data": {
      "text/html": [
       "<table>\n",
       "<thead><tr><th></th><th scope=col>Estimate</th><th scope=col>Std. Error</th><th scope=col>t value</th><th scope=col>Pr(&gt;|t|)</th></tr></thead>\n",
       "<tbody>\n",
       "\t<tr><th scope=row>(Intercept)</th><td>3.40688     </td><td>0.09785315  </td><td>34.81625    </td><td>8.106441e-26</td></tr>\n",
       "</tbody>\n",
       "</table>\n"
      ],
      "text/latex": [
       "\\begin{tabular}{r|llll}\n",
       "  & Estimate & Std. Error & t value & Pr(>\\textbar{}t\\textbar{})\\\\\n",
       "\\hline\n",
       "\t(Intercept) & 3.40688      & 0.09785315   & 34.81625     & 8.106441e-26\\\\\n",
       "\\end{tabular}\n"
      ],
      "text/markdown": [
       "\n",
       "| <!--/--> | Estimate | Std. Error | t value | Pr(>|t|) |\n",
       "|---|---|---|---|---|\n",
       "| (Intercept) | 3.40688      | 0.09785315   | 34.81625     | 8.106441e-26 |\n",
       "\n"
      ],
      "text/plain": [
       "            Estimate Std. Error t value  Pr(>|t|)    \n",
       "(Intercept) 3.40688  0.09785315 34.81625 8.106441e-26"
      ]
     },
     "metadata": {},
     "output_type": "display_data"
    }
   ],
   "source": [
    "coef(summary(min.model))"
   ]
  },
  {
   "cell_type": "code",
   "execution_count": 73,
   "metadata": {},
   "outputs": [],
   "source": [
    "max.model <- glm( Volume~log(Girth) + log(Height),\n",
    "data=trees, family=Gamma(link=\"log\"))"
   ]
  },
  {
   "cell_type": "code",
   "execution_count": 74,
   "metadata": {},
   "outputs": [
    {
     "data": {
      "text/html": [
       "<table>\n",
       "<thead><tr><th></th><th scope=col>Estimate</th><th scope=col>Std. Error</th><th scope=col>t value</th><th scope=col>Pr(&gt;|t|)</th></tr></thead>\n",
       "<tbody>\n",
       "\t<tr><th scope=row>(Intercept)</th><td>-6.691109   </td><td>0.78784281  </td><td>-8.492949   </td><td>3.108495e-09</td></tr>\n",
       "\t<tr><th scope=row>log(Girth)</th><td> 1.980412   </td><td>0.07389014  </td><td>26.802119   </td><td>1.664227e-21</td></tr>\n",
       "\t<tr><th scope=row>log(Height)</th><td> 1.132878   </td><td>0.20138327  </td><td> 5.625483   </td><td>5.036791e-06</td></tr>\n",
       "</tbody>\n",
       "</table>\n"
      ],
      "text/latex": [
       "\\begin{tabular}{r|llll}\n",
       "  & Estimate & Std. Error & t value & Pr(>\\textbar{}t\\textbar{})\\\\\n",
       "\\hline\n",
       "\t(Intercept) & -6.691109    & 0.78784281   & -8.492949    & 3.108495e-09\\\\\n",
       "\tlog(Girth) &  1.980412    & 0.07389014   & 26.802119    & 1.664227e-21\\\\\n",
       "\tlog(Height) &  1.132878    & 0.20138327   &  5.625483    & 5.036791e-06\\\\\n",
       "\\end{tabular}\n"
      ],
      "text/markdown": [
       "\n",
       "| <!--/--> | Estimate | Std. Error | t value | Pr(>|t|) |\n",
       "|---|---|---|---|---|\n",
       "| (Intercept) | -6.691109    | 0.78784281   | -8.492949    | 3.108495e-09 |\n",
       "| log(Girth) |  1.980412    | 0.07389014   | 26.802119    | 1.664227e-21 |\n",
       "| log(Height) |  1.132878    | 0.20138327   |  5.625483    | 5.036791e-06 |\n",
       "\n"
      ],
      "text/plain": [
       "            Estimate  Std. Error t value   Pr(>|t|)    \n",
       "(Intercept) -6.691109 0.78784281 -8.492949 3.108495e-09\n",
       "log(Girth)   1.980412 0.07389014 26.802119 1.664227e-21\n",
       "log(Height)  1.132878 0.20138327  5.625483 5.036791e-06"
      ]
     },
     "metadata": {},
     "output_type": "display_data"
    }
   ],
   "source": [
    "coef(summary(max.model))"
   ]
  },
  {
   "cell_type": "code",
   "execution_count": 75,
   "metadata": {},
   "outputs": [],
   "source": [
    "med.model <- glm(Volume ~ 0 + log(Girth) + log(Height),\n",
    "data=trees, family=Gamma(link=\"log\"))"
   ]
  },
  {
   "cell_type": "code",
   "execution_count": 77,
   "metadata": {},
   "outputs": [
    {
     "name": "stdout",
     "output_type": "stream",
     "text": [
      "Start:  AIC=255.48\n",
      "Volume ~ 1\n",
      "\n"
     ]
    }
   ],
   "source": [
    "m.f <- step( min.model, scope=list(lower=min.model, upper=max.model),\n",
    "direction=\"backward\")"
   ]
  },
  {
   "cell_type": "code",
   "execution_count": 78,
   "metadata": {},
   "outputs": [
    {
     "name": "stdout",
     "output_type": "stream",
     "text": [
      "Start:  AIC=139.9\n",
      "Volume ~ log(Girth) + log(Height)\n",
      "\n",
      "              Df Deviance    AIC\n",
      "<none>             0.1835 139.90\n",
      "- log(Height)  1   0.3841 169.11\n",
      "- log(Girth)   1   4.7827 853.48\n"
     ]
    }
   ],
   "source": [
    "m.b <- step( max.model, scope=list(lower=min.model, upper=max.model),\n",
    "direction=\"backward\")"
   ]
  },
  {
   "cell_type": "code",
   "execution_count": 79,
   "metadata": {},
   "outputs": [
    {
     "name": "stdout",
     "output_type": "stream",
     "text": [
      "Start:  AIC=255.48\n",
      "Volume ~ 1\n",
      "\n",
      "              Df Deviance    AIC\n",
      "+ log(Girth)   1   0.3841 230.75\n",
      "+ log(Height)  1   4.7827 245.57\n",
      "<none>             8.3172 255.48\n",
      "\n",
      "Step:  AIC=160.83\n",
      "Volume ~ log(Girth)\n",
      "\n",
      "              Df Deviance    AIC\n",
      "+ log(Height)  1   0.1835 147.82\n",
      "<none>             0.3841 160.83\n",
      "- log(Girth)   1   8.3172 752.55\n",
      "\n",
      "Step:  AIC=139.9\n",
      "Volume ~ log(Girth) + log(Height)\n",
      "\n",
      "              Df Deviance    AIC\n",
      "<none>             0.1835 139.90\n",
      "- log(Height)  1   0.3841 169.11\n",
      "- log(Girth)   1   4.7827 853.48\n"
     ]
    }
   ],
   "source": [
    "m.s <- step( min.model, scope=list(lower=min.model, upper=max.model),\n",
    "direction=\"both\")"
   ]
  }
 ],
 "metadata": {
  "kernelspec": {
   "display_name": "R",
   "language": "R",
   "name": "ir"
  },
  "language_info": {
   "codemirror_mode": "r",
   "file_extension": ".r",
   "mimetype": "text/x-r-source",
   "name": "R",
   "pygments_lexer": "r",
   "version": "3.6.1"
  },
  "orig_nbformat": 4
 },
 "nbformat": 4,
 "nbformat_minor": 2
}
