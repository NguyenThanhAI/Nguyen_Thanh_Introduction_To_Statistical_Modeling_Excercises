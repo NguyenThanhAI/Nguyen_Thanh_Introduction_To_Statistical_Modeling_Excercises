{
 "cells": [
  {
   "cell_type": "code",
   "execution_count": 1,
   "metadata": {},
   "outputs": [],
   "source": [
    "library(GLMsData)\n",
    "data(ceo)"
   ]
  },
  {
   "cell_type": "code",
   "execution_count": 2,
   "metadata": {},
   "outputs": [
    {
     "name": "stdout",
     "output_type": "stream",
     "text": [
      "'data.frame':\t60 obs. of  2 variables:\n",
      " $ Age   : int  53 43 33 45 46 55 41 55 36 45 ...\n",
      " $ Salary: int  145 621 262 208 362 424 339 736 291 58 ...\n"
     ]
    }
   ],
   "source": [
    "str(ceo)"
   ]
  },
  {
   "cell_type": "code",
   "execution_count": 3,
   "metadata": {},
   "outputs": [
    {
     "data": {
      "image/png": "[encoded data removed]",
      "text/plain": [
       "plot without title"
      ]
     },
     "metadata": {},
     "output_type": "display_data"
    }
   ],
   "source": [
    "plot(Salary ~ Age, data=ceo)"
   ]
  },
  {
   "cell_type": "code",
   "execution_count": 4,
   "metadata": {},
   "outputs": [
    {
     "data": {
      "image/png": "[encoded data removed]",
      "text/plain": [
       "plot without title"
      ]
     },
     "metadata": {},
     "output_type": "display_data"
    }
   ],
   "source": [
    "scatter.smooth(ceo$Salary ~ ceo$Age)"
   ]
  },
  {
   "cell_type": "code",
   "execution_count": 5,
   "metadata": {},
   "outputs": [],
   "source": [
    "lm.1 <- lm(Salary ~ Age, data=ceo)"
   ]
  },
  {
   "cell_type": "code",
   "execution_count": 6,
   "metadata": {},
   "outputs": [
    {
     "data": {
      "text/html": [
       "<table>\n",
       "<thead><tr><th></th><th scope=col>Estimate</th><th scope=col>Std. Error</th><th scope=col>t value</th><th scope=col>Pr(&gt;|t|)</th></tr></thead>\n",
       "<tbody>\n",
       "\t<tr><th scope=row>(Intercept)</th><td>242.702111</td><td>168.760402</td><td>1.4381461 </td><td>0.1558606 </td></tr>\n",
       "\t<tr><th scope=row>Age</th><td>  3.132711</td><td>  3.226428</td><td>0.9709536 </td><td>0.3356737 </td></tr>\n",
       "</tbody>\n",
       "</table>\n"
      ],
      "text/latex": [
       "\\begin{tabular}{r|llll}\n",
       "  & Estimate & Std. Error & t value & Pr(>\\textbar{}t\\textbar{})\\\\\n",
       "\\hline\n",
       "\t(Intercept) & 242.702111 & 168.760402 & 1.4381461  & 0.1558606 \\\\\n",
       "\tAge &   3.132711 &   3.226428 & 0.9709536  & 0.3356737 \\\\\n",
       "\\end{tabular}\n"
      ],
      "text/markdown": [
       "\n",
       "| <!--/--> | Estimate | Std. Error | t value | Pr(>|t|) |\n",
       "|---|---|---|---|---|\n",
       "| (Intercept) | 242.702111 | 168.760402 | 1.4381461  | 0.1558606  |\n",
       "| Age |   3.132711 |   3.226428 | 0.9709536  | 0.3356737  |\n",
       "\n"
      ],
      "text/plain": [
       "            Estimate   Std. Error t value   Pr(>|t|) \n",
       "(Intercept) 242.702111 168.760402 1.4381461 0.1558606\n",
       "Age           3.132711   3.226428 0.9709536 0.3356737"
      ]
     },
     "metadata": {},
     "output_type": "display_data"
    }
   ],
   "source": [
    "coef(summary(lm.1))"
   ]
  },
  {
   "cell_type": "code",
   "execution_count": 7,
   "metadata": {},
   "outputs": [
    {
     "data": {
      "text/html": [
       "<table>\n",
       "<thead><tr><th></th><th scope=col>Df</th><th scope=col>Sum Sq</th><th scope=col>Mean Sq</th><th scope=col>F value</th><th scope=col>Pr(&gt;F)</th></tr></thead>\n",
       "<tbody>\n",
       "\t<tr><th scope=row>Age</th><td> 1        </td><td>  45896.03</td><td>45896.03  </td><td>0.9427509 </td><td>0.3356737 </td></tr>\n",
       "\t<tr><th scope=row>Residuals</th><td>57        </td><td>2774936.28</td><td>48683.09  </td><td>       NA </td><td>       NA </td></tr>\n",
       "</tbody>\n",
       "</table>\n"
      ],
      "text/latex": [
       "\\begin{tabular}{r|lllll}\n",
       "  & Df & Sum Sq & Mean Sq & F value & Pr(>F)\\\\\n",
       "\\hline\n",
       "\tAge &  1         &   45896.03 & 45896.03   & 0.9427509  & 0.3356737 \\\\\n",
       "\tResiduals & 57         & 2774936.28 & 48683.09   &        NA  &        NA \\\\\n",
       "\\end{tabular}\n"
      ],
      "text/markdown": [
       "\n",
       "| <!--/--> | Df | Sum Sq | Mean Sq | F value | Pr(>F) |\n",
       "|---|---|---|---|---|---|\n",
       "| Age |  1         |   45896.03 | 45896.03   | 0.9427509  | 0.3356737  |\n",
       "| Residuals | 57         | 2774936.28 | 48683.09   |        NA  |        NA  |\n",
       "\n"
      ],
      "text/plain": [
       "          Df Sum Sq     Mean Sq  F value   Pr(>F)   \n",
       "Age        1   45896.03 45896.03 0.9427509 0.3356737\n",
       "Residuals 57 2774936.28 48683.09        NA        NA"
      ]
     },
     "metadata": {},
     "output_type": "display_data"
    }
   ],
   "source": [
    "anova(lm.1)"
   ]
  },
  {
   "cell_type": "code",
   "execution_count": 8,
   "metadata": {},
   "outputs": [
    {
     "data": {
      "text/html": [
       "<ol class=list-inline>\n",
       "\t<li>2</li>\n",
       "\t<li>638.757452978165</li>\n",
       "</ol>\n"
      ],
      "text/latex": [
       "\\begin{enumerate*}\n",
       "\\item 2\n",
       "\\item 638.757452978165\n",
       "\\end{enumerate*}\n"
      ],
      "text/markdown": [
       "1. 2\n",
       "2. 638.757452978165\n",
       "\n",
       "\n"
      ],
      "text/plain": [
       "[1]   2.0000 638.7575"
      ]
     },
     "metadata": {},
     "output_type": "display_data"
    }
   ],
   "source": [
    "extractAIC(lm.1)"
   ]
  },
  {
   "cell_type": "code",
   "execution_count": 9,
   "metadata": {},
   "outputs": [],
   "source": [
    "library(MASS)"
   ]
  },
  {
   "cell_type": "code",
   "execution_count": 11,
   "metadata": {},
   "outputs": [],
   "source": [
    "lm.2 <- lm(Salary ~ poly(Age, 3), data=ceo)"
   ]
  },
  {
   "cell_type": "code",
   "execution_count": 12,
   "metadata": {},
   "outputs": [
    {
     "data": {
      "text/html": [
       "<ol class=list-inline>\n",
       "\t<li>4</li>\n",
       "\t<li>640.799835328114</li>\n",
       "</ol>\n"
      ],
      "text/latex": [
       "\\begin{enumerate*}\n",
       "\\item 4\n",
       "\\item 640.799835328114\n",
       "\\end{enumerate*}\n"
      ],
      "text/markdown": [
       "1. 4\n",
       "2. 640.799835328114\n",
       "\n",
       "\n"
      ],
      "text/plain": [
       "[1]   4.0000 640.7998"
      ]
     },
     "metadata": {},
     "output_type": "display_data"
    }
   ],
   "source": [
    "extractAIC(lm.2)"
   ]
  },
  {
   "cell_type": "code",
   "execution_count": 13,
   "metadata": {},
   "outputs": [
    {
     "data": {
      "text/html": [
       "<table>\n",
       "<thead><tr><th></th><th scope=col>Estimate</th><th scope=col>Std. Error</th><th scope=col>t value</th><th scope=col>Pr(&gt;|t|)</th></tr></thead>\n",
       "<tbody>\n",
       "\t<tr><th scope=row>(Intercept)</th><td>404.2941    </td><td> 28.76594   </td><td>14.0546086  </td><td>7.538736e-20</td></tr>\n",
       "\t<tr><th scope=row>poly(Age, 3)1</th><td>213.2831    </td><td>221.40776   </td><td> 0.9633047  </td><td>3.396110e-01</td></tr>\n",
       "\t<tr><th scope=row>poly(Age, 3)2</th><td>103.4676    </td><td>221.33121   </td><td> 0.4674787  </td><td>6.420044e-01</td></tr>\n",
       "\t<tr><th scope=row>poly(Age, 3)3</th><td>283.4031    </td><td>221.99189   </td><td> 1.2766370  </td><td>2.070945e-01</td></tr>\n",
       "</tbody>\n",
       "</table>\n"
      ],
      "text/latex": [
       "\\begin{tabular}{r|llll}\n",
       "  & Estimate & Std. Error & t value & Pr(>\\textbar{}t\\textbar{})\\\\\n",
       "\\hline\n",
       "\t(Intercept) & 404.2941     &  28.76594    & 14.0546086   & 7.538736e-20\\\\\n",
       "\tpoly(Age, 3)1 & 213.2831     & 221.40776    &  0.9633047   & 3.396110e-01\\\\\n",
       "\tpoly(Age, 3)2 & 103.4676     & 221.33121    &  0.4674787   & 6.420044e-01\\\\\n",
       "\tpoly(Age, 3)3 & 283.4031     & 221.99189    &  1.2766370   & 2.070945e-01\\\\\n",
       "\\end{tabular}\n"
      ],
      "text/markdown": [
       "\n",
       "| <!--/--> | Estimate | Std. Error | t value | Pr(>|t|) |\n",
       "|---|---|---|---|---|\n",
       "| (Intercept) | 404.2941     |  28.76594    | 14.0546086   | 7.538736e-20 |\n",
       "| poly(Age, 3)1 | 213.2831     | 221.40776    |  0.9633047   | 3.396110e-01 |\n",
       "| poly(Age, 3)2 | 103.4676     | 221.33121    |  0.4674787   | 6.420044e-01 |\n",
       "| poly(Age, 3)3 | 283.4031     | 221.99189    |  1.2766370   | 2.070945e-01 |\n",
       "\n"
      ],
      "text/plain": [
       "              Estimate Std. Error t value    Pr(>|t|)    \n",
       "(Intercept)   404.2941  28.76594  14.0546086 7.538736e-20\n",
       "poly(Age, 3)1 213.2831 221.40776   0.9633047 3.396110e-01\n",
       "poly(Age, 3)2 103.4676 221.33121   0.4674787 6.420044e-01\n",
       "poly(Age, 3)3 283.4031 221.99189   1.2766370 2.070945e-01"
      ]
     },
     "metadata": {},
     "output_type": "display_data"
    }
   ],
   "source": [
    "coef(summary(lm.2))"
   ]
  },
  {
   "cell_type": "code",
   "execution_count": 14,
   "metadata": {},
   "outputs": [],
   "source": [
    "library(splines)"
   ]
  },
  {
   "cell_type": "code",
   "execution_count": 15,
   "metadata": {},
   "outputs": [],
   "source": [
    "lm.3 <- lm(Salary ~ ns(Age, 3), data=ceo)"
   ]
  },
  {
   "cell_type": "code",
   "execution_count": 16,
   "metadata": {},
   "outputs": [
    {
     "data": {
      "text/html": [
       "<table>\n",
       "<thead><tr><th></th><th scope=col>Estimate</th><th scope=col>Std. Error</th><th scope=col>t value</th><th scope=col>Pr(&gt;|t|)</th></tr></thead>\n",
       "<tbody>\n",
       "\t<tr><th scope=row>(Intercept)</th><td>306.94748 </td><td>129.8130  </td><td> 2.3645354</td><td>0.0216095 </td></tr>\n",
       "\t<tr><th scope=row>ns(Age, 3)1</th><td>-20.63585 </td><td>122.2200  </td><td>-0.1688418</td><td>0.8665405 </td></tr>\n",
       "\t<tr><th scope=row>ns(Age, 3)2</th><td>299.14158 </td><td>293.1289  </td><td> 1.0205121</td><td>0.3119537 </td></tr>\n",
       "\t<tr><th scope=row>ns(Age, 3)3</th><td>207.27594 </td><td>152.4843  </td><td> 1.3593261</td><td>0.1795909 </td></tr>\n",
       "</tbody>\n",
       "</table>\n"
      ],
      "text/latex": [
       "\\begin{tabular}{r|llll}\n",
       "  & Estimate & Std. Error & t value & Pr(>\\textbar{}t\\textbar{})\\\\\n",
       "\\hline\n",
       "\t(Intercept) & 306.94748  & 129.8130   &  2.3645354 & 0.0216095 \\\\\n",
       "\tns(Age, 3)1 & -20.63585  & 122.2200   & -0.1688418 & 0.8665405 \\\\\n",
       "\tns(Age, 3)2 & 299.14158  & 293.1289   &  1.0205121 & 0.3119537 \\\\\n",
       "\tns(Age, 3)3 & 207.27594  & 152.4843   &  1.3593261 & 0.1795909 \\\\\n",
       "\\end{tabular}\n"
      ],
      "text/markdown": [
       "\n",
       "| <!--/--> | Estimate | Std. Error | t value | Pr(>|t|) |\n",
       "|---|---|---|---|---|\n",
       "| (Intercept) | 306.94748  | 129.8130   |  2.3645354 | 0.0216095  |\n",
       "| ns(Age, 3)1 | -20.63585  | 122.2200   | -0.1688418 | 0.8665405  |\n",
       "| ns(Age, 3)2 | 299.14158  | 293.1289   |  1.0205121 | 0.3119537  |\n",
       "| ns(Age, 3)3 | 207.27594  | 152.4843   |  1.3593261 | 0.1795909  |\n",
       "\n"
      ],
      "text/plain": [
       "            Estimate  Std. Error t value    Pr(>|t|) \n",
       "(Intercept) 306.94748 129.8130    2.3645354 0.0216095\n",
       "ns(Age, 3)1 -20.63585 122.2200   -0.1688418 0.8665405\n",
       "ns(Age, 3)2 299.14158 293.1289    1.0205121 0.3119537\n",
       "ns(Age, 3)3 207.27594 152.4843    1.3593261 0.1795909"
      ]
     },
     "metadata": {},
     "output_type": "display_data"
    }
   ],
   "source": [
    "coef(summary(lm.3))"
   ]
  }
 ],
 "metadata": {
  "kernelspec": {
   "display_name": "R",
   "language": "R",
   "name": "ir"
  },
  "language_info": {
   "codemirror_mode": "r",
   "file_extension": ".r",
   "mimetype": "text/x-r-source",
   "name": "R",
   "pygments_lexer": "r",
   "version": "3.6.1"
  },
  "orig_nbformat": 4
 },
 "nbformat": 4,
 "nbformat_minor": 2
}
