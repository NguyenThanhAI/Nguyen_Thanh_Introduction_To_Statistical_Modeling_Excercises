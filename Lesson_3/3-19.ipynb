{
 "cells": [
  {
   "cell_type": "code",
   "execution_count": 1,
   "metadata": {},
   "outputs": [],
   "source": [
    "library(GLMsData)\n",
    "library(MASS)\n",
    "data(urinationL)"
   ]
  },
  {
   "cell_type": "code",
   "execution_count": 2,
   "metadata": {},
   "outputs": [
    {
     "name": "stdout",
     "output_type": "stream",
     "text": [
      "'data.frame':\t47 obs. of  5 variables:\n",
      " $ Animal    : Factor w/ 21 levels \"African Elephant (10 years)\",..: 15 20 18 19 11 16 16 16 16 16 ...\n",
      " $ Sex       : Factor w/ 2 levels \"F\",\"M\": 1 1 1 1 2 1 1 1 1 1 ...\n",
      " $ Mass      : num  0.02 0.2 0.2 0.3 0.4 2.3 2.3 2.7 2.7 3.2 ...\n",
      " $ Length    : num  10 9.5 17 20 20 49.4 50 66.7 54.2 68.3 ...\n",
      " $ SampleSize: int  1 20 1 61 1 1 1 1 1 1 ...\n"
     ]
    }
   ],
   "source": [
    "str(urinationL)"
   ]
  },
  {
   "cell_type": "code",
   "execution_count": 5,
   "metadata": {},
   "outputs": [
    {
     "data": {
      "image/png": "[encoded data removed]",
      "text/plain": [
       "plot without title"
      ]
     },
     "metadata": {},
     "output_type": "display_data"
    }
   ],
   "source": [
    "plot(log(Length) ~ log(Mass), data=urinationL)"
   ]
  },
  {
   "cell_type": "code",
   "execution_count": 8,
   "metadata": {},
   "outputs": [],
   "source": [
    "lm.1 <- lm(log(Length) ~ log(Mass), data=urinationL, weights=SampleSize)"
   ]
  },
  {
   "cell_type": "code",
   "execution_count": 9,
   "metadata": {},
   "outputs": [
    {
     "data": {
      "text/html": [
       "<table>\n",
       "<thead><tr><th></th><th scope=col>Estimate</th><th scope=col>Std. Error</th><th scope=col>t value</th><th scope=col>Pr(&gt;|t|)</th></tr></thead>\n",
       "<tbody>\n",
       "\t<tr><th scope=row>(Intercept)</th><td>3.3950007   </td><td>0.04745518  </td><td>71.54120    </td><td>5.388320e-48</td></tr>\n",
       "\t<tr><th scope=row>log(Mass)</th><td>0.4451571   </td><td>0.01231487  </td><td>36.14792    </td><td>6.801899e-35</td></tr>\n",
       "</tbody>\n",
       "</table>\n"
      ],
      "text/latex": [
       "\\begin{tabular}{r|llll}\n",
       "  & Estimate & Std. Error & t value & Pr(>\\textbar{}t\\textbar{})\\\\\n",
       "\\hline\n",
       "\t(Intercept) & 3.3950007    & 0.04745518   & 71.54120     & 5.388320e-48\\\\\n",
       "\tlog(Mass) & 0.4451571    & 0.01231487   & 36.14792     & 6.801899e-35\\\\\n",
       "\\end{tabular}\n"
      ],
      "text/markdown": [
       "\n",
       "| <!--/--> | Estimate | Std. Error | t value | Pr(>|t|) |\n",
       "|---|---|---|---|---|\n",
       "| (Intercept) | 3.3950007    | 0.04745518   | 71.54120     | 5.388320e-48 |\n",
       "| log(Mass) | 0.4451571    | 0.01231487   | 36.14792     | 6.801899e-35 |\n",
       "\n"
      ],
      "text/plain": [
       "            Estimate  Std. Error t value  Pr(>|t|)    \n",
       "(Intercept) 3.3950007 0.04745518 71.54120 5.388320e-48\n",
       "log(Mass)   0.4451571 0.01231487 36.14792 6.801899e-35"
      ]
     },
     "metadata": {},
     "output_type": "display_data"
    }
   ],
   "source": [
    "coef(summary(lm.1))"
   ]
  },
  {
   "cell_type": "code",
   "execution_count": 10,
   "metadata": {},
   "outputs": [
    {
     "data": {
      "text/html": [
       "<dl class=dl-horizontal>\n",
       "\t<dt>value</dt>\n",
       "\t\t<dd>1306.67237078581</dd>\n",
       "\t<dt>numdf</dt>\n",
       "\t\t<dd>1</dd>\n",
       "\t<dt>dendf</dt>\n",
       "\t\t<dd>45</dd>\n",
       "</dl>\n"
      ],
      "text/latex": [
       "\\begin{description*}\n",
       "\\item[value] 1306.67237078581\n",
       "\\item[numdf] 1\n",
       "\\item[dendf] 45\n",
       "\\end{description*}\n"
      ],
      "text/markdown": [
       "value\n",
       ":   1306.67237078581numdf\n",
       ":   1dendf\n",
       ":   45\n",
       "\n"
      ],
      "text/plain": [
       "   value    numdf    dendf \n",
       "1306.672    1.000   45.000 "
      ]
     },
     "metadata": {},
     "output_type": "display_data"
    }
   ],
   "source": [
    "summary(lm.1)$fstatistic"
   ]
  },
  {
   "cell_type": "code",
   "execution_count": 11,
   "metadata": {},
   "outputs": [
    {
     "data": {
      "text/html": [
       "0"
      ],
      "text/latex": [
       "0"
      ],
      "text/markdown": [
       "0"
      ],
      "text/plain": [
       "[1] 0"
      ]
     },
     "metadata": {},
     "output_type": "display_data"
    }
   ],
   "source": [
    "1-pf(1306, 1, 45)"
   ]
  }
 ],
 "metadata": {
  "kernelspec": {
   "display_name": "R",
   "language": "R",
   "name": "ir"
  },
  "language_info": {
   "codemirror_mode": "r",
   "file_extension": ".r",
   "mimetype": "text/x-r-source",
   "name": "R",
   "pygments_lexer": "r",
   "version": "3.6.1"
  },
  "orig_nbformat": 4
 },
 "nbformat": 4,
 "nbformat_minor": 2
}
