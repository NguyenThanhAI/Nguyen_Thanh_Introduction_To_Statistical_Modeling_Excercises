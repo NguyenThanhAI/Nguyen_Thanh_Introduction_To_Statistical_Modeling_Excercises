{
 "cells": [
  {
   "cell_type": "code",
   "execution_count": 1,
   "metadata": {},
   "outputs": [],
   "source": [
    "library(GLMsData)"
   ]
  },
  {
   "cell_type": "code",
   "execution_count": 2,
   "metadata": {},
   "outputs": [],
   "source": [
    "data(fishfood)"
   ]
  },
  {
   "cell_type": "code",
   "execution_count": 3,
   "metadata": {},
   "outputs": [
    {
     "name": "stdout",
     "output_type": "stream",
     "text": [
      "'data.frame':\t33 obs. of  6 variables:\n",
      " $ Species: Factor w/ 33 levels \"Brevoortia patronus\",..: 1 2 5 12 13 14 19 20 21 22 ...\n",
      " $ MaxWt  : int  362 1216 28 2 1 2 8 10 11 13 ...\n",
      " $ Temp   : int  25 18 15 25 25 25 25 25 25 25 ...\n",
      " $ AR     : num  1.69 2.31 1.42 1.65 1.05 1.62 1.28 1.11 0.93 1.28 ...\n",
      " $ Food   : Factor w/ 2 levels \"C\",\"H\": 1 2 1 1 1 1 1 1 1 1 ...\n",
      " $ FoodCon: num  2.22 8.61 2.5 9.28 6.66 3.32 10.3 4.45 3.28 7.38 ...\n"
     ]
    }
   ],
   "source": [
    "str(fishfood)"
   ]
  },
  {
   "cell_type": "code",
   "execution_count": 4,
   "metadata": {},
   "outputs": [
    {
     "data": {
      "text/html": [
       "<table>\n",
       "<thead><tr><th scope=col>Species</th><th scope=col>MaxWt</th><th scope=col>Temp</th><th scope=col>AR</th><th scope=col>Food</th><th scope=col>FoodCon</th></tr></thead>\n",
       "<tbody>\n",
       "\t<tr><td>Brevoortia patronus      </td><td>   362                   </td><td>25                       </td><td>1.69                     </td><td>C                        </td><td> 2.22                    </td></tr>\n",
       "\t<tr><td>Brevoortia tyrannus      </td><td>  1216                   </td><td>18                       </td><td>2.31                     </td><td>H                        </td><td> 8.61                    </td></tr>\n",
       "\t<tr><td>Engraulis encrasicholus  </td><td>    28                   </td><td>15                       </td><td>1.42                     </td><td>C                        </td><td> 2.50                    </td></tr>\n",
       "\t<tr><td>Hygophum proximum        </td><td>     2                   </td><td>25                       </td><td>1.65                     </td><td>C                        </td><td> 9.28                    </td></tr>\n",
       "\t<tr><td>Hygophum reindhardtii    </td><td>     1                   </td><td>25                       </td><td>1.05                     </td><td>C                        </td><td> 6.66                    </td></tr>\n",
       "\t<tr><td>Lampanyctus alatus       </td><td>     2                   </td><td>25                       </td><td>1.62                     </td><td>C                        </td><td> 3.32                    </td></tr>\n",
       "\t<tr><td>Myctophum asperum        </td><td>     8                   </td><td>25                       </td><td>1.28                     </td><td>C                        </td><td>10.30                    </td></tr>\n",
       "\t<tr><td>Myctophum aurolaternatum </td><td>    10                   </td><td>25                       </td><td>1.11                     </td><td>C                        </td><td> 4.45                    </td></tr>\n",
       "\t<tr><td>Myctophum nitidulum      </td><td>    11                   </td><td>25                       </td><td>0.93                     </td><td>C                        </td><td> 3.28                    </td></tr>\n",
       "\t<tr><td>Myctophum spinosum       </td><td>    13                   </td><td>25                       </td><td>1.28                     </td><td>C                        </td><td> 7.38                    </td></tr>\n",
       "\t<tr><td>Symbolophorus everrnanni </td><td>     4                   </td><td>25                       </td><td>1.20                     </td><td>C                        </td><td> 5.45                    </td></tr>\n",
       "\t<tr><td>Gadus morhua (Baltic)    </td><td> 12356                   </td><td>10                       </td><td>0.88                     </td><td>C                        </td><td> 0.71                    </td></tr>\n",
       "\t<tr><td>Gadus morhua (North Sea) </td><td> 15714                   </td><td>12                       </td><td>0.88                     </td><td>C                        </td><td> 0.62                    </td></tr>\n",
       "\t<tr><td>Sebastes melanops        </td><td>  3776                   </td><td>13                       </td><td>1.31                     </td><td>C                        </td><td> 0.30                    </td></tr>\n",
       "\t<tr><td>Epinephelus aenus        </td><td> 47000                   </td><td>19                       </td><td>1.28                     </td><td>C                        </td><td> 1.10                    </td></tr>\n",
       "\t<tr><td>Epinephelus fuscoguttatus</td><td> 12338                   </td><td>28                       </td><td>2.14                     </td><td>C                        </td><td> 1.10                    </td></tr>\n",
       "\t<tr><td>Epinephelus guttatus     </td><td>  1880                   </td><td>28                       </td><td>1.44                     </td><td>C                        </td><td> 0.76                    </td></tr>\n",
       "\t<tr><td>Epinephelus tauvina      </td><td> 17940                   </td><td>28                       </td><td>1.44                     </td><td>C                        </td><td> 0.64                    </td></tr>\n",
       "\t<tr><td>Caranx ruber             </td><td>  3036                   </td><td>27                       </td><td>3.91                     </td><td>C                        </td><td> 2.89                    </td></tr>\n",
       "\t<tr><td>Coryphaena hippurus      </td><td>147000                   </td><td>25                       </td><td>3.29                     </td><td>C                        </td><td> 2.32                    </td></tr>\n",
       "\t<tr><td>Lutjanus campechanus     </td><td> 13000                   </td><td>20                       </td><td>1.41                     </td><td>C                        </td><td> 1.44                    </td></tr>\n",
       "\t<tr><td>Lutjanus erythropterus   </td><td>  3229                   </td><td>27                       </td><td>2.39                     </td><td>C                        </td><td> 1.82                    </td></tr>\n",
       "\t<tr><td>Sparidentex hasta        </td><td>  7400                   </td><td>24                       </td><td>2.18                     </td><td>C                        </td><td> 0.64                    </td></tr>\n",
       "\t<tr><td>Sparus aurata (Adriatic) </td><td>  4000                   </td><td>16                       </td><td>2.84                     </td><td>C                        </td><td> 0.44                    </td></tr>\n",
       "\t<tr><td>Sparus aurata (SE Medit.)</td><td>  9617                   </td><td>24                       </td><td>2.84                     </td><td>C                        </td><td> 1.28                    </td></tr>\n",
       "\t<tr><td>Siganus canaliculatus    </td><td>   215                   </td><td>27                       </td><td>2.27                     </td><td>H                        </td><td>16.90                    </td></tr>\n",
       "\t<tr><td>Siganus spinus           </td><td>   234                   </td><td>27                       </td><td>2.42                     </td><td>H                        </td><td>11.50                    </td></tr>\n",
       "\t<tr><td>Thunnus albacares        </td><td> 81920                   </td><td>24                       </td><td>9.26                     </td><td>C                        </td><td> 3.19                    </td></tr>\n",
       "\t<tr><td>Thunnus thynnus          </td><td>622000                   </td><td>15                       </td><td>9.80                     </td><td>C                        </td><td> 1.08                    </td></tr>\n",
       "\t<tr><td>Lirnanda limanda (F)     </td><td>   756                   </td><td>12                       </td><td>1.20                     </td><td>C                        </td><td> 1.01                    </td></tr>\n",
       "\t<tr><td>Limanda limanda (M)      </td><td>   149                   </td><td>12                       </td><td>1.20                     </td><td>C                        </td><td> 1.93                    </td></tr>\n",
       "\t<tr><td>Pleuronectes platessa (F)</td><td>  3430                   </td><td>12                       </td><td>1.11                     </td><td>C                        </td><td> 0.58                    </td></tr>\n",
       "\t<tr><td>Pleuronectes platessa (M)</td><td>   910                   </td><td>12                       </td><td>1.11                     </td><td>C                        </td><td> 0.94                    </td></tr>\n",
       "</tbody>\n",
       "</table>\n"
      ],
      "text/latex": [
       "\\begin{tabular}{r|llllll}\n",
       " Species & MaxWt & Temp & AR & Food & FoodCon\\\\\n",
       "\\hline\n",
       "\t Brevoortia patronus       &    362                    & 25                        & 1.69                      & C                         &  2.22                    \\\\\n",
       "\t Brevoortia tyrannus       &   1216                    & 18                        & 2.31                      & H                         &  8.61                    \\\\\n",
       "\t Engraulis encrasicholus   &     28                    & 15                        & 1.42                      & C                         &  2.50                    \\\\\n",
       "\t Hygophum proximum         &      2                    & 25                        & 1.65                      & C                         &  9.28                    \\\\\n",
       "\t Hygophum reindhardtii     &      1                    & 25                        & 1.05                      & C                         &  6.66                    \\\\\n",
       "\t Lampanyctus alatus        &      2                    & 25                        & 1.62                      & C                         &  3.32                    \\\\\n",
       "\t Myctophum asperum         &      8                    & 25                        & 1.28                      & C                         & 10.30                    \\\\\n",
       "\t Myctophum aurolaternatum  &     10                    & 25                        & 1.11                      & C                         &  4.45                    \\\\\n",
       "\t Myctophum nitidulum       &     11                    & 25                        & 0.93                      & C                         &  3.28                    \\\\\n",
       "\t Myctophum spinosum        &     13                    & 25                        & 1.28                      & C                         &  7.38                    \\\\\n",
       "\t Symbolophorus everrnanni  &      4                    & 25                        & 1.20                      & C                         &  5.45                    \\\\\n",
       "\t Gadus morhua (Baltic)     &  12356                    & 10                        & 0.88                      & C                         &  0.71                    \\\\\n",
       "\t Gadus morhua (North Sea)  &  15714                    & 12                        & 0.88                      & C                         &  0.62                    \\\\\n",
       "\t Sebastes melanops         &   3776                    & 13                        & 1.31                      & C                         &  0.30                    \\\\\n",
       "\t Epinephelus aenus         &  47000                    & 19                        & 1.28                      & C                         &  1.10                    \\\\\n",
       "\t Epinephelus fuscoguttatus &  12338                    & 28                        & 2.14                      & C                         &  1.10                    \\\\\n",
       "\t Epinephelus guttatus      &   1880                    & 28                        & 1.44                      & C                         &  0.76                    \\\\\n",
       "\t Epinephelus tauvina       &  17940                    & 28                        & 1.44                      & C                         &  0.64                    \\\\\n",
       "\t Caranx ruber              &   3036                    & 27                        & 3.91                      & C                         &  2.89                    \\\\\n",
       "\t Coryphaena hippurus       & 147000                    & 25                        & 3.29                      & C                         &  2.32                    \\\\\n",
       "\t Lutjanus campechanus      &  13000                    & 20                        & 1.41                      & C                         &  1.44                    \\\\\n",
       "\t Lutjanus erythropterus    &   3229                    & 27                        & 2.39                      & C                         &  1.82                    \\\\\n",
       "\t Sparidentex hasta         &   7400                    & 24                        & 2.18                      & C                         &  0.64                    \\\\\n",
       "\t Sparus aurata (Adriatic)  &   4000                    & 16                        & 2.84                      & C                         &  0.44                    \\\\\n",
       "\t Sparus aurata (SE Medit.) &   9617                    & 24                        & 2.84                      & C                         &  1.28                    \\\\\n",
       "\t Siganus canaliculatus     &    215                    & 27                        & 2.27                      & H                         & 16.90                    \\\\\n",
       "\t Siganus spinus            &    234                    & 27                        & 2.42                      & H                         & 11.50                    \\\\\n",
       "\t Thunnus albacares         &  81920                    & 24                        & 9.26                      & C                         &  3.19                    \\\\\n",
       "\t Thunnus thynnus           & 622000                    & 15                        & 9.80                      & C                         &  1.08                    \\\\\n",
       "\t Lirnanda limanda (F)      &    756                    & 12                        & 1.20                      & C                         &  1.01                    \\\\\n",
       "\t Limanda limanda (M)       &    149                    & 12                        & 1.20                      & C                         &  1.93                    \\\\\n",
       "\t Pleuronectes platessa (F) &   3430                    & 12                        & 1.11                      & C                         &  0.58                    \\\\\n",
       "\t Pleuronectes platessa (M) &    910                    & 12                        & 1.11                      & C                         &  0.94                    \\\\\n",
       "\\end{tabular}\n"
      ],
      "text/markdown": [
       "\n",
       "| Species | MaxWt | Temp | AR | Food | FoodCon |\n",
       "|---|---|---|---|---|---|\n",
       "| Brevoortia patronus       |    362                    | 25                        | 1.69                      | C                         |  2.22                     |\n",
       "| Brevoortia tyrannus       |   1216                    | 18                        | 2.31                      | H                         |  8.61                     |\n",
       "| Engraulis encrasicholus   |     28                    | 15                        | 1.42                      | C                         |  2.50                     |\n",
       "| Hygophum proximum         |      2                    | 25                        | 1.65                      | C                         |  9.28                     |\n",
       "| Hygophum reindhardtii     |      1                    | 25                        | 1.05                      | C                         |  6.66                     |\n",
       "| Lampanyctus alatus        |      2                    | 25                        | 1.62                      | C                         |  3.32                     |\n",
       "| Myctophum asperum         |      8                    | 25                        | 1.28                      | C                         | 10.30                     |\n",
       "| Myctophum aurolaternatum  |     10                    | 25                        | 1.11                      | C                         |  4.45                     |\n",
       "| Myctophum nitidulum       |     11                    | 25                        | 0.93                      | C                         |  3.28                     |\n",
       "| Myctophum spinosum        |     13                    | 25                        | 1.28                      | C                         |  7.38                     |\n",
       "| Symbolophorus everrnanni  |      4                    | 25                        | 1.20                      | C                         |  5.45                     |\n",
       "| Gadus morhua (Baltic)     |  12356                    | 10                        | 0.88                      | C                         |  0.71                     |\n",
       "| Gadus morhua (North Sea)  |  15714                    | 12                        | 0.88                      | C                         |  0.62                     |\n",
       "| Sebastes melanops         |   3776                    | 13                        | 1.31                      | C                         |  0.30                     |\n",
       "| Epinephelus aenus         |  47000                    | 19                        | 1.28                      | C                         |  1.10                     |\n",
       "| Epinephelus fuscoguttatus |  12338                    | 28                        | 2.14                      | C                         |  1.10                     |\n",
       "| Epinephelus guttatus      |   1880                    | 28                        | 1.44                      | C                         |  0.76                     |\n",
       "| Epinephelus tauvina       |  17940                    | 28                        | 1.44                      | C                         |  0.64                     |\n",
       "| Caranx ruber              |   3036                    | 27                        | 3.91                      | C                         |  2.89                     |\n",
       "| Coryphaena hippurus       | 147000                    | 25                        | 3.29                      | C                         |  2.32                     |\n",
       "| Lutjanus campechanus      |  13000                    | 20                        | 1.41                      | C                         |  1.44                     |\n",
       "| Lutjanus erythropterus    |   3229                    | 27                        | 2.39                      | C                         |  1.82                     |\n",
       "| Sparidentex hasta         |   7400                    | 24                        | 2.18                      | C                         |  0.64                     |\n",
       "| Sparus aurata (Adriatic)  |   4000                    | 16                        | 2.84                      | C                         |  0.44                     |\n",
       "| Sparus aurata (SE Medit.) |   9617                    | 24                        | 2.84                      | C                         |  1.28                     |\n",
       "| Siganus canaliculatus     |    215                    | 27                        | 2.27                      | H                         | 16.90                     |\n",
       "| Siganus spinus            |    234                    | 27                        | 2.42                      | H                         | 11.50                     |\n",
       "| Thunnus albacares         |  81920                    | 24                        | 9.26                      | C                         |  3.19                     |\n",
       "| Thunnus thynnus           | 622000                    | 15                        | 9.80                      | C                         |  1.08                     |\n",
       "| Lirnanda limanda (F)      |    756                    | 12                        | 1.20                      | C                         |  1.01                     |\n",
       "| Limanda limanda (M)       |    149                    | 12                        | 1.20                      | C                         |  1.93                     |\n",
       "| Pleuronectes platessa (F) |   3430                    | 12                        | 1.11                      | C                         |  0.58                     |\n",
       "| Pleuronectes platessa (M) |    910                    | 12                        | 1.11                      | C                         |  0.94                     |\n",
       "\n"
      ],
      "text/plain": [
       "   Species                   MaxWt  Temp AR   Food FoodCon\n",
       "1  Brevoortia patronus          362 25   1.69 C     2.22  \n",
       "2  Brevoortia tyrannus         1216 18   2.31 H     8.61  \n",
       "3  Engraulis encrasicholus       28 15   1.42 C     2.50  \n",
       "4  Hygophum proximum              2 25   1.65 C     9.28  \n",
       "5  Hygophum reindhardtii          1 25   1.05 C     6.66  \n",
       "6  Lampanyctus alatus             2 25   1.62 C     3.32  \n",
       "7  Myctophum asperum              8 25   1.28 C    10.30  \n",
       "8  Myctophum aurolaternatum      10 25   1.11 C     4.45  \n",
       "9  Myctophum nitidulum           11 25   0.93 C     3.28  \n",
       "10 Myctophum spinosum            13 25   1.28 C     7.38  \n",
       "11 Symbolophorus everrnanni       4 25   1.20 C     5.45  \n",
       "12 Gadus morhua (Baltic)      12356 10   0.88 C     0.71  \n",
       "13 Gadus morhua (North Sea)   15714 12   0.88 C     0.62  \n",
       "14 Sebastes melanops           3776 13   1.31 C     0.30  \n",
       "15 Epinephelus aenus          47000 19   1.28 C     1.10  \n",
       "16 Epinephelus fuscoguttatus  12338 28   2.14 C     1.10  \n",
       "17 Epinephelus guttatus        1880 28   1.44 C     0.76  \n",
       "18 Epinephelus tauvina        17940 28   1.44 C     0.64  \n",
       "19 Caranx ruber                3036 27   3.91 C     2.89  \n",
       "20 Coryphaena hippurus       147000 25   3.29 C     2.32  \n",
       "21 Lutjanus campechanus       13000 20   1.41 C     1.44  \n",
       "22 Lutjanus erythropterus      3229 27   2.39 C     1.82  \n",
       "23 Sparidentex hasta           7400 24   2.18 C     0.64  \n",
       "24 Sparus aurata (Adriatic)    4000 16   2.84 C     0.44  \n",
       "25 Sparus aurata (SE Medit.)   9617 24   2.84 C     1.28  \n",
       "26 Siganus canaliculatus        215 27   2.27 H    16.90  \n",
       "27 Siganus spinus               234 27   2.42 H    11.50  \n",
       "28 Thunnus albacares          81920 24   9.26 C     3.19  \n",
       "29 Thunnus thynnus           622000 15   9.80 C     1.08  \n",
       "30 Lirnanda limanda (F)         756 12   1.20 C     1.01  \n",
       "31 Limanda limanda (M)          149 12   1.20 C     1.93  \n",
       "32 Pleuronectes platessa (F)   3430 12   1.11 C     0.58  \n",
       "33 Pleuronectes platessa (M)    910 12   1.11 C     0.94  "
      ]
     },
     "metadata": {},
     "output_type": "display_data"
    }
   ],
   "source": [
    "fishfood"
   ]
  },
  {
   "cell_type": "code",
   "execution_count": 5,
   "metadata": {},
   "outputs": [],
   "source": [
    "lm.1 <- lm( log(FoodCon) ~ log(MaxWt) + log(Temp) + log(AR) + Food, data=fishfood)"
   ]
  },
  {
   "cell_type": "code",
   "execution_count": 6,
   "metadata": {},
   "outputs": [
    {
     "data": {
      "text/html": [
       "<table>\n",
       "<thead><tr><th></th><th scope=col>Estimate</th><th scope=col>Std. Error</th><th scope=col>t value</th><th scope=col>Pr(&gt;|t|)</th></tr></thead>\n",
       "<tbody>\n",
       "\t<tr><th scope=row>(Intercept)</th><td>-0.2780129  </td><td>1.06855672  </td><td>-0.260176   </td><td>7.966317e-01</td></tr>\n",
       "\t<tr><th scope=row>log(MaxWt)</th><td>-0.2096217  </td><td>0.03441292  </td><td>-6.091367   </td><td>1.431734e-06</td></tr>\n",
       "\t<tr><th scope=row>log(Temp)</th><td> 0.6438512  </td><td>0.33294164  </td><td> 1.933826   </td><td>6.330109e-02</td></tr>\n",
       "\t<tr><th scope=row>log(AR)</th><td> 0.5650509  </td><td>0.21356708  </td><td> 2.645777   </td><td>1.321841e-02</td></tr>\n",
       "\t<tr><th scope=row>FoodH</th><td> 1.4914284  </td><td>0.32871545  </td><td> 4.537141   </td><td>9.819961e-05</td></tr>\n",
       "</tbody>\n",
       "</table>\n"
      ],
      "text/latex": [
       "\\begin{tabular}{r|llll}\n",
       "  & Estimate & Std. Error & t value & Pr(>\\textbar{}t\\textbar{})\\\\\n",
       "\\hline\n",
       "\t(Intercept) & -0.2780129   & 1.06855672   & -0.260176    & 7.966317e-01\\\\\n",
       "\tlog(MaxWt) & -0.2096217   & 0.03441292   & -6.091367    & 1.431734e-06\\\\\n",
       "\tlog(Temp) &  0.6438512   & 0.33294164   &  1.933826    & 6.330109e-02\\\\\n",
       "\tlog(AR) &  0.5650509   & 0.21356708   &  2.645777    & 1.321841e-02\\\\\n",
       "\tFoodH &  1.4914284   & 0.32871545   &  4.537141    & 9.819961e-05\\\\\n",
       "\\end{tabular}\n"
      ],
      "text/markdown": [
       "\n",
       "| <!--/--> | Estimate | Std. Error | t value | Pr(>|t|) |\n",
       "|---|---|---|---|---|\n",
       "| (Intercept) | -0.2780129   | 1.06855672   | -0.260176    | 7.966317e-01 |\n",
       "| log(MaxWt) | -0.2096217   | 0.03441292   | -6.091367    | 1.431734e-06 |\n",
       "| log(Temp) |  0.6438512   | 0.33294164   |  1.933826    | 6.330109e-02 |\n",
       "| log(AR) |  0.5650509   | 0.21356708   |  2.645777    | 1.321841e-02 |\n",
       "| FoodH |  1.4914284   | 0.32871545   |  4.537141    | 9.819961e-05 |\n",
       "\n"
      ],
      "text/plain": [
       "            Estimate   Std. Error t value   Pr(>|t|)    \n",
       "(Intercept) -0.2780129 1.06855672 -0.260176 7.966317e-01\n",
       "log(MaxWt)  -0.2096217 0.03441292 -6.091367 1.431734e-06\n",
       "log(Temp)    0.6438512 0.33294164  1.933826 6.330109e-02\n",
       "log(AR)      0.5650509 0.21356708  2.645777 1.321841e-02\n",
       "FoodH        1.4914284 0.32871545  4.537141 9.819961e-05"
      ]
     },
     "metadata": {},
     "output_type": "display_data"
    }
   ],
   "source": [
    "coef(summary(lm.1))"
   ]
  },
  {
   "cell_type": "code",
   "execution_count": 7,
   "metadata": {},
   "outputs": [
    {
     "data": {
      "text/html": [
       "<table>\n",
       "<thead><tr><th></th><th scope=col>Df</th><th scope=col>Sum Sq</th><th scope=col>Mean Sq</th><th scope=col>F value</th><th scope=col>Pr(&gt;F)</th></tr></thead>\n",
       "<tbody>\n",
       "\t<tr><th scope=row>log(MaxWt)</th><td> 1          </td><td>14.240683   </td><td>14.2406829  </td><td>50.93964    </td><td>9.120953e-08</td></tr>\n",
       "\t<tr><th scope=row>log(Temp)</th><td> 1          </td><td> 5.156741   </td><td> 5.1567406  </td><td>18.44592    </td><td>1.897211e-04</td></tr>\n",
       "\t<tr><th scope=row>log(AR)</th><td> 1          </td><td> 3.367067   </td><td> 3.3670667  </td><td>12.04417    </td><td>1.702149e-03</td></tr>\n",
       "\t<tr><th scope=row>Food</th><td> 1          </td><td> 5.754924   </td><td> 5.7549235  </td><td>20.58565    </td><td>9.819961e-05</td></tr>\n",
       "\t<tr><th scope=row>Residuals</th><td>28          </td><td> 7.827678   </td><td> 0.2795599  </td><td>      NA    </td><td>          NA</td></tr>\n",
       "</tbody>\n",
       "</table>\n"
      ],
      "text/latex": [
       "\\begin{tabular}{r|lllll}\n",
       "  & Df & Sum Sq & Mean Sq & F value & Pr(>F)\\\\\n",
       "\\hline\n",
       "\tlog(MaxWt) &  1           & 14.240683    & 14.2406829   & 50.93964     & 9.120953e-08\\\\\n",
       "\tlog(Temp) &  1           &  5.156741    &  5.1567406   & 18.44592     & 1.897211e-04\\\\\n",
       "\tlog(AR) &  1           &  3.367067    &  3.3670667   & 12.04417     & 1.702149e-03\\\\\n",
       "\tFood &  1           &  5.754924    &  5.7549235   & 20.58565     & 9.819961e-05\\\\\n",
       "\tResiduals & 28           &  7.827678    &  0.2795599   &       NA     &           NA\\\\\n",
       "\\end{tabular}\n"
      ],
      "text/markdown": [
       "\n",
       "| <!--/--> | Df | Sum Sq | Mean Sq | F value | Pr(>F) |\n",
       "|---|---|---|---|---|---|\n",
       "| log(MaxWt) |  1           | 14.240683    | 14.2406829   | 50.93964     | 9.120953e-08 |\n",
       "| log(Temp) |  1           |  5.156741    |  5.1567406   | 18.44592     | 1.897211e-04 |\n",
       "| log(AR) |  1           |  3.367067    |  3.3670667   | 12.04417     | 1.702149e-03 |\n",
       "| Food |  1           |  5.754924    |  5.7549235   | 20.58565     | 9.819961e-05 |\n",
       "| Residuals | 28           |  7.827678    |  0.2795599   |       NA     |           NA |\n",
       "\n"
      ],
      "text/plain": [
       "           Df Sum Sq    Mean Sq    F value  Pr(>F)      \n",
       "log(MaxWt)  1 14.240683 14.2406829 50.93964 9.120953e-08\n",
       "log(Temp)   1  5.156741  5.1567406 18.44592 1.897211e-04\n",
       "log(AR)     1  3.367067  3.3670667 12.04417 1.702149e-03\n",
       "Food        1  5.754924  5.7549235 20.58565 9.819961e-05\n",
       "Residuals  28  7.827678  0.2795599       NA           NA"
      ]
     },
     "metadata": {},
     "output_type": "display_data"
    }
   ],
   "source": [
    "anova(lm.1)"
   ]
  },
  {
   "cell_type": "code",
   "execution_count": 9,
   "metadata": {},
   "outputs": [
    {
     "data": {
      "image/png": "[encoded data removed]",
      "text/plain": [
       "Plot with title \"Normal Q-Q Plot\""
      ]
     },
     "metadata": {},
     "output_type": "display_data"
    }
   ],
   "source": [
    "par(mfrow=c(3, 3))\n",
    "scatter.smooth(rstandard(lm.1) ~ fitted(lm.1))\n",
    "termplot(lm.1, partial.resid = TRUE, terms=\"log(MaxWt)\")\n",
    "termplot(lm.1, partial.resid = TRUE, terms=\"log(Temp)\")\n",
    "termplot(lm.1, partial.resid = TRUE, terms=\"log(AR)\")\n",
    "termplot(lm.1, partial.resid = TRUE, terms=\"Food\")\n",
    "qqnorm(rstandard(lm.1))\n",
    "qqline(rstandard(lm.1))\n",
    "plot(cooks.distance(lm.1), type=\"h\")"
   ]
  },
  {
   "cell_type": "code",
   "execution_count": 11,
   "metadata": {},
   "outputs": [],
   "source": [
    "lm.2 <- update(lm.1, . ~ log(MaxWt) * log(Temp) * Food * log(AR))"
   ]
  },
  {
   "cell_type": "code",
   "execution_count": 12,
   "metadata": {},
   "outputs": [
    {
     "data": {
      "text/plain": [
       "\n",
       "Call:\n",
       "lm(formula = log(FoodCon) ~ log(MaxWt) + log(Temp) + Food + log(AR) + \n",
       "    log(MaxWt):log(Temp) + log(MaxWt):Food + log(Temp):Food + \n",
       "    log(MaxWt):log(AR) + log(Temp):log(AR) + Food:log(AR) + log(MaxWt):log(Temp):Food + \n",
       "    log(MaxWt):log(Temp):log(AR) + log(MaxWt):Food:log(AR) + \n",
       "    log(Temp):Food:log(AR) + log(MaxWt):log(Temp):Food:log(AR), \n",
       "    data = fishfood)\n",
       "\n",
       "Coefficients:\n",
       "                       (Intercept)                          log(MaxWt)  \n",
       "                           3.43635                            -0.46344  \n",
       "                         log(Temp)                               FoodH  \n",
       "                          -0.38136                            98.05873  \n",
       "                           log(AR)                log(MaxWt):log(Temp)  \n",
       "                         -15.89942                             0.05707  \n",
       "                  log(MaxWt):FoodH                     log(Temp):FoodH  \n",
       "                          -4.70705                           -21.54298  \n",
       "                log(MaxWt):log(AR)                   log(Temp):log(AR)  \n",
       "                           1.01630                             4.74364  \n",
       "                     FoodH:log(AR)          log(MaxWt):log(Temp):FoodH  \n",
       "                                NA                                  NA  \n",
       "      log(MaxWt):log(Temp):log(AR)            log(MaxWt):FoodH:log(AR)  \n",
       "                          -0.26926                                  NA  \n",
       "           log(Temp):FoodH:log(AR)  log(MaxWt):log(Temp):FoodH:log(AR)  \n",
       "                                NA                                  NA  \n"
      ]
     },
     "metadata": {},
     "output_type": "display_data"
    }
   ],
   "source": [
    "lm.2"
   ]
  },
  {
   "cell_type": "code",
   "execution_count": 13,
   "metadata": {},
   "outputs": [
    {
     "name": "stdout",
     "output_type": "stream",
     "text": [
      "Start:  AIC=-38.89\n",
      "log(FoodCon) ~ log(MaxWt) + log(Temp) + Food + log(AR) + log(MaxWt):log(Temp) + \n",
      "    log(MaxWt):Food + log(Temp):Food + log(MaxWt):log(AR) + log(Temp):log(AR) + \n",
      "    Food:log(AR) + log(MaxWt):log(Temp):Food + log(MaxWt):log(Temp):log(AR) + \n",
      "    log(MaxWt):Food:log(AR) + log(Temp):Food:log(AR) + log(MaxWt):log(Temp):Food:log(AR)\n",
      "\n",
      "\n",
      "Step:  AIC=-38.89\n",
      "log(FoodCon) ~ log(MaxWt) + log(Temp) + Food + log(AR) + log(MaxWt):log(Temp) + \n",
      "    log(MaxWt):Food + log(Temp):Food + log(MaxWt):log(AR) + log(Temp):log(AR) + \n",
      "    Food:log(AR) + log(MaxWt):log(Temp):Food + log(MaxWt):log(Temp):log(AR) + \n",
      "    log(MaxWt):Food:log(AR) + log(Temp):Food:log(AR)\n",
      "\n",
      "\n",
      "Step:  AIC=-38.89\n",
      "log(FoodCon) ~ log(MaxWt) + log(Temp) + Food + log(AR) + log(MaxWt):log(Temp) + \n",
      "    log(MaxWt):Food + log(Temp):Food + log(MaxWt):log(AR) + log(Temp):log(AR) + \n",
      "    Food:log(AR) + log(MaxWt):log(Temp):Food + log(MaxWt):log(Temp):log(AR) + \n",
      "    log(MaxWt):Food:log(AR)\n",
      "\n",
      "\n",
      "Step:  AIC=-38.89\n",
      "log(FoodCon) ~ log(MaxWt) + log(Temp) + Food + log(AR) + log(MaxWt):log(Temp) + \n",
      "    log(MaxWt):Food + log(Temp):Food + log(MaxWt):log(AR) + log(Temp):log(AR) + \n",
      "    Food:log(AR) + log(MaxWt):log(Temp):Food + log(MaxWt):log(Temp):log(AR)\n",
      "\n",
      "\n",
      "Step:  AIC=-38.89\n",
      "log(FoodCon) ~ log(MaxWt) + log(Temp) + Food + log(AR) + log(MaxWt):log(Temp) + \n",
      "    log(MaxWt):Food + log(Temp):Food + log(MaxWt):log(AR) + log(Temp):log(AR) + \n",
      "    Food:log(AR) + log(MaxWt):log(Temp):log(AR)\n",
      "\n",
      "\n",
      "Step:  AIC=-38.89\n",
      "log(FoodCon) ~ log(MaxWt) + log(Temp) + Food + log(AR) + log(MaxWt):log(Temp) + \n",
      "    log(MaxWt):Food + log(Temp):Food + log(MaxWt):log(AR) + log(Temp):log(AR) + \n",
      "    log(MaxWt):log(Temp):log(AR)\n",
      "\n",
      "                               Df Sum of Sq    RSS     AIC\n",
      "- log(MaxWt):Food               1  0.079330 5.2939 -40.388\n",
      "- log(Temp):Food                1  0.095231 5.3098 -40.289\n",
      "- log(MaxWt):log(Temp):log(AR)  1  0.215379 5.4300 -39.551\n",
      "<none>                                      5.2146 -38.886\n",
      "\n",
      "Step:  AIC=-40.39\n",
      "log(FoodCon) ~ log(MaxWt) + log(Temp) + Food + log(AR) + log(MaxWt):log(Temp) + \n",
      "    log(Temp):Food + log(MaxWt):log(AR) + log(Temp):log(AR) + \n",
      "    log(MaxWt):log(Temp):log(AR)\n",
      "\n",
      "                               Df Sum of Sq    RSS     AIC\n",
      "- log(MaxWt):log(Temp):log(AR)  1   0.21047 5.5044 -41.102\n",
      "- log(Temp):Food                1   0.27566 5.5696 -40.713\n",
      "<none>                                      5.2939 -40.388\n",
      "\n",
      "Step:  AIC=-41.1\n",
      "log(FoodCon) ~ log(MaxWt) + log(Temp) + Food + log(AR) + log(MaxWt):log(Temp) + \n",
      "    log(Temp):Food + log(MaxWt):log(AR) + log(Temp):log(AR)\n",
      "\n",
      "                       Df Sum of Sq    RSS     AIC\n",
      "- log(MaxWt):log(Temp)  1   0.05983 5.5642 -42.745\n",
      "- log(Temp):Food        1   0.12020 5.6246 -42.389\n",
      "<none>                              5.5044 -41.102\n",
      "- log(Temp):log(AR)     1   1.55298 7.0574 -34.900\n",
      "- log(MaxWt):log(AR)    1   1.66915 7.1736 -34.362\n",
      "\n",
      "Step:  AIC=-42.74\n",
      "log(FoodCon) ~ log(MaxWt) + log(Temp) + Food + log(AR) + log(Temp):Food + \n",
      "    log(MaxWt):log(AR) + log(Temp):log(AR)\n",
      "\n",
      "                     Df Sum of Sq    RSS     AIC\n",
      "- log(Temp):Food      1   0.09605 5.6603 -44.180\n",
      "<none>                            5.5642 -42.745\n",
      "- log(Temp):log(AR)   1   1.49388 7.0581 -36.897\n",
      "- log(MaxWt):log(AR)  1   1.90634 7.4706 -35.023\n",
      "\n",
      "Step:  AIC=-44.18\n",
      "log(FoodCon) ~ log(MaxWt) + log(Temp) + Food + log(AR) + log(MaxWt):log(AR) + \n",
      "    log(Temp):log(AR)\n",
      "\n",
      "                     Df Sum of Sq     RSS     AIC\n",
      "<none>                             5.6603 -44.180\n",
      "- log(Temp):log(AR)   1    1.4034  7.0637 -38.871\n",
      "- log(MaxWt):log(AR)  1    1.8620  7.5223 -36.795\n",
      "- Food                1    7.2230 12.8833 -19.039\n"
     ]
    }
   ],
   "source": [
    "lm.3 <- step(lm.2)"
   ]
  },
  {
   "cell_type": "code",
   "execution_count": 14,
   "metadata": {},
   "outputs": [
    {
     "data": {
      "text/html": [
       "<table>\n",
       "<thead><tr><th scope=col>Res.Df</th><th scope=col>RSS</th><th scope=col>Df</th><th scope=col>Sum of Sq</th><th scope=col>F</th><th scope=col>Pr(&gt;F)</th></tr></thead>\n",
       "<tbody>\n",
       "\t<tr><td>28       </td><td>7.827678 </td><td>NA       </td><td>      NA </td><td>      NA </td><td>       NA</td></tr>\n",
       "\t<tr><td>26       </td><td>5.660281 </td><td> 2       </td><td>2.167397 </td><td>4.977873 </td><td>0.0147797</td></tr>\n",
       "</tbody>\n",
       "</table>\n"
      ],
      "text/latex": [
       "\\begin{tabular}{r|llllll}\n",
       " Res.Df & RSS & Df & Sum of Sq & F & Pr(>F)\\\\\n",
       "\\hline\n",
       "\t 28        & 7.827678  & NA        &       NA  &       NA  &        NA\\\\\n",
       "\t 26        & 5.660281  &  2        & 2.167397  & 4.977873  & 0.0147797\\\\\n",
       "\\end{tabular}\n"
      ],
      "text/markdown": [
       "\n",
       "| Res.Df | RSS | Df | Sum of Sq | F | Pr(>F) |\n",
       "|---|---|---|---|---|---|\n",
       "| 28        | 7.827678  | NA        |       NA  |       NA  |        NA |\n",
       "| 26        | 5.660281  |  2        | 2.167397  | 4.977873  | 0.0147797 |\n",
       "\n"
      ],
      "text/plain": [
       "  Res.Df RSS      Df Sum of Sq F        Pr(>F)   \n",
       "1 28     7.827678 NA       NA        NA        NA\n",
       "2 26     5.660281  2 2.167397  4.977873 0.0147797"
      ]
     },
     "metadata": {},
     "output_type": "display_data"
    }
   ],
   "source": [
    "anova(lm.1, lm.3)"
   ]
  },
  {
   "cell_type": "code",
   "execution_count": 16,
   "metadata": {},
   "outputs": [
    {
     "data": {
      "text/html": [
       "<table>\n",
       "<thead><tr><th></th><th scope=col>Estimate</th><th scope=col>Std. Error</th><th scope=col>t value</th><th scope=col>Pr(&gt;|t|)</th></tr></thead>\n",
       "<tbody>\n",
       "\t<tr><th scope=row>(Intercept)</th><td> 1.5471449  </td><td>1.21609901  </td><td> 1.2722195  </td><td>2.145562e-01</td></tr>\n",
       "\t<tr><th scope=row>log(MaxWt)</th><td>-0.2841462  </td><td>0.03847190  </td><td>-7.3858119  </td><td>7.648522e-08</td></tr>\n",
       "\t<tr><th scope=row>log(Temp)</th><td> 0.2259765  </td><td>0.37487385  </td><td> 0.6028068  </td><td>5.518594e-01</td></tr>\n",
       "\t<tr><th scope=row>FoodH</th><td> 1.9045248  </td><td>0.33064403  </td><td> 5.7600459  </td><td>4.581819e-06</td></tr>\n",
       "\t<tr><th scope=row>log(AR)</th><td>-6.1514727  </td><td>2.28509624  </td><td>-2.6919972  </td><td>1.225750e-02</td></tr>\n",
       "\t<tr><th scope=row>log(MaxWt):log(AR)</th><td> 0.1884935  </td><td>0.06445277  </td><td> 2.9245220  </td><td>7.063403e-03</td></tr>\n",
       "\t<tr><th scope=row>log(Temp):log(AR)</th><td> 1.5917898  </td><td>0.62694494  </td><td> 2.5389626  </td><td>1.744401e-02</td></tr>\n",
       "</tbody>\n",
       "</table>\n"
      ],
      "text/latex": [
       "\\begin{tabular}{r|llll}\n",
       "  & Estimate & Std. Error & t value & Pr(>\\textbar{}t\\textbar{})\\\\\n",
       "\\hline\n",
       "\t(Intercept) &  1.5471449   & 1.21609901   &  1.2722195   & 2.145562e-01\\\\\n",
       "\tlog(MaxWt) & -0.2841462   & 0.03847190   & -7.3858119   & 7.648522e-08\\\\\n",
       "\tlog(Temp) &  0.2259765   & 0.37487385   &  0.6028068   & 5.518594e-01\\\\\n",
       "\tFoodH &  1.9045248   & 0.33064403   &  5.7600459   & 4.581819e-06\\\\\n",
       "\tlog(AR) & -6.1514727   & 2.28509624   & -2.6919972   & 1.225750e-02\\\\\n",
       "\tlog(MaxWt):log(AR) &  0.1884935   & 0.06445277   &  2.9245220   & 7.063403e-03\\\\\n",
       "\tlog(Temp):log(AR) &  1.5917898   & 0.62694494   &  2.5389626   & 1.744401e-02\\\\\n",
       "\\end{tabular}\n"
      ],
      "text/markdown": [
       "\n",
       "| <!--/--> | Estimate | Std. Error | t value | Pr(>|t|) |\n",
       "|---|---|---|---|---|\n",
       "| (Intercept) |  1.5471449   | 1.21609901   |  1.2722195   | 2.145562e-01 |\n",
       "| log(MaxWt) | -0.2841462   | 0.03847190   | -7.3858119   | 7.648522e-08 |\n",
       "| log(Temp) |  0.2259765   | 0.37487385   |  0.6028068   | 5.518594e-01 |\n",
       "| FoodH |  1.9045248   | 0.33064403   |  5.7600459   | 4.581819e-06 |\n",
       "| log(AR) | -6.1514727   | 2.28509624   | -2.6919972   | 1.225750e-02 |\n",
       "| log(MaxWt):log(AR) |  0.1884935   | 0.06445277   |  2.9245220   | 7.063403e-03 |\n",
       "| log(Temp):log(AR) |  1.5917898   | 0.62694494   |  2.5389626   | 1.744401e-02 |\n",
       "\n"
      ],
      "text/plain": [
       "                   Estimate   Std. Error t value    Pr(>|t|)    \n",
       "(Intercept)         1.5471449 1.21609901  1.2722195 2.145562e-01\n",
       "log(MaxWt)         -0.2841462 0.03847190 -7.3858119 7.648522e-08\n",
       "log(Temp)           0.2259765 0.37487385  0.6028068 5.518594e-01\n",
       "FoodH               1.9045248 0.33064403  5.7600459 4.581819e-06\n",
       "log(AR)            -6.1514727 2.28509624 -2.6919972 1.225750e-02\n",
       "log(MaxWt):log(AR)  0.1884935 0.06445277  2.9245220 7.063403e-03\n",
       "log(Temp):log(AR)   1.5917898 0.62694494  2.5389626 1.744401e-02"
      ]
     },
     "metadata": {},
     "output_type": "display_data"
    }
   ],
   "source": [
    "coef(summary(lm.3))"
   ]
  },
  {
   "cell_type": "code",
   "execution_count": 19,
   "metadata": {},
   "outputs": [
    {
     "name": "stderr",
     "output_type": "stream",
     "text": [
      "Warning message in termplot(lm.3, partial.resid = TRUE, terms = \"log(MaxWt):log(AR)\"):\n",
      "\"'model' appears to involve interactions: see the help page\"Warning message in termplot(lm.3, partial.resid = TRUE, terms = \"log(Temp):log(AR)\"):\n",
      "\"'model' appears to involve interactions: see the help page\""
     ]
    },
    {
     "data": {
      "image/png": "[encoded data removed]",
      "text/plain": [
       "Plot with title \"Normal Q-Q Plot\""
      ]
     },
     "metadata": {},
     "output_type": "display_data"
    }
   ],
   "source": [
    "par(mfrow=c(3, 3))\n",
    "scatter.smooth(rstandard(lm.3) ~ fitted(lm.3))\n",
    "termplot(lm.3, partial.resid = TRUE, terms=\"log(MaxWt)\")\n",
    "termplot(lm.3, partial.resid = TRUE, terms=\"log(Temp)\")\n",
    "termplot(lm.3, partial.resid = TRUE, terms=\"log(AR)\")\n",
    "termplot(lm.3, partial.resid = TRUE, terms=\"Food\")\n",
    "termplot(lm.3, partial.resid = TRUE, terms=\"log(MaxWt):log(AR)\")\n",
    "termplot(lm.3, partial.resid = TRUE, terms=\"log(Temp):log(AR)\")\n",
    "qqnorm(rstandard(lm.3))\n",
    "qqline(rstandard(lm.3))\n",
    "plot(cooks.distance(lm.3), type=\"h\")"
   ]
  }
 ],
 "metadata": {
  "kernelspec": {
   "display_name": "R",
   "language": "R",
   "name": "ir"
  },
  "language_info": {
   "codemirror_mode": "r",
   "file_extension": ".r",
   "mimetype": "text/x-r-source",
   "name": "R",
   "pygments_lexer": "r",
   "version": "3.6.1"
  },
  "orig_nbformat": 4
 },
 "nbformat": 4,
 "nbformat_minor": 2
}
