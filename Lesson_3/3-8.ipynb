{
 "cells": [
  {
   "cell_type": "code",
   "execution_count": 1,
   "metadata": {},
   "outputs": [],
   "source": [
    "library(GLMsData)\n",
    "data(lungcap)"
   ]
  },
  {
   "cell_type": "code",
   "execution_count": 2,
   "metadata": {},
   "outputs": [
    {
     "name": "stdout",
     "output_type": "stream",
     "text": [
      "'data.frame':\t654 obs. of  5 variables:\n",
      " $ Age   : int  3 4 4 4 4 4 4 5 5 5 ...\n",
      " $ FEV   : num  1.072 0.839 1.102 1.389 1.577 ...\n",
      " $ Ht    : num  46 48 48 48 49 49 50 46.5 49 49 ...\n",
      " $ Gender: Factor w/ 2 levels \"F\",\"M\": 1 1 1 1 1 1 1 1 1 1 ...\n",
      " $ Smoke : int  0 0 0 0 0 0 0 0 0 0 ...\n"
     ]
    }
   ],
   "source": [
    "str(lungcap)"
   ]
  },
  {
   "cell_type": "code",
   "execution_count": 3,
   "metadata": {},
   "outputs": [
    {
     "data": {
      "text/html": [
       "<table>\n",
       "<thead><tr><th scope=col>Age</th><th scope=col>FEV</th><th scope=col>Ht</th><th scope=col>Gender</th><th scope=col>Smoke</th></tr></thead>\n",
       "<tbody>\n",
       "\t<tr><td>3    </td><td>1.072</td><td>46.0 </td><td>F    </td><td>0    </td></tr>\n",
       "\t<tr><td>4    </td><td>0.839</td><td>48.0 </td><td>F    </td><td>0    </td></tr>\n",
       "\t<tr><td>4    </td><td>1.102</td><td>48.0 </td><td>F    </td><td>0    </td></tr>\n",
       "\t<tr><td>4    </td><td>1.389</td><td>48.0 </td><td>F    </td><td>0    </td></tr>\n",
       "\t<tr><td>4    </td><td>1.577</td><td>49.0 </td><td>F    </td><td>0    </td></tr>\n",
       "\t<tr><td>4    </td><td>1.418</td><td>49.0 </td><td>F    </td><td>0    </td></tr>\n",
       "\t<tr><td>4    </td><td>1.569</td><td>50.0 </td><td>F    </td><td>0    </td></tr>\n",
       "\t<tr><td>5    </td><td>1.196</td><td>46.5 </td><td>F    </td><td>0    </td></tr>\n",
       "\t<tr><td>5    </td><td>1.400</td><td>49.0 </td><td>F    </td><td>0    </td></tr>\n",
       "\t<tr><td>5    </td><td>1.282</td><td>49.0 </td><td>F    </td><td>0    </td></tr>\n",
       "\t<tr><td>5    </td><td>1.343</td><td>50.0 </td><td>F    </td><td>0    </td></tr>\n",
       "\t<tr><td>5    </td><td>1.146</td><td>50.0 </td><td>F    </td><td>0    </td></tr>\n",
       "\t<tr><td>5    </td><td>1.092</td><td>50.0 </td><td>F    </td><td>0    </td></tr>\n",
       "\t<tr><td>5    </td><td>1.539</td><td>50.0 </td><td>F    </td><td>0    </td></tr>\n",
       "\t<tr><td>5    </td><td>1.704</td><td>51.0 </td><td>F    </td><td>0    </td></tr>\n",
       "\t<tr><td>5    </td><td>1.589</td><td>51.0 </td><td>F    </td><td>0    </td></tr>\n",
       "\t<tr><td>5    </td><td>1.612</td><td>52.0 </td><td>F    </td><td>0    </td></tr>\n",
       "\t<tr><td>5    </td><td>1.536</td><td>52.0 </td><td>F    </td><td>0    </td></tr>\n",
       "\t<tr><td>5    </td><td>0.791</td><td>52.0 </td><td>F    </td><td>0    </td></tr>\n",
       "\t<tr><td>5    </td><td>1.256</td><td>52.5 </td><td>F    </td><td>0    </td></tr>\n",
       "\t<tr><td>5    </td><td>1.552</td><td>54.0 </td><td>F    </td><td>0    </td></tr>\n",
       "\t<tr><td>6    </td><td>1.481</td><td>51.0 </td><td>F    </td><td>0    </td></tr>\n",
       "\t<tr><td>6    </td><td>1.523</td><td>51.0 </td><td>F    </td><td>0    </td></tr>\n",
       "\t<tr><td>6    </td><td>1.338</td><td>51.5 </td><td>F    </td><td>0    </td></tr>\n",
       "\t<tr><td>6    </td><td>1.343</td><td>52.0 </td><td>F    </td><td>0    </td></tr>\n",
       "\t<tr><td>6    </td><td>1.602</td><td>53.0 </td><td>F    </td><td>0    </td></tr>\n",
       "\t<tr><td>6    </td><td>1.878</td><td>53.0 </td><td>F    </td><td>0    </td></tr>\n",
       "\t<tr><td>6    </td><td>1.719</td><td>53.0 </td><td>F    </td><td>0    </td></tr>\n",
       "\t<tr><td>6    </td><td>1.695</td><td>53.0 </td><td>F    </td><td>0    </td></tr>\n",
       "\t<tr><td>6    </td><td>1.672</td><td>54.0 </td><td>F    </td><td>0    </td></tr>\n",
       "\t<tr><td>...</td><td>...</td><td>...</td><td>...</td><td>...</td></tr>\n",
       "\t<tr><td>16   </td><td>2.903</td><td>63.0 </td><td>F    </td><td>1    </td></tr>\n",
       "\t<tr><td>16   </td><td>2.795</td><td>63.0 </td><td>F    </td><td>1    </td></tr>\n",
       "\t<tr><td>19   </td><td>3.345</td><td>65.5 </td><td>F    </td><td>1    </td></tr>\n",
       "\t<tr><td>19   </td><td>3.519</td><td>66.0 </td><td>F    </td><td>1    </td></tr>\n",
       "\t<tr><td> 9   </td><td>1.953</td><td>58.0 </td><td>M    </td><td>1    </td></tr>\n",
       "\t<tr><td>10   </td><td>3.498</td><td>68.0 </td><td>M    </td><td>1    </td></tr>\n",
       "\t<tr><td>11   </td><td>1.694</td><td>60.0 </td><td>M    </td><td>1    </td></tr>\n",
       "\t<tr><td>11   </td><td>3.339</td><td>68.5 </td><td>M    </td><td>1    </td></tr>\n",
       "\t<tr><td>11   </td><td>4.637</td><td>72.0 </td><td>M    </td><td>1    </td></tr>\n",
       "\t<tr><td>12   </td><td>2.304</td><td>66.5 </td><td>M    </td><td>1    </td></tr>\n",
       "\t<tr><td>12   </td><td>3.343</td><td>68.0 </td><td>M    </td><td>1    </td></tr>\n",
       "\t<tr><td>12   </td><td>3.751</td><td>72.0 </td><td>M    </td><td>1    </td></tr>\n",
       "\t<tr><td>13   </td><td>4.756</td><td>68.0 </td><td>M    </td><td>1    </td></tr>\n",
       "\t<tr><td>13   </td><td>4.789</td><td>69.0 </td><td>M    </td><td>1    </td></tr>\n",
       "\t<tr><td>13   </td><td>4.045</td><td>69.0 </td><td>M    </td><td>1    </td></tr>\n",
       "\t<tr><td>14   </td><td>2.276</td><td>66.0 </td><td>M    </td><td>1    </td></tr>\n",
       "\t<tr><td>14   </td><td>4.763</td><td>68.0 </td><td>M    </td><td>1    </td></tr>\n",
       "\t<tr><td>14   </td><td>4.309</td><td>69.0 </td><td>M    </td><td>1    </td></tr>\n",
       "\t<tr><td>14   </td><td>3.957</td><td>72.0 </td><td>M    </td><td>1    </td></tr>\n",
       "\t<tr><td>15   </td><td>3.799</td><td>66.5 </td><td>M    </td><td>1    </td></tr>\n",
       "\t<tr><td>15   </td><td>3.727</td><td>68.0 </td><td>M    </td><td>1    </td></tr>\n",
       "\t<tr><td>15   </td><td>4.506</td><td>71.0 </td><td>M    </td><td>1    </td></tr>\n",
       "\t<tr><td>16   </td><td>4.270</td><td>67.0 </td><td>M    </td><td>1    </td></tr>\n",
       "\t<tr><td>16   </td><td>3.688</td><td>68.0 </td><td>M    </td><td>1    </td></tr>\n",
       "\t<tr><td>16   </td><td>4.070</td><td>69.5 </td><td>M    </td><td>1    </td></tr>\n",
       "\t<tr><td>16   </td><td>4.872</td><td>72.0 </td><td>M    </td><td>1    </td></tr>\n",
       "\t<tr><td>17   </td><td>3.082</td><td>67.0 </td><td>M    </td><td>1    </td></tr>\n",
       "\t<tr><td>17   </td><td>3.406</td><td>69.0 </td><td>M    </td><td>1    </td></tr>\n",
       "\t<tr><td>18   </td><td>4.086</td><td>67.0 </td><td>M    </td><td>1    </td></tr>\n",
       "\t<tr><td>18   </td><td>4.404</td><td>70.5 </td><td>M    </td><td>1    </td></tr>\n",
       "</tbody>\n",
       "</table>\n"
      ],
      "text/latex": [
       "\\begin{tabular}{r|lllll}\n",
       " Age & FEV & Ht & Gender & Smoke\\\\\n",
       "\\hline\n",
       "\t 3     & 1.072 & 46.0  & F     & 0    \\\\\n",
       "\t 4     & 0.839 & 48.0  & F     & 0    \\\\\n",
       "\t 4     & 1.102 & 48.0  & F     & 0    \\\\\n",
       "\t 4     & 1.389 & 48.0  & F     & 0    \\\\\n",
       "\t 4     & 1.577 & 49.0  & F     & 0    \\\\\n",
       "\t 4     & 1.418 & 49.0  & F     & 0    \\\\\n",
       "\t 4     & 1.569 & 50.0  & F     & 0    \\\\\n",
       "\t 5     & 1.196 & 46.5  & F     & 0    \\\\\n",
       "\t 5     & 1.400 & 49.0  & F     & 0    \\\\\n",
       "\t 5     & 1.282 & 49.0  & F     & 0    \\\\\n",
       "\t 5     & 1.343 & 50.0  & F     & 0    \\\\\n",
       "\t 5     & 1.146 & 50.0  & F     & 0    \\\\\n",
       "\t 5     & 1.092 & 50.0  & F     & 0    \\\\\n",
       "\t 5     & 1.539 & 50.0  & F     & 0    \\\\\n",
       "\t 5     & 1.704 & 51.0  & F     & 0    \\\\\n",
       "\t 5     & 1.589 & 51.0  & F     & 0    \\\\\n",
       "\t 5     & 1.612 & 52.0  & F     & 0    \\\\\n",
       "\t 5     & 1.536 & 52.0  & F     & 0    \\\\\n",
       "\t 5     & 0.791 & 52.0  & F     & 0    \\\\\n",
       "\t 5     & 1.256 & 52.5  & F     & 0    \\\\\n",
       "\t 5     & 1.552 & 54.0  & F     & 0    \\\\\n",
       "\t 6     & 1.481 & 51.0  & F     & 0    \\\\\n",
       "\t 6     & 1.523 & 51.0  & F     & 0    \\\\\n",
       "\t 6     & 1.338 & 51.5  & F     & 0    \\\\\n",
       "\t 6     & 1.343 & 52.0  & F     & 0    \\\\\n",
       "\t 6     & 1.602 & 53.0  & F     & 0    \\\\\n",
       "\t 6     & 1.878 & 53.0  & F     & 0    \\\\\n",
       "\t 6     & 1.719 & 53.0  & F     & 0    \\\\\n",
       "\t 6     & 1.695 & 53.0  & F     & 0    \\\\\n",
       "\t 6     & 1.672 & 54.0  & F     & 0    \\\\\n",
       "\t ... & ... & ... & ... & ...\\\\\n",
       "\t 16    & 2.903 & 63.0  & F     & 1    \\\\\n",
       "\t 16    & 2.795 & 63.0  & F     & 1    \\\\\n",
       "\t 19    & 3.345 & 65.5  & F     & 1    \\\\\n",
       "\t 19    & 3.519 & 66.0  & F     & 1    \\\\\n",
       "\t  9    & 1.953 & 58.0  & M     & 1    \\\\\n",
       "\t 10    & 3.498 & 68.0  & M     & 1    \\\\\n",
       "\t 11    & 1.694 & 60.0  & M     & 1    \\\\\n",
       "\t 11    & 3.339 & 68.5  & M     & 1    \\\\\n",
       "\t 11    & 4.637 & 72.0  & M     & 1    \\\\\n",
       "\t 12    & 2.304 & 66.5  & M     & 1    \\\\\n",
       "\t 12    & 3.343 & 68.0  & M     & 1    \\\\\n",
       "\t 12    & 3.751 & 72.0  & M     & 1    \\\\\n",
       "\t 13    & 4.756 & 68.0  & M     & 1    \\\\\n",
       "\t 13    & 4.789 & 69.0  & M     & 1    \\\\\n",
       "\t 13    & 4.045 & 69.0  & M     & 1    \\\\\n",
       "\t 14    & 2.276 & 66.0  & M     & 1    \\\\\n",
       "\t 14    & 4.763 & 68.0  & M     & 1    \\\\\n",
       "\t 14    & 4.309 & 69.0  & M     & 1    \\\\\n",
       "\t 14    & 3.957 & 72.0  & M     & 1    \\\\\n",
       "\t 15    & 3.799 & 66.5  & M     & 1    \\\\\n",
       "\t 15    & 3.727 & 68.0  & M     & 1    \\\\\n",
       "\t 15    & 4.506 & 71.0  & M     & 1    \\\\\n",
       "\t 16    & 4.270 & 67.0  & M     & 1    \\\\\n",
       "\t 16    & 3.688 & 68.0  & M     & 1    \\\\\n",
       "\t 16    & 4.070 & 69.5  & M     & 1    \\\\\n",
       "\t 16    & 4.872 & 72.0  & M     & 1    \\\\\n",
       "\t 17    & 3.082 & 67.0  & M     & 1    \\\\\n",
       "\t 17    & 3.406 & 69.0  & M     & 1    \\\\\n",
       "\t 18    & 4.086 & 67.0  & M     & 1    \\\\\n",
       "\t 18    & 4.404 & 70.5  & M     & 1    \\\\\n",
       "\\end{tabular}\n"
      ],
      "text/markdown": [
       "\n",
       "| Age | FEV | Ht | Gender | Smoke |\n",
       "|---|---|---|---|---|\n",
       "| 3     | 1.072 | 46.0  | F     | 0     |\n",
       "| 4     | 0.839 | 48.0  | F     | 0     |\n",
       "| 4     | 1.102 | 48.0  | F     | 0     |\n",
       "| 4     | 1.389 | 48.0  | F     | 0     |\n",
       "| 4     | 1.577 | 49.0  | F     | 0     |\n",
       "| 4     | 1.418 | 49.0  | F     | 0     |\n",
       "| 4     | 1.569 | 50.0  | F     | 0     |\n",
       "| 5     | 1.196 | 46.5  | F     | 0     |\n",
       "| 5     | 1.400 | 49.0  | F     | 0     |\n",
       "| 5     | 1.282 | 49.0  | F     | 0     |\n",
       "| 5     | 1.343 | 50.0  | F     | 0     |\n",
       "| 5     | 1.146 | 50.0  | F     | 0     |\n",
       "| 5     | 1.092 | 50.0  | F     | 0     |\n",
       "| 5     | 1.539 | 50.0  | F     | 0     |\n",
       "| 5     | 1.704 | 51.0  | F     | 0     |\n",
       "| 5     | 1.589 | 51.0  | F     | 0     |\n",
       "| 5     | 1.612 | 52.0  | F     | 0     |\n",
       "| 5     | 1.536 | 52.0  | F     | 0     |\n",
       "| 5     | 0.791 | 52.0  | F     | 0     |\n",
       "| 5     | 1.256 | 52.5  | F     | 0     |\n",
       "| 5     | 1.552 | 54.0  | F     | 0     |\n",
       "| 6     | 1.481 | 51.0  | F     | 0     |\n",
       "| 6     | 1.523 | 51.0  | F     | 0     |\n",
       "| 6     | 1.338 | 51.5  | F     | 0     |\n",
       "| 6     | 1.343 | 52.0  | F     | 0     |\n",
       "| 6     | 1.602 | 53.0  | F     | 0     |\n",
       "| 6     | 1.878 | 53.0  | F     | 0     |\n",
       "| 6     | 1.719 | 53.0  | F     | 0     |\n",
       "| 6     | 1.695 | 53.0  | F     | 0     |\n",
       "| 6     | 1.672 | 54.0  | F     | 0     |\n",
       "| ... | ... | ... | ... | ... |\n",
       "| 16    | 2.903 | 63.0  | F     | 1     |\n",
       "| 16    | 2.795 | 63.0  | F     | 1     |\n",
       "| 19    | 3.345 | 65.5  | F     | 1     |\n",
       "| 19    | 3.519 | 66.0  | F     | 1     |\n",
       "|  9    | 1.953 | 58.0  | M     | 1     |\n",
       "| 10    | 3.498 | 68.0  | M     | 1     |\n",
       "| 11    | 1.694 | 60.0  | M     | 1     |\n",
       "| 11    | 3.339 | 68.5  | M     | 1     |\n",
       "| 11    | 4.637 | 72.0  | M     | 1     |\n",
       "| 12    | 2.304 | 66.5  | M     | 1     |\n",
       "| 12    | 3.343 | 68.0  | M     | 1     |\n",
       "| 12    | 3.751 | 72.0  | M     | 1     |\n",
       "| 13    | 4.756 | 68.0  | M     | 1     |\n",
       "| 13    | 4.789 | 69.0  | M     | 1     |\n",
       "| 13    | 4.045 | 69.0  | M     | 1     |\n",
       "| 14    | 2.276 | 66.0  | M     | 1     |\n",
       "| 14    | 4.763 | 68.0  | M     | 1     |\n",
       "| 14    | 4.309 | 69.0  | M     | 1     |\n",
       "| 14    | 3.957 | 72.0  | M     | 1     |\n",
       "| 15    | 3.799 | 66.5  | M     | 1     |\n",
       "| 15    | 3.727 | 68.0  | M     | 1     |\n",
       "| 15    | 4.506 | 71.0  | M     | 1     |\n",
       "| 16    | 4.270 | 67.0  | M     | 1     |\n",
       "| 16    | 3.688 | 68.0  | M     | 1     |\n",
       "| 16    | 4.070 | 69.5  | M     | 1     |\n",
       "| 16    | 4.872 | 72.0  | M     | 1     |\n",
       "| 17    | 3.082 | 67.0  | M     | 1     |\n",
       "| 17    | 3.406 | 69.0  | M     | 1     |\n",
       "| 18    | 4.086 | 67.0  | M     | 1     |\n",
       "| 18    | 4.404 | 70.5  | M     | 1     |\n",
       "\n"
      ],
      "text/plain": [
       "    Age FEV   Ht   Gender Smoke\n",
       "1   3   1.072 46.0 F      0    \n",
       "2   4   0.839 48.0 F      0    \n",
       "3   4   1.102 48.0 F      0    \n",
       "4   4   1.389 48.0 F      0    \n",
       "5   4   1.577 49.0 F      0    \n",
       "6   4   1.418 49.0 F      0    \n",
       "7   4   1.569 50.0 F      0    \n",
       "8   5   1.196 46.5 F      0    \n",
       "9   5   1.400 49.0 F      0    \n",
       "10  5   1.282 49.0 F      0    \n",
       "11  5   1.343 50.0 F      0    \n",
       "12  5   1.146 50.0 F      0    \n",
       "13  5   1.092 50.0 F      0    \n",
       "14  5   1.539 50.0 F      0    \n",
       "15  5   1.704 51.0 F      0    \n",
       "16  5   1.589 51.0 F      0    \n",
       "17  5   1.612 52.0 F      0    \n",
       "18  5   1.536 52.0 F      0    \n",
       "19  5   0.791 52.0 F      0    \n",
       "20  5   1.256 52.5 F      0    \n",
       "21  5   1.552 54.0 F      0    \n",
       "22  6   1.481 51.0 F      0    \n",
       "23  6   1.523 51.0 F      0    \n",
       "24  6   1.338 51.5 F      0    \n",
       "25  6   1.343 52.0 F      0    \n",
       "26  6   1.602 53.0 F      0    \n",
       "27  6   1.878 53.0 F      0    \n",
       "28  6   1.719 53.0 F      0    \n",
       "29  6   1.695 53.0 F      0    \n",
       "30  6   1.672 54.0 F      0    \n",
       "... ... ...   ...  ...    ...  \n",
       "625 16  2.903 63.0 F      1    \n",
       "626 16  2.795 63.0 F      1    \n",
       "627 19  3.345 65.5 F      1    \n",
       "628 19  3.519 66.0 F      1    \n",
       "629  9  1.953 58.0 M      1    \n",
       "630 10  3.498 68.0 M      1    \n",
       "631 11  1.694 60.0 M      1    \n",
       "632 11  3.339 68.5 M      1    \n",
       "633 11  4.637 72.0 M      1    \n",
       "634 12  2.304 66.5 M      1    \n",
       "635 12  3.343 68.0 M      1    \n",
       "636 12  3.751 72.0 M      1    \n",
       "637 13  4.756 68.0 M      1    \n",
       "638 13  4.789 69.0 M      1    \n",
       "639 13  4.045 69.0 M      1    \n",
       "640 14  2.276 66.0 M      1    \n",
       "641 14  4.763 68.0 M      1    \n",
       "642 14  4.309 69.0 M      1    \n",
       "643 14  3.957 72.0 M      1    \n",
       "644 15  3.799 66.5 M      1    \n",
       "645 15  3.727 68.0 M      1    \n",
       "646 15  4.506 71.0 M      1    \n",
       "647 16  4.270 67.0 M      1    \n",
       "648 16  3.688 68.0 M      1    \n",
       "649 16  4.070 69.5 M      1    \n",
       "650 16  4.872 72.0 M      1    \n",
       "651 17  3.082 67.0 M      1    \n",
       "652 17  3.406 69.0 M      1    \n",
       "653 18  4.086 67.0 M      1    \n",
       "654 18  4.404 70.5 M      1    "
      ]
     },
     "metadata": {},
     "output_type": "display_data"
    }
   ],
   "source": [
    "lungcap"
   ]
  },
  {
   "cell_type": "code",
   "execution_count": 4,
   "metadata": {},
   "outputs": [],
   "source": [
    "lungcap$Smoke = factor(lungcap$Smoke)"
   ]
  },
  {
   "cell_type": "code",
   "execution_count": 10,
   "metadata": {},
   "outputs": [],
   "source": [
    "lungcap$Gender = factor(lungcap$Gender)"
   ]
  },
  {
   "cell_type": "code",
   "execution_count": 11,
   "metadata": {},
   "outputs": [
    {
     "name": "stdout",
     "output_type": "stream",
     "text": [
      "'data.frame':\t654 obs. of  5 variables:\n",
      " $ Age   : int  3 4 4 4 4 4 4 5 5 5 ...\n",
      " $ FEV   : num  1.072 0.839 1.102 1.389 1.577 ...\n",
      " $ Ht    : num  46 48 48 48 49 49 50 46.5 49 49 ...\n",
      " $ Gender: Factor w/ 2 levels \"F\",\"M\": 1 1 1 1 1 1 1 1 1 1 ...\n",
      " $ Smoke : Factor w/ 2 levels \"0\",\"1\": 1 1 1 1 1 1 1 1 1 1 ...\n"
     ]
    }
   ],
   "source": [
    "str(lungcap)"
   ]
  },
  {
   "cell_type": "code",
   "execution_count": 7,
   "metadata": {},
   "outputs": [],
   "source": [
    "lm.1 <- lm(FEV ~ Smoke, data=lungcap)"
   ]
  },
  {
   "cell_type": "code",
   "execution_count": 8,
   "metadata": {},
   "outputs": [
    {
     "data": {
      "text/html": [
       "<ol class=list-inline>\n",
       "\t<li>'call'</li>\n",
       "\t<li>'terms'</li>\n",
       "\t<li>'residuals'</li>\n",
       "\t<li>'coefficients'</li>\n",
       "\t<li>'aliased'</li>\n",
       "\t<li>'sigma'</li>\n",
       "\t<li>'df'</li>\n",
       "\t<li>'r.squared'</li>\n",
       "\t<li>'adj.r.squared'</li>\n",
       "\t<li>'fstatistic'</li>\n",
       "\t<li>'cov.unscaled'</li>\n",
       "</ol>\n"
      ],
      "text/latex": [
       "\\begin{enumerate*}\n",
       "\\item 'call'\n",
       "\\item 'terms'\n",
       "\\item 'residuals'\n",
       "\\item 'coefficients'\n",
       "\\item 'aliased'\n",
       "\\item 'sigma'\n",
       "\\item 'df'\n",
       "\\item 'r.squared'\n",
       "\\item 'adj.r.squared'\n",
       "\\item 'fstatistic'\n",
       "\\item 'cov.unscaled'\n",
       "\\end{enumerate*}\n"
      ],
      "text/markdown": [
       "1. 'call'\n",
       "2. 'terms'\n",
       "3. 'residuals'\n",
       "4. 'coefficients'\n",
       "5. 'aliased'\n",
       "6. 'sigma'\n",
       "7. 'df'\n",
       "8. 'r.squared'\n",
       "9. 'adj.r.squared'\n",
       "10. 'fstatistic'\n",
       "11. 'cov.unscaled'\n",
       "\n",
       "\n"
      ],
      "text/plain": [
       " [1] \"call\"          \"terms\"         \"residuals\"     \"coefficients\" \n",
       " [5] \"aliased\"       \"sigma\"         \"df\"            \"r.squared\"    \n",
       " [9] \"adj.r.squared\" \"fstatistic\"    \"cov.unscaled\" "
      ]
     },
     "metadata": {},
     "output_type": "display_data"
    }
   ],
   "source": [
    "names(summary(lm.1))"
   ]
  },
  {
   "cell_type": "code",
   "execution_count": 9,
   "metadata": {},
   "outputs": [
    {
     "data": {
      "text/html": [
       "<table>\n",
       "<thead><tr><th></th><th scope=col>Estimate</th><th scope=col>Std. Error</th><th scope=col>t value</th><th scope=col>Pr(&gt;|t|)</th></tr></thead>\n",
       "<tbody>\n",
       "\t<tr><th scope=row>(Intercept)</th><td>2.5661426    </td><td>0.03466043   </td><td>74.036674    </td><td>1.487335e-319</td></tr>\n",
       "\t<tr><th scope=row>Smoke1</th><td>0.7107189    </td><td>0.10994262   </td><td> 6.464453    </td><td> 1.992846e-10</td></tr>\n",
       "</tbody>\n",
       "</table>\n"
      ],
      "text/latex": [
       "\\begin{tabular}{r|llll}\n",
       "  & Estimate & Std. Error & t value & Pr(>\\textbar{}t\\textbar{})\\\\\n",
       "\\hline\n",
       "\t(Intercept) & 2.5661426     & 0.03466043    & 74.036674     & 1.487335e-319\\\\\n",
       "\tSmoke1 & 0.7107189     & 0.10994262    &  6.464453     &  1.992846e-10\\\\\n",
       "\\end{tabular}\n"
      ],
      "text/markdown": [
       "\n",
       "| <!--/--> | Estimate | Std. Error | t value | Pr(>|t|) |\n",
       "|---|---|---|---|---|\n",
       "| (Intercept) | 2.5661426     | 0.03466043    | 74.036674     | 1.487335e-319 |\n",
       "| Smoke1 | 0.7107189     | 0.10994262    |  6.464453     |  1.992846e-10 |\n",
       "\n"
      ],
      "text/plain": [
       "            Estimate  Std. Error t value   Pr(>|t|)     \n",
       "(Intercept) 2.5661426 0.03466043 74.036674 1.487335e-319\n",
       "Smoke1      0.7107189 0.10994262  6.464453  1.992846e-10"
      ]
     },
     "metadata": {},
     "output_type": "display_data"
    }
   ],
   "source": [
    "coef(summary(lm.1))"
   ]
  },
  {
   "cell_type": "code",
   "execution_count": 12,
   "metadata": {},
   "outputs": [],
   "source": [
    "lm.2 <- lm(FEV ~ Age + Ht + Gender + Smoke, data=lungcap)"
   ]
  },
  {
   "cell_type": "code",
   "execution_count": 13,
   "metadata": {},
   "outputs": [
    {
     "data": {
      "text/html": [
       "<table>\n",
       "<thead><tr><th></th><th scope=col>Estimate</th><th scope=col>Std. Error</th><th scope=col>t value</th><th scope=col>Pr(&gt;|t|)</th></tr></thead>\n",
       "<tbody>\n",
       "\t<tr><th scope=row>(Intercept)</th><td>-4.45697390 </td><td>0.222839232 </td><td>-20.000849  </td><td>1.074274e-69</td></tr>\n",
       "\t<tr><th scope=row>Age</th><td> 0.06550932 </td><td>0.009488551 </td><td>  6.904038  </td><td>1.206076e-11</td></tr>\n",
       "\t<tr><th scope=row>Ht</th><td> 0.10419943 </td><td>0.004757716 </td><td> 21.901145  </td><td>4.979843e-80</td></tr>\n",
       "\t<tr><th scope=row>GenderM</th><td> 0.15710293 </td><td>0.033207057 </td><td>  4.731010  </td><td>2.743245e-06</td></tr>\n",
       "\t<tr><th scope=row>Smoke1</th><td>-0.08724639 </td><td>0.059253515 </td><td> -1.472426  </td><td>1.413907e-01</td></tr>\n",
       "</tbody>\n",
       "</table>\n"
      ],
      "text/latex": [
       "\\begin{tabular}{r|llll}\n",
       "  & Estimate & Std. Error & t value & Pr(>\\textbar{}t\\textbar{})\\\\\n",
       "\\hline\n",
       "\t(Intercept) & -4.45697390  & 0.222839232  & -20.000849   & 1.074274e-69\\\\\n",
       "\tAge &  0.06550932  & 0.009488551  &   6.904038   & 1.206076e-11\\\\\n",
       "\tHt &  0.10419943  & 0.004757716  &  21.901145   & 4.979843e-80\\\\\n",
       "\tGenderM &  0.15710293  & 0.033207057  &   4.731010   & 2.743245e-06\\\\\n",
       "\tSmoke1 & -0.08724639  & 0.059253515  &  -1.472426   & 1.413907e-01\\\\\n",
       "\\end{tabular}\n"
      ],
      "text/markdown": [
       "\n",
       "| <!--/--> | Estimate | Std. Error | t value | Pr(>|t|) |\n",
       "|---|---|---|---|---|\n",
       "| (Intercept) | -4.45697390  | 0.222839232  | -20.000849   | 1.074274e-69 |\n",
       "| Age |  0.06550932  | 0.009488551  |   6.904038   | 1.206076e-11 |\n",
       "| Ht |  0.10419943  | 0.004757716  |  21.901145   | 4.979843e-80 |\n",
       "| GenderM |  0.15710293  | 0.033207057  |   4.731010   | 2.743245e-06 |\n",
       "| Smoke1 | -0.08724639  | 0.059253515  |  -1.472426   | 1.413907e-01 |\n",
       "\n"
      ],
      "text/plain": [
       "            Estimate    Std. Error  t value    Pr(>|t|)    \n",
       "(Intercept) -4.45697390 0.222839232 -20.000849 1.074274e-69\n",
       "Age          0.06550932 0.009488551   6.904038 1.206076e-11\n",
       "Ht           0.10419943 0.004757716  21.901145 4.979843e-80\n",
       "GenderM      0.15710293 0.033207057   4.731010 2.743245e-06\n",
       "Smoke1      -0.08724639 0.059253515  -1.472426 1.413907e-01"
      ]
     },
     "metadata": {},
     "output_type": "display_data"
    }
   ],
   "source": [
    "coef(summary(lm.2))"
   ]
  },
  {
   "cell_type": "code",
   "execution_count": 14,
   "metadata": {},
   "outputs": [],
   "source": [
    "lm.3 <- lm(log(FEV) ~ Age + Ht + Gender + Smoke, data=lungcap)"
   ]
  },
  {
   "cell_type": "code",
   "execution_count": 15,
   "metadata": {},
   "outputs": [
    {
     "data": {
      "text/html": [
       "<table>\n",
       "<thead><tr><th></th><th scope=col>Estimate</th><th scope=col>Std. Error</th><th scope=col>t value</th><th scope=col>Pr(&gt;|t|)</th></tr></thead>\n",
       "<tbody>\n",
       "\t<tr><th scope=row>(Intercept)</th><td>-1.94399818  </td><td>0.078638583  </td><td>-24.720666   </td><td> 1.389306e-95</td></tr>\n",
       "\t<tr><th scope=row>Age</th><td> 0.02338721  </td><td>0.003348451  </td><td>  6.984488   </td><td> 7.096410e-12</td></tr>\n",
       "\t<tr><th scope=row>Ht</th><td> 0.04279579  </td><td>0.001678968  </td><td> 25.489334   </td><td>7.664775e-100</td></tr>\n",
       "\t<tr><th scope=row>GenderM</th><td> 0.02931936  </td><td>0.011718565  </td><td>  2.501958   </td><td> 1.259586e-02</td></tr>\n",
       "\t<tr><th scope=row>Smoke1</th><td>-0.04606754  </td><td>0.020910198  </td><td> -2.203113   </td><td> 2.793739e-02</td></tr>\n",
       "</tbody>\n",
       "</table>\n"
      ],
      "text/latex": [
       "\\begin{tabular}{r|llll}\n",
       "  & Estimate & Std. Error & t value & Pr(>\\textbar{}t\\textbar{})\\\\\n",
       "\\hline\n",
       "\t(Intercept) & -1.94399818   & 0.078638583   & -24.720666    &  1.389306e-95\\\\\n",
       "\tAge &  0.02338721   & 0.003348451   &   6.984488    &  7.096410e-12\\\\\n",
       "\tHt &  0.04279579   & 0.001678968   &  25.489334    & 7.664775e-100\\\\\n",
       "\tGenderM &  0.02931936   & 0.011718565   &   2.501958    &  1.259586e-02\\\\\n",
       "\tSmoke1 & -0.04606754   & 0.020910198   &  -2.203113    &  2.793739e-02\\\\\n",
       "\\end{tabular}\n"
      ],
      "text/markdown": [
       "\n",
       "| <!--/--> | Estimate | Std. Error | t value | Pr(>|t|) |\n",
       "|---|---|---|---|---|\n",
       "| (Intercept) | -1.94399818   | 0.078638583   | -24.720666    |  1.389306e-95 |\n",
       "| Age |  0.02338721   | 0.003348451   |   6.984488    |  7.096410e-12 |\n",
       "| Ht |  0.04279579   | 0.001678968   |  25.489334    | 7.664775e-100 |\n",
       "| GenderM |  0.02931936   | 0.011718565   |   2.501958    |  1.259586e-02 |\n",
       "| Smoke1 | -0.04606754   | 0.020910198   |  -2.203113    |  2.793739e-02 |\n",
       "\n"
      ],
      "text/plain": [
       "            Estimate    Std. Error  t value    Pr(>|t|)     \n",
       "(Intercept) -1.94399818 0.078638583 -24.720666  1.389306e-95\n",
       "Age          0.02338721 0.003348451   6.984488  7.096410e-12\n",
       "Ht           0.04279579 0.001678968  25.489334 7.664775e-100\n",
       "GenderM      0.02931936 0.011718565   2.501958  1.259586e-02\n",
       "Smoke1      -0.04606754 0.020910198  -2.203113  2.793739e-02"
      ]
     },
     "metadata": {},
     "output_type": "display_data"
    }
   ],
   "source": [
    "coef(summary(lm.3))"
   ]
  },
  {
   "cell_type": "code",
   "execution_count": 16,
   "metadata": {},
   "outputs": [
    {
     "data": {
      "text/html": [
       "<table>\n",
       "<thead><tr><th></th><th scope=col>Df</th><th scope=col>Sum Sq</th><th scope=col>Mean Sq</th><th scope=col>F value</th><th scope=col>Pr(&gt;F)</th></tr></thead>\n",
       "<tbody>\n",
       "\t<tr><th scope=row>Smoke</th><td>  1         </td><td> 29.56968   </td><td>29.5696825  </td><td>41.78915    </td><td>1.992846e-10</td></tr>\n",
       "\t<tr><th scope=row>Residuals</th><td>652         </td><td>461.35015   </td><td> 0.7075923  </td><td>      NA    </td><td>          NA</td></tr>\n",
       "</tbody>\n",
       "</table>\n"
      ],
      "text/latex": [
       "\\begin{tabular}{r|lllll}\n",
       "  & Df & Sum Sq & Mean Sq & F value & Pr(>F)\\\\\n",
       "\\hline\n",
       "\tSmoke &   1          &  29.56968    & 29.5696825   & 41.78915     & 1.992846e-10\\\\\n",
       "\tResiduals & 652          & 461.35015    &  0.7075923   &       NA     &           NA\\\\\n",
       "\\end{tabular}\n"
      ],
      "text/markdown": [
       "\n",
       "| <!--/--> | Df | Sum Sq | Mean Sq | F value | Pr(>F) |\n",
       "|---|---|---|---|---|---|\n",
       "| Smoke |   1          |  29.56968    | 29.5696825   | 41.78915     | 1.992846e-10 |\n",
       "| Residuals | 652          | 461.35015    |  0.7075923   |       NA     |           NA |\n",
       "\n"
      ],
      "text/plain": [
       "          Df  Sum Sq    Mean Sq    F value  Pr(>F)      \n",
       "Smoke       1  29.56968 29.5696825 41.78915 1.992846e-10\n",
       "Residuals 652 461.35015  0.7075923       NA           NA"
      ]
     },
     "metadata": {},
     "output_type": "display_data"
    }
   ],
   "source": [
    "anova(lm.1)"
   ]
  },
  {
   "cell_type": "code",
   "execution_count": 17,
   "metadata": {},
   "outputs": [
    {
     "data": {
      "text/html": [
       "<table>\n",
       "<thead><tr><th></th><th scope=col>Df</th><th scope=col>Sum Sq</th><th scope=col>Mean Sq</th><th scope=col>F value</th><th scope=col>Pr(&gt;F)</th></tr></thead>\n",
       "<tbody>\n",
       "\t<tr><th scope=row>Age</th><td>  1          </td><td>280.9191578  </td><td>280.9191578  </td><td>1653.221533  </td><td>1.330342e-180</td></tr>\n",
       "\t<tr><th scope=row>Ht</th><td>  1          </td><td> 95.3257850  </td><td> 95.3257850  </td><td> 560.996415  </td><td> 7.443257e-90</td></tr>\n",
       "\t<tr><th scope=row>Gender</th><td>  1          </td><td>  4.0269416  </td><td>  4.0269416  </td><td>  23.698727  </td><td> 1.416290e-06</td></tr>\n",
       "\t<tr><th scope=row>Smoke</th><td>  1          </td><td>  0.3683978  </td><td>  0.3683978  </td><td>   2.168037  </td><td> 1.413907e-01</td></tr>\n",
       "\t<tr><th scope=row>Residuals</th><td>649          </td><td>110.2795540  </td><td>  0.1699223  </td><td>         NA  </td><td>           NA</td></tr>\n",
       "</tbody>\n",
       "</table>\n"
      ],
      "text/latex": [
       "\\begin{tabular}{r|lllll}\n",
       "  & Df & Sum Sq & Mean Sq & F value & Pr(>F)\\\\\n",
       "\\hline\n",
       "\tAge &   1           & 280.9191578   & 280.9191578   & 1653.221533   & 1.330342e-180\\\\\n",
       "\tHt &   1           &  95.3257850   &  95.3257850   &  560.996415   &  7.443257e-90\\\\\n",
       "\tGender &   1           &   4.0269416   &   4.0269416   &   23.698727   &  1.416290e-06\\\\\n",
       "\tSmoke &   1           &   0.3683978   &   0.3683978   &    2.168037   &  1.413907e-01\\\\\n",
       "\tResiduals & 649           & 110.2795540   &   0.1699223   &          NA   &            NA\\\\\n",
       "\\end{tabular}\n"
      ],
      "text/markdown": [
       "\n",
       "| <!--/--> | Df | Sum Sq | Mean Sq | F value | Pr(>F) |\n",
       "|---|---|---|---|---|---|\n",
       "| Age |   1           | 280.9191578   | 280.9191578   | 1653.221533   | 1.330342e-180 |\n",
       "| Ht |   1           |  95.3257850   |  95.3257850   |  560.996415   |  7.443257e-90 |\n",
       "| Gender |   1           |   4.0269416   |   4.0269416   |   23.698727   |  1.416290e-06 |\n",
       "| Smoke |   1           |   0.3683978   |   0.3683978   |    2.168037   |  1.413907e-01 |\n",
       "| Residuals | 649           | 110.2795540   |   0.1699223   |          NA   |            NA |\n",
       "\n"
      ],
      "text/plain": [
       "          Df  Sum Sq      Mean Sq     F value     Pr(>F)       \n",
       "Age         1 280.9191578 280.9191578 1653.221533 1.330342e-180\n",
       "Ht          1  95.3257850  95.3257850  560.996415  7.443257e-90\n",
       "Gender      1   4.0269416   4.0269416   23.698727  1.416290e-06\n",
       "Smoke       1   0.3683978   0.3683978    2.168037  1.413907e-01\n",
       "Residuals 649 110.2795540   0.1699223          NA            NA"
      ]
     },
     "metadata": {},
     "output_type": "display_data"
    }
   ],
   "source": [
    "anova(lm.2)"
   ]
  },
  {
   "cell_type": "code",
   "execution_count": 19,
   "metadata": {},
   "outputs": [
    {
     "data": {
      "text/html": [
       "<table>\n",
       "<thead><tr><th></th><th scope=col>Df</th><th scope=col>Sum Sq</th><th scope=col>Mean Sq</th><th scope=col>F value</th><th scope=col>Pr(&gt;F)</th></tr></thead>\n",
       "<tbody>\n",
       "\t<tr><th scope=row>Age</th><td>  1          </td><td>43.2100549   </td><td>43.21005487  </td><td>2041.956379  </td><td>1.330646e-202</td></tr>\n",
       "\t<tr><th scope=row>Ht</th><td>  1          </td><td>15.3262790   </td><td>15.32627897  </td><td> 724.266452  </td><td>1.013797e-107</td></tr>\n",
       "\t<tr><th scope=row>Gender</th><td>  1          </td><td> 0.1533136   </td><td> 0.15331357  </td><td>   7.245064  </td><td> 7.292881e-03</td></tr>\n",
       "\t<tr><th scope=row>Smoke</th><td>  1          </td><td> 0.1027098   </td><td> 0.10270983  </td><td>   4.853708  </td><td> 2.793739e-02</td></tr>\n",
       "\t<tr><th scope=row>Residuals</th><td>649          </td><td>13.7335576   </td><td> 0.02116111  </td><td>         NA  </td><td>           NA</td></tr>\n",
       "</tbody>\n",
       "</table>\n"
      ],
      "text/latex": [
       "\\begin{tabular}{r|lllll}\n",
       "  & Df & Sum Sq & Mean Sq & F value & Pr(>F)\\\\\n",
       "\\hline\n",
       "\tAge &   1           & 43.2100549    & 43.21005487   & 2041.956379   & 1.330646e-202\\\\\n",
       "\tHt &   1           & 15.3262790    & 15.32627897   &  724.266452   & 1.013797e-107\\\\\n",
       "\tGender &   1           &  0.1533136    &  0.15331357   &    7.245064   &  7.292881e-03\\\\\n",
       "\tSmoke &   1           &  0.1027098    &  0.10270983   &    4.853708   &  2.793739e-02\\\\\n",
       "\tResiduals & 649           & 13.7335576    &  0.02116111   &          NA   &            NA\\\\\n",
       "\\end{tabular}\n"
      ],
      "text/markdown": [
       "\n",
       "| <!--/--> | Df | Sum Sq | Mean Sq | F value | Pr(>F) |\n",
       "|---|---|---|---|---|---|\n",
       "| Age |   1           | 43.2100549    | 43.21005487   | 2041.956379   | 1.330646e-202 |\n",
       "| Ht |   1           | 15.3262790    | 15.32627897   |  724.266452   | 1.013797e-107 |\n",
       "| Gender |   1           |  0.1533136    |  0.15331357   |    7.245064   |  7.292881e-03 |\n",
       "| Smoke |   1           |  0.1027098    |  0.10270983   |    4.853708   |  2.793739e-02 |\n",
       "| Residuals | 649           | 13.7335576    |  0.02116111   |          NA   |            NA |\n",
       "\n"
      ],
      "text/plain": [
       "          Df  Sum Sq     Mean Sq     F value     Pr(>F)       \n",
       "Age         1 43.2100549 43.21005487 2041.956379 1.330646e-202\n",
       "Ht          1 15.3262790 15.32627897  724.266452 1.013797e-107\n",
       "Gender      1  0.1533136  0.15331357    7.245064  7.292881e-03\n",
       "Smoke       1  0.1027098  0.10270983    4.853708  2.793739e-02\n",
       "Residuals 649 13.7335576  0.02116111          NA            NA"
      ]
     },
     "metadata": {},
     "output_type": "display_data"
    }
   ],
   "source": [
    "anova(lm.3)"
   ]
  },
  {
   "cell_type": "code",
   "execution_count": 21,
   "metadata": {},
   "outputs": [
    {
     "data": {
      "image/png": "[encoded data removed]",
      "text/plain": [
       "Plot with title \"Normal Q-Q Plot\""
      ]
     },
     "metadata": {},
     "output_type": "display_data"
    }
   ],
   "source": [
    "qqnorm(rstandard(lm.3))\n",
    "qqline(rstandard(lm.3))"
   ]
  },
  {
   "cell_type": "code",
   "execution_count": 22,
   "metadata": {},
   "outputs": [
    {
     "data": {
      "text/plain": [
       "\n",
       "\tShapiro-Wilk normality test\n",
       "\n",
       "data:  rstandard(lm.3)\n",
       "W = 0.98551, p-value = 4.446e-06\n"
      ]
     },
     "metadata": {},
     "output_type": "display_data"
    }
   ],
   "source": [
    "shapiro.test(rstandard(lm.3))"
   ]
  },
  {
   "cell_type": "markdown",
   "metadata": {},
   "source": [
    "Mô hình lm.3 được ưa chuộng hơn"
   ]
  }
 ],
 "metadata": {
  "kernelspec": {
   "display_name": "R",
   "language": "R",
   "name": "ir"
  },
  "language_info": {
   "codemirror_mode": "r",
   "file_extension": ".r",
   "mimetype": "text/x-r-source",
   "name": "R",
   "pygments_lexer": "r",
   "version": "3.6.1"
  },
  "orig_nbformat": 4
 },
 "nbformat": 4,
 "nbformat_minor": 2
}
