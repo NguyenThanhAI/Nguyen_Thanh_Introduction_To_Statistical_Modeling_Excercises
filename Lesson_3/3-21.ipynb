{
 "cells": [
  {
   "cell_type": "code",
   "execution_count": 1,
   "metadata": {},
   "outputs": [],
   "source": [
    "library(GLMsData)\n",
    "library(MASS)\n",
    "data(paper)"
   ]
  },
  {
   "cell_type": "code",
   "execution_count": 17,
   "metadata": {},
   "outputs": [],
   "source": [
    "library(splines)"
   ]
  },
  {
   "cell_type": "code",
   "execution_count": 2,
   "metadata": {},
   "outputs": [
    {
     "name": "stdout",
     "output_type": "stream",
     "text": [
      "'data.frame':\t19 obs. of  2 variables:\n",
      " $ Strength: num  6.3 11.1 20 24 26.1 30 33.8 34 38.1 39.9 ...\n",
      " $ Hardwood: num  1 1.5 2 3 4 4.5 5 5.5 6 6.5 ...\n"
     ]
    }
   ],
   "source": [
    "str(paper)"
   ]
  },
  {
   "cell_type": "code",
   "execution_count": 4,
   "metadata": {},
   "outputs": [
    {
     "data": {
      "image/png": "[encoded data removed]",
      "text/plain": [
       "plot without title"
      ]
     },
     "metadata": {},
     "output_type": "display_data"
    }
   ],
   "source": [
    "scatter.smooth(paper$Strength ~ paper$Hardwood)"
   ]
  },
  {
   "cell_type": "code",
   "execution_count": 15,
   "metadata": {},
   "outputs": [],
   "source": [
    "lm.poly <- lm(Strength ~ poly(Hardwood, 3), data=paper)"
   ]
  },
  {
   "cell_type": "code",
   "execution_count": 16,
   "metadata": {},
   "outputs": [
    {
     "data": {
      "text/html": [
       "<table>\n",
       "<thead><tr><th></th><th scope=col>Estimate</th><th scope=col>Std. Error</th><th scope=col>t value</th><th scope=col>Pr(&gt;|t|)</th></tr></thead>\n",
       "<tbody>\n",
       "\t<tr><th scope=row>(Intercept)</th><td> 34.18421   </td><td>0.5930501   </td><td> 57.641352  </td><td>5.041090e-19</td></tr>\n",
       "\t<tr><th scope=row>poly(Hardwood, 3)1</th><td> 32.30213   </td><td>2.5850455   </td><td> 12.495767  </td><td>2.480980e-09</td></tr>\n",
       "\t<tr><th scope=row>poly(Hardwood, 3)2</th><td>-45.39625   </td><td>2.5850455   </td><td>-17.561103  </td><td>2.058028e-11</td></tr>\n",
       "\t<tr><th scope=row>poly(Hardwood, 3)3</th><td>-14.57400   </td><td>2.5850455   </td><td> -5.637811  </td><td>4.721725e-05</td></tr>\n",
       "</tbody>\n",
       "</table>\n"
      ],
      "text/latex": [
       "\\begin{tabular}{r|llll}\n",
       "  & Estimate & Std. Error & t value & Pr(>\\textbar{}t\\textbar{})\\\\\n",
       "\\hline\n",
       "\t(Intercept) &  34.18421    & 0.5930501    &  57.641352   & 5.041090e-19\\\\\n",
       "\tpoly(Hardwood, 3)1 &  32.30213    & 2.5850455    &  12.495767   & 2.480980e-09\\\\\n",
       "\tpoly(Hardwood, 3)2 & -45.39625    & 2.5850455    & -17.561103   & 2.058028e-11\\\\\n",
       "\tpoly(Hardwood, 3)3 & -14.57400    & 2.5850455    &  -5.637811   & 4.721725e-05\\\\\n",
       "\\end{tabular}\n"
      ],
      "text/markdown": [
       "\n",
       "| <!--/--> | Estimate | Std. Error | t value | Pr(>|t|) |\n",
       "|---|---|---|---|---|\n",
       "| (Intercept) |  34.18421    | 0.5930501    |  57.641352   | 5.041090e-19 |\n",
       "| poly(Hardwood, 3)1 |  32.30213    | 2.5850455    |  12.495767   | 2.480980e-09 |\n",
       "| poly(Hardwood, 3)2 | -45.39625    | 2.5850455    | -17.561103   | 2.058028e-11 |\n",
       "| poly(Hardwood, 3)3 | -14.57400    | 2.5850455    |  -5.637811   | 4.721725e-05 |\n",
       "\n"
      ],
      "text/plain": [
       "                   Estimate  Std. Error t value    Pr(>|t|)    \n",
       "(Intercept)         34.18421 0.5930501   57.641352 5.041090e-19\n",
       "poly(Hardwood, 3)1  32.30213 2.5850455   12.495767 2.480980e-09\n",
       "poly(Hardwood, 3)2 -45.39625 2.5850455  -17.561103 2.058028e-11\n",
       "poly(Hardwood, 3)3 -14.57400 2.5850455   -5.637811 4.721725e-05"
      ]
     },
     "metadata": {},
     "output_type": "display_data"
    }
   ],
   "source": [
    "coef(summary(lm.poly))"
   ]
  },
  {
   "cell_type": "code",
   "execution_count": 18,
   "metadata": {},
   "outputs": [],
   "source": [
    "lm.ns <- lm(Strength ~ ns(Hardwood, 3), data=paper)\n",
    "lm.bs <- lm(Strength ~ bs(Hardwood, 3), data=paper)"
   ]
  },
  {
   "cell_type": "code",
   "execution_count": 19,
   "metadata": {},
   "outputs": [
    {
     "data": {
      "text/html": [
       "<table>\n",
       "<thead><tr><th></th><th scope=col>Estimate</th><th scope=col>Std. Error</th><th scope=col>t value</th><th scope=col>Pr(&gt;|t|)</th></tr></thead>\n",
       "<tbody>\n",
       "\t<tr><th scope=row>(Intercept)</th><td>10.430305   </td><td>1.944770    </td><td> 5.363259   </td><td>7.898393e-05</td></tr>\n",
       "\t<tr><th scope=row>ns(Hardwood, 3)1</th><td>49.562861   </td><td>3.015621    </td><td>16.435376   </td><td>5.308195e-11</td></tr>\n",
       "\t<tr><th scope=row>ns(Hardwood, 3)2</th><td>45.730410   </td><td>4.663146    </td><td> 9.806773   </td><td>6.455393e-08</td></tr>\n",
       "\t<tr><th scope=row>ns(Hardwood, 3)3</th><td> 2.567435   </td><td>2.248037    </td><td> 1.142079   </td><td>2.713250e-01</td></tr>\n",
       "</tbody>\n",
       "</table>\n"
      ],
      "text/latex": [
       "\\begin{tabular}{r|llll}\n",
       "  & Estimate & Std. Error & t value & Pr(>\\textbar{}t\\textbar{})\\\\\n",
       "\\hline\n",
       "\t(Intercept) & 10.430305    & 1.944770     &  5.363259    & 7.898393e-05\\\\\n",
       "\tns(Hardwood, 3)1 & 49.562861    & 3.015621     & 16.435376    & 5.308195e-11\\\\\n",
       "\tns(Hardwood, 3)2 & 45.730410    & 4.663146     &  9.806773    & 6.455393e-08\\\\\n",
       "\tns(Hardwood, 3)3 &  2.567435    & 2.248037     &  1.142079    & 2.713250e-01\\\\\n",
       "\\end{tabular}\n"
      ],
      "text/markdown": [
       "\n",
       "| <!--/--> | Estimate | Std. Error | t value | Pr(>|t|) |\n",
       "|---|---|---|---|---|\n",
       "| (Intercept) | 10.430305    | 1.944770     |  5.363259    | 7.898393e-05 |\n",
       "| ns(Hardwood, 3)1 | 49.562861    | 3.015621     | 16.435376    | 5.308195e-11 |\n",
       "| ns(Hardwood, 3)2 | 45.730410    | 4.663146     |  9.806773    | 6.455393e-08 |\n",
       "| ns(Hardwood, 3)3 |  2.567435    | 2.248037     |  1.142079    | 2.713250e-01 |\n",
       "\n"
      ],
      "text/plain": [
       "                 Estimate  Std. Error t value   Pr(>|t|)    \n",
       "(Intercept)      10.430305 1.944770    5.363259 7.898393e-05\n",
       "ns(Hardwood, 3)1 49.562861 3.015621   16.435376 5.308195e-11\n",
       "ns(Hardwood, 3)2 45.730410 4.663146    9.806773 6.455393e-08\n",
       "ns(Hardwood, 3)3  2.567435 2.248037    1.142079 2.713250e-01"
      ]
     },
     "metadata": {},
     "output_type": "display_data"
    }
   ],
   "source": [
    "coef(summary(lm.ns))"
   ]
  },
  {
   "cell_type": "code",
   "execution_count": 20,
   "metadata": {},
   "outputs": [
    {
     "data": {
      "text/html": [
       "<table>\n",
       "<thead><tr><th></th><th scope=col>Estimate</th><th scope=col>Std. Error</th><th scope=col>t value</th><th scope=col>Pr(&gt;|t|)</th></tr></thead>\n",
       "<tbody>\n",
       "\t<tr><th scope=row>(Intercept)</th><td> 9.825332   </td><td>1.781348    </td><td> 5.515672   </td><td>5.928773e-05</td></tr>\n",
       "\t<tr><th scope=row>bs(Hardwood, 3)1</th><td>22.027588   </td><td>5.353516    </td><td> 4.114602   </td><td>9.186643e-04</td></tr>\n",
       "\t<tr><th scope=row>bs(Hardwood, 3)2</th><td>75.942590   </td><td>4.339106    </td><td>17.501897   </td><td>2.160168e-11</td></tr>\n",
       "\t<tr><th scope=row>bs(Hardwood, 3)3</th><td>10.310237   </td><td>2.944812    </td><td> 3.501153   </td><td>3.215916e-03</td></tr>\n",
       "</tbody>\n",
       "</table>\n"
      ],
      "text/latex": [
       "\\begin{tabular}{r|llll}\n",
       "  & Estimate & Std. Error & t value & Pr(>\\textbar{}t\\textbar{})\\\\\n",
       "\\hline\n",
       "\t(Intercept) &  9.825332    & 1.781348     &  5.515672    & 5.928773e-05\\\\\n",
       "\tbs(Hardwood, 3)1 & 22.027588    & 5.353516     &  4.114602    & 9.186643e-04\\\\\n",
       "\tbs(Hardwood, 3)2 & 75.942590    & 4.339106     & 17.501897    & 2.160168e-11\\\\\n",
       "\tbs(Hardwood, 3)3 & 10.310237    & 2.944812     &  3.501153    & 3.215916e-03\\\\\n",
       "\\end{tabular}\n"
      ],
      "text/markdown": [
       "\n",
       "| <!--/--> | Estimate | Std. Error | t value | Pr(>|t|) |\n",
       "|---|---|---|---|---|\n",
       "| (Intercept) |  9.825332    | 1.781348     |  5.515672    | 5.928773e-05 |\n",
       "| bs(Hardwood, 3)1 | 22.027588    | 5.353516     |  4.114602    | 9.186643e-04 |\n",
       "| bs(Hardwood, 3)2 | 75.942590    | 4.339106     | 17.501897    | 2.160168e-11 |\n",
       "| bs(Hardwood, 3)3 | 10.310237    | 2.944812     |  3.501153    | 3.215916e-03 |\n",
       "\n"
      ],
      "text/plain": [
       "                 Estimate  Std. Error t value   Pr(>|t|)    \n",
       "(Intercept)       9.825332 1.781348    5.515672 5.928773e-05\n",
       "bs(Hardwood, 3)1 22.027588 5.353516    4.114602 9.186643e-04\n",
       "bs(Hardwood, 3)2 75.942590 4.339106   17.501897 2.160168e-11\n",
       "bs(Hardwood, 3)3 10.310237 2.944812    3.501153 3.215916e-03"
      ]
     },
     "metadata": {},
     "output_type": "display_data"
    }
   ],
   "source": [
    "coef(summary(lm.bs))"
   ]
  },
  {
   "cell_type": "code",
   "execution_count": 21,
   "metadata": {},
   "outputs": [
    {
     "data": {
      "text/html": [
       "<ol class=list-inline>\n",
       "\t<li>4</li>\n",
       "\t<li>39.5988516698438</li>\n",
       "</ol>\n"
      ],
      "text/latex": [
       "\\begin{enumerate*}\n",
       "\\item 4\n",
       "\\item 39.5988516698438\n",
       "\\end{enumerate*}\n"
      ],
      "text/markdown": [
       "1. 4\n",
       "2. 39.5988516698438\n",
       "\n",
       "\n"
      ],
      "text/plain": [
       "[1]  4.00000 39.59885"
      ]
     },
     "metadata": {},
     "output_type": "display_data"
    }
   ],
   "source": [
    "extractAIC(lm.poly)"
   ]
  },
  {
   "cell_type": "code",
   "execution_count": 22,
   "metadata": {},
   "outputs": [
    {
     "data": {
      "text/html": [
       "<ol class=list-inline>\n",
       "\t<li>4</li>\n",
       "\t<li>44.7428721894307</li>\n",
       "</ol>\n"
      ],
      "text/latex": [
       "\\begin{enumerate*}\n",
       "\\item 4\n",
       "\\item 44.7428721894307\n",
       "\\end{enumerate*}\n"
      ],
      "text/markdown": [
       "1. 4\n",
       "2. 44.7428721894307\n",
       "\n",
       "\n"
      ],
      "text/plain": [
       "[1]  4.00000 44.74287"
      ]
     },
     "metadata": {},
     "output_type": "display_data"
    }
   ],
   "source": [
    "extractAIC(lm.ns)"
   ]
  },
  {
   "cell_type": "code",
   "execution_count": 23,
   "metadata": {},
   "outputs": [
    {
     "data": {
      "text/html": [
       "<ol class=list-inline>\n",
       "\t<li>4</li>\n",
       "\t<li>39.5988516698437</li>\n",
       "</ol>\n"
      ],
      "text/latex": [
       "\\begin{enumerate*}\n",
       "\\item 4\n",
       "\\item 39.5988516698437\n",
       "\\end{enumerate*}\n"
      ],
      "text/markdown": [
       "1. 4\n",
       "2. 39.5988516698437\n",
       "\n",
       "\n"
      ],
      "text/plain": [
       "[1]  4.00000 39.59885"
      ]
     },
     "metadata": {},
     "output_type": "display_data"
    }
   ],
   "source": [
    "extractAIC(lm.bs)"
   ]
  },
  {
   "cell_type": "code",
   "execution_count": 26,
   "metadata": {},
   "outputs": [],
   "source": [
    "poly.output <- predict(lm.poly, newdata=data.frame(Hardwood=paper$Hardwood))"
   ]
  },
  {
   "cell_type": "code",
   "execution_count": 29,
   "metadata": {},
   "outputs": [],
   "source": [
    "ns.output <- predict(lm.ns, newdata=data.frame(Hardwood=paper$Hardwood))"
   ]
  },
  {
   "cell_type": "code",
   "execution_count": 31,
   "metadata": {},
   "outputs": [],
   "source": [
    "bs.output <- predict(lm.bs, newdata=data.frame(Hardwood=paper$Hardwood))"
   ]
  },
  {
   "cell_type": "code",
   "execution_count": 32,
   "metadata": {},
   "outputs": [
    {
     "data": {
      "image/png": "[encoded data removed]",
      "text/plain": [
       "plot without title"
      ]
     },
     "metadata": {},
     "output_type": "display_data"
    }
   ],
   "source": [
    "plot(Strength ~ Hardwood, data=paper)\n",
    "lines(poly.output ~ paper$Hardwood, lty=2)\n",
    "lines(ns.output ~ paper$Hardwood, lty=3)\n",
    "lines(bs.output ~ paper$Hardwood, lty=4)"
   ]
  }
 ],
 "metadata": {
  "kernelspec": {
   "display_name": "R",
   "language": "R",
   "name": "ir"
  },
  "language_info": {
   "codemirror_mode": "r",
   "file_extension": ".r",
   "mimetype": "text/x-r-source",
   "name": "R",
   "pygments_lexer": "r",
   "version": "3.6.1"
  },
  "orig_nbformat": 4
 },
 "nbformat": 4,
 "nbformat_minor": 2
}
