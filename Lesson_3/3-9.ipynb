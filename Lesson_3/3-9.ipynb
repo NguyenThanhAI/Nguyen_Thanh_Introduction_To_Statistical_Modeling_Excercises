{
 "cells": [
  {
   "cell_type": "code",
   "execution_count": 1,
   "metadata": {},
   "outputs": [],
   "source": [
    "library(GLMsData)\n",
    "data(lungcap)"
   ]
  },
  {
   "cell_type": "code",
   "execution_count": 2,
   "metadata": {},
   "outputs": [
    {
     "name": "stdout",
     "output_type": "stream",
     "text": [
      "'data.frame':\t654 obs. of  5 variables:\n",
      " $ Age   : int  3 4 4 4 4 4 4 5 5 5 ...\n",
      " $ FEV   : num  1.072 0.839 1.102 1.389 1.577 ...\n",
      " $ Ht    : num  46 48 48 48 49 49 50 46.5 49 49 ...\n",
      " $ Gender: Factor w/ 2 levels \"F\",\"M\": 1 1 1 1 1 1 1 1 1 1 ...\n",
      " $ Smoke : int  0 0 0 0 0 0 0 0 0 0 ...\n"
     ]
    }
   ],
   "source": [
    "str(lungcap)"
   ]
  },
  {
   "cell_type": "code",
   "execution_count": 3,
   "metadata": {},
   "outputs": [],
   "source": [
    "lungcap$Gender = factor(lungcap$Gender)\n",
    "lungcap$Smoke = factor(lungcap$Smoke)"
   ]
  },
  {
   "cell_type": "code",
   "execution_count": 4,
   "metadata": {},
   "outputs": [],
   "source": [
    "lm.1 <- lm(log(FEV) ~ Age + Ht + Gender + Smoke, data=lungcap)"
   ]
  },
  {
   "cell_type": "code",
   "execution_count": 5,
   "metadata": {},
   "outputs": [
    {
     "data": {
      "text/html": [
       "<table>\n",
       "<thead><tr><th></th><th scope=col>Estimate</th><th scope=col>Std. Error</th><th scope=col>t value</th><th scope=col>Pr(&gt;|t|)</th></tr></thead>\n",
       "<tbody>\n",
       "\t<tr><th scope=row>(Intercept)</th><td>-1.94399818  </td><td>0.078638583  </td><td>-24.720666   </td><td> 1.389306e-95</td></tr>\n",
       "\t<tr><th scope=row>Age</th><td> 0.02338721  </td><td>0.003348451  </td><td>  6.984488   </td><td> 7.096410e-12</td></tr>\n",
       "\t<tr><th scope=row>Ht</th><td> 0.04279579  </td><td>0.001678968  </td><td> 25.489334   </td><td>7.664775e-100</td></tr>\n",
       "\t<tr><th scope=row>GenderM</th><td> 0.02931936  </td><td>0.011718565  </td><td>  2.501958   </td><td> 1.259586e-02</td></tr>\n",
       "\t<tr><th scope=row>Smoke1</th><td>-0.04606754  </td><td>0.020910198  </td><td> -2.203113   </td><td> 2.793739e-02</td></tr>\n",
       "</tbody>\n",
       "</table>\n"
      ],
      "text/latex": [
       "\\begin{tabular}{r|llll}\n",
       "  & Estimate & Std. Error & t value & Pr(>\\textbar{}t\\textbar{})\\\\\n",
       "\\hline\n",
       "\t(Intercept) & -1.94399818   & 0.078638583   & -24.720666    &  1.389306e-95\\\\\n",
       "\tAge &  0.02338721   & 0.003348451   &   6.984488    &  7.096410e-12\\\\\n",
       "\tHt &  0.04279579   & 0.001678968   &  25.489334    & 7.664775e-100\\\\\n",
       "\tGenderM &  0.02931936   & 0.011718565   &   2.501958    &  1.259586e-02\\\\\n",
       "\tSmoke1 & -0.04606754   & 0.020910198   &  -2.203113    &  2.793739e-02\\\\\n",
       "\\end{tabular}\n"
      ],
      "text/markdown": [
       "\n",
       "| <!--/--> | Estimate | Std. Error | t value | Pr(>|t|) |\n",
       "|---|---|---|---|---|\n",
       "| (Intercept) | -1.94399818   | 0.078638583   | -24.720666    |  1.389306e-95 |\n",
       "| Age |  0.02338721   | 0.003348451   |   6.984488    |  7.096410e-12 |\n",
       "| Ht |  0.04279579   | 0.001678968   |  25.489334    | 7.664775e-100 |\n",
       "| GenderM |  0.02931936   | 0.011718565   |   2.501958    |  1.259586e-02 |\n",
       "| Smoke1 | -0.04606754   | 0.020910198   |  -2.203113    |  2.793739e-02 |\n",
       "\n"
      ],
      "text/plain": [
       "            Estimate    Std. Error  t value    Pr(>|t|)     \n",
       "(Intercept) -1.94399818 0.078638583 -24.720666  1.389306e-95\n",
       "Age          0.02338721 0.003348451   6.984488  7.096410e-12\n",
       "Ht           0.04279579 0.001678968  25.489334 7.664775e-100\n",
       "GenderM      0.02931936 0.011718565   2.501958  1.259586e-02\n",
       "Smoke1      -0.04606754 0.020910198  -2.203113  2.793739e-02"
      ]
     },
     "metadata": {},
     "output_type": "display_data"
    }
   ],
   "source": [
    "coef(summary(lm.1))"
   ]
  },
  {
   "cell_type": "code",
   "execution_count": 8,
   "metadata": {},
   "outputs": [
    {
     "data": {
      "image/png": "[encoded data removed]",
      "text/plain": [
       "Plot with title \"\""
      ]
     },
     "metadata": {},
     "output_type": "display_data"
    }
   ],
   "source": [
    "par( mfrow= c(3,2) )\n",
    "scatter.smooth(rstandard(lm.1) ~ fitted(lm.1))\n",
    "termplot(lm.1, partial.resid = TRUE, terms = \"Ht\")\n",
    "termplot(lm.1, partial.resid = TRUE, terms = \"Age\")\n",
    "termplot(lm.1, partial.resid = TRUE, terms = \"Gender\")\n",
    "termplot(lm.1, partial.resid = TRUE, terms = \"Smoke\")"
   ]
  },
  {
   "cell_type": "code",
   "execution_count": 9,
   "metadata": {},
   "outputs": [],
   "source": [
    "cd.1 <- cooks.distance(lm.1)"
   ]
  },
  {
   "cell_type": "code",
   "execution_count": 11,
   "metadata": {},
   "outputs": [],
   "source": [
    "thres <- qf(0.5, 4, 649)"
   ]
  },
  {
   "cell_type": "code",
   "execution_count": 12,
   "metadata": {},
   "outputs": [
    {
     "data": {
      "text/html": [
       "0.84005121524232"
      ],
      "text/latex": [
       "0.84005121524232"
      ],
      "text/markdown": [
       "0.84005121524232"
      ],
      "text/plain": [
       "[1] 0.8400512"
      ]
     },
     "metadata": {},
     "output_type": "display_data"
    }
   ],
   "source": [
    "thres"
   ]
  },
  {
   "cell_type": "code",
   "execution_count": 17,
   "metadata": {},
   "outputs": [],
   "source": [
    "a <- which(cd.1 < thres, arr.ind = TRUE)"
   ]
  },
  {
   "cell_type": "code",
   "execution_count": 19,
   "metadata": {},
   "outputs": [
    {
     "data": {
      "text/html": [
       "<ol class=list-inline>\n",
       "\t<li>5</li>\n",
       "\t<li>743.42465626227</li>\n",
       "</ol>\n"
      ],
      "text/latex": [
       "\\begin{enumerate*}\n",
       "\\item 5\n",
       "\\item 743.42465626227\n",
       "\\end{enumerate*}\n"
      ],
      "text/markdown": [
       "1. 5\n",
       "2. 743.42465626227\n",
       "\n",
       "\n"
      ],
      "text/plain": [
       "[1]   5.0000 743.4247"
      ]
     },
     "metadata": {},
     "output_type": "display_data"
    }
   ],
   "source": [
    "extractAIC(lm.1,k=nobs(lm.1))"
   ]
  },
  {
   "cell_type": "code",
   "execution_count": 21,
   "metadata": {},
   "outputs": [
    {
     "data": {
      "text/html": [
       "<table>\n",
       "<thead><tr><th></th><th scope=col>Df</th><th scope=col>Sum Sq</th><th scope=col>Mean Sq</th><th scope=col>F value</th><th scope=col>Pr(&gt;F)</th></tr></thead>\n",
       "<tbody>\n",
       "\t<tr><th scope=row>Age</th><td>  1          </td><td>43.2100549   </td><td>43.21005487  </td><td>2041.956379  </td><td>1.330646e-202</td></tr>\n",
       "\t<tr><th scope=row>Ht</th><td>  1          </td><td>15.3262790   </td><td>15.32627897  </td><td> 724.266452  </td><td>1.013797e-107</td></tr>\n",
       "\t<tr><th scope=row>Gender</th><td>  1          </td><td> 0.1533136   </td><td> 0.15331357  </td><td>   7.245064  </td><td> 7.292881e-03</td></tr>\n",
       "\t<tr><th scope=row>Smoke</th><td>  1          </td><td> 0.1027098   </td><td> 0.10270983  </td><td>   4.853708  </td><td> 2.793739e-02</td></tr>\n",
       "\t<tr><th scope=row>Residuals</th><td>649          </td><td>13.7335576   </td><td> 0.02116111  </td><td>         NA  </td><td>           NA</td></tr>\n",
       "</tbody>\n",
       "</table>\n"
      ],
      "text/latex": [
       "\\begin{tabular}{r|lllll}\n",
       "  & Df & Sum Sq & Mean Sq & F value & Pr(>F)\\\\\n",
       "\\hline\n",
       "\tAge &   1           & 43.2100549    & 43.21005487   & 2041.956379   & 1.330646e-202\\\\\n",
       "\tHt &   1           & 15.3262790    & 15.32627897   &  724.266452   & 1.013797e-107\\\\\n",
       "\tGender &   1           &  0.1533136    &  0.15331357   &    7.245064   &  7.292881e-03\\\\\n",
       "\tSmoke &   1           &  0.1027098    &  0.10270983   &    4.853708   &  2.793739e-02\\\\\n",
       "\tResiduals & 649           & 13.7335576    &  0.02116111   &          NA   &            NA\\\\\n",
       "\\end{tabular}\n"
      ],
      "text/markdown": [
       "\n",
       "| <!--/--> | Df | Sum Sq | Mean Sq | F value | Pr(>F) |\n",
       "|---|---|---|---|---|---|\n",
       "| Age |   1           | 43.2100549    | 43.21005487   | 2041.956379   | 1.330646e-202 |\n",
       "| Ht |   1           | 15.3262790    | 15.32627897   |  724.266452   | 1.013797e-107 |\n",
       "| Gender |   1           |  0.1533136    |  0.15331357   |    7.245064   |  7.292881e-03 |\n",
       "| Smoke |   1           |  0.1027098    |  0.10270983   |    4.853708   |  2.793739e-02 |\n",
       "| Residuals | 649           | 13.7335576    |  0.02116111   |          NA   |            NA |\n",
       "\n"
      ],
      "text/plain": [
       "          Df  Sum Sq     Mean Sq     F value     Pr(>F)       \n",
       "Age         1 43.2100549 43.21005487 2041.956379 1.330646e-202\n",
       "Ht          1 15.3262790 15.32627897  724.266452 1.013797e-107\n",
       "Gender      1  0.1533136  0.15331357    7.245064  7.292881e-03\n",
       "Smoke       1  0.1027098  0.10270983    4.853708  2.793739e-02\n",
       "Residuals 649 13.7335576  0.02116111          NA            NA"
      ]
     },
     "metadata": {},
     "output_type": "display_data"
    }
   ],
   "source": [
    "anova(lm.1)"
   ]
  },
  {
   "cell_type": "code",
   "execution_count": 22,
   "metadata": {},
   "outputs": [
    {
     "data": {
      "text/html": [
       "0.145468573059758"
      ],
      "text/latex": [
       "0.145468573059758"
      ],
      "text/markdown": [
       "0.145468573059758"
      ],
      "text/plain": [
       "[1] 0.1454686"
      ]
     },
     "metadata": {},
     "output_type": "display_data"
    }
   ],
   "source": [
    "summary(lm.1)$sigma"
   ]
  },
  {
   "cell_type": "code",
   "execution_count": 23,
   "metadata": {},
   "outputs": [],
   "source": [
    "lm.2 <- lm(log(FEV) ~ Age + log(Ht) + Gender + Smoke, data=lungcap)"
   ]
  },
  {
   "cell_type": "code",
   "execution_count": 24,
   "metadata": {},
   "outputs": [
    {
     "data": {
      "image/png": "[encoded data removed]",
      "text/plain": [
       "Plot with title \"\""
      ]
     },
     "metadata": {},
     "output_type": "display_data"
    }
   ],
   "source": [
    "par( mfrow= c(3,2) )\n",
    "scatter.smooth(rstandard(lm.2) ~ fitted(lm.2))\n",
    "termplot(lm.2, partial.resid = TRUE, terms = \"log(Ht)\")\n",
    "termplot(lm.2, partial.resid = TRUE, terms = \"Age\")\n",
    "termplot(lm.2, partial.resid = TRUE, terms = \"Gender\")\n",
    "termplot(lm.2, partial.resid = TRUE, terms = \"Smoke\")"
   ]
  }
 ],
 "metadata": {
  "kernelspec": {
   "display_name": "R",
   "language": "R",
   "name": "ir"
  },
  "language_info": {
   "codemirror_mode": "r",
   "file_extension": ".r",
   "mimetype": "text/x-r-source",
   "name": "R",
   "pygments_lexer": "r",
   "version": "3.6.1"
  },
  "orig_nbformat": 4
 },
 "nbformat": 4,
 "nbformat_minor": 2
}
