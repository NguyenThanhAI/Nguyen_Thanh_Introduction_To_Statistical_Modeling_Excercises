{
 "cells": [
  {
   "cell_type": "code",
   "execution_count": 1,
   "metadata": {},
   "outputs": [],
   "source": [
    "library(GLMsData)\n",
    "data(ratliver)"
   ]
  },
  {
   "cell_type": "code",
   "execution_count": 2,
   "metadata": {},
   "outputs": [
    {
     "name": "stdout",
     "output_type": "stream",
     "text": [
      "'data.frame':\t19 obs. of  4 variables:\n",
      " $ BodyWt     : int  176 176 190 176 200 167 188 195 176 165 ...\n",
      " $ LiverWt    : num  6.5 9.5 9 8.9 7.2 8.9 8 10 8 7.9 ...\n",
      " $ Dose       : num  0.88 0.88 1 0.88 1 0.83 0.94 0.98 0.88 0.84 ...\n",
      " $ DoseInLiver: num  0.42 0.25 0.56 0.23 0.23 0.32 0.37 0.41 0.33 0.38 ...\n"
     ]
    }
   ],
   "source": [
    "str(ratliver)"
   ]
  },
  {
   "cell_type": "code",
   "execution_count": 4,
   "metadata": {},
   "outputs": [
    {
     "data": {
      "image/png": "[encoded data removed]",
      "text/plain": [
       "plot without title"
      ]
     },
     "metadata": {},
     "output_type": "display_data"
    }
   ],
   "source": [
    "par(mfrow=c(1, 3))\n",
    "scatter.smooth(ratliver$DoseInLiver ~ ratliver$Dose)\n",
    "scatter.smooth(ratliver$DoseInLiver ~ ratliver$LiverWt)\n",
    "scatter.smooth(ratliver$DoseInLiver ~ ratliver$BodyWt)"
   ]
  },
  {
   "cell_type": "code",
   "execution_count": 5,
   "metadata": {},
   "outputs": [],
   "source": [
    "lm.1 <- lm(DoseInLiver ~ BodyWt + LiverWt + Dose, data=ratliver)"
   ]
  },
  {
   "cell_type": "code",
   "execution_count": 6,
   "metadata": {},
   "outputs": [
    {
     "data": {
      "text/html": [
       "<table>\n",
       "<thead><tr><th></th><th scope=col>Estimate</th><th scope=col>Std. Error</th><th scope=col>t value</th><th scope=col>Pr(&gt;|t|)</th></tr></thead>\n",
       "<tbody>\n",
       "\t<tr><th scope=row>(Intercept)</th><td> 0.26592177</td><td>0.194585255</td><td> 1.3666080 </td><td>0.19188433 </td></tr>\n",
       "\t<tr><th scope=row>BodyWt</th><td>-0.02124634</td><td>0.007974304</td><td>-2.6643501 </td><td>0.01767688 </td></tr>\n",
       "\t<tr><th scope=row>LiverWt</th><td> 0.01429806</td><td>0.017217141</td><td> 0.8304549 </td><td>0.41930376 </td></tr>\n",
       "\t<tr><th scope=row>Dose</th><td> 4.17811141</td><td>1.522625206</td><td> 2.7440183 </td><td>0.01506639 </td></tr>\n",
       "</tbody>\n",
       "</table>\n"
      ],
      "text/latex": [
       "\\begin{tabular}{r|llll}\n",
       "  & Estimate & Std. Error & t value & Pr(>\\textbar{}t\\textbar{})\\\\\n",
       "\\hline\n",
       "\t(Intercept) &  0.26592177 & 0.194585255 &  1.3666080  & 0.19188433 \\\\\n",
       "\tBodyWt & -0.02124634 & 0.007974304 & -2.6643501  & 0.01767688 \\\\\n",
       "\tLiverWt &  0.01429806 & 0.017217141 &  0.8304549  & 0.41930376 \\\\\n",
       "\tDose &  4.17811141 & 1.522625206 &  2.7440183  & 0.01506639 \\\\\n",
       "\\end{tabular}\n"
      ],
      "text/markdown": [
       "\n",
       "| <!--/--> | Estimate | Std. Error | t value | Pr(>|t|) |\n",
       "|---|---|---|---|---|\n",
       "| (Intercept) |  0.26592177 | 0.194585255 |  1.3666080  | 0.19188433  |\n",
       "| BodyWt | -0.02124634 | 0.007974304 | -2.6643501  | 0.01767688  |\n",
       "| LiverWt |  0.01429806 | 0.017217141 |  0.8304549  | 0.41930376  |\n",
       "| Dose |  4.17811141 | 1.522625206 |  2.7440183  | 0.01506639  |\n",
       "\n"
      ],
      "text/plain": [
       "            Estimate    Std. Error  t value    Pr(>|t|)  \n",
       "(Intercept)  0.26592177 0.194585255  1.3666080 0.19188433\n",
       "BodyWt      -0.02124634 0.007974304 -2.6643501 0.01767688\n",
       "LiverWt      0.01429806 0.017217141  0.8304549 0.41930376\n",
       "Dose         4.17811141 1.522625206  2.7440183 0.01506639"
      ]
     },
     "metadata": {},
     "output_type": "display_data"
    }
   ],
   "source": [
    "coef(summary(lm.1))"
   ]
  },
  {
   "cell_type": "code",
   "execution_count": 7,
   "metadata": {},
   "outputs": [
    {
     "data": {
      "text/html": [
       "<table>\n",
       "<thead><tr><th></th><th scope=col>Df</th><th scope=col>Sum Sq</th><th scope=col>Mean Sq</th><th scope=col>F value</th><th scope=col>Pr(&gt;F)</th></tr></thead>\n",
       "<tbody>\n",
       "\t<tr><th scope=row>BodyWt</th><td> 1         </td><td>0.003215701</td><td>0.003215701</td><td>0.5382878  </td><td>0.47445538 </td></tr>\n",
       "\t<tr><th scope=row>LiverWt</th><td> 1         </td><td>0.003067189</td><td>0.003067189</td><td>0.5134279  </td><td>0.48466649 </td></tr>\n",
       "\t<tr><th scope=row>Dose</th><td> 1         </td><td>0.044981628</td><td>0.044981628</td><td>7.5296364  </td><td>0.01506639 </td></tr>\n",
       "\t<tr><th scope=row>Residuals</th><td>15         </td><td>0.089609165</td><td>0.005973944</td><td>       NA  </td><td>        NA </td></tr>\n",
       "</tbody>\n",
       "</table>\n"
      ],
      "text/latex": [
       "\\begin{tabular}{r|lllll}\n",
       "  & Df & Sum Sq & Mean Sq & F value & Pr(>F)\\\\\n",
       "\\hline\n",
       "\tBodyWt &  1          & 0.003215701 & 0.003215701 & 0.5382878   & 0.47445538 \\\\\n",
       "\tLiverWt &  1          & 0.003067189 & 0.003067189 & 0.5134279   & 0.48466649 \\\\\n",
       "\tDose &  1          & 0.044981628 & 0.044981628 & 7.5296364   & 0.01506639 \\\\\n",
       "\tResiduals & 15          & 0.089609165 & 0.005973944 &        NA   &         NA \\\\\n",
       "\\end{tabular}\n"
      ],
      "text/markdown": [
       "\n",
       "| <!--/--> | Df | Sum Sq | Mean Sq | F value | Pr(>F) |\n",
       "|---|---|---|---|---|---|\n",
       "| BodyWt |  1          | 0.003215701 | 0.003215701 | 0.5382878   | 0.47445538  |\n",
       "| LiverWt |  1          | 0.003067189 | 0.003067189 | 0.5134279   | 0.48466649  |\n",
       "| Dose |  1          | 0.044981628 | 0.044981628 | 7.5296364   | 0.01506639  |\n",
       "| Residuals | 15          | 0.089609165 | 0.005973944 |        NA   |         NA  |\n",
       "\n"
      ],
      "text/plain": [
       "          Df Sum Sq      Mean Sq     F value   Pr(>F)    \n",
       "BodyWt     1 0.003215701 0.003215701 0.5382878 0.47445538\n",
       "LiverWt    1 0.003067189 0.003067189 0.5134279 0.48466649\n",
       "Dose       1 0.044981628 0.044981628 7.5296364 0.01506639\n",
       "Residuals 15 0.089609165 0.005973944        NA         NA"
      ]
     },
     "metadata": {},
     "output_type": "display_data"
    }
   ],
   "source": [
    "anova(lm.1)"
   ]
  },
  {
   "cell_type": "code",
   "execution_count": 8,
   "metadata": {},
   "outputs": [
    {
     "data": {
      "text/plain": [
       "Influence measures of\n",
       "\t lm(formula = DoseInLiver ~ BodyWt + LiverWt + Dose, data = ratliver) :\n",
       "\n",
       "     dfb.1_ dfb.BdyW  dfb.LvrW dfb.Dose   dffit cov.r   cook.d    hat inf\n",
       "1  -0.03835  0.31492 -0.704363 -0.24375  0.8920 0.631 1.69e-01 0.1780    \n",
       "2   0.14256 -0.09774 -0.481778  0.12561 -0.6088 1.016 8.85e-02 0.1793    \n",
       "3  -0.23100 -1.66770  0.304572  1.74720  1.9048 7.401 9.30e-01 0.8509   *\n",
       "4   0.12503 -0.12686 -0.303651  0.14009 -0.4944 0.860 5.72e-02 0.1076    \n",
       "5   0.52161 -0.39627  0.550016  0.27474 -0.9095 1.524 2.03e-01 0.3915    \n",
       "6   0.00229  0.01360  0.029003 -0.01715  0.0427 1.567 4.87e-04 0.1612    \n",
       "7  -0.18376  0.15044 -0.083355 -0.11839  0.3096 1.289 2.46e-02 0.1369    \n",
       "8  -0.29725  0.05936  0.246500 -0.04042  0.4262 1.520 4.69e-02 0.2537    \n",
       "9  -0.00968  0.01791  0.000168 -0.01673  0.0427 1.402 4.88e-04 0.0670    \n",
       "10 -0.00566  0.00993 -0.003365 -0.00929 -0.0140 1.496 5.23e-05 0.1197    \n",
       "11 -0.29053  0.19381  0.100742 -0.17288 -0.4104 1.066 4.14e-02 0.1195    \n",
       "12  0.21742 -0.02526  0.051721 -0.00920  0.2689 1.444 1.89e-02 0.1724    \n",
       "13 -0.77232  0.14391  0.766461 -0.12005 -1.0989 0.972 2.73e-01 0.3162    \n",
       "14 -0.03482 -0.04618 -0.076534  0.05990 -0.1423 1.461 5.37e-03 0.1314    \n",
       "15  0.01868  0.04063 -0.054603 -0.03817  0.1188 1.359 3.73e-03 0.0762    \n",
       "16  0.12309 -0.00557  0.328720 -0.04910 -0.4475 1.375 5.10e-02 0.2166    \n",
       "17 -0.10359  0.01454 -0.027611  0.00215 -0.1262 1.607 4.25e-03 0.1952    \n",
       "18 -0.15423  0.19035  0.162330 -0.18929  0.3522 1.270 3.16e-02 0.1487    \n",
       "19  0.85580 -0.25010 -0.294617  0.17123  0.9952 0.517 2.00e-01 0.1780    "
      ]
     },
     "metadata": {},
     "output_type": "display_data"
    }
   ],
   "source": [
    "influence.measures(lm.1)"
   ]
  },
  {
   "cell_type": "code",
   "execution_count": 11,
   "metadata": {},
   "outputs": [
    {
     "data": {
      "text/html": [
       "<strong>3:</strong> 3"
      ],
      "text/latex": [
       "\\textbf{3:} 3"
      ],
      "text/markdown": [
       "**3:** 3"
      ],
      "text/plain": [
       "3 \n",
       "3 "
      ]
     },
     "metadata": {},
     "output_type": "display_data"
    }
   ],
   "source": [
    "which(rowSums(influence.measures(lm.1)$is.inf) > 0)"
   ]
  },
  {
   "cell_type": "code",
   "execution_count": 10,
   "metadata": {},
   "outputs": [
    {
     "data": {
      "image/png": "[encoded data removed]",
      "text/plain": [
       "plot without title"
      ]
     },
     "metadata": {},
     "output_type": "display_data"
    }
   ],
   "source": [
    "plot(BodyWt ~ Dose, data=ratliver)"
   ]
  },
  {
   "cell_type": "code",
   "execution_count": 12,
   "metadata": {},
   "outputs": [],
   "source": [
    "lm.2 <- lm(DoseInLiver ~ BodyWt + LiverWt + Dose, data=ratliver, subset=(-3))"
   ]
  },
  {
   "cell_type": "code",
   "execution_count": 13,
   "metadata": {},
   "outputs": [
    {
     "data": {
      "text/html": [
       "<table>\n",
       "<thead><tr><th></th><th scope=col>Estimate</th><th scope=col>Std. Error</th><th scope=col>t value</th><th scope=col>Pr(&gt;|t|)</th></tr></thead>\n",
       "<tbody>\n",
       "\t<tr><th scope=row>(Intercept)</th><td> 0.311427385</td><td>0.20509398  </td><td> 1.5184618  </td><td>0.1511537   </td></tr>\n",
       "\t<tr><th scope=row>BodyWt</th><td>-0.007783059</td><td>0.01871680  </td><td>-0.4158329  </td><td>0.6838360   </td></tr>\n",
       "\t<tr><th scope=row>LiverWt</th><td> 0.008989337</td><td>0.01865861  </td><td> 0.4817795  </td><td>0.6374069   </td></tr>\n",
       "\t<tr><th scope=row>Dose</th><td> 1.484876661</td><td>3.71306448  </td><td> 0.3999060  </td><td>0.6952607   </td></tr>\n",
       "</tbody>\n",
       "</table>\n"
      ],
      "text/latex": [
       "\\begin{tabular}{r|llll}\n",
       "  & Estimate & Std. Error & t value & Pr(>\\textbar{}t\\textbar{})\\\\\n",
       "\\hline\n",
       "\t(Intercept) &  0.311427385 & 0.20509398   &  1.5184618   & 0.1511537   \\\\\n",
       "\tBodyWt & -0.007783059 & 0.01871680   & -0.4158329   & 0.6838360   \\\\\n",
       "\tLiverWt &  0.008989337 & 0.01865861   &  0.4817795   & 0.6374069   \\\\\n",
       "\tDose &  1.484876661 & 3.71306448   &  0.3999060   & 0.6952607   \\\\\n",
       "\\end{tabular}\n"
      ],
      "text/markdown": [
       "\n",
       "| <!--/--> | Estimate | Std. Error | t value | Pr(>|t|) |\n",
       "|---|---|---|---|---|\n",
       "| (Intercept) |  0.311427385 | 0.20509398   |  1.5184618   | 0.1511537    |\n",
       "| BodyWt | -0.007783059 | 0.01871680   | -0.4158329   | 0.6838360    |\n",
       "| LiverWt |  0.008989337 | 0.01865861   |  0.4817795   | 0.6374069    |\n",
       "| Dose |  1.484876661 | 3.71306448   |  0.3999060   | 0.6952607    |\n",
       "\n"
      ],
      "text/plain": [
       "            Estimate     Std. Error t value    Pr(>|t|) \n",
       "(Intercept)  0.311427385 0.20509398  1.5184618 0.1511537\n",
       "BodyWt      -0.007783059 0.01871680 -0.4158329 0.6838360\n",
       "LiverWt      0.008989337 0.01865861  0.4817795 0.6374069\n",
       "Dose         1.484876661 3.71306448  0.3999060 0.6952607"
      ]
     },
     "metadata": {},
     "output_type": "display_data"
    }
   ],
   "source": [
    "coef(summary(lm.2))"
   ]
  },
  {
   "cell_type": "code",
   "execution_count": 14,
   "metadata": {},
   "outputs": [
    {
     "data": {
      "text/html": [
       "<table>\n",
       "<thead><tr><th></th><th scope=col>Df</th><th scope=col>Sum Sq</th><th scope=col>Mean Sq</th><th scope=col>F value</th><th scope=col>Pr(&gt;F)</th></tr></thead>\n",
       "<tbody>\n",
       "\t<tr><th scope=row>BodyWt</th><td> 1          </td><td>3.798103e-05</td><td>3.798103e-05</td><td>0.006203361 </td><td>0.9383371   </td></tr>\n",
       "\t<tr><th scope=row>LiverWt</th><td> 1          </td><td>8.268114e-04</td><td>8.268114e-04</td><td>0.135041343 </td><td>0.7187569   </td></tr>\n",
       "\t<tr><th scope=row>Dose</th><td> 1          </td><td>9.791641e-04</td><td>9.791641e-04</td><td>0.159924787 </td><td>0.6952607   </td></tr>\n",
       "\t<tr><th scope=row>Residuals</th><td>14          </td><td>8.571715e-02</td><td>6.122654e-03</td><td>         NA </td><td>       NA   </td></tr>\n",
       "</tbody>\n",
       "</table>\n"
      ],
      "text/latex": [
       "\\begin{tabular}{r|lllll}\n",
       "  & Df & Sum Sq & Mean Sq & F value & Pr(>F)\\\\\n",
       "\\hline\n",
       "\tBodyWt &  1           & 3.798103e-05 & 3.798103e-05 & 0.006203361  & 0.9383371   \\\\\n",
       "\tLiverWt &  1           & 8.268114e-04 & 8.268114e-04 & 0.135041343  & 0.7187569   \\\\\n",
       "\tDose &  1           & 9.791641e-04 & 9.791641e-04 & 0.159924787  & 0.6952607   \\\\\n",
       "\tResiduals & 14           & 8.571715e-02 & 6.122654e-03 &          NA  &        NA   \\\\\n",
       "\\end{tabular}\n"
      ],
      "text/markdown": [
       "\n",
       "| <!--/--> | Df | Sum Sq | Mean Sq | F value | Pr(>F) |\n",
       "|---|---|---|---|---|---|\n",
       "| BodyWt |  1           | 3.798103e-05 | 3.798103e-05 | 0.006203361  | 0.9383371    |\n",
       "| LiverWt |  1           | 8.268114e-04 | 8.268114e-04 | 0.135041343  | 0.7187569    |\n",
       "| Dose |  1           | 9.791641e-04 | 9.791641e-04 | 0.159924787  | 0.6952607    |\n",
       "| Residuals | 14           | 8.571715e-02 | 6.122654e-03 |          NA  |        NA    |\n",
       "\n"
      ],
      "text/plain": [
       "          Df Sum Sq       Mean Sq      F value     Pr(>F)   \n",
       "BodyWt     1 3.798103e-05 3.798103e-05 0.006203361 0.9383371\n",
       "LiverWt    1 8.268114e-04 8.268114e-04 0.135041343 0.7187569\n",
       "Dose       1 9.791641e-04 9.791641e-04 0.159924787 0.6952607\n",
       "Residuals 14 8.571715e-02 6.122654e-03          NA        NA"
      ]
     },
     "metadata": {},
     "output_type": "display_data"
    }
   ],
   "source": [
    "anova(lm.2)"
   ]
  }
 ],
 "metadata": {
  "kernelspec": {
   "display_name": "R",
   "language": "R",
   "name": "ir"
  },
  "language_info": {
   "codemirror_mode": "r",
   "file_extension": ".r",
   "mimetype": "text/x-r-source",
   "name": "R",
   "pygments_lexer": "r",
   "version": "3.6.1"
  },
  "orig_nbformat": 4
 },
 "nbformat": 4,
 "nbformat_minor": 2
}
