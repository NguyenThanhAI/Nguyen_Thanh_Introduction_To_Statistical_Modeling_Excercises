{
 "cells": [
  {
   "cell_type": "code",
   "execution_count": 1,
   "metadata": {},
   "outputs": [],
   "source": [
    "library(GLMsData)\n",
    "data(punting)"
   ]
  },
  {
   "cell_type": "code",
   "execution_count": 2,
   "metadata": {},
   "outputs": [
    {
     "name": "stdout",
     "output_type": "stream",
     "text": [
      "'data.frame':\t13 obs. of  3 variables:\n",
      " $ Left : int  170 130 170 160 150 150 180 110 110 120 ...\n",
      " $ Right: int  170 140 180 160 170 150 170 110 120 130 ...\n",
      " $ Punt : num  162 144 174 164 192 ...\n"
     ]
    }
   ],
   "source": [
    "str(punting)"
   ]
  },
  {
   "cell_type": "code",
   "execution_count": 3,
   "metadata": {},
   "outputs": [
    {
     "data": {
      "image/png": "[encoded data removed]",
      "text/plain": [
       "plot without title"
      ]
     },
     "metadata": {},
     "output_type": "display_data"
    }
   ],
   "source": [
    "scatter.smooth(punting$Punt ~ punting$Left)"
   ]
  },
  {
   "cell_type": "code",
   "execution_count": 4,
   "metadata": {},
   "outputs": [
    {
     "data": {
      "image/png": "[encoded data removed]",
      "text/plain": [
       "plot without title"
      ]
     },
     "metadata": {},
     "output_type": "display_data"
    }
   ],
   "source": [
    "scatter.smooth(punting$Punt ~ punting$Right)"
   ]
  },
  {
   "cell_type": "code",
   "execution_count": 5,
   "metadata": {},
   "outputs": [
    {
     "data": {
      "text/html": [
       "<table>\n",
       "<thead><tr><th></th><th scope=col>Left</th><th scope=col>Right</th><th scope=col>Punt</th></tr></thead>\n",
       "<tbody>\n",
       "\t<tr><th scope=row>Left</th><td>1.0000000</td><td>0.8957224</td><td>0.8117368</td></tr>\n",
       "\t<tr><th scope=row>Right</th><td>0.8957224</td><td>1.0000000</td><td>0.8805469</td></tr>\n",
       "\t<tr><th scope=row>Punt</th><td>0.8117368</td><td>0.8805469</td><td>1.0000000</td></tr>\n",
       "</tbody>\n",
       "</table>\n"
      ],
      "text/latex": [
       "\\begin{tabular}{r|lll}\n",
       "  & Left & Right & Punt\\\\\n",
       "\\hline\n",
       "\tLeft & 1.0000000 & 0.8957224 & 0.8117368\\\\\n",
       "\tRight & 0.8957224 & 1.0000000 & 0.8805469\\\\\n",
       "\tPunt & 0.8117368 & 0.8805469 & 1.0000000\\\\\n",
       "\\end{tabular}\n"
      ],
      "text/markdown": [
       "\n",
       "| <!--/--> | Left | Right | Punt |\n",
       "|---|---|---|---|\n",
       "| Left | 1.0000000 | 0.8957224 | 0.8117368 |\n",
       "| Right | 0.8957224 | 1.0000000 | 0.8805469 |\n",
       "| Punt | 0.8117368 | 0.8805469 | 1.0000000 |\n",
       "\n"
      ],
      "text/plain": [
       "      Left      Right     Punt     \n",
       "Left  1.0000000 0.8957224 0.8117368\n",
       "Right 0.8957224 1.0000000 0.8805469\n",
       "Punt  0.8117368 0.8805469 1.0000000"
      ]
     },
     "metadata": {},
     "output_type": "display_data"
    }
   ],
   "source": [
    "cor(punting)"
   ]
  },
  {
   "cell_type": "code",
   "execution_count": 8,
   "metadata": {},
   "outputs": [],
   "source": [
    "lm.1 <- lm(Punt ~ Left + Right, data=punting)"
   ]
  },
  {
   "cell_type": "code",
   "execution_count": 9,
   "metadata": {},
   "outputs": [
    {
     "data": {
      "text/html": [
       "<table>\n",
       "<thead><tr><th></th><th scope=col>Estimate</th><th scope=col>Std. Error</th><th scope=col>t value</th><th scope=col>Pr(&gt;|t|)</th></tr></thead>\n",
       "<tbody>\n",
       "\t<tr><th scope=row>(Intercept)</th><td>-5.1644653</td><td>26.6779451</td><td>-0.1935856</td><td>0.85037599</td></tr>\n",
       "\t<tr><th scope=row>Left</th><td> 0.1369950</td><td> 0.3943516</td><td> 0.3473932</td><td>0.73549646</td></tr>\n",
       "\t<tr><th scope=row>Right</th><td> 0.9192069</td><td> 0.3967784</td><td> 2.3166759</td><td>0.04301561</td></tr>\n",
       "</tbody>\n",
       "</table>\n"
      ],
      "text/latex": [
       "\\begin{tabular}{r|llll}\n",
       "  & Estimate & Std. Error & t value & Pr(>\\textbar{}t\\textbar{})\\\\\n",
       "\\hline\n",
       "\t(Intercept) & -5.1644653 & 26.6779451 & -0.1935856 & 0.85037599\\\\\n",
       "\tLeft &  0.1369950 &  0.3943516 &  0.3473932 & 0.73549646\\\\\n",
       "\tRight &  0.9192069 &  0.3967784 &  2.3166759 & 0.04301561\\\\\n",
       "\\end{tabular}\n"
      ],
      "text/markdown": [
       "\n",
       "| <!--/--> | Estimate | Std. Error | t value | Pr(>|t|) |\n",
       "|---|---|---|---|---|\n",
       "| (Intercept) | -5.1644653 | 26.6779451 | -0.1935856 | 0.85037599 |\n",
       "| Left |  0.1369950 |  0.3943516 |  0.3473932 | 0.73549646 |\n",
       "| Right |  0.9192069 |  0.3967784 |  2.3166759 | 0.04301561 |\n",
       "\n"
      ],
      "text/plain": [
       "            Estimate   Std. Error t value    Pr(>|t|)  \n",
       "(Intercept) -5.1644653 26.6779451 -0.1935856 0.85037599\n",
       "Left         0.1369950  0.3943516  0.3473932 0.73549646\n",
       "Right        0.9192069  0.3967784  2.3166759 0.04301561"
      ]
     },
     "metadata": {},
     "output_type": "display_data"
    }
   ],
   "source": [
    "coef(summary(lm.1))"
   ]
  },
  {
   "cell_type": "code",
   "execution_count": 10,
   "metadata": {},
   "outputs": [
    {
     "data": {
      "text/html": [
       "<table>\n",
       "<thead><tr><th></th><th scope=col>Df</th><th scope=col>Sum Sq</th><th scope=col>Mean Sq</th><th scope=col>F value</th><th scope=col>Pr(&gt;F)</th></tr></thead>\n",
       "<tbody>\n",
       "\t<tr><th scope=row>Left</th><td> 1         </td><td>5756.550   </td><td>5756.5496  </td><td>29.686481  </td><td>0.000281439</td></tr>\n",
       "\t<tr><th scope=row>Right</th><td> 1         </td><td>1040.720   </td><td>1040.7205  </td><td> 5.366987  </td><td>0.043015612</td></tr>\n",
       "\t<tr><th scope=row>Residuals</th><td>10         </td><td>1939.115   </td><td> 193.9115  </td><td>       NA  </td><td>         NA</td></tr>\n",
       "</tbody>\n",
       "</table>\n"
      ],
      "text/latex": [
       "\\begin{tabular}{r|lllll}\n",
       "  & Df & Sum Sq & Mean Sq & F value & Pr(>F)\\\\\n",
       "\\hline\n",
       "\tLeft &  1          & 5756.550    & 5756.5496   & 29.686481   & 0.000281439\\\\\n",
       "\tRight &  1          & 1040.720    & 1040.7205   &  5.366987   & 0.043015612\\\\\n",
       "\tResiduals & 10          & 1939.115    &  193.9115   &        NA   &          NA\\\\\n",
       "\\end{tabular}\n"
      ],
      "text/markdown": [
       "\n",
       "| <!--/--> | Df | Sum Sq | Mean Sq | F value | Pr(>F) |\n",
       "|---|---|---|---|---|---|\n",
       "| Left |  1          | 5756.550    | 5756.5496   | 29.686481   | 0.000281439 |\n",
       "| Right |  1          | 1040.720    | 1040.7205   |  5.366987   | 0.043015612 |\n",
       "| Residuals | 10          | 1939.115    |  193.9115   |        NA   |          NA |\n",
       "\n"
      ],
      "text/plain": [
       "          Df Sum Sq   Mean Sq   F value   Pr(>F)     \n",
       "Left       1 5756.550 5756.5496 29.686481 0.000281439\n",
       "Right      1 1040.720 1040.7205  5.366987 0.043015612\n",
       "Residuals 10 1939.115  193.9115        NA          NA"
      ]
     },
     "metadata": {},
     "output_type": "display_data"
    }
   ],
   "source": [
    "anova(lm.1)"
   ]
  },
  {
   "cell_type": "code",
   "execution_count": 11,
   "metadata": {},
   "outputs": [],
   "source": [
    "lm.2 <- lm(Punt ~ Left, data=punting)"
   ]
  },
  {
   "cell_type": "code",
   "execution_count": 12,
   "metadata": {},
   "outputs": [
    {
     "data": {
      "text/html": [
       "<table>\n",
       "<thead><tr><th></th><th scope=col>Estimate</th><th scope=col>Std. Error</th><th scope=col>t value</th><th scope=col>Pr(&gt;|t|)</th></tr></thead>\n",
       "<tbody>\n",
       "\t<tr><th scope=row>(Intercept)</th><td>12.8833780  </td><td>30.1575441  </td><td>0.4272025   </td><td>0.6774740156</td></tr>\n",
       "\t<tr><th scope=row>Left</th><td> 0.9553134  </td><td> 0.2072357  </td><td>4.6097921   </td><td>0.0007528003</td></tr>\n",
       "</tbody>\n",
       "</table>\n"
      ],
      "text/latex": [
       "\\begin{tabular}{r|llll}\n",
       "  & Estimate & Std. Error & t value & Pr(>\\textbar{}t\\textbar{})\\\\\n",
       "\\hline\n",
       "\t(Intercept) & 12.8833780   & 30.1575441   & 0.4272025    & 0.6774740156\\\\\n",
       "\tLeft &  0.9553134   &  0.2072357   & 4.6097921    & 0.0007528003\\\\\n",
       "\\end{tabular}\n"
      ],
      "text/markdown": [
       "\n",
       "| <!--/--> | Estimate | Std. Error | t value | Pr(>|t|) |\n",
       "|---|---|---|---|---|\n",
       "| (Intercept) | 12.8833780   | 30.1575441   | 0.4272025    | 0.6774740156 |\n",
       "| Left |  0.9553134   |  0.2072357   | 4.6097921    | 0.0007528003 |\n",
       "\n"
      ],
      "text/plain": [
       "            Estimate   Std. Error t value   Pr(>|t|)    \n",
       "(Intercept) 12.8833780 30.1575441 0.4272025 0.6774740156\n",
       "Left         0.9553134  0.2072357 4.6097921 0.0007528003"
      ]
     },
     "metadata": {},
     "output_type": "display_data"
    }
   ],
   "source": [
    "coef(summary(lm.2))"
   ]
  },
  {
   "cell_type": "code",
   "execution_count": 13,
   "metadata": {},
   "outputs": [
    {
     "data": {
      "text/html": [
       "<table>\n",
       "<thead><tr><th></th><th scope=col>Df</th><th scope=col>Sum Sq</th><th scope=col>Mean Sq</th><th scope=col>F value</th><th scope=col>Pr(&gt;F)</th></tr></thead>\n",
       "<tbody>\n",
       "\t<tr><th scope=row>Left</th><td> 1          </td><td>5756.550    </td><td>5756.5496   </td><td>21.25018    </td><td>0.0007528003</td></tr>\n",
       "\t<tr><th scope=row>Residuals</th><td>11          </td><td>2979.835    </td><td> 270.8941   </td><td>      NA    </td><td>          NA</td></tr>\n",
       "</tbody>\n",
       "</table>\n"
      ],
      "text/latex": [
       "\\begin{tabular}{r|lllll}\n",
       "  & Df & Sum Sq & Mean Sq & F value & Pr(>F)\\\\\n",
       "\\hline\n",
       "\tLeft &  1           & 5756.550     & 5756.5496    & 21.25018     & 0.0007528003\\\\\n",
       "\tResiduals & 11           & 2979.835     &  270.8941    &       NA     &           NA\\\\\n",
       "\\end{tabular}\n"
      ],
      "text/markdown": [
       "\n",
       "| <!--/--> | Df | Sum Sq | Mean Sq | F value | Pr(>F) |\n",
       "|---|---|---|---|---|---|\n",
       "| Left |  1           | 5756.550     | 5756.5496    | 21.25018     | 0.0007528003 |\n",
       "| Residuals | 11           | 2979.835     |  270.8941    |       NA     |           NA |\n",
       "\n"
      ],
      "text/plain": [
       "          Df Sum Sq   Mean Sq   F value  Pr(>F)      \n",
       "Left       1 5756.550 5756.5496 21.25018 0.0007528003\n",
       "Residuals 11 2979.835  270.8941       NA           NA"
      ]
     },
     "metadata": {},
     "output_type": "display_data"
    }
   ],
   "source": [
    "anova(lm.2)"
   ]
  },
  {
   "cell_type": "code",
   "execution_count": 14,
   "metadata": {},
   "outputs": [
    {
     "data": {
      "image/png": "[encoded data removed]",
      "text/plain": [
       "Plot with title \"Normal Q-Q Plot\""
      ]
     },
     "metadata": {},
     "output_type": "display_data"
    }
   ],
   "source": [
    "par(mfrow=c(3, 2))\n",
    "\n",
    "scatter.smooth(rstandard(lm.2) ~ punting$Left)\n",
    "scatter.smooth(rstandard(lm.2) ~ fitted(lm.2))\n",
    "termplot(lm.2, partial.resid = TRUE, terms=\"Left\")\n",
    "qqnorm(rstandard(lm.2))\n",
    "qqline(rstandard(lm.2))\n",
    "plot(cooks.distance(lm.2), type=\"h\")"
   ]
  },
  {
   "cell_type": "code",
   "execution_count": 16,
   "metadata": {},
   "outputs": [
    {
     "data": {
      "text/html": [
       "<dl class=dl-horizontal>\n",
       "\t<dt>1</dt>\n",
       "\t\t<dd>0</dd>\n",
       "\t<dt>2</dt>\n",
       "\t\t<dd>0</dd>\n",
       "\t<dt>3</dt>\n",
       "\t\t<dd>0</dd>\n",
       "\t<dt>4</dt>\n",
       "\t\t<dd>0</dd>\n",
       "\t<dt>5</dt>\n",
       "\t\t<dd>1</dd>\n",
       "\t<dt>6</dt>\n",
       "\t\t<dd>0</dd>\n",
       "\t<dt>7</dt>\n",
       "\t\t<dd>0</dd>\n",
       "\t<dt>8</dt>\n",
       "\t\t<dd>0</dd>\n",
       "\t<dt>9</dt>\n",
       "\t\t<dd>0</dd>\n",
       "\t<dt>10</dt>\n",
       "\t\t<dd>0</dd>\n",
       "\t<dt>11</dt>\n",
       "\t\t<dd>0</dd>\n",
       "\t<dt>12</dt>\n",
       "\t\t<dd>0</dd>\n",
       "\t<dt>13</dt>\n",
       "\t\t<dd>0</dd>\n",
       "</dl>\n"
      ],
      "text/latex": [
       "\\begin{description*}\n",
       "\\item[1] 0\n",
       "\\item[2] 0\n",
       "\\item[3] 0\n",
       "\\item[4] 0\n",
       "\\item[5] 1\n",
       "\\item[6] 0\n",
       "\\item[7] 0\n",
       "\\item[8] 0\n",
       "\\item[9] 0\n",
       "\\item[10] 0\n",
       "\\item[11] 0\n",
       "\\item[12] 0\n",
       "\\item[13] 0\n",
       "\\end{description*}\n"
      ],
      "text/markdown": [
       "1\n",
       ":   02\n",
       ":   03\n",
       ":   04\n",
       ":   05\n",
       ":   16\n",
       ":   07\n",
       ":   08\n",
       ":   09\n",
       ":   010\n",
       ":   011\n",
       ":   012\n",
       ":   013\n",
       ":   0\n",
       "\n"
      ],
      "text/plain": [
       " 1  2  3  4  5  6  7  8  9 10 11 12 13 \n",
       " 0  0  0  0  1  0  0  0  0  0  0  0  0 "
      ]
     },
     "metadata": {},
     "output_type": "display_data"
    }
   ],
   "source": [
    "rowSums(influence.measures(lm.2)$is.inf)"
   ]
  }
 ],
 "metadata": {
  "kernelspec": {
   "display_name": "R",
   "language": "R",
   "name": "ir"
  },
  "language_info": {
   "codemirror_mode": "r",
   "file_extension": ".r",
   "mimetype": "text/x-r-source",
   "name": "R",
   "pygments_lexer": "r",
   "version": "3.6.1"
  },
  "orig_nbformat": 4
 },
 "nbformat": 4,
 "nbformat_minor": 2
}
