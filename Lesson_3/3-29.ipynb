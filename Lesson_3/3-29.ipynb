{
 "cells": [
  {
   "cell_type": "code",
   "execution_count": 1,
   "metadata": {},
   "outputs": [],
   "source": [
    "library(GLMsData)\n",
    "data(fluoro)"
   ]
  },
  {
   "cell_type": "code",
   "execution_count": 2,
   "metadata": {},
   "outputs": [
    {
     "name": "stdout",
     "output_type": "stream",
     "text": [
      "'data.frame':\t19 obs. of  2 variables:\n",
      " $ Time: int  37 48 52 57 58 61 66 67 75 75 ...\n",
      " $ Dose: num  4.39 3.46 8 5.47 8 ...\n"
     ]
    }
   ],
   "source": [
    "str(fluoro)"
   ]
  },
  {
   "cell_type": "code",
   "execution_count": 3,
   "metadata": {},
   "outputs": [
    {
     "data": {
      "image/png": "[encoded data removed]",
      "text/plain": [
       "plot without title"
      ]
     },
     "metadata": {},
     "output_type": "display_data"
    }
   ],
   "source": [
    "scatter.smooth(fluoro$Dose ~ fluoro$Time)"
   ]
  },
  {
   "cell_type": "code",
   "execution_count": 4,
   "metadata": {},
   "outputs": [],
   "source": [
    "lm.1 <- lm(Dose ~ Time, data=fluoro)"
   ]
  },
  {
   "cell_type": "code",
   "execution_count": 5,
   "metadata": {},
   "outputs": [
    {
     "data": {
      "text/html": [
       "<table>\n",
       "<thead><tr><th></th><th scope=col>Estimate</th><th scope=col>Std. Error</th><th scope=col>t value</th><th scope=col>Pr(&gt;|t|)</th></tr></thead>\n",
       "<tbody>\n",
       "\t<tr><th scope=row>(Intercept)</th><td>-39.6637988 </td><td>14.4862932  </td><td>-2.738023   </td><td>0.0140153380</td></tr>\n",
       "\t<tr><th scope=row>Time</th><td>  0.8783128 </td><td> 0.1849577  </td><td> 4.748724   </td><td>0.0001859731</td></tr>\n",
       "</tbody>\n",
       "</table>\n"
      ],
      "text/latex": [
       "\\begin{tabular}{r|llll}\n",
       "  & Estimate & Std. Error & t value & Pr(>\\textbar{}t\\textbar{})\\\\\n",
       "\\hline\n",
       "\t(Intercept) & -39.6637988  & 14.4862932   & -2.738023    & 0.0140153380\\\\\n",
       "\tTime &   0.8783128  &  0.1849577   &  4.748724    & 0.0001859731\\\\\n",
       "\\end{tabular}\n"
      ],
      "text/markdown": [
       "\n",
       "| <!--/--> | Estimate | Std. Error | t value | Pr(>|t|) |\n",
       "|---|---|---|---|---|\n",
       "| (Intercept) | -39.6637988  | 14.4862932   | -2.738023    | 0.0140153380 |\n",
       "| Time |   0.8783128  |  0.1849577   |  4.748724    | 0.0001859731 |\n",
       "\n"
      ],
      "text/plain": [
       "            Estimate    Std. Error t value   Pr(>|t|)    \n",
       "(Intercept) -39.6637988 14.4862932 -2.738023 0.0140153380\n",
       "Time          0.8783128  0.1849577  4.748724 0.0001859731"
      ]
     },
     "metadata": {},
     "output_type": "display_data"
    }
   ],
   "source": [
    "coef(summary(lm.1))"
   ]
  },
  {
   "cell_type": "code",
   "execution_count": 6,
   "metadata": {},
   "outputs": [
    {
     "data": {
      "text/html": [
       "<table>\n",
       "<thead><tr><th></th><th scope=col>Df</th><th scope=col>Sum Sq</th><th scope=col>Mean Sq</th><th scope=col>F value</th><th scope=col>Pr(&gt;F)</th></tr></thead>\n",
       "<tbody>\n",
       "\t<tr><th scope=row>Time</th><td> 1          </td><td>5837.965    </td><td>5837.9647   </td><td>22.55038    </td><td>0.0001859731</td></tr>\n",
       "\t<tr><th scope=row>Residuals</th><td>17          </td><td>4401.053    </td><td> 258.8855   </td><td>      NA    </td><td>          NA</td></tr>\n",
       "</tbody>\n",
       "</table>\n"
      ],
      "text/latex": [
       "\\begin{tabular}{r|lllll}\n",
       "  & Df & Sum Sq & Mean Sq & F value & Pr(>F)\\\\\n",
       "\\hline\n",
       "\tTime &  1           & 5837.965     & 5837.9647    & 22.55038     & 0.0001859731\\\\\n",
       "\tResiduals & 17           & 4401.053     &  258.8855    &       NA     &           NA\\\\\n",
       "\\end{tabular}\n"
      ],
      "text/markdown": [
       "\n",
       "| <!--/--> | Df | Sum Sq | Mean Sq | F value | Pr(>F) |\n",
       "|---|---|---|---|---|---|\n",
       "| Time |  1           | 5837.965     | 5837.9647    | 22.55038     | 0.0001859731 |\n",
       "| Residuals | 17           | 4401.053     |  258.8855    |       NA     |           NA |\n",
       "\n"
      ],
      "text/plain": [
       "          Df Sum Sq   Mean Sq   F value  Pr(>F)      \n",
       "Time       1 5837.965 5837.9647 22.55038 0.0001859731\n",
       "Residuals 17 4401.053  258.8855       NA           NA"
      ]
     },
     "metadata": {},
     "output_type": "display_data"
    }
   ],
   "source": [
    "anova(lm.1)"
   ]
  },
  {
   "cell_type": "code",
   "execution_count": 7,
   "metadata": {},
   "outputs": [
    {
     "data": {
      "image/png": "[encoded data removed]",
      "text/plain": [
       "plot without title"
      ]
     },
     "metadata": {},
     "output_type": "display_data"
    }
   ],
   "source": [
    "scatter.smooth(rstandard(lm.1) ~ fitted(lm.1))"
   ]
  },
  {
   "cell_type": "code",
   "execution_count": 8,
   "metadata": {},
   "outputs": [],
   "source": [
    "library(MASS)"
   ]
  },
  {
   "cell_type": "code",
   "execution_count": 10,
   "metadata": {},
   "outputs": [
    {
     "data": {
      "image/png": "[encoded data removed]",
      "text/plain": [
       "plot without title"
      ]
     },
     "metadata": {},
     "output_type": "display_data"
    }
   ],
   "source": [
    "boxcox(Dose ~ Time, lambda=seq(-10, 10, length=100), data=fluoro)"
   ]
  },
  {
   "cell_type": "code",
   "execution_count": 11,
   "metadata": {},
   "outputs": [],
   "source": [
    "lm.2 <- lm(log(Dose) ~ Time, data=fluoro)"
   ]
  },
  {
   "cell_type": "code",
   "execution_count": 12,
   "metadata": {},
   "outputs": [
    {
     "data": {
      "text/html": [
       "<table>\n",
       "<thead><tr><th></th><th scope=col>Estimate</th><th scope=col>Std. Error</th><th scope=col>t value</th><th scope=col>Pr(&gt;|t|)</th></tr></thead>\n",
       "<tbody>\n",
       "\t<tr><th scope=row>(Intercept)</th><td>-0.19993936 </td><td>0.468631933 </td><td>-0.4266448  </td><td>6.749920e-01</td></tr>\n",
       "\t<tr><th scope=row>Time</th><td> 0.04067251 </td><td>0.005983385 </td><td> 6.7975751  </td><td>3.108832e-06</td></tr>\n",
       "</tbody>\n",
       "</table>\n"
      ],
      "text/latex": [
       "\\begin{tabular}{r|llll}\n",
       "  & Estimate & Std. Error & t value & Pr(>\\textbar{}t\\textbar{})\\\\\n",
       "\\hline\n",
       "\t(Intercept) & -0.19993936  & 0.468631933  & -0.4266448   & 6.749920e-01\\\\\n",
       "\tTime &  0.04067251  & 0.005983385  &  6.7975751   & 3.108832e-06\\\\\n",
       "\\end{tabular}\n"
      ],
      "text/markdown": [
       "\n",
       "| <!--/--> | Estimate | Std. Error | t value | Pr(>|t|) |\n",
       "|---|---|---|---|---|\n",
       "| (Intercept) | -0.19993936  | 0.468631933  | -0.4266448   | 6.749920e-01 |\n",
       "| Time |  0.04067251  | 0.005983385  |  6.7975751   | 3.108832e-06 |\n",
       "\n"
      ],
      "text/plain": [
       "            Estimate    Std. Error  t value    Pr(>|t|)    \n",
       "(Intercept) -0.19993936 0.468631933 -0.4266448 6.749920e-01\n",
       "Time         0.04067251 0.005983385  6.7975751 3.108832e-06"
      ]
     },
     "metadata": {},
     "output_type": "display_data"
    }
   ],
   "source": [
    "coef(summary(lm.2))"
   ]
  },
  {
   "cell_type": "code",
   "execution_count": 13,
   "metadata": {},
   "outputs": [
    {
     "data": {
      "text/html": [
       "<table>\n",
       "<thead><tr><th></th><th scope=col>Df</th><th scope=col>Sum Sq</th><th scope=col>Mean Sq</th><th scope=col>F value</th><th scope=col>Pr(&gt;F)</th></tr></thead>\n",
       "<tbody>\n",
       "\t<tr><th scope=row>Time</th><td> 1          </td><td>12.518864   </td><td>12.5188642  </td><td>46.20703    </td><td>3.108832e-06</td></tr>\n",
       "\t<tr><th scope=row>Residuals</th><td>17          </td><td> 4.605808   </td><td> 0.2709299  </td><td>      NA    </td><td>          NA</td></tr>\n",
       "</tbody>\n",
       "</table>\n"
      ],
      "text/latex": [
       "\\begin{tabular}{r|lllll}\n",
       "  & Df & Sum Sq & Mean Sq & F value & Pr(>F)\\\\\n",
       "\\hline\n",
       "\tTime &  1           & 12.518864    & 12.5188642   & 46.20703     & 3.108832e-06\\\\\n",
       "\tResiduals & 17           &  4.605808    &  0.2709299   &       NA     &           NA\\\\\n",
       "\\end{tabular}\n"
      ],
      "text/markdown": [
       "\n",
       "| <!--/--> | Df | Sum Sq | Mean Sq | F value | Pr(>F) |\n",
       "|---|---|---|---|---|---|\n",
       "| Time |  1           | 12.518864    | 12.5188642   | 46.20703     | 3.108832e-06 |\n",
       "| Residuals | 17           |  4.605808    |  0.2709299   |       NA     |           NA |\n",
       "\n"
      ],
      "text/plain": [
       "          Df Sum Sq    Mean Sq    F value  Pr(>F)      \n",
       "Time       1 12.518864 12.5188642 46.20703 3.108832e-06\n",
       "Residuals 17  4.605808  0.2709299       NA           NA"
      ]
     },
     "metadata": {},
     "output_type": "display_data"
    }
   ],
   "source": [
    "anova(lm.2)"
   ]
  },
  {
   "cell_type": "code",
   "execution_count": 16,
   "metadata": {},
   "outputs": [
    {
     "data": {
      "image/png": "[encoded data removed]",
      "text/plain": [
       "Plot with title \"Normal Q-Q Plot\""
      ]
     },
     "metadata": {},
     "output_type": "display_data"
    }
   ],
   "source": [
    "par(mfrow=c(3, 2))\n",
    "scatter.smooth(rstandard(lm.2) ~ fluoro$Time)\n",
    "scatter.smooth(rstandard(lm.2) ~ fitted(lm.2))\n",
    "termplot(lm.2, partial.resid = TRUE, terms=\"Time\")\n",
    "qqnorm(rstandard(lm.2))\n",
    "qqline(rstandard(lm.2))\n",
    "plot(cooks.distance(lm.2), type=\"h\")"
   ]
  },
  {
   "cell_type": "code",
   "execution_count": 17,
   "metadata": {},
   "outputs": [
    {
     "data": {
      "text/html": [
       "<dl class=dl-horizontal>\n",
       "\t<dt>1</dt>\n",
       "\t\t<dd>1</dd>\n",
       "\t<dt>2</dt>\n",
       "\t\t<dd>0</dd>\n",
       "\t<dt>3</dt>\n",
       "\t\t<dd>0</dd>\n",
       "\t<dt>4</dt>\n",
       "\t\t<dd>0</dd>\n",
       "\t<dt>5</dt>\n",
       "\t\t<dd>0</dd>\n",
       "\t<dt>6</dt>\n",
       "\t\t<dd>0</dd>\n",
       "\t<dt>7</dt>\n",
       "\t\t<dd>0</dd>\n",
       "\t<dt>8</dt>\n",
       "\t\t<dd>0</dd>\n",
       "\t<dt>9</dt>\n",
       "\t\t<dd>0</dd>\n",
       "\t<dt>10</dt>\n",
       "\t\t<dd>1</dd>\n",
       "\t<dt>11</dt>\n",
       "\t\t<dd>0</dd>\n",
       "\t<dt>12</dt>\n",
       "\t\t<dd>0</dd>\n",
       "\t<dt>13</dt>\n",
       "\t\t<dd>0</dd>\n",
       "\t<dt>14</dt>\n",
       "\t\t<dd>0</dd>\n",
       "\t<dt>15</dt>\n",
       "\t\t<dd>0</dd>\n",
       "\t<dt>16</dt>\n",
       "\t\t<dd>0</dd>\n",
       "\t<dt>17</dt>\n",
       "\t\t<dd>0</dd>\n",
       "\t<dt>18</dt>\n",
       "\t\t<dd>0</dd>\n",
       "\t<dt>19</dt>\n",
       "\t\t<dd>1</dd>\n",
       "</dl>\n"
      ],
      "text/latex": [
       "\\begin{description*}\n",
       "\\item[1] 1\n",
       "\\item[2] 0\n",
       "\\item[3] 0\n",
       "\\item[4] 0\n",
       "\\item[5] 0\n",
       "\\item[6] 0\n",
       "\\item[7] 0\n",
       "\\item[8] 0\n",
       "\\item[9] 0\n",
       "\\item[10] 1\n",
       "\\item[11] 0\n",
       "\\item[12] 0\n",
       "\\item[13] 0\n",
       "\\item[14] 0\n",
       "\\item[15] 0\n",
       "\\item[16] 0\n",
       "\\item[17] 0\n",
       "\\item[18] 0\n",
       "\\item[19] 1\n",
       "\\end{description*}\n"
      ],
      "text/markdown": [
       "1\n",
       ":   12\n",
       ":   03\n",
       ":   04\n",
       ":   05\n",
       ":   06\n",
       ":   07\n",
       ":   08\n",
       ":   09\n",
       ":   010\n",
       ":   111\n",
       ":   012\n",
       ":   013\n",
       ":   014\n",
       ":   015\n",
       ":   016\n",
       ":   017\n",
       ":   018\n",
       ":   019\n",
       ":   1\n",
       "\n"
      ],
      "text/plain": [
       " 1  2  3  4  5  6  7  8  9 10 11 12 13 14 15 16 17 18 19 \n",
       " 1  0  0  0  0  0  0  0  0  1  0  0  0  0  0  0  0  0  1 "
      ]
     },
     "metadata": {},
     "output_type": "display_data"
    }
   ],
   "source": [
    "rowSums(influence.measures(lm.2)$is.inf)"
   ]
  },
  {
   "cell_type": "code",
   "execution_count": 19,
   "metadata": {},
   "outputs": [
    {
     "data": {
      "text/html": [
       "<dl class=dl-horizontal>\n",
       "\t<dt>1</dt>\n",
       "\t\t<dd>FALSE</dd>\n",
       "\t<dt>2</dt>\n",
       "\t\t<dd>FALSE</dd>\n",
       "\t<dt>3</dt>\n",
       "\t\t<dd>FALSE</dd>\n",
       "\t<dt>4</dt>\n",
       "\t\t<dd>FALSE</dd>\n",
       "\t<dt>5</dt>\n",
       "\t\t<dd>FALSE</dd>\n",
       "\t<dt>6</dt>\n",
       "\t\t<dd>FALSE</dd>\n",
       "\t<dt>7</dt>\n",
       "\t\t<dd>FALSE</dd>\n",
       "\t<dt>8</dt>\n",
       "\t\t<dd>FALSE</dd>\n",
       "\t<dt>9</dt>\n",
       "\t\t<dd>FALSE</dd>\n",
       "\t<dt>10</dt>\n",
       "\t\t<dd>FALSE</dd>\n",
       "\t<dt>11</dt>\n",
       "\t\t<dd>FALSE</dd>\n",
       "\t<dt>12</dt>\n",
       "\t\t<dd>FALSE</dd>\n",
       "\t<dt>13</dt>\n",
       "\t\t<dd>FALSE</dd>\n",
       "\t<dt>14</dt>\n",
       "\t\t<dd>FALSE</dd>\n",
       "\t<dt>15</dt>\n",
       "\t\t<dd>FALSE</dd>\n",
       "\t<dt>16</dt>\n",
       "\t\t<dd>FALSE</dd>\n",
       "\t<dt>17</dt>\n",
       "\t\t<dd>FALSE</dd>\n",
       "\t<dt>18</dt>\n",
       "\t\t<dd>FALSE</dd>\n",
       "\t<dt>19</dt>\n",
       "\t\t<dd>FALSE</dd>\n",
       "</dl>\n"
      ],
      "text/latex": [
       "\\begin{description*}\n",
       "\\item[1] FALSE\n",
       "\\item[2] FALSE\n",
       "\\item[3] FALSE\n",
       "\\item[4] FALSE\n",
       "\\item[5] FALSE\n",
       "\\item[6] FALSE\n",
       "\\item[7] FALSE\n",
       "\\item[8] FALSE\n",
       "\\item[9] FALSE\n",
       "\\item[10] FALSE\n",
       "\\item[11] FALSE\n",
       "\\item[12] FALSE\n",
       "\\item[13] FALSE\n",
       "\\item[14] FALSE\n",
       "\\item[15] FALSE\n",
       "\\item[16] FALSE\n",
       "\\item[17] FALSE\n",
       "\\item[18] FALSE\n",
       "\\item[19] FALSE\n",
       "\\end{description*}\n"
      ],
      "text/markdown": [
       "1\n",
       ":   FALSE2\n",
       ":   FALSE3\n",
       ":   FALSE4\n",
       ":   FALSE5\n",
       ":   FALSE6\n",
       ":   FALSE7\n",
       ":   FALSE8\n",
       ":   FALSE9\n",
       ":   FALSE10\n",
       ":   FALSE11\n",
       ":   FALSE12\n",
       ":   FALSE13\n",
       ":   FALSE14\n",
       ":   FALSE15\n",
       ":   FALSE16\n",
       ":   FALSE17\n",
       ":   FALSE18\n",
       ":   FALSE19\n",
       ":   FALSE\n",
       "\n"
      ],
      "text/plain": [
       "    1     2     3     4     5     6     7     8     9    10    11    12    13 \n",
       "FALSE FALSE FALSE FALSE FALSE FALSE FALSE FALSE FALSE FALSE FALSE FALSE FALSE \n",
       "   14    15    16    17    18    19 \n",
       "FALSE FALSE FALSE FALSE FALSE FALSE "
      ]
     },
     "metadata": {},
     "output_type": "display_data"
    }
   ],
   "source": [
    "hatvalues(lm.2) > 3*2/19"
   ]
  }
 ],
 "metadata": {
  "kernelspec": {
   "display_name": "R",
   "language": "R",
   "name": "ir"
  },
  "language_info": {
   "codemirror_mode": "r",
   "file_extension": ".r",
   "mimetype": "text/x-r-source",
   "name": "R",
   "pygments_lexer": "r",
   "version": "3.6.1"
  },
  "orig_nbformat": 4
 },
 "nbformat": 4,
 "nbformat_minor": 2
}
