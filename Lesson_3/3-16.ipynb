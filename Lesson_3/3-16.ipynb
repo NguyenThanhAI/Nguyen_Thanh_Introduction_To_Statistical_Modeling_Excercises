{
 "cells": [
  {
   "cell_type": "code",
   "execution_count": 1,
   "metadata": {},
   "outputs": [],
   "source": [
    "library(GLMsData)\n",
    "data(blocks)"
   ]
  },
  {
   "cell_type": "code",
   "execution_count": 18,
   "metadata": {},
   "outputs": [],
   "source": [
    "library(MASS)"
   ]
  },
  {
   "cell_type": "code",
   "execution_count": 2,
   "metadata": {},
   "outputs": [
    {
     "name": "stdout",
     "output_type": "stream",
     "text": [
      "'data.frame':\t100 obs. of  6 variables:\n",
      " $ Child : Factor w/ 25 levels \"A\",\"B\",\"C\",\"D\",..: 1 2 3 4 5 6 7 8 9 10 ...\n",
      " $ Number: int  11 9 8 9 10 13 10 7 6 12 ...\n",
      " $ Time  : num  30 19 18.6 23 29 178 42 20.2 12 39.2 ...\n",
      " $ Trial : int  1 1 1 1 1 1 1 1 1 1 ...\n",
      " $ Shape : Factor w/ 2 levels \"Cube\",\"Cylinder\": 1 1 1 1 1 1 1 1 1 1 ...\n",
      " $ Age   : num  4.67 5 4.42 4.33 4.33 4.83 4.42 5 3.58 4 ...\n"
     ]
    }
   ],
   "source": [
    "str(blocks)"
   ]
  },
  {
   "cell_type": "code",
   "execution_count": 3,
   "metadata": {},
   "outputs": [
    {
     "data": {
      "text/html": [
       "<table>\n",
       "<thead><tr><th scope=col>Child</th><th scope=col>Number</th><th scope=col>Time</th><th scope=col>Trial</th><th scope=col>Shape</th><th scope=col>Age</th></tr></thead>\n",
       "<tbody>\n",
       "\t<tr><td>A       </td><td>11      </td><td> 30.0   </td><td>1       </td><td>Cube    </td><td>4.67    </td></tr>\n",
       "\t<tr><td>B       </td><td> 9      </td><td> 19.0   </td><td>1       </td><td>Cube    </td><td>5.00    </td></tr>\n",
       "\t<tr><td>C       </td><td> 8      </td><td> 18.6   </td><td>1       </td><td>Cube    </td><td>4.42    </td></tr>\n",
       "\t<tr><td>D       </td><td> 9      </td><td> 23.0   </td><td>1       </td><td>Cube    </td><td>4.33    </td></tr>\n",
       "\t<tr><td>E       </td><td>10      </td><td> 29.0   </td><td>1       </td><td>Cube    </td><td>4.33    </td></tr>\n",
       "\t<tr><td>F       </td><td>13      </td><td>178.0   </td><td>1       </td><td>Cube    </td><td>4.83    </td></tr>\n",
       "\t<tr><td>G       </td><td>10      </td><td> 42.0   </td><td>1       </td><td>Cube    </td><td>4.42    </td></tr>\n",
       "\t<tr><td>H       </td><td> 7      </td><td> 20.2   </td><td>1       </td><td>Cube    </td><td>5.00    </td></tr>\n",
       "\t<tr><td>I       </td><td> 6      </td><td> 12.0   </td><td>1       </td><td>Cube    </td><td>3.58    </td></tr>\n",
       "\t<tr><td>J       </td><td>12      </td><td> 39.2   </td><td>1       </td><td>Cube    </td><td>4.00    </td></tr>\n",
       "\t<tr><td>K       </td><td> 6      </td><td> 14.4   </td><td>1       </td><td>Cube    </td><td>4.58    </td></tr>\n",
       "\t<tr><td>L       </td><td> 9      </td><td> 81.4   </td><td>1       </td><td>Cube    </td><td>3.67    </td></tr>\n",
       "\t<tr><td>M       </td><td> 8      </td><td> 17.4   </td><td>1       </td><td>Cube    </td><td>4.83    </td></tr>\n",
       "\t<tr><td>N       </td><td> 7      </td><td> 31.0   </td><td>1       </td><td>Cube    </td><td>4.00    </td></tr>\n",
       "\t<tr><td>O       </td><td> 9      </td><td> 52.2   </td><td>1       </td><td>Cube    </td><td>3.83    </td></tr>\n",
       "\t<tr><td>P       </td><td> 9      </td><td> 41.0   </td><td>1       </td><td>Cube    </td><td>3.83    </td></tr>\n",
       "\t<tr><td>Q       </td><td> 8      </td><td> 18.8   </td><td>1       </td><td>Cube    </td><td>5.08    </td></tr>\n",
       "\t<tr><td>R       </td><td> 7      </td><td> 20.2   </td><td>1       </td><td>Cube    </td><td>4.00    </td></tr>\n",
       "\t<tr><td>S       </td><td> 8      </td><td> 35.0   </td><td>1       </td><td>Cube    </td><td>2.67    </td></tr>\n",
       "\t<tr><td>T       </td><td> 4      </td><td> 24.2   </td><td>1       </td><td>Cube    </td><td>2.67    </td></tr>\n",
       "\t<tr><td>U       </td><td> 8      </td><td> 47.0   </td><td>1       </td><td>Cube    </td><td>3.00    </td></tr>\n",
       "\t<tr><td>V       </td><td> 4      </td><td>  7.4   </td><td>1       </td><td>Cube    </td><td>2.42    </td></tr>\n",
       "\t<tr><td>W       </td><td>11      </td><td> 54.6   </td><td>1       </td><td>Cube    </td><td>4.17    </td></tr>\n",
       "\t<tr><td>X       </td><td> 7      </td><td> 90.0   </td><td>1       </td><td>Cube    </td><td>4.00    </td></tr>\n",
       "\t<tr><td>Y       </td><td> 5      </td><td> 11.0   </td><td>1       </td><td>Cube    </td><td>3.33    </td></tr>\n",
       "\t<tr><td>A       </td><td> 6      </td><td> 30.0   </td><td>1       </td><td>Cylinder</td><td>4.67    </td></tr>\n",
       "\t<tr><td>B       </td><td> 4      </td><td>  6.0   </td><td>1       </td><td>Cylinder</td><td>5.00    </td></tr>\n",
       "\t<tr><td>C       </td><td> 5      </td><td> 14.2   </td><td>1       </td><td>Cylinder</td><td>4.42    </td></tr>\n",
       "\t<tr><td>D       </td><td> 4      </td><td>  8.2   </td><td>1       </td><td>Cylinder</td><td>4.33    </td></tr>\n",
       "\t<tr><td>E       </td><td> 6      </td><td> 14.0   </td><td>1       </td><td>Cylinder</td><td>4.33    </td></tr>\n",
       "\t<tr><td>...</td><td>...</td><td>...</td><td>...</td><td>...</td><td>...</td></tr>\n",
       "\t<tr><td>U       </td><td>6       </td><td> 17.4   </td><td>2       </td><td>Cube    </td><td>3.00    </td></tr>\n",
       "\t<tr><td>V       </td><td>5       </td><td> 11.0   </td><td>2       </td><td>Cube    </td><td>2.42    </td></tr>\n",
       "\t<tr><td>W       </td><td>8       </td><td> 52.0   </td><td>2       </td><td>Cube    </td><td>4.17    </td></tr>\n",
       "\t<tr><td>X       </td><td>8       </td><td> 40.0   </td><td>2       </td><td>Cube    </td><td>4.00    </td></tr>\n",
       "\t<tr><td>Y       </td><td>5       </td><td>  9.8   </td><td>2       </td><td>Cube    </td><td>3.33    </td></tr>\n",
       "\t<tr><td>A       </td><td>8       </td><td>125.0   </td><td>2       </td><td>Cylinder</td><td>4.67    </td></tr>\n",
       "\t<tr><td>B       </td><td>5       </td><td> 14.4   </td><td>2       </td><td>Cylinder</td><td>5.00    </td></tr>\n",
       "\t<tr><td>C       </td><td>5       </td><td> 24.0   </td><td>2       </td><td>Cylinder</td><td>4.42    </td></tr>\n",
       "\t<tr><td>D       </td><td>6       </td><td> 14.4   </td><td>2       </td><td>Cylinder</td><td>4.33    </td></tr>\n",
       "\t<tr><td>E       </td><td>5       </td><td> 15.0   </td><td>2       </td><td>Cylinder</td><td>4.33    </td></tr>\n",
       "\t<tr><td>F       </td><td>9       </td><td> 44.6   </td><td>2       </td><td>Cylinder</td><td>4.83    </td></tr>\n",
       "\t<tr><td>G       </td><td>5       </td><td> 10.8   </td><td>2       </td><td>Cylinder</td><td>4.42    </td></tr>\n",
       "\t<tr><td>H       </td><td>4       </td><td> 18.0   </td><td>2       </td><td>Cylinder</td><td>5.00    </td></tr>\n",
       "\t<tr><td>I       </td><td>6       </td><td> 16.0   </td><td>2       </td><td>Cylinder</td><td>3.58    </td></tr>\n",
       "\t<tr><td>J       </td><td>8       </td><td> 55.0   </td><td>2       </td><td>Cylinder</td><td>4.00    </td></tr>\n",
       "\t<tr><td>K       </td><td>6       </td><td> 19.8   </td><td>2       </td><td>Cylinder</td><td>4.58    </td></tr>\n",
       "\t<tr><td>L       </td><td>5       </td><td> 19.8   </td><td>2       </td><td>Cylinder</td><td>3.67    </td></tr>\n",
       "\t<tr><td>M       </td><td>6       </td><td> 10.6   </td><td>2       </td><td>Cylinder</td><td>4.83    </td></tr>\n",
       "\t<tr><td>N       </td><td>5       </td><td> 17.0   </td><td>2       </td><td>Cylinder</td><td>4.00    </td></tr>\n",
       "\t<tr><td>O       </td><td>5       </td><td> 10.0   </td><td>2       </td><td>Cylinder</td><td>3.83    </td></tr>\n",
       "\t<tr><td>P       </td><td>5       </td><td> 19.4   </td><td>2       </td><td>Cylinder</td><td>3.83    </td></tr>\n",
       "\t<tr><td>Q       </td><td>8       </td><td> 21.0   </td><td>2       </td><td>Cylinder</td><td>5.08    </td></tr>\n",
       "\t<tr><td>R       </td><td>6       </td><td> 15.0   </td><td>2       </td><td>Cylinder</td><td>4.00    </td></tr>\n",
       "\t<tr><td>S       </td><td>5       </td><td> 36.2   </td><td>2       </td><td>Cylinder</td><td>2.67    </td></tr>\n",
       "\t<tr><td>T       </td><td>5       </td><td> 31.4   </td><td>2       </td><td>Cylinder</td><td>2.67    </td></tr>\n",
       "\t<tr><td>U       </td><td>4       </td><td>  8.4   </td><td>2       </td><td>Cylinder</td><td>3.00    </td></tr>\n",
       "\t<tr><td>V       </td><td>7       </td><td>  7.2   </td><td>2       </td><td>Cylinder</td><td>2.42    </td></tr>\n",
       "\t<tr><td>W       </td><td>5       </td><td> 12.0   </td><td>2       </td><td>Cylinder</td><td>4.17    </td></tr>\n",
       "\t<tr><td>X       </td><td>5       </td><td> 25.0   </td><td>2       </td><td>Cylinder</td><td>4.00    </td></tr>\n",
       "\t<tr><td>Y       </td><td>4       </td><td>  6.0   </td><td>2       </td><td>Cylinder</td><td>3.33    </td></tr>\n",
       "</tbody>\n",
       "</table>\n"
      ],
      "text/latex": [
       "\\begin{tabular}{r|llllll}\n",
       " Child & Number & Time & Trial & Shape & Age\\\\\n",
       "\\hline\n",
       "\t A        & 11       &  30.0    & 1        & Cube     & 4.67    \\\\\n",
       "\t B        &  9       &  19.0    & 1        & Cube     & 5.00    \\\\\n",
       "\t C        &  8       &  18.6    & 1        & Cube     & 4.42    \\\\\n",
       "\t D        &  9       &  23.0    & 1        & Cube     & 4.33    \\\\\n",
       "\t E        & 10       &  29.0    & 1        & Cube     & 4.33    \\\\\n",
       "\t F        & 13       & 178.0    & 1        & Cube     & 4.83    \\\\\n",
       "\t G        & 10       &  42.0    & 1        & Cube     & 4.42    \\\\\n",
       "\t H        &  7       &  20.2    & 1        & Cube     & 5.00    \\\\\n",
       "\t I        &  6       &  12.0    & 1        & Cube     & 3.58    \\\\\n",
       "\t J        & 12       &  39.2    & 1        & Cube     & 4.00    \\\\\n",
       "\t K        &  6       &  14.4    & 1        & Cube     & 4.58    \\\\\n",
       "\t L        &  9       &  81.4    & 1        & Cube     & 3.67    \\\\\n",
       "\t M        &  8       &  17.4    & 1        & Cube     & 4.83    \\\\\n",
       "\t N        &  7       &  31.0    & 1        & Cube     & 4.00    \\\\\n",
       "\t O        &  9       &  52.2    & 1        & Cube     & 3.83    \\\\\n",
       "\t P        &  9       &  41.0    & 1        & Cube     & 3.83    \\\\\n",
       "\t Q        &  8       &  18.8    & 1        & Cube     & 5.08    \\\\\n",
       "\t R        &  7       &  20.2    & 1        & Cube     & 4.00    \\\\\n",
       "\t S        &  8       &  35.0    & 1        & Cube     & 2.67    \\\\\n",
       "\t T        &  4       &  24.2    & 1        & Cube     & 2.67    \\\\\n",
       "\t U        &  8       &  47.0    & 1        & Cube     & 3.00    \\\\\n",
       "\t V        &  4       &   7.4    & 1        & Cube     & 2.42    \\\\\n",
       "\t W        & 11       &  54.6    & 1        & Cube     & 4.17    \\\\\n",
       "\t X        &  7       &  90.0    & 1        & Cube     & 4.00    \\\\\n",
       "\t Y        &  5       &  11.0    & 1        & Cube     & 3.33    \\\\\n",
       "\t A        &  6       &  30.0    & 1        & Cylinder & 4.67    \\\\\n",
       "\t B        &  4       &   6.0    & 1        & Cylinder & 5.00    \\\\\n",
       "\t C        &  5       &  14.2    & 1        & Cylinder & 4.42    \\\\\n",
       "\t D        &  4       &   8.2    & 1        & Cylinder & 4.33    \\\\\n",
       "\t E        &  6       &  14.0    & 1        & Cylinder & 4.33    \\\\\n",
       "\t ... & ... & ... & ... & ... & ...\\\\\n",
       "\t U        & 6        &  17.4    & 2        & Cube     & 3.00    \\\\\n",
       "\t V        & 5        &  11.0    & 2        & Cube     & 2.42    \\\\\n",
       "\t W        & 8        &  52.0    & 2        & Cube     & 4.17    \\\\\n",
       "\t X        & 8        &  40.0    & 2        & Cube     & 4.00    \\\\\n",
       "\t Y        & 5        &   9.8    & 2        & Cube     & 3.33    \\\\\n",
       "\t A        & 8        & 125.0    & 2        & Cylinder & 4.67    \\\\\n",
       "\t B        & 5        &  14.4    & 2        & Cylinder & 5.00    \\\\\n",
       "\t C        & 5        &  24.0    & 2        & Cylinder & 4.42    \\\\\n",
       "\t D        & 6        &  14.4    & 2        & Cylinder & 4.33    \\\\\n",
       "\t E        & 5        &  15.0    & 2        & Cylinder & 4.33    \\\\\n",
       "\t F        & 9        &  44.6    & 2        & Cylinder & 4.83    \\\\\n",
       "\t G        & 5        &  10.8    & 2        & Cylinder & 4.42    \\\\\n",
       "\t H        & 4        &  18.0    & 2        & Cylinder & 5.00    \\\\\n",
       "\t I        & 6        &  16.0    & 2        & Cylinder & 3.58    \\\\\n",
       "\t J        & 8        &  55.0    & 2        & Cylinder & 4.00    \\\\\n",
       "\t K        & 6        &  19.8    & 2        & Cylinder & 4.58    \\\\\n",
       "\t L        & 5        &  19.8    & 2        & Cylinder & 3.67    \\\\\n",
       "\t M        & 6        &  10.6    & 2        & Cylinder & 4.83    \\\\\n",
       "\t N        & 5        &  17.0    & 2        & Cylinder & 4.00    \\\\\n",
       "\t O        & 5        &  10.0    & 2        & Cylinder & 3.83    \\\\\n",
       "\t P        & 5        &  19.4    & 2        & Cylinder & 3.83    \\\\\n",
       "\t Q        & 8        &  21.0    & 2        & Cylinder & 5.08    \\\\\n",
       "\t R        & 6        &  15.0    & 2        & Cylinder & 4.00    \\\\\n",
       "\t S        & 5        &  36.2    & 2        & Cylinder & 2.67    \\\\\n",
       "\t T        & 5        &  31.4    & 2        & Cylinder & 2.67    \\\\\n",
       "\t U        & 4        &   8.4    & 2        & Cylinder & 3.00    \\\\\n",
       "\t V        & 7        &   7.2    & 2        & Cylinder & 2.42    \\\\\n",
       "\t W        & 5        &  12.0    & 2        & Cylinder & 4.17    \\\\\n",
       "\t X        & 5        &  25.0    & 2        & Cylinder & 4.00    \\\\\n",
       "\t Y        & 4        &   6.0    & 2        & Cylinder & 3.33    \\\\\n",
       "\\end{tabular}\n"
      ],
      "text/markdown": [
       "\n",
       "| Child | Number | Time | Trial | Shape | Age |\n",
       "|---|---|---|---|---|---|\n",
       "| A        | 11       |  30.0    | 1        | Cube     | 4.67     |\n",
       "| B        |  9       |  19.0    | 1        | Cube     | 5.00     |\n",
       "| C        |  8       |  18.6    | 1        | Cube     | 4.42     |\n",
       "| D        |  9       |  23.0    | 1        | Cube     | 4.33     |\n",
       "| E        | 10       |  29.0    | 1        | Cube     | 4.33     |\n",
       "| F        | 13       | 178.0    | 1        | Cube     | 4.83     |\n",
       "| G        | 10       |  42.0    | 1        | Cube     | 4.42     |\n",
       "| H        |  7       |  20.2    | 1        | Cube     | 5.00     |\n",
       "| I        |  6       |  12.0    | 1        | Cube     | 3.58     |\n",
       "| J        | 12       |  39.2    | 1        | Cube     | 4.00     |\n",
       "| K        |  6       |  14.4    | 1        | Cube     | 4.58     |\n",
       "| L        |  9       |  81.4    | 1        | Cube     | 3.67     |\n",
       "| M        |  8       |  17.4    | 1        | Cube     | 4.83     |\n",
       "| N        |  7       |  31.0    | 1        | Cube     | 4.00     |\n",
       "| O        |  9       |  52.2    | 1        | Cube     | 3.83     |\n",
       "| P        |  9       |  41.0    | 1        | Cube     | 3.83     |\n",
       "| Q        |  8       |  18.8    | 1        | Cube     | 5.08     |\n",
       "| R        |  7       |  20.2    | 1        | Cube     | 4.00     |\n",
       "| S        |  8       |  35.0    | 1        | Cube     | 2.67     |\n",
       "| T        |  4       |  24.2    | 1        | Cube     | 2.67     |\n",
       "| U        |  8       |  47.0    | 1        | Cube     | 3.00     |\n",
       "| V        |  4       |   7.4    | 1        | Cube     | 2.42     |\n",
       "| W        | 11       |  54.6    | 1        | Cube     | 4.17     |\n",
       "| X        |  7       |  90.0    | 1        | Cube     | 4.00     |\n",
       "| Y        |  5       |  11.0    | 1        | Cube     | 3.33     |\n",
       "| A        |  6       |  30.0    | 1        | Cylinder | 4.67     |\n",
       "| B        |  4       |   6.0    | 1        | Cylinder | 5.00     |\n",
       "| C        |  5       |  14.2    | 1        | Cylinder | 4.42     |\n",
       "| D        |  4       |   8.2    | 1        | Cylinder | 4.33     |\n",
       "| E        |  6       |  14.0    | 1        | Cylinder | 4.33     |\n",
       "| ... | ... | ... | ... | ... | ... |\n",
       "| U        | 6        |  17.4    | 2        | Cube     | 3.00     |\n",
       "| V        | 5        |  11.0    | 2        | Cube     | 2.42     |\n",
       "| W        | 8        |  52.0    | 2        | Cube     | 4.17     |\n",
       "| X        | 8        |  40.0    | 2        | Cube     | 4.00     |\n",
       "| Y        | 5        |   9.8    | 2        | Cube     | 3.33     |\n",
       "| A        | 8        | 125.0    | 2        | Cylinder | 4.67     |\n",
       "| B        | 5        |  14.4    | 2        | Cylinder | 5.00     |\n",
       "| C        | 5        |  24.0    | 2        | Cylinder | 4.42     |\n",
       "| D        | 6        |  14.4    | 2        | Cylinder | 4.33     |\n",
       "| E        | 5        |  15.0    | 2        | Cylinder | 4.33     |\n",
       "| F        | 9        |  44.6    | 2        | Cylinder | 4.83     |\n",
       "| G        | 5        |  10.8    | 2        | Cylinder | 4.42     |\n",
       "| H        | 4        |  18.0    | 2        | Cylinder | 5.00     |\n",
       "| I        | 6        |  16.0    | 2        | Cylinder | 3.58     |\n",
       "| J        | 8        |  55.0    | 2        | Cylinder | 4.00     |\n",
       "| K        | 6        |  19.8    | 2        | Cylinder | 4.58     |\n",
       "| L        | 5        |  19.8    | 2        | Cylinder | 3.67     |\n",
       "| M        | 6        |  10.6    | 2        | Cylinder | 4.83     |\n",
       "| N        | 5        |  17.0    | 2        | Cylinder | 4.00     |\n",
       "| O        | 5        |  10.0    | 2        | Cylinder | 3.83     |\n",
       "| P        | 5        |  19.4    | 2        | Cylinder | 3.83     |\n",
       "| Q        | 8        |  21.0    | 2        | Cylinder | 5.08     |\n",
       "| R        | 6        |  15.0    | 2        | Cylinder | 4.00     |\n",
       "| S        | 5        |  36.2    | 2        | Cylinder | 2.67     |\n",
       "| T        | 5        |  31.4    | 2        | Cylinder | 2.67     |\n",
       "| U        | 4        |   8.4    | 2        | Cylinder | 3.00     |\n",
       "| V        | 7        |   7.2    | 2        | Cylinder | 2.42     |\n",
       "| W        | 5        |  12.0    | 2        | Cylinder | 4.17     |\n",
       "| X        | 5        |  25.0    | 2        | Cylinder | 4.00     |\n",
       "| Y        | 4        |   6.0    | 2        | Cylinder | 3.33     |\n",
       "\n"
      ],
      "text/plain": [
       "    Child Number Time  Trial Shape    Age \n",
       "1   A     11      30.0 1     Cube     4.67\n",
       "2   B      9      19.0 1     Cube     5.00\n",
       "3   C      8      18.6 1     Cube     4.42\n",
       "4   D      9      23.0 1     Cube     4.33\n",
       "5   E     10      29.0 1     Cube     4.33\n",
       "6   F     13     178.0 1     Cube     4.83\n",
       "7   G     10      42.0 1     Cube     4.42\n",
       "8   H      7      20.2 1     Cube     5.00\n",
       "9   I      6      12.0 1     Cube     3.58\n",
       "10  J     12      39.2 1     Cube     4.00\n",
       "11  K      6      14.4 1     Cube     4.58\n",
       "12  L      9      81.4 1     Cube     3.67\n",
       "13  M      8      17.4 1     Cube     4.83\n",
       "14  N      7      31.0 1     Cube     4.00\n",
       "15  O      9      52.2 1     Cube     3.83\n",
       "16  P      9      41.0 1     Cube     3.83\n",
       "17  Q      8      18.8 1     Cube     5.08\n",
       "18  R      7      20.2 1     Cube     4.00\n",
       "19  S      8      35.0 1     Cube     2.67\n",
       "20  T      4      24.2 1     Cube     2.67\n",
       "21  U      8      47.0 1     Cube     3.00\n",
       "22  V      4       7.4 1     Cube     2.42\n",
       "23  W     11      54.6 1     Cube     4.17\n",
       "24  X      7      90.0 1     Cube     4.00\n",
       "25  Y      5      11.0 1     Cube     3.33\n",
       "26  A      6      30.0 1     Cylinder 4.67\n",
       "27  B      4       6.0 1     Cylinder 5.00\n",
       "28  C      5      14.2 1     Cylinder 4.42\n",
       "29  D      4       8.2 1     Cylinder 4.33\n",
       "30  E      6      14.0 1     Cylinder 4.33\n",
       "... ...   ...    ...   ...   ...      ... \n",
       "71  U     6       17.4 2     Cube     3.00\n",
       "72  V     5       11.0 2     Cube     2.42\n",
       "73  W     8       52.0 2     Cube     4.17\n",
       "74  X     8       40.0 2     Cube     4.00\n",
       "75  Y     5        9.8 2     Cube     3.33\n",
       "76  A     8      125.0 2     Cylinder 4.67\n",
       "77  B     5       14.4 2     Cylinder 5.00\n",
       "78  C     5       24.0 2     Cylinder 4.42\n",
       "79  D     6       14.4 2     Cylinder 4.33\n",
       "80  E     5       15.0 2     Cylinder 4.33\n",
       "81  F     9       44.6 2     Cylinder 4.83\n",
       "82  G     5       10.8 2     Cylinder 4.42\n",
       "83  H     4       18.0 2     Cylinder 5.00\n",
       "84  I     6       16.0 2     Cylinder 3.58\n",
       "85  J     8       55.0 2     Cylinder 4.00\n",
       "86  K     6       19.8 2     Cylinder 4.58\n",
       "87  L     5       19.8 2     Cylinder 3.67\n",
       "88  M     6       10.6 2     Cylinder 4.83\n",
       "89  N     5       17.0 2     Cylinder 4.00\n",
       "90  O     5       10.0 2     Cylinder 3.83\n",
       "91  P     5       19.4 2     Cylinder 3.83\n",
       "92  Q     8       21.0 2     Cylinder 5.08\n",
       "93  R     6       15.0 2     Cylinder 4.00\n",
       "94  S     5       36.2 2     Cylinder 2.67\n",
       "95  T     5       31.4 2     Cylinder 2.67\n",
       "96  U     4        8.4 2     Cylinder 3.00\n",
       "97  V     7        7.2 2     Cylinder 2.42\n",
       "98  W     5       12.0 2     Cylinder 4.17\n",
       "99  X     5       25.0 2     Cylinder 4.00\n",
       "100 Y     4        6.0 2     Cylinder 3.33"
      ]
     },
     "metadata": {},
     "output_type": "display_data"
    }
   ],
   "source": [
    "blocks"
   ]
  },
  {
   "cell_type": "code",
   "execution_count": 4,
   "metadata": {},
   "outputs": [],
   "source": [
    "lm.1 <- lm(Time ~ Age * Shape, data=blocks)"
   ]
  },
  {
   "cell_type": "code",
   "execution_count": 5,
   "metadata": {},
   "outputs": [
    {
     "data": {
      "text/html": [
       "<table>\n",
       "<thead><tr><th></th><th scope=col>Estimate</th><th scope=col>Std. Error</th><th scope=col>t value</th><th scope=col>Pr(&gt;|t|)</th></tr></thead>\n",
       "<tbody>\n",
       "\t<tr><th scope=row>(Intercept)</th><td>29.261778  </td><td>19.487234  </td><td> 1.50158709</td><td>0.1364859  </td></tr>\n",
       "\t<tr><th scope=row>Age</th><td> 1.876173  </td><td> 4.759868  </td><td> 0.39416482</td><td>0.6943336  </td></tr>\n",
       "\t<tr><th scope=row>ShapeCylinder</th><td>-2.513296  </td><td>27.559110  </td><td>-0.09119654</td><td>0.9275264  </td></tr>\n",
       "\t<tr><th scope=row>Age:ShapeCylinder</th><td>-2.964113  </td><td> 6.731470  </td><td>-0.44033663</td><td>0.6606832  </td></tr>\n",
       "</tbody>\n",
       "</table>\n"
      ],
      "text/latex": [
       "\\begin{tabular}{r|llll}\n",
       "  & Estimate & Std. Error & t value & Pr(>\\textbar{}t\\textbar{})\\\\\n",
       "\\hline\n",
       "\t(Intercept) & 29.261778   & 19.487234   &  1.50158709 & 0.1364859  \\\\\n",
       "\tAge &  1.876173   &  4.759868   &  0.39416482 & 0.6943336  \\\\\n",
       "\tShapeCylinder & -2.513296   & 27.559110   & -0.09119654 & 0.9275264  \\\\\n",
       "\tAge:ShapeCylinder & -2.964113   &  6.731470   & -0.44033663 & 0.6606832  \\\\\n",
       "\\end{tabular}\n"
      ],
      "text/markdown": [
       "\n",
       "| <!--/--> | Estimate | Std. Error | t value | Pr(>|t|) |\n",
       "|---|---|---|---|---|\n",
       "| (Intercept) | 29.261778   | 19.487234   |  1.50158709 | 0.1364859   |\n",
       "| Age |  1.876173   |  4.759868   |  0.39416482 | 0.6943336   |\n",
       "| ShapeCylinder | -2.513296   | 27.559110   | -0.09119654 | 0.9275264   |\n",
       "| Age:ShapeCylinder | -2.964113   |  6.731470   | -0.44033663 | 0.6606832   |\n",
       "\n"
      ],
      "text/plain": [
       "                  Estimate  Std. Error t value     Pr(>|t|) \n",
       "(Intercept)       29.261778 19.487234   1.50158709 0.1364859\n",
       "Age                1.876173  4.759868   0.39416482 0.6943336\n",
       "ShapeCylinder     -2.513296 27.559110  -0.09119654 0.9275264\n",
       "Age:ShapeCylinder -2.964113  6.731470  -0.44033663 0.6606832"
      ]
     },
     "metadata": {},
     "output_type": "display_data"
    }
   ],
   "source": [
    "coef(summary(lm.1))"
   ]
  },
  {
   "cell_type": "code",
   "execution_count": 6,
   "metadata": {},
   "outputs": [],
   "source": [
    "lm.2 <- lm(Time ~ Age * Trial, data=blocks)"
   ]
  },
  {
   "cell_type": "code",
   "execution_count": 7,
   "metadata": {},
   "outputs": [
    {
     "data": {
      "text/html": [
       "<table>\n",
       "<thead><tr><th></th><th scope=col>Estimate</th><th scope=col>Std. Error</th><th scope=col>t value</th><th scope=col>Pr(&gt;|t|)</th></tr></thead>\n",
       "<tbody>\n",
       "\t<tr><th scope=row>(Intercept)</th><td>41.722726 </td><td>45.454871 </td><td> 0.9178934</td><td>0.3609750 </td></tr>\n",
       "\t<tr><th scope=row>Age</th><td>-3.021738 </td><td>11.102612 </td><td>-0.2721646</td><td>0.7860800 </td></tr>\n",
       "\t<tr><th scope=row>Trial</th><td>-9.145064 </td><td>28.748184 </td><td>-0.3181093</td><td>0.7510930 </td></tr>\n",
       "\t<tr><th scope=row>Age:Trial</th><td> 2.277236 </td><td> 7.021909 </td><td> 0.3243044</td><td>0.7464131 </td></tr>\n",
       "</tbody>\n",
       "</table>\n"
      ],
      "text/latex": [
       "\\begin{tabular}{r|llll}\n",
       "  & Estimate & Std. Error & t value & Pr(>\\textbar{}t\\textbar{})\\\\\n",
       "\\hline\n",
       "\t(Intercept) & 41.722726  & 45.454871  &  0.9178934 & 0.3609750 \\\\\n",
       "\tAge & -3.021738  & 11.102612  & -0.2721646 & 0.7860800 \\\\\n",
       "\tTrial & -9.145064  & 28.748184  & -0.3181093 & 0.7510930 \\\\\n",
       "\tAge:Trial &  2.277236  &  7.021909  &  0.3243044 & 0.7464131 \\\\\n",
       "\\end{tabular}\n"
      ],
      "text/markdown": [
       "\n",
       "| <!--/--> | Estimate | Std. Error | t value | Pr(>|t|) |\n",
       "|---|---|---|---|---|\n",
       "| (Intercept) | 41.722726  | 45.454871  |  0.9178934 | 0.3609750  |\n",
       "| Age | -3.021738  | 11.102612  | -0.2721646 | 0.7860800  |\n",
       "| Trial | -9.145064  | 28.748184  | -0.3181093 | 0.7510930  |\n",
       "| Age:Trial |  2.277236  |  7.021909  |  0.3243044 | 0.7464131  |\n",
       "\n"
      ],
      "text/plain": [
       "            Estimate  Std. Error t value    Pr(>|t|) \n",
       "(Intercept) 41.722726 45.454871   0.9178934 0.3609750\n",
       "Age         -3.021738 11.102612  -0.2721646 0.7860800\n",
       "Trial       -9.145064 28.748184  -0.3181093 0.7510930\n",
       "Age:Trial    2.277236  7.021909   0.3243044 0.7464131"
      ]
     },
     "metadata": {},
     "output_type": "display_data"
    }
   ],
   "source": [
    "coef(summary(lm.2))"
   ]
  },
  {
   "cell_type": "code",
   "execution_count": 8,
   "metadata": {},
   "outputs": [],
   "source": [
    "lm.3 <- lm(Time ~ (Age + Shape) * Trial, data=blocks)"
   ]
  },
  {
   "cell_type": "code",
   "execution_count": 9,
   "metadata": {},
   "outputs": [
    {
     "data": {
      "text/html": [
       "<table>\n",
       "<thead><tr><th></th><th scope=col>Estimate</th><th scope=col>Std. Error</th><th scope=col>t value</th><th scope=col>Pr(&gt;|t|)</th></tr></thead>\n",
       "<tbody>\n",
       "\t<tr><th scope=row>(Intercept)</th><td> 53.326726</td><td>44.69058  </td><td> 1.1932431</td><td>0.2357772 </td></tr>\n",
       "\t<tr><th scope=row>Age</th><td> -3.021738</td><td>10.74128  </td><td>-0.2813202</td><td>0.7790832 </td></tr>\n",
       "\t<tr><th scope=row>ShapeCylinder</th><td>-23.208000</td><td>15.92481  </td><td>-1.4573491</td><td>0.1483527 </td></tr>\n",
       "\t<tr><th scope=row>Trial</th><td>-12.065064</td><td>28.26480  </td><td>-0.4268582</td><td>0.6704587 </td></tr>\n",
       "\t<tr><th scope=row>Age:Trial</th><td>  2.277236</td><td> 6.79338  </td><td> 0.3352140</td><td>0.7382106 </td></tr>\n",
       "\t<tr><th scope=row>ShapeCylinder:Trial</th><td>  5.840000</td><td>10.07173  </td><td> 0.5798407</td><td>0.5634093 </td></tr>\n",
       "</tbody>\n",
       "</table>\n"
      ],
      "text/latex": [
       "\\begin{tabular}{r|llll}\n",
       "  & Estimate & Std. Error & t value & Pr(>\\textbar{}t\\textbar{})\\\\\n",
       "\\hline\n",
       "\t(Intercept) &  53.326726 & 44.69058   &  1.1932431 & 0.2357772 \\\\\n",
       "\tAge &  -3.021738 & 10.74128   & -0.2813202 & 0.7790832 \\\\\n",
       "\tShapeCylinder & -23.208000 & 15.92481   & -1.4573491 & 0.1483527 \\\\\n",
       "\tTrial & -12.065064 & 28.26480   & -0.4268582 & 0.6704587 \\\\\n",
       "\tAge:Trial &   2.277236 &  6.79338   &  0.3352140 & 0.7382106 \\\\\n",
       "\tShapeCylinder:Trial &   5.840000 & 10.07173   &  0.5798407 & 0.5634093 \\\\\n",
       "\\end{tabular}\n"
      ],
      "text/markdown": [
       "\n",
       "| <!--/--> | Estimate | Std. Error | t value | Pr(>|t|) |\n",
       "|---|---|---|---|---|\n",
       "| (Intercept) |  53.326726 | 44.69058   |  1.1932431 | 0.2357772  |\n",
       "| Age |  -3.021738 | 10.74128   | -0.2813202 | 0.7790832  |\n",
       "| ShapeCylinder | -23.208000 | 15.92481   | -1.4573491 | 0.1483527  |\n",
       "| Trial | -12.065064 | 28.26480   | -0.4268582 | 0.6704587  |\n",
       "| Age:Trial |   2.277236 |  6.79338   |  0.3352140 | 0.7382106  |\n",
       "| ShapeCylinder:Trial |   5.840000 | 10.07173   |  0.5798407 | 0.5634093  |\n",
       "\n"
      ],
      "text/plain": [
       "                    Estimate   Std. Error t value    Pr(>|t|) \n",
       "(Intercept)          53.326726 44.69058    1.1932431 0.2357772\n",
       "Age                  -3.021738 10.74128   -0.2813202 0.7790832\n",
       "ShapeCylinder       -23.208000 15.92481   -1.4573491 0.1483527\n",
       "Trial               -12.065064 28.26480   -0.4268582 0.6704587\n",
       "Age:Trial             2.277236  6.79338    0.3352140 0.7382106\n",
       "ShapeCylinder:Trial   5.840000 10.07173    0.5798407 0.5634093"
      ]
     },
     "metadata": {},
     "output_type": "display_data"
    }
   ],
   "source": [
    "coef(summary(lm.3))"
   ]
  },
  {
   "cell_type": "code",
   "execution_count": 12,
   "metadata": {},
   "outputs": [
    {
     "data": {
      "image/png": "[encoded data removed]",
      "text/plain": [
       "Plot with title \"Normal Q-Q Plot\""
      ]
     },
     "metadata": {},
     "output_type": "display_data"
    }
   ],
   "source": [
    "par(mfrow=c(3, 2))\n",
    "scatter.smooth(rstandard(lm.1) ~ fitted(lm.1))\n",
    "termplot(lm.1, partial.resid = TRUE, terms=\"Age\")\n",
    "qqnorm(rstandard(lm.1))\n",
    "qqline(rstandard(lm.1))\n",
    "plot(cooks.distance(lm.1), type=\"h\")"
   ]
  },
  {
   "cell_type": "code",
   "execution_count": 16,
   "metadata": {},
   "outputs": [
    {
     "data": {
      "image/png": "[encoded data removed]",
      "text/plain": [
       "Plot with title \"Normal Q-Q Plot\""
      ]
     },
     "metadata": {},
     "output_type": "display_data"
    }
   ],
   "source": [
    "par(mfrow=c(3, 2))\n",
    "scatter.smooth(rstandard(lm.2) ~ fitted(lm.2))\n",
    "termplot(lm.2, partial.resid = TRUE, terms=\"Age\")\n",
    "qqnorm(rstandard(lm.2))\n",
    "qqline(rstandard(lm.2))\n",
    "plot(cooks.distance(lm.2), type=\"h\")\n",
    "plot(dffits(lm.2), type=\"h\")\n",
    "plot(dfbetas(lm.2), type=\"h\")"
   ]
  },
  {
   "cell_type": "code",
   "execution_count": 17,
   "metadata": {},
   "outputs": [
    {
     "data": {
      "image/png": "[encoded data removed]",
      "text/plain": [
       "Plot with title \"Normal Q-Q Plot\""
      ]
     },
     "metadata": {},
     "output_type": "display_data"
    }
   ],
   "source": [
    "par(mfrow=c(3, 2))\n",
    "scatter.smooth(rstandard(lm.3) ~ fitted(lm.3))\n",
    "termplot(lm.3, partial.resid = TRUE, terms=\"Age\")\n",
    "qqnorm(rstandard(lm.3))\n",
    "qqline(rstandard(lm.3))\n",
    "plot(cooks.distance(lm.3), type=\"h\")\n",
    "plot(dffits(lm.3), type=\"h\")\n",
    "plot(dfbetas(lm.3), type=\"h\")"
   ]
  },
  {
   "cell_type": "code",
   "execution_count": 19,
   "metadata": {},
   "outputs": [
    {
     "data": {
      "image/png": "[encoded data removed]",
      "text/plain": [
       "plot without title"
      ]
     },
     "metadata": {},
     "output_type": "display_data"
    }
   ],
   "source": [
    "boxcox(Time ~ Age * Shape, lambda=seq(-2, 2, length=50), data=blocks)"
   ]
  },
  {
   "cell_type": "code",
   "execution_count": 20,
   "metadata": {},
   "outputs": [],
   "source": [
    "lm.1.log <- update(lm.1, log(Time) ~ .)"
   ]
  },
  {
   "cell_type": "code",
   "execution_count": 23,
   "metadata": {},
   "outputs": [
    {
     "data": {
      "text/html": [
       "<table>\n",
       "<thead><tr><th></th><th scope=col>Df</th><th scope=col>Sum Sq</th><th scope=col>Mean Sq</th><th scope=col>F value</th><th scope=col>Pr(&gt;F)</th></tr></thead>\n",
       "<tbody>\n",
       "\t<tr><th scope=row>Age</th><td> 1          </td><td>8.063286e-05</td><td>8.063286e-05</td><td>1.904824e-04</td><td>0.9890169583</td></tr>\n",
       "\t<tr><th scope=row>Shape</th><td> 1          </td><td>6.282826e+00</td><td>6.282826e+00</td><td>1.484219e+01</td><td>0.0002110496</td></tr>\n",
       "\t<tr><th scope=row>Age:Shape</th><td> 1          </td><td>3.068779e-01</td><td>3.068779e-01</td><td>7.249506e-01</td><td>0.3966437061</td></tr>\n",
       "\t<tr><th scope=row>Residuals</th><td>96          </td><td>4.063763e+01</td><td>4.233086e-01</td><td>          NA</td><td>          NA</td></tr>\n",
       "</tbody>\n",
       "</table>\n"
      ],
      "text/latex": [
       "\\begin{tabular}{r|lllll}\n",
       "  & Df & Sum Sq & Mean Sq & F value & Pr(>F)\\\\\n",
       "\\hline\n",
       "\tAge &  1           & 8.063286e-05 & 8.063286e-05 & 1.904824e-04 & 0.9890169583\\\\\n",
       "\tShape &  1           & 6.282826e+00 & 6.282826e+00 & 1.484219e+01 & 0.0002110496\\\\\n",
       "\tAge:Shape &  1           & 3.068779e-01 & 3.068779e-01 & 7.249506e-01 & 0.3966437061\\\\\n",
       "\tResiduals & 96           & 4.063763e+01 & 4.233086e-01 &           NA &           NA\\\\\n",
       "\\end{tabular}\n"
      ],
      "text/markdown": [
       "\n",
       "| <!--/--> | Df | Sum Sq | Mean Sq | F value | Pr(>F) |\n",
       "|---|---|---|---|---|---|\n",
       "| Age |  1           | 8.063286e-05 | 8.063286e-05 | 1.904824e-04 | 0.9890169583 |\n",
       "| Shape |  1           | 6.282826e+00 | 6.282826e+00 | 1.484219e+01 | 0.0002110496 |\n",
       "| Age:Shape |  1           | 3.068779e-01 | 3.068779e-01 | 7.249506e-01 | 0.3966437061 |\n",
       "| Residuals | 96           | 4.063763e+01 | 4.233086e-01 |           NA |           NA |\n",
       "\n"
      ],
      "text/plain": [
       "          Df Sum Sq       Mean Sq      F value      Pr(>F)      \n",
       "Age        1 8.063286e-05 8.063286e-05 1.904824e-04 0.9890169583\n",
       "Shape      1 6.282826e+00 6.282826e+00 1.484219e+01 0.0002110496\n",
       "Age:Shape  1 3.068779e-01 3.068779e-01 7.249506e-01 0.3966437061\n",
       "Residuals 96 4.063763e+01 4.233086e-01           NA           NA"
      ]
     },
     "metadata": {},
     "output_type": "display_data"
    }
   ],
   "source": [
    "anova(lm.1.log)"
   ]
  },
  {
   "cell_type": "code",
   "execution_count": 32,
   "metadata": {},
   "outputs": [
    {
     "data": {
      "text/html": [
       "<ol class=list-inline>\n",
       "\t<li>4</li>\n",
       "\t<li>-82.0475710304618</li>\n",
       "</ol>\n"
      ],
      "text/latex": [
       "\\begin{enumerate*}\n",
       "\\item 4\n",
       "\\item -82.0475710304618\n",
       "\\end{enumerate*}\n"
      ],
      "text/markdown": [
       "1. 4\n",
       "2. -82.0475710304618\n",
       "\n",
       "\n"
      ],
      "text/plain": [
       "[1]   4.00000 -82.04757"
      ]
     },
     "metadata": {},
     "output_type": "display_data"
    },
    {
     "data": {
      "text/html": [
       "<ol class=list-inline>\n",
       "\t<li>4</li>\n",
       "\t<li>647.291462157322</li>\n",
       "</ol>\n"
      ],
      "text/latex": [
       "\\begin{enumerate*}\n",
       "\\item 4\n",
       "\\item 647.291462157322\n",
       "\\end{enumerate*}\n"
      ],
      "text/markdown": [
       "1. 4\n",
       "2. 647.291462157322\n",
       "\n",
       "\n"
      ],
      "text/plain": [
       "[1]   4.0000 647.2915"
      ]
     },
     "metadata": {},
     "output_type": "display_data"
    }
   ],
   "source": [
    "extractAIC(lm.1.log); extractAIC(lm.1)"
   ]
  },
  {
   "cell_type": "code",
   "execution_count": 21,
   "metadata": {},
   "outputs": [
    {
     "name": "stdout",
     "output_type": "stream",
     "text": [
      "                   Estimate Std. Error t value  Pr(>|t|)    \n",
      "(Intercept)        3.086896   0.508172  6.0745 2.494e-08 ***\n",
      "Age                0.073519   0.124124  0.5923    0.5550    \n",
      "ShapeCylinder      0.100474   0.718664  0.1398    0.8891    \n",
      "Age:ShapeCylinder -0.149460   0.175538 -0.8514    0.3966    \n",
      "---\n",
      "Signif. codes:  0 '***' 0.001 '**' 0.01 '*' 0.05 '.' 0.1 ' ' 1\n"
     ]
    }
   ],
   "source": [
    "printCoefmat(coef(summary(lm.1.log)))"
   ]
  },
  {
   "cell_type": "code",
   "execution_count": 30,
   "metadata": {},
   "outputs": [
    {
     "data": {
      "image/png": "[encoded data removed]",
      "text/plain": [
       "Plot with title \"Normal Q-Q Plot\""
      ]
     },
     "metadata": {},
     "output_type": "display_data"
    }
   ],
   "source": [
    "par(mfrow=c(3, 2))\n",
    "scatter.smooth(rstandard(lm.1.log) ~ fitted(lm.1.log))\n",
    "scatter.smooth(rstandard(lm.1.log) ~ blocks$Age)\n",
    "termplot(lm.1.log, partial.resid = TRUE, terms=\"Age\")\n",
    "qqnorm(rstandard(lm.1.log))\n",
    "qqline(rstandard(lm.1.log))\n",
    "plot(cooks.distance(lm.1.log), type=\"h\")\n",
    "plot(dffits(lm.1.log), type=\"h\")"
   ]
  },
  {
   "cell_type": "code",
   "execution_count": 24,
   "metadata": {},
   "outputs": [
    {
     "data": {
      "image/png": "[encoded data removed]",
      "text/plain": [
       "plot without title"
      ]
     },
     "metadata": {},
     "output_type": "display_data"
    }
   ],
   "source": [
    "boxcox(Time ~ Age * Trial, lambda=seq(-2, 2, length=50), data=blocks)"
   ]
  },
  {
   "cell_type": "code",
   "execution_count": 25,
   "metadata": {},
   "outputs": [],
   "source": [
    "lm.2.log <- update(lm.1, log(Time) ~ .)"
   ]
  },
  {
   "cell_type": "code",
   "execution_count": 26,
   "metadata": {},
   "outputs": [
    {
     "name": "stdout",
     "output_type": "stream",
     "text": [
      "                   Estimate Std. Error t value  Pr(>|t|)    \n",
      "(Intercept)        3.086896   0.508172  6.0745 2.494e-08 ***\n",
      "Age                0.073519   0.124124  0.5923    0.5550    \n",
      "ShapeCylinder      0.100474   0.718664  0.1398    0.8891    \n",
      "Age:ShapeCylinder -0.149460   0.175538 -0.8514    0.3966    \n",
      "---\n",
      "Signif. codes:  0 '***' 0.001 '**' 0.01 '*' 0.05 '.' 0.1 ' ' 1\n"
     ]
    }
   ],
   "source": [
    "printCoefmat(coef(summary(lm.2.log)))"
   ]
  }
 ],
 "metadata": {
  "kernelspec": {
   "display_name": "R",
   "language": "R",
   "name": "ir"
  },
  "language_info": {
   "codemirror_mode": "r",
   "file_extension": ".r",
   "mimetype": "text/x-r-source",
   "name": "R",
   "pygments_lexer": "r",
   "version": "3.6.1"
  },
  "orig_nbformat": 4
 },
 "nbformat": 4,
 "nbformat_minor": 2
}
