{
 "cells": [
  {
   "cell_type": "code",
   "execution_count": 1,
   "metadata": {},
   "outputs": [],
   "source": [
    "library(GLMsData)\n",
    "data(flowers)"
   ]
  },
  {
   "cell_type": "code",
   "execution_count": 2,
   "metadata": {},
   "outputs": [
    {
     "name": "stdout",
     "output_type": "stream",
     "text": [
      "'data.frame':\t24 obs. of  3 variables:\n",
      " $ Flowers: num  62.4 77.1 77.7 75.4 55.7 54.2 68.9 78.2 49.5 62 ...\n",
      " $ Light  : int  150 150 150 150 300 300 300 300 450 450 ...\n",
      " $ Timing : Factor w/ 2 levels \"Before\",\"PFI\": 2 2 1 1 2 2 1 1 2 2 ...\n"
     ]
    }
   ],
   "source": [
    "str(flowers)"
   ]
  },
  {
   "cell_type": "code",
   "execution_count": 3,
   "metadata": {},
   "outputs": [],
   "source": [
    "lm.1 <- lm(Flowers ~ Light + factor(Timing), data=flowers)"
   ]
  },
  {
   "cell_type": "code",
   "execution_count": 4,
   "metadata": {},
   "outputs": [
    {
     "data": {
      "text/html": [
       "<table>\n",
       "<thead><tr><th></th><th scope=col>Estimate</th><th scope=col>Std. Error</th><th scope=col>t value</th><th scope=col>Pr(&gt;|t|)</th></tr></thead>\n",
       "<tbody>\n",
       "\t<tr><th scope=row>(Intercept)</th><td> 83.39916667</td><td>3.289524528 </td><td>25.352955   </td><td>3.119823e-17</td></tr>\n",
       "\t<tr><th scope=row>Light</th><td> -0.04049048</td><td>0.005157065 </td><td>-7.851457   </td><td>1.110707e-07</td></tr>\n",
       "\t<tr><th scope=row>factor(Timing)PFI</th><td>-12.09166667</td><td>2.642209684 </td><td>-4.576346   </td><td>1.638763e-04</td></tr>\n",
       "</tbody>\n",
       "</table>\n"
      ],
      "text/latex": [
       "\\begin{tabular}{r|llll}\n",
       "  & Estimate & Std. Error & t value & Pr(>\\textbar{}t\\textbar{})\\\\\n",
       "\\hline\n",
       "\t(Intercept) &  83.39916667 & 3.289524528  & 25.352955    & 3.119823e-17\\\\\n",
       "\tLight &  -0.04049048 & 0.005157065  & -7.851457    & 1.110707e-07\\\\\n",
       "\tfactor(Timing)PFI & -12.09166667 & 2.642209684  & -4.576346    & 1.638763e-04\\\\\n",
       "\\end{tabular}\n"
      ],
      "text/markdown": [
       "\n",
       "| <!--/--> | Estimate | Std. Error | t value | Pr(>|t|) |\n",
       "|---|---|---|---|---|\n",
       "| (Intercept) |  83.39916667 | 3.289524528  | 25.352955    | 3.119823e-17 |\n",
       "| Light |  -0.04049048 | 0.005157065  | -7.851457    | 1.110707e-07 |\n",
       "| factor(Timing)PFI | -12.09166667 | 2.642209684  | -4.576346    | 1.638763e-04 |\n",
       "\n"
      ],
      "text/plain": [
       "                  Estimate     Std. Error  t value   Pr(>|t|)    \n",
       "(Intercept)        83.39916667 3.289524528 25.352955 3.119823e-17\n",
       "Light              -0.04049048 0.005157065 -7.851457 1.110707e-07\n",
       "factor(Timing)PFI -12.09166667 2.642209684 -4.576346 1.638763e-04"
      ]
     },
     "metadata": {},
     "output_type": "display_data"
    }
   ],
   "source": [
    "coef(summary(lm.1))"
   ]
  },
  {
   "cell_type": "code",
   "execution_count": 5,
   "metadata": {},
   "outputs": [
    {
     "data": {
      "text/html": [
       "<table>\n",
       "<thead><tr><th></th><th scope=col>Df</th><th scope=col>Sum Sq</th><th scope=col>Mean Sq</th><th scope=col>F value</th><th scope=col>Pr(&gt;F)</th></tr></thead>\n",
       "<tbody>\n",
       "\t<tr><th scope=row>Light</th><td> 1          </td><td>2582.1789   </td><td>2582.17889  </td><td>61.64538    </td><td>1.110707e-07</td></tr>\n",
       "\t<tr><th scope=row>factor(Timing)</th><td> 1          </td><td> 877.2504   </td><td> 877.25042  </td><td>20.94295    </td><td>1.638763e-04</td></tr>\n",
       "\t<tr><th scope=row>Residuals</th><td>21          </td><td> 879.6403   </td><td>  41.88763  </td><td>      NA    </td><td>          NA</td></tr>\n",
       "</tbody>\n",
       "</table>\n"
      ],
      "text/latex": [
       "\\begin{tabular}{r|lllll}\n",
       "  & Df & Sum Sq & Mean Sq & F value & Pr(>F)\\\\\n",
       "\\hline\n",
       "\tLight &  1           & 2582.1789    & 2582.17889   & 61.64538     & 1.110707e-07\\\\\n",
       "\tfactor(Timing) &  1           &  877.2504    &  877.25042   & 20.94295     & 1.638763e-04\\\\\n",
       "\tResiduals & 21           &  879.6403    &   41.88763   &       NA     &           NA\\\\\n",
       "\\end{tabular}\n"
      ],
      "text/markdown": [
       "\n",
       "| <!--/--> | Df | Sum Sq | Mean Sq | F value | Pr(>F) |\n",
       "|---|---|---|---|---|---|\n",
       "| Light |  1           | 2582.1789    | 2582.17889   | 61.64538     | 1.110707e-07 |\n",
       "| factor(Timing) |  1           |  877.2504    |  877.25042   | 20.94295     | 1.638763e-04 |\n",
       "| Residuals | 21           |  879.6403    |   41.88763   |       NA     |           NA |\n",
       "\n"
      ],
      "text/plain": [
       "               Df Sum Sq    Mean Sq    F value  Pr(>F)      \n",
       "Light           1 2582.1789 2582.17889 61.64538 1.110707e-07\n",
       "factor(Timing)  1  877.2504  877.25042 20.94295 1.638763e-04\n",
       "Residuals      21  879.6403   41.88763       NA           NA"
      ]
     },
     "metadata": {},
     "output_type": "display_data"
    }
   ],
   "source": [
    "anova(lm.1)"
   ]
  },
  {
   "cell_type": "code",
   "execution_count": 13,
   "metadata": {},
   "outputs": [
    {
     "data": {
      "image/png": "[encoded data removed]",
      "text/plain": [
       "Plot with title \"Normal Q-Q Plot\""
      ]
     },
     "metadata": {},
     "output_type": "display_data"
    }
   ],
   "source": [
    "par(mfrow=c(3, 2))\n",
    "\n",
    "scatter.smooth(rstandard(lm.1) ~ fitted(lm.1))\n",
    "termplot(lm.1, partial.resid = TRUE, terms=\"Light\")\n",
    "qqnorm(rstandard(lm.1))\n",
    "qqline(rstandard(lm.1))\n",
    "plot(cooks.distance(lm.1), type=\"h\")\n",
    "scatter.smooth(rstandard(lm.1) ~ flowers$Light)"
   ]
  },
  {
   "cell_type": "code",
   "execution_count": 8,
   "metadata": {},
   "outputs": [],
   "source": [
    "cook_thres <- qf(0.5, 2, 21)"
   ]
  },
  {
   "cell_type": "code",
   "execution_count": 9,
   "metadata": {},
   "outputs": [],
   "source": [
    "greater.thres <- which(cooks.distance(lm.1) > cook_thres)"
   ]
  },
  {
   "cell_type": "code",
   "execution_count": 10,
   "metadata": {},
   "outputs": [
    {
     "data": {
      "text/html": [],
      "text/latex": [],
      "text/markdown": [],
      "text/plain": [
       "named integer(0)"
      ]
     },
     "metadata": {},
     "output_type": "display_data"
    }
   ],
   "source": [
    "greater.thres"
   ]
  },
  {
   "cell_type": "code",
   "execution_count": 14,
   "metadata": {},
   "outputs": [
    {
     "data": {
      "text/plain": [
       "Influence measures of\n",
       "\t lm(formula = Flowers ~ Light + factor(Timing), data = flowers) :\n",
       "\n",
       "    dfb.1_ dfb.Lght dfb.f.T.   dffit cov.r   cook.d    hat inf\n",
       "1  -0.1277   0.1552  -0.1060 -0.2158 1.353 0.016116 0.1726    \n",
       "2   0.5922  -0.7195   0.4915  1.0005 0.734 0.282543 0.1726    \n",
       "3   0.0280  -0.0204  -0.0139  0.0284 1.398 0.000281 0.1726    \n",
       "4  -0.1442   0.1051   0.0718 -0.1462 1.378 0.007440 0.1726    \n",
       "5  -0.0877   0.1066  -0.1213 -0.2020 1.249 0.014064 0.1155    \n",
       "6  -0.1268   0.1541  -0.1754 -0.2920 1.188 0.028900 0.1155    \n",
       "7  -0.1254   0.0721   0.0821 -0.1367 1.281 0.006498 0.1155    \n",
       "8   0.3810  -0.2193  -0.2496  0.4156 1.080 0.056700 0.1155    \n",
       "9  -0.0294   0.0357  -0.1219 -0.1760 1.208 0.010671 0.0869    \n",
       "10  0.0763  -0.0927   0.3165  0.4571 0.928 0.065898 0.0869    \n",
       "11 -0.2927   0.0821   0.2803 -0.4048 0.990 0.052801 0.0869    \n",
       "12  0.2056  -0.0577  -0.1969  0.2844 1.119 0.027154 0.0869    \n",
       "13  0.0651  -0.0791  -0.2702 -0.3902 1.006 0.049349 0.0869    \n",
       "14  0.0139  -0.0169  -0.0579 -0.0836 1.254 0.002435 0.0869    \n",
       "15  0.0726   0.0378  -0.1291  0.1864 1.201 0.011947 0.0869    \n",
       "16 -0.1370  -0.0713   0.2437 -0.3519 1.049 0.040701 0.0869    \n",
       "17  0.2707  -0.3289  -0.3744 -0.6234 0.863 0.118387 0.1155    \n",
       "18 -0.1084   0.1318   0.1500  0.2497 1.219 0.021319 0.1155    \n",
       "19  0.0207   0.2267  -0.2581  0.4297 1.066 0.060360 0.1155    \n",
       "20 -0.0215  -0.2356   0.2683 -0.4466 1.049 0.064863 0.1155    \n",
       "21 -0.0869   0.1056   0.0721  0.1468 1.378 0.007505 0.1726    \n",
       "22 -0.3416   0.4150   0.2835  0.5770 1.111 0.107930 0.1726    \n",
       "23 -0.0846   0.3084  -0.2107  0.4288 1.229 0.061637 0.1726    \n",
       "24  0.0429  -0.1565   0.1069 -0.2176 1.353 0.016388 0.1726    "
      ]
     },
     "metadata": {},
     "output_type": "display_data"
    }
   ],
   "source": [
    "influence.measures(lm.1)"
   ]
  },
  {
   "cell_type": "code",
   "execution_count": 16,
   "metadata": {},
   "outputs": [
    {
     "data": {
      "text/html": [
       "<dl class=dl-horizontal>\n",
       "\t<dt>1</dt>\n",
       "\t\t<dd>0</dd>\n",
       "\t<dt>2</dt>\n",
       "\t\t<dd>0</dd>\n",
       "\t<dt>3</dt>\n",
       "\t\t<dd>0</dd>\n",
       "\t<dt>4</dt>\n",
       "\t\t<dd>0</dd>\n",
       "\t<dt>5</dt>\n",
       "\t\t<dd>0</dd>\n",
       "\t<dt>6</dt>\n",
       "\t\t<dd>0</dd>\n",
       "\t<dt>7</dt>\n",
       "\t\t<dd>0</dd>\n",
       "\t<dt>8</dt>\n",
       "\t\t<dd>0</dd>\n",
       "\t<dt>9</dt>\n",
       "\t\t<dd>0</dd>\n",
       "\t<dt>10</dt>\n",
       "\t\t<dd>0</dd>\n",
       "\t<dt>11</dt>\n",
       "\t\t<dd>0</dd>\n",
       "\t<dt>12</dt>\n",
       "\t\t<dd>0</dd>\n",
       "\t<dt>13</dt>\n",
       "\t\t<dd>0</dd>\n",
       "\t<dt>14</dt>\n",
       "\t\t<dd>0</dd>\n",
       "\t<dt>15</dt>\n",
       "\t\t<dd>0</dd>\n",
       "\t<dt>16</dt>\n",
       "\t\t<dd>0</dd>\n",
       "\t<dt>17</dt>\n",
       "\t\t<dd>0</dd>\n",
       "\t<dt>18</dt>\n",
       "\t\t<dd>0</dd>\n",
       "\t<dt>19</dt>\n",
       "\t\t<dd>0</dd>\n",
       "\t<dt>20</dt>\n",
       "\t\t<dd>0</dd>\n",
       "\t<dt>21</dt>\n",
       "\t\t<dd>0</dd>\n",
       "\t<dt>22</dt>\n",
       "\t\t<dd>0</dd>\n",
       "\t<dt>23</dt>\n",
       "\t\t<dd>0</dd>\n",
       "\t<dt>24</dt>\n",
       "\t\t<dd>0</dd>\n",
       "</dl>\n"
      ],
      "text/latex": [
       "\\begin{description*}\n",
       "\\item[1] 0\n",
       "\\item[2] 0\n",
       "\\item[3] 0\n",
       "\\item[4] 0\n",
       "\\item[5] 0\n",
       "\\item[6] 0\n",
       "\\item[7] 0\n",
       "\\item[8] 0\n",
       "\\item[9] 0\n",
       "\\item[10] 0\n",
       "\\item[11] 0\n",
       "\\item[12] 0\n",
       "\\item[13] 0\n",
       "\\item[14] 0\n",
       "\\item[15] 0\n",
       "\\item[16] 0\n",
       "\\item[17] 0\n",
       "\\item[18] 0\n",
       "\\item[19] 0\n",
       "\\item[20] 0\n",
       "\\item[21] 0\n",
       "\\item[22] 0\n",
       "\\item[23] 0\n",
       "\\item[24] 0\n",
       "\\end{description*}\n"
      ],
      "text/markdown": [
       "1\n",
       ":   02\n",
       ":   03\n",
       ":   04\n",
       ":   05\n",
       ":   06\n",
       ":   07\n",
       ":   08\n",
       ":   09\n",
       ":   010\n",
       ":   011\n",
       ":   012\n",
       ":   013\n",
       ":   014\n",
       ":   015\n",
       ":   016\n",
       ":   017\n",
       ":   018\n",
       ":   019\n",
       ":   020\n",
       ":   021\n",
       ":   022\n",
       ":   023\n",
       ":   024\n",
       ":   0\n",
       "\n"
      ],
      "text/plain": [
       " 1  2  3  4  5  6  7  8  9 10 11 12 13 14 15 16 17 18 19 20 21 22 23 24 \n",
       " 0  0  0  0  0  0  0  0  0  0  0  0  0  0  0  0  0  0  0  0  0  0  0  0 "
      ]
     },
     "metadata": {},
     "output_type": "display_data"
    }
   ],
   "source": [
    "rowSums(influence.measures(lm.1)$is.inf)"
   ]
  }
 ],
 "metadata": {
  "kernelspec": {
   "display_name": "R",
   "language": "R",
   "name": "ir"
  },
  "language_info": {
   "codemirror_mode": "r",
   "file_extension": ".r",
   "mimetype": "text/x-r-source",
   "name": "R",
   "pygments_lexer": "r",
   "version": "3.6.1"
  },
  "orig_nbformat": 4
 },
 "nbformat": 4,
 "nbformat_minor": 2
}
