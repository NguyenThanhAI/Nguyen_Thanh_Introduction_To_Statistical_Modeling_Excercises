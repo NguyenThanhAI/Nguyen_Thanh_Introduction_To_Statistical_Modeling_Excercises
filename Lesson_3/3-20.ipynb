{
 "cells": [
  {
   "cell_type": "code",
   "execution_count": 2,
   "metadata": {},
   "outputs": [],
   "source": [
    "library(GLMsData)\n",
    "library(MASS)\n",
    "data(wheatrain)"
   ]
  },
  {
   "cell_type": "code",
   "execution_count": 3,
   "metadata": {},
   "outputs": [
    {
     "name": "stdout",
     "output_type": "stream",
     "text": [
      "'data.frame':\t24 obs. of  6 variables:\n",
      " $ Station: Factor w/ 24 levels \"Bardine\",\"Barraba\",..: 11 4 6 10 16 20 23 21 1 14 ...\n",
      " $ Alt    : num  216 199 180 278 177 ...\n",
      " $ Lat    : num  28.5 33.1 31 31.7 31.6 ...\n",
      " $ Lon    : num  150 147 148 149 147 ...\n",
      " $ AR     : int  529 447 505 563 440 518 492 483 585 569 ...\n",
      " $ Region : int  3 1 1 2 1 1 1 1 3 3 ...\n"
     ]
    }
   ],
   "source": [
    "str(wheatrain)"
   ]
  },
  {
   "cell_type": "code",
   "execution_count": 5,
   "metadata": {},
   "outputs": [
    {
     "data": {
      "image/png": "[encoded data removed]",
      "text/plain": [
       "plot without title"
      ]
     },
     "metadata": {},
     "output_type": "display_data"
    }
   ],
   "source": [
    "par(mfrow=c(1, 2))\n",
    "boxplot(AR ~ Region, data=wheatrain)\n",
    "plot(AR ~ Alt, data=wheatrain)"
   ]
  },
  {
   "cell_type": "code",
   "execution_count": 6,
   "metadata": {},
   "outputs": [],
   "source": [
    "lm.1 <- lm(AR ~ Region*Alt, data=wheatrain)"
   ]
  },
  {
   "cell_type": "code",
   "execution_count": 7,
   "metadata": {},
   "outputs": [
    {
     "data": {
      "text/html": [
       "<table>\n",
       "<thead><tr><th></th><th scope=col>Estimate</th><th scope=col>Std. Error</th><th scope=col>t value</th><th scope=col>Pr(&gt;|t|)</th></tr></thead>\n",
       "<tbody>\n",
       "\t<tr><th scope=row>(Intercept)</th><td>332.52429353</td><td>68.8263789  </td><td> 4.8313495  </td><td>0.0001013849</td></tr>\n",
       "\t<tr><th scope=row>Region</th><td> 45.36876751</td><td>30.1454349  </td><td> 1.5049963  </td><td>0.1479549921</td></tr>\n",
       "\t<tr><th scope=row>Alt</th><td>  0.61301883</td><td> 0.2974148  </td><td> 2.0611577  </td><td>0.0525299411</td></tr>\n",
       "\t<tr><th scope=row>Region:Alt</th><td> -0.03653997</td><td> 0.1170245  </td><td>-0.3122421  </td><td>0.7580886394</td></tr>\n",
       "</tbody>\n",
       "</table>\n"
      ],
      "text/latex": [
       "\\begin{tabular}{r|llll}\n",
       "  & Estimate & Std. Error & t value & Pr(>\\textbar{}t\\textbar{})\\\\\n",
       "\\hline\n",
       "\t(Intercept) & 332.52429353 & 68.8263789   &  4.8313495   & 0.0001013849\\\\\n",
       "\tRegion &  45.36876751 & 30.1454349   &  1.5049963   & 0.1479549921\\\\\n",
       "\tAlt &   0.61301883 &  0.2974148   &  2.0611577   & 0.0525299411\\\\\n",
       "\tRegion:Alt &  -0.03653997 &  0.1170245   & -0.3122421   & 0.7580886394\\\\\n",
       "\\end{tabular}\n"
      ],
      "text/markdown": [
       "\n",
       "| <!--/--> | Estimate | Std. Error | t value | Pr(>|t|) |\n",
       "|---|---|---|---|---|\n",
       "| (Intercept) | 332.52429353 | 68.8263789   |  4.8313495   | 0.0001013849 |\n",
       "| Region |  45.36876751 | 30.1454349   |  1.5049963   | 0.1479549921 |\n",
       "| Alt |   0.61301883 |  0.2974148   |  2.0611577   | 0.0525299411 |\n",
       "| Region:Alt |  -0.03653997 |  0.1170245   | -0.3122421   | 0.7580886394 |\n",
       "\n"
      ],
      "text/plain": [
       "            Estimate     Std. Error t value    Pr(>|t|)    \n",
       "(Intercept) 332.52429353 68.8263789  4.8313495 0.0001013849\n",
       "Region       45.36876751 30.1454349  1.5049963 0.1479549921\n",
       "Alt           0.61301883  0.2974148  2.0611577 0.0525299411\n",
       "Region:Alt   -0.03653997  0.1170245 -0.3122421 0.7580886394"
      ]
     },
     "metadata": {},
     "output_type": "display_data"
    }
   ],
   "source": [
    "coef(summary(lm.1))"
   ]
  },
  {
   "cell_type": "code",
   "execution_count": 8,
   "metadata": {},
   "outputs": [
    {
     "data": {
      "text/html": [
       "<table>\n",
       "<thead><tr><th></th><th scope=col>Df</th><th scope=col>Sum Sq</th><th scope=col>Mean Sq</th><th scope=col>F value</th><th scope=col>Pr(&gt;F)</th></tr></thead>\n",
       "<tbody>\n",
       "\t<tr><th scope=row>Region</th><td> 1          </td><td>86532.7686  </td><td>86532.7686  </td><td>55.7916992  </td><td>3.309597e-07</td></tr>\n",
       "\t<tr><th scope=row>Alt</th><td> 1          </td><td>55401.6980  </td><td>55401.6980  </td><td>35.7200506  </td><td>7.625270e-06</td></tr>\n",
       "\t<tr><th scope=row>Region:Alt</th><td> 1          </td><td>  151.2146  </td><td>  151.2146  </td><td> 0.0974951  </td><td>7.580886e-01</td></tr>\n",
       "\t<tr><th scope=row>Residuals</th><td>20          </td><td>31019.9437  </td><td> 1550.9972  </td><td>        NA  </td><td>          NA</td></tr>\n",
       "</tbody>\n",
       "</table>\n"
      ],
      "text/latex": [
       "\\begin{tabular}{r|lllll}\n",
       "  & Df & Sum Sq & Mean Sq & F value & Pr(>F)\\\\\n",
       "\\hline\n",
       "\tRegion &  1           & 86532.7686   & 86532.7686   & 55.7916992   & 3.309597e-07\\\\\n",
       "\tAlt &  1           & 55401.6980   & 55401.6980   & 35.7200506   & 7.625270e-06\\\\\n",
       "\tRegion:Alt &  1           &   151.2146   &   151.2146   &  0.0974951   & 7.580886e-01\\\\\n",
       "\tResiduals & 20           & 31019.9437   &  1550.9972   &         NA   &           NA\\\\\n",
       "\\end{tabular}\n"
      ],
      "text/markdown": [
       "\n",
       "| <!--/--> | Df | Sum Sq | Mean Sq | F value | Pr(>F) |\n",
       "|---|---|---|---|---|---|\n",
       "| Region |  1           | 86532.7686   | 86532.7686   | 55.7916992   | 3.309597e-07 |\n",
       "| Alt |  1           | 55401.6980   | 55401.6980   | 35.7200506   | 7.625270e-06 |\n",
       "| Region:Alt |  1           |   151.2146   |   151.2146   |  0.0974951   | 7.580886e-01 |\n",
       "| Residuals | 20           | 31019.9437   |  1550.9972   |         NA   |           NA |\n",
       "\n"
      ],
      "text/plain": [
       "           Df Sum Sq     Mean Sq    F value    Pr(>F)      \n",
       "Region      1 86532.7686 86532.7686 55.7916992 3.309597e-07\n",
       "Alt         1 55401.6980 55401.6980 35.7200506 7.625270e-06\n",
       "Region:Alt  1   151.2146   151.2146  0.0974951 7.580886e-01\n",
       "Residuals  20 31019.9437  1550.9972         NA           NA"
      ]
     },
     "metadata": {},
     "output_type": "display_data"
    }
   ],
   "source": [
    "anova(lm.1)"
   ]
  },
  {
   "cell_type": "code",
   "execution_count": 9,
   "metadata": {},
   "outputs": [
    {
     "data": {
      "text/html": [
       "<ol class=list-inline>\n",
       "\t<li>4</li>\n",
       "\t<li>179.943963030683</li>\n",
       "</ol>\n"
      ],
      "text/latex": [
       "\\begin{enumerate*}\n",
       "\\item 4\n",
       "\\item 179.943963030683\n",
       "\\end{enumerate*}\n"
      ],
      "text/markdown": [
       "1. 4\n",
       "2. 179.943963030683\n",
       "\n",
       "\n"
      ],
      "text/plain": [
       "[1]   4.000 179.944"
      ]
     },
     "metadata": {},
     "output_type": "display_data"
    }
   ],
   "source": [
    "extractAIC(lm.1)"
   ]
  },
  {
   "cell_type": "code",
   "execution_count": 15,
   "metadata": {},
   "outputs": [
    {
     "name": "stderr",
     "output_type": "stream",
     "text": [
      "Warning message in simpleLoess(y, x, w, span, degree = degree, parametric = FALSE, :\n",
      "\"pseudoinverse used at 3.01\"Warning message in simpleLoess(y, x, w, span, degree = degree, parametric = FALSE, :\n",
      "\"neighborhood radius 1.01\"Warning message in simpleLoess(y, x, w, span, degree = degree, parametric = FALSE, :\n",
      "\"reciprocal condition number  0\"Warning message in simpleLoess(y, x, w, span, degree = degree, parametric = FALSE, :\n",
      "\"There are other near singularities as well. 1\"Warning message in simpleLoess(y, x, w, span, degree = degree, parametric = FALSE, :\n",
      "\"pseudoinverse used at 3.01\"Warning message in simpleLoess(y, x, w, span, degree = degree, parametric = FALSE, :\n",
      "\"neighborhood radius 1.01\"Warning message in simpleLoess(y, x, w, span, degree = degree, parametric = FALSE, :\n",
      "\"reciprocal condition number  0\"Warning message in simpleLoess(y, x, w, span, degree = degree, parametric = FALSE, :\n",
      "\"There are other near singularities as well. 1\"Warning message in simpleLoess(y, x, w, span, degree = degree, parametric = FALSE, :\n",
      "\"pseudoinverse used at 3.01\"Warning message in simpleLoess(y, x, w, span, degree = degree, parametric = FALSE, :\n",
      "\"neighborhood radius 1.01\"Warning message in simpleLoess(y, x, w, span, degree = degree, parametric = FALSE, :\n",
      "\"reciprocal condition number  0\"Warning message in simpleLoess(y, x, w, span, degree = degree, parametric = FALSE, :\n",
      "\"There are other near singularities as well. 1\"Warning message in simpleLoess(y, x, w, span, degree = degree, parametric = FALSE, :\n",
      "\"pseudoinverse used at 3.01\"Warning message in simpleLoess(y, x, w, span, degree = degree, parametric = FALSE, :\n",
      "\"neighborhood radius 1.01\"Warning message in simpleLoess(y, x, w, span, degree = degree, parametric = FALSE, :\n",
      "\"reciprocal condition number  0\"Warning message in simpleLoess(y, x, w, span, degree = degree, parametric = FALSE, :\n",
      "\"There are other near singularities as well. 1\"Warning message in simpleLoess(y, x, w, span, degree = degree, parametric = FALSE, :\n",
      "\"pseudoinverse used at 3.01\"Warning message in simpleLoess(y, x, w, span, degree = degree, parametric = FALSE, :\n",
      "\"neighborhood radius 1.01\"Warning message in simpleLoess(y, x, w, span, degree = degree, parametric = FALSE, :\n",
      "\"reciprocal condition number  0\"Warning message in simpleLoess(y, x, w, span, degree = degree, parametric = FALSE, :\n",
      "\"There are other near singularities as well. 1\"Warning message in termplot(lm.1, partial.resid = TRUE, terms = \"Region:Alt\"):\n",
      "\"'model' appears to involve interactions: see the help page\""
     ]
    },
    {
     "data": {
      "image/png": "[encoded data removed]",
      "text/plain": [
       "Plot with title \"Normal Q-Q Plot\""
      ]
     },
     "metadata": {},
     "output_type": "display_data"
    }
   ],
   "source": [
    "par(mfrow=c(3, 2))\n",
    "scatter.smooth(rstandard(lm.1) ~ wheatrain$Region)\n",
    "scatter.smooth(rstandard(lm.1) ~ wheatrain$Alt)\n",
    "scatter.smooth(rstandard(lm.1) ~ fitted(lm.1))\n",
    "termplot(lm.1, partial.resid = TRUE, terms=\"Region\")\n",
    "termplot(lm.1, partial.resid = TRUE, terms=\"Alt\")\n",
    "termplot(lm.1, partial.resid = TRUE, terms=\"Region:Alt\")\n",
    "qqnorm(rstandard(lm.1))\n",
    "qqline(rstandard(lm.1))"
   ]
  },
  {
   "cell_type": "code",
   "execution_count": 16,
   "metadata": {},
   "outputs": [
    {
     "data": {
      "text/html": [
       "<dl class=dl-horizontal>\n",
       "\t<dt>1</dt>\n",
       "\t\t<dd>-1.36723299686151</dd>\n",
       "\t<dt>2</dt>\n",
       "\t\t<dd>-1.24754031829208</dd>\n",
       "\t<dt>3</dt>\n",
       "\t\t<dd>0.646357550785284</dd>\n",
       "\t<dt>4</dt>\n",
       "\t\t<dd>-0.272534160985395</dd>\n",
       "\t<dt>5</dt>\n",
       "\t\t<dd>-1.10894967511409</dd>\n",
       "\t<dt>6</dt>\n",
       "\t\t<dd>0.378088227565292</dd>\n",
       "\t<dt>7</dt>\n",
       "\t\t<dd>0.0147983821800565</dd>\n",
       "\t<dt>8</dt>\n",
       "\t\t<dd>0.891786879857654</dd>\n",
       "\t<dt>9</dt>\n",
       "\t\t<dd>-1.81231084993647</dd>\n",
       "\t<dt>10</dt>\n",
       "\t\t<dd>-0.113827549236048</dd>\n",
       "\t<dt>11</dt>\n",
       "\t\t<dd>-0.714503605000038</dd>\n",
       "\t<dt>12</dt>\n",
       "\t\t<dd>-0.803170185924077</dd>\n",
       "\t<dt>13</dt>\n",
       "\t\t<dd>2.92266514475407</dd>\n",
       "\t<dt>14</dt>\n",
       "\t\t<dd>1.20400178681428</dd>\n",
       "\t<dt>15</dt>\n",
       "\t\t<dd>-0.444300194966216</dd>\n",
       "\t<dt>16</dt>\n",
       "\t\t<dd>0.270759454711666</dd>\n",
       "\t<dt>17</dt>\n",
       "\t\t<dd>-0.271860925291656</dd>\n",
       "\t<dt>18</dt>\n",
       "\t\t<dd>0.119343388837783</dd>\n",
       "\t<dt>19</dt>\n",
       "\t\t<dd>0.470126809692582</dd>\n",
       "\t<dt>20</dt>\n",
       "\t\t<dd>0.663717545629588</dd>\n",
       "\t<dt>21</dt>\n",
       "\t\t<dd>-0.347283207072358</dd>\n",
       "\t<dt>22</dt>\n",
       "\t\t<dd>-0.304404783475869</dd>\n",
       "\t<dt>23</dt>\n",
       "\t\t<dd>-0.0889777780379645</dd>\n",
       "\t<dt>24</dt>\n",
       "\t\t<dd>1.10159197587367</dd>\n",
       "</dl>\n"
      ],
      "text/latex": [
       "\\begin{description*}\n",
       "\\item[1] -1.36723299686151\n",
       "\\item[2] -1.24754031829208\n",
       "\\item[3] 0.646357550785284\n",
       "\\item[4] -0.272534160985395\n",
       "\\item[5] -1.10894967511409\n",
       "\\item[6] 0.378088227565292\n",
       "\\item[7] 0.0147983821800565\n",
       "\\item[8] 0.891786879857654\n",
       "\\item[9] -1.81231084993647\n",
       "\\item[10] -0.113827549236048\n",
       "\\item[11] -0.714503605000038\n",
       "\\item[12] -0.803170185924077\n",
       "\\item[13] 2.92266514475407\n",
       "\\item[14] 1.20400178681428\n",
       "\\item[15] -0.444300194966216\n",
       "\\item[16] 0.270759454711666\n",
       "\\item[17] -0.271860925291656\n",
       "\\item[18] 0.119343388837783\n",
       "\\item[19] 0.470126809692582\n",
       "\\item[20] 0.663717545629588\n",
       "\\item[21] -0.347283207072358\n",
       "\\item[22] -0.304404783475869\n",
       "\\item[23] -0.0889777780379645\n",
       "\\item[24] 1.10159197587367\n",
       "\\end{description*}\n"
      ],
      "text/markdown": [
       "1\n",
       ":   -1.367232996861512\n",
       ":   -1.247540318292083\n",
       ":   0.6463575507852844\n",
       ":   -0.2725341609853955\n",
       ":   -1.108949675114096\n",
       ":   0.3780882275652927\n",
       ":   0.01479838218005658\n",
       ":   0.8917868798576549\n",
       ":   -1.8123108499364710\n",
       ":   -0.11382754923604811\n",
       ":   -0.71450360500003812\n",
       ":   -0.80317018592407713\n",
       ":   2.9226651447540714\n",
       ":   1.2040017868142815\n",
       ":   -0.44430019496621616\n",
       ":   0.27075945471166617\n",
       ":   -0.27186092529165618\n",
       ":   0.11934338883778319\n",
       ":   0.47012680969258220\n",
       ":   0.66371754562958821\n",
       ":   -0.34728320707235822\n",
       ":   -0.30440478347586923\n",
       ":   -0.088977778037964524\n",
       ":   1.10159197587367\n",
       "\n"
      ],
      "text/plain": [
       "          1           2           3           4           5           6 \n",
       "-1.36723300 -1.24754032  0.64635755 -0.27253416 -1.10894968  0.37808823 \n",
       "          7           8           9          10          11          12 \n",
       " 0.01479838  0.89178688 -1.81231085 -0.11382755 -0.71450361 -0.80317019 \n",
       "         13          14          15          16          17          18 \n",
       " 2.92266514  1.20400179 -0.44430019  0.27075945 -0.27186093  0.11934339 \n",
       "         19          20          21          22          23          24 \n",
       " 0.47012681  0.66371755 -0.34728321 -0.30440478 -0.08897778  1.10159198 "
      ]
     },
     "metadata": {},
     "output_type": "display_data"
    }
   ],
   "source": [
    "rstandard(lm.1)"
   ]
  },
  {
   "cell_type": "code",
   "execution_count": 17,
   "metadata": {},
   "outputs": [
    {
     "data": {
      "text/html": [
       "<dl class=dl-horizontal>\n",
       "\t<dt>1</dt>\n",
       "\t\t<dd>-1.39962714841651</dd>\n",
       "\t<dt>2</dt>\n",
       "\t\t<dd>-1.26621669436577</dd>\n",
       "\t<dt>3</dt>\n",
       "\t\t<dd>0.636676240480721</dd>\n",
       "\t<dt>4</dt>\n",
       "\t\t<dd>-0.266128067243684</dd>\n",
       "\t<dt>5</dt>\n",
       "\t\t<dd>-1.11571644460693</dd>\n",
       "\t<dt>6</dt>\n",
       "\t\t<dd>0.369838908406081</dd>\n",
       "\t<dt>7</dt>\n",
       "\t\t<dd>0.0144237577419362</dd>\n",
       "\t<dt>8</dt>\n",
       "\t\t<dd>0.887021063177848</dd>\n",
       "\t<dt>9</dt>\n",
       "\t\t<dd>-1.93218819017652</dd>\n",
       "\t<dt>10</dt>\n",
       "\t\t<dd>-0.110981325965932</dd>\n",
       "\t<dt>11</dt>\n",
       "\t\t<dd>-0.705474056952118</dd>\n",
       "\t<dt>12</dt>\n",
       "\t\t<dd>-0.795772112476937</dd>\n",
       "\t<dt>13</dt>\n",
       "\t\t<dd>3.7635779253799</dd>\n",
       "\t<dt>14</dt>\n",
       "\t\t<dd>1.21850560218702</dd>\n",
       "\t<dt>15</dt>\n",
       "\t\t<dd>-0.435203346239225</dd>\n",
       "\t<dt>16</dt>\n",
       "\t\t<dd>0.264388679922893</dd>\n",
       "\t<dt>17</dt>\n",
       "\t\t<dd>-0.265468214945925</dd>\n",
       "\t<dt>18</dt>\n",
       "\t\t<dd>0.116362987619044</dd>\n",
       "\t<dt>19</dt>\n",
       "\t\t<dd>0.460776014956228</dd>\n",
       "\t<dt>20</dt>\n",
       "\t\t<dd>0.654156193444368</dd>\n",
       "\t<dt>21</dt>\n",
       "\t\t<dd>-0.339515033400574</dd>\n",
       "\t<dt>22</dt>\n",
       "\t\t<dd>-0.29738679542361</dd>\n",
       "\t<dt>23</dt>\n",
       "\t\t<dd>-0.0867419805828522</dd>\n",
       "\t<dt>24</dt>\n",
       "\t\t<dd>1.10783398099085</dd>\n",
       "</dl>\n"
      ],
      "text/latex": [
       "\\begin{description*}\n",
       "\\item[1] -1.39962714841651\n",
       "\\item[2] -1.26621669436577\n",
       "\\item[3] 0.636676240480721\n",
       "\\item[4] -0.266128067243684\n",
       "\\item[5] -1.11571644460693\n",
       "\\item[6] 0.369838908406081\n",
       "\\item[7] 0.0144237577419362\n",
       "\\item[8] 0.887021063177848\n",
       "\\item[9] -1.93218819017652\n",
       "\\item[10] -0.110981325965932\n",
       "\\item[11] -0.705474056952118\n",
       "\\item[12] -0.795772112476937\n",
       "\\item[13] 3.7635779253799\n",
       "\\item[14] 1.21850560218702\n",
       "\\item[15] -0.435203346239225\n",
       "\\item[16] 0.264388679922893\n",
       "\\item[17] -0.265468214945925\n",
       "\\item[18] 0.116362987619044\n",
       "\\item[19] 0.460776014956228\n",
       "\\item[20] 0.654156193444368\n",
       "\\item[21] -0.339515033400574\n",
       "\\item[22] -0.29738679542361\n",
       "\\item[23] -0.0867419805828522\n",
       "\\item[24] 1.10783398099085\n",
       "\\end{description*}\n"
      ],
      "text/markdown": [
       "1\n",
       ":   -1.399627148416512\n",
       ":   -1.266216694365773\n",
       ":   0.6366762404807214\n",
       ":   -0.2661280672436845\n",
       ":   -1.115716444606936\n",
       ":   0.3698389084060817\n",
       ":   0.01442375774193628\n",
       ":   0.8870210631778489\n",
       ":   -1.9321881901765210\n",
       ":   -0.11098132596593211\n",
       ":   -0.70547405695211812\n",
       ":   -0.79577211247693713\n",
       ":   3.763577925379914\n",
       ":   1.2185056021870215\n",
       ":   -0.43520334623922516\n",
       ":   0.26438867992289317\n",
       ":   -0.26546821494592518\n",
       ":   0.11636298761904419\n",
       ":   0.46077601495622820\n",
       ":   0.65415619344436821\n",
       ":   -0.33951503340057422\n",
       ":   -0.2973867954236123\n",
       ":   -0.086741980582852224\n",
       ":   1.10783398099085\n",
       "\n"
      ],
      "text/plain": [
       "          1           2           3           4           5           6 \n",
       "-1.39962715 -1.26621669  0.63667624 -0.26612807 -1.11571644  0.36983891 \n",
       "          7           8           9          10          11          12 \n",
       " 0.01442376  0.88702106 -1.93218819 -0.11098133 -0.70547406 -0.79577211 \n",
       "         13          14          15          16          17          18 \n",
       " 3.76357793  1.21850560 -0.43520335  0.26438868 -0.26546821  0.11636299 \n",
       "         19          20          21          22          23          24 \n",
       " 0.46077601  0.65415619 -0.33951503 -0.29738680 -0.08674198  1.10783398 "
      ]
     },
     "metadata": {},
     "output_type": "display_data"
    }
   ],
   "source": [
    "rstudent(lm.1)"
   ]
  },
  {
   "cell_type": "code",
   "execution_count": 18,
   "metadata": {},
   "outputs": [
    {
     "data": {
      "text/html": [
       "<dl class=dl-horizontal>\n",
       "\t<dt>1</dt>\n",
       "\t\t<dd>0.193207157139822</dd>\n",
       "\t<dt>2</dt>\n",
       "\t\t<dd>0.138123994507583</dd>\n",
       "\t<dt>3</dt>\n",
       "\t\t<dd>0.15923867756022</dd>\n",
       "\t<dt>4</dt>\n",
       "\t\t<dd>0.0674496934274557</dd>\n",
       "\t<dt>5</dt>\n",
       "\t\t<dd>0.164089063349016</dd>\n",
       "\t<dt>6</dt>\n",
       "\t\t<dd>0.133820148747859</dd>\n",
       "\t<dt>7</dt>\n",
       "\t\t<dd>0.139565371393352</dd>\n",
       "\t<dt>8</dt>\n",
       "\t\t<dd>0.290252024223038</dd>\n",
       "\t<dt>9</dt>\n",
       "\t\t<dd>0.0956466167747199</dd>\n",
       "\t<dt>10</dt>\n",
       "\t\t<dd>0.20969889883617</dd>\n",
       "\t<dt>11</dt>\n",
       "\t\t<dd>0.222382664586622</dd>\n",
       "\t<dt>12</dt>\n",
       "\t\t<dd>0.307089188182703</dd>\n",
       "\t<dt>13</dt>\n",
       "\t\t<dd>0.0972359036531313</dd>\n",
       "\t<dt>14</dt>\n",
       "\t\t<dd>0.0880287521372591</dd>\n",
       "\t<dt>15</dt>\n",
       "\t\t<dd>0.0923011163892187</dd>\n",
       "\t<dt>16</dt>\n",
       "\t\t<dd>0.112802844434029</dd>\n",
       "\t<dt>17</dt>\n",
       "\t\t<dd>0.126984845604697</dd>\n",
       "\t<dt>18</dt>\n",
       "\t\t<dd>0.139403846622062</dd>\n",
       "\t<dt>19</dt>\n",
       "\t\t<dd>0.33138867069241</dd>\n",
       "\t<dt>20</dt>\n",
       "\t\t<dd>0.0664956442198498</dd>\n",
       "\t<dt>21</dt>\n",
       "\t\t<dd>0.0646658368711255</dd>\n",
       "\t<dt>22</dt>\n",
       "\t\t<dd>0.566903091544957</dd>\n",
       "\t<dt>23</dt>\n",
       "\t\t<dd>0.11254497219745</dd>\n",
       "\t<dt>24</dt>\n",
       "\t\t<dd>0.0806809769052505</dd>\n",
       "</dl>\n"
      ],
      "text/latex": [
       "\\begin{description*}\n",
       "\\item[1] 0.193207157139822\n",
       "\\item[2] 0.138123994507583\n",
       "\\item[3] 0.15923867756022\n",
       "\\item[4] 0.0674496934274557\n",
       "\\item[5] 0.164089063349016\n",
       "\\item[6] 0.133820148747859\n",
       "\\item[7] 0.139565371393352\n",
       "\\item[8] 0.290252024223038\n",
       "\\item[9] 0.0956466167747199\n",
       "\\item[10] 0.20969889883617\n",
       "\\item[11] 0.222382664586622\n",
       "\\item[12] 0.307089188182703\n",
       "\\item[13] 0.0972359036531313\n",
       "\\item[14] 0.0880287521372591\n",
       "\\item[15] 0.0923011163892187\n",
       "\\item[16] 0.112802844434029\n",
       "\\item[17] 0.126984845604697\n",
       "\\item[18] 0.139403846622062\n",
       "\\item[19] 0.33138867069241\n",
       "\\item[20] 0.0664956442198498\n",
       "\\item[21] 0.0646658368711255\n",
       "\\item[22] 0.566903091544957\n",
       "\\item[23] 0.11254497219745\n",
       "\\item[24] 0.0806809769052505\n",
       "\\end{description*}\n"
      ],
      "text/markdown": [
       "1\n",
       ":   0.1932071571398222\n",
       ":   0.1381239945075833\n",
       ":   0.159238677560224\n",
       ":   0.06744969342745575\n",
       ":   0.1640890633490166\n",
       ":   0.1338201487478597\n",
       ":   0.1395653713933528\n",
       ":   0.2902520242230389\n",
       ":   0.095646616774719910\n",
       ":   0.2096988988361711\n",
       ":   0.22238266458662212\n",
       ":   0.30708918818270313\n",
       ":   0.097235903653131314\n",
       ":   0.088028752137259115\n",
       ":   0.092301116389218716\n",
       ":   0.11280284443402917\n",
       ":   0.12698484560469718\n",
       ":   0.13940384662206219\n",
       ":   0.3313886706924120\n",
       ":   0.066495644219849821\n",
       ":   0.064665836871125522\n",
       ":   0.56690309154495723\n",
       ":   0.1125449721974524\n",
       ":   0.0806809769052505\n",
       "\n"
      ],
      "text/plain": [
       "         1          2          3          4          5          6          7 \n",
       "0.19320716 0.13812399 0.15923868 0.06744969 0.16408906 0.13382015 0.13956537 \n",
       "         8          9         10         11         12         13         14 \n",
       "0.29025202 0.09564662 0.20969890 0.22238266 0.30708919 0.09723590 0.08802875 \n",
       "        15         16         17         18         19         20         21 \n",
       "0.09230112 0.11280284 0.12698485 0.13940385 0.33138867 0.06649564 0.06466584 \n",
       "        22         23         24 \n",
       "0.56690309 0.11254497 0.08068098 "
      ]
     },
     "metadata": {},
     "output_type": "display_data"
    }
   ],
   "source": [
    "hatvalues(lm.1)"
   ]
  },
  {
   "cell_type": "code",
   "execution_count": 19,
   "metadata": {},
   "outputs": [
    {
     "data": {
      "text/html": [
       "<dl class=dl-horizontal>\n",
       "\t<dt>1</dt>\n",
       "\t\t<dd>0</dd>\n",
       "\t<dt>2</dt>\n",
       "\t\t<dd>0</dd>\n",
       "\t<dt>3</dt>\n",
       "\t\t<dd>0</dd>\n",
       "\t<dt>4</dt>\n",
       "\t\t<dd>0</dd>\n",
       "\t<dt>5</dt>\n",
       "\t\t<dd>0</dd>\n",
       "\t<dt>6</dt>\n",
       "\t\t<dd>0</dd>\n",
       "\t<dt>7</dt>\n",
       "\t\t<dd>0</dd>\n",
       "\t<dt>8</dt>\n",
       "\t\t<dd>0</dd>\n",
       "\t<dt>9</dt>\n",
       "\t\t<dd>0</dd>\n",
       "\t<dt>10</dt>\n",
       "\t\t<dd>0</dd>\n",
       "\t<dt>11</dt>\n",
       "\t\t<dd>0</dd>\n",
       "\t<dt>12</dt>\n",
       "\t\t<dd>0</dd>\n",
       "\t<dt>13</dt>\n",
       "\t\t<dd>1</dd>\n",
       "\t<dt>14</dt>\n",
       "\t\t<dd>0</dd>\n",
       "\t<dt>15</dt>\n",
       "\t\t<dd>0</dd>\n",
       "\t<dt>16</dt>\n",
       "\t\t<dd>0</dd>\n",
       "\t<dt>17</dt>\n",
       "\t\t<dd>0</dd>\n",
       "\t<dt>18</dt>\n",
       "\t\t<dd>0</dd>\n",
       "\t<dt>19</dt>\n",
       "\t\t<dd>1</dd>\n",
       "\t<dt>20</dt>\n",
       "\t\t<dd>0</dd>\n",
       "\t<dt>21</dt>\n",
       "\t\t<dd>0</dd>\n",
       "\t<dt>22</dt>\n",
       "\t\t<dd>2</dd>\n",
       "\t<dt>23</dt>\n",
       "\t\t<dd>0</dd>\n",
       "\t<dt>24</dt>\n",
       "\t\t<dd>0</dd>\n",
       "</dl>\n"
      ],
      "text/latex": [
       "\\begin{description*}\n",
       "\\item[1] 0\n",
       "\\item[2] 0\n",
       "\\item[3] 0\n",
       "\\item[4] 0\n",
       "\\item[5] 0\n",
       "\\item[6] 0\n",
       "\\item[7] 0\n",
       "\\item[8] 0\n",
       "\\item[9] 0\n",
       "\\item[10] 0\n",
       "\\item[11] 0\n",
       "\\item[12] 0\n",
       "\\item[13] 1\n",
       "\\item[14] 0\n",
       "\\item[15] 0\n",
       "\\item[16] 0\n",
       "\\item[17] 0\n",
       "\\item[18] 0\n",
       "\\item[19] 1\n",
       "\\item[20] 0\n",
       "\\item[21] 0\n",
       "\\item[22] 2\n",
       "\\item[23] 0\n",
       "\\item[24] 0\n",
       "\\end{description*}\n"
      ],
      "text/markdown": [
       "1\n",
       ":   02\n",
       ":   03\n",
       ":   04\n",
       ":   05\n",
       ":   06\n",
       ":   07\n",
       ":   08\n",
       ":   09\n",
       ":   010\n",
       ":   011\n",
       ":   012\n",
       ":   013\n",
       ":   114\n",
       ":   015\n",
       ":   016\n",
       ":   017\n",
       ":   018\n",
       ":   019\n",
       ":   120\n",
       ":   021\n",
       ":   022\n",
       ":   223\n",
       ":   024\n",
       ":   0\n",
       "\n"
      ],
      "text/plain": [
       " 1  2  3  4  5  6  7  8  9 10 11 12 13 14 15 16 17 18 19 20 21 22 23 24 \n",
       " 0  0  0  0  0  0  0  0  0  0  0  0  1  0  0  0  0  0  1  0  0  2  0  0 "
      ]
     },
     "metadata": {},
     "output_type": "display_data"
    }
   ],
   "source": [
    "rowSums(influence.measures(lm.1)$is.inf)"
   ]
  },
  {
   "cell_type": "code",
   "execution_count": 21,
   "metadata": {},
   "outputs": [
    {
     "data": {
      "image/png": "[encoded data removed]",
      "text/plain": [
       "plot without title"
      ]
     },
     "metadata": {},
     "output_type": "display_data"
    }
   ],
   "source": [
    "par(mfrow=c(1, 2))\n",
    "scatter.smooth(rstandard(lm.1) ~ wheatrain$Lat)\n",
    "scatter.smooth(rstandard(lm.1) ~ wheatrain$Lon)"
   ]
  }
 ],
 "metadata": {
  "kernelspec": {
   "display_name": "R",
   "language": "R",
   "name": "ir"
  },
  "language_info": {
   "codemirror_mode": "r",
   "file_extension": ".r",
   "mimetype": "text/x-r-source",
   "name": "R",
   "pygments_lexer": "r",
   "version": "3.6.1"
  },
  "orig_nbformat": 4
 },
 "nbformat": 4,
 "nbformat_minor": 2
}
