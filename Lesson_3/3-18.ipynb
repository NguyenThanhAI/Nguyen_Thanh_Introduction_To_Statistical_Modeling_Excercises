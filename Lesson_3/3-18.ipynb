{
 "cells": [
  {
   "cell_type": "code",
   "execution_count": 1,
   "metadata": {},
   "outputs": [],
   "source": [
    "library(GLMsData)\n",
    "library(MASS)\n",
    "data(humanfat)"
   ]
  },
  {
   "cell_type": "code",
   "execution_count": 2,
   "metadata": {},
   "outputs": [
    {
     "name": "stdout",
     "output_type": "stream",
     "text": [
      "'data.frame':\t18 obs. of  4 variables:\n",
      " $ Age        : int  23 23 27 27 39 41 45 49 50 53 ...\n",
      " $ Percent.Fat: num  9.5 27.9 7.8 17.8 31.4 25.9 27.4 25.2 31.1 34.7 ...\n",
      " $ Gender     : Factor w/ 2 levels \"F\",\"M\": 2 1 2 2 1 1 2 1 1 1 ...\n",
      " $ BMI        : num  17.8 22.5 24.6 20.5 25.1 21.4 26 22.3 21.8 28.4 ...\n"
     ]
    }
   ],
   "source": [
    "str(humanfat)"
   ]
  },
  {
   "cell_type": "code",
   "execution_count": 22,
   "metadata": {},
   "outputs": [
    {
     "data": {
      "text/html": [
       "<table>\n",
       "<thead><tr><th scope=col>Age</th><th scope=col>Percent.Fat</th><th scope=col>Gender</th><th scope=col>BMI</th></tr></thead>\n",
       "<tbody>\n",
       "\t<tr><td>23  </td><td> 9.5</td><td>M   </td><td>17.8</td></tr>\n",
       "\t<tr><td>23  </td><td>27.9</td><td>F   </td><td>22.5</td></tr>\n",
       "\t<tr><td>27  </td><td> 7.8</td><td>M   </td><td>24.6</td></tr>\n",
       "\t<tr><td>27  </td><td>17.8</td><td>M   </td><td>20.5</td></tr>\n",
       "\t<tr><td>39  </td><td>31.4</td><td>F   </td><td>25.1</td></tr>\n",
       "\t<tr><td>41  </td><td>25.9</td><td>F   </td><td>21.4</td></tr>\n",
       "\t<tr><td>45  </td><td>27.4</td><td>M   </td><td>26.0</td></tr>\n",
       "\t<tr><td>49  </td><td>25.2</td><td>F   </td><td>22.3</td></tr>\n",
       "\t<tr><td>50  </td><td>31.1</td><td>F   </td><td>21.8</td></tr>\n",
       "\t<tr><td>53  </td><td>34.7</td><td>F   </td><td>28.4</td></tr>\n",
       "\t<tr><td>53  </td><td>42.0</td><td>F   </td><td>31.8</td></tr>\n",
       "\t<tr><td>54  </td><td>29.1</td><td>F   </td><td>25.2</td></tr>\n",
       "\t<tr><td>56  </td><td>32.5</td><td>F   </td><td>23.8</td></tr>\n",
       "\t<tr><td>57  </td><td>30.3</td><td>F   </td><td>22.8</td></tr>\n",
       "\t<tr><td>58  </td><td>33.0</td><td>F   </td><td>26.4</td></tr>\n",
       "\t<tr><td>58  </td><td>33.8</td><td>F   </td><td>28.3</td></tr>\n",
       "\t<tr><td>60  </td><td>41.1</td><td>F   </td><td>23.2</td></tr>\n",
       "\t<tr><td>61  </td><td>34.5</td><td>F   </td><td>23.2</td></tr>\n",
       "</tbody>\n",
       "</table>\n"
      ],
      "text/latex": [
       "\\begin{tabular}{r|llll}\n",
       " Age & Percent.Fat & Gender & BMI\\\\\n",
       "\\hline\n",
       "\t 23   &  9.5 & M    & 17.8\\\\\n",
       "\t 23   & 27.9 & F    & 22.5\\\\\n",
       "\t 27   &  7.8 & M    & 24.6\\\\\n",
       "\t 27   & 17.8 & M    & 20.5\\\\\n",
       "\t 39   & 31.4 & F    & 25.1\\\\\n",
       "\t 41   & 25.9 & F    & 21.4\\\\\n",
       "\t 45   & 27.4 & M    & 26.0\\\\\n",
       "\t 49   & 25.2 & F    & 22.3\\\\\n",
       "\t 50   & 31.1 & F    & 21.8\\\\\n",
       "\t 53   & 34.7 & F    & 28.4\\\\\n",
       "\t 53   & 42.0 & F    & 31.8\\\\\n",
       "\t 54   & 29.1 & F    & 25.2\\\\\n",
       "\t 56   & 32.5 & F    & 23.8\\\\\n",
       "\t 57   & 30.3 & F    & 22.8\\\\\n",
       "\t 58   & 33.0 & F    & 26.4\\\\\n",
       "\t 58   & 33.8 & F    & 28.3\\\\\n",
       "\t 60   & 41.1 & F    & 23.2\\\\\n",
       "\t 61   & 34.5 & F    & 23.2\\\\\n",
       "\\end{tabular}\n"
      ],
      "text/markdown": [
       "\n",
       "| Age | Percent.Fat | Gender | BMI |\n",
       "|---|---|---|---|\n",
       "| 23   |  9.5 | M    | 17.8 |\n",
       "| 23   | 27.9 | F    | 22.5 |\n",
       "| 27   |  7.8 | M    | 24.6 |\n",
       "| 27   | 17.8 | M    | 20.5 |\n",
       "| 39   | 31.4 | F    | 25.1 |\n",
       "| 41   | 25.9 | F    | 21.4 |\n",
       "| 45   | 27.4 | M    | 26.0 |\n",
       "| 49   | 25.2 | F    | 22.3 |\n",
       "| 50   | 31.1 | F    | 21.8 |\n",
       "| 53   | 34.7 | F    | 28.4 |\n",
       "| 53   | 42.0 | F    | 31.8 |\n",
       "| 54   | 29.1 | F    | 25.2 |\n",
       "| 56   | 32.5 | F    | 23.8 |\n",
       "| 57   | 30.3 | F    | 22.8 |\n",
       "| 58   | 33.0 | F    | 26.4 |\n",
       "| 58   | 33.8 | F    | 28.3 |\n",
       "| 60   | 41.1 | F    | 23.2 |\n",
       "| 61   | 34.5 | F    | 23.2 |\n",
       "\n"
      ],
      "text/plain": [
       "   Age Percent.Fat Gender BMI \n",
       "1  23   9.5        M      17.8\n",
       "2  23  27.9        F      22.5\n",
       "3  27   7.8        M      24.6\n",
       "4  27  17.8        M      20.5\n",
       "5  39  31.4        F      25.1\n",
       "6  41  25.9        F      21.4\n",
       "7  45  27.4        M      26.0\n",
       "8  49  25.2        F      22.3\n",
       "9  50  31.1        F      21.8\n",
       "10 53  34.7        F      28.4\n",
       "11 53  42.0        F      31.8\n",
       "12 54  29.1        F      25.2\n",
       "13 56  32.5        F      23.8\n",
       "14 57  30.3        F      22.8\n",
       "15 58  33.0        F      26.4\n",
       "16 58  33.8        F      28.3\n",
       "17 60  41.1        F      23.2\n",
       "18 61  34.5        F      23.2"
      ]
     },
     "metadata": {},
     "output_type": "display_data"
    }
   ],
   "source": [
    "humanfat"
   ]
  },
  {
   "cell_type": "code",
   "execution_count": 8,
   "metadata": {},
   "outputs": [
    {
     "data": {
      "image/png": "[encoded data removed]",
      "text/plain": [
       "plot without title"
      ]
     },
     "metadata": {},
     "output_type": "display_data"
    }
   ],
   "source": [
    "par(mfrow=c(2, 2))\n",
    "plot(Percent.Fat ~ BMI, data=humanfat, pch=ifelse(Gender==\"M\", 3, 20))\n",
    "plot(Percent.Fat ~ Age, data=humanfat, pch=ifelse(Gender==\"M\", 3, 20))\n",
    "boxplot(Percent.Fat ~ Gender, data=humanfat)"
   ]
  },
  {
   "cell_type": "code",
   "execution_count": 9,
   "metadata": {},
   "outputs": [],
   "source": [
    "lm.1 <- lm(Percent.Fat ~ Age * factor(Gender), data=humanfat)"
   ]
  },
  {
   "cell_type": "code",
   "execution_count": 10,
   "metadata": {},
   "outputs": [
    {
     "data": {
      "text/html": [
       "<table>\n",
       "<thead><tr><th></th><th scope=col>Estimate</th><th scope=col>Std. Error</th><th scope=col>t value</th><th scope=col>Pr(&gt;|t|)</th></tr></thead>\n",
       "<tbody>\n",
       "\t<tr><th scope=row>(Intercept)</th><td> 20.1116365</td><td> 6.2394506 </td><td> 3.223302  </td><td>0.006129755</td></tr>\n",
       "\t<tr><th scope=row>Age</th><td>  0.2400802</td><td> 0.1203972 </td><td> 1.994068  </td><td>0.065997517</td></tr>\n",
       "\t<tr><th scope=row>factor(Gender)M</th><td>-29.2691967</td><td>10.4097941 </td><td>-2.811698  </td><td>0.013857482</td></tr>\n",
       "\t<tr><th scope=row>Age:factor(Gender)M</th><td>  0.5724628</td><td> 0.2893456 </td><td> 1.978474  </td><td>0.067896321</td></tr>\n",
       "</tbody>\n",
       "</table>\n"
      ],
      "text/latex": [
       "\\begin{tabular}{r|llll}\n",
       "  & Estimate & Std. Error & t value & Pr(>\\textbar{}t\\textbar{})\\\\\n",
       "\\hline\n",
       "\t(Intercept) &  20.1116365 &  6.2394506  &  3.223302   & 0.006129755\\\\\n",
       "\tAge &   0.2400802 &  0.1203972  &  1.994068   & 0.065997517\\\\\n",
       "\tfactor(Gender)M & -29.2691967 & 10.4097941  & -2.811698   & 0.013857482\\\\\n",
       "\tAge:factor(Gender)M &   0.5724628 &  0.2893456  &  1.978474   & 0.067896321\\\\\n",
       "\\end{tabular}\n"
      ],
      "text/markdown": [
       "\n",
       "| <!--/--> | Estimate | Std. Error | t value | Pr(>|t|) |\n",
       "|---|---|---|---|---|\n",
       "| (Intercept) |  20.1116365 |  6.2394506  |  3.223302   | 0.006129755 |\n",
       "| Age |   0.2400802 |  0.1203972  |  1.994068   | 0.065997517 |\n",
       "| factor(Gender)M | -29.2691967 | 10.4097941  | -2.811698   | 0.013857482 |\n",
       "| Age:factor(Gender)M |   0.5724628 |  0.2893456  |  1.978474   | 0.067896321 |\n",
       "\n"
      ],
      "text/plain": [
       "                    Estimate    Std. Error t value   Pr(>|t|)   \n",
       "(Intercept)          20.1116365  6.2394506  3.223302 0.006129755\n",
       "Age                   0.2400802  0.1203972  1.994068 0.065997517\n",
       "factor(Gender)M     -29.2691967 10.4097941 -2.811698 0.013857482\n",
       "Age:factor(Gender)M   0.5724628  0.2893456  1.978474 0.067896321"
      ]
     },
     "metadata": {},
     "output_type": "display_data"
    }
   ],
   "source": [
    "coef(summary(lm.1))"
   ]
  },
  {
   "cell_type": "code",
   "execution_count": 11,
   "metadata": {},
   "outputs": [
    {
     "data": {
      "text/html": [
       "<table>\n",
       "<thead><tr><th></th><th scope=col>Df</th><th scope=col>Sum Sq</th><th scope=col>Mean Sq</th><th scope=col>F value</th><th scope=col>Pr(&gt;F)</th></tr></thead>\n",
       "<tbody>\n",
       "\t<tr><th scope=row>Age</th><td> 1          </td><td>891.87365   </td><td>891.87365   </td><td>44.273608   </td><td>1.089288e-05</td></tr>\n",
       "\t<tr><th scope=row>factor(Gender)</th><td> 1          </td><td>168.78671   </td><td>168.78671   </td><td> 8.378761   </td><td>1.176673e-02</td></tr>\n",
       "\t<tr><th scope=row>Age:factor(Gender)</th><td> 1          </td><td> 78.85316   </td><td> 78.85316   </td><td> 3.914359   </td><td>6.789632e-02</td></tr>\n",
       "\t<tr><th scope=row>Residuals</th><td>14          </td><td>282.02425   </td><td> 20.14459   </td><td>       NA   </td><td>          NA</td></tr>\n",
       "</tbody>\n",
       "</table>\n"
      ],
      "text/latex": [
       "\\begin{tabular}{r|lllll}\n",
       "  & Df & Sum Sq & Mean Sq & F value & Pr(>F)\\\\\n",
       "\\hline\n",
       "\tAge &  1           & 891.87365    & 891.87365    & 44.273608    & 1.089288e-05\\\\\n",
       "\tfactor(Gender) &  1           & 168.78671    & 168.78671    &  8.378761    & 1.176673e-02\\\\\n",
       "\tAge:factor(Gender) &  1           &  78.85316    &  78.85316    &  3.914359    & 6.789632e-02\\\\\n",
       "\tResiduals & 14           & 282.02425    &  20.14459    &        NA    &           NA\\\\\n",
       "\\end{tabular}\n"
      ],
      "text/markdown": [
       "\n",
       "| <!--/--> | Df | Sum Sq | Mean Sq | F value | Pr(>F) |\n",
       "|---|---|---|---|---|---|\n",
       "| Age |  1           | 891.87365    | 891.87365    | 44.273608    | 1.089288e-05 |\n",
       "| factor(Gender) |  1           | 168.78671    | 168.78671    |  8.378761    | 1.176673e-02 |\n",
       "| Age:factor(Gender) |  1           |  78.85316    |  78.85316    |  3.914359    | 6.789632e-02 |\n",
       "| Residuals | 14           | 282.02425    |  20.14459    |        NA    |           NA |\n",
       "\n"
      ],
      "text/plain": [
       "                   Df Sum Sq    Mean Sq   F value   Pr(>F)      \n",
       "Age                 1 891.87365 891.87365 44.273608 1.089288e-05\n",
       "factor(Gender)      1 168.78671 168.78671  8.378761 1.176673e-02\n",
       "Age:factor(Gender)  1  78.85316  78.85316  3.914359 6.789632e-02\n",
       "Residuals          14 282.02425  20.14459        NA           NA"
      ]
     },
     "metadata": {},
     "output_type": "display_data"
    }
   ],
   "source": [
    "anova(lm.1)"
   ]
  },
  {
   "cell_type": "code",
   "execution_count": 15,
   "metadata": {},
   "outputs": [
    {
     "data": {
      "text/html": [
       "<dl class=dl-horizontal>\n",
       "\t<dt>value</dt>\n",
       "\t\t<dd>18.8555762352299</dd>\n",
       "\t<dt>numdf</dt>\n",
       "\t\t<dd>3</dd>\n",
       "\t<dt>dendf</dt>\n",
       "\t\t<dd>14</dd>\n",
       "</dl>\n"
      ],
      "text/latex": [
       "\\begin{description*}\n",
       "\\item[value] 18.8555762352299\n",
       "\\item[numdf] 3\n",
       "\\item[dendf] 14\n",
       "\\end{description*}\n"
      ],
      "text/markdown": [
       "value\n",
       ":   18.8555762352299numdf\n",
       ":   3dendf\n",
       ":   14\n",
       "\n"
      ],
      "text/plain": [
       "   value    numdf    dendf \n",
       "18.85558  3.00000 14.00000 "
      ]
     },
     "metadata": {},
     "output_type": "display_data"
    }
   ],
   "source": [
    "summary(lm.1)$fstatistic"
   ]
  },
  {
   "cell_type": "code",
   "execution_count": 17,
   "metadata": {},
   "outputs": [
    {
     "data": {
      "text/html": [
       "3.45579135443419e-05"
      ],
      "text/latex": [
       "3.45579135443419e-05"
      ],
      "text/markdown": [
       "3.45579135443419e-05"
      ],
      "text/plain": [
       "[1] 3.455791e-05"
      ]
     },
     "metadata": {},
     "output_type": "display_data"
    }
   ],
   "source": [
    "1- pf(18.855, 3, 14)"
   ]
  },
  {
   "cell_type": "code",
   "execution_count": 33,
   "metadata": {},
   "outputs": [],
   "source": [
    "male_fit <- predict(lm.1, newdata=subset(humanfat, subset=Gender==\"M\"), se.fit=TRUE)"
   ]
  },
  {
   "cell_type": "code",
   "execution_count": 34,
   "metadata": {},
   "outputs": [],
   "source": [
    "female_fit <- predict(lm.1, newdata=subset(humanfat, subset=Gender==\"F\"), se.fit=TRUE)"
   ]
  },
  {
   "cell_type": "code",
   "execution_count": 35,
   "metadata": {},
   "outputs": [
    {
     "data": {
      "text/html": [
       "<dl>\n",
       "\t<dt>$fit</dt>\n",
       "\t\t<dd><dl class=dl-horizontal>\n",
       "\t<dt>1</dt>\n",
       "\t\t<dd>9.53092783505154</dd>\n",
       "\t<dt>3</dt>\n",
       "\t\t<dd>12.7810996563574</dd>\n",
       "\t<dt>4</dt>\n",
       "\t\t<dd>12.7810996563574</dd>\n",
       "\t<dt>7</dt>\n",
       "\t\t<dd>27.4068728522337</dd>\n",
       "</dl>\n",
       "</dd>\n",
       "\t<dt>$se.fit</dt>\n",
       "\t\t<dd><dl class=dl-horizontal>\n",
       "\t<dt>1</dt>\n",
       "\t\t<dd>2.98832323057034</dd>\n",
       "\t<dt>3</dt>\n",
       "\t\t<dd>2.42572843224166</dd>\n",
       "\t<dt>4</dt>\n",
       "\t\t<dd>2.42572843224166</dd>\n",
       "\t<dt>7</dt>\n",
       "\t\t<dd>4.42614801968925</dd>\n",
       "</dl>\n",
       "</dd>\n",
       "\t<dt>$df</dt>\n",
       "\t\t<dd>14</dd>\n",
       "\t<dt>$residual.scale</dt>\n",
       "\t\t<dd>4.48827243360608</dd>\n",
       "</dl>\n"
      ],
      "text/latex": [
       "\\begin{description}\n",
       "\\item[\\$fit] \\begin{description*}\n",
       "\\item[1] 9.53092783505154\n",
       "\\item[3] 12.7810996563574\n",
       "\\item[4] 12.7810996563574\n",
       "\\item[7] 27.4068728522337\n",
       "\\end{description*}\n",
       "\n",
       "\\item[\\$se.fit] \\begin{description*}\n",
       "\\item[1] 2.98832323057034\n",
       "\\item[3] 2.42572843224166\n",
       "\\item[4] 2.42572843224166\n",
       "\\item[7] 4.42614801968925\n",
       "\\end{description*}\n",
       "\n",
       "\\item[\\$df] 14\n",
       "\\item[\\$residual.scale] 4.48827243360608\n",
       "\\end{description}\n"
      ],
      "text/markdown": [
       "$fit\n",
       ":   1\n",
       ":   9.530927835051543\n",
       ":   12.78109965635744\n",
       ":   12.78109965635747\n",
       ":   27.4068728522337\n",
       "\n",
       "\n",
       "$se.fit\n",
       ":   1\n",
       ":   2.988323230570343\n",
       ":   2.425728432241664\n",
       ":   2.425728432241667\n",
       ":   4.42614801968925\n",
       "\n",
       "\n",
       "$df\n",
       ":   14\n",
       "$residual.scale\n",
       ":   4.48827243360608\n",
       "\n",
       "\n"
      ],
      "text/plain": [
       "$fit\n",
       "        1         3         4         7 \n",
       " 9.530928 12.781100 12.781100 27.406873 \n",
       "\n",
       "$se.fit\n",
       "       1        3        4        7 \n",
       "2.988323 2.425728 2.425728 4.426148 \n",
       "\n",
       "$df\n",
       "[1] 14\n",
       "\n",
       "$residual.scale\n",
       "[1] 4.488272\n"
      ]
     },
     "metadata": {},
     "output_type": "display_data"
    }
   ],
   "source": [
    "male_fit"
   ]
  },
  {
   "cell_type": "code",
   "execution_count": 36,
   "metadata": {},
   "outputs": [
    {
     "data": {
      "text/html": [
       "<dl>\n",
       "\t<dt>$fit</dt>\n",
       "\t\t<dd><dl class=dl-horizontal>\n",
       "\t<dt>2</dt>\n",
       "\t\t<dd>25.6334806743421</dd>\n",
       "\t<dt>5</dt>\n",
       "\t\t<dd>29.4747635690789</dd>\n",
       "\t<dt>6</dt>\n",
       "\t\t<dd>29.9549239309211</dd>\n",
       "\t<dt>8</dt>\n",
       "\t\t<dd>31.8755653782895</dd>\n",
       "\t<dt>9</dt>\n",
       "\t\t<dd>32.1156455592105</dd>\n",
       "\t<dt>10</dt>\n",
       "\t\t<dd>32.8358861019737</dd>\n",
       "\t<dt>11</dt>\n",
       "\t\t<dd>32.8358861019737</dd>\n",
       "\t<dt>12</dt>\n",
       "\t\t<dd>33.0759662828947</dd>\n",
       "\t<dt>13</dt>\n",
       "\t\t<dd>33.5561266447368</dd>\n",
       "\t<dt>14</dt>\n",
       "\t\t<dd>33.7962068256579</dd>\n",
       "\t<dt>15</dt>\n",
       "\t\t<dd>34.036287006579</dd>\n",
       "\t<dt>16</dt>\n",
       "\t\t<dd>34.036287006579</dd>\n",
       "\t<dt>17</dt>\n",
       "\t\t<dd>34.5164473684211</dd>\n",
       "\t<dt>18</dt>\n",
       "\t\t<dd>34.7565275493421</dd>\n",
       "</dl>\n",
       "</dd>\n",
       "\t<dt>$se.fit</dt>\n",
       "\t\t<dd><dl class=dl-horizontal>\n",
       "\t<dt>2</dt>\n",
       "\t\t<dd>3.56197912120441</dd>\n",
       "\t<dt>5</dt>\n",
       "\t\t<dd>1.86463047267691</dd>\n",
       "\t<dt>6</dt>\n",
       "\t\t<dd>1.68740285044486</dd>\n",
       "\t<dt>8</dt>\n",
       "\t\t<dd>1.22020239900726</dd>\n",
       "\t<dt>9</dt>\n",
       "\t\t<dd>1.20397217297429</dd>\n",
       "\t<dt>10</dt>\n",
       "\t\t<dd>1.22697195108615</dd>\n",
       "\t<dt>11</dt>\n",
       "\t\t<dd>1.22697195108615</dd>\n",
       "\t<dt>12</dt>\n",
       "\t\t<dd>1.25780729325651</dd>\n",
       "\t<dt>13</dt>\n",
       "\t\t<dd>1.34992228035589</dd>\n",
       "\t<dt>14</dt>\n",
       "\t\t<dd>1.40921329855211</dd>\n",
       "\t<dt>15</dt>\n",
       "\t\t<dd>1.47596241771155</dd>\n",
       "\t<dt>16</dt>\n",
       "\t\t<dd>1.47596241771155</dd>\n",
       "\t<dt>17</dt>\n",
       "\t\t<dd>1.62806752730234</dd>\n",
       "\t<dt>18</dt>\n",
       "\t\t<dd>1.71177093991426</dd>\n",
       "</dl>\n",
       "</dd>\n",
       "\t<dt>$df</dt>\n",
       "\t\t<dd>14</dd>\n",
       "\t<dt>$residual.scale</dt>\n",
       "\t\t<dd>4.48827243360608</dd>\n",
       "</dl>\n"
      ],
      "text/latex": [
       "\\begin{description}\n",
       "\\item[\\$fit] \\begin{description*}\n",
       "\\item[2] 25.6334806743421\n",
       "\\item[5] 29.4747635690789\n",
       "\\item[6] 29.9549239309211\n",
       "\\item[8] 31.8755653782895\n",
       "\\item[9] 32.1156455592105\n",
       "\\item[10] 32.8358861019737\n",
       "\\item[11] 32.8358861019737\n",
       "\\item[12] 33.0759662828947\n",
       "\\item[13] 33.5561266447368\n",
       "\\item[14] 33.7962068256579\n",
       "\\item[15] 34.036287006579\n",
       "\\item[16] 34.036287006579\n",
       "\\item[17] 34.5164473684211\n",
       "\\item[18] 34.7565275493421\n",
       "\\end{description*}\n",
       "\n",
       "\\item[\\$se.fit] \\begin{description*}\n",
       "\\item[2] 3.56197912120441\n",
       "\\item[5] 1.86463047267691\n",
       "\\item[6] 1.68740285044486\n",
       "\\item[8] 1.22020239900726\n",
       "\\item[9] 1.20397217297429\n",
       "\\item[10] 1.22697195108615\n",
       "\\item[11] 1.22697195108615\n",
       "\\item[12] 1.25780729325651\n",
       "\\item[13] 1.34992228035589\n",
       "\\item[14] 1.40921329855211\n",
       "\\item[15] 1.47596241771155\n",
       "\\item[16] 1.47596241771155\n",
       "\\item[17] 1.62806752730234\n",
       "\\item[18] 1.71177093991426\n",
       "\\end{description*}\n",
       "\n",
       "\\item[\\$df] 14\n",
       "\\item[\\$residual.scale] 4.48827243360608\n",
       "\\end{description}\n"
      ],
      "text/markdown": [
       "$fit\n",
       ":   2\n",
       ":   25.63348067434215\n",
       ":   29.47476356907896\n",
       ":   29.95492393092118\n",
       ":   31.87556537828959\n",
       ":   32.115645559210510\n",
       ":   32.835886101973711\n",
       ":   32.835886101973712\n",
       ":   33.075966282894713\n",
       ":   33.556126644736814\n",
       ":   33.796206825657915\n",
       ":   34.03628700657916\n",
       ":   34.03628700657917\n",
       ":   34.516447368421118\n",
       ":   34.7565275493421\n",
       "\n",
       "\n",
       "$se.fit\n",
       ":   2\n",
       ":   3.561979121204415\n",
       ":   1.864630472676916\n",
       ":   1.687402850444868\n",
       ":   1.220202399007269\n",
       ":   1.2039721729742910\n",
       ":   1.2269719510861511\n",
       ":   1.2269719510861512\n",
       ":   1.2578072932565113\n",
       ":   1.3499222803558914\n",
       ":   1.4092132985521115\n",
       ":   1.4759624177115516\n",
       ":   1.4759624177115517\n",
       ":   1.6280675273023418\n",
       ":   1.71177093991426\n",
       "\n",
       "\n",
       "$df\n",
       ":   14\n",
       "$residual.scale\n",
       ":   4.48827243360608\n",
       "\n",
       "\n"
      ],
      "text/plain": [
       "$fit\n",
       "       2        5        6        8        9       10       11       12 \n",
       "25.63348 29.47476 29.95492 31.87557 32.11565 32.83589 32.83589 33.07597 \n",
       "      13       14       15       16       17       18 \n",
       "33.55613 33.79621 34.03629 34.03629 34.51645 34.75653 \n",
       "\n",
       "$se.fit\n",
       "       2        5        6        8        9       10       11       12 \n",
       "3.561979 1.864630 1.687403 1.220202 1.203972 1.226972 1.226972 1.257807 \n",
       "      13       14       15       16       17       18 \n",
       "1.349922 1.409213 1.475962 1.475962 1.628068 1.711771 \n",
       "\n",
       "$df\n",
       "[1] 14\n",
       "\n",
       "$residual.scale\n",
       "[1] 4.488272\n"
      ]
     },
     "metadata": {},
     "output_type": "display_data"
    }
   ],
   "source": [
    "female_fit"
   ]
  },
  {
   "cell_type": "code",
   "execution_count": 37,
   "metadata": {},
   "outputs": [],
   "source": [
    "t_star <- qt(0.95, lm.1$df)"
   ]
  },
  {
   "cell_type": "code",
   "execution_count": 38,
   "metadata": {},
   "outputs": [],
   "source": [
    "conf_male_fit_lo <- male_fit$fit - t_star * male_fit$se.fit\n",
    "conf_male_fit_hi <- male_fit$fit + t_star * male_fit$se.fit"
   ]
  },
  {
   "cell_type": "code",
   "execution_count": 58,
   "metadata": {},
   "outputs": [],
   "source": [
    "conf_female_fit_lo <- female_fit$fit - t_star * female_fit$se.fit\n",
    "conf_female_fit_hi <- female_fit$fit + t_star * female_fit$se.fit"
   ]
  },
  {
   "cell_type": "code",
   "execution_count": 59,
   "metadata": {},
   "outputs": [
    {
     "data": {
      "text/html": [
       "<dl class=dl-horizontal>\n",
       "\t<dt>Female lower.2</dt>\n",
       "\t\t<dd>19.3597307447462</dd>\n",
       "\t<dt>Female lower.5</dt>\n",
       "\t\t<dd>26.1905710180784</dd>\n",
       "\t<dt>Female lower.6</dt>\n",
       "\t\t<dd>26.9828841872971</dd>\n",
       "\t<dt>Female lower.8</dt>\n",
       "\t\t<dd>29.7264105252212</dd>\n",
       "\t<dt>Female lower.9</dt>\n",
       "\t\t<dd>29.99507716776</dd>\n",
       "\t<dt>Female lower.10</dt>\n",
       "\t\t<dd>30.6748079682141</dd>\n",
       "\t<dt>Female lower.11</dt>\n",
       "\t\t<dd>30.6748079682141</dd>\n",
       "\t<dt>Female lower.12</dt>\n",
       "\t\t<dd>30.8605775484305</dd>\n",
       "\t<dt>Female lower.13</dt>\n",
       "\t\t<dd>31.1784948498377</dd>\n",
       "\t<dt>Female lower.14</dt>\n",
       "\t\t<dd>31.3141451594493</dd>\n",
       "\t<dt>Female lower.15</dt>\n",
       "\t\t<dd>31.4366594402408</dd>\n",
       "\t<dt>Female lower.16</dt>\n",
       "\t\t<dd>31.4366594402408</dd>\n",
       "\t<dt>Female lower.17</dt>\n",
       "\t\t<dd>31.6489155308575</dd>\n",
       "\t<dt>Female lower.18</dt>\n",
       "\t\t<dd>31.7415680427462</dd>\n",
       "\t<dt>Female higher.2</dt>\n",
       "\t\t<dd>31.907230603938</dd>\n",
       "\t<dt>Female higher.5</dt>\n",
       "\t\t<dd>32.7589561200795</dd>\n",
       "\t<dt>Female higher.6</dt>\n",
       "\t\t<dd>32.926963674545</dd>\n",
       "\t<dt>Female higher.8</dt>\n",
       "\t\t<dd>34.0247202313578</dd>\n",
       "\t<dt>Female higher.9</dt>\n",
       "\t\t<dd>34.2362139506611</dd>\n",
       "\t<dt>Female higher.10</dt>\n",
       "\t\t<dd>34.9969642357332</dd>\n",
       "\t<dt>Female higher.11</dt>\n",
       "\t\t<dd>34.9969642357332</dd>\n",
       "\t<dt>Female higher.12</dt>\n",
       "\t\t<dd>35.291355017359</dd>\n",
       "\t<dt>Female higher.13</dt>\n",
       "\t\t<dd>35.933758439636</dd>\n",
       "\t<dt>Female higher.14</dt>\n",
       "\t\t<dd>36.2782684918665</dd>\n",
       "\t<dt>Female higher.15</dt>\n",
       "\t\t<dd>36.6359145729171</dd>\n",
       "\t<dt>Female higher.16</dt>\n",
       "\t\t<dd>36.6359145729171</dd>\n",
       "\t<dt>Female higher.17</dt>\n",
       "\t\t<dd>37.3839792059846</dd>\n",
       "\t<dt>Female higher.18</dt>\n",
       "\t\t<dd>37.771487055938</dd>\n",
       "</dl>\n"
      ],
      "text/latex": [
       "\\begin{description*}\n",
       "\\item[Female lower.2] 19.3597307447462\n",
       "\\item[Female lower.5] 26.1905710180784\n",
       "\\item[Female lower.6] 26.9828841872971\n",
       "\\item[Female lower.8] 29.7264105252212\n",
       "\\item[Female lower.9] 29.99507716776\n",
       "\\item[Female lower.10] 30.6748079682141\n",
       "\\item[Female lower.11] 30.6748079682141\n",
       "\\item[Female lower.12] 30.8605775484305\n",
       "\\item[Female lower.13] 31.1784948498377\n",
       "\\item[Female lower.14] 31.3141451594493\n",
       "\\item[Female lower.15] 31.4366594402408\n",
       "\\item[Female lower.16] 31.4366594402408\n",
       "\\item[Female lower.17] 31.6489155308575\n",
       "\\item[Female lower.18] 31.7415680427462\n",
       "\\item[Female higher.2] 31.907230603938\n",
       "\\item[Female higher.5] 32.7589561200795\n",
       "\\item[Female higher.6] 32.926963674545\n",
       "\\item[Female higher.8] 34.0247202313578\n",
       "\\item[Female higher.9] 34.2362139506611\n",
       "\\item[Female higher.10] 34.9969642357332\n",
       "\\item[Female higher.11] 34.9969642357332\n",
       "\\item[Female higher.12] 35.291355017359\n",
       "\\item[Female higher.13] 35.933758439636\n",
       "\\item[Female higher.14] 36.2782684918665\n",
       "\\item[Female higher.15] 36.6359145729171\n",
       "\\item[Female higher.16] 36.6359145729171\n",
       "\\item[Female higher.17] 37.3839792059846\n",
       "\\item[Female higher.18] 37.771487055938\n",
       "\\end{description*}\n"
      ],
      "text/markdown": [
       "Female lower.2\n",
       ":   19.3597307447462Female lower.5\n",
       ":   26.1905710180784Female lower.6\n",
       ":   26.9828841872971Female lower.8\n",
       ":   29.7264105252212Female lower.9\n",
       ":   29.99507716776Female lower.10\n",
       ":   30.6748079682141Female lower.11\n",
       ":   30.6748079682141Female lower.12\n",
       ":   30.8605775484305Female lower.13\n",
       ":   31.1784948498377Female lower.14\n",
       ":   31.3141451594493Female lower.15\n",
       ":   31.4366594402408Female lower.16\n",
       ":   31.4366594402408Female lower.17\n",
       ":   31.6489155308575Female lower.18\n",
       ":   31.7415680427462Female higher.2\n",
       ":   31.907230603938Female higher.5\n",
       ":   32.7589561200795Female higher.6\n",
       ":   32.926963674545Female higher.8\n",
       ":   34.0247202313578Female higher.9\n",
       ":   34.2362139506611Female higher.10\n",
       ":   34.9969642357332Female higher.11\n",
       ":   34.9969642357332Female higher.12\n",
       ":   35.291355017359Female higher.13\n",
       ":   35.933758439636Female higher.14\n",
       ":   36.2782684918665Female higher.15\n",
       ":   36.6359145729171Female higher.16\n",
       ":   36.6359145729171Female higher.17\n",
       ":   37.3839792059846Female higher.18\n",
       ":   37.771487055938\n",
       "\n"
      ],
      "text/plain": [
       "  Female lower.2   Female lower.5   Female lower.6   Female lower.8 \n",
       "        19.35973         26.19057         26.98288         29.72641 \n",
       "  Female lower.9  Female lower.10  Female lower.11  Female lower.12 \n",
       "        29.99508         30.67481         30.67481         30.86058 \n",
       " Female lower.13  Female lower.14  Female lower.15  Female lower.16 \n",
       "        31.17849         31.31415         31.43666         31.43666 \n",
       " Female lower.17  Female lower.18  Female higher.2  Female higher.5 \n",
       "        31.64892         31.74157         31.90723         32.75896 \n",
       " Female higher.6  Female higher.8  Female higher.9 Female higher.10 \n",
       "        32.92696         34.02472         34.23621         34.99696 \n",
       "Female higher.11 Female higher.12 Female higher.13 Female higher.14 \n",
       "        34.99696         35.29136         35.93376         36.27827 \n",
       "Female higher.15 Female higher.16 Female higher.17 Female higher.18 \n",
       "        36.63591         36.63591         37.38398         37.77149 "
      ]
     },
     "metadata": {},
     "output_type": "display_data"
    }
   ],
   "source": [
    "c(\"Female lower\"=conf_female_fit_lo, \"Female higher\"=conf_female_fit_hi)"
   ]
  },
  {
   "cell_type": "code",
   "execution_count": 53,
   "metadata": {},
   "outputs": [
    {
     "data": {
      "text/html": [
       "<table>\n",
       "<thead><tr><th></th><th scope=col>Age</th><th scope=col>Percent.Fat</th><th scope=col>Gender</th><th scope=col>BMI</th></tr></thead>\n",
       "<tbody>\n",
       "\t<tr><th scope=row>1</th><td>23  </td><td> 9.5</td><td>M   </td><td>17.8</td></tr>\n",
       "\t<tr><th scope=row>3</th><td>27  </td><td> 7.8</td><td>M   </td><td>24.6</td></tr>\n",
       "\t<tr><th scope=row>4</th><td>27  </td><td>17.8</td><td>M   </td><td>20.5</td></tr>\n",
       "\t<tr><th scope=row>7</th><td>45  </td><td>27.4</td><td>M   </td><td>26.0</td></tr>\n",
       "</tbody>\n",
       "</table>\n"
      ],
      "text/latex": [
       "\\begin{tabular}{r|llll}\n",
       "  & Age & Percent.Fat & Gender & BMI\\\\\n",
       "\\hline\n",
       "\t1 & 23   &  9.5 & M    & 17.8\\\\\n",
       "\t3 & 27   &  7.8 & M    & 24.6\\\\\n",
       "\t4 & 27   & 17.8 & M    & 20.5\\\\\n",
       "\t7 & 45   & 27.4 & M    & 26.0\\\\\n",
       "\\end{tabular}\n"
      ],
      "text/markdown": [
       "\n",
       "| <!--/--> | Age | Percent.Fat | Gender | BMI |\n",
       "|---|---|---|---|---|\n",
       "| 1 | 23   |  9.5 | M    | 17.8 |\n",
       "| 3 | 27   |  7.8 | M    | 24.6 |\n",
       "| 4 | 27   | 17.8 | M    | 20.5 |\n",
       "| 7 | 45   | 27.4 | M    | 26.0 |\n",
       "\n"
      ],
      "text/plain": [
       "  Age Percent.Fat Gender BMI \n",
       "1 23   9.5        M      17.8\n",
       "3 27   7.8        M      24.6\n",
       "4 27  17.8        M      20.5\n",
       "7 45  27.4        M      26.0"
      ]
     },
     "metadata": {},
     "output_type": "display_data"
    }
   ],
   "source": [
    "humanfat[humanfat$Gender==\"M\",]"
   ]
  },
  {
   "cell_type": "code",
   "execution_count": 60,
   "metadata": {},
   "outputs": [
    {
     "data": {
      "text/html": [
       "<dl class=dl-horizontal>\n",
       "\t<dt>1</dt>\n",
       "\t\t<dd>0.443298969072165</dd>\n",
       "\t<dt>2</dt>\n",
       "\t\t<dd>0.629831414473684</dd>\n",
       "\t<dt>3</dt>\n",
       "\t\t<dd>0.292096219931272</dd>\n",
       "\t<dt>4</dt>\n",
       "\t\t<dd>0.292096219931271</dd>\n",
       "\t<dt>5</dt>\n",
       "\t\t<dd>0.172594572368421</dd>\n",
       "\t<dt>6</dt>\n",
       "\t\t<dd>0.141344572368421</dd>\n",
       "\t<dt>7</dt>\n",
       "\t\t<dd>0.972508591065292</dd>\n",
       "\t<dt>8</dt>\n",
       "\t\t<dd>0.0739103618421053</dd>\n",
       "\t<dt>9</dt>\n",
       "\t\t<dd>0.0719572368421053</dd>\n",
       "\t<dt>10</dt>\n",
       "\t\t<dd>0.0747327302631579</dd>\n",
       "\t<dt>11</dt>\n",
       "\t\t<dd>0.0747327302631579</dd>\n",
       "\t<dt>12</dt>\n",
       "\t\t<dd>0.0785361842105263</dd>\n",
       "\t<dt>13</dt>\n",
       "\t\t<dd>0.0904605263157895</dd>\n",
       "\t<dt>14</dt>\n",
       "\t\t<dd>0.0985814144736842</dd>\n",
       "\t<dt>15</dt>\n",
       "\t\t<dd>0.108141447368421</dd>\n",
       "\t<dt>16</dt>\n",
       "\t\t<dd>0.108141447368421</dd>\n",
       "\t<dt>17</dt>\n",
       "\t\t<dd>0.131578947368421</dd>\n",
       "\t<dt>18</dt>\n",
       "\t\t<dd>0.145456414473684</dd>\n",
       "</dl>\n"
      ],
      "text/latex": [
       "\\begin{description*}\n",
       "\\item[1] 0.443298969072165\n",
       "\\item[2] 0.629831414473684\n",
       "\\item[3] 0.292096219931272\n",
       "\\item[4] 0.292096219931271\n",
       "\\item[5] 0.172594572368421\n",
       "\\item[6] 0.141344572368421\n",
       "\\item[7] 0.972508591065292\n",
       "\\item[8] 0.0739103618421053\n",
       "\\item[9] 0.0719572368421053\n",
       "\\item[10] 0.0747327302631579\n",
       "\\item[11] 0.0747327302631579\n",
       "\\item[12] 0.0785361842105263\n",
       "\\item[13] 0.0904605263157895\n",
       "\\item[14] 0.0985814144736842\n",
       "\\item[15] 0.108141447368421\n",
       "\\item[16] 0.108141447368421\n",
       "\\item[17] 0.131578947368421\n",
       "\\item[18] 0.145456414473684\n",
       "\\end{description*}\n"
      ],
      "text/markdown": [
       "1\n",
       ":   0.4432989690721652\n",
       ":   0.6298314144736843\n",
       ":   0.2920962199312724\n",
       ":   0.2920962199312715\n",
       ":   0.1725945723684216\n",
       ":   0.1413445723684217\n",
       ":   0.9725085910652928\n",
       ":   0.07391036184210539\n",
       ":   0.071957236842105310\n",
       ":   0.074732730263157911\n",
       ":   0.074732730263157912\n",
       ":   0.078536184210526313\n",
       ":   0.090460526315789514\n",
       ":   0.098581414473684215\n",
       ":   0.10814144736842116\n",
       ":   0.10814144736842117\n",
       ":   0.13157894736842118\n",
       ":   0.145456414473684\n",
       "\n"
      ],
      "text/plain": [
       "         1          2          3          4          5          6          7 \n",
       "0.44329897 0.62983141 0.29209622 0.29209622 0.17259457 0.14134457 0.97250859 \n",
       "         8          9         10         11         12         13         14 \n",
       "0.07391036 0.07195724 0.07473273 0.07473273 0.07853618 0.09046053 0.09858141 \n",
       "        15         16         17         18 \n",
       "0.10814145 0.10814145 0.13157895 0.14545641 "
      ]
     },
     "metadata": {},
     "output_type": "display_data"
    }
   ],
   "source": [
    "hatvalues(lm.1)"
   ]
  },
  {
   "cell_type": "code",
   "execution_count": 61,
   "metadata": {},
   "outputs": [
    {
     "data": {
      "text/html": [
       "<dl class=dl-horizontal>\n",
       "\t<dt>1</dt>\n",
       "\t\t<dd>1.69798284901801e-05</dd>\n",
       "\t<dt>2</dt>\n",
       "\t\t<dd>0.293039146360762</dd>\n",
       "\t<dt>3</dt>\n",
       "\t\t<dd>0.179477298327837</dd>\n",
       "\t<dt>4</dt>\n",
       "\t\t<dd>0.182211677631462</dd>\n",
       "\t<dt>5</dt>\n",
       "\t\t<dd>0.0115968525078371</dd>\n",
       "\t<dt>6</dt>\n",
       "\t\t<dd>0.039119050784625</dd>\n",
       "\t<dt>7</dt>\n",
       "\t\t<dd>0.000754319008683485</dd>\n",
       "\t<dt>8</dt>\n",
       "\t\t<dd>0.047660322175197</dd>\n",
       "\t<dt>9</dt>\n",
       "\t\t<dd>0.0010695582380874</dd>\n",
       "\t<dt>10</dt>\n",
       "\t\t<dd>0.00376446207529692</dd>\n",
       "\t<dt>11</dt>\n",
       "\t\t<dd>0.090978546476654</dd>\n",
       "\t<dt>12</dt>\n",
       "\t\t<dd>0.0181459704173522</dd>\n",
       "\t<dt>13</dt>\n",
       "\t\t<dd>0.00151366438724473</dd>\n",
       "\t<dt>14</dt>\n",
       "\t\t<dd>0.0184042383774138</dd>\n",
       "\t<dt>15</dt>\n",
       "\t\t<dd>0.00181193205750907</dd>\n",
       "\t<dt>16</dt>\n",
       "\t\t<dd>9.42022951377814e-05</dd>\n",
       "\t<dt>17</dt>\n",
       "\t\t<dd>0.0938486290915479</dd>\n",
       "\t<dt>18</dt>\n",
       "\t\t<dd>0.000162672467167601</dd>\n",
       "</dl>\n"
      ],
      "text/latex": [
       "\\begin{description*}\n",
       "\\item[1] 1.69798284901801e-05\n",
       "\\item[2] 0.293039146360762\n",
       "\\item[3] 0.179477298327837\n",
       "\\item[4] 0.182211677631462\n",
       "\\item[5] 0.0115968525078371\n",
       "\\item[6] 0.039119050784625\n",
       "\\item[7] 0.000754319008683485\n",
       "\\item[8] 0.047660322175197\n",
       "\\item[9] 0.0010695582380874\n",
       "\\item[10] 0.00376446207529692\n",
       "\\item[11] 0.090978546476654\n",
       "\\item[12] 0.0181459704173522\n",
       "\\item[13] 0.00151366438724473\n",
       "\\item[14] 0.0184042383774138\n",
       "\\item[15] 0.00181193205750907\n",
       "\\item[16] 9.42022951377814e-05\n",
       "\\item[17] 0.0938486290915479\n",
       "\\item[18] 0.000162672467167601\n",
       "\\end{description*}\n"
      ],
      "text/markdown": [
       "1\n",
       ":   1.69798284901801e-052\n",
       ":   0.2930391463607623\n",
       ":   0.1794772983278374\n",
       ":   0.1822116776314625\n",
       ":   0.01159685250783716\n",
       ":   0.0391190507846257\n",
       ":   0.0007543190086834858\n",
       ":   0.0476603221751979\n",
       ":   0.001069558238087410\n",
       ":   0.0037644620752969211\n",
       ":   0.09097854647665412\n",
       ":   0.018145970417352213\n",
       ":   0.0015136643872447314\n",
       ":   0.018404238377413815\n",
       ":   0.0018119320575090716\n",
       ":   9.42022951377814e-0517\n",
       ":   0.093848629091547918\n",
       ":   0.000162672467167601\n",
       "\n"
      ],
      "text/plain": [
       "           1            2            3            4            5            6 \n",
       "1.697983e-05 2.930391e-01 1.794773e-01 1.822117e-01 1.159685e-02 3.911905e-02 \n",
       "           7            8            9           10           11           12 \n",
       "7.543190e-04 4.766032e-02 1.069558e-03 3.764462e-03 9.097855e-02 1.814597e-02 \n",
       "          13           14           15           16           17           18 \n",
       "1.513664e-03 1.840424e-02 1.811932e-03 9.420230e-05 9.384863e-02 1.626725e-04 "
      ]
     },
     "metadata": {},
     "output_type": "display_data"
    }
   ],
   "source": [
    "cooks.distance(lm.1)"
   ]
  },
  {
   "cell_type": "code",
   "execution_count": 62,
   "metadata": {},
   "outputs": [
    {
     "data": {
      "text/html": [
       "0.82841803323407"
      ],
      "text/latex": [
       "0.82841803323407"
      ],
      "text/markdown": [
       "0.82841803323407"
      ],
      "text/plain": [
       "[1] 0.828418"
      ]
     },
     "metadata": {},
     "output_type": "display_data"
    }
   ],
   "source": [
    "qf(0.5, 3, 14)"
   ]
  },
  {
   "cell_type": "code",
   "execution_count": 63,
   "metadata": {},
   "outputs": [
    {
     "data": {
      "text/html": [
       "<dl class=dl-horizontal>\n",
       "\t<dt>1</dt>\n",
       "\t\t<dd>-0.00889955473944584</dd>\n",
       "\t<dt>2</dt>\n",
       "\t\t<dd>0.820248152504609</dd>\n",
       "\t<dt>3</dt>\n",
       "\t\t<dd>-1.35826063724869</dd>\n",
       "\t<dt>4</dt>\n",
       "\t\t<dd>1.37005011941245</dd>\n",
       "\t<dt>5</dt>\n",
       "\t\t<dd>0.458068278720175</dd>\n",
       "\t<dt>6</dt>\n",
       "\t\t<dd>-0.973128274788309</dd>\n",
       "\t<dt>7</dt>\n",
       "\t\t<dd>-0.00889955473944901</dd>\n",
       "\t<dt>8</dt>\n",
       "\t\t<dd>-1.63536198428248</dd>\n",
       "\t<dt>9</dt>\n",
       "\t\t<dd>-0.226800570263594</dd>\n",
       "\t<dt>10</dt>\n",
       "\t\t<dd>0.418869142196907</dd>\n",
       "\t<dt>11</dt>\n",
       "\t\t<dd>2.4837977155462</dd>\n",
       "\t<dt>12</dt>\n",
       "\t\t<dd>-0.917613900219305</dd>\n",
       "\t<dt>13</dt>\n",
       "\t\t<dd>-0.238275813788917</dd>\n",
       "\t<dt>14</dt>\n",
       "\t\t<dd>-0.810331103515182</dd>\n",
       "\t<dt>15</dt>\n",
       "\t\t<dd>-0.236096531272074</dd>\n",
       "\t<dt>16</dt>\n",
       "\t\t<dd>-0.0537240201862568</dd>\n",
       "\t<dt>17</dt>\n",
       "\t\t<dd>1.67192273730735</dd>\n",
       "\t<dt>18</dt>\n",
       "\t\t<dd>-0.0595874296051609</dd>\n",
       "</dl>\n"
      ],
      "text/latex": [
       "\\begin{description*}\n",
       "\\item[1] -0.00889955473944584\n",
       "\\item[2] 0.820248152504609\n",
       "\\item[3] -1.35826063724869\n",
       "\\item[4] 1.37005011941245\n",
       "\\item[5] 0.458068278720175\n",
       "\\item[6] -0.973128274788309\n",
       "\\item[7] -0.00889955473944901\n",
       "\\item[8] -1.63536198428248\n",
       "\\item[9] -0.226800570263594\n",
       "\\item[10] 0.418869142196907\n",
       "\\item[11] 2.4837977155462\n",
       "\\item[12] -0.917613900219305\n",
       "\\item[13] -0.238275813788917\n",
       "\\item[14] -0.810331103515182\n",
       "\\item[15] -0.236096531272074\n",
       "\\item[16] -0.0537240201862568\n",
       "\\item[17] 1.67192273730735\n",
       "\\item[18] -0.0595874296051609\n",
       "\\end{description*}\n"
      ],
      "text/markdown": [
       "1\n",
       ":   -0.008899554739445842\n",
       ":   0.8202481525046093\n",
       ":   -1.358260637248694\n",
       ":   1.370050119412455\n",
       ":   0.4580682787201756\n",
       ":   -0.9731282747883097\n",
       ":   -0.008899554739449018\n",
       ":   -1.635361984282489\n",
       ":   -0.22680057026359410\n",
       ":   0.41886914219690711\n",
       ":   2.483797715546212\n",
       ":   -0.91761390021930513\n",
       ":   -0.23827581378891714\n",
       ":   -0.81033110351518215\n",
       ":   -0.23609653127207416\n",
       ":   -0.053724020186256817\n",
       ":   1.6719227373073518\n",
       ":   -0.0595874296051609\n",
       "\n"
      ],
      "text/plain": [
       "           1            2            3            4            5            6 \n",
       "-0.008899555  0.820248153 -1.358260637  1.370050119  0.458068279 -0.973128275 \n",
       "           7            8            9           10           11           12 \n",
       "-0.008899555 -1.635361984 -0.226800570  0.418869142  2.483797716 -0.917613900 \n",
       "          13           14           15           16           17           18 \n",
       "-0.238275814 -0.810331104 -0.236096531 -0.053724020  1.671922737 -0.059587430 "
      ]
     },
     "metadata": {},
     "output_type": "display_data"
    }
   ],
   "source": [
    "rstudent(lm.1)"
   ]
  },
  {
   "cell_type": "code",
   "execution_count": 64,
   "metadata": {},
   "outputs": [
    {
     "data": {
      "text/html": [
       "<dl class=dl-horizontal>\n",
       "\t<dt>1</dt>\n",
       "\t\t<dd>-0.00923547628350755</dd>\n",
       "\t<dt>2</dt>\n",
       "\t\t<dd>0.830004479880427</dd>\n",
       "\t<dt>3</dt>\n",
       "\t\t<dd>-1.31904285183095</dd>\n",
       "\t<dt>4</dt>\n",
       "\t\t<dd>1.32905283552888</dd>\n",
       "\t<dt>5</dt>\n",
       "\t\t<dd>0.471569467377216</dd>\n",
       "\t<dt>6</dt>\n",
       "\t\t<dd>-0.974976260714593</dd>\n",
       "\t<dt>7</dt>\n",
       "\t\t<dd>-0.00923547628351084</dd>\n",
       "\t<dt>8</dt>\n",
       "\t\t<dd>-1.54554740693156</dd>\n",
       "\t<dt>9</dt>\n",
       "\t\t<dd>-0.234897810893564</dd>\n",
       "\t<dt>10</dt>\n",
       "\t\t<dd>0.431777128941559</dd>\n",
       "\t<dt>11</dt>\n",
       "\t\t<dd>2.1226464715341</dd>\n",
       "\t<dt>12</dt>\n",
       "\t\t<dd>-0.922835599425057</dd>\n",
       "\t<dt>13</dt>\n",
       "\t\t<dd>-0.246732303393608</dd>\n",
       "\t<dt>14</dt>\n",
       "\t\t<dd>-0.820454784567989</dd>\n",
       "\t<dt>15</dt>\n",
       "\t\t<dd>-0.244485356353479</dd>\n",
       "\t<dt>16</dt>\n",
       "\t\t<dd>-0.0557458625249595</dd>\n",
       "\t<dt>17</dt>\n",
       "\t\t<dd>1.57404059922763</dd>\n",
       "\t<dt>18</dt>\n",
       "\t\t<dd>-0.0618283551212667</dd>\n",
       "</dl>\n"
      ],
      "text/latex": [
       "\\begin{description*}\n",
       "\\item[1] -0.00923547628350755\n",
       "\\item[2] 0.830004479880427\n",
       "\\item[3] -1.31904285183095\n",
       "\\item[4] 1.32905283552888\n",
       "\\item[5] 0.471569467377216\n",
       "\\item[6] -0.974976260714593\n",
       "\\item[7] -0.00923547628351084\n",
       "\\item[8] -1.54554740693156\n",
       "\\item[9] -0.234897810893564\n",
       "\\item[10] 0.431777128941559\n",
       "\\item[11] 2.1226464715341\n",
       "\\item[12] -0.922835599425057\n",
       "\\item[13] -0.246732303393608\n",
       "\\item[14] -0.820454784567989\n",
       "\\item[15] -0.244485356353479\n",
       "\\item[16] -0.0557458625249595\n",
       "\\item[17] 1.57404059922763\n",
       "\\item[18] -0.0618283551212667\n",
       "\\end{description*}\n"
      ],
      "text/markdown": [
       "1\n",
       ":   -0.009235476283507552\n",
       ":   0.8300044798804273\n",
       ":   -1.319042851830954\n",
       ":   1.329052835528885\n",
       ":   0.4715694673772166\n",
       ":   -0.9749762607145937\n",
       ":   -0.009235476283510848\n",
       ":   -1.545547406931569\n",
       ":   -0.23489781089356410\n",
       ":   0.43177712894155911\n",
       ":   2.122646471534112\n",
       ":   -0.92283559942505713\n",
       ":   -0.24673230339360814\n",
       ":   -0.82045478456798915\n",
       ":   -0.24448535635347916\n",
       ":   -0.055745862524959517\n",
       ":   1.5740405992276318\n",
       ":   -0.0618283551212667\n",
       "\n"
      ],
      "text/plain": [
       "           1            2            3            4            5            6 \n",
       "-0.009235476  0.830004480 -1.319042852  1.329052836  0.471569467 -0.974976261 \n",
       "           7            8            9           10           11           12 \n",
       "-0.009235476 -1.545547407 -0.234897811  0.431777129  2.122646472 -0.922835599 \n",
       "          13           14           15           16           17           18 \n",
       "-0.246732303 -0.820454785 -0.244485356 -0.055745863  1.574040599 -0.061828355 "
      ]
     },
     "metadata": {},
     "output_type": "display_data"
    }
   ],
   "source": [
    "rstandard(lm.1)"
   ]
  },
  {
   "cell_type": "markdown",
   "metadata": {},
   "source": [
    "Câu 3.10, 3.11, 3.12 chưa làm được :("
   ]
  },
  {
   "cell_type": "code",
   "execution_count": 65,
   "metadata": {},
   "outputs": [
    {
     "data": {
      "text/plain": [
       "Influence measures of\n",
       "\t lm(formula = Percent.Fat ~ Age * factor(Gender), data = humanfat) :\n",
       "\n",
       "      dfb.1_   dfb.Age dfb.f.G. dfb.A..G    dffit  cov.r   cook.d    hat inf\n",
       "1   1.06e-18 -2.04e-18 -0.00533  0.00477 -0.00794  2.416 1.70e-05 0.4433   *\n",
       "2   1.06e+00 -1.01e+00 -0.63410  0.41920  1.06994  2.969 2.93e-01 0.6298   *\n",
       "3   0.00e+00  0.00e+00 -0.42934  0.30119 -0.87249  1.117 1.79e-01 0.2921    \n",
       "4   6.03e-16 -5.58e-16  0.43307 -0.30380  0.88006  1.108 1.82e-01 0.2921    \n",
       "5   1.83e-01 -1.60e-01 -0.10972  0.06665  0.20921  1.525 1.16e-02 0.1726    \n",
       "6  -3.26e-01  2.78e-01  0.19568 -0.11554 -0.39482  1.182 3.91e-02 0.1413    \n",
       "7   3.72e-17 -3.26e-17  0.02939 -0.04149 -0.05293 48.925 7.54e-04 0.9725   *\n",
       "8  -1.70e-01  8.47e-02  0.10213 -0.03523 -0.46200  0.687 4.77e-02 0.0739    \n",
       "9  -1.74e-02  5.41e-03  0.01043 -0.00225 -0.06315  1.427 1.07e-03 0.0720    \n",
       "10 -2.19e-03  2.50e-02  0.00131 -0.01042  0.11904  1.378 3.76e-03 0.0747    \n",
       "11 -1.30e-02  1.48e-01  0.00778 -0.06176  0.70589  0.307 9.10e-02 0.0747    \n",
       "12  3.00e-02 -8.06e-02 -0.01796  0.03353 -0.26789  1.136 1.81e-02 0.0785    \n",
       "13  2.10e-02 -3.45e-02 -0.01258  0.01434 -0.07514  1.453 1.51e-03 0.0905    \n",
       "14  9.42e-02 -1.41e-01 -0.05644  0.05852 -0.26798  1.225 1.84e-02 0.0986    \n",
       "15  3.42e-02 -4.79e-02 -0.02048  0.01993 -0.08221  1.483 1.81e-03 0.1081    \n",
       "16  7.77e-03 -1.09e-02 -0.00466  0.00454 -0.01871  1.507 9.42e-05 0.1081    \n",
       "17 -3.40e-01  4.40e-01  0.20357 -0.18309  0.65080  0.711 9.38e-02 0.1316    \n",
       "18  1.39e-02 -1.75e-02 -0.00833  0.00730 -0.02458  1.572 1.63e-04 0.1455    "
      ]
     },
     "metadata": {},
     "output_type": "display_data"
    }
   ],
   "source": [
    "influence.measures(lm.1)"
   ]
  },
  {
   "cell_type": "code",
   "execution_count": 66,
   "metadata": {},
   "outputs": [
    {
     "data": {
      "text/html": [
       "<dl class=dl-horizontal>\n",
       "\t<dt>1</dt>\n",
       "\t\t<dd>1</dd>\n",
       "\t<dt>2</dt>\n",
       "\t\t<dd>3</dd>\n",
       "\t<dt>3</dt>\n",
       "\t\t<dd>0</dd>\n",
       "\t<dt>4</dt>\n",
       "\t\t<dd>0</dd>\n",
       "\t<dt>5</dt>\n",
       "\t\t<dd>0</dd>\n",
       "\t<dt>6</dt>\n",
       "\t\t<dd>0</dd>\n",
       "\t<dt>7</dt>\n",
       "\t\t<dd>2</dd>\n",
       "\t<dt>8</dt>\n",
       "\t\t<dd>0</dd>\n",
       "\t<dt>9</dt>\n",
       "\t\t<dd>0</dd>\n",
       "\t<dt>10</dt>\n",
       "\t\t<dd>0</dd>\n",
       "\t<dt>11</dt>\n",
       "\t\t<dd>0</dd>\n",
       "\t<dt>12</dt>\n",
       "\t\t<dd>0</dd>\n",
       "\t<dt>13</dt>\n",
       "\t\t<dd>0</dd>\n",
       "\t<dt>14</dt>\n",
       "\t\t<dd>0</dd>\n",
       "\t<dt>15</dt>\n",
       "\t\t<dd>0</dd>\n",
       "\t<dt>16</dt>\n",
       "\t\t<dd>0</dd>\n",
       "\t<dt>17</dt>\n",
       "\t\t<dd>0</dd>\n",
       "\t<dt>18</dt>\n",
       "\t\t<dd>0</dd>\n",
       "</dl>\n"
      ],
      "text/latex": [
       "\\begin{description*}\n",
       "\\item[1] 1\n",
       "\\item[2] 3\n",
       "\\item[3] 0\n",
       "\\item[4] 0\n",
       "\\item[5] 0\n",
       "\\item[6] 0\n",
       "\\item[7] 2\n",
       "\\item[8] 0\n",
       "\\item[9] 0\n",
       "\\item[10] 0\n",
       "\\item[11] 0\n",
       "\\item[12] 0\n",
       "\\item[13] 0\n",
       "\\item[14] 0\n",
       "\\item[15] 0\n",
       "\\item[16] 0\n",
       "\\item[17] 0\n",
       "\\item[18] 0\n",
       "\\end{description*}\n"
      ],
      "text/markdown": [
       "1\n",
       ":   12\n",
       ":   33\n",
       ":   04\n",
       ":   05\n",
       ":   06\n",
       ":   07\n",
       ":   28\n",
       ":   09\n",
       ":   010\n",
       ":   011\n",
       ":   012\n",
       ":   013\n",
       ":   014\n",
       ":   015\n",
       ":   016\n",
       ":   017\n",
       ":   018\n",
       ":   0\n",
       "\n"
      ],
      "text/plain": [
       " 1  2  3  4  5  6  7  8  9 10 11 12 13 14 15 16 17 18 \n",
       " 1  3  0  0  0  0  2  0  0  0  0  0  0  0  0  0  0  0 "
      ]
     },
     "metadata": {},
     "output_type": "display_data"
    }
   ],
   "source": [
    "rowSums(influence.measures(lm.1)$is.inf)"
   ]
  },
  {
   "cell_type": "code",
   "execution_count": 67,
   "metadata": {},
   "outputs": [
    {
     "data": {
      "text/html": [
       "<dl class=dl-horizontal>\n",
       "\t<dt>dfb.1_</dt>\n",
       "\t\t<dd>1</dd>\n",
       "\t<dt>dfb.Age</dt>\n",
       "\t\t<dd>1</dd>\n",
       "\t<dt>dfb.f(G)</dt>\n",
       "\t\t<dd>0</dd>\n",
       "\t<dt>dfb.A:(G</dt>\n",
       "\t\t<dd>0</dd>\n",
       "\t<dt>dffit</dt>\n",
       "\t\t<dd>0</dd>\n",
       "\t<dt>cov.r</dt>\n",
       "\t\t<dd>3</dd>\n",
       "\t<dt>cook.d</dt>\n",
       "\t\t<dd>0</dd>\n",
       "\t<dt>hat</dt>\n",
       "\t\t<dd>1</dd>\n",
       "</dl>\n"
      ],
      "text/latex": [
       "\\begin{description*}\n",
       "\\item[dfb.1\\textbackslash{}\\_] 1\n",
       "\\item[dfb.Age] 1\n",
       "\\item[dfb.f(G)] 0\n",
       "\\item[dfb.A:(G] 0\n",
       "\\item[dffit] 0\n",
       "\\item[cov.r] 3\n",
       "\\item[cook.d] 0\n",
       "\\item[hat] 1\n",
       "\\end{description*}\n"
      ],
      "text/markdown": [
       "dfb.1_\n",
       ":   1dfb.Age\n",
       ":   1dfb.f(G)\n",
       ":   0dfb.A:(G\n",
       ":   0dffit\n",
       ":   0cov.r\n",
       ":   3cook.d\n",
       ":   0hat\n",
       ":   1\n",
       "\n"
      ],
      "text/plain": [
       "  dfb.1_  dfb.Age dfb.f(G) dfb.A:(G    dffit    cov.r   cook.d      hat \n",
       "       1        1        0        0        0        3        0        1 "
      ]
     },
     "metadata": {},
     "output_type": "display_data"
    }
   ],
   "source": [
    "colSums(influence.measures(lm.1)$is.inf)"
   ]
  }
 ],
 "metadata": {
  "kernelspec": {
   "display_name": "R",
   "language": "R",
   "name": "ir"
  },
  "language_info": {
   "codemirror_mode": "r",
   "file_extension": ".r",
   "mimetype": "text/x-r-source",
   "name": "R",
   "pygments_lexer": "r",
   "version": "3.6.1"
  },
  "orig_nbformat": 4
 },
 "nbformat": 4,
 "nbformat_minor": 2
}
