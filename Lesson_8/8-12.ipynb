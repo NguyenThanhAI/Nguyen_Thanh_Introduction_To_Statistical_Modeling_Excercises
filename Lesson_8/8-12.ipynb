{
 "cells": [
  {
   "cell_type": "code",
   "execution_count": 1,
   "metadata": {},
   "outputs": [
    {
     "name": "stderr",
     "output_type": "stream",
     "text": [
      "Warning message:\n",
      "\"package 'statmod' was built under R version 3.6.3\""
     ]
    }
   ],
   "source": [
    "library(GLMsData)\n",
    "library(statmod)"
   ]
  },
  {
   "cell_type": "code",
   "execution_count": 2,
   "metadata": {},
   "outputs": [],
   "source": [
    "data(nambeware)"
   ]
  },
  {
   "cell_type": "code",
   "execution_count": 3,
   "metadata": {},
   "outputs": [
    {
     "name": "stdout",
     "output_type": "stream",
     "text": [
      "'data.frame':\t59 obs. of  4 variables:\n",
      " $ Type : Factor w/ 5 levels \"Bowl\",\"CassDish\",..: 2 2 2 1 3 2 5 5 3 3 ...\n",
      " $ Diam : num  10.7 14 9 8 10 10.5 16 15 6.5 5 ...\n",
      " $ Time : num  47.6 63.1 58.8 34.9 55.5 ...\n",
      " $ Price: num  144 215 105 69 134 129 155 99 38.5 36.5 ...\n"
     ]
    }
   ],
   "source": [
    "str(nambeware)"
   ]
  },
  {
   "cell_type": "code",
   "execution_count": 4,
   "metadata": {},
   "outputs": [],
   "source": [
    "gamma.lm <- glm(Price ~ Diam, family = Gamma(link=\"log\"), data=nambeware)"
   ]
  },
  {
   "cell_type": "code",
   "execution_count": 5,
   "metadata": {},
   "outputs": [
    {
     "data": {
      "text/html": [
       "<table>\n",
       "<thead><tr><th></th><th scope=col>Estimate</th><th scope=col>Std. Error</th><th scope=col>t value</th><th scope=col>Pr(&gt;|t|)</th></tr></thead>\n",
       "<tbody>\n",
       "\t<tr><th scope=row>(Intercept)</th><td>2.9629331   </td><td>0.15618048  </td><td>18.971213   </td><td>2.655723e-26</td></tr>\n",
       "\t<tr><th scope=row>Diam</th><td>0.1272179   </td><td>0.01349224  </td><td> 9.428973   </td><td>3.100673e-13</td></tr>\n",
       "</tbody>\n",
       "</table>\n"
      ],
      "text/latex": [
       "\\begin{tabular}{r|llll}\n",
       "  & Estimate & Std. Error & t value & Pr(>\\textbar{}t\\textbar{})\\\\\n",
       "\\hline\n",
       "\t(Intercept) & 2.9629331    & 0.15618048   & 18.971213    & 2.655723e-26\\\\\n",
       "\tDiam & 0.1272179    & 0.01349224   &  9.428973    & 3.100673e-13\\\\\n",
       "\\end{tabular}\n"
      ],
      "text/markdown": [
       "\n",
       "| <!--/--> | Estimate | Std. Error | t value | Pr(>|t|) |\n",
       "|---|---|---|---|---|\n",
       "| (Intercept) | 2.9629331    | 0.15618048   | 18.971213    | 2.655723e-26 |\n",
       "| Diam | 0.1272179    | 0.01349224   |  9.428973    | 3.100673e-13 |\n",
       "\n"
      ],
      "text/plain": [
       "            Estimate  Std. Error t value   Pr(>|t|)    \n",
       "(Intercept) 2.9629331 0.15618048 18.971213 2.655723e-26\n",
       "Diam        0.1272179 0.01349224  9.428973 3.100673e-13"
      ]
     },
     "metadata": {},
     "output_type": "display_data"
    }
   ],
   "source": [
    "coef(summary(gamma.lm))"
   ]
  },
  {
   "cell_type": "code",
   "execution_count": 10,
   "metadata": {},
   "outputs": [
    {
     "data": {
      "text/html": [
       "<table>\n",
       "<thead><tr><th></th><th scope=col>Df</th><th scope=col>Deviance</th><th scope=col>Resid. Df</th><th scope=col>Resid. Dev</th><th scope=col>F</th><th scope=col>Pr(&gt;F)</th></tr></thead>\n",
       "<tbody>\n",
       "\t<tr><th scope=row>NULL</th><td>NA          </td><td>      NA    </td><td>58          </td><td>20.267870   </td><td>      NA    </td><td>          NA</td></tr>\n",
       "\t<tr><th scope=row>Diam</th><td> 1          </td><td>12.47417    </td><td>57          </td><td> 7.793702   </td><td>79.59257    </td><td>2.074969e-12</td></tr>\n",
       "</tbody>\n",
       "</table>\n"
      ],
      "text/latex": [
       "\\begin{tabular}{r|llllll}\n",
       "  & Df & Deviance & Resid. Df & Resid. Dev & F & Pr(>F)\\\\\n",
       "\\hline\n",
       "\tNULL & NA           &       NA     & 58           & 20.267870    &       NA     &           NA\\\\\n",
       "\tDiam &  1           & 12.47417     & 57           &  7.793702    & 79.59257     & 2.074969e-12\\\\\n",
       "\\end{tabular}\n"
      ],
      "text/markdown": [
       "\n",
       "| <!--/--> | Df | Deviance | Resid. Df | Resid. Dev | F | Pr(>F) |\n",
       "|---|---|---|---|---|---|---|\n",
       "| NULL | NA           |       NA     | 58           | 20.267870    |       NA     |           NA |\n",
       "| Diam |  1           | 12.47417     | 57           |  7.793702    | 79.59257     | 2.074969e-12 |\n",
       "\n"
      ],
      "text/plain": [
       "     Df Deviance Resid. Df Resid. Dev F        Pr(>F)      \n",
       "NULL NA       NA 58        20.267870        NA           NA\n",
       "Diam  1 12.47417 57         7.793702  79.59257 2.074969e-12"
      ]
     },
     "metadata": {},
     "output_type": "display_data"
    }
   ],
   "source": [
    "anova(gamma.lm, test=\"F\")"
   ]
  },
  {
   "cell_type": "code",
   "execution_count": 12,
   "metadata": {},
   "outputs": [
    {
     "data": {
      "text/plain": [
       "\n",
       "\tShapiro-Wilk normality test\n",
       "\n",
       "data:  qresid(gamma.lm)\n",
       "W = 0.92854, p-value = 0.001908\n"
      ]
     },
     "metadata": {},
     "output_type": "display_data"
    },
    {
     "data": {
      "image/png": "[encoded data removed]",
      "text/plain": [
       "Plot with title \"Normal Q-Q Plot\""
      ]
     },
     "metadata": {},
     "output_type": "display_data"
    }
   ],
   "source": [
    "par(mfrow=c(3, 3))\n",
    "scatter.smooth(rstandard(gamma.lm) ~ log(fitted(gamma.lm)))\n",
    "scatter.smooth(rstandard(gamma.lm) ~ nambeware$Diam)\n",
    "\n",
    "z <- resid(gamma.lm, type=\"working\") + gamma.lm$linear.predictor\n",
    "plot(z ~ gamma.lm$linear.predictor)\n",
    "abline(0, 1)\n",
    "termplot(gamma.lm, partial.resid=TRUE, las=1)\n",
    "qqnorm(qresid(gamma.lm))\n",
    "qqline(qresid(gamma.lm))\n",
    "shapiro.test(qresid(gamma.lm))"
   ]
  },
  {
   "cell_type": "code",
   "execution_count": 16,
   "metadata": {},
   "outputs": [
    {
     "data": {
      "image/png": "[encoded data removed]",
      "text/plain": [
       "plot without title"
      ]
     },
     "metadata": {},
     "output_type": "display_data"
    }
   ],
   "source": [
    "scatter.smooth(nambeware$Price ~ nambeware$Diam)"
   ]
  }
 ],
 "metadata": {
  "kernelspec": {
   "display_name": "R",
   "language": "R",
   "name": "ir"
  },
  "language_info": {
   "codemirror_mode": "r",
   "file_extension": ".r",
   "mimetype": "text/x-r-source",
   "name": "R",
   "pygments_lexer": "r",
   "version": "3.6.1"
  },
  "orig_nbformat": 4
 },
 "nbformat": 4,
 "nbformat_minor": 2
}
