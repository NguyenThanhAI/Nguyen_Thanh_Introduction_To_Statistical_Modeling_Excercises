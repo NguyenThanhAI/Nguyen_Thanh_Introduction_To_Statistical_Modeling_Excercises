{
 "cells": [
  {
   "cell_type": "code",
   "execution_count": 1,
   "metadata": {},
   "outputs": [
    {
     "name": "stderr",
     "output_type": "stream",
     "text": [
      "Warning message:\n",
      "\"package 'statmod' was built under R version 3.6.3\""
     ]
    }
   ],
   "source": [
    "library(GLMsData)\n",
    "library(statmod)"
   ]
  },
  {
   "cell_type": "code",
   "execution_count": 2,
   "metadata": {},
   "outputs": [],
   "source": [
    "data(seabirds)"
   ]
  },
  {
   "cell_type": "code",
   "execution_count": 3,
   "metadata": {},
   "outputs": [
    {
     "name": "stdout",
     "output_type": "stream",
     "text": [
      "'data.frame':\t40 obs. of  3 variables:\n",
      " $ Species: Factor w/ 4 levels \"CA\",\"LA\",\"M\",..: 3 3 3 3 3 3 3 3 3 3 ...\n",
      " $ Quadrat: int  1 2 3 4 5 6 7 8 9 10 ...\n",
      " $ Count  : int  0 0 0 1 1 0 0 1 1 3 ...\n"
     ]
    }
   ],
   "source": [
    "str(seabirds)"
   ]
  },
  {
   "cell_type": "code",
   "execution_count": 4,
   "metadata": {},
   "outputs": [
    {
     "data": {
      "text/html": [
       "<table>\n",
       "<thead><tr><th scope=col>Species</th><th scope=col>Quadrat</th><th scope=col>Count</th></tr></thead>\n",
       "<tbody>\n",
       "\t<tr><td>M </td><td> 1</td><td>0 </td></tr>\n",
       "\t<tr><td>M </td><td> 2</td><td>0 </td></tr>\n",
       "\t<tr><td>M </td><td> 3</td><td>0 </td></tr>\n",
       "\t<tr><td>M </td><td> 4</td><td>1 </td></tr>\n",
       "\t<tr><td>M </td><td> 5</td><td>1 </td></tr>\n",
       "\t<tr><td>M </td><td> 6</td><td>0 </td></tr>\n",
       "\t<tr><td>M </td><td> 7</td><td>0 </td></tr>\n",
       "\t<tr><td>M </td><td> 8</td><td>1 </td></tr>\n",
       "\t<tr><td>M </td><td> 9</td><td>1 </td></tr>\n",
       "\t<tr><td>M </td><td>10</td><td>3 </td></tr>\n",
       "\t<tr><td>CA</td><td> 1</td><td>0 </td></tr>\n",
       "\t<tr><td>CA</td><td> 2</td><td>0 </td></tr>\n",
       "\t<tr><td>CA</td><td> 3</td><td>0 </td></tr>\n",
       "\t<tr><td>CA</td><td> 4</td><td>2 </td></tr>\n",
       "\t<tr><td>CA</td><td> 5</td><td>3 </td></tr>\n",
       "\t<tr><td>CA</td><td> 6</td><td>1 </td></tr>\n",
       "\t<tr><td>CA</td><td> 7</td><td>5 </td></tr>\n",
       "\t<tr><td>CA</td><td> 8</td><td>0 </td></tr>\n",
       "\t<tr><td>CA</td><td> 9</td><td>1 </td></tr>\n",
       "\t<tr><td>CA</td><td>10</td><td>5 </td></tr>\n",
       "\t<tr><td>LA</td><td> 1</td><td>1 </td></tr>\n",
       "\t<tr><td>LA</td><td> 2</td><td>2 </td></tr>\n",
       "\t<tr><td>LA</td><td> 3</td><td>0 </td></tr>\n",
       "\t<tr><td>LA</td><td> 4</td><td>0 </td></tr>\n",
       "\t<tr><td>LA</td><td> 5</td><td>0 </td></tr>\n",
       "\t<tr><td>LA</td><td> 6</td><td>0 </td></tr>\n",
       "\t<tr><td>LA</td><td> 7</td><td>1 </td></tr>\n",
       "\t<tr><td>LA</td><td> 8</td><td>3 </td></tr>\n",
       "\t<tr><td>LA</td><td> 9</td><td>2 </td></tr>\n",
       "\t<tr><td>LA</td><td>10</td><td>3 </td></tr>\n",
       "\t<tr><td>P </td><td> 1</td><td>1 </td></tr>\n",
       "\t<tr><td>P </td><td> 2</td><td>0 </td></tr>\n",
       "\t<tr><td>P </td><td> 3</td><td>1 </td></tr>\n",
       "\t<tr><td>P </td><td> 4</td><td>1 </td></tr>\n",
       "\t<tr><td>P </td><td> 5</td><td>0 </td></tr>\n",
       "\t<tr><td>P </td><td> 6</td><td>0 </td></tr>\n",
       "\t<tr><td>P </td><td> 7</td><td>3 </td></tr>\n",
       "\t<tr><td>P </td><td> 8</td><td>1 </td></tr>\n",
       "\t<tr><td>P </td><td> 9</td><td>1 </td></tr>\n",
       "\t<tr><td>P </td><td>10</td><td>0 </td></tr>\n",
       "</tbody>\n",
       "</table>\n"
      ],
      "text/latex": [
       "\\begin{tabular}{r|lll}\n",
       " Species & Quadrat & Count\\\\\n",
       "\\hline\n",
       "\t M  &  1 & 0 \\\\\n",
       "\t M  &  2 & 0 \\\\\n",
       "\t M  &  3 & 0 \\\\\n",
       "\t M  &  4 & 1 \\\\\n",
       "\t M  &  5 & 1 \\\\\n",
       "\t M  &  6 & 0 \\\\\n",
       "\t M  &  7 & 0 \\\\\n",
       "\t M  &  8 & 1 \\\\\n",
       "\t M  &  9 & 1 \\\\\n",
       "\t M  & 10 & 3 \\\\\n",
       "\t CA &  1 & 0 \\\\\n",
       "\t CA &  2 & 0 \\\\\n",
       "\t CA &  3 & 0 \\\\\n",
       "\t CA &  4 & 2 \\\\\n",
       "\t CA &  5 & 3 \\\\\n",
       "\t CA &  6 & 1 \\\\\n",
       "\t CA &  7 & 5 \\\\\n",
       "\t CA &  8 & 0 \\\\\n",
       "\t CA &  9 & 1 \\\\\n",
       "\t CA & 10 & 5 \\\\\n",
       "\t LA &  1 & 1 \\\\\n",
       "\t LA &  2 & 2 \\\\\n",
       "\t LA &  3 & 0 \\\\\n",
       "\t LA &  4 & 0 \\\\\n",
       "\t LA &  5 & 0 \\\\\n",
       "\t LA &  6 & 0 \\\\\n",
       "\t LA &  7 & 1 \\\\\n",
       "\t LA &  8 & 3 \\\\\n",
       "\t LA &  9 & 2 \\\\\n",
       "\t LA & 10 & 3 \\\\\n",
       "\t P  &  1 & 1 \\\\\n",
       "\t P  &  2 & 0 \\\\\n",
       "\t P  &  3 & 1 \\\\\n",
       "\t P  &  4 & 1 \\\\\n",
       "\t P  &  5 & 0 \\\\\n",
       "\t P  &  6 & 0 \\\\\n",
       "\t P  &  7 & 3 \\\\\n",
       "\t P  &  8 & 1 \\\\\n",
       "\t P  &  9 & 1 \\\\\n",
       "\t P  & 10 & 0 \\\\\n",
       "\\end{tabular}\n"
      ],
      "text/markdown": [
       "\n",
       "| Species | Quadrat | Count |\n",
       "|---|---|---|\n",
       "| M  |  1 | 0  |\n",
       "| M  |  2 | 0  |\n",
       "| M  |  3 | 0  |\n",
       "| M  |  4 | 1  |\n",
       "| M  |  5 | 1  |\n",
       "| M  |  6 | 0  |\n",
       "| M  |  7 | 0  |\n",
       "| M  |  8 | 1  |\n",
       "| M  |  9 | 1  |\n",
       "| M  | 10 | 3  |\n",
       "| CA |  1 | 0  |\n",
       "| CA |  2 | 0  |\n",
       "| CA |  3 | 0  |\n",
       "| CA |  4 | 2  |\n",
       "| CA |  5 | 3  |\n",
       "| CA |  6 | 1  |\n",
       "| CA |  7 | 5  |\n",
       "| CA |  8 | 0  |\n",
       "| CA |  9 | 1  |\n",
       "| CA | 10 | 5  |\n",
       "| LA |  1 | 1  |\n",
       "| LA |  2 | 2  |\n",
       "| LA |  3 | 0  |\n",
       "| LA |  4 | 0  |\n",
       "| LA |  5 | 0  |\n",
       "| LA |  6 | 0  |\n",
       "| LA |  7 | 1  |\n",
       "| LA |  8 | 3  |\n",
       "| LA |  9 | 2  |\n",
       "| LA | 10 | 3  |\n",
       "| P  |  1 | 1  |\n",
       "| P  |  2 | 0  |\n",
       "| P  |  3 | 1  |\n",
       "| P  |  4 | 1  |\n",
       "| P  |  5 | 0  |\n",
       "| P  |  6 | 0  |\n",
       "| P  |  7 | 3  |\n",
       "| P  |  8 | 1  |\n",
       "| P  |  9 | 1  |\n",
       "| P  | 10 | 0  |\n",
       "\n"
      ],
      "text/plain": [
       "   Species Quadrat Count\n",
       "1  M        1      0    \n",
       "2  M        2      0    \n",
       "3  M        3      0    \n",
       "4  M        4      1    \n",
       "5  M        5      1    \n",
       "6  M        6      0    \n",
       "7  M        7      0    \n",
       "8  M        8      1    \n",
       "9  M        9      1    \n",
       "10 M       10      3    \n",
       "11 CA       1      0    \n",
       "12 CA       2      0    \n",
       "13 CA       3      0    \n",
       "14 CA       4      2    \n",
       "15 CA       5      3    \n",
       "16 CA       6      1    \n",
       "17 CA       7      5    \n",
       "18 CA       8      0    \n",
       "19 CA       9      1    \n",
       "20 CA      10      5    \n",
       "21 LA       1      1    \n",
       "22 LA       2      2    \n",
       "23 LA       3      0    \n",
       "24 LA       4      0    \n",
       "25 LA       5      0    \n",
       "26 LA       6      0    \n",
       "27 LA       7      1    \n",
       "28 LA       8      3    \n",
       "29 LA       9      2    \n",
       "30 LA      10      3    \n",
       "31 P        1      1    \n",
       "32 P        2      0    \n",
       "33 P        3      1    \n",
       "34 P        4      1    \n",
       "35 P        5      0    \n",
       "36 P        6      0    \n",
       "37 P        7      3    \n",
       "38 P        8      1    \n",
       "39 P        9      1    \n",
       "40 P       10      0    "
      ]
     },
     "metadata": {},
     "output_type": "display_data"
    }
   ],
   "source": [
    "seabirds"
   ]
  },
  {
   "cell_type": "code",
   "execution_count": 5,
   "metadata": {},
   "outputs": [],
   "source": [
    "glm.poisson <- glm(Count ~ Species + factor(Quadrat), data=seabirds)"
   ]
  },
  {
   "cell_type": "code",
   "execution_count": 6,
   "metadata": {},
   "outputs": [
    {
     "data": {
      "text/html": [
       "<table>\n",
       "<thead><tr><th></th><th scope=col>Estimate</th><th scope=col>Std. Error</th><th scope=col>t value</th><th scope=col>Pr(&gt;|t|)</th></tr></thead>\n",
       "<tbody>\n",
       "\t<tr><th scope=row>(Intercept)</th><td> 1.100000e+00</td><td>0.6964859    </td><td> 1.579357e+00</td><td>0.12589967   </td></tr>\n",
       "\t<tr><th scope=row>SpeciesLA</th><td>-5.000000e-01</td><td>0.5463685    </td><td>-9.151333e-01</td><td>0.36822280   </td></tr>\n",
       "\t<tr><th scope=row>SpeciesM</th><td>-1.000000e+00</td><td>0.5463685    </td><td>-1.830267e+00</td><td>0.07827099   </td></tr>\n",
       "\t<tr><th scope=row>SpeciesP</th><td>-9.000000e-01</td><td>0.5463685    </td><td>-1.647240e+00</td><td>0.11109987   </td></tr>\n",
       "\t<tr><th scope=row>factor(Quadrat)2</th><td> 1.828559e-16</td><td>0.8638844    </td><td> 2.116671e-16</td><td>1.00000000   </td></tr>\n",
       "\t<tr><th scope=row>factor(Quadrat)3</th><td>-2.500000e-01</td><td>0.8638844    </td><td>-2.893906e-01</td><td>0.77449310   </td></tr>\n",
       "\t<tr><th scope=row>factor(Quadrat)4</th><td> 5.000000e-01</td><td>0.8638844    </td><td> 5.787811e-01</td><td>0.56753425   </td></tr>\n",
       "\t<tr><th scope=row>factor(Quadrat)5</th><td> 5.000000e-01</td><td>0.8638844    </td><td> 5.787811e-01</td><td>0.56753425   </td></tr>\n",
       "\t<tr><th scope=row>factor(Quadrat)6</th><td>-2.500000e-01</td><td>0.8638844    </td><td>-2.893906e-01</td><td>0.77449310   </td></tr>\n",
       "\t<tr><th scope=row>factor(Quadrat)7</th><td> 1.750000e+00</td><td>0.8638844    </td><td> 2.025734e+00</td><td>0.05277921   </td></tr>\n",
       "\t<tr><th scope=row>factor(Quadrat)8</th><td> 7.500000e-01</td><td>0.8638844    </td><td> 8.681717e-01</td><td>0.39295181   </td></tr>\n",
       "\t<tr><th scope=row>factor(Quadrat)9</th><td> 7.500000e-01</td><td>0.8638844    </td><td> 8.681717e-01</td><td>0.39295181   </td></tr>\n",
       "\t<tr><th scope=row>factor(Quadrat)10</th><td> 2.250000e+00</td><td>0.8638844    </td><td> 2.604515e+00</td><td>0.01477803   </td></tr>\n",
       "</tbody>\n",
       "</table>\n"
      ],
      "text/latex": [
       "\\begin{tabular}{r|llll}\n",
       "  & Estimate & Std. Error & t value & Pr(>\\textbar{}t\\textbar{})\\\\\n",
       "\\hline\n",
       "\t(Intercept) &  1.100000e+00 & 0.6964859     &  1.579357e+00 & 0.12589967   \\\\\n",
       "\tSpeciesLA & -5.000000e-01 & 0.5463685     & -9.151333e-01 & 0.36822280   \\\\\n",
       "\tSpeciesM & -1.000000e+00 & 0.5463685     & -1.830267e+00 & 0.07827099   \\\\\n",
       "\tSpeciesP & -9.000000e-01 & 0.5463685     & -1.647240e+00 & 0.11109987   \\\\\n",
       "\tfactor(Quadrat)2 &  1.828559e-16 & 0.8638844     &  2.116671e-16 & 1.00000000   \\\\\n",
       "\tfactor(Quadrat)3 & -2.500000e-01 & 0.8638844     & -2.893906e-01 & 0.77449310   \\\\\n",
       "\tfactor(Quadrat)4 &  5.000000e-01 & 0.8638844     &  5.787811e-01 & 0.56753425   \\\\\n",
       "\tfactor(Quadrat)5 &  5.000000e-01 & 0.8638844     &  5.787811e-01 & 0.56753425   \\\\\n",
       "\tfactor(Quadrat)6 & -2.500000e-01 & 0.8638844     & -2.893906e-01 & 0.77449310   \\\\\n",
       "\tfactor(Quadrat)7 &  1.750000e+00 & 0.8638844     &  2.025734e+00 & 0.05277921   \\\\\n",
       "\tfactor(Quadrat)8 &  7.500000e-01 & 0.8638844     &  8.681717e-01 & 0.39295181   \\\\\n",
       "\tfactor(Quadrat)9 &  7.500000e-01 & 0.8638844     &  8.681717e-01 & 0.39295181   \\\\\n",
       "\tfactor(Quadrat)10 &  2.250000e+00 & 0.8638844     &  2.604515e+00 & 0.01477803   \\\\\n",
       "\\end{tabular}\n"
      ],
      "text/markdown": [
       "\n",
       "| <!--/--> | Estimate | Std. Error | t value | Pr(>|t|) |\n",
       "|---|---|---|---|---|\n",
       "| (Intercept) |  1.100000e+00 | 0.6964859     |  1.579357e+00 | 0.12589967    |\n",
       "| SpeciesLA | -5.000000e-01 | 0.5463685     | -9.151333e-01 | 0.36822280    |\n",
       "| SpeciesM | -1.000000e+00 | 0.5463685     | -1.830267e+00 | 0.07827099    |\n",
       "| SpeciesP | -9.000000e-01 | 0.5463685     | -1.647240e+00 | 0.11109987    |\n",
       "| factor(Quadrat)2 |  1.828559e-16 | 0.8638844     |  2.116671e-16 | 1.00000000    |\n",
       "| factor(Quadrat)3 | -2.500000e-01 | 0.8638844     | -2.893906e-01 | 0.77449310    |\n",
       "| factor(Quadrat)4 |  5.000000e-01 | 0.8638844     |  5.787811e-01 | 0.56753425    |\n",
       "| factor(Quadrat)5 |  5.000000e-01 | 0.8638844     |  5.787811e-01 | 0.56753425    |\n",
       "| factor(Quadrat)6 | -2.500000e-01 | 0.8638844     | -2.893906e-01 | 0.77449310    |\n",
       "| factor(Quadrat)7 |  1.750000e+00 | 0.8638844     |  2.025734e+00 | 0.05277921    |\n",
       "| factor(Quadrat)8 |  7.500000e-01 | 0.8638844     |  8.681717e-01 | 0.39295181    |\n",
       "| factor(Quadrat)9 |  7.500000e-01 | 0.8638844     |  8.681717e-01 | 0.39295181    |\n",
       "| factor(Quadrat)10 |  2.250000e+00 | 0.8638844     |  2.604515e+00 | 0.01477803    |\n",
       "\n"
      ],
      "text/plain": [
       "                  Estimate      Std. Error t value       Pr(>|t|)  \n",
       "(Intercept)        1.100000e+00 0.6964859   1.579357e+00 0.12589967\n",
       "SpeciesLA         -5.000000e-01 0.5463685  -9.151333e-01 0.36822280\n",
       "SpeciesM          -1.000000e+00 0.5463685  -1.830267e+00 0.07827099\n",
       "SpeciesP          -9.000000e-01 0.5463685  -1.647240e+00 0.11109987\n",
       "factor(Quadrat)2   1.828559e-16 0.8638844   2.116671e-16 1.00000000\n",
       "factor(Quadrat)3  -2.500000e-01 0.8638844  -2.893906e-01 0.77449310\n",
       "factor(Quadrat)4   5.000000e-01 0.8638844   5.787811e-01 0.56753425\n",
       "factor(Quadrat)5   5.000000e-01 0.8638844   5.787811e-01 0.56753425\n",
       "factor(Quadrat)6  -2.500000e-01 0.8638844  -2.893906e-01 0.77449310\n",
       "factor(Quadrat)7   1.750000e+00 0.8638844   2.025734e+00 0.05277921\n",
       "factor(Quadrat)8   7.500000e-01 0.8638844   8.681717e-01 0.39295181\n",
       "factor(Quadrat)9   7.500000e-01 0.8638844   8.681717e-01 0.39295181\n",
       "factor(Quadrat)10  2.250000e+00 0.8638844   2.604515e+00 0.01477803"
      ]
     },
     "metadata": {},
     "output_type": "display_data"
    }
   ],
   "source": [
    "coef(summary(glm.poisson))"
   ]
  },
  {
   "cell_type": "code",
   "execution_count": 7,
   "metadata": {},
   "outputs": [
    {
     "data": {
      "text/html": [
       "<table>\n",
       "<thead><tr><th></th><th scope=col>Df</th><th scope=col>Deviance</th><th scope=col>Resid. Df</th><th scope=col>Resid. Dev</th><th scope=col>F</th><th scope=col>Pr(&gt;F)</th></tr></thead>\n",
       "<tbody>\n",
       "\t<tr><th scope=row>NULL</th><td>NA       </td><td>  NA     </td><td>39       </td><td>71.6     </td><td>      NA </td><td>       NA</td></tr>\n",
       "\t<tr><th scope=row>Species</th><td> 3       </td><td> 6.2     </td><td>36       </td><td>65.4     </td><td>1.384615 </td><td>0.2687531</td></tr>\n",
       "\t<tr><th scope=row>factor(Quadrat)</th><td> 9       </td><td>25.1     </td><td>27       </td><td>40.3     </td><td>1.868486 </td><td>0.1010720</td></tr>\n",
       "</tbody>\n",
       "</table>\n"
      ],
      "text/latex": [
       "\\begin{tabular}{r|llllll}\n",
       "  & Df & Deviance & Resid. Df & Resid. Dev & F & Pr(>F)\\\\\n",
       "\\hline\n",
       "\tNULL & NA        &   NA      & 39        & 71.6      &       NA  &        NA\\\\\n",
       "\tSpecies &  3        &  6.2      & 36        & 65.4      & 1.384615  & 0.2687531\\\\\n",
       "\tfactor(Quadrat) &  9        & 25.1      & 27        & 40.3      & 1.868486  & 0.1010720\\\\\n",
       "\\end{tabular}\n"
      ],
      "text/markdown": [
       "\n",
       "| <!--/--> | Df | Deviance | Resid. Df | Resid. Dev | F | Pr(>F) |\n",
       "|---|---|---|---|---|---|---|\n",
       "| NULL | NA        |   NA      | 39        | 71.6      |       NA  |        NA |\n",
       "| Species |  3        |  6.2      | 36        | 65.4      | 1.384615  | 0.2687531 |\n",
       "| factor(Quadrat) |  9        | 25.1      | 27        | 40.3      | 1.868486  | 0.1010720 |\n",
       "\n"
      ],
      "text/plain": [
       "                Df Deviance Resid. Df Resid. Dev F        Pr(>F)   \n",
       "NULL            NA   NA     39        71.6             NA        NA\n",
       "Species          3  6.2     36        65.4       1.384615 0.2687531\n",
       "factor(Quadrat)  9 25.1     27        40.3       1.868486 0.1010720"
      ]
     },
     "metadata": {},
     "output_type": "display_data"
    }
   ],
   "source": [
    "anova(glm.poisson, test=\"F\")"
   ]
  },
  {
   "cell_type": "code",
   "execution_count": 11,
   "metadata": {},
   "outputs": [
    {
     "data": {
      "text/html": [
       "1.49259259259259"
      ],
      "text/latex": [
       "1.49259259259259"
      ],
      "text/markdown": [
       "1.49259259259259"
      ],
      "text/plain": [
       "[1] 1.492593"
      ]
     },
     "metadata": {},
     "output_type": "display_data"
    },
    {
     "data": {
      "text/html": [
       "1.49259259259259"
      ],
      "text/latex": [
       "1.49259259259259"
      ],
      "text/markdown": [
       "1.49259259259259"
      ],
      "text/plain": [
       "[1] 1.492593"
      ]
     },
     "metadata": {},
     "output_type": "display_data"
    },
    {
     "data": {
      "text/html": [
       "1.49259259259259"
      ],
      "text/latex": [
       "1.49259259259259"
      ],
      "text/markdown": [
       "1.49259259259259"
      ],
      "text/plain": [
       "[1] 1.492593"
      ]
     },
     "metadata": {},
     "output_type": "display_data"
    }
   ],
   "source": [
    "gof.dev <- deviance(glm.poisson)\n",
    "phi.meandev <- deviance(glm.poisson) / df.residual(glm.poisson)\n",
    "phi.meandev\n",
    "phi.pearson <- sum(glm.poisson$weights*glm.poisson$residuals^2) / df.residual(glm.poisson)\n",
    "phi.pearson\n",
    "summary(glm.poisson)$dispersion # Overdispersion???"
   ]
  },
  {
   "cell_type": "markdown",
   "metadata": {},
   "source": [
    "### Tất cả các quan sát count nhiều quan sát nhỏ hơn <= 3 không đạt điều kiện xấp xỉ yên ngựa nên hàm độ lệch phần dư không tuân theo phân phối chi-square"
   ]
  },
  {
   "cell_type": "code",
   "execution_count": 15,
   "metadata": {},
   "outputs": [
    {
     "data": {
      "image/png": "[encoded data removed]",
      "text/plain": [
       "plot without title"
      ]
     },
     "metadata": {},
     "output_type": "display_data"
    }
   ],
   "source": [
    "scatter.smooth(rstandard(glm.poisson) ~ fitted(glm.poisson))"
   ]
  },
  {
   "cell_type": "code",
   "execution_count": 17,
   "metadata": {},
   "outputs": [
    {
     "name": "stderr",
     "output_type": "stream",
     "text": [
      "Warning message in sqrt(fitted(glm.poisson)):\n",
      "\"NaNs produced\""
     ]
    },
    {
     "data": {
      "image/png": "[encoded data removed]",
      "text/plain": [
       "plot without title"
      ]
     },
     "metadata": {},
     "output_type": "display_data"
    }
   ],
   "source": [
    "scatter.smooth(rstandard(glm.poisson) ~ sqrt(fitted(glm.poisson)))"
   ]
  },
  {
   "cell_type": "code",
   "execution_count": 18,
   "metadata": {},
   "outputs": [
    {
     "data": {
      "image/png": "[encoded data removed]",
      "text/plain": [
       "plot without title"
      ]
     },
     "metadata": {},
     "output_type": "display_data"
    }
   ],
   "source": [
    "scatter.smooth(qresid(glm.poisson) ~ fitted(glm.poisson))"
   ]
  },
  {
   "cell_type": "code",
   "execution_count": 19,
   "metadata": {},
   "outputs": [
    {
     "name": "stderr",
     "output_type": "stream",
     "text": [
      "Warning message in sqrt(fitted(glm.poisson)):\n",
      "\"NaNs produced\""
     ]
    },
    {
     "data": {
      "image/png": "[encoded data removed]",
      "text/plain": [
       "plot without title"
      ]
     },
     "metadata": {},
     "output_type": "display_data"
    }
   ],
   "source": [
    "scatter.smooth(qresid(glm.poisson) ~ sqrt(fitted(glm.poisson)))"
   ]
  }
 ],
 "metadata": {
  "kernelspec": {
   "display_name": "R",
   "language": "R",
   "name": "ir"
  },
  "language_info": {
   "codemirror_mode": "r",
   "file_extension": ".r",
   "mimetype": "text/x-r-source",
   "name": "R",
   "pygments_lexer": "r",
   "version": "3.6.1"
  },
  "orig_nbformat": 4
 },
 "nbformat": 4,
 "nbformat_minor": 2
}
