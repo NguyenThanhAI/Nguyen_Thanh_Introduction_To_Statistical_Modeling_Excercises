{
 "cells": [
  {
   "cell_type": "code",
   "execution_count": 1,
   "metadata": {},
   "outputs": [
    {
     "name": "stderr",
     "output_type": "stream",
     "text": [
      "Warning message:\n",
      "\"package 'statmod' was built under R version 3.6.3\""
     ]
    }
   ],
   "source": [
    "library(GLMsData)\n",
    "library(statmod)"
   ]
  },
  {
   "cell_type": "code",
   "execution_count": 2,
   "metadata": {},
   "outputs": [],
   "source": [
    "data(blocks)"
   ]
  },
  {
   "cell_type": "code",
   "execution_count": 3,
   "metadata": {},
   "outputs": [
    {
     "name": "stdout",
     "output_type": "stream",
     "text": [
      "'data.frame':\t100 obs. of  6 variables:\n",
      " $ Child : Factor w/ 25 levels \"A\",\"B\",\"C\",\"D\",..: 1 2 3 4 5 6 7 8 9 10 ...\n",
      " $ Number: int  11 9 8 9 10 13 10 7 6 12 ...\n",
      " $ Time  : num  30 19 18.6 23 29 178 42 20.2 12 39.2 ...\n",
      " $ Trial : int  1 1 1 1 1 1 1 1 1 1 ...\n",
      " $ Shape : Factor w/ 2 levels \"Cube\",\"Cylinder\": 1 1 1 1 1 1 1 1 1 1 ...\n",
      " $ Age   : num  4.67 5 4.42 4.33 4.33 4.83 4.42 5 3.58 4 ...\n"
     ]
    }
   ],
   "source": [
    "str(blocks)"
   ]
  },
  {
   "cell_type": "code",
   "execution_count": 4,
   "metadata": {},
   "outputs": [],
   "source": [
    "glm.1 <- glm(Time ~ Age, family = Gamma(link=\"log\"), data=blocks)"
   ]
  },
  {
   "cell_type": "code",
   "execution_count": 6,
   "metadata": {},
   "outputs": [
    {
     "data": {
      "text/html": [
       "0.753253021344235"
      ],
      "text/latex": [
       "0.753253021344235"
      ],
      "text/markdown": [
       "0.753253021344235"
      ],
      "text/plain": [
       "[1] 0.753253"
      ]
     },
     "metadata": {},
     "output_type": "display_data"
    }
   ],
   "source": [
    "summary(glm.1)$dispersion"
   ]
  },
  {
   "cell_type": "code",
   "execution_count": 8,
   "metadata": {},
   "outputs": [
    {
     "data": {
      "text/html": [
       "0.520815341302369"
      ],
      "text/latex": [
       "0.520815341302369"
      ],
      "text/markdown": [
       "0.520815341302369"
      ],
      "text/plain": [
       "[1] 0.5208153"
      ]
     },
     "metadata": {},
     "output_type": "display_data"
    },
    {
     "data": {
      "text/html": [
       "0.753253021344235"
      ],
      "text/latex": [
       "0.753253021344235"
      ],
      "text/markdown": [
       "0.753253021344235"
      ],
      "text/plain": [
       "[1] 0.753253"
      ]
     },
     "metadata": {},
     "output_type": "display_data"
    },
    {
     "data": {
      "text/html": [
       "0.753253021344235"
      ],
      "text/latex": [
       "0.753253021344235"
      ],
      "text/markdown": [
       "0.753253021344235"
      ],
      "text/plain": [
       "[1] 0.753253"
      ]
     },
     "metadata": {},
     "output_type": "display_data"
    }
   ],
   "source": [
    "deviance(glm.1)/df.residual(glm.1)\n",
    "sum(weights(glm.1)*residuals(glm.1, type=\"working\")^2)/df.residual(glm.1)\n",
    "sum(glm.1$weights * glm.1$residuals^2)/df.residual(glm.1)"
   ]
  },
  {
   "cell_type": "code",
   "execution_count": 16,
   "metadata": {},
   "outputs": [
    {
     "data": {
      "text/plain": [
       "\n",
       "\tShapiro-Wilk normality test\n",
       "\n",
       "data:  qresid(glm.1)\n",
       "W = 0.93607, p-value = 0.0001119\n"
      ]
     },
     "metadata": {},
     "output_type": "display_data"
    },
    {
     "data": {
      "image/png": "[encoded data removed]",
      "text/plain": [
       "Plot with title \"Normal Q-Q Plot\""
      ]
     },
     "metadata": {},
     "output_type": "display_data"
    }
   ],
   "source": [
    "par(mfrow=c(3, 3))\n",
    "scatter.smooth(rstandard(glm.1) ~ log(fitted(glm.1)))\n",
    "scatter.smooth(rstandard(glm.1) ~ blocks$Age)\n",
    "\n",
    "z <- resid(glm.1, type=\"working\") + glm.1$linear.predictor\n",
    "plot(z ~ glm.1$linear.predictor)\n",
    "abline(0, 1)\n",
    "termplot(glm.1, partial.resid=TRUE, las=1)\n",
    "qqnorm(qresid(glm.1))\n",
    "qqline(qresid(glm.1))\n",
    "shapiro.test(qresid(glm.1))"
   ]
  },
  {
   "cell_type": "code",
   "execution_count": 14,
   "metadata": {},
   "outputs": [
    {
     "data": {
      "text/html": [
       "<dl class=dl-horizontal>\n",
       "\t<dt>dfb.1_</dt>\n",
       "\t\t<dd>0</dd>\n",
       "\t<dt>dfb.Age</dt>\n",
       "\t\t<dd>0</dd>\n",
       "\t<dt>dffit</dt>\n",
       "\t\t<dd>1</dd>\n",
       "\t<dt>cov.r</dt>\n",
       "\t\t<dd>8</dd>\n",
       "\t<dt>cook.d</dt>\n",
       "\t\t<dd>0</dd>\n",
       "\t<dt>hat</dt>\n",
       "\t\t<dd>0</dd>\n",
       "</dl>\n"
      ],
      "text/latex": [
       "\\begin{description*}\n",
       "\\item[dfb.1\\textbackslash{}\\_] 0\n",
       "\\item[dfb.Age] 0\n",
       "\\item[dffit] 1\n",
       "\\item[cov.r] 8\n",
       "\\item[cook.d] 0\n",
       "\\item[hat] 0\n",
       "\\end{description*}\n"
      ],
      "text/markdown": [
       "dfb.1_\n",
       ":   0dfb.Age\n",
       ":   0dffit\n",
       ":   1cov.r\n",
       ":   8cook.d\n",
       ":   0hat\n",
       ":   0\n",
       "\n"
      ],
      "text/plain": [
       " dfb.1_ dfb.Age   dffit   cov.r  cook.d     hat \n",
       "      0       0       1       8       0       0 "
      ]
     },
     "metadata": {},
     "output_type": "display_data"
    }
   ],
   "source": [
    "colSums(influence.measures(glm.1)$is.inf)"
   ]
  },
  {
   "cell_type": "code",
   "execution_count": 15,
   "metadata": {},
   "outputs": [
    {
     "data": {
      "text/html": [
       "<dl class=dl-horizontal>\n",
       "\t<dt>1</dt>\n",
       "\t\t<dd>0</dd>\n",
       "\t<dt>2</dt>\n",
       "\t\t<dd>0</dd>\n",
       "\t<dt>3</dt>\n",
       "\t\t<dd>0</dd>\n",
       "\t<dt>4</dt>\n",
       "\t\t<dd>0</dd>\n",
       "\t<dt>5</dt>\n",
       "\t\t<dd>0</dd>\n",
       "\t<dt>6</dt>\n",
       "\t\t<dd>2</dd>\n",
       "\t<dt>7</dt>\n",
       "\t\t<dd>0</dd>\n",
       "\t<dt>8</dt>\n",
       "\t\t<dd>0</dd>\n",
       "\t<dt>9</dt>\n",
       "\t\t<dd>0</dd>\n",
       "\t<dt>10</dt>\n",
       "\t\t<dd>0</dd>\n",
       "\t<dt>11</dt>\n",
       "\t\t<dd>0</dd>\n",
       "\t<dt>12</dt>\n",
       "\t\t<dd>0</dd>\n",
       "\t<dt>13</dt>\n",
       "\t\t<dd>0</dd>\n",
       "\t<dt>14</dt>\n",
       "\t\t<dd>0</dd>\n",
       "\t<dt>15</dt>\n",
       "\t\t<dd>0</dd>\n",
       "\t<dt>16</dt>\n",
       "\t\t<dd>0</dd>\n",
       "\t<dt>17</dt>\n",
       "\t\t<dd>0</dd>\n",
       "\t<dt>18</dt>\n",
       "\t\t<dd>0</dd>\n",
       "\t<dt>19</dt>\n",
       "\t\t<dd>1</dd>\n",
       "\t<dt>20</dt>\n",
       "\t\t<dd>1</dd>\n",
       "\t<dt>21</dt>\n",
       "\t\t<dd>0</dd>\n",
       "\t<dt>22</dt>\n",
       "\t\t<dd>0</dd>\n",
       "\t<dt>23</dt>\n",
       "\t\t<dd>0</dd>\n",
       "\t<dt>24</dt>\n",
       "\t\t<dd>0</dd>\n",
       "\t<dt>25</dt>\n",
       "\t\t<dd>0</dd>\n",
       "\t<dt>26</dt>\n",
       "\t\t<dd>0</dd>\n",
       "\t<dt>27</dt>\n",
       "\t\t<dd>0</dd>\n",
       "\t<dt>28</dt>\n",
       "\t\t<dd>0</dd>\n",
       "\t<dt>29</dt>\n",
       "\t\t<dd>0</dd>\n",
       "\t<dt>30</dt>\n",
       "\t\t<dd>0</dd>\n",
       "\t<dt>31</dt>\n",
       "\t\t<dd>0</dd>\n",
       "\t<dt>32</dt>\n",
       "\t\t<dd>0</dd>\n",
       "\t<dt>33</dt>\n",
       "\t\t<dd>0</dd>\n",
       "\t<dt>34</dt>\n",
       "\t\t<dd>0</dd>\n",
       "\t<dt>35</dt>\n",
       "\t\t<dd>0</dd>\n",
       "\t<dt>36</dt>\n",
       "\t\t<dd>0</dd>\n",
       "\t<dt>37</dt>\n",
       "\t\t<dd>0</dd>\n",
       "\t<dt>38</dt>\n",
       "\t\t<dd>0</dd>\n",
       "\t<dt>39</dt>\n",
       "\t\t<dd>0</dd>\n",
       "\t<dt>40</dt>\n",
       "\t\t<dd>0</dd>\n",
       "\t<dt>41</dt>\n",
       "\t\t<dd>0</dd>\n",
       "\t<dt>42</dt>\n",
       "\t\t<dd>0</dd>\n",
       "\t<dt>43</dt>\n",
       "\t\t<dd>0</dd>\n",
       "\t<dt>44</dt>\n",
       "\t\t<dd>1</dd>\n",
       "\t<dt>45</dt>\n",
       "\t\t<dd>1</dd>\n",
       "\t<dt>46</dt>\n",
       "\t\t<dd>0</dd>\n",
       "\t<dt>47</dt>\n",
       "\t\t<dd>0</dd>\n",
       "\t<dt>48</dt>\n",
       "\t\t<dd>0</dd>\n",
       "\t<dt>49</dt>\n",
       "\t\t<dd>0</dd>\n",
       "\t<dt>50</dt>\n",
       "\t\t<dd>0</dd>\n",
       "\t<dt>51</dt>\n",
       "\t\t<dd>0</dd>\n",
       "\t<dt>52</dt>\n",
       "\t\t<dd>0</dd>\n",
       "\t<dt>53</dt>\n",
       "\t\t<dd>0</dd>\n",
       "\t<dt>54</dt>\n",
       "\t\t<dd>0</dd>\n",
       "\t<dt>55</dt>\n",
       "\t\t<dd>0</dd>\n",
       "\t<dt>56</dt>\n",
       "\t\t<dd>0</dd>\n",
       "\t<dt>57</dt>\n",
       "\t\t<dd>0</dd>\n",
       "\t<dt>58</dt>\n",
       "\t\t<dd>0</dd>\n",
       "\t<dt>59</dt>\n",
       "\t\t<dd>0</dd>\n",
       "\t<dt>60</dt>\n",
       "\t\t<dd>0</dd>\n",
       "\t<dt>61</dt>\n",
       "\t\t<dd>0</dd>\n",
       "\t<dt>62</dt>\n",
       "\t\t<dd>0</dd>\n",
       "\t<dt>63</dt>\n",
       "\t\t<dd>0</dd>\n",
       "\t<dt>64</dt>\n",
       "\t\t<dd>0</dd>\n",
       "\t<dt>65</dt>\n",
       "\t\t<dd>0</dd>\n",
       "\t<dt>66</dt>\n",
       "\t\t<dd>0</dd>\n",
       "\t<dt>67</dt>\n",
       "\t\t<dd>0</dd>\n",
       "\t<dt>68</dt>\n",
       "\t\t<dd>0</dd>\n",
       "\t<dt>69</dt>\n",
       "\t\t<dd>0</dd>\n",
       "\t<dt>70</dt>\n",
       "\t\t<dd>0</dd>\n",
       "\t<dt>71</dt>\n",
       "\t\t<dd>0</dd>\n",
       "\t<dt>72</dt>\n",
       "\t\t<dd>0</dd>\n",
       "\t<dt>73</dt>\n",
       "\t\t<dd>0</dd>\n",
       "\t<dt>74</dt>\n",
       "\t\t<dd>0</dd>\n",
       "\t<dt>75</dt>\n",
       "\t\t<dd>0</dd>\n",
       "\t<dt>76</dt>\n",
       "\t\t<dd>1</dd>\n",
       "\t<dt>77</dt>\n",
       "\t\t<dd>0</dd>\n",
       "\t<dt>78</dt>\n",
       "\t\t<dd>0</dd>\n",
       "\t<dt>79</dt>\n",
       "\t\t<dd>0</dd>\n",
       "\t<dt>80</dt>\n",
       "\t\t<dd>0</dd>\n",
       "\t<dt>81</dt>\n",
       "\t\t<dd>0</dd>\n",
       "\t<dt>82</dt>\n",
       "\t\t<dd>0</dd>\n",
       "\t<dt>83</dt>\n",
       "\t\t<dd>0</dd>\n",
       "\t<dt>84</dt>\n",
       "\t\t<dd>0</dd>\n",
       "\t<dt>85</dt>\n",
       "\t\t<dd>0</dd>\n",
       "\t<dt>86</dt>\n",
       "\t\t<dd>0</dd>\n",
       "\t<dt>87</dt>\n",
       "\t\t<dd>0</dd>\n",
       "\t<dt>88</dt>\n",
       "\t\t<dd>0</dd>\n",
       "\t<dt>89</dt>\n",
       "\t\t<dd>0</dd>\n",
       "\t<dt>90</dt>\n",
       "\t\t<dd>0</dd>\n",
       "\t<dt>91</dt>\n",
       "\t\t<dd>0</dd>\n",
       "\t<dt>92</dt>\n",
       "\t\t<dd>0</dd>\n",
       "\t<dt>93</dt>\n",
       "\t\t<dd>0</dd>\n",
       "\t<dt>94</dt>\n",
       "\t\t<dd>1</dd>\n",
       "\t<dt>95</dt>\n",
       "\t\t<dd>1</dd>\n",
       "\t<dt>96</dt>\n",
       "\t\t<dd>0</dd>\n",
       "\t<dt>97</dt>\n",
       "\t\t<dd>0</dd>\n",
       "\t<dt>98</dt>\n",
       "\t\t<dd>0</dd>\n",
       "\t<dt>99</dt>\n",
       "\t\t<dd>0</dd>\n",
       "\t<dt>100</dt>\n",
       "\t\t<dd>0</dd>\n",
       "</dl>\n"
      ],
      "text/latex": [
       "\\begin{description*}\n",
       "\\item[1] 0\n",
       "\\item[2] 0\n",
       "\\item[3] 0\n",
       "\\item[4] 0\n",
       "\\item[5] 0\n",
       "\\item[6] 2\n",
       "\\item[7] 0\n",
       "\\item[8] 0\n",
       "\\item[9] 0\n",
       "\\item[10] 0\n",
       "\\item[11] 0\n",
       "\\item[12] 0\n",
       "\\item[13] 0\n",
       "\\item[14] 0\n",
       "\\item[15] 0\n",
       "\\item[16] 0\n",
       "\\item[17] 0\n",
       "\\item[18] 0\n",
       "\\item[19] 1\n",
       "\\item[20] 1\n",
       "\\item[21] 0\n",
       "\\item[22] 0\n",
       "\\item[23] 0\n",
       "\\item[24] 0\n",
       "\\item[25] 0\n",
       "\\item[26] 0\n",
       "\\item[27] 0\n",
       "\\item[28] 0\n",
       "\\item[29] 0\n",
       "\\item[30] 0\n",
       "\\item[31] 0\n",
       "\\item[32] 0\n",
       "\\item[33] 0\n",
       "\\item[34] 0\n",
       "\\item[35] 0\n",
       "\\item[36] 0\n",
       "\\item[37] 0\n",
       "\\item[38] 0\n",
       "\\item[39] 0\n",
       "\\item[40] 0\n",
       "\\item[41] 0\n",
       "\\item[42] 0\n",
       "\\item[43] 0\n",
       "\\item[44] 1\n",
       "\\item[45] 1\n",
       "\\item[46] 0\n",
       "\\item[47] 0\n",
       "\\item[48] 0\n",
       "\\item[49] 0\n",
       "\\item[50] 0\n",
       "\\item[51] 0\n",
       "\\item[52] 0\n",
       "\\item[53] 0\n",
       "\\item[54] 0\n",
       "\\item[55] 0\n",
       "\\item[56] 0\n",
       "\\item[57] 0\n",
       "\\item[58] 0\n",
       "\\item[59] 0\n",
       "\\item[60] 0\n",
       "\\item[61] 0\n",
       "\\item[62] 0\n",
       "\\item[63] 0\n",
       "\\item[64] 0\n",
       "\\item[65] 0\n",
       "\\item[66] 0\n",
       "\\item[67] 0\n",
       "\\item[68] 0\n",
       "\\item[69] 0\n",
       "\\item[70] 0\n",
       "\\item[71] 0\n",
       "\\item[72] 0\n",
       "\\item[73] 0\n",
       "\\item[74] 0\n",
       "\\item[75] 0\n",
       "\\item[76] 1\n",
       "\\item[77] 0\n",
       "\\item[78] 0\n",
       "\\item[79] 0\n",
       "\\item[80] 0\n",
       "\\item[81] 0\n",
       "\\item[82] 0\n",
       "\\item[83] 0\n",
       "\\item[84] 0\n",
       "\\item[85] 0\n",
       "\\item[86] 0\n",
       "\\item[87] 0\n",
       "\\item[88] 0\n",
       "\\item[89] 0\n",
       "\\item[90] 0\n",
       "\\item[91] 0\n",
       "\\item[92] 0\n",
       "\\item[93] 0\n",
       "\\item[94] 1\n",
       "\\item[95] 1\n",
       "\\item[96] 0\n",
       "\\item[97] 0\n",
       "\\item[98] 0\n",
       "\\item[99] 0\n",
       "\\item[100] 0\n",
       "\\end{description*}\n"
      ],
      "text/markdown": [
       "1\n",
       ":   02\n",
       ":   03\n",
       ":   04\n",
       ":   05\n",
       ":   06\n",
       ":   27\n",
       ":   08\n",
       ":   09\n",
       ":   010\n",
       ":   011\n",
       ":   012\n",
       ":   013\n",
       ":   014\n",
       ":   015\n",
       ":   016\n",
       ":   017\n",
       ":   018\n",
       ":   019\n",
       ":   120\n",
       ":   121\n",
       ":   022\n",
       ":   023\n",
       ":   024\n",
       ":   025\n",
       ":   026\n",
       ":   027\n",
       ":   028\n",
       ":   029\n",
       ":   030\n",
       ":   031\n",
       ":   032\n",
       ":   033\n",
       ":   034\n",
       ":   035\n",
       ":   036\n",
       ":   037\n",
       ":   038\n",
       ":   039\n",
       ":   040\n",
       ":   041\n",
       ":   042\n",
       ":   043\n",
       ":   044\n",
       ":   145\n",
       ":   146\n",
       ":   047\n",
       ":   048\n",
       ":   049\n",
       ":   050\n",
       ":   051\n",
       ":   052\n",
       ":   053\n",
       ":   054\n",
       ":   055\n",
       ":   056\n",
       ":   057\n",
       ":   058\n",
       ":   059\n",
       ":   060\n",
       ":   061\n",
       ":   062\n",
       ":   063\n",
       ":   064\n",
       ":   065\n",
       ":   066\n",
       ":   067\n",
       ":   068\n",
       ":   069\n",
       ":   070\n",
       ":   071\n",
       ":   072\n",
       ":   073\n",
       ":   074\n",
       ":   075\n",
       ":   076\n",
       ":   177\n",
       ":   078\n",
       ":   079\n",
       ":   080\n",
       ":   081\n",
       ":   082\n",
       ":   083\n",
       ":   084\n",
       ":   085\n",
       ":   086\n",
       ":   087\n",
       ":   088\n",
       ":   089\n",
       ":   090\n",
       ":   091\n",
       ":   092\n",
       ":   093\n",
       ":   094\n",
       ":   195\n",
       ":   196\n",
       ":   097\n",
       ":   098\n",
       ":   099\n",
       ":   0100\n",
       ":   0\n",
       "\n"
      ],
      "text/plain": [
       "  1   2   3   4   5   6   7   8   9  10  11  12  13  14  15  16  17  18  19  20 \n",
       "  0   0   0   0   0   2   0   0   0   0   0   0   0   0   0   0   0   0   1   1 \n",
       " 21  22  23  24  25  26  27  28  29  30  31  32  33  34  35  36  37  38  39  40 \n",
       "  0   0   0   0   0   0   0   0   0   0   0   0   0   0   0   0   0   0   0   0 \n",
       " 41  42  43  44  45  46  47  48  49  50  51  52  53  54  55  56  57  58  59  60 \n",
       "  0   0   0   1   1   0   0   0   0   0   0   0   0   0   0   0   0   0   0   0 \n",
       " 61  62  63  64  65  66  67  68  69  70  71  72  73  74  75  76  77  78  79  80 \n",
       "  0   0   0   0   0   0   0   0   0   0   0   0   0   0   0   1   0   0   0   0 \n",
       " 81  82  83  84  85  86  87  88  89  90  91  92  93  94  95  96  97  98  99 100 \n",
       "  0   0   0   0   0   0   0   0   0   0   0   0   0   1   1   0   0   0   0   0 "
      ]
     },
     "metadata": {},
     "output_type": "display_data"
    }
   ],
   "source": [
    "rowSums(influence.measures(glm.1)$is.inf)"
   ]
  },
  {
   "cell_type": "code",
   "execution_count": 18,
   "metadata": {},
   "outputs": [
    {
     "data": {
      "image/png": "[encoded data removed]",
      "text/plain": [
       "plot without title"
      ]
     },
     "metadata": {},
     "output_type": "display_data"
    }
   ],
   "source": [
    "scatter.smooth(blocks$Time ~ log(blocks$Age))"
   ]
  },
  {
   "cell_type": "code",
   "execution_count": 20,
   "metadata": {},
   "outputs": [],
   "source": [
    "glm.2 <- glm(Time ~ Age, family=inverse.gaussian(link=\"log\"), data=blocks)"
   ]
  },
  {
   "cell_type": "code",
   "execution_count": 22,
   "metadata": {},
   "outputs": [
    {
     "data": {
      "text/html": [
       "<table>\n",
       "<thead><tr><th></th><th scope=col>Df</th><th scope=col>Deviance</th><th scope=col>Resid. Df</th><th scope=col>Resid. Dev</th><th scope=col>F</th><th scope=col>Pr(&gt;F)</th></tr></thead>\n",
       "<tbody>\n",
       "\t<tr><th scope=row>NULL</th><td>NA          </td><td>          NA</td><td>99          </td><td>2.030796    </td><td>       NA   </td><td>       NA   </td></tr>\n",
       "\t<tr><th scope=row>Age</th><td> 1          </td><td>0.0003268299</td><td>98          </td><td>2.030469    </td><td>0.0128823   </td><td>0.9098662   </td></tr>\n",
       "</tbody>\n",
       "</table>\n"
      ],
      "text/latex": [
       "\\begin{tabular}{r|llllll}\n",
       "  & Df & Deviance & Resid. Df & Resid. Dev & F & Pr(>F)\\\\\n",
       "\\hline\n",
       "\tNULL & NA           &           NA & 99           & 2.030796     &        NA    &        NA   \\\\\n",
       "\tAge &  1           & 0.0003268299 & 98           & 2.030469     & 0.0128823    & 0.9098662   \\\\\n",
       "\\end{tabular}\n"
      ],
      "text/markdown": [
       "\n",
       "| <!--/--> | Df | Deviance | Resid. Df | Resid. Dev | F | Pr(>F) |\n",
       "|---|---|---|---|---|---|---|\n",
       "| NULL | NA           |           NA | 99           | 2.030796     |        NA    |        NA    |\n",
       "| Age |  1           | 0.0003268299 | 98           | 2.030469     | 0.0128823    | 0.9098662    |\n",
       "\n"
      ],
      "text/plain": [
       "     Df Deviance     Resid. Df Resid. Dev F         Pr(>F)   \n",
       "NULL NA           NA 99        2.030796          NA        NA\n",
       "Age   1 0.0003268299 98        2.030469   0.0128823 0.9098662"
      ]
     },
     "metadata": {},
     "output_type": "display_data"
    }
   ],
   "source": [
    "anova(glm.2, test=\"F\")"
   ]
  },
  {
   "cell_type": "code",
   "execution_count": 23,
   "metadata": {},
   "outputs": [
    {
     "data": {
      "text/html": [
       "<table>\n",
       "<thead><tr><th></th><th scope=col>Estimate</th><th scope=col>Std. Error</th><th scope=col>t value</th><th scope=col>Pr(&gt;|t|)</th></tr></thead>\n",
       "<tbody>\n",
       "\t<tr><th scope=row>(Intercept)</th><td>3.33442155  </td><td>0.4763562   </td><td>6.999849    </td><td>3.216044e-10</td></tr>\n",
       "\t<tr><th scope=row>Age</th><td>0.01317146  </td><td>0.1165450   </td><td>0.113016    </td><td>9.102490e-01</td></tr>\n",
       "</tbody>\n",
       "</table>\n"
      ],
      "text/latex": [
       "\\begin{tabular}{r|llll}\n",
       "  & Estimate & Std. Error & t value & Pr(>\\textbar{}t\\textbar{})\\\\\n",
       "\\hline\n",
       "\t(Intercept) & 3.33442155   & 0.4763562    & 6.999849     & 3.216044e-10\\\\\n",
       "\tAge & 0.01317146   & 0.1165450    & 0.113016     & 9.102490e-01\\\\\n",
       "\\end{tabular}\n"
      ],
      "text/markdown": [
       "\n",
       "| <!--/--> | Estimate | Std. Error | t value | Pr(>|t|) |\n",
       "|---|---|---|---|---|\n",
       "| (Intercept) | 3.33442155   | 0.4763562    | 6.999849     | 3.216044e-10 |\n",
       "| Age | 0.01317146   | 0.1165450    | 0.113016     | 9.102490e-01 |\n",
       "\n"
      ],
      "text/plain": [
       "            Estimate   Std. Error t value  Pr(>|t|)    \n",
       "(Intercept) 3.33442155 0.4763562  6.999849 3.216044e-10\n",
       "Age         0.01317146 0.1165450  0.113016 9.102490e-01"
      ]
     },
     "metadata": {},
     "output_type": "display_data"
    }
   ],
   "source": [
    "coef(summary(glm.2))"
   ]
  },
  {
   "cell_type": "code",
   "execution_count": 26,
   "metadata": {},
   "outputs": [
    {
     "data": {
      "text/html": [
       "1.27538654419931e-63"
      ],
      "text/latex": [
       "1.27538654419931e-63"
      ],
      "text/markdown": [
       "1.27538654419931e-63"
      ],
      "text/plain": [
       "[1] 1.275387e-63"
      ]
     },
     "metadata": {},
     "output_type": "display_data"
    }
   ],
   "source": [
    "gof.dev <- deviance(glm.2)\n",
    "pchisq(gof.dev, df=df.residual(glm.2))"
   ]
  }
 ],
 "metadata": {
  "kernelspec": {
   "display_name": "R",
   "language": "R",
   "name": "ir"
  },
  "language_info": {
   "codemirror_mode": "r",
   "file_extension": ".r",
   "mimetype": "text/x-r-source",
   "name": "R",
   "pygments_lexer": "r",
   "version": "3.6.1"
  },
  "orig_nbformat": 4
 },
 "nbformat": 4,
 "nbformat_minor": 2
}
