{
 "cells": [
  {
   "cell_type": "code",
   "execution_count": 1,
   "metadata": {},
   "outputs": [
    {
     "name": "stderr",
     "output_type": "stream",
     "text": [
      "Warning message:\n",
      "\"package 'statmod' was built under R version 3.6.3\""
     ]
    }
   ],
   "source": [
    "library(GLMsData)\n",
    "library(statmod)"
   ]
  },
  {
   "cell_type": "code",
   "execution_count": 2,
   "metadata": {},
   "outputs": [],
   "source": [
    "data(trees)"
   ]
  },
  {
   "cell_type": "code",
   "execution_count": 3,
   "metadata": {},
   "outputs": [
    {
     "name": "stdout",
     "output_type": "stream",
     "text": [
      "'data.frame':\t31 obs. of  3 variables:\n",
      " $ Girth : num  8.3 8.6 8.8 10.5 10.7 10.8 11 11 11.1 11.2 ...\n",
      " $ Height: num  70 65 63 72 81 83 66 75 80 75 ...\n",
      " $ Volume: num  10.3 10.3 10.2 16.4 18.8 19.7 15.6 18.2 22.6 19.9 ...\n"
     ]
    }
   ],
   "source": [
    "str(trees)"
   ]
  },
  {
   "cell_type": "code",
   "execution_count": 4,
   "metadata": {},
   "outputs": [],
   "source": [
    "cherry.m1 <- glm( Volume ~ log(Girth) + log(Height),\n",
    "family=Gamma(link=log), data=trees)"
   ]
  },
  {
   "cell_type": "code",
   "execution_count": 5,
   "metadata": {},
   "outputs": [
    {
     "data": {
      "text/html": [
       "0.00655411658657524"
      ],
      "text/latex": [
       "0.00655411658657524"
      ],
      "text/markdown": [
       "0.00655411658657524"
      ],
      "text/plain": [
       "[1] 0.006554117"
      ]
     },
     "metadata": {},
     "output_type": "display_data"
    },
    {
     "data": {
      "text/html": [
       "0.00642728595936453"
      ],
      "text/latex": [
       "0.00642728595936453"
      ],
      "text/markdown": [
       "0.00642728595936453"
      ],
      "text/plain": [
       "[1] 0.006427286"
      ]
     },
     "metadata": {},
     "output_type": "display_data"
    },
    {
     "data": {
      "text/html": [
       "0.00642728595936453"
      ],
      "text/latex": [
       "0.00642728595936453"
      ],
      "text/markdown": [
       "0.00642728595936453"
      ],
      "text/plain": [
       "[1] 0.006427286"
      ]
     },
     "metadata": {},
     "output_type": "display_data"
    }
   ],
   "source": [
    "dispersion.dev <- deviance(cherry.m1) / df.residual(cherry.m1)\n",
    "dispersion.pearson <- sum(cherry.m1$weights * cherry.m1$residuals^2)/df.residual(cherry.m1)\n",
    "dispersion.dev\n",
    "dispersion.pearson\n",
    "summary(cherry.m1)$dispersion"
   ]
  },
  {
   "cell_type": "code",
   "execution_count": 9,
   "metadata": {},
   "outputs": [
    {
     "data": {
      "text/html": [
       "0.183515264424107"
      ],
      "text/latex": [
       "0.183515264424107"
      ],
      "text/markdown": [
       "0.183515264424107"
      ],
      "text/plain": [
       "[1] 0.1835153"
      ]
     },
     "metadata": {},
     "output_type": "display_data"
    },
    {
     "data": {
      "text/html": [
       "1"
      ],
      "text/latex": [
       "1"
      ],
      "text/markdown": [
       "1"
      ],
      "text/plain": [
       "[1] 1"
      ]
     },
     "metadata": {},
     "output_type": "display_data"
    }
   ],
   "source": [
    "gof.dev <- deviance(cherry.m1)\n",
    "q.gof <- pchisq(gof.dev, df=df.residual(cherry.m1), lower.tail = FALSE)\n",
    "gof.dev\n",
    "q.gof"
   ]
  },
  {
   "cell_type": "code",
   "execution_count": 14,
   "metadata": {},
   "outputs": [],
   "source": [
    "dev.std.res <- rstandard(cherry.m1)\n",
    "pearson.std.res <- resid(cherry.m1, type=\"pearson\") / sqrt(dispersion.dev*(1-hatvalues(cherry.m1)))\n",
    "quantile.std.res <- qresid(cherry.m1) / sqrt(1- hatvalues(cherry.m1))"
   ]
  },
  {
   "cell_type": "code",
   "execution_count": 25,
   "metadata": {},
   "outputs": [
    {
     "data": {
      "text/html": [
       "<dl class=dl-horizontal>\n",
       "\t<dt>1</dt>\n",
       "\t\t<dd>0.260367636632225</dd>\n",
       "\t<dt>2</dt>\n",
       "\t\t<dd>0.450857947947692</dd>\n",
       "\t<dt>3</dt>\n",
       "\t\t<dd>0.18036631628033</dd>\n",
       "\t<dt>4</dt>\n",
       "\t\t<dd>-0.169899383098834</dd>\n",
       "\t<dt>5</dt>\n",
       "\t\t<dd>-0.626714555136286</dd>\n",
       "\t<dt>6</dt>\n",
       "\t\t<dd>-0.628525042880539</dd>\n",
       "\t<dt>7</dt>\n",
       "\t\t<dd>-0.748048675465786</dd>\n",
       "\t<dt>8</dt>\n",
       "\t\t<dd>-0.603031041600671</dd>\n",
       "\t<dt>9</dt>\n",
       "\t\t<dd>1.03388809601594</dd>\n",
       "\t<dt>10</dt>\n",
       "\t\t<dd>0.0784603793777488</dd>\n",
       "\t<dt>11</dt>\n",
       "\t\t<dd>1.65717803592342</dd>\n",
       "\t<dt>12</dt>\n",
       "\t\t<dd>0.12642209695935</dd>\n",
       "\t<dt>13</dt>\n",
       "\t\t<dd>0.368994915990271</dd>\n",
       "\t<dt>14</dt>\n",
       "\t\t<dd>1.07810272820467</dd>\n",
       "\t<dt>15</dt>\n",
       "\t\t<dd>-2.11813121643068</dd>\n",
       "\t<dt>16</dt>\n",
       "\t\t<dd>-1.84845706286931</dd>\n",
       "\t<dt>17</dt>\n",
       "\t\t<dd>1.54506659143587</dd>\n",
       "\t<dt>18</dt>\n",
       "\t\t<dd>-2.19776053806348</dd>\n",
       "\t<dt>19</dt>\n",
       "\t\t<dd>-0.958927218038789</dd>\n",
       "\t<dt>20</dt>\n",
       "\t\t<dd>-0.0495147062852411</dd>\n",
       "\t<dt>21</dt>\n",
       "\t\t<dd>0.900846105049179</dd>\n",
       "\t<dt>22</dt>\n",
       "\t\t<dd>-0.901015731291423</dd>\n",
       "\t<dt>23</dt>\n",
       "\t\t<dd>1.4506465564681</dd>\n",
       "\t<dt>24</dt>\n",
       "\t\t<dd>0.00993116264330652</dd>\n",
       "\t<dt>25</dt>\n",
       "\t\t<dd>-0.0736414369974903</dd>\n",
       "\t<dt>26</dt>\n",
       "\t\t<dd>1.08087635543326</dd>\n",
       "\t<dt>27</dt>\n",
       "\t\t<dd>0.666190687090511</dd>\n",
       "\t<dt>28</dt>\n",
       "\t\t<dd>1.05578296817354</dd>\n",
       "\t<dt>29</dt>\n",
       "\t\t<dd>-0.726364334207645</dd>\n",
       "\t<dt>30</dt>\n",
       "\t\t<dd>-0.852130516444069</dd>\n",
       "\t<dt>31</dt>\n",
       "\t\t<dd>-0.216262027533017</dd>\n",
       "</dl>\n"
      ],
      "text/latex": [
       "\\begin{description*}\n",
       "\\item[1] 0.260367636632225\n",
       "\\item[2] 0.450857947947692\n",
       "\\item[3] 0.18036631628033\n",
       "\\item[4] -0.169899383098834\n",
       "\\item[5] -0.626714555136286\n",
       "\\item[6] -0.628525042880539\n",
       "\\item[7] -0.748048675465786\n",
       "\\item[8] -0.603031041600671\n",
       "\\item[9] 1.03388809601594\n",
       "\\item[10] 0.0784603793777488\n",
       "\\item[11] 1.65717803592342\n",
       "\\item[12] 0.12642209695935\n",
       "\\item[13] 0.368994915990271\n",
       "\\item[14] 1.07810272820467\n",
       "\\item[15] -2.11813121643068\n",
       "\\item[16] -1.84845706286931\n",
       "\\item[17] 1.54506659143587\n",
       "\\item[18] -2.19776053806348\n",
       "\\item[19] -0.958927218038789\n",
       "\\item[20] -0.0495147062852411\n",
       "\\item[21] 0.900846105049179\n",
       "\\item[22] -0.901015731291423\n",
       "\\item[23] 1.4506465564681\n",
       "\\item[24] 0.00993116264330652\n",
       "\\item[25] -0.0736414369974903\n",
       "\\item[26] 1.08087635543326\n",
       "\\item[27] 0.666190687090511\n",
       "\\item[28] 1.05578296817354\n",
       "\\item[29] -0.726364334207645\n",
       "\\item[30] -0.852130516444069\n",
       "\\item[31] -0.216262027533017\n",
       "\\end{description*}\n"
      ],
      "text/markdown": [
       "1\n",
       ":   0.2603676366322252\n",
       ":   0.4508579479476923\n",
       ":   0.180366316280334\n",
       ":   -0.1698993830988345\n",
       ":   -0.6267145551362866\n",
       ":   -0.6285250428805397\n",
       ":   -0.7480486754657868\n",
       ":   -0.6030310416006719\n",
       ":   1.0338880960159410\n",
       ":   0.078460379377748811\n",
       ":   1.6571780359234212\n",
       ":   0.1264220969593513\n",
       ":   0.36899491599027114\n",
       ":   1.0781027282046715\n",
       ":   -2.1181312164306816\n",
       ":   -1.8484570628693117\n",
       ":   1.5450665914358718\n",
       ":   -2.1977605380634819\n",
       ":   -0.95892721803878920\n",
       ":   -0.049514706285241121\n",
       ":   0.90084610504917922\n",
       ":   -0.90101573129142323\n",
       ":   1.450646556468124\n",
       ":   0.0099311626433065225\n",
       ":   -0.073641436997490326\n",
       ":   1.0808763554332627\n",
       ":   0.66619068709051128\n",
       ":   1.0557829681735429\n",
       ":   -0.72636433420764530\n",
       ":   -0.85213051644406931\n",
       ":   -0.216262027533017\n",
       "\n"
      ],
      "text/plain": [
       "           1            2            3            4            5            6 \n",
       " 0.260367637  0.450857948  0.180366316 -0.169899383 -0.626714555 -0.628525043 \n",
       "           7            8            9           10           11           12 \n",
       "-0.748048675 -0.603031042  1.033888096  0.078460379  1.657178036  0.126422097 \n",
       "          13           14           15           16           17           18 \n",
       " 0.368994916  1.078102728 -2.118131216 -1.848457063  1.545066591 -2.197760538 \n",
       "          19           20           21           22           23           24 \n",
       "-0.958927218 -0.049514706  0.900846105 -0.901015731  1.450646556  0.009931163 \n",
       "          25           26           27           28           29           30 \n",
       "-0.073641437  1.080876355  0.666190687  1.055782968 -0.726364334 -0.852130516 \n",
       "          31 \n",
       "-0.216262028 "
      ]
     },
     "metadata": {},
     "output_type": "display_data"
    }
   ],
   "source": [
    "dev.std.res"
   ]
  },
  {
   "cell_type": "code",
   "execution_count": 15,
   "metadata": {},
   "outputs": [
    {
     "data": {
      "text/plain": [
       "\n",
       "\tShapiro-Wilk normality test\n",
       "\n",
       "data:  dev.std.res\n",
       "W = 0.9632, p-value = 0.3536\n"
      ]
     },
     "metadata": {},
     "output_type": "display_data"
    },
    {
     "data": {
      "text/plain": [
       "\n",
       "\tShapiro-Wilk normality test\n",
       "\n",
       "data:  pearson.std.res\n",
       "W = 0.96781, p-value = 0.4608\n"
      ]
     },
     "metadata": {},
     "output_type": "display_data"
    },
    {
     "data": {
      "text/plain": [
       "\n",
       "\tShapiro-Wilk normality test\n",
       "\n",
       "data:  quantile.std.res\n",
       "W = 0.96315, p-value = 0.3526\n"
      ]
     },
     "metadata": {},
     "output_type": "display_data"
    }
   ],
   "source": [
    "shapiro.test(dev.std.res)\n",
    "shapiro.test(pearson.std.res)\n",
    "shapiro.test(quantile.std.res)"
   ]
  },
  {
   "cell_type": "code",
   "execution_count": 16,
   "metadata": {},
   "outputs": [],
   "source": [
    "cherry.omit1 <- update(cherry.m1, subset=(-1))\n",
    "\n"
   ]
  },
  {
   "cell_type": "code",
   "execution_count": 27,
   "metadata": {},
   "outputs": [
    {
     "data": {
      "text/html": [
       "0.0678670203383012"
      ],
      "text/latex": [
       "0.0678670203383012"
      ],
      "text/markdown": [
       "0.0678670203383012"
      ],
      "text/plain": [
       "[1] 0.06786702"
      ]
     },
     "metadata": {},
     "output_type": "display_data"
    },
    {
     "name": "stderr",
     "output_type": "stream",
     "text": [
      "Warning message in pf(L, df1 = 0, df2 = df.residual(cherry.omit1), lower.tail = FALSE):\n",
      "\"NaNs produced\""
     ]
    },
    {
     "data": {
      "text/html": [
       "NaN"
      ],
      "text/latex": [
       "NaN"
      ],
      "text/markdown": [
       "NaN"
      ],
      "text/plain": [
       "[1] NaN"
      ]
     },
     "metadata": {},
     "output_type": "display_data"
    },
    {
     "data": {
      "text/html": [
       "28"
      ],
      "text/latex": [
       "28"
      ],
      "text/markdown": [
       "28"
      ],
      "text/plain": [
       "[1] 28"
      ]
     },
     "metadata": {},
     "output_type": "display_data"
    },
    {
     "data": {
      "text/html": [
       "27"
      ],
      "text/latex": [
       "27"
      ],
      "text/markdown": [
       "27"
      ],
      "text/plain": [
       "[1] 27"
      ]
     },
     "metadata": {},
     "output_type": "display_data"
    }
   ],
   "source": [
    "L <- (deviance(cherry.m1) - deviance(cherry.omit1))/dispersion.pearson\n",
    "L\n",
    "pf(L, df1=0, df2=df.residual(cherry.omit1), lower.tail = FALSE)\n",
    "df.residual(cherry.m1)\n",
    "df.residual(cherry.omit1)"
   ]
  },
  {
   "cell_type": "code",
   "execution_count": 28,
   "metadata": {},
   "outputs": [
    {
     "data": {
      "text/html": [
       "<dl class=dl-horizontal>\n",
       "\t<dt>1</dt>\n",
       "\t\t<dd>0.260367636632225</dd>\n",
       "\t<dt>2</dt>\n",
       "\t\t<dd>0.450857947947692</dd>\n",
       "\t<dt>3</dt>\n",
       "\t\t<dd>0.18036631628033</dd>\n",
       "\t<dt>4</dt>\n",
       "\t\t<dd>-0.169899383098834</dd>\n",
       "\t<dt>5</dt>\n",
       "\t\t<dd>-0.626714555136286</dd>\n",
       "\t<dt>6</dt>\n",
       "\t\t<dd>-0.628525042880539</dd>\n",
       "\t<dt>7</dt>\n",
       "\t\t<dd>-0.748048675465786</dd>\n",
       "\t<dt>8</dt>\n",
       "\t\t<dd>-0.603031041600671</dd>\n",
       "\t<dt>9</dt>\n",
       "\t\t<dd>1.03388809601594</dd>\n",
       "\t<dt>10</dt>\n",
       "\t\t<dd>0.0784603793777488</dd>\n",
       "\t<dt>11</dt>\n",
       "\t\t<dd>1.65717803592342</dd>\n",
       "\t<dt>12</dt>\n",
       "\t\t<dd>0.12642209695935</dd>\n",
       "\t<dt>13</dt>\n",
       "\t\t<dd>0.368994915990271</dd>\n",
       "\t<dt>14</dt>\n",
       "\t\t<dd>1.07810272820467</dd>\n",
       "\t<dt>15</dt>\n",
       "\t\t<dd>-2.11813121643068</dd>\n",
       "\t<dt>16</dt>\n",
       "\t\t<dd>-1.84845706286931</dd>\n",
       "\t<dt>17</dt>\n",
       "\t\t<dd>1.54506659143587</dd>\n",
       "\t<dt>18</dt>\n",
       "\t\t<dd>-2.19776053806348</dd>\n",
       "\t<dt>19</dt>\n",
       "\t\t<dd>-0.958927218038789</dd>\n",
       "\t<dt>20</dt>\n",
       "\t\t<dd>-0.0495147062852411</dd>\n",
       "\t<dt>21</dt>\n",
       "\t\t<dd>0.900846105049179</dd>\n",
       "\t<dt>22</dt>\n",
       "\t\t<dd>-0.901015731291423</dd>\n",
       "\t<dt>23</dt>\n",
       "\t\t<dd>1.4506465564681</dd>\n",
       "\t<dt>24</dt>\n",
       "\t\t<dd>0.00993116264330652</dd>\n",
       "\t<dt>25</dt>\n",
       "\t\t<dd>-0.0736414369974903</dd>\n",
       "\t<dt>26</dt>\n",
       "\t\t<dd>1.08087635543326</dd>\n",
       "\t<dt>27</dt>\n",
       "\t\t<dd>0.666190687090511</dd>\n",
       "\t<dt>28</dt>\n",
       "\t\t<dd>1.05578296817354</dd>\n",
       "\t<dt>29</dt>\n",
       "\t\t<dd>-0.726364334207645</dd>\n",
       "\t<dt>30</dt>\n",
       "\t\t<dd>-0.852130516444069</dd>\n",
       "\t<dt>31</dt>\n",
       "\t\t<dd>-0.216262027533017</dd>\n",
       "</dl>\n"
      ],
      "text/latex": [
       "\\begin{description*}\n",
       "\\item[1] 0.260367636632225\n",
       "\\item[2] 0.450857947947692\n",
       "\\item[3] 0.18036631628033\n",
       "\\item[4] -0.169899383098834\n",
       "\\item[5] -0.626714555136286\n",
       "\\item[6] -0.628525042880539\n",
       "\\item[7] -0.748048675465786\n",
       "\\item[8] -0.603031041600671\n",
       "\\item[9] 1.03388809601594\n",
       "\\item[10] 0.0784603793777488\n",
       "\\item[11] 1.65717803592342\n",
       "\\item[12] 0.12642209695935\n",
       "\\item[13] 0.368994915990271\n",
       "\\item[14] 1.07810272820467\n",
       "\\item[15] -2.11813121643068\n",
       "\\item[16] -1.84845706286931\n",
       "\\item[17] 1.54506659143587\n",
       "\\item[18] -2.19776053806348\n",
       "\\item[19] -0.958927218038789\n",
       "\\item[20] -0.0495147062852411\n",
       "\\item[21] 0.900846105049179\n",
       "\\item[22] -0.901015731291423\n",
       "\\item[23] 1.4506465564681\n",
       "\\item[24] 0.00993116264330652\n",
       "\\item[25] -0.0736414369974903\n",
       "\\item[26] 1.08087635543326\n",
       "\\item[27] 0.666190687090511\n",
       "\\item[28] 1.05578296817354\n",
       "\\item[29] -0.726364334207645\n",
       "\\item[30] -0.852130516444069\n",
       "\\item[31] -0.216262027533017\n",
       "\\end{description*}\n"
      ],
      "text/markdown": [
       "1\n",
       ":   0.2603676366322252\n",
       ":   0.4508579479476923\n",
       ":   0.180366316280334\n",
       ":   -0.1698993830988345\n",
       ":   -0.6267145551362866\n",
       ":   -0.6285250428805397\n",
       ":   -0.7480486754657868\n",
       ":   -0.6030310416006719\n",
       ":   1.0338880960159410\n",
       ":   0.078460379377748811\n",
       ":   1.6571780359234212\n",
       ":   0.1264220969593513\n",
       ":   0.36899491599027114\n",
       ":   1.0781027282046715\n",
       ":   -2.1181312164306816\n",
       ":   -1.8484570628693117\n",
       ":   1.5450665914358718\n",
       ":   -2.1977605380634819\n",
       ":   -0.95892721803878920\n",
       ":   -0.049514706285241121\n",
       ":   0.90084610504917922\n",
       ":   -0.90101573129142323\n",
       ":   1.450646556468124\n",
       ":   0.0099311626433065225\n",
       ":   -0.073641436997490326\n",
       ":   1.0808763554332627\n",
       ":   0.66619068709051128\n",
       ":   1.0557829681735429\n",
       ":   -0.72636433420764530\n",
       ":   -0.85213051644406931\n",
       ":   -0.216262027533017\n",
       "\n"
      ],
      "text/plain": [
       "           1            2            3            4            5            6 \n",
       " 0.260367637  0.450857948  0.180366316 -0.169899383 -0.626714555 -0.628525043 \n",
       "           7            8            9           10           11           12 \n",
       "-0.748048675 -0.603031042  1.033888096  0.078460379  1.657178036  0.126422097 \n",
       "          13           14           15           16           17           18 \n",
       " 0.368994916  1.078102728 -2.118131216 -1.848457063  1.545066591 -2.197760538 \n",
       "          19           20           21           22           23           24 \n",
       "-0.958927218 -0.049514706  0.900846105 -0.901015731  1.450646556  0.009931163 \n",
       "          25           26           27           28           29           30 \n",
       "-0.073641437  1.080876355  0.666190687  1.055782968 -0.726364334 -0.852130516 \n",
       "          31 \n",
       "-0.216262028 "
      ]
     },
     "metadata": {},
     "output_type": "display_data"
    }
   ],
   "source": [
    "rstandard(cherry.m1)"
   ]
  },
  {
   "cell_type": "markdown",
   "metadata": {},
   "source": [
    "# Sai ở đâu mà không thấy giống nhỉ :("
   ]
  }
 ],
 "metadata": {
  "kernelspec": {
   "display_name": "R",
   "language": "R",
   "name": "ir"
  },
  "language_info": {
   "codemirror_mode": "r",
   "file_extension": ".r",
   "mimetype": "text/x-r-source",
   "name": "R",
   "pygments_lexer": "r",
   "version": "3.6.1"
  },
  "orig_nbformat": 4
 },
 "nbformat": 4,
 "nbformat_minor": 2
}
