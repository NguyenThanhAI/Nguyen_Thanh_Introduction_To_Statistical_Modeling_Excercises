{
 "cells": [
  {
   "cell_type": "code",
   "execution_count": 1,
   "metadata": {},
   "outputs": [
    {
     "name": "stderr",
     "output_type": "stream",
     "text": [
      "Warning message:\n",
      "\"package 'statmod' was built under R version 3.6.3\""
     ]
    }
   ],
   "source": [
    "library(GLMsData)\n",
    "library(statmod)"
   ]
  },
  {
   "cell_type": "code",
   "execution_count": 2,
   "metadata": {},
   "outputs": [
    {
     "data": {
      "text/html": [
       "0.329679953964361"
      ],
      "text/latex": [
       "0.329679953964361"
      ],
      "text/markdown": [
       "0.329679953964361"
      ],
      "text/plain": [
       "[1] 0.32968"
      ]
     },
     "metadata": {},
     "output_type": "display_data"
    }
   ],
   "source": [
    "y <- 1.2; mu <- 3\n",
    "cum.prob <- pexp(y, rate=1/mu); cum.prob"
   ]
  },
  {
   "cell_type": "code",
   "execution_count": 3,
   "metadata": {},
   "outputs": [
    {
     "data": {
      "text/html": [
       "-0.440797079629437"
      ],
      "text/latex": [
       "-0.440797079629437"
      ],
      "text/markdown": [
       "-0.440797079629437"
      ],
      "text/plain": [
       "[1] -0.4407971"
      ]
     },
     "metadata": {},
     "output_type": "display_data"
    }
   ],
   "source": [
    "rq <- qnorm(cum.prob); rq"
   ]
  },
  {
   "cell_type": "code",
   "execution_count": 4,
   "metadata": {},
   "outputs": [
    {
     "data": {
      "text/html": [
       "<ol class=list-inline>\n",
       "\t<li>0.0742735782143339</li>\n",
       "\t<li>0.267384881571602</li>\n",
       "</ol>\n"
      ],
      "text/latex": [
       "\\begin{enumerate*}\n",
       "\\item 0.0742735782143339\n",
       "\\item 0.267384881571602\n",
       "\\end{enumerate*}\n"
      ],
      "text/markdown": [
       "1. 0.0742735782143339\n",
       "2. 0.267384881571602\n",
       "\n",
       "\n"
      ],
      "text/plain": [
       "[1] 0.07427358 0.26738488"
      ]
     },
     "metadata": {},
     "output_type": "display_data"
    }
   ],
   "source": [
    "y <- 1; mu <- 2.6\n",
    "a <- ppois(y-1, mu); b <- ppois(y, mu)\n",
    "c(a, b)"
   ]
  },
  {
   "cell_type": "code",
   "execution_count": 5,
   "metadata": {},
   "outputs": [
    {
     "data": {
      "text/html": [
       "0.201660022301459"
      ],
      "text/latex": [
       "0.201660022301459"
      ],
      "text/markdown": [
       "0.201660022301459"
      ],
      "text/plain": [
       "[1] 0.20166"
      ]
     },
     "metadata": {},
     "output_type": "display_data"
    }
   ],
   "source": [
    "u <- runif(1, a, b); u"
   ]
  },
  {
   "cell_type": "code",
   "execution_count": 6,
   "metadata": {},
   "outputs": [
    {
     "data": {
      "text/html": [
       "-0.835706487672111"
      ],
      "text/latex": [
       "-0.835706487672111"
      ],
      "text/markdown": [
       "-0.835706487672111"
      ],
      "text/plain": [
       "[1] -0.8357065"
      ]
     },
     "metadata": {},
     "output_type": "display_data"
    }
   ],
   "source": [
    "rq <- qnorm( u ); rq"
   ]
  },
  {
   "cell_type": "code",
   "execution_count": 7,
   "metadata": {},
   "outputs": [
    {
     "data": {
      "text/html": [
       "<dl class=dl-horizontal>\n",
       "\t<dt>(Intercept)</dt>\n",
       "\t\t<dd>-6.69110901613729</dd>\n",
       "\t<dt>log(Girth)</dt>\n",
       "\t\t<dd>1.9804122165617</dd>\n",
       "\t<dt>log(Height)</dt>\n",
       "\t\t<dd>1.13287805609688</dd>\n",
       "</dl>\n"
      ],
      "text/latex": [
       "\\begin{description*}\n",
       "\\item[(Intercept)] -6.69110901613729\n",
       "\\item[log(Girth)] 1.9804122165617\n",
       "\\item[log(Height)] 1.13287805609688\n",
       "\\end{description*}\n"
      ],
      "text/markdown": [
       "(Intercept)\n",
       ":   -6.69110901613729log(Girth)\n",
       ":   1.9804122165617log(Height)\n",
       ":   1.13287805609688\n",
       "\n"
      ],
      "text/plain": [
       "(Intercept)  log(Girth) log(Height) \n",
       "  -6.691109    1.980412    1.132878 "
      ]
     },
     "metadata": {},
     "output_type": "display_data"
    }
   ],
   "source": [
    "data(trees)\n",
    "cherry.m1 <- glm( Volume ~ log(Girth) + log(Height),\n",
    "family=Gamma(link=log), data=trees)\n",
    "coef( cherry.m1 )"
   ]
  },
  {
   "cell_type": "code",
   "execution_count": 9,
   "metadata": {},
   "outputs": [
    {
     "data": {
      "text/html": [
       "<table>\n",
       "<thead><tr><th scope=col>rP</th><th scope=col>rP.std</th><th scope=col>rD</th><th scope=col>rD.std</th><th scope=col>rQ</th><th scope=col>rQ.std</th></tr></thead>\n",
       "<tbody>\n",
       "\t<tr><td> 0.01935248</td><td> 0.2620392 </td><td> 0.01922903</td><td> 0.2603676 </td><td> 0.2665369 </td><td> 0.2893348 </td></tr>\n",
       "\t<tr><td> 0.03334904</td><td> 0.4558288 </td><td> 0.03298537</td><td> 0.4508579 </td><td> 0.4380951 </td><td> 0.4800656 </td></tr>\n",
       "\t<tr><td> 0.01300934</td><td> 0.1811459 </td><td> 0.01295335</td><td> 0.1803663 </td><td> 0.1882715 </td><td> 0.2101705 </td></tr>\n",
       "\t<tr><td>-0.01315583</td><td>-0.1691519 </td><td>-0.01321397</td><td>-0.1698994 </td><td>-0.1380666 </td><td>-0.1423184 </td></tr>\n",
       "\t<tr><td>-0.04635977</td><td>-0.6169148 </td><td>-0.04709620</td><td>-0.6267146 </td><td>-0.5606192 </td><td>-0.5980889 </td></tr>\n",
       "\t<tr><td>-0.04568564</td><td>-0.6188416 </td><td>-0.04640051</td><td>-0.6285250 </td><td>-0.5519432 </td><td>-0.5993880 </td></tr>\n",
       "</tbody>\n",
       "</table>\n"
      ],
      "text/latex": [
       "\\begin{tabular}{r|llllll}\n",
       " rP & rP.std & rD & rD.std & rQ & rQ.std\\\\\n",
       "\\hline\n",
       "\t  0.01935248 &  0.2620392  &  0.01922903 &  0.2603676  &  0.2665369  &  0.2893348 \\\\\n",
       "\t  0.03334904 &  0.4558288  &  0.03298537 &  0.4508579  &  0.4380951  &  0.4800656 \\\\\n",
       "\t  0.01300934 &  0.1811459  &  0.01295335 &  0.1803663  &  0.1882715  &  0.2101705 \\\\\n",
       "\t -0.01315583 & -0.1691519  & -0.01321397 & -0.1698994  & -0.1380666  & -0.1423184 \\\\\n",
       "\t -0.04635977 & -0.6169148  & -0.04709620 & -0.6267146  & -0.5606192  & -0.5980889 \\\\\n",
       "\t -0.04568564 & -0.6188416  & -0.04640051 & -0.6285250  & -0.5519432  & -0.5993880 \\\\\n",
       "\\end{tabular}\n"
      ],
      "text/markdown": [
       "\n",
       "| rP | rP.std | rD | rD.std | rQ | rQ.std |\n",
       "|---|---|---|---|---|---|\n",
       "|  0.01935248 |  0.2620392  |  0.01922903 |  0.2603676  |  0.2665369  |  0.2893348  |\n",
       "|  0.03334904 |  0.4558288  |  0.03298537 |  0.4508579  |  0.4380951  |  0.4800656  |\n",
       "|  0.01300934 |  0.1811459  |  0.01295335 |  0.1803663  |  0.1882715  |  0.2101705  |\n",
       "| -0.01315583 | -0.1691519  | -0.01321397 | -0.1698994  | -0.1380666  | -0.1423184  |\n",
       "| -0.04635977 | -0.6169148  | -0.04709620 | -0.6267146  | -0.5606192  | -0.5980889  |\n",
       "| -0.04568564 | -0.6188416  | -0.04640051 | -0.6285250  | -0.5519432  | -0.5993880  |\n",
       "\n"
      ],
      "text/plain": [
       "  rP          rP.std     rD          rD.std     rQ         rQ.std    \n",
       "1  0.01935248  0.2620392  0.01922903  0.2603676  0.2665369  0.2893348\n",
       "2  0.03334904  0.4558288  0.03298537  0.4508579  0.4380951  0.4800656\n",
       "3  0.01300934  0.1811459  0.01295335  0.1803663  0.1882715  0.2101705\n",
       "4 -0.01315583 -0.1691519 -0.01321397 -0.1698994 -0.1380666 -0.1423184\n",
       "5 -0.04635977 -0.6169148 -0.04709620 -0.6267146 -0.5606192 -0.5980889\n",
       "6 -0.04568564 -0.6188416 -0.04640051 -0.6285250 -0.5519432 -0.5993880"
      ]
     },
     "metadata": {},
     "output_type": "display_data"
    }
   ],
   "source": [
    "rP <- resid( cherry.m1, type=\"pearson\" )\n",
    "rD <- resid(cherry.m1)\n",
    "rQ <- qresid( cherry.m1 )\n",
    "\n",
    "phi.est <- summary( cherry.m1 )$dispersion # Pearson estimate\n",
    "rP.std <- rP / sqrt( phi.est*(1 - hatvalues(cherry.m1)) )\n",
    "rD.std <- rstandard(cherry.m1)\n",
    "rQ.std <- rQ / sqrt( 1 - hatvalues(cherry.m1) )\n",
    "all.res <- cbind( rP, rP.std, rD, rD.std, rQ, rQ.std )\n",
    "head( all.res ) # Show the first six values only"
   ]
  },
  {
   "cell_type": "code",
   "execution_count": 12,
   "metadata": {},
   "outputs": [
    {
     "data": {
      "text/plain": [
       "\n",
       "\tShapiro-Wilk normality test\n",
       "\n",
       "data:  rQ.std\n",
       "W = 0.96315, p-value = 0.3526\n"
      ]
     },
     "metadata": {},
     "output_type": "display_data"
    },
    {
     "data": {
      "text/plain": [
       "\n",
       "\tShapiro-Wilk normality test\n",
       "\n",
       "data:  rP.std\n",
       "W = 0.96781, p-value = 0.4608\n"
      ]
     },
     "metadata": {},
     "output_type": "display_data"
    },
    {
     "data": {
      "text/plain": [
       "\n",
       "\tShapiro-Wilk normality test\n",
       "\n",
       "data:  rD.std\n",
       "W = 0.9632, p-value = 0.3536\n"
      ]
     },
     "metadata": {},
     "output_type": "display_data"
    },
    {
     "data": {
      "image/png": "[encoded data removed]",
      "text/plain": [
       "Plot with title \"Normal Q-Q Plot\""
      ]
     },
     "metadata": {},
     "output_type": "display_data"
    }
   ],
   "source": [
    "qqnorm(rQ.std)\n",
    "qqline(rQ.std)\n",
    "shapiro.test(rQ.std)\n",
    "shapiro.test(rP.std)\n",
    "shapiro.test(rD.std)"
   ]
  },
  {
   "cell_type": "code",
   "execution_count": 15,
   "metadata": {},
   "outputs": [
    {
     "data": {
      "text/html": [
       "<table>\n",
       "<thead><tr><th scope=col>rD</th><th scope=col>r'D</th><th scope=col>r''</th><th scope=col>rQ</th></tr></thead>\n",
       "<tbody>\n",
       "\t<tr><td> 0.0192290343</td><td> 0.260367637 </td><td> 0.253738160 </td><td> 0.26653694  </td></tr>\n",
       "\t<tr><td> 0.0329853677</td><td> 0.450857948 </td><td> 0.440812946 </td><td> 0.43809507  </td></tr>\n",
       "\t<tr><td> 0.0129533488</td><td> 0.180366316 </td><td> 0.175644229 </td><td> 0.18827154  </td></tr>\n",
       "\t<tr><td>-0.0132139678</td><td>-0.169899383 </td><td>-0.165256592 </td><td>-0.13806664  </td></tr>\n",
       "\t<tr><td>-0.0470961965</td><td>-0.626714555 </td><td>-0.612516613 </td><td>-0.56061925  </td></tr>\n",
       "\t<tr><td>-0.0464005131</td><td>-0.628525043 </td><td>-0.614038619 </td><td>-0.55194323  </td></tr>\n",
       "\t<tr><td>-0.0562762575</td><td>-0.748048675 </td><td>-0.733037037 </td><td>-0.67510580  </td></tr>\n",
       "\t<tr><td>-0.0471052837</td><td>-0.603031042 </td><td>-0.589713551 </td><td>-0.56073258  </td></tr>\n",
       "\t<tr><td> 0.0790412907</td><td> 1.033888096 </td><td> 1.027244468 </td><td> 1.01246808  </td></tr>\n",
       "\t<tr><td> 0.0061423275</td><td> 0.078460379 </td><td> 0.076312942 </td><td> 0.10332985  </td></tr>\n",
       "\t<tr><td> 0.1279734191</td><td> 1.657178036 </td><td> 1.700449947 </td><td> 1.62271071  </td></tr>\n",
       "\t<tr><td> 0.0098973658</td><td> 0.126422097 </td><td> 0.122990285 </td><td> 0.15015973  </td></tr>\n",
       "\t<tr><td> 0.0288879694</td><td> 0.368994916 </td><td> 0.359843218 </td><td> 0.38699556  </td></tr>\n",
       "\t<tr><td> 0.0832286152</td><td> 1.078102728 </td><td> 1.072598691 </td><td> 1.06468907  </td></tr>\n",
       "\t<tr><td>-0.1667629778</td><td>-2.118131216 </td><td>-2.239273925 </td><td>-2.05301087  </td></tr>\n",
       "\t<tr><td>-0.1455268363</td><td>-1.848457063 </td><td>-1.912583872 </td><td>-1.78816995  </td></tr>\n",
       "\t<tr><td> 0.1164400268</td><td> 1.545066591 </td><td> 1.576796374 </td><td> 1.47887541  </td></tr>\n",
       "\t<tr><td>-0.1647680230</td><td>-2.197760538 </td><td>-2.329122407 </td><td>-2.02813132  </td></tr>\n",
       "\t<tr><td>-0.0740927998</td><td>-0.958927218 </td><td>-0.946244559 </td><td>-0.89729983  </td></tr>\n",
       "\t<tr><td>-0.0034543179</td><td>-0.049514706 </td><td>-0.048138341 </td><td>-0.01635196  </td></tr>\n",
       "\t<tr><td> 0.0708540664</td><td> 0.900846105 </td><td> 0.889533958 </td><td> 0.91036351  </td></tr>\n",
       "\t<tr><td>-0.0705495333</td><td>-0.901015731 </td><td>-0.887957849 </td><td>-0.85311097  </td></tr>\n",
       "\t<tr><td> 0.1131223770</td><td> 1.450646556 </td><td> 1.468761958 </td><td> 1.43750032  </td></tr>\n",
       "\t<tr><td> 0.0007492294</td><td> 0.009931163 </td><td> 0.009657681 </td><td> 0.03607137  </td></tr>\n",
       "\t<tr><td>-0.0056906485</td><td>-0.073641437 </td><td>-0.071608528 </td><td>-0.04424172  </td></tr>\n",
       "\t<tr><td> 0.0828685103</td><td> 1.080876355 </td><td> 1.075850034 </td><td> 1.06019813  </td></tr>\n",
       "\t<tr><td> 0.0509042725</td><td> 0.666190687 </td><td> 0.653946733 </td><td> 0.66156549  </td></tr>\n",
       "\t<tr><td> 0.0803771982</td><td> 1.055782968 </td><td> 1.050133746 </td><td> 1.02912846  </td></tr>\n",
       "\t<tr><td>-0.0552255089</td><td>-0.726364334 </td><td>-0.711654755 </td><td>-0.66200168  </td></tr>\n",
       "\t<tr><td>-0.0647875167</td><td>-0.852130516 </td><td>-0.837585178 </td><td>-0.78125159  </td></tr>\n",
       "\t<tr><td>-0.0156971012</td><td>-0.216262028 </td><td>-0.210274854 </td><td>-0.16903433  </td></tr>\n",
       "</tbody>\n",
       "</table>\n"
      ],
      "text/latex": [
       "\\begin{tabular}{r|llll}\n",
       " rD & r'D & r'' & rQ\\\\\n",
       "\\hline\n",
       "\t  0.0192290343 &  0.260367637  &  0.253738160  &  0.26653694  \\\\\n",
       "\t  0.0329853677 &  0.450857948  &  0.440812946  &  0.43809507  \\\\\n",
       "\t  0.0129533488 &  0.180366316  &  0.175644229  &  0.18827154  \\\\\n",
       "\t -0.0132139678 & -0.169899383  & -0.165256592  & -0.13806664  \\\\\n",
       "\t -0.0470961965 & -0.626714555  & -0.612516613  & -0.56061925  \\\\\n",
       "\t -0.0464005131 & -0.628525043  & -0.614038619  & -0.55194323  \\\\\n",
       "\t -0.0562762575 & -0.748048675  & -0.733037037  & -0.67510580  \\\\\n",
       "\t -0.0471052837 & -0.603031042  & -0.589713551  & -0.56073258  \\\\\n",
       "\t  0.0790412907 &  1.033888096  &  1.027244468  &  1.01246808  \\\\\n",
       "\t  0.0061423275 &  0.078460379  &  0.076312942  &  0.10332985  \\\\\n",
       "\t  0.1279734191 &  1.657178036  &  1.700449947  &  1.62271071  \\\\\n",
       "\t  0.0098973658 &  0.126422097  &  0.122990285  &  0.15015973  \\\\\n",
       "\t  0.0288879694 &  0.368994916  &  0.359843218  &  0.38699556  \\\\\n",
       "\t  0.0832286152 &  1.078102728  &  1.072598691  &  1.06468907  \\\\\n",
       "\t -0.1667629778 & -2.118131216  & -2.239273925  & -2.05301087  \\\\\n",
       "\t -0.1455268363 & -1.848457063  & -1.912583872  & -1.78816995  \\\\\n",
       "\t  0.1164400268 &  1.545066591  &  1.576796374  &  1.47887541  \\\\\n",
       "\t -0.1647680230 & -2.197760538  & -2.329122407  & -2.02813132  \\\\\n",
       "\t -0.0740927998 & -0.958927218  & -0.946244559  & -0.89729983  \\\\\n",
       "\t -0.0034543179 & -0.049514706  & -0.048138341  & -0.01635196  \\\\\n",
       "\t  0.0708540664 &  0.900846105  &  0.889533958  &  0.91036351  \\\\\n",
       "\t -0.0705495333 & -0.901015731  & -0.887957849  & -0.85311097  \\\\\n",
       "\t  0.1131223770 &  1.450646556  &  1.468761958  &  1.43750032  \\\\\n",
       "\t  0.0007492294 &  0.009931163  &  0.009657681  &  0.03607137  \\\\\n",
       "\t -0.0056906485 & -0.073641437  & -0.071608528  & -0.04424172  \\\\\n",
       "\t  0.0828685103 &  1.080876355  &  1.075850034  &  1.06019813  \\\\\n",
       "\t  0.0509042725 &  0.666190687  &  0.653946733  &  0.66156549  \\\\\n",
       "\t  0.0803771982 &  1.055782968  &  1.050133746  &  1.02912846  \\\\\n",
       "\t -0.0552255089 & -0.726364334  & -0.711654755  & -0.66200168  \\\\\n",
       "\t -0.0647875167 & -0.852130516  & -0.837585178  & -0.78125159  \\\\\n",
       "\t -0.0156971012 & -0.216262028  & -0.210274854  & -0.16903433  \\\\\n",
       "\\end{tabular}\n"
      ],
      "text/markdown": [
       "\n",
       "| rD | r'D | r'' | rQ |\n",
       "|---|---|---|---|\n",
       "|  0.0192290343 |  0.260367637  |  0.253738160  |  0.26653694   |\n",
       "|  0.0329853677 |  0.450857948  |  0.440812946  |  0.43809507   |\n",
       "|  0.0129533488 |  0.180366316  |  0.175644229  |  0.18827154   |\n",
       "| -0.0132139678 | -0.169899383  | -0.165256592  | -0.13806664   |\n",
       "| -0.0470961965 | -0.626714555  | -0.612516613  | -0.56061925   |\n",
       "| -0.0464005131 | -0.628525043  | -0.614038619  | -0.55194323   |\n",
       "| -0.0562762575 | -0.748048675  | -0.733037037  | -0.67510580   |\n",
       "| -0.0471052837 | -0.603031042  | -0.589713551  | -0.56073258   |\n",
       "|  0.0790412907 |  1.033888096  |  1.027244468  |  1.01246808   |\n",
       "|  0.0061423275 |  0.078460379  |  0.076312942  |  0.10332985   |\n",
       "|  0.1279734191 |  1.657178036  |  1.700449947  |  1.62271071   |\n",
       "|  0.0098973658 |  0.126422097  |  0.122990285  |  0.15015973   |\n",
       "|  0.0288879694 |  0.368994916  |  0.359843218  |  0.38699556   |\n",
       "|  0.0832286152 |  1.078102728  |  1.072598691  |  1.06468907   |\n",
       "| -0.1667629778 | -2.118131216  | -2.239273925  | -2.05301087   |\n",
       "| -0.1455268363 | -1.848457063  | -1.912583872  | -1.78816995   |\n",
       "|  0.1164400268 |  1.545066591  |  1.576796374  |  1.47887541   |\n",
       "| -0.1647680230 | -2.197760538  | -2.329122407  | -2.02813132   |\n",
       "| -0.0740927998 | -0.958927218  | -0.946244559  | -0.89729983   |\n",
       "| -0.0034543179 | -0.049514706  | -0.048138341  | -0.01635196   |\n",
       "|  0.0708540664 |  0.900846105  |  0.889533958  |  0.91036351   |\n",
       "| -0.0705495333 | -0.901015731  | -0.887957849  | -0.85311097   |\n",
       "|  0.1131223770 |  1.450646556  |  1.468761958  |  1.43750032   |\n",
       "|  0.0007492294 |  0.009931163  |  0.009657681  |  0.03607137   |\n",
       "| -0.0056906485 | -0.073641437  | -0.071608528  | -0.04424172   |\n",
       "|  0.0828685103 |  1.080876355  |  1.075850034  |  1.06019813   |\n",
       "|  0.0509042725 |  0.666190687  |  0.653946733  |  0.66156549   |\n",
       "|  0.0803771982 |  1.055782968  |  1.050133746  |  1.02912846   |\n",
       "| -0.0552255089 | -0.726364334  | -0.711654755  | -0.66200168   |\n",
       "| -0.0647875167 | -0.852130516  | -0.837585178  | -0.78125159   |\n",
       "| -0.0156971012 | -0.216262028  | -0.210274854  | -0.16903433   |\n",
       "\n"
      ],
      "text/plain": [
       "   rD            r'D          r''          rQ         \n",
       "1   0.0192290343  0.260367637  0.253738160  0.26653694\n",
       "2   0.0329853677  0.450857948  0.440812946  0.43809507\n",
       "3   0.0129533488  0.180366316  0.175644229  0.18827154\n",
       "4  -0.0132139678 -0.169899383 -0.165256592 -0.13806664\n",
       "5  -0.0470961965 -0.626714555 -0.612516613 -0.56061925\n",
       "6  -0.0464005131 -0.628525043 -0.614038619 -0.55194323\n",
       "7  -0.0562762575 -0.748048675 -0.733037037 -0.67510580\n",
       "8  -0.0471052837 -0.603031042 -0.589713551 -0.56073258\n",
       "9   0.0790412907  1.033888096  1.027244468  1.01246808\n",
       "10  0.0061423275  0.078460379  0.076312942  0.10332985\n",
       "11  0.1279734191  1.657178036  1.700449947  1.62271071\n",
       "12  0.0098973658  0.126422097  0.122990285  0.15015973\n",
       "13  0.0288879694  0.368994916  0.359843218  0.38699556\n",
       "14  0.0832286152  1.078102728  1.072598691  1.06468907\n",
       "15 -0.1667629778 -2.118131216 -2.239273925 -2.05301087\n",
       "16 -0.1455268363 -1.848457063 -1.912583872 -1.78816995\n",
       "17  0.1164400268  1.545066591  1.576796374  1.47887541\n",
       "18 -0.1647680230 -2.197760538 -2.329122407 -2.02813132\n",
       "19 -0.0740927998 -0.958927218 -0.946244559 -0.89729983\n",
       "20 -0.0034543179 -0.049514706 -0.048138341 -0.01635196\n",
       "21  0.0708540664  0.900846105  0.889533958  0.91036351\n",
       "22 -0.0705495333 -0.901015731 -0.887957849 -0.85311097\n",
       "23  0.1131223770  1.450646556  1.468761958  1.43750032\n",
       "24  0.0007492294  0.009931163  0.009657681  0.03607137\n",
       "25 -0.0056906485 -0.073641437 -0.071608528 -0.04424172\n",
       "26  0.0828685103  1.080876355  1.075850034  1.06019813\n",
       "27  0.0509042725  0.666190687  0.653946733  0.66156549\n",
       "28  0.0803771982  1.055782968  1.050133746  1.02912846\n",
       "29 -0.0552255089 -0.726364334 -0.711654755 -0.66200168\n",
       "30 -0.0647875167 -0.852130516 -0.837585178 -0.78125159\n",
       "31 -0.0156971012 -0.216262028 -0.210274854 -0.16903433"
      ]
     },
     "metadata": {},
     "output_type": "display_data"
    }
   ],
   "source": [
    "rs <- cbind( rD=resid(cherry.m1), \"r'D\"=rstandard(cherry.m1),\n",
    "\"r''\"=rstudent(cherry.m1), rQ=qresid(cherry.m1))\n",
    "rs"
   ]
  },
  {
   "cell_type": "code",
   "execution_count": 17,
   "metadata": {},
   "outputs": [
    {
     "data": {
      "text/html": [
       "<dl class=dl-horizontal>\n",
       "\t<dt>rD</dt>\n",
       "\t\t<dd>0.166762977760553</dd>\n",
       "\t<dt>r'D</dt>\n",
       "\t\t<dd>2.19776053806348</dd>\n",
       "\t<dt>r''</dt>\n",
       "\t\t<dd>2.32912240727812</dd>\n",
       "\t<dt>rQ</dt>\n",
       "\t\t<dd>2.05301087315867</dd>\n",
       "</dl>\n"
      ],
      "text/latex": [
       "\\begin{description*}\n",
       "\\item[rD] 0.166762977760553\n",
       "\\item[r'D] 2.19776053806348\n",
       "\\item[r''] 2.32912240727812\n",
       "\\item[rQ] 2.05301087315867\n",
       "\\end{description*}\n"
      ],
      "text/markdown": [
       "rD\n",
       ":   0.166762977760553r'D\n",
       ":   2.19776053806348r''\n",
       ":   2.32912240727812rQ\n",
       ":   2.05301087315867\n",
       "\n"
      ],
      "text/plain": [
       "      rD      r'D      r''       rQ \n",
       "0.166763 2.197761 2.329122 2.053011 "
      ]
     },
     "metadata": {},
     "output_type": "display_data"
    }
   ],
   "source": [
    "apply( abs(rs), 2, max)"
   ]
  },
  {
   "cell_type": "code",
   "execution_count": 18,
   "metadata": {},
   "outputs": [
    {
     "data": {
      "text/html": [
       "<ol class=list-inline>\n",
       "\t<li>'infmat'</li>\n",
       "\t<li>'is.inf'</li>\n",
       "\t<li>'call'</li>\n",
       "</ol>\n"
      ],
      "text/latex": [
       "\\begin{enumerate*}\n",
       "\\item 'infmat'\n",
       "\\item 'is.inf'\n",
       "\\item 'call'\n",
       "\\end{enumerate*}\n"
      ],
      "text/markdown": [
       "1. 'infmat'\n",
       "2. 'is.inf'\n",
       "3. 'call'\n",
       "\n",
       "\n"
      ],
      "text/plain": [
       "[1] \"infmat\" \"is.inf\" \"call\"  "
      ]
     },
     "metadata": {},
     "output_type": "display_data"
    }
   ],
   "source": [
    "im <- influence.measures(cherry.m1); names(im)"
   ]
  },
  {
   "cell_type": "code",
   "execution_count": 19,
   "metadata": {},
   "outputs": [
    {
     "data": {
      "text/html": [
       "<table>\n",
       "<thead><tr><th scope=col>dfb.1_</th><th scope=col>dfb.l(G)</th><th scope=col>dfb.l(H)</th><th scope=col>dffit</th><th scope=col>cov.r</th><th scope=col>cook.d</th><th scope=col>hat</th></tr></thead>\n",
       "<tbody>\n",
       "\t<tr><td> 0.015</td><td>-0.083</td><td> 0.005</td><td> 0.107</td><td>1.305 </td><td>0.004 </td><td>0.151 </td></tr>\n",
       "\t<tr><td> 0.120</td><td>-0.082</td><td>-0.090</td><td> 0.197</td><td>1.311 </td><td>0.014 </td><td>0.167 </td></tr>\n",
       "\t<tr><td> 0.065</td><td>-0.021</td><td>-0.054</td><td> 0.087</td><td>1.385 </td><td>0.003 </td><td>0.198 </td></tr>\n",
       "\t<tr><td>-0.011</td><td> 0.021</td><td> 0.004</td><td>-0.041</td><td>1.181 </td><td>0.001 </td><td>0.059 </td></tr>\n",
       "\t<tr><td> 0.145</td><td> 0.171</td><td>-0.170</td><td>-0.228</td><td>1.218 </td><td>0.018 </td><td>0.121 </td></tr>\n",
       "\t<tr><td> 0.186</td><td> 0.191</td><td>-0.212</td><td>-0.261</td><td>1.261 </td><td>0.023 </td><td>0.152 </td></tr>\n",
       "</tbody>\n",
       "</table>\n"
      ],
      "text/latex": [
       "\\begin{tabular}{r|lllllll}\n",
       " dfb.1\\_ & dfb.l(G) & dfb.l(H) & dffit & cov.r & cook.d & hat\\\\\n",
       "\\hline\n",
       "\t  0.015 & -0.083 &  0.005 &  0.107 & 1.305  & 0.004  & 0.151 \\\\\n",
       "\t  0.120 & -0.082 & -0.090 &  0.197 & 1.311  & 0.014  & 0.167 \\\\\n",
       "\t  0.065 & -0.021 & -0.054 &  0.087 & 1.385  & 0.003  & 0.198 \\\\\n",
       "\t -0.011 &  0.021 &  0.004 & -0.041 & 1.181  & 0.001  & 0.059 \\\\\n",
       "\t  0.145 &  0.171 & -0.170 & -0.228 & 1.218  & 0.018  & 0.121 \\\\\n",
       "\t  0.186 &  0.191 & -0.212 & -0.261 & 1.261  & 0.023  & 0.152 \\\\\n",
       "\\end{tabular}\n"
      ],
      "text/markdown": [
       "\n",
       "| dfb.1_ | dfb.l(G) | dfb.l(H) | dffit | cov.r | cook.d | hat |\n",
       "|---|---|---|---|---|---|---|\n",
       "|  0.015 | -0.083 |  0.005 |  0.107 | 1.305  | 0.004  | 0.151  |\n",
       "|  0.120 | -0.082 | -0.090 |  0.197 | 1.311  | 0.014  | 0.167  |\n",
       "|  0.065 | -0.021 | -0.054 |  0.087 | 1.385  | 0.003  | 0.198  |\n",
       "| -0.011 |  0.021 |  0.004 | -0.041 | 1.181  | 0.001  | 0.059  |\n",
       "|  0.145 |  0.171 | -0.170 | -0.228 | 1.218  | 0.018  | 0.121  |\n",
       "|  0.186 |  0.191 | -0.212 | -0.261 | 1.261  | 0.023  | 0.152  |\n",
       "\n"
      ],
      "text/plain": [
       "  dfb.1_ dfb.l(G) dfb.l(H) dffit  cov.r cook.d hat  \n",
       "1  0.015 -0.083    0.005    0.107 1.305 0.004  0.151\n",
       "2  0.120 -0.082   -0.090    0.197 1.311 0.014  0.167\n",
       "3  0.065 -0.021   -0.054    0.087 1.385 0.003  0.198\n",
       "4 -0.011  0.021    0.004   -0.041 1.181 0.001  0.059\n",
       "5  0.145  0.171   -0.170   -0.228 1.218 0.018  0.121\n",
       "6  0.186  0.191   -0.212   -0.261 1.261 0.023  0.152"
      ]
     },
     "metadata": {},
     "output_type": "display_data"
    }
   ],
   "source": [
    "im$infmat <- round(im$infmat, 3 ); head( im$infmat )"
   ]
  },
  {
   "cell_type": "code",
   "execution_count": 20,
   "metadata": {},
   "outputs": [
    {
     "data": {
      "text/html": [
       "<dl class=dl-horizontal>\n",
       "\t<dt>dfb.1_</dt>\n",
       "\t\t<dd>0</dd>\n",
       "\t<dt>dfb.l(G)</dt>\n",
       "\t\t<dd>0</dd>\n",
       "\t<dt>dfb.l(H)</dt>\n",
       "\t\t<dd>0</dd>\n",
       "\t<dt>dffit</dt>\n",
       "\t\t<dd>0</dd>\n",
       "\t<dt>cov.r</dt>\n",
       "\t\t<dd>3</dd>\n",
       "\t<dt>cook.d</dt>\n",
       "\t\t<dd>0</dd>\n",
       "\t<dt>hat</dt>\n",
       "\t\t<dd>0</dd>\n",
       "</dl>\n"
      ],
      "text/latex": [
       "\\begin{description*}\n",
       "\\item[dfb.1\\textbackslash{}\\_] 0\n",
       "\\item[dfb.l(G)] 0\n",
       "\\item[dfb.l(H)] 0\n",
       "\\item[dffit] 0\n",
       "\\item[cov.r] 3\n",
       "\\item[cook.d] 0\n",
       "\\item[hat] 0\n",
       "\\end{description*}\n"
      ],
      "text/markdown": [
       "dfb.1_\n",
       ":   0dfb.l(G)\n",
       ":   0dfb.l(H)\n",
       ":   0dffit\n",
       ":   0cov.r\n",
       ":   3cook.d\n",
       ":   0hat\n",
       ":   0\n",
       "\n"
      ],
      "text/plain": [
       "  dfb.1_ dfb.l(G) dfb.l(H)    dffit    cov.r   cook.d      hat \n",
       "       0        0        0        0        3        0        0 "
      ]
     },
     "metadata": {},
     "output_type": "display_data"
    }
   ],
   "source": [
    "colSums( im$is.inf )"
   ]
  },
  {
   "cell_type": "code",
   "execution_count": 21,
   "metadata": {},
   "outputs": [
    {
     "data": {
      "text/html": [
       "<dl class=dl-horizontal>\n",
       "\t<dt>1</dt>\n",
       "\t\t<dd>0</dd>\n",
       "\t<dt>2</dt>\n",
       "\t\t<dd>0</dd>\n",
       "\t<dt>3</dt>\n",
       "\t\t<dd>1</dd>\n",
       "\t<dt>4</dt>\n",
       "\t\t<dd>0</dd>\n",
       "\t<dt>5</dt>\n",
       "\t\t<dd>0</dd>\n",
       "\t<dt>6</dt>\n",
       "\t\t<dd>0</dd>\n",
       "\t<dt>7</dt>\n",
       "\t\t<dd>0</dd>\n",
       "\t<dt>8</dt>\n",
       "\t\t<dd>0</dd>\n",
       "\t<dt>9</dt>\n",
       "\t\t<dd>0</dd>\n",
       "\t<dt>10</dt>\n",
       "\t\t<dd>0</dd>\n",
       "\t<dt>11</dt>\n",
       "\t\t<dd>0</dd>\n",
       "\t<dt>12</dt>\n",
       "\t\t<dd>0</dd>\n",
       "\t<dt>13</dt>\n",
       "\t\t<dd>0</dd>\n",
       "\t<dt>14</dt>\n",
       "\t\t<dd>0</dd>\n",
       "\t<dt>15</dt>\n",
       "\t\t<dd>0</dd>\n",
       "\t<dt>16</dt>\n",
       "\t\t<dd>0</dd>\n",
       "\t<dt>17</dt>\n",
       "\t\t<dd>0</dd>\n",
       "\t<dt>18</dt>\n",
       "\t\t<dd>0</dd>\n",
       "\t<dt>19</dt>\n",
       "\t\t<dd>0</dd>\n",
       "\t<dt>20</dt>\n",
       "\t\t<dd>1</dd>\n",
       "\t<dt>21</dt>\n",
       "\t\t<dd>0</dd>\n",
       "\t<dt>22</dt>\n",
       "\t\t<dd>0</dd>\n",
       "\t<dt>23</dt>\n",
       "\t\t<dd>0</dd>\n",
       "\t<dt>24</dt>\n",
       "\t\t<dd>0</dd>\n",
       "\t<dt>25</dt>\n",
       "\t\t<dd>0</dd>\n",
       "\t<dt>26</dt>\n",
       "\t\t<dd>0</dd>\n",
       "\t<dt>27</dt>\n",
       "\t\t<dd>0</dd>\n",
       "\t<dt>28</dt>\n",
       "\t\t<dd>0</dd>\n",
       "\t<dt>29</dt>\n",
       "\t\t<dd>0</dd>\n",
       "\t<dt>30</dt>\n",
       "\t\t<dd>0</dd>\n",
       "\t<dt>31</dt>\n",
       "\t\t<dd>1</dd>\n",
       "</dl>\n"
      ],
      "text/latex": [
       "\\begin{description*}\n",
       "\\item[1] 0\n",
       "\\item[2] 0\n",
       "\\item[3] 1\n",
       "\\item[4] 0\n",
       "\\item[5] 0\n",
       "\\item[6] 0\n",
       "\\item[7] 0\n",
       "\\item[8] 0\n",
       "\\item[9] 0\n",
       "\\item[10] 0\n",
       "\\item[11] 0\n",
       "\\item[12] 0\n",
       "\\item[13] 0\n",
       "\\item[14] 0\n",
       "\\item[15] 0\n",
       "\\item[16] 0\n",
       "\\item[17] 0\n",
       "\\item[18] 0\n",
       "\\item[19] 0\n",
       "\\item[20] 1\n",
       "\\item[21] 0\n",
       "\\item[22] 0\n",
       "\\item[23] 0\n",
       "\\item[24] 0\n",
       "\\item[25] 0\n",
       "\\item[26] 0\n",
       "\\item[27] 0\n",
       "\\item[28] 0\n",
       "\\item[29] 0\n",
       "\\item[30] 0\n",
       "\\item[31] 1\n",
       "\\end{description*}\n"
      ],
      "text/markdown": [
       "1\n",
       ":   02\n",
       ":   03\n",
       ":   14\n",
       ":   05\n",
       ":   06\n",
       ":   07\n",
       ":   08\n",
       ":   09\n",
       ":   010\n",
       ":   011\n",
       ":   012\n",
       ":   013\n",
       ":   014\n",
       ":   015\n",
       ":   016\n",
       ":   017\n",
       ":   018\n",
       ":   019\n",
       ":   020\n",
       ":   121\n",
       ":   022\n",
       ":   023\n",
       ":   024\n",
       ":   025\n",
       ":   026\n",
       ":   027\n",
       ":   028\n",
       ":   029\n",
       ":   030\n",
       ":   031\n",
       ":   1\n",
       "\n"
      ],
      "text/plain": [
       " 1  2  3  4  5  6  7  8  9 10 11 12 13 14 15 16 17 18 19 20 21 22 23 24 25 26 \n",
       " 0  0  1  0  0  0  0  0  0  0  0  0  0  0  0  0  0  0  0  1  0  0  0  0  0  0 \n",
       "27 28 29 30 31 \n",
       " 0  0  0  0  1 "
      ]
     },
     "metadata": {},
     "output_type": "display_data"
    }
   ],
   "source": [
    "rowSums(im$is.inf)"
   ]
  },
  {
   "cell_type": "code",
   "execution_count": 22,
   "metadata": {},
   "outputs": [],
   "source": [
    "cherry.cd <- cooks.distance( cherry.m1)"
   ]
  },
  {
   "cell_type": "code",
   "execution_count": 23,
   "metadata": {},
   "outputs": [
    {
     "data": {
      "image/png": "[encoded data removed]",
      "text/plain": [
       "plot without title"
      ]
     },
     "metadata": {},
     "output_type": "display_data"
    }
   ],
   "source": [
    "plot( cherry.cd, type=\"h\", ylab=\"Cook's distance\", las=1)"
   ]
  },
  {
   "cell_type": "code",
   "execution_count": 25,
   "metadata": {},
   "outputs": [
    {
     "data": {
      "image/png": "[encoded data removed]",
      "text/plain": [
       "plot without title"
      ]
     },
     "metadata": {},
     "output_type": "display_data"
    }
   ],
   "source": [
    "plot( dffits(cherry.m1), type=\"h\", las=1, ylab=\"DFFITS\")"
   ]
  },
  {
   "cell_type": "code",
   "execution_count": 26,
   "metadata": {},
   "outputs": [],
   "source": [
    "infl <- which.max(cherry.cd) # The Observation number of largest D"
   ]
  },
  {
   "cell_type": "code",
   "execution_count": 27,
   "metadata": {},
   "outputs": [
    {
     "data": {
      "text/html": [
       "<strong>18:</strong> 18"
      ],
      "text/latex": [
       "\\textbf{18:} 18"
      ],
      "text/markdown": [
       "**18:** 18"
      ],
      "text/plain": [
       "18 \n",
       "18 "
      ]
     },
     "metadata": {},
     "output_type": "display_data"
    },
    {
     "data": {
      "text/html": [
       "<strong>18:</strong> 0.206721062703618"
      ],
      "text/latex": [
       "\\textbf{18:} 0.206721062703618"
      ],
      "text/markdown": [
       "**18:** 0.206721062703618"
      ],
      "text/plain": [
       "       18 \n",
       "0.2067211 "
      ]
     },
     "metadata": {},
     "output_type": "display_data"
    }
   ],
   "source": [
    "infl\n",
    "cherry.cd[infl] # The value of D for that observation"
   ]
  },
  {
   "cell_type": "code",
   "execution_count": 28,
   "metadata": {},
   "outputs": [],
   "source": [
    "cherry.infl <- update(cherry.m1, subset=(-infl) )"
   ]
  },
  {
   "cell_type": "code",
   "execution_count": 29,
   "metadata": {},
   "outputs": [
    {
     "data": {
      "text/html": [
       "<dl class=dl-horizontal>\n",
       "\t<dt>(Intercept)</dt>\n",
       "\t\t<dd>-6.69110901613729</dd>\n",
       "\t<dt>log(Girth)</dt>\n",
       "\t\t<dd>1.9804122165617</dd>\n",
       "\t<dt>log(Height)</dt>\n",
       "\t\t<dd>1.13287805609688</dd>\n",
       "</dl>\n"
      ],
      "text/latex": [
       "\\begin{description*}\n",
       "\\item[(Intercept)] -6.69110901613729\n",
       "\\item[log(Girth)] 1.9804122165617\n",
       "\\item[log(Height)] 1.13287805609688\n",
       "\\end{description*}\n"
      ],
      "text/markdown": [
       "(Intercept)\n",
       ":   -6.69110901613729log(Girth)\n",
       ":   1.9804122165617log(Height)\n",
       ":   1.13287805609688\n",
       "\n"
      ],
      "text/plain": [
       "(Intercept)  log(Girth) log(Height) \n",
       "  -6.691109    1.980412    1.132878 "
      ]
     },
     "metadata": {},
     "output_type": "display_data"
    }
   ],
   "source": [
    "coef(cherry.m1)"
   ]
  },
  {
   "cell_type": "code",
   "execution_count": 30,
   "metadata": {},
   "outputs": [
    {
     "data": {
      "text/html": [
       "<dl class=dl-horizontal>\n",
       "\t<dt>(Intercept)</dt>\n",
       "\t\t<dd>-7.20914754603849</dd>\n",
       "\t<dt>log(Girth)</dt>\n",
       "\t\t<dd>1.95736573936288</dd>\n",
       "\t<dt>log(Height)</dt>\n",
       "\t\t<dd>1.26752781572248</dd>\n",
       "</dl>\n"
      ],
      "text/latex": [
       "\\begin{description*}\n",
       "\\item[(Intercept)] -7.20914754603849\n",
       "\\item[log(Girth)] 1.95736573936288\n",
       "\\item[log(Height)] 1.26752781572248\n",
       "\\end{description*}\n"
      ],
      "text/markdown": [
       "(Intercept)\n",
       ":   -7.20914754603849log(Girth)\n",
       ":   1.95736573936288log(Height)\n",
       ":   1.26752781572248\n",
       "\n"
      ],
      "text/plain": [
       "(Intercept)  log(Girth) log(Height) \n",
       "  -7.209148    1.957366    1.267528 "
      ]
     },
     "metadata": {},
     "output_type": "display_data"
    }
   ],
   "source": [
    "coef(cherry.infl)"
   ]
  },
  {
   "cell_type": "code",
   "execution_count": 32,
   "metadata": {},
   "outputs": [
    {
     "data": {
      "text/html": [
       "<dl class=dl-horizontal>\n",
       "\t<dt>(Intercept)</dt>\n",
       "\t\t<dd>-6.69110901613729</dd>\n",
       "\t<dt>log(Girth)</dt>\n",
       "\t\t<dd>1.9804122165617</dd>\n",
       "\t<dt>log(Height)</dt>\n",
       "\t\t<dd>1.13287805609688</dd>\n",
       "</dl>\n"
      ],
      "text/latex": [
       "\\begin{description*}\n",
       "\\item[(Intercept)] -6.69110901613729\n",
       "\\item[log(Girth)] 1.9804122165617\n",
       "\\item[log(Height)] 1.13287805609688\n",
       "\\end{description*}\n"
      ],
      "text/markdown": [
       "(Intercept)\n",
       ":   -6.69110901613729log(Girth)\n",
       ":   1.9804122165617log(Height)\n",
       ":   1.13287805609688\n",
       "\n"
      ],
      "text/plain": [
       "(Intercept)  log(Girth) log(Height) \n",
       "  -6.691109    1.980412    1.132878 "
      ]
     },
     "metadata": {},
     "output_type": "display_data"
    },
    {
     "data": {
      "text/html": [
       "<dl class=dl-horizontal>\n",
       "\t<dt>(Intercept)</dt>\n",
       "\t\t<dd>-6.70346149488509</dd>\n",
       "\t<dt>log(Girth)</dt>\n",
       "\t\t<dd>1.9867107836526</dd>\n",
       "\t<dt>log(Height)</dt>\n",
       "\t\t<dd>1.13184018040916</dd>\n",
       "</dl>\n"
      ],
      "text/latex": [
       "\\begin{description*}\n",
       "\\item[(Intercept)] -6.70346149488509\n",
       "\\item[log(Girth)] 1.9867107836526\n",
       "\\item[log(Height)] 1.13184018040916\n",
       "\\end{description*}\n"
      ],
      "text/markdown": [
       "(Intercept)\n",
       ":   -6.70346149488509log(Girth)\n",
       ":   1.9867107836526log(Height)\n",
       ":   1.13184018040916\n",
       "\n"
      ],
      "text/plain": [
       "(Intercept)  log(Girth) log(Height) \n",
       "  -6.703461    1.986711    1.131840 "
      ]
     },
     "metadata": {},
     "output_type": "display_data"
    }
   ],
   "source": [
    "cherry.omit1 <- update(cherry.m1, subset=(-1) ) # Omit Obs. 1\n",
    "coef(cherry.m1)\n",
    "coef(cherry.omit1)"
   ]
  },
  {
   "cell_type": "code",
   "execution_count": 33,
   "metadata": {},
   "outputs": [],
   "source": [
    "m.naive <- glm( Volume ~ Girth + Height, data=trees, family=Gamma)"
   ]
  },
  {
   "cell_type": "code",
   "execution_count": 34,
   "metadata": {},
   "outputs": [
    {
     "data": {
      "image/png": "[encoded data removed]",
      "text/plain": [
       "plot without title"
      ]
     },
     "metadata": {},
     "output_type": "display_data"
    }
   ],
   "source": [
    "par(mfrow=c(1, 3))\n",
    "scatter.smooth( rstandard(m.naive) ~ log(fitted(m.naive)), las=1,\n",
    "xlab=\"Fitted values\", ylab=\"Standardized residuals\")\n",
    "scatter.smooth( rstandard(m.naive) ~ trees$Girth, las=1,\n",
    "xlab=\"Girth\", ylab=\"Standardized residuals\")\n",
    "scatter.smooth( rstandard(m.naive) ~ trees$Height, las=1,\n",
    "xlab=\"Height\", ylab=\"Standardized residuals\")"
   ]
  },
  {
   "cell_type": "code",
   "execution_count": 35,
   "metadata": {},
   "outputs": [
    {
     "data": {
      "image/png": "[encoded data removed]",
      "text/plain": [
       "plot without title"
      ]
     },
     "metadata": {},
     "output_type": "display_data"
    },
    {
     "data": {
      "image/png": "[encoded data removed]",
      "text/plain": [
       "Plot with title \"\""
      ]
     },
     "metadata": {},
     "output_type": "display_data"
    },
    {
     "data": {
      "image/png": "[encoded data removed]",
      "text/plain": [
       "Plot with title \"\""
      ]
     },
     "metadata": {},
     "output_type": "display_data"
    }
   ],
   "source": [
    "eta <- m.naive$linear.predictor\n",
    "z <- resid(m.naive, type=\"working\") + eta\n",
    "plot( z ~ eta, las=1,\n",
    "xlab=\"Linear predictor, eta\", ylab=\"Working responses, z\")\n",
    "abline(0, 1, col=\"grey\")\n",
    "termplot(m.naive, partial.resid=TRUE, las=1)"
   ]
  }
 ],
 "metadata": {
  "kernelspec": {
   "display_name": "R",
   "language": "R",
   "name": "ir"
  },
  "language_info": {
   "codemirror_mode": "r",
   "file_extension": ".r",
   "mimetype": "text/x-r-source",
   "name": "R",
   "pygments_lexer": "r",
   "version": "3.6.1"
  },
  "orig_nbformat": 4
 },
 "nbformat": 4,
 "nbformat_minor": 2
}
