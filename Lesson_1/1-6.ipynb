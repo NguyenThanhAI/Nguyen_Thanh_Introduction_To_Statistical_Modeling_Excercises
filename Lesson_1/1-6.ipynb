{
 "cells": [
  {
   "cell_type": "code",
   "execution_count": 1,
   "metadata": {},
   "outputs": [],
   "source": [
    "library(GLMsData)"
   ]
  },
  {
   "cell_type": "code",
   "execution_count": 2,
   "metadata": {},
   "outputs": [],
   "source": [
    "data(turbines)"
   ]
  },
  {
   "cell_type": "code",
   "execution_count": 3,
   "metadata": {},
   "outputs": [
    {
     "data": {
      "text/html": [
       "<table>\n",
       "<thead><tr><th scope=col>Hours</th><th scope=col>Turbines</th><th scope=col>Fissures</th></tr></thead>\n",
       "<tbody>\n",
       "\t<tr><td> 400</td><td>39  </td><td> 0  </td></tr>\n",
       "\t<tr><td>1000</td><td>53  </td><td> 4  </td></tr>\n",
       "\t<tr><td>1400</td><td>33  </td><td> 2  </td></tr>\n",
       "\t<tr><td>1800</td><td>73  </td><td> 7  </td></tr>\n",
       "\t<tr><td>2200</td><td>30  </td><td> 5  </td></tr>\n",
       "\t<tr><td>2600</td><td>39  </td><td> 9  </td></tr>\n",
       "\t<tr><td>3000</td><td>42  </td><td> 9  </td></tr>\n",
       "\t<tr><td>3400</td><td>13  </td><td> 6  </td></tr>\n",
       "\t<tr><td>3800</td><td>34  </td><td>22  </td></tr>\n",
       "\t<tr><td>4200</td><td>40  </td><td>21  </td></tr>\n",
       "\t<tr><td>4600</td><td>36  </td><td>21  </td></tr>\n",
       "</tbody>\n",
       "</table>\n"
      ],
      "text/latex": [
       "\\begin{tabular}{r|lll}\n",
       " Hours & Turbines & Fissures\\\\\n",
       "\\hline\n",
       "\t  400 & 39   &  0  \\\\\n",
       "\t 1000 & 53   &  4  \\\\\n",
       "\t 1400 & 33   &  2  \\\\\n",
       "\t 1800 & 73   &  7  \\\\\n",
       "\t 2200 & 30   &  5  \\\\\n",
       "\t 2600 & 39   &  9  \\\\\n",
       "\t 3000 & 42   &  9  \\\\\n",
       "\t 3400 & 13   &  6  \\\\\n",
       "\t 3800 & 34   & 22  \\\\\n",
       "\t 4200 & 40   & 21  \\\\\n",
       "\t 4600 & 36   & 21  \\\\\n",
       "\\end{tabular}\n"
      ],
      "text/markdown": [
       "\n",
       "| Hours | Turbines | Fissures |\n",
       "|---|---|---|\n",
       "|  400 | 39   |  0   |\n",
       "| 1000 | 53   |  4   |\n",
       "| 1400 | 33   |  2   |\n",
       "| 1800 | 73   |  7   |\n",
       "| 2200 | 30   |  5   |\n",
       "| 2600 | 39   |  9   |\n",
       "| 3000 | 42   |  9   |\n",
       "| 3400 | 13   |  6   |\n",
       "| 3800 | 34   | 22   |\n",
       "| 4200 | 40   | 21   |\n",
       "| 4600 | 36   | 21   |\n",
       "\n"
      ],
      "text/plain": [
       "   Hours Turbines Fissures\n",
       "1   400  39        0      \n",
       "2  1000  53        4      \n",
       "3  1400  33        2      \n",
       "4  1800  73        7      \n",
       "5  2200  30        5      \n",
       "6  2600  39        9      \n",
       "7  3000  42        9      \n",
       "8  3400  13        6      \n",
       "9  3800  34       22      \n",
       "10 4200  40       21      \n",
       "11 4600  36       21      "
      ]
     },
     "metadata": {},
     "output_type": "display_data"
    }
   ],
   "source": [
    "turbines"
   ]
  },
  {
   "cell_type": "code",
   "execution_count": 4,
   "metadata": {},
   "outputs": [
    {
     "data": {
      "text/html": [
       "<ol class=list-inline>\n",
       "\t<li>'Hours'</li>\n",
       "\t<li>'Turbines'</li>\n",
       "\t<li>'Fissures'</li>\n",
       "</ol>\n"
      ],
      "text/latex": [
       "\\begin{enumerate*}\n",
       "\\item 'Hours'\n",
       "\\item 'Turbines'\n",
       "\\item 'Fissures'\n",
       "\\end{enumerate*}\n"
      ],
      "text/markdown": [
       "1. 'Hours'\n",
       "2. 'Turbines'\n",
       "3. 'Fissures'\n",
       "\n",
       "\n"
      ],
      "text/plain": [
       "[1] \"Hours\"    \"Turbines\" \"Fissures\""
      ]
     },
     "metadata": {},
     "output_type": "display_data"
    }
   ],
   "source": [
    "names(turbines)"
   ]
  },
  {
   "cell_type": "code",
   "execution_count": 5,
   "metadata": {},
   "outputs": [
    {
     "data": {
      "image/png": "[encoded data removed]",
      "text/plain": [
       "plot without title"
      ]
     },
     "metadata": {},
     "output_type": "display_data"
    }
   ],
   "source": [
    "scatter.smooth(turbines$Fissures / turbines$Turbines, turbines$Hours)"
   ]
  }
 ],
 "metadata": {
  "kernelspec": {
   "display_name": "R",
   "language": "R",
   "name": "ir"
  },
  "language_info": {
   "codemirror_mode": "r",
   "file_extension": ".r",
   "mimetype": "text/x-r-source",
   "name": "R",
   "pygments_lexer": "r",
   "version": "3.6.1"
  },
  "orig_nbformat": 4
 },
 "nbformat": 4,
 "nbformat_minor": 2
}
