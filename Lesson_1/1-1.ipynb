{
 "cells": [
  {
   "cell_type": "code",
   "execution_count": 1,
   "metadata": {},
   "outputs": [],
   "source": [
    "library(GLMsData)"
   ]
  },
  {
   "cell_type": "code",
   "execution_count": 2,
   "metadata": {},
   "outputs": [],
   "source": [
    "data(paper)"
   ]
  },
  {
   "cell_type": "code",
   "execution_count": 3,
   "metadata": {},
   "outputs": [
    {
     "data": {
      "text/html": [
       "<table>\n",
       "<thead><tr><th scope=col>Strength</th><th scope=col>Hardwood</th></tr></thead>\n",
       "<tbody>\n",
       "\t<tr><td> 6.3</td><td> 1.0</td></tr>\n",
       "\t<tr><td>11.1</td><td> 1.5</td></tr>\n",
       "\t<tr><td>20.0</td><td> 2.0</td></tr>\n",
       "\t<tr><td>24.0</td><td> 3.0</td></tr>\n",
       "\t<tr><td>26.1</td><td> 4.0</td></tr>\n",
       "\t<tr><td>30.0</td><td> 4.5</td></tr>\n",
       "\t<tr><td>33.8</td><td> 5.0</td></tr>\n",
       "\t<tr><td>34.0</td><td> 5.5</td></tr>\n",
       "\t<tr><td>38.1</td><td> 6.0</td></tr>\n",
       "\t<tr><td>39.9</td><td> 6.5</td></tr>\n",
       "\t<tr><td>42.0</td><td> 7.0</td></tr>\n",
       "\t<tr><td>46.1</td><td> 8.0</td></tr>\n",
       "\t<tr><td>53.1</td><td> 9.0</td></tr>\n",
       "\t<tr><td>52.0</td><td>10.0</td></tr>\n",
       "\t<tr><td>52.5</td><td>11.0</td></tr>\n",
       "\t<tr><td>48.0</td><td>12.0</td></tr>\n",
       "\t<tr><td>42.8</td><td>13.0</td></tr>\n",
       "\t<tr><td>27.8</td><td>14.0</td></tr>\n",
       "\t<tr><td>21.9</td><td>15.0</td></tr>\n",
       "</tbody>\n",
       "</table>\n"
      ],
      "text/latex": [
       "\\begin{tabular}{r|ll}\n",
       " Strength & Hardwood\\\\\n",
       "\\hline\n",
       "\t  6.3 &  1.0\\\\\n",
       "\t 11.1 &  1.5\\\\\n",
       "\t 20.0 &  2.0\\\\\n",
       "\t 24.0 &  3.0\\\\\n",
       "\t 26.1 &  4.0\\\\\n",
       "\t 30.0 &  4.5\\\\\n",
       "\t 33.8 &  5.0\\\\\n",
       "\t 34.0 &  5.5\\\\\n",
       "\t 38.1 &  6.0\\\\\n",
       "\t 39.9 &  6.5\\\\\n",
       "\t 42.0 &  7.0\\\\\n",
       "\t 46.1 &  8.0\\\\\n",
       "\t 53.1 &  9.0\\\\\n",
       "\t 52.0 & 10.0\\\\\n",
       "\t 52.5 & 11.0\\\\\n",
       "\t 48.0 & 12.0\\\\\n",
       "\t 42.8 & 13.0\\\\\n",
       "\t 27.8 & 14.0\\\\\n",
       "\t 21.9 & 15.0\\\\\n",
       "\\end{tabular}\n"
      ],
      "text/markdown": [
       "\n",
       "| Strength | Hardwood |\n",
       "|---|---|\n",
       "|  6.3 |  1.0 |\n",
       "| 11.1 |  1.5 |\n",
       "| 20.0 |  2.0 |\n",
       "| 24.0 |  3.0 |\n",
       "| 26.1 |  4.0 |\n",
       "| 30.0 |  4.5 |\n",
       "| 33.8 |  5.0 |\n",
       "| 34.0 |  5.5 |\n",
       "| 38.1 |  6.0 |\n",
       "| 39.9 |  6.5 |\n",
       "| 42.0 |  7.0 |\n",
       "| 46.1 |  8.0 |\n",
       "| 53.1 |  9.0 |\n",
       "| 52.0 | 10.0 |\n",
       "| 52.5 | 11.0 |\n",
       "| 48.0 | 12.0 |\n",
       "| 42.8 | 13.0 |\n",
       "| 27.8 | 14.0 |\n",
       "| 21.9 | 15.0 |\n",
       "\n"
      ],
      "text/plain": [
       "   Strength Hardwood\n",
       "1   6.3      1.0    \n",
       "2  11.1      1.5    \n",
       "3  20.0      2.0    \n",
       "4  24.0      3.0    \n",
       "5  26.1      4.0    \n",
       "6  30.0      4.5    \n",
       "7  33.8      5.0    \n",
       "8  34.0      5.5    \n",
       "9  38.1      6.0    \n",
       "10 39.9      6.5    \n",
       "11 42.0      7.0    \n",
       "12 46.1      8.0    \n",
       "13 53.1      9.0    \n",
       "14 52.0     10.0    \n",
       "15 52.5     11.0    \n",
       "16 48.0     12.0    \n",
       "17 42.8     13.0    \n",
       "18 27.8     14.0    \n",
       "19 21.9     15.0    "
      ]
     },
     "metadata": {},
     "output_type": "display_data"
    }
   ],
   "source": [
    "paper"
   ]
  },
  {
   "cell_type": "code",
   "execution_count": 4,
   "metadata": {},
   "outputs": [],
   "source": [
    "lm.paper <- lm(Strength ~ Hardwood, data=paper)"
   ]
  },
  {
   "cell_type": "code",
   "execution_count": 5,
   "metadata": {},
   "outputs": [
    {
     "data": {
      "text/html": [
       "<table>\n",
       "<thead><tr><th></th><th scope=col>Estimate</th><th scope=col>Std. Error</th><th scope=col>t value</th><th scope=col>Pr(&gt;|t|)</th></tr></thead>\n",
       "<tbody>\n",
       "\t<tr><th scope=row>(Intercept)</th><td>21.321262  </td><td>5.4301776  </td><td>3.926439   </td><td>0.001087504</td></tr>\n",
       "\t<tr><th scope=row>Hardwood</th><td> 1.770986  </td><td>0.6478138  </td><td>2.733788   </td><td>0.014140160</td></tr>\n",
       "</tbody>\n",
       "</table>\n"
      ],
      "text/latex": [
       "\\begin{tabular}{r|llll}\n",
       "  & Estimate & Std. Error & t value & Pr(>\\textbar{}t\\textbar{})\\\\\n",
       "\\hline\n",
       "\t(Intercept) & 21.321262   & 5.4301776   & 3.926439    & 0.001087504\\\\\n",
       "\tHardwood &  1.770986   & 0.6478138   & 2.733788    & 0.014140160\\\\\n",
       "\\end{tabular}\n"
      ],
      "text/markdown": [
       "\n",
       "| <!--/--> | Estimate | Std. Error | t value | Pr(>|t|) |\n",
       "|---|---|---|---|---|\n",
       "| (Intercept) | 21.321262   | 5.4301776   | 3.926439    | 0.001087504 |\n",
       "| Hardwood |  1.770986   | 0.6478138   | 2.733788    | 0.014140160 |\n",
       "\n"
      ],
      "text/plain": [
       "            Estimate  Std. Error t value  Pr(>|t|)   \n",
       "(Intercept) 21.321262 5.4301776  3.926439 0.001087504\n",
       "Hardwood     1.770986 0.6478138  2.733788 0.014140160"
      ]
     },
     "metadata": {},
     "output_type": "display_data"
    }
   ],
   "source": [
    "coef(summary(lm.paper))"
   ]
  },
  {
   "cell_type": "code",
   "execution_count": 7,
   "metadata": {},
   "outputs": [
    {
     "data": {
      "text/html": [
       "<table>\n",
       "<thead><tr><th></th><th scope=col>Df</th><th scope=col>Sum Sq</th><th scope=col>Mean Sq</th><th scope=col>F value</th><th scope=col>Pr(&gt;F)</th></tr></thead>\n",
       "<tbody>\n",
       "\t<tr><th scope=row>Hardwood</th><td> 1        </td><td>1043.427  </td><td>1043.4274 </td><td>7.473597  </td><td>0.01414016</td></tr>\n",
       "\t<tr><th scope=row>Residuals</th><td>17        </td><td>2373.458  </td><td> 139.6152 </td><td>      NA  </td><td>        NA</td></tr>\n",
       "</tbody>\n",
       "</table>\n"
      ],
      "text/latex": [
       "\\begin{tabular}{r|lllll}\n",
       "  & Df & Sum Sq & Mean Sq & F value & Pr(>F)\\\\\n",
       "\\hline\n",
       "\tHardwood &  1         & 1043.427   & 1043.4274  & 7.473597   & 0.01414016\\\\\n",
       "\tResiduals & 17         & 2373.458   &  139.6152  &       NA   &         NA\\\\\n",
       "\\end{tabular}\n"
      ],
      "text/markdown": [
       "\n",
       "| <!--/--> | Df | Sum Sq | Mean Sq | F value | Pr(>F) |\n",
       "|---|---|---|---|---|---|\n",
       "| Hardwood |  1         | 1043.427   | 1043.4274  | 7.473597   | 0.01414016 |\n",
       "| Residuals | 17         | 2373.458   |  139.6152  |       NA   |         NA |\n",
       "\n"
      ],
      "text/plain": [
       "          Df Sum Sq   Mean Sq   F value  Pr(>F)    \n",
       "Hardwood   1 1043.427 1043.4274 7.473597 0.01414016\n",
       "Residuals 17 2373.458  139.6152       NA         NA"
      ]
     },
     "metadata": {},
     "output_type": "display_data"
    }
   ],
   "source": [
    "anova(lm.paper)"
   ]
  }
 ],
 "metadata": {
  "kernelspec": {
   "display_name": "R",
   "language": "R",
   "name": "ir"
  },
  "language_info": {
   "codemirror_mode": "r",
   "file_extension": ".r",
   "mimetype": "text/x-r-source",
   "name": "R",
   "pygments_lexer": "r",
   "version": "3.6.1"
  },
  "orig_nbformat": 4
 },
 "nbformat": 4,
 "nbformat_minor": 2
}
