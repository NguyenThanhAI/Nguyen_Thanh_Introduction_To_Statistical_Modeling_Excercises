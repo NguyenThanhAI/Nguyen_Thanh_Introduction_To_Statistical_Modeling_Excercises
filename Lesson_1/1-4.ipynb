{
 "cells": [
  {
   "cell_type": "code",
   "execution_count": 1,
   "metadata": {},
   "outputs": [],
   "source": [
    "library(GLMsData)"
   ]
  },
  {
   "cell_type": "code",
   "execution_count": 2,
   "metadata": {},
   "outputs": [],
   "source": [
    "data(toxo)"
   ]
  },
  {
   "cell_type": "code",
   "execution_count": 3,
   "metadata": {},
   "outputs": [
    {
     "data": {
      "text/html": [
       "<table>\n",
       "<thead><tr><th scope=col>City</th><th scope=col>Rainfall</th><th scope=col>Proportion</th><th scope=col>Sampled</th><th scope=col>Positive</th></tr></thead>\n",
       "<tbody>\n",
       "\t<tr><td> 1   </td><td>1735 </td><td>0.500</td><td> 4   </td><td> 2   </td></tr>\n",
       "\t<tr><td> 2   </td><td>1936 </td><td>0.300</td><td>10   </td><td> 3   </td></tr>\n",
       "\t<tr><td> 3   </td><td>2000 </td><td>0.200</td><td> 5   </td><td> 1   </td></tr>\n",
       "\t<tr><td> 4   </td><td>1973 </td><td>0.300</td><td>10   </td><td> 3   </td></tr>\n",
       "\t<tr><td> 5   </td><td>1750 </td><td>1.000</td><td> 2   </td><td> 2   </td></tr>\n",
       "\t<tr><td> 6   </td><td>1800 </td><td>0.600</td><td> 5   </td><td> 3   </td></tr>\n",
       "\t<tr><td> 7   </td><td>1750 </td><td>0.250</td><td> 8   </td><td> 2   </td></tr>\n",
       "\t<tr><td> 8   </td><td>2077 </td><td>0.368</td><td>19   </td><td> 7   </td></tr>\n",
       "\t<tr><td> 9   </td><td>1920 </td><td>0.500</td><td> 6   </td><td> 3   </td></tr>\n",
       "\t<tr><td>10   </td><td>1800 </td><td>0.800</td><td>10   </td><td> 8   </td></tr>\n",
       "\t<tr><td>11   </td><td>2050 </td><td>0.292</td><td>24   </td><td> 7   </td></tr>\n",
       "\t<tr><td>12   </td><td>1830 </td><td>0.000</td><td> 1   </td><td> 0   </td></tr>\n",
       "\t<tr><td>13   </td><td>1650 </td><td>0.500</td><td>30   </td><td>15   </td></tr>\n",
       "\t<tr><td>14   </td><td>2200 </td><td>0.182</td><td>22   </td><td> 4   </td></tr>\n",
       "\t<tr><td>15   </td><td>2000 </td><td>0.000</td><td> 1   </td><td> 0   </td></tr>\n",
       "\t<tr><td>16   </td><td>1770 </td><td>0.545</td><td>11   </td><td> 6   </td></tr>\n",
       "\t<tr><td>17   </td><td>1920 </td><td>0.000</td><td> 1   </td><td> 0   </td></tr>\n",
       "\t<tr><td>18   </td><td>1770 </td><td>0.611</td><td>54   </td><td>33   </td></tr>\n",
       "\t<tr><td>19   </td><td>2240 </td><td>0.444</td><td> 9   </td><td> 4   </td></tr>\n",
       "\t<tr><td>20   </td><td>1620 </td><td>0.278</td><td>18   </td><td> 5   </td></tr>\n",
       "\t<tr><td>21   </td><td>1756 </td><td>0.167</td><td>12   </td><td> 2   </td></tr>\n",
       "\t<tr><td>22   </td><td>1650 </td><td>0.000</td><td> 1   </td><td> 0   </td></tr>\n",
       "\t<tr><td>23   </td><td>2250 </td><td>0.727</td><td>11   </td><td> 8   </td></tr>\n",
       "\t<tr><td>24   </td><td>1796 </td><td>0.532</td><td>77   </td><td>41   </td></tr>\n",
       "\t<tr><td>25   </td><td>1890 </td><td>0.471</td><td>51   </td><td>24   </td></tr>\n",
       "\t<tr><td>26   </td><td>1871 </td><td>0.438</td><td>16   </td><td> 7   </td></tr>\n",
       "\t<tr><td>27   </td><td>2063 </td><td>0.561</td><td>82   </td><td>46   </td></tr>\n",
       "\t<tr><td>28   </td><td>2100 </td><td>0.692</td><td>13   </td><td> 9   </td></tr>\n",
       "\t<tr><td>29   </td><td>1918 </td><td>0.535</td><td>43   </td><td>23   </td></tr>\n",
       "\t<tr><td>30   </td><td>1834 </td><td>0.707</td><td>75   </td><td>53   </td></tr>\n",
       "\t<tr><td>31   </td><td>1780 </td><td>0.615</td><td>13   </td><td> 8   </td></tr>\n",
       "\t<tr><td>32   </td><td>1900 </td><td>0.300</td><td>10   </td><td> 3   </td></tr>\n",
       "\t<tr><td>33   </td><td>1976 </td><td>0.167</td><td> 6   </td><td> 1   </td></tr>\n",
       "\t<tr><td>34   </td><td>2292 </td><td>0.622</td><td>37   </td><td>23   </td></tr>\n",
       "</tbody>\n",
       "</table>\n"
      ],
      "text/latex": [
       "\\begin{tabular}{r|lllll}\n",
       " City & Rainfall & Proportion & Sampled & Positive\\\\\n",
       "\\hline\n",
       "\t  1    & 1735  & 0.500 &  4    &  2   \\\\\n",
       "\t  2    & 1936  & 0.300 & 10    &  3   \\\\\n",
       "\t  3    & 2000  & 0.200 &  5    &  1   \\\\\n",
       "\t  4    & 1973  & 0.300 & 10    &  3   \\\\\n",
       "\t  5    & 1750  & 1.000 &  2    &  2   \\\\\n",
       "\t  6    & 1800  & 0.600 &  5    &  3   \\\\\n",
       "\t  7    & 1750  & 0.250 &  8    &  2   \\\\\n",
       "\t  8    & 2077  & 0.368 & 19    &  7   \\\\\n",
       "\t  9    & 1920  & 0.500 &  6    &  3   \\\\\n",
       "\t 10    & 1800  & 0.800 & 10    &  8   \\\\\n",
       "\t 11    & 2050  & 0.292 & 24    &  7   \\\\\n",
       "\t 12    & 1830  & 0.000 &  1    &  0   \\\\\n",
       "\t 13    & 1650  & 0.500 & 30    & 15   \\\\\n",
       "\t 14    & 2200  & 0.182 & 22    &  4   \\\\\n",
       "\t 15    & 2000  & 0.000 &  1    &  0   \\\\\n",
       "\t 16    & 1770  & 0.545 & 11    &  6   \\\\\n",
       "\t 17    & 1920  & 0.000 &  1    &  0   \\\\\n",
       "\t 18    & 1770  & 0.611 & 54    & 33   \\\\\n",
       "\t 19    & 2240  & 0.444 &  9    &  4   \\\\\n",
       "\t 20    & 1620  & 0.278 & 18    &  5   \\\\\n",
       "\t 21    & 1756  & 0.167 & 12    &  2   \\\\\n",
       "\t 22    & 1650  & 0.000 &  1    &  0   \\\\\n",
       "\t 23    & 2250  & 0.727 & 11    &  8   \\\\\n",
       "\t 24    & 1796  & 0.532 & 77    & 41   \\\\\n",
       "\t 25    & 1890  & 0.471 & 51    & 24   \\\\\n",
       "\t 26    & 1871  & 0.438 & 16    &  7   \\\\\n",
       "\t 27    & 2063  & 0.561 & 82    & 46   \\\\\n",
       "\t 28    & 2100  & 0.692 & 13    &  9   \\\\\n",
       "\t 29    & 1918  & 0.535 & 43    & 23   \\\\\n",
       "\t 30    & 1834  & 0.707 & 75    & 53   \\\\\n",
       "\t 31    & 1780  & 0.615 & 13    &  8   \\\\\n",
       "\t 32    & 1900  & 0.300 & 10    &  3   \\\\\n",
       "\t 33    & 1976  & 0.167 &  6    &  1   \\\\\n",
       "\t 34    & 2292  & 0.622 & 37    & 23   \\\\\n",
       "\\end{tabular}\n"
      ],
      "text/markdown": [
       "\n",
       "| City | Rainfall | Proportion | Sampled | Positive |\n",
       "|---|---|---|---|---|\n",
       "|  1    | 1735  | 0.500 |  4    |  2    |\n",
       "|  2    | 1936  | 0.300 | 10    |  3    |\n",
       "|  3    | 2000  | 0.200 |  5    |  1    |\n",
       "|  4    | 1973  | 0.300 | 10    |  3    |\n",
       "|  5    | 1750  | 1.000 |  2    |  2    |\n",
       "|  6    | 1800  | 0.600 |  5    |  3    |\n",
       "|  7    | 1750  | 0.250 |  8    |  2    |\n",
       "|  8    | 2077  | 0.368 | 19    |  7    |\n",
       "|  9    | 1920  | 0.500 |  6    |  3    |\n",
       "| 10    | 1800  | 0.800 | 10    |  8    |\n",
       "| 11    | 2050  | 0.292 | 24    |  7    |\n",
       "| 12    | 1830  | 0.000 |  1    |  0    |\n",
       "| 13    | 1650  | 0.500 | 30    | 15    |\n",
       "| 14    | 2200  | 0.182 | 22    |  4    |\n",
       "| 15    | 2000  | 0.000 |  1    |  0    |\n",
       "| 16    | 1770  | 0.545 | 11    |  6    |\n",
       "| 17    | 1920  | 0.000 |  1    |  0    |\n",
       "| 18    | 1770  | 0.611 | 54    | 33    |\n",
       "| 19    | 2240  | 0.444 |  9    |  4    |\n",
       "| 20    | 1620  | 0.278 | 18    |  5    |\n",
       "| 21    | 1756  | 0.167 | 12    |  2    |\n",
       "| 22    | 1650  | 0.000 |  1    |  0    |\n",
       "| 23    | 2250  | 0.727 | 11    |  8    |\n",
       "| 24    | 1796  | 0.532 | 77    | 41    |\n",
       "| 25    | 1890  | 0.471 | 51    | 24    |\n",
       "| 26    | 1871  | 0.438 | 16    |  7    |\n",
       "| 27    | 2063  | 0.561 | 82    | 46    |\n",
       "| 28    | 2100  | 0.692 | 13    |  9    |\n",
       "| 29    | 1918  | 0.535 | 43    | 23    |\n",
       "| 30    | 1834  | 0.707 | 75    | 53    |\n",
       "| 31    | 1780  | 0.615 | 13    |  8    |\n",
       "| 32    | 1900  | 0.300 | 10    |  3    |\n",
       "| 33    | 1976  | 0.167 |  6    |  1    |\n",
       "| 34    | 2292  | 0.622 | 37    | 23    |\n",
       "\n"
      ],
      "text/plain": [
       "   City Rainfall Proportion Sampled Positive\n",
       "1   1   1735     0.500       4       2      \n",
       "2   2   1936     0.300      10       3      \n",
       "3   3   2000     0.200       5       1      \n",
       "4   4   1973     0.300      10       3      \n",
       "5   5   1750     1.000       2       2      \n",
       "6   6   1800     0.600       5       3      \n",
       "7   7   1750     0.250       8       2      \n",
       "8   8   2077     0.368      19       7      \n",
       "9   9   1920     0.500       6       3      \n",
       "10 10   1800     0.800      10       8      \n",
       "11 11   2050     0.292      24       7      \n",
       "12 12   1830     0.000       1       0      \n",
       "13 13   1650     0.500      30      15      \n",
       "14 14   2200     0.182      22       4      \n",
       "15 15   2000     0.000       1       0      \n",
       "16 16   1770     0.545      11       6      \n",
       "17 17   1920     0.000       1       0      \n",
       "18 18   1770     0.611      54      33      \n",
       "19 19   2240     0.444       9       4      \n",
       "20 20   1620     0.278      18       5      \n",
       "21 21   1756     0.167      12       2      \n",
       "22 22   1650     0.000       1       0      \n",
       "23 23   2250     0.727      11       8      \n",
       "24 24   1796     0.532      77      41      \n",
       "25 25   1890     0.471      51      24      \n",
       "26 26   1871     0.438      16       7      \n",
       "27 27   2063     0.561      82      46      \n",
       "28 28   2100     0.692      13       9      \n",
       "29 29   1918     0.535      43      23      \n",
       "30 30   1834     0.707      75      53      \n",
       "31 31   1780     0.615      13       8      \n",
       "32 32   1900     0.300      10       3      \n",
       "33 33   1976     0.167       6       1      \n",
       "34 34   2292     0.622      37      23      "
      ]
     },
     "metadata": {},
     "output_type": "display_data"
    }
   ],
   "source": [
    "toxo"
   ]
  },
  {
   "cell_type": "code",
   "execution_count": 4,
   "metadata": {},
   "outputs": [
    {
     "data": {
      "image/png": "[encoded data removed]",
      "text/plain": [
       "plot without title"
      ]
     },
     "metadata": {},
     "output_type": "display_data"
    }
   ],
   "source": [
    "scatter.smooth(toxo$Positive, toxo$Rainfall)"
   ]
  },
  {
   "cell_type": "code",
   "execution_count": 5,
   "metadata": {},
   "outputs": [
    {
     "data": {
      "image/png": "[encoded data removed]",
      "text/plain": [
       "plot without title"
      ]
     },
     "metadata": {},
     "output_type": "display_data"
    }
   ],
   "source": [
    "scatter.smooth(toxo$Positive, toxo$Proportion)"
   ]
  },
  {
   "cell_type": "code",
   "execution_count": 6,
   "metadata": {},
   "outputs": [
    {
     "data": {
      "image/png": "[encoded data removed]",
      "text/plain": [
       "plot without title"
      ]
     },
     "metadata": {},
     "output_type": "display_data"
    }
   ],
   "source": [
    "scatter.smooth(toxo$Positive, toxo$Sampled)"
   ]
  },
  {
   "cell_type": "code",
   "execution_count": 7,
   "metadata": {},
   "outputs": [],
   "source": [
    "lm.toxo <- lm(Positive ~ Sampled, data=toxo)"
   ]
  },
  {
   "cell_type": "code",
   "execution_count": 8,
   "metadata": {},
   "outputs": [
    {
     "data": {
      "text/plain": [
       "\n",
       "Call:\n",
       "lm(formula = Positive ~ Sampled, data = toxo)\n",
       "\n",
       "Residuals:\n",
       "    Min      1Q  Median      3Q     Max \n",
       "-7.3658 -1.2040  0.0864  1.6792 10.0031 \n",
       "\n",
       "Coefficients:\n",
       "            Estimate Std. Error t value Pr(>|t|)    \n",
       "(Intercept) -1.76409    0.75000  -2.352    0.025 *  \n",
       "Sampled      0.59681    0.02471  24.155   <2e-16 ***\n",
       "---\n",
       "Signif. codes:  0 '***' 0.001 '**' 0.01 '*' 0.05 '.' 0.1 ' ' 1\n",
       "\n",
       "Residual standard error: 3.225 on 32 degrees of freedom\n",
       "Multiple R-squared:  0.948,\tAdjusted R-squared:  0.9464 \n",
       "F-statistic: 583.5 on 1 and 32 DF,  p-value: < 2.2e-16\n"
      ]
     },
     "metadata": {},
     "output_type": "display_data"
    }
   ],
   "source": [
    "summary((lm.toxo))"
   ]
  },
  {
   "cell_type": "code",
   "execution_count": 9,
   "metadata": {},
   "outputs": [
    {
     "data": {
      "text/html": [
       "<table>\n",
       "<thead><tr><th></th><th scope=col>Estimate</th><th scope=col>Std. Error</th><th scope=col>t value</th><th scope=col>Pr(&gt;|t|)</th></tr></thead>\n",
       "<tbody>\n",
       "\t<tr><th scope=row>(Intercept)</th><td>-1.7640880  </td><td>0.74999767  </td><td>-2.352125   </td><td>2.498350e-02</td></tr>\n",
       "\t<tr><th scope=row>Sampled</th><td> 0.5968135  </td><td>0.02470735  </td><td>24.155304   </td><td>4.091284e-22</td></tr>\n",
       "</tbody>\n",
       "</table>\n"
      ],
      "text/latex": [
       "\\begin{tabular}{r|llll}\n",
       "  & Estimate & Std. Error & t value & Pr(>\\textbar{}t\\textbar{})\\\\\n",
       "\\hline\n",
       "\t(Intercept) & -1.7640880   & 0.74999767   & -2.352125    & 2.498350e-02\\\\\n",
       "\tSampled &  0.5968135   & 0.02470735   & 24.155304    & 4.091284e-22\\\\\n",
       "\\end{tabular}\n"
      ],
      "text/markdown": [
       "\n",
       "| <!--/--> | Estimate | Std. Error | t value | Pr(>|t|) |\n",
       "|---|---|---|---|---|\n",
       "| (Intercept) | -1.7640880   | 0.74999767   | -2.352125    | 2.498350e-02 |\n",
       "| Sampled |  0.5968135   | 0.02470735   | 24.155304    | 4.091284e-22 |\n",
       "\n"
      ],
      "text/plain": [
       "            Estimate   Std. Error t value   Pr(>|t|)    \n",
       "(Intercept) -1.7640880 0.74999767 -2.352125 2.498350e-02\n",
       "Sampled      0.5968135 0.02470735 24.155304 4.091284e-22"
      ]
     },
     "metadata": {},
     "output_type": "display_data"
    }
   ],
   "source": [
    "coef(summary(lm.toxo))"
   ]
  }
 ],
 "metadata": {
  "kernelspec": {
   "display_name": "R",
   "language": "R",
   "name": "ir"
  },
  "language_info": {
   "codemirror_mode": "r",
   "file_extension": ".r",
   "mimetype": "text/x-r-source",
   "name": "R",
   "pygments_lexer": "r",
   "version": "3.6.1"
  },
  "orig_nbformat": 4
 },
 "nbformat": 4,
 "nbformat_minor": 2
}
