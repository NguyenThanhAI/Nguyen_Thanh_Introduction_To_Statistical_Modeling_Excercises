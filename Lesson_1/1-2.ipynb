{
 "cells": [
  {
   "cell_type": "code",
   "execution_count": 1,
   "metadata": {},
   "outputs": [],
   "source": [
    "library(GLMsData)"
   ]
  },
  {
   "cell_type": "code",
   "execution_count": 2,
   "metadata": {},
   "outputs": [],
   "source": [
    "data(heatcap)"
   ]
  },
  {
   "cell_type": "code",
   "execution_count": 3,
   "metadata": {},
   "outputs": [
    {
     "data": {
      "text/html": [
       "<table>\n",
       "<thead><tr><th scope=col>Cp</th><th scope=col>Temp</th></tr></thead>\n",
       "<tbody>\n",
       "\t<tr><td>10.79 </td><td>118.99</td></tr>\n",
       "\t<tr><td>10.80 </td><td>120.76</td></tr>\n",
       "\t<tr><td>10.86 </td><td>122.71</td></tr>\n",
       "\t<tr><td>10.93 </td><td>125.48</td></tr>\n",
       "\t<tr><td>10.99 </td><td>127.31</td></tr>\n",
       "\t<tr><td>10.96 </td><td>130.06</td></tr>\n",
       "\t<tr><td>10.98 </td><td>132.41</td></tr>\n",
       "\t<tr><td>11.03 </td><td>135.89</td></tr>\n",
       "\t<tr><td>11.08 </td><td>139.02</td></tr>\n",
       "\t<tr><td>11.10 </td><td>140.25</td></tr>\n",
       "\t<tr><td>11.19 </td><td>145.61</td></tr>\n",
       "\t<tr><td>11.25 </td><td>153.45</td></tr>\n",
       "\t<tr><td>11.40 </td><td>158.03</td></tr>\n",
       "\t<tr><td>11.61 </td><td>162.72</td></tr>\n",
       "\t<tr><td>11.69 </td><td>167.67</td></tr>\n",
       "\t<tr><td>11.91 </td><td>172.86</td></tr>\n",
       "\t<tr><td>12.07 </td><td>177.52</td></tr>\n",
       "\t<tr><td>12.32 </td><td>182.09</td></tr>\n",
       "</tbody>\n",
       "</table>\n"
      ],
      "text/latex": [
       "\\begin{tabular}{r|ll}\n",
       " Cp & Temp\\\\\n",
       "\\hline\n",
       "\t 10.79  & 118.99\\\\\n",
       "\t 10.80  & 120.76\\\\\n",
       "\t 10.86  & 122.71\\\\\n",
       "\t 10.93  & 125.48\\\\\n",
       "\t 10.99  & 127.31\\\\\n",
       "\t 10.96  & 130.06\\\\\n",
       "\t 10.98  & 132.41\\\\\n",
       "\t 11.03  & 135.89\\\\\n",
       "\t 11.08  & 139.02\\\\\n",
       "\t 11.10  & 140.25\\\\\n",
       "\t 11.19  & 145.61\\\\\n",
       "\t 11.25  & 153.45\\\\\n",
       "\t 11.40  & 158.03\\\\\n",
       "\t 11.61  & 162.72\\\\\n",
       "\t 11.69  & 167.67\\\\\n",
       "\t 11.91  & 172.86\\\\\n",
       "\t 12.07  & 177.52\\\\\n",
       "\t 12.32  & 182.09\\\\\n",
       "\\end{tabular}\n"
      ],
      "text/markdown": [
       "\n",
       "| Cp | Temp |\n",
       "|---|---|\n",
       "| 10.79  | 118.99 |\n",
       "| 10.80  | 120.76 |\n",
       "| 10.86  | 122.71 |\n",
       "| 10.93  | 125.48 |\n",
       "| 10.99  | 127.31 |\n",
       "| 10.96  | 130.06 |\n",
       "| 10.98  | 132.41 |\n",
       "| 11.03  | 135.89 |\n",
       "| 11.08  | 139.02 |\n",
       "| 11.10  | 140.25 |\n",
       "| 11.19  | 145.61 |\n",
       "| 11.25  | 153.45 |\n",
       "| 11.40  | 158.03 |\n",
       "| 11.61  | 162.72 |\n",
       "| 11.69  | 167.67 |\n",
       "| 11.91  | 172.86 |\n",
       "| 12.07  | 177.52 |\n",
       "| 12.32  | 182.09 |\n",
       "\n"
      ],
      "text/plain": [
       "   Cp    Temp  \n",
       "1  10.79 118.99\n",
       "2  10.80 120.76\n",
       "3  10.86 122.71\n",
       "4  10.93 125.48\n",
       "5  10.99 127.31\n",
       "6  10.96 130.06\n",
       "7  10.98 132.41\n",
       "8  11.03 135.89\n",
       "9  11.08 139.02\n",
       "10 11.10 140.25\n",
       "11 11.19 145.61\n",
       "12 11.25 153.45\n",
       "13 11.40 158.03\n",
       "14 11.61 162.72\n",
       "15 11.69 167.67\n",
       "16 11.91 172.86\n",
       "17 12.07 177.52\n",
       "18 12.32 182.09"
      ]
     },
     "metadata": {},
     "output_type": "display_data"
    }
   ],
   "source": [
    "heatcap"
   ]
  },
  {
   "cell_type": "code",
   "execution_count": 12,
   "metadata": {},
   "outputs": [
    {
     "data": {
      "image/png": "[encoded data removed]",
      "text/plain": [
       "plot without title"
      ]
     },
     "metadata": {},
     "output_type": "display_data"
    }
   ],
   "source": [
    "scatter.smooth(heatcap$Temp, heatcap$Cp)"
   ]
  },
  {
   "cell_type": "code",
   "execution_count": 4,
   "metadata": {},
   "outputs": [],
   "source": [
    "lm.cap <- lm(Cp ~ Temp, data=heatcap)"
   ]
  },
  {
   "cell_type": "code",
   "execution_count": 5,
   "metadata": {},
   "outputs": [
    {
     "data": {
      "text/plain": [
       "\n",
       "Call:\n",
       "lm(formula = Cp ~ Temp, data = heatcap)\n",
       "\n",
       "Residuals:\n",
       "      Min        1Q    Median        3Q       Max \n",
       "-0.204770 -0.067861 -0.004684  0.077152  0.246295 \n",
       "\n",
       "Coefficients:\n",
       "            Estimate Std. Error t value Pr(>|t|)    \n",
       "(Intercept) 8.138580   0.189668   42.91  < 2e-16 ***\n",
       "Temp        0.021611   0.001294   16.70 1.52e-11 ***\n",
       "---\n",
       "Signif. codes:  0 '***' 0.001 '**' 0.01 '*' 0.05 '.' 0.1 ' ' 1\n",
       "\n",
       "Residual standard error: 0.1103 on 16 degrees of freedom\n",
       "Multiple R-squared:  0.9457,\tAdjusted R-squared:  0.9423 \n",
       "F-statistic: 278.8 on 1 and 16 DF,  p-value: 1.516e-11\n"
      ]
     },
     "metadata": {},
     "output_type": "display_data"
    }
   ],
   "source": [
    "summary(lm.cap)"
   ]
  },
  {
   "cell_type": "code",
   "execution_count": 6,
   "metadata": {},
   "outputs": [],
   "source": [
    "lm.heat.sq <- lm(Cp ~ Temp + I(Temp^2), data=heatcap)"
   ]
  },
  {
   "cell_type": "code",
   "execution_count": 7,
   "metadata": {},
   "outputs": [
    {
     "data": {
      "text/html": [
       "<table>\n",
       "<thead><tr><th></th><th scope=col>Df</th><th scope=col>Sum Sq</th><th scope=col>Mean Sq</th><th scope=col>F value</th><th scope=col>Pr(&gt;F)</th></tr></thead>\n",
       "<tbody>\n",
       "\t<tr><th scope=row>Temp</th><td> 1          </td><td>3.38894458  </td><td>3.38894458  </td><td>1374.70815  </td><td>3.609916e-16</td></tr>\n",
       "\t<tr><th scope=row>I(Temp^2)</th><td> 1          </td><td>0.15752171  </td><td>0.15752171  </td><td>  63.89788  </td><td>8.696011e-07</td></tr>\n",
       "\t<tr><th scope=row>Residuals</th><td>15          </td><td>0.03697815  </td><td>0.00246521  </td><td>        NA  </td><td>          NA</td></tr>\n",
       "</tbody>\n",
       "</table>\n"
      ],
      "text/latex": [
       "\\begin{tabular}{r|lllll}\n",
       "  & Df & Sum Sq & Mean Sq & F value & Pr(>F)\\\\\n",
       "\\hline\n",
       "\tTemp &  1           & 3.38894458   & 3.38894458   & 1374.70815   & 3.609916e-16\\\\\n",
       "\tI(Temp\\textasciicircum{}2) &  1           & 0.15752171   & 0.15752171   &   63.89788   & 8.696011e-07\\\\\n",
       "\tResiduals & 15           & 0.03697815   & 0.00246521   &         NA   &           NA\\\\\n",
       "\\end{tabular}\n"
      ],
      "text/markdown": [
       "\n",
       "| <!--/--> | Df | Sum Sq | Mean Sq | F value | Pr(>F) |\n",
       "|---|---|---|---|---|---|\n",
       "| Temp |  1           | 3.38894458   | 3.38894458   | 1374.70815   | 3.609916e-16 |\n",
       "| I(Temp^2) |  1           | 0.15752171   | 0.15752171   |   63.89788   | 8.696011e-07 |\n",
       "| Residuals | 15           | 0.03697815   | 0.00246521   |         NA   |           NA |\n",
       "\n"
      ],
      "text/plain": [
       "          Df Sum Sq     Mean Sq    F value    Pr(>F)      \n",
       "Temp       1 3.38894458 3.38894458 1374.70815 3.609916e-16\n",
       "I(Temp^2)  1 0.15752171 0.15752171   63.89788 8.696011e-07\n",
       "Residuals 15 0.03697815 0.00246521         NA           NA"
      ]
     },
     "metadata": {},
     "output_type": "display_data"
    }
   ],
   "source": [
    "anova(lm.heat.sq)"
   ]
  },
  {
   "cell_type": "code",
   "execution_count": 8,
   "metadata": {},
   "outputs": [
    {
     "data": {
      "text/html": [
       "<table>\n",
       "<thead><tr><th></th><th scope=col>Estimate</th><th scope=col>Std. Error</th><th scope=col>t value</th><th scope=col>Pr(&gt;|t|)</th></tr></thead>\n",
       "<tbody>\n",
       "\t<tr><th scope=row>(Intercept)</th><td>14.4381760806</td><td>7.926935e-01 </td><td>18.214071    </td><td>1.218020e-11 </td></tr>\n",
       "\t<tr><th scope=row>Temp</th><td>-0.0643514236</td><td>1.076966e-02 </td><td>-5.975254    </td><td>2.543967e-05 </td></tr>\n",
       "\t<tr><th scope=row>I(Temp^2)</th><td> 0.0002877212</td><td>3.599388e-05 </td><td> 7.993615    </td><td>8.696011e-07 </td></tr>\n",
       "</tbody>\n",
       "</table>\n"
      ],
      "text/latex": [
       "\\begin{tabular}{r|llll}\n",
       "  & Estimate & Std. Error & t value & Pr(>\\textbar{}t\\textbar{})\\\\\n",
       "\\hline\n",
       "\t(Intercept) & 14.4381760806 & 7.926935e-01  & 18.214071     & 1.218020e-11 \\\\\n",
       "\tTemp & -0.0643514236 & 1.076966e-02  & -5.975254     & 2.543967e-05 \\\\\n",
       "\tI(Temp\\textasciicircum{}2) &  0.0002877212 & 3.599388e-05  &  7.993615     & 8.696011e-07 \\\\\n",
       "\\end{tabular}\n"
      ],
      "text/markdown": [
       "\n",
       "| <!--/--> | Estimate | Std. Error | t value | Pr(>|t|) |\n",
       "|---|---|---|---|---|\n",
       "| (Intercept) | 14.4381760806 | 7.926935e-01  | 18.214071     | 1.218020e-11  |\n",
       "| Temp | -0.0643514236 | 1.076966e-02  | -5.975254     | 2.543967e-05  |\n",
       "| I(Temp^2) |  0.0002877212 | 3.599388e-05  |  7.993615     | 8.696011e-07  |\n",
       "\n"
      ],
      "text/plain": [
       "            Estimate      Std. Error   t value   Pr(>|t|)    \n",
       "(Intercept) 14.4381760806 7.926935e-01 18.214071 1.218020e-11\n",
       "Temp        -0.0643514236 1.076966e-02 -5.975254 2.543967e-05\n",
       "I(Temp^2)    0.0002877212 3.599388e-05  7.993615 8.696011e-07"
      ]
     },
     "metadata": {},
     "output_type": "display_data"
    }
   ],
   "source": [
    "coef(summary(lm.heat.sq))"
   ]
  }
 ],
 "metadata": {
  "kernelspec": {
   "display_name": "R",
   "language": "R",
   "name": "ir"
  },
  "language_info": {
   "codemirror_mode": "r",
   "file_extension": ".r",
   "mimetype": "text/x-r-source",
   "name": "R",
   "pygments_lexer": "r",
   "version": "3.6.1"
  },
  "orig_nbformat": 4
 },
 "nbformat": 4,
 "nbformat_minor": 2
}
