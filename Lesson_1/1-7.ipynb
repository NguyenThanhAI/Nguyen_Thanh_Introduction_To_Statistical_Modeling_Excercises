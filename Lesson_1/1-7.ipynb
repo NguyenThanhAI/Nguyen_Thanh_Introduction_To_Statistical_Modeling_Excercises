{
 "cells": [
  {
   "cell_type": "code",
   "execution_count": 1,
   "metadata": {},
   "outputs": [],
   "source": [
    "library(GLMsData)"
   ]
  },
  {
   "cell_type": "code",
   "execution_count": 2,
   "metadata": {},
   "outputs": [],
   "source": [
    "data(humanfat)"
   ]
  },
  {
   "cell_type": "code",
   "execution_count": 3,
   "metadata": {},
   "outputs": [
    {
     "name": "stdout",
     "output_type": "stream",
     "text": [
      "'data.frame':\t18 obs. of  4 variables:\n",
      " $ Age        : int  23 23 27 27 39 41 45 49 50 53 ...\n",
      " $ Percent.Fat: num  9.5 27.9 7.8 17.8 31.4 25.9 27.4 25.2 31.1 34.7 ...\n",
      " $ Gender     : Factor w/ 2 levels \"F\",\"M\": 2 1 2 2 1 1 2 1 1 1 ...\n",
      " $ BMI        : num  17.8 22.5 24.6 20.5 25.1 21.4 26 22.3 21.8 28.4 ...\n"
     ]
    }
   ],
   "source": [
    "str(humanfat)"
   ]
  },
  {
   "cell_type": "code",
   "execution_count": 4,
   "metadata": {},
   "outputs": [
    {
     "data": {
      "text/html": [
       "<table>\n",
       "<thead><tr><th scope=col>Age</th><th scope=col>Percent.Fat</th><th scope=col>Gender</th><th scope=col>BMI</th></tr></thead>\n",
       "<tbody>\n",
       "\t<tr><td>23  </td><td> 9.5</td><td>M   </td><td>17.8</td></tr>\n",
       "\t<tr><td>23  </td><td>27.9</td><td>F   </td><td>22.5</td></tr>\n",
       "\t<tr><td>27  </td><td> 7.8</td><td>M   </td><td>24.6</td></tr>\n",
       "\t<tr><td>27  </td><td>17.8</td><td>M   </td><td>20.5</td></tr>\n",
       "\t<tr><td>39  </td><td>31.4</td><td>F   </td><td>25.1</td></tr>\n",
       "\t<tr><td>41  </td><td>25.9</td><td>F   </td><td>21.4</td></tr>\n",
       "\t<tr><td>45  </td><td>27.4</td><td>M   </td><td>26.0</td></tr>\n",
       "\t<tr><td>49  </td><td>25.2</td><td>F   </td><td>22.3</td></tr>\n",
       "\t<tr><td>50  </td><td>31.1</td><td>F   </td><td>21.8</td></tr>\n",
       "\t<tr><td>53  </td><td>34.7</td><td>F   </td><td>28.4</td></tr>\n",
       "\t<tr><td>53  </td><td>42.0</td><td>F   </td><td>31.8</td></tr>\n",
       "\t<tr><td>54  </td><td>29.1</td><td>F   </td><td>25.2</td></tr>\n",
       "\t<tr><td>56  </td><td>32.5</td><td>F   </td><td>23.8</td></tr>\n",
       "\t<tr><td>57  </td><td>30.3</td><td>F   </td><td>22.8</td></tr>\n",
       "\t<tr><td>58  </td><td>33.0</td><td>F   </td><td>26.4</td></tr>\n",
       "\t<tr><td>58  </td><td>33.8</td><td>F   </td><td>28.3</td></tr>\n",
       "\t<tr><td>60  </td><td>41.1</td><td>F   </td><td>23.2</td></tr>\n",
       "\t<tr><td>61  </td><td>34.5</td><td>F   </td><td>23.2</td></tr>\n",
       "</tbody>\n",
       "</table>\n"
      ],
      "text/latex": [
       "\\begin{tabular}{r|llll}\n",
       " Age & Percent.Fat & Gender & BMI\\\\\n",
       "\\hline\n",
       "\t 23   &  9.5 & M    & 17.8\\\\\n",
       "\t 23   & 27.9 & F    & 22.5\\\\\n",
       "\t 27   &  7.8 & M    & 24.6\\\\\n",
       "\t 27   & 17.8 & M    & 20.5\\\\\n",
       "\t 39   & 31.4 & F    & 25.1\\\\\n",
       "\t 41   & 25.9 & F    & 21.4\\\\\n",
       "\t 45   & 27.4 & M    & 26.0\\\\\n",
       "\t 49   & 25.2 & F    & 22.3\\\\\n",
       "\t 50   & 31.1 & F    & 21.8\\\\\n",
       "\t 53   & 34.7 & F    & 28.4\\\\\n",
       "\t 53   & 42.0 & F    & 31.8\\\\\n",
       "\t 54   & 29.1 & F    & 25.2\\\\\n",
       "\t 56   & 32.5 & F    & 23.8\\\\\n",
       "\t 57   & 30.3 & F    & 22.8\\\\\n",
       "\t 58   & 33.0 & F    & 26.4\\\\\n",
       "\t 58   & 33.8 & F    & 28.3\\\\\n",
       "\t 60   & 41.1 & F    & 23.2\\\\\n",
       "\t 61   & 34.5 & F    & 23.2\\\\\n",
       "\\end{tabular}\n"
      ],
      "text/markdown": [
       "\n",
       "| Age | Percent.Fat | Gender | BMI |\n",
       "|---|---|---|---|\n",
       "| 23   |  9.5 | M    | 17.8 |\n",
       "| 23   | 27.9 | F    | 22.5 |\n",
       "| 27   |  7.8 | M    | 24.6 |\n",
       "| 27   | 17.8 | M    | 20.5 |\n",
       "| 39   | 31.4 | F    | 25.1 |\n",
       "| 41   | 25.9 | F    | 21.4 |\n",
       "| 45   | 27.4 | M    | 26.0 |\n",
       "| 49   | 25.2 | F    | 22.3 |\n",
       "| 50   | 31.1 | F    | 21.8 |\n",
       "| 53   | 34.7 | F    | 28.4 |\n",
       "| 53   | 42.0 | F    | 31.8 |\n",
       "| 54   | 29.1 | F    | 25.2 |\n",
       "| 56   | 32.5 | F    | 23.8 |\n",
       "| 57   | 30.3 | F    | 22.8 |\n",
       "| 58   | 33.0 | F    | 26.4 |\n",
       "| 58   | 33.8 | F    | 28.3 |\n",
       "| 60   | 41.1 | F    | 23.2 |\n",
       "| 61   | 34.5 | F    | 23.2 |\n",
       "\n"
      ],
      "text/plain": [
       "   Age Percent.Fat Gender BMI \n",
       "1  23   9.5        M      17.8\n",
       "2  23  27.9        F      22.5\n",
       "3  27   7.8        M      24.6\n",
       "4  27  17.8        M      20.5\n",
       "5  39  31.4        F      25.1\n",
       "6  41  25.9        F      21.4\n",
       "7  45  27.4        M      26.0\n",
       "8  49  25.2        F      22.3\n",
       "9  50  31.1        F      21.8\n",
       "10 53  34.7        F      28.4\n",
       "11 53  42.0        F      31.8\n",
       "12 54  29.1        F      25.2\n",
       "13 56  32.5        F      23.8\n",
       "14 57  30.3        F      22.8\n",
       "15 58  33.0        F      26.4\n",
       "16 58  33.8        F      28.3\n",
       "17 60  41.1        F      23.2\n",
       "18 61  34.5        F      23.2"
      ]
     },
     "metadata": {},
     "output_type": "display_data"
    }
   ],
   "source": [
    "humanfat"
   ]
  },
  {
   "cell_type": "code",
   "execution_count": 5,
   "metadata": {},
   "outputs": [
    {
     "data": {
      "text/html": [
       "<ol class=list-inline>\n",
       "\t<li>'Age'</li>\n",
       "\t<li>'Percent.Fat'</li>\n",
       "\t<li>'Gender'</li>\n",
       "\t<li>'BMI'</li>\n",
       "</ol>\n"
      ],
      "text/latex": [
       "\\begin{enumerate*}\n",
       "\\item 'Age'\n",
       "\\item 'Percent.Fat'\n",
       "\\item 'Gender'\n",
       "\\item 'BMI'\n",
       "\\end{enumerate*}\n"
      ],
      "text/markdown": [
       "1. 'Age'\n",
       "2. 'Percent.Fat'\n",
       "3. 'Gender'\n",
       "4. 'BMI'\n",
       "\n",
       "\n"
      ],
      "text/plain": [
       "[1] \"Age\"         \"Percent.Fat\" \"Gender\"      \"BMI\"        "
      ]
     },
     "metadata": {},
     "output_type": "display_data"
    }
   ],
   "source": [
    "names(humanfat)"
   ]
  },
  {
   "cell_type": "code",
   "execution_count": 6,
   "metadata": {},
   "outputs": [
    {
     "data": {
      "image/png": "[encoded data removed]",
      "text/plain": [
       "plot without title"
      ]
     },
     "metadata": {},
     "output_type": "display_data"
    }
   ],
   "source": [
    "scatter.smooth(humanfat$Age, humanfat$Percent.Fat)"
   ]
  },
  {
   "cell_type": "code",
   "execution_count": 9,
   "metadata": {},
   "outputs": [],
   "source": [
    "humanfat$Gender = factor(humanfat$Gender, levels=c(\"F\", \"M\"))"
   ]
  },
  {
   "cell_type": "code",
   "execution_count": 10,
   "metadata": {},
   "outputs": [
    {
     "data": {
      "image/png": "[encoded data removed]",
      "text/plain": [
       "plot without title"
      ]
     },
     "metadata": {},
     "output_type": "display_data"
    }
   ],
   "source": [
    "boxplot(humanfat$Gender, humanfat$Percent.Fat)"
   ]
  },
  {
   "cell_type": "code",
   "execution_count": 11,
   "metadata": {},
   "outputs": [
    {
     "data": {
      "image/png": "[encoded data removed]",
      "text/plain": [
       "plot without title"
      ]
     },
     "metadata": {},
     "output_type": "display_data"
    }
   ],
   "source": [
    "scatter.smooth(humanfat$BMI, humanfat$Percent.Fat)"
   ]
  },
  {
   "cell_type": "code",
   "execution_count": 12,
   "metadata": {},
   "outputs": [],
   "source": [
    "lm.BMI <- lm(Percent.Fat ~ BMI, data=humanfat)"
   ]
  },
  {
   "cell_type": "code",
   "execution_count": 13,
   "metadata": {},
   "outputs": [
    {
     "data": {
      "text/plain": [
       "\n",
       "Call:\n",
       "lm(formula = Percent.Fat ~ BMI, data = humanfat)\n",
       "\n",
       "Residuals:\n",
       "     Min       1Q   Median       3Q      Max \n",
       "-21.5199  -1.5410   0.7245   3.4867  14.0997 \n",
       "\n",
       "Coefficients:\n",
       "            Estimate Std. Error t value Pr(>|t|)   \n",
       "(Intercept) -11.4377    13.7692  -0.831  0.41838   \n",
       "BMI           1.6568     0.5648   2.934  0.00974 **\n",
       "---\n",
       "Signif. codes:  0 '***' 0.001 '**' 0.01 '*' 0.05 '.' 0.1 ' ' 1\n",
       "\n",
       "Residual standard error: 7.601 on 16 degrees of freedom\n",
       "Multiple R-squared:  0.3497,\tAdjusted R-squared:  0.3091 \n",
       "F-statistic: 8.606 on 1 and 16 DF,  p-value: 0.009739\n"
      ]
     },
     "metadata": {},
     "output_type": "display_data"
    }
   ],
   "source": [
    "summary(lm.BMI)"
   ]
  },
  {
   "cell_type": "code",
   "execution_count": 19,
   "metadata": {},
   "outputs": [
    {
     "data": {
      "image/png": "[encoded data removed]",
      "text/plain": [
       "plot without title"
      ]
     },
     "metadata": {},
     "output_type": "display_data"
    }
   ],
   "source": [
    "plot(Percent.Fat ~ BMI, data=humanfat)\n",
    "abline(lm.BMI)"
   ]
  },
  {
   "cell_type": "code",
   "execution_count": 20,
   "metadata": {},
   "outputs": [],
   "source": [
    "lm.BMI.Gender <- lm(Percent.Fat ~ BMI + Gender, data=humanfat)"
   ]
  },
  {
   "cell_type": "code",
   "execution_count": 21,
   "metadata": {},
   "outputs": [
    {
     "data": {
      "text/html": [
       "<table>\n",
       "<thead><tr><th></th><th scope=col>Estimate</th><th scope=col>Std. Error</th><th scope=col>t value</th><th scope=col>Pr(&gt;|t|)</th></tr></thead>\n",
       "<tbody>\n",
       "\t<tr><th scope=row>(Intercept)</th><td>  6.305622  </td><td>9.8220651   </td><td> 0.6419853  </td><td>0.5305722440</td></tr>\n",
       "\t<tr><th scope=row>BMI</th><td>  1.052055  </td><td>0.3934981   </td><td> 2.6735949  </td><td>0.0173528960</td></tr>\n",
       "\t<tr><th scope=row>GenderM</th><td>-14.062535  </td><td>3.0023647   </td><td>-4.6838197  </td><td>0.0002939581</td></tr>\n",
       "</tbody>\n",
       "</table>\n"
      ],
      "text/latex": [
       "\\begin{tabular}{r|llll}\n",
       "  & Estimate & Std. Error & t value & Pr(>\\textbar{}t\\textbar{})\\\\\n",
       "\\hline\n",
       "\t(Intercept) &   6.305622   & 9.8220651    &  0.6419853   & 0.5305722440\\\\\n",
       "\tBMI &   1.052055   & 0.3934981    &  2.6735949   & 0.0173528960\\\\\n",
       "\tGenderM & -14.062535   & 3.0023647    & -4.6838197   & 0.0002939581\\\\\n",
       "\\end{tabular}\n"
      ],
      "text/markdown": [
       "\n",
       "| <!--/--> | Estimate | Std. Error | t value | Pr(>|t|) |\n",
       "|---|---|---|---|---|\n",
       "| (Intercept) |   6.305622   | 9.8220651    |  0.6419853   | 0.5305722440 |\n",
       "| BMI |   1.052055   | 0.3934981    |  2.6735949   | 0.0173528960 |\n",
       "| GenderM | -14.062535   | 3.0023647    | -4.6838197   | 0.0002939581 |\n",
       "\n"
      ],
      "text/plain": [
       "            Estimate   Std. Error t value    Pr(>|t|)    \n",
       "(Intercept)   6.305622 9.8220651   0.6419853 0.5305722440\n",
       "BMI           1.052055 0.3934981   2.6735949 0.0173528960\n",
       "GenderM     -14.062535 3.0023647  -4.6838197 0.0002939581"
      ]
     },
     "metadata": {},
     "output_type": "display_data"
    }
   ],
   "source": [
    "coef(summary(lm.BMI.Gender))"
   ]
  }
 ],
 "metadata": {
  "kernelspec": {
   "display_name": "R",
   "language": "R",
   "name": "ir"
  },
  "language_info": {
   "codemirror_mode": "r",
   "file_extension": ".r",
   "mimetype": "text/x-r-source",
   "name": "R",
   "pygments_lexer": "r",
   "version": "3.6.1"
  },
  "orig_nbformat": 4
 },
 "nbformat": 4,
 "nbformat_minor": 2
}
