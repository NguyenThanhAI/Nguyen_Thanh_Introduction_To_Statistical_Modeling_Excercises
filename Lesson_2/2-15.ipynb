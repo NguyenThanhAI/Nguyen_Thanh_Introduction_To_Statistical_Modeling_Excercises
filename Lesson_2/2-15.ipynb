{
 "cells": [
  {
   "cell_type": "code",
   "execution_count": 7,
   "metadata": {},
   "outputs": [],
   "source": [
    "library(GLMsData)\n",
    "library(ggplot2)"
   ]
  },
  {
   "cell_type": "code",
   "execution_count": 2,
   "metadata": {},
   "outputs": [],
   "source": [
    "data(flowers)"
   ]
  },
  {
   "cell_type": "code",
   "execution_count": 3,
   "metadata": {},
   "outputs": [
    {
     "data": {
      "text/html": [
       "<table>\n",
       "<thead><tr><th scope=col>Flowers</th><th scope=col>Light</th><th scope=col>Timing</th></tr></thead>\n",
       "<tbody>\n",
       "\t<tr><td>62.4  </td><td>150   </td><td>PFI   </td></tr>\n",
       "\t<tr><td>77.1  </td><td>150   </td><td>PFI   </td></tr>\n",
       "\t<tr><td>77.7  </td><td>150   </td><td>Before</td></tr>\n",
       "\t<tr><td>75.4  </td><td>150   </td><td>Before</td></tr>\n",
       "\t<tr><td>55.7  </td><td>300   </td><td>PFI   </td></tr>\n",
       "\t<tr><td>54.2  </td><td>300   </td><td>PFI   </td></tr>\n",
       "\t<tr><td>68.9  </td><td>300   </td><td>Before</td></tr>\n",
       "\t<tr><td>78.2  </td><td>300   </td><td>Before</td></tr>\n",
       "\t<tr><td>49.5  </td><td>450   </td><td>PFI   </td></tr>\n",
       "\t<tr><td>62.0  </td><td>450   </td><td>PFI   </td></tr>\n",
       "\t<tr><td>57.2  </td><td>450   </td><td>Before</td></tr>\n",
       "\t<tr><td>70.9  </td><td>450   </td><td>Before</td></tr>\n",
       "\t<tr><td>39.3  </td><td>600   </td><td>PFI   </td></tr>\n",
       "\t<tr><td>45.3  </td><td>600   </td><td>PFI   </td></tr>\n",
       "\t<tr><td>62.9  </td><td>600   </td><td>Before</td></tr>\n",
       "\t<tr><td>52.1  </td><td>600   </td><td>Before</td></tr>\n",
       "\t<tr><td>30.9  </td><td>750   </td><td>PFI   </td></tr>\n",
       "\t<tr><td>45.2  </td><td>750   </td><td>PFI   </td></tr>\n",
       "\t<tr><td>60.2  </td><td>750   </td><td>Before</td></tr>\n",
       "\t<tr><td>45.6  </td><td>750   </td><td>Before</td></tr>\n",
       "\t<tr><td>36.8  </td><td>900   </td><td>PFI   </td></tr>\n",
       "\t<tr><td>42.2  </td><td>900   </td><td>PFI   </td></tr>\n",
       "\t<tr><td>52.5  </td><td>900   </td><td>Before</td></tr>\n",
       "\t<tr><td>44.1  </td><td>900   </td><td>Before</td></tr>\n",
       "</tbody>\n",
       "</table>\n"
      ],
      "text/latex": [
       "\\begin{tabular}{r|lll}\n",
       " Flowers & Light & Timing\\\\\n",
       "\\hline\n",
       "\t 62.4   & 150    & PFI   \\\\\n",
       "\t 77.1   & 150    & PFI   \\\\\n",
       "\t 77.7   & 150    & Before\\\\\n",
       "\t 75.4   & 150    & Before\\\\\n",
       "\t 55.7   & 300    & PFI   \\\\\n",
       "\t 54.2   & 300    & PFI   \\\\\n",
       "\t 68.9   & 300    & Before\\\\\n",
       "\t 78.2   & 300    & Before\\\\\n",
       "\t 49.5   & 450    & PFI   \\\\\n",
       "\t 62.0   & 450    & PFI   \\\\\n",
       "\t 57.2   & 450    & Before\\\\\n",
       "\t 70.9   & 450    & Before\\\\\n",
       "\t 39.3   & 600    & PFI   \\\\\n",
       "\t 45.3   & 600    & PFI   \\\\\n",
       "\t 62.9   & 600    & Before\\\\\n",
       "\t 52.1   & 600    & Before\\\\\n",
       "\t 30.9   & 750    & PFI   \\\\\n",
       "\t 45.2   & 750    & PFI   \\\\\n",
       "\t 60.2   & 750    & Before\\\\\n",
       "\t 45.6   & 750    & Before\\\\\n",
       "\t 36.8   & 900    & PFI   \\\\\n",
       "\t 42.2   & 900    & PFI   \\\\\n",
       "\t 52.5   & 900    & Before\\\\\n",
       "\t 44.1   & 900    & Before\\\\\n",
       "\\end{tabular}\n"
      ],
      "text/markdown": [
       "\n",
       "| Flowers | Light | Timing |\n",
       "|---|---|---|\n",
       "| 62.4   | 150    | PFI    |\n",
       "| 77.1   | 150    | PFI    |\n",
       "| 77.7   | 150    | Before |\n",
       "| 75.4   | 150    | Before |\n",
       "| 55.7   | 300    | PFI    |\n",
       "| 54.2   | 300    | PFI    |\n",
       "| 68.9   | 300    | Before |\n",
       "| 78.2   | 300    | Before |\n",
       "| 49.5   | 450    | PFI    |\n",
       "| 62.0   | 450    | PFI    |\n",
       "| 57.2   | 450    | Before |\n",
       "| 70.9   | 450    | Before |\n",
       "| 39.3   | 600    | PFI    |\n",
       "| 45.3   | 600    | PFI    |\n",
       "| 62.9   | 600    | Before |\n",
       "| 52.1   | 600    | Before |\n",
       "| 30.9   | 750    | PFI    |\n",
       "| 45.2   | 750    | PFI    |\n",
       "| 60.2   | 750    | Before |\n",
       "| 45.6   | 750    | Before |\n",
       "| 36.8   | 900    | PFI    |\n",
       "| 42.2   | 900    | PFI    |\n",
       "| 52.5   | 900    | Before |\n",
       "| 44.1   | 900    | Before |\n",
       "\n"
      ],
      "text/plain": [
       "   Flowers Light Timing\n",
       "1  62.4    150   PFI   \n",
       "2  77.1    150   PFI   \n",
       "3  77.7    150   Before\n",
       "4  75.4    150   Before\n",
       "5  55.7    300   PFI   \n",
       "6  54.2    300   PFI   \n",
       "7  68.9    300   Before\n",
       "8  78.2    300   Before\n",
       "9  49.5    450   PFI   \n",
       "10 62.0    450   PFI   \n",
       "11 57.2    450   Before\n",
       "12 70.9    450   Before\n",
       "13 39.3    600   PFI   \n",
       "14 45.3    600   PFI   \n",
       "15 62.9    600   Before\n",
       "16 52.1    600   Before\n",
       "17 30.9    750   PFI   \n",
       "18 45.2    750   PFI   \n",
       "19 60.2    750   Before\n",
       "20 45.6    750   Before\n",
       "21 36.8    900   PFI   \n",
       "22 42.2    900   PFI   \n",
       "23 52.5    900   Before\n",
       "24 44.1    900   Before"
      ]
     },
     "metadata": {},
     "output_type": "display_data"
    }
   ],
   "source": [
    "flowers"
   ]
  },
  {
   "cell_type": "code",
   "execution_count": 4,
   "metadata": {},
   "outputs": [],
   "source": [
    "flowers$FactorLight = factor(flowers$Light)"
   ]
  },
  {
   "cell_type": "code",
   "execution_count": 5,
   "metadata": {},
   "outputs": [],
   "source": [
    "flowers$FactorTiming = factor(flowers$Timing)"
   ]
  },
  {
   "cell_type": "code",
   "execution_count": 6,
   "metadata": {},
   "outputs": [
    {
     "data": {
      "text/html": [
       "<table>\n",
       "<thead><tr><th scope=col>Flowers</th><th scope=col>Light</th><th scope=col>Timing</th><th scope=col>FactorLight</th><th scope=col>FactorTiming</th></tr></thead>\n",
       "<tbody>\n",
       "\t<tr><td>62.4  </td><td>150   </td><td>PFI   </td><td>150   </td><td>PFI   </td></tr>\n",
       "\t<tr><td>77.1  </td><td>150   </td><td>PFI   </td><td>150   </td><td>PFI   </td></tr>\n",
       "\t<tr><td>77.7  </td><td>150   </td><td>Before</td><td>150   </td><td>Before</td></tr>\n",
       "\t<tr><td>75.4  </td><td>150   </td><td>Before</td><td>150   </td><td>Before</td></tr>\n",
       "\t<tr><td>55.7  </td><td>300   </td><td>PFI   </td><td>300   </td><td>PFI   </td></tr>\n",
       "\t<tr><td>54.2  </td><td>300   </td><td>PFI   </td><td>300   </td><td>PFI   </td></tr>\n",
       "\t<tr><td>68.9  </td><td>300   </td><td>Before</td><td>300   </td><td>Before</td></tr>\n",
       "\t<tr><td>78.2  </td><td>300   </td><td>Before</td><td>300   </td><td>Before</td></tr>\n",
       "\t<tr><td>49.5  </td><td>450   </td><td>PFI   </td><td>450   </td><td>PFI   </td></tr>\n",
       "\t<tr><td>62.0  </td><td>450   </td><td>PFI   </td><td>450   </td><td>PFI   </td></tr>\n",
       "\t<tr><td>57.2  </td><td>450   </td><td>Before</td><td>450   </td><td>Before</td></tr>\n",
       "\t<tr><td>70.9  </td><td>450   </td><td>Before</td><td>450   </td><td>Before</td></tr>\n",
       "\t<tr><td>39.3  </td><td>600   </td><td>PFI   </td><td>600   </td><td>PFI   </td></tr>\n",
       "\t<tr><td>45.3  </td><td>600   </td><td>PFI   </td><td>600   </td><td>PFI   </td></tr>\n",
       "\t<tr><td>62.9  </td><td>600   </td><td>Before</td><td>600   </td><td>Before</td></tr>\n",
       "\t<tr><td>52.1  </td><td>600   </td><td>Before</td><td>600   </td><td>Before</td></tr>\n",
       "\t<tr><td>30.9  </td><td>750   </td><td>PFI   </td><td>750   </td><td>PFI   </td></tr>\n",
       "\t<tr><td>45.2  </td><td>750   </td><td>PFI   </td><td>750   </td><td>PFI   </td></tr>\n",
       "\t<tr><td>60.2  </td><td>750   </td><td>Before</td><td>750   </td><td>Before</td></tr>\n",
       "\t<tr><td>45.6  </td><td>750   </td><td>Before</td><td>750   </td><td>Before</td></tr>\n",
       "\t<tr><td>36.8  </td><td>900   </td><td>PFI   </td><td>900   </td><td>PFI   </td></tr>\n",
       "\t<tr><td>42.2  </td><td>900   </td><td>PFI   </td><td>900   </td><td>PFI   </td></tr>\n",
       "\t<tr><td>52.5  </td><td>900   </td><td>Before</td><td>900   </td><td>Before</td></tr>\n",
       "\t<tr><td>44.1  </td><td>900   </td><td>Before</td><td>900   </td><td>Before</td></tr>\n",
       "</tbody>\n",
       "</table>\n"
      ],
      "text/latex": [
       "\\begin{tabular}{r|lllll}\n",
       " Flowers & Light & Timing & FactorLight & FactorTiming\\\\\n",
       "\\hline\n",
       "\t 62.4   & 150    & PFI    & 150    & PFI   \\\\\n",
       "\t 77.1   & 150    & PFI    & 150    & PFI   \\\\\n",
       "\t 77.7   & 150    & Before & 150    & Before\\\\\n",
       "\t 75.4   & 150    & Before & 150    & Before\\\\\n",
       "\t 55.7   & 300    & PFI    & 300    & PFI   \\\\\n",
       "\t 54.2   & 300    & PFI    & 300    & PFI   \\\\\n",
       "\t 68.9   & 300    & Before & 300    & Before\\\\\n",
       "\t 78.2   & 300    & Before & 300    & Before\\\\\n",
       "\t 49.5   & 450    & PFI    & 450    & PFI   \\\\\n",
       "\t 62.0   & 450    & PFI    & 450    & PFI   \\\\\n",
       "\t 57.2   & 450    & Before & 450    & Before\\\\\n",
       "\t 70.9   & 450    & Before & 450    & Before\\\\\n",
       "\t 39.3   & 600    & PFI    & 600    & PFI   \\\\\n",
       "\t 45.3   & 600    & PFI    & 600    & PFI   \\\\\n",
       "\t 62.9   & 600    & Before & 600    & Before\\\\\n",
       "\t 52.1   & 600    & Before & 600    & Before\\\\\n",
       "\t 30.9   & 750    & PFI    & 750    & PFI   \\\\\n",
       "\t 45.2   & 750    & PFI    & 750    & PFI   \\\\\n",
       "\t 60.2   & 750    & Before & 750    & Before\\\\\n",
       "\t 45.6   & 750    & Before & 750    & Before\\\\\n",
       "\t 36.8   & 900    & PFI    & 900    & PFI   \\\\\n",
       "\t 42.2   & 900    & PFI    & 900    & PFI   \\\\\n",
       "\t 52.5   & 900    & Before & 900    & Before\\\\\n",
       "\t 44.1   & 900    & Before & 900    & Before\\\\\n",
       "\\end{tabular}\n"
      ],
      "text/markdown": [
       "\n",
       "| Flowers | Light | Timing | FactorLight | FactorTiming |\n",
       "|---|---|---|---|---|\n",
       "| 62.4   | 150    | PFI    | 150    | PFI    |\n",
       "| 77.1   | 150    | PFI    | 150    | PFI    |\n",
       "| 77.7   | 150    | Before | 150    | Before |\n",
       "| 75.4   | 150    | Before | 150    | Before |\n",
       "| 55.7   | 300    | PFI    | 300    | PFI    |\n",
       "| 54.2   | 300    | PFI    | 300    | PFI    |\n",
       "| 68.9   | 300    | Before | 300    | Before |\n",
       "| 78.2   | 300    | Before | 300    | Before |\n",
       "| 49.5   | 450    | PFI    | 450    | PFI    |\n",
       "| 62.0   | 450    | PFI    | 450    | PFI    |\n",
       "| 57.2   | 450    | Before | 450    | Before |\n",
       "| 70.9   | 450    | Before | 450    | Before |\n",
       "| 39.3   | 600    | PFI    | 600    | PFI    |\n",
       "| 45.3   | 600    | PFI    | 600    | PFI    |\n",
       "| 62.9   | 600    | Before | 600    | Before |\n",
       "| 52.1   | 600    | Before | 600    | Before |\n",
       "| 30.9   | 750    | PFI    | 750    | PFI    |\n",
       "| 45.2   | 750    | PFI    | 750    | PFI    |\n",
       "| 60.2   | 750    | Before | 750    | Before |\n",
       "| 45.6   | 750    | Before | 750    | Before |\n",
       "| 36.8   | 900    | PFI    | 900    | PFI    |\n",
       "| 42.2   | 900    | PFI    | 900    | PFI    |\n",
       "| 52.5   | 900    | Before | 900    | Before |\n",
       "| 44.1   | 900    | Before | 900    | Before |\n",
       "\n"
      ],
      "text/plain": [
       "   Flowers Light Timing FactorLight FactorTiming\n",
       "1  62.4    150   PFI    150         PFI         \n",
       "2  77.1    150   PFI    150         PFI         \n",
       "3  77.7    150   Before 150         Before      \n",
       "4  75.4    150   Before 150         Before      \n",
       "5  55.7    300   PFI    300         PFI         \n",
       "6  54.2    300   PFI    300         PFI         \n",
       "7  68.9    300   Before 300         Before      \n",
       "8  78.2    300   Before 300         Before      \n",
       "9  49.5    450   PFI    450         PFI         \n",
       "10 62.0    450   PFI    450         PFI         \n",
       "11 57.2    450   Before 450         Before      \n",
       "12 70.9    450   Before 450         Before      \n",
       "13 39.3    600   PFI    600         PFI         \n",
       "14 45.3    600   PFI    600         PFI         \n",
       "15 62.9    600   Before 600         Before      \n",
       "16 52.1    600   Before 600         Before      \n",
       "17 30.9    750   PFI    750         PFI         \n",
       "18 45.2    750   PFI    750         PFI         \n",
       "19 60.2    750   Before 750         Before      \n",
       "20 45.6    750   Before 750         Before      \n",
       "21 36.8    900   PFI    900         PFI         \n",
       "22 42.2    900   PFI    900         PFI         \n",
       "23 52.5    900   Before 900         Before      \n",
       "24 44.1    900   Before 900         Before      "
      ]
     },
     "metadata": {},
     "output_type": "display_data"
    }
   ],
   "source": [
    "flowers"
   ]
  },
  {
   "cell_type": "code",
   "execution_count": 8,
   "metadata": {},
   "outputs": [
    {
     "data": {
      "image/png": "[encoded data removed]",
      "text/plain": [
       "plot without title"
      ]
     },
     "metadata": {},
     "output_type": "display_data"
    }
   ],
   "source": [
    "ggplot(aes(x=FactorLight,y=Flowers), data=flowers) + geom_boxplot()"
   ]
  },
  {
   "cell_type": "code",
   "execution_count": 9,
   "metadata": {},
   "outputs": [
    {
     "data": {
      "image/png": "[encoded data removed]",
      "text/plain": [
       "plot without title"
      ]
     },
     "metadata": {},
     "output_type": "display_data"
    }
   ],
   "source": [
    "ggplot(aes(x=FactorTiming,y=Flowers), data=flowers) + geom_boxplot()"
   ]
  },
  {
   "cell_type": "code",
   "execution_count": 14,
   "metadata": {},
   "outputs": [],
   "source": [
    "lm.factor.light.time <- lm(Flowers ~ FactorLight + FactorTiming, data=flowers)"
   ]
  },
  {
   "cell_type": "code",
   "execution_count": 15,
   "metadata": {},
   "outputs": [],
   "source": [
    "lm.light.time <- lm(Flowers ~ Light + Timing, data=flowers)"
   ]
  },
  {
   "cell_type": "code",
   "execution_count": 16,
   "metadata": {},
   "outputs": [],
   "source": [
    "lm.factor.light.mul.time <-lm(Flowers ~ Light * Timing, data=flowers)"
   ]
  },
  {
   "cell_type": "code",
   "execution_count": 17,
   "metadata": {},
   "outputs": [
    {
     "data": {
      "text/html": [
       "<ol class=list-inline>\n",
       "\t<li>7</li>\n",
       "\t<li>97.3916140226291</li>\n",
       "</ol>\n"
      ],
      "text/latex": [
       "\\begin{enumerate*}\n",
       "\\item 7\n",
       "\\item 97.3916140226291\n",
       "\\end{enumerate*}\n"
      ],
      "text/markdown": [
       "1. 7\n",
       "2. 97.3916140226291\n",
       "\n",
       "\n"
      ],
      "text/plain": [
       "[1]  7.00000 97.39161"
      ]
     },
     "metadata": {},
     "output_type": "display_data"
    }
   ],
   "source": [
    "extractAIC(lm.factor.light.time)"
   ]
  },
  {
   "cell_type": "code",
   "execution_count": 18,
   "metadata": {},
   "outputs": [
    {
     "data": {
      "text/html": [
       "<ol class=list-inline>\n",
       "\t<li>3</li>\n",
       "\t<li>92.4350211309403</li>\n",
       "</ol>\n"
      ],
      "text/latex": [
       "\\begin{enumerate*}\n",
       "\\item 3\n",
       "\\item 92.4350211309403\n",
       "\\end{enumerate*}\n"
      ],
      "text/markdown": [
       "1. 3\n",
       "2. 92.4350211309403\n",
       "\n",
       "\n"
      ],
      "text/plain": [
       "[1]  3.00000 92.43502"
      ]
     },
     "metadata": {},
     "output_type": "display_data"
    }
   ],
   "source": [
    "extractAIC(lm.light.time)"
   ]
  },
  {
   "cell_type": "code",
   "execution_count": 19,
   "metadata": {},
   "outputs": [
    {
     "data": {
      "text/html": [
       "<ol class=list-inline>\n",
       "\t<li>4</li>\n",
       "\t<li>94.4225754806619</li>\n",
       "</ol>\n"
      ],
      "text/latex": [
       "\\begin{enumerate*}\n",
       "\\item 4\n",
       "\\item 94.4225754806619\n",
       "\\end{enumerate*}\n"
      ],
      "text/markdown": [
       "1. 4\n",
       "2. 94.4225754806619\n",
       "\n",
       "\n"
      ],
      "text/plain": [
       "[1]  4.00000 94.42258"
      ]
     },
     "metadata": {},
     "output_type": "display_data"
    }
   ],
   "source": [
    "extractAIC(lm.factor.light.mul.time)"
   ]
  }
 ],
 "metadata": {
  "kernelspec": {
   "display_name": "R",
   "language": "R",
   "name": "ir"
  },
  "language_info": {
   "codemirror_mode": "r",
   "file_extension": ".r",
   "mimetype": "text/x-r-source",
   "name": "R",
   "pygments_lexer": "r",
   "version": "3.6.1"
  },
  "orig_nbformat": 4
 },
 "nbformat": 4,
 "nbformat_minor": 2
}
