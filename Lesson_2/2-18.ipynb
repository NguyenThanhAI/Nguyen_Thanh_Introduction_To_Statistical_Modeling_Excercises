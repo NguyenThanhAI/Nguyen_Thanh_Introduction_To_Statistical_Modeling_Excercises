{
 "cells": [
  {
   "cell_type": "code",
   "execution_count": 1,
   "metadata": {},
   "outputs": [],
   "source": [
    "library(GLMsData)\n",
    "library(ggplot2)"
   ]
  },
  {
   "cell_type": "code",
   "execution_count": 2,
   "metadata": {},
   "outputs": [],
   "source": [
    "data(blocks)"
   ]
  },
  {
   "cell_type": "code",
   "execution_count": 3,
   "metadata": {},
   "outputs": [
    {
     "name": "stdout",
     "output_type": "stream",
     "text": [
      "'data.frame':\t100 obs. of  6 variables:\n",
      " $ Child : Factor w/ 25 levels \"A\",\"B\",\"C\",\"D\",..: 1 2 3 4 5 6 7 8 9 10 ...\n",
      " $ Number: int  11 9 8 9 10 13 10 7 6 12 ...\n",
      " $ Time  : num  30 19 18.6 23 29 178 42 20.2 12 39.2 ...\n",
      " $ Trial : int  1 1 1 1 1 1 1 1 1 1 ...\n",
      " $ Shape : Factor w/ 2 levels \"Cube\",\"Cylinder\": 1 1 1 1 1 1 1 1 1 1 ...\n",
      " $ Age   : num  4.67 5 4.42 4.33 4.33 4.83 4.42 5 3.58 4 ...\n"
     ]
    }
   ],
   "source": [
    "str(blocks)"
   ]
  },
  {
   "cell_type": "code",
   "execution_count": 5,
   "metadata": {},
   "outputs": [],
   "source": [
    "lm.age.shape <- lm(Time ~ Age * Shape, data=blocks)"
   ]
  },
  {
   "cell_type": "code",
   "execution_count": 6,
   "metadata": {},
   "outputs": [
    {
     "data": {
      "text/html": [
       "<table>\n",
       "<thead><tr><th></th><th scope=col>Estimate</th><th scope=col>Std. Error</th><th scope=col>t value</th><th scope=col>Pr(&gt;|t|)</th></tr></thead>\n",
       "<tbody>\n",
       "\t<tr><th scope=row>(Intercept)</th><td>29.261778  </td><td>19.487234  </td><td> 1.50158709</td><td>0.1364859  </td></tr>\n",
       "\t<tr><th scope=row>Age</th><td> 1.876173  </td><td> 4.759868  </td><td> 0.39416482</td><td>0.6943336  </td></tr>\n",
       "\t<tr><th scope=row>ShapeCylinder</th><td>-2.513296  </td><td>27.559110  </td><td>-0.09119654</td><td>0.9275264  </td></tr>\n",
       "\t<tr><th scope=row>Age:ShapeCylinder</th><td>-2.964113  </td><td> 6.731470  </td><td>-0.44033663</td><td>0.6606832  </td></tr>\n",
       "</tbody>\n",
       "</table>\n"
      ],
      "text/latex": [
       "\\begin{tabular}{r|llll}\n",
       "  & Estimate & Std. Error & t value & Pr(>\\textbar{}t\\textbar{})\\\\\n",
       "\\hline\n",
       "\t(Intercept) & 29.261778   & 19.487234   &  1.50158709 & 0.1364859  \\\\\n",
       "\tAge &  1.876173   &  4.759868   &  0.39416482 & 0.6943336  \\\\\n",
       "\tShapeCylinder & -2.513296   & 27.559110   & -0.09119654 & 0.9275264  \\\\\n",
       "\tAge:ShapeCylinder & -2.964113   &  6.731470   & -0.44033663 & 0.6606832  \\\\\n",
       "\\end{tabular}\n"
      ],
      "text/markdown": [
       "\n",
       "| <!--/--> | Estimate | Std. Error | t value | Pr(>|t|) |\n",
       "|---|---|---|---|---|\n",
       "| (Intercept) | 29.261778   | 19.487234   |  1.50158709 | 0.1364859   |\n",
       "| Age |  1.876173   |  4.759868   |  0.39416482 | 0.6943336   |\n",
       "| ShapeCylinder | -2.513296   | 27.559110   | -0.09119654 | 0.9275264   |\n",
       "| Age:ShapeCylinder | -2.964113   |  6.731470   | -0.44033663 | 0.6606832   |\n",
       "\n"
      ],
      "text/plain": [
       "                  Estimate  Std. Error t value     Pr(>|t|) \n",
       "(Intercept)       29.261778 19.487234   1.50158709 0.1364859\n",
       "Age                1.876173  4.759868   0.39416482 0.6943336\n",
       "ShapeCylinder     -2.513296 27.559110  -0.09119654 0.9275264\n",
       "Age:ShapeCylinder -2.964113  6.731470  -0.44033663 0.6606832"
      ]
     },
     "metadata": {},
     "output_type": "display_data"
    }
   ],
   "source": [
    "coef(summary(lm.age.shape))"
   ]
  },
  {
   "cell_type": "code",
   "execution_count": 7,
   "metadata": {},
   "outputs": [],
   "source": [
    "lm.age.trial <- lm(Time ~ Age * Trial, data=blocks)"
   ]
  },
  {
   "cell_type": "code",
   "execution_count": 8,
   "metadata": {},
   "outputs": [
    {
     "data": {
      "text/html": [
       "<table>\n",
       "<thead><tr><th></th><th scope=col>Estimate</th><th scope=col>Std. Error</th><th scope=col>t value</th><th scope=col>Pr(&gt;|t|)</th></tr></thead>\n",
       "<tbody>\n",
       "\t<tr><th scope=row>(Intercept)</th><td>41.722726 </td><td>45.454871 </td><td> 0.9178934</td><td>0.3609750 </td></tr>\n",
       "\t<tr><th scope=row>Age</th><td>-3.021738 </td><td>11.102612 </td><td>-0.2721646</td><td>0.7860800 </td></tr>\n",
       "\t<tr><th scope=row>Trial</th><td>-9.145064 </td><td>28.748184 </td><td>-0.3181093</td><td>0.7510930 </td></tr>\n",
       "\t<tr><th scope=row>Age:Trial</th><td> 2.277236 </td><td> 7.021909 </td><td> 0.3243044</td><td>0.7464131 </td></tr>\n",
       "</tbody>\n",
       "</table>\n"
      ],
      "text/latex": [
       "\\begin{tabular}{r|llll}\n",
       "  & Estimate & Std. Error & t value & Pr(>\\textbar{}t\\textbar{})\\\\\n",
       "\\hline\n",
       "\t(Intercept) & 41.722726  & 45.454871  &  0.9178934 & 0.3609750 \\\\\n",
       "\tAge & -3.021738  & 11.102612  & -0.2721646 & 0.7860800 \\\\\n",
       "\tTrial & -9.145064  & 28.748184  & -0.3181093 & 0.7510930 \\\\\n",
       "\tAge:Trial &  2.277236  &  7.021909  &  0.3243044 & 0.7464131 \\\\\n",
       "\\end{tabular}\n"
      ],
      "text/markdown": [
       "\n",
       "| <!--/--> | Estimate | Std. Error | t value | Pr(>|t|) |\n",
       "|---|---|---|---|---|\n",
       "| (Intercept) | 41.722726  | 45.454871  |  0.9178934 | 0.3609750  |\n",
       "| Age | -3.021738  | 11.102612  | -0.2721646 | 0.7860800  |\n",
       "| Trial | -9.145064  | 28.748184  | -0.3181093 | 0.7510930  |\n",
       "| Age:Trial |  2.277236  |  7.021909  |  0.3243044 | 0.7464131  |\n",
       "\n"
      ],
      "text/plain": [
       "            Estimate  Std. Error t value    Pr(>|t|) \n",
       "(Intercept) 41.722726 45.454871   0.9178934 0.3609750\n",
       "Age         -3.021738 11.102612  -0.2721646 0.7860800\n",
       "Trial       -9.145064 28.748184  -0.3181093 0.7510930\n",
       "Age:Trial    2.277236  7.021909   0.3243044 0.7464131"
      ]
     },
     "metadata": {},
     "output_type": "display_data"
    }
   ],
   "source": [
    "coef(summary(lm.age.trial))"
   ]
  },
  {
   "cell_type": "code",
   "execution_count": 11,
   "metadata": {},
   "outputs": [
    {
     "data": {
      "text/html": [
       "<table>\n",
       "<thead><tr><th></th><th scope=col>Estimate</th><th scope=col>Std. Error</th><th scope=col>t value</th><th scope=col>Pr(&gt;|t|)</th></tr></thead>\n",
       "<tbody>\n",
       "\t<tr><th scope=row>(Intercept)</th><td> 53.326726</td><td>44.69058  </td><td> 1.1932431</td><td>0.2357772 </td></tr>\n",
       "\t<tr><th scope=row>Age</th><td> -3.021738</td><td>10.74128  </td><td>-0.2813202</td><td>0.7790832 </td></tr>\n",
       "\t<tr><th scope=row>ShapeCylinder</th><td>-23.208000</td><td>15.92481  </td><td>-1.4573491</td><td>0.1483527 </td></tr>\n",
       "\t<tr><th scope=row>Trial</th><td>-12.065064</td><td>28.26480  </td><td>-0.4268582</td><td>0.6704587 </td></tr>\n",
       "\t<tr><th scope=row>Age:Trial</th><td>  2.277236</td><td> 6.79338  </td><td> 0.3352140</td><td>0.7382106 </td></tr>\n",
       "\t<tr><th scope=row>ShapeCylinder:Trial</th><td>  5.840000</td><td>10.07173  </td><td> 0.5798407</td><td>0.5634093 </td></tr>\n",
       "</tbody>\n",
       "</table>\n"
      ],
      "text/latex": [
       "\\begin{tabular}{r|llll}\n",
       "  & Estimate & Std. Error & t value & Pr(>\\textbar{}t\\textbar{})\\\\\n",
       "\\hline\n",
       "\t(Intercept) &  53.326726 & 44.69058   &  1.1932431 & 0.2357772 \\\\\n",
       "\tAge &  -3.021738 & 10.74128   & -0.2813202 & 0.7790832 \\\\\n",
       "\tShapeCylinder & -23.208000 & 15.92481   & -1.4573491 & 0.1483527 \\\\\n",
       "\tTrial & -12.065064 & 28.26480   & -0.4268582 & 0.6704587 \\\\\n",
       "\tAge:Trial &   2.277236 &  6.79338   &  0.3352140 & 0.7382106 \\\\\n",
       "\tShapeCylinder:Trial &   5.840000 & 10.07173   &  0.5798407 & 0.5634093 \\\\\n",
       "\\end{tabular}\n"
      ],
      "text/markdown": [
       "\n",
       "| <!--/--> | Estimate | Std. Error | t value | Pr(>|t|) |\n",
       "|---|---|---|---|---|\n",
       "| (Intercept) |  53.326726 | 44.69058   |  1.1932431 | 0.2357772  |\n",
       "| Age |  -3.021738 | 10.74128   | -0.2813202 | 0.7790832  |\n",
       "| ShapeCylinder | -23.208000 | 15.92481   | -1.4573491 | 0.1483527  |\n",
       "| Trial | -12.065064 | 28.26480   | -0.4268582 | 0.6704587  |\n",
       "| Age:Trial |   2.277236 |  6.79338   |  0.3352140 | 0.7382106  |\n",
       "| ShapeCylinder:Trial |   5.840000 | 10.07173   |  0.5798407 | 0.5634093  |\n",
       "\n"
      ],
      "text/plain": [
       "                    Estimate   Std. Error t value    Pr(>|t|) \n",
       "(Intercept)          53.326726 44.69058    1.1932431 0.2357772\n",
       "Age                  -3.021738 10.74128   -0.2813202 0.7790832\n",
       "ShapeCylinder       -23.208000 15.92481   -1.4573491 0.1483527\n",
       "Trial               -12.065064 28.26480   -0.4268582 0.6704587\n",
       "Age:Trial             2.277236  6.79338    0.3352140 0.7382106\n",
       "ShapeCylinder:Trial   5.840000 10.07173    0.5798407 0.5634093"
      ]
     },
     "metadata": {},
     "output_type": "display_data"
    }
   ],
   "source": [
    "coef(summary(lm(Time ~ (Age + Shape)*Trial, data=blocks)))"
   ]
  },
  {
   "cell_type": "code",
   "execution_count": 12,
   "metadata": {},
   "outputs": [],
   "source": [
    "m0 <- lm(Time ~ Shape, data=blocks)"
   ]
  },
  {
   "cell_type": "code",
   "execution_count": 13,
   "metadata": {},
   "outputs": [
    {
     "data": {
      "text/html": [
       "<table>\n",
       "<thead><tr><th></th><th scope=col>Df</th><th scope=col>Sum Sq</th><th scope=col>Mean Sq</th><th scope=col>F value</th><th scope=col>Pr(&gt;F)</th></tr></thead>\n",
       "<tbody>\n",
       "\t<tr><th scope=row>Shape</th><td> 1         </td><td> 5218.618  </td><td>5218.6176  </td><td>8.539566   </td><td>0.004314623</td></tr>\n",
       "\t<tr><th scope=row>Residuals</th><td>98         </td><td>59888.816  </td><td> 611.1104  </td><td>      NA   </td><td>         NA</td></tr>\n",
       "</tbody>\n",
       "</table>\n"
      ],
      "text/latex": [
       "\\begin{tabular}{r|lllll}\n",
       "  & Df & Sum Sq & Mean Sq & F value & Pr(>F)\\\\\n",
       "\\hline\n",
       "\tShape &  1          &  5218.618   & 5218.6176   & 8.539566    & 0.004314623\\\\\n",
       "\tResiduals & 98          & 59888.816   &  611.1104   &       NA    &          NA\\\\\n",
       "\\end{tabular}\n"
      ],
      "text/markdown": [
       "\n",
       "| <!--/--> | Df | Sum Sq | Mean Sq | F value | Pr(>F) |\n",
       "|---|---|---|---|---|---|\n",
       "| Shape |  1          |  5218.618   | 5218.6176   | 8.539566    | 0.004314623 |\n",
       "| Residuals | 98          | 59888.816   |  611.1104   |       NA    |          NA |\n",
       "\n"
      ],
      "text/plain": [
       "          Df Sum Sq    Mean Sq   F value  Pr(>F)     \n",
       "Shape      1  5218.618 5218.6176 8.539566 0.004314623\n",
       "Residuals 98 59888.816  611.1104       NA          NA"
      ]
     },
     "metadata": {},
     "output_type": "display_data"
    }
   ],
   "source": [
    "anova(m0)"
   ]
  },
  {
   "cell_type": "code",
   "execution_count": 14,
   "metadata": {},
   "outputs": [],
   "source": [
    "m1 <- lm(Time ~ Trial + Age + Shape, data=blocks)"
   ]
  },
  {
   "cell_type": "code",
   "execution_count": 15,
   "metadata": {},
   "outputs": [
    {
     "data": {
      "text/html": [
       "<table>\n",
       "<thead><tr><th></th><th scope=col>Df</th><th scope=col>Sum Sq</th><th scope=col>Mean Sq</th><th scope=col>F value</th><th scope=col>Pr(&gt;F)</th></tr></thead>\n",
       "<tbody>\n",
       "\t<tr><th scope=row>Trial</th><td> 1          </td><td>    0.014400</td><td>   0.014400 </td><td>2.308607e-05</td><td>0.996176312 </td></tr>\n",
       "\t<tr><th scope=row>Age</th><td> 1          </td><td>    8.535422</td><td>   8.535422 </td><td>1.368398e-02</td><td>0.907121430 </td></tr>\n",
       "\t<tr><th scope=row>Shape</th><td> 1          </td><td> 5218.617600</td><td>5218.617600 </td><td>8.366484e+00</td><td>0.004728602 </td></tr>\n",
       "\t<tr><th scope=row>Residuals</th><td>96          </td><td>59880.266178</td><td> 623.752773 </td><td>          NA</td><td>         NA </td></tr>\n",
       "</tbody>\n",
       "</table>\n"
      ],
      "text/latex": [
       "\\begin{tabular}{r|lllll}\n",
       "  & Df & Sum Sq & Mean Sq & F value & Pr(>F)\\\\\n",
       "\\hline\n",
       "\tTrial &  1           &     0.014400 &    0.014400  & 2.308607e-05 & 0.996176312 \\\\\n",
       "\tAge &  1           &     8.535422 &    8.535422  & 1.368398e-02 & 0.907121430 \\\\\n",
       "\tShape &  1           &  5218.617600 & 5218.617600  & 8.366484e+00 & 0.004728602 \\\\\n",
       "\tResiduals & 96           & 59880.266178 &  623.752773  &           NA &          NA \\\\\n",
       "\\end{tabular}\n"
      ],
      "text/markdown": [
       "\n",
       "| <!--/--> | Df | Sum Sq | Mean Sq | F value | Pr(>F) |\n",
       "|---|---|---|---|---|---|\n",
       "| Trial |  1           |     0.014400 |    0.014400  | 2.308607e-05 | 0.996176312  |\n",
       "| Age |  1           |     8.535422 |    8.535422  | 1.368398e-02 | 0.907121430  |\n",
       "| Shape |  1           |  5218.617600 | 5218.617600  | 8.366484e+00 | 0.004728602  |\n",
       "| Residuals | 96           | 59880.266178 |  623.752773  |           NA |          NA  |\n",
       "\n"
      ],
      "text/plain": [
       "          Df Sum Sq       Mean Sq     F value      Pr(>F)     \n",
       "Trial      1     0.014400    0.014400 2.308607e-05 0.996176312\n",
       "Age        1     8.535422    8.535422 1.368398e-02 0.907121430\n",
       "Shape      1  5218.617600 5218.617600 8.366484e+00 0.004728602\n",
       "Residuals 96 59880.266178  623.752773           NA          NA"
      ]
     },
     "metadata": {},
     "output_type": "display_data"
    }
   ],
   "source": [
    "anova(m1)"
   ]
  }
 ],
 "metadata": {
  "kernelspec": {
   "display_name": "R",
   "language": "R",
   "name": "ir"
  },
  "language_info": {
   "codemirror_mode": "r",
   "file_extension": ".r",
   "mimetype": "text/x-r-source",
   "name": "R",
   "pygments_lexer": "r",
   "version": "3.6.1"
  },
  "orig_nbformat": 4
 },
 "nbformat": 4,
 "nbformat_minor": 2
}
