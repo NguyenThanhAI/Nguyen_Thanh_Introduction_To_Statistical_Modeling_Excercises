{
 "cells": [
  {
   "cell_type": "code",
   "execution_count": 1,
   "metadata": {},
   "outputs": [
    {
     "name": "stderr",
     "output_type": "stream",
     "text": [
      "Warning message:\n",
      "\"package 'statmod' was built under R version 3.6.3\""
     ]
    }
   ],
   "source": [
    "library(GLMsData)\n",
    "library(statmod)\n",
    "library(MASS)\n",
    "library(splines)"
   ]
  },
  {
   "cell_type": "code",
   "execution_count": 2,
   "metadata": {},
   "outputs": [],
   "source": [
    "data(lime)"
   ]
  },
  {
   "cell_type": "code",
   "execution_count": 3,
   "metadata": {},
   "outputs": [
    {
     "name": "stdout",
     "output_type": "stream",
     "text": [
      "'data.frame':\t385 obs. of  4 variables:\n",
      " $ Foliage: num  0.1 0.2 0.4 0.6 0.6 0.8 1 1.4 1.7 3.5 ...\n",
      " $ DBH    : num  4 6 8 9.6 11.3 13.7 15.4 17.8 18 22 ...\n",
      " $ Age    : int  38 38 46 44 60 56 72 74 68 79 ...\n",
      " $ Origin : Factor w/ 3 levels \"Coppice\",\"Natural\",..: 2 2 2 2 2 2 2 2 2 2 ...\n"
     ]
    }
   ],
   "source": [
    "str(lime)"
   ]
  },
  {
   "cell_type": "code",
   "execution_count": 4,
   "metadata": {},
   "outputs": [
    {
     "data": {
      "image/png": "[encoded data removed]",
      "text/plain": [
       "plot without title"
      ]
     },
     "metadata": {},
     "output_type": "display_data"
    }
   ],
   "source": [
    "plot( log(Foliage) ~ log(DBH), type=\"n\", las=1,\n",
    "xlab=\"log of DBH (in cm)\", ylab=\"log of Foliage biomass (in kg)\",\n",
    "ylim = c(-5, 3), xlim=c(0, 4), data=lime)\n",
    "points( log(Foliage) ~ log(DBH), data=subset(lime, Origin==\"Coppice\"),\n",
    "pch=1)\n",
    "points( log(Foliage) ~ log(DBH), data=subset(lime, Origin==\"Natural\"),\n",
    "pch=2)\n",
    "points( log(Foliage) ~ log(DBH), data=subset(lime, Origin==\"Planted\"),\n",
    "pch=3)"
   ]
  },
  {
   "cell_type": "code",
   "execution_count": 5,
   "metadata": {},
   "outputs": [],
   "source": [
    "lime.log <- glm( Foliage ~ log(DBH), family=Gamma(link=\"log\"),\n",
    "data=lime)"
   ]
  },
  {
   "cell_type": "code",
   "execution_count": 6,
   "metadata": {},
   "outputs": [
    {
     "data": {
      "text/html": [
       "<table>\n",
       "<thead><tr><th></th><th scope=col>Estimate</th><th scope=col>Std. Error</th><th scope=col>t value</th><th scope=col>Pr(&gt;|t|)</th></tr></thead>\n",
       "<tbody>\n",
       "\t<tr><th scope=row>(Intercept)</th><td>-4.707996   </td><td>0.18444088  </td><td>-25.52577   </td><td>1.164789e-84</td></tr>\n",
       "\t<tr><th scope=row>log(DBH)</th><td> 1.842207   </td><td>0.06796062  </td><td> 27.10698   </td><td>4.190664e-91</td></tr>\n",
       "</tbody>\n",
       "</table>\n"
      ],
      "text/latex": [
       "\\begin{tabular}{r|llll}\n",
       "  & Estimate & Std. Error & t value & Pr(>\\textbar{}t\\textbar{})\\\\\n",
       "\\hline\n",
       "\t(Intercept) & -4.707996    & 0.18444088   & -25.52577    & 1.164789e-84\\\\\n",
       "\tlog(DBH) &  1.842207    & 0.06796062   &  27.10698    & 4.190664e-91\\\\\n",
       "\\end{tabular}\n"
      ],
      "text/markdown": [
       "\n",
       "| <!--/--> | Estimate | Std. Error | t value | Pr(>|t|) |\n",
       "|---|---|---|---|---|\n",
       "| (Intercept) | -4.707996    | 0.18444088   | -25.52577    | 1.164789e-84 |\n",
       "| log(DBH) |  1.842207    | 0.06796062   |  27.10698    | 4.190664e-91 |\n",
       "\n"
      ],
      "text/plain": [
       "            Estimate  Std. Error t value   Pr(>|t|)    \n",
       "(Intercept) -4.707996 0.18444088 -25.52577 1.164789e-84\n",
       "log(DBH)     1.842207 0.06796062  27.10698 4.190664e-91"
      ]
     },
     "metadata": {},
     "output_type": "display_data"
    }
   ],
   "source": [
    "coef(summary(lime.log))"
   ]
  },
  {
   "cell_type": "code",
   "execution_count": 7,
   "metadata": {},
   "outputs": [
    {
     "data": {
      "text/html": [
       "-2.32182884851547"
      ],
      "text/latex": [
       "-2.32182884851547"
      ],
      "text/markdown": [
       "-2.32182884851547"
      ],
      "text/plain": [
       "[1] -2.321829"
      ]
     },
     "metadata": {},
     "output_type": "display_data"
    },
    {
     "data": {
      "text/html": [
       "0.0207659832178546"
      ],
      "text/latex": [
       "0.0207659832178546"
      ],
      "text/markdown": [
       "0.0207659832178546"
      ],
      "text/plain": [
       "[1] 0.02076598"
      ]
     },
     "metadata": {},
     "output_type": "display_data"
    }
   ],
   "source": [
    "t.stat = (coef(summary(lime.log))[2, \"Estimate\"] - 2)/ coef(summary(lime.log))[2, \"Std. Error\"]\n",
    "t.stat\n",
    "2*pt(abs(t.stat), df=df.residual(lime.log), lower.tail = FALSE)"
   ]
  },
  {
   "cell_type": "code",
   "execution_count": 8,
   "metadata": {},
   "outputs": [],
   "source": [
    "mu.2 <- exp(coef(summary(lime.log))[1, \"Estimate\"] + 2 * log(lime$DBH))\n",
    "#mu.2"
   ]
  },
  {
   "cell_type": "code",
   "execution_count": 9,
   "metadata": {},
   "outputs": [
    {
     "data": {
      "text/html": [
       "227.225003485987"
      ],
      "text/latex": [
       "227.225003485987"
      ],
      "text/markdown": [
       "227.225003485987"
      ],
      "text/plain": [
       "[1] 227.225"
      ]
     },
     "metadata": {},
     "output_type": "display_data"
    }
   ],
   "source": [
    "D = sum(2*(-log(lime$Foliage/mu.2) + (lime$Foliage - mu.2)/mu.2))\n",
    "D"
   ]
  },
  {
   "cell_type": "code",
   "execution_count": 10,
   "metadata": {},
   "outputs": [
    {
     "data": {
      "text/html": [
       "-108.177981241998"
      ],
      "text/latex": [
       "-108.177981241998"
      ],
      "text/markdown": [
       "-108.177981241998"
      ],
      "text/plain": [
       "[1] -108.178"
      ]
     },
     "metadata": {},
     "output_type": "display_data"
    },
    {
     "data": {
      "text/html": [
       "2.45694052126187e-25"
      ],
      "text/latex": [
       "2.45694052126187e-25"
      ],
      "text/markdown": [
       "2.45694052126187e-25"
      ],
      "text/plain": [
       "[1] 2.456941e-25"
      ]
     },
     "metadata": {},
     "output_type": "display_data"
    }
   ],
   "source": [
    "L = (deviance(lime.log) - D)/summary(lime.log)$dispersion\n",
    "L; pchisq(abs(L), df=1, lower.tail = FALSE)"
   ]
  },
  {
   "cell_type": "code",
   "execution_count": 11,
   "metadata": {},
   "outputs": [
    {
     "data": {
      "text/html": [
       "293.665193511041"
      ],
      "text/latex": [
       "293.665193511041"
      ],
      "text/markdown": [
       "293.665193511041"
      ],
      "text/plain": [
       "[1] 293.6652"
      ]
     },
     "metadata": {},
     "output_type": "display_data"
    }
   ],
   "source": [
    "deviance(lime.log)/summary(lime.log)$dispersion"
   ]
  },
  {
   "cell_type": "code",
   "execution_count": 12,
   "metadata": {},
   "outputs": [
    {
     "data": {
      "text/html": [
       "383"
      ],
      "text/latex": [
       "383"
      ],
      "text/markdown": [
       "383"
      ],
      "text/plain": [
       "[1] 383"
      ]
     },
     "metadata": {},
     "output_type": "display_data"
    }
   ],
   "source": [
    "df.residual(lime.log)"
   ]
  }
 ],
 "metadata": {
  "kernelspec": {
   "display_name": "R",
   "language": "R",
   "name": "ir"
  },
  "language_info": {
   "codemirror_mode": "r",
   "file_extension": ".r",
   "mimetype": "text/x-r-source",
   "name": "R",
   "pygments_lexer": "r",
   "version": "3.6.1"
  },
  "orig_nbformat": 4
 },
 "nbformat": 4,
 "nbformat_minor": 2
}
