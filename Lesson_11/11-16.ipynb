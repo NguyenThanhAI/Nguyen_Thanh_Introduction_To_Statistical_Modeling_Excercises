{
 "cells": [
  {
   "cell_type": "code",
   "execution_count": 1,
   "metadata": {},
   "outputs": [
    {
     "name": "stderr",
     "output_type": "stream",
     "text": [
      "Warning message:\n",
      "\"package 'statmod' was built under R version 3.6.3\""
     ]
    }
   ],
   "source": [
    "library(GLMsData)\n",
    "library(statmod)\n",
    "library(MASS)\n",
    "library(splines)"
   ]
  },
  {
   "cell_type": "code",
   "execution_count": 2,
   "metadata": {},
   "outputs": [],
   "source": [
    "data(mandible)"
   ]
  },
  {
   "cell_type": "code",
   "execution_count": 3,
   "metadata": {},
   "outputs": [
    {
     "name": "stdout",
     "output_type": "stream",
     "text": [
      "'data.frame':\t167 obs. of  2 variables:\n",
      " $ Age   : num  12.3 12.4 12.7 12.7 12.9 13.1 13.3 13.3 13.6 14 ...\n",
      " $ Length: int  8 9 11 11 10 11 9 11 12 11 ...\n"
     ]
    }
   ],
   "source": [
    "str(mandible)"
   ]
  },
  {
   "cell_type": "code",
   "execution_count": 4,
   "metadata": {},
   "outputs": [
    {
     "data": {
      "image/png": "[encoded data removed]",
      "text/plain": [
       "plot without title"
      ]
     },
     "metadata": {},
     "output_type": "display_data"
    }
   ],
   "source": [
    "plot(Length ~ Age, data=mandible, pch=ifelse(Age <= 28, 1, 19))\n",
    "legend(\"topleft\", pch=c(1, 19), legend=c(\"Young\", \"Old\"))"
   ]
  },
  {
   "cell_type": "code",
   "execution_count": 5,
   "metadata": {},
   "outputs": [],
   "source": [
    "glm.1 <- glm(Length ~ Age, data=mandible, subset=(Age <= 28), family = Gamma(link=\"log\"))"
   ]
  },
  {
   "cell_type": "code",
   "execution_count": 6,
   "metadata": {},
   "outputs": [
    {
     "data": {
      "text/html": [
       "<table>\n",
       "<thead><tr><th></th><th scope=col>Estimate</th><th scope=col>Std. Error</th><th scope=col>t value</th><th scope=col>Pr(&gt;|t|)</th></tr></thead>\n",
       "<tbody>\n",
       "\t<tr><th scope=row>(Intercept)</th><td>1.48098241  </td><td>0.049397008 </td><td>29.98122    </td><td>1.238941e-66</td></tr>\n",
       "\t<tr><th scope=row>Age</th><td>0.08138094  </td><td>0.002413844 </td><td>33.71425    </td><td>1.586416e-73</td></tr>\n",
       "</tbody>\n",
       "</table>\n"
      ],
      "text/latex": [
       "\\begin{tabular}{r|llll}\n",
       "  & Estimate & Std. Error & t value & Pr(>\\textbar{}t\\textbar{})\\\\\n",
       "\\hline\n",
       "\t(Intercept) & 1.48098241   & 0.049397008  & 29.98122     & 1.238941e-66\\\\\n",
       "\tAge & 0.08138094   & 0.002413844  & 33.71425     & 1.586416e-73\\\\\n",
       "\\end{tabular}\n"
      ],
      "text/markdown": [
       "\n",
       "| <!--/--> | Estimate | Std. Error | t value | Pr(>|t|) |\n",
       "|---|---|---|---|---|\n",
       "| (Intercept) | 1.48098241   | 0.049397008  | 29.98122     | 1.238941e-66 |\n",
       "| Age | 0.08138094   | 0.002413844  | 33.71425     | 1.586416e-73 |\n",
       "\n"
      ],
      "text/plain": [
       "            Estimate   Std. Error  t value  Pr(>|t|)    \n",
       "(Intercept) 1.48098241 0.049397008 29.98122 1.238941e-66\n",
       "Age         0.08138094 0.002413844 33.71425 1.586416e-73"
      ]
     },
     "metadata": {},
     "output_type": "display_data"
    }
   ],
   "source": [
    "coef(summary(glm.1))"
   ]
  },
  {
   "cell_type": "code",
   "execution_count": 7,
   "metadata": {},
   "outputs": [],
   "source": [
    "glm.2 <- glm(Length ~ Age, data=mandible, subset=(Age <= 28), family = Gamma(link=\"inverse\"))"
   ]
  },
  {
   "cell_type": "code",
   "execution_count": 8,
   "metadata": {},
   "outputs": [
    {
     "data": {
      "text/html": [
       "<table>\n",
       "<thead><tr><th></th><th scope=col>Estimate</th><th scope=col>Std. Error</th><th scope=col>t value</th><th scope=col>Pr(&gt;|t|)</th></tr></thead>\n",
       "<tbody>\n",
       "\t<tr><th scope=row>(Intercept)</th><td> 0.108729857</td><td>0.0028044296</td><td> 38.77076   </td><td>5.470617e-82</td></tr>\n",
       "\t<tr><th scope=row>Age</th><td>-0.003125698</td><td>0.0001230996</td><td>-25.39161   </td><td>2.771486e-57</td></tr>\n",
       "</tbody>\n",
       "</table>\n"
      ],
      "text/latex": [
       "\\begin{tabular}{r|llll}\n",
       "  & Estimate & Std. Error & t value & Pr(>\\textbar{}t\\textbar{})\\\\\n",
       "\\hline\n",
       "\t(Intercept) &  0.108729857 & 0.0028044296 &  38.77076    & 5.470617e-82\\\\\n",
       "\tAge & -0.003125698 & 0.0001230996 & -25.39161    & 2.771486e-57\\\\\n",
       "\\end{tabular}\n"
      ],
      "text/markdown": [
       "\n",
       "| <!--/--> | Estimate | Std. Error | t value | Pr(>|t|) |\n",
       "|---|---|---|---|---|\n",
       "| (Intercept) |  0.108729857 | 0.0028044296 |  38.77076    | 5.470617e-82 |\n",
       "| Age | -0.003125698 | 0.0001230996 | -25.39161    | 2.771486e-57 |\n",
       "\n"
      ],
      "text/plain": [
       "            Estimate     Std. Error   t value   Pr(>|t|)    \n",
       "(Intercept)  0.108729857 0.0028044296  38.77076 5.470617e-82\n",
       "Age         -0.003125698 0.0001230996 -25.39161 2.771486e-57"
      ]
     },
     "metadata": {},
     "output_type": "display_data"
    }
   ],
   "source": [
    "coef(summary(glm.2))"
   ]
  },
  {
   "cell_type": "code",
   "execution_count": 9,
   "metadata": {},
   "outputs": [],
   "source": [
    "glm.3 <- glm(Length ~ poly(Age, 2), data=mandible, subset=(Age <= 28), family = Gamma(link=\"inverse\"))"
   ]
  },
  {
   "cell_type": "code",
   "execution_count": 10,
   "metadata": {},
   "outputs": [
    {
     "data": {
      "text/html": [
       "<table>\n",
       "<thead><tr><th></th><th scope=col>Estimate</th><th scope=col>Std. Error</th><th scope=col>t value</th><th scope=col>Pr(&gt;|t|)</th></tr></thead>\n",
       "<tbody>\n",
       "\t<tr><th scope=row>(Intercept)</th><td> 0.04630776  </td><td>0.0004406073 </td><td>105.09984    </td><td>5.526319e-146</td></tr>\n",
       "\t<tr><th scope=row>poly(Age, 2)1</th><td>-0.18028574  </td><td>0.0059705790 </td><td>-30.19569    </td><td> 8.215149e-67</td></tr>\n",
       "\t<tr><th scope=row>poly(Age, 2)2</th><td> 0.10123865  </td><td>0.0084403001 </td><td> 11.99467    </td><td> 7.285760e-24</td></tr>\n",
       "</tbody>\n",
       "</table>\n"
      ],
      "text/latex": [
       "\\begin{tabular}{r|llll}\n",
       "  & Estimate & Std. Error & t value & Pr(>\\textbar{}t\\textbar{})\\\\\n",
       "\\hline\n",
       "\t(Intercept) &  0.04630776   & 0.0004406073  & 105.09984     & 5.526319e-146\\\\\n",
       "\tpoly(Age, 2)1 & -0.18028574   & 0.0059705790  & -30.19569     &  8.215149e-67\\\\\n",
       "\tpoly(Age, 2)2 &  0.10123865   & 0.0084403001  &  11.99467     &  7.285760e-24\\\\\n",
       "\\end{tabular}\n"
      ],
      "text/markdown": [
       "\n",
       "| <!--/--> | Estimate | Std. Error | t value | Pr(>|t|) |\n",
       "|---|---|---|---|---|\n",
       "| (Intercept) |  0.04630776   | 0.0004406073  | 105.09984     | 5.526319e-146 |\n",
       "| poly(Age, 2)1 | -0.18028574   | 0.0059705790  | -30.19569     |  8.215149e-67 |\n",
       "| poly(Age, 2)2 |  0.10123865   | 0.0084403001  |  11.99467     |  7.285760e-24 |\n",
       "\n"
      ],
      "text/plain": [
       "              Estimate    Std. Error   t value   Pr(>|t|)     \n",
       "(Intercept)    0.04630776 0.0004406073 105.09984 5.526319e-146\n",
       "poly(Age, 2)1 -0.18028574 0.0059705790 -30.19569  8.215149e-67\n",
       "poly(Age, 2)2  0.10123865 0.0084403001  11.99467  7.285760e-24"
      ]
     },
     "metadata": {},
     "output_type": "display_data"
    }
   ],
   "source": [
    "coef(summary(glm.3))"
   ]
  },
  {
   "cell_type": "code",
   "execution_count": 11,
   "metadata": {},
   "outputs": [
    {
     "data": {
      "text/html": [
       "<table>\n",
       "<thead><tr><th></th><th scope=col>Df</th><th scope=col>Deviance</th><th scope=col>Resid. Df</th><th scope=col>Resid. Dev</th><th scope=col>F</th><th scope=col>Pr(&gt;F)</th></tr></thead>\n",
       "<tbody>\n",
       "\t<tr><th scope=row>NULL</th><td>NA          </td><td>      NA    </td><td>157         </td><td>17.482623   </td><td>     NA     </td><td>          NA</td></tr>\n",
       "\t<tr><th scope=row>poly(Age, 2)</th><td> 2          </td><td>15.64871    </td><td>155         </td><td> 1.833915   </td><td>660.541     </td><td>1.395218e-76</td></tr>\n",
       "</tbody>\n",
       "</table>\n"
      ],
      "text/latex": [
       "\\begin{tabular}{r|llllll}\n",
       "  & Df & Deviance & Resid. Df & Resid. Dev & F & Pr(>F)\\\\\n",
       "\\hline\n",
       "\tNULL & NA           &       NA     & 157          & 17.482623    &      NA      &           NA\\\\\n",
       "\tpoly(Age, 2) &  2           & 15.64871     & 155          &  1.833915    & 660.541      & 1.395218e-76\\\\\n",
       "\\end{tabular}\n"
      ],
      "text/markdown": [
       "\n",
       "| <!--/--> | Df | Deviance | Resid. Df | Resid. Dev | F | Pr(>F) |\n",
       "|---|---|---|---|---|---|---|\n",
       "| NULL | NA           |       NA     | 157          | 17.482623    |      NA      |           NA |\n",
       "| poly(Age, 2) |  2           | 15.64871     | 155          |  1.833915    | 660.541      | 1.395218e-76 |\n",
       "\n"
      ],
      "text/plain": [
       "             Df Deviance Resid. Df Resid. Dev F       Pr(>F)      \n",
       "NULL         NA       NA 157       17.482623       NA           NA\n",
       "poly(Age, 2)  2 15.64871 155        1.833915  660.541 1.395218e-76"
      ]
     },
     "metadata": {},
     "output_type": "display_data"
    }
   ],
   "source": [
    "anova(glm.3, test=\"F\")"
   ]
  },
  {
   "cell_type": "code",
   "execution_count": 29,
   "metadata": {},
   "outputs": [
    {
     "data": {
      "text/html": [
       "1"
      ],
      "text/latex": [
       "1"
      ],
      "text/markdown": [
       "1"
      ],
      "text/plain": [
       "[1] 1"
      ]
     },
     "metadata": {},
     "output_type": "display_data"
    },
    {
     "data": {
      "text/html": [
       "1"
      ],
      "text/latex": [
       "1"
      ],
      "text/markdown": [
       "1"
      ],
      "text/plain": [
       "[1] 1"
      ]
     },
     "metadata": {},
     "output_type": "display_data"
    },
    {
     "data": {
      "text/html": [
       "0.0118317126156909"
      ],
      "text/latex": [
       "0.0118317126156909"
      ],
      "text/markdown": [
       "0.0118317126156909"
      ],
      "text/plain": [
       "[1] 0.01183171"
      ]
     },
     "metadata": {},
     "output_type": "display_data"
    },
    {
     "data": {
      "text/html": [
       "0.0118453710349828"
      ],
      "text/latex": [
       "0.0118453710349828"
      ],
      "text/markdown": [
       "0.0118453710349828"
      ],
      "text/plain": [
       "[1] 0.01184537"
      ]
     },
     "metadata": {},
     "output_type": "display_data"
    }
   ],
   "source": [
    "gof.dev <- deviance(glm.3)\n",
    "gof.pearson <- sum(glm.3$weights * glm.3$residuals^2)\n",
    "\n",
    "pchisq(gof.dev, df=df.residual(glm.3), lower.tail = FALSE)\n",
    "pchisq(gof.pearson, df=df.residual(glm.3), lower.tail = FALSE)\n",
    "\n",
    "gof.dev / df.residual(glm.3)\n",
    "gof.pearson / df.residual(glm.3)"
   ]
  },
  {
   "cell_type": "code",
   "execution_count": 16,
   "metadata": {},
   "outputs": [
    {
     "data": {
      "text/plain": [
       "\n",
       "\tShapiro-Wilk normality test\n",
       "\n",
       "data:  qr3\n",
       "W = 0.9954, p-value = 0.9067\n"
      ]
     },
     "metadata": {},
     "output_type": "display_data"
    },
    {
     "data": {
      "image/png": "[encoded data removed]",
      "text/plain": [
       "Plot with title \"Normal Q-Q Plot\""
      ]
     },
     "metadata": {},
     "output_type": "display_data"
    }
   ],
   "source": [
    "par(mfrow=c(2, 3))\n",
    "\n",
    "scatter.smooth(rstandard(glm.3) ~ log(fitted(glm.3)))\n",
    "z <- glm.3$linear.predictor + resid(glm.3, type=\"working\")\n",
    "scatter.smooth(z ~ glm.3$linear.predictor)\n",
    "termplot(glm.3, partial.resid = TRUE, las=1)\n",
    "plot(cooks.distance(glm.3), type=\"h\")\n",
    "qqnorm(qr3 <- qresid(glm.3))\n",
    "qqline(qr3)\n",
    "shapiro.test(qr3)"
   ]
  },
  {
   "cell_type": "code",
   "execution_count": 25,
   "metadata": {},
   "outputs": [
    {
     "data": {
      "text/html": [
       "<dl class=dl-horizontal>\n",
       "\t<dt>1</dt>\n",
       "\t\t<dd>4.14170415535209</dd>\n",
       "\t<dt>2</dt>\n",
       "\t\t<dd>4.22002033869951</dd>\n",
       "\t<dt>3</dt>\n",
       "\t\t<dd>4.30047009406404</dd>\n",
       "\t<dt>4</dt>\n",
       "\t\t<dd>4.38312715993765</dd>\n",
       "\t<dt>5</dt>\n",
       "\t\t<dd>4.46806825329773</dd>\n",
       "\t<dt>6</dt>\n",
       "\t\t<dd>4.55537319983789</dd>\n",
       "\t<dt>7</dt>\n",
       "\t\t<dd>4.64512506966157</dd>\n",
       "\t<dt>8</dt>\n",
       "\t\t<dd>4.73741031857805</dd>\n",
       "\t<dt>9</dt>\n",
       "\t\t<dd>4.83231893512751</dd>\n",
       "\t<dt>10</dt>\n",
       "\t\t<dd>4.92994459344532</dd>\n",
       "\t<dt>11</dt>\n",
       "\t\t<dd>5.03038481205481</dd>\n",
       "\t<dt>12</dt>\n",
       "\t\t<dd>5.13374111865264</dd>\n",
       "\t<dt>13</dt>\n",
       "\t\t<dd>5.24011922091957</dd>\n",
       "\t<dt>14</dt>\n",
       "\t\t<dd>5.34962918335212</dd>\n",
       "\t<dt>15</dt>\n",
       "\t\t<dd>5.46238561006578</dd>\n",
       "\t<dt>16</dt>\n",
       "\t\t<dd>5.5785078334668</dd>\n",
       "\t<dt>17</dt>\n",
       "\t\t<dd>5.6981201086266</dd>\n",
       "\t<dt>18</dt>\n",
       "\t\t<dd>5.82135181311825</dd>\n",
       "\t<dt>19</dt>\n",
       "\t\t<dd>5.9483376519869</dd>\n",
       "\t<dt>20</dt>\n",
       "\t\t<dd>6.07921786742401</dd>\n",
       "\t<dt>21</dt>\n",
       "\t\t<dd>6.21413845259591</dd>\n",
       "\t<dt>22</dt>\n",
       "\t\t<dd>6.35325136893895</dd>\n",
       "\t<dt>23</dt>\n",
       "\t\t<dd>6.49671476607292</dd>\n",
       "\t<dt>24</dt>\n",
       "\t\t<dd>6.64469320329905</dd>\n",
       "\t<dt>25</dt>\n",
       "\t\t<dd>6.79735787143507</dd>\n",
       "\t<dt>26</dt>\n",
       "\t\t<dd>6.95488681349379</dd>\n",
       "\t<dt>27</dt>\n",
       "\t\t<dd>7.11746514242894</dd>\n",
       "\t<dt>28</dt>\n",
       "\t\t<dd>7.28528525384855</dd>\n",
       "\t<dt>29</dt>\n",
       "\t\t<dd>7.45854703122571</dd>\n",
       "\t<dt>30</dt>\n",
       "\t\t<dd>7.63745804071414</dd>\n",
       "\t<dt>31</dt>\n",
       "\t\t<dd>7.82223371219486</dd>\n",
       "\t<dt>32</dt>\n",
       "\t\t<dd>8.01309750263315</dd>\n",
       "\t<dt>33</dt>\n",
       "\t\t<dd>8.21028103720482</dd>\n",
       "\t<dt>34</dt>\n",
       "\t\t<dd>8.41402422294866</dd>\n",
       "\t<dt>35</dt>\n",
       "\t\t<dd>8.62457532890924</dd>\n",
       "\t<dt>36</dt>\n",
       "\t\t<dd>8.84219102584138</dd>\n",
       "\t<dt>37</dt>\n",
       "\t\t<dd>9.06713637754487</dd>\n",
       "\t<dt>38</dt>\n",
       "\t\t<dd>9.29968477477416</dd>\n",
       "\t<dt>39</dt>\n",
       "\t\t<dd>9.5401178014138</dd>\n",
       "\t<dt>40</dt>\n",
       "\t\t<dd>9.78872502121389</dd>\n",
       "\t<dt>41</dt>\n",
       "\t\t<dd>10.0458036718327</dd>\n",
       "\t<dt>42</dt>\n",
       "\t\t<dd>10.311658251225</dd>\n",
       "\t<dt>43</dt>\n",
       "\t\t<dd>10.58659997954</dd>\n",
       "\t<dt>44</dt>\n",
       "\t\t<dd>10.8709461176392</dd>\n",
       "\t<dt>45</dt>\n",
       "\t\t<dd>11.1650191211261</dd>\n",
       "\t<dt>46</dt>\n",
       "\t\t<dd>11.4691456063758</dd>\n",
       "\t<dt>47</dt>\n",
       "\t\t<dd>11.7836551024986</dd>\n",
       "\t<dt>48</dt>\n",
       "\t\t<dd>12.1088785604622</dd>\n",
       "\t<dt>49</dt>\n",
       "\t\t<dd>12.4451465877777</dd>\n",
       "\t<dt>50</dt>\n",
       "\t\t<dd>12.7927873742558</dd>\n",
       "\t<dt>51</dt>\n",
       "\t\t<dd>13.152124271424</dd>\n",
       "\t<dt>52</dt>\n",
       "\t\t<dd>13.5234729853473</dd>\n",
       "\t<dt>53</dt>\n",
       "\t\t<dd>13.9071383399104</dd>\n",
       "\t<dt>54</dt>\n",
       "\t\t<dd>14.3034105652395</dd>\n",
       "\t<dt>55</dt>\n",
       "\t\t<dd>14.7125610640432</dd>\n",
       "\t<dt>56</dt>\n",
       "\t\t<dd>15.1348376074363</dd>\n",
       "\t<dt>57</dt>\n",
       "\t\t<dd>15.5704589115527</dd>\n",
       "\t<dt>58</dt>\n",
       "\t\t<dd>16.0196085472637</dd>\n",
       "\t<dt>59</dt>\n",
       "\t\t<dd>16.4824281379748</dd>\n",
       "\t<dt>60</dt>\n",
       "\t\t<dd>16.959009805213</dd>\n",
       "\t<dt>61</dt>\n",
       "\t\t<dd>17.4493878290445</dd>\n",
       "\t<dt>62</dt>\n",
       "\t\t<dd>17.9535295008449</dd>\n",
       "\t<dt>63</dt>\n",
       "\t\t<dd>18.4713251601867</dd>\n",
       "\t<dt>64</dt>\n",
       "\t\t<dd>19.002577426288</dd>\n",
       "\t<dt>65</dt>\n",
       "\t\t<dd>19.5469896582257</dd>\n",
       "\t<dt>66</dt>\n",
       "\t\t<dd>20.1041537076181</dd>\n",
       "\t<dt>67</dt>\n",
       "\t\t<dd>20.6735370632813</dd>\n",
       "\t<dt>68</dt>\n",
       "\t\t<dd>21.2544695298848</dd>\n",
       "\t<dt>69</dt>\n",
       "\t\t<dd>21.8461296320594</dd>\n",
       "\t<dt>70</dt>\n",
       "\t\t<dd>22.4475309915955</dd>\n",
       "\t<dt>71</dt>\n",
       "\t\t<dd>23.0575089876813</dd>\n",
       "\t<dt>72</dt>\n",
       "\t\t<dd>23.6747080773637</dd>\n",
       "\t<dt>73</dt>\n",
       "\t\t<dd>24.2975702235806</dd>\n",
       "\t<dt>74</dt>\n",
       "\t\t<dd>24.9243249483795</dd>\n",
       "\t<dt>75</dt>\n",
       "\t\t<dd>25.5529815954546</dd>\n",
       "\t<dt>76</dt>\n",
       "\t\t<dd>26.1813244440241</dd>\n",
       "\t<dt>77</dt>\n",
       "\t\t<dd>26.8069113594317</dd>\n",
       "\t<dt>78</dt>\n",
       "\t\t<dd>27.4270766879044</dd>\n",
       "\t<dt>79</dt>\n",
       "\t\t<dd>28.0389390962632</dd>\n",
       "\t<dt>80</dt>\n",
       "\t\t<dd>28.6394150145667</dd>\n",
       "\t<dt>81</dt>\n",
       "\t\t<dd>29.2252382536712</dd>\n",
       "\t<dt>82</dt>\n",
       "\t\t<dd>29.7929862348948</dd>\n",
       "\t<dt>83</dt>\n",
       "\t\t<dd>30.3391130820295</dd>\n",
       "\t<dt>84</dt>\n",
       "\t\t<dd>30.8599895868791</dd>\n",
       "\t<dt>85</dt>\n",
       "\t\t<dd>31.3519497726091</dd>\n",
       "\t<dt>86</dt>\n",
       "\t\t<dd>31.8113434538653</dd>\n",
       "\t<dt>87</dt>\n",
       "\t\t<dd>32.2345938436346</dd>\n",
       "\t<dt>88</dt>\n",
       "\t\t<dd>32.6182589042421</dd>\n",
       "\t<dt>89</dt>\n",
       "\t\t<dd>32.9590948080864</dd>\n",
       "\t<dt>90</dt>\n",
       "\t\t<dd>33.2541195898236</dd>\n",
       "\t<dt>91</dt>\n",
       "\t\t<dd>33.5006748632201</dd>\n",
       "\t<dt>92</dt>\n",
       "\t\t<dd>33.6964833677996</dd>\n",
       "\t<dt>93</dt>\n",
       "\t\t<dd>33.8397001221831</dd>\n",
       "\t<dt>94</dt>\n",
       "\t\t<dd>33.9289551037202</dd>\n",
       "\t<dt>95</dt>\n",
       "\t\t<dd>33.9633856481024</dd>\n",
       "\t<dt>96</dt>\n",
       "\t\t<dd>33.9426571568943</dd>\n",
       "\t<dt>97</dt>\n",
       "\t\t<dd>33.8669711926657</dd>\n",
       "\t<dt>98</dt>\n",
       "\t\t<dd>33.7370605982393</dd>\n",
       "\t<dt>99</dt>\n",
       "\t\t<dd>33.5541718594562</dd>\n",
       "\t<dt>100</dt>\n",
       "\t\t<dd>33.3200354979955</dd>\n",
       "</dl>\n"
      ],
      "text/latex": [
       "\\begin{description*}\n",
       "\\item[1] 4.14170415535209\n",
       "\\item[2] 4.22002033869951\n",
       "\\item[3] 4.30047009406404\n",
       "\\item[4] 4.38312715993765\n",
       "\\item[5] 4.46806825329773\n",
       "\\item[6] 4.55537319983789\n",
       "\\item[7] 4.64512506966157\n",
       "\\item[8] 4.73741031857805\n",
       "\\item[9] 4.83231893512751\n",
       "\\item[10] 4.92994459344532\n",
       "\\item[11] 5.03038481205481\n",
       "\\item[12] 5.13374111865264\n",
       "\\item[13] 5.24011922091957\n",
       "\\item[14] 5.34962918335212\n",
       "\\item[15] 5.46238561006578\n",
       "\\item[16] 5.5785078334668\n",
       "\\item[17] 5.6981201086266\n",
       "\\item[18] 5.82135181311825\n",
       "\\item[19] 5.9483376519869\n",
       "\\item[20] 6.07921786742401\n",
       "\\item[21] 6.21413845259591\n",
       "\\item[22] 6.35325136893895\n",
       "\\item[23] 6.49671476607292\n",
       "\\item[24] 6.64469320329905\n",
       "\\item[25] 6.79735787143507\n",
       "\\item[26] 6.95488681349379\n",
       "\\item[27] 7.11746514242894\n",
       "\\item[28] 7.28528525384855\n",
       "\\item[29] 7.45854703122571\n",
       "\\item[30] 7.63745804071414\n",
       "\\item[31] 7.82223371219486\n",
       "\\item[32] 8.01309750263315\n",
       "\\item[33] 8.21028103720482\n",
       "\\item[34] 8.41402422294866\n",
       "\\item[35] 8.62457532890924\n",
       "\\item[36] 8.84219102584138\n",
       "\\item[37] 9.06713637754487\n",
       "\\item[38] 9.29968477477416\n",
       "\\item[39] 9.5401178014138\n",
       "\\item[40] 9.78872502121389\n",
       "\\item[41] 10.0458036718327\n",
       "\\item[42] 10.311658251225\n",
       "\\item[43] 10.58659997954\n",
       "\\item[44] 10.8709461176392\n",
       "\\item[45] 11.1650191211261\n",
       "\\item[46] 11.4691456063758\n",
       "\\item[47] 11.7836551024986\n",
       "\\item[48] 12.1088785604622\n",
       "\\item[49] 12.4451465877777\n",
       "\\item[50] 12.7927873742558\n",
       "\\item[51] 13.152124271424\n",
       "\\item[52] 13.5234729853473\n",
       "\\item[53] 13.9071383399104\n",
       "\\item[54] 14.3034105652395\n",
       "\\item[55] 14.7125610640432\n",
       "\\item[56] 15.1348376074363\n",
       "\\item[57] 15.5704589115527\n",
       "\\item[58] 16.0196085472637\n",
       "\\item[59] 16.4824281379748\n",
       "\\item[60] 16.959009805213\n",
       "\\item[61] 17.4493878290445\n",
       "\\item[62] 17.9535295008449\n",
       "\\item[63] 18.4713251601867\n",
       "\\item[64] 19.002577426288\n",
       "\\item[65] 19.5469896582257\n",
       "\\item[66] 20.1041537076181\n",
       "\\item[67] 20.6735370632813\n",
       "\\item[68] 21.2544695298848\n",
       "\\item[69] 21.8461296320594\n",
       "\\item[70] 22.4475309915955\n",
       "\\item[71] 23.0575089876813\n",
       "\\item[72] 23.6747080773637\n",
       "\\item[73] 24.2975702235806\n",
       "\\item[74] 24.9243249483795\n",
       "\\item[75] 25.5529815954546\n",
       "\\item[76] 26.1813244440241\n",
       "\\item[77] 26.8069113594317\n",
       "\\item[78] 27.4270766879044\n",
       "\\item[79] 28.0389390962632\n",
       "\\item[80] 28.6394150145667\n",
       "\\item[81] 29.2252382536712\n",
       "\\item[82] 29.7929862348948\n",
       "\\item[83] 30.3391130820295\n",
       "\\item[84] 30.8599895868791\n",
       "\\item[85] 31.3519497726091\n",
       "\\item[86] 31.8113434538653\n",
       "\\item[87] 32.2345938436346\n",
       "\\item[88] 32.6182589042421\n",
       "\\item[89] 32.9590948080864\n",
       "\\item[90] 33.2541195898236\n",
       "\\item[91] 33.5006748632201\n",
       "\\item[92] 33.6964833677996\n",
       "\\item[93] 33.8397001221831\n",
       "\\item[94] 33.9289551037202\n",
       "\\item[95] 33.9633856481024\n",
       "\\item[96] 33.9426571568943\n",
       "\\item[97] 33.8669711926657\n",
       "\\item[98] 33.7370605982393\n",
       "\\item[99] 33.5541718594562\n",
       "\\item[100] 33.3200354979955\n",
       "\\end{description*}\n"
      ],
      "text/markdown": [
       "1\n",
       ":   4.141704155352092\n",
       ":   4.220020338699513\n",
       ":   4.300470094064044\n",
       ":   4.383127159937655\n",
       ":   4.468068253297736\n",
       ":   4.555373199837897\n",
       ":   4.645125069661578\n",
       ":   4.737410318578059\n",
       ":   4.8323189351275110\n",
       ":   4.9299445934453211\n",
       ":   5.0303848120548112\n",
       ":   5.1337411186526413\n",
       ":   5.2401192209195714\n",
       ":   5.3496291833521215\n",
       ":   5.4623856100657816\n",
       ":   5.578507833466817\n",
       ":   5.698120108626618\n",
       ":   5.8213518131182519\n",
       ":   5.948337651986920\n",
       ":   6.0792178674240121\n",
       ":   6.2141384525959122\n",
       ":   6.3532513689389523\n",
       ":   6.4967147660729224\n",
       ":   6.6446932032990525\n",
       ":   6.7973578714350726\n",
       ":   6.9548868134937927\n",
       ":   7.1174651424289428\n",
       ":   7.2852852538485529\n",
       ":   7.4585470312257130\n",
       ":   7.6374580407141431\n",
       ":   7.8222337121948632\n",
       ":   8.0130975026331533\n",
       ":   8.2102810372048234\n",
       ":   8.4140242229486635\n",
       ":   8.6245753289092436\n",
       ":   8.8421910258413837\n",
       ":   9.0671363775448738\n",
       ":   9.2996847747741639\n",
       ":   9.540117801413840\n",
       ":   9.7887250212138941\n",
       ":   10.045803671832742\n",
       ":   10.31165825122543\n",
       ":   10.5865999795444\n",
       ":   10.870946117639245\n",
       ":   11.165019121126146\n",
       ":   11.469145606375847\n",
       ":   11.783655102498648\n",
       ":   12.108878560462249\n",
       ":   12.445146587777750\n",
       ":   12.792787374255851\n",
       ":   13.15212427142452\n",
       ":   13.523472985347353\n",
       ":   13.907138339910454\n",
       ":   14.303410565239555\n",
       ":   14.712561064043256\n",
       ":   15.134837607436357\n",
       ":   15.570458911552758\n",
       ":   16.019608547263759\n",
       ":   16.482428137974860\n",
       ":   16.95900980521361\n",
       ":   17.449387829044562\n",
       ":   17.953529500844963\n",
       ":   18.471325160186764\n",
       ":   19.00257742628865\n",
       ":   19.546989658225766\n",
       ":   20.104153707618167\n",
       ":   20.673537063281368\n",
       ":   21.254469529884869\n",
       ":   21.846129632059470\n",
       ":   22.447530991595571\n",
       ":   23.057508987681372\n",
       ":   23.674708077363773\n",
       ":   24.297570223580674\n",
       ":   24.924324948379575\n",
       ":   25.552981595454676\n",
       ":   26.181324444024177\n",
       ":   26.806911359431778\n",
       ":   27.427076687904479\n",
       ":   28.038939096263280\n",
       ":   28.639415014566781\n",
       ":   29.225238253671282\n",
       ":   29.792986234894883\n",
       ":   30.339113082029584\n",
       ":   30.859989586879185\n",
       ":   31.351949772609186\n",
       ":   31.811343453865387\n",
       ":   32.234593843634688\n",
       ":   32.618258904242189\n",
       ":   32.959094808086490\n",
       ":   33.254119589823691\n",
       ":   33.500674863220192\n",
       ":   33.696483367799693\n",
       ":   33.839700122183194\n",
       ":   33.928955103720295\n",
       ":   33.963385648102496\n",
       ":   33.942657156894397\n",
       ":   33.866971192665798\n",
       ":   33.737060598239399\n",
       ":   33.5541718594562100\n",
       ":   33.3200354979955\n",
       "\n"
      ],
      "text/plain": [
       "        1         2         3         4         5         6         7         8 \n",
       " 4.141704  4.220020  4.300470  4.383127  4.468068  4.555373  4.645125  4.737410 \n",
       "        9        10        11        12        13        14        15        16 \n",
       " 4.832319  4.929945  5.030385  5.133741  5.240119  5.349629  5.462386  5.578508 \n",
       "       17        18        19        20        21        22        23        24 \n",
       " 5.698120  5.821352  5.948338  6.079218  6.214138  6.353251  6.496715  6.644693 \n",
       "       25        26        27        28        29        30        31        32 \n",
       " 6.797358  6.954887  7.117465  7.285285  7.458547  7.637458  7.822234  8.013098 \n",
       "       33        34        35        36        37        38        39        40 \n",
       " 8.210281  8.414024  8.624575  8.842191  9.067136  9.299685  9.540118  9.788725 \n",
       "       41        42        43        44        45        46        47        48 \n",
       "10.045804 10.311658 10.586600 10.870946 11.165019 11.469146 11.783655 12.108879 \n",
       "       49        50        51        52        53        54        55        56 \n",
       "12.445147 12.792787 13.152124 13.523473 13.907138 14.303411 14.712561 15.134838 \n",
       "       57        58        59        60        61        62        63        64 \n",
       "15.570459 16.019609 16.482428 16.959010 17.449388 17.953530 18.471325 19.002577 \n",
       "       65        66        67        68        69        70        71        72 \n",
       "19.546990 20.104154 20.673537 21.254470 21.846130 22.447531 23.057509 23.674708 \n",
       "       73        74        75        76        77        78        79        80 \n",
       "24.297570 24.924325 25.552982 26.181324 26.806911 27.427077 28.038939 28.639415 \n",
       "       81        82        83        84        85        86        87        88 \n",
       "29.225238 29.792986 30.339113 30.859990 31.351950 31.811343 32.234594 32.618259 \n",
       "       89        90        91        92        93        94        95        96 \n",
       "32.959095 33.254120 33.500675 33.696483 33.839700 33.928955 33.963386 33.942657 \n",
       "       97        98        99       100 \n",
       "33.866971 33.737061 33.554172 33.320035 "
      ]
     },
     "metadata": {},
     "output_type": "display_data"
    },
    {
     "data": {
      "image/png": "[encoded data removed]",
      "text/plain": [
       "plot without title"
      ]
     },
     "metadata": {},
     "output_type": "display_data"
    }
   ],
   "source": [
    "newAge <- seq(0, 28, lengt=100)\n",
    "fit <- predict(glm.3, newdata=data.frame(Age = newAge), type=\"response\")\n",
    "plot(Length ~ Age, data=mandible, pch=ifelse(Age <= 28, 1, 19))\n",
    "legend(\"topleft\", pch=c(1, 19), legend=c(\"Young\", \"Old\"))\n",
    "lines(fit ~ newAge)\n",
    "fit"
   ]
  },
  {
   "cell_type": "code",
   "execution_count": 26,
   "metadata": {},
   "outputs": [
    {
     "name": "stderr",
     "output_type": "stream",
     "text": [
      "Waiting for profiling to be done...\n"
     ]
    },
    {
     "data": {
      "text/html": [
       "<table>\n",
       "<thead><tr><th></th><th scope=col>5 %</th><th scope=col>95 %</th></tr></thead>\n",
       "<tbody>\n",
       "\t<tr><th scope=row>(Intercept)</th><td> 0.04558740</td><td> 0.04703689</td></tr>\n",
       "\t<tr><th scope=row>poly(Age, 2)1</th><td>-0.19009649</td><td>-0.17045330</td></tr>\n",
       "\t<tr><th scope=row>poly(Age, 2)2</th><td> 0.08743149</td><td> 0.11519787</td></tr>\n",
       "</tbody>\n",
       "</table>\n"
      ],
      "text/latex": [
       "\\begin{tabular}{r|ll}\n",
       "  & 5 \\% & 95 \\%\\\\\n",
       "\\hline\n",
       "\t(Intercept) &  0.04558740 &  0.04703689\\\\\n",
       "\tpoly(Age, 2)1 & -0.19009649 & -0.17045330\\\\\n",
       "\tpoly(Age, 2)2 &  0.08743149 &  0.11519787\\\\\n",
       "\\end{tabular}\n"
      ],
      "text/markdown": [
       "\n",
       "| <!--/--> | 5 % | 95 % |\n",
       "|---|---|---|\n",
       "| (Intercept) |  0.04558740 |  0.04703689 |\n",
       "| poly(Age, 2)1 | -0.19009649 | -0.17045330 |\n",
       "| poly(Age, 2)2 |  0.08743149 |  0.11519787 |\n",
       "\n"
      ],
      "text/plain": [
       "              5 %         95 %       \n",
       "(Intercept)    0.04558740  0.04703689\n",
       "poly(Age, 2)1 -0.19009649 -0.17045330\n",
       "poly(Age, 2)2  0.08743149  0.11519787"
      ]
     },
     "metadata": {},
     "output_type": "display_data"
    }
   ],
   "source": [
    "confint(glm.3, level=0.9)"
   ]
  }
 ],
 "metadata": {
  "kernelspec": {
   "display_name": "R",
   "language": "R",
   "name": "ir"
  },
  "language_info": {
   "codemirror_mode": "r",
   "file_extension": ".r",
   "mimetype": "text/x-r-source",
   "name": "R",
   "pygments_lexer": "r",
   "version": "3.6.1"
  },
  "orig_nbformat": 4
 },
 "nbformat": 4,
 "nbformat_minor": 2
}
