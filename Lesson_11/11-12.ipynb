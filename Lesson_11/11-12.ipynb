{
 "cells": [
  {
   "cell_type": "code",
   "execution_count": 1,
   "metadata": {},
   "outputs": [
    {
     "name": "stderr",
     "output_type": "stream",
     "text": [
      "Warning message:\n",
      "\"package 'statmod' was built under R version 3.6.3\""
     ]
    }
   ],
   "source": [
    "library(GLMsData)\n",
    "library(statmod)\n",
    "library(MASS)\n",
    "library(splines)"
   ]
  },
  {
   "cell_type": "code",
   "execution_count": 2,
   "metadata": {},
   "outputs": [],
   "source": [
    "data(lactation)"
   ]
  },
  {
   "cell_type": "code",
   "execution_count": 3,
   "metadata": {},
   "outputs": [
    {
     "name": "stdout",
     "output_type": "stream",
     "text": [
      "'data.frame':\t35 obs. of  2 variables:\n",
      " $ Yield: num  0.31 0.39 0.5 0.58 0.59 0.64 0.68 0.66 0.67 0.7 ...\n",
      " $ Week : int  1 2 3 4 5 6 7 8 9 10 ...\n"
     ]
    }
   ],
   "source": [
    "str(lactation)"
   ]
  },
  {
   "cell_type": "code",
   "execution_count": 4,
   "metadata": {},
   "outputs": [
    {
     "data": {
      "image/png": "[encoded data removed]",
      "text/plain": [
       "plot without title"
      ]
     },
     "metadata": {},
     "output_type": "display_data"
    }
   ],
   "source": [
    "plot(Yield ~ Week, data=lactation)"
   ]
  },
  {
   "cell_type": "code",
   "execution_count": 5,
   "metadata": {},
   "outputs": [],
   "source": [
    "glm.1 <- glm(Yield ~  Week + I(1/Week), data=lactation, family = Gamma(link=\"log\"))"
   ]
  },
  {
   "cell_type": "code",
   "execution_count": 6,
   "metadata": {},
   "outputs": [
    {
     "data": {
      "text/html": [
       "<table>\n",
       "<thead><tr><th></th><th scope=col>Estimate</th><th scope=col>Std. Error</th><th scope=col>t value</th><th scope=col>Pr(&gt;|t|)</th></tr></thead>\n",
       "<tbody>\n",
       "\t<tr><th scope=row>(Intercept)</th><td> 0.76924628 </td><td>0.192379828 </td><td>  3.998581  </td><td>3.516335e-04</td></tr>\n",
       "\t<tr><th scope=row>Week</th><td>-0.09023936 </td><td>0.007982168 </td><td>-11.305119  </td><td>1.038176e-12</td></tr>\n",
       "\t<tr><th scope=row>I(1/Week)</th><td>-2.20359562 </td><td>0.449562640 </td><td> -4.901643  </td><td>2.644263e-05</td></tr>\n",
       "</tbody>\n",
       "</table>\n"
      ],
      "text/latex": [
       "\\begin{tabular}{r|llll}\n",
       "  & Estimate & Std. Error & t value & Pr(>\\textbar{}t\\textbar{})\\\\\n",
       "\\hline\n",
       "\t(Intercept) &  0.76924628  & 0.192379828  &   3.998581   & 3.516335e-04\\\\\n",
       "\tWeek & -0.09023936  & 0.007982168  & -11.305119   & 1.038176e-12\\\\\n",
       "\tI(1/Week) & -2.20359562  & 0.449562640  &  -4.901643   & 2.644263e-05\\\\\n",
       "\\end{tabular}\n"
      ],
      "text/markdown": [
       "\n",
       "| <!--/--> | Estimate | Std. Error | t value | Pr(>|t|) |\n",
       "|---|---|---|---|---|\n",
       "| (Intercept) |  0.76924628  | 0.192379828  |   3.998581   | 3.516335e-04 |\n",
       "| Week | -0.09023936  | 0.007982168  | -11.305119   | 1.038176e-12 |\n",
       "| I(1/Week) | -2.20359562  | 0.449562640  |  -4.901643   | 2.644263e-05 |\n",
       "\n"
      ],
      "text/plain": [
       "            Estimate    Std. Error  t value    Pr(>|t|)    \n",
       "(Intercept)  0.76924628 0.192379828   3.998581 3.516335e-04\n",
       "Week        -0.09023936 0.007982168 -11.305119 1.038176e-12\n",
       "I(1/Week)   -2.20359562 0.449562640  -4.901643 2.644263e-05"
      ]
     },
     "metadata": {},
     "output_type": "display_data"
    }
   ],
   "source": [
    "coef(summary(glm.1))"
   ]
  },
  {
   "cell_type": "code",
   "execution_count": 7,
   "metadata": {},
   "outputs": [
    {
     "data": {
      "text/html": [
       "<table>\n",
       "<thead><tr><th></th><th scope=col>Df</th><th scope=col>Deviance</th><th scope=col>Resid. Df</th><th scope=col>Resid. Dev</th><th scope=col>F</th><th scope=col>Pr(&gt;F)</th></tr></thead>\n",
       "<tbody>\n",
       "\t<tr><th scope=row>NULL</th><td>NA          </td><td>       NA   </td><td>34          </td><td>21.679610   </td><td>      NA    </td><td>          NA</td></tr>\n",
       "\t<tr><th scope=row>Week</th><td> 1          </td><td>10.830827   </td><td>33          </td><td>10.848783   </td><td>78.20295    </td><td>4.194486e-10</td></tr>\n",
       "\t<tr><th scope=row>I(1/Week)</th><td> 1          </td><td> 2.908384   </td><td>32          </td><td> 7.940399   </td><td>20.99971    </td><td>6.657046e-05</td></tr>\n",
       "</tbody>\n",
       "</table>\n"
      ],
      "text/latex": [
       "\\begin{tabular}{r|llllll}\n",
       "  & Df & Deviance & Resid. Df & Resid. Dev & F & Pr(>F)\\\\\n",
       "\\hline\n",
       "\tNULL & NA           &        NA    & 34           & 21.679610    &       NA     &           NA\\\\\n",
       "\tWeek &  1           & 10.830827    & 33           & 10.848783    & 78.20295     & 4.194486e-10\\\\\n",
       "\tI(1/Week) &  1           &  2.908384    & 32           &  7.940399    & 20.99971     & 6.657046e-05\\\\\n",
       "\\end{tabular}\n"
      ],
      "text/markdown": [
       "\n",
       "| <!--/--> | Df | Deviance | Resid. Df | Resid. Dev | F | Pr(>F) |\n",
       "|---|---|---|---|---|---|---|\n",
       "| NULL | NA           |        NA    | 34           | 21.679610    |       NA     |           NA |\n",
       "| Week |  1           | 10.830827    | 33           | 10.848783    | 78.20295     | 4.194486e-10 |\n",
       "| I(1/Week) |  1           |  2.908384    | 32           |  7.940399    | 20.99971     | 6.657046e-05 |\n",
       "\n"
      ],
      "text/plain": [
       "          Df Deviance  Resid. Df Resid. Dev F        Pr(>F)      \n",
       "NULL      NA        NA 34        21.679610        NA           NA\n",
       "Week       1 10.830827 33        10.848783  78.20295 4.194486e-10\n",
       "I(1/Week)  1  2.908384 32         7.940399  20.99971 6.657046e-05"
      ]
     },
     "metadata": {},
     "output_type": "display_data"
    }
   ],
   "source": [
    "anova(glm.1, test=\"F\")"
   ]
  },
  {
   "cell_type": "code",
   "execution_count": 9,
   "metadata": {},
   "outputs": [
    {
     "data": {
      "text/html": [
       "0.999995537631459"
      ],
      "text/latex": [
       "0.999995537631459"
      ],
      "text/markdown": [
       "0.999995537631459"
      ],
      "text/plain": [
       "[1] 0.9999955"
      ]
     },
     "metadata": {},
     "output_type": "display_data"
    },
    {
     "data": {
      "text/html": [
       "0.99999999797663"
      ],
      "text/latex": [
       "0.99999999797663"
      ],
      "text/markdown": [
       "0.99999999797663"
      ],
      "text/plain": [
       "[1] 1"
      ]
     },
     "metadata": {},
     "output_type": "display_data"
    },
    {
     "data": {
      "text/html": [
       "0.248137467222389"
      ],
      "text/latex": [
       "0.248137467222389"
      ],
      "text/markdown": [
       "0.248137467222389"
      ],
      "text/plain": [
       "[1] 0.2481375"
      ]
     },
     "metadata": {},
     "output_type": "display_data"
    },
    {
     "data": {
      "text/html": [
       "0.138496402354793"
      ],
      "text/latex": [
       "0.138496402354793"
      ],
      "text/markdown": [
       "0.138496402354793"
      ],
      "text/plain": [
       "[1] 0.1384964"
      ]
     },
     "metadata": {},
     "output_type": "display_data"
    }
   ],
   "source": [
    "gof.dev <- deviance(glm.1)\n",
    "gof.pearson <- sum(glm.1$weights * glm.1$residuals^2)\n",
    "\n",
    "pchisq(gof.dev, df=df.residual(glm.1), lower.tail = FALSE)\n",
    "pchisq(gof.pearson, df=df.residual(glm.1), lower.tail = FALSE)\n",
    "\n",
    "gof.dev / df.residual(glm.1)\n",
    "gof.pearson / df.residual(glm.1)"
   ]
  },
  {
   "cell_type": "code",
   "execution_count": 15,
   "metadata": {},
   "outputs": [
    {
     "data": {
      "text/plain": [
       "\n",
       "\tShapiro-Wilk normality test\n",
       "\n",
       "data:  qr1\n",
       "W = 0.81402, p-value = 3.889e-05\n"
      ]
     },
     "metadata": {},
     "output_type": "display_data"
    },
    {
     "data": {
      "image/png": "[encoded data removed]",
      "text/plain": [
       "Plot with title \"Normal Q-Q Plot\""
      ]
     },
     "metadata": {},
     "output_type": "display_data"
    }
   ],
   "source": [
    "par(mfrow=c(3, 3))\n",
    "\n",
    "scatter.smooth(rstandard(glm.1) ~ log(fitted(glm.1)))\n",
    "scatter.smooth(rstandard(glm.1) ~ lactation$Week)\n",
    "scatter.smooth(rstandard(glm.1) ~ 1/lactation$Week)\n",
    "z <- resid(glm.1, type=\"working\") + glm.1$linear.predictor\n",
    "scatter.smooth(z ~ glm.1$linear.predictor)\n",
    "termplot(glm.1, partial.resid = TRUE, terms=\"Week\")\n",
    "qqnorm(qr1 <- qresid(glm.1))\n",
    "qqline(qr1)\n",
    "plot(cooks.distance(glm.1), type=\"h\")\n",
    "shapiro.test(qr1)"
   ]
  },
  {
   "cell_type": "code",
   "execution_count": 16,
   "metadata": {},
   "outputs": [],
   "source": [
    "glm.2 <- glm(Yield ~ I(log(Week)) + Week, data=lactation, family = Gamma(link=\"log\"))"
   ]
  },
  {
   "cell_type": "code",
   "execution_count": 17,
   "metadata": {},
   "outputs": [
    {
     "data": {
      "text/html": [
       "<table>\n",
       "<thead><tr><th></th><th scope=col>Estimate</th><th scope=col>Std. Error</th><th scope=col>t value</th><th scope=col>Pr(&gt;|t|)</th></tr></thead>\n",
       "<tbody>\n",
       "\t<tr><th scope=row>(Intercept)</th><td>-1.3859636  </td><td>0.24259060  </td><td> -5.713180  </td><td>2.494071e-06</td></tr>\n",
       "\t<tr><th scope=row>I(log(Week))</th><td> 1.1680544  </td><td>0.17048024  </td><td>  6.851553  </td><td>9.458539e-08</td></tr>\n",
       "\t<tr><th scope=row>Week</th><td>-0.1572424  </td><td>0.01435981  </td><td>-10.950175  </td><td>2.350590e-12</td></tr>\n",
       "</tbody>\n",
       "</table>\n"
      ],
      "text/latex": [
       "\\begin{tabular}{r|llll}\n",
       "  & Estimate & Std. Error & t value & Pr(>\\textbar{}t\\textbar{})\\\\\n",
       "\\hline\n",
       "\t(Intercept) & -1.3859636   & 0.24259060   &  -5.713180   & 2.494071e-06\\\\\n",
       "\tI(log(Week)) &  1.1680544   & 0.17048024   &   6.851553   & 9.458539e-08\\\\\n",
       "\tWeek & -0.1572424   & 0.01435981   & -10.950175   & 2.350590e-12\\\\\n",
       "\\end{tabular}\n"
      ],
      "text/markdown": [
       "\n",
       "| <!--/--> | Estimate | Std. Error | t value | Pr(>|t|) |\n",
       "|---|---|---|---|---|\n",
       "| (Intercept) | -1.3859636   | 0.24259060   |  -5.713180   | 2.494071e-06 |\n",
       "| I(log(Week)) |  1.1680544   | 0.17048024   |   6.851553   | 9.458539e-08 |\n",
       "| Week | -0.1572424   | 0.01435981   | -10.950175   | 2.350590e-12 |\n",
       "\n"
      ],
      "text/plain": [
       "             Estimate   Std. Error t value    Pr(>|t|)    \n",
       "(Intercept)  -1.3859636 0.24259060  -5.713180 2.494071e-06\n",
       "I(log(Week))  1.1680544 0.17048024   6.851553 9.458539e-08\n",
       "Week         -0.1572424 0.01435981 -10.950175 2.350590e-12"
      ]
     },
     "metadata": {},
     "output_type": "display_data"
    }
   ],
   "source": [
    "coef(summary(glm.2))"
   ]
  },
  {
   "cell_type": "code",
   "execution_count": 18,
   "metadata": {},
   "outputs": [
    {
     "data": {
      "text/html": [
       "<table>\n",
       "<thead><tr><th></th><th scope=col>Df</th><th scope=col>Deviance</th><th scope=col>Resid. Df</th><th scope=col>Resid. Dev</th><th scope=col>F</th><th scope=col>Pr(&gt;F)</th></tr></thead>\n",
       "<tbody>\n",
       "\t<tr><th scope=row>NULL</th><td>NA          </td><td>       NA   </td><td>34          </td><td>21.679610   </td><td>      NA    </td><td>          NA</td></tr>\n",
       "\t<tr><th scope=row>I(log(Week))</th><td> 1          </td><td> 4.606244   </td><td>33          </td><td>17.073366   </td><td>39.27394    </td><td>5.023592e-07</td></tr>\n",
       "\t<tr><th scope=row>Week</th><td> 1          </td><td>10.905701   </td><td>32          </td><td> 6.167665   </td><td>92.98462    </td><td>5.477643e-11</td></tr>\n",
       "</tbody>\n",
       "</table>\n"
      ],
      "text/latex": [
       "\\begin{tabular}{r|llllll}\n",
       "  & Df & Deviance & Resid. Df & Resid. Dev & F & Pr(>F)\\\\\n",
       "\\hline\n",
       "\tNULL & NA           &        NA    & 34           & 21.679610    &       NA     &           NA\\\\\n",
       "\tI(log(Week)) &  1           &  4.606244    & 33           & 17.073366    & 39.27394     & 5.023592e-07\\\\\n",
       "\tWeek &  1           & 10.905701    & 32           &  6.167665    & 92.98462     & 5.477643e-11\\\\\n",
       "\\end{tabular}\n"
      ],
      "text/markdown": [
       "\n",
       "| <!--/--> | Df | Deviance | Resid. Df | Resid. Dev | F | Pr(>F) |\n",
       "|---|---|---|---|---|---|---|\n",
       "| NULL | NA           |        NA    | 34           | 21.679610    |       NA     |           NA |\n",
       "| I(log(Week)) |  1           |  4.606244    | 33           | 17.073366    | 39.27394     | 5.023592e-07 |\n",
       "| Week |  1           | 10.905701    | 32           |  6.167665    | 92.98462     | 5.477643e-11 |\n",
       "\n"
      ],
      "text/plain": [
       "             Df Deviance  Resid. Df Resid. Dev F        Pr(>F)      \n",
       "NULL         NA        NA 34        21.679610        NA           NA\n",
       "I(log(Week))  1  4.606244 33        17.073366  39.27394 5.023592e-07\n",
       "Week          1 10.905701 32         6.167665  92.98462 5.477643e-11"
      ]
     },
     "metadata": {},
     "output_type": "display_data"
    }
   ],
   "source": [
    "anova(glm.2, test=\"F\")"
   ]
  },
  {
   "cell_type": "code",
   "execution_count": 19,
   "metadata": {},
   "outputs": [
    {
     "data": {
      "text/html": [
       "0.999999821621088"
      ],
      "text/latex": [
       "0.999999821621088"
      ],
      "text/markdown": [
       "0.999999821621088"
      ],
      "text/plain": [
       "[1] 0.9999998"
      ]
     },
     "metadata": {},
     "output_type": "display_data"
    },
    {
     "data": {
      "text/html": [
       "0.999999999805626"
      ],
      "text/latex": [
       "0.999999999805626"
      ],
      "text/markdown": [
       "0.999999999805626"
      ],
      "text/plain": [
       "[1] 1"
      ]
     },
     "metadata": {},
     "output_type": "display_data"
    },
    {
     "data": {
      "text/html": [
       "0.192739518604506"
      ],
      "text/latex": [
       "0.192739518604506"
      ],
      "text/markdown": [
       "0.192739518604506"
      ],
      "text/plain": [
       "[1] 0.1927395"
      ]
     },
     "metadata": {},
     "output_type": "display_data"
    },
    {
     "data": {
      "text/html": [
       "0.117285005176513"
      ],
      "text/latex": [
       "0.117285005176513"
      ],
      "text/markdown": [
       "0.117285005176513"
      ],
      "text/plain": [
       "[1] 0.117285"
      ]
     },
     "metadata": {},
     "output_type": "display_data"
    }
   ],
   "source": [
    "gof.dev <- deviance(glm.2)\n",
    "gof.pearson <- sum(glm.2$weights * glm.2$residuals^2)\n",
    "\n",
    "pchisq(gof.dev, df=df.residual(glm.2), lower.tail = FALSE)\n",
    "pchisq(gof.pearson, df=df.residual(glm.2), lower.tail = FALSE)\n",
    "\n",
    "gof.dev / df.residual(glm.2)\n",
    "gof.pearson / df.residual(glm.2)"
   ]
  },
  {
   "cell_type": "code",
   "execution_count": 20,
   "metadata": {},
   "outputs": [
    {
     "data": {
      "text/plain": [
       "\n",
       "\tShapiro-Wilk normality test\n",
       "\n",
       "data:  qr2\n",
       "W = 0.77325, p-value = 6.358e-06\n"
      ]
     },
     "metadata": {},
     "output_type": "display_data"
    },
    {
     "data": {
      "image/png": "[encoded data removed]",
      "text/plain": [
       "Plot with title \"Normal Q-Q Plot\""
      ]
     },
     "metadata": {},
     "output_type": "display_data"
    }
   ],
   "source": [
    "par(mfrow=c(3, 3))\n",
    "\n",
    "scatter.smooth(rstandard(glm.2) ~ log(fitted(glm.2)))\n",
    "scatter.smooth(rstandard(glm.2) ~ lactation$Week)\n",
    "scatter.smooth(rstandard(glm.2) ~ log(lactation$Week))\n",
    "z <- resid(glm.2, type=\"working\") + glm.2$linear.predictor\n",
    "scatter.smooth(z ~ glm.2$linear.predictor)\n",
    "termplot(glm.2, partial.resid = TRUE, terms=\"Week\")\n",
    "qqnorm(qr2 <- qresid(glm.2))\n",
    "qqline(qr2)\n",
    "plot(cooks.distance(glm.2), type=\"h\")\n",
    "shapiro.test(qr2)"
   ]
  },
  {
   "cell_type": "code",
   "execution_count": 21,
   "metadata": {},
   "outputs": [
    {
     "data": {
      "text/html": [
       "<ol class=list-inline>\n",
       "\t<li>3</li>\n",
       "\t<li>-29.3420087672589</li>\n",
       "</ol>\n"
      ],
      "text/latex": [
       "\\begin{enumerate*}\n",
       "\\item 3\n",
       "\\item -29.3420087672589\n",
       "\\end{enumerate*}\n"
      ],
      "text/markdown": [
       "1. 3\n",
       "2. -29.3420087672589\n",
       "\n",
       "\n"
      ],
      "text/plain": [
       "[1]   3.00000 -29.34201"
      ]
     },
     "metadata": {},
     "output_type": "display_data"
    },
    {
     "data": {
      "text/html": [
       "<ol class=list-inline>\n",
       "\t<li>3</li>\n",
       "\t<li>-38.4787952032747</li>\n",
       "</ol>\n"
      ],
      "text/latex": [
       "\\begin{enumerate*}\n",
       "\\item 3\n",
       "\\item -38.4787952032747\n",
       "\\end{enumerate*}\n"
      ],
      "text/markdown": [
       "1. 3\n",
       "2. -38.4787952032747\n",
       "\n",
       "\n"
      ],
      "text/plain": [
       "[1]   3.0000 -38.4788"
      ]
     },
     "metadata": {},
     "output_type": "display_data"
    }
   ],
   "source": [
    "extractAIC(glm.1); extractAIC(glm.2)"
   ]
  },
  {
   "cell_type": "code",
   "execution_count": 26,
   "metadata": {},
   "outputs": [
    {
     "data": {
      "image/png": "[encoded data removed]",
      "text/plain": [
       "plot without title"
      ]
     },
     "metadata": {},
     "output_type": "display_data"
    }
   ],
   "source": [
    "newWeek = seq(min(lactation$Week), max(lactation$Week), length=100)\n",
    "fit.1 <- predict(glm.1, newdata=data.frame(Week=newWeek), type=\"response\")\n",
    "fit.2 <- predict(glm.2, newdata=data.frame(Week=newWeek), type=\"response\")\n",
    "\n",
    "plot(Yield ~ Week, data=lactation)\n",
    "lines(fit.1 ~ newWeek, lty=1, lwd=1)\n",
    "lines(fit.2 ~ newWeek, lty=2, lwd=3)\n",
    "legend(\"topright\", lty=c(1, 2), legend=c(\"fit 1\", \"fit 2\"))"
   ]
  }
 ],
 "metadata": {
  "kernelspec": {
   "display_name": "R",
   "language": "R",
   "name": "ir"
  },
  "language_info": {
   "codemirror_mode": "r",
   "file_extension": ".r",
   "mimetype": "text/x-r-source",
   "name": "R",
   "pygments_lexer": "r",
   "version": "3.6.1"
  },
  "orig_nbformat": 4
 },
 "nbformat": 4,
 "nbformat_minor": 2
}
