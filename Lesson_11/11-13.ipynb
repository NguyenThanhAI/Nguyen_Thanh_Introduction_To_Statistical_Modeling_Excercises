{
 "cells": [
  {
   "cell_type": "code",
   "execution_count": 1,
   "metadata": {},
   "outputs": [
    {
     "name": "stderr",
     "output_type": "stream",
     "text": [
      "Warning message:\n",
      "\"package 'statmod' was built under R version 3.6.3\""
     ]
    }
   ],
   "source": [
    "library(GLMsData)\n",
    "library(statmod)\n",
    "library(MASS)\n",
    "library(splines)"
   ]
  },
  {
   "cell_type": "code",
   "execution_count": 2,
   "metadata": {},
   "outputs": [],
   "source": [
    "data(fluoro)"
   ]
  },
  {
   "cell_type": "code",
   "execution_count": 3,
   "metadata": {},
   "outputs": [
    {
     "name": "stdout",
     "output_type": "stream",
     "text": [
      "'data.frame':\t19 obs. of  2 variables:\n",
      " $ Time: int  37 48 52 57 58 61 66 67 75 75 ...\n",
      " $ Dose: num  4.39 3.46 8 5.47 8 ...\n"
     ]
    }
   ],
   "source": [
    "str(fluoro)"
   ]
  },
  {
   "cell_type": "code",
   "execution_count": 5,
   "metadata": {},
   "outputs": [
    {
     "data": {
      "image/png": "[encoded data removed]",
      "text/plain": [
       "plot without title"
      ]
     },
     "metadata": {},
     "output_type": "display_data"
    }
   ],
   "source": [
    "plot(log(Dose) ~ log(Time), data=fluoro)"
   ]
  },
  {
   "cell_type": "code",
   "execution_count": 6,
   "metadata": {},
   "outputs": [],
   "source": [
    "glm.1 <- glm(Dose ~ log(Time), data=fluoro, family = Gamma(link=\"log\"))"
   ]
  },
  {
   "cell_type": "code",
   "execution_count": 7,
   "metadata": {},
   "outputs": [
    {
     "data": {
      "text/html": [
       "<table>\n",
       "<thead><tr><th></th><th scope=col>Estimate</th><th scope=col>Std. Error</th><th scope=col>t value</th><th scope=col>Pr(&gt;|t|)</th></tr></thead>\n",
       "<tbody>\n",
       "\t<tr><th scope=row>(Intercept)</th><td>-9.246166   </td><td>1.8809512   </td><td>-4.915686   </td><td>1.307676e-04</td></tr>\n",
       "\t<tr><th scope=row>log(Time)</th><td> 2.856390   </td><td>0.4375853   </td><td> 6.527619   </td><td>5.165644e-06</td></tr>\n",
       "</tbody>\n",
       "</table>\n"
      ],
      "text/latex": [
       "\\begin{tabular}{r|llll}\n",
       "  & Estimate & Std. Error & t value & Pr(>\\textbar{}t\\textbar{})\\\\\n",
       "\\hline\n",
       "\t(Intercept) & -9.246166    & 1.8809512    & -4.915686    & 1.307676e-04\\\\\n",
       "\tlog(Time) &  2.856390    & 0.4375853    &  6.527619    & 5.165644e-06\\\\\n",
       "\\end{tabular}\n"
      ],
      "text/markdown": [
       "\n",
       "| <!--/--> | Estimate | Std. Error | t value | Pr(>|t|) |\n",
       "|---|---|---|---|---|\n",
       "| (Intercept) | -9.246166    | 1.8809512    | -4.915686    | 1.307676e-04 |\n",
       "| log(Time) |  2.856390    | 0.4375853    |  6.527619    | 5.165644e-06 |\n",
       "\n"
      ],
      "text/plain": [
       "            Estimate  Std. Error t value   Pr(>|t|)    \n",
       "(Intercept) -9.246166 1.8809512  -4.915686 1.307676e-04\n",
       "log(Time)    2.856390 0.4375853   6.527619 5.165644e-06"
      ]
     },
     "metadata": {},
     "output_type": "display_data"
    }
   ],
   "source": [
    "coef(summary(glm.1))"
   ]
  },
  {
   "cell_type": "code",
   "execution_count": 8,
   "metadata": {},
   "outputs": [
    {
     "data": {
      "text/html": [
       "<table>\n",
       "<thead><tr><th></th><th scope=col>Df</th><th scope=col>Deviance</th><th scope=col>Resid. Df</th><th scope=col>Resid. Dev</th><th scope=col>F</th><th scope=col>Pr(&gt;F)</th></tr></thead>\n",
       "<tbody>\n",
       "\t<tr><th scope=row>NULL</th><td>NA        </td><td>      NA  </td><td>18        </td><td>15.581998 </td><td>      NA  </td><td>        NA</td></tr>\n",
       "\t<tr><th scope=row>log(Time)</th><td> 1        </td><td>10.84978  </td><td>17        </td><td> 4.732218 </td><td>36.78534  </td><td>1.2617e-05</td></tr>\n",
       "</tbody>\n",
       "</table>\n"
      ],
      "text/latex": [
       "\\begin{tabular}{r|llllll}\n",
       "  & Df & Deviance & Resid. Df & Resid. Dev & F & Pr(>F)\\\\\n",
       "\\hline\n",
       "\tNULL & NA         &       NA   & 18         & 15.581998  &       NA   &         NA\\\\\n",
       "\tlog(Time) &  1         & 10.84978   & 17         &  4.732218  & 36.78534   & 1.2617e-05\\\\\n",
       "\\end{tabular}\n"
      ],
      "text/markdown": [
       "\n",
       "| <!--/--> | Df | Deviance | Resid. Df | Resid. Dev | F | Pr(>F) |\n",
       "|---|---|---|---|---|---|---|\n",
       "| NULL | NA         |       NA   | 18         | 15.581998  |       NA   |         NA |\n",
       "| log(Time) |  1         | 10.84978   | 17         |  4.732218  | 36.78534   | 1.2617e-05 |\n",
       "\n"
      ],
      "text/plain": [
       "          Df Deviance Resid. Df Resid. Dev F        Pr(>F)    \n",
       "NULL      NA       NA 18        15.581998        NA         NA\n",
       "log(Time)  1 10.84978 17         4.732218  36.78534 1.2617e-05"
      ]
     },
     "metadata": {},
     "output_type": "display_data"
    }
   ],
   "source": [
    "anova(glm.1, test=\"F\")"
   ]
  },
  {
   "cell_type": "code",
   "execution_count": 9,
   "metadata": {},
   "outputs": [
    {
     "data": {
      "text/html": [
       "0.998431574692404"
      ],
      "text/latex": [
       "0.998431574692404"
      ],
      "text/markdown": [
       "0.998431574692404"
      ],
      "text/plain": [
       "[1] 0.9984316"
      ]
     },
     "metadata": {},
     "output_type": "display_data"
    },
    {
     "data": {
      "text/html": [
       "0.997730693550663"
      ],
      "text/latex": [
       "0.997730693550663"
      ],
      "text/markdown": [
       "0.997730693550663"
      ],
      "text/plain": [
       "[1] 0.9977307"
      ]
     },
     "metadata": {},
     "output_type": "display_data"
    },
    {
     "data": {
      "text/html": [
       "0.278365753129674"
      ],
      "text/latex": [
       "0.278365753129674"
      ],
      "text/markdown": [
       "0.278365753129674"
      ],
      "text/plain": [
       "[1] 0.2783658"
      ]
     },
     "metadata": {},
     "output_type": "display_data"
    },
    {
     "data": {
      "text/html": [
       "0.294948479580788"
      ],
      "text/latex": [
       "0.294948479580788"
      ],
      "text/markdown": [
       "0.294948479580788"
      ],
      "text/plain": [
       "[1] 0.2949485"
      ]
     },
     "metadata": {},
     "output_type": "display_data"
    }
   ],
   "source": [
    "gof.dev <- deviance(glm.1)\n",
    "gof.pearson <- sum(glm.1$weights * glm.1$residuals^2)\n",
    "\n",
    "pchisq(gof.dev, df=df.residual(glm.1), lower.tail = FALSE)\n",
    "pchisq(gof.pearson, df=df.residual(glm.1), lower.tail = FALSE)\n",
    "\n",
    "gof.dev / df.residual(glm.1)\n",
    "gof.pearson / df.residual(glm.1)"
   ]
  },
  {
   "cell_type": "code",
   "execution_count": 10,
   "metadata": {},
   "outputs": [
    {
     "data": {
      "text/plain": [
       "\n",
       "\tShapiro-Wilk normality test\n",
       "\n",
       "data:  qr1\n",
       "W = 0.95792, p-value = 0.5321\n"
      ]
     },
     "metadata": {},
     "output_type": "display_data"
    },
    {
     "data": {
      "image/png": "[encoded data removed]",
      "text/plain": [
       "Plot with title \"Normal Q-Q Plot\""
      ]
     },
     "metadata": {},
     "output_type": "display_data"
    }
   ],
   "source": [
    "par(mfrow=c(3, 3))\n",
    "\n",
    "scatter.smooth(rstandard(glm.1) ~ log(fitted(glm.1)))\n",
    "scatter.smooth(rstandard(glm.1) ~ fluoro$Time)\n",
    "z <- resid(glm.1, type=\"working\") + glm.1$linear.predictor\n",
    "scatter.smooth(z ~ glm.1$linear.predictor)\n",
    "termplot(glm.1, partial.resid = TRUE, terms=\"log(Time)\")\n",
    "qqnorm(qr1 <- qresid(glm.1))\n",
    "qqline(qr1)\n",
    "plot(cooks.distance(glm.1), type=\"h\")\n",
    "shapiro.test(qr1)"
   ]
  },
  {
   "cell_type": "code",
   "execution_count": 11,
   "metadata": {},
   "outputs": [
    {
     "data": {
      "text/html": [
       "<dl class=dl-horizontal>\n",
       "\t<dt>dfb.1_</dt>\n",
       "\t\t<dd>0</dd>\n",
       "\t<dt>dfb.l(T)</dt>\n",
       "\t\t<dd>0</dd>\n",
       "\t<dt>dffit</dt>\n",
       "\t\t<dd>0</dd>\n",
       "\t<dt>cov.r</dt>\n",
       "\t\t<dd>2</dd>\n",
       "\t<dt>cook.d</dt>\n",
       "\t\t<dd>0</dd>\n",
       "\t<dt>hat</dt>\n",
       "\t\t<dd>1</dd>\n",
       "</dl>\n"
      ],
      "text/latex": [
       "\\begin{description*}\n",
       "\\item[dfb.1\\textbackslash{}\\_] 0\n",
       "\\item[dfb.l(T)] 0\n",
       "\\item[dffit] 0\n",
       "\\item[cov.r] 2\n",
       "\\item[cook.d] 0\n",
       "\\item[hat] 1\n",
       "\\end{description*}\n"
      ],
      "text/markdown": [
       "dfb.1_\n",
       ":   0dfb.l(T)\n",
       ":   0dffit\n",
       ":   0cov.r\n",
       ":   2cook.d\n",
       ":   0hat\n",
       ":   1\n",
       "\n"
      ],
      "text/plain": [
       "  dfb.1_ dfb.l(T)    dffit    cov.r   cook.d      hat \n",
       "       0        0        0        2        0        1 "
      ]
     },
     "metadata": {},
     "output_type": "display_data"
    }
   ],
   "source": [
    "colSums(influence.measures(glm.1)$is.inf)"
   ]
  },
  {
   "cell_type": "code",
   "execution_count": 13,
   "metadata": {},
   "outputs": [
    {
     "data": {
      "image/png": "[encoded data removed]",
      "text/plain": [
       "plot without title"
      ]
     },
     "metadata": {},
     "output_type": "display_data"
    }
   ],
   "source": [
    "newTime <- seq(min(fluoro$Time), max(fluoro$Time), length=100)\n",
    "fit <- predict(glm.1, newdata=data.frame(Time=newTime), se.fit=TRUE)\n",
    "t.star <- qt(0.975, df=df.residual(glm.1))\n",
    "ci.lo <- exp(fit$fit - t.star*fit$se.fit)\n",
    "ci.hi <- exp(fit$fit + t.star*fit$se.fit)\n",
    "\n",
    "plot(Dose ~ Time, data=fluoro)\n",
    "lines(exp(fit$fit) ~ newTime, lty=1)\n",
    "lines(ci.lo ~ newTime, lty=2)\n",
    "lines(ci.hi ~ newTime, lty=3)\n",
    "legend(\"topleft\", lty=c(1, 2, 3), legend=c(\"fit\", \"low\", \"high\"))"
   ]
  }
 ],
 "metadata": {
  "kernelspec": {
   "display_name": "R",
   "language": "R",
   "name": "ir"
  },
  "language_info": {
   "codemirror_mode": "r",
   "file_extension": ".r",
   "mimetype": "text/x-r-source",
   "name": "R",
   "pygments_lexer": "r",
   "version": "3.6.1"
  },
  "orig_nbformat": 4
 },
 "nbformat": 4,
 "nbformat_minor": 2
}
