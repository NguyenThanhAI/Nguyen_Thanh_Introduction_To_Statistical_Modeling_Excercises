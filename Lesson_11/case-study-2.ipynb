{
 "cells": [
  {
   "cell_type": "code",
   "execution_count": 1,
   "metadata": {},
   "outputs": [
    {
     "name": "stderr",
     "output_type": "stream",
     "text": [
      "Warning message:\n",
      "\"package 'statmod' was built under R version 3.6.3\""
     ]
    }
   ],
   "source": [
    "library(GLMsData)\n",
    "library(statmod)\n",
    "library(MASS)\n",
    "library(splines)"
   ]
  },
  {
   "cell_type": "code",
   "execution_count": 2,
   "metadata": {},
   "outputs": [],
   "source": [
    "data(yieldden)"
   ]
  },
  {
   "cell_type": "code",
   "execution_count": 3,
   "metadata": {},
   "outputs": [
    {
     "data": {
      "text/html": [
       "<table>\n",
       "<thead><tr><th scope=col>Yield</th><th scope=col>Dens</th><th scope=col>Var</th></tr></thead>\n",
       "<tbody>\n",
       "\t<tr><td>105.6</td><td> 3.07</td><td>1    </td></tr>\n",
       "\t<tr><td> 89.4</td><td> 3.31</td><td>1    </td></tr>\n",
       "\t<tr><td> 71.0</td><td> 5.97</td><td>1    </td></tr>\n",
       "\t<tr><td> 60.3</td><td> 6.99</td><td>1    </td></tr>\n",
       "\t<tr><td> 47.6</td><td> 8.67</td><td>1    </td></tr>\n",
       "\t<tr><td> 37.7</td><td>13.39</td><td>1    </td></tr>\n",
       "\t<tr><td> 30.3</td><td>17.86</td><td>1    </td></tr>\n",
       "\t<tr><td> 24.2</td><td>21.57</td><td>1    </td></tr>\n",
       "\t<tr><td> 20.8</td><td>28.77</td><td>1    </td></tr>\n",
       "\t<tr><td> 18.5</td><td>31.08</td><td>1    </td></tr>\n",
       "\t<tr><td>131.6</td><td> 2.14</td><td>2    </td></tr>\n",
       "\t<tr><td>109.1</td><td> 2.65</td><td>2    </td></tr>\n",
       "\t<tr><td> 93.7</td><td> 3.80</td><td>2    </td></tr>\n",
       "\t<tr><td> 72.2</td><td> 5.24</td><td>2    </td></tr>\n",
       "\t<tr><td> 53.1</td><td> 7.83</td><td>2    </td></tr>\n",
       "\t<tr><td> 49.7</td><td> 8.72</td><td>2    </td></tr>\n",
       "\t<tr><td> 37.8</td><td>10.11</td><td>2    </td></tr>\n",
       "\t<tr><td> 33.3</td><td>16.08</td><td>2    </td></tr>\n",
       "\t<tr><td> 24.5</td><td>21.22</td><td>2    </td></tr>\n",
       "\t<tr><td> 18.3</td><td>25.71</td><td>2    </td></tr>\n",
       "\t<tr><td>116.8</td><td> 2.48</td><td>3    </td></tr>\n",
       "\t<tr><td> 91.6</td><td> 3.53</td><td>3    </td></tr>\n",
       "\t<tr><td> 72.7</td><td> 4.45</td><td>3    </td></tr>\n",
       "\t<tr><td> 52.8</td><td> 6.23</td><td>3    </td></tr>\n",
       "\t<tr><td> 48.8</td><td> 8.23</td><td>3    </td></tr>\n",
       "\t<tr><td> 39.1</td><td> 9.59</td><td>3    </td></tr>\n",
       "\t<tr><td> 30.3</td><td>16.87</td><td>3    </td></tr>\n",
       "\t<tr><td> 24.2</td><td>18.69</td><td>3    </td></tr>\n",
       "\t<tr><td> 20.0</td><td>25.74</td><td>3    </td></tr>\n",
       "\t<tr><td> 16.3</td><td>30.33</td><td>3    </td></tr>\n",
       "</tbody>\n",
       "</table>\n"
      ],
      "text/latex": [
       "\\begin{tabular}{r|lll}\n",
       " Yield & Dens & Var\\\\\n",
       "\\hline\n",
       "\t 105.6 &  3.07 & 1    \\\\\n",
       "\t  89.4 &  3.31 & 1    \\\\\n",
       "\t  71.0 &  5.97 & 1    \\\\\n",
       "\t  60.3 &  6.99 & 1    \\\\\n",
       "\t  47.6 &  8.67 & 1    \\\\\n",
       "\t  37.7 & 13.39 & 1    \\\\\n",
       "\t  30.3 & 17.86 & 1    \\\\\n",
       "\t  24.2 & 21.57 & 1    \\\\\n",
       "\t  20.8 & 28.77 & 1    \\\\\n",
       "\t  18.5 & 31.08 & 1    \\\\\n",
       "\t 131.6 &  2.14 & 2    \\\\\n",
       "\t 109.1 &  2.65 & 2    \\\\\n",
       "\t  93.7 &  3.80 & 2    \\\\\n",
       "\t  72.2 &  5.24 & 2    \\\\\n",
       "\t  53.1 &  7.83 & 2    \\\\\n",
       "\t  49.7 &  8.72 & 2    \\\\\n",
       "\t  37.8 & 10.11 & 2    \\\\\n",
       "\t  33.3 & 16.08 & 2    \\\\\n",
       "\t  24.5 & 21.22 & 2    \\\\\n",
       "\t  18.3 & 25.71 & 2    \\\\\n",
       "\t 116.8 &  2.48 & 3    \\\\\n",
       "\t  91.6 &  3.53 & 3    \\\\\n",
       "\t  72.7 &  4.45 & 3    \\\\\n",
       "\t  52.8 &  6.23 & 3    \\\\\n",
       "\t  48.8 &  8.23 & 3    \\\\\n",
       "\t  39.1 &  9.59 & 3    \\\\\n",
       "\t  30.3 & 16.87 & 3    \\\\\n",
       "\t  24.2 & 18.69 & 3    \\\\\n",
       "\t  20.0 & 25.74 & 3    \\\\\n",
       "\t  16.3 & 30.33 & 3    \\\\\n",
       "\\end{tabular}\n"
      ],
      "text/markdown": [
       "\n",
       "| Yield | Dens | Var |\n",
       "|---|---|---|\n",
       "| 105.6 |  3.07 | 1     |\n",
       "|  89.4 |  3.31 | 1     |\n",
       "|  71.0 |  5.97 | 1     |\n",
       "|  60.3 |  6.99 | 1     |\n",
       "|  47.6 |  8.67 | 1     |\n",
       "|  37.7 | 13.39 | 1     |\n",
       "|  30.3 | 17.86 | 1     |\n",
       "|  24.2 | 21.57 | 1     |\n",
       "|  20.8 | 28.77 | 1     |\n",
       "|  18.5 | 31.08 | 1     |\n",
       "| 131.6 |  2.14 | 2     |\n",
       "| 109.1 |  2.65 | 2     |\n",
       "|  93.7 |  3.80 | 2     |\n",
       "|  72.2 |  5.24 | 2     |\n",
       "|  53.1 |  7.83 | 2     |\n",
       "|  49.7 |  8.72 | 2     |\n",
       "|  37.8 | 10.11 | 2     |\n",
       "|  33.3 | 16.08 | 2     |\n",
       "|  24.5 | 21.22 | 2     |\n",
       "|  18.3 | 25.71 | 2     |\n",
       "| 116.8 |  2.48 | 3     |\n",
       "|  91.6 |  3.53 | 3     |\n",
       "|  72.7 |  4.45 | 3     |\n",
       "|  52.8 |  6.23 | 3     |\n",
       "|  48.8 |  8.23 | 3     |\n",
       "|  39.1 |  9.59 | 3     |\n",
       "|  30.3 | 16.87 | 3     |\n",
       "|  24.2 | 18.69 | 3     |\n",
       "|  20.0 | 25.74 | 3     |\n",
       "|  16.3 | 30.33 | 3     |\n",
       "\n"
      ],
      "text/plain": [
       "   Yield Dens  Var\n",
       "1  105.6  3.07 1  \n",
       "2   89.4  3.31 1  \n",
       "3   71.0  5.97 1  \n",
       "4   60.3  6.99 1  \n",
       "5   47.6  8.67 1  \n",
       "6   37.7 13.39 1  \n",
       "7   30.3 17.86 1  \n",
       "8   24.2 21.57 1  \n",
       "9   20.8 28.77 1  \n",
       "10  18.5 31.08 1  \n",
       "11 131.6  2.14 2  \n",
       "12 109.1  2.65 2  \n",
       "13  93.7  3.80 2  \n",
       "14  72.2  5.24 2  \n",
       "15  53.1  7.83 2  \n",
       "16  49.7  8.72 2  \n",
       "17  37.8 10.11 2  \n",
       "18  33.3 16.08 2  \n",
       "19  24.5 21.22 2  \n",
       "20  18.3 25.71 2  \n",
       "21 116.8  2.48 3  \n",
       "22  91.6  3.53 3  \n",
       "23  72.7  4.45 3  \n",
       "24  52.8  6.23 3  \n",
       "25  48.8  8.23 3  \n",
       "26  39.1  9.59 3  \n",
       "27  30.3 16.87 3  \n",
       "28  24.2 18.69 3  \n",
       "29  20.0 25.74 3  \n",
       "30  16.3 30.33 3  "
      ]
     },
     "metadata": {},
     "output_type": "display_data"
    }
   ],
   "source": [
    "yieldden"
   ]
  },
  {
   "cell_type": "code",
   "execution_count": 4,
   "metadata": {},
   "outputs": [],
   "source": [
    "yieldden$Var <- factor(yieldden$Var)"
   ]
  },
  {
   "cell_type": "code",
   "execution_count": 5,
   "metadata": {},
   "outputs": [
    {
     "data": {
      "text/html": [
       "<table>\n",
       "<thead><tr><th scope=col>Yield</th><th scope=col>Dens</th><th scope=col>Var</th></tr></thead>\n",
       "<tbody>\n",
       "\t<tr><td>105.6</td><td> 3.07</td><td>1    </td></tr>\n",
       "\t<tr><td> 89.4</td><td> 3.31</td><td>1    </td></tr>\n",
       "\t<tr><td> 71.0</td><td> 5.97</td><td>1    </td></tr>\n",
       "\t<tr><td> 60.3</td><td> 6.99</td><td>1    </td></tr>\n",
       "\t<tr><td> 47.6</td><td> 8.67</td><td>1    </td></tr>\n",
       "\t<tr><td> 37.7</td><td>13.39</td><td>1    </td></tr>\n",
       "\t<tr><td> 30.3</td><td>17.86</td><td>1    </td></tr>\n",
       "\t<tr><td> 24.2</td><td>21.57</td><td>1    </td></tr>\n",
       "\t<tr><td> 20.8</td><td>28.77</td><td>1    </td></tr>\n",
       "\t<tr><td> 18.5</td><td>31.08</td><td>1    </td></tr>\n",
       "\t<tr><td>131.6</td><td> 2.14</td><td>2    </td></tr>\n",
       "\t<tr><td>109.1</td><td> 2.65</td><td>2    </td></tr>\n",
       "\t<tr><td> 93.7</td><td> 3.80</td><td>2    </td></tr>\n",
       "\t<tr><td> 72.2</td><td> 5.24</td><td>2    </td></tr>\n",
       "\t<tr><td> 53.1</td><td> 7.83</td><td>2    </td></tr>\n",
       "\t<tr><td> 49.7</td><td> 8.72</td><td>2    </td></tr>\n",
       "\t<tr><td> 37.8</td><td>10.11</td><td>2    </td></tr>\n",
       "\t<tr><td> 33.3</td><td>16.08</td><td>2    </td></tr>\n",
       "\t<tr><td> 24.5</td><td>21.22</td><td>2    </td></tr>\n",
       "\t<tr><td> 18.3</td><td>25.71</td><td>2    </td></tr>\n",
       "\t<tr><td>116.8</td><td> 2.48</td><td>3    </td></tr>\n",
       "\t<tr><td> 91.6</td><td> 3.53</td><td>3    </td></tr>\n",
       "\t<tr><td> 72.7</td><td> 4.45</td><td>3    </td></tr>\n",
       "\t<tr><td> 52.8</td><td> 6.23</td><td>3    </td></tr>\n",
       "\t<tr><td> 48.8</td><td> 8.23</td><td>3    </td></tr>\n",
       "\t<tr><td> 39.1</td><td> 9.59</td><td>3    </td></tr>\n",
       "\t<tr><td> 30.3</td><td>16.87</td><td>3    </td></tr>\n",
       "\t<tr><td> 24.2</td><td>18.69</td><td>3    </td></tr>\n",
       "\t<tr><td> 20.0</td><td>25.74</td><td>3    </td></tr>\n",
       "\t<tr><td> 16.3</td><td>30.33</td><td>3    </td></tr>\n",
       "</tbody>\n",
       "</table>\n"
      ],
      "text/latex": [
       "\\begin{tabular}{r|lll}\n",
       " Yield & Dens & Var\\\\\n",
       "\\hline\n",
       "\t 105.6 &  3.07 & 1    \\\\\n",
       "\t  89.4 &  3.31 & 1    \\\\\n",
       "\t  71.0 &  5.97 & 1    \\\\\n",
       "\t  60.3 &  6.99 & 1    \\\\\n",
       "\t  47.6 &  8.67 & 1    \\\\\n",
       "\t  37.7 & 13.39 & 1    \\\\\n",
       "\t  30.3 & 17.86 & 1    \\\\\n",
       "\t  24.2 & 21.57 & 1    \\\\\n",
       "\t  20.8 & 28.77 & 1    \\\\\n",
       "\t  18.5 & 31.08 & 1    \\\\\n",
       "\t 131.6 &  2.14 & 2    \\\\\n",
       "\t 109.1 &  2.65 & 2    \\\\\n",
       "\t  93.7 &  3.80 & 2    \\\\\n",
       "\t  72.2 &  5.24 & 2    \\\\\n",
       "\t  53.1 &  7.83 & 2    \\\\\n",
       "\t  49.7 &  8.72 & 2    \\\\\n",
       "\t  37.8 & 10.11 & 2    \\\\\n",
       "\t  33.3 & 16.08 & 2    \\\\\n",
       "\t  24.5 & 21.22 & 2    \\\\\n",
       "\t  18.3 & 25.71 & 2    \\\\\n",
       "\t 116.8 &  2.48 & 3    \\\\\n",
       "\t  91.6 &  3.53 & 3    \\\\\n",
       "\t  72.7 &  4.45 & 3    \\\\\n",
       "\t  52.8 &  6.23 & 3    \\\\\n",
       "\t  48.8 &  8.23 & 3    \\\\\n",
       "\t  39.1 &  9.59 & 3    \\\\\n",
       "\t  30.3 & 16.87 & 3    \\\\\n",
       "\t  24.2 & 18.69 & 3    \\\\\n",
       "\t  20.0 & 25.74 & 3    \\\\\n",
       "\t  16.3 & 30.33 & 3    \\\\\n",
       "\\end{tabular}\n"
      ],
      "text/markdown": [
       "\n",
       "| Yield | Dens | Var |\n",
       "|---|---|---|\n",
       "| 105.6 |  3.07 | 1     |\n",
       "|  89.4 |  3.31 | 1     |\n",
       "|  71.0 |  5.97 | 1     |\n",
       "|  60.3 |  6.99 | 1     |\n",
       "|  47.6 |  8.67 | 1     |\n",
       "|  37.7 | 13.39 | 1     |\n",
       "|  30.3 | 17.86 | 1     |\n",
       "|  24.2 | 21.57 | 1     |\n",
       "|  20.8 | 28.77 | 1     |\n",
       "|  18.5 | 31.08 | 1     |\n",
       "| 131.6 |  2.14 | 2     |\n",
       "| 109.1 |  2.65 | 2     |\n",
       "|  93.7 |  3.80 | 2     |\n",
       "|  72.2 |  5.24 | 2     |\n",
       "|  53.1 |  7.83 | 2     |\n",
       "|  49.7 |  8.72 | 2     |\n",
       "|  37.8 | 10.11 | 2     |\n",
       "|  33.3 | 16.08 | 2     |\n",
       "|  24.5 | 21.22 | 2     |\n",
       "|  18.3 | 25.71 | 2     |\n",
       "| 116.8 |  2.48 | 3     |\n",
       "|  91.6 |  3.53 | 3     |\n",
       "|  72.7 |  4.45 | 3     |\n",
       "|  52.8 |  6.23 | 3     |\n",
       "|  48.8 |  8.23 | 3     |\n",
       "|  39.1 |  9.59 | 3     |\n",
       "|  30.3 | 16.87 | 3     |\n",
       "|  24.2 | 18.69 | 3     |\n",
       "|  20.0 | 25.74 | 3     |\n",
       "|  16.3 | 30.33 | 3     |\n",
       "\n"
      ],
      "text/plain": [
       "   Yield Dens  Var\n",
       "1  105.6  3.07 1  \n",
       "2   89.4  3.31 1  \n",
       "3   71.0  5.97 1  \n",
       "4   60.3  6.99 1  \n",
       "5   47.6  8.67 1  \n",
       "6   37.7 13.39 1  \n",
       "7   30.3 17.86 1  \n",
       "8   24.2 21.57 1  \n",
       "9   20.8 28.77 1  \n",
       "10  18.5 31.08 1  \n",
       "11 131.6  2.14 2  \n",
       "12 109.1  2.65 2  \n",
       "13  93.7  3.80 2  \n",
       "14  72.2  5.24 2  \n",
       "15  53.1  7.83 2  \n",
       "16  49.7  8.72 2  \n",
       "17  37.8 10.11 2  \n",
       "18  33.3 16.08 2  \n",
       "19  24.5 21.22 2  \n",
       "20  18.3 25.71 2  \n",
       "21 116.8  2.48 3  \n",
       "22  91.6  3.53 3  \n",
       "23  72.7  4.45 3  \n",
       "24  52.8  6.23 3  \n",
       "25  48.8  8.23 3  \n",
       "26  39.1  9.59 3  \n",
       "27  30.3 16.87 3  \n",
       "28  24.2 18.69 3  \n",
       "29  20.0 25.74 3  \n",
       "30  16.3 30.33 3  "
      ]
     },
     "metadata": {},
     "output_type": "display_data"
    }
   ],
   "source": [
    "yieldden"
   ]
  },
  {
   "cell_type": "code",
   "execution_count": 6,
   "metadata": {},
   "outputs": [],
   "source": [
    "yieldden$YD <- with(yieldden, Yield * Dens )"
   ]
  },
  {
   "cell_type": "code",
   "execution_count": 7,
   "metadata": {},
   "outputs": [
    {
     "data": {
      "text/html": [
       "<table>\n",
       "<thead><tr><th scope=col>Yield</th><th scope=col>Dens</th><th scope=col>Var</th><th scope=col>YD</th></tr></thead>\n",
       "<tbody>\n",
       "\t<tr><td>105.6  </td><td> 3.07  </td><td>1      </td><td>324.192</td></tr>\n",
       "\t<tr><td> 89.4  </td><td> 3.31  </td><td>1      </td><td>295.914</td></tr>\n",
       "\t<tr><td> 71.0  </td><td> 5.97  </td><td>1      </td><td>423.870</td></tr>\n",
       "\t<tr><td> 60.3  </td><td> 6.99  </td><td>1      </td><td>421.497</td></tr>\n",
       "\t<tr><td> 47.6  </td><td> 8.67  </td><td>1      </td><td>412.692</td></tr>\n",
       "\t<tr><td> 37.7  </td><td>13.39  </td><td>1      </td><td>504.803</td></tr>\n",
       "\t<tr><td> 30.3  </td><td>17.86  </td><td>1      </td><td>541.158</td></tr>\n",
       "\t<tr><td> 24.2  </td><td>21.57  </td><td>1      </td><td>521.994</td></tr>\n",
       "\t<tr><td> 20.8  </td><td>28.77  </td><td>1      </td><td>598.416</td></tr>\n",
       "\t<tr><td> 18.5  </td><td>31.08  </td><td>1      </td><td>574.980</td></tr>\n",
       "\t<tr><td>131.6  </td><td> 2.14  </td><td>2      </td><td>281.624</td></tr>\n",
       "\t<tr><td>109.1  </td><td> 2.65  </td><td>2      </td><td>289.115</td></tr>\n",
       "\t<tr><td> 93.7  </td><td> 3.80  </td><td>2      </td><td>356.060</td></tr>\n",
       "\t<tr><td> 72.2  </td><td> 5.24  </td><td>2      </td><td>378.328</td></tr>\n",
       "\t<tr><td> 53.1  </td><td> 7.83  </td><td>2      </td><td>415.773</td></tr>\n",
       "\t<tr><td> 49.7  </td><td> 8.72  </td><td>2      </td><td>433.384</td></tr>\n",
       "\t<tr><td> 37.8  </td><td>10.11  </td><td>2      </td><td>382.158</td></tr>\n",
       "\t<tr><td> 33.3  </td><td>16.08  </td><td>2      </td><td>535.464</td></tr>\n",
       "\t<tr><td> 24.5  </td><td>21.22  </td><td>2      </td><td>519.890</td></tr>\n",
       "\t<tr><td> 18.3  </td><td>25.71  </td><td>2      </td><td>470.493</td></tr>\n",
       "\t<tr><td>116.8  </td><td> 2.48  </td><td>3      </td><td>289.664</td></tr>\n",
       "\t<tr><td> 91.6  </td><td> 3.53  </td><td>3      </td><td>323.348</td></tr>\n",
       "\t<tr><td> 72.7  </td><td> 4.45  </td><td>3      </td><td>323.515</td></tr>\n",
       "\t<tr><td> 52.8  </td><td> 6.23  </td><td>3      </td><td>328.944</td></tr>\n",
       "\t<tr><td> 48.8  </td><td> 8.23  </td><td>3      </td><td>401.624</td></tr>\n",
       "\t<tr><td> 39.1  </td><td> 9.59  </td><td>3      </td><td>374.969</td></tr>\n",
       "\t<tr><td> 30.3  </td><td>16.87  </td><td>3      </td><td>511.161</td></tr>\n",
       "\t<tr><td> 24.2  </td><td>18.69  </td><td>3      </td><td>452.298</td></tr>\n",
       "\t<tr><td> 20.0  </td><td>25.74  </td><td>3      </td><td>514.800</td></tr>\n",
       "\t<tr><td> 16.3  </td><td>30.33  </td><td>3      </td><td>494.379</td></tr>\n",
       "</tbody>\n",
       "</table>\n"
      ],
      "text/latex": [
       "\\begin{tabular}{r|llll}\n",
       " Yield & Dens & Var & YD\\\\\n",
       "\\hline\n",
       "\t 105.6   &  3.07   & 1       & 324.192\\\\\n",
       "\t  89.4   &  3.31   & 1       & 295.914\\\\\n",
       "\t  71.0   &  5.97   & 1       & 423.870\\\\\n",
       "\t  60.3   &  6.99   & 1       & 421.497\\\\\n",
       "\t  47.6   &  8.67   & 1       & 412.692\\\\\n",
       "\t  37.7   & 13.39   & 1       & 504.803\\\\\n",
       "\t  30.3   & 17.86   & 1       & 541.158\\\\\n",
       "\t  24.2   & 21.57   & 1       & 521.994\\\\\n",
       "\t  20.8   & 28.77   & 1       & 598.416\\\\\n",
       "\t  18.5   & 31.08   & 1       & 574.980\\\\\n",
       "\t 131.6   &  2.14   & 2       & 281.624\\\\\n",
       "\t 109.1   &  2.65   & 2       & 289.115\\\\\n",
       "\t  93.7   &  3.80   & 2       & 356.060\\\\\n",
       "\t  72.2   &  5.24   & 2       & 378.328\\\\\n",
       "\t  53.1   &  7.83   & 2       & 415.773\\\\\n",
       "\t  49.7   &  8.72   & 2       & 433.384\\\\\n",
       "\t  37.8   & 10.11   & 2       & 382.158\\\\\n",
       "\t  33.3   & 16.08   & 2       & 535.464\\\\\n",
       "\t  24.5   & 21.22   & 2       & 519.890\\\\\n",
       "\t  18.3   & 25.71   & 2       & 470.493\\\\\n",
       "\t 116.8   &  2.48   & 3       & 289.664\\\\\n",
       "\t  91.6   &  3.53   & 3       & 323.348\\\\\n",
       "\t  72.7   &  4.45   & 3       & 323.515\\\\\n",
       "\t  52.8   &  6.23   & 3       & 328.944\\\\\n",
       "\t  48.8   &  8.23   & 3       & 401.624\\\\\n",
       "\t  39.1   &  9.59   & 3       & 374.969\\\\\n",
       "\t  30.3   & 16.87   & 3       & 511.161\\\\\n",
       "\t  24.2   & 18.69   & 3       & 452.298\\\\\n",
       "\t  20.0   & 25.74   & 3       & 514.800\\\\\n",
       "\t  16.3   & 30.33   & 3       & 494.379\\\\\n",
       "\\end{tabular}\n"
      ],
      "text/markdown": [
       "\n",
       "| Yield | Dens | Var | YD |\n",
       "|---|---|---|---|\n",
       "| 105.6   |  3.07   | 1       | 324.192 |\n",
       "|  89.4   |  3.31   | 1       | 295.914 |\n",
       "|  71.0   |  5.97   | 1       | 423.870 |\n",
       "|  60.3   |  6.99   | 1       | 421.497 |\n",
       "|  47.6   |  8.67   | 1       | 412.692 |\n",
       "|  37.7   | 13.39   | 1       | 504.803 |\n",
       "|  30.3   | 17.86   | 1       | 541.158 |\n",
       "|  24.2   | 21.57   | 1       | 521.994 |\n",
       "|  20.8   | 28.77   | 1       | 598.416 |\n",
       "|  18.5   | 31.08   | 1       | 574.980 |\n",
       "| 131.6   |  2.14   | 2       | 281.624 |\n",
       "| 109.1   |  2.65   | 2       | 289.115 |\n",
       "|  93.7   |  3.80   | 2       | 356.060 |\n",
       "|  72.2   |  5.24   | 2       | 378.328 |\n",
       "|  53.1   |  7.83   | 2       | 415.773 |\n",
       "|  49.7   |  8.72   | 2       | 433.384 |\n",
       "|  37.8   | 10.11   | 2       | 382.158 |\n",
       "|  33.3   | 16.08   | 2       | 535.464 |\n",
       "|  24.5   | 21.22   | 2       | 519.890 |\n",
       "|  18.3   | 25.71   | 2       | 470.493 |\n",
       "| 116.8   |  2.48   | 3       | 289.664 |\n",
       "|  91.6   |  3.53   | 3       | 323.348 |\n",
       "|  72.7   |  4.45   | 3       | 323.515 |\n",
       "|  52.8   |  6.23   | 3       | 328.944 |\n",
       "|  48.8   |  8.23   | 3       | 401.624 |\n",
       "|  39.1   |  9.59   | 3       | 374.969 |\n",
       "|  30.3   | 16.87   | 3       | 511.161 |\n",
       "|  24.2   | 18.69   | 3       | 452.298 |\n",
       "|  20.0   | 25.74   | 3       | 514.800 |\n",
       "|  16.3   | 30.33   | 3       | 494.379 |\n",
       "\n"
      ],
      "text/plain": [
       "   Yield Dens  Var YD     \n",
       "1  105.6  3.07 1   324.192\n",
       "2   89.4  3.31 1   295.914\n",
       "3   71.0  5.97 1   423.870\n",
       "4   60.3  6.99 1   421.497\n",
       "5   47.6  8.67 1   412.692\n",
       "6   37.7 13.39 1   504.803\n",
       "7   30.3 17.86 1   541.158\n",
       "8   24.2 21.57 1   521.994\n",
       "9   20.8 28.77 1   598.416\n",
       "10  18.5 31.08 1   574.980\n",
       "11 131.6  2.14 2   281.624\n",
       "12 109.1  2.65 2   289.115\n",
       "13  93.7  3.80 2   356.060\n",
       "14  72.2  5.24 2   378.328\n",
       "15  53.1  7.83 2   415.773\n",
       "16  49.7  8.72 2   433.384\n",
       "17  37.8 10.11 2   382.158\n",
       "18  33.3 16.08 2   535.464\n",
       "19  24.5 21.22 2   519.890\n",
       "20  18.3 25.71 2   470.493\n",
       "21 116.8  2.48 3   289.664\n",
       "22  91.6  3.53 3   323.348\n",
       "23  72.7  4.45 3   323.515\n",
       "24  52.8  6.23 3   328.944\n",
       "25  48.8  8.23 3   401.624\n",
       "26  39.1  9.59 3   374.969\n",
       "27  30.3 16.87 3   511.161\n",
       "28  24.2 18.69 3   452.298\n",
       "29  20.0 25.74 3   514.800\n",
       "30  16.3 30.33 3   494.379"
      ]
     },
     "metadata": {},
     "output_type": "display_data"
    }
   ],
   "source": [
    "yieldden"
   ]
  },
  {
   "cell_type": "code",
   "execution_count": 8,
   "metadata": {},
   "outputs": [],
   "source": [
    "yd.glm.int <- glm( YD ~ (Dens + I(1/Dens)) * factor(Var),\n",
    "family=Gamma(link=inverse), data=yieldden )"
   ]
  },
  {
   "cell_type": "code",
   "execution_count": 9,
   "metadata": {},
   "outputs": [
    {
     "data": {
      "text/html": [
       "0.00524221631013727"
      ],
      "text/latex": [
       "0.00524221631013727"
      ],
      "text/markdown": [
       "0.00524221631013727"
      ],
      "text/plain": [
       "[1] 0.005242216"
      ]
     },
     "metadata": {},
     "output_type": "display_data"
    },
    {
     "data": {
      "text/html": [
       "0.00523620877715005"
      ],
      "text/latex": [
       "0.00523620877715005"
      ],
      "text/markdown": [
       "0.00523620877715005"
      ],
      "text/plain": [
       "[1] 0.005236209"
      ]
     },
     "metadata": {},
     "output_type": "display_data"
    },
    {
     "data": {
      "text/html": [
       "1"
      ],
      "text/latex": [
       "1"
      ],
      "text/markdown": [
       "1"
      ],
      "text/plain": [
       "[1] 1"
      ]
     },
     "metadata": {},
     "output_type": "display_data"
    },
    {
     "data": {
      "text/html": [
       "1"
      ],
      "text/latex": [
       "1"
      ],
      "text/markdown": [
       "1"
      ],
      "text/plain": [
       "[1] 1"
      ]
     },
     "metadata": {},
     "output_type": "display_data"
    }
   ],
   "source": [
    "gof.dev <- deviance(yd.glm.int)\n",
    "gof.pearson <- sum(yd.glm.int$weights * yd.glm.int$residuals^2)\n",
    "\n",
    "phi.md <- gof.dev / df.residual(yd.glm.int)\n",
    "phi.pearson <- gof.pearson / df.residual(yd.glm.int)\n",
    "\n",
    "phi.md\n",
    "phi.pearson\n",
    "\n",
    "pchisq(gof.dev, df=df.residual(yd.glm.int), lower.tail = FALSE)\n",
    "pchisq(gof.pearson, df=df.residual(yd.glm.int), lower.tail = FALSE)\n",
    "\n"
   ]
  },
  {
   "cell_type": "code",
   "execution_count": 10,
   "metadata": {},
   "outputs": [
    {
     "data": {
      "text/html": [
       "0.00524221631013727"
      ],
      "text/latex": [
       "0.00524221631013727"
      ],
      "text/markdown": [
       "0.00524221631013727"
      ],
      "text/plain": [
       "[1] 0.005242216"
      ]
     },
     "metadata": {},
     "output_type": "display_data"
    },
    {
     "data": {
      "text/html": [
       "0.00523620877715005"
      ],
      "text/latex": [
       "0.00523620877715005"
      ],
      "text/markdown": [
       "0.00523620877715005"
      ],
      "text/plain": [
       "[1] 0.005236209"
      ]
     },
     "metadata": {},
     "output_type": "display_data"
    },
    {
     "data": {
      "text/html": [
       "0.00523620877715005"
      ],
      "text/latex": [
       "0.00523620877715005"
      ],
      "text/markdown": [
       "0.00523620877715005"
      ],
      "text/plain": [
       "[1] 0.005236209"
      ]
     },
     "metadata": {},
     "output_type": "display_data"
    }
   ],
   "source": [
    "gof.dev/df.residual(yd.glm.int)\n",
    "gof.pearson/df.residual(yd.glm.int)\n",
    "summary(yd.glm.int)$dispersion"
   ]
  },
  {
   "cell_type": "code",
   "execution_count": 18,
   "metadata": {},
   "outputs": [
    {
     "data": {
      "text/html": [
       "<table>\n",
       "<thead><tr><th></th><th scope=col>Estimate</th><th scope=col>Std. Error</th><th scope=col>t value</th><th scope=col>Pr(&gt;|t|)</th></tr></thead>\n",
       "<tbody>\n",
       "\t<tr><th scope=row>(Intercept)</th><td> 1.783208e-03</td><td>2.446892e-04 </td><td> 7.28764403  </td><td>3.551639e-07 </td></tr>\n",
       "\t<tr><th scope=row>Dens</th><td>-7.358163e-06</td><td>8.672711e-06 </td><td>-0.84842709  </td><td>4.057676e-01 </td></tr>\n",
       "\t<tr><th scope=row>I(1/Dens)</th><td> 4.561689e-03</td><td>1.046401e-03 </td><td> 4.35940860  </td><td>2.751046e-04 </td></tr>\n",
       "\t<tr><th scope=row>factor(Var)2</th><td> 1.991961e-04</td><td>3.448443e-04 </td><td> 0.57764076  </td><td>5.696491e-01 </td></tr>\n",
       "\t<tr><th scope=row>factor(Var)3</th><td> 5.820274e-04</td><td>3.585704e-04 </td><td> 1.62318856  </td><td>1.194663e-01 </td></tr>\n",
       "\t<tr><th scope=row>Dens:factor(Var)2</th><td> 1.223482e-06</td><td>1.422932e-05 </td><td> 0.08598316  </td><td>9.322943e-01 </td></tr>\n",
       "\t<tr><th scope=row>Dens:factor(Var)3</th><td>-1.147274e-05</td><td>1.320350e-05 </td><td>-0.86891629  </td><td>3.947156e-01 </td></tr>\n",
       "\t<tr><th scope=row>I(1/Dens):factor(Var)2</th><td>-9.722031e-04</td><td>1.311974e-03 </td><td>-0.74102340  </td><td>4.668853e-01 </td></tr>\n",
       "\t<tr><th scope=row>I(1/Dens):factor(Var)3</th><td>-1.462929e-03</td><td>1.441500e-03 </td><td>-1.01486629  </td><td>3.217204e-01 </td></tr>\n",
       "</tbody>\n",
       "</table>\n"
      ],
      "text/latex": [
       "\\begin{tabular}{r|llll}\n",
       "  & Estimate & Std. Error & t value & Pr(>\\textbar{}t\\textbar{})\\\\\n",
       "\\hline\n",
       "\t(Intercept) &  1.783208e-03 & 2.446892e-04  &  7.28764403   & 3.551639e-07 \\\\\n",
       "\tDens & -7.358163e-06 & 8.672711e-06  & -0.84842709   & 4.057676e-01 \\\\\n",
       "\tI(1/Dens) &  4.561689e-03 & 1.046401e-03  &  4.35940860   & 2.751046e-04 \\\\\n",
       "\tfactor(Var)2 &  1.991961e-04 & 3.448443e-04  &  0.57764076   & 5.696491e-01 \\\\\n",
       "\tfactor(Var)3 &  5.820274e-04 & 3.585704e-04  &  1.62318856   & 1.194663e-01 \\\\\n",
       "\tDens:factor(Var)2 &  1.223482e-06 & 1.422932e-05  &  0.08598316   & 9.322943e-01 \\\\\n",
       "\tDens:factor(Var)3 & -1.147274e-05 & 1.320350e-05  & -0.86891629   & 3.947156e-01 \\\\\n",
       "\tI(1/Dens):factor(Var)2 & -9.722031e-04 & 1.311974e-03  & -0.74102340   & 4.668853e-01 \\\\\n",
       "\tI(1/Dens):factor(Var)3 & -1.462929e-03 & 1.441500e-03  & -1.01486629   & 3.217204e-01 \\\\\n",
       "\\end{tabular}\n"
      ],
      "text/markdown": [
       "\n",
       "| <!--/--> | Estimate | Std. Error | t value | Pr(>|t|) |\n",
       "|---|---|---|---|---|\n",
       "| (Intercept) |  1.783208e-03 | 2.446892e-04  |  7.28764403   | 3.551639e-07  |\n",
       "| Dens | -7.358163e-06 | 8.672711e-06  | -0.84842709   | 4.057676e-01  |\n",
       "| I(1/Dens) |  4.561689e-03 | 1.046401e-03  |  4.35940860   | 2.751046e-04  |\n",
       "| factor(Var)2 |  1.991961e-04 | 3.448443e-04  |  0.57764076   | 5.696491e-01  |\n",
       "| factor(Var)3 |  5.820274e-04 | 3.585704e-04  |  1.62318856   | 1.194663e-01  |\n",
       "| Dens:factor(Var)2 |  1.223482e-06 | 1.422932e-05  |  0.08598316   | 9.322943e-01  |\n",
       "| Dens:factor(Var)3 | -1.147274e-05 | 1.320350e-05  | -0.86891629   | 3.947156e-01  |\n",
       "| I(1/Dens):factor(Var)2 | -9.722031e-04 | 1.311974e-03  | -0.74102340   | 4.668853e-01  |\n",
       "| I(1/Dens):factor(Var)3 | -1.462929e-03 | 1.441500e-03  | -1.01486629   | 3.217204e-01  |\n",
       "\n"
      ],
      "text/plain": [
       "                       Estimate      Std. Error   t value     Pr(>|t|)    \n",
       "(Intercept)             1.783208e-03 2.446892e-04  7.28764403 3.551639e-07\n",
       "Dens                   -7.358163e-06 8.672711e-06 -0.84842709 4.057676e-01\n",
       "I(1/Dens)               4.561689e-03 1.046401e-03  4.35940860 2.751046e-04\n",
       "factor(Var)2            1.991961e-04 3.448443e-04  0.57764076 5.696491e-01\n",
       "factor(Var)3            5.820274e-04 3.585704e-04  1.62318856 1.194663e-01\n",
       "Dens:factor(Var)2       1.223482e-06 1.422932e-05  0.08598316 9.322943e-01\n",
       "Dens:factor(Var)3      -1.147274e-05 1.320350e-05 -0.86891629 3.947156e-01\n",
       "I(1/Dens):factor(Var)2 -9.722031e-04 1.311974e-03 -0.74102340 4.668853e-01\n",
       "I(1/Dens):factor(Var)3 -1.462929e-03 1.441500e-03 -1.01486629 3.217204e-01"
      ]
     },
     "metadata": {},
     "output_type": "display_data"
    }
   ],
   "source": [
    "coef(summary(yd.glm.int))"
   ]
  },
  {
   "cell_type": "code",
   "execution_count": 11,
   "metadata": {},
   "outputs": [
    {
     "data": {
      "text/html": [
       "<table>\n",
       "<thead><tr><th></th><th scope=col>Df</th><th scope=col>Deviance</th><th scope=col>Resid. Df</th><th scope=col>Resid. Dev</th><th scope=col>F</th><th scope=col>Pr(&gt;F)</th></tr></thead>\n",
       "<tbody>\n",
       "\t<tr><th scope=row>NULL</th><td>NA    </td><td>  NA  </td><td>29    </td><td>1.45  </td><td>    NA</td><td>  NA  </td></tr>\n",
       "\t<tr><th scope=row>Dens</th><td> 1    </td><td>1.00  </td><td>28    </td><td>0.45  </td><td>191.67</td><td>0.00  </td></tr>\n",
       "\t<tr><th scope=row>I(1/Dens)</th><td> 1    </td><td>0.27  </td><td>27    </td><td>0.18  </td><td> 51.28</td><td>0.00  </td></tr>\n",
       "\t<tr><th scope=row>factor(Var)</th><td> 2    </td><td>0.06  </td><td>25    </td><td>0.12  </td><td>  5.48</td><td>0.01  </td></tr>\n",
       "\t<tr><th scope=row>Dens:factor(Var)</th><td> 2    </td><td>0.01  </td><td>23    </td><td>0.12  </td><td>  0.57</td><td>0.57  </td></tr>\n",
       "\t<tr><th scope=row>I(1/Dens):factor(Var)</th><td> 2    </td><td>0.01  </td><td>21    </td><td>0.11  </td><td>  0.53</td><td>0.59  </td></tr>\n",
       "</tbody>\n",
       "</table>\n"
      ],
      "text/latex": [
       "\\begin{tabular}{r|llllll}\n",
       "  & Df & Deviance & Resid. Df & Resid. Dev & F & Pr(>F)\\\\\n",
       "\\hline\n",
       "\tNULL & NA     &   NA   & 29     & 1.45   &     NA &   NA  \\\\\n",
       "\tDens &  1     & 1.00   & 28     & 0.45   & 191.67 & 0.00  \\\\\n",
       "\tI(1/Dens) &  1     & 0.27   & 27     & 0.18   &  51.28 & 0.00  \\\\\n",
       "\tfactor(Var) &  2     & 0.06   & 25     & 0.12   &   5.48 & 0.01  \\\\\n",
       "\tDens:factor(Var) &  2     & 0.01   & 23     & 0.12   &   0.57 & 0.57  \\\\\n",
       "\tI(1/Dens):factor(Var) &  2     & 0.01   & 21     & 0.11   &   0.53 & 0.59  \\\\\n",
       "\\end{tabular}\n"
      ],
      "text/markdown": [
       "\n",
       "| <!--/--> | Df | Deviance | Resid. Df | Resid. Dev | F | Pr(>F) |\n",
       "|---|---|---|---|---|---|---|\n",
       "| NULL | NA     |   NA   | 29     | 1.45   |     NA |   NA   |\n",
       "| Dens |  1     | 1.00   | 28     | 0.45   | 191.67 | 0.00   |\n",
       "| I(1/Dens) |  1     | 0.27   | 27     | 0.18   |  51.28 | 0.00   |\n",
       "| factor(Var) |  2     | 0.06   | 25     | 0.12   |   5.48 | 0.01   |\n",
       "| Dens:factor(Var) |  2     | 0.01   | 23     | 0.12   |   0.57 | 0.57   |\n",
       "| I(1/Dens):factor(Var) |  2     | 0.01   | 21     | 0.11   |   0.53 | 0.59   |\n",
       "\n"
      ],
      "text/plain": [
       "                      Df Deviance Resid. Df Resid. Dev F      Pr(>F)\n",
       "NULL                  NA   NA     29        1.45           NA   NA  \n",
       "Dens                   1 1.00     28        0.45       191.67 0.00  \n",
       "I(1/Dens)              1 0.27     27        0.18        51.28 0.00  \n",
       "factor(Var)            2 0.06     25        0.12         5.48 0.01  \n",
       "Dens:factor(Var)       2 0.01     23        0.12         0.57 0.57  \n",
       "I(1/Dens):factor(Var)  2 0.01     21        0.11         0.53 0.59  "
      ]
     },
     "metadata": {},
     "output_type": "display_data"
    }
   ],
   "source": [
    "round( anova( yd.glm.int, test=\"F\"), 2)"
   ]
  },
  {
   "cell_type": "code",
   "execution_count": 12,
   "metadata": {},
   "outputs": [],
   "source": [
    "yd.glm <- update( yd.glm.int, . ~ Dens + I(1/Dens) + factor(Var) )"
   ]
  },
  {
   "cell_type": "code",
   "execution_count": 13,
   "metadata": {},
   "outputs": [
    {
     "data": {
      "text/html": [
       "0.00486649352544807"
      ],
      "text/latex": [
       "0.00486649352544807"
      ],
      "text/markdown": [
       "0.00486649352544807"
      ],
      "text/plain": [
       "[1] 0.004866494"
      ]
     },
     "metadata": {},
     "output_type": "display_data"
    },
    {
     "data": {
      "text/html": [
       "0.00478915091850439"
      ],
      "text/latex": [
       "0.00478915091850439"
      ],
      "text/markdown": [
       "0.00478915091850439"
      ],
      "text/plain": [
       "[1] 0.004789151"
      ]
     },
     "metadata": {},
     "output_type": "display_data"
    },
    {
     "data": {
      "text/html": [
       "1"
      ],
      "text/latex": [
       "1"
      ],
      "text/markdown": [
       "1"
      ],
      "text/plain": [
       "[1] 1"
      ]
     },
     "metadata": {},
     "output_type": "display_data"
    },
    {
     "data": {
      "text/html": [
       "1"
      ],
      "text/latex": [
       "1"
      ],
      "text/markdown": [
       "1"
      ],
      "text/plain": [
       "[1] 1"
      ]
     },
     "metadata": {},
     "output_type": "display_data"
    },
    {
     "data": {
      "text/html": [
       "0.121662338136202"
      ],
      "text/latex": [
       "0.121662338136202"
      ],
      "text/markdown": [
       "0.121662338136202"
      ],
      "text/plain": [
       "[1] 0.1216623"
      ]
     },
     "metadata": {},
     "output_type": "display_data"
    },
    {
     "data": {
      "text/html": [
       "0.11972877296261"
      ],
      "text/latex": [
       "0.11972877296261"
      ],
      "text/markdown": [
       "0.11972877296261"
      ],
      "text/plain": [
       "[1] 0.1197288"
      ]
     },
     "metadata": {},
     "output_type": "display_data"
    }
   ],
   "source": [
    "gof.dev <- deviance(yd.glm)\n",
    "gof.pearson <- sum(yd.glm$weights * yd.glm$residuals^2)\n",
    "\n",
    "phi.md <- gof.dev / df.residual(yd.glm)\n",
    "phi.pearson <- gof.pearson / df.residual(yd.glm)\n",
    "\n",
    "phi.md\n",
    "phi.pearson\n",
    "\n",
    "pchisq(gof.dev, df=df.residual(yd.glm), lower.tail = FALSE)\n",
    "pchisq(gof.pearson, df=df.residual(yd.glm), lower.tail = FALSE)\n",
    "\n",
    "gof.dev\n",
    "gof.pearson"
   ]
  },
  {
   "cell_type": "code",
   "execution_count": 14,
   "metadata": {},
   "outputs": [
    {
     "data": {
      "text/html": [
       "<table>\n",
       "<thead><tr><th></th><th scope=col>Df</th><th scope=col>Deviance</th><th scope=col>Resid. Df</th><th scope=col>Resid. Dev</th><th scope=col>F</th><th scope=col>Pr(&gt;F)</th></tr></thead>\n",
       "<tbody>\n",
       "\t<tr><th scope=row>NULL</th><td>NA    </td><td>  NA  </td><td>29    </td><td>1.45  </td><td>    NA</td><td>  NA  </td></tr>\n",
       "\t<tr><th scope=row>Dens</th><td> 1    </td><td>1.00  </td><td>28    </td><td>0.45  </td><td>209.56</td><td>0.00  </td></tr>\n",
       "\t<tr><th scope=row>I(1/Dens)</th><td> 1    </td><td>0.27  </td><td>27    </td><td>0.18  </td><td> 56.07</td><td>0.00  </td></tr>\n",
       "\t<tr><th scope=row>factor(Var)</th><td> 2    </td><td>0.06  </td><td>25    </td><td>0.12  </td><td>  5.99</td><td>0.01  </td></tr>\n",
       "</tbody>\n",
       "</table>\n"
      ],
      "text/latex": [
       "\\begin{tabular}{r|llllll}\n",
       "  & Df & Deviance & Resid. Df & Resid. Dev & F & Pr(>F)\\\\\n",
       "\\hline\n",
       "\tNULL & NA     &   NA   & 29     & 1.45   &     NA &   NA  \\\\\n",
       "\tDens &  1     & 1.00   & 28     & 0.45   & 209.56 & 0.00  \\\\\n",
       "\tI(1/Dens) &  1     & 0.27   & 27     & 0.18   &  56.07 & 0.00  \\\\\n",
       "\tfactor(Var) &  2     & 0.06   & 25     & 0.12   &   5.99 & 0.01  \\\\\n",
       "\\end{tabular}\n"
      ],
      "text/markdown": [
       "\n",
       "| <!--/--> | Df | Deviance | Resid. Df | Resid. Dev | F | Pr(>F) |\n",
       "|---|---|---|---|---|---|---|\n",
       "| NULL | NA     |   NA   | 29     | 1.45   |     NA |   NA   |\n",
       "| Dens |  1     | 1.00   | 28     | 0.45   | 209.56 | 0.00   |\n",
       "| I(1/Dens) |  1     | 0.27   | 27     | 0.18   |  56.07 | 0.00   |\n",
       "| factor(Var) |  2     | 0.06   | 25     | 0.12   |   5.99 | 0.01   |\n",
       "\n"
      ],
      "text/plain": [
       "            Df Deviance Resid. Df Resid. Dev F      Pr(>F)\n",
       "NULL        NA   NA     29        1.45           NA   NA  \n",
       "Dens         1 1.00     28        0.45       209.56 0.00  \n",
       "I(1/Dens)    1 0.27     27        0.18        56.07 0.00  \n",
       "factor(Var)  2 0.06     25        0.12         5.99 0.01  "
      ]
     },
     "metadata": {},
     "output_type": "display_data"
    }
   ],
   "source": [
    "round( anova(yd.glm, test=\"F\"), 2)"
   ]
  },
  {
   "cell_type": "code",
   "execution_count": 15,
   "metadata": {},
   "outputs": [
    {
     "data": {
      "text/html": [
       "<table>\n",
       "<thead><tr><th></th><th scope=col>Estimate</th><th scope=col>Std. Error</th><th scope=col>t value</th><th scope=col>Pr(&gt;|t|)</th></tr></thead>\n",
       "<tbody>\n",
       "\t<tr><th scope=row>(Intercept)</th><td> 1.968744e-03</td><td>1.393384e-04 </td><td>14.129228    </td><td>2.009258e-13 </td></tr>\n",
       "\t<tr><th scope=row>Dens</th><td>-1.260912e-05</td><td>5.163738e-06 </td><td>-2.441859    </td><td>2.202628e-02 </td></tr>\n",
       "\t<tr><th scope=row>I(1/Dens)</th><td> 3.574426e-03</td><td>4.936431e-04 </td><td> 7.240911    </td><td>1.376387e-07 </td></tr>\n",
       "\t<tr><th scope=row>factor(Var)2</th><td> 1.001489e-04</td><td>7.172689e-05 </td><td> 1.396253    </td><td>1.749138e-01 </td></tr>\n",
       "\t<tr><th scope=row>factor(Var)3</th><td> 2.450265e-04</td><td>7.118726e-05 </td><td> 3.441999    </td><td>2.041352e-03 </td></tr>\n",
       "</tbody>\n",
       "</table>\n"
      ],
      "text/latex": [
       "\\begin{tabular}{r|llll}\n",
       "  & Estimate & Std. Error & t value & Pr(>\\textbar{}t\\textbar{})\\\\\n",
       "\\hline\n",
       "\t(Intercept) &  1.968744e-03 & 1.393384e-04  & 14.129228     & 2.009258e-13 \\\\\n",
       "\tDens & -1.260912e-05 & 5.163738e-06  & -2.441859     & 2.202628e-02 \\\\\n",
       "\tI(1/Dens) &  3.574426e-03 & 4.936431e-04  &  7.240911     & 1.376387e-07 \\\\\n",
       "\tfactor(Var)2 &  1.001489e-04 & 7.172689e-05  &  1.396253     & 1.749138e-01 \\\\\n",
       "\tfactor(Var)3 &  2.450265e-04 & 7.118726e-05  &  3.441999     & 2.041352e-03 \\\\\n",
       "\\end{tabular}\n"
      ],
      "text/markdown": [
       "\n",
       "| <!--/--> | Estimate | Std. Error | t value | Pr(>|t|) |\n",
       "|---|---|---|---|---|\n",
       "| (Intercept) |  1.968744e-03 | 1.393384e-04  | 14.129228     | 2.009258e-13  |\n",
       "| Dens | -1.260912e-05 | 5.163738e-06  | -2.441859     | 2.202628e-02  |\n",
       "| I(1/Dens) |  3.574426e-03 | 4.936431e-04  |  7.240911     | 1.376387e-07  |\n",
       "| factor(Var)2 |  1.001489e-04 | 7.172689e-05  |  1.396253     | 1.749138e-01  |\n",
       "| factor(Var)3 |  2.450265e-04 | 7.118726e-05  |  3.441999     | 2.041352e-03  |\n",
       "\n"
      ],
      "text/plain": [
       "             Estimate      Std. Error   t value   Pr(>|t|)    \n",
       "(Intercept)   1.968744e-03 1.393384e-04 14.129228 2.009258e-13\n",
       "Dens         -1.260912e-05 5.163738e-06 -2.441859 2.202628e-02\n",
       "I(1/Dens)     3.574426e-03 4.936431e-04  7.240911 1.376387e-07\n",
       "factor(Var)2  1.001489e-04 7.172689e-05  1.396253 1.749138e-01\n",
       "factor(Var)3  2.450265e-04 7.118726e-05  3.441999 2.041352e-03"
      ]
     },
     "metadata": {},
     "output_type": "display_data"
    }
   ],
   "source": [
    "coef(summary(yd.glm))"
   ]
  },
  {
   "cell_type": "code",
   "execution_count": 16,
   "metadata": {},
   "outputs": [
    {
     "data": {
      "text/plain": [
       "\n",
       "\tShapiro-Wilk normality test\n",
       "\n",
       "data:  qr1\n",
       "W = 0.94739, p-value = 0.1439\n"
      ]
     },
     "metadata": {},
     "output_type": "display_data"
    },
    {
     "data": {
      "image/png": "[encoded data removed]",
      "text/plain": [
       "Plot with title \"Normal Q-Q Plot\""
      ]
     },
     "metadata": {},
     "output_type": "display_data"
    }
   ],
   "source": [
    "par(mfrow=c(3, 3))\n",
    "\n",
    "scatter.smooth(rstandard(yd.glm) ~ log(fitted(yd.glm)))\n",
    "scatter.smooth(rstandard(yd.glm) ~ yieldden$Dens)\n",
    "plot(rstandard(yd.glm) ~ factor(yieldden$Var))\n",
    "z <- resid(yd.glm, type=\"working\") + yd.glm$linear.predictor\n",
    "scatter.smooth(z ~ yd.glm$linear.predictor)\n",
    "qqnorm(qr1 <- qresid(yd.glm))\n",
    "qqline(qr1)\n",
    "plot(cooks.distance(yd.glm), type=\"h\")\n",
    "shapiro.test(qr1)"
   ]
  },
  {
   "cell_type": "code",
   "execution_count": 17,
   "metadata": {},
   "outputs": [
    {
     "data": {
      "text/html": [
       "<dl class=dl-horizontal>\n",
       "\t<dt>dfb.1_</dt>\n",
       "\t\t<dd>0</dd>\n",
       "\t<dt>dfb.Dens</dt>\n",
       "\t\t<dd>0</dd>\n",
       "\t<dt>dfb.I(1/</dt>\n",
       "\t\t<dd>0</dd>\n",
       "\t<dt>dfb.f(V)2</dt>\n",
       "\t\t<dd>0</dd>\n",
       "\t<dt>dfb.f(V)3</dt>\n",
       "\t\t<dd>0</dd>\n",
       "\t<dt>dffit</dt>\n",
       "\t\t<dd>0</dd>\n",
       "\t<dt>cov.r</dt>\n",
       "\t\t<dd>2</dd>\n",
       "\t<dt>cook.d</dt>\n",
       "\t\t<dd>0</dd>\n",
       "\t<dt>hat</dt>\n",
       "\t\t<dd>0</dd>\n",
       "</dl>\n"
      ],
      "text/latex": [
       "\\begin{description*}\n",
       "\\item[dfb.1\\textbackslash{}\\_] 0\n",
       "\\item[dfb.Dens] 0\n",
       "\\item[dfb.I(1/] 0\n",
       "\\item[dfb.f(V)2] 0\n",
       "\\item[dfb.f(V)3] 0\n",
       "\\item[dffit] 0\n",
       "\\item[cov.r] 2\n",
       "\\item[cook.d] 0\n",
       "\\item[hat] 0\n",
       "\\end{description*}\n"
      ],
      "text/markdown": [
       "dfb.1_\n",
       ":   0dfb.Dens\n",
       ":   0dfb.I(1/\n",
       ":   0dfb.f(V)2\n",
       ":   0dfb.f(V)3\n",
       ":   0dffit\n",
       ":   0cov.r\n",
       ":   2cook.d\n",
       ":   0hat\n",
       ":   0\n",
       "\n"
      ],
      "text/plain": [
       "   dfb.1_  dfb.Dens  dfb.I(1/ dfb.f(V)2 dfb.f(V)3     dffit     cov.r    cook.d \n",
       "        0         0         0         0         0         0         2         0 \n",
       "      hat \n",
       "        0 "
      ]
     },
     "metadata": {},
     "output_type": "display_data"
    }
   ],
   "source": [
    "colSums(influence.measures(yd.glm)$is.inf)"
   ]
  }
 ],
 "metadata": {
  "kernelspec": {
   "display_name": "R",
   "language": "R",
   "name": "ir"
  },
  "language_info": {
   "codemirror_mode": "r",
   "file_extension": ".r",
   "mimetype": "text/x-r-source",
   "name": "R",
   "pygments_lexer": "r",
   "version": "3.6.1"
  },
  "orig_nbformat": 4
 },
 "nbformat": 4,
 "nbformat_minor": 2
}
