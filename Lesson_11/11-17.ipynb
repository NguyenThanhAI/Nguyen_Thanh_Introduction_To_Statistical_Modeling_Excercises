{
 "cells": [
  {
   "cell_type": "code",
   "execution_count": 1,
   "metadata": {},
   "outputs": [
    {
     "name": "stderr",
     "output_type": "stream",
     "text": [
      "Warning message:\n",
      "\"package 'statmod' was built under R version 3.6.3\""
     ]
    }
   ],
   "source": [
    "library(GLMsData)\n",
    "library(statmod)\n",
    "library(MASS)\n",
    "library(splines)"
   ]
  },
  {
   "cell_type": "code",
   "execution_count": 2,
   "metadata": {},
   "outputs": [],
   "source": [
    "data(leukwbc)"
   ]
  },
  {
   "cell_type": "code",
   "execution_count": 3,
   "metadata": {},
   "outputs": [
    {
     "name": "stdout",
     "output_type": "stream",
     "text": [
      "'data.frame':\t33 obs. of  3 variables:\n",
      " $ WBC : int  2300 750 4300 2600 6000 10500 10000 17000 5400 7000 ...\n",
      " $ Time: int  65 156 100 134 16 108 121 4 39 143 ...\n",
      " $ AG  : int  1 1 1 1 1 1 1 1 1 1 ...\n"
     ]
    }
   ],
   "source": [
    "str(leukwbc)"
   ]
  },
  {
   "cell_type": "code",
   "execution_count": 5,
   "metadata": {},
   "outputs": [
    {
     "data": {
      "text/html": [
       "<table>\n",
       "<thead><tr><th scope=col>WBC</th><th scope=col>Time</th><th scope=col>AG</th></tr></thead>\n",
       "<tbody>\n",
       "\t<tr><td>  2300</td><td> 65   </td><td>1     </td></tr>\n",
       "\t<tr><td>   750</td><td>156   </td><td>1     </td></tr>\n",
       "\t<tr><td>  4300</td><td>100   </td><td>1     </td></tr>\n",
       "\t<tr><td>  2600</td><td>134   </td><td>1     </td></tr>\n",
       "\t<tr><td>  6000</td><td> 16   </td><td>1     </td></tr>\n",
       "\t<tr><td> 10500</td><td>108   </td><td>1     </td></tr>\n",
       "\t<tr><td> 10000</td><td>121   </td><td>1     </td></tr>\n",
       "\t<tr><td> 17000</td><td>  4   </td><td>1     </td></tr>\n",
       "\t<tr><td>  5400</td><td> 39   </td><td>1     </td></tr>\n",
       "\t<tr><td>  7000</td><td>143   </td><td>1     </td></tr>\n",
       "\t<tr><td>  9400</td><td> 56   </td><td>1     </td></tr>\n",
       "\t<tr><td> 32000</td><td> 26   </td><td>1     </td></tr>\n",
       "\t<tr><td> 35000</td><td> 22   </td><td>1     </td></tr>\n",
       "\t<tr><td>100000</td><td>  1   </td><td>1     </td></tr>\n",
       "\t<tr><td>100000</td><td>  1   </td><td>1     </td></tr>\n",
       "\t<tr><td> 52000</td><td>  5   </td><td>1     </td></tr>\n",
       "\t<tr><td>100000</td><td> 65   </td><td>1     </td></tr>\n",
       "\t<tr><td>  4400</td><td> 56   </td><td>2     </td></tr>\n",
       "\t<tr><td>  3000</td><td> 65   </td><td>2     </td></tr>\n",
       "\t<tr><td>  4000</td><td> 17   </td><td>2     </td></tr>\n",
       "\t<tr><td>  1500</td><td>  7   </td><td>2     </td></tr>\n",
       "\t<tr><td>  9000</td><td> 16   </td><td>2     </td></tr>\n",
       "\t<tr><td>  5300</td><td> 22   </td><td>2     </td></tr>\n",
       "\t<tr><td> 10000</td><td>  3   </td><td>2     </td></tr>\n",
       "\t<tr><td> 19000</td><td>  4   </td><td>2     </td></tr>\n",
       "\t<tr><td> 27000</td><td>  2   </td><td>2     </td></tr>\n",
       "\t<tr><td> 28000</td><td>  3   </td><td>2     </td></tr>\n",
       "\t<tr><td> 31000</td><td>  8   </td><td>2     </td></tr>\n",
       "\t<tr><td> 26000</td><td>  4   </td><td>2     </td></tr>\n",
       "\t<tr><td> 21000</td><td>  3   </td><td>2     </td></tr>\n",
       "\t<tr><td> 79000</td><td> 30   </td><td>2     </td></tr>\n",
       "\t<tr><td>100000</td><td>  4   </td><td>2     </td></tr>\n",
       "\t<tr><td>100000</td><td> 43   </td><td>2     </td></tr>\n",
       "</tbody>\n",
       "</table>\n"
      ],
      "text/latex": [
       "\\begin{tabular}{r|lll}\n",
       " WBC & Time & AG\\\\\n",
       "\\hline\n",
       "\t   2300 &  65    & 1     \\\\\n",
       "\t    750 & 156    & 1     \\\\\n",
       "\t   4300 & 100    & 1     \\\\\n",
       "\t   2600 & 134    & 1     \\\\\n",
       "\t   6000 &  16    & 1     \\\\\n",
       "\t  10500 & 108    & 1     \\\\\n",
       "\t  10000 & 121    & 1     \\\\\n",
       "\t  17000 &   4    & 1     \\\\\n",
       "\t   5400 &  39    & 1     \\\\\n",
       "\t   7000 & 143    & 1     \\\\\n",
       "\t   9400 &  56    & 1     \\\\\n",
       "\t  32000 &  26    & 1     \\\\\n",
       "\t  35000 &  22    & 1     \\\\\n",
       "\t 100000 &   1    & 1     \\\\\n",
       "\t 100000 &   1    & 1     \\\\\n",
       "\t  52000 &   5    & 1     \\\\\n",
       "\t 100000 &  65    & 1     \\\\\n",
       "\t   4400 &  56    & 2     \\\\\n",
       "\t   3000 &  65    & 2     \\\\\n",
       "\t   4000 &  17    & 2     \\\\\n",
       "\t   1500 &   7    & 2     \\\\\n",
       "\t   9000 &  16    & 2     \\\\\n",
       "\t   5300 &  22    & 2     \\\\\n",
       "\t  10000 &   3    & 2     \\\\\n",
       "\t  19000 &   4    & 2     \\\\\n",
       "\t  27000 &   2    & 2     \\\\\n",
       "\t  28000 &   3    & 2     \\\\\n",
       "\t  31000 &   8    & 2     \\\\\n",
       "\t  26000 &   4    & 2     \\\\\n",
       "\t  21000 &   3    & 2     \\\\\n",
       "\t  79000 &  30    & 2     \\\\\n",
       "\t 100000 &   4    & 2     \\\\\n",
       "\t 100000 &  43    & 2     \\\\\n",
       "\\end{tabular}\n"
      ],
      "text/markdown": [
       "\n",
       "| WBC | Time | AG |\n",
       "|---|---|---|\n",
       "|   2300 |  65    | 1      |\n",
       "|    750 | 156    | 1      |\n",
       "|   4300 | 100    | 1      |\n",
       "|   2600 | 134    | 1      |\n",
       "|   6000 |  16    | 1      |\n",
       "|  10500 | 108    | 1      |\n",
       "|  10000 | 121    | 1      |\n",
       "|  17000 |   4    | 1      |\n",
       "|   5400 |  39    | 1      |\n",
       "|   7000 | 143    | 1      |\n",
       "|   9400 |  56    | 1      |\n",
       "|  32000 |  26    | 1      |\n",
       "|  35000 |  22    | 1      |\n",
       "| 100000 |   1    | 1      |\n",
       "| 100000 |   1    | 1      |\n",
       "|  52000 |   5    | 1      |\n",
       "| 100000 |  65    | 1      |\n",
       "|   4400 |  56    | 2      |\n",
       "|   3000 |  65    | 2      |\n",
       "|   4000 |  17    | 2      |\n",
       "|   1500 |   7    | 2      |\n",
       "|   9000 |  16    | 2      |\n",
       "|   5300 |  22    | 2      |\n",
       "|  10000 |   3    | 2      |\n",
       "|  19000 |   4    | 2      |\n",
       "|  27000 |   2    | 2      |\n",
       "|  28000 |   3    | 2      |\n",
       "|  31000 |   8    | 2      |\n",
       "|  26000 |   4    | 2      |\n",
       "|  21000 |   3    | 2      |\n",
       "|  79000 |  30    | 2      |\n",
       "| 100000 |   4    | 2      |\n",
       "| 100000 |  43    | 2      |\n",
       "\n"
      ],
      "text/plain": [
       "   WBC    Time AG\n",
       "1    2300  65  1 \n",
       "2     750 156  1 \n",
       "3    4300 100  1 \n",
       "4    2600 134  1 \n",
       "5    6000  16  1 \n",
       "6   10500 108  1 \n",
       "7   10000 121  1 \n",
       "8   17000   4  1 \n",
       "9    5400  39  1 \n",
       "10   7000 143  1 \n",
       "11   9400  56  1 \n",
       "12  32000  26  1 \n",
       "13  35000  22  1 \n",
       "14 100000   1  1 \n",
       "15 100000   1  1 \n",
       "16  52000   5  1 \n",
       "17 100000  65  1 \n",
       "18   4400  56  2 \n",
       "19   3000  65  2 \n",
       "20   4000  17  2 \n",
       "21   1500   7  2 \n",
       "22   9000  16  2 \n",
       "23   5300  22  2 \n",
       "24  10000   3  2 \n",
       "25  19000   4  2 \n",
       "26  27000   2  2 \n",
       "27  28000   3  2 \n",
       "28  31000   8  2 \n",
       "29  26000   4  2 \n",
       "30  21000   3  2 \n",
       "31  79000  30  2 \n",
       "32 100000   4  2 \n",
       "33 100000  43  2 "
      ]
     },
     "metadata": {},
     "output_type": "display_data"
    }
   ],
   "source": [
    "leukwbc"
   ]
  },
  {
   "cell_type": "code",
   "execution_count": 6,
   "metadata": {},
   "outputs": [
    {
     "data": {
      "image/png": "[encoded data removed]",
      "text/plain": [
       "plot without title"
      ]
     },
     "metadata": {},
     "output_type": "display_data"
    }
   ],
   "source": [
    "plot(Time ~ WBC, data=leukwbc, pch=ifelse(AG==1, 1, 19))\n",
    "legend(\"topleft\", pch=c(1, 19), legend=c(\"Non-AG\", \"AG\"))"
   ]
  },
  {
   "cell_type": "code",
   "execution_count": 7,
   "metadata": {},
   "outputs": [
    {
     "data": {
      "image/png": "[encoded data removed]",
      "text/plain": [
       "plot without title"
      ]
     },
     "metadata": {},
     "output_type": "display_data"
    }
   ],
   "source": [
    "plot(Time ~ log(WBC), data=leukwbc, pch=ifelse(AG==1, 1, 19))\n",
    "legend(\"topleft\", pch=c(1, 19), legend=c(\"Non-AG\", \"AG\"))"
   ]
  },
  {
   "cell_type": "code",
   "execution_count": 8,
   "metadata": {},
   "outputs": [],
   "source": [
    "glm.1 <- glm(Time ~ log(WBC)*factor(AG), data=leukwbc, family = Gamma(link=\"log\"))"
   ]
  },
  {
   "cell_type": "code",
   "execution_count": 9,
   "metadata": {},
   "outputs": [
    {
     "data": {
      "text/html": [
       "<table>\n",
       "<thead><tr><th></th><th scope=col>Estimate</th><th scope=col>Std. Error</th><th scope=col>t value</th><th scope=col>Pr(&gt;|t|)</th></tr></thead>\n",
       "<tbody>\n",
       "\t<tr><th scope=row>(Intercept)</th><td> 8.4782094  </td><td>1.7489712   </td><td> 4.847541   </td><td>3.874859e-05</td></tr>\n",
       "\t<tr><th scope=row>log(WBC)</th><td>-0.4818293  </td><td>0.1834436   </td><td>-2.626581   </td><td>1.363297e-02</td></tr>\n",
       "\t<tr><th scope=row>factor(AG)2</th><td>-4.1346744  </td><td>2.7154878   </td><td>-1.522627   </td><td>1.386832e-01</td></tr>\n",
       "\t<tr><th scope=row>log(WBC):factor(AG)2</th><td> 0.3277839  </td><td>0.2819652   </td><td> 1.162498   </td><td>2.545109e-01</td></tr>\n",
       "</tbody>\n",
       "</table>\n"
      ],
      "text/latex": [
       "\\begin{tabular}{r|llll}\n",
       "  & Estimate & Std. Error & t value & Pr(>\\textbar{}t\\textbar{})\\\\\n",
       "\\hline\n",
       "\t(Intercept) &  8.4782094   & 1.7489712    &  4.847541    & 3.874859e-05\\\\\n",
       "\tlog(WBC) & -0.4818293   & 0.1834436    & -2.626581    & 1.363297e-02\\\\\n",
       "\tfactor(AG)2 & -4.1346744   & 2.7154878    & -1.522627    & 1.386832e-01\\\\\n",
       "\tlog(WBC):factor(AG)2 &  0.3277839   & 0.2819652    &  1.162498    & 2.545109e-01\\\\\n",
       "\\end{tabular}\n"
      ],
      "text/markdown": [
       "\n",
       "| <!--/--> | Estimate | Std. Error | t value | Pr(>|t|) |\n",
       "|---|---|---|---|---|\n",
       "| (Intercept) |  8.4782094   | 1.7489712    |  4.847541    | 3.874859e-05 |\n",
       "| log(WBC) | -0.4818293   | 0.1834436    | -2.626581    | 1.363297e-02 |\n",
       "| factor(AG)2 | -4.1346744   | 2.7154878    | -1.522627    | 1.386832e-01 |\n",
       "| log(WBC):factor(AG)2 |  0.3277839   | 0.2819652    |  1.162498    | 2.545109e-01 |\n",
       "\n"
      ],
      "text/plain": [
       "                     Estimate   Std. Error t value   Pr(>|t|)    \n",
       "(Intercept)           8.4782094 1.7489712   4.847541 3.874859e-05\n",
       "log(WBC)             -0.4818293 0.1834436  -2.626581 1.363297e-02\n",
       "factor(AG)2          -4.1346744 2.7154878  -1.522627 1.386832e-01\n",
       "log(WBC):factor(AG)2  0.3277839 0.2819652   1.162498 2.545109e-01"
      ]
     },
     "metadata": {},
     "output_type": "display_data"
    }
   ],
   "source": [
    "coef(summary(glm.1))"
   ]
  },
  {
   "cell_type": "code",
   "execution_count": 10,
   "metadata": {},
   "outputs": [
    {
     "data": {
      "text/html": [
       "<table>\n",
       "<thead><tr><th></th><th scope=col>Df</th><th scope=col>Deviance</th><th scope=col>Resid. Df</th><th scope=col>Resid. Dev</th><th scope=col>F</th><th scope=col>Pr(&gt;F)</th></tr></thead>\n",
       "<tbody>\n",
       "\t<tr><th scope=row>NULL</th><td>NA         </td><td>       NA  </td><td>32         </td><td>58.13839   </td><td>      NA   </td><td>         NA</td></tr>\n",
       "\t<tr><th scope=row>log(WBC)</th><td> 1         </td><td>10.329987  </td><td>31         </td><td>47.80840   </td><td>9.254829   </td><td>0.004948502</td></tr>\n",
       "\t<tr><th scope=row>factor(AG)</th><td> 1         </td><td> 7.489309  </td><td>30         </td><td>40.31909   </td><td>6.709813   </td><td>0.014848033</td></tr>\n",
       "\t<tr><th scope=row>log(WBC):factor(AG)</th><td> 1         </td><td> 1.764485  </td><td>29         </td><td>38.55460   </td><td>1.580835   </td><td>0.218672151</td></tr>\n",
       "</tbody>\n",
       "</table>\n"
      ],
      "text/latex": [
       "\\begin{tabular}{r|llllll}\n",
       "  & Df & Deviance & Resid. Df & Resid. Dev & F & Pr(>F)\\\\\n",
       "\\hline\n",
       "\tNULL & NA          &        NA   & 32          & 58.13839    &       NA    &          NA\\\\\n",
       "\tlog(WBC) &  1          & 10.329987   & 31          & 47.80840    & 9.254829    & 0.004948502\\\\\n",
       "\tfactor(AG) &  1          &  7.489309   & 30          & 40.31909    & 6.709813    & 0.014848033\\\\\n",
       "\tlog(WBC):factor(AG) &  1          &  1.764485   & 29          & 38.55460    & 1.580835    & 0.218672151\\\\\n",
       "\\end{tabular}\n"
      ],
      "text/markdown": [
       "\n",
       "| <!--/--> | Df | Deviance | Resid. Df | Resid. Dev | F | Pr(>F) |\n",
       "|---|---|---|---|---|---|---|\n",
       "| NULL | NA          |        NA   | 32          | 58.13839    |       NA    |          NA |\n",
       "| log(WBC) |  1          | 10.329987   | 31          | 47.80840    | 9.254829    | 0.004948502 |\n",
       "| factor(AG) |  1          |  7.489309   | 30          | 40.31909    | 6.709813    | 0.014848033 |\n",
       "| log(WBC):factor(AG) |  1          |  1.764485   | 29          | 38.55460    | 1.580835    | 0.218672151 |\n",
       "\n"
      ],
      "text/plain": [
       "                    Df Deviance  Resid. Df Resid. Dev F        Pr(>F)     \n",
       "NULL                NA        NA 32        58.13839         NA          NA\n",
       "log(WBC)             1 10.329987 31        47.80840   9.254829 0.004948502\n",
       "factor(AG)           1  7.489309 30        40.31909   6.709813 0.014848033\n",
       "log(WBC):factor(AG)  1  1.764485 29        38.55460   1.580835 0.218672151"
      ]
     },
     "metadata": {},
     "output_type": "display_data"
    }
   ],
   "source": [
    "anova(glm.1, test=\"F\")"
   ]
  },
  {
   "cell_type": "code",
   "execution_count": 11,
   "metadata": {},
   "outputs": [
    {
     "data": {
      "text/html": [
       "0.11049091990111"
      ],
      "text/latex": [
       "0.11049091990111"
      ],
      "text/markdown": [
       "0.11049091990111"
      ],
      "text/plain": [
       "[1] 0.1104909"
      ]
     },
     "metadata": {},
     "output_type": "display_data"
    },
    {
     "data": {
      "text/html": [
       "0.303911920861476"
      ],
      "text/latex": [
       "0.303911920861476"
      ],
      "text/markdown": [
       "0.303911920861476"
      ],
      "text/plain": [
       "[1] 0.3039119"
      ]
     },
     "metadata": {},
     "output_type": "display_data"
    },
    {
     "data": {
      "text/html": [
       "1.32946910594134"
      ],
      "text/latex": [
       "1.32946910594134"
      ],
      "text/markdown": [
       "1.32946910594134"
      ],
      "text/plain": [
       "[1] 1.329469"
      ]
     },
     "metadata": {},
     "output_type": "display_data"
    },
    {
     "data": {
      "text/html": [
       "1.11617262380513"
      ],
      "text/latex": [
       "1.11617262380513"
      ],
      "text/markdown": [
       "1.11617262380513"
      ],
      "text/plain": [
       "[1] 1.116173"
      ]
     },
     "metadata": {},
     "output_type": "display_data"
    }
   ],
   "source": [
    "gof.dev <- deviance(glm.1)\n",
    "gof.pearson <- sum(glm.1$weights * glm.1$residuals^2)\n",
    "\n",
    "pchisq(gof.dev, df=df.residual(glm.1), lower.tail = FALSE)\n",
    "pchisq(gof.pearson, df=df.residual(glm.1), lower.tail = FALSE)\n",
    "\n",
    "gof.dev / df.residual(glm.1) # Kiểm tra điều kiện xấp xỉ yên ngựa\n",
    "gof.pearson / df.residual(glm.1)"
   ]
  },
  {
   "cell_type": "code",
   "execution_count": 12,
   "metadata": {},
   "outputs": [],
   "source": [
    "glm.2 <- glm(Time ~ log(WBC)+factor(AG), data=leukwbc, family = Gamma(link=\"log\"))"
   ]
  },
  {
   "cell_type": "code",
   "execution_count": 13,
   "metadata": {},
   "outputs": [
    {
     "data": {
      "text/html": [
       "<table>\n",
       "<thead><tr><th></th><th scope=col>Estimate</th><th scope=col>Std. Error</th><th scope=col>t value</th><th scope=col>Pr(&gt;|t|)</th></tr></thead>\n",
       "<tbody>\n",
       "\t<tr><th scope=row>(Intercept)</th><td> 6.8330561  </td><td>1.3214662   </td><td> 5.170814   </td><td>1.438068e-05</td></tr>\n",
       "\t<tr><th scope=row>log(WBC)</th><td>-0.3044004  </td><td>0.1375251   </td><td>-2.213418   </td><td>3.461695e-02</td></tr>\n",
       "\t<tr><th scope=row>factor(AG)2</th><td>-1.0176452  </td><td>0.3642168   </td><td>-2.794065   </td><td>8.982491e-03</td></tr>\n",
       "</tbody>\n",
       "</table>\n"
      ],
      "text/latex": [
       "\\begin{tabular}{r|llll}\n",
       "  & Estimate & Std. Error & t value & Pr(>\\textbar{}t\\textbar{})\\\\\n",
       "\\hline\n",
       "\t(Intercept) &  6.8330561   & 1.3214662    &  5.170814    & 1.438068e-05\\\\\n",
       "\tlog(WBC) & -0.3044004   & 0.1375251    & -2.213418    & 3.461695e-02\\\\\n",
       "\tfactor(AG)2 & -1.0176452   & 0.3642168    & -2.794065    & 8.982491e-03\\\\\n",
       "\\end{tabular}\n"
      ],
      "text/markdown": [
       "\n",
       "| <!--/--> | Estimate | Std. Error | t value | Pr(>|t|) |\n",
       "|---|---|---|---|---|\n",
       "| (Intercept) |  6.8330561   | 1.3214662    |  5.170814    | 1.438068e-05 |\n",
       "| log(WBC) | -0.3044004   | 0.1375251    | -2.213418    | 3.461695e-02 |\n",
       "| factor(AG)2 | -1.0176452   | 0.3642168    | -2.794065    | 8.982491e-03 |\n",
       "\n"
      ],
      "text/plain": [
       "            Estimate   Std. Error t value   Pr(>|t|)    \n",
       "(Intercept)  6.8330561 1.3214662   5.170814 1.438068e-05\n",
       "log(WBC)    -0.3044004 0.1375251  -2.213418 3.461695e-02\n",
       "factor(AG)2 -1.0176452 0.3642168  -2.794065 8.982491e-03"
      ]
     },
     "metadata": {},
     "output_type": "display_data"
    }
   ],
   "source": [
    "coef(summary(glm.2))"
   ]
  },
  {
   "cell_type": "code",
   "execution_count": 14,
   "metadata": {},
   "outputs": [
    {
     "data": {
      "text/html": [
       "<table>\n",
       "<thead><tr><th></th><th scope=col>Df</th><th scope=col>Deviance</th><th scope=col>Resid. Df</th><th scope=col>Resid. Dev</th><th scope=col>F</th><th scope=col>Pr(&gt;F)</th></tr></thead>\n",
       "<tbody>\n",
       "\t<tr><th scope=row>NULL</th><td>NA         </td><td>       NA  </td><td>32         </td><td>58.13839   </td><td>      NA   </td><td>         NA</td></tr>\n",
       "\t<tr><th scope=row>log(WBC)</th><td> 1         </td><td>10.329987  </td><td>31         </td><td>47.80840   </td><td>9.496964   </td><td>0.004383779</td></tr>\n",
       "\t<tr><th scope=row>factor(AG)</th><td> 1         </td><td> 7.489309  </td><td>30         </td><td>40.31909   </td><td>6.885362   </td><td>0.013534536</td></tr>\n",
       "</tbody>\n",
       "</table>\n"
      ],
      "text/latex": [
       "\\begin{tabular}{r|llllll}\n",
       "  & Df & Deviance & Resid. Df & Resid. Dev & F & Pr(>F)\\\\\n",
       "\\hline\n",
       "\tNULL & NA          &        NA   & 32          & 58.13839    &       NA    &          NA\\\\\n",
       "\tlog(WBC) &  1          & 10.329987   & 31          & 47.80840    & 9.496964    & 0.004383779\\\\\n",
       "\tfactor(AG) &  1          &  7.489309   & 30          & 40.31909    & 6.885362    & 0.013534536\\\\\n",
       "\\end{tabular}\n"
      ],
      "text/markdown": [
       "\n",
       "| <!--/--> | Df | Deviance | Resid. Df | Resid. Dev | F | Pr(>F) |\n",
       "|---|---|---|---|---|---|---|\n",
       "| NULL | NA          |        NA   | 32          | 58.13839    |       NA    |          NA |\n",
       "| log(WBC) |  1          | 10.329987   | 31          | 47.80840    | 9.496964    | 0.004383779 |\n",
       "| factor(AG) |  1          |  7.489309   | 30          | 40.31909    | 6.885362    | 0.013534536 |\n",
       "\n"
      ],
      "text/plain": [
       "           Df Deviance  Resid. Df Resid. Dev F        Pr(>F)     \n",
       "NULL       NA        NA 32        58.13839         NA          NA\n",
       "log(WBC)    1 10.329987 31        47.80840   9.496964 0.004383779\n",
       "factor(AG)  1  7.489309 30        40.31909   6.885362 0.013534536"
      ]
     },
     "metadata": {},
     "output_type": "display_data"
    }
   ],
   "source": [
    "anova(glm.2, test=\"F\")"
   ]
  },
  {
   "cell_type": "code",
   "execution_count": 15,
   "metadata": {},
   "outputs": [
    {
     "data": {
      "text/plain": [
       "\n",
       "\tShapiro-Wilk normality test\n",
       "\n",
       "data:  qr3\n",
       "W = 0.96664, p-value = 0.3934\n"
      ]
     },
     "metadata": {},
     "output_type": "display_data"
    },
    {
     "data": {
      "image/png": "[encoded data removed]",
      "text/plain": [
       "Plot with title \"\""
      ]
     },
     "metadata": {},
     "output_type": "display_data"
    },
    {
     "data": {
      "image/png": "[encoded data removed]",
      "text/plain": [
       "Plot with title \"Normal Q-Q Plot\""
      ]
     },
     "metadata": {},
     "output_type": "display_data"
    }
   ],
   "source": [
    "par(mfrow=c(2, 3))\n",
    "\n",
    "scatter.smooth(rstandard(glm.2) ~ log(fitted(glm.2)))\n",
    "z <- glm.2$linear.predictor + resid(glm.2, type=\"working\")\n",
    "scatter.smooth(rstandard(glm.2) ~ log(leukwbc$WBC))\n",
    "scatter.smooth(z ~ glm.2$linear.predictor)\n",
    "termplot(glm.2, partial.resid = TRUE, las=1, terms=\"log(WBC)\")\n",
    "plot(rstandard(glm.2) ~ factor(leukwbc$AG))\n",
    "plot(cooks.distance(glm.2), type=\"h\")\n",
    "qqnorm(qr3 <- qresid(glm.2))\n",
    "qqline(qr3)\n",
    "shapiro.test(qr3)"
   ]
  },
  {
   "cell_type": "code",
   "execution_count": 18,
   "metadata": {},
   "outputs": [
    {
     "data": {
      "image/png": "[encoded data removed]",
      "text/plain": [
       "plot without title"
      ]
     },
     "metadata": {},
     "output_type": "display_data"
    }
   ],
   "source": [
    "newWBC <- seq(min(leukwbc$WBC), max(leukwbc$WBC), length=100)\n",
    "fit.ag <- predict(glm.2, newdata=data.frame(WBC=newWBC, AG=2), type=\"response\")\n",
    "fit.non.ag <- predict(glm.2, newdata=data.frame(WBC=newWBC, AG=1), type=\"response\")\n",
    "\n",
    "plot(Time ~ WBC, data=leukwbc, pch=ifelse(AG==1, 1, 19))\n",
    "legend(\"topleft\", pch=c(1, 19), legend=c(\"Non-AG\", \"AG\"))\n",
    "lines(fit.ag ~ newWBC, lty=1)\n",
    "lines(fit.non.ag ~ newWBC, lty=2)\n",
    "legend(\"topright\", lty=c(1, 2), legend=c(\"AG\", \"Non-AG\"))"
   ]
  },
  {
   "cell_type": "code",
   "execution_count": 19,
   "metadata": {},
   "outputs": [
    {
     "name": "stderr",
     "output_type": "stream",
     "text": [
      "Your code contains a unicode char which cannot be displayed in your\n",
      "current locale and R will silently convert it to an escaped form when the\n",
      "R kernel executes this code. This can lead to subtle errors if you use\n",
      "such chars to do comparisons. For more information, please see\n",
      "https://github.com/IRkernel/repr/wiki/Problems-with-unicode-on-windows"
     ]
    },
    {
     "data": {
      "text/html": [
       "1.32946910594134"
      ],
      "text/latex": [
       "1.32946910594134"
      ],
      "text/markdown": [
       "1.32946910594134"
      ],
      "text/plain": [
       "[1] 1.329469"
      ]
     },
     "metadata": {},
     "output_type": "display_data"
    },
    {
     "data": {
      "text/html": [
       "1.11617262380513"
      ],
      "text/latex": [
       "1.11617262380513"
      ],
      "text/markdown": [
       "1.11617262380513"
      ],
      "text/plain": [
       "[1] 1.116173"
      ]
     },
     "metadata": {},
     "output_type": "display_data"
    }
   ],
   "source": [
    "phi.md <- gof.dev / df.residual(glm.1)\n",
    "phi.pearson <- gof.pearson / df.residual(glm.1)\n",
    "#Gần bằng 1 nên hợp lý khi xem là phân phối mũ\n",
    "phi.md; phi.pearson"
   ]
  }
 ],
 "metadata": {
  "kernelspec": {
   "display_name": "R",
   "language": "R",
   "name": "ir"
  },
  "language_info": {
   "codemirror_mode": "r",
   "file_extension": ".r",
   "mimetype": "text/x-r-source",
   "name": "R",
   "pygments_lexer": "r",
   "version": "3.6.1"
  },
  "orig_nbformat": 4
 },
 "nbformat": 4,
 "nbformat_minor": 2
}
