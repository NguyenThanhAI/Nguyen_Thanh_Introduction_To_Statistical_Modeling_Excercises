{
 "cells": [
  {
   "cell_type": "code",
   "execution_count": 17,
   "metadata": {},
   "outputs": [
    {
     "name": "stderr",
     "output_type": "stream",
     "text": [
      "Warning message:\n",
      "\"package 'statmod' was built under R version 3.6.3\""
     ]
    }
   ],
   "source": [
    "library(GLMsData)\n",
    "library(statmod)\n",
    "library(MASS)\n",
    "library(splines)"
   ]
  },
  {
   "cell_type": "code",
   "execution_count": 2,
   "metadata": {},
   "outputs": [],
   "source": [
    "data(perm); perm$Day <- factor(perm$Day)"
   ]
  },
  {
   "cell_type": "code",
   "execution_count": 3,
   "metadata": {},
   "outputs": [
    {
     "data": {
      "image/png": "[encoded data removed]",
      "text/plain": [
       "plot without title"
      ]
     },
     "metadata": {},
     "output_type": "display_data"
    }
   ],
   "source": [
    "boxplot( Perm ~ Day, data=perm, las=1, ylim=c(0, 200),\n",
    "xlab=\"Day\", ylab=\"Permeability (in s)\")"
   ]
  },
  {
   "cell_type": "code",
   "execution_count": 4,
   "metadata": {},
   "outputs": [
    {
     "data": {
      "image/png": "[encoded data removed]",
      "text/plain": [
       "plot without title"
      ]
     },
     "metadata": {},
     "output_type": "display_data"
    }
   ],
   "source": [
    "boxplot( Perm ~ Mach, data=perm, las=1, ylim=c(0, 200),\n",
    "xlab=\"Machine\", ylab=\"Permeability (in s)\")"
   ]
  },
  {
   "cell_type": "code",
   "execution_count": 5,
   "metadata": {},
   "outputs": [],
   "source": [
    "perm.log <- glm( Perm ~ Mach * Day, data=perm,family=inverse.gaussian(link=\"log\") )"
   ]
  },
  {
   "cell_type": "code",
   "execution_count": 7,
   "metadata": {},
   "outputs": [
    {
     "data": {
      "text/html": [
       "1"
      ],
      "text/latex": [
       "1"
      ],
      "text/markdown": [
       "1"
      ],
      "text/plain": [
       "[1] 1"
      ]
     },
     "metadata": {},
     "output_type": "display_data"
    },
    {
     "data": {
      "text/html": [
       "1"
      ],
      "text/latex": [
       "1"
      ],
      "text/markdown": [
       "1"
      ],
      "text/plain": [
       "[1] 1"
      ]
     },
     "metadata": {},
     "output_type": "display_data"
    },
    {
     "data": {
      "text/html": [
       "0.297650887701544"
      ],
      "text/latex": [
       "0.297650887701544"
      ],
      "text/markdown": [
       "0.297650887701544"
      ],
      "text/plain": [
       "[1] 0.2976509"
      ]
     },
     "metadata": {},
     "output_type": "display_data"
    },
    {
     "data": {
      "text/html": [
       "0.268318298852163"
      ],
      "text/latex": [
       "0.268318298852163"
      ],
      "text/markdown": [
       "0.268318298852163"
      ],
      "text/plain": [
       "[1] 0.2683183"
      ]
     },
     "metadata": {},
     "output_type": "display_data"
    }
   ],
   "source": [
    "gof.dev <- deviance(perm.log)\n",
    "gof.pearson <- sum(perm.log$weights * perm.log$residuals^2)\n",
    "\n",
    "pchisq(gof.dev, df=df.residual(perm.log), lower.tail = FALSE)\n",
    "pchisq(gof.pearson, df=df.residual(perm.log), lower.tail = FALSE)\n",
    "\n",
    "gof.dev\n",
    "gof.pearson"
   ]
  },
  {
   "cell_type": "code",
   "execution_count": 8,
   "metadata": {},
   "outputs": [
    {
     "data": {
      "text/html": [
       "<table>\n",
       "<thead><tr><th></th><th scope=col>Estimate</th><th scope=col>Std. Error</th><th scope=col>t value</th><th scope=col>Pr(&gt;|t|)</th></tr></thead>\n",
       "<tbody>\n",
       "\t<tr><th scope=row>(Intercept)</th><td> 3.390361103</td><td>0.2217049   </td><td>15.29222780 </td><td>2.845284e-21</td></tr>\n",
       "\t<tr><th scope=row>MachB</th><td>-0.007214551</td><td>0.3129740   </td><td>-0.02305159 </td><td>9.816941e-01</td></tr>\n",
       "\t<tr><th scope=row>MachC</th><td> 0.572228266</td><td>0.3691381   </td><td> 1.55017398 </td><td>1.269412e-01</td></tr>\n",
       "\t<tr><th scope=row>Day2</th><td> 0.387215806</td><td>0.3486392   </td><td> 1.11064907 </td><td>2.716405e-01</td></tr>\n",
       "\t<tr><th scope=row>Day3</th><td> 0.759996155</td><td>0.3927538   </td><td> 1.93504445 </td><td>5.822958e-02</td></tr>\n",
       "\t<tr><th scope=row>Day4</th><td> 0.396098680</td><td>0.3495645   </td><td> 1.13312034 </td><td>2.621697e-01</td></tr>\n",
       "\t<tr><th scope=row>Day5</th><td> 0.506209798</td><td>0.3615211   </td><td> 1.40022197 </td><td>1.671665e-01</td></tr>\n",
       "\t<tr><th scope=row>Day6</th><td> 0.368433020</td><td>0.3467019   </td><td> 1.06267967 </td><td>2.926566e-01</td></tr>\n",
       "\t<tr><th scope=row>Day7</th><td> 1.223735788</td><td>0.4650449   </td><td> 2.63143579 </td><td>1.105973e-02</td></tr>\n",
       "\t<tr><th scope=row>Day8</th><td> 0.999096189</td><td>0.4273689   </td><td> 2.33778416 </td><td>2.313380e-02</td></tr>\n",
       "\t<tr><th scope=row>Day9</th><td> 0.229882559</td><td>0.3331813   </td><td> 0.68996232 </td><td>4.931726e-01</td></tr>\n",
       "\t<tr><th scope=row>MachB:Day2</th><td>-0.686314004</td><td>0.4544594   </td><td>-1.51017682 </td><td>1.368281e-01</td></tr>\n",
       "\t<tr><th scope=row>MachC:Day2</th><td>-0.388611126</td><td>0.5437346   </td><td>-0.71470733 </td><td>4.778684e-01</td></tr>\n",
       "\t<tr><th scope=row>MachB:Day3</th><td>-0.503716137</td><td>0.5158586   </td><td>-0.97646166 </td><td>3.331900e-01</td></tr>\n",
       "\t<tr><th scope=row>MachC:Day3</th><td>-1.256433042</td><td>0.5425760   </td><td>-2.31568124 </td><td>2.440251e-02</td></tr>\n",
       "\t<tr><th scope=row>MachB:Day4</th><td>-0.451216093</td><td>0.4660238   </td><td>-0.96822553 </td><td>3.372484e-01</td></tr>\n",
       "\t<tr><th scope=row>MachC:Day4</th><td>-0.758366621</td><td>0.5195593   </td><td>-1.45963437 </td><td>1.501839e-01</td></tr>\n",
       "\t<tr><th scope=row>MachB:Day5</th><td>-0.660134233</td><td>0.4704625   </td><td>-1.40316006 </td><td>1.662932e-01</td></tr>\n",
       "\t<tr><th scope=row>MachC:Day5</th><td>-1.271487520</td><td>0.5082629   </td><td>-2.50163346 </td><td>1.542511e-02</td></tr>\n",
       "\t<tr><th scope=row>MachB:Day6</th><td>-0.285635358</td><td>0.4711837   </td><td>-0.60620808 </td><td>5.469166e-01</td></tr>\n",
       "\t<tr><th scope=row>MachC:Day6</th><td>-0.759238707</td><td>0.5159871   </td><td>-1.47142954 </td><td>1.469790e-01</td></tr>\n",
       "\t<tr><th scope=row>MachB:Day7</th><td>-1.368988510</td><td>0.5543182   </td><td>-2.46968008 </td><td>1.671550e-02</td></tr>\n",
       "\t<tr><th scope=row>MachC:Day7</th><td>-1.594140174</td><td>0.6029278   </td><td>-2.64399830 </td><td>1.070361e-02</td></tr>\n",
       "\t<tr><th scope=row>MachB:Day8</th><td>-0.877887268</td><td>0.5352868   </td><td>-1.64003170 </td><td>1.068118e-01</td></tr>\n",
       "\t<tr><th scope=row>MachC:Day8</th><td>-0.396469688</td><td>0.6549024   </td><td>-0.60538743 </td><td>5.474576e-01</td></tr>\n",
       "\t<tr><th scope=row>MachB:Day9</th><td>-0.340549330</td><td>0.4511067   </td><td>-0.75491966 </td><td>4.535772e-01</td></tr>\n",
       "\t<tr><th scope=row>MachC:Day9</th><td>-0.328729217</td><td>0.5263371   </td><td>-0.62456023 </td><td>5.348898e-01</td></tr>\n",
       "</tbody>\n",
       "</table>\n"
      ],
      "text/latex": [
       "\\begin{tabular}{r|llll}\n",
       "  & Estimate & Std. Error & t value & Pr(>\\textbar{}t\\textbar{})\\\\\n",
       "\\hline\n",
       "\t(Intercept) &  3.390361103 & 0.2217049    & 15.29222780  & 2.845284e-21\\\\\n",
       "\tMachB & -0.007214551 & 0.3129740    & -0.02305159  & 9.816941e-01\\\\\n",
       "\tMachC &  0.572228266 & 0.3691381    &  1.55017398  & 1.269412e-01\\\\\n",
       "\tDay2 &  0.387215806 & 0.3486392    &  1.11064907  & 2.716405e-01\\\\\n",
       "\tDay3 &  0.759996155 & 0.3927538    &  1.93504445  & 5.822958e-02\\\\\n",
       "\tDay4 &  0.396098680 & 0.3495645    &  1.13312034  & 2.621697e-01\\\\\n",
       "\tDay5 &  0.506209798 & 0.3615211    &  1.40022197  & 1.671665e-01\\\\\n",
       "\tDay6 &  0.368433020 & 0.3467019    &  1.06267967  & 2.926566e-01\\\\\n",
       "\tDay7 &  1.223735788 & 0.4650449    &  2.63143579  & 1.105973e-02\\\\\n",
       "\tDay8 &  0.999096189 & 0.4273689    &  2.33778416  & 2.313380e-02\\\\\n",
       "\tDay9 &  0.229882559 & 0.3331813    &  0.68996232  & 4.931726e-01\\\\\n",
       "\tMachB:Day2 & -0.686314004 & 0.4544594    & -1.51017682  & 1.368281e-01\\\\\n",
       "\tMachC:Day2 & -0.388611126 & 0.5437346    & -0.71470733  & 4.778684e-01\\\\\n",
       "\tMachB:Day3 & -0.503716137 & 0.5158586    & -0.97646166  & 3.331900e-01\\\\\n",
       "\tMachC:Day3 & -1.256433042 & 0.5425760    & -2.31568124  & 2.440251e-02\\\\\n",
       "\tMachB:Day4 & -0.451216093 & 0.4660238    & -0.96822553  & 3.372484e-01\\\\\n",
       "\tMachC:Day4 & -0.758366621 & 0.5195593    & -1.45963437  & 1.501839e-01\\\\\n",
       "\tMachB:Day5 & -0.660134233 & 0.4704625    & -1.40316006  & 1.662932e-01\\\\\n",
       "\tMachC:Day5 & -1.271487520 & 0.5082629    & -2.50163346  & 1.542511e-02\\\\\n",
       "\tMachB:Day6 & -0.285635358 & 0.4711837    & -0.60620808  & 5.469166e-01\\\\\n",
       "\tMachC:Day6 & -0.759238707 & 0.5159871    & -1.47142954  & 1.469790e-01\\\\\n",
       "\tMachB:Day7 & -1.368988510 & 0.5543182    & -2.46968008  & 1.671550e-02\\\\\n",
       "\tMachC:Day7 & -1.594140174 & 0.6029278    & -2.64399830  & 1.070361e-02\\\\\n",
       "\tMachB:Day8 & -0.877887268 & 0.5352868    & -1.64003170  & 1.068118e-01\\\\\n",
       "\tMachC:Day8 & -0.396469688 & 0.6549024    & -0.60538743  & 5.474576e-01\\\\\n",
       "\tMachB:Day9 & -0.340549330 & 0.4511067    & -0.75491966  & 4.535772e-01\\\\\n",
       "\tMachC:Day9 & -0.328729217 & 0.5263371    & -0.62456023  & 5.348898e-01\\\\\n",
       "\\end{tabular}\n"
      ],
      "text/markdown": [
       "\n",
       "| <!--/--> | Estimate | Std. Error | t value | Pr(>|t|) |\n",
       "|---|---|---|---|---|\n",
       "| (Intercept) |  3.390361103 | 0.2217049    | 15.29222780  | 2.845284e-21 |\n",
       "| MachB | -0.007214551 | 0.3129740    | -0.02305159  | 9.816941e-01 |\n",
       "| MachC |  0.572228266 | 0.3691381    |  1.55017398  | 1.269412e-01 |\n",
       "| Day2 |  0.387215806 | 0.3486392    |  1.11064907  | 2.716405e-01 |\n",
       "| Day3 |  0.759996155 | 0.3927538    |  1.93504445  | 5.822958e-02 |\n",
       "| Day4 |  0.396098680 | 0.3495645    |  1.13312034  | 2.621697e-01 |\n",
       "| Day5 |  0.506209798 | 0.3615211    |  1.40022197  | 1.671665e-01 |\n",
       "| Day6 |  0.368433020 | 0.3467019    |  1.06267967  | 2.926566e-01 |\n",
       "| Day7 |  1.223735788 | 0.4650449    |  2.63143579  | 1.105973e-02 |\n",
       "| Day8 |  0.999096189 | 0.4273689    |  2.33778416  | 2.313380e-02 |\n",
       "| Day9 |  0.229882559 | 0.3331813    |  0.68996232  | 4.931726e-01 |\n",
       "| MachB:Day2 | -0.686314004 | 0.4544594    | -1.51017682  | 1.368281e-01 |\n",
       "| MachC:Day2 | -0.388611126 | 0.5437346    | -0.71470733  | 4.778684e-01 |\n",
       "| MachB:Day3 | -0.503716137 | 0.5158586    | -0.97646166  | 3.331900e-01 |\n",
       "| MachC:Day3 | -1.256433042 | 0.5425760    | -2.31568124  | 2.440251e-02 |\n",
       "| MachB:Day4 | -0.451216093 | 0.4660238    | -0.96822553  | 3.372484e-01 |\n",
       "| MachC:Day4 | -0.758366621 | 0.5195593    | -1.45963437  | 1.501839e-01 |\n",
       "| MachB:Day5 | -0.660134233 | 0.4704625    | -1.40316006  | 1.662932e-01 |\n",
       "| MachC:Day5 | -1.271487520 | 0.5082629    | -2.50163346  | 1.542511e-02 |\n",
       "| MachB:Day6 | -0.285635358 | 0.4711837    | -0.60620808  | 5.469166e-01 |\n",
       "| MachC:Day6 | -0.759238707 | 0.5159871    | -1.47142954  | 1.469790e-01 |\n",
       "| MachB:Day7 | -1.368988510 | 0.5543182    | -2.46968008  | 1.671550e-02 |\n",
       "| MachC:Day7 | -1.594140174 | 0.6029278    | -2.64399830  | 1.070361e-02 |\n",
       "| MachB:Day8 | -0.877887268 | 0.5352868    | -1.64003170  | 1.068118e-01 |\n",
       "| MachC:Day8 | -0.396469688 | 0.6549024    | -0.60538743  | 5.474576e-01 |\n",
       "| MachB:Day9 | -0.340549330 | 0.4511067    | -0.75491966  | 4.535772e-01 |\n",
       "| MachC:Day9 | -0.328729217 | 0.5263371    | -0.62456023  | 5.348898e-01 |\n",
       "\n"
      ],
      "text/plain": [
       "            Estimate     Std. Error t value     Pr(>|t|)    \n",
       "(Intercept)  3.390361103 0.2217049  15.29222780 2.845284e-21\n",
       "MachB       -0.007214551 0.3129740  -0.02305159 9.816941e-01\n",
       "MachC        0.572228266 0.3691381   1.55017398 1.269412e-01\n",
       "Day2         0.387215806 0.3486392   1.11064907 2.716405e-01\n",
       "Day3         0.759996155 0.3927538   1.93504445 5.822958e-02\n",
       "Day4         0.396098680 0.3495645   1.13312034 2.621697e-01\n",
       "Day5         0.506209798 0.3615211   1.40022197 1.671665e-01\n",
       "Day6         0.368433020 0.3467019   1.06267967 2.926566e-01\n",
       "Day7         1.223735788 0.4650449   2.63143579 1.105973e-02\n",
       "Day8         0.999096189 0.4273689   2.33778416 2.313380e-02\n",
       "Day9         0.229882559 0.3331813   0.68996232 4.931726e-01\n",
       "MachB:Day2  -0.686314004 0.4544594  -1.51017682 1.368281e-01\n",
       "MachC:Day2  -0.388611126 0.5437346  -0.71470733 4.778684e-01\n",
       "MachB:Day3  -0.503716137 0.5158586  -0.97646166 3.331900e-01\n",
       "MachC:Day3  -1.256433042 0.5425760  -2.31568124 2.440251e-02\n",
       "MachB:Day4  -0.451216093 0.4660238  -0.96822553 3.372484e-01\n",
       "MachC:Day4  -0.758366621 0.5195593  -1.45963437 1.501839e-01\n",
       "MachB:Day5  -0.660134233 0.4704625  -1.40316006 1.662932e-01\n",
       "MachC:Day5  -1.271487520 0.5082629  -2.50163346 1.542511e-02\n",
       "MachB:Day6  -0.285635358 0.4711837  -0.60620808 5.469166e-01\n",
       "MachC:Day6  -0.759238707 0.5159871  -1.47142954 1.469790e-01\n",
       "MachB:Day7  -1.368988510 0.5543182  -2.46968008 1.671550e-02\n",
       "MachC:Day7  -1.594140174 0.6029278  -2.64399830 1.070361e-02\n",
       "MachB:Day8  -0.877887268 0.5352868  -1.64003170 1.068118e-01\n",
       "MachC:Day8  -0.396469688 0.6549024  -0.60538743 5.474576e-01\n",
       "MachB:Day9  -0.340549330 0.4511067  -0.75491966 4.535772e-01\n",
       "MachC:Day9  -0.328729217 0.5263371  -0.62456023 5.348898e-01"
      ]
     },
     "metadata": {},
     "output_type": "display_data"
    }
   ],
   "source": [
    "coef(summary(perm.log))"
   ]
  },
  {
   "cell_type": "code",
   "execution_count": 9,
   "metadata": {},
   "outputs": [
    {
     "data": {
      "text/html": [
       "<table>\n",
       "<thead><tr><th></th><th scope=col>Df</th><th scope=col>Deviance</th><th scope=col>Resid. Df</th><th scope=col>Resid. Dev</th><th scope=col>F</th><th scope=col>Pr(&gt;F)</th></tr></thead>\n",
       "<tbody>\n",
       "\t<tr><th scope=row>NULL</th><td>NA    </td><td>   NA </td><td>80    </td><td>0.617 </td><td>    NA</td><td>   NA </td></tr>\n",
       "\t<tr><th scope=row>Mach</th><td> 2    </td><td>0.140 </td><td>78    </td><td>0.477 </td><td>14.133</td><td>0.000 </td></tr>\n",
       "\t<tr><th scope=row>Day</th><td> 8    </td><td>0.069 </td><td>70    </td><td>0.408 </td><td> 1.747</td><td>0.108 </td></tr>\n",
       "\t<tr><th scope=row>Mach:Day</th><td>16    </td><td>0.110 </td><td>54    </td><td>0.298 </td><td> 1.382</td><td>0.186 </td></tr>\n",
       "</tbody>\n",
       "</table>\n"
      ],
      "text/latex": [
       "\\begin{tabular}{r|llllll}\n",
       "  & Df & Deviance & Resid. Df & Resid. Dev & F & Pr(>F)\\\\\n",
       "\\hline\n",
       "\tNULL & NA     &    NA  & 80     & 0.617  &     NA &    NA \\\\\n",
       "\tMach &  2     & 0.140  & 78     & 0.477  & 14.133 & 0.000 \\\\\n",
       "\tDay &  8     & 0.069  & 70     & 0.408  &  1.747 & 0.108 \\\\\n",
       "\tMach:Day & 16     & 0.110  & 54     & 0.298  &  1.382 & 0.186 \\\\\n",
       "\\end{tabular}\n"
      ],
      "text/markdown": [
       "\n",
       "| <!--/--> | Df | Deviance | Resid. Df | Resid. Dev | F | Pr(>F) |\n",
       "|---|---|---|---|---|---|---|\n",
       "| NULL | NA     |    NA  | 80     | 0.617  |     NA |    NA  |\n",
       "| Mach |  2     | 0.140  | 78     | 0.477  | 14.133 | 0.000  |\n",
       "| Day |  8     | 0.069  | 70     | 0.408  |  1.747 | 0.108  |\n",
       "| Mach:Day | 16     | 0.110  | 54     | 0.298  |  1.382 | 0.186  |\n",
       "\n"
      ],
      "text/plain": [
       "         Df Deviance Resid. Df Resid. Dev F      Pr(>F)\n",
       "NULL     NA    NA    80        0.617          NA    NA \n",
       "Mach      2 0.140    78        0.477      14.133 0.000 \n",
       "Day       8 0.069    70        0.408       1.747 0.108 \n",
       "Mach:Day 16 0.110    54        0.298       1.382 0.186 "
      ]
     },
     "metadata": {},
     "output_type": "display_data"
    }
   ],
   "source": [
    "round( anova( perm.log, test=\"F\"), 3)"
   ]
  },
  {
   "cell_type": "code",
   "execution_count": 19,
   "metadata": {},
   "outputs": [],
   "source": [
    "perm.log <- update( perm.log, Perm ~ Mach)"
   ]
  },
  {
   "cell_type": "code",
   "execution_count": 20,
   "metadata": {},
   "outputs": [
    {
     "data": {
      "text/html": [
       "1"
      ],
      "text/latex": [
       "1"
      ],
      "text/markdown": [
       "1"
      ],
      "text/plain": [
       "[1] 1"
      ]
     },
     "metadata": {},
     "output_type": "display_data"
    },
    {
     "data": {
      "text/html": [
       "1"
      ],
      "text/latex": [
       "1"
      ],
      "text/markdown": [
       "1"
      ],
      "text/plain": [
       "[1] 1"
      ]
     },
     "metadata": {},
     "output_type": "display_data"
    },
    {
     "data": {
      "text/html": [
       "0.477010251560385"
      ],
      "text/latex": [
       "0.477010251560385"
      ],
      "text/markdown": [
       "0.477010251560385"
      ],
      "text/plain": [
       "[1] 0.4770103"
      ]
     },
     "metadata": {},
     "output_type": "display_data"
    },
    {
     "data": {
      "text/html": [
       "0.526946254786765"
      ],
      "text/latex": [
       "0.526946254786765"
      ],
      "text/markdown": [
       "0.526946254786765"
      ],
      "text/plain": [
       "[1] 0.5269463"
      ]
     },
     "metadata": {},
     "output_type": "display_data"
    }
   ],
   "source": [
    "gof.dev <- deviance(perm.log)\n",
    "gof.pearson <- sum(perm.log$weights * perm.log$residuals^2)\n",
    "\n",
    "pchisq(gof.dev, df=df.residual(perm.log), lower.tail = FALSE)\n",
    "pchisq(gof.pearson, df=df.residual(perm.log), lower.tail = FALSE)\n",
    "\n",
    "gof.dev\n",
    "gof.pearson"
   ]
  },
  {
   "cell_type": "code",
   "execution_count": 21,
   "metadata": {},
   "outputs": [
    {
     "data": {
      "text/html": [
       "<table>\n",
       "<thead><tr><th></th><th scope=col>Estimate</th><th scope=col>Std. Error</th><th scope=col>t value</th><th scope=col>Pr(&gt;|t|)</th></tr></thead>\n",
       "<tbody>\n",
       "\t<tr><th scope=row>(Intercept)</th><td> 4.0010780  </td><td>0.1169439   </td><td>34.213662   </td><td>9.992420e-49</td></tr>\n",
       "\t<tr><th scope=row>MachB</th><td>-0.6389808  </td><td>0.1445489   </td><td>-4.420516   </td><td>3.144156e-05</td></tr>\n",
       "\t<tr><th scope=row>MachC</th><td>-0.1728634  </td><td>0.1586845   </td><td>-1.089353   </td><td>2.793526e-01</td></tr>\n",
       "</tbody>\n",
       "</table>\n"
      ],
      "text/latex": [
       "\\begin{tabular}{r|llll}\n",
       "  & Estimate & Std. Error & t value & Pr(>\\textbar{}t\\textbar{})\\\\\n",
       "\\hline\n",
       "\t(Intercept) &  4.0010780   & 0.1169439    & 34.213662    & 9.992420e-49\\\\\n",
       "\tMachB & -0.6389808   & 0.1445489    & -4.420516    & 3.144156e-05\\\\\n",
       "\tMachC & -0.1728634   & 0.1586845    & -1.089353    & 2.793526e-01\\\\\n",
       "\\end{tabular}\n"
      ],
      "text/markdown": [
       "\n",
       "| <!--/--> | Estimate | Std. Error | t value | Pr(>|t|) |\n",
       "|---|---|---|---|---|\n",
       "| (Intercept) |  4.0010780   | 0.1169439    | 34.213662    | 9.992420e-49 |\n",
       "| MachB | -0.6389808   | 0.1445489    | -4.420516    | 3.144156e-05 |\n",
       "| MachC | -0.1728634   | 0.1586845    | -1.089353    | 2.793526e-01 |\n",
       "\n"
      ],
      "text/plain": [
       "            Estimate   Std. Error t value   Pr(>|t|)    \n",
       "(Intercept)  4.0010780 0.1169439  34.213662 9.992420e-49\n",
       "MachB       -0.6389808 0.1445489  -4.420516 3.144156e-05\n",
       "MachC       -0.1728634 0.1586845  -1.089353 2.793526e-01"
      ]
     },
     "metadata": {},
     "output_type": "display_data"
    }
   ],
   "source": [
    "coef(summary(perm.log))"
   ]
  },
  {
   "cell_type": "code",
   "execution_count": 22,
   "metadata": {},
   "outputs": [
    {
     "data": {
      "text/html": [
       "<table>\n",
       "<thead><tr><th></th><th scope=col>Df</th><th scope=col>Deviance</th><th scope=col>Resid. Df</th><th scope=col>Resid. Dev</th><th scope=col>F</th><th scope=col>Pr(&gt;F)</th></tr></thead>\n",
       "<tbody>\n",
       "\t<tr><th scope=row>NULL</th><td>NA    </td><td>  NA  </td><td>80    </td><td>0.617 </td><td>    NA</td><td>NA    </td></tr>\n",
       "\t<tr><th scope=row>Mach</th><td> 2    </td><td>0.14  </td><td>78    </td><td>0.477 </td><td>10.395</td><td> 0    </td></tr>\n",
       "</tbody>\n",
       "</table>\n"
      ],
      "text/latex": [
       "\\begin{tabular}{r|llllll}\n",
       "  & Df & Deviance & Resid. Df & Resid. Dev & F & Pr(>F)\\\\\n",
       "\\hline\n",
       "\tNULL & NA     &   NA   & 80     & 0.617  &     NA & NA    \\\\\n",
       "\tMach &  2     & 0.14   & 78     & 0.477  & 10.395 &  0    \\\\\n",
       "\\end{tabular}\n"
      ],
      "text/markdown": [
       "\n",
       "| <!--/--> | Df | Deviance | Resid. Df | Resid. Dev | F | Pr(>F) |\n",
       "|---|---|---|---|---|---|---|\n",
       "| NULL | NA     |   NA   | 80     | 0.617  |     NA | NA     |\n",
       "| Mach |  2     | 0.14   | 78     | 0.477  | 10.395 |  0     |\n",
       "\n"
      ],
      "text/plain": [
       "     Df Deviance Resid. Df Resid. Dev F      Pr(>F)\n",
       "NULL NA   NA     80        0.617          NA NA    \n",
       "Mach  2 0.14     78        0.477      10.395  0    "
      ]
     },
     "metadata": {},
     "output_type": "display_data"
    }
   ],
   "source": [
    "round( anova( perm.log, test=\"F\"), 3)"
   ]
  },
  {
   "cell_type": "code",
   "execution_count": 23,
   "metadata": {},
   "outputs": [
    {
     "name": "stderr",
     "output_type": "stream",
     "text": [
      "Warning message in simpleLoess(y, x, w, span, degree = degree, parametric = FALSE, :\n",
      "\"pseudoinverse used at 0.13501\"Warning message in simpleLoess(y, x, w, span, degree = degree, parametric = FALSE, :\n",
      "\"neighborhood radius 0.012466\"Warning message in simpleLoess(y, x, w, span, degree = degree, parametric = FALSE, :\n",
      "\"reciprocal condition number  0\"Warning message in simpleLoess(y, x, w, span, degree = degree, parametric = FALSE, :\n",
      "\"There are other near singularities as well. 0.0015179\"Warning message in simpleLoess(y, x, w, span, degree = degree, parametric = FALSE, :\n",
      "\"pseudoinverse used at 0.13501\"Warning message in simpleLoess(y, x, w, span, degree = degree, parametric = FALSE, :\n",
      "\"neighborhood radius 0.012466\"Warning message in simpleLoess(y, x, w, span, degree = degree, parametric = FALSE, :\n",
      "\"reciprocal condition number  0\"Warning message in simpleLoess(y, x, w, span, degree = degree, parametric = FALSE, :\n",
      "\"There are other near singularities as well. 0.0015179\"Warning message in simpleLoess(y, x, w, span, degree = degree, parametric = FALSE, :\n",
      "\"pseudoinverse used at 0.13501\"Warning message in simpleLoess(y, x, w, span, degree = degree, parametric = FALSE, :\n",
      "\"neighborhood radius 0.012466\"Warning message in simpleLoess(y, x, w, span, degree = degree, parametric = FALSE, :\n",
      "\"reciprocal condition number  0\"Warning message in simpleLoess(y, x, w, span, degree = degree, parametric = FALSE, :\n",
      "\"There are other near singularities as well. 0.0015179\"Warning message in simpleLoess(y, x, w, span, degree = degree, parametric = FALSE, :\n",
      "\"pseudoinverse used at 0.13501\"Warning message in simpleLoess(y, x, w, span, degree = degree, parametric = FALSE, :\n",
      "\"neighborhood radius 0.012466\"Warning message in simpleLoess(y, x, w, span, degree = degree, parametric = FALSE, :\n",
      "\"reciprocal condition number  0\"Warning message in simpleLoess(y, x, w, span, degree = degree, parametric = FALSE, :\n",
      "\"There are other near singularities as well. 0.0015179\"Warning message in simpleLoess(y, x, w, span, degree = degree, parametric = FALSE, :\n",
      "\"pseudoinverse used at 0.13501\"Warning message in simpleLoess(y, x, w, span, degree = degree, parametric = FALSE, :\n",
      "\"neighborhood radius 0.012466\"Warning message in simpleLoess(y, x, w, span, degree = degree, parametric = FALSE, :\n",
      "\"reciprocal condition number  0\"Warning message in simpleLoess(y, x, w, span, degree = degree, parametric = FALSE, :\n",
      "\"There are other near singularities as well. 0.0015179\"Warning message in simpleLoess(y, x, w, span, degree = degree, parametric = FALSE, :\n",
      "\"pseudoinverse used at 3.3589\"Warning message in simpleLoess(y, x, w, span, degree = degree, parametric = FALSE, :\n",
      "\"neighborhood radius 0.46931\"Warning message in simpleLoess(y, x, w, span, degree = degree, parametric = FALSE, :\n",
      "\"reciprocal condition number  0\"Warning message in simpleLoess(y, x, w, span, degree = degree, parametric = FALSE, :\n",
      "\"There are other near singularities as well. 0.030997\"Warning message in simpleLoess(y, x, w, span, degree = degree, parametric = FALSE, :\n",
      "\"pseudoinverse used at 3.3589\"Warning message in simpleLoess(y, x, w, span, degree = degree, parametric = FALSE, :\n",
      "\"neighborhood radius 0.46931\"Warning message in simpleLoess(y, x, w, span, degree = degree, parametric = FALSE, :\n",
      "\"reciprocal condition number  0\"Warning message in simpleLoess(y, x, w, span, degree = degree, parametric = FALSE, :\n",
      "\"There are other near singularities as well. 0.030997\"Warning message in simpleLoess(y, x, w, span, degree = degree, parametric = FALSE, :\n",
      "\"pseudoinverse used at 3.3589\"Warning message in simpleLoess(y, x, w, span, degree = degree, parametric = FALSE, :\n",
      "\"neighborhood radius 0.46931\"Warning message in simpleLoess(y, x, w, span, degree = degree, parametric = FALSE, :\n",
      "\"reciprocal condition number  0\"Warning message in simpleLoess(y, x, w, span, degree = degree, parametric = FALSE, :\n",
      "\"There are other near singularities as well. 0.030997\"Warning message in simpleLoess(y, x, w, span, degree = degree, parametric = FALSE, :\n",
      "\"pseudoinverse used at 3.3589\"Warning message in simpleLoess(y, x, w, span, degree = degree, parametric = FALSE, :\n",
      "\"neighborhood radius 0.46931\"Warning message in simpleLoess(y, x, w, span, degree = degree, parametric = FALSE, :\n",
      "\"reciprocal condition number  0\"Warning message in simpleLoess(y, x, w, span, degree = degree, parametric = FALSE, :\n",
      "\"There are other near singularities as well. 0.030997\"Warning message in simpleLoess(y, x, w, span, degree = degree, parametric = FALSE, :\n",
      "\"pseudoinverse used at 3.3589\"Warning message in simpleLoess(y, x, w, span, degree = degree, parametric = FALSE, :\n",
      "\"neighborhood radius 0.46931\"Warning message in simpleLoess(y, x, w, span, degree = degree, parametric = FALSE, :\n",
      "\"reciprocal condition number  0\"Warning message in simpleLoess(y, x, w, span, degree = degree, parametric = FALSE, :\n",
      "\"There are other near singularities as well. 0.030997\""
     ]
    },
    {
     "data": {
      "text/plain": [
       "\n",
       "\tShapiro-Wilk normality test\n",
       "\n",
       "data:  qr1\n",
       "W = 0.96986, p-value = 0.05299\n"
      ]
     },
     "metadata": {},
     "output_type": "display_data"
    },
    {
     "data": {
      "image/png": "[encoded data removed]",
      "text/plain": [
       "Plot with title \"Normal Q-Q Plot\""
      ]
     },
     "metadata": {},
     "output_type": "display_data"
    }
   ],
   "source": [
    "par(mfrow=c(3, 3))\n",
    "\n",
    "scatter.smooth(rstandard(perm.log) ~ 1/sqrt(fitted(perm.log)))\n",
    "#plot(rstandard(perm.log) ~ perm$Day)\n",
    "plot(rstandard(perm.log) ~ perm$Mach)\n",
    "z <- resid(perm.log, type=\"working\") + perm.log$linear.predictor\n",
    "scatter.smooth(z ~ perm.log$linear.predictor)\n",
    "qqnorm(qr1 <- qresid(perm.log))\n",
    "qqline(qr1)\n",
    "plot(cooks.distance(perm.log), type=\"h\")"
   ]
  },
  {
   "cell_type": "code",
   "execution_count": 24,
   "metadata": {},
   "outputs": [
    {
     "data": {
      "text/html": [
       "<dl class=dl-horizontal>\n",
       "\t<dt>dfb.1_</dt>\n",
       "\t\t<dd>0</dd>\n",
       "\t<dt>dfb.MchB</dt>\n",
       "\t\t<dd>0</dd>\n",
       "\t<dt>dfb.MchC</dt>\n",
       "\t\t<dd>0</dd>\n",
       "\t<dt>dffit</dt>\n",
       "\t\t<dd>0</dd>\n",
       "\t<dt>cov.r</dt>\n",
       "\t\t<dd>2</dd>\n",
       "\t<dt>cook.d</dt>\n",
       "\t\t<dd>0</dd>\n",
       "\t<dt>hat</dt>\n",
       "\t\t<dd>0</dd>\n",
       "</dl>\n"
      ],
      "text/latex": [
       "\\begin{description*}\n",
       "\\item[dfb.1\\textbackslash{}\\_] 0\n",
       "\\item[dfb.MchB] 0\n",
       "\\item[dfb.MchC] 0\n",
       "\\item[dffit] 0\n",
       "\\item[cov.r] 2\n",
       "\\item[cook.d] 0\n",
       "\\item[hat] 0\n",
       "\\end{description*}\n"
      ],
      "text/markdown": [
       "dfb.1_\n",
       ":   0dfb.MchB\n",
       ":   0dfb.MchC\n",
       ":   0dffit\n",
       ":   0cov.r\n",
       ":   2cook.d\n",
       ":   0hat\n",
       ":   0\n",
       "\n"
      ],
      "text/plain": [
       "  dfb.1_ dfb.MchB dfb.MchC    dffit    cov.r   cook.d      hat \n",
       "       0        0        0        0        2        0        0 "
      ]
     },
     "metadata": {},
     "output_type": "display_data"
    }
   ],
   "source": [
    "colSums(influence.measures(perm.log)$is.inf)"
   ]
  }
 ],
 "metadata": {
  "kernelspec": {
   "display_name": "R",
   "language": "R",
   "name": "ir"
  },
  "language_info": {
   "codemirror_mode": "r",
   "file_extension": ".r",
   "mimetype": "text/x-r-source",
   "name": "R",
   "pygments_lexer": "r",
   "version": "3.6.1"
  },
  "orig_nbformat": 4
 },
 "nbformat": 4,
 "nbformat_minor": 2
}
