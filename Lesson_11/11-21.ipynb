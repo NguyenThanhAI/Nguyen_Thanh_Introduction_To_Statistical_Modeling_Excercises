{
 "cells": [
  {
   "cell_type": "code",
   "execution_count": 1,
   "metadata": {},
   "outputs": [
    {
     "name": "stderr",
     "output_type": "stream",
     "text": [
      "Warning message:\n",
      "\"package 'statmod' was built under R version 3.6.3\""
     ]
    }
   ],
   "source": [
    "library(GLMsData)\n",
    "library(statmod)\n",
    "library(MASS)\n",
    "library(splines)"
   ]
  },
  {
   "cell_type": "code",
   "execution_count": 2,
   "metadata": {},
   "outputs": [],
   "source": [
    "data(urinationL)"
   ]
  },
  {
   "cell_type": "code",
   "execution_count": 3,
   "metadata": {},
   "outputs": [
    {
     "name": "stdout",
     "output_type": "stream",
     "text": [
      "'data.frame':\t47 obs. of  5 variables:\n",
      " $ Animal    : Factor w/ 21 levels \"African Elephant (10 years)\",..: 15 20 18 19 11 16 16 16 16 16 ...\n",
      " $ Sex       : Factor w/ 2 levels \"F\",\"M\": 1 1 1 1 2 1 1 1 1 1 ...\n",
      " $ Mass      : num  0.02 0.2 0.2 0.3 0.4 2.3 2.3 2.7 2.7 3.2 ...\n",
      " $ Length    : num  10 9.5 17 20 20 49.4 50 66.7 54.2 68.3 ...\n",
      " $ SampleSize: int  1 20 1 61 1 1 1 1 1 1 ...\n"
     ]
    }
   ],
   "source": [
    "str(urinationL)"
   ]
  },
  {
   "cell_type": "code",
   "execution_count": 4,
   "metadata": {},
   "outputs": [],
   "source": [
    "glm.1 <- glm(Length ~ log(Mass), data=urinationL, weights=SampleSize, family = Gamma(link=\"log\"))"
   ]
  },
  {
   "cell_type": "code",
   "execution_count": 5,
   "metadata": {},
   "outputs": [
    {
     "data": {
      "text/html": [
       "<table>\n",
       "<thead><tr><th></th><th scope=col>Estimate</th><th scope=col>Std. Error</th><th scope=col>t value</th><th scope=col>Pr(&gt;|t|)</th></tr></thead>\n",
       "<tbody>\n",
       "\t<tr><th scope=row>(Intercept)</th><td>3.4319016   </td><td>0.04468136  </td><td>76.80836    </td><td>2.260206e-49</td></tr>\n",
       "\t<tr><th scope=row>log(Mass)</th><td>0.4414242   </td><td>0.01159505  </td><td>38.07006    </td><td>7.104189e-36</td></tr>\n",
       "</tbody>\n",
       "</table>\n"
      ],
      "text/latex": [
       "\\begin{tabular}{r|llll}\n",
       "  & Estimate & Std. Error & t value & Pr(>\\textbar{}t\\textbar{})\\\\\n",
       "\\hline\n",
       "\t(Intercept) & 3.4319016    & 0.04468136   & 76.80836     & 2.260206e-49\\\\\n",
       "\tlog(Mass) & 0.4414242    & 0.01159505   & 38.07006     & 7.104189e-36\\\\\n",
       "\\end{tabular}\n"
      ],
      "text/markdown": [
       "\n",
       "| <!--/--> | Estimate | Std. Error | t value | Pr(>|t|) |\n",
       "|---|---|---|---|---|\n",
       "| (Intercept) | 3.4319016    | 0.04468136   | 76.80836     | 2.260206e-49 |\n",
       "| log(Mass) | 0.4414242    | 0.01159505   | 38.07006     | 7.104189e-36 |\n",
       "\n"
      ],
      "text/plain": [
       "            Estimate  Std. Error t value  Pr(>|t|)    \n",
       "(Intercept) 3.4319016 0.04468136 76.80836 2.260206e-49\n",
       "log(Mass)   0.4414242 0.01159505 38.07006 7.104189e-36"
      ]
     },
     "metadata": {},
     "output_type": "display_data"
    }
   ],
   "source": [
    "coef(summary(glm.1))"
   ]
  },
  {
   "cell_type": "code",
   "execution_count": 6,
   "metadata": {},
   "outputs": [
    {
     "data": {
      "text/html": [
       "0.30666453906575"
      ],
      "text/latex": [
       "0.30666453906575"
      ],
      "text/markdown": [
       "0.30666453906575"
      ],
      "text/plain": [
       "[1] 0.3066645"
      ]
     },
     "metadata": {},
     "output_type": "display_data"
    },
    {
     "data": {
      "text/html": [
       "0.999998021786682"
      ],
      "text/latex": [
       "0.999998021786682"
      ],
      "text/markdown": [
       "0.999998021786682"
      ],
      "text/plain": [
       "[1] 0.999998"
      ]
     },
     "metadata": {},
     "output_type": "display_data"
    }
   ],
   "source": [
    "deviance(glm.1) / df.residual(glm.1)\n",
    "gof.dev <- deviance(glm.1)\n",
    "pchisq(gof.dev, df=df.residual(glm.1), lower.tail = FALSE)"
   ]
  },
  {
   "cell_type": "code",
   "execution_count": 7,
   "metadata": {},
   "outputs": [
    {
     "data": {
      "text/html": [
       "<table>\n",
       "<thead><tr><th></th><th scope=col>Df</th><th scope=col>Deviance</th><th scope=col>Resid. Df</th><th scope=col>Resid. Dev</th><th scope=col>F</th><th scope=col>Pr(&gt;F)</th></tr></thead>\n",
       "<tbody>\n",
       "\t<tr><th scope=row>NULL</th><td>NA         </td><td>      NA   </td><td>46         </td><td>364.8385   </td><td>      NA   </td><td>         NA</td></tr>\n",
       "\t<tr><th scope=row>log(Mass)</th><td> 1         </td><td>351.0386   </td><td>45         </td><td> 13.7999   </td><td>1193.203   </td><td>4.89864e-34</td></tr>\n",
       "</tbody>\n",
       "</table>\n"
      ],
      "text/latex": [
       "\\begin{tabular}{r|llllll}\n",
       "  & Df & Deviance & Resid. Df & Resid. Dev & F & Pr(>F)\\\\\n",
       "\\hline\n",
       "\tNULL & NA          &       NA    & 46          & 364.8385    &       NA    &          NA\\\\\n",
       "\tlog(Mass) &  1          & 351.0386    & 45          &  13.7999    & 1193.203    & 4.89864e-34\\\\\n",
       "\\end{tabular}\n"
      ],
      "text/markdown": [
       "\n",
       "| <!--/--> | Df | Deviance | Resid. Df | Resid. Dev | F | Pr(>F) |\n",
       "|---|---|---|---|---|---|---|\n",
       "| NULL | NA          |       NA    | 46          | 364.8385    |       NA    |          NA |\n",
       "| log(Mass) |  1          | 351.0386    | 45          |  13.7999    | 1193.203    | 4.89864e-34 |\n",
       "\n"
      ],
      "text/plain": [
       "          Df Deviance Resid. Df Resid. Dev F        Pr(>F)     \n",
       "NULL      NA       NA 46        364.8385         NA          NA\n",
       "log(Mass)  1 351.0386 45         13.7999   1193.203 4.89864e-34"
      ]
     },
     "metadata": {},
     "output_type": "display_data"
    }
   ],
   "source": [
    "anova(glm.1, test=\"F\")"
   ]
  },
  {
   "cell_type": "code",
   "execution_count": 8,
   "metadata": {},
   "outputs": [
    {
     "data": {
      "text/html": [
       "10"
      ],
      "text/latex": [
       "10"
      ],
      "text/markdown": [
       "10"
      ],
      "text/plain": [
       "[1] 10"
      ]
     },
     "metadata": {},
     "output_type": "display_data"
    }
   ],
   "source": [
    "(0.44 - 0.33) / 0.011 # Wald test"
   ]
  },
  {
   "cell_type": "code",
   "execution_count": 10,
   "metadata": {},
   "outputs": [],
   "source": [
    "mu.h0 <- exp(coef(summary(glm.1))[1, \"Estimate\"] + (1/3)*log(urinationL$Mass))"
   ]
  },
  {
   "cell_type": "code",
   "execution_count": 11,
   "metadata": {},
   "outputs": [],
   "source": [
    "D = sum(2*(-log(urinationL$Length/mu.h0) + (urinationL$Length - mu.h0)/mu.h0))"
   ]
  },
  {
   "cell_type": "code",
   "execution_count": 12,
   "metadata": {},
   "outputs": [
    {
     "data": {
      "text/html": [
       "30.0762050437566"
      ],
      "text/latex": [
       "30.0762050437566"
      ],
      "text/markdown": [
       "30.0762050437566"
      ],
      "text/plain": [
       "[1] 30.07621"
      ]
     },
     "metadata": {},
     "output_type": "display_data"
    }
   ],
   "source": [
    "D"
   ]
  },
  {
   "cell_type": "code",
   "execution_count": 15,
   "metadata": {},
   "outputs": [
    {
     "data": {
      "text/html": [
       "2.04404073797552e-13"
      ],
      "text/latex": [
       "2.04404073797552e-13"
      ],
      "text/markdown": [
       "2.04404073797552e-13"
      ],
      "text/plain": [
       "[1] 2.044041e-13"
      ]
     },
     "metadata": {},
     "output_type": "display_data"
    }
   ],
   "source": [
    "L <- (deviance(glm.1) - D)/summary(glm.1)$dispersion\n",
    "2*pchisq(abs(L), df=1, lower.tail = FALSE)"
   ]
  }
 ],
 "metadata": {
  "kernelspec": {
   "display_name": "R",
   "language": "R",
   "name": "ir"
  },
  "language_info": {
   "codemirror_mode": "r",
   "file_extension": ".r",
   "mimetype": "text/x-r-source",
   "name": "R",
   "pygments_lexer": "r",
   "version": "3.6.1"
  },
  "orig_nbformat": 4
 },
 "nbformat": 4,
 "nbformat_minor": 2
}
