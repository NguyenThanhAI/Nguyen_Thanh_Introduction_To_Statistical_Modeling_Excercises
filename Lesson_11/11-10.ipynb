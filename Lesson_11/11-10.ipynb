{
 "cells": [
  {
   "cell_type": "code",
   "execution_count": 1,
   "metadata": {},
   "outputs": [
    {
     "name": "stderr",
     "output_type": "stream",
     "text": [
      "Warning message:\n",
      "\"package 'statmod' was built under R version 3.6.3\""
     ]
    }
   ],
   "source": [
    "library(GLMsData)\n",
    "library(statmod)\n",
    "library(MASS)\n",
    "library(splines)"
   ]
  },
  {
   "cell_type": "code",
   "execution_count": 2,
   "metadata": {},
   "outputs": [],
   "source": [
    "data(lime)"
   ]
  },
  {
   "cell_type": "code",
   "execution_count": 3,
   "metadata": {},
   "outputs": [
    {
     "name": "stdout",
     "output_type": "stream",
     "text": [
      "'data.frame':\t385 obs. of  4 variables:\n",
      " $ Foliage: num  0.1 0.2 0.4 0.6 0.6 0.8 1 1.4 1.7 3.5 ...\n",
      " $ DBH    : num  4 6 8 9.6 11.3 13.7 15.4 17.8 18 22 ...\n",
      " $ Age    : int  38 38 46 44 60 56 72 74 68 79 ...\n",
      " $ Origin : Factor w/ 3 levels \"Coppice\",\"Natural\",..: 2 2 2 2 2 2 2 2 2 2 ...\n"
     ]
    }
   ],
   "source": [
    "str(lime)"
   ]
  },
  {
   "cell_type": "code",
   "execution_count": 6,
   "metadata": {},
   "outputs": [
    {
     "data": {
      "image/png": "[encoded data removed]",
      "text/plain": [
       "plot without title"
      ]
     },
     "metadata": {},
     "output_type": "display_data"
    }
   ],
   "source": [
    "par(mfrow=c(2, 2))\n",
    "plot(Foliage ~ DBH, type=\"n\", las=1,\n",
    "xlab=\"DBH (in cm)\", ylab=\"Foliage biomass (in kg)\",\n",
    "ylim = c(0, 15), xlim=c(0, 40), data=lime)\n",
    "points(Foliage ~ DBH, data=subset(lime, Origin==\"Coppice\"),\n",
    "pch=1)\n",
    "points(Foliage ~ DBH, data=subset(lime, Origin==\"Natural\"),\n",
    "pch=2)\n",
    "points(Foliage ~ DBH, data=subset(lime, Origin==\"Planted\"),\n",
    "pch=3)\n",
    "legend(\"topleft\", pch=c(1, 2, 3),\n",
    "legend=c(\"Coppice\", \"Natural\",\"Planted\"))\n",
    "\n",
    "plot(Foliage ~ Age, type=\"n\", las=1,\n",
    "xlab=\"Age (in year)\", ylab=\"Foliage biomass (in kg)\",\n",
    "ylim = c(0, 15), xlim=c(0, 40), data=lime)\n",
    "points(Foliage ~ Age, data=subset(lime, Origin==\"Coppice\"),\n",
    "pch=1)\n",
    "points(Foliage ~ Age, data=subset(lime, Origin==\"Natural\"),\n",
    "pch=2)\n",
    "points(Foliage ~ Age, data=subset(lime, Origin==\"Planted\"),\n",
    "pch=3)\n",
    "legend(\"topleft\", pch=c(1, 2, 3),\n",
    "legend=c(\"Coppice\", \"Natural\",\"Planted\"))\n"
   ]
  },
  {
   "cell_type": "code",
   "execution_count": 33,
   "metadata": {},
   "outputs": [],
   "source": [
    "glm.max <- glm(Foliage ~ (log(DBH) + log(Age) + Origin)^2, data=lime, family = Gamma(link=\"log\"))\n",
    "glm.min <- glm(Foliage ~ log(DBH), data=lime, family = Gamma(link=\"log\"))"
   ]
  },
  {
   "cell_type": "code",
   "execution_count": 34,
   "metadata": {},
   "outputs": [
    {
     "name": "stdout",
     "output_type": "stream",
     "text": [
      "Start:  AIC=776.83\n",
      "Foliage ~ log(DBH)\n",
      "\n",
      "           Df Deviance    AIC\n",
      "+ Origin    2   160.58 771.14\n",
      "+ log(Age)  1   163.80 774.84\n",
      "<none>          166.06 776.83\n",
      "\n",
      "Step:  AIC=767.02\n",
      "Foliage ~ log(DBH) + Origin\n",
      "\n",
      "                  Df Deviance    AIC\n",
      "+ log(DBH):Origin  2   152.69 758.04\n",
      "<none>                 160.58 767.02\n",
      "+ log(Age)         1   160.07 768.18\n",
      "- Origin           2   166.06 772.02\n",
      "\n",
      "Step:  AIC=750.33\n",
      "Foliage ~ log(DBH) + Origin + log(DBH):Origin\n",
      "\n",
      "                  Df Deviance    AIC\n",
      "<none>                 152.69 750.33\n",
      "+ log(Age)         1   152.18 751.39\n",
      "- log(DBH):Origin  2   160.58 760.82\n"
     ]
    }
   ],
   "source": [
    "m.f <- step(glm.min, scope=list(lower=glm.min, upper=glm.max), direction=\"both\")"
   ]
  },
  {
   "cell_type": "code",
   "execution_count": 35,
   "metadata": {},
   "outputs": [],
   "source": [
    "glm.1 <- glm(Foliage ~ log(DBH) + log(Age), data=lime, family = Gamma(link=\"log\"))"
   ]
  },
  {
   "cell_type": "code",
   "execution_count": 36,
   "metadata": {},
   "outputs": [
    {
     "data": {
      "text/html": [
       "<table>\n",
       "<thead><tr><th></th><th scope=col>Estimate</th><th scope=col>Std. Error</th><th scope=col>t value</th><th scope=col>Pr(&gt;|t|)</th></tr></thead>\n",
       "<tbody>\n",
       "\t<tr><th scope=row>(Intercept)</th><td>-4.2532252  </td><td>0.2845458   </td><td>-14.947417  </td><td>4.223886e-40</td></tr>\n",
       "\t<tr><th scope=row>log(DBH)</th><td> 2.0457425  </td><td>0.1200015   </td><td> 17.047642  </td><td>7.264209e-49</td></tr>\n",
       "\t<tr><th scope=row>log(Age)</th><td>-0.2641572  </td><td>0.1282077   </td><td> -2.060386  </td><td>4.003841e-02</td></tr>\n",
       "</tbody>\n",
       "</table>\n"
      ],
      "text/latex": [
       "\\begin{tabular}{r|llll}\n",
       "  & Estimate & Std. Error & t value & Pr(>\\textbar{}t\\textbar{})\\\\\n",
       "\\hline\n",
       "\t(Intercept) & -4.2532252   & 0.2845458    & -14.947417   & 4.223886e-40\\\\\n",
       "\tlog(DBH) &  2.0457425   & 0.1200015    &  17.047642   & 7.264209e-49\\\\\n",
       "\tlog(Age) & -0.2641572   & 0.1282077    &  -2.060386   & 4.003841e-02\\\\\n",
       "\\end{tabular}\n"
      ],
      "text/markdown": [
       "\n",
       "| <!--/--> | Estimate | Std. Error | t value | Pr(>|t|) |\n",
       "|---|---|---|---|---|\n",
       "| (Intercept) | -4.2532252   | 0.2845458    | -14.947417   | 4.223886e-40 |\n",
       "| log(DBH) |  2.0457425   | 0.1200015    |  17.047642   | 7.264209e-49 |\n",
       "| log(Age) | -0.2641572   | 0.1282077    |  -2.060386   | 4.003841e-02 |\n",
       "\n"
      ],
      "text/plain": [
       "            Estimate   Std. Error t value    Pr(>|t|)    \n",
       "(Intercept) -4.2532252 0.2845458  -14.947417 4.223886e-40\n",
       "log(DBH)     2.0457425 0.1200015   17.047642 7.264209e-49\n",
       "log(Age)    -0.2641572 0.1282077   -2.060386 4.003841e-02"
      ]
     },
     "metadata": {},
     "output_type": "display_data"
    }
   ],
   "source": [
    "coef(summary(glm.1))"
   ]
  },
  {
   "cell_type": "code",
   "execution_count": 37,
   "metadata": {},
   "outputs": [
    {
     "data": {
      "text/html": [
       "<table>\n",
       "<thead><tr><th></th><th scope=col>Df</th><th scope=col>Deviance</th><th scope=col>Resid. Df</th><th scope=col>Resid. Dev</th><th scope=col>F</th><th scope=col>Pr(&gt;F)</th></tr></thead>\n",
       "<tbody>\n",
       "\t<tr><th scope=row>NULL</th><td>NA          </td><td>        NA  </td><td>384         </td><td>508.4806    </td><td>        NA  </td><td>          NA</td></tr>\n",
       "\t<tr><th scope=row>log(DBH)</th><td> 1          </td><td>342.425619  </td><td>383         </td><td>166.0550    </td><td>628.779419  </td><td>9.948337e-83</td></tr>\n",
       "\t<tr><th scope=row>log(Age)</th><td> 1          </td><td>  2.254663  </td><td>382         </td><td>163.8004    </td><td>  4.140127  </td><td>4.256814e-02</td></tr>\n",
       "</tbody>\n",
       "</table>\n"
      ],
      "text/latex": [
       "\\begin{tabular}{r|llllll}\n",
       "  & Df & Deviance & Resid. Df & Resid. Dev & F & Pr(>F)\\\\\n",
       "\\hline\n",
       "\tNULL & NA           &         NA   & 384          & 508.4806     &         NA   &           NA\\\\\n",
       "\tlog(DBH) &  1           & 342.425619   & 383          & 166.0550     & 628.779419   & 9.948337e-83\\\\\n",
       "\tlog(Age) &  1           &   2.254663   & 382          & 163.8004     &   4.140127   & 4.256814e-02\\\\\n",
       "\\end{tabular}\n"
      ],
      "text/markdown": [
       "\n",
       "| <!--/--> | Df | Deviance | Resid. Df | Resid. Dev | F | Pr(>F) |\n",
       "|---|---|---|---|---|---|---|\n",
       "| NULL | NA           |         NA   | 384          | 508.4806     |         NA   |           NA |\n",
       "| log(DBH) |  1           | 342.425619   | 383          | 166.0550     | 628.779419   | 9.948337e-83 |\n",
       "| log(Age) |  1           |   2.254663   | 382          | 163.8004     |   4.140127   | 4.256814e-02 |\n",
       "\n"
      ],
      "text/plain": [
       "         Df Deviance   Resid. Df Resid. Dev F          Pr(>F)      \n",
       "NULL     NA         NA 384       508.4806           NA           NA\n",
       "log(DBH)  1 342.425619 383       166.0550   628.779419 9.948337e-83\n",
       "log(Age)  1   2.254663 382       163.8004     4.140127 4.256814e-02"
      ]
     },
     "metadata": {},
     "output_type": "display_data"
    }
   ],
   "source": [
    "anova(glm.1, test=\"F\")"
   ]
  },
  {
   "cell_type": "code",
   "execution_count": 38,
   "metadata": {},
   "outputs": [
    {
     "data": {
      "text/html": [
       "1"
      ],
      "text/latex": [
       "1"
      ],
      "text/markdown": [
       "1"
      ],
      "text/plain": [
       "[1] 1"
      ]
     },
     "metadata": {},
     "output_type": "display_data"
    },
    {
     "data": {
      "text/html": [
       "0.999999999999985"
      ],
      "text/latex": [
       "0.999999999999985"
      ],
      "text/markdown": [
       "0.999999999999985"
      ],
      "text/plain": [
       "[1] 1"
      ]
     },
     "metadata": {},
     "output_type": "display_data"
    },
    {
     "data": {
      "text/html": [
       "0.428796735554155"
      ],
      "text/latex": [
       "0.428796735554155"
      ],
      "text/markdown": [
       "0.428796735554155"
      ],
      "text/plain": [
       "[1] 0.4287967"
      ]
     },
     "metadata": {},
     "output_type": "display_data"
    },
    {
     "data": {
      "text/html": [
       "0.544587829201879"
      ],
      "text/latex": [
       "0.544587829201879"
      ],
      "text/markdown": [
       "0.544587829201879"
      ],
      "text/plain": [
       "[1] 0.5445878"
      ]
     },
     "metadata": {},
     "output_type": "display_data"
    },
    {
     "data": {
      "text/html": [
       "0.544587829201879"
      ],
      "text/latex": [
       "0.544587829201879"
      ],
      "text/markdown": [
       "0.544587829201879"
      ],
      "text/plain": [
       "[1] 0.5445878"
      ]
     },
     "metadata": {},
     "output_type": "display_data"
    }
   ],
   "source": [
    "gof.dev <- deviance(glm.1)\n",
    "gof.pearson <- sum(glm.1$weights * glm.1$residuals^2)\n",
    "\n",
    "pchisq(gof.dev, df=df.residual(glm.1), lower.tail = FALSE)\n",
    "pchisq(gof.pearson, df=df.residual(glm.1), lower.tail = FALSE)\n",
    "\n",
    "gof.dev / df.residual(glm.1)\n",
    "gof.pearson / df.residual(glm.1)\n",
    "summary(glm.1)$dispersion"
   ]
  },
  {
   "cell_type": "code",
   "execution_count": 45,
   "metadata": {},
   "outputs": [
    {
     "data": {
      "text/plain": [
       "\n",
       "\tShapiro-Wilk normality test\n",
       "\n",
       "data:  qr1\n",
       "W = 0.97599, p-value = 5.288e-06\n"
      ]
     },
     "metadata": {},
     "output_type": "display_data"
    },
    {
     "data": {
      "image/png": "[encoded data removed]",
      "text/plain": [
       "Plot with title \"Histogram of qr1\""
      ]
     },
     "metadata": {},
     "output_type": "display_data"
    }
   ],
   "source": [
    "par(mfrow=c(3, 3))\n",
    "\n",
    "scatter.smooth(rstandard(glm.1) ~ log(fitted(glm.1)))\n",
    "scatter.smooth(rstandard(glm.1) ~ log(lime$DBH))\n",
    "scatter.smooth(rstandard(glm.1) ~ log(lime$Age))\n",
    "termplot(glm.1, partial.resid = TRUE, las=1)\n",
    "scatter.smooth(resid(glm.1, type=\"working\") + glm.1$linear.predictor ~ glm.1$linear.predictor)\n",
    "plot(cooks.distance(glm.1), type=\"h\")\n",
    "qqnorm(qr1 <- qresid(glm.1))\n",
    "qqline(qr1)\n",
    "hist(qr1)\n",
    "shapiro.test(qr1)"
   ]
  },
  {
   "cell_type": "code",
   "execution_count": 44,
   "metadata": {},
   "outputs": [
    {
     "data": {
      "text/html": [
       "<dl class=dl-horizontal>\n",
       "\t<dt>dfb.1_</dt>\n",
       "\t\t<dd>0</dd>\n",
       "\t<dt>dfb.l(DB</dt>\n",
       "\t\t<dd>0</dd>\n",
       "\t<dt>dfb.l(A)</dt>\n",
       "\t\t<dd>0</dd>\n",
       "\t<dt>dffit</dt>\n",
       "\t\t<dd>5</dd>\n",
       "\t<dt>cov.r</dt>\n",
       "\t\t<dd>26</dd>\n",
       "\t<dt>cook.d</dt>\n",
       "\t\t<dd>0</dd>\n",
       "\t<dt>hat</dt>\n",
       "\t\t<dd>8</dd>\n",
       "</dl>\n"
      ],
      "text/latex": [
       "\\begin{description*}\n",
       "\\item[dfb.1\\textbackslash{}\\_] 0\n",
       "\\item[dfb.l(DB] 0\n",
       "\\item[dfb.l(A)] 0\n",
       "\\item[dffit] 5\n",
       "\\item[cov.r] 26\n",
       "\\item[cook.d] 0\n",
       "\\item[hat] 8\n",
       "\\end{description*}\n"
      ],
      "text/markdown": [
       "dfb.1_\n",
       ":   0dfb.l(DB\n",
       ":   0dfb.l(A)\n",
       ":   0dffit\n",
       ":   5cov.r\n",
       ":   26cook.d\n",
       ":   0hat\n",
       ":   8\n",
       "\n"
      ],
      "text/plain": [
       "  dfb.1_ dfb.l(DB dfb.l(A)    dffit    cov.r   cook.d      hat \n",
       "       0        0        0        5       26        0        8 "
      ]
     },
     "metadata": {},
     "output_type": "display_data"
    }
   ],
   "source": [
    "colSums(influence.measures(glm.1)$is.inf)"
   ]
  }
 ],
 "metadata": {
  "kernelspec": {
   "display_name": "R",
   "language": "R",
   "name": "ir"
  },
  "language_info": {
   "codemirror_mode": "r",
   "file_extension": ".r",
   "mimetype": "text/x-r-source",
   "name": "R",
   "pygments_lexer": "r",
   "version": "3.6.1"
  },
  "orig_nbformat": 4
 },
 "nbformat": 4,
 "nbformat_minor": 2
}
