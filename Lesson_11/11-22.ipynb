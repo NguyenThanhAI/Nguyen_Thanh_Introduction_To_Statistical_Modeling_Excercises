{
 "cells": [
  {
   "cell_type": "code",
   "execution_count": 1,
   "metadata": {},
   "outputs": [
    {
     "name": "stderr",
     "output_type": "stream",
     "text": [
      "Warning message:\n",
      "\"package 'statmod' was built under R version 3.6.3\""
     ]
    }
   ],
   "source": [
    "library(GLMsData)\n",
    "library(statmod)\n",
    "library(MASS)\n",
    "library(splines)"
   ]
  },
  {
   "cell_type": "code",
   "execution_count": 2,
   "metadata": {},
   "outputs": [],
   "source": [
    "data(fishfood)"
   ]
  },
  {
   "cell_type": "code",
   "execution_count": 3,
   "metadata": {},
   "outputs": [
    {
     "name": "stdout",
     "output_type": "stream",
     "text": [
      "'data.frame':\t33 obs. of  6 variables:\n",
      " $ Species: Factor w/ 33 levels \"Brevoortia patronus\",..: 1 2 5 12 13 14 19 20 21 22 ...\n",
      " $ MaxWt  : int  362 1216 28 2 1 2 8 10 11 13 ...\n",
      " $ Temp   : int  25 18 15 25 25 25 25 25 25 25 ...\n",
      " $ AR     : num  1.69 2.31 1.42 1.65 1.05 1.62 1.28 1.11 0.93 1.28 ...\n",
      " $ Food   : Factor w/ 2 levels \"C\",\"H\": 1 2 1 1 1 1 1 1 1 1 ...\n",
      " $ FoodCon: num  2.22 8.61 2.5 9.28 6.66 3.32 10.3 4.45 3.28 7.38 ...\n"
     ]
    }
   ],
   "source": [
    "str(fishfood)"
   ]
  },
  {
   "cell_type": "code",
   "execution_count": 4,
   "metadata": {},
   "outputs": [],
   "source": [
    "glm.1 <- glm(FoodCon ~ log(MaxWt) + log(Temp) + log(AR) + Food, data=fishfood, family = Gamma(link=\"log\"))"
   ]
  },
  {
   "cell_type": "code",
   "execution_count": 5,
   "metadata": {},
   "outputs": [
    {
     "data": {
      "text/html": [
       "<table>\n",
       "<thead><tr><th></th><th scope=col>Estimate</th><th scope=col>Std. Error</th><th scope=col>t value</th><th scope=col>Pr(&gt;|t|)</th></tr></thead>\n",
       "<tbody>\n",
       "\t<tr><th scope=row>(Intercept)</th><td>-0.3858216  </td><td>0.96672172  </td><td>-0.3991031  </td><td>6.928450e-01</td></tr>\n",
       "\t<tr><th scope=row>log(MaxWt)</th><td>-0.2014974  </td><td>0.03113332  </td><td>-6.4720827  </td><td>5.188109e-07</td></tr>\n",
       "\t<tr><th scope=row>log(Temp)</th><td> 0.7032953  </td><td>0.30121182  </td><td> 2.3348863  </td><td>2.694522e-02</td></tr>\n",
       "\t<tr><th scope=row>log(AR)</th><td> 0.5517909  </td><td>0.19321383  </td><td> 2.8558561  </td><td>7.998232e-03</td></tr>\n",
       "\t<tr><th scope=row>FoodH</th><td> 1.3894406  </td><td>0.29738839  </td><td> 4.6721414  </td><td>6.794819e-05</td></tr>\n",
       "</tbody>\n",
       "</table>\n"
      ],
      "text/latex": [
       "\\begin{tabular}{r|llll}\n",
       "  & Estimate & Std. Error & t value & Pr(>\\textbar{}t\\textbar{})\\\\\n",
       "\\hline\n",
       "\t(Intercept) & -0.3858216   & 0.96672172   & -0.3991031   & 6.928450e-01\\\\\n",
       "\tlog(MaxWt) & -0.2014974   & 0.03113332   & -6.4720827   & 5.188109e-07\\\\\n",
       "\tlog(Temp) &  0.7032953   & 0.30121182   &  2.3348863   & 2.694522e-02\\\\\n",
       "\tlog(AR) &  0.5517909   & 0.19321383   &  2.8558561   & 7.998232e-03\\\\\n",
       "\tFoodH &  1.3894406   & 0.29738839   &  4.6721414   & 6.794819e-05\\\\\n",
       "\\end{tabular}\n"
      ],
      "text/markdown": [
       "\n",
       "| <!--/--> | Estimate | Std. Error | t value | Pr(>|t|) |\n",
       "|---|---|---|---|---|\n",
       "| (Intercept) | -0.3858216   | 0.96672172   | -0.3991031   | 6.928450e-01 |\n",
       "| log(MaxWt) | -0.2014974   | 0.03113332   | -6.4720827   | 5.188109e-07 |\n",
       "| log(Temp) |  0.7032953   | 0.30121182   |  2.3348863   | 2.694522e-02 |\n",
       "| log(AR) |  0.5517909   | 0.19321383   |  2.8558561   | 7.998232e-03 |\n",
       "| FoodH |  1.3894406   | 0.29738839   |  4.6721414   | 6.794819e-05 |\n",
       "\n"
      ],
      "text/plain": [
       "            Estimate   Std. Error t value    Pr(>|t|)    \n",
       "(Intercept) -0.3858216 0.96672172 -0.3991031 6.928450e-01\n",
       "log(MaxWt)  -0.2014974 0.03113332 -6.4720827 5.188109e-07\n",
       "log(Temp)    0.7032953 0.30121182  2.3348863 2.694522e-02\n",
       "log(AR)      0.5517909 0.19321383  2.8558561 7.998232e-03\n",
       "FoodH        1.3894406 0.29738839  4.6721414 6.794819e-05"
      ]
     },
     "metadata": {},
     "output_type": "display_data"
    }
   ],
   "source": [
    "coef(summary(glm.1))"
   ]
  },
  {
   "cell_type": "code",
   "execution_count": 6,
   "metadata": {},
   "outputs": [
    {
     "data": {
      "text/html": [
       "<table>\n",
       "<thead><tr><th></th><th scope=col>Df</th><th scope=col>Deviance</th><th scope=col>Resid. Df</th><th scope=col>Resid. Dev</th><th scope=col>F</th><th scope=col>Pr(&gt;F)</th></tr></thead>\n",
       "<tbody>\n",
       "\t<tr><th scope=row>NULL</th><td>NA          </td><td>       NA   </td><td>32          </td><td>35.817086   </td><td>      NA    </td><td>          NA</td></tr>\n",
       "\t<tr><th scope=row>log(MaxWt)</th><td> 1          </td><td>11.878744   </td><td>31          </td><td>23.938342   </td><td>51.91440    </td><td>7.657889e-08</td></tr>\n",
       "\t<tr><th scope=row>log(Temp)</th><td> 1          </td><td> 6.090441   </td><td>30          </td><td>17.847901   </td><td>26.61742    </td><td>1.794709e-05</td></tr>\n",
       "\t<tr><th scope=row>log(AR)</th><td> 1          </td><td> 3.796060   </td><td>29          </td><td>14.051841   </td><td>16.59015    </td><td>3.453086e-04</td></tr>\n",
       "\t<tr><th scope=row>Food</th><td> 1          </td><td> 6.916194   </td><td>28          </td><td> 7.135647   </td><td>30.22626    </td><td>7.125883e-06</td></tr>\n",
       "</tbody>\n",
       "</table>\n"
      ],
      "text/latex": [
       "\\begin{tabular}{r|llllll}\n",
       "  & Df & Deviance & Resid. Df & Resid. Dev & F & Pr(>F)\\\\\n",
       "\\hline\n",
       "\tNULL & NA           &        NA    & 32           & 35.817086    &       NA     &           NA\\\\\n",
       "\tlog(MaxWt) &  1           & 11.878744    & 31           & 23.938342    & 51.91440     & 7.657889e-08\\\\\n",
       "\tlog(Temp) &  1           &  6.090441    & 30           & 17.847901    & 26.61742     & 1.794709e-05\\\\\n",
       "\tlog(AR) &  1           &  3.796060    & 29           & 14.051841    & 16.59015     & 3.453086e-04\\\\\n",
       "\tFood &  1           &  6.916194    & 28           &  7.135647    & 30.22626     & 7.125883e-06\\\\\n",
       "\\end{tabular}\n"
      ],
      "text/markdown": [
       "\n",
       "| <!--/--> | Df | Deviance | Resid. Df | Resid. Dev | F | Pr(>F) |\n",
       "|---|---|---|---|---|---|---|\n",
       "| NULL | NA           |        NA    | 32           | 35.817086    |       NA     |           NA |\n",
       "| log(MaxWt) |  1           | 11.878744    | 31           | 23.938342    | 51.91440     | 7.657889e-08 |\n",
       "| log(Temp) |  1           |  6.090441    | 30           | 17.847901    | 26.61742     | 1.794709e-05 |\n",
       "| log(AR) |  1           |  3.796060    | 29           | 14.051841    | 16.59015     | 3.453086e-04 |\n",
       "| Food |  1           |  6.916194    | 28           |  7.135647    | 30.22626     | 7.125883e-06 |\n",
       "\n"
      ],
      "text/plain": [
       "           Df Deviance  Resid. Df Resid. Dev F        Pr(>F)      \n",
       "NULL       NA        NA 32        35.817086        NA           NA\n",
       "log(MaxWt)  1 11.878744 31        23.938342  51.91440 7.657889e-08\n",
       "log(Temp)   1  6.090441 30        17.847901  26.61742 1.794709e-05\n",
       "log(AR)     1  3.796060 29        14.051841  16.59015 3.453086e-04\n",
       "Food        1  6.916194 28         7.135647  30.22626 7.125883e-06"
      ]
     },
     "metadata": {},
     "output_type": "display_data"
    }
   ],
   "source": [
    "anova(glm.1, test=\"F\")"
   ]
  },
  {
   "cell_type": "code",
   "execution_count": 7,
   "metadata": {},
   "outputs": [
    {
     "data": {
      "text/html": [
       "0.99997712952392"
      ],
      "text/latex": [
       "0.99997712952392"
      ],
      "text/markdown": [
       "0.99997712952392"
      ],
      "text/plain": [
       "[1] 0.9999771"
      ]
     },
     "metadata": {},
     "output_type": "display_data"
    },
    {
     "data": {
      "text/html": [
       "0.999992930460204"
      ],
      "text/latex": [
       "0.999992930460204"
      ],
      "text/markdown": [
       "0.999992930460204"
      ],
      "text/plain": [
       "[1] 0.9999929"
      ]
     },
     "metadata": {},
     "output_type": "display_data"
    },
    {
     "data": {
      "text/html": [
       "0.254844550717924"
      ],
      "text/latex": [
       "0.254844550717924"
      ],
      "text/markdown": [
       "0.254844550717924"
      ],
      "text/plain": [
       "[1] 0.2548446"
      ]
     },
     "metadata": {},
     "output_type": "display_data"
    },
    {
     "data": {
      "text/html": [
       "0.228814072708054"
      ],
      "text/latex": [
       "0.228814072708054"
      ],
      "text/markdown": [
       "0.228814072708054"
      ],
      "text/plain": [
       "[1] 0.2288141"
      ]
     },
     "metadata": {},
     "output_type": "display_data"
    }
   ],
   "source": [
    "gof.dev <- deviance(glm.1)\n",
    "gof.pearson <- sum(glm.1$weights * glm.1$residuals^2)\n",
    "\n",
    "pchisq(gof.dev, df=df.residual(glm.1), lower.tail = FALSE)\n",
    "pchisq(gof.pearson, df=df.residual(glm.1), lower.tail = FALSE)\n",
    "\n",
    "gof.dev / df.residual(glm.1)\n",
    "gof.pearson / df.residual(glm.1)"
   ]
  },
  {
   "cell_type": "code",
   "execution_count": 14,
   "metadata": {},
   "outputs": [
    {
     "data": {
      "text/plain": [
       "\n",
       "\tShapiro-Wilk normality test\n",
       "\n",
       "data:  qr1\n",
       "W = 0.97599, p-value = 0.6606\n"
      ]
     },
     "metadata": {},
     "output_type": "display_data"
    },
    {
     "data": {
      "image/png": "[encoded data removed]",
      "text/plain": [
       "plot without title"
      ]
     },
     "metadata": {},
     "output_type": "display_data"
    },
    {
     "data": {
      "image/png": "[encoded data removed]",
      "text/plain": [
       "Plot with title \"Normal Q-Q Plot\""
      ]
     },
     "metadata": {},
     "output_type": "display_data"
    }
   ],
   "source": [
    "par(mfrow=c(3, 3))\n",
    "\n",
    "scatter.smooth(rstandard(glm.1) ~ log(fitted(glm.1)))\n",
    "scatter.smooth(rstandard(glm.1) ~ log(fishfood$MaxWt))\n",
    "scatter.smooth(rstandard(glm.1) ~ log(fishfood$Temp))\n",
    "scatter.smooth(rstandard(glm.1) ~ log(fishfood$AR))\n",
    "z <- resid(glm.1, type=\"working\") + glm.1$linear.predictor\n",
    "scatter.smooth(z ~ glm.1$linear.predictor)\n",
    "plot(resid(glm.1, type=\"partial\")[,\"log(MaxWt)\"]~log(fishfood$MaxWt))\n",
    "plot(resid(glm.1, type=\"partial\")[,\"log(Temp)\"]~log(fishfood$Temp))\n",
    "plot(resid(glm.1, type=\"partial\")[,\"log(AR)\"]~log(fishfood$AR))\n",
    "#termplot(glm.1, partial.resid = TRUE, terms=\"log(MaxWt)\")\n",
    "#termplot(glm.1, partial.resid = TRUE, terms=\"log(Temp)\")\n",
    "#termplot(glm.1, partial.resid = TRUE, terms=\"log(AR)\")\n",
    "plot(rstandard(glm.1) ~ fishfood$Food)\n",
    "qqnorm(qr1 <- qresid(glm.1))\n",
    "qqline(qr1)\n",
    "plot(cooks.distance(glm.1), type=\"h\")\n",
    "shapiro.test(qr1)"
   ]
  },
  {
   "cell_type": "code",
   "execution_count": 10,
   "metadata": {},
   "outputs": [
    {
     "data": {
      "text/html": [
       "<dl class=dl-horizontal>\n",
       "\t<dt>dfb.1_</dt>\n",
       "\t\t<dd>0</dd>\n",
       "\t<dt>dfb.l(MW</dt>\n",
       "\t\t<dd>0</dd>\n",
       "\t<dt>dfb.l(T)</dt>\n",
       "\t\t<dd>0</dd>\n",
       "\t<dt>dfb.l(AR</dt>\n",
       "\t\t<dd>0</dd>\n",
       "\t<dt>dfb.FodH</dt>\n",
       "\t\t<dd>0</dd>\n",
       "\t<dt>dffit</dt>\n",
       "\t\t<dd>0</dd>\n",
       "\t<dt>cov.r</dt>\n",
       "\t\t<dd>4</dd>\n",
       "\t<dt>cook.d</dt>\n",
       "\t\t<dd>0</dd>\n",
       "\t<dt>hat</dt>\n",
       "\t\t<dd>0</dd>\n",
       "</dl>\n"
      ],
      "text/latex": [
       "\\begin{description*}\n",
       "\\item[dfb.1\\textbackslash{}\\_] 0\n",
       "\\item[dfb.l(MW] 0\n",
       "\\item[dfb.l(T)] 0\n",
       "\\item[dfb.l(AR] 0\n",
       "\\item[dfb.FodH] 0\n",
       "\\item[dffit] 0\n",
       "\\item[cov.r] 4\n",
       "\\item[cook.d] 0\n",
       "\\item[hat] 0\n",
       "\\end{description*}\n"
      ],
      "text/markdown": [
       "dfb.1_\n",
       ":   0dfb.l(MW\n",
       ":   0dfb.l(T)\n",
       ":   0dfb.l(AR\n",
       ":   0dfb.FodH\n",
       ":   0dffit\n",
       ":   0cov.r\n",
       ":   4cook.d\n",
       ":   0hat\n",
       ":   0\n",
       "\n"
      ],
      "text/plain": [
       "  dfb.1_ dfb.l(MW dfb.l(T) dfb.l(AR dfb.FodH    dffit    cov.r   cook.d \n",
       "       0        0        0        0        0        0        4        0 \n",
       "     hat \n",
       "       0 "
      ]
     },
     "metadata": {},
     "output_type": "display_data"
    }
   ],
   "source": [
    "colSums(influence.measures(glm.1)$is.inf)"
   ]
  }
 ],
 "metadata": {
  "kernelspec": {
   "display_name": "R",
   "language": "R",
   "name": "ir"
  },
  "language_info": {
   "codemirror_mode": "r",
   "file_extension": ".r",
   "mimetype": "text/x-r-source",
   "name": "R",
   "pygments_lexer": "r",
   "version": "3.6.1"
  },
  "orig_nbformat": 4
 },
 "nbformat": 4,
 "nbformat_minor": 2
}
