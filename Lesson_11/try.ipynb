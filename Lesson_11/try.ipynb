{
 "cells": [
  {
   "cell_type": "code",
   "execution_count": 1,
   "metadata": {},
   "outputs": [],
   "source": [
    "library(GLMsData)"
   ]
  },
  {
   "cell_type": "code",
   "execution_count": 2,
   "metadata": {},
   "outputs": [],
   "source": [
    "data(lime)"
   ]
  },
  {
   "cell_type": "code",
   "execution_count": 3,
   "metadata": {},
   "outputs": [],
   "source": [
    "lime$Origin = as.factor(lime$Origin)"
   ]
  },
  {
   "cell_type": "code",
   "execution_count": 4,
   "metadata": {},
   "outputs": [],
   "source": [
    "lime.log <- glm( Foliage ~ Origin * log(DBH), family=Gamma(link=\"log\"),\n",
    "data=lime)"
   ]
  },
  {
   "cell_type": "code",
   "execution_count": 5,
   "metadata": {},
   "outputs": [
    {
     "data": {
      "text/html": [
       "<table>\n",
       "<thead><tr><th></th><th scope=col>Estimate</th><th scope=col>Std. Error</th><th scope=col>t value</th><th scope=col>Pr(&gt;|t|)</th></tr></thead>\n",
       "<tbody>\n",
       "\t<tr><th scope=row>(Intercept)</th><td>-4.6289255  </td><td>0.2756440   </td><td>-16.793131  </td><td>1.043735e-47</td></tr>\n",
       "\t<tr><th scope=row>OriginNatural</th><td> 0.3245216  </td><td>0.3882056   </td><td>  0.835953  </td><td>4.037080e-01</td></tr>\n",
       "\t<tr><th scope=row>OriginPlanted</th><td>-1.5284910  </td><td>0.5726768   </td><td> -2.669029  </td><td>7.934033e-03</td></tr>\n",
       "\t<tr><th scope=row>log(DBH)</th><td> 1.8431878  </td><td>0.1015579   </td><td> 18.149137  </td><td>2.007634e-53</td></tr>\n",
       "\t<tr><th scope=row>OriginNatural:log(DBH)</th><td>-0.2040329  </td><td>0.1433129   </td><td> -1.423688  </td><td>1.553596e-01</td></tr>\n",
       "\t<tr><th scope=row>OriginPlanted:log(DBH)</th><td> 0.5767826  </td><td>0.2093256   </td><td>  2.755433  </td><td>6.144372e-03</td></tr>\n",
       "</tbody>\n",
       "</table>\n"
      ],
      "text/latex": [
       "\\begin{tabular}{r|llll}\n",
       "  & Estimate & Std. Error & t value & Pr(>\\textbar{}t\\textbar{})\\\\\n",
       "\\hline\n",
       "\t(Intercept) & -4.6289255   & 0.2756440    & -16.793131   & 1.043735e-47\\\\\n",
       "\tOriginNatural &  0.3245216   & 0.3882056    &   0.835953   & 4.037080e-01\\\\\n",
       "\tOriginPlanted & -1.5284910   & 0.5726768    &  -2.669029   & 7.934033e-03\\\\\n",
       "\tlog(DBH) &  1.8431878   & 0.1015579    &  18.149137   & 2.007634e-53\\\\\n",
       "\tOriginNatural:log(DBH) & -0.2040329   & 0.1433129    &  -1.423688   & 1.553596e-01\\\\\n",
       "\tOriginPlanted:log(DBH) &  0.5767826   & 0.2093256    &   2.755433   & 6.144372e-03\\\\\n",
       "\\end{tabular}\n"
      ],
      "text/markdown": [
       "\n",
       "| <!--/--> | Estimate | Std. Error | t value | Pr(>|t|) |\n",
       "|---|---|---|---|---|\n",
       "| (Intercept) | -4.6289255   | 0.2756440    | -16.793131   | 1.043735e-47 |\n",
       "| OriginNatural |  0.3245216   | 0.3882056    |   0.835953   | 4.037080e-01 |\n",
       "| OriginPlanted | -1.5284910   | 0.5726768    |  -2.669029   | 7.934033e-03 |\n",
       "| log(DBH) |  1.8431878   | 0.1015579    |  18.149137   | 2.007634e-53 |\n",
       "| OriginNatural:log(DBH) | -0.2040329   | 0.1433129    |  -1.423688   | 1.553596e-01 |\n",
       "| OriginPlanted:log(DBH) |  0.5767826   | 0.2093256    |   2.755433   | 6.144372e-03 |\n",
       "\n"
      ],
      "text/plain": [
       "                       Estimate   Std. Error t value    Pr(>|t|)    \n",
       "(Intercept)            -4.6289255 0.2756440  -16.793131 1.043735e-47\n",
       "OriginNatural           0.3245216 0.3882056    0.835953 4.037080e-01\n",
       "OriginPlanted          -1.5284910 0.5726768   -2.669029 7.934033e-03\n",
       "log(DBH)                1.8431878 0.1015579   18.149137 2.007634e-53\n",
       "OriginNatural:log(DBH) -0.2040329 0.1433129   -1.423688 1.553596e-01\n",
       "OriginPlanted:log(DBH)  0.5767826 0.2093256    2.755433 6.144372e-03"
      ]
     },
     "metadata": {},
     "output_type": "display_data"
    }
   ],
   "source": [
    "coef(summary(lime.log))"
   ]
  },
  {
   "cell_type": "code",
   "execution_count": 6,
   "metadata": {},
   "outputs": [
    {
     "data": {
      "text/html": [
       "<table>\n",
       "<thead><tr><th scope=col>Foliage</th><th scope=col>DBH</th><th scope=col>Age</th><th scope=col>Origin</th></tr></thead>\n",
       "<tbody>\n",
       "\t<tr><td> 0.10  </td><td> 4.0   </td><td>38     </td><td>Natural</td></tr>\n",
       "\t<tr><td> 0.20  </td><td> 6.0   </td><td>38     </td><td>Natural</td></tr>\n",
       "\t<tr><td> 0.40  </td><td> 8.0   </td><td>46     </td><td>Natural</td></tr>\n",
       "\t<tr><td> 0.60  </td><td> 9.6   </td><td>44     </td><td>Natural</td></tr>\n",
       "\t<tr><td> 0.60  </td><td>11.3   </td><td>60     </td><td>Natural</td></tr>\n",
       "\t<tr><td> 0.80  </td><td>13.7   </td><td>56     </td><td>Natural</td></tr>\n",
       "\t<tr><td> 1.00  </td><td>15.4   </td><td>72     </td><td>Natural</td></tr>\n",
       "\t<tr><td> 1.40  </td><td>17.8   </td><td>74     </td><td>Natural</td></tr>\n",
       "\t<tr><td> 1.70  </td><td>18.0   </td><td>68     </td><td>Natural</td></tr>\n",
       "\t<tr><td> 3.50  </td><td>22.0   </td><td>79     </td><td>Natural</td></tr>\n",
       "\t<tr><td> 3.80  </td><td>22.6   </td><td>78     </td><td>Natural</td></tr>\n",
       "\t<tr><td> 4.10  </td><td>26.4   </td><td>78     </td><td>Natural</td></tr>\n",
       "\t<tr><td> 6.60  </td><td>28.6   </td><td>75     </td><td>Natural</td></tr>\n",
       "\t<tr><td> 8.00  </td><td>31.8   </td><td>83     </td><td>Natural</td></tr>\n",
       "\t<tr><td>11.80  </td><td>38.6   </td><td>84     </td><td>Natural</td></tr>\n",
       "\t<tr><td> 0.12  </td><td> 3.5   </td><td>18     </td><td>Natural</td></tr>\n",
       "\t<tr><td> 0.36  </td><td> 4.9   </td><td>13     </td><td>Natural</td></tr>\n",
       "\t<tr><td> 1.20  </td><td>17.0   </td><td>40     </td><td>Natural</td></tr>\n",
       "\t<tr><td> 5.63  </td><td>27.5   </td><td>74     </td><td>Natural</td></tr>\n",
       "\t<tr><td> 0.06  </td><td> 2.0   </td><td>21     </td><td>Natural</td></tr>\n",
       "\t<tr><td> 0.36  </td><td> 4.0   </td><td>21     </td><td>Natural</td></tr>\n",
       "\t<tr><td> 1.60  </td><td> 6.0   </td><td>21     </td><td>Natural</td></tr>\n",
       "\t<tr><td> 3.50  </td><td> 8.0   </td><td>21     </td><td>Natural</td></tr>\n",
       "\t<tr><td> 0.01  </td><td> 1.6   </td><td>26     </td><td>Natural</td></tr>\n",
       "\t<tr><td> 0.61  </td><td> 9.0   </td><td>26     </td><td>Natural</td></tr>\n",
       "\t<tr><td> 1.09  </td><td>12.0   </td><td>26     </td><td>Natural</td></tr>\n",
       "\t<tr><td> 4.60  </td><td>24.6   </td><td>85     </td><td>Natural</td></tr>\n",
       "\t<tr><td> 1.70  </td><td>19.3   </td><td>78     </td><td>Natural</td></tr>\n",
       "\t<tr><td> 1.90  </td><td>12.7   </td><td>40     </td><td>Natural</td></tr>\n",
       "\t<tr><td> 0.30  </td><td> 8.0   </td><td>38     </td><td>Natural</td></tr>\n",
       "\t<tr><td>...</td><td>...</td><td>...</td><td>...</td></tr>\n",
       "\t<tr><td> 0.82  </td><td>11.9   </td><td>41     </td><td>Coppice</td></tr>\n",
       "\t<tr><td> 0.58  </td><td>14.2   </td><td>58     </td><td>Coppice</td></tr>\n",
       "\t<tr><td> 2.17  </td><td>17.9   </td><td>64     </td><td>Coppice</td></tr>\n",
       "\t<tr><td> 2.02  </td><td>18.5   </td><td>65     </td><td>Coppice</td></tr>\n",
       "\t<tr><td> 1.88  </td><td>19.1   </td><td>86     </td><td>Coppice</td></tr>\n",
       "\t<tr><td> 1.74  </td><td>20.0   </td><td>74     </td><td>Coppice</td></tr>\n",
       "\t<tr><td> 1.98  </td><td>20.2   </td><td>73     </td><td>Coppice</td></tr>\n",
       "\t<tr><td> 3.84  </td><td>24.0   </td><td>64     </td><td>Coppice</td></tr>\n",
       "\t<tr><td> 5.10  </td><td>27.5   </td><td>77     </td><td>Coppice</td></tr>\n",
       "\t<tr><td> 7.35  </td><td>33.6   </td><td>84     </td><td>Coppice</td></tr>\n",
       "\t<tr><td> 0.12  </td><td> 5.2   </td><td>31     </td><td>Coppice</td></tr>\n",
       "\t<tr><td> 1.67  </td><td>12.1   </td><td>44     </td><td>Coppice</td></tr>\n",
       "\t<tr><td> 1.75  </td><td>13.8   </td><td>70     </td><td>Coppice</td></tr>\n",
       "\t<tr><td> 3.47  </td><td>16.4   </td><td>72     </td><td>Coppice</td></tr>\n",
       "\t<tr><td> 0.29  </td><td>16.1   </td><td>69     </td><td>Coppice</td></tr>\n",
       "\t<tr><td> 2.56  </td><td>17.6   </td><td>67     </td><td>Coppice</td></tr>\n",
       "\t<tr><td> 2.32  </td><td>18.5   </td><td>57     </td><td>Coppice</td></tr>\n",
       "\t<tr><td> 3.30  </td><td>20.0   </td><td>83     </td><td>Coppice</td></tr>\n",
       "\t<tr><td> 2.05  </td><td>20.2   </td><td>71     </td><td>Coppice</td></tr>\n",
       "\t<tr><td> 4.22  </td><td>23.2   </td><td>84     </td><td>Coppice</td></tr>\n",
       "\t<tr><td> 6.43  </td><td>23.0   </td><td>87     </td><td>Coppice</td></tr>\n",
       "\t<tr><td>14.01  </td><td>25.5   </td><td>74     </td><td>Coppice</td></tr>\n",
       "\t<tr><td> 7.06  </td><td>25.3   </td><td>78     </td><td>Coppice</td></tr>\n",
       "\t<tr><td> 2.60  </td><td>28.7   </td><td>86     </td><td>Coppice</td></tr>\n",
       "\t<tr><td> 9.80  </td><td>27.9   </td><td>84     </td><td>Coppice</td></tr>\n",
       "\t<tr><td> 3.60  </td><td>28.9   </td><td>86     </td><td>Coppice</td></tr>\n",
       "\t<tr><td> 3.87  </td><td>30.0   </td><td>80     </td><td>Coppice</td></tr>\n",
       "\t<tr><td>14.08  </td><td>32.2   </td><td>79     </td><td>Coppice</td></tr>\n",
       "\t<tr><td> 3.90  </td><td>35.4   </td><td>88     </td><td>Coppice</td></tr>\n",
       "\t<tr><td> 3.64  </td><td>36.7   </td><td>84     </td><td>Coppice</td></tr>\n",
       "</tbody>\n",
       "</table>\n"
      ],
      "text/latex": [
       "\\begin{tabular}{r|llll}\n",
       " Foliage & DBH & Age & Origin\\\\\n",
       "\\hline\n",
       "\t  0.10   &  4.0    & 38      & Natural\\\\\n",
       "\t  0.20   &  6.0    & 38      & Natural\\\\\n",
       "\t  0.40   &  8.0    & 46      & Natural\\\\\n",
       "\t  0.60   &  9.6    & 44      & Natural\\\\\n",
       "\t  0.60   & 11.3    & 60      & Natural\\\\\n",
       "\t  0.80   & 13.7    & 56      & Natural\\\\\n",
       "\t  1.00   & 15.4    & 72      & Natural\\\\\n",
       "\t  1.40   & 17.8    & 74      & Natural\\\\\n",
       "\t  1.70   & 18.0    & 68      & Natural\\\\\n",
       "\t  3.50   & 22.0    & 79      & Natural\\\\\n",
       "\t  3.80   & 22.6    & 78      & Natural\\\\\n",
       "\t  4.10   & 26.4    & 78      & Natural\\\\\n",
       "\t  6.60   & 28.6    & 75      & Natural\\\\\n",
       "\t  8.00   & 31.8    & 83      & Natural\\\\\n",
       "\t 11.80   & 38.6    & 84      & Natural\\\\\n",
       "\t  0.12   &  3.5    & 18      & Natural\\\\\n",
       "\t  0.36   &  4.9    & 13      & Natural\\\\\n",
       "\t  1.20   & 17.0    & 40      & Natural\\\\\n",
       "\t  5.63   & 27.5    & 74      & Natural\\\\\n",
       "\t  0.06   &  2.0    & 21      & Natural\\\\\n",
       "\t  0.36   &  4.0    & 21      & Natural\\\\\n",
       "\t  1.60   &  6.0    & 21      & Natural\\\\\n",
       "\t  3.50   &  8.0    & 21      & Natural\\\\\n",
       "\t  0.01   &  1.6    & 26      & Natural\\\\\n",
       "\t  0.61   &  9.0    & 26      & Natural\\\\\n",
       "\t  1.09   & 12.0    & 26      & Natural\\\\\n",
       "\t  4.60   & 24.6    & 85      & Natural\\\\\n",
       "\t  1.70   & 19.3    & 78      & Natural\\\\\n",
       "\t  1.90   & 12.7    & 40      & Natural\\\\\n",
       "\t  0.30   &  8.0    & 38      & Natural\\\\\n",
       "\t ... & ... & ... & ...\\\\\n",
       "\t  0.82   & 11.9    & 41      & Coppice\\\\\n",
       "\t  0.58   & 14.2    & 58      & Coppice\\\\\n",
       "\t  2.17   & 17.9    & 64      & Coppice\\\\\n",
       "\t  2.02   & 18.5    & 65      & Coppice\\\\\n",
       "\t  1.88   & 19.1    & 86      & Coppice\\\\\n",
       "\t  1.74   & 20.0    & 74      & Coppice\\\\\n",
       "\t  1.98   & 20.2    & 73      & Coppice\\\\\n",
       "\t  3.84   & 24.0    & 64      & Coppice\\\\\n",
       "\t  5.10   & 27.5    & 77      & Coppice\\\\\n",
       "\t  7.35   & 33.6    & 84      & Coppice\\\\\n",
       "\t  0.12   &  5.2    & 31      & Coppice\\\\\n",
       "\t  1.67   & 12.1    & 44      & Coppice\\\\\n",
       "\t  1.75   & 13.8    & 70      & Coppice\\\\\n",
       "\t  3.47   & 16.4    & 72      & Coppice\\\\\n",
       "\t  0.29   & 16.1    & 69      & Coppice\\\\\n",
       "\t  2.56   & 17.6    & 67      & Coppice\\\\\n",
       "\t  2.32   & 18.5    & 57      & Coppice\\\\\n",
       "\t  3.30   & 20.0    & 83      & Coppice\\\\\n",
       "\t  2.05   & 20.2    & 71      & Coppice\\\\\n",
       "\t  4.22   & 23.2    & 84      & Coppice\\\\\n",
       "\t  6.43   & 23.0    & 87      & Coppice\\\\\n",
       "\t 14.01   & 25.5    & 74      & Coppice\\\\\n",
       "\t  7.06   & 25.3    & 78      & Coppice\\\\\n",
       "\t  2.60   & 28.7    & 86      & Coppice\\\\\n",
       "\t  9.80   & 27.9    & 84      & Coppice\\\\\n",
       "\t  3.60   & 28.9    & 86      & Coppice\\\\\n",
       "\t  3.87   & 30.0    & 80      & Coppice\\\\\n",
       "\t 14.08   & 32.2    & 79      & Coppice\\\\\n",
       "\t  3.90   & 35.4    & 88      & Coppice\\\\\n",
       "\t  3.64   & 36.7    & 84      & Coppice\\\\\n",
       "\\end{tabular}\n"
      ],
      "text/markdown": [
       "\n",
       "| Foliage | DBH | Age | Origin |\n",
       "|---|---|---|---|\n",
       "|  0.10   |  4.0    | 38      | Natural |\n",
       "|  0.20   |  6.0    | 38      | Natural |\n",
       "|  0.40   |  8.0    | 46      | Natural |\n",
       "|  0.60   |  9.6    | 44      | Natural |\n",
       "|  0.60   | 11.3    | 60      | Natural |\n",
       "|  0.80   | 13.7    | 56      | Natural |\n",
       "|  1.00   | 15.4    | 72      | Natural |\n",
       "|  1.40   | 17.8    | 74      | Natural |\n",
       "|  1.70   | 18.0    | 68      | Natural |\n",
       "|  3.50   | 22.0    | 79      | Natural |\n",
       "|  3.80   | 22.6    | 78      | Natural |\n",
       "|  4.10   | 26.4    | 78      | Natural |\n",
       "|  6.60   | 28.6    | 75      | Natural |\n",
       "|  8.00   | 31.8    | 83      | Natural |\n",
       "| 11.80   | 38.6    | 84      | Natural |\n",
       "|  0.12   |  3.5    | 18      | Natural |\n",
       "|  0.36   |  4.9    | 13      | Natural |\n",
       "|  1.20   | 17.0    | 40      | Natural |\n",
       "|  5.63   | 27.5    | 74      | Natural |\n",
       "|  0.06   |  2.0    | 21      | Natural |\n",
       "|  0.36   |  4.0    | 21      | Natural |\n",
       "|  1.60   |  6.0    | 21      | Natural |\n",
       "|  3.50   |  8.0    | 21      | Natural |\n",
       "|  0.01   |  1.6    | 26      | Natural |\n",
       "|  0.61   |  9.0    | 26      | Natural |\n",
       "|  1.09   | 12.0    | 26      | Natural |\n",
       "|  4.60   | 24.6    | 85      | Natural |\n",
       "|  1.70   | 19.3    | 78      | Natural |\n",
       "|  1.90   | 12.7    | 40      | Natural |\n",
       "|  0.30   |  8.0    | 38      | Natural |\n",
       "| ... | ... | ... | ... |\n",
       "|  0.82   | 11.9    | 41      | Coppice |\n",
       "|  0.58   | 14.2    | 58      | Coppice |\n",
       "|  2.17   | 17.9    | 64      | Coppice |\n",
       "|  2.02   | 18.5    | 65      | Coppice |\n",
       "|  1.88   | 19.1    | 86      | Coppice |\n",
       "|  1.74   | 20.0    | 74      | Coppice |\n",
       "|  1.98   | 20.2    | 73      | Coppice |\n",
       "|  3.84   | 24.0    | 64      | Coppice |\n",
       "|  5.10   | 27.5    | 77      | Coppice |\n",
       "|  7.35   | 33.6    | 84      | Coppice |\n",
       "|  0.12   |  5.2    | 31      | Coppice |\n",
       "|  1.67   | 12.1    | 44      | Coppice |\n",
       "|  1.75   | 13.8    | 70      | Coppice |\n",
       "|  3.47   | 16.4    | 72      | Coppice |\n",
       "|  0.29   | 16.1    | 69      | Coppice |\n",
       "|  2.56   | 17.6    | 67      | Coppice |\n",
       "|  2.32   | 18.5    | 57      | Coppice |\n",
       "|  3.30   | 20.0    | 83      | Coppice |\n",
       "|  2.05   | 20.2    | 71      | Coppice |\n",
       "|  4.22   | 23.2    | 84      | Coppice |\n",
       "|  6.43   | 23.0    | 87      | Coppice |\n",
       "| 14.01   | 25.5    | 74      | Coppice |\n",
       "|  7.06   | 25.3    | 78      | Coppice |\n",
       "|  2.60   | 28.7    | 86      | Coppice |\n",
       "|  9.80   | 27.9    | 84      | Coppice |\n",
       "|  3.60   | 28.9    | 86      | Coppice |\n",
       "|  3.87   | 30.0    | 80      | Coppice |\n",
       "| 14.08   | 32.2    | 79      | Coppice |\n",
       "|  3.90   | 35.4    | 88      | Coppice |\n",
       "|  3.64   | 36.7    | 84      | Coppice |\n",
       "\n"
      ],
      "text/plain": [
       "    Foliage DBH  Age Origin \n",
       "1    0.10    4.0 38  Natural\n",
       "2    0.20    6.0 38  Natural\n",
       "3    0.40    8.0 46  Natural\n",
       "4    0.60    9.6 44  Natural\n",
       "5    0.60   11.3 60  Natural\n",
       "6    0.80   13.7 56  Natural\n",
       "7    1.00   15.4 72  Natural\n",
       "8    1.40   17.8 74  Natural\n",
       "9    1.70   18.0 68  Natural\n",
       "10   3.50   22.0 79  Natural\n",
       "11   3.80   22.6 78  Natural\n",
       "12   4.10   26.4 78  Natural\n",
       "13   6.60   28.6 75  Natural\n",
       "14   8.00   31.8 83  Natural\n",
       "15  11.80   38.6 84  Natural\n",
       "16   0.12    3.5 18  Natural\n",
       "17   0.36    4.9 13  Natural\n",
       "18   1.20   17.0 40  Natural\n",
       "19   5.63   27.5 74  Natural\n",
       "20   0.06    2.0 21  Natural\n",
       "21   0.36    4.0 21  Natural\n",
       "22   1.60    6.0 21  Natural\n",
       "23   3.50    8.0 21  Natural\n",
       "24   0.01    1.6 26  Natural\n",
       "25   0.61    9.0 26  Natural\n",
       "26   1.09   12.0 26  Natural\n",
       "27   4.60   24.6 85  Natural\n",
       "28   1.70   19.3 78  Natural\n",
       "29   1.90   12.7 40  Natural\n",
       "30   0.30    8.0 38  Natural\n",
       "... ...     ...  ... ...    \n",
       "356  0.82   11.9 41  Coppice\n",
       "357  0.58   14.2 58  Coppice\n",
       "358  2.17   17.9 64  Coppice\n",
       "359  2.02   18.5 65  Coppice\n",
       "360  1.88   19.1 86  Coppice\n",
       "361  1.74   20.0 74  Coppice\n",
       "362  1.98   20.2 73  Coppice\n",
       "363  3.84   24.0 64  Coppice\n",
       "364  5.10   27.5 77  Coppice\n",
       "365  7.35   33.6 84  Coppice\n",
       "366  0.12    5.2 31  Coppice\n",
       "367  1.67   12.1 44  Coppice\n",
       "368  1.75   13.8 70  Coppice\n",
       "369  3.47   16.4 72  Coppice\n",
       "370  0.29   16.1 69  Coppice\n",
       "371  2.56   17.6 67  Coppice\n",
       "372  2.32   18.5 57  Coppice\n",
       "373  3.30   20.0 83  Coppice\n",
       "374  2.05   20.2 71  Coppice\n",
       "375  4.22   23.2 84  Coppice\n",
       "376  6.43   23.0 87  Coppice\n",
       "377 14.01   25.5 74  Coppice\n",
       "378  7.06   25.3 78  Coppice\n",
       "379  2.60   28.7 86  Coppice\n",
       "380  9.80   27.9 84  Coppice\n",
       "381  3.60   28.9 86  Coppice\n",
       "382  3.87   30.0 80  Coppice\n",
       "383 14.08   32.2 79  Coppice\n",
       "384  3.90   35.4 88  Coppice\n",
       "385  3.64   36.7 84  Coppice"
      ]
     },
     "metadata": {},
     "output_type": "display_data"
    }
   ],
   "source": [
    "lime"
   ]
  },
  {
   "cell_type": "code",
   "execution_count": 7,
   "metadata": {},
   "outputs": [],
   "source": [
    "lime$AgeGrp <- cut(lime$Age, breaks=4 )"
   ]
  },
  {
   "cell_type": "code",
   "execution_count": 8,
   "metadata": {},
   "outputs": [
    {
     "data": {
      "text/html": [
       "<table>\n",
       "<thead><tr><th scope=col>Foliage</th><th scope=col>DBH</th><th scope=col>Age</th><th scope=col>Origin</th><th scope=col>AgeGrp</th></tr></thead>\n",
       "<tbody>\n",
       "\t<tr><td> 0.10      </td><td> 4.0       </td><td>38         </td><td>Natural    </td><td>(9.87,42.8]</td></tr>\n",
       "\t<tr><td> 0.20      </td><td> 6.0       </td><td>38         </td><td>Natural    </td><td>(9.87,42.8]</td></tr>\n",
       "\t<tr><td> 0.40      </td><td> 8.0       </td><td>46         </td><td>Natural    </td><td>(42.8,75.5]</td></tr>\n",
       "\t<tr><td> 0.60      </td><td> 9.6       </td><td>44         </td><td>Natural    </td><td>(42.8,75.5]</td></tr>\n",
       "\t<tr><td> 0.60      </td><td>11.3       </td><td>60         </td><td>Natural    </td><td>(42.8,75.5]</td></tr>\n",
       "\t<tr><td> 0.80      </td><td>13.7       </td><td>56         </td><td>Natural    </td><td>(42.8,75.5]</td></tr>\n",
       "\t<tr><td> 1.00      </td><td>15.4       </td><td>72         </td><td>Natural    </td><td>(42.8,75.5]</td></tr>\n",
       "\t<tr><td> 1.40      </td><td>17.8       </td><td>74         </td><td>Natural    </td><td>(42.8,75.5]</td></tr>\n",
       "\t<tr><td> 1.70      </td><td>18.0       </td><td>68         </td><td>Natural    </td><td>(42.8,75.5]</td></tr>\n",
       "\t<tr><td> 3.50      </td><td>22.0       </td><td>79         </td><td>Natural    </td><td>(75.5,108] </td></tr>\n",
       "\t<tr><td> 3.80      </td><td>22.6       </td><td>78         </td><td>Natural    </td><td>(75.5,108] </td></tr>\n",
       "\t<tr><td> 4.10      </td><td>26.4       </td><td>78         </td><td>Natural    </td><td>(75.5,108] </td></tr>\n",
       "\t<tr><td> 6.60      </td><td>28.6       </td><td>75         </td><td>Natural    </td><td>(42.8,75.5]</td></tr>\n",
       "\t<tr><td> 8.00      </td><td>31.8       </td><td>83         </td><td>Natural    </td><td>(75.5,108] </td></tr>\n",
       "\t<tr><td>11.80      </td><td>38.6       </td><td>84         </td><td>Natural    </td><td>(75.5,108] </td></tr>\n",
       "\t<tr><td> 0.12      </td><td> 3.5       </td><td>18         </td><td>Natural    </td><td>(9.87,42.8]</td></tr>\n",
       "\t<tr><td> 0.36      </td><td> 4.9       </td><td>13         </td><td>Natural    </td><td>(9.87,42.8]</td></tr>\n",
       "\t<tr><td> 1.20      </td><td>17.0       </td><td>40         </td><td>Natural    </td><td>(9.87,42.8]</td></tr>\n",
       "\t<tr><td> 5.63      </td><td>27.5       </td><td>74         </td><td>Natural    </td><td>(42.8,75.5]</td></tr>\n",
       "\t<tr><td> 0.06      </td><td> 2.0       </td><td>21         </td><td>Natural    </td><td>(9.87,42.8]</td></tr>\n",
       "\t<tr><td> 0.36      </td><td> 4.0       </td><td>21         </td><td>Natural    </td><td>(9.87,42.8]</td></tr>\n",
       "\t<tr><td> 1.60      </td><td> 6.0       </td><td>21         </td><td>Natural    </td><td>(9.87,42.8]</td></tr>\n",
       "\t<tr><td> 3.50      </td><td> 8.0       </td><td>21         </td><td>Natural    </td><td>(9.87,42.8]</td></tr>\n",
       "\t<tr><td> 0.01      </td><td> 1.6       </td><td>26         </td><td>Natural    </td><td>(9.87,42.8]</td></tr>\n",
       "\t<tr><td> 0.61      </td><td> 9.0       </td><td>26         </td><td>Natural    </td><td>(9.87,42.8]</td></tr>\n",
       "\t<tr><td> 1.09      </td><td>12.0       </td><td>26         </td><td>Natural    </td><td>(9.87,42.8]</td></tr>\n",
       "\t<tr><td> 4.60      </td><td>24.6       </td><td>85         </td><td>Natural    </td><td>(75.5,108] </td></tr>\n",
       "\t<tr><td> 1.70      </td><td>19.3       </td><td>78         </td><td>Natural    </td><td>(75.5,108] </td></tr>\n",
       "\t<tr><td> 1.90      </td><td>12.7       </td><td>40         </td><td>Natural    </td><td>(9.87,42.8]</td></tr>\n",
       "\t<tr><td> 0.30      </td><td> 8.0       </td><td>38         </td><td>Natural    </td><td>(9.87,42.8]</td></tr>\n",
       "\t<tr><td>...</td><td>...</td><td>...</td><td>...</td><td>...</td></tr>\n",
       "\t<tr><td> 0.82      </td><td>11.9       </td><td>41         </td><td>Coppice    </td><td>(9.87,42.8]</td></tr>\n",
       "\t<tr><td> 0.58      </td><td>14.2       </td><td>58         </td><td>Coppice    </td><td>(42.8,75.5]</td></tr>\n",
       "\t<tr><td> 2.17      </td><td>17.9       </td><td>64         </td><td>Coppice    </td><td>(42.8,75.5]</td></tr>\n",
       "\t<tr><td> 2.02      </td><td>18.5       </td><td>65         </td><td>Coppice    </td><td>(42.8,75.5]</td></tr>\n",
       "\t<tr><td> 1.88      </td><td>19.1       </td><td>86         </td><td>Coppice    </td><td>(75.5,108] </td></tr>\n",
       "\t<tr><td> 1.74      </td><td>20.0       </td><td>74         </td><td>Coppice    </td><td>(42.8,75.5]</td></tr>\n",
       "\t<tr><td> 1.98      </td><td>20.2       </td><td>73         </td><td>Coppice    </td><td>(42.8,75.5]</td></tr>\n",
       "\t<tr><td> 3.84      </td><td>24.0       </td><td>64         </td><td>Coppice    </td><td>(42.8,75.5]</td></tr>\n",
       "\t<tr><td> 5.10      </td><td>27.5       </td><td>77         </td><td>Coppice    </td><td>(75.5,108] </td></tr>\n",
       "\t<tr><td> 7.35      </td><td>33.6       </td><td>84         </td><td>Coppice    </td><td>(75.5,108] </td></tr>\n",
       "\t<tr><td> 0.12      </td><td> 5.2       </td><td>31         </td><td>Coppice    </td><td>(9.87,42.8]</td></tr>\n",
       "\t<tr><td> 1.67      </td><td>12.1       </td><td>44         </td><td>Coppice    </td><td>(42.8,75.5]</td></tr>\n",
       "\t<tr><td> 1.75      </td><td>13.8       </td><td>70         </td><td>Coppice    </td><td>(42.8,75.5]</td></tr>\n",
       "\t<tr><td> 3.47      </td><td>16.4       </td><td>72         </td><td>Coppice    </td><td>(42.8,75.5]</td></tr>\n",
       "\t<tr><td> 0.29      </td><td>16.1       </td><td>69         </td><td>Coppice    </td><td>(42.8,75.5]</td></tr>\n",
       "\t<tr><td> 2.56      </td><td>17.6       </td><td>67         </td><td>Coppice    </td><td>(42.8,75.5]</td></tr>\n",
       "\t<tr><td> 2.32      </td><td>18.5       </td><td>57         </td><td>Coppice    </td><td>(42.8,75.5]</td></tr>\n",
       "\t<tr><td> 3.30      </td><td>20.0       </td><td>83         </td><td>Coppice    </td><td>(75.5,108] </td></tr>\n",
       "\t<tr><td> 2.05      </td><td>20.2       </td><td>71         </td><td>Coppice    </td><td>(42.8,75.5]</td></tr>\n",
       "\t<tr><td> 4.22      </td><td>23.2       </td><td>84         </td><td>Coppice    </td><td>(75.5,108] </td></tr>\n",
       "\t<tr><td> 6.43      </td><td>23.0       </td><td>87         </td><td>Coppice    </td><td>(75.5,108] </td></tr>\n",
       "\t<tr><td>14.01      </td><td>25.5       </td><td>74         </td><td>Coppice    </td><td>(42.8,75.5]</td></tr>\n",
       "\t<tr><td> 7.06      </td><td>25.3       </td><td>78         </td><td>Coppice    </td><td>(75.5,108] </td></tr>\n",
       "\t<tr><td> 2.60      </td><td>28.7       </td><td>86         </td><td>Coppice    </td><td>(75.5,108] </td></tr>\n",
       "\t<tr><td> 9.80      </td><td>27.9       </td><td>84         </td><td>Coppice    </td><td>(75.5,108] </td></tr>\n",
       "\t<tr><td> 3.60      </td><td>28.9       </td><td>86         </td><td>Coppice    </td><td>(75.5,108] </td></tr>\n",
       "\t<tr><td> 3.87      </td><td>30.0       </td><td>80         </td><td>Coppice    </td><td>(75.5,108] </td></tr>\n",
       "\t<tr><td>14.08      </td><td>32.2       </td><td>79         </td><td>Coppice    </td><td>(75.5,108] </td></tr>\n",
       "\t<tr><td> 3.90      </td><td>35.4       </td><td>88         </td><td>Coppice    </td><td>(75.5,108] </td></tr>\n",
       "\t<tr><td> 3.64      </td><td>36.7       </td><td>84         </td><td>Coppice    </td><td>(75.5,108] </td></tr>\n",
       "</tbody>\n",
       "</table>\n"
      ],
      "text/latex": [
       "\\begin{tabular}{r|lllll}\n",
       " Foliage & DBH & Age & Origin & AgeGrp\\\\\n",
       "\\hline\n",
       "\t  0.10         &  4.0          & 38            & Natural       & (9.87,42.8{]}\\\\\n",
       "\t  0.20         &  6.0          & 38            & Natural       & (9.87,42.8{]}\\\\\n",
       "\t  0.40         &  8.0          & 46            & Natural       & (42.8,75.5{]}\\\\\n",
       "\t  0.60         &  9.6          & 44            & Natural       & (42.8,75.5{]}\\\\\n",
       "\t  0.60         & 11.3          & 60            & Natural       & (42.8,75.5{]}\\\\\n",
       "\t  0.80         & 13.7          & 56            & Natural       & (42.8,75.5{]}\\\\\n",
       "\t  1.00         & 15.4          & 72            & Natural       & (42.8,75.5{]}\\\\\n",
       "\t  1.40         & 17.8          & 74            & Natural       & (42.8,75.5{]}\\\\\n",
       "\t  1.70         & 18.0          & 68            & Natural       & (42.8,75.5{]}\\\\\n",
       "\t  3.50         & 22.0          & 79            & Natural       & (75.5,108{]} \\\\\n",
       "\t  3.80         & 22.6          & 78            & Natural       & (75.5,108{]} \\\\\n",
       "\t  4.10         & 26.4          & 78            & Natural       & (75.5,108{]} \\\\\n",
       "\t  6.60         & 28.6          & 75            & Natural       & (42.8,75.5{]}\\\\\n",
       "\t  8.00         & 31.8          & 83            & Natural       & (75.5,108{]} \\\\\n",
       "\t 11.80         & 38.6          & 84            & Natural       & (75.5,108{]} \\\\\n",
       "\t  0.12         &  3.5          & 18            & Natural       & (9.87,42.8{]}\\\\\n",
       "\t  0.36         &  4.9          & 13            & Natural       & (9.87,42.8{]}\\\\\n",
       "\t  1.20         & 17.0          & 40            & Natural       & (9.87,42.8{]}\\\\\n",
       "\t  5.63         & 27.5          & 74            & Natural       & (42.8,75.5{]}\\\\\n",
       "\t  0.06         &  2.0          & 21            & Natural       & (9.87,42.8{]}\\\\\n",
       "\t  0.36         &  4.0          & 21            & Natural       & (9.87,42.8{]}\\\\\n",
       "\t  1.60         &  6.0          & 21            & Natural       & (9.87,42.8{]}\\\\\n",
       "\t  3.50         &  8.0          & 21            & Natural       & (9.87,42.8{]}\\\\\n",
       "\t  0.01         &  1.6          & 26            & Natural       & (9.87,42.8{]}\\\\\n",
       "\t  0.61         &  9.0          & 26            & Natural       & (9.87,42.8{]}\\\\\n",
       "\t  1.09         & 12.0          & 26            & Natural       & (9.87,42.8{]}\\\\\n",
       "\t  4.60         & 24.6          & 85            & Natural       & (75.5,108{]} \\\\\n",
       "\t  1.70         & 19.3          & 78            & Natural       & (75.5,108{]} \\\\\n",
       "\t  1.90         & 12.7          & 40            & Natural       & (9.87,42.8{]}\\\\\n",
       "\t  0.30         &  8.0          & 38            & Natural       & (9.87,42.8{]}\\\\\n",
       "\t ... & ... & ... & ... & ...\\\\\n",
       "\t  0.82         & 11.9          & 41            & Coppice       & (9.87,42.8{]}\\\\\n",
       "\t  0.58         & 14.2          & 58            & Coppice       & (42.8,75.5{]}\\\\\n",
       "\t  2.17         & 17.9          & 64            & Coppice       & (42.8,75.5{]}\\\\\n",
       "\t  2.02         & 18.5          & 65            & Coppice       & (42.8,75.5{]}\\\\\n",
       "\t  1.88         & 19.1          & 86            & Coppice       & (75.5,108{]} \\\\\n",
       "\t  1.74         & 20.0          & 74            & Coppice       & (42.8,75.5{]}\\\\\n",
       "\t  1.98         & 20.2          & 73            & Coppice       & (42.8,75.5{]}\\\\\n",
       "\t  3.84         & 24.0          & 64            & Coppice       & (42.8,75.5{]}\\\\\n",
       "\t  5.10         & 27.5          & 77            & Coppice       & (75.5,108{]} \\\\\n",
       "\t  7.35         & 33.6          & 84            & Coppice       & (75.5,108{]} \\\\\n",
       "\t  0.12         &  5.2          & 31            & Coppice       & (9.87,42.8{]}\\\\\n",
       "\t  1.67         & 12.1          & 44            & Coppice       & (42.8,75.5{]}\\\\\n",
       "\t  1.75         & 13.8          & 70            & Coppice       & (42.8,75.5{]}\\\\\n",
       "\t  3.47         & 16.4          & 72            & Coppice       & (42.8,75.5{]}\\\\\n",
       "\t  0.29         & 16.1          & 69            & Coppice       & (42.8,75.5{]}\\\\\n",
       "\t  2.56         & 17.6          & 67            & Coppice       & (42.8,75.5{]}\\\\\n",
       "\t  2.32         & 18.5          & 57            & Coppice       & (42.8,75.5{]}\\\\\n",
       "\t  3.30         & 20.0          & 83            & Coppice       & (75.5,108{]} \\\\\n",
       "\t  2.05         & 20.2          & 71            & Coppice       & (42.8,75.5{]}\\\\\n",
       "\t  4.22         & 23.2          & 84            & Coppice       & (75.5,108{]} \\\\\n",
       "\t  6.43         & 23.0          & 87            & Coppice       & (75.5,108{]} \\\\\n",
       "\t 14.01         & 25.5          & 74            & Coppice       & (42.8,75.5{]}\\\\\n",
       "\t  7.06         & 25.3          & 78            & Coppice       & (75.5,108{]} \\\\\n",
       "\t  2.60         & 28.7          & 86            & Coppice       & (75.5,108{]} \\\\\n",
       "\t  9.80         & 27.9          & 84            & Coppice       & (75.5,108{]} \\\\\n",
       "\t  3.60         & 28.9          & 86            & Coppice       & (75.5,108{]} \\\\\n",
       "\t  3.87         & 30.0          & 80            & Coppice       & (75.5,108{]} \\\\\n",
       "\t 14.08         & 32.2          & 79            & Coppice       & (75.5,108{]} \\\\\n",
       "\t  3.90         & 35.4          & 88            & Coppice       & (75.5,108{]} \\\\\n",
       "\t  3.64         & 36.7          & 84            & Coppice       & (75.5,108{]} \\\\\n",
       "\\end{tabular}\n"
      ],
      "text/markdown": [
       "\n",
       "| Foliage | DBH | Age | Origin | AgeGrp |\n",
       "|---|---|---|---|---|\n",
       "|  0.10       |  4.0        | 38          | Natural     | (9.87,42.8] |\n",
       "|  0.20       |  6.0        | 38          | Natural     | (9.87,42.8] |\n",
       "|  0.40       |  8.0        | 46          | Natural     | (42.8,75.5] |\n",
       "|  0.60       |  9.6        | 44          | Natural     | (42.8,75.5] |\n",
       "|  0.60       | 11.3        | 60          | Natural     | (42.8,75.5] |\n",
       "|  0.80       | 13.7        | 56          | Natural     | (42.8,75.5] |\n",
       "|  1.00       | 15.4        | 72          | Natural     | (42.8,75.5] |\n",
       "|  1.40       | 17.8        | 74          | Natural     | (42.8,75.5] |\n",
       "|  1.70       | 18.0        | 68          | Natural     | (42.8,75.5] |\n",
       "|  3.50       | 22.0        | 79          | Natural     | (75.5,108]  |\n",
       "|  3.80       | 22.6        | 78          | Natural     | (75.5,108]  |\n",
       "|  4.10       | 26.4        | 78          | Natural     | (75.5,108]  |\n",
       "|  6.60       | 28.6        | 75          | Natural     | (42.8,75.5] |\n",
       "|  8.00       | 31.8        | 83          | Natural     | (75.5,108]  |\n",
       "| 11.80       | 38.6        | 84          | Natural     | (75.5,108]  |\n",
       "|  0.12       |  3.5        | 18          | Natural     | (9.87,42.8] |\n",
       "|  0.36       |  4.9        | 13          | Natural     | (9.87,42.8] |\n",
       "|  1.20       | 17.0        | 40          | Natural     | (9.87,42.8] |\n",
       "|  5.63       | 27.5        | 74          | Natural     | (42.8,75.5] |\n",
       "|  0.06       |  2.0        | 21          | Natural     | (9.87,42.8] |\n",
       "|  0.36       |  4.0        | 21          | Natural     | (9.87,42.8] |\n",
       "|  1.60       |  6.0        | 21          | Natural     | (9.87,42.8] |\n",
       "|  3.50       |  8.0        | 21          | Natural     | (9.87,42.8] |\n",
       "|  0.01       |  1.6        | 26          | Natural     | (9.87,42.8] |\n",
       "|  0.61       |  9.0        | 26          | Natural     | (9.87,42.8] |\n",
       "|  1.09       | 12.0        | 26          | Natural     | (9.87,42.8] |\n",
       "|  4.60       | 24.6        | 85          | Natural     | (75.5,108]  |\n",
       "|  1.70       | 19.3        | 78          | Natural     | (75.5,108]  |\n",
       "|  1.90       | 12.7        | 40          | Natural     | (9.87,42.8] |\n",
       "|  0.30       |  8.0        | 38          | Natural     | (9.87,42.8] |\n",
       "| ... | ... | ... | ... | ... |\n",
       "|  0.82       | 11.9        | 41          | Coppice     | (9.87,42.8] |\n",
       "|  0.58       | 14.2        | 58          | Coppice     | (42.8,75.5] |\n",
       "|  2.17       | 17.9        | 64          | Coppice     | (42.8,75.5] |\n",
       "|  2.02       | 18.5        | 65          | Coppice     | (42.8,75.5] |\n",
       "|  1.88       | 19.1        | 86          | Coppice     | (75.5,108]  |\n",
       "|  1.74       | 20.0        | 74          | Coppice     | (42.8,75.5] |\n",
       "|  1.98       | 20.2        | 73          | Coppice     | (42.8,75.5] |\n",
       "|  3.84       | 24.0        | 64          | Coppice     | (42.8,75.5] |\n",
       "|  5.10       | 27.5        | 77          | Coppice     | (75.5,108]  |\n",
       "|  7.35       | 33.6        | 84          | Coppice     | (75.5,108]  |\n",
       "|  0.12       |  5.2        | 31          | Coppice     | (9.87,42.8] |\n",
       "|  1.67       | 12.1        | 44          | Coppice     | (42.8,75.5] |\n",
       "|  1.75       | 13.8        | 70          | Coppice     | (42.8,75.5] |\n",
       "|  3.47       | 16.4        | 72          | Coppice     | (42.8,75.5] |\n",
       "|  0.29       | 16.1        | 69          | Coppice     | (42.8,75.5] |\n",
       "|  2.56       | 17.6        | 67          | Coppice     | (42.8,75.5] |\n",
       "|  2.32       | 18.5        | 57          | Coppice     | (42.8,75.5] |\n",
       "|  3.30       | 20.0        | 83          | Coppice     | (75.5,108]  |\n",
       "|  2.05       | 20.2        | 71          | Coppice     | (42.8,75.5] |\n",
       "|  4.22       | 23.2        | 84          | Coppice     | (75.5,108]  |\n",
       "|  6.43       | 23.0        | 87          | Coppice     | (75.5,108]  |\n",
       "| 14.01       | 25.5        | 74          | Coppice     | (42.8,75.5] |\n",
       "|  7.06       | 25.3        | 78          | Coppice     | (75.5,108]  |\n",
       "|  2.60       | 28.7        | 86          | Coppice     | (75.5,108]  |\n",
       "|  9.80       | 27.9        | 84          | Coppice     | (75.5,108]  |\n",
       "|  3.60       | 28.9        | 86          | Coppice     | (75.5,108]  |\n",
       "|  3.87       | 30.0        | 80          | Coppice     | (75.5,108]  |\n",
       "| 14.08       | 32.2        | 79          | Coppice     | (75.5,108]  |\n",
       "|  3.90       | 35.4        | 88          | Coppice     | (75.5,108]  |\n",
       "|  3.64       | 36.7        | 84          | Coppice     | (75.5,108]  |\n",
       "\n"
      ],
      "text/plain": [
       "    Foliage DBH  Age Origin  AgeGrp     \n",
       "1    0.10    4.0 38  Natural (9.87,42.8]\n",
       "2    0.20    6.0 38  Natural (9.87,42.8]\n",
       "3    0.40    8.0 46  Natural (42.8,75.5]\n",
       "4    0.60    9.6 44  Natural (42.8,75.5]\n",
       "5    0.60   11.3 60  Natural (42.8,75.5]\n",
       "6    0.80   13.7 56  Natural (42.8,75.5]\n",
       "7    1.00   15.4 72  Natural (42.8,75.5]\n",
       "8    1.40   17.8 74  Natural (42.8,75.5]\n",
       "9    1.70   18.0 68  Natural (42.8,75.5]\n",
       "10   3.50   22.0 79  Natural (75.5,108] \n",
       "11   3.80   22.6 78  Natural (75.5,108] \n",
       "12   4.10   26.4 78  Natural (75.5,108] \n",
       "13   6.60   28.6 75  Natural (42.8,75.5]\n",
       "14   8.00   31.8 83  Natural (75.5,108] \n",
       "15  11.80   38.6 84  Natural (75.5,108] \n",
       "16   0.12    3.5 18  Natural (9.87,42.8]\n",
       "17   0.36    4.9 13  Natural (9.87,42.8]\n",
       "18   1.20   17.0 40  Natural (9.87,42.8]\n",
       "19   5.63   27.5 74  Natural (42.8,75.5]\n",
       "20   0.06    2.0 21  Natural (9.87,42.8]\n",
       "21   0.36    4.0 21  Natural (9.87,42.8]\n",
       "22   1.60    6.0 21  Natural (9.87,42.8]\n",
       "23   3.50    8.0 21  Natural (9.87,42.8]\n",
       "24   0.01    1.6 26  Natural (9.87,42.8]\n",
       "25   0.61    9.0 26  Natural (9.87,42.8]\n",
       "26   1.09   12.0 26  Natural (9.87,42.8]\n",
       "27   4.60   24.6 85  Natural (75.5,108] \n",
       "28   1.70   19.3 78  Natural (75.5,108] \n",
       "29   1.90   12.7 40  Natural (9.87,42.8]\n",
       "30   0.30    8.0 38  Natural (9.87,42.8]\n",
       "... ...     ...  ... ...     ...        \n",
       "356  0.82   11.9 41  Coppice (9.87,42.8]\n",
       "357  0.58   14.2 58  Coppice (42.8,75.5]\n",
       "358  2.17   17.9 64  Coppice (42.8,75.5]\n",
       "359  2.02   18.5 65  Coppice (42.8,75.5]\n",
       "360  1.88   19.1 86  Coppice (75.5,108] \n",
       "361  1.74   20.0 74  Coppice (42.8,75.5]\n",
       "362  1.98   20.2 73  Coppice (42.8,75.5]\n",
       "363  3.84   24.0 64  Coppice (42.8,75.5]\n",
       "364  5.10   27.5 77  Coppice (75.5,108] \n",
       "365  7.35   33.6 84  Coppice (75.5,108] \n",
       "366  0.12    5.2 31  Coppice (9.87,42.8]\n",
       "367  1.67   12.1 44  Coppice (42.8,75.5]\n",
       "368  1.75   13.8 70  Coppice (42.8,75.5]\n",
       "369  3.47   16.4 72  Coppice (42.8,75.5]\n",
       "370  0.29   16.1 69  Coppice (42.8,75.5]\n",
       "371  2.56   17.6 67  Coppice (42.8,75.5]\n",
       "372  2.32   18.5 57  Coppice (42.8,75.5]\n",
       "373  3.30   20.0 83  Coppice (75.5,108] \n",
       "374  2.05   20.2 71  Coppice (42.8,75.5]\n",
       "375  4.22   23.2 84  Coppice (75.5,108] \n",
       "376  6.43   23.0 87  Coppice (75.5,108] \n",
       "377 14.01   25.5 74  Coppice (42.8,75.5]\n",
       "378  7.06   25.3 78  Coppice (75.5,108] \n",
       "379  2.60   28.7 86  Coppice (75.5,108] \n",
       "380  9.80   27.9 84  Coppice (75.5,108] \n",
       "381  3.60   28.9 86  Coppice (75.5,108] \n",
       "382  3.87   30.0 80  Coppice (75.5,108] \n",
       "383 14.08   32.2 79  Coppice (75.5,108] \n",
       "384  3.90   35.4 88  Coppice (75.5,108] \n",
       "385  3.64   36.7 84  Coppice (75.5,108] "
      ]
     },
     "metadata": {},
     "output_type": "display_data"
    }
   ],
   "source": [
    "lime"
   ]
  },
  {
   "cell_type": "code",
   "execution_count": 9,
   "metadata": {},
   "outputs": [],
   "source": [
    "vr <- with( lime, tapply(Foliage, list(AgeGrp, Origin), \"var\" ) )"
   ]
  },
  {
   "cell_type": "code",
   "execution_count": 10,
   "metadata": {},
   "outputs": [],
   "source": [
    "mn <- with( lime, tapply(Foliage, list(AgeGrp, Origin), \"mean\" ) )"
   ]
  },
  {
   "cell_type": "code",
   "execution_count": 11,
   "metadata": {},
   "outputs": [
    {
     "data": {
      "image/png": "[encoded data removed]",
      "text/plain": [
       "plot without title"
      ]
     },
     "metadata": {},
     "output_type": "display_data"
    }
   ],
   "source": [
    "plot( log(vr) ~ log(mn), las=1, pch=19,\n",
    "xlab=\"log(group means)\", ylab=\"log(group variance)\")"
   ]
  },
  {
   "cell_type": "code",
   "execution_count": 12,
   "metadata": {},
   "outputs": [
    {
     "data": {
      "image/png": "[encoded data removed]",
      "text/plain": [
       "plot without title"
      ]
     },
     "metadata": {},
     "output_type": "display_data"
    }
   ],
   "source": [
    "plot( log(vr) ~ log(mn), las=1, pch=19,\n",
    "xlab=\"log(group means)\", ylab=\"log(group variance)\")\n",
    "mf.lm <- lm( c(log(vr)) ~ c(log(mn)) )\n",
    "abline( coef( mf.lm ), lwd=2)"
   ]
  },
  {
   "cell_type": "code",
   "execution_count": 13,
   "metadata": {},
   "outputs": [
    {
     "data": {
      "text/html": [
       "<table>\n",
       "<thead><tr><th></th><th scope=col>Estimate</th><th scope=col>Std. Error</th><th scope=col>t value</th><th scope=col>Pr(&gt;|t|)</th></tr></thead>\n",
       "<tbody>\n",
       "\t<tr><th scope=row>(Intercept)</th><td>-0.165002   </td><td>0.1051321   </td><td>-1.569472   </td><td>1.605279e-01</td></tr>\n",
       "\t<tr><th scope=row>c(log(mn))</th><td> 1.706453   </td><td>0.1031266   </td><td>16.547157   </td><td>7.187776e-07</td></tr>\n",
       "</tbody>\n",
       "</table>\n"
      ],
      "text/latex": [
       "\\begin{tabular}{r|llll}\n",
       "  & Estimate & Std. Error & t value & Pr(>\\textbar{}t\\textbar{})\\\\\n",
       "\\hline\n",
       "\t(Intercept) & -0.165002    & 0.1051321    & -1.569472    & 1.605279e-01\\\\\n",
       "\tc(log(mn)) &  1.706453    & 0.1031266    & 16.547157    & 7.187776e-07\\\\\n",
       "\\end{tabular}\n"
      ],
      "text/markdown": [
       "\n",
       "| <!--/--> | Estimate | Std. Error | t value | Pr(>|t|) |\n",
       "|---|---|---|---|---|\n",
       "| (Intercept) | -0.165002    | 0.1051321    | -1.569472    | 1.605279e-01 |\n",
       "| c(log(mn)) |  1.706453    | 0.1031266    | 16.547157    | 7.187776e-07 |\n",
       "\n"
      ],
      "text/plain": [
       "            Estimate  Std. Error t value   Pr(>|t|)    \n",
       "(Intercept) -0.165002 0.1051321  -1.569472 1.605279e-01\n",
       "c(log(mn))   1.706453 0.1031266  16.547157 7.187776e-07"
      ]
     },
     "metadata": {},
     "output_type": "display_data"
    }
   ],
   "source": [
    "coef(summary(mf.lm))"
   ]
  },
  {
   "cell_type": "code",
   "execution_count": 14,
   "metadata": {},
   "outputs": [
    {
     "data": {
      "text/html": [
       "8.12526722594025"
      ],
      "text/latex": [
       "8.12526722594025"
      ],
      "text/markdown": [
       "8.12526722594025"
      ],
      "text/plain": [
       "[1] 8.125267"
      ]
     },
     "metadata": {},
     "output_type": "display_data"
    }
   ],
   "source": [
    "(2 - 1.7064)^2/0.103^2"
   ]
  },
  {
   "cell_type": "code",
   "execution_count": 15,
   "metadata": {},
   "outputs": [
    {
     "data": {
      "text/html": [
       "6.63489660102121"
      ],
      "text/latex": [
       "6.63489660102121"
      ],
      "text/markdown": [
       "6.63489660102121"
      ],
      "text/plain": [
       "[1] 6.634897"
      ]
     },
     "metadata": {},
     "output_type": "display_data"
    }
   ],
   "source": [
    "qchisq(0.99, 1)"
   ]
  },
  {
   "cell_type": "code",
   "execution_count": 18,
   "metadata": {},
   "outputs": [
    {
     "data": {
      "image/png": "[encoded data removed]",
      "text/plain": [
       "Plot with title \"Historgram of Foliage\""
      ]
     },
     "metadata": {},
     "output_type": "display_data"
    }
   ],
   "source": [
    "hist(lime$Foliage,xlab=\"Foliage\", ylab=\"Frequency\", main=\"Historgram of Foliage\")"
   ]
  }
 ],
 "metadata": {
  "kernelspec": {
   "display_name": "R",
   "language": "R",
   "name": "ir"
  },
  "language_info": {
   "codemirror_mode": "r",
   "file_extension": ".r",
   "mimetype": "text/x-r-source",
   "name": "R",
   "pygments_lexer": "r",
   "version": "3.6.1"
  },
  "orig_nbformat": 4
 },
 "nbformat": 4,
 "nbformat_minor": 2
}
