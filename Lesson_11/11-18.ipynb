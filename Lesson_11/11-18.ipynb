{
 "cells": [
  {
   "cell_type": "code",
   "execution_count": 1,
   "metadata": {},
   "outputs": [
    {
     "name": "stderr",
     "output_type": "stream",
     "text": [
      "Warning message:\n",
      "\"package 'statmod' was built under R version 3.6.3\""
     ]
    }
   ],
   "source": [
    "library(GLMsData)\n",
    "library(statmod)\n",
    "library(MASS)\n",
    "library(splines)"
   ]
  },
  {
   "cell_type": "code",
   "execution_count": 2,
   "metadata": {},
   "outputs": [],
   "source": [
    "data(nitrogen)"
   ]
  },
  {
   "cell_type": "code",
   "execution_count": 3,
   "metadata": {},
   "outputs": [
    {
     "name": "stdout",
     "output_type": "stream",
     "text": [
      "'data.frame':\t24 obs. of  3 variables:\n",
      " $ Fert  : int  0 0 0 48 48 48 96 96 96 144 ...\n",
      " $ Source: int  0 0 0 0 0 0 0 0 0 0 ...\n",
      " $ SoilN : num  4.53 5.46 4.77 6.17 9.3 ...\n"
     ]
    }
   ],
   "source": [
    "str(nitrogen)"
   ]
  },
  {
   "cell_type": "code",
   "execution_count": 5,
   "metadata": {},
   "outputs": [
    {
     "data": {
      "text/html": [
       "<table>\n",
       "<thead><tr><th scope=col>Fert</th><th scope=col>Source</th><th scope=col>SoilN</th></tr></thead>\n",
       "<tbody>\n",
       "\t<tr><td>  0  </td><td>0    </td><td> 4.53</td></tr>\n",
       "\t<tr><td>  0  </td><td>0    </td><td> 5.46</td></tr>\n",
       "\t<tr><td>  0  </td><td>0    </td><td> 4.77</td></tr>\n",
       "\t<tr><td> 48  </td><td>0    </td><td> 6.17</td></tr>\n",
       "\t<tr><td> 48  </td><td>0    </td><td> 9.30</td></tr>\n",
       "\t<tr><td> 48  </td><td>0    </td><td> 8.29</td></tr>\n",
       "\t<tr><td> 96  </td><td>0    </td><td>11.30</td></tr>\n",
       "\t<tr><td> 96  </td><td>0    </td><td>16.58</td></tr>\n",
       "\t<tr><td> 96  </td><td>0    </td><td>16.24</td></tr>\n",
       "\t<tr><td>144  </td><td>0    </td><td>24.61</td></tr>\n",
       "\t<tr><td>144  </td><td>0    </td><td>18.20</td></tr>\n",
       "\t<tr><td>144  </td><td>0    </td><td>30.03</td></tr>\n",
       "\t<tr><td>192  </td><td>0    </td><td>21.94</td></tr>\n",
       "\t<tr><td>192  </td><td>0    </td><td>29.24</td></tr>\n",
       "\t<tr><td>192  </td><td>0    </td><td>27.43</td></tr>\n",
       "\t<tr><td>240  </td><td>0    </td><td>46.74</td></tr>\n",
       "\t<tr><td>240  </td><td>0    </td><td>38.87</td></tr>\n",
       "\t<tr><td>240  </td><td>0    </td><td>44.07</td></tr>\n",
       "\t<tr><td>288  </td><td>0    </td><td>57.74</td></tr>\n",
       "\t<tr><td>288  </td><td>0    </td><td>45.59</td></tr>\n",
       "\t<tr><td>288  </td><td>0    </td><td>39.77</td></tr>\n",
       "\t<tr><td>248  </td><td>1    </td><td>25.28</td></tr>\n",
       "\t<tr><td>248  </td><td>1    </td><td>21.79</td></tr>\n",
       "\t<tr><td>248  </td><td>1    </td><td>19.75</td></tr>\n",
       "</tbody>\n",
       "</table>\n"
      ],
      "text/latex": [
       "\\begin{tabular}{r|lll}\n",
       " Fert & Source & SoilN\\\\\n",
       "\\hline\n",
       "\t   0   & 0     &  4.53\\\\\n",
       "\t   0   & 0     &  5.46\\\\\n",
       "\t   0   & 0     &  4.77\\\\\n",
       "\t  48   & 0     &  6.17\\\\\n",
       "\t  48   & 0     &  9.30\\\\\n",
       "\t  48   & 0     &  8.29\\\\\n",
       "\t  96   & 0     & 11.30\\\\\n",
       "\t  96   & 0     & 16.58\\\\\n",
       "\t  96   & 0     & 16.24\\\\\n",
       "\t 144   & 0     & 24.61\\\\\n",
       "\t 144   & 0     & 18.20\\\\\n",
       "\t 144   & 0     & 30.03\\\\\n",
       "\t 192   & 0     & 21.94\\\\\n",
       "\t 192   & 0     & 29.24\\\\\n",
       "\t 192   & 0     & 27.43\\\\\n",
       "\t 240   & 0     & 46.74\\\\\n",
       "\t 240   & 0     & 38.87\\\\\n",
       "\t 240   & 0     & 44.07\\\\\n",
       "\t 288   & 0     & 57.74\\\\\n",
       "\t 288   & 0     & 45.59\\\\\n",
       "\t 288   & 0     & 39.77\\\\\n",
       "\t 248   & 1     & 25.28\\\\\n",
       "\t 248   & 1     & 21.79\\\\\n",
       "\t 248   & 1     & 19.75\\\\\n",
       "\\end{tabular}\n"
      ],
      "text/markdown": [
       "\n",
       "| Fert | Source | SoilN |\n",
       "|---|---|---|\n",
       "|   0   | 0     |  4.53 |\n",
       "|   0   | 0     |  5.46 |\n",
       "|   0   | 0     |  4.77 |\n",
       "|  48   | 0     |  6.17 |\n",
       "|  48   | 0     |  9.30 |\n",
       "|  48   | 0     |  8.29 |\n",
       "|  96   | 0     | 11.30 |\n",
       "|  96   | 0     | 16.58 |\n",
       "|  96   | 0     | 16.24 |\n",
       "| 144   | 0     | 24.61 |\n",
       "| 144   | 0     | 18.20 |\n",
       "| 144   | 0     | 30.03 |\n",
       "| 192   | 0     | 21.94 |\n",
       "| 192   | 0     | 29.24 |\n",
       "| 192   | 0     | 27.43 |\n",
       "| 240   | 0     | 46.74 |\n",
       "| 240   | 0     | 38.87 |\n",
       "| 240   | 0     | 44.07 |\n",
       "| 288   | 0     | 57.74 |\n",
       "| 288   | 0     | 45.59 |\n",
       "| 288   | 0     | 39.77 |\n",
       "| 248   | 1     | 25.28 |\n",
       "| 248   | 1     | 21.79 |\n",
       "| 248   | 1     | 19.75 |\n",
       "\n"
      ],
      "text/plain": [
       "   Fert Source SoilN\n",
       "1    0  0       4.53\n",
       "2    0  0       5.46\n",
       "3    0  0       4.77\n",
       "4   48  0       6.17\n",
       "5   48  0       9.30\n",
       "6   48  0       8.29\n",
       "7   96  0      11.30\n",
       "8   96  0      16.58\n",
       "9   96  0      16.24\n",
       "10 144  0      24.61\n",
       "11 144  0      18.20\n",
       "12 144  0      30.03\n",
       "13 192  0      21.94\n",
       "14 192  0      29.24\n",
       "15 192  0      27.43\n",
       "16 240  0      46.74\n",
       "17 240  0      38.87\n",
       "18 240  0      44.07\n",
       "19 288  0      57.74\n",
       "20 288  0      45.59\n",
       "21 288  0      39.77\n",
       "22 248  1      25.28\n",
       "23 248  1      21.79\n",
       "24 248  1      19.75"
      ]
     },
     "metadata": {},
     "output_type": "display_data"
    }
   ],
   "source": [
    "nitrogen"
   ]
  },
  {
   "cell_type": "code",
   "execution_count": 6,
   "metadata": {},
   "outputs": [
    {
     "data": {
      "image/png": "[encoded data removed]",
      "text/plain": [
       "plot without title"
      ]
     },
     "metadata": {},
     "output_type": "display_data"
    },
    {
     "data": {
      "image/png": "[encoded data removed]",
      "text/plain": [
       "plot without title"
      ]
     },
     "metadata": {},
     "output_type": "display_data"
    }
   ],
   "source": [
    "with(nitrogen, {\n",
    "    plot(Fert ~ SoilN)\n",
    "    plot(Fert ~ factor(Source))\n",
    "})"
   ]
  },
  {
   "cell_type": "code",
   "execution_count": 9,
   "metadata": {},
   "outputs": [],
   "source": [
    "glm.1 <- glm(Fert ~ SoilN * factor(Source), data=nitrogen, family = Gamma(link=\"log\"), subset=(Fert != 0))"
   ]
  },
  {
   "cell_type": "code",
   "execution_count": 10,
   "metadata": {},
   "outputs": [
    {
     "data": {
      "text/html": [
       "<table>\n",
       "<thead><tr><th></th><th scope=col>Estimate</th><th scope=col>Std. Error</th><th scope=col>t value</th><th scope=col>Pr(&gt;|t|)</th></tr></thead>\n",
       "<tbody>\n",
       "\t<tr><th scope=row>(Intercept)</th><td> 4.02001276 </td><td>0.132226519 </td><td>30.4024699  </td><td>2.923870e-16</td></tr>\n",
       "\t<tr><th scope=row>SoilN</th><td> 0.03593795 </td><td>0.004250565 </td><td> 8.4548645  </td><td>1.705308e-07</td></tr>\n",
       "\t<tr><th scope=row>factor(Source)1</th><td> 1.49341598 </td><td>1.520984079 </td><td> 0.9818748  </td><td>3.399298e-01</td></tr>\n",
       "\t<tr><th scope=row>SoilN:factor(Source)1</th><td>-0.03593795 </td><td>0.067807374 </td><td>-0.5300006  </td><td>6.029658e-01</td></tr>\n",
       "</tbody>\n",
       "</table>\n"
      ],
      "text/latex": [
       "\\begin{tabular}{r|llll}\n",
       "  & Estimate & Std. Error & t value & Pr(>\\textbar{}t\\textbar{})\\\\\n",
       "\\hline\n",
       "\t(Intercept) &  4.02001276  & 0.132226519  & 30.4024699   & 2.923870e-16\\\\\n",
       "\tSoilN &  0.03593795  & 0.004250565  &  8.4548645   & 1.705308e-07\\\\\n",
       "\tfactor(Source)1 &  1.49341598  & 1.520984079  &  0.9818748   & 3.399298e-01\\\\\n",
       "\tSoilN:factor(Source)1 & -0.03593795  & 0.067807374  & -0.5300006   & 6.029658e-01\\\\\n",
       "\\end{tabular}\n"
      ],
      "text/markdown": [
       "\n",
       "| <!--/--> | Estimate | Std. Error | t value | Pr(>|t|) |\n",
       "|---|---|---|---|---|\n",
       "| (Intercept) |  4.02001276  | 0.132226519  | 30.4024699   | 2.923870e-16 |\n",
       "| SoilN |  0.03593795  | 0.004250565  |  8.4548645   | 1.705308e-07 |\n",
       "| factor(Source)1 |  1.49341598  | 1.520984079  |  0.9818748   | 3.399298e-01 |\n",
       "| SoilN:factor(Source)1 | -0.03593795  | 0.067807374  | -0.5300006   | 6.029658e-01 |\n",
       "\n"
      ],
      "text/plain": [
       "                      Estimate    Std. Error  t value    Pr(>|t|)    \n",
       "(Intercept)            4.02001276 0.132226519 30.4024699 2.923870e-16\n",
       "SoilN                  0.03593795 0.004250565  8.4548645 1.705308e-07\n",
       "factor(Source)1        1.49341598 1.520984079  0.9818748 3.399298e-01\n",
       "SoilN:factor(Source)1 -0.03593795 0.067807374 -0.5300006 6.029658e-01"
      ]
     },
     "metadata": {},
     "output_type": "display_data"
    }
   ],
   "source": [
    "coef(summary(glm.1))"
   ]
  },
  {
   "cell_type": "code",
   "execution_count": 11,
   "metadata": {},
   "outputs": [
    {
     "data": {
      "text/html": [
       "<table>\n",
       "<thead><tr><th></th><th scope=col>Df</th><th scope=col>Deviance</th><th scope=col>Resid. Df</th><th scope=col>Resid. Dev</th><th scope=col>F</th><th scope=col>Pr(&gt;F)</th></tr></thead>\n",
       "<tbody>\n",
       "\t<tr><th scope=row>NULL</th><td>NA          </td><td>        NA  </td><td>20          </td><td>6.051326    </td><td>        NA  </td><td>          NA</td></tr>\n",
       "\t<tr><th scope=row>SoilN</th><td> 1          </td><td>3.36633100  </td><td>19          </td><td>2.684995    </td><td>46.9950467  </td><td>2.792592e-06</td></tr>\n",
       "\t<tr><th scope=row>factor(Source)</th><td> 1          </td><td>1.41251032  </td><td>18          </td><td>1.272485    </td><td>19.7190913  </td><td>3.585529e-04</td></tr>\n",
       "\t<tr><th scope=row>SoilN:factor(Source)</th><td> 1          </td><td>0.01992017  </td><td>17          </td><td>1.252565    </td><td> 0.2780919  </td><td>6.047693e-01</td></tr>\n",
       "</tbody>\n",
       "</table>\n"
      ],
      "text/latex": [
       "\\begin{tabular}{r|llllll}\n",
       "  & Df & Deviance & Resid. Df & Resid. Dev & F & Pr(>F)\\\\\n",
       "\\hline\n",
       "\tNULL & NA           &         NA   & 20           & 6.051326     &         NA   &           NA\\\\\n",
       "\tSoilN &  1           & 3.36633100   & 19           & 2.684995     & 46.9950467   & 2.792592e-06\\\\\n",
       "\tfactor(Source) &  1           & 1.41251032   & 18           & 1.272485     & 19.7190913   & 3.585529e-04\\\\\n",
       "\tSoilN:factor(Source) &  1           & 0.01992017   & 17           & 1.252565     &  0.2780919   & 6.047693e-01\\\\\n",
       "\\end{tabular}\n"
      ],
      "text/markdown": [
       "\n",
       "| <!--/--> | Df | Deviance | Resid. Df | Resid. Dev | F | Pr(>F) |\n",
       "|---|---|---|---|---|---|---|\n",
       "| NULL | NA           |         NA   | 20           | 6.051326     |         NA   |           NA |\n",
       "| SoilN |  1           | 3.36633100   | 19           | 2.684995     | 46.9950467   | 2.792592e-06 |\n",
       "| factor(Source) |  1           | 1.41251032   | 18           | 1.272485     | 19.7190913   | 3.585529e-04 |\n",
       "| SoilN:factor(Source) |  1           | 0.01992017   | 17           | 1.252565     |  0.2780919   | 6.047693e-01 |\n",
       "\n"
      ],
      "text/plain": [
       "                     Df Deviance   Resid. Df Resid. Dev F          Pr(>F)      \n",
       "NULL                 NA         NA 20        6.051326           NA           NA\n",
       "SoilN                 1 3.36633100 19        2.684995   46.9950467 2.792592e-06\n",
       "factor(Source)        1 1.41251032 18        1.272485   19.7190913 3.585529e-04\n",
       "SoilN:factor(Source)  1 0.01992017 17        1.252565    0.2780919 6.047693e-01"
      ]
     },
     "metadata": {},
     "output_type": "display_data"
    }
   ],
   "source": [
    "anova(glm.1, test=\"F\")"
   ]
  },
  {
   "cell_type": "code",
   "execution_count": 12,
   "metadata": {},
   "outputs": [
    {
     "data": {
      "text/html": [
       "0.999999910182805"
      ],
      "text/latex": [
       "0.999999910182805"
      ],
      "text/markdown": [
       "0.999999910182805"
      ],
      "text/plain": [
       "[1] 0.9999999"
      ]
     },
     "metadata": {},
     "output_type": "display_data"
    },
    {
     "data": {
      "text/html": [
       "0.999999928222717"
      ],
      "text/latex": [
       "0.999999928222717"
      ],
      "text/markdown": [
       "0.999999928222717"
      ],
      "text/plain": [
       "[1] 0.9999999"
      ]
     },
     "metadata": {},
     "output_type": "display_data"
    },
    {
     "data": {
      "text/html": [
       "0.0736802752424869"
      ],
      "text/latex": [
       "0.0736802752424869"
      ],
      "text/markdown": [
       "0.0736802752424869"
      ],
      "text/plain": [
       "[1] 0.07368028"
      ]
     },
     "metadata": {},
     "output_type": "display_data"
    },
    {
     "data": {
      "text/html": [
       "0.0716316130899575"
      ],
      "text/latex": [
       "0.0716316130899575"
      ],
      "text/markdown": [
       "0.0716316130899575"
      ],
      "text/plain": [
       "[1] 0.07163161"
      ]
     },
     "metadata": {},
     "output_type": "display_data"
    }
   ],
   "source": [
    "gof.dev <- deviance(glm.1)\n",
    "gof.pearson <- sum(glm.1$weights * glm.1$residuals^2)\n",
    "\n",
    "pchisq(gof.dev, df=df.residual(glm.1), lower.tail = FALSE)\n",
    "pchisq(gof.pearson, df=df.residual(glm.1), lower.tail = FALSE)\n",
    "\n",
    "gof.dev / df.residual(glm.1)\n",
    "gof.pearson / df.residual(glm.1)"
   ]
  },
  {
   "cell_type": "code",
   "execution_count": 14,
   "metadata": {},
   "outputs": [
    {
     "name": "stderr",
     "output_type": "stream",
     "text": [
      "Warning message in plot.window(...):\n",
      "\"\"terms\" is not a graphical parameter\"Warning message in plot.xy(xy, type, ...):\n",
      "\"\"terms\" is not a graphical parameter\"Warning message in axis(side = side, at = at, labels = labels, ...):\n",
      "\"\"terms\" is not a graphical parameter\"Warning message in axis(side = side, at = at, labels = labels, ...):\n",
      "\"\"terms\" is not a graphical parameter\"Warning message in box(...):\n",
      "\"\"terms\" is not a graphical parameter\"Warning message in title(...):\n",
      "\"\"terms\" is not a graphical parameter\"Warning message in termplot(glm.1, partial.resid = TRUE):\n",
      "\"'model' appears to involve interactions: see the help page\""
     ]
    },
    {
     "data": {
      "text/plain": [
       "\n",
       "\tShapiro-Wilk normality test\n",
       "\n",
       "data:  qr1\n",
       "W = 0.96568, p-value = 0.6369\n"
      ]
     },
     "metadata": {},
     "output_type": "display_data"
    },
    {
     "data": {
      "image/png": "[encoded data removed]",
      "text/plain": [
       "Plot with title \"Normal Q-Q Plot\""
      ]
     },
     "metadata": {},
     "output_type": "display_data"
    }
   ],
   "source": [
    "par(mfrow=c(3, 3))\n",
    "\n",
    "scatter.smooth(rstandard(glm.1) ~ log(fitted(glm.1)))\n",
    "z <- resid(glm.1, type=\"working\") + glm.1$linear.predictor\n",
    "scatter.smooth(z ~ glm.1$linear.predictor, terms=\"SoilN\")\n",
    "termplot(glm.1, partial.resid = TRUE)\n",
    "qqnorm(qr1 <- qresid(glm.1))\n",
    "qqline(qr1)\n",
    "plot(cooks.distance(glm.1), type=\"h\")\n",
    "shapiro.test(qr1)"
   ]
  }
 ],
 "metadata": {
  "kernelspec": {
   "display_name": "R",
   "language": "R",
   "name": "ir"
  },
  "language_info": {
   "codemirror_mode": "r",
   "file_extension": ".r",
   "mimetype": "text/x-r-source",
   "name": "R",
   "pygments_lexer": "r",
   "version": "3.6.1"
  },
  "orig_nbformat": 4
 },
 "nbformat": 4,
 "nbformat_minor": 2
}
