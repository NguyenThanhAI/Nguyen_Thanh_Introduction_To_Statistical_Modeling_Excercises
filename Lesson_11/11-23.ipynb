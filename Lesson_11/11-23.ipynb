{
 "cells": [
  {
   "cell_type": "code",
   "execution_count": 1,
   "metadata": {},
   "outputs": [
    {
     "name": "stderr",
     "output_type": "stream",
     "text": [
      "Warning message:\n",
      "\"package 'statmod' was built under R version 3.6.3\""
     ]
    }
   ],
   "source": [
    "library(GLMsData)\n",
    "library(statmod)\n",
    "library(MASS)\n",
    "library(splines)"
   ]
  },
  {
   "cell_type": "code",
   "execution_count": 2,
   "metadata": {},
   "outputs": [],
   "source": [
    "data(sheep)"
   ]
  },
  {
   "cell_type": "code",
   "execution_count": 3,
   "metadata": {},
   "outputs": [
    {
     "name": "stdout",
     "output_type": "stream",
     "text": [
      "'data.frame':\t64 obs. of  2 variables:\n",
      " $ Weight: num  22.1 26.2 33.2 34.3 49 52.6 27.6 31 32.6 44.6 ...\n",
      " $ Energy: num  1.31 1.27 1.25 1.14 1.78 1.7 1.39 1.47 1.75 2.25 ...\n"
     ]
    }
   ],
   "source": [
    "str(sheep)"
   ]
  },
  {
   "cell_type": "code",
   "execution_count": 6,
   "metadata": {},
   "outputs": [
    {
     "data": {
      "image/png": "[encoded data removed]",
      "text/plain": [
       "plot without title"
      ]
     },
     "metadata": {},
     "output_type": "display_data"
    }
   ],
   "source": [
    "plot(log(Energy) ~ log(Weight), data=sheep)"
   ]
  },
  {
   "cell_type": "code",
   "execution_count": 7,
   "metadata": {},
   "outputs": [],
   "source": [
    "glm.1 <- glm(Energy ~ log(Weight), data=sheep, family = Gamma(link=\"log\"))"
   ]
  },
  {
   "cell_type": "code",
   "execution_count": 8,
   "metadata": {},
   "outputs": [
    {
     "data": {
      "text/html": [
       "<table>\n",
       "<thead><tr><th></th><th scope=col>Estimate</th><th scope=col>Std. Error</th><th scope=col>t value</th><th scope=col>Pr(&gt;|t|)</th></tr></thead>\n",
       "<tbody>\n",
       "\t<tr><th scope=row>(Intercept)</th><td>-2.6626688  </td><td>0.35508921  </td><td>-7.498591   </td><td>2.936933e-10</td></tr>\n",
       "\t<tr><th scope=row>log(Weight)</th><td> 0.8911232  </td><td>0.09979501  </td><td> 8.929536   </td><td>9.816901e-13</td></tr>\n",
       "</tbody>\n",
       "</table>\n"
      ],
      "text/latex": [
       "\\begin{tabular}{r|llll}\n",
       "  & Estimate & Std. Error & t value & Pr(>\\textbar{}t\\textbar{})\\\\\n",
       "\\hline\n",
       "\t(Intercept) & -2.6626688   & 0.35508921   & -7.498591    & 2.936933e-10\\\\\n",
       "\tlog(Weight) &  0.8911232   & 0.09979501   &  8.929536    & 9.816901e-13\\\\\n",
       "\\end{tabular}\n"
      ],
      "text/markdown": [
       "\n",
       "| <!--/--> | Estimate | Std. Error | t value | Pr(>|t|) |\n",
       "|---|---|---|---|---|\n",
       "| (Intercept) | -2.6626688   | 0.35508921   | -7.498591    | 2.936933e-10 |\n",
       "| log(Weight) |  0.8911232   | 0.09979501   |  8.929536    | 9.816901e-13 |\n",
       "\n"
      ],
      "text/plain": [
       "            Estimate   Std. Error t value   Pr(>|t|)    \n",
       "(Intercept) -2.6626688 0.35508921 -7.498591 2.936933e-10\n",
       "log(Weight)  0.8911232 0.09979501  8.929536 9.816901e-13"
      ]
     },
     "metadata": {},
     "output_type": "display_data"
    }
   ],
   "source": [
    "coef(summary(glm.1))"
   ]
  },
  {
   "cell_type": "code",
   "execution_count": 9,
   "metadata": {},
   "outputs": [
    {
     "data": {
      "text/html": [
       "<table>\n",
       "<thead><tr><th></th><th scope=col>Df</th><th scope=col>Deviance</th><th scope=col>Resid. Df</th><th scope=col>Resid. Dev</th><th scope=col>F</th><th scope=col>Pr(&gt;F)</th></tr></thead>\n",
       "<tbody>\n",
       "\t<tr><th scope=row>NULL</th><td>NA         </td><td>      NA   </td><td>63         </td><td>5.898109   </td><td>      NA   </td><td>         NA</td></tr>\n",
       "\t<tr><th scope=row>log(Weight)</th><td> 1         </td><td>3.376256   </td><td>62         </td><td>2.521853   </td><td>83.91876   </td><td>3.94399e-13</td></tr>\n",
       "</tbody>\n",
       "</table>\n"
      ],
      "text/latex": [
       "\\begin{tabular}{r|llllll}\n",
       "  & Df & Deviance & Resid. Df & Resid. Dev & F & Pr(>F)\\\\\n",
       "\\hline\n",
       "\tNULL & NA          &       NA    & 63          & 5.898109    &       NA    &          NA\\\\\n",
       "\tlog(Weight) &  1          & 3.376256    & 62          & 2.521853    & 83.91876    & 3.94399e-13\\\\\n",
       "\\end{tabular}\n"
      ],
      "text/markdown": [
       "\n",
       "| <!--/--> | Df | Deviance | Resid. Df | Resid. Dev | F | Pr(>F) |\n",
       "|---|---|---|---|---|---|---|\n",
       "| NULL | NA          |       NA    | 63          | 5.898109    |       NA    |          NA |\n",
       "| log(Weight) |  1          | 3.376256    | 62          | 2.521853    | 83.91876    | 3.94399e-13 |\n",
       "\n"
      ],
      "text/plain": [
       "            Df Deviance Resid. Df Resid. Dev F        Pr(>F)     \n",
       "NULL        NA       NA 63        5.898109         NA          NA\n",
       "log(Weight)  1 3.376256 62        2.521853   83.91876 3.94399e-13"
      ]
     },
     "metadata": {},
     "output_type": "display_data"
    }
   ],
   "source": [
    "anova(glm.1, test=\"F\")"
   ]
  },
  {
   "cell_type": "code",
   "execution_count": 11,
   "metadata": {},
   "outputs": [
    {
     "data": {
      "text/html": [
       "2.52185319502845"
      ],
      "text/latex": [
       "2.52185319502845"
      ],
      "text/markdown": [
       "2.52185319502845"
      ],
      "text/plain": [
       "[1] 2.521853"
      ]
     },
     "metadata": {},
     "output_type": "display_data"
    },
    {
     "data": {
      "text/html": [
       "1"
      ],
      "text/latex": [
       "1"
      ],
      "text/markdown": [
       "1"
      ],
      "text/plain": [
       "[1] 1"
      ]
     },
     "metadata": {},
     "output_type": "display_data"
    },
    {
     "data": {
      "text/html": [
       "1"
      ],
      "text/latex": [
       "1"
      ],
      "text/markdown": [
       "1"
      ],
      "text/plain": [
       "[1] 1"
      ]
     },
     "metadata": {},
     "output_type": "display_data"
    },
    {
     "data": {
      "text/html": [
       "0.040675051532717"
      ],
      "text/latex": [
       "0.040675051532717"
      ],
      "text/markdown": [
       "0.040675051532717"
      ],
      "text/plain": [
       "[1] 0.04067505"
      ]
     },
     "metadata": {},
     "output_type": "display_data"
    },
    {
     "data": {
      "text/html": [
       "0.0402324345164585"
      ],
      "text/latex": [
       "0.0402324345164585"
      ],
      "text/markdown": [
       "0.0402324345164585"
      ],
      "text/plain": [
       "[1] 0.04023243"
      ]
     },
     "metadata": {},
     "output_type": "display_data"
    }
   ],
   "source": [
    "gof.dev <- deviance(glm.1)\n",
    "gof.pearson <- sum(glm.1$weights * glm.1$residuals^2)\n",
    "\n",
    "pchisq(gof.dev, df=df.residual(glm.1), lower.tail = FALSE)\n",
    "pchisq(gof.pearson, df=df.residual(glm.1), lower.tail = FALSE)\n",
    "\n",
    "gof.dev / df.residual(glm.1)\n",
    "gof.pearson / df.residual(glm.1)"
   ]
  },
  {
   "cell_type": "code",
   "execution_count": 12,
   "metadata": {},
   "outputs": [
    {
     "data": {
      "text/plain": [
       "\n",
       "\tShapiro-Wilk normality test\n",
       "\n",
       "data:  qr1\n",
       "W = 0.98438, p-value = 0.5955\n"
      ]
     },
     "metadata": {},
     "output_type": "display_data"
    },
    {
     "data": {
      "image/png": "[encoded data removed]",
      "text/plain": [
       "Plot with title \"Normal Q-Q Plot\""
      ]
     },
     "metadata": {},
     "output_type": "display_data"
    }
   ],
   "source": [
    "par(mfrow=c(3, 3))\n",
    "\n",
    "scatter.smooth(rstandard(glm.1) ~ log(fitted(glm.1)))\n",
    "scatter.smooth(rstandard(glm.1) ~ log(sheep$Weight))\n",
    "z <- resid(glm.1, type=\"working\") + glm.1$linear.predictor\n",
    "scatter.smooth(z ~ glm.1$linear.predictor)\n",
    "termplot(glm.1, partial.resid = TRUE, terms=\"log(Weight)\")\n",
    "qqnorm(qr1 <- qresid(glm.1))\n",
    "qqline(qr1)\n",
    "plot(cooks.distance(glm.1), type=\"h\")\n",
    "shapiro.test(qr1)"
   ]
  },
  {
   "cell_type": "code",
   "execution_count": 13,
   "metadata": {},
   "outputs": [
    {
     "data": {
      "text/html": [
       "<dl class=dl-horizontal>\n",
       "\t<dt>dfb.1_</dt>\n",
       "\t\t<dd>0</dd>\n",
       "\t<dt>dfb.l(W)</dt>\n",
       "\t\t<dd>0</dd>\n",
       "\t<dt>dffit</dt>\n",
       "\t\t<dd>1</dd>\n",
       "\t<dt>cov.r</dt>\n",
       "\t\t<dd>3</dd>\n",
       "\t<dt>cook.d</dt>\n",
       "\t\t<dd>0</dd>\n",
       "\t<dt>hat</dt>\n",
       "\t\t<dd>0</dd>\n",
       "</dl>\n"
      ],
      "text/latex": [
       "\\begin{description*}\n",
       "\\item[dfb.1\\textbackslash{}\\_] 0\n",
       "\\item[dfb.l(W)] 0\n",
       "\\item[dffit] 1\n",
       "\\item[cov.r] 3\n",
       "\\item[cook.d] 0\n",
       "\\item[hat] 0\n",
       "\\end{description*}\n"
      ],
      "text/markdown": [
       "dfb.1_\n",
       ":   0dfb.l(W)\n",
       ":   0dffit\n",
       ":   1cov.r\n",
       ":   3cook.d\n",
       ":   0hat\n",
       ":   0\n",
       "\n"
      ],
      "text/plain": [
       "  dfb.1_ dfb.l(W)    dffit    cov.r   cook.d      hat \n",
       "       0        0        1        3        0        0 "
      ]
     },
     "metadata": {},
     "output_type": "display_data"
    }
   ],
   "source": [
    "colSums(influence.measures(glm.1)$is.inf)"
   ]
  },
  {
   "cell_type": "code",
   "execution_count": 15,
   "metadata": {},
   "outputs": [
    {
     "data": {
      "image/png": "[encoded data removed]",
      "text/plain": [
       "plot without title"
      ]
     },
     "metadata": {},
     "output_type": "display_data"
    }
   ],
   "source": [
    "newWeight <- seq(min(sheep$Weight), max(sheep$Weight), length=100)\n",
    "fit <- predict(glm.1, newdata=data.frame(Weight=newWeight), se.fit=TRUE)\n",
    "t.star <- qt(0.975, df=df.residual(glm.1))\n",
    "ci.lo <- exp(fit$fit - t.star*fit$se.fit)\n",
    "ci.hi <- exp(fit$fit + t.star*fit$se.fit)\n",
    "\n",
    "plot(Energy ~ Weight, data=sheep)\n",
    "lines(ci.lo ~ newWeight, lty=1)\n",
    "lines(exp(fit$fit) ~ newWeight, lty=2)\n",
    "lines(ci.hi ~ newWeight, lty=3)\n",
    "legend(\"topleft\", lty=c(1, 2, 3), legend=c(\"CI.LOW\", \"FIT\", \"CI.HI\"))"
   ]
  }
 ],
 "metadata": {
  "kernelspec": {
   "display_name": "R",
   "language": "R",
   "name": "ir"
  },
  "language_info": {
   "codemirror_mode": "r",
   "file_extension": ".r",
   "mimetype": "text/x-r-source",
   "name": "R",
   "pygments_lexer": "r",
   "version": "3.6.1"
  },
  "orig_nbformat": 4
 },
 "nbformat": 4,
 "nbformat_minor": 2
}
