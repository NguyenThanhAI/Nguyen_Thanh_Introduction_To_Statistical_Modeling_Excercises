{
 "cells": [
  {
   "cell_type": "code",
   "execution_count": 1,
   "metadata": {},
   "outputs": [
    {
     "name": "stderr",
     "output_type": "stream",
     "text": [
      "Warning message:\n",
      "\"package 'statmod' was built under R version 3.6.3\""
     ]
    }
   ],
   "source": [
    "library(GLMsData)\n",
    "library(statmod)\n",
    "library(MASS)\n",
    "library(splines)"
   ]
  },
  {
   "cell_type": "code",
   "execution_count": 2,
   "metadata": {},
   "outputs": [],
   "source": [
    "data(lime)"
   ]
  },
  {
   "cell_type": "code",
   "execution_count": 3,
   "metadata": {},
   "outputs": [
    {
     "name": "stdout",
     "output_type": "stream",
     "text": [
      "'data.frame':\t385 obs. of  4 variables:\n",
      " $ Foliage: num  0.1 0.2 0.4 0.6 0.6 0.8 1 1.4 1.7 3.5 ...\n",
      " $ DBH    : num  4 6 8 9.6 11.3 13.7 15.4 17.8 18 22 ...\n",
      " $ Age    : int  38 38 46 44 60 56 72 74 68 79 ...\n",
      " $ Origin : Factor w/ 3 levels \"Coppice\",\"Natural\",..: 2 2 2 2 2 2 2 2 2 2 ...\n"
     ]
    }
   ],
   "source": [
    "str(lime)"
   ]
  },
  {
   "cell_type": "code",
   "execution_count": 4,
   "metadata": {},
   "outputs": [],
   "source": [
    "lime.1 <- glm(Foliage ~ Origin*DBH, data=lime, family = Gamma(link=\"log\"))"
   ]
  },
  {
   "cell_type": "code",
   "execution_count": 5,
   "metadata": {},
   "outputs": [
    {
     "data": {
      "text/html": [
       "<table>\n",
       "<thead><tr><th></th><th scope=col>Estimate</th><th scope=col>Std. Error</th><th scope=col>t value</th><th scope=col>Pr(&gt;|t|)</th></tr></thead>\n",
       "<tbody>\n",
       "\t<tr><th scope=row>(Intercept)</th><td>-1.647197197</td><td>0.138543841 </td><td>-11.8893571 </td><td>6.388021e-28</td></tr>\n",
       "\t<tr><th scope=row>OriginNatural</th><td>-0.114534337</td><td>0.189245536 </td><td> -0.6052155 </td><td>5.453980e-01</td></tr>\n",
       "\t<tr><th scope=row>OriginPlanted</th><td>-0.391213146</td><td>0.256287019 </td><td> -1.5264649 </td><td>1.277282e-01</td></tr>\n",
       "\t<tr><th scope=row>DBH</th><td> 0.118086156</td><td>0.007392717 </td><td> 15.9733099 </td><td>2.789594e-44</td></tr>\n",
       "\t<tr><th scope=row>OriginNatural:DBH</th><td>-0.005358695</td><td>0.010384838 </td><td> -0.5160114 </td><td>6.061474e-01</td></tr>\n",
       "\t<tr><th scope=row>OriginPlanted:DBH</th><td> 0.029264885</td><td>0.013910663 </td><td>  2.1037736 </td><td>3.605661e-02</td></tr>\n",
       "</tbody>\n",
       "</table>\n"
      ],
      "text/latex": [
       "\\begin{tabular}{r|llll}\n",
       "  & Estimate & Std. Error & t value & Pr(>\\textbar{}t\\textbar{})\\\\\n",
       "\\hline\n",
       "\t(Intercept) & -1.647197197 & 0.138543841  & -11.8893571  & 6.388021e-28\\\\\n",
       "\tOriginNatural & -0.114534337 & 0.189245536  &  -0.6052155  & 5.453980e-01\\\\\n",
       "\tOriginPlanted & -0.391213146 & 0.256287019  &  -1.5264649  & 1.277282e-01\\\\\n",
       "\tDBH &  0.118086156 & 0.007392717  &  15.9733099  & 2.789594e-44\\\\\n",
       "\tOriginNatural:DBH & -0.005358695 & 0.010384838  &  -0.5160114  & 6.061474e-01\\\\\n",
       "\tOriginPlanted:DBH &  0.029264885 & 0.013910663  &   2.1037736  & 3.605661e-02\\\\\n",
       "\\end{tabular}\n"
      ],
      "text/markdown": [
       "\n",
       "| <!--/--> | Estimate | Std. Error | t value | Pr(>|t|) |\n",
       "|---|---|---|---|---|\n",
       "| (Intercept) | -1.647197197 | 0.138543841  | -11.8893571  | 6.388021e-28 |\n",
       "| OriginNatural | -0.114534337 | 0.189245536  |  -0.6052155  | 5.453980e-01 |\n",
       "| OriginPlanted | -0.391213146 | 0.256287019  |  -1.5264649  | 1.277282e-01 |\n",
       "| DBH |  0.118086156 | 0.007392717  |  15.9733099  | 2.789594e-44 |\n",
       "| OriginNatural:DBH | -0.005358695 | 0.010384838  |  -0.5160114  | 6.061474e-01 |\n",
       "| OriginPlanted:DBH |  0.029264885 | 0.013910663  |   2.1037736  | 3.605661e-02 |\n",
       "\n"
      ],
      "text/plain": [
       "                  Estimate     Std. Error  t value     Pr(>|t|)    \n",
       "(Intercept)       -1.647197197 0.138543841 -11.8893571 6.388021e-28\n",
       "OriginNatural     -0.114534337 0.189245536  -0.6052155 5.453980e-01\n",
       "OriginPlanted     -0.391213146 0.256287019  -1.5264649 1.277282e-01\n",
       "DBH                0.118086156 0.007392717  15.9733099 2.789594e-44\n",
       "OriginNatural:DBH -0.005358695 0.010384838  -0.5160114 6.061474e-01\n",
       "OriginPlanted:DBH  0.029264885 0.013910663   2.1037736 3.605661e-02"
      ]
     },
     "metadata": {},
     "output_type": "display_data"
    }
   ],
   "source": [
    "coef(summary(lime.1))"
   ]
  },
  {
   "cell_type": "code",
   "execution_count": 6,
   "metadata": {},
   "outputs": [
    {
     "data": {
      "text/html": [
       "<table>\n",
       "<thead><tr><th></th><th scope=col>Df</th><th scope=col>Deviance</th><th scope=col>Resid. Df</th><th scope=col>Resid. Dev</th><th scope=col>F</th><th scope=col>Pr(&gt;F)</th></tr></thead>\n",
       "<tbody>\n",
       "\t<tr><th scope=row>NULL</th><td>NA          </td><td>        NA  </td><td>384         </td><td>508.4806    </td><td>        NA  </td><td>          NA</td></tr>\n",
       "\t<tr><th scope=row>Origin</th><td> 2          </td><td> 19.894208  </td><td>382         </td><td>488.5864    </td><td> 18.215952  </td><td>2.795178e-08</td></tr>\n",
       "\t<tr><th scope=row>DBH</th><td> 1          </td><td>304.854828  </td><td>381         </td><td>183.7316    </td><td>558.275157  </td><td>1.612080e-76</td></tr>\n",
       "\t<tr><th scope=row>Origin:DBH</th><td> 2          </td><td>  2.768591  </td><td>379         </td><td>180.9630    </td><td>  2.535036  </td><td>8.060222e-02</td></tr>\n",
       "</tbody>\n",
       "</table>\n"
      ],
      "text/latex": [
       "\\begin{tabular}{r|llllll}\n",
       "  & Df & Deviance & Resid. Df & Resid. Dev & F & Pr(>F)\\\\\n",
       "\\hline\n",
       "\tNULL & NA           &         NA   & 384          & 508.4806     &         NA   &           NA\\\\\n",
       "\tOrigin &  2           &  19.894208   & 382          & 488.5864     &  18.215952   & 2.795178e-08\\\\\n",
       "\tDBH &  1           & 304.854828   & 381          & 183.7316     & 558.275157   & 1.612080e-76\\\\\n",
       "\tOrigin:DBH &  2           &   2.768591   & 379          & 180.9630     &   2.535036   & 8.060222e-02\\\\\n",
       "\\end{tabular}\n"
      ],
      "text/markdown": [
       "\n",
       "| <!--/--> | Df | Deviance | Resid. Df | Resid. Dev | F | Pr(>F) |\n",
       "|---|---|---|---|---|---|---|\n",
       "| NULL | NA           |         NA   | 384          | 508.4806     |         NA   |           NA |\n",
       "| Origin |  2           |  19.894208   | 382          | 488.5864     |  18.215952   | 2.795178e-08 |\n",
       "| DBH |  1           | 304.854828   | 381          | 183.7316     | 558.275157   | 1.612080e-76 |\n",
       "| Origin:DBH |  2           |   2.768591   | 379          | 180.9630     |   2.535036   | 8.060222e-02 |\n",
       "\n"
      ],
      "text/plain": [
       "           Df Deviance   Resid. Df Resid. Dev F          Pr(>F)      \n",
       "NULL       NA         NA 384       508.4806           NA           NA\n",
       "Origin      2  19.894208 382       488.5864    18.215952 2.795178e-08\n",
       "DBH         1 304.854828 381       183.7316   558.275157 1.612080e-76\n",
       "Origin:DBH  2   2.768591 379       180.9630     2.535036 8.060222e-02"
      ]
     },
     "metadata": {},
     "output_type": "display_data"
    }
   ],
   "source": [
    "anova(lime.1, test=\"F\")"
   ]
  },
  {
   "cell_type": "code",
   "execution_count": 7,
   "metadata": {},
   "outputs": [
    {
     "data": {
      "text/html": [
       "1"
      ],
      "text/latex": [
       "1"
      ],
      "text/markdown": [
       "1"
      ],
      "text/plain": [
       "[1] 1"
      ]
     },
     "metadata": {},
     "output_type": "display_data"
    },
    {
     "data": {
      "text/html": [
       "0.999999999999977"
      ],
      "text/latex": [
       "0.999999999999977"
      ],
      "text/markdown": [
       "0.999999999999977"
      ],
      "text/plain": [
       "[1] 1"
      ]
     },
     "metadata": {},
     "output_type": "display_data"
    },
    {
     "data": {
      "text/html": [
       "0.477474955331229"
      ],
      "text/latex": [
       "0.477474955331229"
      ],
      "text/markdown": [
       "0.477474955331229"
      ],
      "text/plain": [
       "[1] 0.477475"
      ]
     },
     "metadata": {},
     "output_type": "display_data"
    },
    {
     "data": {
      "text/html": [
       "0.546065545561837"
      ],
      "text/latex": [
       "0.546065545561837"
      ],
      "text/markdown": [
       "0.546065545561837"
      ],
      "text/plain": [
       "[1] 0.5460655"
      ]
     },
     "metadata": {},
     "output_type": "display_data"
    }
   ],
   "source": [
    "gof.dev <- deviance(lime.1)\n",
    "gof.pearson <- sum(lime.1$weights * lime.1$residuals^2)\n",
    "\n",
    "pchisq(gof.dev, df=df.residual(lime.1), lower.tail = FALSE)\n",
    "pchisq(gof.pearson, df=df.residual(lime.1), lower.tail = FALSE)\n",
    "\n",
    "gof.dev / df.residual(lime.1)\n",
    "gof.pearson / df.residual(lime.1)"
   ]
  },
  {
   "cell_type": "code",
   "execution_count": 10,
   "metadata": {},
   "outputs": [
    {
     "data": {
      "text/plain": [
       "\n",
       "\tShapiro-Wilk normality test\n",
       "\n",
       "data:  qr1\n",
       "W = 0.98736, p-value = 0.001979\n"
      ]
     },
     "metadata": {},
     "output_type": "display_data"
    },
    {
     "data": {
      "image/png": "[encoded data removed]",
      "text/plain": [
       "Plot with title \"Normal Q-Q Plot\""
      ]
     },
     "metadata": {},
     "output_type": "display_data"
    }
   ],
   "source": [
    "par(mfrow=c(3, 3))\n",
    "scatter.smooth(rstandard(lime.1) ~ log(fitted(lime.1)), main=\"Log link\", las=1,\n",
    "xlab=\"Log of fitted values\", ylab=\"Standardized residuals\")\n",
    "## CHECK LINEAR PREDICTOR\n",
    "scatter.smooth(rstandard(lime.1) ~ lime$DBH)\n",
    "eta.log <- lime.1$linear.predictor\n",
    "scatter.smooth(resid(lime.1, type=\"working\") + eta.log ~ eta.log, las=1,\n",
    "ylab=\"Working resid\", xlab=\"Linear predictor, eta\")\n",
    "termplot(lime.1, partial.resid = TRUE, terms=\"DBH\")\n",
    "plot(rstandard(lime.1) ~ lime$Origin)\n",
    "## QQ PLOT OF RESIDUALS\n",
    "qqnorm( qr1 <- qresid(lime.1), las=1 ); qqline( qr1 )\n",
    "## COOK'S DISTANCE\n",
    "plot( cooks.distance(lime.1), ylab=\"Cook's distance\", las=1, type=\"h\")\n",
    "shapiro.test(qr1)"
   ]
  },
  {
   "cell_type": "code",
   "execution_count": 11,
   "metadata": {},
   "outputs": [
    {
     "data": {
      "text/html": [
       "<dl class=dl-horizontal>\n",
       "\t<dt>dfb.1_</dt>\n",
       "\t\t<dd>0</dd>\n",
       "\t<dt>dfb.OrgN</dt>\n",
       "\t\t<dd>0</dd>\n",
       "\t<dt>dfb.OrgP</dt>\n",
       "\t\t<dd>0</dd>\n",
       "\t<dt>dfb.DBH</dt>\n",
       "\t\t<dd>0</dd>\n",
       "\t<dt>dfb.ON:D</dt>\n",
       "\t\t<dd>0</dd>\n",
       "\t<dt>dfb.OP:D</dt>\n",
       "\t\t<dd>0</dd>\n",
       "\t<dt>dffit</dt>\n",
       "\t\t<dd>14</dd>\n",
       "\t<dt>cov.r</dt>\n",
       "\t\t<dd>27</dd>\n",
       "\t<dt>cook.d</dt>\n",
       "\t\t<dd>0</dd>\n",
       "\t<dt>hat</dt>\n",
       "\t\t<dd>14</dd>\n",
       "</dl>\n"
      ],
      "text/latex": [
       "\\begin{description*}\n",
       "\\item[dfb.1\\textbackslash{}\\_] 0\n",
       "\\item[dfb.OrgN] 0\n",
       "\\item[dfb.OrgP] 0\n",
       "\\item[dfb.DBH] 0\n",
       "\\item[dfb.ON:D] 0\n",
       "\\item[dfb.OP:D] 0\n",
       "\\item[dffit] 14\n",
       "\\item[cov.r] 27\n",
       "\\item[cook.d] 0\n",
       "\\item[hat] 14\n",
       "\\end{description*}\n"
      ],
      "text/markdown": [
       "dfb.1_\n",
       ":   0dfb.OrgN\n",
       ":   0dfb.OrgP\n",
       ":   0dfb.DBH\n",
       ":   0dfb.ON:D\n",
       ":   0dfb.OP:D\n",
       ":   0dffit\n",
       ":   14cov.r\n",
       ":   27cook.d\n",
       ":   0hat\n",
       ":   14\n",
       "\n"
      ],
      "text/plain": [
       "  dfb.1_ dfb.OrgN dfb.OrgP  dfb.DBH dfb.ON:D dfb.OP:D    dffit    cov.r \n",
       "       0        0        0        0        0        0       14       27 \n",
       "  cook.d      hat \n",
       "       0       14 "
      ]
     },
     "metadata": {},
     "output_type": "display_data"
    }
   ],
   "source": [
    "colSums(influence.measures(lime.1)$is.inf)"
   ]
  }
 ],
 "metadata": {
  "kernelspec": {
   "display_name": "R",
   "language": "R",
   "name": "ir"
  },
  "language_info": {
   "codemirror_mode": "r",
   "file_extension": ".r",
   "mimetype": "text/x-r-source",
   "name": "R",
   "pygments_lexer": "r",
   "version": "3.6.1"
  },
  "orig_nbformat": 4
 },
 "nbformat": 4,
 "nbformat_minor": 2
}
