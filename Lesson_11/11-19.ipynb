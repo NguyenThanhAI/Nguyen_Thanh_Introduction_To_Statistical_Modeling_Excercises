{
 "cells": [
  {
   "cell_type": "code",
   "execution_count": 1,
   "metadata": {},
   "outputs": [
    {
     "name": "stderr",
     "output_type": "stream",
     "text": [
      "Warning message:\n",
      "\"package 'statmod' was built under R version 3.6.3\""
     ]
    }
   ],
   "source": [
    "library(GLMsData)\n",
    "library(statmod)\n",
    "library(MASS)\n",
    "library(splines)"
   ]
  },
  {
   "cell_type": "code",
   "execution_count": 2,
   "metadata": {},
   "outputs": [],
   "source": [
    "data(blocks)"
   ]
  },
  {
   "cell_type": "code",
   "execution_count": 3,
   "metadata": {},
   "outputs": [
    {
     "name": "stdout",
     "output_type": "stream",
     "text": [
      "'data.frame':\t100 obs. of  6 variables:\n",
      " $ Child : Factor w/ 25 levels \"A\",\"B\",\"C\",\"D\",..: 1 2 3 4 5 6 7 8 9 10 ...\n",
      " $ Number: int  11 9 8 9 10 13 10 7 6 12 ...\n",
      " $ Time  : num  30 19 18.6 23 29 178 42 20.2 12 39.2 ...\n",
      " $ Trial : int  1 1 1 1 1 1 1 1 1 1 ...\n",
      " $ Shape : Factor w/ 2 levels \"Cube\",\"Cylinder\": 1 1 1 1 1 1 1 1 1 1 ...\n",
      " $ Age   : num  4.67 5 4.42 4.33 4.33 4.83 4.42 5 3.58 4 ...\n"
     ]
    }
   ],
   "source": [
    "str(blocks)"
   ]
  },
  {
   "cell_type": "code",
   "execution_count": 5,
   "metadata": {},
   "outputs": [
    {
     "data": {
      "image/png": "[encoded data removed]",
      "text/plain": [
       "plot without title"
      ]
     },
     "metadata": {},
     "output_type": "display_data"
    }
   ],
   "source": [
    "par(mfrow=c(3, 3))\n",
    "with(blocks, {\n",
    "    par(mfrow=c(2, 3))\n",
    "    plot(Time ~ Shape)\n",
    "    plot(Time ~ Number)\n",
    "    plot(Time ~ factor(Trial))\n",
    "    plot(Time ~ Age)\n",
    "})"
   ]
  },
  {
   "cell_type": "code",
   "execution_count": 6,
   "metadata": {},
   "outputs": [],
   "source": [
    "glm.1 <- glm(Time ~ Shape + log(Number) + log(Age) + factor(Trial), data=blocks, family = Gamma(link=\"log\"))"
   ]
  },
  {
   "cell_type": "code",
   "execution_count": 7,
   "metadata": {},
   "outputs": [
    {
     "data": {
      "text/html": [
       "<table>\n",
       "<thead><tr><th></th><th scope=col>Estimate</th><th scope=col>Std. Error</th><th scope=col>t value</th><th scope=col>Pr(&gt;|t|)</th></tr></thead>\n",
       "<tbody>\n",
       "\t<tr><th scope=row>(Intercept)</th><td> 1.84224723 </td><td>0.6122962   </td><td> 3.008752   </td><td>3.358289e-03</td></tr>\n",
       "\t<tr><th scope=row>ShapeCylinder</th><td> 0.20384019 </td><td>0.1774723   </td><td> 1.148575   </td><td>2.536151e-01</td></tr>\n",
       "\t<tr><th scope=row>log(Number)</th><td> 1.75201555 </td><td>0.2988879   </td><td> 5.861782   </td><td>6.599099e-08</td></tr>\n",
       "\t<tr><th scope=row>log(Age)</th><td>-1.40761966 </td><td>0.3724629   </td><td>-3.779221   </td><td>2.745321e-04</td></tr>\n",
       "\t<tr><th scope=row>factor(Trial)2</th><td>-0.01645663 </td><td>0.1356006   </td><td>-0.121361   </td><td>9.036614e-01</td></tr>\n",
       "</tbody>\n",
       "</table>\n"
      ],
      "text/latex": [
       "\\begin{tabular}{r|llll}\n",
       "  & Estimate & Std. Error & t value & Pr(>\\textbar{}t\\textbar{})\\\\\n",
       "\\hline\n",
       "\t(Intercept) &  1.84224723  & 0.6122962    &  3.008752    & 3.358289e-03\\\\\n",
       "\tShapeCylinder &  0.20384019  & 0.1774723    &  1.148575    & 2.536151e-01\\\\\n",
       "\tlog(Number) &  1.75201555  & 0.2988879    &  5.861782    & 6.599099e-08\\\\\n",
       "\tlog(Age) & -1.40761966  & 0.3724629    & -3.779221    & 2.745321e-04\\\\\n",
       "\tfactor(Trial)2 & -0.01645663  & 0.1356006    & -0.121361    & 9.036614e-01\\\\\n",
       "\\end{tabular}\n"
      ],
      "text/markdown": [
       "\n",
       "| <!--/--> | Estimate | Std. Error | t value | Pr(>|t|) |\n",
       "|---|---|---|---|---|\n",
       "| (Intercept) |  1.84224723  | 0.6122962    |  3.008752    | 3.358289e-03 |\n",
       "| ShapeCylinder |  0.20384019  | 0.1774723    |  1.148575    | 2.536151e-01 |\n",
       "| log(Number) |  1.75201555  | 0.2988879    |  5.861782    | 6.599099e-08 |\n",
       "| log(Age) | -1.40761966  | 0.3724629    | -3.779221    | 2.745321e-04 |\n",
       "| factor(Trial)2 | -0.01645663  | 0.1356006    | -0.121361    | 9.036614e-01 |\n",
       "\n"
      ],
      "text/plain": [
       "               Estimate    Std. Error t value   Pr(>|t|)    \n",
       "(Intercept)     1.84224723 0.6122962   3.008752 3.358289e-03\n",
       "ShapeCylinder   0.20384019 0.1774723   1.148575 2.536151e-01\n",
       "log(Number)     1.75201555 0.2988879   5.861782 6.599099e-08\n",
       "log(Age)       -1.40761966 0.3724629  -3.779221 2.745321e-04\n",
       "factor(Trial)2 -0.01645663 0.1356006  -0.121361 9.036614e-01"
      ]
     },
     "metadata": {},
     "output_type": "display_data"
    }
   ],
   "source": [
    "coef(summary(glm.1))"
   ]
  },
  {
   "cell_type": "code",
   "execution_count": 8,
   "metadata": {},
   "outputs": [
    {
     "data": {
      "text/html": [
       "<table>\n",
       "<thead><tr><th></th><th scope=col>Df</th><th scope=col>Deviance</th><th scope=col>Resid. Df</th><th scope=col>Resid. Dev</th><th scope=col>F</th><th scope=col>Pr(&gt;F)</th></tr></thead>\n",
       "<tbody>\n",
       "\t<tr><th scope=row>NULL</th><td>NA          </td><td>         NA </td><td>99          </td><td>51.04962    </td><td>         NA </td><td>          NA</td></tr>\n",
       "\t<tr><th scope=row>Shape</th><td> 1          </td><td>6.144420972 </td><td>98          </td><td>44.90520    </td><td>13.44070828 </td><td>4.056962e-04</td></tr>\n",
       "\t<tr><th scope=row>log(Number)</th><td> 1          </td><td>9.918705653 </td><td>97          </td><td>34.98650    </td><td>21.69682544 </td><td>1.037602e-05</td></tr>\n",
       "\t<tr><th scope=row>log(Age)</th><td> 1          </td><td>6.053748816 </td><td>96          </td><td>28.93275    </td><td>13.24236608 </td><td>4.450804e-04</td></tr>\n",
       "\t<tr><th scope=row>factor(Trial)</th><td> 1          </td><td>0.006683205 </td><td>95          </td><td>28.92606    </td><td> 0.01461928 </td><td>9.040175e-01</td></tr>\n",
       "</tbody>\n",
       "</table>\n"
      ],
      "text/latex": [
       "\\begin{tabular}{r|llllll}\n",
       "  & Df & Deviance & Resid. Df & Resid. Dev & F & Pr(>F)\\\\\n",
       "\\hline\n",
       "\tNULL & NA           &          NA  & 99           & 51.04962     &          NA  &           NA\\\\\n",
       "\tShape &  1           & 6.144420972  & 98           & 44.90520     & 13.44070828  & 4.056962e-04\\\\\n",
       "\tlog(Number) &  1           & 9.918705653  & 97           & 34.98650     & 21.69682544  & 1.037602e-05\\\\\n",
       "\tlog(Age) &  1           & 6.053748816  & 96           & 28.93275     & 13.24236608  & 4.450804e-04\\\\\n",
       "\tfactor(Trial) &  1           & 0.006683205  & 95           & 28.92606     &  0.01461928  & 9.040175e-01\\\\\n",
       "\\end{tabular}\n"
      ],
      "text/markdown": [
       "\n",
       "| <!--/--> | Df | Deviance | Resid. Df | Resid. Dev | F | Pr(>F) |\n",
       "|---|---|---|---|---|---|---|\n",
       "| NULL | NA           |          NA  | 99           | 51.04962     |          NA  |           NA |\n",
       "| Shape |  1           | 6.144420972  | 98           | 44.90520     | 13.44070828  | 4.056962e-04 |\n",
       "| log(Number) |  1           | 9.918705653  | 97           | 34.98650     | 21.69682544  | 1.037602e-05 |\n",
       "| log(Age) |  1           | 6.053748816  | 96           | 28.93275     | 13.24236608  | 4.450804e-04 |\n",
       "| factor(Trial) |  1           | 0.006683205  | 95           | 28.92606     |  0.01461928  | 9.040175e-01 |\n",
       "\n"
      ],
      "text/plain": [
       "              Df Deviance    Resid. Df Resid. Dev F           Pr(>F)      \n",
       "NULL          NA          NA 99        51.04962            NA           NA\n",
       "Shape          1 6.144420972 98        44.90520   13.44070828 4.056962e-04\n",
       "log(Number)    1 9.918705653 97        34.98650   21.69682544 1.037602e-05\n",
       "log(Age)       1 6.053748816 96        28.93275   13.24236608 4.450804e-04\n",
       "factor(Trial)  1 0.006683205 95        28.92606    0.01461928 9.040175e-01"
      ]
     },
     "metadata": {},
     "output_type": "display_data"
    }
   ],
   "source": [
    "anova(glm.1, test=\"F\")"
   ]
  },
  {
   "cell_type": "code",
   "execution_count": 9,
   "metadata": {},
   "outputs": [
    {
     "name": "stderr",
     "output_type": "stream",
     "text": [
      "Your code contains a unicode char which cannot be displayed in your\n",
      "current locale and R will silently convert it to an escaped form when the\n",
      "R kernel executes this code. This can lead to subtle errors if you use\n",
      "such chars to do comparisons. For more information, please see\n",
      "https://github.com/IRkernel/repr/wiki/Problems-with-unicode-on-windows"
     ]
    },
    {
     "data": {
      "text/html": [
       "0.999999999994615"
      ],
      "text/latex": [
       "0.999999999994615"
      ],
      "text/markdown": [
       "0.999999999994615"
      ],
      "text/plain": [
       "[1] 1"
      ]
     },
     "metadata": {},
     "output_type": "display_data"
    },
    {
     "data": {
      "text/html": [
       "0.99999883695203"
      ],
      "text/latex": [
       "0.99999883695203"
      ],
      "text/markdown": [
       "0.99999883695203"
      ],
      "text/plain": [
       "[1] 0.9999988"
      ]
     },
     "metadata": {},
     "output_type": "display_data"
    },
    {
     "data": {
      "text/html": [
       "0.304484894178177"
      ],
      "text/latex": [
       "0.304484894178177"
      ],
      "text/markdown": [
       "0.304484894178177"
      ],
      "text/plain": [
       "[1] 0.3044849"
      ]
     },
     "metadata": {},
     "output_type": "display_data"
    },
    {
     "data": {
      "text/html": [
       "0.457150087758239"
      ],
      "text/latex": [
       "0.457150087758239"
      ],
      "text/markdown": [
       "0.457150087758239"
      ],
      "text/plain": [
       "[1] 0.4571501"
      ]
     },
     "metadata": {},
     "output_type": "display_data"
    }
   ],
   "source": [
    "gof.dev <- deviance(glm.1)\n",
    "gof.pearson <- sum(glm.1$weights * glm.1$residuals^2)\n",
    "\n",
    "pchisq(gof.dev, df=df.residual(glm.1), lower.tail = FALSE)\n",
    "pchisq(gof.pearson, df=df.residual(glm.1), lower.tail = FALSE)\n",
    "\n",
    "gof.dev / df.residual(glm.1) # Kiểm tra điều kiện xấp xỉ yên ngựa\n",
    "gof.pearson / df.residual(glm.1)"
   ]
  },
  {
   "cell_type": "code",
   "execution_count": 16,
   "metadata": {},
   "outputs": [
    {
     "data": {
      "text/plain": [
       "\n",
       "\tShapiro-Wilk normality test\n",
       "\n",
       "data:  qr1\n",
       "W = 0.88959, p-value = 4.73e-07\n"
      ]
     },
     "metadata": {},
     "output_type": "display_data"
    },
    {
     "data": {
      "image/png": "[encoded data removed]",
      "text/plain": [
       "Plot with title \"Normal Q-Q Plot\""
      ]
     },
     "metadata": {},
     "output_type": "display_data"
    },
    {
     "data": {
      "image/png": "[encoded data removed]",
      "text/plain": [
       "plot without title"
      ]
     },
     "metadata": {},
     "output_type": "display_data"
    }
   ],
   "source": [
    "par(mfrow=c(3, 3))\n",
    "\n",
    "scatter.smooth(rstandard(glm.1) ~ log(fitted(glm.1)))\n",
    "scatter.smooth(rstandard(glm.1) ~ log(blocks$Age))\n",
    "scatter.smooth(rstandard(glm.1) ~ log(blocks$Number))\n",
    "z <- resid(glm.1, type=\"working\") + glm.1$linear.predictor\n",
    "scatter.smooth(z ~ glm.1$linear.predictor)\n",
    "plot(rstandard(glm.1) ~ blocks$Shape)\n",
    "plot(rstandard(glm.1) ~ factor(blocks$Trial))\n",
    "termplot(glm.1, partial.resid = TRUE, terms=\"log(Number)\")\n",
    "termplot(glm.1, partial.resid = TRUE, terms=\"log(Age)\")\n",
    "qqnorm(qr1 <- qresid(glm.1))\n",
    "qqline(qr1)\n",
    "plot(cooks.distance(glm.1), type=\"h\")\n",
    "shapiro.test(qr1)"
   ]
  },
  {
   "cell_type": "code",
   "execution_count": 17,
   "metadata": {},
   "outputs": [
    {
     "data": {
      "text/html": [
       "<dl class=dl-horizontal>\n",
       "\t<dt>dfb.1_</dt>\n",
       "\t\t<dd>1</dd>\n",
       "\t<dt>dfb.ShpC</dt>\n",
       "\t\t<dd>0</dd>\n",
       "\t<dt>dfb.l(N)</dt>\n",
       "\t\t<dd>0</dd>\n",
       "\t<dt>dfb.l(A)</dt>\n",
       "\t\t<dd>1</dd>\n",
       "\t<dt>dfb.f(T)</dt>\n",
       "\t\t<dd>0</dd>\n",
       "\t<dt>dffit</dt>\n",
       "\t\t<dd>5</dd>\n",
       "\t<dt>cov.r</dt>\n",
       "\t\t<dd>6</dd>\n",
       "\t<dt>cook.d</dt>\n",
       "\t\t<dd>0</dd>\n",
       "\t<dt>hat</dt>\n",
       "\t\t<dd>0</dd>\n",
       "</dl>\n"
      ],
      "text/latex": [
       "\\begin{description*}\n",
       "\\item[dfb.1\\textbackslash{}\\_] 1\n",
       "\\item[dfb.ShpC] 0\n",
       "\\item[dfb.l(N)] 0\n",
       "\\item[dfb.l(A)] 1\n",
       "\\item[dfb.f(T)] 0\n",
       "\\item[dffit] 5\n",
       "\\item[cov.r] 6\n",
       "\\item[cook.d] 0\n",
       "\\item[hat] 0\n",
       "\\end{description*}\n"
      ],
      "text/markdown": [
       "dfb.1_\n",
       ":   1dfb.ShpC\n",
       ":   0dfb.l(N)\n",
       ":   0dfb.l(A)\n",
       ":   1dfb.f(T)\n",
       ":   0dffit\n",
       ":   5cov.r\n",
       ":   6cook.d\n",
       ":   0hat\n",
       ":   0\n",
       "\n"
      ],
      "text/plain": [
       "  dfb.1_ dfb.ShpC dfb.l(N) dfb.l(A) dfb.f(T)    dffit    cov.r   cook.d \n",
       "       1        0        0        1        0        5        6        0 \n",
       "     hat \n",
       "       0 "
      ]
     },
     "metadata": {},
     "output_type": "display_data"
    }
   ],
   "source": [
    "colSums(influence.measures(glm.1)$is.inf)"
   ]
  },
  {
   "cell_type": "code",
   "execution_count": 21,
   "metadata": {},
   "outputs": [
    {
     "name": "stderr",
     "output_type": "stream",
     "text": [
      "Warning message:\n",
      "\"glm.fit: algorithm did not converge\""
     ]
    }
   ],
   "source": [
    "glm.2 <- glm(Time ~ Shape + log(Number) + log(Age) + factor(Trial), data=blocks, family = inverse.gaussian(link=\"log\"))"
   ]
  },
  {
   "cell_type": "code",
   "execution_count": 22,
   "metadata": {},
   "outputs": [
    {
     "data": {
      "text/html": [
       "<table>\n",
       "<thead><tr><th></th><th scope=col>Estimate</th><th scope=col>Std. Error</th><th scope=col>t value</th><th scope=col>Pr(&gt;|t|)</th></tr></thead>\n",
       "<tbody>\n",
       "\t<tr><th scope=row>(Intercept)</th><td> 2.22453036 </td><td>0.6073705   </td><td> 3.6625591  </td><td>4.107185e-04</td></tr>\n",
       "\t<tr><th scope=row>ShapeCylinder</th><td> 0.20387609 </td><td>0.1735999   </td><td> 1.1744019  </td><td>2.431696e-01</td></tr>\n",
       "\t<tr><th scope=row>log(Number)</th><td> 1.70239163 </td><td>0.3028951   </td><td> 5.6204006  </td><td>1.900526e-07</td></tr>\n",
       "\t<tr><th scope=row>log(Age)</th><td>-1.64412197 </td><td>0.3657405   </td><td>-4.4953239  </td><td>1.960548e-05</td></tr>\n",
       "\t<tr><th scope=row>factor(Trial)2</th><td> 0.05418823 </td><td>0.1292396   </td><td> 0.4192851  </td><td>6.759544e-01</td></tr>\n",
       "</tbody>\n",
       "</table>\n"
      ],
      "text/latex": [
       "\\begin{tabular}{r|llll}\n",
       "  & Estimate & Std. Error & t value & Pr(>\\textbar{}t\\textbar{})\\\\\n",
       "\\hline\n",
       "\t(Intercept) &  2.22453036  & 0.6073705    &  3.6625591   & 4.107185e-04\\\\\n",
       "\tShapeCylinder &  0.20387609  & 0.1735999    &  1.1744019   & 2.431696e-01\\\\\n",
       "\tlog(Number) &  1.70239163  & 0.3028951    &  5.6204006   & 1.900526e-07\\\\\n",
       "\tlog(Age) & -1.64412197  & 0.3657405    & -4.4953239   & 1.960548e-05\\\\\n",
       "\tfactor(Trial)2 &  0.05418823  & 0.1292396    &  0.4192851   & 6.759544e-01\\\\\n",
       "\\end{tabular}\n"
      ],
      "text/markdown": [
       "\n",
       "| <!--/--> | Estimate | Std. Error | t value | Pr(>|t|) |\n",
       "|---|---|---|---|---|\n",
       "| (Intercept) |  2.22453036  | 0.6073705    |  3.6625591   | 4.107185e-04 |\n",
       "| ShapeCylinder |  0.20387609  | 0.1735999    |  1.1744019   | 2.431696e-01 |\n",
       "| log(Number) |  1.70239163  | 0.3028951    |  5.6204006   | 1.900526e-07 |\n",
       "| log(Age) | -1.64412197  | 0.3657405    | -4.4953239   | 1.960548e-05 |\n",
       "| factor(Trial)2 |  0.05418823  | 0.1292396    |  0.4192851   | 6.759544e-01 |\n",
       "\n"
      ],
      "text/plain": [
       "               Estimate    Std. Error t value    Pr(>|t|)    \n",
       "(Intercept)     2.22453036 0.6073705   3.6625591 4.107185e-04\n",
       "ShapeCylinder   0.20387609 0.1735999   1.1744019 2.431696e-01\n",
       "log(Number)     1.70239163 0.3028951   5.6204006 1.900526e-07\n",
       "log(Age)       -1.64412197 0.3657405  -4.4953239 1.960548e-05\n",
       "factor(Trial)2  0.05418823 0.1292396   0.4192851 6.759544e-01"
      ]
     },
     "metadata": {},
     "output_type": "display_data"
    }
   ],
   "source": [
    "coef(summary(glm.2))"
   ]
  },
  {
   "cell_type": "code",
   "execution_count": 24,
   "metadata": {},
   "outputs": [
    {
     "data": {
      "text/plain": [
       "\n",
       "\tShapiro-Wilk normality test\n",
       "\n",
       "data:  qr2\n",
       "W = 0.96268, p-value = 0.006277\n"
      ]
     },
     "metadata": {},
     "output_type": "display_data"
    },
    {
     "data": {
      "image/png": "[encoded data removed]",
      "text/plain": [
       "Plot with title \"Normal Q-Q Plot\""
      ]
     },
     "metadata": {},
     "output_type": "display_data"
    },
    {
     "data": {
      "image/png": "[encoded data removed]",
      "text/plain": [
       "plot without title"
      ]
     },
     "metadata": {},
     "output_type": "display_data"
    }
   ],
   "source": [
    "par(mfrow=c(3, 3))\n",
    "\n",
    "scatter.smooth(rstandard(glm.2) ~ log(fitted(glm.2)))\n",
    "scatter.smooth(rstandard(glm.2) ~ log(blocks$Age))\n",
    "scatter.smooth(rstandard(glm.2) ~ log(blocks$Number))\n",
    "z <- resid(glm.2, type=\"working\") + glm.2$linear.predictor\n",
    "scatter.smooth(z ~ glm.2$linear.predictor)\n",
    "plot(rstandard(glm.2) ~ blocks$Shape)\n",
    "plot(rstandard(glm.2) ~ factor(blocks$Trial))\n",
    "termplot(glm.2, partial.resid = TRUE, terms=\"log(Number)\")\n",
    "termplot(glm.2, partial.resid = TRUE, terms=\"log(Age)\")\n",
    "qqnorm(qr2 <- qresid(glm.2))\n",
    "qqline(qr2)\n",
    "plot(cooks.distance(glm.2), type=\"h\")\n",
    "shapiro.test(qr2)"
   ]
  },
  {
   "cell_type": "code",
   "execution_count": 26,
   "metadata": {},
   "outputs": [
    {
     "data": {
      "text/html": [
       "<dl class=dl-horizontal>\n",
       "\t<dt>dfb.1_</dt>\n",
       "\t\t<dd>1</dd>\n",
       "\t<dt>dfb.ShpC</dt>\n",
       "\t\t<dd>0</dd>\n",
       "\t<dt>dfb.l(N)</dt>\n",
       "\t\t<dd>0</dd>\n",
       "\t<dt>dfb.l(A)</dt>\n",
       "\t\t<dd>0</dd>\n",
       "\t<dt>dfb.f(T)</dt>\n",
       "\t\t<dd>0</dd>\n",
       "\t<dt>dffit</dt>\n",
       "\t\t<dd>4</dd>\n",
       "\t<dt>cov.r</dt>\n",
       "\t\t<dd>8</dd>\n",
       "\t<dt>cook.d</dt>\n",
       "\t\t<dd>1</dd>\n",
       "\t<dt>hat</dt>\n",
       "\t\t<dd>3</dd>\n",
       "</dl>\n"
      ],
      "text/latex": [
       "\\begin{description*}\n",
       "\\item[dfb.1\\textbackslash{}\\_] 1\n",
       "\\item[dfb.ShpC] 0\n",
       "\\item[dfb.l(N)] 0\n",
       "\\item[dfb.l(A)] 0\n",
       "\\item[dfb.f(T)] 0\n",
       "\\item[dffit] 4\n",
       "\\item[cov.r] 8\n",
       "\\item[cook.d] 1\n",
       "\\item[hat] 3\n",
       "\\end{description*}\n"
      ],
      "text/markdown": [
       "dfb.1_\n",
       ":   1dfb.ShpC\n",
       ":   0dfb.l(N)\n",
       ":   0dfb.l(A)\n",
       ":   0dfb.f(T)\n",
       ":   0dffit\n",
       ":   4cov.r\n",
       ":   8cook.d\n",
       ":   1hat\n",
       ":   3\n",
       "\n"
      ],
      "text/plain": [
       "  dfb.1_ dfb.ShpC dfb.l(N) dfb.l(A) dfb.f(T)    dffit    cov.r   cook.d \n",
       "       1        0        0        0        0        4        8        1 \n",
       "     hat \n",
       "       3 "
      ]
     },
     "metadata": {},
     "output_type": "display_data"
    }
   ],
   "source": [
    "colSums(influence.measures(glm.2)$is.inf)"
   ]
  },
  {
   "cell_type": "code",
   "execution_count": 25,
   "metadata": {},
   "outputs": [
    {
     "data": {
      "text/html": [
       "<ol class=list-inline>\n",
       "\t<li>5</li>\n",
       "\t<li>803.004052395417</li>\n",
       "</ol>\n"
      ],
      "text/latex": [
       "\\begin{enumerate*}\n",
       "\\item 5\n",
       "\\item 803.004052395417\n",
       "\\end{enumerate*}\n"
      ],
      "text/markdown": [
       "1. 5\n",
       "2. 803.004052395417\n",
       "\n",
       "\n"
      ],
      "text/plain": [
       "[1]   5.0000 803.0041"
      ]
     },
     "metadata": {},
     "output_type": "display_data"
    },
    {
     "data": {
      "text/html": [
       "<ol class=list-inline>\n",
       "\t<li>5</li>\n",
       "\t<li>793.30703490327</li>\n",
       "</ol>\n"
      ],
      "text/latex": [
       "\\begin{enumerate*}\n",
       "\\item 5\n",
       "\\item 793.30703490327\n",
       "\\end{enumerate*}\n"
      ],
      "text/markdown": [
       "1. 5\n",
       "2. 793.30703490327\n",
       "\n",
       "\n"
      ],
      "text/plain": [
       "[1]   5.000 793.307"
      ]
     },
     "metadata": {},
     "output_type": "display_data"
    }
   ],
   "source": [
    "extractAIC(glm.1)\n",
    "extractAIC(glm.2)"
   ]
  }
 ],
 "metadata": {
  "kernelspec": {
   "display_name": "R",
   "language": "R",
   "name": "ir"
  },
  "language_info": {
   "codemirror_mode": "r",
   "file_extension": ".r",
   "mimetype": "text/x-r-source",
   "name": "R",
   "pygments_lexer": "r",
   "version": "3.6.1"
  },
  "orig_nbformat": 4
 },
 "nbformat": 4,
 "nbformat_minor": 2
}
