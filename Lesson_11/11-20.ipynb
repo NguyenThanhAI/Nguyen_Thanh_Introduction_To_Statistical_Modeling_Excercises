{
 "cells": [
  {
   "cell_type": "code",
   "execution_count": 1,
   "metadata": {},
   "outputs": [
    {
     "name": "stderr",
     "output_type": "stream",
     "text": [
      "Warning message:\n",
      "\"package 'statmod' was built under R version 3.6.3\""
     ]
    }
   ],
   "source": [
    "library(GLMsData)\n",
    "library(statmod)\n",
    "library(MASS)\n",
    "library(splines)"
   ]
  },
  {
   "cell_type": "code",
   "execution_count": null,
   "metadata": {},
   "outputs": [],
   "source": [
    "24.7 484 39.4 1210 53.4 1880\n",
    "24.8 427 39.9 989 56.0 1980\n",
    "27.3 413 40.3 1160 56.5 1820\n",
    "28.4 517 40.6 1010 57.3 2020\n",
    "28.4 549 40.7 1100 57.6 1980\n",
    "29.0 648 40.7 1130 59.2 2310\n",
    "30.3 587 42.9 1270 59.8 1940\n",
    "32.7 704 45.8 1180 66.0 3260\n",
    "35.6 979 46.9 1400 67.4 2700\n",
    "38.5 914 48.2 1760 68.8 2890\n",
    "38.8 1070 51.5 1710 69.1 2740\n",
    "39.3 1020 51.5 2010 69.1 3140"
   ]
  },
  {
   "cell_type": "code",
   "execution_count": null,
   "metadata": {},
   "outputs": [],
   "source": []
  }
 ],
 "metadata": {
  "kernelspec": {
   "display_name": "R",
   "language": "R",
   "name": "ir"
  },
  "language_info": {
   "codemirror_mode": "r",
   "file_extension": ".r",
   "mimetype": "text/x-r-source",
   "name": "R",
   "pygments_lexer": "r",
   "version": "3.6.1"
  },
  "orig_nbformat": 4
 },
 "nbformat": 4,
 "nbformat_minor": 2
}
