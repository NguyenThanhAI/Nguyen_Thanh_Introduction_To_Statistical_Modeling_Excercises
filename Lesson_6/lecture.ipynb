{
 "cells": [
  {
   "cell_type": "code",
   "execution_count": 1,
   "metadata": {},
   "outputs": [],
   "source": [
    "library(GLMsData)"
   ]
  },
  {
   "cell_type": "code",
   "execution_count": 2,
   "metadata": {},
   "outputs": [],
   "source": [
    "data(nminer)"
   ]
  },
  {
   "cell_type": "code",
   "execution_count": 3,
   "metadata": {},
   "outputs": [
    {
     "name": "stdout",
     "output_type": "stream",
     "text": [
      "'data.frame':\t31 obs. of  8 variables:\n",
      " $ Miners : int  0 0 1 1 1 1 1 1 0 1 ...\n",
      " $ Eucs   : int  2 10 16 20 19 18 12 16 3 12 ...\n",
      " $ Area   : int  22 11 51 22 4 61 16 14 5 6 ...\n",
      " $ Grazed : int  0 0 0 0 0 0 0 0 0 1 ...\n",
      " $ Shrubs : int  1 1 1 1 1 1 1 1 1 0 ...\n",
      " $ Bulokes: int  120 67 85 45 160 75 100 321 275 227 ...\n",
      " $ Timber : int  16 25 13 12 14 6 12 15 8 10 ...\n",
      " $ Minerab: int  0 0 3 2 8 1 8 5 0 4 ...\n"
     ]
    }
   ],
   "source": [
    "str(nminer)"
   ]
  },
  {
   "cell_type": "code",
   "execution_count": 4,
   "metadata": {},
   "outputs": [
    {
     "name": "stdout",
     "output_type": "stream",
     "text": [
      "Deviance = 82.14668 Iterations - 1\n",
      "Deviance = 64.49515 Iterations - 2\n",
      "Deviance = 63.32603 Iterations - 3\n",
      "Deviance = 63.31798 Iterations - 4\n",
      "Deviance = 63.31798 Iterations - 5\n"
     ]
    }
   ],
   "source": [
    "nm.m1 <- glm( Minerab ~ Eucs, data=nminer,\n",
    "family=poisson(link=\"log\"),\n",
    "control=list(trace=TRUE) )"
   ]
  },
  {
   "cell_type": "code",
   "execution_count": 5,
   "metadata": {},
   "outputs": [
    {
     "data": {
      "text/html": [
       "<ol class=list-inline>\n",
       "\t<li>'call'</li>\n",
       "\t<li>'terms'</li>\n",
       "\t<li>'family'</li>\n",
       "\t<li>'deviance'</li>\n",
       "\t<li>'aic'</li>\n",
       "\t<li>'contrasts'</li>\n",
       "\t<li>'df.residual'</li>\n",
       "\t<li>'null.deviance'</li>\n",
       "\t<li>'df.null'</li>\n",
       "\t<li>'iter'</li>\n",
       "\t<li>'deviance.resid'</li>\n",
       "\t<li>'coefficients'</li>\n",
       "\t<li>'aliased'</li>\n",
       "\t<li>'dispersion'</li>\n",
       "\t<li>'df'</li>\n",
       "\t<li>'cov.unscaled'</li>\n",
       "\t<li>'cov.scaled'</li>\n",
       "</ol>\n"
      ],
      "text/latex": [
       "\\begin{enumerate*}\n",
       "\\item 'call'\n",
       "\\item 'terms'\n",
       "\\item 'family'\n",
       "\\item 'deviance'\n",
       "\\item 'aic'\n",
       "\\item 'contrasts'\n",
       "\\item 'df.residual'\n",
       "\\item 'null.deviance'\n",
       "\\item 'df.null'\n",
       "\\item 'iter'\n",
       "\\item 'deviance.resid'\n",
       "\\item 'coefficients'\n",
       "\\item 'aliased'\n",
       "\\item 'dispersion'\n",
       "\\item 'df'\n",
       "\\item 'cov.unscaled'\n",
       "\\item 'cov.scaled'\n",
       "\\end{enumerate*}\n"
      ],
      "text/markdown": [
       "1. 'call'\n",
       "2. 'terms'\n",
       "3. 'family'\n",
       "4. 'deviance'\n",
       "5. 'aic'\n",
       "6. 'contrasts'\n",
       "7. 'df.residual'\n",
       "8. 'null.deviance'\n",
       "9. 'df.null'\n",
       "10. 'iter'\n",
       "11. 'deviance.resid'\n",
       "12. 'coefficients'\n",
       "13. 'aliased'\n",
       "14. 'dispersion'\n",
       "15. 'df'\n",
       "16. 'cov.unscaled'\n",
       "17. 'cov.scaled'\n",
       "\n",
       "\n"
      ],
      "text/plain": [
       " [1] \"call\"           \"terms\"          \"family\"         \"deviance\"      \n",
       " [5] \"aic\"            \"contrasts\"      \"df.residual\"    \"null.deviance\" \n",
       " [9] \"df.null\"        \"iter\"           \"deviance.resid\" \"coefficients\"  \n",
       "[13] \"aliased\"        \"dispersion\"     \"df\"             \"cov.unscaled\"  \n",
       "[17] \"cov.scaled\"    "
      ]
     },
     "metadata": {},
     "output_type": "display_data"
    }
   ],
   "source": [
    "names(summary(nm.m1))"
   ]
  },
  {
   "cell_type": "code",
   "execution_count": 11,
   "metadata": {},
   "outputs": [
    {
     "data": {
      "text/html": [
       "63.3179777263514"
      ],
      "text/latex": [
       "63.3179777263514"
      ],
      "text/markdown": [
       "63.3179777263514"
      ],
      "text/plain": [
       "[1] 63.31798"
      ]
     },
     "metadata": {},
     "output_type": "display_data"
    }
   ],
   "source": [
    "deviance(nm.m1)"
   ]
  },
  {
   "cell_type": "code",
   "execution_count": 13,
   "metadata": {},
   "outputs": [
    {
     "data": {
      "text/html": [
       "<table>\n",
       "<thead><tr><th></th><th scope=col>Estimate</th><th scope=col>Std. Error</th><th scope=col>z value</th><th scope=col>Pr(&gt;|z|)</th></tr></thead>\n",
       "<tbody>\n",
       "\t<tr><th scope=row>(Intercept)</th><td>-0.8762114  </td><td>0.28279293  </td><td>-3.098421   </td><td>1.945551e-03</td></tr>\n",
       "\t<tr><th scope=row>Eucs</th><td> 0.1139813  </td><td>0.01243104  </td><td> 9.169092   </td><td>4.770189e-20</td></tr>\n",
       "</tbody>\n",
       "</table>\n"
      ],
      "text/latex": [
       "\\begin{tabular}{r|llll}\n",
       "  & Estimate & Std. Error & z value & Pr(>\\textbar{}z\\textbar{})\\\\\n",
       "\\hline\n",
       "\t(Intercept) & -0.8762114   & 0.28279293   & -3.098421    & 1.945551e-03\\\\\n",
       "\tEucs &  0.1139813   & 0.01243104   &  9.169092    & 4.770189e-20\\\\\n",
       "\\end{tabular}\n"
      ],
      "text/markdown": [
       "\n",
       "| <!--/--> | Estimate | Std. Error | z value | Pr(>|z|) |\n",
       "|---|---|---|---|---|\n",
       "| (Intercept) | -0.8762114   | 0.28279293   | -3.098421    | 1.945551e-03 |\n",
       "| Eucs |  0.1139813   | 0.01243104   |  9.169092    | 4.770189e-20 |\n",
       "\n"
      ],
      "text/plain": [
       "            Estimate   Std. Error z value   Pr(>|z|)    \n",
       "(Intercept) -0.8762114 0.28279293 -3.098421 1.945551e-03\n",
       "Eucs         0.1139813 0.01243104  9.169092 4.770189e-20"
      ]
     },
     "metadata": {},
     "output_type": "display_data"
    }
   ],
   "source": [
    "coef(summary(nm.m1))"
   ]
  },
  {
   "cell_type": "code",
   "execution_count": 15,
   "metadata": {},
   "outputs": [
    {
     "data": {
      "text/plain": [
       "NULL"
      ]
     },
     "metadata": {},
     "output_type": "display_data"
    },
    {
     "name": "stderr",
     "output_type": "stream",
     "text": [
      "Warning message in sqrt(summary(nm.m1)$cov.scaled):\n",
      "\"NaNs produced\""
     ]
    },
    {
     "data": {
      "text/html": [
       "<table>\n",
       "<thead><tr><th></th><th scope=col>(Intercept)</th><th scope=col>Eucs</th></tr></thead>\n",
       "<tbody>\n",
       "\t<tr><th scope=row>(Intercept)</th><td>0.2827929 </td><td>       NaN</td></tr>\n",
       "\t<tr><th scope=row>Eucs</th><td>      NaN </td><td>0.01243104</td></tr>\n",
       "</tbody>\n",
       "</table>\n"
      ],
      "text/latex": [
       "\\begin{tabular}{r|ll}\n",
       "  & (Intercept) & Eucs\\\\\n",
       "\\hline\n",
       "\t(Intercept) & 0.2827929  &        NaN\\\\\n",
       "\tEucs &       NaN  & 0.01243104\\\\\n",
       "\\end{tabular}\n"
      ],
      "text/markdown": [
       "\n",
       "| <!--/--> | (Intercept) | Eucs |\n",
       "|---|---|---|\n",
       "| (Intercept) | 0.2827929  |        NaN |\n",
       "| Eucs |       NaN  | 0.01243104 |\n",
       "\n"
      ],
      "text/plain": [
       "            (Intercept) Eucs      \n",
       "(Intercept) 0.2827929          NaN\n",
       "Eucs              NaN   0.01243104"
      ]
     },
     "metadata": {},
     "output_type": "display_data"
    }
   ],
   "source": [
    "summary(nm.m1)$cov.\n",
    "sqrt(summary(nm.m1)$cov.scaled)"
   ]
  },
  {
   "cell_type": "code",
   "execution_count": 16,
   "metadata": {},
   "outputs": [
    {
     "data": {
      "text/html": [
       "<ol class=list-inline>\n",
       "\t<li>'coefficients'</li>\n",
       "\t<li>'residuals'</li>\n",
       "\t<li>'fitted.values'</li>\n",
       "\t<li>'effects'</li>\n",
       "\t<li>'R'</li>\n",
       "\t<li>'rank'</li>\n",
       "\t<li>'qr'</li>\n",
       "\t<li>'family'</li>\n",
       "\t<li>'linear.predictors'</li>\n",
       "\t<li>'deviance'</li>\n",
       "\t<li>'aic'</li>\n",
       "\t<li>'null.deviance'</li>\n",
       "\t<li>'iter'</li>\n",
       "\t<li>'weights'</li>\n",
       "\t<li>'prior.weights'</li>\n",
       "\t<li>'df.residual'</li>\n",
       "\t<li>'df.null'</li>\n",
       "\t<li>'y'</li>\n",
       "\t<li>'converged'</li>\n",
       "\t<li>'boundary'</li>\n",
       "\t<li>'model'</li>\n",
       "\t<li>'call'</li>\n",
       "\t<li>'formula'</li>\n",
       "\t<li>'terms'</li>\n",
       "\t<li>'data'</li>\n",
       "\t<li>'offset'</li>\n",
       "\t<li>'control'</li>\n",
       "\t<li>'method'</li>\n",
       "\t<li>'contrasts'</li>\n",
       "\t<li>'xlevels'</li>\n",
       "</ol>\n"
      ],
      "text/latex": [
       "\\begin{enumerate*}\n",
       "\\item 'coefficients'\n",
       "\\item 'residuals'\n",
       "\\item 'fitted.values'\n",
       "\\item 'effects'\n",
       "\\item 'R'\n",
       "\\item 'rank'\n",
       "\\item 'qr'\n",
       "\\item 'family'\n",
       "\\item 'linear.predictors'\n",
       "\\item 'deviance'\n",
       "\\item 'aic'\n",
       "\\item 'null.deviance'\n",
       "\\item 'iter'\n",
       "\\item 'weights'\n",
       "\\item 'prior.weights'\n",
       "\\item 'df.residual'\n",
       "\\item 'df.null'\n",
       "\\item 'y'\n",
       "\\item 'converged'\n",
       "\\item 'boundary'\n",
       "\\item 'model'\n",
       "\\item 'call'\n",
       "\\item 'formula'\n",
       "\\item 'terms'\n",
       "\\item 'data'\n",
       "\\item 'offset'\n",
       "\\item 'control'\n",
       "\\item 'method'\n",
       "\\item 'contrasts'\n",
       "\\item 'xlevels'\n",
       "\\end{enumerate*}\n"
      ],
      "text/markdown": [
       "1. 'coefficients'\n",
       "2. 'residuals'\n",
       "3. 'fitted.values'\n",
       "4. 'effects'\n",
       "5. 'R'\n",
       "6. 'rank'\n",
       "7. 'qr'\n",
       "8. 'family'\n",
       "9. 'linear.predictors'\n",
       "10. 'deviance'\n",
       "11. 'aic'\n",
       "12. 'null.deviance'\n",
       "13. 'iter'\n",
       "14. 'weights'\n",
       "15. 'prior.weights'\n",
       "16. 'df.residual'\n",
       "17. 'df.null'\n",
       "18. 'y'\n",
       "19. 'converged'\n",
       "20. 'boundary'\n",
       "21. 'model'\n",
       "22. 'call'\n",
       "23. 'formula'\n",
       "24. 'terms'\n",
       "25. 'data'\n",
       "26. 'offset'\n",
       "27. 'control'\n",
       "28. 'method'\n",
       "29. 'contrasts'\n",
       "30. 'xlevels'\n",
       "\n",
       "\n"
      ],
      "text/plain": [
       " [1] \"coefficients\"      \"residuals\"         \"fitted.values\"    \n",
       " [4] \"effects\"           \"R\"                 \"rank\"             \n",
       " [7] \"qr\"                \"family\"            \"linear.predictors\"\n",
       "[10] \"deviance\"          \"aic\"               \"null.deviance\"    \n",
       "[13] \"iter\"              \"weights\"           \"prior.weights\"    \n",
       "[16] \"df.residual\"       \"df.null\"           \"y\"                \n",
       "[19] \"converged\"         \"boundary\"          \"model\"            \n",
       "[22] \"call\"              \"formula\"           \"terms\"            \n",
       "[25] \"data\"              \"offset\"            \"control\"          \n",
       "[28] \"method\"            \"contrasts\"         \"xlevels\"          "
      ]
     },
     "metadata": {},
     "output_type": "display_data"
    }
   ],
   "source": [
    "names(nm.m1)"
   ]
  },
  {
   "cell_type": "code",
   "execution_count": 21,
   "metadata": {},
   "outputs": [
    {
     "data": {
      "text/html": [
       "2.32806739825692"
      ],
      "text/latex": [
       "2.32806739825692"
      ],
      "text/markdown": [
       "2.32806739825692"
      ],
      "text/plain": [
       "[1] 2.328067"
      ]
     },
     "metadata": {},
     "output_type": "display_data"
    },
    {
     "data": {
      "text/html": [
       "2.18337854228798"
      ],
      "text/latex": [
       "2.18337854228798"
      ],
      "text/markdown": [
       "2.18337854228798"
      ],
      "text/plain": [
       "[1] 2.183379"
      ]
     },
     "metadata": {},
     "output_type": "display_data"
    }
   ],
   "source": [
    "sum(nm.m1$weights * nm.m1$residuals^2) /df.residual(nm.m1) # Pearson statistic\n",
    "deviance(nm.m1) / df.residual(nm.m1) # Deviance statistic"
   ]
  },
  {
   "cell_type": "code",
   "execution_count": 22,
   "metadata": {},
   "outputs": [],
   "source": [
    "data(trees)"
   ]
  },
  {
   "cell_type": "code",
   "execution_count": 23,
   "metadata": {},
   "outputs": [],
   "source": [
    "cherry.m1 <- glm( Volume ~ log(Height) + log(Girth), data=trees,\n",
    "family=Gamma(link=\"log\"))"
   ]
  },
  {
   "cell_type": "code",
   "execution_count": 26,
   "metadata": {},
   "outputs": [
    {
     "data": {
      "text/html": [
       "0.00655411658657529"
      ],
      "text/latex": [
       "0.00655411658657529"
      ],
      "text/markdown": [
       "0.00655411658657529"
      ],
      "text/plain": [
       "[1] 0.006554117"
      ]
     },
     "metadata": {},
     "output_type": "display_data"
    },
    {
     "data": {
      "text/html": [
       "0.00642728595936456"
      ],
      "text/latex": [
       "0.00642728595936456"
      ],
      "text/markdown": [
       "0.00642728595936456"
      ],
      "text/plain": [
       "[1] 0.006427286"
      ]
     },
     "metadata": {},
     "output_type": "display_data"
    }
   ],
   "source": [
    "deviance(cherry.m1)/df.residual(cherry.m1)\n",
    "sum(cherry.m1$weights * cherry.m1$residuals^2)/df.residual(cherry.m1)"
   ]
  },
  {
   "cell_type": "code",
   "execution_count": 27,
   "metadata": {},
   "outputs": [
    {
     "data": {
      "text/html": [
       "0.00642728595936456"
      ],
      "text/latex": [
       "0.00642728595936456"
      ],
      "text/markdown": [
       "0.00642728595936456"
      ],
      "text/plain": [
       "[1] 0.006427286"
      ]
     },
     "metadata": {},
     "output_type": "display_data"
    }
   ],
   "source": [
    "w <- weights(cherry.m1, type=\"working\")\n",
    "e <- residuals(cherry.m1, type=\"working\")\n",
    "sum( w * e^2 ) / df.residual(cherry.m1)"
   ]
  },
  {
   "cell_type": "code",
   "execution_count": 28,
   "metadata": {},
   "outputs": [
    {
     "data": {
      "text/html": [
       "0.00642728595936456"
      ],
      "text/latex": [
       "0.00642728595936456"
      ],
      "text/markdown": [
       "0.00642728595936456"
      ],
      "text/plain": [
       "[1] 0.006427286"
      ]
     },
     "metadata": {},
     "output_type": "display_data"
    }
   ],
   "source": [
    "summary(cherry.m1)$dispersion"
   ]
  },
  {
   "cell_type": "code",
   "execution_count": 29,
   "metadata": {},
   "outputs": [
    {
     "data": {
      "text/html": [
       "0.00655411658657529"
      ],
      "text/latex": [
       "0.00655411658657529"
      ],
      "text/markdown": [
       "0.00655411658657529"
      ],
      "text/plain": [
       "[1] 0.006554117"
      ]
     },
     "metadata": {},
     "output_type": "display_data"
    }
   ],
   "source": [
    "deviance(cherry.m1) / df.residual(cherry.m1)"
   ]
  },
  {
   "cell_type": "code",
   "execution_count": 30,
   "metadata": {},
   "outputs": [
    {
     "data": {
      "text/html": [
       "41.3371381514274"
      ],
      "text/latex": [
       "41.3371381514274"
      ],
      "text/markdown": [
       "41.3371381514274"
      ],
      "text/plain": [
       "[1] 41.33714"
      ]
     },
     "metadata": {},
     "output_type": "display_data"
    }
   ],
   "source": [
    "qchisq(0.95, df=df.residual(cherry.m1))"
   ]
  }
 ],
 "metadata": {
  "kernelspec": {
   "display_name": "R",
   "language": "R",
   "name": "ir"
  },
  "language_info": {
   "codemirror_mode": "r",
   "file_extension": ".r",
   "mimetype": "text/x-r-source",
   "name": "R",
   "pygments_lexer": "r",
   "version": "3.6.1"
  },
  "orig_nbformat": 4
 },
 "nbformat": 4,
 "nbformat_minor": 2
}
