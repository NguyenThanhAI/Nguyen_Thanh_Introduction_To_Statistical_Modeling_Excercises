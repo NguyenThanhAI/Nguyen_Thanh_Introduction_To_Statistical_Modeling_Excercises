{
 "cells": [
  {
   "cell_type": "code",
   "execution_count": 1,
   "metadata": {},
   "outputs": [],
   "source": [
    "library(GLMsData)\n",
    "data(nambeware)"
   ]
  },
  {
   "cell_type": "code",
   "execution_count": 2,
   "metadata": {},
   "outputs": [
    {
     "name": "stdout",
     "output_type": "stream",
     "text": [
      "'data.frame':\t59 obs. of  4 variables:\n",
      " $ Type : Factor w/ 5 levels \"Bowl\",\"CassDish\",..: 2 2 2 1 3 2 5 5 3 3 ...\n",
      " $ Diam : num  10.7 14 9 8 10 10.5 16 15 6.5 5 ...\n",
      " $ Time : num  47.6 63.1 58.8 34.9 55.5 ...\n",
      " $ Price: num  144 215 105 69 134 129 155 99 38.5 36.5 ...\n"
     ]
    }
   ],
   "source": [
    "str(nambeware)"
   ]
  },
  {
   "cell_type": "code",
   "execution_count": 3,
   "metadata": {},
   "outputs": [
    {
     "data": {
      "image/png": "[encoded data removed]",
      "text/plain": [
       "plot without title"
      ]
     },
     "metadata": {},
     "output_type": "display_data"
    }
   ],
   "source": [
    "plot(Price ~ Diam, data=nambeware)"
   ]
  },
  {
   "cell_type": "code",
   "execution_count": 4,
   "metadata": {},
   "outputs": [],
   "source": [
    "gamma.lm <- glm(Price ~ Diam, family = Gamma(link=\"log\"), data=nambeware)"
   ]
  },
  {
   "cell_type": "code",
   "execution_count": 5,
   "metadata": {},
   "outputs": [
    {
     "data": {
      "text/html": [
       "<table>\n",
       "<thead><tr><th></th><th scope=col>Estimate</th><th scope=col>Std. Error</th><th scope=col>t value</th><th scope=col>Pr(&gt;|t|)</th></tr></thead>\n",
       "<tbody>\n",
       "\t<tr><th scope=row>(Intercept)</th><td>2.9629331   </td><td>0.15618048  </td><td>18.971213   </td><td>2.655723e-26</td></tr>\n",
       "\t<tr><th scope=row>Diam</th><td>0.1272179   </td><td>0.01349224  </td><td> 9.428973   </td><td>3.100673e-13</td></tr>\n",
       "</tbody>\n",
       "</table>\n"
      ],
      "text/latex": [
       "\\begin{tabular}{r|llll}\n",
       "  & Estimate & Std. Error & t value & Pr(>\\textbar{}t\\textbar{})\\\\\n",
       "\\hline\n",
       "\t(Intercept) & 2.9629331    & 0.15618048   & 18.971213    & 2.655723e-26\\\\\n",
       "\tDiam & 0.1272179    & 0.01349224   &  9.428973    & 3.100673e-13\\\\\n",
       "\\end{tabular}\n"
      ],
      "text/markdown": [
       "\n",
       "| <!--/--> | Estimate | Std. Error | t value | Pr(>|t|) |\n",
       "|---|---|---|---|---|\n",
       "| (Intercept) | 2.9629331    | 0.15618048   | 18.971213    | 2.655723e-26 |\n",
       "| Diam | 0.1272179    | 0.01349224   |  9.428973    | 3.100673e-13 |\n",
       "\n"
      ],
      "text/plain": [
       "            Estimate  Std. Error t value   Pr(>|t|)    \n",
       "(Intercept) 2.9629331 0.15618048 18.971213 2.655723e-26\n",
       "Diam        0.1272179 0.01349224  9.428973 3.100673e-13"
      ]
     },
     "metadata": {},
     "output_type": "display_data"
    }
   ],
   "source": [
    "coef(summary(gamma.lm))"
   ]
  },
  {
   "cell_type": "code",
   "execution_count": 6,
   "metadata": {},
   "outputs": [
    {
     "data": {
      "text/html": [
       "<table>\n",
       "<thead><tr><th></th><th scope=col>Df</th><th scope=col>Deviance</th><th scope=col>Resid. Df</th><th scope=col>Resid. Dev</th><th scope=col>F</th><th scope=col>Pr(&gt;F)</th></tr></thead>\n",
       "<tbody>\n",
       "\t<tr><th scope=row>NULL</th><td>NA          </td><td>      NA    </td><td>58          </td><td>20.267870   </td><td>      NA    </td><td>          NA</td></tr>\n",
       "\t<tr><th scope=row>Diam</th><td> 1          </td><td>12.47417    </td><td>57          </td><td> 7.793702   </td><td>79.59257    </td><td>2.074969e-12</td></tr>\n",
       "</tbody>\n",
       "</table>\n"
      ],
      "text/latex": [
       "\\begin{tabular}{r|llllll}\n",
       "  & Df & Deviance & Resid. Df & Resid. Dev & F & Pr(>F)\\\\\n",
       "\\hline\n",
       "\tNULL & NA           &       NA     & 58           & 20.267870    &       NA     &           NA\\\\\n",
       "\tDiam &  1           & 12.47417     & 57           &  7.793702    & 79.59257     & 2.074969e-12\\\\\n",
       "\\end{tabular}\n"
      ],
      "text/markdown": [
       "\n",
       "| <!--/--> | Df | Deviance | Resid. Df | Resid. Dev | F | Pr(>F) |\n",
       "|---|---|---|---|---|---|---|\n",
       "| NULL | NA           |       NA     | 58           | 20.267870    |       NA     |           NA |\n",
       "| Diam |  1           | 12.47417     | 57           |  7.793702    | 79.59257     | 2.074969e-12 |\n",
       "\n"
      ],
      "text/plain": [
       "     Df Deviance Resid. Df Resid. Dev F        Pr(>F)      \n",
       "NULL NA       NA 58        20.267870        NA           NA\n",
       "Diam  1 12.47417 57         7.793702  79.59257 2.074969e-12"
      ]
     },
     "metadata": {},
     "output_type": "display_data"
    }
   ],
   "source": [
    "anova(gamma.lm, test=\"F\")"
   ]
  },
  {
   "cell_type": "code",
   "execution_count": 9,
   "metadata": {},
   "outputs": [
    {
     "data": {
      "text/html": [
       "7.7937018733325"
      ],
      "text/latex": [
       "7.7937018733325"
      ],
      "text/markdown": [
       "7.7937018733325"
      ],
      "text/plain": [
       "[1] 7.793702"
      ]
     },
     "metadata": {},
     "output_type": "display_data"
    },
    {
     "data": {
      "text/html": [
       "8.93334172417604"
      ],
      "text/latex": [
       "8.93334172417604"
      ],
      "text/markdown": [
       "8.93334172417604"
      ],
      "text/plain": [
       "[1] 8.933342"
      ]
     },
     "metadata": {},
     "output_type": "display_data"
    },
    {
     "data": {
      "text/html": [
       "75.6237484693761"
      ],
      "text/latex": [
       "75.6237484693761"
      ],
      "text/markdown": [
       "75.6237484693761"
      ],
      "text/plain": [
       "[1] 75.62375"
      ]
     },
     "metadata": {},
     "output_type": "display_data"
    }
   ],
   "source": [
    "# Goodness of fit test\n",
    "\n",
    "# Deviance\n",
    "gof.dev <- deviance(gamma.lm)\n",
    "\n",
    "# Pearson\n",
    "\n",
    "gof.pearson <- sum(gamma.lm$weights * gamma.lm$residuals^2)\n",
    "\n",
    "gof.dev\n",
    "gof.pearson\n",
    "\n",
    "qchisq(0.95, df.residual(gamma.lm))"
   ]
  },
  {
   "cell_type": "code",
   "execution_count": 11,
   "metadata": {},
   "outputs": [
    {
     "data": {
      "text/html": [
       "<table>\n",
       "<thead><tr><th></th><th scope=col>Estimate</th><th scope=col>Std. Error</th><th scope=col>t value</th><th scope=col>Pr(&gt;|t|)</th></tr></thead>\n",
       "<tbody>\n",
       "\t<tr><th scope=row>(Intercept)</th><td>2.9629331   </td><td>0.15618048  </td><td>18.971213   </td><td>2.655723e-26</td></tr>\n",
       "\t<tr><th scope=row>Diam</th><td>0.1272179   </td><td>0.01349224  </td><td> 9.428973   </td><td>3.100673e-13</td></tr>\n",
       "</tbody>\n",
       "</table>\n"
      ],
      "text/latex": [
       "\\begin{tabular}{r|llll}\n",
       "  & Estimate & Std. Error & t value & Pr(>\\textbar{}t\\textbar{})\\\\\n",
       "\\hline\n",
       "\t(Intercept) & 2.9629331    & 0.15618048   & 18.971213    & 2.655723e-26\\\\\n",
       "\tDiam & 0.1272179    & 0.01349224   &  9.428973    & 3.100673e-13\\\\\n",
       "\\end{tabular}\n"
      ],
      "text/markdown": [
       "\n",
       "| <!--/--> | Estimate | Std. Error | t value | Pr(>|t|) |\n",
       "|---|---|---|---|---|\n",
       "| (Intercept) | 2.9629331    | 0.15618048   | 18.971213    | 2.655723e-26 |\n",
       "| Diam | 0.1272179    | 0.01349224   |  9.428973    | 3.100673e-13 |\n",
       "\n"
      ],
      "text/plain": [
       "            Estimate  Std. Error t value   Pr(>|t|)    \n",
       "(Intercept) 2.9629331 0.15618048 18.971213 2.655723e-26\n",
       "Diam        0.1272179 0.01349224  9.428973 3.100673e-13"
      ]
     },
     "metadata": {},
     "output_type": "display_data"
    },
    {
     "name": "stderr",
     "output_type": "stream",
     "text": [
      "Warning message in sqrt(summary(gamma.lm)$cov.scaled):\n",
      "\"NaNs produced\""
     ]
    },
    {
     "data": {
      "text/html": [
       "<table>\n",
       "<thead><tr><th></th><th scope=col>(Intercept)</th><th scope=col>Diam</th></tr></thead>\n",
       "<tbody>\n",
       "\t<tr><th scope=row>(Intercept)</th><td>0.1561805 </td><td>       NaN</td></tr>\n",
       "\t<tr><th scope=row>Diam</th><td>      NaN </td><td>0.01349224</td></tr>\n",
       "</tbody>\n",
       "</table>\n"
      ],
      "text/latex": [
       "\\begin{tabular}{r|ll}\n",
       "  & (Intercept) & Diam\\\\\n",
       "\\hline\n",
       "\t(Intercept) & 0.1561805  &        NaN\\\\\n",
       "\tDiam &       NaN  & 0.01349224\\\\\n",
       "\\end{tabular}\n"
      ],
      "text/markdown": [
       "\n",
       "| <!--/--> | (Intercept) | Diam |\n",
       "|---|---|---|\n",
       "| (Intercept) | 0.1561805  |        NaN |\n",
       "| Diam |       NaN  | 0.01349224 |\n",
       "\n"
      ],
      "text/plain": [
       "            (Intercept) Diam      \n",
       "(Intercept) 0.1561805          NaN\n",
       "Diam              NaN   0.01349224"
      ]
     },
     "metadata": {},
     "output_type": "display_data"
    }
   ],
   "source": [
    "# Standard error\n",
    "\n",
    "coef(summary(gamma.lm))\n",
    "\n",
    "sqrt(summary(gamma.lm)$cov.scaled)"
   ]
  },
  {
   "cell_type": "code",
   "execution_count": 13,
   "metadata": {},
   "outputs": [
    {
     "data": {
      "text/html": [
       "0.136731611812851"
      ],
      "text/latex": [
       "0.136731611812851"
      ],
      "text/markdown": [
       "0.136731611812851"
      ],
      "text/plain": [
       "[1] 0.1367316"
      ]
     },
     "metadata": {},
     "output_type": "display_data"
    },
    {
     "data": {
      "text/html": [
       "0.156725293406597"
      ],
      "text/latex": [
       "0.156725293406597"
      ],
      "text/markdown": [
       "0.156725293406597"
      ],
      "text/plain": [
       "[1] 0.1567253"
      ]
     },
     "metadata": {},
     "output_type": "display_data"
    },
    {
     "data": {
      "text/html": [
       "0.156725293406597"
      ],
      "text/latex": [
       "0.156725293406597"
      ],
      "text/markdown": [
       "0.156725293406597"
      ],
      "text/plain": [
       "[1] 0.1567253"
      ]
     },
     "metadata": {},
     "output_type": "display_data"
    }
   ],
   "source": [
    "dev.phi <- deviance(gamma.lm) / df.residual(gamma.lm)\n",
    "pearson.phi <- sum(gamma.lm$weights * gamma.lm$residuals^2)/df.residual(gamma.lm)\n",
    "\n",
    "dev.phi\n",
    "pearson.phi\n",
    "summary(gamma.lm)$dispersion"
   ]
  },
  {
   "cell_type": "code",
   "execution_count": 18,
   "metadata": {},
   "outputs": [
    {
     "data": {
      "text/html": [
       "7.7937018733325"
      ],
      "text/latex": [
       "7.7937018733325"
      ],
      "text/markdown": [
       "7.7937018733325"
      ],
      "text/plain": [
       "[1] 7.793702"
      ]
     },
     "metadata": {},
     "output_type": "display_data"
    }
   ],
   "source": [
    "deviance(gamma.lm)"
   ]
  },
  {
   "cell_type": "code",
   "execution_count": 20,
   "metadata": {},
   "outputs": [
    {
     "name": "stderr",
     "output_type": "stream",
     "text": [
      "Warning message:\n",
      "\"package 'mdscore' was built under R version 3.6.3\"Loading required package: MASS\n"
     ]
    }
   ],
   "source": [
    "library(mdscore)"
   ]
  },
  {
   "cell_type": "code",
   "execution_count": 21,
   "metadata": {},
   "outputs": [
    {
     "data": {
      "text/plain": [
       "$W\n",
       "[1] 107.7511\n",
       "\n",
       "$pvalue\n",
       "[1] 3.047506e-25\n",
       "\n",
       "attr(,\"class\")\n",
       "[1] \"wald.test\""
      ]
     },
     "metadata": {},
     "output_type": "display_data"
    }
   ],
   "source": [
    "wald.test(gamma.lm, 2)"
   ]
  }
 ],
 "metadata": {
  "kernelspec": {
   "display_name": "R",
   "language": "R",
   "name": "ir"
  },
  "language_info": {
   "codemirror_mode": "r",
   "file_extension": ".r",
   "mimetype": "text/x-r-source",
   "name": "R",
   "pygments_lexer": "r",
   "version": "3.6.1"
  },
  "orig_nbformat": 4
 },
 "nbformat": 4,
 "nbformat_minor": 2
}
