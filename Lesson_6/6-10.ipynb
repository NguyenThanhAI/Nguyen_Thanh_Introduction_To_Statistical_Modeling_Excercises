{
 "cells": [
  {
   "cell_type": "code",
   "execution_count": 2,
   "metadata": {},
   "outputs": [],
   "source": [
    "library(GLMsData)\n",
    "data(blocks)"
   ]
  },
  {
   "cell_type": "code",
   "execution_count": 3,
   "metadata": {},
   "outputs": [
    {
     "name": "stdout",
     "output_type": "stream",
     "text": [
      "'data.frame':\t100 obs. of  6 variables:\n",
      " $ Child : Factor w/ 25 levels \"A\",\"B\",\"C\",\"D\",..: 1 2 3 4 5 6 7 8 9 10 ...\n",
      " $ Number: int  11 9 8 9 10 13 10 7 6 12 ...\n",
      " $ Time  : num  30 19 18.6 23 29 178 42 20.2 12 39.2 ...\n",
      " $ Trial : int  1 1 1 1 1 1 1 1 1 1 ...\n",
      " $ Shape : Factor w/ 2 levels \"Cube\",\"Cylinder\": 1 1 1 1 1 1 1 1 1 1 ...\n",
      " $ Age   : num  4.67 5 4.42 4.33 4.33 4.83 4.42 5 3.58 4 ...\n"
     ]
    }
   ],
   "source": [
    "str(blocks)"
   ]
  },
  {
   "cell_type": "code",
   "execution_count": 4,
   "metadata": {},
   "outputs": [
    {
     "data": {
      "image/png": "[encoded data removed]",
      "text/plain": [
       "plot without title"
      ]
     },
     "metadata": {},
     "output_type": "display_data"
    }
   ],
   "source": [
    "scatter.smooth(blocks$Time ~ blocks$Age)"
   ]
  },
  {
   "cell_type": "code",
   "execution_count": 8,
   "metadata": {},
   "outputs": [],
   "source": [
    "lm.1 <- glm(Time ~ Age, family = Gamma(link=\"log\"), data=blocks)"
   ]
  },
  {
   "cell_type": "code",
   "execution_count": 12,
   "metadata": {},
   "outputs": [
    {
     "data": {
      "text/html": [
       "0.520815341302369"
      ],
      "text/latex": [
       "0.520815341302369"
      ],
      "text/markdown": [
       "0.520815341302369"
      ],
      "text/plain": [
       "[1] 0.5208153"
      ]
     },
     "metadata": {},
     "output_type": "display_data"
    },
    {
     "data": {
      "text/html": [
       "0.753253021344235"
      ],
      "text/latex": [
       "0.753253021344235"
      ],
      "text/markdown": [
       "0.753253021344235"
      ],
      "text/plain": [
       "[1] 0.753253"
      ]
     },
     "metadata": {},
     "output_type": "display_data"
    },
    {
     "data": {
      "text/html": [
       "0.753253021344235"
      ],
      "text/latex": [
       "0.753253021344235"
      ],
      "text/markdown": [
       "0.753253021344235"
      ],
      "text/plain": [
       "[1] 0.753253"
      ]
     },
     "metadata": {},
     "output_type": "display_data"
    }
   ],
   "source": [
    "deviance(lm.1)/df.residual(lm.1)\n",
    "sum(weights(lm.1)*residuals(lm.1, type=\"working\")^2)/df.residual(lm.1)\n",
    "sum(lm.1$weights * lm.1$residuals^2)/df.residual(lm.1)"
   ]
  },
  {
   "cell_type": "code",
   "execution_count": 9,
   "metadata": {},
   "outputs": [
    {
     "data": {
      "text/html": [
       "<table>\n",
       "<thead><tr><th></th><th scope=col>Estimate</th><th scope=col>Std. Error</th><th scope=col>t value</th><th scope=col>Pr(&gt;|t|)</th></tr></thead>\n",
       "<tbody>\n",
       "\t<tr><th scope=row>(Intercept)</th><td>3.33403608  </td><td>0.4793332   </td><td>6.9555714   </td><td>3.969212e-10</td></tr>\n",
       "\t<tr><th scope=row>Age</th><td>0.01326728  </td><td>0.1170799   </td><td>0.1133182   </td><td>9.100101e-01</td></tr>\n",
       "</tbody>\n",
       "</table>\n"
      ],
      "text/latex": [
       "\\begin{tabular}{r|llll}\n",
       "  & Estimate & Std. Error & t value & Pr(>\\textbar{}t\\textbar{})\\\\\n",
       "\\hline\n",
       "\t(Intercept) & 3.33403608   & 0.4793332    & 6.9555714    & 3.969212e-10\\\\\n",
       "\tAge & 0.01326728   & 0.1170799    & 0.1133182    & 9.100101e-01\\\\\n",
       "\\end{tabular}\n"
      ],
      "text/markdown": [
       "\n",
       "| <!--/--> | Estimate | Std. Error | t value | Pr(>|t|) |\n",
       "|---|---|---|---|---|\n",
       "| (Intercept) | 3.33403608   | 0.4793332    | 6.9555714    | 3.969212e-10 |\n",
       "| Age | 0.01326728   | 0.1170799    | 0.1133182    | 9.100101e-01 |\n",
       "\n"
      ],
      "text/plain": [
       "            Estimate   Std. Error t value   Pr(>|t|)    \n",
       "(Intercept) 3.33403608 0.4793332  6.9555714 3.969212e-10\n",
       "Age         0.01326728 0.1170799  0.1133182 9.100101e-01"
      ]
     },
     "metadata": {},
     "output_type": "display_data"
    }
   ],
   "source": [
    "coef(summary(lm.1))"
   ]
  },
  {
   "cell_type": "code",
   "execution_count": 10,
   "metadata": {},
   "outputs": [
    {
     "data": {
      "text/html": [
       "<table>\n",
       "<thead><tr><th></th><th scope=col>Df</th><th scope=col>Deviance</th><th scope=col>Resid. Df</th><th scope=col>Resid. Dev</th><th scope=col>F</th><th scope=col>Pr(&gt;F)</th></tr></thead>\n",
       "<tbody>\n",
       "\t<tr><th scope=row>NULL</th><td>NA         </td><td>         NA</td><td>99         </td><td>51.04962   </td><td>        NA </td><td>       NA  </td></tr>\n",
       "\t<tr><th scope=row>Age</th><td> 1         </td><td>0.009720145</td><td>98         </td><td>51.03990   </td><td>0.01290422 </td><td>0.9097899  </td></tr>\n",
       "</tbody>\n",
       "</table>\n"
      ],
      "text/latex": [
       "\\begin{tabular}{r|llllll}\n",
       "  & Df & Deviance & Resid. Df & Resid. Dev & F & Pr(>F)\\\\\n",
       "\\hline\n",
       "\tNULL & NA          &          NA & 99          & 51.04962    &         NA  &        NA  \\\\\n",
       "\tAge &  1          & 0.009720145 & 98          & 51.03990    & 0.01290422  & 0.9097899  \\\\\n",
       "\\end{tabular}\n"
      ],
      "text/markdown": [
       "\n",
       "| <!--/--> | Df | Deviance | Resid. Df | Resid. Dev | F | Pr(>F) |\n",
       "|---|---|---|---|---|---|---|\n",
       "| NULL | NA          |          NA | 99          | 51.04962    |         NA  |        NA   |\n",
       "| Age |  1          | 0.009720145 | 98          | 51.03990    | 0.01290422  | 0.9097899   |\n",
       "\n"
      ],
      "text/plain": [
       "     Df Deviance    Resid. Df Resid. Dev F          Pr(>F)   \n",
       "NULL NA          NA 99        51.04962           NA        NA\n",
       "Age   1 0.009720145 98        51.03990   0.01290422 0.9097899"
      ]
     },
     "metadata": {},
     "output_type": "display_data"
    }
   ],
   "source": [
    "anova(lm.1, test=\"F\")"
   ]
  },
  {
   "cell_type": "code",
   "execution_count": 13,
   "metadata": {},
   "outputs": [
    {
     "data": {
      "text/html": [
       "51.0399034476322"
      ],
      "text/latex": [
       "51.0399034476322"
      ],
      "text/markdown": [
       "51.0399034476322"
      ],
      "text/plain": [
       "[1] 51.0399"
      ]
     },
     "metadata": {},
     "output_type": "display_data"
    },
    {
     "data": {
      "text/html": [
       "122.107734609819"
      ],
      "text/latex": [
       "122.107734609819"
      ],
      "text/markdown": [
       "122.107734609819"
      ],
      "text/plain": [
       "[1] 122.1077"
      ]
     },
     "metadata": {},
     "output_type": "display_data"
    }
   ],
   "source": [
    "deviance(lm.1)\n",
    "qchisq(0.95, df.residual(lm.1))"
   ]
  },
  {
   "cell_type": "code",
   "execution_count": 15,
   "metadata": {},
   "outputs": [
    {
     "name": "stderr",
     "output_type": "stream",
     "text": [
      "Warning message in sqrt(summary(lm.1)$cov.scaled):\n",
      "\"NaNs produced\""
     ]
    },
    {
     "data": {
      "text/html": [
       "<table>\n",
       "<thead><tr><th></th><th scope=col>(Intercept)</th><th scope=col>Age</th></tr></thead>\n",
       "<tbody>\n",
       "\t<tr><th scope=row>(Intercept)</th><td>0.4793332</td><td>      NaN</td></tr>\n",
       "\t<tr><th scope=row>Age</th><td>      NaN</td><td>0.1170799</td></tr>\n",
       "</tbody>\n",
       "</table>\n"
      ],
      "text/latex": [
       "\\begin{tabular}{r|ll}\n",
       "  & (Intercept) & Age\\\\\n",
       "\\hline\n",
       "\t(Intercept) & 0.4793332 &       NaN\\\\\n",
       "\tAge &       NaN & 0.1170799\\\\\n",
       "\\end{tabular}\n"
      ],
      "text/markdown": [
       "\n",
       "| <!--/--> | (Intercept) | Age |\n",
       "|---|---|---|\n",
       "| (Intercept) | 0.4793332 |       NaN |\n",
       "| Age |       NaN | 0.1170799 |\n",
       "\n"
      ],
      "text/plain": [
       "            (Intercept) Age      \n",
       "(Intercept) 0.4793332         NaN\n",
       "Age               NaN   0.1170799"
      ]
     },
     "metadata": {},
     "output_type": "display_data"
    }
   ],
   "source": [
    "sqrt(summary(lm.1)$cov.scaled)"
   ]
  }
 ],
 "metadata": {
  "kernelspec": {
   "display_name": "R",
   "language": "R",
   "name": "ir"
  },
  "language_info": {
   "codemirror_mode": "r",
   "file_extension": ".r",
   "mimetype": "text/x-r-source",
   "name": "R",
   "pygments_lexer": "r",
   "version": "3.6.1"
  },
  "orig_nbformat": 4
 },
 "nbformat": 4,
 "nbformat_minor": 2
}
